{
  "nbformat": 4,
  "nbformat_minor": 0,
  "metadata": {
    "colab": {
      "name": " ejercicio de resumen de compras.ipynb",
      "provenance": [],
      "authorship_tag": "ABX9TyOmy9OyFj4XvtbtVDuNE8CK",
      "include_colab_link": true
    },
    "kernelspec": {
      "name": "python3",
      "display_name": "Python 3"
    },
    "language_info": {
      "name": "python"
    }
  },
  "cells": [
    {
      "cell_type": "markdown",
      "metadata": {
        "id": "view-in-github",
        "colab_type": "text"
      },
      "source": [
        "<a href=\"https://colab.research.google.com/github/Rgalindo85/ESEIT_BigData/blob/main/ejercicio_de_resumen_de_compras.ipynb\" target=\"_parent\"><img src=\"https://colab.research.google.com/assets/colab-badge.svg\" alt=\"Open In Colab\"/></a>"
      ]
    },
    {
      "cell_type": "markdown",
      "source": [
        "# **Python: ejercicio de resumen de compras**"
      ],
      "metadata": {
        "id": "MndPrYEHaS7g"
      }
    },
    {
      "cell_type": "code",
      "source": [
        "import sys\n",
        "nombres = []\n",
        "precios = []\n",
        "cantidades_vendidas = []\n"
      ],
      "metadata": {
        "id": "8DtO_FYWcD6F"
      },
      "execution_count": 20,
      "outputs": []
    },
    {
      "cell_type": "markdown",
      "source": [
        "# Para agregar un artículo"
      ],
      "metadata": {
        "id": "M69db-yrbCms"
      }
    },
    {
      "cell_type": "markdown",
      "source": [
        "para agregar un valor al arreglo o lista en Python usamos append."
      ],
      "metadata": {
        "id": "IIuA6QV4uzFP"
      }
    },
    {
      "cell_type": "code",
      "source": [
        "nombre = input(\"Nombre del producto: \")\n",
        "precio = int(input(\"Precio del producto: \"))\n",
        "cantidad_vendida = 0.0\n",
        "nombres.append(nombre)\n",
        "precios.append(precio)\n",
        "cantidades_vendidas.append(cantidad_vendida)"
      ],
      "metadata": {
        "colab": {
          "base_uri": "https://localhost:8080/"
        },
        "id": "bYFJfKap4ZXb",
        "outputId": "4c8e9280-1a6c-4e95-879e-b81e1f2e550d"
      },
      "execution_count": 21,
      "outputs": [
        {
          "name": "stdout",
          "output_type": "stream",
          "text": [
            "Nombre del producto: Azucar\n",
            "Precio del producto: 100\n"
          ]
        }
      ]
    },
    {
      "cell_type": "code",
      "source": [
        "nombre = input(\"Nombre del producto: \")\n",
        "precio = int(input(\"Precio del producto: \"))\n",
        "cantidad_vendida = 0.0\n",
        "nombres.append(nombre)\n",
        "precios.append(precio)\n",
        "cantidades_vendidas.append(cantidad_vendida)"
      ],
      "metadata": {
        "id": "XoUyzjuFlD7w",
        "outputId": "d7439728-9aa9-4129-ef61-406d19e9eba0",
        "colab": {
          "base_uri": "https://localhost:8080/"
        }
      },
      "execution_count": 22,
      "outputs": [
        {
          "name": "stdout",
          "output_type": "stream",
          "text": [
            "Nombre del producto: Leche\n",
            "Precio del producto: 520\n"
          ]
        }
      ]
    },
    {
      "cell_type": "code",
      "source": [
        "nombre = input(\"Nombre del producto: \")\n",
        "precio = int(input(\"Precio del producto: \"))\n",
        "cantidad_vendida = 0.0\n",
        "nombres.append(nombre)\n",
        "precios.append(precio)\n",
        "cantidades_vendidas.append(cantidad_vendida)"
      ],
      "metadata": {
        "id": "npqnhMw1lahI",
        "outputId": "b94eb827-8db5-40ac-f02c-037f749380f8",
        "colab": {
          "base_uri": "https://localhost:8080/"
        }
      },
      "execution_count": 23,
      "outputs": [
        {
          "name": "stdout",
          "output_type": "stream",
          "text": [
            "Nombre del producto: Pan\n",
            "Precio del producto: 200\n"
          ]
        }
      ]
    },
    {
      "cell_type": "code",
      "source": [
        "nombre = input(\"Nombre del producto: \")\n",
        "precio = int(input(\"Precio del producto: \"))\n",
        "cantidad_vendida = 0.0\n",
        "nombres.append(nombre)\n",
        "precios.append(precio)\n",
        "cantidades_vendidas.append(cantidad_vendida)"
      ],
      "metadata": {
        "id": "wVVxCepllgWd",
        "outputId": "6a8eab14-c883-4bef-bc82-127c4438496d",
        "colab": {
          "base_uri": "https://localhost:8080/"
        }
      },
      "execution_count": 24,
      "outputs": [
        {
          "name": "stdout",
          "output_type": "stream",
          "text": [
            "Nombre del producto: Chocolate\n",
            "Precio del producto: 890\n"
          ]
        }
      ]
    },
    {
      "cell_type": "code",
      "source": [
        "nombre = input(\"Nombre del producto: \")\n",
        "precio = int(input(\"Precio del producto: \"))\n",
        "cantidad_vendida = 0.0\n",
        "nombres.append(nombre)\n",
        "precios.append(precio)\n",
        "cantidades_vendidas.append(cantidad_vendida)"
      ],
      "metadata": {
        "id": "vSIoIjkklpi9",
        "outputId": "3c34bfb5-481c-4ad8-ddf8-2f7f3ee092a6",
        "colab": {
          "base_uri": "https://localhost:8080/"
        }
      },
      "execution_count": 25,
      "outputs": [
        {
          "name": "stdout",
          "output_type": "stream",
          "text": [
            "Nombre del producto: Mantequilla\n",
            "Precio del producto: 423\n"
          ]
        }
      ]
    },
    {
      "cell_type": "code",
      "source": [
        "nombre = input(\"Nombre del producto: \")\n",
        "precio = int(input(\"Precio del producto: \"))\n",
        "cantidad_vendida = 0.0\n",
        "nombres.append(nombre)\n",
        "precios.append(precio)\n",
        "cantidades_vendidas.append(cantidad_vendida)"
      ],
      "metadata": {
        "id": "y_-i_pePlwhS",
        "outputId": "5fb87107-cc40-4dc3-cc95-2044a38fffec",
        "colab": {
          "base_uri": "https://localhost:8080/"
        }
      },
      "execution_count": 26,
      "outputs": [
        {
          "name": "stdout",
          "output_type": "stream",
          "text": [
            "Nombre del producto: Arroz\n",
            "Precio del producto: 870\n"
          ]
        }
      ]
    },
    {
      "cell_type": "markdown",
      "source": [
        "# **Hacer una venta**\n"
      ],
      "metadata": {
        "id": "y_ddc-2Uu73U"
      }
    },
    {
      "cell_type": "code",
      "source": [
        "\n",
        "nombre_articulo = input(\"Nombre del artículo que se vende: \")\n",
        "if nombre_articulo in nombres:\n",
        "    cantidad = int(input(\"Cantidad vendida: \"))\n",
        "    indice = nombres.index(nombre_articulo)\n",
        "    precio = precios[indice]\n",
        "    cantidades_vendidas[indice] += cantidad\n",
        "    print(\n",
        "        f\"Se vende(n) {cantidad} {nombre_articulo}. Total: {cantidad * precio}\")\n",
        "else:\n",
        "    print(\"El artículo no existe\")"
      ],
      "metadata": {
        "colab": {
          "base_uri": "https://localhost:8080/"
        },
        "id": "07xv29Spu54-",
        "outputId": "3c6f5295-b7ce-4479-cf44-bee9d18cd730"
      },
      "execution_count": 33,
      "outputs": [
        {
          "output_type": "stream",
          "name": "stdout",
          "text": [
            "Nombre del artículo que se vende: Pan\n",
            "Cantidad vendida: 5\n",
            "Se vende(n) 5 Pan. Total: 1000\n"
          ]
        }
      ]
    },
    {
      "cell_type": "code",
      "source": [
        "print(\"+--------------------+----------+----------+----------+\")\n",
        "print(\"|NOMBRE              |CANT.     |PRECIO    |IMPORTE   |\")\n",
        "print(\"+--------------------+----------+----------+----------+\")\n",
        "indice = 0\n",
        "total = 0\n",
        "while indice < len(nombres):\n",
        "    nombre = nombres[indice]\n",
        "    precio = precios[indice]\n",
        "    cantidad_vendida = cantidades_vendidas[indice]\n",
        "    importe = precio * cantidad_vendida\n",
        "    print(\"|{:<20}|{:>10.2f}|{:>10.2f}|{:>10.2f}|\".format(\n",
        "        nombre, cantidad_vendida, precio, importe))\n",
        "    total += importe\n",
        "    indice += 1\n",
        "\n",
        "print(\"|--------------------|----------|TOTAL:\".format(total))\n",
        "print(\"+--------------------+----------+----------+----------+\")"
      ],
      "metadata": {
        "id": "2EgEZ9paoPiO",
        "outputId": "a3395a82-d711-43e5-90ee-cbc6f668bb7b",
        "colab": {
          "base_uri": "https://localhost:8080/"
        }
      },
      "execution_count": 34,
      "outputs": [
        {
          "output_type": "stream",
          "name": "stdout",
          "text": [
            "+--------------------+----------+----------+----------+\n",
            "|NOMBRE              |CANT.     |PRECIO    |IMPORTE   |\n",
            "+--------------------+----------+----------+----------+\n",
            "|Azucar              |      0.00|    100.00|      0.00|\n",
            "|Leche               |      0.00|    520.00|      0.00|\n",
            "|Pan                 |      5.00|    200.00|   1000.00|\n",
            "|Chocolate           |      0.00|    890.00|      0.00|\n",
            "|Mantequilla         |      5.00|    423.00|   2115.00|\n",
            "|Arroz               |      8.00|    870.00|   6960.00|\n",
            "|--------------------|----------|TOTAL:\n",
            "+--------------------+----------+----------+----------+\n"
          ]
        }
      ]
    }
  ]
}