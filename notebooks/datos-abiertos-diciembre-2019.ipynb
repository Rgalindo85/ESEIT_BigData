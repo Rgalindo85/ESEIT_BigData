{
 "cells": [
  {
   "cell_type": "code",
   "execution_count": 24,
   "id": "97e4ab71-40b9-4d76-9d8a-79224d3cfff2",
   "metadata": {},
   "outputs": [],
   "source": [
    "import os\n",
    "import sys\n",
    "import logging\n",
    "import pandas as pd\n",
    "\n",
    "from pandas_profiling import ProfileReport\n",
    "\n",
    "\n",
    "project_dir = os.path.dirname(os.path.abspath('.')) # get the path of the project, if doesn't work use os.getcwd() instead and use rfind to find the project dir\n",
    "sys.path.append(os.path.join(project_dir, 'src', 'data'))\n",
    "\n",
    "from data_manipulator import get_input_data\n",
    "\n",
    "bucket = 'fredo7'\n",
    "directory = 'BigData'"
   ]
  },
  {
   "cell_type": "code",
   "execution_count": 25,
   "id": "31e9e87d-4bb3-486f-a221-8c50d37461e2",
   "metadata": {},
   "outputs": [
    {
     "name": "stdout",
     "output_type": "stream",
     "text": [
      "<class 'pandas.core.frame.DataFrame'>\n",
      "RangeIndex: 16243 entries, 0 to 16242\n",
      "Data columns (total 10 columns):\n",
      " #   Column               Non-Null Count  Dtype \n",
      "---  ------               --------------  ----- \n",
      " 0   NUMERO_INCIDENTE     16243 non-null  object\n",
      " 1   FECHA_DESPACHO_518   16243 non-null  object\n",
      " 2   CODIGO DE LOCALIDAD  16243 non-null  int64 \n",
      " 3   LOCALIDAD            16243 non-null  object\n",
      " 4   EDAD                 16243 non-null  int64 \n",
      " 5   UNIDAD               16243 non-null  object\n",
      " 6   GENERO               16243 non-null  object\n",
      " 7   RED                  16243 non-null  object\n",
      " 8   TIPO_INCIDENTE       16243 non-null  object\n",
      " 9   PRIORIDAD            16243 non-null  object\n",
      "dtypes: int64(2), object(8)\n",
      "memory usage: 1.2+ MB\n",
      "None\n"
     ]
    }
   ],
   "source": [
    "raw_data = get_input_data(\n",
    "    bucket=bucket,\n",
    "    initial_directory=directory,\n",
    "    filename = 'datos_abiertos_cons_diciembre_2019.csv')\n",
    "print(raw_data.info())"
   ]
  },
  {
   "cell_type": "code",
   "execution_count": 26,
   "id": "703a91d6-181d-455c-adc6-4debf6e8dccf",
   "metadata": {},
   "outputs": [
    {
     "name": "stdout",
     "output_type": "stream",
     "text": [
      "<class 'pandas.core.frame.DataFrame'>\n",
      "RangeIndex: 16243 entries, 0 to 16242\n",
      "Data columns (total 10 columns):\n",
      " #   Column                             Non-Null Count  Dtype \n",
      "---  ------                             --------------  ----- \n",
      " 0   NUMERO_INCIDENTE                   16243 non-null  object\n",
      " 1   FECHA_INICIO_DESPLAZAMIENTO_MOVIL  16243 non-null  object\n",
      " 2   CODIGO_LOCALIDAD                   16243 non-null  int64 \n",
      " 3   LOCALIDAD                          16243 non-null  object\n",
      " 4   EDAD                               16243 non-null  int64 \n",
      " 5   UNIDAD                             16243 non-null  object\n",
      " 6   GENERO                             16243 non-null  object\n",
      " 7   RED                                16243 non-null  object\n",
      " 8   TIPO_INCIDENTE                     16243 non-null  object\n",
      " 9   PRIORIDAD                          16243 non-null  object\n",
      "dtypes: int64(2), object(8)\n",
      "memory usage: 1.2+ MB\n"
     ]
    }
   ],
   "source": [
    "# Se renombran los campos actuales\n",
    "raw_data.rename(\n",
    "    columns = {\n",
    "        'FECHA_DESPACHO_518' : 'FECHA_INICIO_DESPLAZAMIENTO_MOVIL',\n",
    "        'CODIGO DE LOCALIDAD'               : 'CODIGO_LOCALIDAD',\n",
    "            },\n",
    "    inplace=True\n",
    ")\n",
    "raw_data.head()\n",
    "raw_data.info()"
   ]
  },
  {
   "cell_type": "code",
   "execution_count": 27,
   "id": "43ee2529-4fd0-4957-aaab-d9728492be5a",
   "metadata": {},
   "outputs": [
    {
     "name": "stdout",
     "output_type": "stream",
     "text": [
      "<class 'pandas.core.frame.DataFrame'>\n",
      "RangeIndex: 16243 entries, 0 to 16242\n",
      "Data columns (total 13 columns):\n",
      " #   Column                             Non-Null Count  Dtype \n",
      "---  ------                             --------------  ----- \n",
      " 0   NUMERO_INCIDENTE                   16243 non-null  object\n",
      " 1   FECHA_INICIO_DESPLAZAMIENTO_MOVIL  16243 non-null  object\n",
      " 2   CODIGO_LOCALIDAD                   16243 non-null  int64 \n",
      " 3   LOCALIDAD                          16243 non-null  object\n",
      " 4   EDAD                               16243 non-null  int64 \n",
      " 5   UNIDAD                             16243 non-null  object\n",
      " 6   GENERO                             16243 non-null  object\n",
      " 7   RED                                16243 non-null  object\n",
      " 8   TIPO_INCIDENTE                     16243 non-null  object\n",
      " 9   PRIORIDAD                          16243 non-null  object\n",
      " 10  FECHA_INCIDENTE                    16243 non-null  object\n",
      " 11  MES                                16243 non-null  object\n",
      " 12  CLASIFICACION_FINAL                16243 non-null  object\n",
      "dtypes: int64(2), object(11)\n",
      "memory usage: 1.6+ MB\n"
     ]
    }
   ],
   "source": [
    "# Incluyen las nuevos campos faltantes\n",
    "raw_data = raw_data.assign(FECHA_INCIDENTE= raw_data['FECHA_INICIO_DESPLAZAMIENTO_MOVIL'])\n",
    "raw_data\n",
    "raw_data = raw_data.assign( MES = 'DICIEMBRE')\n",
    "raw_data.head()\n",
    "raw_data = raw_data.assign(CLASIFICACION_FINAL = \"SIN_DATO\")\n",
    "raw_data.head()\n",
    "raw_data.info()"
   ]
  },
  {
   "cell_type": "code",
   "execution_count": 28,
   "id": "8bc05bfd-75a0-43e9-9f95-9b88b753d14e",
   "metadata": {},
   "outputs": [
    {
     "name": "stdout",
     "output_type": "stream",
     "text": [
      "<class 'pandas.core.frame.DataFrame'>\n",
      "RangeIndex: 16243 entries, 0 to 16242\n",
      "Data columns (total 13 columns):\n",
      " #   Column                             Non-Null Count  Dtype \n",
      "---  ------                             --------------  ----- \n",
      " 0   NUMERO_INCIDENTE                   16243 non-null  object\n",
      " 1   FECHA_INCIDENTE                    16243 non-null  object\n",
      " 2   FECHA_INICIO_DESPLAZAMIENTO_MOVIL  16243 non-null  object\n",
      " 3   CODIGO_LOCALIDAD                   16243 non-null  int64 \n",
      " 4   LOCALIDAD                          16243 non-null  object\n",
      " 5   EDAD                               16243 non-null  int64 \n",
      " 6   UNIDAD                             16243 non-null  object\n",
      " 7   GENERO                             16243 non-null  object\n",
      " 8   RED                                16243 non-null  object\n",
      " 9   TIPO_INCIDENTE                     16243 non-null  object\n",
      " 10  PRIORIDAD                          16243 non-null  object\n",
      " 11  MES                                16243 non-null  object\n",
      " 12  CLASIFICACION_FINAL                16243 non-null  object\n",
      "dtypes: int64(2), object(11)\n",
      "memory usage: 1.6+ MB\n"
     ]
    }
   ],
   "source": [
    "# Reordenamos las columnas en el orden establecido para todos\n",
    "#los archivos\n",
    "\n",
    "raw_data = raw_data.reindex(columns=['NUMERO_INCIDENTE',\n",
    "                                     'FECHA_INCIDENTE',\n",
    "'FECHA_INICIO_DESPLAZAMIENTO_MOVIL',\n",
    "'CODIGO_LOCALIDAD',\n",
    "'LOCALIDAD',\n",
    "'EDAD',\n",
    "'UNIDAD',\n",
    "'GENERO',\n",
    "'RED',\n",
    "'TIPO_INCIDENTE',\n",
    "'PRIORIDAD',\n",
    "'MES',\n",
    "'CLASIFICACION_FINAL',\n",
    "\n",
    "])\n",
    "raw_data.head()\n",
    "raw_data.info()"
   ]
  },
  {
   "cell_type": "code",
   "execution_count": 29,
   "id": "242b43cd-61ee-4342-b27b-81332c9ff5b9",
   "metadata": {},
   "outputs": [
    {
     "data": {
      "application/vnd.jupyter.widget-view+json": {
       "model_id": "97cf1d7b312f4268822453cc917d284a",
       "version_major": 2,
       "version_minor": 0
      },
      "text/plain": [
       "Summarize dataset:   0%|          | 0/26 [00:00<?, ?it/s]"
      ]
     },
     "metadata": {},
     "output_type": "display_data"
    },
    {
     "data": {
      "application/vnd.jupyter.widget-view+json": {
       "model_id": "a31725aaf7de4a0e9dd3895f989ab766",
       "version_major": 2,
       "version_minor": 0
      },
      "text/plain": [
       "Generate report structure:   0%|          | 0/1 [00:00<?, ?it/s]"
      ]
     },
     "metadata": {},
     "output_type": "display_data"
    },
    {
     "data": {
      "application/vnd.jupyter.widget-view+json": {
       "model_id": "b125443024bc40d190b738c53b469720",
       "version_major": 2,
       "version_minor": 0
      },
      "text/plain": [
       "Render HTML:   0%|          | 0/1 [00:00<?, ?it/s]"
      ]
     },
     "metadata": {},
     "output_type": "display_data"
    },
    {
     "data": {
      "application/vnd.jupyter.widget-view+json": {
       "model_id": "6c179a8549b44a4ab21fb28aecadc14c",
       "version_major": 2,
       "version_minor": 0
      },
      "text/plain": [
       "Export report to file:   0%|          | 0/1 [00:00<?, ?it/s]"
      ]
     },
     "metadata": {},
     "output_type": "display_data"
    }
   ],
   "source": [
    "profile = ProfileReport(df=raw_data)\n",
    "profile.to_file(output_file=project_dir + '/reports/'+'profile_raw_data_diciembre_2019.html')"
   ]
  },
  {
   "cell_type": "code",
   "execution_count": 30,
   "id": "d52733d4-ee49-4a83-b502-33ba23ae6f35",
   "metadata": {},
   "outputs": [],
   "source": [
    "# saving in a local directory\n",
    "raw_data.to_csv(project_dir + '/data/processed/' +'clean_llamadas_123_diciembre_2019.csv', encoding='latin1', sep=';', index=False)"
   ]
  },
  {
   "cell_type": "code",
   "execution_count": null,
   "id": "6539e1aa-4b78-4bf1-be9f-11d82deee7e7",
   "metadata": {},
   "outputs": [],
   "source": []
  }
 ],
 "metadata": {
  "environment": {
   "kernel": "python3",
   "name": "common-cpu.m90",
   "type": "gcloud",
   "uri": "gcr.io/deeplearning-platform-release/base-cpu:m90"
  },
  "kernelspec": {
   "display_name": "Python 3",
   "language": "python",
   "name": "python3"
  },
  "language_info": {
   "codemirror_mode": {
    "name": "ipython",
    "version": 3
   },
   "file_extension": ".py",
   "mimetype": "text/x-python",
   "name": "python",
   "nbconvert_exporter": "python",
   "pygments_lexer": "ipython3",
   "version": "3.7.12"
  }
 },
 "nbformat": 4,
 "nbformat_minor": 5
}
