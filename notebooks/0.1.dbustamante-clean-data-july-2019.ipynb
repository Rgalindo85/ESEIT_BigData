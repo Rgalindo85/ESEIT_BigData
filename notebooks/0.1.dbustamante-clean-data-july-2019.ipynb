{
 "cells": [
  {
   "cell_type": "code",
   "execution_count": 3,
   "id": "05922afb-c1e0-4fbb-80b7-dca0cabbdcb8",
   "metadata": {},
   "outputs": [],
   "source": [
    "import os\n",
    "import sys\n",
    "import logging\n",
    "import pandas as pd\n",
    "import datetime\n",
    "\n",
    "\n",
    "from pandas_profiling import ProfileReport\n",
    "\n",
    "\n",
    "project_dir = os.path.dirname(os.path.abspath('.')) # get the path of the project, if doesn't work use os.getcwd() instead and use rfind to find the project dir\n",
    "sys.path.append(os.path.join(project_dir, 'src', 'data'))\n",
    "\n",
    "from data_manipulator import get_input_data\n",
    "\n",
    "bucket = 'eseit_bigdata'\n",
    "directory = 'bigdata'"
   ]
  },
  {
   "cell_type": "code",
   "execution_count": 4,
   "id": "4dab3f7b-d76f-4e18-97f6-0eedc7d53e40",
   "metadata": {},
   "outputs": [
    {
     "data": {
      "text/html": [
       "<div>\n",
       "<style scoped>\n",
       "    .dataframe tbody tr th:only-of-type {\n",
       "        vertical-align: middle;\n",
       "    }\n",
       "\n",
       "    .dataframe tbody tr th {\n",
       "        vertical-align: top;\n",
       "    }\n",
       "\n",
       "    .dataframe thead th {\n",
       "        text-align: right;\n",
       "    }\n",
       "</style>\n",
       "<table border=\"1\" class=\"dataframe\">\n",
       "  <thead>\n",
       "    <tr style=\"text-align: right;\">\n",
       "      <th></th>\n",
       "      <th>NOMBRE</th>\n",
       "      <th>DESCRIPCION</th>\n",
       "    </tr>\n",
       "  </thead>\n",
       "  <tbody>\n",
       "    <tr>\n",
       "      <th>0</th>\n",
       "      <td>FECHA_INCIDENTE</td>\n",
       "      <td>Es la fecha el cual se registra la llamada del...</td>\n",
       "    </tr>\n",
       "    <tr>\n",
       "      <th>1</th>\n",
       "      <td>FECHA_INICIO_DESPLAZAMIENTO_MOVIL</td>\n",
       "      <td>Es la fecha el cual se inicia el desplazamient...</td>\n",
       "    </tr>\n",
       "    <tr>\n",
       "      <th>2</th>\n",
       "      <td>CODIGO LOCALIDAD</td>\n",
       "      <td>Es el código de las 20 localidades de la ciuda...</td>\n",
       "    </tr>\n",
       "    <tr>\n",
       "      <th>3</th>\n",
       "      <td>LOCALIDAD</td>\n",
       "      <td>Es la localidad donde sucede el incidente.</td>\n",
       "    </tr>\n",
       "    <tr>\n",
       "      <th>4</th>\n",
       "      <td>EDAD</td>\n",
       "      <td>La edad del paciente.</td>\n",
       "    </tr>\n",
       "    <tr>\n",
       "      <th>5</th>\n",
       "      <td>UNIDAD</td>\n",
       "      <td>La descripción de la edad si es en horas, días...</td>\n",
       "    </tr>\n",
       "    <tr>\n",
       "      <th>6</th>\n",
       "      <td>GENERO</td>\n",
       "      <td>Es la  distinción de genero del paciente</td>\n",
       "    </tr>\n",
       "    <tr>\n",
       "      <th>7</th>\n",
       "      <td>RED</td>\n",
       "      <td>Es la localización a nivel bogota de la red de...</td>\n",
       "    </tr>\n",
       "    <tr>\n",
       "      <th>8</th>\n",
       "      <td>TIPO_INCIDENTE</td>\n",
       "      <td>Es la descripción inicial que tipifica el cent...</td>\n",
       "    </tr>\n",
       "    <tr>\n",
       "      <th>9</th>\n",
       "      <td>PRIORIDAD</td>\n",
       "      <td>Es la tipificación según la prioridad del inci...</td>\n",
       "    </tr>\n",
       "    <tr>\n",
       "      <th>10</th>\n",
       "      <td>MES</td>\n",
       "      <td>Es el mes el cual ocurrió el incidente.</td>\n",
       "    </tr>\n",
       "    <tr>\n",
       "      <th>11</th>\n",
       "      <td>CLASIFICACION FINAL</td>\n",
       "      <td>Es la clasificación final que entrega el centr...</td>\n",
       "    </tr>\n",
       "  </tbody>\n",
       "</table>\n",
       "</div>"
      ],
      "text/plain": [
       "                               NOMBRE  \\\n",
       "0                     FECHA_INCIDENTE   \n",
       "1   FECHA_INICIO_DESPLAZAMIENTO_MOVIL   \n",
       "2                    CODIGO LOCALIDAD   \n",
       "3                           LOCALIDAD   \n",
       "4                                EDAD   \n",
       "5                              UNIDAD   \n",
       "6                              GENERO   \n",
       "7                                 RED   \n",
       "8                      TIPO_INCIDENTE   \n",
       "9                           PRIORIDAD   \n",
       "10                                MES   \n",
       "11                CLASIFICACION FINAL   \n",
       "\n",
       "                                          DESCRIPCION  \n",
       "0   Es la fecha el cual se registra la llamada del...  \n",
       "1   Es la fecha el cual se inicia el desplazamient...  \n",
       "2   Es el código de las 20 localidades de la ciuda...  \n",
       "3          Es la localidad donde sucede el incidente.  \n",
       "4                               La edad del paciente.  \n",
       "5   La descripción de la edad si es en horas, días...  \n",
       "6            Es la  distinción de genero del paciente  \n",
       "7   Es la localización a nivel bogota de la red de...  \n",
       "8   Es la descripción inicial que tipifica el cent...  \n",
       "9   Es la tipificación según la prioridad del inci...  \n",
       "10            Es el mes el cual ocurrió el incidente.  \n",
       "11  Es la clasificación final que entrega el centr...  "
      ]
     },
     "execution_count": 4,
     "metadata": {},
     "output_type": "execute_result"
    }
   ],
   "source": [
    "file = 'gs://{}/{}/data/metadatos-llamadas-urg-y-emer.csv'.format(bucket, directory)\n",
    "df_metadata = pd.read_csv(file, encoding='latin1', sep=';')\n",
    "df_metadata"
   ]
  },
  {
   "cell_type": "code",
   "execution_count": 5,
   "id": "3cd8193f-9dd6-4b0e-b003-96ec2b86fc31",
   "metadata": {},
   "outputs": [
    {
     "name": "stdout",
     "output_type": "stream",
     "text": [
      "<class 'pandas.core.frame.DataFrame'>\n",
      "RangeIndex: 14560 entries, 0 to 14559\n",
      "Data columns (total 12 columns):\n",
      " #   Column                             Non-Null Count  Dtype \n",
      "---  ------                             --------------  ----- \n",
      " 0   FECHA_INCIDENTE                    14560 non-null  object\n",
      " 1   FECHA_INICIO_DESPLAZAMIENTO-MOVIL  14560 non-null  object\n",
      " 2   CODIGO DE LOCALIDAD                14560 non-null  int64 \n",
      " 3   LOCALIDAD                          14560 non-null  object\n",
      " 4   EDAD                               14560 non-null  object\n",
      " 5   UNIDAD                             14560 non-null  object\n",
      " 6   GENERO                             14560 non-null  object\n",
      " 7   RED                                14560 non-null  object\n",
      " 8   TIPO_INCIDENTE                     14560 non-null  object\n",
      " 9   PRIORIDAD                          14560 non-null  object\n",
      " 10  MES                                14560 non-null  object\n",
      " 11  CLASIFICACION FINAL                13035 non-null  object\n",
      "dtypes: int64(1), object(11)\n",
      "memory usage: 1.3+ MB\n",
      "None\n"
     ]
    }
   ],
   "source": [
    "raw_data = get_input_data(filename = 'datos-abiertos-julio-2019.csv')\n",
    "print(raw_data.info())"
   ]
  },
  {
   "cell_type": "code",
   "execution_count": 6,
   "id": "a7de7df8-f93d-4054-b22f-92ae403abb1a",
   "metadata": {},
   "outputs": [
    {
     "data": {
      "text/html": [
       "<div>\n",
       "<style scoped>\n",
       "    .dataframe tbody tr th:only-of-type {\n",
       "        vertical-align: middle;\n",
       "    }\n",
       "\n",
       "    .dataframe tbody tr th {\n",
       "        vertical-align: top;\n",
       "    }\n",
       "\n",
       "    .dataframe thead th {\n",
       "        text-align: right;\n",
       "    }\n",
       "</style>\n",
       "<table border=\"1\" class=\"dataframe\">\n",
       "  <thead>\n",
       "    <tr style=\"text-align: right;\">\n",
       "      <th></th>\n",
       "      <th>FECHA_INCIDENTE</th>\n",
       "      <th>FECHA_INICIO_DESPLAZAMIENTO_MOVIL</th>\n",
       "      <th>CODIGO_LOCALIDAD</th>\n",
       "      <th>LOCALIDAD</th>\n",
       "      <th>EDAD</th>\n",
       "      <th>UNIDAD</th>\n",
       "      <th>GENERO</th>\n",
       "      <th>RED</th>\n",
       "      <th>TIPO_INCIDENTE</th>\n",
       "      <th>PRIORIDAD</th>\n",
       "      <th>MES</th>\n",
       "      <th>CLASIFICACION_FINAL</th>\n",
       "    </tr>\n",
       "  </thead>\n",
       "  <tbody>\n",
       "    <tr>\n",
       "      <th>0</th>\n",
       "      <td>2019-07-01 00:05:08</td>\n",
       "      <td>2019-07-01 00:11:02</td>\n",
       "      <td>8</td>\n",
       "      <td>Kennedy</td>\n",
       "      <td>39</td>\n",
       "      <td>Años</td>\n",
       "      <td>FEMENINO</td>\n",
       "      <td>Norte</td>\n",
       "      <td>Dificultad Respiratoria</td>\n",
       "      <td>ALTA</td>\n",
       "      <td>JULIO</td>\n",
       "      <td>Traslado</td>\n",
       "    </tr>\n",
       "    <tr>\n",
       "      <th>1</th>\n",
       "      <td>2019-07-01 00:06:57</td>\n",
       "      <td>2019-07-01 00:12:56</td>\n",
       "      <td>19</td>\n",
       "      <td>Ciudad Bolivar</td>\n",
       "      <td>69</td>\n",
       "      <td>Años</td>\n",
       "      <td>MASCULINO</td>\n",
       "      <td>Sur</td>\n",
       "      <td>Inconsciente/Paro Cardiorrespiratorio</td>\n",
       "      <td>ALTA</td>\n",
       "      <td>JULIO</td>\n",
       "      <td>NaN</td>\n",
       "    </tr>\n",
       "    <tr>\n",
       "      <th>2</th>\n",
       "      <td>2019-07-01 00:09:26</td>\n",
       "      <td>2019-07-01 00:10:26</td>\n",
       "      <td>6</td>\n",
       "      <td>Tunjuelito</td>\n",
       "      <td>25</td>\n",
       "      <td>Años</td>\n",
       "      <td>MASCULINO</td>\n",
       "      <td>Sur</td>\n",
       "      <td>Enfermo</td>\n",
       "      <td>MEDIA</td>\n",
       "      <td>JULIO</td>\n",
       "      <td>Traslado</td>\n",
       "    </tr>\n",
       "    <tr>\n",
       "      <th>3</th>\n",
       "      <td>2019-07-01 00:14:42</td>\n",
       "      <td>2019-07-01 00:15:47</td>\n",
       "      <td>8</td>\n",
       "      <td>Kennedy</td>\n",
       "      <td>65</td>\n",
       "      <td>Años</td>\n",
       "      <td>MASCULINO</td>\n",
       "      <td>Sur</td>\n",
       "      <td>Lesiones personales</td>\n",
       "      <td>MEDIA</td>\n",
       "      <td>JULIO</td>\n",
       "      <td>Traslado</td>\n",
       "    </tr>\n",
       "    <tr>\n",
       "      <th>4</th>\n",
       "      <td>2019-07-01 00:17:13</td>\n",
       "      <td>2019-07-01 00:31:13</td>\n",
       "      <td>10</td>\n",
       "      <td>Engativa</td>\n",
       "      <td>SIN_DATO</td>\n",
       "      <td>SIN_DATO</td>\n",
       "      <td>SIN_DATO</td>\n",
       "      <td>Norte</td>\n",
       "      <td>Enfermo</td>\n",
       "      <td>MEDIA</td>\n",
       "      <td>JULIO</td>\n",
       "      <td>Cancelado</td>\n",
       "    </tr>\n",
       "  </tbody>\n",
       "</table>\n",
       "</div>"
      ],
      "text/plain": [
       "       FECHA_INCIDENTE FECHA_INICIO_DESPLAZAMIENTO_MOVIL  CODIGO_LOCALIDAD  \\\n",
       "0  2019-07-01 00:05:08               2019-07-01 00:11:02                 8   \n",
       "1  2019-07-01 00:06:57               2019-07-01 00:12:56                19   \n",
       "2  2019-07-01 00:09:26               2019-07-01 00:10:26                 6   \n",
       "3  2019-07-01 00:14:42               2019-07-01 00:15:47                 8   \n",
       "4  2019-07-01 00:17:13               2019-07-01 00:31:13                10   \n",
       "\n",
       "         LOCALIDAD      EDAD    UNIDAD     GENERO    RED  \\\n",
       "0          Kennedy        39      Años   FEMENINO  Norte   \n",
       "1   Ciudad Bolivar        69      Años  MASCULINO    Sur   \n",
       "2       Tunjuelito        25      Años  MASCULINO    Sur   \n",
       "3          Kennedy        65      Años  MASCULINO    Sur   \n",
       "4         Engativa  SIN_DATO  SIN_DATO   SIN_DATO  Norte   \n",
       "\n",
       "                           TIPO_INCIDENTE PRIORIDAD    MES CLASIFICACION_FINAL  \n",
       "0                 Dificultad Respiratoria      ALTA  JULIO            Traslado  \n",
       "1  Inconsciente/Paro Cardiorrespiratorio       ALTA  JULIO                 NaN  \n",
       "2                                 Enfermo     MEDIA  JULIO            Traslado  \n",
       "3                     Lesiones personales     MEDIA  JULIO            Traslado  \n",
       "4                                 Enfermo     MEDIA  JULIO           Cancelado  "
      ]
     },
     "execution_count": 6,
     "metadata": {},
     "output_type": "execute_result"
    }
   ],
   "source": [
    "# Don't let white spaces between headers to avoid errors during the pipeline\n",
    "# This is sometimes called a recipe for etl\n",
    "raw_data.rename(\n",
    "    columns = {\n",
    "        'FECHA_INICIO_DESPLAZAMIENTO-MOVIL' : 'FECHA_INICIO_DESPLAZAMIENTO_MOVIL',\n",
    "        'CODIGO DE LOCALIDAD'               : 'CODIGO_LOCALIDAD',\n",
    "        'CLASIFICACION FINAL'               : 'CLASIFICACION_FINAL'\n",
    "    },\n",
    "    inplace=True\n",
    ")\n",
    "raw_data.head()"
   ]
  },
  {
   "cell_type": "code",
   "execution_count": 7,
   "id": "92d74630-ba5f-4660-982e-75f028357990",
   "metadata": {},
   "outputs": [
    {
     "data": {
      "text/plain": [
       " Kennedy               1593\n",
       " Suba                  1548\n",
       "Engativa               1521\n",
       " Bosa                  1122\n",
       " Ciudad Bolivar         994\n",
       "Usaquen                 786\n",
       "San Cristobal           776\n",
       " Rafael Uribe Uribe     741\n",
       "Fontibon                723\n",
       " Puente Aranda          690\n",
       "Usme                    636\n",
       "Chapinero               599\n",
       "Barrios Unidos          516\n",
       "Los Martires            516\n",
       "Santa Fe                489\n",
       "Teusaquillo             464\n",
       "Tunjuelito              462\n",
       " Antonio Nariño         292\n",
       " La Candelaria           91\n",
       " Sumapaz                  1\n",
       "Name: LOCALIDAD, dtype: int64"
      ]
     },
     "execution_count": 7,
     "metadata": {},
     "output_type": "execute_result"
    }
   ],
   "source": [
    "raw_data['LOCALIDAD'].value_counts(dropna=False)"
   ]
  },
  {
   "cell_type": "code",
   "execution_count": 8,
   "id": "610c4ed5-549b-44ca-86aa-f2f9c4019887",
   "metadata": {},
   "outputs": [
    {
     "data": {
      "text/plain": [
       "Kennedy               1593\n",
       "Suba                  1548\n",
       "Engativa              1521\n",
       "Bosa                  1122\n",
       "Ciudad Bolivar         994\n",
       "Usaquen                786\n",
       "San Cristobal          776\n",
       "Rafael Uribe Uribe     741\n",
       "Fontibon               723\n",
       "Puente Aranda          690\n",
       "Usme                   636\n",
       "Chapinero              599\n",
       "Barrios Unidos         516\n",
       "Los Martires           516\n",
       "Santa Fe               489\n",
       "Teusaquillo            464\n",
       "Tunjuelito             462\n",
       "Antonio Nariño         292\n",
       "La Candelaria           91\n",
       "Sumapaz                  1\n",
       "Name: LOCALIDAD, dtype: int64"
      ]
     },
     "execution_count": 8,
     "metadata": {},
     "output_type": "execute_result"
    }
   ],
   "source": [
    "# Let's use the function strip(), this property works for string objects in python that removes whitespaces\n",
    "raw_data['LOCALIDAD'].apply(\n",
    "    lambda x: x.strip()        # here we use a lambda function, exclusively for python. Is a one-line function\n",
    ").value_counts()"
   ]
  },
  {
   "cell_type": "code",
   "execution_count": 9,
   "id": "8a6b062a-a9ef-47d6-bbeb-43bdf602ad75",
   "metadata": {},
   "outputs": [],
   "source": [
    "raw_data['LOCALIDAD'] = raw_data['LOCALIDAD'].apply(lambda x: x.strip()) # we assign the output of the function apply to the same column"
   ]
  },
  {
   "cell_type": "code",
   "execution_count": 10,
   "id": "ddaaff40-6c0a-4dac-b72c-7d3e220e0cf5",
   "metadata": {},
   "outputs": [
    {
     "data": {
      "text/html": [
       "<div>\n",
       "<style scoped>\n",
       "    .dataframe tbody tr th:only-of-type {\n",
       "        vertical-align: middle;\n",
       "    }\n",
       "\n",
       "    .dataframe tbody tr th {\n",
       "        vertical-align: top;\n",
       "    }\n",
       "\n",
       "    .dataframe thead th {\n",
       "        text-align: right;\n",
       "    }\n",
       "</style>\n",
       "<table border=\"1\" class=\"dataframe\">\n",
       "  <thead>\n",
       "    <tr style=\"text-align: right;\">\n",
       "      <th></th>\n",
       "      <th>FECHA_INCIDENTE</th>\n",
       "      <th>FECHA_INICIO_DESPLAZAMIENTO_MOVIL</th>\n",
       "      <th>CODIGO_LOCALIDAD</th>\n",
       "      <th>LOCALIDAD</th>\n",
       "      <th>EDAD</th>\n",
       "      <th>UNIDAD</th>\n",
       "      <th>GENERO</th>\n",
       "      <th>RED</th>\n",
       "      <th>TIPO_INCIDENTE</th>\n",
       "      <th>PRIORIDAD</th>\n",
       "      <th>MES</th>\n",
       "      <th>CLASIFICACION_FINAL</th>\n",
       "    </tr>\n",
       "  </thead>\n",
       "  <tbody>\n",
       "    <tr>\n",
       "      <th>0</th>\n",
       "      <td>2019-07-01 00:05:08</td>\n",
       "      <td>2019-07-01 00:11:02</td>\n",
       "      <td>8</td>\n",
       "      <td>Kennedy</td>\n",
       "      <td>39</td>\n",
       "      <td>Años</td>\n",
       "      <td>FEMENINO</td>\n",
       "      <td>Norte</td>\n",
       "      <td>Dificultad Respiratoria</td>\n",
       "      <td>ALTA</td>\n",
       "      <td>JULIO</td>\n",
       "      <td>Traslado</td>\n",
       "    </tr>\n",
       "    <tr>\n",
       "      <th>1</th>\n",
       "      <td>2019-07-01 00:06:57</td>\n",
       "      <td>2019-07-01 00:12:56</td>\n",
       "      <td>19</td>\n",
       "      <td>Ciudad Bolivar</td>\n",
       "      <td>69</td>\n",
       "      <td>Años</td>\n",
       "      <td>MASCULINO</td>\n",
       "      <td>Sur</td>\n",
       "      <td>Inconsciente/Paro Cardiorrespiratorio</td>\n",
       "      <td>ALTA</td>\n",
       "      <td>JULIO</td>\n",
       "      <td>NaN</td>\n",
       "    </tr>\n",
       "    <tr>\n",
       "      <th>2</th>\n",
       "      <td>2019-07-01 00:09:26</td>\n",
       "      <td>2019-07-01 00:10:26</td>\n",
       "      <td>6</td>\n",
       "      <td>Tunjuelito</td>\n",
       "      <td>25</td>\n",
       "      <td>Años</td>\n",
       "      <td>MASCULINO</td>\n",
       "      <td>Sur</td>\n",
       "      <td>Enfermo</td>\n",
       "      <td>MEDIA</td>\n",
       "      <td>JULIO</td>\n",
       "      <td>Traslado</td>\n",
       "    </tr>\n",
       "    <tr>\n",
       "      <th>3</th>\n",
       "      <td>2019-07-01 00:14:42</td>\n",
       "      <td>2019-07-01 00:15:47</td>\n",
       "      <td>8</td>\n",
       "      <td>Kennedy</td>\n",
       "      <td>65</td>\n",
       "      <td>Años</td>\n",
       "      <td>MASCULINO</td>\n",
       "      <td>Sur</td>\n",
       "      <td>Lesiones personales</td>\n",
       "      <td>MEDIA</td>\n",
       "      <td>JULIO</td>\n",
       "      <td>Traslado</td>\n",
       "    </tr>\n",
       "    <tr>\n",
       "      <th>4</th>\n",
       "      <td>2019-07-01 00:17:13</td>\n",
       "      <td>2019-07-01 00:31:13</td>\n",
       "      <td>10</td>\n",
       "      <td>Engativa</td>\n",
       "      <td>SIN_DATO</td>\n",
       "      <td>SIN_DATO</td>\n",
       "      <td>SIN_DATO</td>\n",
       "      <td>Norte</td>\n",
       "      <td>Enfermo</td>\n",
       "      <td>MEDIA</td>\n",
       "      <td>JULIO</td>\n",
       "      <td>Cancelado</td>\n",
       "    </tr>\n",
       "  </tbody>\n",
       "</table>\n",
       "</div>"
      ],
      "text/plain": [
       "       FECHA_INCIDENTE FECHA_INICIO_DESPLAZAMIENTO_MOVIL  CODIGO_LOCALIDAD  \\\n",
       "0  2019-07-01 00:05:08               2019-07-01 00:11:02                 8   \n",
       "1  2019-07-01 00:06:57               2019-07-01 00:12:56                19   \n",
       "2  2019-07-01 00:09:26               2019-07-01 00:10:26                 6   \n",
       "3  2019-07-01 00:14:42               2019-07-01 00:15:47                 8   \n",
       "4  2019-07-01 00:17:13               2019-07-01 00:31:13                10   \n",
       "\n",
       "        LOCALIDAD      EDAD    UNIDAD     GENERO    RED  \\\n",
       "0         Kennedy        39      Años   FEMENINO  Norte   \n",
       "1  Ciudad Bolivar        69      Años  MASCULINO    Sur   \n",
       "2      Tunjuelito        25      Años  MASCULINO    Sur   \n",
       "3         Kennedy        65      Años  MASCULINO    Sur   \n",
       "4        Engativa  SIN_DATO  SIN_DATO   SIN_DATO  Norte   \n",
       "\n",
       "                           TIPO_INCIDENTE PRIORIDAD    MES CLASIFICACION_FINAL  \n",
       "0                 Dificultad Respiratoria      ALTA  JULIO            Traslado  \n",
       "1  Inconsciente/Paro Cardiorrespiratorio       ALTA  JULIO                 NaN  \n",
       "2                                 Enfermo     MEDIA  JULIO            Traslado  \n",
       "3                     Lesiones personales     MEDIA  JULIO            Traslado  \n",
       "4                                 Enfermo     MEDIA  JULIO           Cancelado  "
      ]
     },
     "execution_count": 10,
     "metadata": {},
     "output_type": "execute_result"
    }
   ],
   "source": [
    "raw_data.head()"
   ]
  },
  {
   "cell_type": "code",
   "execution_count": 11,
   "id": "15a9e4d8-c5f2-418f-9040-3c4c03bf765e",
   "metadata": {},
   "outputs": [
    {
     "data": {
      "text/plain": [
       "SIN_DATO     6621\n",
       "MASCULINO    4190\n",
       "FEMENINO     3749\n",
       "Name: GENERO, dtype: int64"
      ]
     },
     "execution_count": 11,
     "metadata": {},
     "output_type": "execute_result"
    }
   ],
   "source": [
    "col = 'GENERO'\n",
    "raw_data[col] = raw_data[col].apply(lambda x: x.strip())\n",
    "raw_data[col].value_counts(dropna=False)   # here we could apply the same technique as before to avoid errors"
   ]
  },
  {
   "cell_type": "code",
   "execution_count": 12,
   "id": "7abe7b49-e068-4ae3-8f63-1764de57616f",
   "metadata": {},
   "outputs": [
    {
     "data": {
      "text/plain": [
       "Accidente de tránsito con heridos/Muertos    4261\n",
       "Inconsciente/Paro Cardiorrespiratorio        1623\n",
       "Dificultad Respiratoria                      1398\n",
       "Enfermo                                      1131\n",
       "Convulsiones                                 1011\n",
       "Heridos                                       747\n",
       "Trastorno mental                              709\n",
       "Dolor torácico                                611\n",
       "Lesiones personales                           547\n",
       "Intento de suicidio                           534\n",
       "Patología Gineco - obstétrica                 425\n",
       "Síntomas gastrointestinales                   344\n",
       "Accidente cerebro vascular                    323\n",
       "Caída                                         318\n",
       "Intoxicaciones                                141\n",
       "Ideas de suicidio                             111\n",
       "Violencia Sexual                               41\n",
       "Muerte Natural                                 39\n",
       "SIN_DATO                                       39\n",
       "Incendio estructural                           29\n",
       "Solicitud Apoyo / Desacato                     28\n",
       "Sangrado Vaginal                               21\n",
       "Accidente Tránsito Simple                      14\n",
       "Quemaduras                                     12\n",
       "Riña                                           11\n",
       "Amenaza de Ruina                               10\n",
       "Rescates                                        7\n",
       "Incendio Vehicular                              7\n",
       "Abrir domicilio                                 7\n",
       "Elemento caído y/o en peligro de caer.          7\n",
       "Electrocución / Rescate                         5\n",
       "Fuga de Gas Natural o Propano                   5\n",
       "MATPEL (Materiales peligrosos)                  5\n",
       "Animal Peligroso                                5\n",
       "Maltrato                                        5\n",
       "Explosión                                       4\n",
       "Disparos                                        4\n",
       "Muerto                                          3\n",
       "Persona Pidiendo Auxilio                        3\n",
       "Deslizamiento                                   3\n",
       "Embriaguez                                      3\n",
       "Persona tendida en la vía                       2\n",
       "Habitante de la Calle                           2\n",
       "Extraviados / Desaparecidos                     1\n",
       "Incidente rescate acuático                      1\n",
       "Venta o Consumo alcohol u otro en Menor         1\n",
       "Atraco / Hurto en Proces                        1\n",
       "Rescates Montaña                                1\n",
       "Name: TIPO_INCIDENTE, dtype: int64"
      ]
     },
     "execution_count": 12,
     "metadata": {},
     "output_type": "execute_result"
    }
   ],
   "source": [
    "col = 'TIPO_INCIDENTE'\n",
    "raw_data[col] = raw_data[col].apply(lambda x: x.strip())\n",
    "raw_data[col].value_counts(dropna=False)"
   ]
  },
  {
   "cell_type": "code",
   "execution_count": 13,
   "id": "e6fee9b5-6082-4ef2-ad4a-63f29950fe46",
   "metadata": {},
   "outputs": [
    {
     "data": {
      "text/plain": [
       "Traslado                       6162\n",
       "Cancelado                      3637\n",
       "NaN                            1525\n",
       "Trasladado por Otro Recurso    1501\n",
       "Falsa Alarma                   1291\n",
       "No Ubica                        215\n",
       "Desistimiento                   137\n",
       "No Amerita Traslado              64\n",
       "Fallecido                        28\n",
       "Name: CLASIFICACION_FINAL, dtype: int64"
      ]
     },
     "execution_count": 13,
     "metadata": {},
     "output_type": "execute_result"
    }
   ],
   "source": [
    "col = 'CLASIFICACION_FINAL'\n",
    "# raw_data[col] = raw_data[col].apply(lambda x: x.strip())\n",
    "raw_data[col].value_counts(dropna=False)"
   ]
  },
  {
   "cell_type": "code",
   "execution_count": 14,
   "id": "a99502ab-92ac-4243-ab9d-3c418fbcccf3",
   "metadata": {},
   "outputs": [
    {
     "data": {
      "text/plain": [
       "Traslado                       6162\n",
       "Cancelado                      3637\n",
       "SIN_DATO                       1525\n",
       "Trasladado por Otro Recurso    1501\n",
       "Falsa Alarma                   1291\n",
       "No Ubica                        215\n",
       "Desistimiento                   137\n",
       "No Amerita Traslado              64\n",
       "Fallecido                        28\n",
       "Name: CLASIFICACION_FINAL, dtype: int64"
      ]
     },
     "execution_count": 14,
     "metadata": {},
     "output_type": "execute_result"
    }
   ],
   "source": [
    "raw_data[col].fillna('SIN_DATO').value_counts()"
   ]
  },
  {
   "cell_type": "code",
   "execution_count": 15,
   "id": "621ed3e8-758c-4f73-9c93-9c1f887a5fee",
   "metadata": {},
   "outputs": [
    {
     "data": {
      "text/html": [
       "<div>\n",
       "<style scoped>\n",
       "    .dataframe tbody tr th:only-of-type {\n",
       "        vertical-align: middle;\n",
       "    }\n",
       "\n",
       "    .dataframe tbody tr th {\n",
       "        vertical-align: top;\n",
       "    }\n",
       "\n",
       "    .dataframe thead th {\n",
       "        text-align: right;\n",
       "    }\n",
       "</style>\n",
       "<table border=\"1\" class=\"dataframe\">\n",
       "  <thead>\n",
       "    <tr style=\"text-align: right;\">\n",
       "      <th></th>\n",
       "      <th>FECHA_INCIDENTE</th>\n",
       "      <th>FECHA_INICIO_DESPLAZAMIENTO_MOVIL</th>\n",
       "      <th>CODIGO_LOCALIDAD</th>\n",
       "      <th>LOCALIDAD</th>\n",
       "      <th>EDAD</th>\n",
       "      <th>UNIDAD</th>\n",
       "      <th>GENERO</th>\n",
       "      <th>RED</th>\n",
       "      <th>TIPO_INCIDENTE</th>\n",
       "      <th>PRIORIDAD</th>\n",
       "      <th>MES</th>\n",
       "      <th>CLASIFICACION_FINAL</th>\n",
       "    </tr>\n",
       "  </thead>\n",
       "  <tbody>\n",
       "    <tr>\n",
       "      <th>0</th>\n",
       "      <td>2019-07-01 00:05:08</td>\n",
       "      <td>2019-07-01 00:11:02</td>\n",
       "      <td>8</td>\n",
       "      <td>Kennedy</td>\n",
       "      <td>39</td>\n",
       "      <td>Años</td>\n",
       "      <td>FEMENINO</td>\n",
       "      <td>Norte</td>\n",
       "      <td>Dificultad Respiratoria</td>\n",
       "      <td>ALTA</td>\n",
       "      <td>JULIO</td>\n",
       "      <td>Traslado</td>\n",
       "    </tr>\n",
       "    <tr>\n",
       "      <th>1</th>\n",
       "      <td>2019-07-01 00:06:57</td>\n",
       "      <td>2019-07-01 00:12:56</td>\n",
       "      <td>19</td>\n",
       "      <td>Ciudad Bolivar</td>\n",
       "      <td>69</td>\n",
       "      <td>Años</td>\n",
       "      <td>MASCULINO</td>\n",
       "      <td>Sur</td>\n",
       "      <td>Inconsciente/Paro Cardiorrespiratorio</td>\n",
       "      <td>ALTA</td>\n",
       "      <td>JULIO</td>\n",
       "      <td>SIN_DATO</td>\n",
       "    </tr>\n",
       "    <tr>\n",
       "      <th>2</th>\n",
       "      <td>2019-07-01 00:09:26</td>\n",
       "      <td>2019-07-01 00:10:26</td>\n",
       "      <td>6</td>\n",
       "      <td>Tunjuelito</td>\n",
       "      <td>25</td>\n",
       "      <td>Años</td>\n",
       "      <td>MASCULINO</td>\n",
       "      <td>Sur</td>\n",
       "      <td>Enfermo</td>\n",
       "      <td>MEDIA</td>\n",
       "      <td>JULIO</td>\n",
       "      <td>Traslado</td>\n",
       "    </tr>\n",
       "    <tr>\n",
       "      <th>3</th>\n",
       "      <td>2019-07-01 00:14:42</td>\n",
       "      <td>2019-07-01 00:15:47</td>\n",
       "      <td>8</td>\n",
       "      <td>Kennedy</td>\n",
       "      <td>65</td>\n",
       "      <td>Años</td>\n",
       "      <td>MASCULINO</td>\n",
       "      <td>Sur</td>\n",
       "      <td>Lesiones personales</td>\n",
       "      <td>MEDIA</td>\n",
       "      <td>JULIO</td>\n",
       "      <td>Traslado</td>\n",
       "    </tr>\n",
       "    <tr>\n",
       "      <th>4</th>\n",
       "      <td>2019-07-01 00:17:13</td>\n",
       "      <td>2019-07-01 00:31:13</td>\n",
       "      <td>10</td>\n",
       "      <td>Engativa</td>\n",
       "      <td>SIN_DATO</td>\n",
       "      <td>SIN_DATO</td>\n",
       "      <td>SIN_DATO</td>\n",
       "      <td>Norte</td>\n",
       "      <td>Enfermo</td>\n",
       "      <td>MEDIA</td>\n",
       "      <td>JULIO</td>\n",
       "      <td>Cancelado</td>\n",
       "    </tr>\n",
       "  </tbody>\n",
       "</table>\n",
       "</div>"
      ],
      "text/plain": [
       "       FECHA_INCIDENTE FECHA_INICIO_DESPLAZAMIENTO_MOVIL  CODIGO_LOCALIDAD  \\\n",
       "0  2019-07-01 00:05:08               2019-07-01 00:11:02                 8   \n",
       "1  2019-07-01 00:06:57               2019-07-01 00:12:56                19   \n",
       "2  2019-07-01 00:09:26               2019-07-01 00:10:26                 6   \n",
       "3  2019-07-01 00:14:42               2019-07-01 00:15:47                 8   \n",
       "4  2019-07-01 00:17:13               2019-07-01 00:31:13                10   \n",
       "\n",
       "        LOCALIDAD      EDAD    UNIDAD     GENERO    RED  \\\n",
       "0         Kennedy        39      Años   FEMENINO  Norte   \n",
       "1  Ciudad Bolivar        69      Años  MASCULINO    Sur   \n",
       "2      Tunjuelito        25      Años  MASCULINO    Sur   \n",
       "3         Kennedy        65      Años  MASCULINO    Sur   \n",
       "4        Engativa  SIN_DATO  SIN_DATO   SIN_DATO  Norte   \n",
       "\n",
       "                          TIPO_INCIDENTE PRIORIDAD    MES CLASIFICACION_FINAL  \n",
       "0                Dificultad Respiratoria      ALTA  JULIO            Traslado  \n",
       "1  Inconsciente/Paro Cardiorrespiratorio      ALTA  JULIO            SIN_DATO  \n",
       "2                                Enfermo     MEDIA  JULIO            Traslado  \n",
       "3                    Lesiones personales     MEDIA  JULIO            Traslado  \n",
       "4                                Enfermo     MEDIA  JULIO           Cancelado  "
      ]
     },
     "execution_count": 15,
     "metadata": {},
     "output_type": "execute_result"
    }
   ],
   "source": [
    "col = 'CLASIFICACION_FINAL'\n",
    "raw_data[col].fillna('SIN_DATO', inplace=True)\n",
    "raw_data[col] = raw_data[col].apply(lambda x: x.strip())\n",
    "raw_data.head()"
   ]
  },
  {
   "cell_type": "code",
   "execution_count": 16,
   "id": "fc6ffb73-f8cd-4b88-8560-cca0275747f5",
   "metadata": {},
   "outputs": [
    {
     "data": {
      "text/plain": [
       "2019-07-23 11:59:03    12\n",
       "2019-07-15 06:26:54    11\n",
       "2019-07-04 13:32:06    11\n",
       "2019-07-21 16:26:01    10\n",
       "2019-07-26 06:31:41    10\n",
       "                       ..\n",
       "2019-07-12 11:41:58     1\n",
       "2019-07-12 11:43:15     1\n",
       "2019-07-12 11:43:25     1\n",
       "2019-07-12 11:52:46     1\n",
       "2019-07-31 23:47:00     1\n",
       "Name: FECHA_INCIDENTE, Length: 12611, dtype: int64"
      ]
     },
     "execution_count": 16,
     "metadata": {},
     "output_type": "execute_result"
    }
   ],
   "source": [
    "col = 'FECHA_INCIDENTE'\n",
    "# raw_data[col] = raw_data[col].apply(lambda x: x.strip())\n",
    "raw_data[col].value_counts(dropna=False)"
   ]
  },
  {
   "cell_type": "code",
   "execution_count": 17,
   "id": "b593c07e-cd21-453a-9a26-b5a0dd28a9c9",
   "metadata": {},
   "outputs": [
    {
     "data": {
      "application/vnd.jupyter.widget-view+json": {
       "model_id": "32eb35e4969642ed966bc5a29e3da768",
       "version_major": 2,
       "version_minor": 0
      },
      "text/plain": [
       "Summarize dataset:   0%|          | 0/5 [00:00<?, ?it/s]"
      ]
     },
     "metadata": {},
     "output_type": "display_data"
    },
    {
     "data": {
      "application/vnd.jupyter.widget-view+json": {
       "model_id": "9795b0d18bf34687985877ee53ec3815",
       "version_major": 2,
       "version_minor": 0
      },
      "text/plain": [
       "Generate report structure:   0%|          | 0/1 [00:00<?, ?it/s]"
      ]
     },
     "metadata": {},
     "output_type": "display_data"
    },
    {
     "data": {
      "application/vnd.jupyter.widget-view+json": {
       "model_id": "ac69983706b54b8eb2650821cba34c7f",
       "version_major": 2,
       "version_minor": 0
      },
      "text/plain": [
       "Render HTML:   0%|          | 0/1 [00:00<?, ?it/s]"
      ]
     },
     "metadata": {},
     "output_type": "display_data"
    },
    {
     "data": {
      "application/vnd.jupyter.widget-view+json": {
       "model_id": "2b572538089b458690c9ddd7e5d33ab8",
       "version_major": 2,
       "version_minor": 0
      },
      "text/plain": [
       "Export report to file:   0%|          | 0/1 [00:00<?, ?it/s]"
      ]
     },
     "metadata": {},
     "output_type": "display_data"
    }
   ],
   "source": [
    "profile = ProfileReport(df=raw_data)\n",
    "profile.to_file(output_file=project_dir + '/reports/'+'profile_raw_data_julio_2019.html')"
   ]
  },
  {
   "cell_type": "code",
   "execution_count": 18,
   "id": "462ee329-66eb-4426-9caa-67469eabe5a0",
   "metadata": {},
   "outputs": [
    {
     "name": "stdout",
     "output_type": "stream",
     "text": [
      "Number of rows before cleaning: 14560\n",
      "Number of rows after cleaning: 13842\n"
     ]
    }
   ],
   "source": [
    "print('Number of rows before cleaning:', raw_data.shape[0] )\n",
    "raw_data.drop_duplicates(inplace=True)\n",
    "print('Number of rows after cleaning:', raw_data.shape[0] )"
   ]
  },
  {
   "cell_type": "code",
   "execution_count": 19,
   "id": "25d71ece-2ac9-452d-8d2b-d08d1202dca2",
   "metadata": {},
   "outputs": [],
   "source": [
    "# saving in a local directory\n",
    "raw_data.to_csv(project_dir + '/data/processed/' +'clean_llamadas_123_julio_2019.csv', encoding='latin1', sep=';', index=False)"
   ]
  },
  {
   "cell_type": "markdown",
   "id": "428213e2-4790-490e-84da-89431cc9becb",
   "metadata": {},
   "source": [
    "**AGOSTO 2019"
   ]
  },
  {
   "cell_type": "code",
   "execution_count": 20,
   "id": "a59cda2a-b7e9-4b9d-b65f-13fcbfdb5323",
   "metadata": {},
   "outputs": [
    {
     "name": "stdout",
     "output_type": "stream",
     "text": [
      "<class 'pandas.core.frame.DataFrame'>\n",
      "RangeIndex: 18141 entries, 0 to 18140\n",
      "Data columns (total 12 columns):\n",
      " #   Column                             Non-Null Count  Dtype \n",
      "---  ------                             --------------  ----- \n",
      " 0   NUMERO_INCIDENTE                   18141 non-null  int64 \n",
      " 1   FECHA_INICIO_DESPLAZAMIENTO-MOVIL  18141 non-null  object\n",
      " 2   CODIGO DE LOCALIDAD                18141 non-null  int64 \n",
      " 3   LOCALIDAD                          18141 non-null  object\n",
      " 4   EDAD                               18141 non-null  object\n",
      " 5   UNIDAD                             18141 non-null  object\n",
      " 6   GENERO                             18141 non-null  object\n",
      " 7   RED                                18141 non-null  object\n",
      " 8   TIPO DE INCIDIDENT                 18141 non-null  object\n",
      " 9   PRIORIDAD                          18141 non-null  object\n",
      " 10  MES                                18141 non-null  object\n",
      " 11  CLASIFICACION FINAL                18138 non-null  object\n",
      "dtypes: int64(2), object(10)\n",
      "memory usage: 1.7+ MB\n",
      "None\n"
     ]
    }
   ],
   "source": [
    "raw_data = get_input_data(filename = 'datos-abiertos-agosto-2019.csv')\n",
    "print(raw_data.info())"
   ]
  },
  {
   "cell_type": "code",
   "execution_count": 21,
   "id": "a8aca2bf-c1e3-44d2-8373-c997536ec9ea",
   "metadata": {},
   "outputs": [
    {
     "data": {
      "text/html": [
       "<div>\n",
       "<style scoped>\n",
       "    .dataframe tbody tr th:only-of-type {\n",
       "        vertical-align: middle;\n",
       "    }\n",
       "\n",
       "    .dataframe tbody tr th {\n",
       "        vertical-align: top;\n",
       "    }\n",
       "\n",
       "    .dataframe thead th {\n",
       "        text-align: right;\n",
       "    }\n",
       "</style>\n",
       "<table border=\"1\" class=\"dataframe\">\n",
       "  <thead>\n",
       "    <tr style=\"text-align: right;\">\n",
       "      <th></th>\n",
       "      <th>NUMERO_INCIDENTE</th>\n",
       "      <th>FECHA_INICIO_DESPLAZAMIENTO_MOVIL</th>\n",
       "      <th>CODIGO_LOCALIDAD</th>\n",
       "      <th>LOCALIDAD</th>\n",
       "      <th>EDAD</th>\n",
       "      <th>UNIDAD</th>\n",
       "      <th>GENERO</th>\n",
       "      <th>RED</th>\n",
       "      <th>TIPO_INCIDENTE</th>\n",
       "      <th>PRIORIDAD</th>\n",
       "      <th>MES</th>\n",
       "      <th>CLASIFICACION_FINAL</th>\n",
       "    </tr>\n",
       "  </thead>\n",
       "  <tbody>\n",
       "    <tr>\n",
       "      <th>0</th>\n",
       "      <td>809224194</td>\n",
       "      <td>1/08/2019 0:28</td>\n",
       "      <td>1</td>\n",
       "      <td>Usaquen</td>\n",
       "      <td>SIN_DATO</td>\n",
       "      <td>SIN_DATO</td>\n",
       "      <td>SIN_DATO</td>\n",
       "      <td>Norte</td>\n",
       "      <td>Inconsciente/Paro Cardiorrespiratorio</td>\n",
       "      <td>ALTA</td>\n",
       "      <td>AGOSTO</td>\n",
       "      <td>Cancelado</td>\n",
       "    </tr>\n",
       "    <tr>\n",
       "      <th>1</th>\n",
       "      <td>809224194</td>\n",
       "      <td>1/08/2019 0:28</td>\n",
       "      <td>1</td>\n",
       "      <td>Usaquen</td>\n",
       "      <td>SIN_DATO</td>\n",
       "      <td>SIN_DATO</td>\n",
       "      <td>SIN_DATO</td>\n",
       "      <td>Norte</td>\n",
       "      <td>Inconsciente/Paro Cardiorrespiratorio</td>\n",
       "      <td>ALTA</td>\n",
       "      <td>AGOSTO</td>\n",
       "      <td>Cancelado</td>\n",
       "    </tr>\n",
       "    <tr>\n",
       "      <th>2</th>\n",
       "      <td>809240194</td>\n",
       "      <td>1/08/2019 0:15</td>\n",
       "      <td>11</td>\n",
       "      <td>Suba</td>\n",
       "      <td>SIN_DATO</td>\n",
       "      <td>SIN_DATO</td>\n",
       "      <td>SIN_DATO</td>\n",
       "      <td>Norte</td>\n",
       "      <td>Accidente cerebro vascular</td>\n",
       "      <td>BAJA</td>\n",
       "      <td>AGOSTO</td>\n",
       "      <td>Cancelado</td>\n",
       "    </tr>\n",
       "    <tr>\n",
       "      <th>3</th>\n",
       "      <td>809240194</td>\n",
       "      <td>1/08/2019 0:15</td>\n",
       "      <td>11</td>\n",
       "      <td>Suba</td>\n",
       "      <td>SIN_DATO</td>\n",
       "      <td>SIN_DATO</td>\n",
       "      <td>SIN_DATO</td>\n",
       "      <td>Norte</td>\n",
       "      <td>Accidente cerebro vascular</td>\n",
       "      <td>BAJA</td>\n",
       "      <td>AGOSTO</td>\n",
       "      <td>Cancelado</td>\n",
       "    </tr>\n",
       "    <tr>\n",
       "      <th>4</th>\n",
       "      <td>809240194</td>\n",
       "      <td>1/08/2019 0:15</td>\n",
       "      <td>11</td>\n",
       "      <td>Suba</td>\n",
       "      <td>SIN_DATO</td>\n",
       "      <td>SIN_DATO</td>\n",
       "      <td>SIN_DATO</td>\n",
       "      <td>Norte</td>\n",
       "      <td>Accidente cerebro vascular</td>\n",
       "      <td>BAJA</td>\n",
       "      <td>AGOSTO</td>\n",
       "      <td>Cancelado</td>\n",
       "    </tr>\n",
       "  </tbody>\n",
       "</table>\n",
       "</div>"
      ],
      "text/plain": [
       "   NUMERO_INCIDENTE FECHA_INICIO_DESPLAZAMIENTO_MOVIL  CODIGO_LOCALIDAD  \\\n",
       "0         809224194                    1/08/2019 0:28                 1   \n",
       "1         809224194                    1/08/2019 0:28                 1   \n",
       "2         809240194                    1/08/2019 0:15                11   \n",
       "3         809240194                    1/08/2019 0:15                11   \n",
       "4         809240194                    1/08/2019 0:15                11   \n",
       "\n",
       "  LOCALIDAD      EDAD    UNIDAD    GENERO    RED  \\\n",
       "0   Usaquen  SIN_DATO  SIN_DATO  SIN_DATO  Norte   \n",
       "1   Usaquen  SIN_DATO  SIN_DATO  SIN_DATO  Norte   \n",
       "2      Suba  SIN_DATO  SIN_DATO  SIN_DATO  Norte   \n",
       "3      Suba  SIN_DATO  SIN_DATO  SIN_DATO  Norte   \n",
       "4      Suba  SIN_DATO  SIN_DATO  SIN_DATO  Norte   \n",
       "\n",
       "                           TIPO_INCIDENTE PRIORIDAD     MES  \\\n",
       "0  Inconsciente/Paro Cardiorrespiratorio       ALTA  AGOSTO   \n",
       "1  Inconsciente/Paro Cardiorrespiratorio       ALTA  AGOSTO   \n",
       "2             Accidente cerebro vascular       BAJA  AGOSTO   \n",
       "3             Accidente cerebro vascular       BAJA  AGOSTO   \n",
       "4             Accidente cerebro vascular       BAJA  AGOSTO   \n",
       "\n",
       "  CLASIFICACION_FINAL  \n",
       "0           Cancelado  \n",
       "1           Cancelado  \n",
       "2           Cancelado  \n",
       "3           Cancelado  \n",
       "4           Cancelado  "
      ]
     },
     "execution_count": 21,
     "metadata": {},
     "output_type": "execute_result"
    }
   ],
   "source": [
    "# Don't let white spaces between headers to avoid errors during the pipeline\n",
    "# This is sometimes called a recipe for etl\n",
    "raw_data.rename(\n",
    "    columns = {\n",
    "        'FECHA_INICIO_DESPLAZAMIENTO-MOVIL' : 'FECHA_INICIO_DESPLAZAMIENTO_MOVIL',\n",
    "        'CODIGO DE LOCALIDAD'               : 'CODIGO_LOCALIDAD',\n",
    "        'TIPO DE INCIDIDENT'                : 'TIPO_INCIDENTE',\n",
    "        'CLASIFICACION FINAL'               : 'CLASIFICACION_FINAL'\n",
    "    },\n",
    "    inplace=True\n",
    ")\n",
    "raw_data.head()"
   ]
  },
  {
   "cell_type": "code",
   "execution_count": 22,
   "id": "0d3b8fc5-8668-48a4-a07a-aff1e76c6d2c",
   "metadata": {},
   "outputs": [
    {
     "data": {
      "text/plain": [
       "Kennedy                2717\n",
       " Engativa              1805\n",
       " Suba                  1678\n",
       " Bosa                  1264\n",
       "Ciudad Bolivar         1220\n",
       "Puente Aranda           977\n",
       " San Cristobal          906\n",
       "Usaquen                 894\n",
       " Rafael Uribe Uribe     892\n",
       "Fontibon                878\n",
       "Chapinero               707\n",
       "Santa Fe                682\n",
       " Usme                   637\n",
       " Barrios Unidos         608\n",
       " Teusaquillo            599\n",
       "Tunjuelito              595\n",
       "Los Martires            593\n",
       " Antonio Nariño         369\n",
       " La Candelaria          119\n",
       " Sumapaz                  1\n",
       "Name: LOCALIDAD, dtype: int64"
      ]
     },
     "execution_count": 22,
     "metadata": {},
     "output_type": "execute_result"
    }
   ],
   "source": [
    "raw_data['LOCALIDAD'].value_counts(dropna=False)"
   ]
  },
  {
   "cell_type": "code",
   "execution_count": 23,
   "id": "41f6ff7a-686f-4d99-9a55-819a936ab7d7",
   "metadata": {},
   "outputs": [
    {
     "data": {
      "text/plain": [
       "Kennedy               2717\n",
       "Engativa              1805\n",
       "Suba                  1678\n",
       "Bosa                  1264\n",
       "Ciudad Bolivar        1220\n",
       "Puente Aranda          977\n",
       "San Cristobal          906\n",
       "Usaquen                894\n",
       "Rafael Uribe Uribe     892\n",
       "Fontibon               878\n",
       "Chapinero              707\n",
       "Santa Fe               682\n",
       "Usme                   637\n",
       "Barrios Unidos         608\n",
       "Teusaquillo            599\n",
       "Tunjuelito             595\n",
       "Los Martires           593\n",
       "Antonio Nariño         369\n",
       "La Candelaria          119\n",
       "Sumapaz                  1\n",
       "Name: LOCALIDAD, dtype: int64"
      ]
     },
     "execution_count": 23,
     "metadata": {},
     "output_type": "execute_result"
    }
   ],
   "source": [
    "raw_data['LOCALIDAD'].apply(\n",
    "    lambda x: x.strip()        # here we use a lambda function, exclusively for python. Is a one-line function\n",
    ").value_counts()"
   ]
  },
  {
   "cell_type": "code",
   "execution_count": 24,
   "id": "3b943f64-2a9b-4512-929c-02dc96051dac",
   "metadata": {},
   "outputs": [],
   "source": [
    "raw_data['LOCALIDAD'] = raw_data['LOCALIDAD'].apply(lambda x: x.strip()) # we assign the output of the function apply to the same column"
   ]
  },
  {
   "cell_type": "code",
   "execution_count": 25,
   "id": "6a2f679b-a240-4aaa-91ca-258e9491a748",
   "metadata": {},
   "outputs": [
    {
     "data": {
      "text/html": [
       "<div>\n",
       "<style scoped>\n",
       "    .dataframe tbody tr th:only-of-type {\n",
       "        vertical-align: middle;\n",
       "    }\n",
       "\n",
       "    .dataframe tbody tr th {\n",
       "        vertical-align: top;\n",
       "    }\n",
       "\n",
       "    .dataframe thead th {\n",
       "        text-align: right;\n",
       "    }\n",
       "</style>\n",
       "<table border=\"1\" class=\"dataframe\">\n",
       "  <thead>\n",
       "    <tr style=\"text-align: right;\">\n",
       "      <th></th>\n",
       "      <th>NUMERO_INCIDENTE</th>\n",
       "      <th>FECHA_INICIO_DESPLAZAMIENTO_MOVIL</th>\n",
       "      <th>CODIGO_LOCALIDAD</th>\n",
       "      <th>LOCALIDAD</th>\n",
       "      <th>EDAD</th>\n",
       "      <th>UNIDAD</th>\n",
       "      <th>GENERO</th>\n",
       "      <th>RED</th>\n",
       "      <th>TIPO_INCIDENTE</th>\n",
       "      <th>PRIORIDAD</th>\n",
       "      <th>MES</th>\n",
       "      <th>CLASIFICACION_FINAL</th>\n",
       "    </tr>\n",
       "  </thead>\n",
       "  <tbody>\n",
       "    <tr>\n",
       "      <th>0</th>\n",
       "      <td>809224194</td>\n",
       "      <td>1/08/2019 0:28</td>\n",
       "      <td>1</td>\n",
       "      <td>Usaquen</td>\n",
       "      <td>SIN_DATO</td>\n",
       "      <td>SIN_DATO</td>\n",
       "      <td>SIN_DATO</td>\n",
       "      <td>Norte</td>\n",
       "      <td>Inconsciente/Paro Cardiorrespiratorio</td>\n",
       "      <td>ALTA</td>\n",
       "      <td>AGOSTO</td>\n",
       "      <td>Cancelado</td>\n",
       "    </tr>\n",
       "    <tr>\n",
       "      <th>1</th>\n",
       "      <td>809224194</td>\n",
       "      <td>1/08/2019 0:28</td>\n",
       "      <td>1</td>\n",
       "      <td>Usaquen</td>\n",
       "      <td>SIN_DATO</td>\n",
       "      <td>SIN_DATO</td>\n",
       "      <td>SIN_DATO</td>\n",
       "      <td>Norte</td>\n",
       "      <td>Inconsciente/Paro Cardiorrespiratorio</td>\n",
       "      <td>ALTA</td>\n",
       "      <td>AGOSTO</td>\n",
       "      <td>Cancelado</td>\n",
       "    </tr>\n",
       "    <tr>\n",
       "      <th>2</th>\n",
       "      <td>809240194</td>\n",
       "      <td>1/08/2019 0:15</td>\n",
       "      <td>11</td>\n",
       "      <td>Suba</td>\n",
       "      <td>SIN_DATO</td>\n",
       "      <td>SIN_DATO</td>\n",
       "      <td>SIN_DATO</td>\n",
       "      <td>Norte</td>\n",
       "      <td>Accidente cerebro vascular</td>\n",
       "      <td>BAJA</td>\n",
       "      <td>AGOSTO</td>\n",
       "      <td>Cancelado</td>\n",
       "    </tr>\n",
       "    <tr>\n",
       "      <th>3</th>\n",
       "      <td>809240194</td>\n",
       "      <td>1/08/2019 0:15</td>\n",
       "      <td>11</td>\n",
       "      <td>Suba</td>\n",
       "      <td>SIN_DATO</td>\n",
       "      <td>SIN_DATO</td>\n",
       "      <td>SIN_DATO</td>\n",
       "      <td>Norte</td>\n",
       "      <td>Accidente cerebro vascular</td>\n",
       "      <td>BAJA</td>\n",
       "      <td>AGOSTO</td>\n",
       "      <td>Cancelado</td>\n",
       "    </tr>\n",
       "    <tr>\n",
       "      <th>4</th>\n",
       "      <td>809240194</td>\n",
       "      <td>1/08/2019 0:15</td>\n",
       "      <td>11</td>\n",
       "      <td>Suba</td>\n",
       "      <td>SIN_DATO</td>\n",
       "      <td>SIN_DATO</td>\n",
       "      <td>SIN_DATO</td>\n",
       "      <td>Norte</td>\n",
       "      <td>Accidente cerebro vascular</td>\n",
       "      <td>BAJA</td>\n",
       "      <td>AGOSTO</td>\n",
       "      <td>Cancelado</td>\n",
       "    </tr>\n",
       "  </tbody>\n",
       "</table>\n",
       "</div>"
      ],
      "text/plain": [
       "   NUMERO_INCIDENTE FECHA_INICIO_DESPLAZAMIENTO_MOVIL  CODIGO_LOCALIDAD  \\\n",
       "0         809224194                    1/08/2019 0:28                 1   \n",
       "1         809224194                    1/08/2019 0:28                 1   \n",
       "2         809240194                    1/08/2019 0:15                11   \n",
       "3         809240194                    1/08/2019 0:15                11   \n",
       "4         809240194                    1/08/2019 0:15                11   \n",
       "\n",
       "  LOCALIDAD      EDAD    UNIDAD    GENERO    RED  \\\n",
       "0   Usaquen  SIN_DATO  SIN_DATO  SIN_DATO  Norte   \n",
       "1   Usaquen  SIN_DATO  SIN_DATO  SIN_DATO  Norte   \n",
       "2      Suba  SIN_DATO  SIN_DATO  SIN_DATO  Norte   \n",
       "3      Suba  SIN_DATO  SIN_DATO  SIN_DATO  Norte   \n",
       "4      Suba  SIN_DATO  SIN_DATO  SIN_DATO  Norte   \n",
       "\n",
       "                           TIPO_INCIDENTE PRIORIDAD     MES  \\\n",
       "0  Inconsciente/Paro Cardiorrespiratorio       ALTA  AGOSTO   \n",
       "1  Inconsciente/Paro Cardiorrespiratorio       ALTA  AGOSTO   \n",
       "2             Accidente cerebro vascular       BAJA  AGOSTO   \n",
       "3             Accidente cerebro vascular       BAJA  AGOSTO   \n",
       "4             Accidente cerebro vascular       BAJA  AGOSTO   \n",
       "\n",
       "  CLASIFICACION_FINAL  \n",
       "0           Cancelado  \n",
       "1           Cancelado  \n",
       "2           Cancelado  \n",
       "3           Cancelado  \n",
       "4           Cancelado  "
      ]
     },
     "execution_count": 25,
     "metadata": {},
     "output_type": "execute_result"
    }
   ],
   "source": [
    "raw_data.head()"
   ]
  },
  {
   "cell_type": "code",
   "execution_count": 26,
   "id": "a5020ebd-0f30-426e-a619-5ebe1702184c",
   "metadata": {},
   "outputs": [
    {
     "data": {
      "text/plain": [
       "SIN_DATO     8617\n",
       "MASCULINO    5143\n",
       "FEMENINO     4381\n",
       "Name: GENERO, dtype: int64"
      ]
     },
     "execution_count": 26,
     "metadata": {},
     "output_type": "execute_result"
    }
   ],
   "source": [
    "col = 'GENERO'\n",
    "raw_data[col] = raw_data[col].apply(lambda x: x.strip())\n",
    "raw_data[col].value_counts(dropna=False)"
   ]
  },
  {
   "cell_type": "code",
   "execution_count": 27,
   "id": "9dc74849-2b3d-4de8-b79c-0f48c5ee38e9",
   "metadata": {},
   "outputs": [
    {
     "data": {
      "text/plain": [
       "Accidente de tránsito con heridos/Muertos    6827\n",
       "Inconsciente/Paro Cardiorrespiratorio        1875\n",
       "Dificultad Respiratoria                      1504\n",
       "Enfermo                                      1233\n",
       "Convulsiones                                 1135\n",
       "Heridos                                       847\n",
       "Lesiones personales                           718\n",
       "Trastorno mental                              670\n",
       "Dolor torácico                                628\n",
       "Intento de suicidio                           555\n",
       "Síntomas gastrointestinales                   418\n",
       "Accidente cerebro vascular                    401\n",
       "Patología Gineco - obstétrica                 353\n",
       "Caída                                         295\n",
       "Intoxicaciones                                181\n",
       "Ideas de suicidio                             102\n",
       "SIN_DATO                                       58\n",
       "Incendio estructural                           51\n",
       "Muerte Natural                                 35\n",
       "Violencia Sexual                               33\n",
       "Riña                                           24\n",
       "Solicitud Apoyo / Desacato                     21\n",
       "Accidente Tránsito Simple                      20\n",
       "Sangrado Vaginal                               15\n",
       "Quemaduras                                     15\n",
       "MATPEL (Materiales peligrosos)                  9\n",
       "Fuga de Gas Natural o Propano                   9\n",
       "Elemento caído y/o en peligro de caer.          9\n",
       "Electrocución / Rescate                         9\n",
       "Abrir domicilio                                 8\n",
       "Incidente rescate acuático                      7\n",
       "Manifestación / Motín                           7\n",
       "Embriaguez                                      6\n",
       "Maltrato                                        6\n",
       "Animal Peligroso                                5\n",
       "Rescates                                        5\n",
       "Incendio con MATPEL                             4\n",
       "Menor o persona Abandonada                      4\n",
       "Explosión                                       4\n",
       "Extraviados / Desaparecidos                     3\n",
       "Deslizamiento                                   3\n",
       "Disparos                                        3\n",
       "Persona Pidiendo Auxilio                        3\n",
       "Hurto Efectuado                                 3\n",
       "Incendio Vehicular                              3\n",
       "Persona tendida en la vía                       3\n",
       "Habitante de la Calle                           3\n",
       "Muerto                                          3\n",
       "Abejas                                          3\n",
       "Amenaza de Ruina                                2\n",
       "Atraco / Hurto en Proces                        2\n",
       "Incendio                                        1\n",
       "Name: TIPO_INCIDENTE, dtype: int64"
      ]
     },
     "execution_count": 27,
     "metadata": {},
     "output_type": "execute_result"
    }
   ],
   "source": [
    "col = 'TIPO_INCIDENTE'\n",
    "raw_data[col] = raw_data[col].apply(lambda x: x.strip())\n",
    "raw_data[col].value_counts(dropna=False)"
   ]
  },
  {
   "cell_type": "code",
   "execution_count": 28,
   "id": "27cf20e6-e457-446a-82f3-e8a6b510475d",
   "metadata": {},
   "outputs": [
    {
     "data": {
      "text/plain": [
       "Traslado                       7311\n",
       "Cancelado                      4935\n",
       "Trasladado por Otro Recurso    1813\n",
       "Falsa Alarma                   1738\n",
       "Desistimiento                  1449\n",
       "No Amerita Traslado             452\n",
       "No Ubica                        235\n",
       "Fallecido                       205\n",
       "NaN                               3\n",
       "Name: CLASIFICACION_FINAL, dtype: int64"
      ]
     },
     "execution_count": 28,
     "metadata": {},
     "output_type": "execute_result"
    }
   ],
   "source": [
    "col = 'CLASIFICACION_FINAL'\n",
    "# raw_data[col] = raw_data[col].apply(lambda x: x.strip())\n",
    "raw_data[col].value_counts(dropna=False)"
   ]
  },
  {
   "cell_type": "code",
   "execution_count": 29,
   "id": "906638c6-0833-47c4-916e-12e8daa8a3e8",
   "metadata": {},
   "outputs": [
    {
     "data": {
      "text/plain": [
       "Traslado                       7311\n",
       "Cancelado                      4935\n",
       "Trasladado por Otro Recurso    1813\n",
       "Falsa Alarma                   1738\n",
       "Desistimiento                  1449\n",
       "No Amerita Traslado             452\n",
       "No Ubica                        235\n",
       "Fallecido                       205\n",
       "SIN_DATO                          3\n",
       "Name: CLASIFICACION_FINAL, dtype: int64"
      ]
     },
     "execution_count": 29,
     "metadata": {},
     "output_type": "execute_result"
    }
   ],
   "source": [
    "raw_data[col].fillna('SIN_DATO').value_counts()"
   ]
  },
  {
   "cell_type": "code",
   "execution_count": 30,
   "id": "0c90852a-bf95-4879-983f-8a4eb885b79b",
   "metadata": {},
   "outputs": [
    {
     "data": {
      "text/html": [
       "<div>\n",
       "<style scoped>\n",
       "    .dataframe tbody tr th:only-of-type {\n",
       "        vertical-align: middle;\n",
       "    }\n",
       "\n",
       "    .dataframe tbody tr th {\n",
       "        vertical-align: top;\n",
       "    }\n",
       "\n",
       "    .dataframe thead th {\n",
       "        text-align: right;\n",
       "    }\n",
       "</style>\n",
       "<table border=\"1\" class=\"dataframe\">\n",
       "  <thead>\n",
       "    <tr style=\"text-align: right;\">\n",
       "      <th></th>\n",
       "      <th>NUMERO_INCIDENTE</th>\n",
       "      <th>FECHA_INICIO_DESPLAZAMIENTO_MOVIL</th>\n",
       "      <th>CODIGO_LOCALIDAD</th>\n",
       "      <th>LOCALIDAD</th>\n",
       "      <th>EDAD</th>\n",
       "      <th>UNIDAD</th>\n",
       "      <th>GENERO</th>\n",
       "      <th>RED</th>\n",
       "      <th>TIPO_INCIDENTE</th>\n",
       "      <th>PRIORIDAD</th>\n",
       "      <th>MES</th>\n",
       "      <th>CLASIFICACION_FINAL</th>\n",
       "    </tr>\n",
       "  </thead>\n",
       "  <tbody>\n",
       "    <tr>\n",
       "      <th>0</th>\n",
       "      <td>809224194</td>\n",
       "      <td>1/08/2019 0:28</td>\n",
       "      <td>1</td>\n",
       "      <td>Usaquen</td>\n",
       "      <td>SIN_DATO</td>\n",
       "      <td>SIN_DATO</td>\n",
       "      <td>SIN_DATO</td>\n",
       "      <td>Norte</td>\n",
       "      <td>Inconsciente/Paro Cardiorrespiratorio</td>\n",
       "      <td>ALTA</td>\n",
       "      <td>AGOSTO</td>\n",
       "      <td>Cancelado</td>\n",
       "    </tr>\n",
       "    <tr>\n",
       "      <th>1</th>\n",
       "      <td>809224194</td>\n",
       "      <td>1/08/2019 0:28</td>\n",
       "      <td>1</td>\n",
       "      <td>Usaquen</td>\n",
       "      <td>SIN_DATO</td>\n",
       "      <td>SIN_DATO</td>\n",
       "      <td>SIN_DATO</td>\n",
       "      <td>Norte</td>\n",
       "      <td>Inconsciente/Paro Cardiorrespiratorio</td>\n",
       "      <td>ALTA</td>\n",
       "      <td>AGOSTO</td>\n",
       "      <td>Cancelado</td>\n",
       "    </tr>\n",
       "    <tr>\n",
       "      <th>2</th>\n",
       "      <td>809240194</td>\n",
       "      <td>1/08/2019 0:15</td>\n",
       "      <td>11</td>\n",
       "      <td>Suba</td>\n",
       "      <td>SIN_DATO</td>\n",
       "      <td>SIN_DATO</td>\n",
       "      <td>SIN_DATO</td>\n",
       "      <td>Norte</td>\n",
       "      <td>Accidente cerebro vascular</td>\n",
       "      <td>BAJA</td>\n",
       "      <td>AGOSTO</td>\n",
       "      <td>Cancelado</td>\n",
       "    </tr>\n",
       "    <tr>\n",
       "      <th>3</th>\n",
       "      <td>809240194</td>\n",
       "      <td>1/08/2019 0:15</td>\n",
       "      <td>11</td>\n",
       "      <td>Suba</td>\n",
       "      <td>SIN_DATO</td>\n",
       "      <td>SIN_DATO</td>\n",
       "      <td>SIN_DATO</td>\n",
       "      <td>Norte</td>\n",
       "      <td>Accidente cerebro vascular</td>\n",
       "      <td>BAJA</td>\n",
       "      <td>AGOSTO</td>\n",
       "      <td>Cancelado</td>\n",
       "    </tr>\n",
       "    <tr>\n",
       "      <th>4</th>\n",
       "      <td>809240194</td>\n",
       "      <td>1/08/2019 0:15</td>\n",
       "      <td>11</td>\n",
       "      <td>Suba</td>\n",
       "      <td>SIN_DATO</td>\n",
       "      <td>SIN_DATO</td>\n",
       "      <td>SIN_DATO</td>\n",
       "      <td>Norte</td>\n",
       "      <td>Accidente cerebro vascular</td>\n",
       "      <td>BAJA</td>\n",
       "      <td>AGOSTO</td>\n",
       "      <td>Cancelado</td>\n",
       "    </tr>\n",
       "  </tbody>\n",
       "</table>\n",
       "</div>"
      ],
      "text/plain": [
       "   NUMERO_INCIDENTE FECHA_INICIO_DESPLAZAMIENTO_MOVIL  CODIGO_LOCALIDAD  \\\n",
       "0         809224194                    1/08/2019 0:28                 1   \n",
       "1         809224194                    1/08/2019 0:28                 1   \n",
       "2         809240194                    1/08/2019 0:15                11   \n",
       "3         809240194                    1/08/2019 0:15                11   \n",
       "4         809240194                    1/08/2019 0:15                11   \n",
       "\n",
       "  LOCALIDAD      EDAD    UNIDAD    GENERO    RED  \\\n",
       "0   Usaquen  SIN_DATO  SIN_DATO  SIN_DATO  Norte   \n",
       "1   Usaquen  SIN_DATO  SIN_DATO  SIN_DATO  Norte   \n",
       "2      Suba  SIN_DATO  SIN_DATO  SIN_DATO  Norte   \n",
       "3      Suba  SIN_DATO  SIN_DATO  SIN_DATO  Norte   \n",
       "4      Suba  SIN_DATO  SIN_DATO  SIN_DATO  Norte   \n",
       "\n",
       "                          TIPO_INCIDENTE PRIORIDAD     MES CLASIFICACION_FINAL  \n",
       "0  Inconsciente/Paro Cardiorrespiratorio      ALTA  AGOSTO           Cancelado  \n",
       "1  Inconsciente/Paro Cardiorrespiratorio      ALTA  AGOSTO           Cancelado  \n",
       "2             Accidente cerebro vascular      BAJA  AGOSTO           Cancelado  \n",
       "3             Accidente cerebro vascular      BAJA  AGOSTO           Cancelado  \n",
       "4             Accidente cerebro vascular      BAJA  AGOSTO           Cancelado  "
      ]
     },
     "execution_count": 30,
     "metadata": {},
     "output_type": "execute_result"
    }
   ],
   "source": [
    "col = 'CLASIFICACION_FINAL'\n",
    "raw_data[col].fillna('SIN_DATO', inplace=True)\n",
    "raw_data[col] = raw_data[col].apply(lambda x: x.strip())\n",
    "raw_data.head()"
   ]
  },
  {
   "cell_type": "code",
   "execution_count": 31,
   "id": "a9a8c6c2-6844-4b87-8c66-a50c151ef5a6",
   "metadata": {},
   "outputs": [
    {
     "data": {
      "application/vnd.jupyter.widget-view+json": {
       "model_id": "e70bde40c8a847eb8a23d6bcde03632e",
       "version_major": 2,
       "version_minor": 0
      },
      "text/plain": [
       "Summarize dataset:   0%|          | 0/5 [00:00<?, ?it/s]"
      ]
     },
     "metadata": {},
     "output_type": "display_data"
    },
    {
     "data": {
      "application/vnd.jupyter.widget-view+json": {
       "model_id": "965a2f25531b4b2abe07cfbbb3fc0bd1",
       "version_major": 2,
       "version_minor": 0
      },
      "text/plain": [
       "Generate report structure:   0%|          | 0/1 [00:00<?, ?it/s]"
      ]
     },
     "metadata": {},
     "output_type": "display_data"
    },
    {
     "data": {
      "application/vnd.jupyter.widget-view+json": {
       "model_id": "0ac46821d3e4432892b06d75cfaa691b",
       "version_major": 2,
       "version_minor": 0
      },
      "text/plain": [
       "Render HTML:   0%|          | 0/1 [00:00<?, ?it/s]"
      ]
     },
     "metadata": {},
     "output_type": "display_data"
    },
    {
     "data": {
      "application/vnd.jupyter.widget-view+json": {
       "model_id": "e7532f3f032e4b838a59797c265cb316",
       "version_major": 2,
       "version_minor": 0
      },
      "text/plain": [
       "Export report to file:   0%|          | 0/1 [00:00<?, ?it/s]"
      ]
     },
     "metadata": {},
     "output_type": "display_data"
    }
   ],
   "source": [
    "profile = ProfileReport(df=raw_data)\n",
    "profile.to_file(output_file=project_dir + '/reports/'+'profile_raw_data_agosto_2019.html')"
   ]
  },
  {
   "cell_type": "code",
   "execution_count": 32,
   "id": "2ef59476-e5c6-444d-a2d3-6b9d3e6e5fd3",
   "metadata": {},
   "outputs": [
    {
     "name": "stdout",
     "output_type": "stream",
     "text": [
      "Number of rows before cleaning: 18141\n",
      "Number of rows after cleaning: 16807\n"
     ]
    }
   ],
   "source": [
    "print('Number of rows before cleaning:', raw_data.shape[0] )\n",
    "raw_data.drop_duplicates(inplace=True)\n",
    "print('Number of rows after cleaning:', raw_data.shape[0] )"
   ]
  },
  {
   "cell_type": "code",
   "execution_count": 33,
   "id": "31fe7ed0-274c-4821-bd54-92b51d8dfbe2",
   "metadata": {},
   "outputs": [],
   "source": [
    "# saving in a local directory\n",
    "raw_data.to_csv(project_dir + '/data/processed/' +'clean_llamadas_123_agosto_2019.csv', encoding='latin1', sep=';', index=False)"
   ]
  },
  {
   "cell_type": "markdown",
   "id": "cc0d69de-67bc-40c9-9882-6151de2b457f",
   "metadata": {},
   "source": [
    "**SEPTIEMBRE 2019"
   ]
  },
  {
   "cell_type": "code",
   "execution_count": 34,
   "id": "9b96a230-c630-495d-b993-76d02803a4c3",
   "metadata": {},
   "outputs": [
    {
     "name": "stdout",
     "output_type": "stream",
     "text": [
      "<class 'pandas.core.frame.DataFrame'>\n",
      "RangeIndex: 17018 entries, 0 to 17017\n",
      "Data columns (total 10 columns):\n",
      " #   Column                             Non-Null Count  Dtype \n",
      "---  ------                             --------------  ----- \n",
      " 0   NUMERO_INCIDENTE                   17018 non-null  int64 \n",
      " 1   FECHA_INICIO_DESPLAZAMIENTO-MOVIL  17018 non-null  object\n",
      " 2   CODIGO DE LOCALIDAD                17018 non-null  int64 \n",
      " 3   LOCALIDAD                          17018 non-null  object\n",
      " 4   EDAD                               17018 non-null  int64 \n",
      " 5   UNIDAD                             9371 non-null   object\n",
      " 6   GENERO                             17018 non-null  object\n",
      " 7   RED                                17018 non-null  object\n",
      " 8   TIPO_INCIDENTE                     17018 non-null  object\n",
      " 9   PRIORIDAD                          17018 non-null  object\n",
      "dtypes: int64(3), object(7)\n",
      "memory usage: 1.3+ MB\n",
      "None\n"
     ]
    }
   ],
   "source": [
    "raw_data = get_input_data(filename = 'datos-abiertos-septiembre-2019.csv')\n",
    "print(raw_data.info())"
   ]
  },
  {
   "cell_type": "code",
   "execution_count": 35,
   "id": "e30cfbcd-8006-4342-83f6-821d3afb7aca",
   "metadata": {},
   "outputs": [
    {
     "data": {
      "text/html": [
       "<div>\n",
       "<style scoped>\n",
       "    .dataframe tbody tr th:only-of-type {\n",
       "        vertical-align: middle;\n",
       "    }\n",
       "\n",
       "    .dataframe tbody tr th {\n",
       "        vertical-align: top;\n",
       "    }\n",
       "\n",
       "    .dataframe thead th {\n",
       "        text-align: right;\n",
       "    }\n",
       "</style>\n",
       "<table border=\"1\" class=\"dataframe\">\n",
       "  <thead>\n",
       "    <tr style=\"text-align: right;\">\n",
       "      <th></th>\n",
       "      <th>NUMERO_INCIDENTE</th>\n",
       "      <th>FECHA_INICIO_DESPLAZAMIENTO_MOVIL</th>\n",
       "      <th>CODIGO_LOCALIDAD</th>\n",
       "      <th>LOCALIDAD</th>\n",
       "      <th>EDAD</th>\n",
       "      <th>UNIDAD</th>\n",
       "      <th>GENERO</th>\n",
       "      <th>RED</th>\n",
       "      <th>TIPO_INCIDENTE</th>\n",
       "      <th>PRIORIDAD</th>\n",
       "    </tr>\n",
       "  </thead>\n",
       "  <tbody>\n",
       "    <tr>\n",
       "      <th>0</th>\n",
       "      <td>538006196</td>\n",
       "      <td>2019-09-01 00:05:32</td>\n",
       "      <td>18</td>\n",
       "      <td>Rafael Uribe Uribe</td>\n",
       "      <td>53</td>\n",
       "      <td>Años</td>\n",
       "      <td>MASCULINO</td>\n",
       "      <td>Sur</td>\n",
       "      <td>ACCIDENTE DE TRÁNSITO CON HERIDOS/MUERTOS</td>\n",
       "      <td>ALTA</td>\n",
       "    </tr>\n",
       "    <tr>\n",
       "      <th>1</th>\n",
       "      <td>538024196</td>\n",
       "      <td>2019-09-01 00:12:07</td>\n",
       "      <td>11</td>\n",
       "      <td>Suba</td>\n",
       "      <td>0</td>\n",
       "      <td>NaN</td>\n",
       "      <td>SIN_DATO</td>\n",
       "      <td>Norte</td>\n",
       "      <td>ACCIDENTE DE TRÁNSITO CON HERIDOS/MUERTOS</td>\n",
       "      <td>ALTA</td>\n",
       "    </tr>\n",
       "    <tr>\n",
       "      <th>2</th>\n",
       "      <td>538031196</td>\n",
       "      <td>2019-09-01 00:05:39</td>\n",
       "      <td>8</td>\n",
       "      <td>Kennedy</td>\n",
       "      <td>26</td>\n",
       "      <td>Años</td>\n",
       "      <td>MASCULINO</td>\n",
       "      <td>Norte</td>\n",
       "      <td>ACCIDENTE DE TRÁNSITO CON HERIDOS/MUERTOS</td>\n",
       "      <td>ALTA</td>\n",
       "    </tr>\n",
       "    <tr>\n",
       "      <th>3</th>\n",
       "      <td>538084196</td>\n",
       "      <td>2019-09-01 00:13:39</td>\n",
       "      <td>11</td>\n",
       "      <td>Suba</td>\n",
       "      <td>24</td>\n",
       "      <td>Años</td>\n",
       "      <td>MASCULINO</td>\n",
       "      <td>Norte</td>\n",
       "      <td>ACCIDENTE DE TRÁNSITO CON HERIDOS/MUERTOS</td>\n",
       "      <td>ALTA</td>\n",
       "    </tr>\n",
       "    <tr>\n",
       "      <th>4</th>\n",
       "      <td>538123196</td>\n",
       "      <td>2019-09-01 00:20:31</td>\n",
       "      <td>2</td>\n",
       "      <td>Chapinero</td>\n",
       "      <td>0</td>\n",
       "      <td>NaN</td>\n",
       "      <td>SIN_DATO</td>\n",
       "      <td>Norte</td>\n",
       "      <td>INCONSCIENTE/PARO CARDIORRESPIRATORIO</td>\n",
       "      <td>ALTA</td>\n",
       "    </tr>\n",
       "  </tbody>\n",
       "</table>\n",
       "</div>"
      ],
      "text/plain": [
       "   NUMERO_INCIDENTE FECHA_INICIO_DESPLAZAMIENTO_MOVIL  CODIGO_LOCALIDAD  \\\n",
       "0         538006196               2019-09-01 00:05:32                18   \n",
       "1         538024196               2019-09-01 00:12:07                11   \n",
       "2         538031196               2019-09-01 00:05:39                 8   \n",
       "3         538084196               2019-09-01 00:13:39                11   \n",
       "4         538123196               2019-09-01 00:20:31                 2   \n",
       "\n",
       "             LOCALIDAD  EDAD UNIDAD     GENERO    RED  \\\n",
       "0   Rafael Uribe Uribe    53   Años  MASCULINO    Sur   \n",
       "1                 Suba     0    NaN   SIN_DATO  Norte   \n",
       "2              Kennedy    26   Años  MASCULINO  Norte   \n",
       "3                 Suba    24   Años  MASCULINO  Norte   \n",
       "4            Chapinero     0    NaN   SIN_DATO  Norte   \n",
       "\n",
       "                              TIPO_INCIDENTE PRIORIDAD  \n",
       "0  ACCIDENTE DE TRÁNSITO CON HERIDOS/MUERTOS      ALTA  \n",
       "1  ACCIDENTE DE TRÁNSITO CON HERIDOS/MUERTOS      ALTA  \n",
       "2  ACCIDENTE DE TRÁNSITO CON HERIDOS/MUERTOS      ALTA  \n",
       "3  ACCIDENTE DE TRÁNSITO CON HERIDOS/MUERTOS      ALTA  \n",
       "4     INCONSCIENTE/PARO CARDIORRESPIRATORIO       ALTA  "
      ]
     },
     "execution_count": 35,
     "metadata": {},
     "output_type": "execute_result"
    }
   ],
   "source": [
    "# Don't let white spaces between headers to avoid errors during the pipeline\n",
    "# This is sometimes called a recipe for etl\n",
    "raw_data.rename(\n",
    "    columns = {\n",
    "        'FECHA_INICIO_DESPLAZAMIENTO-MOVIL' : 'FECHA_INICIO_DESPLAZAMIENTO_MOVIL',\n",
    "        'CODIGO DE LOCALIDAD'               : 'CODIGO_LOCALIDAD'\n",
    "    },\n",
    "    inplace=True\n",
    ")\n",
    "raw_data.head()"
   ]
  },
  {
   "cell_type": "code",
   "execution_count": 36,
   "id": "cf82f22b-eb62-4a46-b480-2ff59b628a8a",
   "metadata": {},
   "outputs": [
    {
     "data": {
      "text/plain": [
       " Kennedy               2398\n",
       " Suba                  1634\n",
       "Engativa               1631\n",
       " Bosa                  1294\n",
       " Ciudad Bolivar        1138\n",
       " Puente Aranda          938\n",
       " Rafael Uribe Uribe     854\n",
       " Usaquen                829\n",
       " San Cristobal          826\n",
       "Fontibon                809\n",
       " Chapinero              749\n",
       " Barrios Unidos         616\n",
       "Tunjuelito              603\n",
       "Los Martires            593\n",
       "Usme                    572\n",
       " Santa Fe               549\n",
       " Teusaquillo            540\n",
       " Antonio Nariño         362\n",
       " La Candelaria           83\n",
       "Name: LOCALIDAD, dtype: int64"
      ]
     },
     "execution_count": 36,
     "metadata": {},
     "output_type": "execute_result"
    }
   ],
   "source": [
    "raw_data['LOCALIDAD'].value_counts(dropna=False)"
   ]
  },
  {
   "cell_type": "code",
   "execution_count": 37,
   "id": "a74d3a4e-2096-47a3-9c24-d783e67e6825",
   "metadata": {},
   "outputs": [
    {
     "data": {
      "text/plain": [
       "Kennedy               2398\n",
       "Suba                  1634\n",
       "Engativa              1631\n",
       "Bosa                  1294\n",
       "Ciudad Bolivar        1138\n",
       "Puente Aranda          938\n",
       "Rafael Uribe Uribe     854\n",
       "Usaquen                829\n",
       "San Cristobal          826\n",
       "Fontibon               809\n",
       "Chapinero              749\n",
       "Barrios Unidos         616\n",
       "Tunjuelito             603\n",
       "Los Martires           593\n",
       "Usme                   572\n",
       "Santa Fe               549\n",
       "Teusaquillo            540\n",
       "Antonio Nariño         362\n",
       "La Candelaria           83\n",
       "Name: LOCALIDAD, dtype: int64"
      ]
     },
     "execution_count": 37,
     "metadata": {},
     "output_type": "execute_result"
    }
   ],
   "source": [
    "raw_data['LOCALIDAD'].apply(\n",
    "    lambda x: x.strip()        # here we use a lambda function, exclusively for python. Is a one-line function\n",
    ").value_counts()"
   ]
  },
  {
   "cell_type": "code",
   "execution_count": 38,
   "id": "34ef7852-6da4-49b5-8b4b-84d398dceec4",
   "metadata": {},
   "outputs": [],
   "source": [
    "raw_data['LOCALIDAD'] = raw_data['LOCALIDAD'].apply(lambda x: x.strip()) # we assign the output of the function apply to the same column"
   ]
  },
  {
   "cell_type": "code",
   "execution_count": 39,
   "id": "860651fd-6447-44a1-8fcf-ba5dd7882cbd",
   "metadata": {},
   "outputs": [
    {
     "data": {
      "text/html": [
       "<div>\n",
       "<style scoped>\n",
       "    .dataframe tbody tr th:only-of-type {\n",
       "        vertical-align: middle;\n",
       "    }\n",
       "\n",
       "    .dataframe tbody tr th {\n",
       "        vertical-align: top;\n",
       "    }\n",
       "\n",
       "    .dataframe thead th {\n",
       "        text-align: right;\n",
       "    }\n",
       "</style>\n",
       "<table border=\"1\" class=\"dataframe\">\n",
       "  <thead>\n",
       "    <tr style=\"text-align: right;\">\n",
       "      <th></th>\n",
       "      <th>NUMERO_INCIDENTE</th>\n",
       "      <th>FECHA_INICIO_DESPLAZAMIENTO_MOVIL</th>\n",
       "      <th>CODIGO_LOCALIDAD</th>\n",
       "      <th>LOCALIDAD</th>\n",
       "      <th>EDAD</th>\n",
       "      <th>UNIDAD</th>\n",
       "      <th>GENERO</th>\n",
       "      <th>RED</th>\n",
       "      <th>TIPO_INCIDENTE</th>\n",
       "      <th>PRIORIDAD</th>\n",
       "    </tr>\n",
       "  </thead>\n",
       "  <tbody>\n",
       "    <tr>\n",
       "      <th>0</th>\n",
       "      <td>538006196</td>\n",
       "      <td>2019-09-01 00:05:32</td>\n",
       "      <td>18</td>\n",
       "      <td>Rafael Uribe Uribe</td>\n",
       "      <td>53</td>\n",
       "      <td>Años</td>\n",
       "      <td>MASCULINO</td>\n",
       "      <td>Sur</td>\n",
       "      <td>ACCIDENTE DE TRÁNSITO CON HERIDOS/MUERTOS</td>\n",
       "      <td>ALTA</td>\n",
       "    </tr>\n",
       "    <tr>\n",
       "      <th>1</th>\n",
       "      <td>538024196</td>\n",
       "      <td>2019-09-01 00:12:07</td>\n",
       "      <td>11</td>\n",
       "      <td>Suba</td>\n",
       "      <td>0</td>\n",
       "      <td>NaN</td>\n",
       "      <td>SIN_DATO</td>\n",
       "      <td>Norte</td>\n",
       "      <td>ACCIDENTE DE TRÁNSITO CON HERIDOS/MUERTOS</td>\n",
       "      <td>ALTA</td>\n",
       "    </tr>\n",
       "    <tr>\n",
       "      <th>2</th>\n",
       "      <td>538031196</td>\n",
       "      <td>2019-09-01 00:05:39</td>\n",
       "      <td>8</td>\n",
       "      <td>Kennedy</td>\n",
       "      <td>26</td>\n",
       "      <td>Años</td>\n",
       "      <td>MASCULINO</td>\n",
       "      <td>Norte</td>\n",
       "      <td>ACCIDENTE DE TRÁNSITO CON HERIDOS/MUERTOS</td>\n",
       "      <td>ALTA</td>\n",
       "    </tr>\n",
       "    <tr>\n",
       "      <th>3</th>\n",
       "      <td>538084196</td>\n",
       "      <td>2019-09-01 00:13:39</td>\n",
       "      <td>11</td>\n",
       "      <td>Suba</td>\n",
       "      <td>24</td>\n",
       "      <td>Años</td>\n",
       "      <td>MASCULINO</td>\n",
       "      <td>Norte</td>\n",
       "      <td>ACCIDENTE DE TRÁNSITO CON HERIDOS/MUERTOS</td>\n",
       "      <td>ALTA</td>\n",
       "    </tr>\n",
       "    <tr>\n",
       "      <th>4</th>\n",
       "      <td>538123196</td>\n",
       "      <td>2019-09-01 00:20:31</td>\n",
       "      <td>2</td>\n",
       "      <td>Chapinero</td>\n",
       "      <td>0</td>\n",
       "      <td>NaN</td>\n",
       "      <td>SIN_DATO</td>\n",
       "      <td>Norte</td>\n",
       "      <td>INCONSCIENTE/PARO CARDIORRESPIRATORIO</td>\n",
       "      <td>ALTA</td>\n",
       "    </tr>\n",
       "  </tbody>\n",
       "</table>\n",
       "</div>"
      ],
      "text/plain": [
       "   NUMERO_INCIDENTE FECHA_INICIO_DESPLAZAMIENTO_MOVIL  CODIGO_LOCALIDAD  \\\n",
       "0         538006196               2019-09-01 00:05:32                18   \n",
       "1         538024196               2019-09-01 00:12:07                11   \n",
       "2         538031196               2019-09-01 00:05:39                 8   \n",
       "3         538084196               2019-09-01 00:13:39                11   \n",
       "4         538123196               2019-09-01 00:20:31                 2   \n",
       "\n",
       "            LOCALIDAD  EDAD UNIDAD     GENERO    RED  \\\n",
       "0  Rafael Uribe Uribe    53   Años  MASCULINO    Sur   \n",
       "1                Suba     0    NaN   SIN_DATO  Norte   \n",
       "2             Kennedy    26   Años  MASCULINO  Norte   \n",
       "3                Suba    24   Años  MASCULINO  Norte   \n",
       "4           Chapinero     0    NaN   SIN_DATO  Norte   \n",
       "\n",
       "                              TIPO_INCIDENTE PRIORIDAD  \n",
       "0  ACCIDENTE DE TRÁNSITO CON HERIDOS/MUERTOS      ALTA  \n",
       "1  ACCIDENTE DE TRÁNSITO CON HERIDOS/MUERTOS      ALTA  \n",
       "2  ACCIDENTE DE TRÁNSITO CON HERIDOS/MUERTOS      ALTA  \n",
       "3  ACCIDENTE DE TRÁNSITO CON HERIDOS/MUERTOS      ALTA  \n",
       "4     INCONSCIENTE/PARO CARDIORRESPIRATORIO       ALTA  "
      ]
     },
     "execution_count": 39,
     "metadata": {},
     "output_type": "execute_result"
    }
   ],
   "source": [
    "raw_data.head()"
   ]
  },
  {
   "cell_type": "code",
   "execution_count": 40,
   "id": "9affe265-0923-4001-8c33-35ce217f39c3",
   "metadata": {},
   "outputs": [
    {
     "data": {
      "text/plain": [
       "SIN_DATO     7632\n",
       "MASCULINO    5082\n",
       "FEMENINO     4304\n",
       "Name: GENERO, dtype: int64"
      ]
     },
     "execution_count": 40,
     "metadata": {},
     "output_type": "execute_result"
    }
   ],
   "source": [
    "col = 'GENERO'\n",
    "raw_data[col] = raw_data[col].apply(lambda x: x.strip())\n",
    "raw_data[col].value_counts(dropna=False)"
   ]
  },
  {
   "cell_type": "code",
   "execution_count": 41,
   "id": "634bd65b-dcd6-46b0-84dc-156cb220e98e",
   "metadata": {},
   "outputs": [
    {
     "data": {
      "text/plain": [
       "ACCIDENTE DE TRÁNSITO CON HERIDOS/MUERTOS    6333\n",
       "INCONSCIENTE/PARO CARDIORRESPIRATORIO        1720\n",
       "DIFICULTAD RESPIRATORIA                      1386\n",
       "ENFERMO                                      1137\n",
       "CONVULSIONES                                 1039\n",
       "HERIDOS                                       834\n",
       "INTENTO DE SUICIDIO                           653\n",
       "DOLOR TORÁCICO                                629\n",
       "TRASTORNO MENTAL                              621\n",
       "LESIONES PERSONALES                           593\n",
       "PATOLOGÍA GINECO - OBSTÉTRICA                 421\n",
       "SÍNTOMAS GASTROINTESTINALES                   360\n",
       "ACCIDENTE CEREBRO VASCULAR                    352\n",
       "CAÍDA                                         334\n",
       "INTOXICACIONES                                156\n",
       "IDEAS DE SUICIDIO                             113\n",
       "VIOLENCIA SEXUAL                               48\n",
       "INCENDIO ESTRUCTURAL                           40\n",
       "SIN_DATO                                       32\n",
       "SANGRADO VAGINAL                               25\n",
       "ACCIDENTE TRÁNSITO SIMPLE                      23\n",
       "RESCATES                                       20\n",
       "MUERTE NATURAL                                 18\n",
       "ELEMENTO CAÍDO Y/O EN PELIGRO DE CAER.         16\n",
       "SOLICITUD APOYO / DESACATO                     15\n",
       "RIÑA                                           13\n",
       "EXPLOSIÓN                                      10\n",
       "ABRIR DOMICILIO                                 8\n",
       "QUEMADURAS                                      8\n",
       "FUGA DE GAS NATURAL O PROPANO                   6\n",
       "MALTRATO                                        6\n",
       "ANIMAL PELIGROSO                                5\n",
       "ELECTROCUCIÓN / RESCATE                         5\n",
       "PERSONA PIDIENDO AUXILIO                        5\n",
       "MANIFESTACIÓN / MOTÍN                           4\n",
       "INCIDENTE RESCATE ACUÁTICO                      4\n",
       "INCENDIO VEHICULAR                              3\n",
       "EMBRIAGUEZ                                      3\n",
       "ATRACO / HURTO EN PROCES                        3\n",
       "INCENDIO                                        2\n",
       "INUNDACIÓN                                      2\n",
       "PERSONA TENDIDA EN LA VÍA                       2\n",
       "DAÑOS EN SERVICIOS                              2\n",
       "MUERTO                                          2\n",
       "VERIFICAR SITUACIÓN                             1\n",
       "RESCATES MONTAÑA                                1\n",
       "HABITANTE DE LA CALLE                           1\n",
       "PREVENCIÓN                                      1\n",
       "INCENDIO FORESTAL                               1\n",
       "DESLIZAMIENTO                                   1\n",
       "DELINCUENTE CAPTURADO POR CIVIL                 1\n",
       "Name: TIPO_INCIDENTE, dtype: int64"
      ]
     },
     "execution_count": 41,
     "metadata": {},
     "output_type": "execute_result"
    }
   ],
   "source": [
    "col = 'TIPO_INCIDENTE'\n",
    "raw_data[col] = raw_data[col].apply(lambda x: x.strip())\n",
    "raw_data[col].value_counts(dropna=False)"
   ]
  },
  {
   "cell_type": "code",
   "execution_count": 42,
   "id": "648f9e0b-b928-4043-971f-7aa1673f3027",
   "metadata": {},
   "outputs": [
    {
     "data": {
      "text/plain": [
       "Años     9311\n",
       "NaN      7647\n",
       "Meses      42\n",
       "Dias       10\n",
       "Horas       8\n",
       "Name: UNIDAD, dtype: int64"
      ]
     },
     "execution_count": 42,
     "metadata": {},
     "output_type": "execute_result"
    }
   ],
   "source": [
    "col = 'UNIDAD'\n",
    "# raw_data[col] = raw_data[col].apply(lambda x: x.strip())\n",
    "raw_data[col].value_counts(dropna=False)"
   ]
  },
  {
   "cell_type": "code",
   "execution_count": 43,
   "id": "ce9d4eb4-367f-4f29-9e26-c51628f527ee",
   "metadata": {},
   "outputs": [
    {
     "data": {
      "text/plain": [
       "Años        9311\n",
       "SIN_DATO    7647\n",
       "Meses         42\n",
       "Dias          10\n",
       "Horas          8\n",
       "Name: UNIDAD, dtype: int64"
      ]
     },
     "execution_count": 43,
     "metadata": {},
     "output_type": "execute_result"
    }
   ],
   "source": [
    "raw_data[col].fillna('SIN_DATO').value_counts()"
   ]
  },
  {
   "cell_type": "code",
   "execution_count": 44,
   "id": "ebbcc1d3-0572-48c4-ae25-88668ff8ab80",
   "metadata": {},
   "outputs": [
    {
     "data": {
      "text/html": [
       "<div>\n",
       "<style scoped>\n",
       "    .dataframe tbody tr th:only-of-type {\n",
       "        vertical-align: middle;\n",
       "    }\n",
       "\n",
       "    .dataframe tbody tr th {\n",
       "        vertical-align: top;\n",
       "    }\n",
       "\n",
       "    .dataframe thead th {\n",
       "        text-align: right;\n",
       "    }\n",
       "</style>\n",
       "<table border=\"1\" class=\"dataframe\">\n",
       "  <thead>\n",
       "    <tr style=\"text-align: right;\">\n",
       "      <th></th>\n",
       "      <th>NUMERO_INCIDENTE</th>\n",
       "      <th>FECHA_INICIO_DESPLAZAMIENTO_MOVIL</th>\n",
       "      <th>CODIGO_LOCALIDAD</th>\n",
       "      <th>LOCALIDAD</th>\n",
       "      <th>EDAD</th>\n",
       "      <th>UNIDAD</th>\n",
       "      <th>GENERO</th>\n",
       "      <th>RED</th>\n",
       "      <th>TIPO_INCIDENTE</th>\n",
       "      <th>PRIORIDAD</th>\n",
       "    </tr>\n",
       "  </thead>\n",
       "  <tbody>\n",
       "    <tr>\n",
       "      <th>0</th>\n",
       "      <td>538006196</td>\n",
       "      <td>2019-09-01 00:05:32</td>\n",
       "      <td>18</td>\n",
       "      <td>Rafael Uribe Uribe</td>\n",
       "      <td>53</td>\n",
       "      <td>Años</td>\n",
       "      <td>MASCULINO</td>\n",
       "      <td>Sur</td>\n",
       "      <td>ACCIDENTE DE TRÁNSITO CON HERIDOS/MUERTOS</td>\n",
       "      <td>ALTA</td>\n",
       "    </tr>\n",
       "    <tr>\n",
       "      <th>1</th>\n",
       "      <td>538024196</td>\n",
       "      <td>2019-09-01 00:12:07</td>\n",
       "      <td>11</td>\n",
       "      <td>Suba</td>\n",
       "      <td>0</td>\n",
       "      <td>SIN_DATO</td>\n",
       "      <td>SIN_DATO</td>\n",
       "      <td>Norte</td>\n",
       "      <td>ACCIDENTE DE TRÁNSITO CON HERIDOS/MUERTOS</td>\n",
       "      <td>ALTA</td>\n",
       "    </tr>\n",
       "    <tr>\n",
       "      <th>2</th>\n",
       "      <td>538031196</td>\n",
       "      <td>2019-09-01 00:05:39</td>\n",
       "      <td>8</td>\n",
       "      <td>Kennedy</td>\n",
       "      <td>26</td>\n",
       "      <td>Años</td>\n",
       "      <td>MASCULINO</td>\n",
       "      <td>Norte</td>\n",
       "      <td>ACCIDENTE DE TRÁNSITO CON HERIDOS/MUERTOS</td>\n",
       "      <td>ALTA</td>\n",
       "    </tr>\n",
       "    <tr>\n",
       "      <th>3</th>\n",
       "      <td>538084196</td>\n",
       "      <td>2019-09-01 00:13:39</td>\n",
       "      <td>11</td>\n",
       "      <td>Suba</td>\n",
       "      <td>24</td>\n",
       "      <td>Años</td>\n",
       "      <td>MASCULINO</td>\n",
       "      <td>Norte</td>\n",
       "      <td>ACCIDENTE DE TRÁNSITO CON HERIDOS/MUERTOS</td>\n",
       "      <td>ALTA</td>\n",
       "    </tr>\n",
       "    <tr>\n",
       "      <th>4</th>\n",
       "      <td>538123196</td>\n",
       "      <td>2019-09-01 00:20:31</td>\n",
       "      <td>2</td>\n",
       "      <td>Chapinero</td>\n",
       "      <td>0</td>\n",
       "      <td>SIN_DATO</td>\n",
       "      <td>SIN_DATO</td>\n",
       "      <td>Norte</td>\n",
       "      <td>INCONSCIENTE/PARO CARDIORRESPIRATORIO</td>\n",
       "      <td>ALTA</td>\n",
       "    </tr>\n",
       "  </tbody>\n",
       "</table>\n",
       "</div>"
      ],
      "text/plain": [
       "   NUMERO_INCIDENTE FECHA_INICIO_DESPLAZAMIENTO_MOVIL  CODIGO_LOCALIDAD  \\\n",
       "0         538006196               2019-09-01 00:05:32                18   \n",
       "1         538024196               2019-09-01 00:12:07                11   \n",
       "2         538031196               2019-09-01 00:05:39                 8   \n",
       "3         538084196               2019-09-01 00:13:39                11   \n",
       "4         538123196               2019-09-01 00:20:31                 2   \n",
       "\n",
       "            LOCALIDAD  EDAD    UNIDAD     GENERO    RED  \\\n",
       "0  Rafael Uribe Uribe    53      Años  MASCULINO    Sur   \n",
       "1                Suba     0  SIN_DATO   SIN_DATO  Norte   \n",
       "2             Kennedy    26      Años  MASCULINO  Norte   \n",
       "3                Suba    24      Años  MASCULINO  Norte   \n",
       "4           Chapinero     0  SIN_DATO   SIN_DATO  Norte   \n",
       "\n",
       "                              TIPO_INCIDENTE PRIORIDAD  \n",
       "0  ACCIDENTE DE TRÁNSITO CON HERIDOS/MUERTOS      ALTA  \n",
       "1  ACCIDENTE DE TRÁNSITO CON HERIDOS/MUERTOS      ALTA  \n",
       "2  ACCIDENTE DE TRÁNSITO CON HERIDOS/MUERTOS      ALTA  \n",
       "3  ACCIDENTE DE TRÁNSITO CON HERIDOS/MUERTOS      ALTA  \n",
       "4      INCONSCIENTE/PARO CARDIORRESPIRATORIO      ALTA  "
      ]
     },
     "execution_count": 44,
     "metadata": {},
     "output_type": "execute_result"
    }
   ],
   "source": [
    "col = 'UNIDAD'\n",
    "raw_data[col].fillna('SIN_DATO', inplace=True)\n",
    "raw_data[col] = raw_data[col].apply(lambda x: x.strip())\n",
    "raw_data.head()"
   ]
  },
  {
   "cell_type": "code",
   "execution_count": 45,
   "id": "9603c561-2a23-4408-be53-8223956d53bb",
   "metadata": {},
   "outputs": [
    {
     "data": {
      "text/plain": [
       "2019-09-18 05:09:15    9\n",
       "2019-09-06 14:47:18    8\n",
       "2019-09-07 18:29:25    7\n",
       "2019-09-26 15:06:05    7\n",
       "2019-09-06 07:53:53    6\n",
       "                      ..\n",
       "2019-09-11 10:10:04    1\n",
       "2019-09-11 10:19:54    1\n",
       "2019-09-11 10:34:31    1\n",
       "2019-09-11 10:24:38    1\n",
       "2019-09-30 23:50:06    1\n",
       "Name: FECHA_INICIO_DESPLAZAMIENTO_MOVIL, Length: 15925, dtype: int64"
      ]
     },
     "execution_count": 45,
     "metadata": {},
     "output_type": "execute_result"
    }
   ],
   "source": [
    "col = 'FECHA_INICIO_DESPLAZAMIENTO_MOVIL'\n",
    "raw_data[col] = raw_data[col].apply(lambda x: x.strip())\n",
    "raw_data[col].value_counts(dropna=False)"
   ]
  },
  {
   "cell_type": "code",
   "execution_count": 46,
   "id": "9f28f3eb-1192-412f-b38d-b9aa32362ead",
   "metadata": {},
   "outputs": [
    {
     "data": {
      "application/vnd.jupyter.widget-view+json": {
       "model_id": "d7006a34eece4b8ea30f279dc36e9b8a",
       "version_major": 2,
       "version_minor": 0
      },
      "text/plain": [
       "Summarize dataset:   0%|          | 0/5 [00:00<?, ?it/s]"
      ]
     },
     "metadata": {},
     "output_type": "display_data"
    },
    {
     "data": {
      "application/vnd.jupyter.widget-view+json": {
       "model_id": "3372022611194953a9b43db654cc946d",
       "version_major": 2,
       "version_minor": 0
      },
      "text/plain": [
       "Generate report structure:   0%|          | 0/1 [00:00<?, ?it/s]"
      ]
     },
     "metadata": {},
     "output_type": "display_data"
    },
    {
     "data": {
      "application/vnd.jupyter.widget-view+json": {
       "model_id": "02cf7651a176402bb4d73cab37c0ec10",
       "version_major": 2,
       "version_minor": 0
      },
      "text/plain": [
       "Render HTML:   0%|          | 0/1 [00:00<?, ?it/s]"
      ]
     },
     "metadata": {},
     "output_type": "display_data"
    },
    {
     "data": {
      "application/vnd.jupyter.widget-view+json": {
       "model_id": "e463182c1a0d48189321d4faef0d12b2",
       "version_major": 2,
       "version_minor": 0
      },
      "text/plain": [
       "Export report to file:   0%|          | 0/1 [00:00<?, ?it/s]"
      ]
     },
     "metadata": {},
     "output_type": "display_data"
    }
   ],
   "source": [
    "profile = ProfileReport(df=raw_data)\n",
    "profile.to_file(output_file=project_dir + '/reports/'+'profile_raw_data_septiembre_2019.html')"
   ]
  },
  {
   "cell_type": "code",
   "execution_count": 47,
   "id": "e81ca468-6ec1-402b-89e1-f64ee1f06c49",
   "metadata": {},
   "outputs": [
    {
     "name": "stdout",
     "output_type": "stream",
     "text": [
      "Number of rows before cleaning: 17018\n",
      "Number of rows after cleaning: 16267\n"
     ]
    }
   ],
   "source": [
    "print('Number of rows before cleaning:', raw_data.shape[0] )\n",
    "raw_data.drop_duplicates(inplace=True)\n",
    "print('Number of rows after cleaning:', raw_data.shape[0] )"
   ]
  },
  {
   "cell_type": "code",
   "execution_count": 48,
   "id": "c3e2d157-5b36-40d2-ab4b-094f15b6eca9",
   "metadata": {},
   "outputs": [],
   "source": [
    "# saving in a local directory\n",
    "raw_data.to_csv(project_dir + '/data/processed/' +'clean_llamadas_123_septiembre_2019.csv', encoding='latin1', sep=';', index=False)"
   ]
  },
  {
   "cell_type": "markdown",
   "id": "7ddba306-eefe-4a5e-b94a-65173be72848",
   "metadata": {},
   "source": [
    "**OCTUBRE 2019"
   ]
  },
  {
   "cell_type": "code",
   "execution_count": 49,
   "id": "2f3bde15-e688-467b-9030-1ceaf8fa1141",
   "metadata": {},
   "outputs": [
    {
     "name": "stdout",
     "output_type": "stream",
     "text": [
      "<class 'pandas.core.frame.DataFrame'>\n",
      "RangeIndex: 18195 entries, 0 to 18194\n",
      "Data columns (total 10 columns):\n",
      " #   Column               Non-Null Count  Dtype \n",
      "---  ------               --------------  ----- \n",
      " 0   NUMERO_INCIDENTE     18195 non-null  int64 \n",
      " 1   FECHA_DESPACHO_518   18195 non-null  object\n",
      " 2   CODIGO DE LOCALIDAD  18195 non-null  int64 \n",
      " 3   LOCALIDAD            18195 non-null  object\n",
      " 4   EDAD                 18195 non-null  object\n",
      " 5   UNIDAD               9503 non-null   object\n",
      " 6   GENERO               9543 non-null   object\n",
      " 7   RED                  18195 non-null  object\n",
      " 8   TIPO_INCIDENTE       18195 non-null  object\n",
      " 9   PRIORIDAD            18195 non-null  object\n",
      "dtypes: int64(2), object(8)\n",
      "memory usage: 1.4+ MB\n",
      "None\n"
     ]
    }
   ],
   "source": [
    "raw_data = get_input_data(filename = 'datos-abiertos-octubre-2019.csv')\n",
    "print(raw_data.info())"
   ]
  },
  {
   "cell_type": "code",
   "execution_count": 50,
   "id": "6c11083d-da1f-4beb-99d5-5870f27ef795",
   "metadata": {},
   "outputs": [
    {
     "data": {
      "text/html": [
       "<div>\n",
       "<style scoped>\n",
       "    .dataframe tbody tr th:only-of-type {\n",
       "        vertical-align: middle;\n",
       "    }\n",
       "\n",
       "    .dataframe tbody tr th {\n",
       "        vertical-align: top;\n",
       "    }\n",
       "\n",
       "    .dataframe thead th {\n",
       "        text-align: right;\n",
       "    }\n",
       "</style>\n",
       "<table border=\"1\" class=\"dataframe\">\n",
       "  <thead>\n",
       "    <tr style=\"text-align: right;\">\n",
       "      <th></th>\n",
       "      <th>NUMERO_INCIDENTE</th>\n",
       "      <th>FECHA_DESPACHO</th>\n",
       "      <th>CODIGO_LOCALIDAD</th>\n",
       "      <th>LOCALIDAD</th>\n",
       "      <th>EDAD</th>\n",
       "      <th>UNIDAD</th>\n",
       "      <th>GENERO</th>\n",
       "      <th>RED</th>\n",
       "      <th>TIPO_INCIDENTE</th>\n",
       "      <th>PRIORIDAD</th>\n",
       "    </tr>\n",
       "  </thead>\n",
       "  <tbody>\n",
       "    <tr>\n",
       "      <th>0</th>\n",
       "      <td>868419196</td>\n",
       "      <td>2019-10-01 00:06:29</td>\n",
       "      <td>9</td>\n",
       "      <td>Fontibon</td>\n",
       "      <td>SIN_DATO</td>\n",
       "      <td>NaN</td>\n",
       "      <td>NaN</td>\n",
       "      <td>Norte</td>\n",
       "      <td>Dolor torácico</td>\n",
       "      <td>ALTA</td>\n",
       "    </tr>\n",
       "    <tr>\n",
       "      <th>1</th>\n",
       "      <td>868421196</td>\n",
       "      <td>2019-10-01 00:19:40</td>\n",
       "      <td>10</td>\n",
       "      <td>Engativa</td>\n",
       "      <td>67</td>\n",
       "      <td>Años</td>\n",
       "      <td>MASCULINO</td>\n",
       "      <td>Norte</td>\n",
       "      <td>Heridos</td>\n",
       "      <td>ALTA</td>\n",
       "    </tr>\n",
       "    <tr>\n",
       "      <th>2</th>\n",
       "      <td>868438196</td>\n",
       "      <td>2019-10-01 00:13:20</td>\n",
       "      <td>4</td>\n",
       "      <td>San Cristobal</td>\n",
       "      <td>SIN_DATO</td>\n",
       "      <td>NaN</td>\n",
       "      <td>NaN</td>\n",
       "      <td>Sur</td>\n",
       "      <td>Inconsciente/Paro Cardiorrespiratorio</td>\n",
       "      <td>ALTA</td>\n",
       "    </tr>\n",
       "    <tr>\n",
       "      <th>3</th>\n",
       "      <td>944374194</td>\n",
       "      <td>2019-10-01 05:30:23</td>\n",
       "      <td>16</td>\n",
       "      <td>Puente Aranda</td>\n",
       "      <td>SIN_DATO</td>\n",
       "      <td>NaN</td>\n",
       "      <td>NaN</td>\n",
       "      <td>Privada</td>\n",
       "      <td>Convulsiones</td>\n",
       "      <td>ALTA</td>\n",
       "    </tr>\n",
       "    <tr>\n",
       "      <th>4</th>\n",
       "      <td>868476196</td>\n",
       "      <td>2019-10-01 00:42:45</td>\n",
       "      <td>5</td>\n",
       "      <td>Usme</td>\n",
       "      <td>5</td>\n",
       "      <td>Años</td>\n",
       "      <td>FEMENINO</td>\n",
       "      <td>Sur</td>\n",
       "      <td>Dificultad Respiratoria</td>\n",
       "      <td>ALTA</td>\n",
       "    </tr>\n",
       "    <tr>\n",
       "      <th>5</th>\n",
       "      <td>868486196</td>\n",
       "      <td>2019-10-01 00:32:35</td>\n",
       "      <td>8</td>\n",
       "      <td>Kennedy</td>\n",
       "      <td>SIN_DATO</td>\n",
       "      <td>NaN</td>\n",
       "      <td>NaN</td>\n",
       "      <td>Norte</td>\n",
       "      <td>Lesiones personales</td>\n",
       "      <td>ALTA</td>\n",
       "    </tr>\n",
       "    <tr>\n",
       "      <th>6</th>\n",
       "      <td>868496196</td>\n",
       "      <td>2019-10-01 00:44:52</td>\n",
       "      <td>8</td>\n",
       "      <td>Kennedy</td>\n",
       "      <td>22</td>\n",
       "      <td>Años</td>\n",
       "      <td>MASCULINO</td>\n",
       "      <td>Norte</td>\n",
       "      <td>Convulsiones</td>\n",
       "      <td>ALTA</td>\n",
       "    </tr>\n",
       "    <tr>\n",
       "      <th>7</th>\n",
       "      <td>868557196</td>\n",
       "      <td>2019-10-01 00:53:04</td>\n",
       "      <td>8</td>\n",
       "      <td>Kennedy</td>\n",
       "      <td>33</td>\n",
       "      <td>Años</td>\n",
       "      <td>MASCULINO</td>\n",
       "      <td>Norte</td>\n",
       "      <td>Intento de suicidio</td>\n",
       "      <td>BAJA</td>\n",
       "    </tr>\n",
       "    <tr>\n",
       "      <th>8</th>\n",
       "      <td>944403194</td>\n",
       "      <td>2019-10-01 05:45:44</td>\n",
       "      <td>16</td>\n",
       "      <td>Puente Aranda</td>\n",
       "      <td>46</td>\n",
       "      <td>Años</td>\n",
       "      <td>FEMENINO</td>\n",
       "      <td>Privada</td>\n",
       "      <td>Accidente de tránsito con heridos/Muertos</td>\n",
       "      <td>ALTA</td>\n",
       "    </tr>\n",
       "    <tr>\n",
       "      <th>9</th>\n",
       "      <td>954033194</td>\n",
       "      <td>2019-10-01 23:04:50</td>\n",
       "      <td>4</td>\n",
       "      <td>San Cristobal</td>\n",
       "      <td>SIN_DATO</td>\n",
       "      <td>NaN</td>\n",
       "      <td>NaN</td>\n",
       "      <td>Sur</td>\n",
       "      <td>Caída</td>\n",
       "      <td>ALTA</td>\n",
       "    </tr>\n",
       "  </tbody>\n",
       "</table>\n",
       "</div>"
      ],
      "text/plain": [
       "   NUMERO_INCIDENTE       FECHA_DESPACHO  CODIGO_LOCALIDAD       LOCALIDAD  \\\n",
       "0         868419196  2019-10-01 00:06:29                 9        Fontibon   \n",
       "1         868421196  2019-10-01 00:19:40                10        Engativa   \n",
       "2         868438196  2019-10-01 00:13:20                 4   San Cristobal   \n",
       "3         944374194  2019-10-01 05:30:23                16   Puente Aranda   \n",
       "4         868476196  2019-10-01 00:42:45                 5            Usme   \n",
       "5         868486196  2019-10-01 00:32:35                 8         Kennedy   \n",
       "6         868496196  2019-10-01 00:44:52                 8         Kennedy   \n",
       "7         868557196  2019-10-01 00:53:04                 8         Kennedy   \n",
       "8         944403194  2019-10-01 05:45:44                16   Puente Aranda   \n",
       "9         954033194  2019-10-01 23:04:50                 4   San Cristobal   \n",
       "\n",
       "       EDAD UNIDAD     GENERO      RED  \\\n",
       "0  SIN_DATO    NaN        NaN    Norte   \n",
       "1        67   Años  MASCULINO    Norte   \n",
       "2  SIN_DATO    NaN        NaN      Sur   \n",
       "3  SIN_DATO    NaN        NaN  Privada   \n",
       "4         5   Años   FEMENINO      Sur   \n",
       "5  SIN_DATO    NaN        NaN    Norte   \n",
       "6        22   Años  MASCULINO    Norte   \n",
       "7        33   Años  MASCULINO    Norte   \n",
       "8        46   Años   FEMENINO  Privada   \n",
       "9  SIN_DATO    NaN        NaN      Sur   \n",
       "\n",
       "                              TIPO_INCIDENTE PRIORIDAD  \n",
       "0                             Dolor torácico      ALTA  \n",
       "1                                   Heridos       ALTA  \n",
       "2     Inconsciente/Paro Cardiorrespiratorio       ALTA  \n",
       "3                              Convulsiones       ALTA  \n",
       "4                    Dificultad Respiratoria      ALTA  \n",
       "5                        Lesiones personales      ALTA  \n",
       "6                              Convulsiones       ALTA  \n",
       "7                        Intento de suicidio      BAJA  \n",
       "8  Accidente de tránsito con heridos/Muertos      ALTA  \n",
       "9                                     Caída       ALTA  "
      ]
     },
     "execution_count": 50,
     "metadata": {},
     "output_type": "execute_result"
    }
   ],
   "source": [
    "raw_data.rename(\n",
    "    columns = {\n",
    "        'FECHA_DESPACHO_518'                : 'FECHA_DESPACHO',\n",
    "        'CODIGO DE LOCALIDAD'               : 'CODIGO_LOCALIDAD'\n",
    "    },\n",
    "    inplace=True\n",
    ")\n",
    "raw_data.head(10)"
   ]
  },
  {
   "cell_type": "code",
   "execution_count": 51,
   "id": "16442469-3dc9-4e34-842d-6cd868decd50",
   "metadata": {},
   "outputs": [
    {
     "data": {
      "text/plain": [
       " Kennedy               2546\n",
       " Engativa              1791\n",
       " Suba                  1742\n",
       " Bosa                  1334\n",
       " Ciudad Bolivar        1141\n",
       " Puente Aranda          989\n",
       " Rafael Uribe Uribe     949\n",
       "Usaquen                 888\n",
       " Fontibon               863\n",
       "San Cristobal           844\n",
       " Chapinero              763\n",
       " Los Martires           697\n",
       " Santa Fe               689\n",
       " Barrios Unidos         680\n",
       " Usme                   609\n",
       " Tunjuelito             589\n",
       " Teusaquillo            536\n",
       " Antonio Nariño         419\n",
       " La Candelaria          120\n",
       " Sumapaz                  6\n",
       "Name: LOCALIDAD, dtype: int64"
      ]
     },
     "execution_count": 51,
     "metadata": {},
     "output_type": "execute_result"
    }
   ],
   "source": [
    "raw_data['LOCALIDAD'].value_counts(dropna=False)"
   ]
  },
  {
   "cell_type": "code",
   "execution_count": 52,
   "id": "95b5818e-e1c9-4d2b-89b8-fdf8c573237f",
   "metadata": {},
   "outputs": [
    {
     "data": {
      "text/plain": [
       "Kennedy               2546\n",
       "Engativa              1791\n",
       "Suba                  1742\n",
       "Bosa                  1334\n",
       "Ciudad Bolivar        1141\n",
       "Puente Aranda          989\n",
       "Rafael Uribe Uribe     949\n",
       "Usaquen                888\n",
       "Fontibon               863\n",
       "San Cristobal          844\n",
       "Chapinero              763\n",
       "Los Martires           697\n",
       "Santa Fe               689\n",
       "Barrios Unidos         680\n",
       "Usme                   609\n",
       "Tunjuelito             589\n",
       "Teusaquillo            536\n",
       "Antonio Nariño         419\n",
       "La Candelaria          120\n",
       "Sumapaz                  6\n",
       "Name: LOCALIDAD, dtype: int64"
      ]
     },
     "execution_count": 52,
     "metadata": {},
     "output_type": "execute_result"
    }
   ],
   "source": [
    "raw_data['LOCALIDAD'].apply(\n",
    "    lambda x: x.strip()        # here we use a lambda function, exclusively for python. Is a one-line function\n",
    ").value_counts()"
   ]
  },
  {
   "cell_type": "code",
   "execution_count": 53,
   "id": "e1c0ff27-9a3a-4f60-b1d5-d3243a70687b",
   "metadata": {},
   "outputs": [],
   "source": [
    "raw_data['LOCALIDAD'] = raw_data['LOCALIDAD'].apply(lambda x: x.strip()) # we assign the output of the function apply to the same column"
   ]
  },
  {
   "cell_type": "code",
   "execution_count": 54,
   "id": "ce33414e-43ca-470d-9f42-0905e8df2b51",
   "metadata": {},
   "outputs": [
    {
     "data": {
      "text/html": [
       "<div>\n",
       "<style scoped>\n",
       "    .dataframe tbody tr th:only-of-type {\n",
       "        vertical-align: middle;\n",
       "    }\n",
       "\n",
       "    .dataframe tbody tr th {\n",
       "        vertical-align: top;\n",
       "    }\n",
       "\n",
       "    .dataframe thead th {\n",
       "        text-align: right;\n",
       "    }\n",
       "</style>\n",
       "<table border=\"1\" class=\"dataframe\">\n",
       "  <thead>\n",
       "    <tr style=\"text-align: right;\">\n",
       "      <th></th>\n",
       "      <th>NUMERO_INCIDENTE</th>\n",
       "      <th>FECHA_DESPACHO</th>\n",
       "      <th>CODIGO_LOCALIDAD</th>\n",
       "      <th>LOCALIDAD</th>\n",
       "      <th>EDAD</th>\n",
       "      <th>UNIDAD</th>\n",
       "      <th>GENERO</th>\n",
       "      <th>RED</th>\n",
       "      <th>TIPO_INCIDENTE</th>\n",
       "      <th>PRIORIDAD</th>\n",
       "    </tr>\n",
       "  </thead>\n",
       "  <tbody>\n",
       "    <tr>\n",
       "      <th>0</th>\n",
       "      <td>868419196</td>\n",
       "      <td>2019-10-01 00:06:29</td>\n",
       "      <td>9</td>\n",
       "      <td>Fontibon</td>\n",
       "      <td>SIN_DATO</td>\n",
       "      <td>NaN</td>\n",
       "      <td>NaN</td>\n",
       "      <td>Norte</td>\n",
       "      <td>Dolor torácico</td>\n",
       "      <td>ALTA</td>\n",
       "    </tr>\n",
       "    <tr>\n",
       "      <th>1</th>\n",
       "      <td>868421196</td>\n",
       "      <td>2019-10-01 00:19:40</td>\n",
       "      <td>10</td>\n",
       "      <td>Engativa</td>\n",
       "      <td>67</td>\n",
       "      <td>Años</td>\n",
       "      <td>MASCULINO</td>\n",
       "      <td>Norte</td>\n",
       "      <td>Heridos</td>\n",
       "      <td>ALTA</td>\n",
       "    </tr>\n",
       "    <tr>\n",
       "      <th>2</th>\n",
       "      <td>868438196</td>\n",
       "      <td>2019-10-01 00:13:20</td>\n",
       "      <td>4</td>\n",
       "      <td>San Cristobal</td>\n",
       "      <td>SIN_DATO</td>\n",
       "      <td>NaN</td>\n",
       "      <td>NaN</td>\n",
       "      <td>Sur</td>\n",
       "      <td>Inconsciente/Paro Cardiorrespiratorio</td>\n",
       "      <td>ALTA</td>\n",
       "    </tr>\n",
       "    <tr>\n",
       "      <th>3</th>\n",
       "      <td>944374194</td>\n",
       "      <td>2019-10-01 05:30:23</td>\n",
       "      <td>16</td>\n",
       "      <td>Puente Aranda</td>\n",
       "      <td>SIN_DATO</td>\n",
       "      <td>NaN</td>\n",
       "      <td>NaN</td>\n",
       "      <td>Privada</td>\n",
       "      <td>Convulsiones</td>\n",
       "      <td>ALTA</td>\n",
       "    </tr>\n",
       "    <tr>\n",
       "      <th>4</th>\n",
       "      <td>868476196</td>\n",
       "      <td>2019-10-01 00:42:45</td>\n",
       "      <td>5</td>\n",
       "      <td>Usme</td>\n",
       "      <td>5</td>\n",
       "      <td>Años</td>\n",
       "      <td>FEMENINO</td>\n",
       "      <td>Sur</td>\n",
       "      <td>Dificultad Respiratoria</td>\n",
       "      <td>ALTA</td>\n",
       "    </tr>\n",
       "  </tbody>\n",
       "</table>\n",
       "</div>"
      ],
      "text/plain": [
       "   NUMERO_INCIDENTE       FECHA_DESPACHO  CODIGO_LOCALIDAD      LOCALIDAD  \\\n",
       "0         868419196  2019-10-01 00:06:29                 9       Fontibon   \n",
       "1         868421196  2019-10-01 00:19:40                10       Engativa   \n",
       "2         868438196  2019-10-01 00:13:20                 4  San Cristobal   \n",
       "3         944374194  2019-10-01 05:30:23                16  Puente Aranda   \n",
       "4         868476196  2019-10-01 00:42:45                 5           Usme   \n",
       "\n",
       "       EDAD UNIDAD     GENERO      RED  \\\n",
       "0  SIN_DATO    NaN        NaN    Norte   \n",
       "1        67   Años  MASCULINO    Norte   \n",
       "2  SIN_DATO    NaN        NaN      Sur   \n",
       "3  SIN_DATO    NaN        NaN  Privada   \n",
       "4         5   Años   FEMENINO      Sur   \n",
       "\n",
       "                           TIPO_INCIDENTE PRIORIDAD  \n",
       "0                          Dolor torácico      ALTA  \n",
       "1                                Heridos       ALTA  \n",
       "2  Inconsciente/Paro Cardiorrespiratorio       ALTA  \n",
       "3                           Convulsiones       ALTA  \n",
       "4                 Dificultad Respiratoria      ALTA  "
      ]
     },
     "execution_count": 54,
     "metadata": {},
     "output_type": "execute_result"
    }
   ],
   "source": [
    "raw_data.head()"
   ]
  },
  {
   "cell_type": "code",
   "execution_count": 55,
   "id": "0bdc32aa-fb7c-4d1f-981a-b8106b6313d8",
   "metadata": {},
   "outputs": [
    {
     "data": {
      "text/plain": [
       "Accidente de tránsito con heridos/Muertos    6778\n",
       "Inconsciente/Paro Cardiorrespiratorio        1768\n",
       "Dificultad Respiratoria                      1497\n",
       "Enfermo                                      1276\n",
       "Convulsiones                                 1130\n",
       "Heridos                                       828\n",
       "Dolor torácico                                735\n",
       "Intento de suicidio                           668\n",
       "Lesiones personales                           657\n",
       "Trastorno mental                              654\n",
       "Accidente cerebro vascular                    396\n",
       "Patología Gineco - obstétrica                 378\n",
       "Síntomas gastrointestinales                   375\n",
       "Caída                                         322\n",
       "Intoxicaciones                                179\n",
       "Ideas de suicidio                             111\n",
       "SIN_DATO                                       60\n",
       "Incendio estructural                           51\n",
       "Muerte Natural                                 39\n",
       "Violencia Sexual                               32\n",
       "Quemaduras                                     32\n",
       "Solicitud Apoyo / Desacato                     30\n",
       "Electrocución / Rescate                        20\n",
       "Sangrado Vaginal                               20\n",
       "Explosión                                      18\n",
       "Rescates                                       16\n",
       "Riña                                           15\n",
       "Accidente Tránsito Simple                      10\n",
       "Verificar Situación                            10\n",
       "Persona Pidiendo Auxilio                       10\n",
       "Fuga de Gas Natural o Propano                   9\n",
       "Incendio Vehicular                              8\n",
       "Abrir domicilio                                 7\n",
       "Incidente rescate acuático                      7\n",
       "MATPEL (Materiales peligrosos)                  6\n",
       "Atraco / Hurto en Proces                        6\n",
       "Muerto                                          5\n",
       "Maltrato                                        5\n",
       "Menor o persona Abandonada                      4\n",
       "Disparos                                        3\n",
       "Incendio con MATPEL                             3\n",
       "Manifestación / Motín                           3\n",
       "Elemento caído y/o en peligro de caer.          3\n",
       "Prevención                                      2\n",
       "PSICOLOGIA                                      2\n",
       "Vehiculo Hurtado                                2\n",
       "Abejas                                          1\n",
       "Embriaguez                                      1\n",
       "Incendio                                        1\n",
       "Animal Peligroso                                1\n",
       "Extraviados / Desaparecidos                     1\n",
       "Name: TIPO_INCIDENTE, dtype: int64"
      ]
     },
     "execution_count": 55,
     "metadata": {},
     "output_type": "execute_result"
    }
   ],
   "source": [
    "col = 'TIPO_INCIDENTE'\n",
    "raw_data[col] = raw_data[col].apply(lambda x: x.strip())\n",
    "raw_data[col].value_counts(dropna=False)"
   ]
  },
  {
   "cell_type": "code",
   "execution_count": 56,
   "id": "c366eca1-0614-4367-aa1c-57bf8c2ced6c",
   "metadata": {},
   "outputs": [
    {
     "ename": "AttributeError",
     "evalue": "'float' object has no attribute 'strip'",
     "output_type": "error",
     "traceback": [
      "\u001b[0;31m---------------------------------------------------------------------------\u001b[0m",
      "\u001b[0;31mAttributeError\u001b[0m                            Traceback (most recent call last)",
      "\u001b[0;32m/tmp/ipykernel_1820/2050667439.py\u001b[0m in \u001b[0;36m<module>\u001b[0;34m\u001b[0m\n\u001b[1;32m      1\u001b[0m \u001b[0mcol\u001b[0m \u001b[0;34m=\u001b[0m \u001b[0;34m'GENERO'\u001b[0m\u001b[0;34m\u001b[0m\u001b[0;34m\u001b[0m\u001b[0m\n\u001b[0;32m----> 2\u001b[0;31m \u001b[0mraw_data\u001b[0m\u001b[0;34m[\u001b[0m\u001b[0mcol\u001b[0m\u001b[0;34m]\u001b[0m \u001b[0;34m=\u001b[0m \u001b[0mraw_data\u001b[0m\u001b[0;34m[\u001b[0m\u001b[0mcol\u001b[0m\u001b[0;34m]\u001b[0m\u001b[0;34m.\u001b[0m\u001b[0mapply\u001b[0m\u001b[0;34m(\u001b[0m\u001b[0;32mlambda\u001b[0m \u001b[0mx\u001b[0m\u001b[0;34m:\u001b[0m \u001b[0mx\u001b[0m\u001b[0;34m.\u001b[0m\u001b[0mstrip\u001b[0m\u001b[0;34m(\u001b[0m\u001b[0;34m)\u001b[0m\u001b[0;34m)\u001b[0m\u001b[0;34m\u001b[0m\u001b[0;34m\u001b[0m\u001b[0m\n\u001b[0m\u001b[1;32m      3\u001b[0m \u001b[0mraw_data\u001b[0m\u001b[0;34m[\u001b[0m\u001b[0mcol\u001b[0m\u001b[0;34m]\u001b[0m\u001b[0;34m.\u001b[0m\u001b[0mvalue_counts\u001b[0m\u001b[0;34m(\u001b[0m\u001b[0mdropna\u001b[0m\u001b[0;34m=\u001b[0m\u001b[0;32mFalse\u001b[0m\u001b[0;34m)\u001b[0m\u001b[0;34m\u001b[0m\u001b[0;34m\u001b[0m\u001b[0m\n",
      "\u001b[0;32m/opt/conda/lib/python3.7/site-packages/pandas/core/series.py\u001b[0m in \u001b[0;36mapply\u001b[0;34m(self, func, convert_dtype, args, **kwargs)\u001b[0m\n\u001b[1;32m   4355\u001b[0m         \u001b[0mdtype\u001b[0m\u001b[0;34m:\u001b[0m \u001b[0mfloat64\u001b[0m\u001b[0;34m\u001b[0m\u001b[0;34m\u001b[0m\u001b[0m\n\u001b[1;32m   4356\u001b[0m         \"\"\"\n\u001b[0;32m-> 4357\u001b[0;31m         \u001b[0;32mreturn\u001b[0m \u001b[0mSeriesApply\u001b[0m\u001b[0;34m(\u001b[0m\u001b[0mself\u001b[0m\u001b[0;34m,\u001b[0m \u001b[0mfunc\u001b[0m\u001b[0;34m,\u001b[0m \u001b[0mconvert_dtype\u001b[0m\u001b[0;34m,\u001b[0m \u001b[0margs\u001b[0m\u001b[0;34m,\u001b[0m \u001b[0mkwargs\u001b[0m\u001b[0;34m)\u001b[0m\u001b[0;34m.\u001b[0m\u001b[0mapply\u001b[0m\u001b[0;34m(\u001b[0m\u001b[0;34m)\u001b[0m\u001b[0;34m\u001b[0m\u001b[0;34m\u001b[0m\u001b[0m\n\u001b[0m\u001b[1;32m   4358\u001b[0m \u001b[0;34m\u001b[0m\u001b[0m\n\u001b[1;32m   4359\u001b[0m     def _reduce(\n",
      "\u001b[0;32m/opt/conda/lib/python3.7/site-packages/pandas/core/apply.py\u001b[0m in \u001b[0;36mapply\u001b[0;34m(self)\u001b[0m\n\u001b[1;32m   1041\u001b[0m             \u001b[0;32mreturn\u001b[0m \u001b[0mself\u001b[0m\u001b[0;34m.\u001b[0m\u001b[0mapply_str\u001b[0m\u001b[0;34m(\u001b[0m\u001b[0;34m)\u001b[0m\u001b[0;34m\u001b[0m\u001b[0;34m\u001b[0m\u001b[0m\n\u001b[1;32m   1042\u001b[0m \u001b[0;34m\u001b[0m\u001b[0m\n\u001b[0;32m-> 1043\u001b[0;31m         \u001b[0;32mreturn\u001b[0m \u001b[0mself\u001b[0m\u001b[0;34m.\u001b[0m\u001b[0mapply_standard\u001b[0m\u001b[0;34m(\u001b[0m\u001b[0;34m)\u001b[0m\u001b[0;34m\u001b[0m\u001b[0;34m\u001b[0m\u001b[0m\n\u001b[0m\u001b[1;32m   1044\u001b[0m \u001b[0;34m\u001b[0m\u001b[0m\n\u001b[1;32m   1045\u001b[0m     \u001b[0;32mdef\u001b[0m \u001b[0magg\u001b[0m\u001b[0;34m(\u001b[0m\u001b[0mself\u001b[0m\u001b[0;34m)\u001b[0m\u001b[0;34m:\u001b[0m\u001b[0;34m\u001b[0m\u001b[0;34m\u001b[0m\u001b[0m\n",
      "\u001b[0;32m/opt/conda/lib/python3.7/site-packages/pandas/core/apply.py\u001b[0m in \u001b[0;36mapply_standard\u001b[0;34m(self)\u001b[0m\n\u001b[1;32m   1099\u001b[0m                     \u001b[0mvalues\u001b[0m\u001b[0;34m,\u001b[0m\u001b[0;34m\u001b[0m\u001b[0;34m\u001b[0m\u001b[0m\n\u001b[1;32m   1100\u001b[0m                     \u001b[0mf\u001b[0m\u001b[0;34m,\u001b[0m  \u001b[0;31m# type: ignore[arg-type]\u001b[0m\u001b[0;34m\u001b[0m\u001b[0;34m\u001b[0m\u001b[0m\n\u001b[0;32m-> 1101\u001b[0;31m                     \u001b[0mconvert\u001b[0m\u001b[0;34m=\u001b[0m\u001b[0mself\u001b[0m\u001b[0;34m.\u001b[0m\u001b[0mconvert_dtype\u001b[0m\u001b[0;34m,\u001b[0m\u001b[0;34m\u001b[0m\u001b[0;34m\u001b[0m\u001b[0m\n\u001b[0m\u001b[1;32m   1102\u001b[0m                 )\n\u001b[1;32m   1103\u001b[0m \u001b[0;34m\u001b[0m\u001b[0m\n",
      "\u001b[0;32m/opt/conda/lib/python3.7/site-packages/pandas/_libs/lib.pyx\u001b[0m in \u001b[0;36mpandas._libs.lib.map_infer\u001b[0;34m()\u001b[0m\n",
      "\u001b[0;32m/tmp/ipykernel_1820/2050667439.py\u001b[0m in \u001b[0;36m<lambda>\u001b[0;34m(x)\u001b[0m\n\u001b[1;32m      1\u001b[0m \u001b[0mcol\u001b[0m \u001b[0;34m=\u001b[0m \u001b[0;34m'GENERO'\u001b[0m\u001b[0;34m\u001b[0m\u001b[0;34m\u001b[0m\u001b[0m\n\u001b[0;32m----> 2\u001b[0;31m \u001b[0mraw_data\u001b[0m\u001b[0;34m[\u001b[0m\u001b[0mcol\u001b[0m\u001b[0;34m]\u001b[0m \u001b[0;34m=\u001b[0m \u001b[0mraw_data\u001b[0m\u001b[0;34m[\u001b[0m\u001b[0mcol\u001b[0m\u001b[0;34m]\u001b[0m\u001b[0;34m.\u001b[0m\u001b[0mapply\u001b[0m\u001b[0;34m(\u001b[0m\u001b[0;32mlambda\u001b[0m \u001b[0mx\u001b[0m\u001b[0;34m:\u001b[0m \u001b[0mx\u001b[0m\u001b[0;34m.\u001b[0m\u001b[0mstrip\u001b[0m\u001b[0;34m(\u001b[0m\u001b[0;34m)\u001b[0m\u001b[0;34m)\u001b[0m\u001b[0;34m\u001b[0m\u001b[0;34m\u001b[0m\u001b[0m\n\u001b[0m\u001b[1;32m      3\u001b[0m \u001b[0mraw_data\u001b[0m\u001b[0;34m[\u001b[0m\u001b[0mcol\u001b[0m\u001b[0;34m]\u001b[0m\u001b[0;34m.\u001b[0m\u001b[0mvalue_counts\u001b[0m\u001b[0;34m(\u001b[0m\u001b[0mdropna\u001b[0m\u001b[0;34m=\u001b[0m\u001b[0;32mFalse\u001b[0m\u001b[0;34m)\u001b[0m\u001b[0;34m\u001b[0m\u001b[0;34m\u001b[0m\u001b[0m\n",
      "\u001b[0;31mAttributeError\u001b[0m: 'float' object has no attribute 'strip'"
     ]
    }
   ],
   "source": [
    "col = 'GENERO'\n",
    "raw_data[col] = raw_data[col].apply(lambda x: x.strip())\n",
    "raw_data[col].value_counts(dropna=False)"
   ]
  },
  {
   "cell_type": "code",
   "execution_count": null,
   "id": "f09ee0ca-48ee-4b99-a5b1-5e2991384c1e",
   "metadata": {},
   "outputs": [],
   "source": [
    "col = 'UNIDAD'\n",
    "# raw_data[col] = raw_data[col].apply(lambda x: x.strip())\n",
    "raw_data[col].value_counts(dropna=False)"
   ]
  },
  {
   "cell_type": "code",
   "execution_count": null,
   "id": "4b74f8b1-0219-4acf-882b-1461f90da38c",
   "metadata": {},
   "outputs": [],
   "source": [
    "raw_data[col].fillna('SIN_DATO').value_counts()"
   ]
  },
  {
   "cell_type": "code",
   "execution_count": null,
   "id": "f8c4c95a-3968-4930-9c4c-f4a89f8d1e28",
   "metadata": {},
   "outputs": [],
   "source": [
    "col = 'UNIDAD'\n",
    "raw_data[col].fillna('SIN_DATO', inplace=True)\n",
    "raw_data[col] = raw_data[col].apply(lambda x: x.strip())\n",
    "raw_data.head()"
   ]
  },
  {
   "cell_type": "code",
   "execution_count": null,
   "id": "79f8b0a2-c19e-4a37-b866-8cdcf9f2dbf8",
   "metadata": {},
   "outputs": [],
   "source": [
    "col = 'FECHA_DESPACHO'\n",
    "raw_data[col] = raw_data[col].apply(lambda x: x.strip())\n",
    "raw_data[col].value_counts(dropna=False)"
   ]
  },
  {
   "cell_type": "code",
   "execution_count": null,
   "id": "fbf27f51-6066-42e7-9682-fce744d0b1e3",
   "metadata": {},
   "outputs": [],
   "source": [
    "profile = ProfileReport(df=raw_data)\n",
    "profile.to_file(output_file=project_dir + '/reports/'+'profile_raw_data_ocutbre_2019.html')"
   ]
  },
  {
   "cell_type": "code",
   "execution_count": null,
   "id": "2446f19d-590d-4a9d-8b27-3722d5e0ece8",
   "metadata": {},
   "outputs": [],
   "source": [
    "print('Number of rows before cleaning:', raw_data.shape[0] )\n",
    "raw_data.drop_duplicates(inplace=True)\n",
    "print('Number of rows after cleaning:', raw_data.shape[0] )"
   ]
  },
  {
   "cell_type": "code",
   "execution_count": null,
   "id": "27fc2f90-1a05-41b4-af03-a7b9f27c0d81",
   "metadata": {},
   "outputs": [],
   "source": [
    "raw_data.to_csv(project_dir + '/data/processed/' +'clean_llamadas_123_octubre_2019.csv', encoding='latin1', sep=';', index=False)"
   ]
  },
  {
   "cell_type": "markdown",
   "id": "dcb6e8bb-2aa9-45c8-9e7e-f9d7a4701cc5",
   "metadata": {},
   "source": [
    "**NOVIEMBRE 2019"
   ]
  },
  {
   "cell_type": "code",
   "execution_count": null,
   "id": "5652d426-4822-4e49-baf9-015f509f770b",
   "metadata": {},
   "outputs": [],
   "source": [
    "raw_data = get_input_data(filename = 'datos-abiertos-noviembre_2019.csv')\n",
    "print(raw_data.info())"
   ]
  },
  {
   "cell_type": "code",
   "execution_count": null,
   "id": "f204affa-8016-48bb-9f49-036d80934107",
   "metadata": {},
   "outputs": [],
   "source": [
    "raw_data.rename(\n",
    "    columns = {\n",
    "        'FECHA_INICIO_DESPLAZAMIENTO-MOVIL' : 'FECHA_INICIO_DESPLAZAMIENTO_MOVIL',\n",
    "        'CODIGO DE LOCALIDAD'               : 'CODIGO_LOCALIDAD'\n",
    "    },\n",
    "    inplace=True\n",
    ")\n",
    "raw_data.head()"
   ]
  },
  {
   "cell_type": "code",
   "execution_count": null,
   "id": "04b71e36-761f-4539-a80e-e64d580f2c5c",
   "metadata": {},
   "outputs": [],
   "source": [
    "raw_data['LOCALIDAD'].value_counts(dropna=False)"
   ]
  },
  {
   "cell_type": "code",
   "execution_count": null,
   "id": "11b1e1fa-449b-4086-8c47-d413eeb77117",
   "metadata": {},
   "outputs": [],
   "source": [
    "raw_data['LOCALIDAD'].apply(\n",
    "    lambda x: x.strip()        # here we use a lambda function, exclusively for python. Is a one-line function\n",
    ").value_counts()"
   ]
  },
  {
   "cell_type": "code",
   "execution_count": null,
   "id": "d8a333bf-1702-4735-9c04-0def6317f110",
   "metadata": {},
   "outputs": [],
   "source": [
    "raw_data['LOCALIDAD'] = raw_data['LOCALIDAD'].apply(lambda x: x.strip()) # we assign the output of the function apply to the same column"
   ]
  },
  {
   "cell_type": "code",
   "execution_count": null,
   "id": "2a434d28-043c-41ef-a01a-83b2c1627c6f",
   "metadata": {},
   "outputs": [],
   "source": [
    "raw_data.head()"
   ]
  },
  {
   "cell_type": "code",
   "execution_count": null,
   "id": "43dd01a1-fd17-44e3-b602-628eb2f2b5eb",
   "metadata": {},
   "outputs": [],
   "source": [
    "col = 'GENERO'\n",
    "raw_data[col] = raw_data[col].apply(lambda x: x.strip())\n",
    "raw_data[col].value_counts(dropna=False)"
   ]
  },
  {
   "cell_type": "code",
   "execution_count": null,
   "id": "0d4b5795-9fd7-47ca-8f3f-a5cff4d94b1a",
   "metadata": {},
   "outputs": [],
   "source": [
    "col = 'TIPO_INCIDENTE'\n",
    "raw_data[col] = raw_data[col].apply(lambda x: x.strip())\n",
    "raw_data[col].value_counts(dropna=False)"
   ]
  },
  {
   "cell_type": "code",
   "execution_count": null,
   "id": "610fbfc7-455d-4e50-a6af-0d76dcb1a469",
   "metadata": {},
   "outputs": [],
   "source": [
    "col = 'UNIDAD'\n",
    "# raw_data[col] = raw_data[col].apply(lambda x: x.strip())\n",
    "raw_data[col].value_counts(dropna=False)"
   ]
  },
  {
   "cell_type": "code",
   "execution_count": null,
   "id": "8a47931c-b78d-404a-aac4-e1a1cd952bba",
   "metadata": {},
   "outputs": [],
   "source": [
    "col = 'PRIORIDAD'\n",
    "# raw_data[col] = raw_data[col].apply(lambda x: x.strip())\n",
    "raw_data[col].value_counts(dropna=False)"
   ]
  },
  {
   "cell_type": "code",
   "execution_count": null,
   "id": "677b00b7-0be6-40da-9e41-f8e23044e940",
   "metadata": {},
   "outputs": [],
   "source": [
    "col = 'FECHA_INICIO_DESPLAZAMIENTO_MOVIL'\n",
    "# raw_data[col] = raw_data[col].apply(lambda x: x.strip())\n",
    "raw_data[col].value_counts(dropna=False)"
   ]
  },
  {
   "cell_type": "code",
   "execution_count": null,
   "id": "4b8e7822-fb35-4959-a2ba-e5493055a379",
   "metadata": {},
   "outputs": [],
   "source": [
    "raw_data = pd.to_datetime('2019-11-10', format = '%yyyy-%mm-%dd')"
   ]
  },
  {
   "cell_type": "code",
   "execution_count": null,
   "id": "a41455e8-b8f4-450a-a265-87737991c506",
   "metadata": {},
   "outputs": [],
   "source": [
    "profile = ProfileReport(df=raw_data)\n",
    "profile.to_file(output_file=project_dir + '/reports/'+'profile_raw_data_noviembre_2019.html')"
   ]
  },
  {
   "cell_type": "code",
   "execution_count": null,
   "id": "4bb6a465-3cb6-429e-af58-99aa3bea3720",
   "metadata": {},
   "outputs": [],
   "source": [
    "print('Number of rows before cleaning:', raw_data.shape[0] )\n",
    "raw_data.drop_duplicates(inplace=True)\n",
    "print('Number of rows after cleaning:', raw_data.shape[0] )"
   ]
  },
  {
   "cell_type": "code",
   "execution_count": null,
   "id": "1d4e6dc4-9b33-4b3f-943f-3b72162eb81a",
   "metadata": {},
   "outputs": [],
   "source": [
    "# saving in a local directory\n",
    "raw_data.to_csv(project_dir + '/data/processed/' +'clean_llamadas_123_noviembre_2019.csv', encoding='latin1', sep=';', index=False)"
   ]
  },
  {
   "cell_type": "markdown",
   "id": "ef02add8-1fa3-44bf-9e14-42052a8198a7",
   "metadata": {},
   "source": [
    "**DICIEMBRE 2019"
   ]
  },
  {
   "cell_type": "code",
   "execution_count": null,
   "id": "18bf2b31-9347-460e-a6ce-d0f8f3dbb1c6",
   "metadata": {},
   "outputs": [],
   "source": [
    "raw_data = get_input_data(filename = 'datos_abiertos_cons_diciembre_2019.csv')\n",
    "print(raw_data.info())"
   ]
  },
  {
   "cell_type": "code",
   "execution_count": null,
   "id": "c5c3f3df-3662-40c0-bf7f-4f9fb6bf428b",
   "metadata": {},
   "outputs": [],
   "source": [
    "raw_data.rename(\n",
    "    columns = {\n",
    "        'FECHA_DESPACHO_518'                : 'FECHA_DESPACHO',\n",
    "        'CODIGO DE LOCALIDAD'               : 'CODIGO_LOCALIDAD'\n",
    "    },\n",
    "    inplace=True\n",
    ")\n",
    "raw_data.head()"
   ]
  },
  {
   "cell_type": "code",
   "execution_count": null,
   "id": "744cdcde-1386-49e8-8dfb-4ba8b34908c3",
   "metadata": {},
   "outputs": [],
   "source": [
    "raw_data['LOCALIDAD'].value_counts(dropna=False)"
   ]
  },
  {
   "cell_type": "code",
   "execution_count": null,
   "id": "0fce6313-cc40-407b-9f86-417b7b553747",
   "metadata": {},
   "outputs": [],
   "source": [
    "raw_data['LOCALIDAD'].apply(\n",
    "    lambda x: x.strip()        # here we use a lambda function, exclusively for python. Is a one-line function\n",
    ").value_counts()"
   ]
  },
  {
   "cell_type": "code",
   "execution_count": null,
   "id": "a279225d-20f7-49da-8c6b-0dda5ce3827f",
   "metadata": {},
   "outputs": [],
   "source": [
    "raw_data['LOCALIDAD'] = raw_data['LOCALIDAD'].apply(lambda x: x.strip())"
   ]
  },
  {
   "cell_type": "code",
   "execution_count": null,
   "id": "31bda6d4-7946-4cd6-903a-de516e4e5be6",
   "metadata": {},
   "outputs": [],
   "source": [
    "raw_data.head()"
   ]
  },
  {
   "cell_type": "code",
   "execution_count": null,
   "id": "a1d205d5-57ed-4ac0-af00-aff589298bb6",
   "metadata": {},
   "outputs": [],
   "source": [
    "col = 'GENERO'\n",
    "raw_data[col] = raw_data[col].apply(lambda x: x.strip())\n",
    "raw_data[col].value_counts(dropna=False)"
   ]
  },
  {
   "cell_type": "code",
   "execution_count": null,
   "id": "08b71c77-2a70-4f7a-95ec-853bc1c51b74",
   "metadata": {},
   "outputs": [],
   "source": [
    "col = 'UNIDAD'\n",
    "# raw_data[col] = raw_data[col].apply(lambda x: x.strip())\n",
    "raw_data[col].value_counts(dropna=False)"
   ]
  },
  {
   "cell_type": "code",
   "execution_count": null,
   "id": "357ef2ea-3259-49ca-921a-8820d8db5df1",
   "metadata": {},
   "outputs": [],
   "source": [
    "col = 'PRIORIDAD'\n",
    "# raw_data[col] = raw_data[col].apply(lambda x: x.strip())\n",
    "raw_data[col].value_counts(dropna=False)"
   ]
  },
  {
   "cell_type": "code",
   "execution_count": null,
   "id": "5afddba6-c386-4304-8aba-f9564a3369d3",
   "metadata": {},
   "outputs": [],
   "source": [
    "col = 'FECHA_DESPACHO'\n",
    "# raw_data[col] = raw_data[col].apply(lambda x: x.strip())\n",
    "raw_data[col].value_counts(dropna=False)"
   ]
  },
  {
   "cell_type": "code",
   "execution_count": null,
   "id": "79215fdc-9c3b-4996-b3f0-6a385c8dbe98",
   "metadata": {},
   "outputs": [],
   "source": [
    "profile = ProfileReport(df=raw_data)\n",
    "profile.to_file(output_file=project_dir + '/reports/'+'profile_raw_data_diciembre_2019.html')"
   ]
  },
  {
   "cell_type": "code",
   "execution_count": null,
   "id": "e3b674f7-6bfa-4f6f-acba-aed5703d413f",
   "metadata": {},
   "outputs": [],
   "source": [
    "print('Number of rows before cleaning:', raw_data.shape[0] )\n",
    "raw_data.drop_duplicates(inplace=True)\n",
    "print('Number of rows after cleaning:', raw_data.shape[0] )"
   ]
  },
  {
   "cell_type": "code",
   "execution_count": null,
   "id": "882aaeb7-9e60-43c9-b2e6-57387c8031dd",
   "metadata": {},
   "outputs": [],
   "source": [
    "raw_data.to_csv(project_dir + '/data/processed/' +'clean_llamadas_123_diciembre_2019.csv', encoding='latin1', sep=';', index=False)"
   ]
  },
  {
   "cell_type": "code",
   "execution_count": null,
   "id": "5e029f5d-0be0-4aa2-a7d0-90a5bd6749ff",
   "metadata": {},
   "outputs": [],
   "source": [
    "arc1 = pd.read_csv('clean_llamadas_123_agosto_2019.csv', index_col=0)"
   ]
  },
  {
   "cell_type": "code",
   "execution_count": null,
   "id": "b608545a-6f3f-488f-b1df-c144a2d085a1",
   "metadata": {},
   "outputs": [],
   "source": [
    "dataclean = pd.concat(['clean_llamadas_123_agosto_2019.csv', 'clean_llamadas_123_diciembre_2019.csv', 'clean_llamadas_123_julio_2019.csv', 'clean_llamadas_123_noviembre_2019.csv', 'clean_llamadas_123_octubre_2019.csv', 'clean_llamadas_123_septiembre_2019.csv']) #concat = concatenar, head = el numero de filas que va a tomar\n",
    "print(dataclean)"
   ]
  },
  {
   "cell_type": "code",
   "execution_count": null,
   "id": "633aa0b9-5a9e-46f8-ad23-75d72381b586",
   "metadata": {},
   "outputs": [],
   "source": []
  },
  {
   "cell_type": "code",
   "execution_count": null,
   "id": "4d1cbcda-2019-440f-8234-ef0ab7dbe8a9",
   "metadata": {},
   "outputs": [],
   "source": []
  },
  {
   "cell_type": "code",
   "execution_count": null,
   "id": "533caea2-2202-4b17-a3df-e4c463c5e62a",
   "metadata": {},
   "outputs": [],
   "source": []
  },
  {
   "cell_type": "code",
   "execution_count": null,
   "id": "be91d109-48e1-4aa6-93b1-c23c93bbc341",
   "metadata": {},
   "outputs": [],
   "source": []
  }
 ],
 "metadata": {
  "environment": {
   "kernel": "python3",
   "name": "tf2-gpu.2-8.m91",
   "type": "gcloud",
   "uri": "gcr.io/deeplearning-platform-release/tf2-gpu.2-8:m91"
  },
  "kernelspec": {
   "display_name": "Python 3",
   "language": "python",
   "name": "python3"
  },
  "language_info": {
   "codemirror_mode": {
    "name": "ipython",
    "version": 3
   },
   "file_extension": ".py",
   "mimetype": "text/x-python",
   "name": "python",
   "nbconvert_exporter": "python",
   "pygments_lexer": "ipython3",
   "version": "3.7.12"
  }
 },
 "nbformat": 4,
 "nbformat_minor": 5
}
