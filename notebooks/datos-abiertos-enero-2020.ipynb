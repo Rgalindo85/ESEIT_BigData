{
 "cells": [
  {
   "cell_type": "markdown",
   "id": "70e2e33d-f240-4a2d-9dc5-59fb7d4cc7c6",
   "metadata": {},
   "source": [
    "# Datos abiertos enero 2020"
   ]
  },
  {
   "cell_type": "code",
   "execution_count": 2,
   "id": "a717da2c-d021-42d2-a7cb-b75149f3d068",
   "metadata": {},
   "outputs": [],
   "source": [
    "import os\n",
    "import sys\n",
    "import logging\n",
    "import pandas as pd\n",
    "\n",
    "from pandas_profiling import ProfileReport\n",
    "\n",
    "\n",
    "project_dir = os.path.dirname(os.path.abspath('.')) # get the path of the project, if doesn't work use os.getcwd() instead and use rfind to find the project dir\n",
    "sys.path.append(os.path.join(project_dir, 'src', 'data'))\n",
    "\n",
    "from data_manipulator import get_input_data\n",
    "\n",
    "bucket = 'fredo7'\n",
    "directory = 'BigData'"
   ]
  },
  {
   "cell_type": "code",
   "execution_count": 8,
   "id": "ecef4b5a-eeee-4f9a-8e94-3d521acd6c03",
   "metadata": {},
   "outputs": [
    {
     "name": "stdout",
     "output_type": "stream",
     "text": [
      "<class 'pandas.core.frame.DataFrame'>\n",
      "RangeIndex: 15304 entries, 0 to 15303\n",
      "Data columns (total 37 columns):\n",
      " #   Column               Non-Null Count  Dtype  \n",
      "---  ------               --------------  -----  \n",
      " 0   NUMERO_INCIDENTE     15304 non-null  object \n",
      " 1   FECHA_DESPACHO_518   15304 non-null  object \n",
      " 2   CODIGO DE LOCALIDAD  15304 non-null  int64  \n",
      " 3   LOCALIDAD            15304 non-null  object \n",
      " 4   EDAD                 15304 non-null  int64  \n",
      " 5   UNIDAD               15304 non-null  object \n",
      " 6   GENERO               15304 non-null  object \n",
      " 7   RED                  15304 non-null  object \n",
      " 8   TIPO_INCIDENTE       15304 non-null  object \n",
      " 9   PRIORIDAD            15304 non-null  int64  \n",
      " 10  Unnamed: 10          0 non-null      float64\n",
      " 11  Unnamed: 11          0 non-null      float64\n",
      " 12  Unnamed: 12          0 non-null      float64\n",
      " 13  Unnamed: 13          0 non-null      float64\n",
      " 14  Unnamed: 14          0 non-null      float64\n",
      " 15  Unnamed: 15          0 non-null      float64\n",
      " 16  Unnamed: 16          0 non-null      float64\n",
      " 17  Unnamed: 17          0 non-null      float64\n",
      " 18  Unnamed: 18          0 non-null      float64\n",
      " 19  Unnamed: 19          0 non-null      float64\n",
      " 20  Unnamed: 20          0 non-null      float64\n",
      " 21  Unnamed: 21          0 non-null      float64\n",
      " 22  Unnamed: 22          0 non-null      float64\n",
      " 23  Unnamed: 23          0 non-null      float64\n",
      " 24  Unnamed: 24          0 non-null      float64\n",
      " 25  Unnamed: 25          0 non-null      float64\n",
      " 26  Unnamed: 26          0 non-null      float64\n",
      " 27  Unnamed: 27          0 non-null      float64\n",
      " 28  Unnamed: 28          0 non-null      float64\n",
      " 29  Unnamed: 29          0 non-null      float64\n",
      " 30  Unnamed: 30          0 non-null      float64\n",
      " 31  Unnamed: 31          0 non-null      float64\n",
      " 32  Unnamed: 32          0 non-null      float64\n",
      " 33  Unnamed: 33          0 non-null      float64\n",
      " 34  Unnamed: 34          0 non-null      float64\n",
      " 35  Unnamed: 35          0 non-null      float64\n",
      " 36  Unnamed: 36          0 non-null      float64\n",
      "dtypes: float64(27), int64(3), object(7)\n",
      "memory usage: 4.3+ MB\n",
      "None\n"
     ]
    }
   ],
   "source": [
    "raw_data = get_input_data(\n",
    "    bucket=bucket,\n",
    "    initial_directory=directory,\n",
    "    filename = 'datos-abiertos-enero_2020.csv')\n",
    "print(raw_data.info())"
   ]
  },
  {
   "cell_type": "code",
   "execution_count": 9,
   "id": "a1b8440b-65e5-4e72-93a7-d3da31632288",
   "metadata": {},
   "outputs": [
    {
     "name": "stdout",
     "output_type": "stream",
     "text": [
      "<class 'pandas.core.frame.DataFrame'>\n",
      "RangeIndex: 15304 entries, 0 to 15303\n",
      "Data columns (total 10 columns):\n",
      " #   Column               Non-Null Count  Dtype \n",
      "---  ------               --------------  ----- \n",
      " 0   NUMERO_INCIDENTE     15304 non-null  object\n",
      " 1   FECHA_DESPACHO_518   15304 non-null  object\n",
      " 2   CODIGO DE LOCALIDAD  15304 non-null  int64 \n",
      " 3   LOCALIDAD            15304 non-null  object\n",
      " 4   EDAD                 15304 non-null  int64 \n",
      " 5   UNIDAD               15304 non-null  object\n",
      " 6   GENERO               15304 non-null  object\n",
      " 7   RED                  15304 non-null  object\n",
      " 8   TIPO_INCIDENTE       15304 non-null  object\n",
      " 9   PRIORIDAD            15304 non-null  int64 \n",
      "dtypes: int64(3), object(7)\n",
      "memory usage: 1.2+ MB\n"
     ]
    }
   ],
   "source": [
    "#Eliminamos todas las columnas Unnamed\n",
    "\n",
    "list_cols_to_drop = [\"Unnamed: {}\".format(i) for i in range(10,37)]\n",
    "list_cols_to_drop\n",
    "raw_data = raw_data.drop(list_cols_to_drop, axis=1)\n",
    "raw_data.info()"
   ]
  },
  {
   "cell_type": "code",
   "execution_count": 11,
   "id": "7d417e58-3904-4760-944a-f9954f74bd16",
   "metadata": {},
   "outputs": [
    {
     "data": {
      "text/html": [
       "<div>\n",
       "<style scoped>\n",
       "    .dataframe tbody tr th:only-of-type {\n",
       "        vertical-align: middle;\n",
       "    }\n",
       "\n",
       "    .dataframe tbody tr th {\n",
       "        vertical-align: top;\n",
       "    }\n",
       "\n",
       "    .dataframe thead th {\n",
       "        text-align: right;\n",
       "    }\n",
       "</style>\n",
       "<table border=\"1\" class=\"dataframe\">\n",
       "  <thead>\n",
       "    <tr style=\"text-align: right;\">\n",
       "      <th></th>\n",
       "      <th>NUMERO_INCIDENTE</th>\n",
       "      <th>FECHA_INICIO_DESPLAZAMIENTO_MOVIL</th>\n",
       "      <th>CODIGO_LOCALIDAD</th>\n",
       "      <th>LOCALIDAD</th>\n",
       "      <th>EDAD</th>\n",
       "      <th>UNIDAD</th>\n",
       "      <th>GENERO</th>\n",
       "      <th>RED</th>\n",
       "      <th>TIPO_INCIDENTE</th>\n",
       "      <th>PRIORIDAD</th>\n",
       "    </tr>\n",
       "  </thead>\n",
       "  <tbody>\n",
       "    <tr>\n",
       "      <th>0</th>\n",
       "      <td>CRU-00000002-20</td>\n",
       "      <td>2020-01-01 00:13:40</td>\n",
       "      <td>19</td>\n",
       "      <td>Ciudad Bolívar</td>\n",
       "      <td>0</td>\n",
       "      <td>SIN_DATO</td>\n",
       "      <td>SIN_DATO</td>\n",
       "      <td>Sur</td>\n",
       "      <td>Heridos</td>\n",
       "      <td>2</td>\n",
       "    </tr>\n",
       "    <tr>\n",
       "      <th>1</th>\n",
       "      <td>CRU-00000002-20</td>\n",
       "      <td>2020-01-01 00:13:40</td>\n",
       "      <td>19</td>\n",
       "      <td>Ciudad Bolívar</td>\n",
       "      <td>0</td>\n",
       "      <td>SIN_DATO</td>\n",
       "      <td>SIN_DATO</td>\n",
       "      <td>Sur</td>\n",
       "      <td>Heridos</td>\n",
       "      <td>2</td>\n",
       "    </tr>\n",
       "    <tr>\n",
       "      <th>2</th>\n",
       "      <td>CRU-00000005-20</td>\n",
       "      <td>2020-01-01 00:15:14</td>\n",
       "      <td>14</td>\n",
       "      <td>Los Mártires</td>\n",
       "      <td>0</td>\n",
       "      <td>SIN_DATO</td>\n",
       "      <td>SIN_DATO</td>\n",
       "      <td>Norte</td>\n",
       "      <td>Inconsciente/Paro Cardiorrespiratorio</td>\n",
       "      <td>1</td>\n",
       "    </tr>\n",
       "    <tr>\n",
       "      <th>3</th>\n",
       "      <td>CRU-00000024-20</td>\n",
       "      <td>2020-01-01 00:20:50</td>\n",
       "      <td>11</td>\n",
       "      <td>Suba</td>\n",
       "      <td>58</td>\n",
       "      <td>Años</td>\n",
       "      <td>MASCULINO</td>\n",
       "      <td>Norte</td>\n",
       "      <td>Inconsciente/Paro Cardiorrespiratorio</td>\n",
       "      <td>1</td>\n",
       "    </tr>\n",
       "    <tr>\n",
       "      <th>4</th>\n",
       "      <td>CRU-00000036-20</td>\n",
       "      <td>2020-01-01 00:26:05</td>\n",
       "      <td>10</td>\n",
       "      <td>Engativá</td>\n",
       "      <td>0</td>\n",
       "      <td>SIN_DATO</td>\n",
       "      <td>SIN_DATO</td>\n",
       "      <td>Norte</td>\n",
       "      <td>Inconsciente/Paro Cardiorrespiratorio</td>\n",
       "      <td>1</td>\n",
       "    </tr>\n",
       "  </tbody>\n",
       "</table>\n",
       "</div>"
      ],
      "text/plain": [
       "  NUMERO_INCIDENTE FECHA_INICIO_DESPLAZAMIENTO_MOVIL  CODIGO_LOCALIDAD  \\\n",
       "0  CRU-00000002-20               2020-01-01 00:13:40                19   \n",
       "1  CRU-00000002-20               2020-01-01 00:13:40                19   \n",
       "2  CRU-00000005-20               2020-01-01 00:15:14                14   \n",
       "3  CRU-00000024-20               2020-01-01 00:20:50                11   \n",
       "4  CRU-00000036-20               2020-01-01 00:26:05                10   \n",
       "\n",
       "         LOCALIDAD  EDAD    UNIDAD     GENERO    RED  \\\n",
       "0   Ciudad Bolívar     0  SIN_DATO   SIN_DATO    Sur   \n",
       "1   Ciudad Bolívar     0  SIN_DATO   SIN_DATO    Sur   \n",
       "2     Los Mártires     0  SIN_DATO   SIN_DATO  Norte   \n",
       "3             Suba    58      Años  MASCULINO  Norte   \n",
       "4         Engativá     0  SIN_DATO   SIN_DATO  Norte   \n",
       "\n",
       "                           TIPO_INCIDENTE  PRIORIDAD  \n",
       "0                                Heridos           2  \n",
       "1                                Heridos           2  \n",
       "2  Inconsciente/Paro Cardiorrespiratorio           1  \n",
       "3  Inconsciente/Paro Cardiorrespiratorio           1  \n",
       "4  Inconsciente/Paro Cardiorrespiratorio           1  "
      ]
     },
     "execution_count": 11,
     "metadata": {},
     "output_type": "execute_result"
    }
   ],
   "source": [
    "# Realizamos los cambios de nombres de acuerdo al estandar de cada archivo.\n",
    "\n",
    "raw_data.rename(\n",
    "    columns = {\n",
    "        'FECHA_DESPACHO_518' : 'FECHA_INICIO_DESPLAZAMIENTO_MOVIL',\n",
    "        'CODIGO DE LOCALIDAD'               : 'CODIGO_LOCALIDAD',\n",
    "        'TIPO DE INCIDIDENT': 'TIPO_INCIDENTE',\n",
    "            },\n",
    "    inplace=True\n",
    ")\n",
    "raw_data.head()"
   ]
  },
  {
   "cell_type": "code",
   "execution_count": 12,
   "id": "e795db2d-4b08-4700-aaaf-b7849435e6d8",
   "metadata": {},
   "outputs": [
    {
     "data": {
      "text/html": [
       "<div>\n",
       "<style scoped>\n",
       "    .dataframe tbody tr th:only-of-type {\n",
       "        vertical-align: middle;\n",
       "    }\n",
       "\n",
       "    .dataframe tbody tr th {\n",
       "        vertical-align: top;\n",
       "    }\n",
       "\n",
       "    .dataframe thead th {\n",
       "        text-align: right;\n",
       "    }\n",
       "</style>\n",
       "<table border=\"1\" class=\"dataframe\">\n",
       "  <thead>\n",
       "    <tr style=\"text-align: right;\">\n",
       "      <th></th>\n",
       "      <th>NUMERO_INCIDENTE</th>\n",
       "      <th>FECHA_INICIO_DESPLAZAMIENTO_MOVIL</th>\n",
       "      <th>CODIGO_LOCALIDAD</th>\n",
       "      <th>LOCALIDAD</th>\n",
       "      <th>EDAD</th>\n",
       "      <th>UNIDAD</th>\n",
       "      <th>GENERO</th>\n",
       "      <th>RED</th>\n",
       "      <th>TIPO_INCIDENTE</th>\n",
       "      <th>PRIORIDAD</th>\n",
       "      <th>FECHA_INCIDENTE</th>\n",
       "    </tr>\n",
       "  </thead>\n",
       "  <tbody>\n",
       "    <tr>\n",
       "      <th>0</th>\n",
       "      <td>CRU-00000002-20</td>\n",
       "      <td>2020-01-01 00:13:40</td>\n",
       "      <td>19</td>\n",
       "      <td>Ciudad Bolívar</td>\n",
       "      <td>0</td>\n",
       "      <td>SIN_DATO</td>\n",
       "      <td>SIN_DATO</td>\n",
       "      <td>Sur</td>\n",
       "      <td>Heridos</td>\n",
       "      <td>2</td>\n",
       "      <td>2020-01-01 00:13:40</td>\n",
       "    </tr>\n",
       "    <tr>\n",
       "      <th>1</th>\n",
       "      <td>CRU-00000002-20</td>\n",
       "      <td>2020-01-01 00:13:40</td>\n",
       "      <td>19</td>\n",
       "      <td>Ciudad Bolívar</td>\n",
       "      <td>0</td>\n",
       "      <td>SIN_DATO</td>\n",
       "      <td>SIN_DATO</td>\n",
       "      <td>Sur</td>\n",
       "      <td>Heridos</td>\n",
       "      <td>2</td>\n",
       "      <td>2020-01-01 00:13:40</td>\n",
       "    </tr>\n",
       "    <tr>\n",
       "      <th>2</th>\n",
       "      <td>CRU-00000005-20</td>\n",
       "      <td>2020-01-01 00:15:14</td>\n",
       "      <td>14</td>\n",
       "      <td>Los Mártires</td>\n",
       "      <td>0</td>\n",
       "      <td>SIN_DATO</td>\n",
       "      <td>SIN_DATO</td>\n",
       "      <td>Norte</td>\n",
       "      <td>Inconsciente/Paro Cardiorrespiratorio</td>\n",
       "      <td>1</td>\n",
       "      <td>2020-01-01 00:15:14</td>\n",
       "    </tr>\n",
       "    <tr>\n",
       "      <th>3</th>\n",
       "      <td>CRU-00000024-20</td>\n",
       "      <td>2020-01-01 00:20:50</td>\n",
       "      <td>11</td>\n",
       "      <td>Suba</td>\n",
       "      <td>58</td>\n",
       "      <td>Años</td>\n",
       "      <td>MASCULINO</td>\n",
       "      <td>Norte</td>\n",
       "      <td>Inconsciente/Paro Cardiorrespiratorio</td>\n",
       "      <td>1</td>\n",
       "      <td>2020-01-01 00:20:50</td>\n",
       "    </tr>\n",
       "    <tr>\n",
       "      <th>4</th>\n",
       "      <td>CRU-00000036-20</td>\n",
       "      <td>2020-01-01 00:26:05</td>\n",
       "      <td>10</td>\n",
       "      <td>Engativá</td>\n",
       "      <td>0</td>\n",
       "      <td>SIN_DATO</td>\n",
       "      <td>SIN_DATO</td>\n",
       "      <td>Norte</td>\n",
       "      <td>Inconsciente/Paro Cardiorrespiratorio</td>\n",
       "      <td>1</td>\n",
       "      <td>2020-01-01 00:26:05</td>\n",
       "    </tr>\n",
       "  </tbody>\n",
       "</table>\n",
       "</div>"
      ],
      "text/plain": [
       "  NUMERO_INCIDENTE FECHA_INICIO_DESPLAZAMIENTO_MOVIL  CODIGO_LOCALIDAD  \\\n",
       "0  CRU-00000002-20               2020-01-01 00:13:40                19   \n",
       "1  CRU-00000002-20               2020-01-01 00:13:40                19   \n",
       "2  CRU-00000005-20               2020-01-01 00:15:14                14   \n",
       "3  CRU-00000024-20               2020-01-01 00:20:50                11   \n",
       "4  CRU-00000036-20               2020-01-01 00:26:05                10   \n",
       "\n",
       "         LOCALIDAD  EDAD    UNIDAD     GENERO    RED  \\\n",
       "0   Ciudad Bolívar     0  SIN_DATO   SIN_DATO    Sur   \n",
       "1   Ciudad Bolívar     0  SIN_DATO   SIN_DATO    Sur   \n",
       "2     Los Mártires     0  SIN_DATO   SIN_DATO  Norte   \n",
       "3             Suba    58      Años  MASCULINO  Norte   \n",
       "4         Engativá     0  SIN_DATO   SIN_DATO  Norte   \n",
       "\n",
       "                           TIPO_INCIDENTE  PRIORIDAD      FECHA_INCIDENTE  \n",
       "0                                Heridos           2  2020-01-01 00:13:40  \n",
       "1                                Heridos           2  2020-01-01 00:13:40  \n",
       "2  Inconsciente/Paro Cardiorrespiratorio           1  2020-01-01 00:15:14  \n",
       "3  Inconsciente/Paro Cardiorrespiratorio           1  2020-01-01 00:20:50  \n",
       "4  Inconsciente/Paro Cardiorrespiratorio           1  2020-01-01 00:26:05  "
      ]
     },
     "execution_count": 12,
     "metadata": {},
     "output_type": "execute_result"
    }
   ],
   "source": [
    "# generamos una nueva columna con \"Fecha_incidente\" y la copiamos de\n",
    "#fecha de desplazamiento movil.\n",
    "\n",
    "raw_data = raw_data.assign(FECHA_INCIDENTE= raw_data['FECHA_INICIO_DESPLAZAMIENTO_MOVIL'])\n",
    "raw_data.head()"
   ]
  },
  {
   "cell_type": "code",
   "execution_count": 14,
   "id": "fa804593-7c8e-455b-bc4c-77ac53154ed4",
   "metadata": {},
   "outputs": [
    {
     "data": {
      "text/html": [
       "<div>\n",
       "<style scoped>\n",
       "    .dataframe tbody tr th:only-of-type {\n",
       "        vertical-align: middle;\n",
       "    }\n",
       "\n",
       "    .dataframe tbody tr th {\n",
       "        vertical-align: top;\n",
       "    }\n",
       "\n",
       "    .dataframe thead th {\n",
       "        text-align: right;\n",
       "    }\n",
       "</style>\n",
       "<table border=\"1\" class=\"dataframe\">\n",
       "  <thead>\n",
       "    <tr style=\"text-align: right;\">\n",
       "      <th></th>\n",
       "      <th>NUMERO_INCIDENTE</th>\n",
       "      <th>FECHA_INICIO_DESPLAZAMIENTO_MOVIL</th>\n",
       "      <th>CODIGO_LOCALIDAD</th>\n",
       "      <th>LOCALIDAD</th>\n",
       "      <th>EDAD</th>\n",
       "      <th>UNIDAD</th>\n",
       "      <th>GENERO</th>\n",
       "      <th>RED</th>\n",
       "      <th>TIPO_INCIDENTE</th>\n",
       "      <th>PRIORIDAD</th>\n",
       "      <th>FECHA_INCIDENTE</th>\n",
       "      <th>MES</th>\n",
       "      <th>CLASIFICACION_FINAL</th>\n",
       "    </tr>\n",
       "  </thead>\n",
       "  <tbody>\n",
       "    <tr>\n",
       "      <th>0</th>\n",
       "      <td>CRU-00000002-20</td>\n",
       "      <td>2020-01-01 00:13:40</td>\n",
       "      <td>19</td>\n",
       "      <td>Ciudad Bolívar</td>\n",
       "      <td>0</td>\n",
       "      <td>SIN_DATO</td>\n",
       "      <td>SIN_DATO</td>\n",
       "      <td>Sur</td>\n",
       "      <td>Heridos</td>\n",
       "      <td>2</td>\n",
       "      <td>2020-01-01 00:13:40</td>\n",
       "      <td>ENERO</td>\n",
       "      <td>SIN_DATO</td>\n",
       "    </tr>\n",
       "    <tr>\n",
       "      <th>1</th>\n",
       "      <td>CRU-00000002-20</td>\n",
       "      <td>2020-01-01 00:13:40</td>\n",
       "      <td>19</td>\n",
       "      <td>Ciudad Bolívar</td>\n",
       "      <td>0</td>\n",
       "      <td>SIN_DATO</td>\n",
       "      <td>SIN_DATO</td>\n",
       "      <td>Sur</td>\n",
       "      <td>Heridos</td>\n",
       "      <td>2</td>\n",
       "      <td>2020-01-01 00:13:40</td>\n",
       "      <td>ENERO</td>\n",
       "      <td>SIN_DATO</td>\n",
       "    </tr>\n",
       "    <tr>\n",
       "      <th>2</th>\n",
       "      <td>CRU-00000005-20</td>\n",
       "      <td>2020-01-01 00:15:14</td>\n",
       "      <td>14</td>\n",
       "      <td>Los Mártires</td>\n",
       "      <td>0</td>\n",
       "      <td>SIN_DATO</td>\n",
       "      <td>SIN_DATO</td>\n",
       "      <td>Norte</td>\n",
       "      <td>Inconsciente/Paro Cardiorrespiratorio</td>\n",
       "      <td>1</td>\n",
       "      <td>2020-01-01 00:15:14</td>\n",
       "      <td>ENERO</td>\n",
       "      <td>SIN_DATO</td>\n",
       "    </tr>\n",
       "    <tr>\n",
       "      <th>3</th>\n",
       "      <td>CRU-00000024-20</td>\n",
       "      <td>2020-01-01 00:20:50</td>\n",
       "      <td>11</td>\n",
       "      <td>Suba</td>\n",
       "      <td>58</td>\n",
       "      <td>Años</td>\n",
       "      <td>MASCULINO</td>\n",
       "      <td>Norte</td>\n",
       "      <td>Inconsciente/Paro Cardiorrespiratorio</td>\n",
       "      <td>1</td>\n",
       "      <td>2020-01-01 00:20:50</td>\n",
       "      <td>ENERO</td>\n",
       "      <td>SIN_DATO</td>\n",
       "    </tr>\n",
       "    <tr>\n",
       "      <th>4</th>\n",
       "      <td>CRU-00000036-20</td>\n",
       "      <td>2020-01-01 00:26:05</td>\n",
       "      <td>10</td>\n",
       "      <td>Engativá</td>\n",
       "      <td>0</td>\n",
       "      <td>SIN_DATO</td>\n",
       "      <td>SIN_DATO</td>\n",
       "      <td>Norte</td>\n",
       "      <td>Inconsciente/Paro Cardiorrespiratorio</td>\n",
       "      <td>1</td>\n",
       "      <td>2020-01-01 00:26:05</td>\n",
       "      <td>ENERO</td>\n",
       "      <td>SIN_DATO</td>\n",
       "    </tr>\n",
       "  </tbody>\n",
       "</table>\n",
       "</div>"
      ],
      "text/plain": [
       "  NUMERO_INCIDENTE FECHA_INICIO_DESPLAZAMIENTO_MOVIL  CODIGO_LOCALIDAD  \\\n",
       "0  CRU-00000002-20               2020-01-01 00:13:40                19   \n",
       "1  CRU-00000002-20               2020-01-01 00:13:40                19   \n",
       "2  CRU-00000005-20               2020-01-01 00:15:14                14   \n",
       "3  CRU-00000024-20               2020-01-01 00:20:50                11   \n",
       "4  CRU-00000036-20               2020-01-01 00:26:05                10   \n",
       "\n",
       "         LOCALIDAD  EDAD    UNIDAD     GENERO    RED  \\\n",
       "0   Ciudad Bolívar     0  SIN_DATO   SIN_DATO    Sur   \n",
       "1   Ciudad Bolívar     0  SIN_DATO   SIN_DATO    Sur   \n",
       "2     Los Mártires     0  SIN_DATO   SIN_DATO  Norte   \n",
       "3             Suba    58      Años  MASCULINO  Norte   \n",
       "4         Engativá     0  SIN_DATO   SIN_DATO  Norte   \n",
       "\n",
       "                           TIPO_INCIDENTE  PRIORIDAD      FECHA_INCIDENTE  \\\n",
       "0                                Heridos           2  2020-01-01 00:13:40   \n",
       "1                                Heridos           2  2020-01-01 00:13:40   \n",
       "2  Inconsciente/Paro Cardiorrespiratorio           1  2020-01-01 00:15:14   \n",
       "3  Inconsciente/Paro Cardiorrespiratorio           1  2020-01-01 00:20:50   \n",
       "4  Inconsciente/Paro Cardiorrespiratorio           1  2020-01-01 00:26:05   \n",
       "\n",
       "     MES CLASIFICACION_FINAL  \n",
       "0  ENERO            SIN_DATO  \n",
       "1  ENERO            SIN_DATO  \n",
       "2  ENERO            SIN_DATO  \n",
       "3  ENERO            SIN_DATO  \n",
       "4  ENERO            SIN_DATO  "
      ]
     },
     "execution_count": 14,
     "metadata": {},
     "output_type": "execute_result"
    }
   ],
   "source": [
    "# ASIGNAMOS EL MES (ENERO - mes que estamos construyendo)\n",
    "#Y LA CLASIFICACION FINAL (SIN DATOS).\n",
    "\n",
    "raw_data = raw_data.assign( MES = 'ENERO')\n",
    "raw_data.head()\n",
    "raw_data = raw_data.assign(CLASIFICACION_FINAL = \"SIN_DATO\")\n",
    "raw_data.head()"
   ]
  },
  {
   "cell_type": "code",
   "execution_count": 17,
   "id": "89c5f705-1540-4870-9a39-3d2d52fc8277",
   "metadata": {},
   "outputs": [
    {
     "data": {
      "text/html": [
       "<div>\n",
       "<style scoped>\n",
       "    .dataframe tbody tr th:only-of-type {\n",
       "        vertical-align: middle;\n",
       "    }\n",
       "\n",
       "    .dataframe tbody tr th {\n",
       "        vertical-align: top;\n",
       "    }\n",
       "\n",
       "    .dataframe thead th {\n",
       "        text-align: right;\n",
       "    }\n",
       "</style>\n",
       "<table border=\"1\" class=\"dataframe\">\n",
       "  <thead>\n",
       "    <tr style=\"text-align: right;\">\n",
       "      <th></th>\n",
       "      <th>NUMERO_INCIDENTE</th>\n",
       "      <th>FECHA_INCIDENTE</th>\n",
       "      <th>FECHA_INICIO_DESPLAZAMIENTO_MOVIL</th>\n",
       "      <th>CODIGO_LOCALIDAD</th>\n",
       "      <th>LOCALIDAD</th>\n",
       "      <th>EDAD</th>\n",
       "      <th>UNIDAD</th>\n",
       "      <th>GENERO</th>\n",
       "      <th>RED</th>\n",
       "      <th>TIPO_INCIDENTE</th>\n",
       "      <th>PRIORIDAD</th>\n",
       "      <th>MES</th>\n",
       "      <th>CLASIFICACION_FINAL</th>\n",
       "    </tr>\n",
       "  </thead>\n",
       "  <tbody>\n",
       "    <tr>\n",
       "      <th>0</th>\n",
       "      <td>CRU-00000002-20</td>\n",
       "      <td>2020-01-01 00:13:40</td>\n",
       "      <td>2020-01-01 00:13:40</td>\n",
       "      <td>19</td>\n",
       "      <td>Ciudad Bolívar</td>\n",
       "      <td>0</td>\n",
       "      <td>SIN_DATO</td>\n",
       "      <td>SIN_DATO</td>\n",
       "      <td>Sur</td>\n",
       "      <td>Heridos</td>\n",
       "      <td>2</td>\n",
       "      <td>ENERO</td>\n",
       "      <td>SIN_DATO</td>\n",
       "    </tr>\n",
       "    <tr>\n",
       "      <th>1</th>\n",
       "      <td>CRU-00000002-20</td>\n",
       "      <td>2020-01-01 00:13:40</td>\n",
       "      <td>2020-01-01 00:13:40</td>\n",
       "      <td>19</td>\n",
       "      <td>Ciudad Bolívar</td>\n",
       "      <td>0</td>\n",
       "      <td>SIN_DATO</td>\n",
       "      <td>SIN_DATO</td>\n",
       "      <td>Sur</td>\n",
       "      <td>Heridos</td>\n",
       "      <td>2</td>\n",
       "      <td>ENERO</td>\n",
       "      <td>SIN_DATO</td>\n",
       "    </tr>\n",
       "    <tr>\n",
       "      <th>2</th>\n",
       "      <td>CRU-00000005-20</td>\n",
       "      <td>2020-01-01 00:15:14</td>\n",
       "      <td>2020-01-01 00:15:14</td>\n",
       "      <td>14</td>\n",
       "      <td>Los Mártires</td>\n",
       "      <td>0</td>\n",
       "      <td>SIN_DATO</td>\n",
       "      <td>SIN_DATO</td>\n",
       "      <td>Norte</td>\n",
       "      <td>Inconsciente/Paro Cardiorrespiratorio</td>\n",
       "      <td>1</td>\n",
       "      <td>ENERO</td>\n",
       "      <td>SIN_DATO</td>\n",
       "    </tr>\n",
       "    <tr>\n",
       "      <th>3</th>\n",
       "      <td>CRU-00000024-20</td>\n",
       "      <td>2020-01-01 00:20:50</td>\n",
       "      <td>2020-01-01 00:20:50</td>\n",
       "      <td>11</td>\n",
       "      <td>Suba</td>\n",
       "      <td>58</td>\n",
       "      <td>Años</td>\n",
       "      <td>MASCULINO</td>\n",
       "      <td>Norte</td>\n",
       "      <td>Inconsciente/Paro Cardiorrespiratorio</td>\n",
       "      <td>1</td>\n",
       "      <td>ENERO</td>\n",
       "      <td>SIN_DATO</td>\n",
       "    </tr>\n",
       "    <tr>\n",
       "      <th>4</th>\n",
       "      <td>CRU-00000036-20</td>\n",
       "      <td>2020-01-01 00:26:05</td>\n",
       "      <td>2020-01-01 00:26:05</td>\n",
       "      <td>10</td>\n",
       "      <td>Engativá</td>\n",
       "      <td>0</td>\n",
       "      <td>SIN_DATO</td>\n",
       "      <td>SIN_DATO</td>\n",
       "      <td>Norte</td>\n",
       "      <td>Inconsciente/Paro Cardiorrespiratorio</td>\n",
       "      <td>1</td>\n",
       "      <td>ENERO</td>\n",
       "      <td>SIN_DATO</td>\n",
       "    </tr>\n",
       "  </tbody>\n",
       "</table>\n",
       "</div>"
      ],
      "text/plain": [
       "  NUMERO_INCIDENTE      FECHA_INCIDENTE FECHA_INICIO_DESPLAZAMIENTO_MOVIL  \\\n",
       "0  CRU-00000002-20  2020-01-01 00:13:40               2020-01-01 00:13:40   \n",
       "1  CRU-00000002-20  2020-01-01 00:13:40               2020-01-01 00:13:40   \n",
       "2  CRU-00000005-20  2020-01-01 00:15:14               2020-01-01 00:15:14   \n",
       "3  CRU-00000024-20  2020-01-01 00:20:50               2020-01-01 00:20:50   \n",
       "4  CRU-00000036-20  2020-01-01 00:26:05               2020-01-01 00:26:05   \n",
       "\n",
       "   CODIGO_LOCALIDAD        LOCALIDAD  EDAD    UNIDAD     GENERO    RED  \\\n",
       "0                19   Ciudad Bolívar     0  SIN_DATO   SIN_DATO    Sur   \n",
       "1                19   Ciudad Bolívar     0  SIN_DATO   SIN_DATO    Sur   \n",
       "2                14     Los Mártires     0  SIN_DATO   SIN_DATO  Norte   \n",
       "3                11             Suba    58      Años  MASCULINO  Norte   \n",
       "4                10         Engativá     0  SIN_DATO   SIN_DATO  Norte   \n",
       "\n",
       "                           TIPO_INCIDENTE  PRIORIDAD    MES  \\\n",
       "0                                Heridos           2  ENERO   \n",
       "1                                Heridos           2  ENERO   \n",
       "2  Inconsciente/Paro Cardiorrespiratorio           1  ENERO   \n",
       "3  Inconsciente/Paro Cardiorrespiratorio           1  ENERO   \n",
       "4  Inconsciente/Paro Cardiorrespiratorio           1  ENERO   \n",
       "\n",
       "  CLASIFICACION_FINAL  \n",
       "0            SIN_DATO  \n",
       "1            SIN_DATO  \n",
       "2            SIN_DATO  \n",
       "3            SIN_DATO  \n",
       "4            SIN_DATO  "
      ]
     },
     "execution_count": 17,
     "metadata": {},
     "output_type": "execute_result"
    }
   ],
   "source": [
    "# Reordenamos las columnas en el orden establecido para todos\n",
    "#los archivos\n",
    "\n",
    "raw_data = raw_data.reindex(columns=['NUMERO_INCIDENTE',\n",
    "                                     'FECHA_INCIDENTE',\n",
    "'FECHA_INICIO_DESPLAZAMIENTO_MOVIL',\n",
    "'CODIGO_LOCALIDAD',\n",
    "'LOCALIDAD',\n",
    "'EDAD',\n",
    "'UNIDAD',\n",
    "'GENERO',\n",
    "'RED',\n",
    "'TIPO_INCIDENTE',\n",
    "'PRIORIDAD',\n",
    "'MES',\n",
    "'CLASIFICACION_FINAL',\n",
    "\n",
    "])\n",
    "raw_data.head()"
   ]
  },
  {
   "cell_type": "code",
   "execution_count": 18,
   "id": "67f10ea0-aa41-4805-b63e-fa6c7832e547",
   "metadata": {},
   "outputs": [
    {
     "data": {
      "text/plain": [
       "CRU-00008619-20    14\n",
       "CRU-00037891-20    14\n",
       "CRU-00003298-20    13\n",
       "CRU-00025187-20    13\n",
       "CRU-00004092-20    12\n",
       "                   ..\n",
       "CRU-00013921-20     1\n",
       "CRU-00013922-20     1\n",
       "CRU-00013933-20     1\n",
       "CRU-00013935-20     1\n",
       "CRU-00037858-20     1\n",
       "Name: NUMERO_INCIDENTE, Length: 13502, dtype: int64"
      ]
     },
     "execution_count": 18,
     "metadata": {},
     "output_type": "execute_result"
    }
   ],
   "source": [
    "# Columna NUMERO INCIDENTE\n",
    "# Se validan hay datos nullos \n",
    "# Si hay datos nullos se reemplazan por SIN_DATO\n",
    "# Retiramos todos los espacios en blanco que existan\n",
    "raw_data['NUMERO_INCIDENTE'].value_counts(dropna=False)"
   ]
  },
  {
   "cell_type": "code",
   "execution_count": 19,
   "id": "f1f19340-3a0e-49e8-af7e-ebe4a8c73734",
   "metadata": {},
   "outputs": [
    {
     "data": {
      "text/plain": [
       "CRU-00008619-20    14\n",
       "CRU-00037891-20    14\n",
       "CRU-00003298-20    13\n",
       "CRU-00025187-20    13\n",
       "CRU-00004092-20    12\n",
       "                   ..\n",
       "CRU-00013921-20     1\n",
       "CRU-00013922-20     1\n",
       "CRU-00013933-20     1\n",
       "CRU-00013935-20     1\n",
       "CRU-00037858-20     1\n",
       "Name: NUMERO_INCIDENTE, Length: 13502, dtype: int64"
      ]
     },
     "execution_count": 19,
     "metadata": {},
     "output_type": "execute_result"
    }
   ],
   "source": [
    "raw_data['NUMERO_INCIDENTE'].apply(\n",
    "    lambda x: x.strip()        \n",
    ").value_counts()"
   ]
  },
  {
   "cell_type": "code",
   "execution_count": 20,
   "id": "54efaa6b-a584-47a5-a69a-49fa405b4b7b",
   "metadata": {},
   "outputs": [
    {
     "data": {
      "text/plain": [
       "2020-01-04 08:06:26    10\n",
       "2020-01-29 12:51:15     8\n",
       "2020-01-26 03:37:17     7\n",
       "2020-01-25 18:08:28     7\n",
       "2020-01-22 09:37:57     6\n",
       "                       ..\n",
       "2020-01-12 22:41:58     1\n",
       "2020-01-12 22:44:20     1\n",
       "2020-01-12 22:49:49     1\n",
       "2020-01-12 22:54:18     1\n",
       "2020-02-01 01:19:50     1\n",
       "Name: FECHA_INCIDENTE, Length: 14958, dtype: int64"
      ]
     },
     "execution_count": 20,
     "metadata": {},
     "output_type": "execute_result"
    }
   ],
   "source": [
    "# Columna FECHA INCIDENTE\n",
    "# Se validan hay datos nullos \n",
    "# Si hay datos nullos se reemplazan por SIN_DATO\n",
    "# Retiramos todos los espacios en blanco que existan\n",
    "raw_data['FECHA_INCIDENTE'].value_counts(dropna=False)"
   ]
  },
  {
   "cell_type": "code",
   "execution_count": 21,
   "id": "c779d711-6cec-45e7-8d2a-993a1558a5c0",
   "metadata": {},
   "outputs": [
    {
     "data": {
      "text/plain": [
       "2020-01-04 08:06:26    10\n",
       "2020-01-29 12:51:15     8\n",
       "2020-01-26 03:37:17     7\n",
       "2020-01-25 18:08:28     7\n",
       "2020-01-22 09:37:57     6\n",
       "                       ..\n",
       "2020-01-12 22:41:58     1\n",
       "2020-01-12 22:44:20     1\n",
       "2020-01-12 22:49:49     1\n",
       "2020-01-12 22:54:18     1\n",
       "2020-02-01 01:19:50     1\n",
       "Name: FECHA_INCIDENTE, Length: 14958, dtype: int64"
      ]
     },
     "execution_count": 21,
     "metadata": {},
     "output_type": "execute_result"
    }
   ],
   "source": [
    "raw_data['FECHA_INCIDENTE'].apply(\n",
    "    lambda x: x.strip()        \n",
    ").value_counts()"
   ]
  },
  {
   "cell_type": "code",
   "execution_count": 22,
   "id": "5eb1e0d1-7c1f-498b-8531-cfa0090464f6",
   "metadata": {},
   "outputs": [
    {
     "data": {
      "text/plain": [
       "2020-01-04 08:06:26    10\n",
       "2020-01-29 12:51:15     8\n",
       "2020-01-26 03:37:17     7\n",
       "2020-01-25 18:08:28     7\n",
       "2020-01-22 09:37:57     6\n",
       "                       ..\n",
       "2020-01-12 22:41:58     1\n",
       "2020-01-12 22:44:20     1\n",
       "2020-01-12 22:49:49     1\n",
       "2020-01-12 22:54:18     1\n",
       "2020-02-01 01:19:50     1\n",
       "Name: FECHA_INICIO_DESPLAZAMIENTO_MOVIL, Length: 14958, dtype: int64"
      ]
     },
     "execution_count": 22,
     "metadata": {},
     "output_type": "execute_result"
    }
   ],
   "source": [
    "# Columna FECHA INCIDENTE\n",
    "# Se validan hay datos nullos \n",
    "# Si hay datos nullos se reemplazan por SIN_DATO\n",
    "# Retiramos todos los espacios en blanco que existan\n",
    "raw_data['FECHA_INICIO_DESPLAZAMIENTO_MOVIL'].value_counts(dropna=False)"
   ]
  },
  {
   "cell_type": "code",
   "execution_count": 23,
   "id": "2f3dc6e4-5bcb-4df7-a3ec-f9c39237c824",
   "metadata": {},
   "outputs": [
    {
     "data": {
      "text/plain": [
       "2020-01-04 08:06:26    10\n",
       "2020-01-29 12:51:15     8\n",
       "2020-01-26 03:37:17     7\n",
       "2020-01-25 18:08:28     7\n",
       "2020-01-22 09:37:57     6\n",
       "                       ..\n",
       "2020-01-12 22:41:58     1\n",
       "2020-01-12 22:44:20     1\n",
       "2020-01-12 22:49:49     1\n",
       "2020-01-12 22:54:18     1\n",
       "2020-02-01 01:19:50     1\n",
       "Name: FECHA_INICIO_DESPLAZAMIENTO_MOVIL, Length: 14958, dtype: int64"
      ]
     },
     "execution_count": 23,
     "metadata": {},
     "output_type": "execute_result"
    }
   ],
   "source": [
    "raw_data['FECHA_INICIO_DESPLAZAMIENTO_MOVIL'].apply(\n",
    "    lambda x: x.strip()        \n",
    ").value_counts()"
   ]
  },
  {
   "cell_type": "code",
   "execution_count": 24,
   "id": "0be8a134-f902-4f84-aa2f-69b59336277e",
   "metadata": {},
   "outputs": [
    {
     "data": {
      "text/plain": [
       "8     2116\n",
       "10    1473\n",
       "11    1465\n",
       "7     1072\n",
       "19    1022\n",
       "16     942\n",
       "9      812\n",
       "1      786\n",
       "4      746\n",
       "18     737\n",
       "5      678\n",
       "6      550\n",
       "3      541\n",
       "13     527\n",
       "12     506\n",
       "2      498\n",
       "14     446\n",
       "15     320\n",
       "17      64\n",
       "20       3\n",
       "Name: CODIGO_LOCALIDAD, dtype: int64"
      ]
     },
     "execution_count": 24,
     "metadata": {},
     "output_type": "execute_result"
    }
   ],
   "source": [
    "# Columna CODIGO LOCALIDAD\n",
    "# Se validan hay datos nullos \n",
    "# Si hay datos nullos se reemplazan por SIN_DATO\n",
    "# Retiramos todos los espacios en blanco que existan\n",
    "raw_data['CODIGO_LOCALIDAD'].value_counts(dropna=False)\n"
   ]
  },
  {
   "cell_type": "code",
   "execution_count": 25,
   "id": "c5f278c5-f3b7-4262-a744-149d4dff3e84",
   "metadata": {},
   "outputs": [
    {
     "data": {
      "text/plain": [
       " Kennedy              2116\n",
       " Engativá             1473\n",
       " Suba                 1465\n",
       " Bosa                 1072\n",
       " Ciudad Bolívar       1022\n",
       " Puente Aranda         942\n",
       " Fontibón              812\n",
       "Usaquén                786\n",
       " San Cristóbal         746\n",
       "Rafael Uribe Uribe     737\n",
       "Usme                   678\n",
       "Tunjuelito             550\n",
       "Santa Fe               541\n",
       " Teusaquillo           527\n",
       " Barrios Unidos        506\n",
       "Chapinero              498\n",
       " Los Mártires          446\n",
       " Antonio Nariño        320\n",
       " La Candelaria          64\n",
       "Sumapaz                  3\n",
       "Name: LOCALIDAD, dtype: int64"
      ]
     },
     "execution_count": 25,
     "metadata": {},
     "output_type": "execute_result"
    }
   ],
   "source": [
    "# Columna LOCALIDAD\n",
    "# Se validan hay datos nullos \n",
    "# Si hay datos nullos se reemplazan por SIN_DATO\n",
    "# Retiramos todos los espacios en blanco que existan\n",
    "raw_data['LOCALIDAD'].value_counts(dropna=False)\n"
   ]
  },
  {
   "cell_type": "code",
   "execution_count": 26,
   "id": "35a148a4-e926-4134-b2ff-c66ae5bdc538",
   "metadata": {},
   "outputs": [
    {
     "data": {
      "text/plain": [
       "Kennedy               2116\n",
       "Engativá              1473\n",
       "Suba                  1465\n",
       "Bosa                  1072\n",
       "Ciudad Bolívar        1022\n",
       "Puente Aranda          942\n",
       "Fontibón               812\n",
       "Usaquén                786\n",
       "San Cristóbal          746\n",
       "Rafael Uribe Uribe     737\n",
       "Usme                   678\n",
       "Tunjuelito             550\n",
       "Santa Fe               541\n",
       "Teusaquillo            527\n",
       "Barrios Unidos         506\n",
       "Chapinero              498\n",
       "Los Mártires           446\n",
       "Antonio Nariño         320\n",
       "La Candelaria           64\n",
       "Sumapaz                  3\n",
       "Name: LOCALIDAD, dtype: int64"
      ]
     },
     "execution_count": 26,
     "metadata": {},
     "output_type": "execute_result"
    }
   ],
   "source": [
    "raw_data['LOCALIDAD'].apply(\n",
    "    lambda x: x.strip()        \n",
    ").value_counts()"
   ]
  },
  {
   "cell_type": "code",
   "execution_count": 27,
   "id": "59013171-562c-4df0-926e-2573c9cc87cb",
   "metadata": {},
   "outputs": [
    {
     "data": {
      "text/plain": [
       "0     7004\n",
       "23     245\n",
       "25     233\n",
       "24     225\n",
       "22     220\n",
       "      ... \n",
       "1       14\n",
       "97      13\n",
       "7       13\n",
       "4       11\n",
       "98      10\n",
       "Name: EDAD, Length: 100, dtype: int64"
      ]
     },
     "execution_count": 27,
     "metadata": {},
     "output_type": "execute_result"
    }
   ],
   "source": [
    "# Columna EDAD\n",
    "# Se validan hay datos nullos \n",
    "# Si hay datos nullos se reemplazan por SIN_DATO\n",
    "# Retiramos todos los espacios en blanco que existan\n",
    "raw_data['EDAD'].value_counts(dropna=False)\n"
   ]
  },
  {
   "cell_type": "code",
   "execution_count": 29,
   "id": "551b80aa-3a9c-4bde-b143-22cb3bd93858",
   "metadata": {},
   "outputs": [
    {
     "data": {
      "text/plain": [
       "Años        8259\n",
       "SIN_DATO    7003\n",
       "Meses         34\n",
       "Horas          5\n",
       "Dias           3\n",
       "Name: UNIDAD, dtype: int64"
      ]
     },
     "execution_count": 29,
     "metadata": {},
     "output_type": "execute_result"
    }
   ],
   "source": [
    "# Columna UNIDAD\n",
    "# Se validan hay datos nullos \n",
    "# Si hay datos nullos se reemplazan por SIN_DATO\n",
    "# Retiramos todos los espacios en blanco que existan\n",
    "raw_data['UNIDAD'].value_counts(dropna=False)\n"
   ]
  },
  {
   "cell_type": "code",
   "execution_count": 30,
   "id": "bfa4ec19-b535-4cf6-9359-5490cb4cd25c",
   "metadata": {},
   "outputs": [
    {
     "data": {
      "text/plain": [
       "SIN_DATO     7003\n",
       "MASCULINO    4521\n",
       "FEMENINO     3780\n",
       "Name: GENERO, dtype: int64"
      ]
     },
     "execution_count": 30,
     "metadata": {},
     "output_type": "execute_result"
    }
   ],
   "source": [
    "# Columna GENERO\n",
    "# Se validan hay datos nullos \n",
    "# Si hay datos nullos se reemplazan por SIN_DATO\n",
    "# Retiramos todos los espacios en blanco que existan\n",
    "raw_data['GENERO'].value_counts(dropna=False)\n"
   ]
  },
  {
   "cell_type": "code",
   "execution_count": 31,
   "id": "e8d7e399-527b-469f-97e6-d9eee8d680ce",
   "metadata": {},
   "outputs": [
    {
     "data": {
      "text/plain": [
       "Norte      6155\n",
       "Sur        5291\n",
       "Privada    3858\n",
       "Name: RED, dtype: int64"
      ]
     },
     "execution_count": 31,
     "metadata": {},
     "output_type": "execute_result"
    }
   ],
   "source": [
    "# Columna RED\n",
    "# Se validan hay datos nullos \n",
    "# Si hay datos nullos se reemplazan por SIN_DATO\n",
    "# Retiramos todos los espacios en blanco que existan\n",
    "raw_data['RED'].value_counts(dropna=False)\n"
   ]
  },
  {
   "cell_type": "code",
   "execution_count": 32,
   "id": "81259584-4e2e-4a5f-b373-19c6e379c9e9",
   "metadata": {},
   "outputs": [
    {
     "data": {
      "text/plain": [
       "Heridos                                   6849\n",
       "Inconsciente/Paro Cardiorrespiratorio     1520\n",
       "Dificultad Respiratoria                   1359\n",
       "Enfermo                                   1045\n",
       "Convulsiones                               994\n",
       "Trastorno mental                           661\n",
       "Dolor torácico                             634\n",
       "Intento de suicidio                        503\n",
       "Accidente cerebro vascular                 374\n",
       "Patología Gineco - obstétrica              331\n",
       "Síntomas gastrointestinales                331\n",
       "Caída                                      320\n",
       "Intoxicaciones                             138\n",
       "Ideas de suicidio                           99\n",
       "SIN_DATO                                    80\n",
       "Violencia Sexual                            34\n",
       "Quemaduras                                  10\n",
       "Sangrado Vaginal                             8\n",
       "Maltrato                                     7\n",
       "Electrocución / Rescate                      7\n",
       "Name: TIPO_INCIDENTE, dtype: int64"
      ]
     },
     "execution_count": 32,
     "metadata": {},
     "output_type": "execute_result"
    }
   ],
   "source": [
    "# Columna TIPO DE INCIDENTE\n",
    "# Se validan hay datos nullos \n",
    "# Si hay datos nullos se reemplazan por SIN_DATO\n",
    "# Retiramos todos los espacios en blanco que existan\n",
    "raw_data['TIPO_INCIDENTE'].value_counts(dropna=False)\n"
   ]
  },
  {
   "cell_type": "code",
   "execution_count": 33,
   "id": "7bf072ef-02d1-47e6-a7e3-5143010f1e95",
   "metadata": {},
   "outputs": [
    {
     "data": {
      "text/plain": [
       "Heridos                                  6849\n",
       "Inconsciente/Paro Cardiorrespiratorio    1520\n",
       "Dificultad Respiratoria                  1359\n",
       "Enfermo                                  1045\n",
       "Convulsiones                              994\n",
       "Trastorno mental                          661\n",
       "Dolor torácico                            634\n",
       "Intento de suicidio                       503\n",
       "Accidente cerebro vascular                374\n",
       "Patología Gineco - obstétrica             331\n",
       "Síntomas gastrointestinales               331\n",
       "Caída                                     320\n",
       "Intoxicaciones                            138\n",
       "Ideas de suicidio                          99\n",
       "SIN_DATO                                   80\n",
       "Violencia Sexual                           34\n",
       "Quemaduras                                 10\n",
       "Sangrado Vaginal                            8\n",
       "Maltrato                                    7\n",
       "Electrocución / Rescate                     7\n",
       "Name: TIPO_INCIDENTE, dtype: int64"
      ]
     },
     "execution_count": 33,
     "metadata": {},
     "output_type": "execute_result"
    }
   ],
   "source": [
    "raw_data['TIPO_INCIDENTE'].apply(\n",
    "    lambda x: x.strip()        \n",
    ").value_counts()"
   ]
  },
  {
   "cell_type": "code",
   "execution_count": 34,
   "id": "6b8e774d-91f0-48ad-bbad-a08be6392540",
   "metadata": {},
   "outputs": [
    {
     "data": {
      "text/plain": [
       "2    10084\n",
       "1     3017\n",
       "3     2048\n",
       "4      155\n",
       "Name: PRIORIDAD, dtype: int64"
      ]
     },
     "execution_count": 34,
     "metadata": {},
     "output_type": "execute_result"
    }
   ],
   "source": [
    "# Columna PRIORIDAD\n",
    "# Se validan hay datos nullos \n",
    "# Si hay datos nullos se reemplazan por SIN_DATO\n",
    "# Retiramos todos los espacios en blanco que existan\n",
    "raw_data['PRIORIDAD'].value_counts(dropna=False)\n",
    "\n"
   ]
  },
  {
   "cell_type": "code",
   "execution_count": 35,
   "id": "4262f06e-2a35-490d-83af-e6eca359db83",
   "metadata": {},
   "outputs": [
    {
     "data": {
      "text/plain": [
       "ENERO    15304\n",
       "Name: MES, dtype: int64"
      ]
     },
     "execution_count": 35,
     "metadata": {},
     "output_type": "execute_result"
    }
   ],
   "source": [
    "# Columna MES\n",
    "# Se validan hay datos nullos \n",
    "# Si hay datos nullos se reemplazan por SIN_DATO\n",
    "# Retiramos todos los espacios en blanco que existan\n",
    "raw_data['MES'].value_counts(dropna=False)\n"
   ]
  },
  {
   "cell_type": "code",
   "execution_count": 36,
   "id": "4e6df92d-5918-4d17-9cfd-39624af7fb2e",
   "metadata": {},
   "outputs": [
    {
     "data": {
      "text/plain": [
       "SIN_DATO    15304\n",
       "Name: CLASIFICACION_FINAL, dtype: int64"
      ]
     },
     "execution_count": 36,
     "metadata": {},
     "output_type": "execute_result"
    }
   ],
   "source": [
    "# Columna CLASIFICACION FINAL\n",
    "# Se validan hay datos nullos \n",
    "# Si hay datos nullos se reemplazan por SIN_DATO\n",
    "# Retiramos todos los espacios en blanco que existan\n",
    "raw_data['CLASIFICACION_FINAL'].value_counts(dropna=False)\n"
   ]
  },
  {
   "cell_type": "code",
   "execution_count": 37,
   "id": "6fa0a3f4-50cb-4b08-a90c-518840c504b6",
   "metadata": {},
   "outputs": [
    {
     "data": {
      "application/vnd.jupyter.widget-view+json": {
       "model_id": "27706b3f7403466dbf3ba5ad6c768a2a",
       "version_major": 2,
       "version_minor": 0
      },
      "text/plain": [
       "Summarize dataset:   0%|          | 0/26 [00:00<?, ?it/s]"
      ]
     },
     "metadata": {},
     "output_type": "display_data"
    },
    {
     "data": {
      "application/vnd.jupyter.widget-view+json": {
       "model_id": "573627d4b9dc437d8c85b4b916062f5c",
       "version_major": 2,
       "version_minor": 0
      },
      "text/plain": [
       "Generate report structure:   0%|          | 0/1 [00:00<?, ?it/s]"
      ]
     },
     "metadata": {},
     "output_type": "display_data"
    },
    {
     "data": {
      "application/vnd.jupyter.widget-view+json": {
       "model_id": "03add7b59de44a8c8eb9bd9c694733f1",
       "version_major": 2,
       "version_minor": 0
      },
      "text/plain": [
       "Render HTML:   0%|          | 0/1 [00:00<?, ?it/s]"
      ]
     },
     "metadata": {},
     "output_type": "display_data"
    },
    {
     "data": {
      "application/vnd.jupyter.widget-view+json": {
       "model_id": "18a171e6d4384494b7be9373bf481000",
       "version_major": 2,
       "version_minor": 0
      },
      "text/plain": [
       "Export report to file:   0%|          | 0/1 [00:00<?, ?it/s]"
      ]
     },
     "metadata": {},
     "output_type": "display_data"
    }
   ],
   "source": [
    "profile = ProfileReport(df=raw_data)\n",
    "profile.to_file(output_file=project_dir + '/reports/'+'profile_raw_data_enero_2020.html')"
   ]
  },
  {
   "cell_type": "code",
   "execution_count": 38,
   "id": "4b99dd1c-eafd-4416-a8a5-72ca0253f809",
   "metadata": {},
   "outputs": [
    {
     "name": "stdout",
     "output_type": "stream",
     "text": [
      "Number of rows before cleaning: 15304\n",
      "Number of rows after cleaning: 15240\n"
     ]
    }
   ],
   "source": [
    "print('Number of rows before cleaning:', raw_data.shape[0] )\n",
    "raw_data.drop_duplicates(inplace=True)\n",
    "print('Number of rows after cleaning:', raw_data.shape[0] )"
   ]
  },
  {
   "cell_type": "code",
   "execution_count": 39,
   "id": "e561b41a-26eb-43b9-96a6-d27adaed02c3",
   "metadata": {},
   "outputs": [],
   "source": [
    "# saving in a local directory\n",
    "raw_data.to_csv(project_dir + '/data/processed/' +'clean_llamadas_123_enero_2020.csv', encoding='latin1', sep=';', index=False)"
   ]
  },
  {
   "cell_type": "code",
   "execution_count": null,
   "id": "f617fa33-b6c2-4974-8252-e93cf11dcac0",
   "metadata": {},
   "outputs": [],
   "source": []
  }
 ],
 "metadata": {
  "environment": {
   "kernel": "python3",
   "name": "common-cpu.m90",
   "type": "gcloud",
   "uri": "gcr.io/deeplearning-platform-release/base-cpu:m90"
  },
  "kernelspec": {
   "display_name": "Python 3",
   "language": "python",
   "name": "python3"
  },
  "language_info": {
   "codemirror_mode": {
    "name": "ipython",
    "version": 3
   },
   "file_extension": ".py",
   "mimetype": "text/x-python",
   "name": "python",
   "nbconvert_exporter": "python",
   "pygments_lexer": "ipython3",
   "version": "3.7.12"
  }
 },
 "nbformat": 4,
 "nbformat_minor": 5
}
