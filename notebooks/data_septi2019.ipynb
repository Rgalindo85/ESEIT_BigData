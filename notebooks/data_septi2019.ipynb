{
 "cells": [
  {
   "cell_type": "markdown",
   "id": "a7dac6ca-3d99-49ad-b3bd-76c1144c6939",
   "metadata": {},
   "source": [
    "# Read and clean a single file"
   ]
  },
  {
   "cell_type": "code",
   "execution_count": 115,
   "id": "19dc2eac-db51-40ad-9834-b50602429973",
   "metadata": {},
   "outputs": [],
   "source": [
    "import os\n",
    "import sys\n",
    "import logging\n",
    "import pandas as pd\n",
    "\n",
    "from pandas_profiling import ProfileReport\n",
    "\n",
    "\n",
    "project_dir = os.path.dirname(os.path.abspath('.')) # get the path of the project, if doesn't work use os.getcwd() instead and use rfind to find the project dir\n",
    "sys.path.append(os.path.join(project_dir, 'src', 'data'))\n",
    "\n",
    "from data_manipulator import get_input_data\n",
    "\n",
    "bucket = 'yuma_bucket'\n",
    "directory = 'BigData'"
   ]
  },
  {
   "cell_type": "markdown",
   "id": "6531655d-2cc6-40bf-8f3d-af0e28004fe1",
   "metadata": {},
   "source": [
    "## Read Metadata\n",
    "-----\n",
    "General info for each relevant column"
   ]
  },
  {
   "cell_type": "code",
   "execution_count": 116,
   "id": "4e1ea718-96b7-4eaa-95e7-7d9f314b5b56",
   "metadata": {},
   "outputs": [
    {
     "data": {
      "text/html": [
       "<div>\n",
       "<style scoped>\n",
       "    .dataframe tbody tr th:only-of-type {\n",
       "        vertical-align: middle;\n",
       "    }\n",
       "\n",
       "    .dataframe tbody tr th {\n",
       "        vertical-align: top;\n",
       "    }\n",
       "\n",
       "    .dataframe thead th {\n",
       "        text-align: right;\n",
       "    }\n",
       "</style>\n",
       "<table border=\"1\" class=\"dataframe\">\n",
       "  <thead>\n",
       "    <tr style=\"text-align: right;\">\n",
       "      <th></th>\n",
       "      <th>NOMBRE</th>\n",
       "      <th>DESCRIPCION</th>\n",
       "    </tr>\n",
       "  </thead>\n",
       "  <tbody>\n",
       "    <tr>\n",
       "      <th>0</th>\n",
       "      <td>FECHA_INCIDENTE</td>\n",
       "      <td>Es la fecha el cual se registra la llamada del...</td>\n",
       "    </tr>\n",
       "    <tr>\n",
       "      <th>1</th>\n",
       "      <td>FECHA_INICIO_DESPLAZAMIENTO_MOVIL</td>\n",
       "      <td>Es la fecha el cual se inicia el desplazamient...</td>\n",
       "    </tr>\n",
       "    <tr>\n",
       "      <th>2</th>\n",
       "      <td>CODIGO LOCALIDAD</td>\n",
       "      <td>Es el código de las 20 localidades de la ciuda...</td>\n",
       "    </tr>\n",
       "    <tr>\n",
       "      <th>3</th>\n",
       "      <td>LOCALIDAD</td>\n",
       "      <td>Es la localidad donde sucede el incidente.</td>\n",
       "    </tr>\n",
       "    <tr>\n",
       "      <th>4</th>\n",
       "      <td>EDAD</td>\n",
       "      <td>La edad del paciente.</td>\n",
       "    </tr>\n",
       "    <tr>\n",
       "      <th>5</th>\n",
       "      <td>UNIDAD</td>\n",
       "      <td>La descripción de la edad si es en horas, días...</td>\n",
       "    </tr>\n",
       "    <tr>\n",
       "      <th>6</th>\n",
       "      <td>GENERO</td>\n",
       "      <td>Es la  distinción de genero del paciente</td>\n",
       "    </tr>\n",
       "    <tr>\n",
       "      <th>7</th>\n",
       "      <td>RED</td>\n",
       "      <td>Es la localización a nivel bogota de la red de...</td>\n",
       "    </tr>\n",
       "    <tr>\n",
       "      <th>8</th>\n",
       "      <td>TIPO_INCIDENTE</td>\n",
       "      <td>Es la descripción inicial que tipifica el cent...</td>\n",
       "    </tr>\n",
       "    <tr>\n",
       "      <th>9</th>\n",
       "      <td>PRIORIDAD</td>\n",
       "      <td>Es la tipificación según la prioridad del inci...</td>\n",
       "    </tr>\n",
       "    <tr>\n",
       "      <th>10</th>\n",
       "      <td>MES</td>\n",
       "      <td>Es el mes el cual ocurrió el incidente.</td>\n",
       "    </tr>\n",
       "    <tr>\n",
       "      <th>11</th>\n",
       "      <td>CLASIFICACION FINAL</td>\n",
       "      <td>Es la clasificación final que entrega el centr...</td>\n",
       "    </tr>\n",
       "  </tbody>\n",
       "</table>\n",
       "</div>"
      ],
      "text/plain": [
       "                               NOMBRE  \\\n",
       "0                     FECHA_INCIDENTE   \n",
       "1   FECHA_INICIO_DESPLAZAMIENTO_MOVIL   \n",
       "2                    CODIGO LOCALIDAD   \n",
       "3                           LOCALIDAD   \n",
       "4                                EDAD   \n",
       "5                              UNIDAD   \n",
       "6                              GENERO   \n",
       "7                                 RED   \n",
       "8                      TIPO_INCIDENTE   \n",
       "9                           PRIORIDAD   \n",
       "10                                MES   \n",
       "11                CLASIFICACION FINAL   \n",
       "\n",
       "                                          DESCRIPCION  \n",
       "0   Es la fecha el cual se registra la llamada del...  \n",
       "1   Es la fecha el cual se inicia el desplazamient...  \n",
       "2   Es el código de las 20 localidades de la ciuda...  \n",
       "3          Es la localidad donde sucede el incidente.  \n",
       "4                               La edad del paciente.  \n",
       "5   La descripción de la edad si es en horas, días...  \n",
       "6            Es la  distinción de genero del paciente  \n",
       "7   Es la localización a nivel bogota de la red de...  \n",
       "8   Es la descripción inicial que tipifica el cent...  \n",
       "9   Es la tipificación según la prioridad del inci...  \n",
       "10            Es el mes el cual ocurrió el incidente.  \n",
       "11  Es la clasificación final que entrega el centr...  "
      ]
     },
     "execution_count": 116,
     "metadata": {},
     "output_type": "execute_result"
    }
   ],
   "source": [
    "file = 'gs://{}/{}/data/metadatos-llamadas-urg-y-emer.csv'.format(bucket, directory)\n",
    "df_metadata = pd.read_csv(file, encoding='latin1', sep=';')\n",
    "df_metadata"
   ]
  },
  {
   "cell_type": "markdown",
   "id": "e9553498-4f18-4757-92f7-384a12ebcff2",
   "metadata": {},
   "source": [
    "The final data must contains this and only this columns with that specific headers in order to standarize the data, this is a type of data dictionary but it also must include the data types (**schema**) of each field (**column**)"
   ]
  },
  {
   "cell_type": "markdown",
   "id": "ca09f0ce-cd22-4aca-94f5-61f4264efde5",
   "metadata": {},
   "source": [
    "## Get raw data"
   ]
  },
  {
   "cell_type": "code",
   "execution_count": 117,
   "id": "4b03382e-9a1c-4532-a256-70a085241dac",
   "metadata": {},
   "outputs": [
    {
     "name": "stdout",
     "output_type": "stream",
     "text": [
      "<class 'pandas.core.frame.DataFrame'>\n",
      "RangeIndex: 17018 entries, 0 to 17017\n",
      "Data columns (total 10 columns):\n",
      " #   Column                             Non-Null Count  Dtype \n",
      "---  ------                             --------------  ----- \n",
      " 0   NUMERO_INCIDENTE                   17018 non-null  int64 \n",
      " 1   FECHA_INICIO_DESPLAZAMIENTO-MOVIL  17018 non-null  object\n",
      " 2   CODIGO DE LOCALIDAD                17018 non-null  int64 \n",
      " 3   LOCALIDAD                          17018 non-null  object\n",
      " 4   EDAD                               17018 non-null  int64 \n",
      " 5   UNIDAD                             9371 non-null   object\n",
      " 6   GENERO                             17018 non-null  object\n",
      " 7   RED                                17018 non-null  object\n",
      " 8   TIPO_INCIDENTE                     17018 non-null  object\n",
      " 9   PRIORIDAD                          17018 non-null  object\n",
      "dtypes: int64(3), object(7)\n",
      "memory usage: 1.3+ MB\n",
      "None\n"
     ]
    }
   ],
   "source": [
    "raw_data_sep = get_input_data(bucket=bucket,\n",
    "                          initial_directory=directory,\n",
    "                          filename = 'datos-abiertos-septiembre-2019.csv')\n",
    "print(raw_data_sep.info())"
   ]
  },
  {
   "cell_type": "markdown",
   "id": "5eb9ef0e-e60c-49ce-94f7-6d3f18f71a62",
   "metadata": {},
   "source": [
    "It seems that this file contains already the fields, but need to rename them"
   ]
  },
  {
   "cell_type": "markdown",
   "id": "9bbedf48-cbe2-41c5-bcd7-d99f3d3f4caf",
   "metadata": {},
   "source": [
    "### Rename Columns"
   ]
  },
  {
   "cell_type": "code",
   "execution_count": 118,
   "id": "4d354b06-a4ef-4a8e-81d5-2a1ba773e78f",
   "metadata": {},
   "outputs": [
    {
     "data": {
      "text/html": [
       "<div>\n",
       "<style scoped>\n",
       "    .dataframe tbody tr th:only-of-type {\n",
       "        vertical-align: middle;\n",
       "    }\n",
       "\n",
       "    .dataframe tbody tr th {\n",
       "        vertical-align: top;\n",
       "    }\n",
       "\n",
       "    .dataframe thead th {\n",
       "        text-align: right;\n",
       "    }\n",
       "</style>\n",
       "<table border=\"1\" class=\"dataframe\">\n",
       "  <thead>\n",
       "    <tr style=\"text-align: right;\">\n",
       "      <th></th>\n",
       "      <th>FECHA_INCIDENTE</th>\n",
       "      <th>FECHA_INICIO_DESPLAZAMIENTO_MOVIL</th>\n",
       "      <th>CODIGO_LOCALIDAD</th>\n",
       "      <th>LOCALIDAD</th>\n",
       "      <th>EDAD</th>\n",
       "      <th>UNIDAD</th>\n",
       "      <th>GENERO</th>\n",
       "      <th>RED</th>\n",
       "      <th>TIPO_INCIDENTE</th>\n",
       "      <th>PRIORIDAD</th>\n",
       "    </tr>\n",
       "  </thead>\n",
       "  <tbody>\n",
       "    <tr>\n",
       "      <th>0</th>\n",
       "      <td>538006196</td>\n",
       "      <td>2019-09-01 00:05:32</td>\n",
       "      <td>18</td>\n",
       "      <td>Rafael Uribe Uribe</td>\n",
       "      <td>53</td>\n",
       "      <td>Años</td>\n",
       "      <td>MASCULINO</td>\n",
       "      <td>Sur</td>\n",
       "      <td>ACCIDENTE DE TRÁNSITO CON HERIDOS/MUERTOS</td>\n",
       "      <td>ALTA</td>\n",
       "    </tr>\n",
       "    <tr>\n",
       "      <th>1</th>\n",
       "      <td>538024196</td>\n",
       "      <td>2019-09-01 00:12:07</td>\n",
       "      <td>11</td>\n",
       "      <td>Suba</td>\n",
       "      <td>0</td>\n",
       "      <td>NaN</td>\n",
       "      <td>SIN_DATO</td>\n",
       "      <td>Norte</td>\n",
       "      <td>ACCIDENTE DE TRÁNSITO CON HERIDOS/MUERTOS</td>\n",
       "      <td>ALTA</td>\n",
       "    </tr>\n",
       "    <tr>\n",
       "      <th>2</th>\n",
       "      <td>538031196</td>\n",
       "      <td>2019-09-01 00:05:39</td>\n",
       "      <td>8</td>\n",
       "      <td>Kennedy</td>\n",
       "      <td>26</td>\n",
       "      <td>Años</td>\n",
       "      <td>MASCULINO</td>\n",
       "      <td>Norte</td>\n",
       "      <td>ACCIDENTE DE TRÁNSITO CON HERIDOS/MUERTOS</td>\n",
       "      <td>ALTA</td>\n",
       "    </tr>\n",
       "    <tr>\n",
       "      <th>3</th>\n",
       "      <td>538084196</td>\n",
       "      <td>2019-09-01 00:13:39</td>\n",
       "      <td>11</td>\n",
       "      <td>Suba</td>\n",
       "      <td>24</td>\n",
       "      <td>Años</td>\n",
       "      <td>MASCULINO</td>\n",
       "      <td>Norte</td>\n",
       "      <td>ACCIDENTE DE TRÁNSITO CON HERIDOS/MUERTOS</td>\n",
       "      <td>ALTA</td>\n",
       "    </tr>\n",
       "    <tr>\n",
       "      <th>4</th>\n",
       "      <td>538123196</td>\n",
       "      <td>2019-09-01 00:20:31</td>\n",
       "      <td>2</td>\n",
       "      <td>Chapinero</td>\n",
       "      <td>0</td>\n",
       "      <td>NaN</td>\n",
       "      <td>SIN_DATO</td>\n",
       "      <td>Norte</td>\n",
       "      <td>INCONSCIENTE/PARO CARDIORRESPIRATORIO</td>\n",
       "      <td>ALTA</td>\n",
       "    </tr>\n",
       "  </tbody>\n",
       "</table>\n",
       "</div>"
      ],
      "text/plain": [
       "   FECHA_INCIDENTE FECHA_INICIO_DESPLAZAMIENTO_MOVIL  CODIGO_LOCALIDAD  \\\n",
       "0        538006196               2019-09-01 00:05:32                18   \n",
       "1        538024196               2019-09-01 00:12:07                11   \n",
       "2        538031196               2019-09-01 00:05:39                 8   \n",
       "3        538084196               2019-09-01 00:13:39                11   \n",
       "4        538123196               2019-09-01 00:20:31                 2   \n",
       "\n",
       "             LOCALIDAD  EDAD UNIDAD     GENERO    RED  \\\n",
       "0   Rafael Uribe Uribe    53   Años  MASCULINO    Sur   \n",
       "1                 Suba     0    NaN   SIN_DATO  Norte   \n",
       "2              Kennedy    26   Años  MASCULINO  Norte   \n",
       "3                 Suba    24   Años  MASCULINO  Norte   \n",
       "4            Chapinero     0    NaN   SIN_DATO  Norte   \n",
       "\n",
       "                              TIPO_INCIDENTE PRIORIDAD  \n",
       "0  ACCIDENTE DE TRÁNSITO CON HERIDOS/MUERTOS      ALTA  \n",
       "1  ACCIDENTE DE TRÁNSITO CON HERIDOS/MUERTOS      ALTA  \n",
       "2  ACCIDENTE DE TRÁNSITO CON HERIDOS/MUERTOS      ALTA  \n",
       "3  ACCIDENTE DE TRÁNSITO CON HERIDOS/MUERTOS      ALTA  \n",
       "4     INCONSCIENTE/PARO CARDIORRESPIRATORIO       ALTA  "
      ]
     },
     "execution_count": 118,
     "metadata": {},
     "output_type": "execute_result"
    }
   ],
   "source": [
    "# Don't let white spaces between headers to avoid errors during the pipeline\n",
    "# This is sometimes called a recipe for etl\n",
    "raw_data_sep.rename(\n",
    "    columns = {\n",
    "        'NUMERO_INCIDENTE'                  :'FECHA_INCIDENTE',\n",
    "        'FECHA_INICIO_DESPLAZAMIENTO-MOVIL' : 'FECHA_INICIO_DESPLAZAMIENTO_MOVIL',\n",
    "        'CODIGO DE LOCALIDAD'               : 'CODIGO_LOCALIDAD',\n",
    "    },\n",
    "    inplace=True\n",
    ")\n",
    "raw_data_sep.head()"
   ]
  },
  {
   "cell_type": "markdown",
   "id": "188353cb-3a29-4285-9e1d-5ca19ed9105c",
   "metadata": {},
   "source": [
    "### Check values per field\n",
    "--------\n",
    "1. FECHA_INICIO_DESPLAZAMIENTO_MOVIL\n",
    "2. LOCALIDAD\n",
    "3. UNIDAD\n",
    "4. GENERO\n",
    "5. RED\n",
    "6. TIPO_INCIDENTE\n",
    "7. PRIORIDAD"
   ]
  },
  {
   "cell_type": "code",
   "execution_count": 119,
   "id": "4b95eec7-4ce5-4ed6-b939-a6d4305e6b9e",
   "metadata": {},
   "outputs": [
    {
     "data": {
      "text/html": [
       "<div>\n",
       "<style scoped>\n",
       "    .dataframe tbody tr th:only-of-type {\n",
       "        vertical-align: middle;\n",
       "    }\n",
       "\n",
       "    .dataframe tbody tr th {\n",
       "        vertical-align: top;\n",
       "    }\n",
       "\n",
       "    .dataframe thead th {\n",
       "        text-align: right;\n",
       "    }\n",
       "</style>\n",
       "<table border=\"1\" class=\"dataframe\">\n",
       "  <thead>\n",
       "    <tr style=\"text-align: right;\">\n",
       "      <th></th>\n",
       "      <th>FECHA_INCIDENTE</th>\n",
       "      <th>FECHA_INICIO_DESPLAZAMIENTO_MOVIL</th>\n",
       "      <th>CODIGO_LOCALIDAD</th>\n",
       "      <th>LOCALIDAD</th>\n",
       "      <th>EDAD</th>\n",
       "      <th>UNIDAD</th>\n",
       "      <th>GENERO</th>\n",
       "      <th>RED</th>\n",
       "      <th>TIPO_INCIDENTE</th>\n",
       "      <th>PRIORIDAD</th>\n",
       "    </tr>\n",
       "  </thead>\n",
       "  <tbody>\n",
       "    <tr>\n",
       "      <th>0</th>\n",
       "      <td>538006196</td>\n",
       "      <td>2019-09-01 00:05:32</td>\n",
       "      <td>18</td>\n",
       "      <td>Rafael Uribe Uribe</td>\n",
       "      <td>53</td>\n",
       "      <td>Años</td>\n",
       "      <td>MASCULINO</td>\n",
       "      <td>Sur</td>\n",
       "      <td>ACCIDENTE DE TRÁNSITO CON HERIDOS/MUERTOS</td>\n",
       "      <td>ALTA</td>\n",
       "    </tr>\n",
       "    <tr>\n",
       "      <th>1</th>\n",
       "      <td>538024196</td>\n",
       "      <td>2019-09-01 00:12:07</td>\n",
       "      <td>11</td>\n",
       "      <td>Suba</td>\n",
       "      <td>0</td>\n",
       "      <td>NaN</td>\n",
       "      <td>SIN_DATO</td>\n",
       "      <td>Norte</td>\n",
       "      <td>ACCIDENTE DE TRÁNSITO CON HERIDOS/MUERTOS</td>\n",
       "      <td>ALTA</td>\n",
       "    </tr>\n",
       "    <tr>\n",
       "      <th>2</th>\n",
       "      <td>538031196</td>\n",
       "      <td>2019-09-01 00:05:39</td>\n",
       "      <td>8</td>\n",
       "      <td>Kennedy</td>\n",
       "      <td>26</td>\n",
       "      <td>Años</td>\n",
       "      <td>MASCULINO</td>\n",
       "      <td>Norte</td>\n",
       "      <td>ACCIDENTE DE TRÁNSITO CON HERIDOS/MUERTOS</td>\n",
       "      <td>ALTA</td>\n",
       "    </tr>\n",
       "    <tr>\n",
       "      <th>3</th>\n",
       "      <td>538084196</td>\n",
       "      <td>2019-09-01 00:13:39</td>\n",
       "      <td>11</td>\n",
       "      <td>Suba</td>\n",
       "      <td>24</td>\n",
       "      <td>Años</td>\n",
       "      <td>MASCULINO</td>\n",
       "      <td>Norte</td>\n",
       "      <td>ACCIDENTE DE TRÁNSITO CON HERIDOS/MUERTOS</td>\n",
       "      <td>ALTA</td>\n",
       "    </tr>\n",
       "    <tr>\n",
       "      <th>4</th>\n",
       "      <td>538123196</td>\n",
       "      <td>2019-09-01 00:20:31</td>\n",
       "      <td>2</td>\n",
       "      <td>Chapinero</td>\n",
       "      <td>0</td>\n",
       "      <td>NaN</td>\n",
       "      <td>SIN_DATO</td>\n",
       "      <td>Norte</td>\n",
       "      <td>INCONSCIENTE/PARO CARDIORRESPIRATORIO</td>\n",
       "      <td>ALTA</td>\n",
       "    </tr>\n",
       "  </tbody>\n",
       "</table>\n",
       "</div>"
      ],
      "text/plain": [
       "   FECHA_INCIDENTE FECHA_INICIO_DESPLAZAMIENTO_MOVIL  CODIGO_LOCALIDAD  \\\n",
       "0        538006196               2019-09-01 00:05:32                18   \n",
       "1        538024196               2019-09-01 00:12:07                11   \n",
       "2        538031196               2019-09-01 00:05:39                 8   \n",
       "3        538084196               2019-09-01 00:13:39                11   \n",
       "4        538123196               2019-09-01 00:20:31                 2   \n",
       "\n",
       "             LOCALIDAD  EDAD UNIDAD     GENERO    RED  \\\n",
       "0   Rafael Uribe Uribe    53   Años  MASCULINO    Sur   \n",
       "1                 Suba     0    NaN   SIN_DATO  Norte   \n",
       "2              Kennedy    26   Años  MASCULINO  Norte   \n",
       "3                 Suba    24   Años  MASCULINO  Norte   \n",
       "4            Chapinero     0    NaN   SIN_DATO  Norte   \n",
       "\n",
       "                              TIPO_INCIDENTE PRIORIDAD  \n",
       "0  ACCIDENTE DE TRÁNSITO CON HERIDOS/MUERTOS      ALTA  \n",
       "1  ACCIDENTE DE TRÁNSITO CON HERIDOS/MUERTOS      ALTA  \n",
       "2  ACCIDENTE DE TRÁNSITO CON HERIDOS/MUERTOS      ALTA  \n",
       "3  ACCIDENTE DE TRÁNSITO CON HERIDOS/MUERTOS      ALTA  \n",
       "4     INCONSCIENTE/PARO CARDIORRESPIRATORIO       ALTA  "
      ]
     },
     "execution_count": 119,
     "metadata": {},
     "output_type": "execute_result"
    }
   ],
   "source": [
    "col = 'FECHA_INICIO_DESPLAZAMIENTO_MOVIL'\n",
    "raw_data_sep[col] = pd.to_datetime(raw_data_sep[col], format='%Y/%m/%d %H:%M') \n",
    "raw_data_sep[col].value_counts\n",
    "raw_data_sep.head()"
   ]
  },
  {
   "cell_type": "code",
   "execution_count": 121,
   "id": "c7e613bd-d1d0-49bd-b7a3-919e2ed04957",
   "metadata": {},
   "outputs": [
    {
     "data": {
      "text/plain": [
       "Kennedy               2398\n",
       "Suba                  1634\n",
       "Engativa              1631\n",
       "Bosa                  1294\n",
       "Ciudad Bolivar        1138\n",
       "Puente Aranda          938\n",
       "Rafael Uribe Uribe     854\n",
       "Usaquen                829\n",
       "San Cristobal          826\n",
       "Fontibon               809\n",
       "Chapinero              749\n",
       "Barrios Unidos         616\n",
       "Tunjuelito             603\n",
       "Los Martires           593\n",
       "Usme                   572\n",
       "Santa Fe               549\n",
       "Teusaquillo            540\n",
       "Antonio Nariño         362\n",
       "La Candelaria           83\n",
       "Name: LOCALIDAD, dtype: int64"
      ]
     },
     "execution_count": 121,
     "metadata": {},
     "output_type": "execute_result"
    }
   ],
   "source": [
    "col = 'LOCALIDAD'\n",
    "raw_data_sep[col] = raw_data_sep[col].apply(lambda x: x.strip())\n",
    "raw_data_sep[col].value_counts(dropna=False)"
   ]
  },
  {
   "cell_type": "markdown",
   "id": "1af92623-c419-4db6-b0a2-5d0d0dc158d2",
   "metadata": {},
   "source": [
    "It seems that in some fields exist a white space at the begining of the values, probably at the end too, lets clean them all"
   ]
  },
  {
   "cell_type": "code",
   "execution_count": 122,
   "id": "ea1c48db-18e8-41a3-8377-1c41b2582423",
   "metadata": {},
   "outputs": [
    {
     "data": {
      "text/html": [
       "<div>\n",
       "<style scoped>\n",
       "    .dataframe tbody tr th:only-of-type {\n",
       "        vertical-align: middle;\n",
       "    }\n",
       "\n",
       "    .dataframe tbody tr th {\n",
       "        vertical-align: top;\n",
       "    }\n",
       "\n",
       "    .dataframe thead th {\n",
       "        text-align: right;\n",
       "    }\n",
       "</style>\n",
       "<table border=\"1\" class=\"dataframe\">\n",
       "  <thead>\n",
       "    <tr style=\"text-align: right;\">\n",
       "      <th></th>\n",
       "      <th>FECHA_INCIDENTE</th>\n",
       "      <th>FECHA_INICIO_DESPLAZAMIENTO_MOVIL</th>\n",
       "      <th>CODIGO_LOCALIDAD</th>\n",
       "      <th>LOCALIDAD</th>\n",
       "      <th>EDAD</th>\n",
       "      <th>UNIDAD</th>\n",
       "      <th>GENERO</th>\n",
       "      <th>RED</th>\n",
       "      <th>TIPO_INCIDENTE</th>\n",
       "      <th>PRIORIDAD</th>\n",
       "    </tr>\n",
       "  </thead>\n",
       "  <tbody>\n",
       "    <tr>\n",
       "      <th>0</th>\n",
       "      <td>538006196</td>\n",
       "      <td>2019-09-01 00:05:32</td>\n",
       "      <td>18</td>\n",
       "      <td>Rafael Uribe Uribe</td>\n",
       "      <td>53</td>\n",
       "      <td>Años</td>\n",
       "      <td>MASCULINO</td>\n",
       "      <td>Sur</td>\n",
       "      <td>ACCIDENTE DE TRÁNSITO CON HERIDOS/MUERTOS</td>\n",
       "      <td>ALTA</td>\n",
       "    </tr>\n",
       "    <tr>\n",
       "      <th>1</th>\n",
       "      <td>538024196</td>\n",
       "      <td>2019-09-01 00:12:07</td>\n",
       "      <td>11</td>\n",
       "      <td>Suba</td>\n",
       "      <td>0</td>\n",
       "      <td>NaN</td>\n",
       "      <td>SIN_DATO</td>\n",
       "      <td>Norte</td>\n",
       "      <td>ACCIDENTE DE TRÁNSITO CON HERIDOS/MUERTOS</td>\n",
       "      <td>ALTA</td>\n",
       "    </tr>\n",
       "    <tr>\n",
       "      <th>2</th>\n",
       "      <td>538031196</td>\n",
       "      <td>2019-09-01 00:05:39</td>\n",
       "      <td>8</td>\n",
       "      <td>Kennedy</td>\n",
       "      <td>26</td>\n",
       "      <td>Años</td>\n",
       "      <td>MASCULINO</td>\n",
       "      <td>Norte</td>\n",
       "      <td>ACCIDENTE DE TRÁNSITO CON HERIDOS/MUERTOS</td>\n",
       "      <td>ALTA</td>\n",
       "    </tr>\n",
       "    <tr>\n",
       "      <th>3</th>\n",
       "      <td>538084196</td>\n",
       "      <td>2019-09-01 00:13:39</td>\n",
       "      <td>11</td>\n",
       "      <td>Suba</td>\n",
       "      <td>24</td>\n",
       "      <td>Años</td>\n",
       "      <td>MASCULINO</td>\n",
       "      <td>Norte</td>\n",
       "      <td>ACCIDENTE DE TRÁNSITO CON HERIDOS/MUERTOS</td>\n",
       "      <td>ALTA</td>\n",
       "    </tr>\n",
       "    <tr>\n",
       "      <th>4</th>\n",
       "      <td>538123196</td>\n",
       "      <td>2019-09-01 00:20:31</td>\n",
       "      <td>2</td>\n",
       "      <td>Chapinero</td>\n",
       "      <td>0</td>\n",
       "      <td>NaN</td>\n",
       "      <td>SIN_DATO</td>\n",
       "      <td>Norte</td>\n",
       "      <td>INCONSCIENTE/PARO CARDIORRESPIRATORIO</td>\n",
       "      <td>ALTA</td>\n",
       "    </tr>\n",
       "  </tbody>\n",
       "</table>\n",
       "</div>"
      ],
      "text/plain": [
       "   FECHA_INCIDENTE FECHA_INICIO_DESPLAZAMIENTO_MOVIL  CODIGO_LOCALIDAD  \\\n",
       "0        538006196               2019-09-01 00:05:32                18   \n",
       "1        538024196               2019-09-01 00:12:07                11   \n",
       "2        538031196               2019-09-01 00:05:39                 8   \n",
       "3        538084196               2019-09-01 00:13:39                11   \n",
       "4        538123196               2019-09-01 00:20:31                 2   \n",
       "\n",
       "            LOCALIDAD  EDAD UNIDAD     GENERO    RED  \\\n",
       "0  Rafael Uribe Uribe    53   Años  MASCULINO    Sur   \n",
       "1                Suba     0    NaN   SIN_DATO  Norte   \n",
       "2             Kennedy    26   Años  MASCULINO  Norte   \n",
       "3                Suba    24   Años  MASCULINO  Norte   \n",
       "4           Chapinero     0    NaN   SIN_DATO  Norte   \n",
       "\n",
       "                              TIPO_INCIDENTE PRIORIDAD  \n",
       "0  ACCIDENTE DE TRÁNSITO CON HERIDOS/MUERTOS      ALTA  \n",
       "1  ACCIDENTE DE TRÁNSITO CON HERIDOS/MUERTOS      ALTA  \n",
       "2  ACCIDENTE DE TRÁNSITO CON HERIDOS/MUERTOS      ALTA  \n",
       "3  ACCIDENTE DE TRÁNSITO CON HERIDOS/MUERTOS      ALTA  \n",
       "4     INCONSCIENTE/PARO CARDIORRESPIRATORIO       ALTA  "
      ]
     },
     "execution_count": 122,
     "metadata": {},
     "output_type": "execute_result"
    }
   ],
   "source": [
    "raw_data_sep.head()"
   ]
  },
  {
   "cell_type": "code",
   "execution_count": 126,
   "id": "85e269d3-7ebe-4bbc-abf9-223995e336c1",
   "metadata": {},
   "outputs": [
    {
     "data": {
      "text/plain": [
       "Años     9311\n",
       "NaN      7647\n",
       "Meses      42\n",
       "Dias       10\n",
       "Horas       8\n",
       "Name: UNIDAD, dtype: int64"
      ]
     },
     "execution_count": 126,
     "metadata": {},
     "output_type": "execute_result"
    }
   ],
   "source": [
    "raw_data_sep['UNIDAD'].value_counts(dropna=False)"
   ]
  },
  {
   "cell_type": "code",
   "execution_count": 127,
   "id": "a1aa3928-1cf1-48f8-a449-3664363c0c13",
   "metadata": {},
   "outputs": [
    {
     "data": {
      "text/plain": [
       "Años        9311\n",
       "SIN_DATO    7647\n",
       "Meses         42\n",
       "Dias          10\n",
       "Horas          8\n",
       "Name: UNIDAD, dtype: int64"
      ]
     },
     "execution_count": 127,
     "metadata": {},
     "output_type": "execute_result"
    }
   ],
   "source": [
    "raw_data_sep['UNIDAD'].fillna('SIN_DATO').value_counts()"
   ]
  },
  {
   "cell_type": "code",
   "execution_count": 131,
   "id": "440653d8-5eda-4138-8e1e-146724e4931a",
   "metadata": {},
   "outputs": [
    {
     "data": {
      "text/plain": [
       "SIN_DATO     7632\n",
       "MASCULINO    5082\n",
       "FEMENINO     4304\n",
       "Name: GENERO, dtype: int64"
      ]
     },
     "execution_count": 131,
     "metadata": {},
     "output_type": "execute_result"
    }
   ],
   "source": [
    "col = 'GENERO'\n",
    "raw_data_sep[col] = raw_data_sep[col].apply(lambda x: x.strip())\n",
    "raw_data_sep[col].value_counts(dropna=False)   # here we could apply the same technique as before to avoid errors"
   ]
  },
  {
   "cell_type": "code",
   "execution_count": 132,
   "id": "ebe821cb-ee86-4486-af76-c192eb2c5122",
   "metadata": {},
   "outputs": [
    {
     "data": {
      "text/plain": [
       "Norte      7343\n",
       "Sur        6360\n",
       "Privada    3315\n",
       "Name: RED, dtype: int64"
      ]
     },
     "execution_count": 132,
     "metadata": {},
     "output_type": "execute_result"
    }
   ],
   "source": [
    "col = 'RED'\n",
    "raw_data_sep[col] = raw_data_sep[col].apply(lambda x: x.strip())\n",
    "raw_data_sep[col].value_counts(dropna=False)"
   ]
  },
  {
   "cell_type": "code",
   "execution_count": 133,
   "id": "2ce261b7-3ebb-45b5-8915-4b5aa1921d27",
   "metadata": {},
   "outputs": [
    {
     "data": {
      "text/plain": [
       "ACCIDENTE DE TRÁNSITO CON HERIDOS/MUERTOS    6333\n",
       "INCONSCIENTE/PARO CARDIORRESPIRATORIO        1720\n",
       "DIFICULTAD RESPIRATORIA                      1386\n",
       "ENFERMO                                      1137\n",
       "CONVULSIONES                                 1039\n",
       "HERIDOS                                       834\n",
       "INTENTO DE SUICIDIO                           653\n",
       "DOLOR TORÁCICO                                629\n",
       "TRASTORNO MENTAL                              621\n",
       "LESIONES PERSONALES                           593\n",
       "PATOLOGÍA GINECO - OBSTÉTRICA                 421\n",
       "SÍNTOMAS GASTROINTESTINALES                   360\n",
       "ACCIDENTE CEREBRO VASCULAR                    352\n",
       "CAÍDA                                         334\n",
       "INTOXICACIONES                                156\n",
       "IDEAS DE SUICIDIO                             113\n",
       "VIOLENCIA SEXUAL                               48\n",
       "INCENDIO ESTRUCTURAL                           40\n",
       "SIN_DATO                                       32\n",
       "SANGRADO VAGINAL                               25\n",
       "ACCIDENTE TRÁNSITO SIMPLE                      23\n",
       "RESCATES                                       20\n",
       "MUERTE NATURAL                                 18\n",
       "ELEMENTO CAÍDO Y/O EN PELIGRO DE CAER.         16\n",
       "SOLICITUD APOYO / DESACATO                     15\n",
       "RIÑA                                           13\n",
       "EXPLOSIÓN                                      10\n",
       "ABRIR DOMICILIO                                 8\n",
       "QUEMADURAS                                      8\n",
       "FUGA DE GAS NATURAL O PROPANO                   6\n",
       "MALTRATO                                        6\n",
       "ANIMAL PELIGROSO                                5\n",
       "ELECTROCUCIÓN / RESCATE                         5\n",
       "PERSONA PIDIENDO AUXILIO                        5\n",
       "MANIFESTACIÓN / MOTÍN                           4\n",
       "INCIDENTE RESCATE ACUÁTICO                      4\n",
       "INCENDIO VEHICULAR                              3\n",
       "EMBRIAGUEZ                                      3\n",
       "ATRACO / HURTO EN PROCES                        3\n",
       "INCENDIO                                        2\n",
       "INUNDACIÓN                                      2\n",
       "PERSONA TENDIDA EN LA VÍA                       2\n",
       "DAÑOS EN SERVICIOS                              2\n",
       "MUERTO                                          2\n",
       "VERIFICAR SITUACIÓN                             1\n",
       "RESCATES MONTAÑA                                1\n",
       "HABITANTE DE LA CALLE                           1\n",
       "PREVENCIÓN                                      1\n",
       "INCENDIO FORESTAL                               1\n",
       "DESLIZAMIENTO                                   1\n",
       "DELINCUENTE CAPTURADO POR CIVIL                 1\n",
       "Name: TIPO_INCIDENTE, dtype: int64"
      ]
     },
     "execution_count": 133,
     "metadata": {},
     "output_type": "execute_result"
    }
   ],
   "source": [
    "col = 'TIPO_INCIDENTE'\n",
    "raw_data_sep[col] = raw_data_sep[col].apply(lambda x: x.strip())\n",
    "raw_data_sep[col].value_counts(dropna=False)"
   ]
  },
  {
   "cell_type": "code",
   "execution_count": 134,
   "id": "b0b0ce51-ea1a-4bdb-8c12-d41f611bb276",
   "metadata": {},
   "outputs": [
    {
     "data": {
      "text/plain": [
       "ALTA        14243\n",
       "MEDIA        2550\n",
       "BAJA          204\n",
       "SIN_D          15\n",
       "SIN_DATO        6\n",
       "Name: PRIORIDAD, dtype: int64"
      ]
     },
     "execution_count": 134,
     "metadata": {},
     "output_type": "execute_result"
    }
   ],
   "source": [
    "col = 'PRIORIDAD'\n",
    "raw_data_sep[col] = raw_data_sep[col].apply(lambda x: x.strip())\n",
    "raw_data_sep[col].value_counts(dropna=False)"
   ]
  },
  {
   "cell_type": "markdown",
   "id": "e6f30471-1464-47a9-a444-970a302baea7",
   "metadata": {},
   "source": [
    "# Profile of the Data\n",
    "------\n",
    "first install pandas profiling, from a terminal\n",
    "\n",
    "````\n",
    "pip install pandas-profiling\n",
    "````"
   ]
  },
  {
   "cell_type": "code",
   "execution_count": 23,
   "id": "c644d684-7ca4-46f2-8f02-36076567be21",
   "metadata": {},
   "outputs": [
    {
     "data": {
      "text/plain": [
       "'/home/jupyter/ESEIT_BigData'"
      ]
     },
     "execution_count": 23,
     "metadata": {},
     "output_type": "execute_result"
    }
   ],
   "source": [
    "project_dir"
   ]
  },
  {
   "cell_type": "code",
   "execution_count": 135,
   "id": "66f66769-d164-42e4-bcfb-e43b7fef1859",
   "metadata": {},
   "outputs": [
    {
     "data": {
      "application/vnd.jupyter.widget-view+json": {
       "model_id": "978a20d08e2143f59db2524c1a5f3fdb",
       "version_major": 2,
       "version_minor": 0
      },
      "text/plain": [
       "Summarize dataset:   0%|          | 0/5 [00:00<?, ?it/s]"
      ]
     },
     "metadata": {},
     "output_type": "display_data"
    },
    {
     "data": {
      "application/vnd.jupyter.widget-view+json": {
       "model_id": "774c1115fb8546b4a4e4cab8054d64c8",
       "version_major": 2,
       "version_minor": 0
      },
      "text/plain": [
       "Generate report structure:   0%|          | 0/1 [00:00<?, ?it/s]"
      ]
     },
     "metadata": {},
     "output_type": "display_data"
    },
    {
     "data": {
      "application/vnd.jupyter.widget-view+json": {
       "model_id": "291e8204598348029c230745f4eb1030",
       "version_major": 2,
       "version_minor": 0
      },
      "text/plain": [
       "Render HTML:   0%|          | 0/1 [00:00<?, ?it/s]"
      ]
     },
     "metadata": {},
     "output_type": "display_data"
    },
    {
     "data": {
      "application/vnd.jupyter.widget-view+json": {
       "model_id": "3f45ddc6a2534b62a868e5c7cbac6301",
       "version_major": 2,
       "version_minor": 0
      },
      "text/plain": [
       "Export report to file:   0%|          | 0/1 [00:00<?, ?it/s]"
      ]
     },
     "metadata": {},
     "output_type": "display_data"
    }
   ],
   "source": [
    "profile = ProfileReport(df=raw_data_sep)\n",
    "profile.to_file(output_file=project_dir + '/reports/'+'profile_raw_data_septiembre_2019.html')"
   ]
  },
  {
   "cell_type": "markdown",
   "id": "a7a93408-dff3-402c-8324-2262c187a797",
   "metadata": {},
   "source": [
    "Form the initial report of the file we see that are duplicates rows in the table, we need to subtract them"
   ]
  },
  {
   "cell_type": "markdown",
   "id": "113216ea-7395-4cb0-8691-b9554ec270ab",
   "metadata": {},
   "source": [
    "### Remove duplicates"
   ]
  },
  {
   "cell_type": "code",
   "execution_count": 136,
   "id": "67b41e99-6206-4a24-b838-b8f8e71ae17f",
   "metadata": {},
   "outputs": [
    {
     "name": "stdout",
     "output_type": "stream",
     "text": [
      "Number of rows before cleaning: 17018\n",
      "Number of rows after cleaning: 16267\n"
     ]
    }
   ],
   "source": [
    "print('Number of rows before cleaning:', raw_data_sep.shape[0] )\n",
    "raw_data_sep.drop_duplicates(inplace=True)\n",
    "print('Number of rows after cleaning:', raw_data_sep.shape[0] )"
   ]
  },
  {
   "cell_type": "markdown",
   "id": "a89276dd-f903-4752-9f7f-15e360c7207f",
   "metadata": {},
   "source": [
    "### Save the final table\n",
    "use to_csv to save the table"
   ]
  },
  {
   "cell_type": "code",
   "execution_count": 137,
   "id": "33a9d6aa-ed3d-465b-a920-404a17490f79",
   "metadata": {},
   "outputs": [],
   "source": [
    "# saving in a local directory\n",
    "raw_data_sep.to_csv(project_dir + '/data/processed/' +'clean_llamadas_123_septiembre_2019.csv', encoding='latin1', sep=';', index=False)"
   ]
  },
  {
   "cell_type": "code",
   "execution_count": null,
   "id": "45a07cac-a200-4a9a-86dd-1d5a62ab5c4f",
   "metadata": {},
   "outputs": [],
   "source": []
  }
 ],
 "metadata": {
  "environment": {
   "kernel": "python3",
   "name": "tf2-gpu.2-8.m91",
   "type": "gcloud",
   "uri": "gcr.io/deeplearning-platform-release/tf2-gpu.2-8:m91"
  },
  "kernelspec": {
   "display_name": "Python 3",
   "language": "python",
   "name": "python3"
  },
  "language_info": {
   "codemirror_mode": {
    "name": "ipython",
    "version": 3
   },
   "file_extension": ".py",
   "mimetype": "text/x-python",
   "name": "python",
   "nbconvert_exporter": "python",
   "pygments_lexer": "ipython3",
   "version": "3.7.12"
  }
 },
 "nbformat": 4,
 "nbformat_minor": 5
}
