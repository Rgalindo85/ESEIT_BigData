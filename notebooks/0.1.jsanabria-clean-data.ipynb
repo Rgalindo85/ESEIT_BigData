{
 "cells": [
  {
   "cell_type": "markdown",
   "id": "a7dac6ca-3d99-49ad-b3bd-76c1144c6939",
   "metadata": {},
   "source": [
    "# Read and clean a single file\n",
    "---------\n",
    "Nombre: **Julio Enrique Sanabria Quintana**"
   ]
  },
  {
   "cell_type": "code",
   "execution_count": 1,
   "id": "19dc2eac-db51-40ad-9834-b50602429973",
   "metadata": {},
   "outputs": [],
   "source": [
    "import os\n",
    "import sys\n",
    "import logging\n",
    "import pandas as pd\n",
    "import unidecode\n",
    "\n",
    "\n",
    "from pandas_profiling import ProfileReport\n",
    "\n",
    "\n",
    "project_dir = os.path.dirname(os.path.abspath('.')) # get the path of the project, if doesn't work use os.getcwd() instead and use rfind to find the project dir\n",
    "sys.path.append(os.path.join(project_dir, 'src', 'data'))\n",
    "\n",
    "from data_manipulator import get_input_data\n",
    "\n",
    "bucket = 'esp_bigdata'\n",
    "directory = 'BigData'"
   ]
  },
  {
   "cell_type": "code",
   "execution_count": 2,
   "id": "f9922eb1-aef9-4e5c-a1be-8738037888f7",
   "metadata": {},
   "outputs": [],
   "source": [
    "def unificando_columnas(data):\n",
    "    data.rename(\n",
    "    columns = {\n",
    "        'FECHA_INICIO_DESPLAZAMIENTO-MOVIL' : 'FECHA_INICIO_DESPLAZAMIENTO_MOVIL',\n",
    "        'FECHA_DESPACHO_518': 'FECHA_INICIO_DESPLAZAMIENTO_MOVIL',\n",
    "        'CODIGO DE LOCALIDAD'               : 'CODIGO_LOCALIDAD',\n",
    "        'TIPO DE INCIDIDENT'                : 'TIPO_INCIDENTE',\n",
    "        'CLASIFICACION FINAL'               : 'CLASIFICACION_FINAL'\n",
    "    },inplace=True)\n",
    "    return(data)"
   ]
  },
  {
   "cell_type": "markdown",
   "id": "6531655d-2cc6-40bf-8f3d-af0e28004fe1",
   "metadata": {},
   "source": [
    "## Read Metadata\n",
    "-----\n",
    "General info for each relevant column"
   ]
  },
  {
   "cell_type": "code",
   "execution_count": 3,
   "id": "4e1ea718-96b7-4eaa-95e7-7d9f314b5b56",
   "metadata": {},
   "outputs": [
    {
     "data": {
      "text/html": [
       "<div>\n",
       "<style scoped>\n",
       "    .dataframe tbody tr th:only-of-type {\n",
       "        vertical-align: middle;\n",
       "    }\n",
       "\n",
       "    .dataframe tbody tr th {\n",
       "        vertical-align: top;\n",
       "    }\n",
       "\n",
       "    .dataframe thead th {\n",
       "        text-align: right;\n",
       "    }\n",
       "</style>\n",
       "<table border=\"1\" class=\"dataframe\">\n",
       "  <thead>\n",
       "    <tr style=\"text-align: right;\">\n",
       "      <th></th>\n",
       "      <th>NOMBRE</th>\n",
       "      <th>DESCRIPCION</th>\n",
       "    </tr>\n",
       "  </thead>\n",
       "  <tbody>\n",
       "    <tr>\n",
       "      <th>0</th>\n",
       "      <td>FECHA_INCIDENTE</td>\n",
       "      <td>Es la fecha el cual se registra la llamada del...</td>\n",
       "    </tr>\n",
       "    <tr>\n",
       "      <th>1</th>\n",
       "      <td>FECHA_INICIO_DESPLAZAMIENTO_MOVIL</td>\n",
       "      <td>Es la fecha el cual se inicia el desplazamient...</td>\n",
       "    </tr>\n",
       "    <tr>\n",
       "      <th>2</th>\n",
       "      <td>CODIGO LOCALIDAD</td>\n",
       "      <td>Es el código de las 20 localidades de la ciuda...</td>\n",
       "    </tr>\n",
       "    <tr>\n",
       "      <th>3</th>\n",
       "      <td>LOCALIDAD</td>\n",
       "      <td>Es la localidad donde sucede el incidente.</td>\n",
       "    </tr>\n",
       "    <tr>\n",
       "      <th>4</th>\n",
       "      <td>EDAD</td>\n",
       "      <td>La edad del paciente.</td>\n",
       "    </tr>\n",
       "    <tr>\n",
       "      <th>5</th>\n",
       "      <td>UNIDAD</td>\n",
       "      <td>La descripción de la edad si es en horas, días...</td>\n",
       "    </tr>\n",
       "    <tr>\n",
       "      <th>6</th>\n",
       "      <td>GENERO</td>\n",
       "      <td>Es la  distinción de genero del paciente</td>\n",
       "    </tr>\n",
       "    <tr>\n",
       "      <th>7</th>\n",
       "      <td>RED</td>\n",
       "      <td>Es la localización a nivel bogota de la red de...</td>\n",
       "    </tr>\n",
       "    <tr>\n",
       "      <th>8</th>\n",
       "      <td>TIPO_INCIDENTE</td>\n",
       "      <td>Es la descripción inicial que tipifica el cent...</td>\n",
       "    </tr>\n",
       "    <tr>\n",
       "      <th>9</th>\n",
       "      <td>PRIORIDAD</td>\n",
       "      <td>Es la tipificación según la prioridad del inci...</td>\n",
       "    </tr>\n",
       "    <tr>\n",
       "      <th>10</th>\n",
       "      <td>MES</td>\n",
       "      <td>Es el mes el cual ocurrió el incidente.</td>\n",
       "    </tr>\n",
       "    <tr>\n",
       "      <th>11</th>\n",
       "      <td>CLASIFICACION FINAL</td>\n",
       "      <td>Es la clasificación final que entrega el centr...</td>\n",
       "    </tr>\n",
       "  </tbody>\n",
       "</table>\n",
       "</div>"
      ],
      "text/plain": [
       "                               NOMBRE  \\\n",
       "0                     FECHA_INCIDENTE   \n",
       "1   FECHA_INICIO_DESPLAZAMIENTO_MOVIL   \n",
       "2                    CODIGO LOCALIDAD   \n",
       "3                           LOCALIDAD   \n",
       "4                                EDAD   \n",
       "5                              UNIDAD   \n",
       "6                              GENERO   \n",
       "7                                 RED   \n",
       "8                      TIPO_INCIDENTE   \n",
       "9                           PRIORIDAD   \n",
       "10                                MES   \n",
       "11                CLASIFICACION FINAL   \n",
       "\n",
       "                                          DESCRIPCION  \n",
       "0   Es la fecha el cual se registra la llamada del...  \n",
       "1   Es la fecha el cual se inicia el desplazamient...  \n",
       "2   Es el código de las 20 localidades de la ciuda...  \n",
       "3          Es la localidad donde sucede el incidente.  \n",
       "4                               La edad del paciente.  \n",
       "5   La descripción de la edad si es en horas, días...  \n",
       "6            Es la  distinción de genero del paciente  \n",
       "7   Es la localización a nivel bogota de la red de...  \n",
       "8   Es la descripción inicial que tipifica el cent...  \n",
       "9   Es la tipificación según la prioridad del inci...  \n",
       "10            Es el mes el cual ocurrió el incidente.  \n",
       "11  Es la clasificación final que entrega el centr...  "
      ]
     },
     "execution_count": 3,
     "metadata": {},
     "output_type": "execute_result"
    }
   ],
   "source": [
    "file = 'gs://{}/{}/data/metadatos-llamadas-urg-y-emer.csv'.format(bucket, directory)\n",
    "df_metadata = pd.read_csv(file, encoding='latin1', sep=';')\n",
    "df_metadata"
   ]
  },
  {
   "cell_type": "markdown",
   "id": "e9553498-4f18-4757-92f7-384a12ebcff2",
   "metadata": {},
   "source": [
    "The final data must contains this and only this columns with that specific headers in order to standarize the data, this is a type of data dictionary but it also must include the data types (**schema**) of each field (**column**)"
   ]
  },
  {
   "cell_type": "markdown",
   "id": "ca09f0ce-cd22-4aca-94f5-61f4264efde5",
   "metadata": {},
   "source": [
    "## Get raw data"
   ]
  },
  {
   "cell_type": "code",
   "execution_count": 4,
   "id": "47e4f2f3-2d43-426e-bac1-94c4d48e3c4d",
   "metadata": {},
   "outputs": [
    {
     "data": {
      "text/plain": [
       "\u001b[0;31mSignature:\u001b[0m\n",
       "\u001b[0mget_input_data\u001b[0m\u001b[0;34m(\u001b[0m\u001b[0;34m\u001b[0m\n",
       "\u001b[0;34m\u001b[0m    \u001b[0mbucket\u001b[0m\u001b[0;34m=\u001b[0m\u001b[0;34m'esp_bigdata'\u001b[0m\u001b[0;34m,\u001b[0m\u001b[0;34m\u001b[0m\n",
       "\u001b[0;34m\u001b[0m    \u001b[0minitial_directory\u001b[0m\u001b[0;34m=\u001b[0m\u001b[0;34m'BigData'\u001b[0m\u001b[0;34m,\u001b[0m\u001b[0;34m\u001b[0m\n",
       "\u001b[0;34m\u001b[0m    \u001b[0mstep\u001b[0m\u001b[0;34m=\u001b[0m\u001b[0;34m'raw'\u001b[0m\u001b[0;34m,\u001b[0m\u001b[0;34m\u001b[0m\n",
       "\u001b[0;34m\u001b[0m    \u001b[0mfilename\u001b[0m\u001b[0;34m=\u001b[0m\u001b[0;34m'datos-abiertos-agosto-2019.csv'\u001b[0m\u001b[0;34m,\u001b[0m\u001b[0;34m\u001b[0m\n",
       "\u001b[0;34m\u001b[0m\u001b[0;34m)\u001b[0m\u001b[0;34m\u001b[0m\u001b[0;34m\u001b[0m\u001b[0m\n",
       "\u001b[0;31mDocstring:\u001b[0m\n",
       "Read a csv file in a bucket of GCS, the file must use latin1 encoding and the separator is a semicolon (;)\n",
       "\n",
       "Args:\n",
       "    bucket (str, optional): Name of the bucket. Defaults to 'esp_bigdata'.\n",
       "    initial_directory (str, optional): project directory. Defaults to 'BigData'.\n",
       "    filename (str, optional):csv file to read. Defaults to 'datos-abiertos-agosto-2019.csv'.\n",
       "\n",
       "Returns:\n",
       "    pandas.dataframe: dataframe with the raw data\n",
       "\u001b[0;31mFile:\u001b[0m      ~/ESEIT_BigData/notebooks/data_manipulator.py\n",
       "\u001b[0;31mType:\u001b[0m      function\n"
      ]
     },
     "metadata": {},
     "output_type": "display_data"
    }
   ],
   "source": [
    "get_input_data?"
   ]
  },
  {
   "cell_type": "code",
   "execution_count": 5,
   "id": "4b03382e-9a1c-4532-a256-70a085241dac",
   "metadata": {},
   "outputs": [
    {
     "name": "stdout",
     "output_type": "stream",
     "text": [
      "<class 'pandas.core.frame.DataFrame'>\n",
      "RangeIndex: 14560 entries, 0 to 14559\n",
      "Data columns (total 12 columns):\n",
      " #   Column                             Non-Null Count  Dtype \n",
      "---  ------                             --------------  ----- \n",
      " 0   FECHA_INCIDENTE                    14560 non-null  object\n",
      " 1   FECHA_INICIO_DESPLAZAMIENTO-MOVIL  14560 non-null  object\n",
      " 2   CODIGO DE LOCALIDAD                14560 non-null  int64 \n",
      " 3   LOCALIDAD                          14560 non-null  object\n",
      " 4   EDAD                               14560 non-null  object\n",
      " 5   UNIDAD                             14560 non-null  object\n",
      " 6   GENERO                             14560 non-null  object\n",
      " 7   RED                                14560 non-null  object\n",
      " 8   TIPO_INCIDENTE                     14560 non-null  object\n",
      " 9   PRIORIDAD                          14560 non-null  object\n",
      " 10  MES                                14560 non-null  object\n",
      " 11  CLASIFICACION FINAL                13035 non-null  object\n",
      "dtypes: int64(1), object(11)\n",
      "memory usage: 1.3+ MB\n",
      "None\n"
     ]
    }
   ],
   "source": [
    "julio_2019 = get_input_data(\n",
    "    bucket= bucket,\n",
    "    initial_directory=directory,\n",
    "    filename = 'datos-abiertos-julio-2019.csv')\n",
    "print(julio_2019.info())\n",
    "julio_2019 = unificando_columnas(julio_2019)\n",
    "#raw_data.head()\n",
    "#raw_data"
   ]
  },
  {
   "cell_type": "markdown",
   "id": "5eb9ef0e-e60c-49ce-94f7-6d3f18f71a62",
   "metadata": {},
   "source": [
    "It seems that this file contains already the fields, but need to rename themhead"
   ]
  },
  {
   "cell_type": "markdown",
   "id": "188353cb-3a29-4285-9e1d-5ca19ed9105c",
   "metadata": {},
   "source": [
    "### Check values per field\n",
    "--------\n",
    "1. LOCALIDAD\n",
    "2. GENERO"
   ]
  },
  {
   "cell_type": "code",
   "execution_count": 6,
   "id": "c7e613bd-d1d0-49bd-b7a3-919e2ed04957",
   "metadata": {},
   "outputs": [
    {
     "data": {
      "text/plain": [
       " Kennedy               1593\n",
       " Suba                  1548\n",
       "Engativa               1521\n",
       " Bosa                  1122\n",
       " Ciudad Bolivar         994\n",
       "Usaquen                 786\n",
       "San Cristobal           776\n",
       " Rafael Uribe Uribe     741\n",
       "Fontibon                723\n",
       " Puente Aranda          690\n",
       "Usme                    636\n",
       "Chapinero               599\n",
       "Barrios Unidos          516\n",
       "Los Martires            516\n",
       "Santa Fe                489\n",
       "Teusaquillo             464\n",
       "Tunjuelito              462\n",
       " Antonio Nariño         292\n",
       " La Candelaria           91\n",
       " Sumapaz                  1\n",
       "Name: LOCALIDAD, dtype: int64"
      ]
     },
     "execution_count": 6,
     "metadata": {},
     "output_type": "execute_result"
    }
   ],
   "source": [
    "julio_2019['LOCALIDAD'].value_counts(dropna=False) \n",
    "#dropna false para que me muetre los errores, \"True\" (defecto) no muetra errores"
   ]
  },
  {
   "cell_type": "markdown",
   "id": "1af92623-c419-4db6-b0a2-5d0d0dc158d2",
   "metadata": {},
   "source": [
    "It seems that in some fields exist a white space at the begining of the values, probably at the end too, lets clean them all"
   ]
  },
  {
   "cell_type": "code",
   "execution_count": 7,
   "id": "aa8e1799-a9f9-479e-b93a-06c6c2c05fd0",
   "metadata": {},
   "outputs": [
    {
     "data": {
      "text/plain": [
       "Kennedy               1593\n",
       "Suba                  1548\n",
       "Engativa              1521\n",
       "Bosa                  1122\n",
       "Ciudad Bolivar         994\n",
       "Usaquen                786\n",
       "San Cristobal          776\n",
       "Rafael Uribe Uribe     741\n",
       "Fontibon               723\n",
       "Puente Aranda          690\n",
       "Usme                   636\n",
       "Chapinero              599\n",
       "Barrios Unidos         516\n",
       "Los Martires           516\n",
       "Santa Fe               489\n",
       "Teusaquillo            464\n",
       "Tunjuelito             462\n",
       "Antonio Nariño         292\n",
       "La Candelaria           91\n",
       "Sumapaz                  1\n",
       "Name: LOCALIDAD, dtype: int64"
      ]
     },
     "execution_count": 7,
     "metadata": {},
     "output_type": "execute_result"
    }
   ],
   "source": [
    "# Let's use the function strip(), this property works for string objects in python that removes whitespaces (\"strip\"quita espacios en blanco)\n",
    "julio_2019['LOCALIDAD'].apply(     #apply para aplicar la función a toda la tabla\n",
    "    lambda x: x.strip()        # here we use a lambda function, exclusively for python. Is a one-line function\n",
    ").value_counts()"
   ]
  },
  {
   "cell_type": "code",
   "execution_count": 8,
   "id": "ea1c48db-18e8-41a3-8377-1c41b2582423",
   "metadata": {},
   "outputs": [],
   "source": [
    "julio_2019['LOCALIDAD'] = julio_2019['LOCALIDAD'].apply(lambda x: x.strip()) # we assign the output of the function apply to the same column"
   ]
  },
  {
   "cell_type": "code",
   "execution_count": 9,
   "id": "56a2080d-11bd-4c4e-bf36-99b1ec4a3390",
   "metadata": {},
   "outputs": [
    {
     "data": {
      "text/html": [
       "<div>\n",
       "<style scoped>\n",
       "    .dataframe tbody tr th:only-of-type {\n",
       "        vertical-align: middle;\n",
       "    }\n",
       "\n",
       "    .dataframe tbody tr th {\n",
       "        vertical-align: top;\n",
       "    }\n",
       "\n",
       "    .dataframe thead th {\n",
       "        text-align: right;\n",
       "    }\n",
       "</style>\n",
       "<table border=\"1\" class=\"dataframe\">\n",
       "  <thead>\n",
       "    <tr style=\"text-align: right;\">\n",
       "      <th></th>\n",
       "      <th>FECHA_INCIDENTE</th>\n",
       "      <th>FECHA_INICIO_DESPLAZAMIENTO_MOVIL</th>\n",
       "      <th>CODIGO_LOCALIDAD</th>\n",
       "      <th>LOCALIDAD</th>\n",
       "      <th>EDAD</th>\n",
       "      <th>UNIDAD</th>\n",
       "      <th>GENERO</th>\n",
       "      <th>RED</th>\n",
       "      <th>TIPO_INCIDENTE</th>\n",
       "      <th>PRIORIDAD</th>\n",
       "      <th>MES</th>\n",
       "      <th>CLASIFICACION_FINAL</th>\n",
       "    </tr>\n",
       "  </thead>\n",
       "  <tbody>\n",
       "    <tr>\n",
       "      <th>0</th>\n",
       "      <td>2019-07-01 00:05:08</td>\n",
       "      <td>2019-07-01 00:11:02</td>\n",
       "      <td>8</td>\n",
       "      <td>Kennedy</td>\n",
       "      <td>39</td>\n",
       "      <td>Años</td>\n",
       "      <td>FEMENINO</td>\n",
       "      <td>Norte</td>\n",
       "      <td>Dificultad Respiratoria</td>\n",
       "      <td>ALTA</td>\n",
       "      <td>JULIO</td>\n",
       "      <td>Traslado</td>\n",
       "    </tr>\n",
       "    <tr>\n",
       "      <th>1</th>\n",
       "      <td>2019-07-01 00:06:57</td>\n",
       "      <td>2019-07-01 00:12:56</td>\n",
       "      <td>19</td>\n",
       "      <td>Ciudad Bolivar</td>\n",
       "      <td>69</td>\n",
       "      <td>Años</td>\n",
       "      <td>MASCULINO</td>\n",
       "      <td>Sur</td>\n",
       "      <td>Inconsciente/Paro Cardiorrespiratorio</td>\n",
       "      <td>ALTA</td>\n",
       "      <td>JULIO</td>\n",
       "      <td>NaN</td>\n",
       "    </tr>\n",
       "    <tr>\n",
       "      <th>2</th>\n",
       "      <td>2019-07-01 00:09:26</td>\n",
       "      <td>2019-07-01 00:10:26</td>\n",
       "      <td>6</td>\n",
       "      <td>Tunjuelito</td>\n",
       "      <td>25</td>\n",
       "      <td>Años</td>\n",
       "      <td>MASCULINO</td>\n",
       "      <td>Sur</td>\n",
       "      <td>Enfermo</td>\n",
       "      <td>MEDIA</td>\n",
       "      <td>JULIO</td>\n",
       "      <td>Traslado</td>\n",
       "    </tr>\n",
       "    <tr>\n",
       "      <th>3</th>\n",
       "      <td>2019-07-01 00:14:42</td>\n",
       "      <td>2019-07-01 00:15:47</td>\n",
       "      <td>8</td>\n",
       "      <td>Kennedy</td>\n",
       "      <td>65</td>\n",
       "      <td>Años</td>\n",
       "      <td>MASCULINO</td>\n",
       "      <td>Sur</td>\n",
       "      <td>Lesiones personales</td>\n",
       "      <td>MEDIA</td>\n",
       "      <td>JULIO</td>\n",
       "      <td>Traslado</td>\n",
       "    </tr>\n",
       "    <tr>\n",
       "      <th>4</th>\n",
       "      <td>2019-07-01 00:17:13</td>\n",
       "      <td>2019-07-01 00:31:13</td>\n",
       "      <td>10</td>\n",
       "      <td>Engativa</td>\n",
       "      <td>SIN_DATO</td>\n",
       "      <td>SIN_DATO</td>\n",
       "      <td>SIN_DATO</td>\n",
       "      <td>Norte</td>\n",
       "      <td>Enfermo</td>\n",
       "      <td>MEDIA</td>\n",
       "      <td>JULIO</td>\n",
       "      <td>Cancelado</td>\n",
       "    </tr>\n",
       "  </tbody>\n",
       "</table>\n",
       "</div>"
      ],
      "text/plain": [
       "       FECHA_INCIDENTE FECHA_INICIO_DESPLAZAMIENTO_MOVIL  CODIGO_LOCALIDAD  \\\n",
       "0  2019-07-01 00:05:08               2019-07-01 00:11:02                 8   \n",
       "1  2019-07-01 00:06:57               2019-07-01 00:12:56                19   \n",
       "2  2019-07-01 00:09:26               2019-07-01 00:10:26                 6   \n",
       "3  2019-07-01 00:14:42               2019-07-01 00:15:47                 8   \n",
       "4  2019-07-01 00:17:13               2019-07-01 00:31:13                10   \n",
       "\n",
       "        LOCALIDAD      EDAD    UNIDAD     GENERO    RED  \\\n",
       "0         Kennedy        39      Años   FEMENINO  Norte   \n",
       "1  Ciudad Bolivar        69      Años  MASCULINO    Sur   \n",
       "2      Tunjuelito        25      Años  MASCULINO    Sur   \n",
       "3         Kennedy        65      Años  MASCULINO    Sur   \n",
       "4        Engativa  SIN_DATO  SIN_DATO   SIN_DATO  Norte   \n",
       "\n",
       "                           TIPO_INCIDENTE PRIORIDAD    MES CLASIFICACION_FINAL  \n",
       "0                 Dificultad Respiratoria      ALTA  JULIO            Traslado  \n",
       "1  Inconsciente/Paro Cardiorrespiratorio       ALTA  JULIO                 NaN  \n",
       "2                                 Enfermo     MEDIA  JULIO            Traslado  \n",
       "3                     Lesiones personales     MEDIA  JULIO            Traslado  \n",
       "4                                 Enfermo     MEDIA  JULIO           Cancelado  "
      ]
     },
     "execution_count": 9,
     "metadata": {},
     "output_type": "execute_result"
    }
   ],
   "source": [
    "julio_2019.head()"
   ]
  },
  {
   "cell_type": "code",
   "execution_count": 10,
   "id": "440653d8-5eda-4138-8e1e-146724e4931a",
   "metadata": {},
   "outputs": [
    {
     "data": {
      "text/plain": [
       "SIN_DATO     6621\n",
       "MASCULINO    4190\n",
       "FEMENINO     3749\n",
       "Name: GENERO, dtype: int64"
      ]
     },
     "execution_count": 10,
     "metadata": {},
     "output_type": "execute_result"
    }
   ],
   "source": [
    "col = 'GENERO'\n",
    "julio_2019[col] = julio_2019[col].apply(lambda x: x.strip())\n",
    "julio_2019[col].value_counts(dropna=False)   # here we could apply the same technique as before to avoid errors"
   ]
  },
  {
   "cell_type": "code",
   "execution_count": 11,
   "id": "2ce261b7-3ebb-45b5-8915-4b5aa1921d27",
   "metadata": {},
   "outputs": [
    {
     "data": {
      "text/plain": [
       "Accidente de tránsito con heridos/Muertos    4261\n",
       "Inconsciente/Paro Cardiorrespiratorio        1623\n",
       "Dificultad Respiratoria                      1398\n",
       "Enfermo                                      1131\n",
       "Convulsiones                                 1011\n",
       "Heridos                                       747\n",
       "Trastorno mental                              709\n",
       "Dolor torácico                                611\n",
       "Lesiones personales                           547\n",
       "Intento de suicidio                           534\n",
       "Patología Gineco - obstétrica                 425\n",
       "Síntomas gastrointestinales                   344\n",
       "Accidente cerebro vascular                    323\n",
       "Caída                                         318\n",
       "Intoxicaciones                                141\n",
       "Ideas de suicidio                             111\n",
       "Violencia Sexual                               41\n",
       "Muerte Natural                                 39\n",
       "SIN_DATO                                       39\n",
       "Incendio estructural                           29\n",
       "Solicitud Apoyo / Desacato                     28\n",
       "Sangrado Vaginal                               21\n",
       "Accidente Tránsito Simple                      14\n",
       "Quemaduras                                     12\n",
       "Riña                                           11\n",
       "Amenaza de Ruina                               10\n",
       "Rescates                                        7\n",
       "Incendio Vehicular                              7\n",
       "Abrir domicilio                                 7\n",
       "Elemento caído y/o en peligro de caer.          7\n",
       "Electrocución / Rescate                         5\n",
       "Fuga de Gas Natural o Propano                   5\n",
       "MATPEL (Materiales peligrosos)                  5\n",
       "Animal Peligroso                                5\n",
       "Maltrato                                        5\n",
       "Explosión                                       4\n",
       "Disparos                                        4\n",
       "Muerto                                          3\n",
       "Persona Pidiendo Auxilio                        3\n",
       "Deslizamiento                                   3\n",
       "Embriaguez                                      3\n",
       "Persona tendida en la vía                       2\n",
       "Habitante de la Calle                           2\n",
       "Extraviados / Desaparecidos                     1\n",
       "Incidente rescate acuático                      1\n",
       "Venta o Consumo alcohol u otro en Menor         1\n",
       "Atraco / Hurto en Proces                        1\n",
       "Rescates Montaña                                1\n",
       "Name: TIPO_INCIDENTE, dtype: int64"
      ]
     },
     "execution_count": 11,
     "metadata": {},
     "output_type": "execute_result"
    }
   ],
   "source": [
    "col = 'TIPO_INCIDENTE'\n",
    "julio_2019[col] = julio_2019[col].apply(lambda x: x.strip())\n",
    "julio_2019[col].value_counts(dropna=False)"
   ]
  },
  {
   "cell_type": "code",
   "execution_count": 12,
   "id": "b0b0ce51-ea1a-4bdb-8c12-d41f611bb276",
   "metadata": {},
   "outputs": [
    {
     "data": {
      "text/plain": [
       "Traslado                       6162\n",
       "Cancelado                      3637\n",
       "NaN                            1525\n",
       "Trasladado por Otro Recurso    1501\n",
       "Falsa Alarma                   1291\n",
       "No Ubica                        215\n",
       "Desistimiento                   137\n",
       "No Amerita Traslado              64\n",
       "Fallecido                        28\n",
       "Name: CLASIFICACION_FINAL, dtype: int64"
      ]
     },
     "execution_count": 12,
     "metadata": {},
     "output_type": "execute_result"
    }
   ],
   "source": [
    "col = 'CLASIFICACION_FINAL'\n",
    "#raw_data[col] = raw_data[col].apply(lambda x: x.strip())\n",
    "julio_2019[col].value_counts(dropna=False)"
   ]
  },
  {
   "cell_type": "markdown",
   "id": "ed0d30da-1ead-4916-a018-16f3c969a569",
   "metadata": {},
   "source": [
    "Here this columns contains a null value, aka NaN (this is numeric value that is Null), lets replace them first\n",
    "* NaN --> SIN_DATO"
   ]
  },
  {
   "cell_type": "code",
   "execution_count": 13,
   "id": "8510699c-d135-477d-bc61-2ba0017473da",
   "metadata": {},
   "outputs": [
    {
     "data": {
      "text/plain": [
       "Traslado                       6162\n",
       "Cancelado                      3637\n",
       "SIN_DATO                       1525\n",
       "Trasladado por Otro Recurso    1501\n",
       "Falsa Alarma                   1291\n",
       "No Ubica                        215\n",
       "Desistimiento                   137\n",
       "No Amerita Traslado              64\n",
       "Fallecido                        28\n",
       "Name: CLASIFICACION_FINAL, dtype: int64"
      ]
     },
     "execution_count": 13,
     "metadata": {},
     "output_type": "execute_result"
    }
   ],
   "source": [
    "julio_2019[col].fillna('SIN_DATO').value_counts()"
   ]
  },
  {
   "cell_type": "code",
   "execution_count": 14,
   "id": "046865ae-7421-4b6b-9bbb-89891cad72a0",
   "metadata": {},
   "outputs": [
    {
     "data": {
      "text/html": [
       "<div>\n",
       "<style scoped>\n",
       "    .dataframe tbody tr th:only-of-type {\n",
       "        vertical-align: middle;\n",
       "    }\n",
       "\n",
       "    .dataframe tbody tr th {\n",
       "        vertical-align: top;\n",
       "    }\n",
       "\n",
       "    .dataframe thead th {\n",
       "        text-align: right;\n",
       "    }\n",
       "</style>\n",
       "<table border=\"1\" class=\"dataframe\">\n",
       "  <thead>\n",
       "    <tr style=\"text-align: right;\">\n",
       "      <th></th>\n",
       "      <th>FECHA_INCIDENTE</th>\n",
       "      <th>FECHA_INICIO_DESPLAZAMIENTO_MOVIL</th>\n",
       "      <th>CODIGO_LOCALIDAD</th>\n",
       "      <th>LOCALIDAD</th>\n",
       "      <th>EDAD</th>\n",
       "      <th>UNIDAD</th>\n",
       "      <th>GENERO</th>\n",
       "      <th>RED</th>\n",
       "      <th>TIPO_INCIDENTE</th>\n",
       "      <th>PRIORIDAD</th>\n",
       "      <th>MES</th>\n",
       "      <th>CLASIFICACION_FINAL</th>\n",
       "    </tr>\n",
       "  </thead>\n",
       "  <tbody>\n",
       "    <tr>\n",
       "      <th>0</th>\n",
       "      <td>2019-07-01 00:05:08</td>\n",
       "      <td>2019-07-01 00:11:02</td>\n",
       "      <td>8</td>\n",
       "      <td>Kennedy</td>\n",
       "      <td>39</td>\n",
       "      <td>Años</td>\n",
       "      <td>FEMENINO</td>\n",
       "      <td>Norte</td>\n",
       "      <td>Dificultad Respiratoria</td>\n",
       "      <td>ALTA</td>\n",
       "      <td>JULIO</td>\n",
       "      <td>Traslado</td>\n",
       "    </tr>\n",
       "    <tr>\n",
       "      <th>1</th>\n",
       "      <td>2019-07-01 00:06:57</td>\n",
       "      <td>2019-07-01 00:12:56</td>\n",
       "      <td>19</td>\n",
       "      <td>Ciudad Bolivar</td>\n",
       "      <td>69</td>\n",
       "      <td>Años</td>\n",
       "      <td>MASCULINO</td>\n",
       "      <td>Sur</td>\n",
       "      <td>Inconsciente/Paro Cardiorrespiratorio</td>\n",
       "      <td>ALTA</td>\n",
       "      <td>JULIO</td>\n",
       "      <td>SIN_DATO</td>\n",
       "    </tr>\n",
       "    <tr>\n",
       "      <th>2</th>\n",
       "      <td>2019-07-01 00:09:26</td>\n",
       "      <td>2019-07-01 00:10:26</td>\n",
       "      <td>6</td>\n",
       "      <td>Tunjuelito</td>\n",
       "      <td>25</td>\n",
       "      <td>Años</td>\n",
       "      <td>MASCULINO</td>\n",
       "      <td>Sur</td>\n",
       "      <td>Enfermo</td>\n",
       "      <td>MEDIA</td>\n",
       "      <td>JULIO</td>\n",
       "      <td>Traslado</td>\n",
       "    </tr>\n",
       "    <tr>\n",
       "      <th>3</th>\n",
       "      <td>2019-07-01 00:14:42</td>\n",
       "      <td>2019-07-01 00:15:47</td>\n",
       "      <td>8</td>\n",
       "      <td>Kennedy</td>\n",
       "      <td>65</td>\n",
       "      <td>Años</td>\n",
       "      <td>MASCULINO</td>\n",
       "      <td>Sur</td>\n",
       "      <td>Lesiones personales</td>\n",
       "      <td>MEDIA</td>\n",
       "      <td>JULIO</td>\n",
       "      <td>Traslado</td>\n",
       "    </tr>\n",
       "    <tr>\n",
       "      <th>4</th>\n",
       "      <td>2019-07-01 00:17:13</td>\n",
       "      <td>2019-07-01 00:31:13</td>\n",
       "      <td>10</td>\n",
       "      <td>Engativa</td>\n",
       "      <td>SIN_DATO</td>\n",
       "      <td>SIN_DATO</td>\n",
       "      <td>SIN_DATO</td>\n",
       "      <td>Norte</td>\n",
       "      <td>Enfermo</td>\n",
       "      <td>MEDIA</td>\n",
       "      <td>JULIO</td>\n",
       "      <td>Cancelado</td>\n",
       "    </tr>\n",
       "  </tbody>\n",
       "</table>\n",
       "</div>"
      ],
      "text/plain": [
       "       FECHA_INCIDENTE FECHA_INICIO_DESPLAZAMIENTO_MOVIL  CODIGO_LOCALIDAD  \\\n",
       "0  2019-07-01 00:05:08               2019-07-01 00:11:02                 8   \n",
       "1  2019-07-01 00:06:57               2019-07-01 00:12:56                19   \n",
       "2  2019-07-01 00:09:26               2019-07-01 00:10:26                 6   \n",
       "3  2019-07-01 00:14:42               2019-07-01 00:15:47                 8   \n",
       "4  2019-07-01 00:17:13               2019-07-01 00:31:13                10   \n",
       "\n",
       "        LOCALIDAD      EDAD    UNIDAD     GENERO    RED  \\\n",
       "0         Kennedy        39      Años   FEMENINO  Norte   \n",
       "1  Ciudad Bolivar        69      Años  MASCULINO    Sur   \n",
       "2      Tunjuelito        25      Años  MASCULINO    Sur   \n",
       "3         Kennedy        65      Años  MASCULINO    Sur   \n",
       "4        Engativa  SIN_DATO  SIN_DATO   SIN_DATO  Norte   \n",
       "\n",
       "                          TIPO_INCIDENTE PRIORIDAD    MES CLASIFICACION_FINAL  \n",
       "0                Dificultad Respiratoria      ALTA  JULIO            Traslado  \n",
       "1  Inconsciente/Paro Cardiorrespiratorio      ALTA  JULIO            SIN_DATO  \n",
       "2                                Enfermo     MEDIA  JULIO            Traslado  \n",
       "3                    Lesiones personales     MEDIA  JULIO            Traslado  \n",
       "4                                Enfermo     MEDIA  JULIO           Cancelado  "
      ]
     },
     "execution_count": 14,
     "metadata": {},
     "output_type": "execute_result"
    }
   ],
   "source": [
    "col = 'CLASIFICACION_FINAL'\n",
    "julio_2019[col].fillna('SIN_DATO', inplace=True)\n",
    "julio_2019[col] = julio_2019[col].apply(lambda x: x.strip())\n",
    "julio_2019.head()"
   ]
  },
  {
   "cell_type": "markdown",
   "id": "e6f30471-1464-47a9-a444-970a302baea7",
   "metadata": {},
   "source": [
    "# Profile of the Data\n",
    "------\n",
    "first install pandas profiling, from a terminal\n",
    "\n",
    "````\n",
    "pip install pandas-profiling\n",
    "````"
   ]
  },
  {
   "cell_type": "code",
   "execution_count": 15,
   "id": "66f66769-d164-42e4-bcfb-e43b7fef1859",
   "metadata": {},
   "outputs": [
    {
     "data": {
      "application/vnd.jupyter.widget-view+json": {
       "model_id": "2aced19791554fa082e4437722390692",
       "version_major": 2,
       "version_minor": 0
      },
      "text/plain": [
       "Summarize dataset:   0%|          | 0/25 [00:00<?, ?it/s]"
      ]
     },
     "metadata": {},
     "output_type": "display_data"
    },
    {
     "data": {
      "application/vnd.jupyter.widget-view+json": {
       "model_id": "437de6df6dc94ed380c7a1829314dc76",
       "version_major": 2,
       "version_minor": 0
      },
      "text/plain": [
       "Generate report structure:   0%|          | 0/1 [00:00<?, ?it/s]"
      ]
     },
     "metadata": {},
     "output_type": "display_data"
    },
    {
     "data": {
      "application/vnd.jupyter.widget-view+json": {
       "model_id": "f87f1b4df2184b27959906fac4268757",
       "version_major": 2,
       "version_minor": 0
      },
      "text/plain": [
       "Render HTML:   0%|          | 0/1 [00:00<?, ?it/s]"
      ]
     },
     "metadata": {},
     "output_type": "display_data"
    },
    {
     "data": {
      "application/vnd.jupyter.widget-view+json": {
       "model_id": "f2dc9464d9014fea92c300dbd64c802d",
       "version_major": 2,
       "version_minor": 0
      },
      "text/plain": [
       "Export report to file:   0%|          | 0/1 [00:00<?, ?it/s]"
      ]
     },
     "metadata": {},
     "output_type": "display_data"
    }
   ],
   "source": [
    "profile = ProfileReport(df=julio_2019)\n",
    "profile.to_file(output_file=project_dir + '/reports/'+'profile_raw_data_julio_2019.html')"
   ]
  },
  {
   "cell_type": "markdown",
   "id": "a7a93408-dff3-402c-8324-2262c187a797",
   "metadata": {},
   "source": [
    "Form the initial report of the file we see that are duplicates rows in the table, we need to subtract them"
   ]
  },
  {
   "cell_type": "markdown",
   "id": "113216ea-7395-4cb0-8691-b9554ec270ab",
   "metadata": {},
   "source": [
    "### Remove duplicates"
   ]
  },
  {
   "cell_type": "code",
   "execution_count": 16,
   "id": "67b41e99-6206-4a24-b838-b8f8e71ae17f",
   "metadata": {},
   "outputs": [
    {
     "name": "stdout",
     "output_type": "stream",
     "text": [
      "Number of rows before cleaning: 14560\n",
      "Number of rows after cleaning: 13842\n"
     ]
    }
   ],
   "source": [
    "print('Number of rows before cleaning:', julio_2019.shape[0] )\n",
    "julio_2019.drop_duplicates(inplace=True)\n",
    "print('Number of rows after cleaning:', julio_2019.shape[0] )"
   ]
  },
  {
   "cell_type": "markdown",
   "id": "a89276dd-f903-4752-9f7f-15e360c7207f",
   "metadata": {
    "tags": []
   },
   "source": [
    "### Save the final table\n",
    "use to_csv to save the table"
   ]
  },
  {
   "cell_type": "code",
   "execution_count": 86,
   "id": "33a9d6aa-ed3d-465b-a920-404a17490f79",
   "metadata": {},
   "outputs": [],
   "source": [
    "# saving in a local directory\n",
    "julio_2019.to_csv(project_dir + '/data/processed/' +'clean_datos-abiertos-julio-2019.csv', encoding='latin1', sep=';', index=False)"
   ]
  },
  {
   "cell_type": "markdown",
   "id": "4644b0c8-d8e8-4757-8514-4c7f765d3b49",
   "metadata": {},
   "source": [
    "### ***datos-abiertos-agosto-2019.csv***"
   ]
  },
  {
   "cell_type": "code",
   "execution_count": 18,
   "id": "8ed2af12-c3cb-41b3-856c-8bb575ba5741",
   "metadata": {},
   "outputs": [
    {
     "name": "stdout",
     "output_type": "stream",
     "text": [
      "<class 'pandas.core.frame.DataFrame'>\n",
      "RangeIndex: 18141 entries, 0 to 18140\n",
      "Data columns (total 12 columns):\n",
      " #   Column                             Non-Null Count  Dtype \n",
      "---  ------                             --------------  ----- \n",
      " 0   NUMERO_INCIDENTE                   18141 non-null  int64 \n",
      " 1   FECHA_INICIO_DESPLAZAMIENTO_MOVIL  18141 non-null  object\n",
      " 2   CODIGO_LOCALIDAD                   18141 non-null  int64 \n",
      " 3   LOCALIDAD                          18141 non-null  object\n",
      " 4   EDAD                               18141 non-null  object\n",
      " 5   UNIDAD                             18141 non-null  object\n",
      " 6   GENERO                             18141 non-null  object\n",
      " 7   RED                                18141 non-null  object\n",
      " 8   TIPO_INCIDENTE                     18141 non-null  object\n",
      " 9   PRIORIDAD                          18141 non-null  object\n",
      " 10  MES                                18141 non-null  object\n",
      " 11  CLASIFICACION_FINAL                18138 non-null  object\n",
      "dtypes: int64(2), object(10)\n",
      "memory usage: 1.7+ MB\n",
      "None\n"
     ]
    }
   ],
   "source": [
    "agosto_2019 = get_input_data(\n",
    "    bucket= bucket,\n",
    "    initial_directory=directory,\n",
    "    filename = 'datos-abiertos-agosto-2019.csv')\n",
    "agosto_2019 = unificando_columnas(agosto_2019)\n",
    "print(agosto_2019.info())"
   ]
  },
  {
   "cell_type": "code",
   "execution_count": 19,
   "id": "347d16c3-4ffb-4ae0-a4dd-1ca88f0bd0e1",
   "metadata": {},
   "outputs": [
    {
     "data": {
      "text/plain": [
       "Kennedy               2717\n",
       "Engativa              1805\n",
       "Suba                  1678\n",
       "Bosa                  1264\n",
       "Ciudad Bolivar        1220\n",
       "Puente Aranda          977\n",
       "San Cristobal          906\n",
       "Usaquen                894\n",
       "Rafael Uribe Uribe     892\n",
       "Fontibon               878\n",
       "Chapinero              707\n",
       "Santa Fe               682\n",
       "Usme                   637\n",
       "Barrios Unidos         608\n",
       "Teusaquillo            599\n",
       "Tunjuelito             595\n",
       "Los Martires           593\n",
       "Antonio Nariño         369\n",
       "La Candelaria          119\n",
       "Sumapaz                  1\n",
       "Name: LOCALIDAD, dtype: int64"
      ]
     },
     "execution_count": 19,
     "metadata": {},
     "output_type": "execute_result"
    }
   ],
   "source": [
    "agosto_2019['LOCALIDAD'].apply(\n",
    "    lambda x: x.strip()\n",
    ").value_counts()"
   ]
  },
  {
   "cell_type": "code",
   "execution_count": 20,
   "id": "64f44d55-44bb-4b91-8c8d-7d88100e032c",
   "metadata": {},
   "outputs": [],
   "source": [
    "agosto_2019['LOCALIDAD'] = agosto_2019['LOCALIDAD'].apply(lambda x: x.strip())"
   ]
  },
  {
   "cell_type": "code",
   "execution_count": 21,
   "id": "f7cedb81-ad4c-4d6c-82d5-b54566c72ec0",
   "metadata": {},
   "outputs": [],
   "source": [
    "agosto_2019[\"FECHA_INICIO_DESPLAZAMIENTO_MOVIL\"] = pd.to_datetime(agosto_2019[\"FECHA_INICIO_DESPLAZAMIENTO_MOVIL\"],dayfirst=True)"
   ]
  },
  {
   "cell_type": "code",
   "execution_count": 22,
   "id": "1e63626e-2faf-4229-9a54-545d04bd6721",
   "metadata": {},
   "outputs": [],
   "source": [
    "col = 'GENERO'\n",
    "agosto_2019[col] = agosto_2019[col].apply(lambda x: x.strip())"
   ]
  },
  {
   "cell_type": "code",
   "execution_count": 23,
   "id": "54e25e09-e8e4-439b-9c36-bb496e70ba15",
   "metadata": {},
   "outputs": [],
   "source": [
    "col = 'TIPO_INCIDENTE'\n",
    "agosto_2019[col] = agosto_2019[col].apply(lambda x: x.strip())"
   ]
  },
  {
   "cell_type": "code",
   "execution_count": 24,
   "id": "36c7fa99-dc2a-4cb5-8b13-e633c76400b3",
   "metadata": {},
   "outputs": [],
   "source": [
    "col = 'CLASIFICACION_FINAL'\n",
    "agosto_2019[col].fillna('SIN_DATO', inplace=True)\n",
    "agosto_2019[col] = agosto_2019[col].apply(lambda x: x.strip())"
   ]
  },
  {
   "cell_type": "code",
   "execution_count": 25,
   "id": "d6643e73-b4c3-423d-a202-39927b03f358",
   "metadata": {},
   "outputs": [
    {
     "data": {
      "text/plain": [
       "Traslado                       7311\n",
       "Cancelado                      4935\n",
       "Trasladado por Otro Recurso    1813\n",
       "Falsa Alarma                   1738\n",
       "Desistimiento                  1449\n",
       "No Amerita Traslado             452\n",
       "No Ubica                        235\n",
       "Fallecido                       205\n",
       "SIN_DATO                          3\n",
       "Name: CLASIFICACION_FINAL, dtype: int64"
      ]
     },
     "execution_count": 25,
     "metadata": {},
     "output_type": "execute_result"
    }
   ],
   "source": [
    "agosto_2019[col].fillna('SIN_DATO').value_counts()"
   ]
  },
  {
   "cell_type": "code",
   "execution_count": 26,
   "id": "695e4b2c-8d4b-4c73-a6a1-067d2fc7551b",
   "metadata": {},
   "outputs": [
    {
     "name": "stdout",
     "output_type": "stream",
     "text": [
      "Number of rows before cleaning: 18141\n",
      "Number of rows after cleaning: 16807\n"
     ]
    }
   ],
   "source": [
    "print('Number of rows before cleaning:', agosto_2019.shape[0] )\n",
    "agosto_2019.drop_duplicates(inplace=True)\n",
    "print('Number of rows after cleaning:', agosto_2019.shape[0] )"
   ]
  },
  {
   "cell_type": "code",
   "execution_count": 27,
   "id": "66515dac-1fb6-4f20-888f-b1cff76e868c",
   "metadata": {},
   "outputs": [],
   "source": [
    "# saving in a local directory\n",
    "agosto_2019.to_csv(project_dir + '/data/processed/' +'clean_datos-abiertos-agosto-2019.csv', encoding='latin1', sep=';', index=False)"
   ]
  },
  {
   "cell_type": "markdown",
   "id": "4c2de8f7-ab07-430b-9ec5-e5c49a9d578d",
   "metadata": {},
   "source": [
    "### **datos-abiertos-noviembre-2019.csv**"
   ]
  },
  {
   "cell_type": "code",
   "execution_count": 28,
   "id": "ac3de98b-bb5f-4a27-9bb7-cbde7dd281a1",
   "metadata": {},
   "outputs": [
    {
     "name": "stdout",
     "output_type": "stream",
     "text": [
      "<class 'pandas.core.frame.DataFrame'>\n",
      "RangeIndex: 15926 entries, 0 to 15925\n",
      "Data columns (total 10 columns):\n",
      " #   Column                             Non-Null Count  Dtype \n",
      "---  ------                             --------------  ----- \n",
      " 0   NUMERO_INCIDENTE                   15926 non-null  object\n",
      " 1   FECHA_INICIO_DESPLAZAMIENTO_MOVIL  15926 non-null  object\n",
      " 2   CODIGO_LOCALIDAD                   15926 non-null  int64 \n",
      " 3   LOCALIDAD                          15926 non-null  object\n",
      " 4   EDAD                               15926 non-null  int64 \n",
      " 5   UNIDAD                             15926 non-null  object\n",
      " 6   GENERO                             15926 non-null  object\n",
      " 7   RED                                15926 non-null  object\n",
      " 8   TIPO_INCIDENTE                     15926 non-null  object\n",
      " 9   PRIORIDAD                          15926 non-null  object\n",
      "dtypes: int64(2), object(8)\n",
      "memory usage: 1.2+ MB\n",
      "None\n"
     ]
    }
   ],
   "source": [
    "noviembre_2019 = get_input_data(\n",
    "    bucket= bucket,\n",
    "    initial_directory=directory,\n",
    "    filename = 'datos-abiertos-noviembre_2019.csv')\n",
    "noviembre_2019 = unificando_columnas(noviembre_2019)\n",
    "print(noviembre_2019.info())"
   ]
  },
  {
   "cell_type": "code",
   "execution_count": 29,
   "id": "47551570-c657-4ffb-a298-4cb4bf590e27",
   "metadata": {},
   "outputs": [
    {
     "data": {
      "text/plain": [
       "Kennedy               2192\n",
       "Engativa              1571\n",
       "Suba                  1424\n",
       "Bosa                  1189\n",
       "Ciudad Bolivar        1123\n",
       "Puente Aranda          854\n",
       "Rafael Uribe Uribe     835\n",
       "Usaquen                808\n",
       "Fontibon               787\n",
       "San Cristobal          758\n",
       "Santa Fe               613\n",
       "Chapinero              577\n",
       "Usme                   577\n",
       "Los Martires           560\n",
       "Tunjuelito             551\n",
       "Teusaquillo            546\n",
       "Barrios Unidos         520\n",
       "Antonio Nariño         338\n",
       "La Candelaria          102\n",
       "Sumapaz                  1\n",
       "Name: LOCALIDAD, dtype: int64"
      ]
     },
     "execution_count": 29,
     "metadata": {},
     "output_type": "execute_result"
    }
   ],
   "source": [
    "noviembre_2019['LOCALIDAD'].apply(\n",
    "    lambda x: x.strip()\n",
    ").value_counts()"
   ]
  },
  {
   "cell_type": "code",
   "execution_count": 30,
   "id": "68fc203c-8f5f-4321-93d5-30decf94339b",
   "metadata": {},
   "outputs": [],
   "source": [
    "noviembre_2019['LOCALIDAD'] = noviembre_2019['LOCALIDAD'].apply(lambda x: x.strip())"
   ]
  },
  {
   "cell_type": "code",
   "execution_count": 31,
   "id": "8de046b9-ee68-45d9-9be3-41080988f45a",
   "metadata": {},
   "outputs": [],
   "source": [
    "noviembre_2019[\"FECHA_INICIO_DESPLAZAMIENTO_MOVIL\"] = pd.to_datetime(noviembre_2019[\"FECHA_INICIO_DESPLAZAMIENTO_MOVIL\"],dayfirst=True)"
   ]
  },
  {
   "cell_type": "code",
   "execution_count": 32,
   "id": "956856fb-7afe-4ee5-bd75-acdca19d08e6",
   "metadata": {},
   "outputs": [],
   "source": [
    "col = 'GENERO'\n",
    "noviembre_2019[col] = noviembre_2019[col].apply(lambda x: x.strip())"
   ]
  },
  {
   "cell_type": "code",
   "execution_count": 33,
   "id": "7d3cc1ac-48d0-4b71-9dfb-2c1f624806ec",
   "metadata": {},
   "outputs": [],
   "source": [
    "col = 'TIPO_INCIDENTE'\n",
    "noviembre_2019[col] = noviembre_2019[col].apply(lambda x: x.strip())"
   ]
  },
  {
   "cell_type": "code",
   "execution_count": 34,
   "id": "67039697-e4b6-4c85-8a60-19f5987e3182",
   "metadata": {},
   "outputs": [
    {
     "data": {
      "text/plain": [
       "Accidente de tránsito con heridos/Muertos    5577\n",
       "Inconsciente/Paro Cardiorrespiratorio        1587\n",
       "Dificultad Respiratoria                      1400\n",
       "Enfermo                                      1066\n",
       "Convulsiones                                  979\n",
       "Heridos                                       729\n",
       "Lesiones personales                           675\n",
       "Trastorno mental                              601\n",
       "Intento de suicidio                           600\n",
       "Dolor torácico                                577\n",
       "Patología Gineco - obstétrica                 373\n",
       "Síntomas gastrointestinales                   355\n",
       "Caída                                         346\n",
       "Accidente cerebro vascular                    318\n",
       "Intoxicaciones                                137\n",
       "SIN_DATO                                      122\n",
       "Ideas de suicidio                              90\n",
       "Solicitud Apoyo / Desacato                     83\n",
       "Incendio estructural                           48\n",
       "Muerte Natural                                 41\n",
       "Violencia Sexual                               24\n",
       "Quemaduras                                     21\n",
       "Sangrado Vaginal                               18\n",
       "Rescates                                       16\n",
       "MATPEL (Materiales peligrosos)                 15\n",
       "Incidente rescate acuático                     13\n",
       "Riña                                           13\n",
       "Electrocución / Rescate                         9\n",
       "Accidente Tránsito Simple                       9\n",
       "Incendio Vehicular                              8\n",
       "Elemento caído y/o en peligro de caer.          7\n",
       "Explosión                                       7\n",
       "Persona Pidiendo Auxilio                        7\n",
       "Fuga de Gas Natural o Propano                   6\n",
       "Manifestación / Motín                           6\n",
       "Atraco / Hurto en Proces                        6\n",
       "Abrir domicilio                                 6\n",
       "Animal Peligroso                                5\n",
       "Menor o persona Abandonada                      4\n",
       "Persona tendida en la vía                       4\n",
       "Muerto                                          4\n",
       "Disparos                                        4\n",
       "Embriaguez                                      3\n",
       "PSICOLOGIA                                      2\n",
       "Maltrato                                        2\n",
       "Verificar Situación                             1\n",
       "Delincuente capturado por civil                 1\n",
       "Deslizamiento                                   1\n",
       "Name: TIPO_INCIDENTE, dtype: int64"
      ]
     },
     "execution_count": 34,
     "metadata": {},
     "output_type": "execute_result"
    }
   ],
   "source": [
    "noviembre_2019[col].fillna('SIN_DATO').value_counts()"
   ]
  },
  {
   "cell_type": "code",
   "execution_count": 35,
   "id": "d5dfe074-ffdd-4737-8b03-9936b7ffa8ee",
   "metadata": {},
   "outputs": [
    {
     "name": "stdout",
     "output_type": "stream",
     "text": [
      "Number of rows before cleaning: 15926\n",
      "Number of rows after cleaning: 15886\n"
     ]
    }
   ],
   "source": [
    "print('Number of rows before cleaning:', noviembre_2019.shape[0] )\n",
    "noviembre_2019.drop_duplicates(inplace=True)\n",
    "print('Number of rows after cleaning:', noviembre_2019.shape[0] )"
   ]
  },
  {
   "cell_type": "code",
   "execution_count": 36,
   "id": "cb8202b7-a978-478e-85e9-674f9b04f715",
   "metadata": {},
   "outputs": [],
   "source": [
    "# saving in a local directory\n",
    "noviembre_2019.to_csv(project_dir + '/data/processed/' +'clean_datos-abiertos-noviembre-2019.csv', encoding='latin1', sep=';', index=False)"
   ]
  },
  {
   "cell_type": "markdown",
   "id": "9a46dcc5-469a-4b70-956b-a7ca24318bea",
   "metadata": {},
   "source": [
    "### **datos-abiertos-octubre-2019.csv**"
   ]
  },
  {
   "cell_type": "code",
   "execution_count": 37,
   "id": "870d9bb8-90bb-4e55-9dff-0af43517c830",
   "metadata": {},
   "outputs": [
    {
     "name": "stdout",
     "output_type": "stream",
     "text": [
      "<class 'pandas.core.frame.DataFrame'>\n",
      "RangeIndex: 18195 entries, 0 to 18194\n",
      "Data columns (total 10 columns):\n",
      " #   Column                             Non-Null Count  Dtype \n",
      "---  ------                             --------------  ----- \n",
      " 0   NUMERO_INCIDENTE                   18195 non-null  int64 \n",
      " 1   FECHA_INICIO_DESPLAZAMIENTO_MOVIL  18195 non-null  object\n",
      " 2   CODIGO_LOCALIDAD                   18195 non-null  int64 \n",
      " 3   LOCALIDAD                          18195 non-null  object\n",
      " 4   EDAD                               18195 non-null  object\n",
      " 5   UNIDAD                             9503 non-null   object\n",
      " 6   GENERO                             9543 non-null   object\n",
      " 7   RED                                18195 non-null  object\n",
      " 8   TIPO_INCIDENTE                     18195 non-null  object\n",
      " 9   PRIORIDAD                          18195 non-null  object\n",
      "dtypes: int64(2), object(8)\n",
      "memory usage: 1.4+ MB\n",
      "None\n"
     ]
    }
   ],
   "source": [
    "octubre_2019 = get_input_data(\n",
    "    bucket= bucket,\n",
    "    initial_directory=directory,\n",
    "    filename = 'datos-abiertos-octubre-2019.csv')\n",
    "octubre_2019 = unificando_columnas(octubre_2019)\n",
    "print(octubre_2019.info())"
   ]
  },
  {
   "cell_type": "code",
   "execution_count": 38,
   "id": "29836efe-9040-4c53-b3d3-b47bcf3447d7",
   "metadata": {},
   "outputs": [
    {
     "data": {
      "text/plain": [
       "Kennedy               2546\n",
       "Engativa              1791\n",
       "Suba                  1742\n",
       "Bosa                  1334\n",
       "Ciudad Bolivar        1141\n",
       "Puente Aranda          989\n",
       "Rafael Uribe Uribe     949\n",
       "Usaquen                888\n",
       "Fontibon               863\n",
       "San Cristobal          844\n",
       "Chapinero              763\n",
       "Los Martires           697\n",
       "Santa Fe               689\n",
       "Barrios Unidos         680\n",
       "Usme                   609\n",
       "Tunjuelito             589\n",
       "Teusaquillo            536\n",
       "Antonio Nariño         419\n",
       "La Candelaria          120\n",
       "Sumapaz                  6\n",
       "Name: LOCALIDAD, dtype: int64"
      ]
     },
     "execution_count": 38,
     "metadata": {},
     "output_type": "execute_result"
    }
   ],
   "source": [
    "octubre_2019['LOCALIDAD'].apply(\n",
    "    lambda x: x.strip()\n",
    ").value_counts()"
   ]
  },
  {
   "cell_type": "code",
   "execution_count": 39,
   "id": "031f1184-008f-4802-b7aa-54316adb80ba",
   "metadata": {},
   "outputs": [],
   "source": [
    "octubre_2019['LOCALIDAD'] = octubre_2019['LOCALIDAD'].apply(lambda x: x.strip())"
   ]
  },
  {
   "cell_type": "code",
   "execution_count": 40,
   "id": "5be4edab-3976-408b-8ce9-7c44b3f095a0",
   "metadata": {},
   "outputs": [],
   "source": [
    "octubre_2019[\"FECHA_INICIO_DESPLAZAMIENTO_MOVIL\"] = pd.to_datetime(octubre_2019[\"FECHA_INICIO_DESPLAZAMIENTO_MOVIL\"],dayfirst=True)"
   ]
  },
  {
   "cell_type": "code",
   "execution_count": 41,
   "id": "6b4ebdad-0bb8-4bff-9be3-eaf9ceafe346",
   "metadata": {},
   "outputs": [],
   "source": [
    "col = 'TIPO_INCIDENTE'\n",
    "octubre_2019[col] = octubre_2019[col].apply(lambda x: x.strip())"
   ]
  },
  {
   "cell_type": "code",
   "execution_count": 42,
   "id": "da144ec0-a696-4f1b-9cf2-7fef3c9109f9",
   "metadata": {},
   "outputs": [
    {
     "data": {
      "text/plain": [
       "Accidente de tránsito con heridos/Muertos    6778\n",
       "Inconsciente/Paro Cardiorrespiratorio        1768\n",
       "Dificultad Respiratoria                      1497\n",
       "Enfermo                                      1276\n",
       "Convulsiones                                 1130\n",
       "Heridos                                       828\n",
       "Dolor torácico                                735\n",
       "Intento de suicidio                           668\n",
       "Lesiones personales                           657\n",
       "Trastorno mental                              654\n",
       "Accidente cerebro vascular                    396\n",
       "Patología Gineco - obstétrica                 378\n",
       "Síntomas gastrointestinales                   375\n",
       "Caída                                         322\n",
       "Intoxicaciones                                179\n",
       "Ideas de suicidio                             111\n",
       "SIN_DATO                                       60\n",
       "Incendio estructural                           51\n",
       "Muerte Natural                                 39\n",
       "Violencia Sexual                               32\n",
       "Quemaduras                                     32\n",
       "Solicitud Apoyo / Desacato                     30\n",
       "Electrocución / Rescate                        20\n",
       "Sangrado Vaginal                               20\n",
       "Explosión                                      18\n",
       "Rescates                                       16\n",
       "Riña                                           15\n",
       "Accidente Tránsito Simple                      10\n",
       "Verificar Situación                            10\n",
       "Persona Pidiendo Auxilio                       10\n",
       "Fuga de Gas Natural o Propano                   9\n",
       "Incendio Vehicular                              8\n",
       "Abrir domicilio                                 7\n",
       "Incidente rescate acuático                      7\n",
       "MATPEL (Materiales peligrosos)                  6\n",
       "Atraco / Hurto en Proces                        6\n",
       "Muerto                                          5\n",
       "Maltrato                                        5\n",
       "Menor o persona Abandonada                      4\n",
       "Disparos                                        3\n",
       "Incendio con MATPEL                             3\n",
       "Manifestación / Motín                           3\n",
       "Elemento caído y/o en peligro de caer.          3\n",
       "Prevención                                      2\n",
       "PSICOLOGIA                                      2\n",
       "Vehiculo Hurtado                                2\n",
       "Abejas                                          1\n",
       "Embriaguez                                      1\n",
       "Incendio                                        1\n",
       "Animal Peligroso                                1\n",
       "Extraviados / Desaparecidos                     1\n",
       "Name: TIPO_INCIDENTE, dtype: int64"
      ]
     },
     "execution_count": 42,
     "metadata": {},
     "output_type": "execute_result"
    }
   ],
   "source": [
    "octubre_2019[col].fillna('SIN_DATO').value_counts()"
   ]
  },
  {
   "cell_type": "code",
   "execution_count": 43,
   "id": "3cabde7d-94a3-4dbb-bee6-abcb52b84851",
   "metadata": {},
   "outputs": [],
   "source": [
    "col = 'PRIORIDAD'\n",
    "octubre_2019[col] = octubre_2019[col].apply(lambda x: x.strip())"
   ]
  },
  {
   "cell_type": "code",
   "execution_count": 44,
   "id": "6786af2c-4003-42a2-87f4-89f1f84dd57b",
   "metadata": {},
   "outputs": [],
   "source": [
    "col = 'RED'\n",
    "octubre_2019[col].fillna('SIN_DATO', inplace=True)\n",
    "octubre_2019[col] = octubre_2019[col].apply(lambda x: x.strip())"
   ]
  },
  {
   "cell_type": "code",
   "execution_count": 45,
   "id": "4691fefe-9672-4b31-a2a9-6fbdbd064cbf",
   "metadata": {},
   "outputs": [
    {
     "name": "stdout",
     "output_type": "stream",
     "text": [
      "Number of rows before cleaning: 18195\n",
      "Number of rows after cleaning: 16559\n"
     ]
    }
   ],
   "source": [
    "print('Number of rows before cleaning:', octubre_2019.shape[0] )\n",
    "octubre_2019.drop_duplicates(inplace=True)\n",
    "print('Number of rows after cleaning:', octubre_2019.shape[0] )"
   ]
  },
  {
   "cell_type": "code",
   "execution_count": 46,
   "id": "552748af-9b44-4b26-8684-d9734b18895c",
   "metadata": {},
   "outputs": [],
   "source": [
    "# saving in a local directory\n",
    "octubre_2019.to_csv(project_dir + '/data/processed/' +'clean_datos-abiertos-octubre-2019.csv', encoding='latin1', sep=';', index=False)"
   ]
  },
  {
   "cell_type": "markdown",
   "id": "a00abb60-45f0-4091-ac2a-5de1a9549d1d",
   "metadata": {},
   "source": [
    "### ***datos-abiertos-septiembre-2019.csv***"
   ]
  },
  {
   "cell_type": "code",
   "execution_count": 47,
   "id": "274537c2-e589-4ed7-874a-c3af065fd255",
   "metadata": {},
   "outputs": [
    {
     "name": "stdout",
     "output_type": "stream",
     "text": [
      "<class 'pandas.core.frame.DataFrame'>\n",
      "RangeIndex: 17018 entries, 0 to 17017\n",
      "Data columns (total 10 columns):\n",
      " #   Column                             Non-Null Count  Dtype \n",
      "---  ------                             --------------  ----- \n",
      " 0   NUMERO_INCIDENTE                   17018 non-null  int64 \n",
      " 1   FECHA_INICIO_DESPLAZAMIENTO_MOVIL  17018 non-null  object\n",
      " 2   CODIGO_LOCALIDAD                   17018 non-null  int64 \n",
      " 3   LOCALIDAD                          17018 non-null  object\n",
      " 4   EDAD                               17018 non-null  int64 \n",
      " 5   UNIDAD                             9371 non-null   object\n",
      " 6   GENERO                             17018 non-null  object\n",
      " 7   RED                                17018 non-null  object\n",
      " 8   TIPO_INCIDENTE                     17018 non-null  object\n",
      " 9   PRIORIDAD                          17018 non-null  object\n",
      "dtypes: int64(3), object(7)\n",
      "memory usage: 1.3+ MB\n",
      "None\n"
     ]
    }
   ],
   "source": [
    "septiembre_2019 = get_input_data(\n",
    "    bucket= bucket,\n",
    "    initial_directory=directory,\n",
    "    filename = 'datos-abiertos-septiembre-2019.csv')\n",
    "septiembre_2019 = unificando_columnas(septiembre_2019)\n",
    "print(septiembre_2019.info())"
   ]
  },
  {
   "cell_type": "code",
   "execution_count": 48,
   "id": "2a576854-2897-4454-a6d4-6a53cecdb7fc",
   "metadata": {},
   "outputs": [
    {
     "data": {
      "text/plain": [
       "Kennedy               2398\n",
       "Suba                  1634\n",
       "Engativa              1631\n",
       "Bosa                  1294\n",
       "Ciudad Bolivar        1138\n",
       "Puente Aranda          938\n",
       "Rafael Uribe Uribe     854\n",
       "Usaquen                829\n",
       "San Cristobal          826\n",
       "Fontibon               809\n",
       "Chapinero              749\n",
       "Barrios Unidos         616\n",
       "Tunjuelito             603\n",
       "Los Martires           593\n",
       "Usme                   572\n",
       "Santa Fe               549\n",
       "Teusaquillo            540\n",
       "Antonio Nariño         362\n",
       "La Candelaria           83\n",
       "Name: LOCALIDAD, dtype: int64"
      ]
     },
     "execution_count": 48,
     "metadata": {},
     "output_type": "execute_result"
    }
   ],
   "source": [
    "septiembre_2019['LOCALIDAD'].apply(\n",
    "    lambda x: x.strip()\n",
    ").value_counts()"
   ]
  },
  {
   "cell_type": "code",
   "execution_count": 49,
   "id": "2aad2dc0-06b6-4db4-9cc0-c7542819edf4",
   "metadata": {},
   "outputs": [],
   "source": [
    "septiembre_2019[\"FECHA_INICIO_DESPLAZAMIENTO_MOVIL\"] = pd.to_datetime(septiembre_2019[\"FECHA_INICIO_DESPLAZAMIENTO_MOVIL\"],dayfirst=True)"
   ]
  },
  {
   "cell_type": "code",
   "execution_count": 50,
   "id": "4be0d658-3ffc-430e-9ca3-d9fd39a39c27",
   "metadata": {},
   "outputs": [],
   "source": [
    "col = 'GENERO'\n",
    "septiembre_2019[col] = septiembre_2019[col].apply(lambda x: x.strip())"
   ]
  },
  {
   "cell_type": "code",
   "execution_count": 51,
   "id": "0453cb9a-0204-43df-8317-92bae2d54213",
   "metadata": {},
   "outputs": [],
   "source": [
    "col = 'TIPO_INCIDENTE'\n",
    "septiembre_2019[col] = septiembre_2019[col].apply(lambda x: x.strip())"
   ]
  },
  {
   "cell_type": "code",
   "execution_count": 52,
   "id": "519e6f37-763b-48c8-a6a2-7dcc6f609e0c",
   "metadata": {},
   "outputs": [
    {
     "data": {
      "text/plain": [
       "ACCIDENTE DE TRÁNSITO CON HERIDOS/MUERTOS    6333\n",
       "INCONSCIENTE/PARO CARDIORRESPIRATORIO        1720\n",
       "DIFICULTAD RESPIRATORIA                      1386\n",
       "ENFERMO                                      1137\n",
       "CONVULSIONES                                 1039\n",
       "HERIDOS                                       834\n",
       "INTENTO DE SUICIDIO                           653\n",
       "DOLOR TORÁCICO                                629\n",
       "TRASTORNO MENTAL                              621\n",
       "LESIONES PERSONALES                           593\n",
       "PATOLOGÍA GINECO - OBSTÉTRICA                 421\n",
       "SÍNTOMAS GASTROINTESTINALES                   360\n",
       "ACCIDENTE CEREBRO VASCULAR                    352\n",
       "CAÍDA                                         334\n",
       "INTOXICACIONES                                156\n",
       "IDEAS DE SUICIDIO                             113\n",
       "VIOLENCIA SEXUAL                               48\n",
       "INCENDIO ESTRUCTURAL                           40\n",
       "SIN_DATO                                       32\n",
       "SANGRADO VAGINAL                               25\n",
       "ACCIDENTE TRÁNSITO SIMPLE                      23\n",
       "RESCATES                                       20\n",
       "MUERTE NATURAL                                 18\n",
       "ELEMENTO CAÍDO Y/O EN PELIGRO DE CAER.         16\n",
       "SOLICITUD APOYO / DESACATO                     15\n",
       "RIÑA                                           13\n",
       "EXPLOSIÓN                                      10\n",
       "ABRIR DOMICILIO                                 8\n",
       "QUEMADURAS                                      8\n",
       "FUGA DE GAS NATURAL O PROPANO                   6\n",
       "MALTRATO                                        6\n",
       "ANIMAL PELIGROSO                                5\n",
       "ELECTROCUCIÓN / RESCATE                         5\n",
       "PERSONA PIDIENDO AUXILIO                        5\n",
       "MANIFESTACIÓN / MOTÍN                           4\n",
       "INCIDENTE RESCATE ACUÁTICO                      4\n",
       "INCENDIO VEHICULAR                              3\n",
       "EMBRIAGUEZ                                      3\n",
       "ATRACO / HURTO EN PROCES                        3\n",
       "INCENDIO                                        2\n",
       "INUNDACIÓN                                      2\n",
       "PERSONA TENDIDA EN LA VÍA                       2\n",
       "DAÑOS EN SERVICIOS                              2\n",
       "MUERTO                                          2\n",
       "VERIFICAR SITUACIÓN                             1\n",
       "RESCATES MONTAÑA                                1\n",
       "HABITANTE DE LA CALLE                           1\n",
       "PREVENCIÓN                                      1\n",
       "INCENDIO FORESTAL                               1\n",
       "DESLIZAMIENTO                                   1\n",
       "DELINCUENTE CAPTURADO POR CIVIL                 1\n",
       "Name: TIPO_INCIDENTE, dtype: int64"
      ]
     },
     "execution_count": 52,
     "metadata": {},
     "output_type": "execute_result"
    }
   ],
   "source": [
    "septiembre_2019[col].fillna('SIN_DATO').value_counts()"
   ]
  },
  {
   "cell_type": "code",
   "execution_count": 53,
   "id": "d124f32d-aa19-4d79-b5c9-ceaacf8508c1",
   "metadata": {},
   "outputs": [],
   "source": [
    "col = 'UNIDAD'\n",
    "septiembre_2019[col].fillna('SIN_DATO', inplace=True)\n",
    "septiembre_2019[col] = septiembre_2019[col].apply(lambda x: x.strip())"
   ]
  },
  {
   "cell_type": "code",
   "execution_count": 54,
   "id": "c6da7efa-d2b5-47ab-8c3e-59b27d639432",
   "metadata": {},
   "outputs": [
    {
     "name": "stdout",
     "output_type": "stream",
     "text": [
      "Number of rows before cleaning: 17018\n",
      "Number of rows after cleaning: 16267\n"
     ]
    }
   ],
   "source": [
    "print('Number of rows before cleaning:', septiembre_2019.shape[0] )\n",
    "septiembre_2019.drop_duplicates(inplace=True)\n",
    "print('Number of rows after cleaning:', septiembre_2019.shape[0] )"
   ]
  },
  {
   "cell_type": "code",
   "execution_count": 55,
   "id": "dc5d252c-3671-4637-a658-8064fcd9f29a",
   "metadata": {},
   "outputs": [],
   "source": [
    "septiembre_2019.to_csv(project_dir + '/data/processed/' +'clean_datos-abiertos-septiembre-2019.csv', encoding='latin1', sep=';', index=False)"
   ]
  },
  {
   "cell_type": "markdown",
   "id": "a8e62ce0-3608-4506-baa3-c9b95a0d0d9f",
   "metadata": {},
   "source": [
    "### **datos-abiertos-septiembre-2019.csv**"
   ]
  },
  {
   "cell_type": "code",
   "execution_count": 57,
   "id": "a674f8a1-a2e8-4db4-9e19-51b98b435df6",
   "metadata": {},
   "outputs": [
    {
     "name": "stdout",
     "output_type": "stream",
     "text": [
      "<class 'pandas.core.frame.DataFrame'>\n",
      "RangeIndex: 16243 entries, 0 to 16242\n",
      "Data columns (total 10 columns):\n",
      " #   Column                             Non-Null Count  Dtype \n",
      "---  ------                             --------------  ----- \n",
      " 0   NUMERO_INCIDENTE                   16243 non-null  object\n",
      " 1   FECHA_INICIO_DESPLAZAMIENTO_MOVIL  16243 non-null  object\n",
      " 2   CODIGO_LOCALIDAD                   16243 non-null  int64 \n",
      " 3   LOCALIDAD                          16243 non-null  object\n",
      " 4   EDAD                               16243 non-null  int64 \n",
      " 5   UNIDAD                             16243 non-null  object\n",
      " 6   GENERO                             16243 non-null  object\n",
      " 7   RED                                16243 non-null  object\n",
      " 8   TIPO_INCIDENTE                     16243 non-null  object\n",
      " 9   PRIORIDAD                          16243 non-null  object\n",
      "dtypes: int64(2), object(8)\n",
      "memory usage: 1.2+ MB\n",
      "None\n"
     ]
    }
   ],
   "source": [
    "diciembre_2019 = get_input_data(\n",
    "    bucket= bucket,\n",
    "    initial_directory=directory,\n",
    "    filename = 'datos_abiertos_cons_diciembre_2019.csv')\n",
    "diciembre_2019 = unificando_columnas(diciembre_2019)\n",
    "print(diciembre_2019.info())"
   ]
  },
  {
   "cell_type": "code",
   "execution_count": 58,
   "id": "1aebb149-04de-4725-b397-61fc6b88ef50",
   "metadata": {},
   "outputs": [
    {
     "data": {
      "text/plain": [
       "Kennedy               2317\n",
       "Engativá              1644\n",
       "Suba                  1471\n",
       "Bosa                  1182\n",
       "Ciudad Bolívar        1121\n",
       "Puente Aranda          904\n",
       "Fontibón               864\n",
       "San Cristóbal          838\n",
       "Rafael Uribe Uribe     772\n",
       "Usaquén                770\n",
       "Usme                   630\n",
       "Tunjuelito             616\n",
       "Santa Fe               589\n",
       "Chapinero              556\n",
       "Los Mártires           525\n",
       "Barrios Unidos         513\n",
       "Teusaquillo            497\n",
       "Antonio Nariño         373\n",
       "La Candelaria           60\n",
       "Sumapaz                  1\n",
       "Name: LOCALIDAD, dtype: int64"
      ]
     },
     "execution_count": 58,
     "metadata": {},
     "output_type": "execute_result"
    }
   ],
   "source": [
    "diciembre_2019['LOCALIDAD'].apply(\n",
    "    lambda x: x.strip()\n",
    ").value_counts()"
   ]
  },
  {
   "cell_type": "code",
   "execution_count": 59,
   "id": "95a972c5-6200-45d6-b0f0-925d8dc75e9b",
   "metadata": {},
   "outputs": [],
   "source": [
    "diciembre_2019[\"FECHA_INICIO_DESPLAZAMIENTO_MOVIL\"] = pd.to_datetime(diciembre_2019[\"FECHA_INICIO_DESPLAZAMIENTO_MOVIL\"],dayfirst=True)"
   ]
  },
  {
   "cell_type": "code",
   "execution_count": 63,
   "id": "5d976ca1-ea92-431f-b95f-d321663c02cc",
   "metadata": {},
   "outputs": [],
   "source": [
    "diciembre_2019['LOCALIDAD'] = diciembre_2019['LOCALIDAD'].apply(lambda x: x.strip())"
   ]
  },
  {
   "cell_type": "code",
   "execution_count": 64,
   "id": "877108e8-6cd4-46a3-980b-5d2301c80f5e",
   "metadata": {},
   "outputs": [],
   "source": [
    "col = 'GENERO'\n",
    "diciembre_2019[col] = diciembre_2019[col].apply(lambda x: x.strip())"
   ]
  },
  {
   "cell_type": "code",
   "execution_count": 65,
   "id": "0b40dfc3-87b6-4a3d-8a74-d41b372a7d1e",
   "metadata": {},
   "outputs": [],
   "source": [
    "col = 'TIPO_INCIDENTE'\n",
    "diciembre_2019[col] = diciembre_2019[col].apply(lambda x: x.strip())"
   ]
  },
  {
   "cell_type": "code",
   "execution_count": 66,
   "id": "2e603f04-b31b-430a-90f6-33f0ec180857",
   "metadata": {},
   "outputs": [
    {
     "data": {
      "text/plain": [
       "Heridos accidentales                      7390\n",
       "Inconsciente / paro cardiorespiratorio    1743\n",
       "Evento respiratorio                       1404\n",
       "Convulsión                                1027\n",
       "Enfermo                                    873\n",
       "Trastorno mental                           650\n",
       "Dolor torácico                             611\n",
       "Intento de Suicidio                        543\n",
       "Caída de Altura                            377\n",
       "Patología ginecobstétrica                  371\n",
       "Accidente Cerebro\\nVascular                365\n",
       "Síntomas gastrointestinales                275\n",
       "Intoxicación                               153\n",
       "S/D                                        138\n",
       "Accidente Tránsito con Heridos/Muertos     108\n",
       "Amenaza de\\nSuicidio                        95\n",
       "Violencia Sexual                            28\n",
       "Sangrado Vaginal                            24\n",
       "Lesiones Personales                         23\n",
       "Quemaduras                                  16\n",
       "Electrocución / Rescate                     10\n",
       "Accidente Cerebro Vascular (ACV)             7\n",
       "Maltrato                                     7\n",
       "Incendio estructural                         2\n",
       "Muerte Natural                               2\n",
       "Accidente de Aviación                        1\n",
       "Name: TIPO_INCIDENTE, dtype: int64"
      ]
     },
     "execution_count": 66,
     "metadata": {},
     "output_type": "execute_result"
    }
   ],
   "source": [
    "diciembre_2019[col].fillna('SIN_DATO').value_counts()"
   ]
  },
  {
   "cell_type": "code",
   "execution_count": 67,
   "id": "29cc2e4b-3f44-49a3-afd1-68eb7643d644",
   "metadata": {},
   "outputs": [],
   "source": [
    "col = 'RED'\n",
    "diciembre_2019[col].fillna('SIN_DATO', inplace=True)\n",
    "diciembre_2019[col] = diciembre_2019[col].apply(lambda x: x.strip())"
   ]
  },
  {
   "cell_type": "code",
   "execution_count": 68,
   "id": "8edd7293-f184-4f79-9d58-1c98477adb72",
   "metadata": {},
   "outputs": [
    {
     "name": "stdout",
     "output_type": "stream",
     "text": [
      "Number of rows before cleaning: 16243\n",
      "Number of rows after cleaning: 16162\n"
     ]
    }
   ],
   "source": [
    "print('Number of rows before cleaning:', diciembre_2019.shape[0] )\n",
    "diciembre_2019.drop_duplicates(inplace=True)\n",
    "print('Number of rows after cleaning:', diciembre_2019.shape[0] )"
   ]
  },
  {
   "cell_type": "code",
   "execution_count": 69,
   "id": "7962c8ff-9a66-45d2-a862-5b0204f6cbe3",
   "metadata": {},
   "outputs": [],
   "source": [
    "diciembre_2019.to_csv(project_dir + '/data/processed/' +'clean_datos-abiertos-diciembre-2019.csv', encoding='latin1', sep=';', index=False)"
   ]
  },
  {
   "cell_type": "markdown",
   "id": "2a208ed5-58af-4dc9-9476-89d9a40299ca",
   "metadata": {},
   "source": [
    "**reporte por meses**"
   ]
  },
  {
   "cell_type": "code",
   "execution_count": 71,
   "id": "2182b94c-f5f7-404d-a255-5eb207bf3b0c",
   "metadata": {},
   "outputs": [
    {
     "data": {
      "application/vnd.jupyter.widget-view+json": {
       "model_id": "934e8677c0a84491b97493f66c5b8136",
       "version_major": 2,
       "version_minor": 0
      },
      "text/plain": [
       "Summarize dataset:   0%|          | 0/24 [00:00<?, ?it/s]"
      ]
     },
     "metadata": {},
     "output_type": "display_data"
    },
    {
     "data": {
      "application/vnd.jupyter.widget-view+json": {
       "model_id": "fb39663dd07641e285195fed85a8dea0",
       "version_major": 2,
       "version_minor": 0
      },
      "text/plain": [
       "Generate report structure:   0%|          | 0/1 [00:00<?, ?it/s]"
      ]
     },
     "metadata": {},
     "output_type": "display_data"
    },
    {
     "data": {
      "application/vnd.jupyter.widget-view+json": {
       "model_id": "8982f292f5dd4a4d82743818f7a8470f",
       "version_major": 2,
       "version_minor": 0
      },
      "text/plain": [
       "Render HTML:   0%|          | 0/1 [00:00<?, ?it/s]"
      ]
     },
     "metadata": {},
     "output_type": "display_data"
    },
    {
     "data": {
      "application/vnd.jupyter.widget-view+json": {
       "model_id": "3dcddf5aca904519815c2c9a3b42cebe",
       "version_major": 2,
       "version_minor": 0
      },
      "text/plain": [
       "Export report to file:   0%|          | 0/1 [00:00<?, ?it/s]"
      ]
     },
     "metadata": {},
     "output_type": "display_data"
    }
   ],
   "source": [
    "r_diciembre = ProfileReport(df=diciembre_2019)\n",
    "r_diciembre.to_file(output_file=project_dir + '/reports/'+'profile_raw_data_diciembre_2019.html')"
   ]
  },
  {
   "cell_type": "code",
   "execution_count": 72,
   "id": "bde5ddda-cd9c-44fe-bdfd-2fac99bad1e2",
   "metadata": {},
   "outputs": [
    {
     "data": {
      "application/vnd.jupyter.widget-view+json": {
       "model_id": "b9b3ff732bfb4221af6df2ff9f485351",
       "version_major": 2,
       "version_minor": 0
      },
      "text/plain": [
       "Summarize dataset:   0%|          | 0/26 [00:00<?, ?it/s]"
      ]
     },
     "metadata": {},
     "output_type": "display_data"
    },
    {
     "data": {
      "application/vnd.jupyter.widget-view+json": {
       "model_id": "b32226536da04bc28028234469b5c1a5",
       "version_major": 2,
       "version_minor": 0
      },
      "text/plain": [
       "Generate report structure:   0%|          | 0/1 [00:00<?, ?it/s]"
      ]
     },
     "metadata": {},
     "output_type": "display_data"
    },
    {
     "data": {
      "application/vnd.jupyter.widget-view+json": {
       "model_id": "5b7cd5bace7243d4804cccf698be160e",
       "version_major": 2,
       "version_minor": 0
      },
      "text/plain": [
       "Render HTML:   0%|          | 0/1 [00:00<?, ?it/s]"
      ]
     },
     "metadata": {},
     "output_type": "display_data"
    },
    {
     "data": {
      "application/vnd.jupyter.widget-view+json": {
       "model_id": "458379888aa54187b57b3b6ce5d74977",
       "version_major": 2,
       "version_minor": 0
      },
      "text/plain": [
       "Export report to file:   0%|          | 0/1 [00:00<?, ?it/s]"
      ]
     },
     "metadata": {},
     "output_type": "display_data"
    }
   ],
   "source": [
    "r_agosto = ProfileReport(df=agosto_2019)\n",
    "r_agosto.to_file(output_file=project_dir + '/reports/'+'profile_raw_data_agosto_2019.html')"
   ]
  },
  {
   "cell_type": "code",
   "execution_count": 73,
   "id": "51ae2e47-64f3-4a78-8aae-fb2849addca8",
   "metadata": {},
   "outputs": [
    {
     "data": {
      "application/vnd.jupyter.widget-view+json": {
       "model_id": "0507932084194030bee28b029c46a1e1",
       "version_major": 2,
       "version_minor": 0
      },
      "text/plain": [
       "Summarize dataset:   0%|          | 0/24 [00:00<?, ?it/s]"
      ]
     },
     "metadata": {},
     "output_type": "display_data"
    },
    {
     "data": {
      "application/vnd.jupyter.widget-view+json": {
       "model_id": "69812199342b4b94a195cc5a0d0215fd",
       "version_major": 2,
       "version_minor": 0
      },
      "text/plain": [
       "Generate report structure:   0%|          | 0/1 [00:00<?, ?it/s]"
      ]
     },
     "metadata": {},
     "output_type": "display_data"
    },
    {
     "data": {
      "application/vnd.jupyter.widget-view+json": {
       "model_id": "1df7f54db4dd471fb24c9c14d402d9f3",
       "version_major": 2,
       "version_minor": 0
      },
      "text/plain": [
       "Render HTML:   0%|          | 0/1 [00:00<?, ?it/s]"
      ]
     },
     "metadata": {},
     "output_type": "display_data"
    },
    {
     "data": {
      "application/vnd.jupyter.widget-view+json": {
       "model_id": "33604be7de8042bdad35f92238e435c2",
       "version_major": 2,
       "version_minor": 0
      },
      "text/plain": [
       "Export report to file:   0%|          | 0/1 [00:00<?, ?it/s]"
      ]
     },
     "metadata": {},
     "output_type": "display_data"
    }
   ],
   "source": [
    "r_noviembre = ProfileReport(df=noviembre_2019)\n",
    "r_noviembre.to_file(output_file=project_dir + '/reports/'+'profile_raw_data_noviembre_2019.html')"
   ]
  },
  {
   "cell_type": "code",
   "execution_count": 74,
   "id": "aedcd2b0-aaeb-47f4-a5f5-4985fd8c3129",
   "metadata": {},
   "outputs": [
    {
     "data": {
      "application/vnd.jupyter.widget-view+json": {
       "model_id": "010a31a18b6443309db978de7385dfb9",
       "version_major": 2,
       "version_minor": 0
      },
      "text/plain": [
       "Summarize dataset:   0%|          | 0/24 [00:00<?, ?it/s]"
      ]
     },
     "metadata": {},
     "output_type": "display_data"
    },
    {
     "data": {
      "application/vnd.jupyter.widget-view+json": {
       "model_id": "b9f3b37bf4dd45c0b753cc7e7ac2288a",
       "version_major": 2,
       "version_minor": 0
      },
      "text/plain": [
       "Generate report structure:   0%|          | 0/1 [00:00<?, ?it/s]"
      ]
     },
     "metadata": {},
     "output_type": "display_data"
    },
    {
     "data": {
      "application/vnd.jupyter.widget-view+json": {
       "model_id": "56944d10506849c1a479519f129c21ed",
       "version_major": 2,
       "version_minor": 0
      },
      "text/plain": [
       "Render HTML:   0%|          | 0/1 [00:00<?, ?it/s]"
      ]
     },
     "metadata": {},
     "output_type": "display_data"
    },
    {
     "data": {
      "application/vnd.jupyter.widget-view+json": {
       "model_id": "589067a7dac74718a90496c46d12be0c",
       "version_major": 2,
       "version_minor": 0
      },
      "text/plain": [
       "Export report to file:   0%|          | 0/1 [00:00<?, ?it/s]"
      ]
     },
     "metadata": {},
     "output_type": "display_data"
    }
   ],
   "source": [
    "r_octubre = ProfileReport(df=octubre_2019)\n",
    "r_octubre.to_file(output_file=project_dir + '/reports/'+'profile_raw_data_octubre_2019.html')"
   ]
  },
  {
   "cell_type": "code",
   "execution_count": 75,
   "id": "9b1fe6f9-5ea1-42d4-8ce4-d0abe08d0eef",
   "metadata": {},
   "outputs": [
    {
     "data": {
      "application/vnd.jupyter.widget-view+json": {
       "model_id": "70eb852c28364a2790f1f189eec87382",
       "version_major": 2,
       "version_minor": 0
      },
      "text/plain": [
       "Summarize dataset:   0%|          | 0/24 [00:00<?, ?it/s]"
      ]
     },
     "metadata": {},
     "output_type": "display_data"
    },
    {
     "data": {
      "application/vnd.jupyter.widget-view+json": {
       "model_id": "245acb1bec2744ee8677fa33e5cfc349",
       "version_major": 2,
       "version_minor": 0
      },
      "text/plain": [
       "Generate report structure:   0%|          | 0/1 [00:00<?, ?it/s]"
      ]
     },
     "metadata": {},
     "output_type": "display_data"
    },
    {
     "data": {
      "application/vnd.jupyter.widget-view+json": {
       "model_id": "90a010cb796f431caffe82321b391d5d",
       "version_major": 2,
       "version_minor": 0
      },
      "text/plain": [
       "Render HTML:   0%|          | 0/1 [00:00<?, ?it/s]"
      ]
     },
     "metadata": {},
     "output_type": "display_data"
    },
    {
     "data": {
      "application/vnd.jupyter.widget-view+json": {
       "model_id": "af99134218924409b928d58944e6a9e1",
       "version_major": 2,
       "version_minor": 0
      },
      "text/plain": [
       "Export report to file:   0%|          | 0/1 [00:00<?, ?it/s]"
      ]
     },
     "metadata": {},
     "output_type": "display_data"
    }
   ],
   "source": [
    "r_septiembre = ProfileReport(df=septiembre_2019)\n",
    "r_septiembre.to_file(output_file=project_dir + '/reports/'+'profile_raw_data_septiembre_2019.html')"
   ]
  },
  {
   "cell_type": "code",
   "execution_count": 80,
   "id": "02874030-4802-42c3-a687-94807b2efc7b",
   "metadata": {},
   "outputs": [
    {
     "data": {
      "text/html": [
       "<div>\n",
       "<style scoped>\n",
       "    .dataframe tbody tr th:only-of-type {\n",
       "        vertical-align: middle;\n",
       "    }\n",
       "\n",
       "    .dataframe tbody tr th {\n",
       "        vertical-align: top;\n",
       "    }\n",
       "\n",
       "    .dataframe thead th {\n",
       "        text-align: right;\n",
       "    }\n",
       "</style>\n",
       "<table border=\"1\" class=\"dataframe\">\n",
       "  <thead>\n",
       "    <tr style=\"text-align: right;\">\n",
       "      <th></th>\n",
       "      <th>FECHA_INCIDENTE</th>\n",
       "      <th>FECHA_INICIO_DESPLAZAMIENTO_MOVIL</th>\n",
       "      <th>CODIGO_LOCALIDAD</th>\n",
       "      <th>LOCALIDAD</th>\n",
       "      <th>EDAD</th>\n",
       "      <th>UNIDAD</th>\n",
       "      <th>GENERO</th>\n",
       "      <th>RED</th>\n",
       "      <th>TIPO_INCIDENTE</th>\n",
       "      <th>PRIORIDAD</th>\n",
       "      <th>MES</th>\n",
       "      <th>CLASIFICACION_FINAL</th>\n",
       "      <th>NUMERO_INCIDENTE</th>\n",
       "    </tr>\n",
       "  </thead>\n",
       "  <tbody>\n",
       "    <tr>\n",
       "      <th>0</th>\n",
       "      <td>2019-07-01 00:05:08</td>\n",
       "      <td>2019-07-01 00:11:02</td>\n",
       "      <td>8</td>\n",
       "      <td>Kennedy</td>\n",
       "      <td>39</td>\n",
       "      <td>Años</td>\n",
       "      <td>FEMENINO</td>\n",
       "      <td>Norte</td>\n",
       "      <td>Dificultad Respiratoria</td>\n",
       "      <td>ALTA</td>\n",
       "      <td>JULIO</td>\n",
       "      <td>Traslado</td>\n",
       "      <td>NaN</td>\n",
       "    </tr>\n",
       "    <tr>\n",
       "      <th>1</th>\n",
       "      <td>2019-07-01 00:06:57</td>\n",
       "      <td>2019-07-01 00:12:56</td>\n",
       "      <td>19</td>\n",
       "      <td>Ciudad Bolivar</td>\n",
       "      <td>69</td>\n",
       "      <td>Años</td>\n",
       "      <td>MASCULINO</td>\n",
       "      <td>Sur</td>\n",
       "      <td>Inconsciente/Paro Cardiorrespiratorio</td>\n",
       "      <td>ALTA</td>\n",
       "      <td>JULIO</td>\n",
       "      <td>SIN_DATO</td>\n",
       "      <td>NaN</td>\n",
       "    </tr>\n",
       "    <tr>\n",
       "      <th>2</th>\n",
       "      <td>2019-07-01 00:09:26</td>\n",
       "      <td>2019-07-01 00:10:26</td>\n",
       "      <td>6</td>\n",
       "      <td>Tunjuelito</td>\n",
       "      <td>25</td>\n",
       "      <td>Años</td>\n",
       "      <td>MASCULINO</td>\n",
       "      <td>Sur</td>\n",
       "      <td>Enfermo</td>\n",
       "      <td>MEDIA</td>\n",
       "      <td>JULIO</td>\n",
       "      <td>Traslado</td>\n",
       "      <td>NaN</td>\n",
       "    </tr>\n",
       "    <tr>\n",
       "      <th>3</th>\n",
       "      <td>2019-07-01 00:14:42</td>\n",
       "      <td>2019-07-01 00:15:47</td>\n",
       "      <td>8</td>\n",
       "      <td>Kennedy</td>\n",
       "      <td>65</td>\n",
       "      <td>Años</td>\n",
       "      <td>MASCULINO</td>\n",
       "      <td>Sur</td>\n",
       "      <td>Lesiones personales</td>\n",
       "      <td>MEDIA</td>\n",
       "      <td>JULIO</td>\n",
       "      <td>Traslado</td>\n",
       "      <td>NaN</td>\n",
       "    </tr>\n",
       "    <tr>\n",
       "      <th>4</th>\n",
       "      <td>2019-07-01 00:17:13</td>\n",
       "      <td>2019-07-01 00:31:13</td>\n",
       "      <td>10</td>\n",
       "      <td>Engativa</td>\n",
       "      <td>SIN_DATO</td>\n",
       "      <td>SIN_DATO</td>\n",
       "      <td>SIN_DATO</td>\n",
       "      <td>Norte</td>\n",
       "      <td>Enfermo</td>\n",
       "      <td>MEDIA</td>\n",
       "      <td>JULIO</td>\n",
       "      <td>Cancelado</td>\n",
       "      <td>NaN</td>\n",
       "    </tr>\n",
       "  </tbody>\n",
       "</table>\n",
       "</div>"
      ],
      "text/plain": [
       "       FECHA_INCIDENTE FECHA_INICIO_DESPLAZAMIENTO_MOVIL  CODIGO_LOCALIDAD  \\\n",
       "0  2019-07-01 00:05:08               2019-07-01 00:11:02                 8   \n",
       "1  2019-07-01 00:06:57               2019-07-01 00:12:56                19   \n",
       "2  2019-07-01 00:09:26               2019-07-01 00:10:26                 6   \n",
       "3  2019-07-01 00:14:42               2019-07-01 00:15:47                 8   \n",
       "4  2019-07-01 00:17:13               2019-07-01 00:31:13                10   \n",
       "\n",
       "        LOCALIDAD      EDAD    UNIDAD     GENERO    RED  \\\n",
       "0         Kennedy        39      Años   FEMENINO  Norte   \n",
       "1  Ciudad Bolivar        69      Años  MASCULINO    Sur   \n",
       "2      Tunjuelito        25      Años  MASCULINO    Sur   \n",
       "3         Kennedy        65      Años  MASCULINO    Sur   \n",
       "4        Engativa  SIN_DATO  SIN_DATO   SIN_DATO  Norte   \n",
       "\n",
       "                          TIPO_INCIDENTE PRIORIDAD    MES CLASIFICACION_FINAL  \\\n",
       "0                Dificultad Respiratoria      ALTA  JULIO            Traslado   \n",
       "1  Inconsciente/Paro Cardiorrespiratorio      ALTA  JULIO            SIN_DATO   \n",
       "2                                Enfermo     MEDIA  JULIO            Traslado   \n",
       "3                    Lesiones personales     MEDIA  JULIO            Traslado   \n",
       "4                                Enfermo     MEDIA  JULIO           Cancelado   \n",
       "\n",
       "  NUMERO_INCIDENTE  \n",
       "0              NaN  \n",
       "1              NaN  \n",
       "2              NaN  \n",
       "3              NaN  \n",
       "4              NaN  "
      ]
     },
     "execution_count": 80,
     "metadata": {},
     "output_type": "execute_result"
    }
   ],
   "source": [
    "informe = pd.concat([julio_2019,agosto_2019,septiembre_2019,octubre_2019,noviembre_2019,diciembre_2019])\n",
    "informe.head()"
   ]
  },
  {
   "cell_type": "code",
   "execution_count": 81,
   "id": "888fc631-565f-4d0d-a72b-fefff191de3e",
   "metadata": {},
   "outputs": [],
   "source": [
    "eliminarAcentos = lambda str: str.translate(str.maketrans(\"áàäéèëíìïòóöùúüÀÁÄÈÉËÌÍÏÒÓÖÙÚÜ\", \"aaaeeeiiiooouuuAAAEEEIIIOOOUUU\"))"
   ]
  },
  {
   "cell_type": "code",
   "execution_count": 82,
   "id": "8f6f9665-bd94-45b3-aeb7-50e6f178c59d",
   "metadata": {},
   "outputs": [
    {
     "name": "stdout",
     "output_type": "stream",
     "text": [
      "Number of rows before cleaning: 95523\n",
      "Number of rows after cleaning: 95523\n"
     ]
    }
   ],
   "source": [
    "print('Number of rows before cleaning:', informe.shape[0] )\n",
    "informe.drop_duplicates(inplace=True)\n",
    "print('Number of rows after cleaning:', informe.shape[0] )"
   ]
  },
  {
   "cell_type": "code",
   "execution_count": 84,
   "id": "0f5322c3-d50a-4419-a394-492113620c9f",
   "metadata": {},
   "outputs": [],
   "source": [
    "informe.to_csv(project_dir + '/data/processed/' +'clean_datos-abiertos.csv', encoding='latin1', sep=';', index=False)"
   ]
  },
  {
   "cell_type": "code",
   "execution_count": null,
   "id": "447a93d0-83ad-49f8-9dd6-e77701a9e757",
   "metadata": {},
   "outputs": [],
   "source": []
  }
 ],
 "metadata": {
  "environment": {
   "kernel": "python3",
   "name": "common-cpu.m90",
   "type": "gcloud",
   "uri": "gcr.io/deeplearning-platform-release/base-cpu:m90"
  },
  "kernelspec": {
   "display_name": "Python 3",
   "language": "python",
   "name": "python3"
  },
  "language_info": {
   "codemirror_mode": {
    "name": "ipython",
    "version": 3
   },
   "file_extension": ".py",
   "mimetype": "text/x-python",
   "name": "python",
   "nbconvert_exporter": "python",
   "pygments_lexer": "ipython3",
   "version": "3.7.12"
  }
 },
 "nbformat": 4,
 "nbformat_minor": 5
}
