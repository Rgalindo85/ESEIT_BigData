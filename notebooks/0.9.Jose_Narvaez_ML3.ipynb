{
 "cells": [
  {
   "cell_type": "markdown",
   "id": "3064adf9-483e-4260-89ee-501ab0bbd5f2",
   "metadata": {},
   "source": [
    "# Workshop #3\n",
    "## José Luis Narváez Bolaños\n",
    "\n",
    "*Import packages and look at the data*"
   ]
  },
  {
   "cell_type": "code",
   "execution_count": 43,
   "id": "c7edbe20-1ccc-484f-9a6e-8bcb3bfef439",
   "metadata": {},
   "outputs": [],
   "source": [
    "import os, sys\n",
    "import pandas as pd\n",
    "import numpy as np\n",
    "import seaborn as sns\n",
    "import pandas_gbq\n",
    "import matplotlib.pyplot as plt\n",
    "from sklearn.metrics import roc_curve,roc_auc_score\n",
    "from pathlib import Path"
   ]
  },
  {
   "cell_type": "code",
   "execution_count": 3,
   "id": "46b57689-3190-4172-b38e-05166d79e6c8",
   "metadata": {},
   "outputs": [
    {
     "name": "stdout",
     "output_type": "stream",
     "text": [
      "/home/jupyter/ESEIT_BigData/notebooks\n",
      "/home/jupyter/ESEIT_BigData\n"
     ]
    }
   ],
   "source": [
    "#Define the paths of the directories\n",
    "current_dir=Path('.').resolve()\n",
    "#Returns to the directory’s parent folder\n",
    "project_dir=Path(current_dir).parent\n",
    "print(current_dir)\n",
    "print(project_dir)"
   ]
  },
  {
   "cell_type": "code",
   "execution_count": 4,
   "id": "98dc55c8-3272-404e-bc70-ecaf2c3efe10",
   "metadata": {},
   "outputs": [],
   "source": [
    "file_data=os.path.join(project_dir,\"data\",\"raw\",\"UCI_Credit_Card.csv\")\n",
    "data=pd.read_csv(file_data)"
   ]
  },
  {
   "cell_type": "code",
   "execution_count": 5,
   "id": "940bf7c3-078c-4ab2-bea6-35b383f87bfb",
   "metadata": {},
   "outputs": [
    {
     "name": "stdout",
     "output_type": "stream",
     "text": [
      "<class 'pandas.core.frame.DataFrame'>\n",
      "RangeIndex: 30000 entries, 0 to 29999\n",
      "Data columns (total 25 columns):\n",
      " #   Column                      Non-Null Count  Dtype  \n",
      "---  ------                      --------------  -----  \n",
      " 0   ID                          30000 non-null  int64  \n",
      " 1   LIMIT_BAL                   30000 non-null  float64\n",
      " 2   SEX                         30000 non-null  int64  \n",
      " 3   EDUCATION                   30000 non-null  int64  \n",
      " 4   MARRIAGE                    30000 non-null  int64  \n",
      " 5   AGE                         30000 non-null  int64  \n",
      " 6   PAY_0                       30000 non-null  int64  \n",
      " 7   PAY_2                       30000 non-null  int64  \n",
      " 8   PAY_3                       30000 non-null  int64  \n",
      " 9   PAY_4                       30000 non-null  int64  \n",
      " 10  PAY_5                       30000 non-null  int64  \n",
      " 11  PAY_6                       30000 non-null  int64  \n",
      " 12  BILL_AMT1                   30000 non-null  float64\n",
      " 13  BILL_AMT2                   30000 non-null  float64\n",
      " 14  BILL_AMT3                   30000 non-null  float64\n",
      " 15  BILL_AMT4                   30000 non-null  float64\n",
      " 16  BILL_AMT5                   30000 non-null  float64\n",
      " 17  BILL_AMT6                   30000 non-null  float64\n",
      " 18  PAY_AMT1                    30000 non-null  float64\n",
      " 19  PAY_AMT2                    30000 non-null  float64\n",
      " 20  PAY_AMT3                    30000 non-null  float64\n",
      " 21  PAY_AMT4                    30000 non-null  float64\n",
      " 22  PAY_AMT5                    30000 non-null  float64\n",
      " 23  PAY_AMT6                    30000 non-null  float64\n",
      " 24  default.payment.next.month  30000 non-null  int64  \n",
      "dtypes: float64(13), int64(12)\n",
      "memory usage: 5.7 MB\n"
     ]
    }
   ],
   "source": [
    "data.info()"
   ]
  },
  {
   "cell_type": "markdown",
   "id": "5a9e3a54-2cc5-4860-9fca-ac468bd9e759",
   "metadata": {},
   "source": [
    "Two columns bother me because are poorly labeled."
   ]
  },
  {
   "cell_type": "code",
   "execution_count": 6,
   "id": "63164371-86ed-48d3-943a-2c8f24682447",
   "metadata": {},
   "outputs": [],
   "source": [
    "data = data.rename(columns={'default.payment.next.month': 'Target', \n",
    "                        'PAY_0': 'PAY_1'})"
   ]
  },
  {
   "cell_type": "markdown",
   "id": "9e304f8c-1c54-402a-aa62-111b5f756350",
   "metadata": {},
   "source": [
    "# Clean Data"
   ]
  },
  {
   "cell_type": "markdown",
   "id": "ed77b904-4399-4a77-9293-66a3eae3ccdd",
   "metadata": {},
   "source": [
    "There are variables that need to be converted to categories:\n",
    "- SEX: Gender\n",
    "              1 = male \n",
    "              2 = female\n",
    "- EDUCATION:\n",
    "               1 = graduate school \n",
    "               2 = university \n",
    "               3 = high school \n",
    "               4 = others \n",
    "               5 = unknown \n",
    "               6 = unknown\n",
    "- MARRIAGE: Marital status\n",
    "              1 = married\n",
    "              2 = single\n",
    "              3 = others\n",
    "- PAY_1,2,3,4,5,6: Repayment status in September 2005, August 2005, July 2005, June 2005, May 2005, April 2005 (respectivey)\n",
    "              -2= no consumption\n",
    "              -1= pay duly\n",
    "              1 = payment delay for one month\n",
    "              2 = payment delay for two months\n",
    "              ... \n",
    "              8 = payment delay for eight months\n",
    "              9 = payment delay for nine months and above"
   ]
  },
  {
   "cell_type": "code",
   "execution_count": 7,
   "id": "ade6bba3-4025-45b5-8bfe-6f43d8f8c270",
   "metadata": {},
   "outputs": [
    {
     "data": {
      "text/plain": [
       "2    15964\n",
       "1    13659\n",
       "3      323\n",
       "0       54\n",
       "Name: MARRIAGE, dtype: int64"
      ]
     },
     "execution_count": 7,
     "metadata": {},
     "output_type": "execute_result"
    }
   ],
   "source": [
    "data['MARRIAGE'].value_counts()"
   ]
  },
  {
   "cell_type": "code",
   "execution_count": 8,
   "id": "e0f231cc-5352-49cb-95be-47365174685e",
   "metadata": {},
   "outputs": [
    {
     "data": {
      "text/plain": [
       "2    18112\n",
       "1    11888\n",
       "Name: SEX, dtype: int64"
      ]
     },
     "execution_count": 8,
     "metadata": {},
     "output_type": "execute_result"
    }
   ],
   "source": [
    "data['SEX'].value_counts()"
   ]
  },
  {
   "cell_type": "code",
   "execution_count": 9,
   "id": "b06a90e4-93f8-4adb-b41b-3ca17d3a28ce",
   "metadata": {},
   "outputs": [
    {
     "data": {
      "text/plain": [
       "2    14030\n",
       "1    10585\n",
       "3     4917\n",
       "5      280\n",
       "4      123\n",
       "6       51\n",
       "0       14\n",
       "Name: EDUCATION, dtype: int64"
      ]
     },
     "execution_count": 9,
     "metadata": {},
     "output_type": "execute_result"
    }
   ],
   "source": [
    "data['EDUCATION'].value_counts()"
   ]
  },
  {
   "cell_type": "markdown",
   "id": "c96f30a8-26b8-4027-b915-d638439e4a43",
   "metadata": {},
   "source": [
    "*As seen previously, some categories are mislabeled or undocumented. Before proceeding, it is time to fix it.*\n",
    "\n",
    "*The 0 in MARRIAGE can be safely categorized as 'Other' (thus 3).*\n",
    "\n",
    "*The 0 (undocumented), 5 and 6 (label unknown) in EDUCATION can also be put in a 'Other' cathegory (thus 4)*\n",
    "\n",
    "*Thus is a good occasion to learn how to use the .loc function*"
   ]
  },
  {
   "cell_type": "code",
   "execution_count": 10,
   "id": "d217dae4-d39d-4c99-b472-719852a82fcc",
   "metadata": {},
   "outputs": [
    {
     "data": {
      "text/plain": [
       "2    14030\n",
       "1    10585\n",
       "3     4917\n",
       "4      468\n",
       "Name: EDUCATION, dtype: int64"
      ]
     },
     "execution_count": 10,
     "metadata": {},
     "output_type": "execute_result"
    }
   ],
   "source": [
    "fil = (data.EDUCATION == 5) | (data.EDUCATION == 6) | (data.EDUCATION == 0)\n",
    "data.loc[fil, 'EDUCATION'] = 4\n",
    "data.EDUCATION.value_counts()"
   ]
  },
  {
   "cell_type": "code",
   "execution_count": 11,
   "id": "c70d16d0-040c-4518-bbe0-f2a89af2baa5",
   "metadata": {},
   "outputs": [
    {
     "data": {
      "text/plain": [
       "2    15964\n",
       "1    13659\n",
       "3      377\n",
       "Name: MARRIAGE, dtype: int64"
      ]
     },
     "execution_count": 11,
     "metadata": {},
     "output_type": "execute_result"
    }
   ],
   "source": [
    "data.loc[data.MARRIAGE == 0, 'MARRIAGE'] = 3\n",
    "data.MARRIAGE.value_counts()"
   ]
  },
  {
   "cell_type": "markdown",
   "id": "afc70860-839a-46e3-8294-8a41c84c43be",
   "metadata": {},
   "source": [
    "According to our documentation, the PAY_n variables indicate the number of months of delay and indicates \"pay duly\"with -1. Then what is -2? And what is 0? It seems to me the label has to be adjusted to 0 for pay duly."
   ]
  },
  {
   "cell_type": "code",
   "execution_count": 12,
   "id": "b7e91f8c-8d03-48f6-8b9e-5d1781f99b69",
   "metadata": {},
   "outputs": [],
   "source": [
    "fil = (data.PAY_1 == -2) | (data.PAY_1 == -1) | (data.PAY_1 == 0)\n",
    "data.loc[fil, 'PAY_1'] = 0\n",
    "fil = (data.PAY_2 == -2) | (data.PAY_2 == -1) | (data.PAY_2 == 0)\n",
    "data.loc[fil, 'PAY_2'] = 0\n",
    "fil = (data.PAY_3 == -2) | (data.PAY_3 == -1) | (data.PAY_3 == 0)\n",
    "data.loc[fil, 'PAY_3'] = 0\n",
    "fil = (data.PAY_4 == -2) | (data.PAY_4 == -1) | (data.PAY_4 == 0)\n",
    "data.loc[fil, 'PAY_4'] = 0\n",
    "fil = (data.PAY_5 == -2) | (data.PAY_5 == -1) | (data.PAY_5 == 0)\n",
    "data.loc[fil, 'PAY_5'] = 0\n",
    "fil = (data.PAY_6 == -2) | (data.PAY_6 == -1) | (data.PAY_6 == 0)\n",
    "data.loc[fil, 'PAY_6'] = 0\n",
    "late = data[['PAY_1','PAY_2', 'PAY_3', 'PAY_4', 'PAY_5', 'PAY_6']]"
   ]
  },
  {
   "cell_type": "markdown",
   "id": "985abf2f-2d95-4443-bcd2-1830255b93dd",
   "metadata": {},
   "source": [
    "## Create the target and the features variables"
   ]
  },
  {
   "cell_type": "code",
   "execution_count": 13,
   "id": "e4a8545a-2f7e-4775-ab58-17925a92c47b",
   "metadata": {},
   "outputs": [
    {
     "name": "stdout",
     "output_type": "stream",
     "text": [
      "<class 'pandas.core.frame.DataFrame'>\n",
      "RangeIndex: 30000 entries, 0 to 29999\n",
      "Data columns (total 23 columns):\n",
      " #   Column     Non-Null Count  Dtype  \n",
      "---  ------     --------------  -----  \n",
      " 0   LIMIT_BAL  30000 non-null  float64\n",
      " 1   SEX        30000 non-null  int64  \n",
      " 2   EDUCATION  30000 non-null  int64  \n",
      " 3   MARRIAGE   30000 non-null  int64  \n",
      " 4   AGE        30000 non-null  int64  \n",
      " 5   PAY_1      30000 non-null  int64  \n",
      " 6   PAY_2      30000 non-null  int64  \n",
      " 7   PAY_3      30000 non-null  int64  \n",
      " 8   PAY_4      30000 non-null  int64  \n",
      " 9   PAY_5      30000 non-null  int64  \n",
      " 10  PAY_6      30000 non-null  int64  \n",
      " 11  BILL_AMT1  30000 non-null  float64\n",
      " 12  BILL_AMT2  30000 non-null  float64\n",
      " 13  BILL_AMT3  30000 non-null  float64\n",
      " 14  BILL_AMT4  30000 non-null  float64\n",
      " 15  BILL_AMT5  30000 non-null  float64\n",
      " 16  BILL_AMT6  30000 non-null  float64\n",
      " 17  PAY_AMT1   30000 non-null  float64\n",
      " 18  PAY_AMT2   30000 non-null  float64\n",
      " 19  PAY_AMT3   30000 non-null  float64\n",
      " 20  PAY_AMT4   30000 non-null  float64\n",
      " 21  PAY_AMT5   30000 non-null  float64\n",
      " 22  PAY_AMT6   30000 non-null  float64\n",
      "dtypes: float64(13), int64(10)\n",
      "memory usage: 5.3 MB\n"
     ]
    }
   ],
   "source": [
    "X=data.drop([\"ID\",\"Target\"],axis=1) #features variables\n",
    "Y=data[\"Target\"] #Variable Target\n",
    "X.info()"
   ]
  },
  {
   "cell_type": "markdown",
   "id": "6971d838-7303-4ef4-a2d7-bd62b67e8474",
   "metadata": {},
   "source": [
    "# Split and Train Test"
   ]
  },
  {
   "cell_type": "code",
   "execution_count": 14,
   "id": "e079b75d-5cce-4de7-b1c8-0f67bb34ea1e",
   "metadata": {},
   "outputs": [],
   "source": [
    "from sklearn.model_selection import train_test_split\n",
    "X_train,X_test,Y_train,Y_test=train_test_split(X,Y,test_size=0.3,random_state=42)"
   ]
  },
  {
   "cell_type": "code",
   "execution_count": 15,
   "id": "46e996ca-7fcb-4e52-8b67-716e94c2fdbe",
   "metadata": {},
   "outputs": [
    {
     "name": "stdout",
     "output_type": "stream",
     "text": [
      "Total train data: (21000, 23)\n",
      "Total test data: (9000, 23)\n"
     ]
    }
   ],
   "source": [
    "print('Total train data:', X_train.shape)\n",
    "print('Total test data:', X_test.shape)"
   ]
  },
  {
   "cell_type": "code",
   "execution_count": 16,
   "id": "fe0fdf52-cca4-4108-96b5-81aef398af8a",
   "metadata": {},
   "outputs": [
    {
     "name": "stdout",
     "output_type": "stream",
     "text": [
      "Total train label: (21000,)\n",
      "Total test label: (9000,)\n"
     ]
    }
   ],
   "source": [
    "print('Total train label:', Y_train.shape)\n",
    "print('Total test label:', Y_test.shape)"
   ]
  },
  {
   "cell_type": "markdown",
   "id": "1a5da135-9aba-4b7e-8e32-cba7ebb64a49",
   "metadata": {},
   "source": [
    "# Correlation between features"
   ]
  },
  {
   "cell_type": "code",
   "execution_count": 17,
   "id": "0afdacd5-1ef4-41e3-a7e4-8dfb0f9c85e8",
   "metadata": {},
   "outputs": [
    {
     "data": {
      "text/plain": [
       "<AxesSubplot:>"
      ]
     },
     "execution_count": 17,
     "metadata": {},
     "output_type": "execute_result"
    },
    {
     "data": {
      "image/png": "[encoded data removed]",
      "text/plain": [
       "<Figure size 1440x864 with 2 Axes>"
      ]
     },
     "metadata": {
      "needs_background": "light"
     },
     "output_type": "display_data"
    }
   ],
   "source": [
    "plt.figure(figsize=(20,12))\n",
    "corr_matrix=X_train.corr()\n",
    "mask=np.triu(np.ones_like(corr_matrix,dtype=bool))\n",
    "cmap=sns.diverging_palette(230,20, as_cmap=True)\n",
    "\n",
    "sns.heatmap(\n",
    "    corr_matrix,\n",
    "    mask=mask,\n",
    "    cmap=cmap,\n",
    "    annot=True,\n",
    "    fmt=\".2f\"\n",
    ")"
   ]
  },
  {
   "cell_type": "markdown",
   "id": "e4d8402f-cd4f-4b28-a050-d802d35bc47e",
   "metadata": {},
   "source": [
    "# Eliminate variables with high correlation"
   ]
  },
  {
   "cell_type": "code",
   "execution_count": 18,
   "id": "f57b66fc-2fb4-4507-8699-40f929d8b8a9",
   "metadata": {},
   "outputs": [
    {
     "data": {
      "text/html": [
       "<div>\n",
       "<style scoped>\n",
       "    .dataframe tbody tr th:only-of-type {\n",
       "        vertical-align: middle;\n",
       "    }\n",
       "\n",
       "    .dataframe tbody tr th {\n",
       "        vertical-align: top;\n",
       "    }\n",
       "\n",
       "    .dataframe thead th {\n",
       "        text-align: right;\n",
       "    }\n",
       "</style>\n",
       "<table border=\"1\" class=\"dataframe\">\n",
       "  <thead>\n",
       "    <tr style=\"text-align: right;\">\n",
       "      <th></th>\n",
       "      <th>LIMIT_BAL</th>\n",
       "      <th>SEX</th>\n",
       "      <th>EDUCATION</th>\n",
       "      <th>MARRIAGE</th>\n",
       "      <th>AGE</th>\n",
       "      <th>PAY_1</th>\n",
       "      <th>PAY_2</th>\n",
       "      <th>PAY_3</th>\n",
       "      <th>PAY_4</th>\n",
       "      <th>PAY_5</th>\n",
       "      <th>PAY_6</th>\n",
       "      <th>BILL_AMT6</th>\n",
       "      <th>PAY_AMT1</th>\n",
       "      <th>PAY_AMT2</th>\n",
       "      <th>PAY_AMT3</th>\n",
       "      <th>PAY_AMT4</th>\n",
       "      <th>PAY_AMT5</th>\n",
       "      <th>PAY_AMT6</th>\n",
       "    </tr>\n",
       "  </thead>\n",
       "  <tbody>\n",
       "    <tr>\n",
       "      <th>28465</th>\n",
       "      <td>240000.0</td>\n",
       "      <td>2</td>\n",
       "      <td>1</td>\n",
       "      <td>1</td>\n",
       "      <td>40</td>\n",
       "      <td>0</td>\n",
       "      <td>0</td>\n",
       "      <td>0</td>\n",
       "      <td>0</td>\n",
       "      <td>0</td>\n",
       "      <td>0</td>\n",
       "      <td>0.0</td>\n",
       "      <td>0.0</td>\n",
       "      <td>0.0</td>\n",
       "      <td>0.0</td>\n",
       "      <td>0.0</td>\n",
       "      <td>0.0</td>\n",
       "      <td>0.0</td>\n",
       "    </tr>\n",
       "    <tr>\n",
       "      <th>27622</th>\n",
       "      <td>50000.0</td>\n",
       "      <td>2</td>\n",
       "      <td>1</td>\n",
       "      <td>2</td>\n",
       "      <td>23</td>\n",
       "      <td>0</td>\n",
       "      <td>0</td>\n",
       "      <td>0</td>\n",
       "      <td>0</td>\n",
       "      <td>0</td>\n",
       "      <td>0</td>\n",
       "      <td>660.0</td>\n",
       "      <td>2548.0</td>\n",
       "      <td>2321.0</td>\n",
       "      <td>4800.0</td>\n",
       "      <td>9810.0</td>\n",
       "      <td>660.0</td>\n",
       "      <td>2980.0</td>\n",
       "    </tr>\n",
       "    <tr>\n",
       "      <th>28376</th>\n",
       "      <td>50000.0</td>\n",
       "      <td>2</td>\n",
       "      <td>2</td>\n",
       "      <td>1</td>\n",
       "      <td>36</td>\n",
       "      <td>2</td>\n",
       "      <td>2</td>\n",
       "      <td>2</td>\n",
       "      <td>2</td>\n",
       "      <td>0</td>\n",
       "      <td>0</td>\n",
       "      <td>35126.0</td>\n",
       "      <td>0.0</td>\n",
       "      <td>4700.0</td>\n",
       "      <td>0.0</td>\n",
       "      <td>2004.0</td>\n",
       "      <td>3500.0</td>\n",
       "      <td>0.0</td>\n",
       "    </tr>\n",
       "    <tr>\n",
       "      <th>10917</th>\n",
       "      <td>200000.0</td>\n",
       "      <td>2</td>\n",
       "      <td>3</td>\n",
       "      <td>1</td>\n",
       "      <td>54</td>\n",
       "      <td>6</td>\n",
       "      <td>5</td>\n",
       "      <td>4</td>\n",
       "      <td>3</td>\n",
       "      <td>2</td>\n",
       "      <td>2</td>\n",
       "      <td>0.0</td>\n",
       "      <td>0.0</td>\n",
       "      <td>0.0</td>\n",
       "      <td>0.0</td>\n",
       "      <td>0.0</td>\n",
       "      <td>0.0</td>\n",
       "      <td>0.0</td>\n",
       "    </tr>\n",
       "    <tr>\n",
       "      <th>27234</th>\n",
       "      <td>240000.0</td>\n",
       "      <td>1</td>\n",
       "      <td>1</td>\n",
       "      <td>1</td>\n",
       "      <td>35</td>\n",
       "      <td>0</td>\n",
       "      <td>0</td>\n",
       "      <td>0</td>\n",
       "      <td>0</td>\n",
       "      <td>0</td>\n",
       "      <td>0</td>\n",
       "      <td>22659.0</td>\n",
       "      <td>2017.0</td>\n",
       "      <td>21817.0</td>\n",
       "      <td>1120.0</td>\n",
       "      <td>13434.0</td>\n",
       "      <td>22772.0</td>\n",
       "      <td>22820.0</td>\n",
       "    </tr>\n",
       "  </tbody>\n",
       "</table>\n",
       "</div>"
      ],
      "text/plain": [
       "       LIMIT_BAL  SEX  EDUCATION  MARRIAGE  AGE  PAY_1  PAY_2  PAY_3  PAY_4  \\\n",
       "28465   240000.0    2          1         1   40      0      0      0      0   \n",
       "27622    50000.0    2          1         2   23      0      0      0      0   \n",
       "28376    50000.0    2          2         1   36      2      2      2      2   \n",
       "10917   200000.0    2          3         1   54      6      5      4      3   \n",
       "27234   240000.0    1          1         1   35      0      0      0      0   \n",
       "\n",
       "       PAY_5  PAY_6  BILL_AMT6  PAY_AMT1  PAY_AMT2  PAY_AMT3  PAY_AMT4  \\\n",
       "28465      0      0        0.0       0.0       0.0       0.0       0.0   \n",
       "27622      0      0      660.0    2548.0    2321.0    4800.0    9810.0   \n",
       "28376      0      0    35126.0       0.0    4700.0       0.0    2004.0   \n",
       "10917      2      2        0.0       0.0       0.0       0.0       0.0   \n",
       "27234      0      0    22659.0    2017.0   21817.0    1120.0   13434.0   \n",
       "\n",
       "       PAY_AMT5  PAY_AMT6  \n",
       "28465       0.0       0.0  \n",
       "27622     660.0    2980.0  \n",
       "28376    3500.0       0.0  \n",
       "10917       0.0       0.0  \n",
       "27234   22772.0   22820.0  "
      ]
     },
     "execution_count": 18,
     "metadata": {},
     "output_type": "execute_result"
    }
   ],
   "source": [
    "corr_matrix=corr_matrix.abs()\n",
    "\n",
    "mask=np.triu(np.ones_like(corr_matrix, dtype=bool))\n",
    "\n",
    "tri_df=corr_matrix.mask(mask)\n",
    "\n",
    "to_drop=[x for x in tri_df.columns if any(tri_df[x]>0.8)]\n",
    "\n",
    "X_train=X_train.drop(to_drop,axis=1)\n",
    "X_test=X_test.drop(to_drop,axis=1)\n",
    "X_train.head()"
   ]
  },
  {
   "cell_type": "code",
   "execution_count": 19,
   "id": "4b9595ab-0832-4298-88a2-527d3f4cf9ec",
   "metadata": {},
   "outputs": [
    {
     "data": {
      "text/plain": [
       "(21000, 18)"
      ]
     },
     "execution_count": 19,
     "metadata": {},
     "output_type": "execute_result"
    }
   ],
   "source": [
    "X_train.shape"
   ]
  },
  {
   "cell_type": "code",
   "execution_count": 20,
   "id": "428a71a9-7dc8-4b82-a497-d124e9f51a1d",
   "metadata": {},
   "outputs": [
    {
     "data": {
      "text/plain": [
       "(9000, 18)"
      ]
     },
     "execution_count": 20,
     "metadata": {},
     "output_type": "execute_result"
    }
   ],
   "source": [
    "X_test.shape"
   ]
  },
  {
   "cell_type": "markdown",
   "id": "bfd53aff-1f57-4374-b732-bef1308250a4",
   "metadata": {},
   "source": [
    "# Data Scaling"
   ]
  },
  {
   "cell_type": "code",
   "execution_count": 21,
   "id": "0cd62dfe-7024-4fb6-9119-f8edab984a42",
   "metadata": {},
   "outputs": [
    {
     "name": "stdout",
     "output_type": "stream",
     "text": [
      "X_train shape: (21000, 18)\n",
      "Y_train shape: (21000,)\n",
      "X_test shape: (9000, 18)\n",
      "Y_test shape: (9000,)\n"
     ]
    }
   ],
   "source": [
    "#Si los datos varian se aplica Standard, si los datos son fijos se aplica MinMax\n",
    "from sklearn.preprocessing import StandardScaler\n",
    "\n",
    "sc= StandardScaler().fit(X_train)\n",
    "\n",
    "X_train_scaled=sc.transform(X_train)\n",
    "X_test_scaled=sc.transform(X_test)\n",
    "\n",
    "print('X_train shape:', X_train_scaled.shape)\n",
    "print('Y_train shape:', Y_train.shape)\n",
    "print('X_test shape:', X_test_scaled.shape)\n",
    "print('Y_test shape:', Y_test.shape)"
   ]
  },
  {
   "cell_type": "markdown",
   "id": "da2cb775-b7f6-4135-9d2f-afbe2850d94a",
   "metadata": {},
   "source": [
    "# Label Encoder AKA One-Hot Encoding"
   ]
  },
  {
   "cell_type": "code",
   "execution_count": 22,
   "id": "28f13f5c-44b2-4802-9fbc-a3b3b356072e",
   "metadata": {},
   "outputs": [
    {
     "name": "stdout",
     "output_type": "stream",
     "text": [
      "(array([0, 1]), array([16324,  4676]))\n",
      "(array([0, 1]), array([16324,  4676]))\n"
     ]
    }
   ],
   "source": [
    "from sklearn.preprocessing import LabelEncoder\n",
    "\n",
    "le=LabelEncoder().fit(Y_train)\n",
    "Y_train_enc=le.transform(Y_train)\n",
    "Y_test_enc=le.transform(Y_test)\n",
    "\n",
    "print(np.unique(Y_train, return_counts=True))\n",
    "print(np.unique(Y_train_enc, return_counts=True))"
   ]
  },
  {
   "cell_type": "markdown",
   "id": "5f690047-7c5a-4374-90c0-d94af6ebd4b9",
   "metadata": {},
   "source": [
    "# PCA"
   ]
  },
  {
   "cell_type": "code",
   "execution_count": 23,
   "id": "cef9cbe8-dae5-475e-b65f-5e48731334a3",
   "metadata": {},
   "outputs": [],
   "source": [
    "from sklearn.decomposition import PCA"
   ]
  },
  {
   "cell_type": "code",
   "execution_count": 24,
   "id": "d14dbd31-6ab0-4d3c-b1fe-c21d24346102",
   "metadata": {},
   "outputs": [],
   "source": [
    "#Explicar la reducción de dimensionalidad de la mayor varianza del 95% de las variables\n",
    "pca=PCA(0.95).fit(X_train_scaled)\n",
    "X_train_pca=pca.transform(X_train_scaled)\n",
    "X_test_pca=pca.transform(X_test_scaled)"
   ]
  },
  {
   "cell_type": "code",
   "execution_count": 25,
   "id": "9558469a-9252-4b3a-bced-224a42986544",
   "metadata": {},
   "outputs": [
    {
     "data": {
      "text/plain": [
       "array([0.2195189 , 0.13234999, 0.08454385, 0.06011543, 0.05619255,\n",
       "       0.05465628, 0.05146839, 0.04853438, 0.04655049, 0.0417922 ,\n",
       "       0.03780183, 0.03589261, 0.03236802, 0.02869575, 0.02674444])"
      ]
     },
     "execution_count": 25,
     "metadata": {},
     "output_type": "execute_result"
    }
   ],
   "source": [
    "pca.explained_variance_ratio_"
   ]
  },
  {
   "cell_type": "markdown",
   "id": "0ce5c263-4a2e-4915-afac-1dff24f567c5",
   "metadata": {},
   "source": [
    "# Feature Importance for PCA"
   ]
  },
  {
   "cell_type": "code",
   "execution_count": 26,
   "id": "8680975d-2465-449a-ba0f-028f05a8ecc8",
   "metadata": {},
   "outputs": [
    {
     "data": {
      "text/html": [
       "<div>\n",
       "<style scoped>\n",
       "    .dataframe tbody tr th:only-of-type {\n",
       "        vertical-align: middle;\n",
       "    }\n",
       "\n",
       "    .dataframe tbody tr th {\n",
       "        vertical-align: top;\n",
       "    }\n",
       "\n",
       "    .dataframe thead th {\n",
       "        text-align: right;\n",
       "    }\n",
       "</style>\n",
       "<table border=\"1\" class=\"dataframe\">\n",
       "  <thead>\n",
       "    <tr style=\"text-align: right;\">\n",
       "      <th></th>\n",
       "      <th>PC_1</th>\n",
       "      <th>PC_2</th>\n",
       "      <th>PC_3</th>\n",
       "      <th>PC_4</th>\n",
       "      <th>PC_5</th>\n",
       "      <th>PC_6</th>\n",
       "      <th>PC_7</th>\n",
       "      <th>PC_8</th>\n",
       "      <th>PC_9</th>\n",
       "      <th>PC_10</th>\n",
       "      <th>PC_11</th>\n",
       "      <th>PC_12</th>\n",
       "      <th>PC_13</th>\n",
       "      <th>PC_14</th>\n",
       "      <th>PC_15</th>\n",
       "    </tr>\n",
       "  </thead>\n",
       "  <tbody>\n",
       "    <tr>\n",
       "      <th>LIMIT_BAL</th>\n",
       "      <td>-0.182573</td>\n",
       "      <td>0.319384</td>\n",
       "      <td>-0.072918</td>\n",
       "      <td>-0.486025</td>\n",
       "      <td>-0.079820</td>\n",
       "      <td>0.143167</td>\n",
       "      <td>0.056924</td>\n",
       "      <td>0.060600</td>\n",
       "      <td>-0.018100</td>\n",
       "      <td>0.078091</td>\n",
       "      <td>-0.201683</td>\n",
       "      <td>0.274587</td>\n",
       "      <td>-0.331943</td>\n",
       "      <td>-0.587634</td>\n",
       "      <td>-0.089786</td>\n",
       "    </tr>\n",
       "    <tr>\n",
       "      <th>SEX</th>\n",
       "      <td>-0.034000</td>\n",
       "      <td>-0.030706</td>\n",
       "      <td>0.077885</td>\n",
       "      <td>0.075372</td>\n",
       "      <td>-0.967900</td>\n",
       "      <td>0.048630</td>\n",
       "      <td>0.070725</td>\n",
       "      <td>0.023460</td>\n",
       "      <td>-0.013649</td>\n",
       "      <td>0.012813</td>\n",
       "      <td>-0.015081</td>\n",
       "      <td>-0.020574</td>\n",
       "      <td>-0.135914</td>\n",
       "      <td>0.147886</td>\n",
       "      <td>0.007035</td>\n",
       "    </tr>\n",
       "    <tr>\n",
       "      <th>EDUCATION</th>\n",
       "      <td>0.059160</td>\n",
       "      <td>-0.083036</td>\n",
       "      <td>-0.374651</td>\n",
       "      <td>0.586913</td>\n",
       "      <td>-0.059097</td>\n",
       "      <td>-0.364931</td>\n",
       "      <td>-0.164938</td>\n",
       "      <td>-0.315439</td>\n",
       "      <td>-0.026726</td>\n",
       "      <td>0.107989</td>\n",
       "      <td>-0.136373</td>\n",
       "      <td>0.190226</td>\n",
       "      <td>-0.154534</td>\n",
       "      <td>-0.381372</td>\n",
       "      <td>-0.065650</td>\n",
       "    </tr>\n",
       "    <tr>\n",
       "      <th>MARRIAGE</th>\n",
       "      <td>0.008014</td>\n",
       "      <td>-0.055422</td>\n",
       "      <td>0.633685</td>\n",
       "      <td>0.115952</td>\n",
       "      <td>0.170311</td>\n",
       "      <td>-0.153077</td>\n",
       "      <td>-0.066316</td>\n",
       "      <td>-0.099235</td>\n",
       "      <td>-0.016465</td>\n",
       "      <td>0.076847</td>\n",
       "      <td>-0.143608</td>\n",
       "      <td>0.155304</td>\n",
       "      <td>-0.646734</td>\n",
       "      <td>0.214381</td>\n",
       "      <td>-0.000923</td>\n",
       "    </tr>\n",
       "    <tr>\n",
       "      <th>AGE</th>\n",
       "      <td>-0.017613</td>\n",
       "      <td>0.079327</td>\n",
       "      <td>-0.658720</td>\n",
       "      <td>-0.094046</td>\n",
       "      <td>0.095281</td>\n",
       "      <td>0.107393</td>\n",
       "      <td>0.003870</td>\n",
       "      <td>0.059234</td>\n",
       "      <td>0.026532</td>\n",
       "      <td>-0.001365</td>\n",
       "      <td>-0.001069</td>\n",
       "      <td>-0.034405</td>\n",
       "      <td>-0.522105</td>\n",
       "      <td>0.500539</td>\n",
       "      <td>0.037520</td>\n",
       "    </tr>\n",
       "    <tr>\n",
       "      <th>PAY_1</th>\n",
       "      <td>0.356501</td>\n",
       "      <td>0.074560</td>\n",
       "      <td>-0.021279</td>\n",
       "      <td>-0.044024</td>\n",
       "      <td>0.000263</td>\n",
       "      <td>-0.285746</td>\n",
       "      <td>0.396978</td>\n",
       "      <td>0.205300</td>\n",
       "      <td>-0.020120</td>\n",
       "      <td>0.008500</td>\n",
       "      <td>-0.005475</td>\n",
       "      <td>0.064950</td>\n",
       "      <td>-0.009512</td>\n",
       "      <td>0.032095</td>\n",
       "      <td>-0.506433</td>\n",
       "    </tr>\n",
       "    <tr>\n",
       "      <th>PAY_2</th>\n",
       "      <td>0.388706</td>\n",
       "      <td>0.084849</td>\n",
       "      <td>-0.015332</td>\n",
       "      <td>-0.034983</td>\n",
       "      <td>0.000202</td>\n",
       "      <td>-0.282297</td>\n",
       "      <td>0.366555</td>\n",
       "      <td>0.173360</td>\n",
       "      <td>-0.022367</td>\n",
       "      <td>-0.002952</td>\n",
       "      <td>0.022482</td>\n",
       "      <td>0.018719</td>\n",
       "      <td>-0.017075</td>\n",
       "      <td>-0.000331</td>\n",
       "      <td>-0.015458</td>\n",
       "    </tr>\n",
       "    <tr>\n",
       "      <th>PAY_3</th>\n",
       "      <td>0.406622</td>\n",
       "      <td>0.104506</td>\n",
       "      <td>0.006526</td>\n",
       "      <td>-0.015633</td>\n",
       "      <td>-0.013208</td>\n",
       "      <td>-0.063765</td>\n",
       "      <td>0.139506</td>\n",
       "      <td>0.052554</td>\n",
       "      <td>0.003882</td>\n",
       "      <td>-0.002935</td>\n",
       "      <td>-0.063859</td>\n",
       "      <td>-0.132765</td>\n",
       "      <td>-0.069816</td>\n",
       "      <td>-0.123739</td>\n",
       "      <td>0.588020</td>\n",
       "    </tr>\n",
       "    <tr>\n",
       "      <th>PAY_4</th>\n",
       "      <td>0.416688</td>\n",
       "      <td>0.115280</td>\n",
       "      <td>0.006824</td>\n",
       "      <td>-0.017515</td>\n",
       "      <td>-0.026440</td>\n",
       "      <td>0.160349</td>\n",
       "      <td>-0.148936</td>\n",
       "      <td>-0.080570</td>\n",
       "      <td>0.045421</td>\n",
       "      <td>-0.043215</td>\n",
       "      <td>-0.015776</td>\n",
       "      <td>-0.030731</td>\n",
       "      <td>-0.066437</td>\n",
       "      <td>-0.104729</td>\n",
       "      <td>0.356269</td>\n",
       "    </tr>\n",
       "    <tr>\n",
       "      <th>PAY_5</th>\n",
       "      <td>0.406299</td>\n",
       "      <td>0.120115</td>\n",
       "      <td>0.025643</td>\n",
       "      <td>-0.018828</td>\n",
       "      <td>-0.031881</td>\n",
       "      <td>0.268731</td>\n",
       "      <td>-0.282222</td>\n",
       "      <td>-0.138964</td>\n",
       "      <td>0.044940</td>\n",
       "      <td>0.022993</td>\n",
       "      <td>0.041415</td>\n",
       "      <td>0.021811</td>\n",
       "      <td>-0.018250</td>\n",
       "      <td>-0.021385</td>\n",
       "      <td>-0.143404</td>\n",
       "    </tr>\n",
       "    <tr>\n",
       "      <th>PAY_6</th>\n",
       "      <td>0.369230</td>\n",
       "      <td>0.109228</td>\n",
       "      <td>0.034350</td>\n",
       "      <td>-0.007099</td>\n",
       "      <td>-0.024774</td>\n",
       "      <td>0.302596</td>\n",
       "      <td>-0.319988</td>\n",
       "      <td>-0.161886</td>\n",
       "      <td>-0.021889</td>\n",
       "      <td>-0.004279</td>\n",
       "      <td>0.049040</td>\n",
       "      <td>0.048093</td>\n",
       "      <td>0.039081</td>\n",
       "      <td>0.077123</td>\n",
       "      <td>-0.433210</td>\n",
       "    </tr>\n",
       "    <tr>\n",
       "      <th>BILL_AMT6</th>\n",
       "      <td>-0.019906</td>\n",
       "      <td>0.401281</td>\n",
       "      <td>-0.009640</td>\n",
       "      <td>-0.158601</td>\n",
       "      <td>-0.053832</td>\n",
       "      <td>-0.358455</td>\n",
       "      <td>-0.313798</td>\n",
       "      <td>0.022139</td>\n",
       "      <td>-0.199539</td>\n",
       "      <td>0.191108</td>\n",
       "      <td>-0.367235</td>\n",
       "      <td>0.341848</td>\n",
       "      <td>0.335363</td>\n",
       "      <td>0.354312</td>\n",
       "      <td>0.126862</td>\n",
       "    </tr>\n",
       "    <tr>\n",
       "      <th>PAY_AMT1</th>\n",
       "      <td>-0.093621</td>\n",
       "      <td>0.358168</td>\n",
       "      <td>0.050314</td>\n",
       "      <td>0.363017</td>\n",
       "      <td>0.061355</td>\n",
       "      <td>0.240853</td>\n",
       "      <td>0.129814</td>\n",
       "      <td>0.145756</td>\n",
       "      <td>0.117522</td>\n",
       "      <td>-0.002474</td>\n",
       "      <td>-0.621693</td>\n",
       "      <td>-0.457164</td>\n",
       "      <td>0.029349</td>\n",
       "      <td>-0.005782</td>\n",
       "      <td>-0.123691</td>\n",
       "    </tr>\n",
       "    <tr>\n",
       "      <th>PAY_AMT2</th>\n",
       "      <td>-0.081336</td>\n",
       "      <td>0.338921</td>\n",
       "      <td>0.044710</td>\n",
       "      <td>0.356287</td>\n",
       "      <td>0.015241</td>\n",
       "      <td>0.121098</td>\n",
       "      <td>0.013556</td>\n",
       "      <td>0.319119</td>\n",
       "      <td>0.404998</td>\n",
       "      <td>-0.388327</td>\n",
       "      <td>0.236127</td>\n",
       "      <td>0.501571</td>\n",
       "      <td>0.025892</td>\n",
       "      <td>0.035254</td>\n",
       "      <td>0.079182</td>\n",
       "    </tr>\n",
       "    <tr>\n",
       "      <th>PAY_AMT3</th>\n",
       "      <td>-0.089424</td>\n",
       "      <td>0.360980</td>\n",
       "      <td>0.050369</td>\n",
       "      <td>0.234694</td>\n",
       "      <td>0.033469</td>\n",
       "      <td>0.105370</td>\n",
       "      <td>0.049721</td>\n",
       "      <td>0.149492</td>\n",
       "      <td>-0.170803</td>\n",
       "      <td>0.704257</td>\n",
       "      <td>0.477682</td>\n",
       "      <td>-0.093792</td>\n",
       "      <td>-0.035657</td>\n",
       "      <td>-0.030644</td>\n",
       "      <td>0.033155</td>\n",
       "    </tr>\n",
       "    <tr>\n",
       "      <th>PAY_AMT4</th>\n",
       "      <td>-0.084265</td>\n",
       "      <td>0.334555</td>\n",
       "      <td>0.031874</td>\n",
       "      <td>0.103070</td>\n",
       "      <td>0.009235</td>\n",
       "      <td>-0.037129</td>\n",
       "      <td>0.022731</td>\n",
       "      <td>-0.123854</td>\n",
       "      <td>-0.713082</td>\n",
       "      <td>-0.521895</td>\n",
       "      <td>0.200596</td>\n",
       "      <td>-0.141373</td>\n",
       "      <td>-0.086944</td>\n",
       "      <td>-0.036670</td>\n",
       "      <td>-0.012956</td>\n",
       "    </tr>\n",
       "    <tr>\n",
       "      <th>PAY_AMT5</th>\n",
       "      <td>-0.080273</td>\n",
       "      <td>0.310841</td>\n",
       "      <td>0.036192</td>\n",
       "      <td>-0.185407</td>\n",
       "      <td>-0.066607</td>\n",
       "      <td>-0.485670</td>\n",
       "      <td>-0.326438</td>\n",
       "      <td>-0.060846</td>\n",
       "      <td>0.430611</td>\n",
       "      <td>-0.130692</td>\n",
       "      <td>0.250411</td>\n",
       "      <td>-0.470646</td>\n",
       "      <td>-0.102452</td>\n",
       "      <td>-0.067631</td>\n",
       "      <td>-0.092148</td>\n",
       "    </tr>\n",
       "    <tr>\n",
       "      <th>PAY_AMT6</th>\n",
       "      <td>-0.075853</td>\n",
       "      <td>0.272820</td>\n",
       "      <td>0.026140</td>\n",
       "      <td>-0.057165</td>\n",
       "      <td>0.013442</td>\n",
       "      <td>0.067637</td>\n",
       "      <td>0.468450</td>\n",
       "      <td>-0.768755</td>\n",
       "      <td>0.227110</td>\n",
       "      <td>0.030101</td>\n",
       "      <td>0.051458</td>\n",
       "      <td>0.095069</td>\n",
       "      <td>0.108372</td>\n",
       "      <td>0.153252</td>\n",
       "      <td>0.033260</td>\n",
       "    </tr>\n",
       "  </tbody>\n",
       "</table>\n",
       "</div>"
      ],
      "text/plain": [
       "               PC_1      PC_2      PC_3      PC_4      PC_5      PC_6  \\\n",
       "LIMIT_BAL -0.182573  0.319384 -0.072918 -0.486025 -0.079820  0.143167   \n",
       "SEX       -0.034000 -0.030706  0.077885  0.075372 -0.967900  0.048630   \n",
       "EDUCATION  0.059160 -0.083036 -0.374651  0.586913 -0.059097 -0.364931   \n",
       "MARRIAGE   0.008014 -0.055422  0.633685  0.115952  0.170311 -0.153077   \n",
       "AGE       -0.017613  0.079327 -0.658720 -0.094046  0.095281  0.107393   \n",
       "PAY_1      0.356501  0.074560 -0.021279 -0.044024  0.000263 -0.285746   \n",
       "PAY_2      0.388706  0.084849 -0.015332 -0.034983  0.000202 -0.282297   \n",
       "PAY_3      0.406622  0.104506  0.006526 -0.015633 -0.013208 -0.063765   \n",
       "PAY_4      0.416688  0.115280  0.006824 -0.017515 -0.026440  0.160349   \n",
       "PAY_5      0.406299  0.120115  0.025643 -0.018828 -0.031881  0.268731   \n",
       "PAY_6      0.369230  0.109228  0.034350 -0.007099 -0.024774  0.302596   \n",
       "BILL_AMT6 -0.019906  0.401281 -0.009640 -0.158601 -0.053832 -0.358455   \n",
       "PAY_AMT1  -0.093621  0.358168  0.050314  0.363017  0.061355  0.240853   \n",
       "PAY_AMT2  -0.081336  0.338921  0.044710  0.356287  0.015241  0.121098   \n",
       "PAY_AMT3  -0.089424  0.360980  0.050369  0.234694  0.033469  0.105370   \n",
       "PAY_AMT4  -0.084265  0.334555  0.031874  0.103070  0.009235 -0.037129   \n",
       "PAY_AMT5  -0.080273  0.310841  0.036192 -0.185407 -0.066607 -0.485670   \n",
       "PAY_AMT6  -0.075853  0.272820  0.026140 -0.057165  0.013442  0.067637   \n",
       "\n",
       "               PC_7      PC_8      PC_9     PC_10     PC_11     PC_12  \\\n",
       "LIMIT_BAL  0.056924  0.060600 -0.018100  0.078091 -0.201683  0.274587   \n",
       "SEX        0.070725  0.023460 -0.013649  0.012813 -0.015081 -0.020574   \n",
       "EDUCATION -0.164938 -0.315439 -0.026726  0.107989 -0.136373  0.190226   \n",
       "MARRIAGE  -0.066316 -0.099235 -0.016465  0.076847 -0.143608  0.155304   \n",
       "AGE        0.003870  0.059234  0.026532 -0.001365 -0.001069 -0.034405   \n",
       "PAY_1      0.396978  0.205300 -0.020120  0.008500 -0.005475  0.064950   \n",
       "PAY_2      0.366555  0.173360 -0.022367 -0.002952  0.022482  0.018719   \n",
       "PAY_3      0.139506  0.052554  0.003882 -0.002935 -0.063859 -0.132765   \n",
       "PAY_4     -0.148936 -0.080570  0.045421 -0.043215 -0.015776 -0.030731   \n",
       "PAY_5     -0.282222 -0.138964  0.044940  0.022993  0.041415  0.021811   \n",
       "PAY_6     -0.319988 -0.161886 -0.021889 -0.004279  0.049040  0.048093   \n",
       "BILL_AMT6 -0.313798  0.022139 -0.199539  0.191108 -0.367235  0.341848   \n",
       "PAY_AMT1   0.129814  0.145756  0.117522 -0.002474 -0.621693 -0.457164   \n",
       "PAY_AMT2   0.013556  0.319119  0.404998 -0.388327  0.236127  0.501571   \n",
       "PAY_AMT3   0.049721  0.149492 -0.170803  0.704257  0.477682 -0.093792   \n",
       "PAY_AMT4   0.022731 -0.123854 -0.713082 -0.521895  0.200596 -0.141373   \n",
       "PAY_AMT5  -0.326438 -0.060846  0.430611 -0.130692  0.250411 -0.470646   \n",
       "PAY_AMT6   0.468450 -0.768755  0.227110  0.030101  0.051458  0.095069   \n",
       "\n",
       "              PC_13     PC_14     PC_15  \n",
       "LIMIT_BAL -0.331943 -0.587634 -0.089786  \n",
       "SEX       -0.135914  0.147886  0.007035  \n",
       "EDUCATION -0.154534 -0.381372 -0.065650  \n",
       "MARRIAGE  -0.646734  0.214381 -0.000923  \n",
       "AGE       -0.522105  0.500539  0.037520  \n",
       "PAY_1     -0.009512  0.032095 -0.506433  \n",
       "PAY_2     -0.017075 -0.000331 -0.015458  \n",
       "PAY_3     -0.069816 -0.123739  0.588020  \n",
       "PAY_4     -0.066437 -0.104729  0.356269  \n",
       "PAY_5     -0.018250 -0.021385 -0.143404  \n",
       "PAY_6      0.039081  0.077123 -0.433210  \n",
       "BILL_AMT6  0.335363  0.354312  0.126862  \n",
       "PAY_AMT1   0.029349 -0.005782 -0.123691  \n",
       "PAY_AMT2   0.025892  0.035254  0.079182  \n",
       "PAY_AMT3  -0.035657 -0.030644  0.033155  \n",
       "PAY_AMT4  -0.086944 -0.036670 -0.012956  \n",
       "PAY_AMT5  -0.102452 -0.067631 -0.092148  \n",
       "PAY_AMT6   0.108372  0.153252  0.033260  "
      ]
     },
     "execution_count": 26,
     "metadata": {},
     "output_type": "execute_result"
    }
   ],
   "source": [
    "rows=X_train.columns\n",
    "\n",
    "columns=[]\n",
    "for i in range(15):\n",
    "    columns.append('PC_{}'.format(i+1))\n",
    "    \n",
    "feature_importance=pd.DataFrame(\n",
    "    pca.components_.T,\n",
    "    index=rows,\n",
    "    columns=columns\n",
    ")\n",
    "feature_importance"
   ]
  },
  {
   "cell_type": "code",
   "execution_count": 27,
   "id": "4a774f73-ef3e-490d-ad30-435243720493",
   "metadata": {},
   "outputs": [
    {
     "data": {
      "text/plain": [
       "95.72250956500731"
      ]
     },
     "execution_count": 27,
     "metadata": {},
     "output_type": "execute_result"
    }
   ],
   "source": [
    "total_var=pca.explained_variance_ratio_.sum()*100\n",
    "total_var"
   ]
  },
  {
   "cell_type": "code",
   "execution_count": 28,
   "id": "eb701089-1281-4d26-8617-a2c168163858",
   "metadata": {},
   "outputs": [
    {
     "data": {
      "text/html": [
       "<div>\n",
       "<style scoped>\n",
       "    .dataframe tbody tr th:only-of-type {\n",
       "        vertical-align: middle;\n",
       "    }\n",
       "\n",
       "    .dataframe tbody tr th {\n",
       "        vertical-align: top;\n",
       "    }\n",
       "\n",
       "    .dataframe thead th {\n",
       "        text-align: right;\n",
       "    }\n",
       "</style>\n",
       "<table border=\"1\" class=\"dataframe\">\n",
       "  <thead>\n",
       "    <tr style=\"text-align: right;\">\n",
       "      <th></th>\n",
       "      <th>PC_1</th>\n",
       "      <th>PC_2</th>\n",
       "      <th>PC_3</th>\n",
       "      <th>PC_4</th>\n",
       "      <th>PC_5</th>\n",
       "      <th>PC_6</th>\n",
       "      <th>PC_7</th>\n",
       "      <th>PC_8</th>\n",
       "      <th>PC_9</th>\n",
       "      <th>PC_10</th>\n",
       "      <th>PC_11</th>\n",
       "      <th>PC_12</th>\n",
       "      <th>PC_13</th>\n",
       "      <th>PC_14</th>\n",
       "      <th>PC_15</th>\n",
       "    </tr>\n",
       "  </thead>\n",
       "  <tbody>\n",
       "    <tr>\n",
       "      <th>Explained Variance Ratio</th>\n",
       "      <td>0.219519</td>\n",
       "      <td>0.13235</td>\n",
       "      <td>0.084544</td>\n",
       "      <td>0.060115</td>\n",
       "      <td>0.056193</td>\n",
       "      <td>0.054656</td>\n",
       "      <td>0.051468</td>\n",
       "      <td>0.048534</td>\n",
       "      <td>0.04655</td>\n",
       "      <td>0.041792</td>\n",
       "      <td>0.037802</td>\n",
       "      <td>0.035893</td>\n",
       "      <td>0.032368</td>\n",
       "      <td>0.028696</td>\n",
       "      <td>0.026744</td>\n",
       "    </tr>\n",
       "  </tbody>\n",
       "</table>\n",
       "</div>"
      ],
      "text/plain": [
       "                              PC_1     PC_2      PC_3      PC_4      PC_5  \\\n",
       "Explained Variance Ratio  0.219519  0.13235  0.084544  0.060115  0.056193   \n",
       "\n",
       "                              PC_6      PC_7      PC_8     PC_9     PC_10  \\\n",
       "Explained Variance Ratio  0.054656  0.051468  0.048534  0.04655  0.041792   \n",
       "\n",
       "                             PC_11     PC_12     PC_13     PC_14     PC_15  \n",
       "Explained Variance Ratio  0.037802  0.035893  0.032368  0.028696  0.026744  "
      ]
     },
     "execution_count": 28,
     "metadata": {},
     "output_type": "execute_result"
    }
   ],
   "source": [
    "variance_ratios=pd.DataFrame(\n",
    "    pca.explained_variance_ratio_.reshape(1,15),\n",
    "    columns=columns,\n",
    "    index=[\"Explained Variance Ratio\"]\n",
    ")\n",
    "variance_ratios"
   ]
  },
  {
   "cell_type": "code",
   "execution_count": 29,
   "id": "5914000b-5aa1-4a08-8fc0-68915c8bc9ae",
   "metadata": {},
   "outputs": [
    {
     "data": {
      "text/plain": [
       "Text(113.09375, 0.5, 'Features')"
      ]
     },
     "execution_count": 29,
     "metadata": {},
     "output_type": "execute_result"
    },
    {
     "data": {
      "image/png": "[encoded data removed]",
      "text/plain": [
       "<Figure size 1080x576 with 2 Axes>"
      ]
     },
     "metadata": {
      "needs_background": "light"
     },
     "output_type": "display_data"
    }
   ],
   "source": [
    "plt.figure(figsize=(15,8))\n",
    "sns.heatmap(feature_importance,cmap=\"coolwarm\")\n",
    "plt.title(\"Principal Components Correlation With The Features\")\n",
    "plt.xlabel(\"Principal Components\")\n",
    "plt.ylabel(\"Features\")"
   ]
  },
  {
   "cell_type": "markdown",
   "id": "a0061605-a85b-4a3d-8dcd-a720d7c072eb",
   "metadata": {},
   "source": [
    "# Train Model"
   ]
  },
  {
   "cell_type": "code",
   "execution_count": 30,
   "id": "443ce5e1-3f3e-4a30-bceb-483be582e845",
   "metadata": {},
   "outputs": [
    {
     "data": {
      "text/plain": [
       "SVC(random_state=42)"
      ]
     },
     "execution_count": 30,
     "metadata": {},
     "output_type": "execute_result"
    }
   ],
   "source": [
    "from sklearn.svm import SVC\n",
    "svc=SVC(random_state=42)\n",
    "svc.fit(X_train_pca, Y_train_enc)"
   ]
  },
  {
   "cell_type": "code",
   "execution_count": 31,
   "id": "4e4a095d-2d9e-44d4-b2ca-92e3af513c7f",
   "metadata": {},
   "outputs": [
    {
     "data": {
      "text/plain": [
       "array([0, 0, 0, ..., 0, 0, 0])"
      ]
     },
     "execution_count": 31,
     "metadata": {},
     "output_type": "execute_result"
    }
   ],
   "source": [
    "y_pred=svc.predict(X_test_pca)\n",
    "y_pred"
   ]
  },
  {
   "cell_type": "code",
   "execution_count": 32,
   "id": "5bbdc565-8984-4db8-8455-8dfc6c1986a1",
   "metadata": {},
   "outputs": [
    {
     "data": {
      "text/plain": [
       "array([0])"
      ]
     },
     "execution_count": 32,
     "metadata": {},
     "output_type": "execute_result"
    }
   ],
   "source": [
    "svc.predict(X_test_pca[0].reshape(1,-1))"
   ]
  },
  {
   "cell_type": "code",
   "execution_count": 33,
   "id": "3cbb7df2-91fd-4b81-8eeb-140f3099692c",
   "metadata": {},
   "outputs": [
    {
     "name": "stdout",
     "output_type": "stream",
     "text": [
      "              precision    recall  f1-score   support\n",
      "\n",
      "           0       0.84      0.95      0.89      7040\n",
      "           1       0.65      0.33      0.44      1960\n",
      "\n",
      "    accuracy                           0.81      9000\n",
      "   macro avg       0.74      0.64      0.66      9000\n",
      "weighted avg       0.79      0.81      0.79      9000\n",
      "\n"
     ]
    }
   ],
   "source": [
    "from sklearn.metrics import classification_report\n",
    "print(\n",
    "    classification_report(Y_test_enc,y_pred)\n",
    ")"
   ]
  },
  {
   "cell_type": "markdown",
   "id": "1eacea60-d1ed-4738-b3ee-2874aff63ee7",
   "metadata": {},
   "source": [
    "# Cross-Validation"
   ]
  },
  {
   "cell_type": "code",
   "execution_count": 34,
   "id": "887e3e37-657f-4e66-9dd8-07ee0e334f9f",
   "metadata": {},
   "outputs": [
    {
     "name": "stdout",
     "output_type": "stream",
     "text": [
      "Fold: 1, Class dist.: [13060  3740], Acc: 0.819047619047619\n",
      "Fold: 2, Class dist.: [13059  3741], Acc: 0.8152380952380952\n",
      "Fold: 3, Class dist.: [13059  3741], Acc: 0.8138095238095238\n",
      "Fold: 4, Class dist.: [13059  3741], Acc: 0.8066666666666666\n",
      "Fold: 5, Class dist.: [13059  3741], Acc: 0.8102380952380952\n",
      "CV accuracy: 0.81 +/- 0.0\n"
     ]
    }
   ],
   "source": [
    "from sklearn.model_selection import StratifiedKFold\n",
    "kfold=StratifiedKFold(n_splits=5).split(X_train_pca,Y_train_enc)\n",
    "\n",
    "scores=list()\n",
    "for k, (train,test) in enumerate(kfold):\n",
    "    svc.fit(X_train_pca[train],Y_train_enc[train])\n",
    "    score=svc.score(X_train_pca[test],Y_train_enc[test])\n",
    "    scores.append(score)\n",
    "    #bincount, conteo de clases\n",
    "    print('Fold: {}, Class dist.: {}, Acc: {}'.format(k+1, np.bincount(Y_train_enc[train]), score) )\n",
    "print('CV accuracy: {} +/- {}'.format(\n",
    "    np.round(np.mean(scores), 2),\n",
    "    np.round(np.std(scores), 2)\n",
    "))"
   ]
  },
  {
   "cell_type": "code",
   "execution_count": 35,
   "id": "7c4c33f2-0fb7-485a-9606-d76157bbea51",
   "metadata": {},
   "outputs": [],
   "source": [
    "from sklearn.model_selection import learning_curve\n",
    "\n",
    "train_sizes,train_scores, test_scores=learning_curve(\n",
    "    estimator=svc,\n",
    "    X=X_train_pca,\n",
    "    y=Y_train_enc,\n",
    "    train_sizes=np.linspace(0.1,1.0,10),\n",
    "    cv=10,\n",
    "    n_jobs=-1\n",
    ")"
   ]
  },
  {
   "cell_type": "code",
   "execution_count": 36,
   "id": "7dd24c46-b140-4779-bd6d-ca65f039357a",
   "metadata": {},
   "outputs": [],
   "source": [
    "train_mean=np.mean(train_scores,axis=1)\n",
    "train_std=np.std(train_scores,axis=1)"
   ]
  },
  {
   "cell_type": "code",
   "execution_count": 37,
   "id": "03070a76-ca76-45d1-86c2-bcbb29fe78d6",
   "metadata": {},
   "outputs": [],
   "source": [
    "test_mean=np.mean(test_scores,axis=1)\n",
    "test_std=np.std(test_scores,axis=1)"
   ]
  },
  {
   "cell_type": "code",
   "execution_count": 38,
   "id": "5f5e6ef3-419d-490c-98ff-6764e40e6d4e",
   "metadata": {},
   "outputs": [
    {
     "data": {
      "text/plain": [
       "<matplotlib.legend.Legend at 0x7f44250a9cd0>"
      ]
     },
     "execution_count": 38,
     "metadata": {},
     "output_type": "execute_result"
    },
    {
     "data": {
      "image/png": "[encoded data removed]",
      "text/plain": [
       "<Figure size 432x288 with 1 Axes>"
      ]
     },
     "metadata": {
      "needs_background": "light"
     },
     "output_type": "display_data"
    }
   ],
   "source": [
    "plt.plot(train_sizes, train_mean, color='blue', marker='o', markersize=5, label='training accuracy')\n",
    "plt.fill_between(train_sizes, train_mean + train_std, train_mean - train_std, alpha=0.15, color='blue')\n",
    "\n",
    "plt.plot(train_sizes, test_mean, color='green', marker='s', markersize=5, label='validation accuracy')\n",
    "plt.fill_between(train_sizes, test_mean + test_std, test_mean - test_std, alpha=0.15, color='green')\n",
    "\n",
    "plt.grid()\n",
    "plt.xlabel('Number of training samples')\n",
    "plt.ylabel('Accuracy')\n",
    "plt.legend(loc='lower right')"
   ]
  },
  {
   "cell_type": "markdown",
   "id": "4223c213-da40-43e6-95db-2822eaa01b73",
   "metadata": {},
   "source": [
    "# Hyperparameter adjustment"
   ]
  },
  {
   "cell_type": "code",
   "execution_count": 39,
   "id": "b2877b34-c7f8-4cf6-8150-303dfa2bc1b3",
   "metadata": {},
   "outputs": [],
   "source": [
    "from sklearn.model_selection import GridSearchCV\n",
    "\n",
    "values = [1e-4, 1e-3, 1e-2, 1e-1, 1, 1e2, 1e3, 1e4] \n",
    "red_parametros = [\n",
    "    {'C': values, 'kernel': ['linear'] },\n",
    "    {'C': values, 'kernel': ['rbf'], 'gamma':values}\n",
    "]\n",
    "\n",
    "\n",
    "gs = GridSearchCV(\n",
    "    estimator  = svc,\n",
    "    param_grid = red_parametros,\n",
    "    scoring    = 'accuracy',\n",
    "    cv         = 10,\n",
    "    n_jobs     = -1\n",
    ")"
   ]
  },
  {
   "cell_type": "code",
   "execution_count": null,
   "id": "c6f4cb1d-d0aa-4458-b5f8-fbfa2f8a29c0",
   "metadata": {},
   "outputs": [],
   "source": [
    "gs = gs.fit(X_train_scaled, Y_train_enc)\n",
    "print(gs.best_score_)\n",
    "print(gs.best_params_)"
   ]
  },
  {
   "cell_type": "code",
   "execution_count": 55,
   "id": "5342245d-1ae3-445f-b9b3-77b058d21cf2",
   "metadata": {},
   "outputs": [],
   "source": [
    "fpr, tpr, _ = roc_curve(Y_test_enc, y_pred)\n",
    "auc = round(roc_auc_score(Y_test_enc, y_pred), 4)"
   ]
  },
  {
   "cell_type": "markdown",
   "id": "0680ec89-849d-474c-a306-aec103f0a5e7",
   "metadata": {},
   "source": [
    "# Train Model II"
   ]
  },
  {
   "cell_type": "markdown",
   "id": "ba5f0886-2222-4261-9f32-6bf8687067c8",
   "metadata": {},
   "source": [
    "The ideal is to try more models to see which is the most suitable, this time we will implentation the code \"Random Forest\""
   ]
  },
  {
   "cell_type": "code",
   "execution_count": 45,
   "id": "891ac472-0054-4110-a837-d9bc0b806d9a",
   "metadata": {},
   "outputs": [
    {
     "name": "stdout",
     "output_type": "stream",
     "text": [
      "Accuracy: 0.8131111111111111\n",
      "\n",
      "              precision    recall  f1-score   support\n",
      "\n",
      "           0       0.84      0.95      0.89      7040\n",
      "           1       0.63      0.34      0.44      1960\n",
      "\n",
      "    accuracy                           0.81      9000\n",
      "   macro avg       0.74      0.64      0.66      9000\n",
      "weighted avg       0.79      0.81      0.79      9000\n",
      "\n",
      "\n",
      "Average 5-Fold CV Score: 0.8208 , Standard deviation: 0.0097\n"
     ]
    },
    {
     "data": {
      "image/png": "[encoded data removed]",
      "text/plain": [
       "<Figure size 288x216 with 2 Axes>"
      ]
     },
     "metadata": {
      "needs_background": "light"
     },
     "output_type": "display_data"
    }
   ],
   "source": [
    "from sklearn.ensemble import RandomForestClassifier\n",
    "from sklearn.metrics import accuracy_score\n",
    "from sklearn.metrics import confusion_matrix\n",
    "from sklearn.model_selection import cross_val_score\n",
    "Ran = RandomForestClassifier(criterion= 'gini', max_depth= 6, \n",
    "                                     max_features= 5, n_estimators= 150, \n",
    "                                     random_state=0)\n",
    "Ran.fit(X_train_pca, Y_train_enc)\n",
    "y_pred1 = Ran.predict(X_test_pca)\n",
    "print('Accuracy:', accuracy_score(y_pred1,Y_test_enc))\n",
    "\n",
    "## 5-fold cross-validation \n",
    "cv_scores =cross_val_score(Ran, X, Y, cv=5)\n",
    "\n",
    "# Print the 5-fold cross-validation scores\n",
    "print()\n",
    "print(classification_report(Y_test_enc, y_pred1))\n",
    "print()\n",
    "print(\"Average 5-Fold CV Score: {}\".format(round(np.mean(cv_scores),4)),\n",
    "      \", Standard deviation: {}\".format(round(np.std(cv_scores),4)))\n",
    "\n",
    "plt.figure(figsize=(4,3))\n",
    "ConfMatrix = confusion_matrix(Y_test_enc,Ran.predict(X_test_pca))\n",
    "sns.heatmap(ConfMatrix,annot=True, cmap=\"Blues\", fmt=\"d\", \n",
    "            xticklabels = ['Non-default', 'Default'], \n",
    "            yticklabels = ['Non-default', 'Default'])\n",
    "plt.ylabel('True label')\n",
    "plt.xlabel('Predicted label')\n",
    "plt.title(\"Confusion Matrix - Random Forest\");"
   ]
  },
  {
   "cell_type": "code",
   "execution_count": 71,
   "id": "53e10fbf-91f9-4c99-bb55-040a805434f8",
   "metadata": {},
   "outputs": [],
   "source": [
    "fpr1, tpr1, _ = roc_curve(Y_test_enc, y_pred1)\n",
    "auc1 = round(roc_auc_score(Y_test_enc, y_pred1), 4)"
   ]
  },
  {
   "cell_type": "markdown",
   "id": "462bd03a-01a4-4ee6-9792-9a9da5f343df",
   "metadata": {},
   "source": [
    "# Train Model III"
   ]
  },
  {
   "cell_type": "markdown",
   "id": "2cd12654-73e7-4a87-ad87-3b81e74dcb3d",
   "metadata": {},
   "source": [
    "The next method to implement is \"DecisionTreeClassifier\""
   ]
  },
  {
   "cell_type": "code",
   "execution_count": 57,
   "id": "cca50d25-1137-4720-8d64-fd7850abce0c",
   "metadata": {},
   "outputs": [
    {
     "name": "stdout",
     "output_type": "stream",
     "text": [
      "Accuracy: 0.8083333333333333\n",
      "\n",
      "              precision    recall  f1-score   support\n",
      "\n",
      "           0       0.84      0.94      0.88      7040\n",
      "           1       0.60      0.35      0.44      1960\n",
      "\n",
      "    accuracy                           0.81      9000\n",
      "   macro avg       0.72      0.64      0.66      9000\n",
      "weighted avg       0.79      0.81      0.79      9000\n",
      "\n",
      "\n",
      "Average 5-Fold CV Score: 0.8109 , Standard deviation: 0.01\n"
     ]
    },
    {
     "data": {
      "image/png": "[encoded data removed]",
      "text/plain": [
       "<Figure size 288x216 with 2 Axes>"
      ]
     },
     "metadata": {
      "needs_background": "light"
     },
     "output_type": "display_data"
    }
   ],
   "source": [
    "from sklearn.tree import DecisionTreeClassifier\n",
    "from sklearn.model_selection import cross_val_score\n",
    "Tree = DecisionTreeClassifier(criterion= 'gini', max_depth= 7, \n",
    "                                     max_features= 9, min_samples_leaf= 2, \n",
    "                                     random_state=0)\n",
    "Tree.fit(X_train_pca, Y_train_enc)\n",
    "y_pred2 = Tree.predict(X_test_pca)\n",
    "print('Accuracy:', accuracy_score(y_pred2,Y_test_enc))\n",
    "\n",
    "## 5-fold cross-validation \n",
    "cv_scores =cross_val_score(Tree, X, Y, cv=5)\n",
    "\n",
    "# Print the 5-fold cross-validation scores\n",
    "print()\n",
    "print(classification_report(Y_test_enc, y_pred2))\n",
    "print()\n",
    "print(\"Average 5-Fold CV Score: {}\".format(round(np.mean(cv_scores),4)), \n",
    "      \", Standard deviation: {}\".format(round(np.std(cv_scores),4)))\n",
    "\n",
    "plt.figure(figsize=(4,3))\n",
    "ConfMatrix = confusion_matrix(Y_test_enc,Tree.predict(X_test_pca))\n",
    "sns.heatmap(ConfMatrix,annot=True, cmap=\"Blues\", fmt=\"d\", \n",
    "            xticklabels = ['Non-default', 'Default'], \n",
    "            yticklabels = ['Non-default', 'Default'])\n",
    "plt.ylabel('True label')\n",
    "plt.xlabel('Predicted label')\n",
    "plt.title(\"Confusion Matrix - Decision Tree\");"
   ]
  },
  {
   "cell_type": "code",
   "execution_count": 72,
   "id": "2aae6072-9a1e-40f2-b1cf-6dd67981d7fb",
   "metadata": {},
   "outputs": [],
   "source": [
    "fpr3, tpr3, _ = roc_curve(Y_test_enc, y_pred2)\n",
    "auc3 = round(roc_auc_score(Y_test_enc, y_pred2), 4)"
   ]
  },
  {
   "cell_type": "markdown",
   "id": "a0438176-7f12-4afa-a902-4a04a6291dfa",
   "metadata": {},
   "source": [
    "# Train Model IV"
   ]
  },
  {
   "cell_type": "markdown",
   "id": "9759605b-9e05-43b2-b7d3-982d47e10b62",
   "metadata": {},
   "source": [
    "Another method is \"KNeighborsClassifier\""
   ]
  },
  {
   "cell_type": "code",
   "execution_count": 60,
   "id": "22b2dd96-5f96-4dd0-860f-5dfce553efec",
   "metadata": {},
   "outputs": [
    {
     "name": "stdout",
     "output_type": "stream",
     "text": [
      "              precision    recall  f1-score   support\n",
      "\n",
      "           0       0.83      0.92      0.87      7040\n",
      "           1       0.53      0.34      0.42      1960\n",
      "\n",
      "    accuracy                           0.79      9000\n",
      "   macro avg       0.68      0.63      0.65      9000\n",
      "weighted avg       0.77      0.79      0.77      9000\n",
      "\n"
     ]
    }
   ],
   "source": [
    "from sklearn.neighbors import KNeighborsClassifier\n",
    "model = KNeighborsClassifier()\n",
    "model.fit(X_train_pca,Y_train_enc)\n",
    "pred_y = model.predict(X_test_pca)\n",
    "from sklearn.metrics import confusion_matrix, classification_report\n",
    "print(classification_report(Y_test_enc,pred_y))"
   ]
  },
  {
   "cell_type": "code",
   "execution_count": 73,
   "id": "729838ac-2e03-423f-b7a5-85b540d1361d",
   "metadata": {},
   "outputs": [],
   "source": [
    "fpr4, tpr4, _ = roc_curve(Y_test_enc, pred_y)\n",
    "auc4 = round(roc_auc_score(Y_test_enc, pred_y), 4)"
   ]
  },
  {
   "cell_type": "markdown",
   "id": "36389b21-bf22-4d8c-9bda-a00bd3b55ee9",
   "metadata": {},
   "source": [
    "# Train Model V"
   ]
  },
  {
   "cell_type": "markdown",
   "id": "3ee15d3a-0ec0-4e17-abb7-5eb91ba87cd2",
   "metadata": {},
   "source": [
    "The method that has the best metrics is \"RidgeClssifier\""
   ]
  },
  {
   "cell_type": "code",
   "execution_count": 63,
   "id": "bde74f5d-245a-4a1c-b39a-26cf94eb356a",
   "metadata": {},
   "outputs": [],
   "source": [
    "from sklearn.linear_model import RidgeClassifier"
   ]
  },
  {
   "cell_type": "code",
   "execution_count": 64,
   "id": "c3228aa5-0cd7-41ff-b46a-3010e5b2bd48",
   "metadata": {},
   "outputs": [
    {
     "name": "stdout",
     "output_type": "stream",
     "text": [
      "              precision    recall  f1-score   support\n",
      "\n",
      "           0       0.96      0.83      0.89      8191\n",
      "           1       0.27      0.67      0.39       809\n",
      "\n",
      "    accuracy                           0.81      9000\n",
      "   macro avg       0.62      0.75      0.64      9000\n",
      "weighted avg       0.90      0.81      0.84      9000\n",
      "\n",
      "[[6769 1422]\n",
      " [ 271  538]]\n",
      "\n",
      "Test Accuracy Score for model5:  0.8118888888888889\n",
      "\n",
      "Train Accuracy Score for model5:  0.8123809523809524\n"
     ]
    }
   ],
   "source": [
    "df_X = data[['SEX','MARRIAGE','AGE','BILL_AMT1','EDUCATION','PAY_1']]\n",
    "df_y = data.Target\n",
    "\n",
    "model5 = RidgeClassifier()\n",
    "model5.fit(X_train_pca, Y_train_enc)\n",
    "\n",
    "y_pred4 = model5.predict(X_test_pca)\n",
    "y_train_pred = model5.predict(X_train_pca)\n",
    "\n",
    "print(classification_report(y_pred4, Y_test_enc))\n",
    "print(confusion_matrix(y_pred4, Y_test_enc))\n",
    "print('\\nTest Accuracy Score for model5: ', accuracy_score(y_pred4,Y_test_enc))\n",
    "print('\\nTrain Accuracy Score for model5: ', accuracy_score(y_train_pred,Y_train_enc))"
   ]
  },
  {
   "cell_type": "code",
   "execution_count": 74,
   "id": "cf7603de-eddb-48cc-ae3c-cbbba72537ff",
   "metadata": {},
   "outputs": [],
   "source": [
    "fpr5, tpr5, _ = roc_curve(Y_test_enc, y_pred4)\n",
    "auc5 = round(roc_auc_score(Y_test_enc, y_pred4), 4)"
   ]
  },
  {
   "cell_type": "markdown",
   "id": "e3609971-44eb-4154-9130-5000d6a8333c",
   "metadata": {},
   "source": [
    "# Train Model VI"
   ]
  },
  {
   "cell_type": "markdown",
   "id": "9be91cae-0f21-4c62-98b8-459737bc3d8a",
   "metadata": {},
   "source": [
    "Finally the one with the second best metrics was \"Logistic Regression\""
   ]
  },
  {
   "cell_type": "code",
   "execution_count": 66,
   "id": "b049e94d-47ea-4787-a932-55def8aef2ff",
   "metadata": {},
   "outputs": [
    {
     "name": "stdout",
     "output_type": "stream",
     "text": [
      "              precision    recall  f1-score   support\n",
      "\n",
      "           0       0.96      0.83      0.89      8138\n",
      "           1       0.29      0.66      0.40       862\n",
      "\n",
      "    accuracy                           0.81      9000\n",
      "   macro avg       0.62      0.74      0.64      9000\n",
      "weighted avg       0.89      0.81      0.84      9000\n",
      "\n",
      "[[6743 1395]\n",
      " [ 297  565]]\n",
      "\n",
      "Test Accuracy Score for model4:  0.812\n",
      "\n",
      "Train Accuracy Score for model4:  0.813\n"
     ]
    }
   ],
   "source": [
    "from sklearn.linear_model import LogisticRegression\n",
    "model4 = LogisticRegression()\n",
    "model4.fit(X_train_pca, Y_train_enc)\n",
    "\n",
    "y_pred5 = model4.predict(X_test_pca)\n",
    "y_train_pred1= model4.predict(X_train_pca)\n",
    "\n",
    "print(classification_report(y_pred5, Y_test_enc))\n",
    "print(confusion_matrix(y_pred5, Y_test_enc))\n",
    "print('\\nTest Accuracy Score for model4: ', accuracy_score(y_pred5,Y_test_enc))\n",
    "print('\\nTrain Accuracy Score for model4: ', accuracy_score(y_train_pred1,Y_train_enc))"
   ]
  },
  {
   "cell_type": "code",
   "execution_count": 75,
   "id": "9dae3739-6f10-44c5-ae85-c68938c2d2e6",
   "metadata": {},
   "outputs": [],
   "source": [
    "fpr6, tpr6, _ = roc_curve(Y_test_enc, y_pred5)\n",
    "auc6 = round(roc_auc_score(Y_test_enc, y_pred5), 4)"
   ]
  },
  {
   "cell_type": "markdown",
   "id": "d4481bc1-d874-48e3-95d9-444540031d86",
   "metadata": {},
   "source": [
    "# ROC Curve"
   ]
  },
  {
   "cell_type": "code",
   "execution_count": 76,
   "id": "3b776f68-922c-4638-8e47-2c9acb89a863",
   "metadata": {},
   "outputs": [
    {
     "data": {
      "text/plain": [
       "<matplotlib.legend.Legend at 0x7f44174b60d0>"
      ]
     },
     "execution_count": 76,
     "metadata": {},
     "output_type": "execute_result"
    },
    {
     "data": {
      "image/png": "[encoded data removed]",
      "text/plain": [
       "<Figure size 432x288 with 1 Axes>"
      ]
     },
     "metadata": {
      "needs_background": "light"
     },
     "output_type": "display_data"
    }
   ],
   "source": [
    "plt.plot(fpr,tpr,label=\"SVC, AUC=\"+str(auc))\n",
    "plt.plot(fpr1,tpr1,label=\"Random Forest, AUC=\"+str(auc1))\n",
    "plt.plot(fpr3,tpr3,label=\"Decision Tree Classifier, AUC=\"+str(auc3))\n",
    "plt.plot(fpr4,tpr4,label=\"KNeighbors Classifier, AUC=\"+str(auc4))\n",
    "plt.plot(fpr5,tpr5,label=\"Ridge Classifier, AUC=\"+str(auc5))\n",
    "plt.plot(fpr6,tpr6,label=\"Logistic Regression, AUC=\"+str(auc6))\n",
    "plt.legend()"
   ]
  },
  {
   "cell_type": "markdown",
   "id": "945c3e84-2c62-4985-aef1-b6a709f658a5",
   "metadata": {},
   "source": [
    "# Select Analysis \n",
    "If only ML methods are focused omitting some correlated variables, the metrics will be distributed as follows."
   ]
  },
  {
   "cell_type": "code",
   "execution_count": 77,
   "id": "726bf174-6606-4567-92fc-86765027e8ba",
   "metadata": {},
   "outputs": [],
   "source": [
    "X1 = data[['SEX','MARRIAGE','AGE','BILL_AMT6','EDUCATION','PAY_1']]\n",
    "Y1 = data.Target"
   ]
  },
  {
   "cell_type": "code",
   "execution_count": 78,
   "id": "94645575-9ccd-43b9-a2ef-dbf93904d25f",
   "metadata": {},
   "outputs": [],
   "source": [
    "from sklearn.model_selection import train_test_split\n",
    "X_train,X_test,Y_train,Y_test=train_test_split(X1,Y1,test_size=0.3,random_state=42)"
   ]
  },
  {
   "cell_type": "code",
   "execution_count": 79,
   "id": "a00ba68a-60be-4790-b272-581697e31fe0",
   "metadata": {},
   "outputs": [
    {
     "name": "stdout",
     "output_type": "stream",
     "text": [
      "X_train shape: (21000, 6)\n",
      "Y_train shape: (21000,)\n",
      "X_test shape: (9000, 6)\n",
      "Y_test shape: (9000,)\n"
     ]
    }
   ],
   "source": [
    "from sklearn.preprocessing import StandardScaler\n",
    "\n",
    "sc= StandardScaler().fit(X_train)\n",
    "\n",
    "X_train_scaled=sc.transform(X_train)\n",
    "X_test_scaled=sc.transform(X_test)\n",
    "\n",
    "print('X_train shape:', X_train_scaled.shape)\n",
    "print('Y_train shape:', Y_train.shape)\n",
    "print('X_test shape:', X_test_scaled.shape)\n",
    "print('Y_test shape:', Y_test.shape)"
   ]
  },
  {
   "cell_type": "code",
   "execution_count": 80,
   "id": "28bb00e8-bf93-4742-b159-58b95d8160ab",
   "metadata": {},
   "outputs": [
    {
     "name": "stdout",
     "output_type": "stream",
     "text": [
      "(array([0, 1]), array([16324,  4676]))\n",
      "(array([0, 1]), array([16324,  4676]))\n"
     ]
    }
   ],
   "source": [
    "from sklearn.preprocessing import LabelEncoder\n",
    "\n",
    "le=LabelEncoder().fit(Y_train)\n",
    "Y_train_enc=le.transform(Y_train)\n",
    "Y_test_enc=le.transform(Y_test)\n",
    "\n",
    "print(np.unique(Y_train, return_counts=True))\n",
    "print(np.unique(Y_train_enc, return_counts=True))"
   ]
  },
  {
   "cell_type": "code",
   "execution_count": 81,
   "id": "b67a3530-4cac-4348-ad3f-960753d97a2a",
   "metadata": {},
   "outputs": [],
   "source": [
    "pca=PCA(0.90).fit(X_train_scaled)\n",
    "X_train_pca=pca.transform(X_train_scaled)\n",
    "X_test_pca=pca.transform(X_test_scaled)"
   ]
  },
  {
   "cell_type": "code",
   "execution_count": 82,
   "id": "a0141b21-7034-479a-b79d-930b461141f0",
   "metadata": {},
   "outputs": [
    {
     "data": {
      "text/plain": [
       "array([0.25340007, 0.17753797, 0.16631452, 0.16424469, 0.1444972 ])"
      ]
     },
     "execution_count": 82,
     "metadata": {},
     "output_type": "execute_result"
    }
   ],
   "source": [
    "pca.explained_variance_ratio_"
   ]
  },
  {
   "cell_type": "code",
   "execution_count": 83,
   "id": "8544693c-161d-4c82-9742-ebce895ce7a6",
   "metadata": {},
   "outputs": [
    {
     "data": {
      "text/plain": [
       "SVC(random_state=42)"
      ]
     },
     "execution_count": 83,
     "metadata": {},
     "output_type": "execute_result"
    }
   ],
   "source": [
    "from sklearn.svm import SVC\n",
    "svc=SVC(random_state=42)\n",
    "svc.fit(X_train_pca, Y_train_enc)"
   ]
  },
  {
   "cell_type": "code",
   "execution_count": 84,
   "id": "7a734b11-d2b5-4019-bf73-e2d102fadf7f",
   "metadata": {},
   "outputs": [
    {
     "data": {
      "text/plain": [
       "array([0, 0, 0, ..., 0, 0, 0])"
      ]
     },
     "execution_count": 84,
     "metadata": {},
     "output_type": "execute_result"
    }
   ],
   "source": [
    "y_pred=svc.predict(X_test_pca)\n",
    "y_pred"
   ]
  },
  {
   "cell_type": "code",
   "execution_count": 85,
   "id": "c5888e71-9f91-473e-b3d5-903b676383da",
   "metadata": {},
   "outputs": [
    {
     "data": {
      "text/plain": [
       "array([0])"
      ]
     },
     "execution_count": 85,
     "metadata": {},
     "output_type": "execute_result"
    }
   ],
   "source": [
    "svc.predict(X_test_pca[0].reshape(1,-1))"
   ]
  },
  {
   "cell_type": "code",
   "execution_count": 86,
   "id": "f86d792f-6c32-4306-8820-6dfa2f5add1c",
   "metadata": {},
   "outputs": [
    {
     "name": "stdout",
     "output_type": "stream",
     "text": [
      "              precision    recall  f1-score   support\n",
      "\n",
      "           0       0.83      0.96      0.89      7040\n",
      "           1       0.69      0.31      0.43      1960\n",
      "\n",
      "    accuracy                           0.82      9000\n",
      "   macro avg       0.76      0.64      0.66      9000\n",
      "weighted avg       0.80      0.82      0.79      9000\n",
      "\n"
     ]
    }
   ],
   "source": [
    "from sklearn.metrics import classification_report\n",
    "print(\n",
    "    classification_report(Y_test_enc,y_pred)\n",
    ")"
   ]
  },
  {
   "cell_type": "code",
   "execution_count": 87,
   "id": "782cbbca-eca9-4773-8e21-c5087b5ee23b",
   "metadata": {},
   "outputs": [
    {
     "name": "stdout",
     "output_type": "stream",
     "text": [
      "Accuracy: 0.8192222222222222\n",
      "\n",
      "              precision    recall  f1-score   support\n",
      "\n",
      "           0       0.83      0.96      0.89      7040\n",
      "           1       0.68      0.32      0.43      1960\n",
      "\n",
      "    accuracy                           0.82      9000\n",
      "   macro avg       0.76      0.64      0.66      9000\n",
      "weighted avg       0.80      0.82      0.79      9000\n",
      "\n",
      "\n",
      "Average 5-Fold CV Score: 0.8208 , Standard deviation: 0.0097\n"
     ]
    },
    {
     "data": {
      "image/png": "[encoded data removed]",
      "text/plain": [
       "<Figure size 288x216 with 2 Axes>"
      ]
     },
     "metadata": {
      "needs_background": "light"
     },
     "output_type": "display_data"
    }
   ],
   "source": [
    "from sklearn.ensemble import RandomForestClassifier\n",
    "from sklearn.metrics import accuracy_score\n",
    "from sklearn.metrics import confusion_matrix\n",
    "from sklearn.model_selection import cross_val_score\n",
    "Ran = RandomForestClassifier(criterion= 'gini', max_depth= 6, \n",
    "                                     max_features= 5, n_estimators= 150, \n",
    "                                     random_state=0)\n",
    "Ran.fit(X_train_pca, Y_train_enc)\n",
    "y_pred1 = Ran.predict(X_test_pca)\n",
    "print('Accuracy:', accuracy_score(y_pred1,Y_test_enc))\n",
    "\n",
    "## 5-fold cross-validation \n",
    "cv_scores =cross_val_score(Ran, X, Y, cv=5)\n",
    "\n",
    "# Print the 5-fold cross-validation scores\n",
    "print()\n",
    "print(classification_report(Y_test_enc, y_pred1))\n",
    "print()\n",
    "print(\"Average 5-Fold CV Score: {}\".format(round(np.mean(cv_scores),4)),\n",
    "      \", Standard deviation: {}\".format(round(np.std(cv_scores),4)))\n",
    "\n",
    "plt.figure(figsize=(4,3))\n",
    "ConfMatrix = confusion_matrix(Y_test_enc,Ran.predict(X_test_pca))\n",
    "sns.heatmap(ConfMatrix,annot=True, cmap=\"Blues\", fmt=\"d\", \n",
    "            xticklabels = ['Non-default', 'Default'], \n",
    "            yticklabels = ['Non-default', 'Default'])\n",
    "plt.ylabel('True label')\n",
    "plt.xlabel('Predicted label')\n",
    "plt.title(\"Confusion Matrix - Random Forest\");"
   ]
  },
  {
   "cell_type": "code",
   "execution_count": 88,
   "id": "46992f14-2d25-4e0b-9949-da0d35c399b8",
   "metadata": {},
   "outputs": [
    {
     "name": "stdout",
     "output_type": "stream",
     "text": [
      "Accuracy: 0.814\n",
      "\n",
      "              precision    recall  f1-score   support\n",
      "\n",
      "           0       0.83      0.95      0.89      7040\n",
      "           1       0.65      0.31      0.42      1960\n",
      "\n",
      "    accuracy                           0.81      9000\n",
      "   macro avg       0.74      0.63      0.65      9000\n",
      "weighted avg       0.79      0.81      0.79      9000\n",
      "\n",
      "\n",
      "Average 5-Fold CV Score: 0.8161 , Standard deviation: 0.0069\n"
     ]
    },
    {
     "data": {
      "image/png": "[encoded data removed]",
      "text/plain": [
       "<Figure size 288x216 with 2 Axes>"
      ]
     },
     "metadata": {
      "needs_background": "light"
     },
     "output_type": "display_data"
    }
   ],
   "source": [
    "from sklearn.tree import DecisionTreeClassifier\n",
    "\n",
    "Tree = DecisionTreeClassifier(criterion= 'gini', max_depth= 7, \n",
    "                                     max_features= 5, min_samples_leaf= 2, \n",
    "                                     random_state=0)\n",
    "Tree.fit(X_train_pca, Y_train_enc)\n",
    "y_pred2 = Tree.predict(X_test_pca)\n",
    "print('Accuracy:', accuracy_score(y_pred2,Y_test_enc))\n",
    "\n",
    "## 5-fold cross-validation \n",
    "cv_scores =cross_val_score(Tree, X, Y, cv=5)\n",
    "\n",
    "# Print the 5-fold cross-validation scores\n",
    "print()\n",
    "print(classification_report(Y_test_enc, y_pred2))\n",
    "print()\n",
    "print(\"Average 5-Fold CV Score: {}\".format(round(np.mean(cv_scores),4)), \n",
    "      \", Standard deviation: {}\".format(round(np.std(cv_scores),4)))\n",
    "\n",
    "plt.figure(figsize=(4,3))\n",
    "ConfMatrix = confusion_matrix(Y_test_enc,Tree.predict(X_test_pca))\n",
    "sns.heatmap(ConfMatrix,annot=True, cmap=\"Blues\", fmt=\"d\", \n",
    "            xticklabels = ['Non-default', 'Default'], \n",
    "            yticklabels = ['Non-default', 'Default'])\n",
    "plt.ylabel('True label')\n",
    "plt.xlabel('Predicted label')\n",
    "plt.title(\"Confusion Matrix - Decision Tree\");"
   ]
  },
  {
   "cell_type": "code",
   "execution_count": 89,
   "id": "f3201671-1bce-4e82-a203-e32b1d72e829",
   "metadata": {},
   "outputs": [
    {
     "name": "stdout",
     "output_type": "stream",
     "text": [
      "              precision    recall  f1-score   support\n",
      "\n",
      "           0       0.96      0.83      0.89      8090\n",
      "           1       0.32      0.69      0.44       910\n",
      "\n",
      "    accuracy                           0.82      9000\n",
      "   macro avg       0.64      0.76      0.66      9000\n",
      "weighted avg       0.89      0.82      0.85      9000\n",
      "\n",
      "[[6755 1335]\n",
      " [ 285  625]]\n",
      "\n",
      "Test Accuracy Score for model5:  0.82\n",
      "\n",
      "Train Accuracy Score for model5:  0.8194285714285714\n"
     ]
    }
   ],
   "source": [
    "\n",
    "from sklearn.linear_model import RidgeClassifier\n",
    "model5 = RidgeClassifier()\n",
    "model5.fit(X_train_pca, Y_train_enc)\n",
    "\n",
    "y_pred4 = model5.predict(X_test_pca)\n",
    "y_train_pred = model5.predict(X_train_pca)\n",
    "\n",
    "print(classification_report(y_pred4, Y_test_enc))\n",
    "print(confusion_matrix(y_pred4, Y_test_enc))\n",
    "print('\\nTest Accuracy Score for model5: ', accuracy_score(y_pred4,Y_test_enc))\n",
    "print('\\nTrain Accuracy Score for model5: ', accuracy_score(y_train_pred,Y_train_enc))"
   ]
  },
  {
   "cell_type": "code",
   "execution_count": 90,
   "id": "b9d475f0-466f-4524-94c0-4e3908c745bb",
   "metadata": {},
   "outputs": [
    {
     "name": "stdout",
     "output_type": "stream",
     "text": [
      "              precision    recall  f1-score   support\n",
      "\n",
      "           0       0.83      0.92      0.87      7040\n",
      "           1       0.53      0.33      0.41      1960\n",
      "\n",
      "    accuracy                           0.79      9000\n",
      "   macro avg       0.68      0.62      0.64      9000\n",
      "weighted avg       0.77      0.79      0.77      9000\n",
      "\n"
     ]
    }
   ],
   "source": [
    "from sklearn.neighbors import KNeighborsClassifier\n",
    "model = KNeighborsClassifier()\n",
    "model.fit(X_train_pca,Y_train_enc)\n",
    "pred_y = model.predict(X_test_pca)\n",
    "from sklearn.metrics import confusion_matrix, classification_report\n",
    "print(classification_report(Y_test_enc,pred_y))"
   ]
  },
  {
   "cell_type": "markdown",
   "id": "5acca8bb-3a67-417a-80d5-8bd11bb834d8",
   "metadata": {},
   "source": [
    "This allows you to change the metrics"
   ]
  },
  {
   "cell_type": "markdown",
   "id": "cd491151-5428-46ca-b57b-ae793c8cf2f3",
   "metadata": {},
   "source": [
    "# Other method"
   ]
  },
  {
   "cell_type": "markdown",
   "id": "addb15b0-b4e6-4cb3-a487-340b5c74df72",
   "metadata": {},
   "source": [
    "To reset the ML models, install the imblearn package which provides tools when dealing with classification with imbalanced classes."
   ]
  },
  {
   "cell_type": "code",
   "execution_count": 91,
   "id": "db6c76a3-eef5-44cb-af40-5c9b0179d440",
   "metadata": {},
   "outputs": [
    {
     "name": "stdout",
     "output_type": "stream",
     "text": [
      "Requirement already satisfied: imblearn in /opt/conda/lib/python3.7/site-packages (0.0)\n",
      "Requirement already satisfied: imbalanced-learn in /opt/conda/lib/python3.7/site-packages (from imblearn) (0.9.0)\n",
      "Requirement already satisfied: numpy>=1.14.6 in /opt/conda/lib/python3.7/site-packages (from imbalanced-learn->imblearn) (1.19.5)\n",
      "Requirement already satisfied: threadpoolctl>=2.0.0 in /opt/conda/lib/python3.7/site-packages (from imbalanced-learn->imblearn) (3.1.0)\n",
      "Requirement already satisfied: joblib>=0.11 in /opt/conda/lib/python3.7/site-packages (from imbalanced-learn->imblearn) (1.1.0)\n",
      "Requirement already satisfied: scipy>=1.1.0 in /opt/conda/lib/python3.7/site-packages (from imbalanced-learn->imblearn) (1.7.3)\n",
      "Requirement already satisfied: scikit-learn>=1.0.1 in /opt/conda/lib/python3.7/site-packages (from imbalanced-learn->imblearn) (1.0.2)\n",
      "Note: you may need to restart the kernel to use updated packages.\n"
     ]
    }
   ],
   "source": [
    "pip install imblearn"
   ]
  },
  {
   "cell_type": "code",
   "execution_count": 92,
   "id": "22406a9c-e680-417a-95af-c0012dbdc6c2",
   "metadata": {},
   "outputs": [],
   "source": [
    "import imblearn as imb"
   ]
  },
  {
   "cell_type": "code",
   "execution_count": 93,
   "id": "c33fa282-2444-4307-9184-6b44d93e714a",
   "metadata": {},
   "outputs": [],
   "source": [
    "from imblearn.over_sampling import SMOTE"
   ]
  },
  {
   "cell_type": "code",
   "execution_count": 94,
   "id": "934dc462-95da-4bec-b457-3f08d1c65a83",
   "metadata": {},
   "outputs": [],
   "source": [
    "smote = SMOTE(sampling_strategy='minority')"
   ]
  },
  {
   "cell_type": "code",
   "execution_count": 95,
   "id": "2aa8e4a4-f35a-4212-9cbd-90ac74e44679",
   "metadata": {},
   "outputs": [],
   "source": [
    "X_sm , y_sm = smote.fit_resample(X,Y)"
   ]
  },
  {
   "cell_type": "code",
   "execution_count": 96,
   "id": "13b32e11-2545-4c1a-93e5-6080100919fa",
   "metadata": {},
   "outputs": [
    {
     "data": {
      "text/plain": [
       "1    23364\n",
       "0    23364\n",
       "Name: Target, dtype: int64"
      ]
     },
     "execution_count": 96,
     "metadata": {},
     "output_type": "execute_result"
    }
   ],
   "source": [
    "y_sm.value_counts()"
   ]
  },
  {
   "cell_type": "markdown",
   "id": "9759fdc5-e931-46a3-a7a6-ea9adca15c13",
   "metadata": {},
   "source": [
    "The imblearn package is applied to the above methods, thus improving metrics."
   ]
  },
  {
   "cell_type": "code",
   "execution_count": 97,
   "id": "88f65b40-a4f0-4a5e-8b90-1a806a8c82e3",
   "metadata": {},
   "outputs": [],
   "source": [
    "from sklearn.model_selection import train_test_split\n",
    "from sklearn.metrics import accuracy_score,classification_report,confusion_matrix\n",
    "\n",
    "from sklearn.ensemble import RandomForestClassifier\n",
    "from sklearn.preprocessing import StandardScaler"
   ]
  },
  {
   "cell_type": "code",
   "execution_count": 98,
   "id": "b1142b1d-9629-44e0-815c-049d79995742",
   "metadata": {},
   "outputs": [],
   "source": [
    "sc =StandardScaler()\n",
    "X_scaled = sc.fit_transform(X_sm)"
   ]
  },
  {
   "cell_type": "code",
   "execution_count": 99,
   "id": "8f9ed87b-694e-41d0-9c88-b02662e3048d",
   "metadata": {},
   "outputs": [],
   "source": [
    "X_train,X_test,y_train,y_test = train_test_split(X_scaled,y_sm,test_size=.25,random_state=1,stratify=y_sm)"
   ]
  },
  {
   "cell_type": "code",
   "execution_count": 100,
   "id": "52c2e1b1-d539-4999-9dec-985d1ebf46ad",
   "metadata": {},
   "outputs": [
    {
     "name": "stdout",
     "output_type": "stream",
     "text": [
      "              precision    recall  f1-score   support\n",
      "\n",
      "           0       0.73      0.80      0.77      5841\n",
      "           1       0.78      0.71      0.74      5841\n",
      "\n",
      "    accuracy                           0.75     11682\n",
      "   macro avg       0.76      0.75      0.75     11682\n",
      "weighted avg       0.76      0.75      0.75     11682\n",
      "\n"
     ]
    }
   ],
   "source": [
    "from sklearn.svm import SVC\n",
    "model = SVC(random_state=42)\n",
    "model.fit(X_train,y_train)\n",
    "pred_y = model.predict(X_test)\n",
    "from sklearn.metrics import confusion_matrix, classification_report\n",
    "print(classification_report(y_test,pred_y))"
   ]
  },
  {
   "cell_type": "code",
   "execution_count": 107,
   "id": "5c031e4f-fb1e-444d-87c1-8cd1bcd059be",
   "metadata": {},
   "outputs": [],
   "source": [
    "fp, tp, _ = roc_curve(y_test, pred_y)\n",
    "aucx = round(roc_auc_score(y_test, pred_y), 4)"
   ]
  },
  {
   "cell_type": "code",
   "execution_count": 109,
   "id": "29230fb3-ee6a-4445-a411-c8082a8743be",
   "metadata": {},
   "outputs": [
    {
     "name": "stdout",
     "output_type": "stream",
     "text": [
      "              precision    recall  f1-score   support\n",
      "\n",
      "           0       0.71      0.76      0.73      5841\n",
      "           1       0.74      0.69      0.72      5841\n",
      "\n",
      "    accuracy                           0.72     11682\n",
      "   macro avg       0.73      0.72      0.72     11682\n",
      "weighted avg       0.73      0.72      0.72     11682\n",
      "\n"
     ]
    }
   ],
   "source": [
    "from sklearn.linear_model import LogisticRegression\n",
    "model = LogisticRegression()\n",
    "model.fit(X_train,y_train)\n",
    "pred_y1 = model.predict(X_test)\n",
    "from sklearn.metrics import confusion_matrix, classification_report\n",
    "print(classification_report(y_test,pred_y1))"
   ]
  },
  {
   "cell_type": "code",
   "execution_count": 111,
   "id": "bccf5b2b-1375-4df4-b452-e07f0bf515d2",
   "metadata": {},
   "outputs": [],
   "source": [
    "fp1, tp1, _ = roc_curve(y_test, pred_y1)\n",
    "aucx1 = round(roc_auc_score(y_test, pred_y1), 4)"
   ]
  },
  {
   "cell_type": "code",
   "execution_count": 112,
   "id": "0e99ea8b-be78-4427-9bf8-07c77336f664",
   "metadata": {},
   "outputs": [
    {
     "name": "stdout",
     "output_type": "stream",
     "text": [
      "              precision    recall  f1-score   support\n",
      "\n",
      "           0       0.76      0.72      0.74      5841\n",
      "           1       0.74      0.78      0.75      5841\n",
      "\n",
      "    accuracy                           0.75     11682\n",
      "   macro avg       0.75      0.75      0.75     11682\n",
      "weighted avg       0.75      0.75      0.75     11682\n",
      "\n"
     ]
    }
   ],
   "source": [
    "from sklearn.neighbors import KNeighborsClassifier\n",
    "model = KNeighborsClassifier()\n",
    "model.fit(X_train,y_train)\n",
    "pred_y2 = model.predict(X_test)\n",
    "from sklearn.metrics import confusion_matrix, classification_report\n",
    "print(classification_report(y_test,pred_y2))"
   ]
  },
  {
   "cell_type": "code",
   "execution_count": 113,
   "id": "dff4491a-c458-4501-80a6-1a17885e3c2b",
   "metadata": {},
   "outputs": [],
   "source": [
    "fp2, tp2, _ = roc_curve(y_test, pred_y2)\n",
    "aucx2 = round(roc_auc_score(y_test, pred_y2), 4)"
   ]
  },
  {
   "cell_type": "code",
   "execution_count": 103,
   "id": "59ee6748-100e-4e8c-baac-4360d3ca0f36",
   "metadata": {},
   "outputs": [
    {
     "name": "stdout",
     "output_type": "stream",
     "text": [
      "Classification Report \n",
      "\n",
      "              precision    recall  f1-score   support\n",
      "\n",
      "           0       0.83      0.85      0.84      5841\n",
      "           1       0.85      0.82      0.84      5841\n",
      "\n",
      "    accuracy                           0.84     11682\n",
      "   macro avg       0.84      0.84      0.84     11682\n",
      "weighted avg       0.84      0.84      0.84     11682\n",
      "\n",
      "Confusion Matrix\n",
      "\n",
      "[[4994  847]\n",
      " [1045 4796]]\n"
     ]
    }
   ],
   "source": [
    "model = RandomForestClassifier()\n",
    "model.fit(X_train,y_train)\n",
    "pred = model.predict(X_test)\n",
    "print(\"Classification Report \\n\")\n",
    "print(classification_report(y_test,pred))\n",
    "print(\"Confusion Matrix\\n\")\n",
    "print(confusion_matrix(y_test,pred))"
   ]
  },
  {
   "cell_type": "code",
   "execution_count": 120,
   "id": "76b30e31-0b06-4429-a244-8d6bc17d32cb",
   "metadata": {},
   "outputs": [],
   "source": [
    "fp3, tp3, _ = roc_curve(y_test, pred)\n",
    "aucx3 = round(roc_auc_score(y_test, pred), 4)"
   ]
  },
  {
   "cell_type": "code",
   "execution_count": 115,
   "id": "952b34fa-b81f-4980-a188-7fbff27ccd5c",
   "metadata": {},
   "outputs": [
    {
     "name": "stdout",
     "output_type": "stream",
     "text": [
      "Classification Report \n",
      "\n",
      "              precision    recall  f1-score   support\n",
      "\n",
      "           0       0.71      0.76      0.73      5841\n",
      "           1       0.74      0.69      0.71      5841\n",
      "\n",
      "    accuracy                           0.72     11682\n",
      "   macro avg       0.73      0.72      0.72     11682\n",
      "weighted avg       0.73      0.72      0.72     11682\n",
      "\n",
      "Confusion Matrix\n",
      "\n",
      "[[4435 1406]\n",
      " [1817 4024]]\n"
     ]
    }
   ],
   "source": [
    "model = RidgeClassifier()\n",
    "model.fit(X_train,y_train)\n",
    "pred1 = model.predict(X_test)\n",
    "print(\"Classification Report \\n\")\n",
    "print(classification_report(y_test,pred1))\n",
    "print(\"Confusion Matrix\\n\")\n",
    "print(confusion_matrix(y_test,pred1))"
   ]
  },
  {
   "cell_type": "code",
   "execution_count": 121,
   "id": "5bbe0daf-fa34-42ce-afc3-1a07a1b796b2",
   "metadata": {},
   "outputs": [],
   "source": [
    "fp4, tp4, _ = roc_curve(y_test, pred1)\n",
    "aucx4 = round(roc_auc_score(y_test, pred1), 4)"
   ]
  },
  {
   "cell_type": "code",
   "execution_count": 118,
   "id": "7864e24b-1b11-42bc-90a4-ef8573e82196",
   "metadata": {},
   "outputs": [
    {
     "name": "stdout",
     "output_type": "stream",
     "text": [
      "Accuracy: 0.7170861153912002\n",
      "\n",
      "              precision    recall  f1-score   support\n",
      "\n",
      "           0       0.72      0.71      0.71      5841\n",
      "           1       0.71      0.73      0.72      5841\n",
      "\n",
      "    accuracy                           0.72     11682\n",
      "   macro avg       0.72      0.72      0.72     11682\n",
      "weighted avg       0.72      0.72      0.72     11682\n",
      "\n",
      "\n",
      "Average 5-Fold CV Score: 0.8119 , Standard deviation: 0.0074\n"
     ]
    },
    {
     "data": {
      "image/png": "[encoded data removed]",
      "text/plain": [
       "<Figure size 288x216 with 2 Axes>"
      ]
     },
     "metadata": {
      "needs_background": "light"
     },
     "output_type": "display_data"
    }
   ],
   "source": [
    "from sklearn.tree import DecisionTreeClassifier\n",
    "\n",
    "Tree = DecisionTreeClassifier(criterion= 'gini', max_depth= 7, \n",
    "                                     max_features= 6, min_samples_leaf= 2, \n",
    "                                     random_state=0)\n",
    "Tree.fit(X_train, y_train)\n",
    "pred2 = Tree.predict(X_test)\n",
    "print('Accuracy:', accuracy_score(pred2,y_test))\n",
    "\n",
    "## 5-fold cross-validation \n",
    "cv_scores =cross_val_score(Tree, X, Y, cv=5)\n",
    "\n",
    "# Print the 5-fold cross-validation scores\n",
    "print()\n",
    "print(classification_report(y_test, pred2))\n",
    "print()\n",
    "print(\"Average 5-Fold CV Score: {}\".format(round(np.mean(cv_scores),4)), \n",
    "      \", Standard deviation: {}\".format(round(np.std(cv_scores),4)))\n",
    "\n",
    "plt.figure(figsize=(4,3))\n",
    "ConfMatrix = confusion_matrix(y_test,Tree.predict(X_test))\n",
    "sns.heatmap(ConfMatrix,annot=True, cmap=\"Blues\", fmt=\"d\", \n",
    "            xticklabels = ['Non-default', 'Default'], \n",
    "            yticklabels = ['Non-default', 'Default'])\n",
    "plt.ylabel('True label')\n",
    "plt.xlabel('Predicted label')\n",
    "plt.title(\"Confusion Matrix - Decision Tree\");"
   ]
  },
  {
   "cell_type": "code",
   "execution_count": 122,
   "id": "a4bbd436-d6c8-446e-b287-4c7c785104e8",
   "metadata": {},
   "outputs": [],
   "source": [
    "fp5, tp5, _ = roc_curve(y_test, pred2)\n",
    "aucx5 = round(roc_auc_score(y_test, pred2), 4)"
   ]
  },
  {
   "cell_type": "markdown",
   "id": "9ef29d84-b9fd-41aa-8da1-125f52d27c03",
   "metadata": {},
   "source": [
    "# ROC Curve"
   ]
  },
  {
   "cell_type": "code",
   "execution_count": 124,
   "id": "57913846-d755-4def-b59e-2ac55eb7b032",
   "metadata": {},
   "outputs": [
    {
     "data": {
      "text/plain": [
       "<matplotlib.legend.Legend at 0x7f4416c25350>"
      ]
     },
     "execution_count": 124,
     "metadata": {},
     "output_type": "execute_result"
    },
    {
     "data": {
      "image/png": "[encoded data removed]",
      "text/plain": [
       "<Figure size 432x288 with 1 Axes>"
      ]
     },
     "metadata": {
      "needs_background": "light"
     },
     "output_type": "display_data"
    }
   ],
   "source": [
    "plt.plot(fp,tp,label=\"SVC, AUC=\"+str(aucx))\n",
    "plt.plot(fp1,tp1,label=\"Logistic Regression, AUC=\"+str(aucx1))\n",
    "plt.plot(fp2,tp2,label=\"KNeighbors Classifier, AUC=\"+str(aucx2))\n",
    "plt.plot(fp3,tp3,label=\"Random Forest, AUC=\"+str(aucx3))\n",
    "plt.plot(fp4,tp4,label=\"Ridge Classifier, AUC=\"+str(aucx4))\n",
    "plt.plot(fp5,tp5,label=\"Decision Tree Classifier, AUC=\"+str(aucx5))\n",
    "plt.legend()"
   ]
  },
  {
   "cell_type": "markdown",
   "id": "f9da3687-8a36-4c35-8869-429eb7df3d39",
   "metadata": {},
   "source": [
    "**In conclusion, the best method to apply is Ridge(), followed by Logistic Regression, which, handles the best metrics for the dataset**"
   ]
  }
 ],
 "metadata": {
  "environment": {
   "kernel": "python3",
   "name": "common-cpu.m90",
   "type": "gcloud",
   "uri": "gcr.io/deeplearning-platform-release/base-cpu:m90"
  },
  "kernelspec": {
   "display_name": "Python 3",
   "language": "python",
   "name": "python3"
  },
  "language_info": {
   "codemirror_mode": {
    "name": "ipython",
    "version": 3
   },
   "file_extension": ".py",
   "mimetype": "text/x-python",
   "name": "python",
   "nbconvert_exporter": "python",
   "pygments_lexer": "ipython3",
   "version": "3.7.12"
  }
 },
 "nbformat": 4,
 "nbformat_minor": 5
}
