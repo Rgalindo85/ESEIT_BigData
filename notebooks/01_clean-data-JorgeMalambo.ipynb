{
 "cells": [
  {
   "cell_type": "markdown",
   "id": "a7dac6ca-3d99-49ad-b3bd-76c1144c6939",
   "metadata": {
    "tags": []
   },
   "source": [
    "## Lectura y limpieza de Datos Llamadas 123\n",
    "presentado por: Jorge Enrique Malambo"
   ]
  },
  {
   "cell_type": "markdown",
   "id": "4bde52a1-4d5b-4546-8f0d-abbd0d4b1e4b",
   "metadata": {},
   "source": [
    "* cargar y limpiar cada df de los meses \n",
    "* Modificar en la tabla de string a date/time \n",
    "* Por tabla (de cada mes), puedes hacer un reporte con los datos limpios\n",
    "* Hacer todo esto en todas las tablas de 123 Y generar la tabla maestra\n",
    "* hacer reporte de tabal maestra"
   ]
  },
  {
   "cell_type": "code",
   "execution_count": 42,
   "id": "19dc2eac-db51-40ad-9834-b50602429973",
   "metadata": {
    "tags": []
   },
   "outputs": [
    {
     "name": "stdout",
     "output_type": "stream",
     "text": [
      "The autoreload extension is already loaded. To reload it, use:\n",
      "  %reload_ext autoreload\n"
     ]
    }
   ],
   "source": [
    "import os\n",
    "import sys\n",
    "import logging  \n",
    "import pandas as pd\n",
    "\n",
    "import re # libreria para administracion de expresiones regulares\n",
    "\n",
    "from pandas_profiling import ProfileReport #para generar reporte\n",
    "\n",
    "\n",
    "project_dir = os.path.dirname(os.path.abspath('.')) # get the path of the project, if doesn't work use os.getcwd() instead and use rfind to find the project dir\n",
    "sys.path.append(os.path.join(project_dir, 'src', 'data'))\n",
    "from data_manipulator import get_input_data\n",
    "\n",
    "bucket = 'esp_bigdata_jemm'\n",
    "directory = 'BigData'\n",
    "\n",
    "%load_ext autoreload\n",
    "%autoreload 2"
   ]
  },
  {
   "cell_type": "markdown",
   "id": "cd8965c9-f29d-450b-b4a7-4259111c834b",
   "metadata": {},
   "source": [
    "## Visualizando el diccionario de datos"
   ]
  },
  {
   "cell_type": "code",
   "execution_count": 43,
   "id": "c223e996-5431-4d9b-934a-87929600c14a",
   "metadata": {
    "tags": []
   },
   "outputs": [
    {
     "data": {
      "text/html": [
       "<div>\n",
       "<style scoped>\n",
       "    .dataframe tbody tr th:only-of-type {\n",
       "        vertical-align: middle;\n",
       "    }\n",
       "\n",
       "    .dataframe tbody tr th {\n",
       "        vertical-align: top;\n",
       "    }\n",
       "\n",
       "    .dataframe thead th {\n",
       "        text-align: right;\n",
       "    }\n",
       "</style>\n",
       "<table border=\"1\" class=\"dataframe\">\n",
       "  <thead>\n",
       "    <tr style=\"text-align: right;\">\n",
       "      <th></th>\n",
       "      <th>NOMBRE</th>\n",
       "      <th>DESCRIPCION</th>\n",
       "    </tr>\n",
       "  </thead>\n",
       "  <tbody>\n",
       "    <tr>\n",
       "      <th>0</th>\n",
       "      <td>FECHA_INCIDENTE</td>\n",
       "      <td>Es la fecha el cual se registra la llamada del...</td>\n",
       "    </tr>\n",
       "    <tr>\n",
       "      <th>1</th>\n",
       "      <td>FECHA_INICIO_DESPLAZAMIENTO_MOVIL</td>\n",
       "      <td>Es la fecha el cual se inicia el desplazamient...</td>\n",
       "    </tr>\n",
       "    <tr>\n",
       "      <th>2</th>\n",
       "      <td>CODIGO LOCALIDAD</td>\n",
       "      <td>Es el código de las 20 localidades de la ciuda...</td>\n",
       "    </tr>\n",
       "    <tr>\n",
       "      <th>3</th>\n",
       "      <td>LOCALIDAD</td>\n",
       "      <td>Es la localidad donde sucede el incidente.</td>\n",
       "    </tr>\n",
       "    <tr>\n",
       "      <th>4</th>\n",
       "      <td>EDAD</td>\n",
       "      <td>La edad del paciente.</td>\n",
       "    </tr>\n",
       "    <tr>\n",
       "      <th>5</th>\n",
       "      <td>UNIDAD</td>\n",
       "      <td>La descripción de la edad si es en horas, días...</td>\n",
       "    </tr>\n",
       "    <tr>\n",
       "      <th>6</th>\n",
       "      <td>GENERO</td>\n",
       "      <td>Es la  distinción de genero del paciente</td>\n",
       "    </tr>\n",
       "    <tr>\n",
       "      <th>7</th>\n",
       "      <td>RED</td>\n",
       "      <td>Es la localización a nivel bogota de la red de...</td>\n",
       "    </tr>\n",
       "    <tr>\n",
       "      <th>8</th>\n",
       "      <td>TIPO_INCIDENTE</td>\n",
       "      <td>Es la descripción inicial que tipifica el cent...</td>\n",
       "    </tr>\n",
       "    <tr>\n",
       "      <th>9</th>\n",
       "      <td>PRIORIDAD</td>\n",
       "      <td>Es la tipificación según la prioridad del inci...</td>\n",
       "    </tr>\n",
       "    <tr>\n",
       "      <th>10</th>\n",
       "      <td>MES</td>\n",
       "      <td>Es el mes el cual ocurrió el incidente.</td>\n",
       "    </tr>\n",
       "    <tr>\n",
       "      <th>11</th>\n",
       "      <td>CLASIFICACION FINAL</td>\n",
       "      <td>Es la clasificación final que entrega el centr...</td>\n",
       "    </tr>\n",
       "  </tbody>\n",
       "</table>\n",
       "</div>"
      ],
      "text/plain": [
       "                               NOMBRE  \\\n",
       "0                     FECHA_INCIDENTE   \n",
       "1   FECHA_INICIO_DESPLAZAMIENTO_MOVIL   \n",
       "2                    CODIGO LOCALIDAD   \n",
       "3                           LOCALIDAD   \n",
       "4                                EDAD   \n",
       "5                              UNIDAD   \n",
       "6                              GENERO   \n",
       "7                                 RED   \n",
       "8                      TIPO_INCIDENTE   \n",
       "9                           PRIORIDAD   \n",
       "10                                MES   \n",
       "11                CLASIFICACION FINAL   \n",
       "\n",
       "                                          DESCRIPCION  \n",
       "0   Es la fecha el cual se registra la llamada del...  \n",
       "1   Es la fecha el cual se inicia el desplazamient...  \n",
       "2   Es el código de las 20 localidades de la ciuda...  \n",
       "3          Es la localidad donde sucede el incidente.  \n",
       "4                               La edad del paciente.  \n",
       "5   La descripción de la edad si es en horas, días...  \n",
       "6            Es la  distinción de genero del paciente  \n",
       "7   Es la localización a nivel bogota de la red de...  \n",
       "8   Es la descripción inicial que tipifica el cent...  \n",
       "9   Es la tipificación según la prioridad del inci...  \n",
       "10            Es el mes el cual ocurrió el incidente.  \n",
       "11  Es la clasificación final que entrega el centr...  "
      ]
     },
     "execution_count": 43,
     "metadata": {},
     "output_type": "execute_result"
    }
   ],
   "source": [
    "file = 'gs://{}/{}/data/metadatos-llamadas-urg-y-emer.csv'.format(bucket, directory)\n",
    "df_metadata = pd.read_csv(file, encoding='latin1', sep=';')\n",
    "df_metadata"
   ]
  },
  {
   "cell_type": "markdown",
   "id": "401fb5d8-30ae-41b2-80e9-bb2182ca5ade",
   "metadata": {},
   "source": [
    "Para estandarizar los campos de los dataframes, relizare una copia de las variables declaradas en el ***diccionario de datos*** en un arreglo"
   ]
  },
  {
   "cell_type": "code",
   "execution_count": 44,
   "id": "d9f23d28-5f5c-415d-8e46-5349a9a53198",
   "metadata": {},
   "outputs": [
    {
     "data": {
      "text/plain": [
       "['FECHA_INCIDENTE',\n",
       " 'FECHA_INICIO_DESPLAZAMIENTO_MOVIL',\n",
       " 'CODIGO LOCALIDAD',\n",
       " 'LOCALIDAD',\n",
       " 'EDAD',\n",
       " 'UNIDAD',\n",
       " 'GENERO',\n",
       " 'RED',\n",
       " 'TIPO_INCIDENTE',\n",
       " 'PRIORIDAD',\n",
       " 'MES',\n",
       " 'CLASIFICACION FINAL']"
      ]
     },
     "execution_count": 44,
     "metadata": {},
     "output_type": "execute_result"
    }
   ],
   "source": [
    "columName=[x for x in df_metadata['NOMBRE']]\n",
    "columName"
   ]
  },
  {
   "cell_type": "markdown",
   "id": "8fccaa1b-1552-45fc-93f1-be3bfdd160b5",
   "metadata": {},
   "source": [
    "Usando la libreria ***re*** y con un recorrido por la lista creada, se realiza un cambio del caracter ***' '*** a ***'_'***, es de anotar que para estas variables no habia una necesidad de quitar los espacios alrededor del strig con el método *strip()*"
   ]
  },
  {
   "cell_type": "code",
   "execution_count": 45,
   "id": "702eef04-1bba-4cb3-940a-9969b8bfd328",
   "metadata": {
    "tags": []
   },
   "outputs": [
    {
     "data": {
      "text/plain": [
       "['FECHA_INCIDENTE',\n",
       " 'FECHA_INICIO_DESPLAZAMIENTO_MOVIL',\n",
       " 'CODIGO_LOCALIDAD',\n",
       " 'LOCALIDAD',\n",
       " 'EDAD',\n",
       " 'UNIDAD',\n",
       " 'GENERO',\n",
       " 'RED',\n",
       " 'TIPO_INCIDENTE',\n",
       " 'PRIORIDAD',\n",
       " 'MES',\n",
       " 'CLASIFICACION_FINAL']"
      ]
     },
     "execution_count": 45,
     "metadata": {},
     "output_type": "execute_result"
    }
   ],
   "source": [
    "for index in range(len(columName)):\n",
    "    columName[index]=re.sub('\\s+', '_',columName[index])\n",
    "columName"
   ]
  },
  {
   "cell_type": "markdown",
   "id": "6405853c-8737-4d80-8636-ef4e1767aded",
   "metadata": {},
   "source": [
    "## Ahora pasaremos a los datos crudos:"
   ]
  },
  {
   "cell_type": "markdown",
   "id": "e9553498-4f18-4757-92f7-384a12ebcff2",
   "metadata": {},
   "source": [
    "Inicialemte inicializaré un arreglo con los nombres de los archivos que tengo en el bucket."
   ]
  },
  {
   "cell_type": "code",
   "execution_count": 46,
   "id": "2403b6fe-9804-46fc-b458-dbf8c196fa73",
   "metadata": {},
   "outputs": [],
   "source": [
    "dataRaw=['datos-abiertos-julio-2019.csv',\n",
    "         'datos-abiertos-agosto-2019.csv',\n",
    "         'datos-abiertos-septiembre-2019.csv',\n",
    "         'datos-abiertos-noviembre_2019.csv',\n",
    "         'datos_abiertos_cons_diciembre_2019.csv',\n",
    "         'datos-abiertos-enero_2020.csv',\n",
    "         'llamadas-de-urgencias-y-emergencias.csv'\n",
    "     ]"
   ]
  },
  {
   "cell_type": "markdown",
   "id": "3d864128-bfdd-4fcc-99b8-af494071eba4",
   "metadata": {},
   "source": [
    "***Defino un arreglo de dataframes***"
   ]
  },
  {
   "cell_type": "code",
   "execution_count": 47,
   "id": "f587f67f-4c25-4be1-97fd-c49318b739c2",
   "metadata": {},
   "outputs": [],
   "source": [
    "dfArrayCalls=list()\n",
    "for i in range(len(dataRaw)):\n",
    "    df= get_input_data(bucket=bucket,\n",
    "                          initial_directory=directory,\n",
    "                          filename = dataRaw[i])\n",
    "    dfArrayCalls.append(df)"
   ]
  },
  {
   "cell_type": "code",
   "execution_count": 48,
   "id": "9420862b-f0b3-4180-8f1d-165c948a80d2",
   "metadata": {
    "collapsed": true,
    "jupyter": {
     "outputs_hidden": true
    },
    "tags": []
   },
   "outputs": [
    {
     "name": "stdout",
     "output_type": "stream",
     "text": [
      "archivo :0,datos-abiertos-julio-2019.csv\n",
      "\n",
      "        FECHA_INCIDENTE FECHA_INICIO_DESPLAZAMIENTO-MOVIL  CODIGO DE LOCALIDAD  \\\n",
      "0  2019-07-01 00:05:08               2019-07-01 00:11:02                    8   \n",
      "1  2019-07-01 00:06:57               2019-07-01 00:12:56                   19   \n",
      "2  2019-07-01 00:09:26               2019-07-01 00:10:26                    6   \n",
      "3  2019-07-01 00:14:42               2019-07-01 00:15:47                    8   \n",
      "4  2019-07-01 00:17:13               2019-07-01 00:31:13                   10   \n",
      "\n",
      "         LOCALIDAD      EDAD    UNIDAD     GENERO    RED  \\\n",
      "0          Kennedy        39      Años   FEMENINO  Norte   \n",
      "1   Ciudad Bolivar        69      Años  MASCULINO    Sur   \n",
      "2       Tunjuelito        25      Años  MASCULINO    Sur   \n",
      "3          Kennedy        65      Años  MASCULINO    Sur   \n",
      "4         Engativa  SIN_DATO  SIN_DATO   SIN_DATO  Norte   \n",
      "\n",
      "                           TIPO_INCIDENTE PRIORIDAD    MES CLASIFICACION FINAL  \n",
      "0                 Dificultad Respiratoria      ALTA  JULIO            Traslado  \n",
      "1  Inconsciente/Paro Cardiorrespiratorio       ALTA  JULIO                 NaN  \n",
      "2                                 Enfermo     MEDIA  JULIO            Traslado  \n",
      "3                     Lesiones personales     MEDIA  JULIO            Traslado  \n",
      "4                                 Enfermo     MEDIA  JULIO           Cancelado  \n",
      "archivo :1,datos-abiertos-agosto-2019.csv\n",
      "\n",
      "    NUMERO_INCIDENTE FECHA_INICIO_DESPLAZAMIENTO-MOVIL  CODIGO DE LOCALIDAD  \\\n",
      "0         809224194                    1/08/2019 0:28                    1   \n",
      "1         809224194                    1/08/2019 0:28                    1   \n",
      "2         809240194                    1/08/2019 0:15                   11   \n",
      "3         809240194                    1/08/2019 0:15                   11   \n",
      "4         809240194                    1/08/2019 0:15                   11   \n",
      "\n",
      "  LOCALIDAD      EDAD    UNIDAD    GENERO    RED  \\\n",
      "0   Usaquen  SIN_DATO  SIN_DATO  SIN_DATO  Norte   \n",
      "1   Usaquen  SIN_DATO  SIN_DATO  SIN_DATO  Norte   \n",
      "2      Suba  SIN_DATO  SIN_DATO  SIN_DATO  Norte   \n",
      "3      Suba  SIN_DATO  SIN_DATO  SIN_DATO  Norte   \n",
      "4      Suba  SIN_DATO  SIN_DATO  SIN_DATO  Norte   \n",
      "\n",
      "                       TIPO DE INCIDIDENT PRIORIDAD     MES  \\\n",
      "0  Inconsciente/Paro Cardiorrespiratorio       ALTA  AGOSTO   \n",
      "1  Inconsciente/Paro Cardiorrespiratorio       ALTA  AGOSTO   \n",
      "2             Accidente cerebro vascular       BAJA  AGOSTO   \n",
      "3             Accidente cerebro vascular       BAJA  AGOSTO   \n",
      "4             Accidente cerebro vascular       BAJA  AGOSTO   \n",
      "\n",
      "  CLASIFICACION FINAL  \n",
      "0           Cancelado  \n",
      "1           Cancelado  \n",
      "2           Cancelado  \n",
      "3           Cancelado  \n",
      "4           Cancelado  \n",
      "archivo :2,datos-abiertos-septiembre-2019.csv\n",
      "\n",
      "    NUMERO_INCIDENTE FECHA_INICIO_DESPLAZAMIENTO-MOVIL  CODIGO DE LOCALIDAD  \\\n",
      "0         538006196               2019-09-01 00:05:32                   18   \n",
      "1         538024196               2019-09-01 00:12:07                   11   \n",
      "2         538031196               2019-09-01 00:05:39                    8   \n",
      "3         538084196               2019-09-01 00:13:39                   11   \n",
      "4         538123196               2019-09-01 00:20:31                    2   \n",
      "\n",
      "             LOCALIDAD  EDAD UNIDAD     GENERO    RED  \\\n",
      "0   Rafael Uribe Uribe    53   Años  MASCULINO    Sur   \n",
      "1                 Suba     0    NaN   SIN_DATO  Norte   \n",
      "2              Kennedy    26   Años  MASCULINO  Norte   \n",
      "3                 Suba    24   Años  MASCULINO  Norte   \n",
      "4            Chapinero     0    NaN   SIN_DATO  Norte   \n",
      "\n",
      "                              TIPO_INCIDENTE PRIORIDAD  \n",
      "0  ACCIDENTE DE TRÁNSITO CON HERIDOS/MUERTOS      ALTA  \n",
      "1  ACCIDENTE DE TRÁNSITO CON HERIDOS/MUERTOS      ALTA  \n",
      "2  ACCIDENTE DE TRÁNSITO CON HERIDOS/MUERTOS      ALTA  \n",
      "3  ACCIDENTE DE TRÁNSITO CON HERIDOS/MUERTOS      ALTA  \n",
      "4     INCONSCIENTE/PARO CARDIORRESPIRATORIO       ALTA  \n",
      "archivo :3,datos-abiertos-noviembre_2019.csv\n",
      "\n",
      "   NUMERO_INCIDENTE FECHA_INICIO_DESPLAZAMIENTO-MOVIL  CODIGO DE LOCALIDAD  \\\n",
      "0       1129118194               2019-11-01 00:01:16                   18   \n",
      "1       1129198194               2019-11-01 00:14:45                   11   \n",
      "2       1129241194               2019-11-01 00:16:15                    2   \n",
      "3       1129253194               2019-11-01 00:11:37                    7   \n",
      "4       1129258194               2019-11-01 00:16:28                   11   \n",
      "\n",
      "            LOCALIDAD  EDAD    UNIDAD     GENERO    RED  \\\n",
      "0  Rafael Uribe Uribe     0  SIN_DATO   SIN_DATO    Sur   \n",
      "1                Suba    47      Años  MASCULINO  Norte   \n",
      "2           Chapinero    33      Años  MASCULINO  Norte   \n",
      "3                Bosa     5      Años   FEMENINO    Sur   \n",
      "4                Suba    43      Años   FEMENINO  Norte   \n",
      "\n",
      "                              TIPO_INCIDENTE PRIORIDAD  \n",
      "0                     Lesiones personales         ALTA  \n",
      "1             Accidente cerebro vascular          ALTA  \n",
      "2  Inconsciente/Paro Cardiorrespiratorio          ALTA  \n",
      "3                 Dificultad Respiratoria         ALTA  \n",
      "4                          Dolor torácico         ALTA  \n",
      "archivo :4,datos_abiertos_cons_diciembre_2019.csv\n",
      "\n",
      "   NUMERO_INCIDENTE   FECHA_DESPACHO_518  CODIGO DE LOCALIDAD LOCALIDAD  EDAD  \\\n",
      "0       1178693196  2019-12-01 03:18:23                    8   Kennedy    14   \n",
      "1       1176480196  2019-12-01 00:05:59                    5      Usme     0   \n",
      "2       1180282196  2019-12-01 05:37:10                    7      Bosa    32   \n",
      "3       1176520196  2019-12-01 00:07:43                    3  Santa Fe     0   \n",
      "4       1180873196  2019-12-01 07:14:08                    5      Usme    53   \n",
      "\n",
      "     UNIDAD     GENERO      RED                          TIPO_INCIDENTE  \\\n",
      "0      Años  MASCULINO  Privada  Accidente Tránsito con Heridos/Muertos   \n",
      "1  SIN/DATO   SIN/DATO      Sur  Accidente Tránsito con Heridos/Muertos   \n",
      "2      Años  MASCULINO  Privada  Accidente Tránsito con Heridos/Muertos   \n",
      "3  SIN/DATO   SIN/DATO    Norte                     Lesiones Personales   \n",
      "4      Años   FEMENINO  Privada  Accidente Tránsito con Heridos/Muertos   \n",
      "\n",
      "  PRIORIDAD  \n",
      "0      ALTA  \n",
      "1      ALTA  \n",
      "2      ALTA  \n",
      "3      ALTA  \n",
      "4      ALTA  \n",
      "archivo :5,datos-abiertos-enero_2020.csv\n",
      "\n",
      "   NUMERO_INCIDENTE   FECHA_DESPACHO_518  CODIGO DE LOCALIDAD        LOCALIDAD  \\\n",
      "0  CRU-00000002-20  2020-01-01 00:13:40                   19   Ciudad Bolívar   \n",
      "1  CRU-00000002-20  2020-01-01 00:13:40                   19   Ciudad Bolívar   \n",
      "2  CRU-00000005-20  2020-01-01 00:15:14                   14     Los Mártires   \n",
      "3  CRU-00000024-20  2020-01-01 00:20:50                   11             Suba   \n",
      "4  CRU-00000036-20  2020-01-01 00:26:05                   10         Engativá   \n",
      "\n",
      "   EDAD    UNIDAD     GENERO    RED                          TIPO_INCIDENTE  \\\n",
      "0     0  SIN_DATO   SIN_DATO    Sur                                Heridos    \n",
      "1     0  SIN_DATO   SIN_DATO    Sur                                Heridos    \n",
      "2     0  SIN_DATO   SIN_DATO  Norte  Inconsciente/Paro Cardiorrespiratorio    \n",
      "3    58      Años  MASCULINO  Norte  Inconsciente/Paro Cardiorrespiratorio    \n",
      "4     0  SIN_DATO   SIN_DATO  Norte  Inconsciente/Paro Cardiorrespiratorio    \n",
      "\n",
      "   PRIORIDAD  ...  Unnamed: 27  Unnamed: 28  Unnamed: 29  Unnamed: 30  \\\n",
      "0          2  ...          NaN          NaN          NaN          NaN   \n",
      "1          2  ...          NaN          NaN          NaN          NaN   \n",
      "2          1  ...          NaN          NaN          NaN          NaN   \n",
      "3          1  ...          NaN          NaN          NaN          NaN   \n",
      "4          1  ...          NaN          NaN          NaN          NaN   \n",
      "\n",
      "   Unnamed: 31  Unnamed: 32  Unnamed: 33  Unnamed: 34  Unnamed: 35  \\\n",
      "0          NaN          NaN          NaN          NaN          NaN   \n",
      "1          NaN          NaN          NaN          NaN          NaN   \n",
      "2          NaN          NaN          NaN          NaN          NaN   \n",
      "3          NaN          NaN          NaN          NaN          NaN   \n",
      "4          NaN          NaN          NaN          NaN          NaN   \n",
      "\n",
      "   Unnamed: 36  \n",
      "0          NaN  \n",
      "1          NaN  \n",
      "2          NaN  \n",
      "3          NaN  \n",
      "4          NaN  \n",
      "\n",
      "[5 rows x 37 columns]\n",
      "archivo :6,llamadas-de-urgencias-y-emergencias.csv\n",
      "\n",
      "        FECHA_INCIDENTE FECHA_INICIO_DESPLAZAMIENTO_MOVIL  CODIGO LOCALIDAD  \\\n",
      "0  2019-01 01 00:00:18               2019-01 01 00:04:37                11   \n",
      "1  2019-01 01 00:00:58               2019-01 01 00:08:06                16   \n",
      "2  2019-01 01 00:04:31               2019-01 01 00:07:41                 3   \n",
      "3  2019-01 01 00:04:51               2019-01 01 00:07:46                10   \n",
      "4  2019-01 01 00:08:40               2019-01 01 00:10:40                 8   \n",
      "\n",
      "       LOCALIDAD      EDAD    UNIDAD    GENERO    RED  \\\n",
      "0           Suba  SIN_DATO  SIN_DATO  SIN_DATO  Norte   \n",
      "1  Puente Aranda  SIN_DATO  SIN_DATO  SIN_DATO    Sur   \n",
      "2       Santa Fe        51      Años  FEMENINO  Norte   \n",
      "3       Engativá  SIN_DATO  SIN_DATO  SIN_DATO  Norte   \n",
      "4        Kennedy  SIN_DATO  SIN_DATO  SIN_DATO    Sur   \n",
      "\n",
      "                              TIPO_INCIDENTE PRIORIDAD    MES  \\\n",
      "0                        Lesiones personales      ALTA  ENERO   \n",
      "1  Accidente de tránsito con heridos/Muertos      ALTA  ENERO   \n",
      "2                             Dolor torácico      ALTA  ENERO   \n",
      "3     Inconsciente/Paro Cardiorrespiratorio       ALTA  ENERO   \n",
      "4                         Herido con pólvora      ALTA  ENERO   \n",
      "\n",
      "  CLASIFICACION FINAL  \n",
      "0           Cancelado  \n",
      "1           Cancelado  \n",
      "2            Traslado  \n",
      "3        Falsa Alarma  \n",
      "4           Cancelado  \n"
     ]
    }
   ],
   "source": [
    "#una pequeña vista de los dataframes\n",
    "for i in range(len(dfArrayCalls)):\n",
    "    print(f'archivo :{i},{dataRaw[i]}\\n\\n',dfArrayCalls[i].head())"
   ]
  },
  {
   "cell_type": "markdown",
   "id": "b6a71db0-b85a-4e86-8130-254be242df37",
   "metadata": {},
   "source": [
    "De esta primera aproximacion de hallan las siguientes inconsistencias:\n",
    "\n",
    "+ aparicion de  una columna que asigna el numero de incidenteen dataframes:\n",
    "    + datos-abiertos-agosto-2019.csv\n",
    "    + datos-abiertos-septiembre-2019.csv\n",
    "    + datos-abiertos-noviembre_2019.csv\n",
    "    + datos_abiertos_cons_diciembre_2019.csv\n",
    "\n",
    "\n",
    "\n",
    "Sin embargo esta columna no esta definida en el ***Diccionario de datos***, debe llamarse FECHA_INCIDENTE. \n",
    "    \n",
    "+ Los datos en ***datos-abiertos-enero_2020.csv*** presenta varias colomnas Unnamed... con elementos vacios, estas tambien se eliminaran sin lios."
   ]
  },
  {
   "cell_type": "markdown",
   "id": "2a575969-6e56-4994-a9a1-b871f69715b5",
   "metadata": {},
   "source": [
    "Ahora elimimando las UNNAMED..."
   ]
  },
  {
   "cell_type": "code",
   "execution_count": 49,
   "id": "925533f8-419a-4f50-b791-13c3b782df47",
   "metadata": {},
   "outputs": [
    {
     "data": {
      "text/html": [
       "<div>\n",
       "<style scoped>\n",
       "    .dataframe tbody tr th:only-of-type {\n",
       "        vertical-align: middle;\n",
       "    }\n",
       "\n",
       "    .dataframe tbody tr th {\n",
       "        vertical-align: top;\n",
       "    }\n",
       "\n",
       "    .dataframe thead th {\n",
       "        text-align: right;\n",
       "    }\n",
       "</style>\n",
       "<table border=\"1\" class=\"dataframe\">\n",
       "  <thead>\n",
       "    <tr style=\"text-align: right;\">\n",
       "      <th></th>\n",
       "      <th>NUMERO_INCIDENTE</th>\n",
       "      <th>FECHA_DESPACHO_518</th>\n",
       "      <th>CODIGO DE LOCALIDAD</th>\n",
       "      <th>LOCALIDAD</th>\n",
       "      <th>EDAD</th>\n",
       "      <th>UNIDAD</th>\n",
       "      <th>GENERO</th>\n",
       "      <th>RED</th>\n",
       "      <th>TIPO_INCIDENTE</th>\n",
       "      <th>PRIORIDAD</th>\n",
       "    </tr>\n",
       "  </thead>\n",
       "  <tbody>\n",
       "    <tr>\n",
       "      <th>0</th>\n",
       "      <td>CRU-00000002-20</td>\n",
       "      <td>2020-01-01 00:13:40</td>\n",
       "      <td>19</td>\n",
       "      <td>Ciudad Bolívar</td>\n",
       "      <td>0</td>\n",
       "      <td>SIN_DATO</td>\n",
       "      <td>SIN_DATO</td>\n",
       "      <td>Sur</td>\n",
       "      <td>Heridos</td>\n",
       "      <td>2</td>\n",
       "    </tr>\n",
       "    <tr>\n",
       "      <th>1</th>\n",
       "      <td>CRU-00000002-20</td>\n",
       "      <td>2020-01-01 00:13:40</td>\n",
       "      <td>19</td>\n",
       "      <td>Ciudad Bolívar</td>\n",
       "      <td>0</td>\n",
       "      <td>SIN_DATO</td>\n",
       "      <td>SIN_DATO</td>\n",
       "      <td>Sur</td>\n",
       "      <td>Heridos</td>\n",
       "      <td>2</td>\n",
       "    </tr>\n",
       "    <tr>\n",
       "      <th>2</th>\n",
       "      <td>CRU-00000005-20</td>\n",
       "      <td>2020-01-01 00:15:14</td>\n",
       "      <td>14</td>\n",
       "      <td>Los Mártires</td>\n",
       "      <td>0</td>\n",
       "      <td>SIN_DATO</td>\n",
       "      <td>SIN_DATO</td>\n",
       "      <td>Norte</td>\n",
       "      <td>Inconsciente/Paro Cardiorrespiratorio</td>\n",
       "      <td>1</td>\n",
       "    </tr>\n",
       "    <tr>\n",
       "      <th>3</th>\n",
       "      <td>CRU-00000024-20</td>\n",
       "      <td>2020-01-01 00:20:50</td>\n",
       "      <td>11</td>\n",
       "      <td>Suba</td>\n",
       "      <td>58</td>\n",
       "      <td>Años</td>\n",
       "      <td>MASCULINO</td>\n",
       "      <td>Norte</td>\n",
       "      <td>Inconsciente/Paro Cardiorrespiratorio</td>\n",
       "      <td>1</td>\n",
       "    </tr>\n",
       "    <tr>\n",
       "      <th>4</th>\n",
       "      <td>CRU-00000036-20</td>\n",
       "      <td>2020-01-01 00:26:05</td>\n",
       "      <td>10</td>\n",
       "      <td>Engativá</td>\n",
       "      <td>0</td>\n",
       "      <td>SIN_DATO</td>\n",
       "      <td>SIN_DATO</td>\n",
       "      <td>Norte</td>\n",
       "      <td>Inconsciente/Paro Cardiorrespiratorio</td>\n",
       "      <td>1</td>\n",
       "    </tr>\n",
       "    <tr>\n",
       "      <th>...</th>\n",
       "      <td>...</td>\n",
       "      <td>...</td>\n",
       "      <td>...</td>\n",
       "      <td>...</td>\n",
       "      <td>...</td>\n",
       "      <td>...</td>\n",
       "      <td>...</td>\n",
       "      <td>...</td>\n",
       "      <td>...</td>\n",
       "      <td>...</td>\n",
       "    </tr>\n",
       "    <tr>\n",
       "      <th>15299</th>\n",
       "      <td>CRU-00038143-20</td>\n",
       "      <td>2020-02-01 00:03:14</td>\n",
       "      <td>18</td>\n",
       "      <td>Rafael Uribe Uribe</td>\n",
       "      <td>89</td>\n",
       "      <td>Años</td>\n",
       "      <td>FEMENINO</td>\n",
       "      <td>Sur</td>\n",
       "      <td>Síntomas gastrointestinales</td>\n",
       "      <td>3</td>\n",
       "    </tr>\n",
       "    <tr>\n",
       "      <th>15300</th>\n",
       "      <td>CRU-00038145-20</td>\n",
       "      <td>2020-02-01 00:03:58</td>\n",
       "      <td>1</td>\n",
       "      <td>Usaquén</td>\n",
       "      <td>0</td>\n",
       "      <td>SIN_DATO</td>\n",
       "      <td>SIN_DATO</td>\n",
       "      <td>Norte</td>\n",
       "      <td>Intento de suicidio</td>\n",
       "      <td>2</td>\n",
       "    </tr>\n",
       "    <tr>\n",
       "      <th>15301</th>\n",
       "      <td>CRU-00038109-20</td>\n",
       "      <td>2020-02-01 00:10:45</td>\n",
       "      <td>19</td>\n",
       "      <td>Ciudad Bolívar</td>\n",
       "      <td>46</td>\n",
       "      <td>Años</td>\n",
       "      <td>MASCULINO</td>\n",
       "      <td>Sur</td>\n",
       "      <td>Trastorno mental</td>\n",
       "      <td>3</td>\n",
       "    </tr>\n",
       "    <tr>\n",
       "      <th>15302</th>\n",
       "      <td>CRU-00037765-20</td>\n",
       "      <td>2020-02-01 00:55:15</td>\n",
       "      <td>19</td>\n",
       "      <td>Ciudad Bolívar</td>\n",
       "      <td>0</td>\n",
       "      <td>SIN_DATO</td>\n",
       "      <td>SIN_DATO</td>\n",
       "      <td>Sur</td>\n",
       "      <td>Trastorno mental</td>\n",
       "      <td>3</td>\n",
       "    </tr>\n",
       "    <tr>\n",
       "      <th>15303</th>\n",
       "      <td>CRU-00037858-20</td>\n",
       "      <td>2020-02-01 01:19:50</td>\n",
       "      <td>8</td>\n",
       "      <td>Kennedy</td>\n",
       "      <td>16</td>\n",
       "      <td>Años</td>\n",
       "      <td>MASCULINO</td>\n",
       "      <td>Sur</td>\n",
       "      <td>Trastorno mental</td>\n",
       "      <td>3</td>\n",
       "    </tr>\n",
       "  </tbody>\n",
       "</table>\n",
       "<p>15304 rows × 10 columns</p>\n",
       "</div>"
      ],
      "text/plain": [
       "      NUMERO_INCIDENTE   FECHA_DESPACHO_518  CODIGO DE LOCALIDAD  \\\n",
       "0      CRU-00000002-20  2020-01-01 00:13:40                   19   \n",
       "1      CRU-00000002-20  2020-01-01 00:13:40                   19   \n",
       "2      CRU-00000005-20  2020-01-01 00:15:14                   14   \n",
       "3      CRU-00000024-20  2020-01-01 00:20:50                   11   \n",
       "4      CRU-00000036-20  2020-01-01 00:26:05                   10   \n",
       "...                ...                  ...                  ...   \n",
       "15299  CRU-00038143-20  2020-02-01 00:03:14                   18   \n",
       "15300  CRU-00038145-20  2020-02-01 00:03:58                    1   \n",
       "15301  CRU-00038109-20  2020-02-01 00:10:45                   19   \n",
       "15302  CRU-00037765-20  2020-02-01 00:55:15                   19   \n",
       "15303  CRU-00037858-20  2020-02-01 01:19:50                    8   \n",
       "\n",
       "                LOCALIDAD  EDAD    UNIDAD     GENERO    RED  \\\n",
       "0          Ciudad Bolívar     0  SIN_DATO   SIN_DATO    Sur   \n",
       "1          Ciudad Bolívar     0  SIN_DATO   SIN_DATO    Sur   \n",
       "2            Los Mártires     0  SIN_DATO   SIN_DATO  Norte   \n",
       "3                    Suba    58      Años  MASCULINO  Norte   \n",
       "4                Engativá     0  SIN_DATO   SIN_DATO  Norte   \n",
       "...                   ...   ...       ...        ...    ...   \n",
       "15299  Rafael Uribe Uribe    89      Años   FEMENINO    Sur   \n",
       "15300             Usaquén     0  SIN_DATO   SIN_DATO  Norte   \n",
       "15301      Ciudad Bolívar    46      Años  MASCULINO    Sur   \n",
       "15302      Ciudad Bolívar     0  SIN_DATO   SIN_DATO    Sur   \n",
       "15303             Kennedy    16      Años  MASCULINO    Sur   \n",
       "\n",
       "                               TIPO_INCIDENTE  PRIORIDAD  \n",
       "0                                    Heridos           2  \n",
       "1                                    Heridos           2  \n",
       "2      Inconsciente/Paro Cardiorrespiratorio           1  \n",
       "3      Inconsciente/Paro Cardiorrespiratorio           1  \n",
       "4      Inconsciente/Paro Cardiorrespiratorio           1  \n",
       "...                                       ...        ...  \n",
       "15299             Síntomas gastrointestinales          3  \n",
       "15300                     Intento de suicidio          2  \n",
       "15301                        Trastorno mental          3  \n",
       "15302                        Trastorno mental          3  \n",
       "15303                        Trastorno mental          3  \n",
       "\n",
       "[15304 rows x 10 columns]"
      ]
     },
     "execution_count": 49,
     "metadata": {},
     "output_type": "execute_result"
    }
   ],
   "source": [
    "#generar arreglo de nombres de columnas 5\n",
    "unnamed=[*range(10,37,1)]\n",
    "for i in unnamed:\n",
    "    unnamed[i-10]='Unnamed: '+str(i)\n",
    "# limpiar columnas Unnamed...    \n",
    "for nombre in unnamed:\n",
    "    dfArrayCalls[5]=dfArrayCalls[5].drop([nombre], axis=1)\n",
    "# ver como queda el dataframe\n",
    "dfArrayCalls[5]"
   ]
  },
  {
   "cell_type": "code",
   "execution_count": 50,
   "id": "b12639f0-1de5-4e37-b29d-b8a1ef8e195d",
   "metadata": {
    "collapsed": true,
    "jupyter": {
     "outputs_hidden": true
    },
    "tags": []
   },
   "outputs": [
    {
     "name": "stdout",
     "output_type": "stream",
     "text": [
      "archivo :0,datos-abiertos-julio-2019.csv\n",
      "\n",
      "        FECHA_INCIDENTE FECHA_INICIO_DESPLAZAMIENTO-MOVIL  CODIGO DE LOCALIDAD  \\\n",
      "0  2019-07-01 00:05:08               2019-07-01 00:11:02                    8   \n",
      "1  2019-07-01 00:06:57               2019-07-01 00:12:56                   19   \n",
      "2  2019-07-01 00:09:26               2019-07-01 00:10:26                    6   \n",
      "3  2019-07-01 00:14:42               2019-07-01 00:15:47                    8   \n",
      "4  2019-07-01 00:17:13               2019-07-01 00:31:13                   10   \n",
      "\n",
      "         LOCALIDAD      EDAD    UNIDAD     GENERO    RED  \\\n",
      "0          Kennedy        39      Años   FEMENINO  Norte   \n",
      "1   Ciudad Bolivar        69      Años  MASCULINO    Sur   \n",
      "2       Tunjuelito        25      Años  MASCULINO    Sur   \n",
      "3          Kennedy        65      Años  MASCULINO    Sur   \n",
      "4         Engativa  SIN_DATO  SIN_DATO   SIN_DATO  Norte   \n",
      "\n",
      "                           TIPO_INCIDENTE PRIORIDAD    MES CLASIFICACION FINAL  \n",
      "0                 Dificultad Respiratoria      ALTA  JULIO            Traslado  \n",
      "1  Inconsciente/Paro Cardiorrespiratorio       ALTA  JULIO                 NaN  \n",
      "2                                 Enfermo     MEDIA  JULIO            Traslado  \n",
      "3                     Lesiones personales     MEDIA  JULIO            Traslado  \n",
      "4                                 Enfermo     MEDIA  JULIO           Cancelado  \n",
      "archivo :1,datos-abiertos-agosto-2019.csv\n",
      "\n",
      "    NUMERO_INCIDENTE FECHA_INICIO_DESPLAZAMIENTO-MOVIL  CODIGO DE LOCALIDAD  \\\n",
      "0         809224194                    1/08/2019 0:28                    1   \n",
      "1         809224194                    1/08/2019 0:28                    1   \n",
      "2         809240194                    1/08/2019 0:15                   11   \n",
      "3         809240194                    1/08/2019 0:15                   11   \n",
      "4         809240194                    1/08/2019 0:15                   11   \n",
      "\n",
      "  LOCALIDAD      EDAD    UNIDAD    GENERO    RED  \\\n",
      "0   Usaquen  SIN_DATO  SIN_DATO  SIN_DATO  Norte   \n",
      "1   Usaquen  SIN_DATO  SIN_DATO  SIN_DATO  Norte   \n",
      "2      Suba  SIN_DATO  SIN_DATO  SIN_DATO  Norte   \n",
      "3      Suba  SIN_DATO  SIN_DATO  SIN_DATO  Norte   \n",
      "4      Suba  SIN_DATO  SIN_DATO  SIN_DATO  Norte   \n",
      "\n",
      "                       TIPO DE INCIDIDENT PRIORIDAD     MES  \\\n",
      "0  Inconsciente/Paro Cardiorrespiratorio       ALTA  AGOSTO   \n",
      "1  Inconsciente/Paro Cardiorrespiratorio       ALTA  AGOSTO   \n",
      "2             Accidente cerebro vascular       BAJA  AGOSTO   \n",
      "3             Accidente cerebro vascular       BAJA  AGOSTO   \n",
      "4             Accidente cerebro vascular       BAJA  AGOSTO   \n",
      "\n",
      "  CLASIFICACION FINAL  \n",
      "0           Cancelado  \n",
      "1           Cancelado  \n",
      "2           Cancelado  \n",
      "3           Cancelado  \n",
      "4           Cancelado  \n",
      "archivo :2,datos-abiertos-septiembre-2019.csv\n",
      "\n",
      "    NUMERO_INCIDENTE FECHA_INICIO_DESPLAZAMIENTO-MOVIL  CODIGO DE LOCALIDAD  \\\n",
      "0         538006196               2019-09-01 00:05:32                   18   \n",
      "1         538024196               2019-09-01 00:12:07                   11   \n",
      "2         538031196               2019-09-01 00:05:39                    8   \n",
      "3         538084196               2019-09-01 00:13:39                   11   \n",
      "4         538123196               2019-09-01 00:20:31                    2   \n",
      "\n",
      "             LOCALIDAD  EDAD UNIDAD     GENERO    RED  \\\n",
      "0   Rafael Uribe Uribe    53   Años  MASCULINO    Sur   \n",
      "1                 Suba     0    NaN   SIN_DATO  Norte   \n",
      "2              Kennedy    26   Años  MASCULINO  Norte   \n",
      "3                 Suba    24   Años  MASCULINO  Norte   \n",
      "4            Chapinero     0    NaN   SIN_DATO  Norte   \n",
      "\n",
      "                              TIPO_INCIDENTE PRIORIDAD  \n",
      "0  ACCIDENTE DE TRÁNSITO CON HERIDOS/MUERTOS      ALTA  \n",
      "1  ACCIDENTE DE TRÁNSITO CON HERIDOS/MUERTOS      ALTA  \n",
      "2  ACCIDENTE DE TRÁNSITO CON HERIDOS/MUERTOS      ALTA  \n",
      "3  ACCIDENTE DE TRÁNSITO CON HERIDOS/MUERTOS      ALTA  \n",
      "4     INCONSCIENTE/PARO CARDIORRESPIRATORIO       ALTA  \n",
      "archivo :3,datos-abiertos-noviembre_2019.csv\n",
      "\n",
      "   NUMERO_INCIDENTE FECHA_INICIO_DESPLAZAMIENTO-MOVIL  CODIGO DE LOCALIDAD  \\\n",
      "0       1129118194               2019-11-01 00:01:16                   18   \n",
      "1       1129198194               2019-11-01 00:14:45                   11   \n",
      "2       1129241194               2019-11-01 00:16:15                    2   \n",
      "3       1129253194               2019-11-01 00:11:37                    7   \n",
      "4       1129258194               2019-11-01 00:16:28                   11   \n",
      "\n",
      "            LOCALIDAD  EDAD    UNIDAD     GENERO    RED  \\\n",
      "0  Rafael Uribe Uribe     0  SIN_DATO   SIN_DATO    Sur   \n",
      "1                Suba    47      Años  MASCULINO  Norte   \n",
      "2           Chapinero    33      Años  MASCULINO  Norte   \n",
      "3                Bosa     5      Años   FEMENINO    Sur   \n",
      "4                Suba    43      Años   FEMENINO  Norte   \n",
      "\n",
      "                              TIPO_INCIDENTE PRIORIDAD  \n",
      "0                     Lesiones personales         ALTA  \n",
      "1             Accidente cerebro vascular          ALTA  \n",
      "2  Inconsciente/Paro Cardiorrespiratorio          ALTA  \n",
      "3                 Dificultad Respiratoria         ALTA  \n",
      "4                          Dolor torácico         ALTA  \n",
      "archivo :4,datos_abiertos_cons_diciembre_2019.csv\n",
      "\n",
      "   NUMERO_INCIDENTE   FECHA_DESPACHO_518  CODIGO DE LOCALIDAD LOCALIDAD  EDAD  \\\n",
      "0       1178693196  2019-12-01 03:18:23                    8   Kennedy    14   \n",
      "1       1176480196  2019-12-01 00:05:59                    5      Usme     0   \n",
      "2       1180282196  2019-12-01 05:37:10                    7      Bosa    32   \n",
      "3       1176520196  2019-12-01 00:07:43                    3  Santa Fe     0   \n",
      "4       1180873196  2019-12-01 07:14:08                    5      Usme    53   \n",
      "\n",
      "     UNIDAD     GENERO      RED                          TIPO_INCIDENTE  \\\n",
      "0      Años  MASCULINO  Privada  Accidente Tránsito con Heridos/Muertos   \n",
      "1  SIN/DATO   SIN/DATO      Sur  Accidente Tránsito con Heridos/Muertos   \n",
      "2      Años  MASCULINO  Privada  Accidente Tránsito con Heridos/Muertos   \n",
      "3  SIN/DATO   SIN/DATO    Norte                     Lesiones Personales   \n",
      "4      Años   FEMENINO  Privada  Accidente Tránsito con Heridos/Muertos   \n",
      "\n",
      "  PRIORIDAD  \n",
      "0      ALTA  \n",
      "1      ALTA  \n",
      "2      ALTA  \n",
      "3      ALTA  \n",
      "4      ALTA  \n",
      "archivo :5,datos-abiertos-enero_2020.csv\n",
      "\n",
      "   NUMERO_INCIDENTE   FECHA_DESPACHO_518  CODIGO DE LOCALIDAD        LOCALIDAD  \\\n",
      "0  CRU-00000002-20  2020-01-01 00:13:40                   19   Ciudad Bolívar   \n",
      "1  CRU-00000002-20  2020-01-01 00:13:40                   19   Ciudad Bolívar   \n",
      "2  CRU-00000005-20  2020-01-01 00:15:14                   14     Los Mártires   \n",
      "3  CRU-00000024-20  2020-01-01 00:20:50                   11             Suba   \n",
      "4  CRU-00000036-20  2020-01-01 00:26:05                   10         Engativá   \n",
      "\n",
      "   EDAD    UNIDAD     GENERO    RED                          TIPO_INCIDENTE  \\\n",
      "0     0  SIN_DATO   SIN_DATO    Sur                                Heridos    \n",
      "1     0  SIN_DATO   SIN_DATO    Sur                                Heridos    \n",
      "2     0  SIN_DATO   SIN_DATO  Norte  Inconsciente/Paro Cardiorrespiratorio    \n",
      "3    58      Años  MASCULINO  Norte  Inconsciente/Paro Cardiorrespiratorio    \n",
      "4     0  SIN_DATO   SIN_DATO  Norte  Inconsciente/Paro Cardiorrespiratorio    \n",
      "\n",
      "   PRIORIDAD  \n",
      "0          2  \n",
      "1          2  \n",
      "2          1  \n",
      "3          1  \n",
      "4          1  \n",
      "archivo :6,llamadas-de-urgencias-y-emergencias.csv\n",
      "\n",
      "        FECHA_INCIDENTE FECHA_INICIO_DESPLAZAMIENTO_MOVIL  CODIGO LOCALIDAD  \\\n",
      "0  2019-01 01 00:00:18               2019-01 01 00:04:37                11   \n",
      "1  2019-01 01 00:00:58               2019-01 01 00:08:06                16   \n",
      "2  2019-01 01 00:04:31               2019-01 01 00:07:41                 3   \n",
      "3  2019-01 01 00:04:51               2019-01 01 00:07:46                10   \n",
      "4  2019-01 01 00:08:40               2019-01 01 00:10:40                 8   \n",
      "\n",
      "       LOCALIDAD      EDAD    UNIDAD    GENERO    RED  \\\n",
      "0           Suba  SIN_DATO  SIN_DATO  SIN_DATO  Norte   \n",
      "1  Puente Aranda  SIN_DATO  SIN_DATO  SIN_DATO    Sur   \n",
      "2       Santa Fe        51      Años  FEMENINO  Norte   \n",
      "3       Engativá  SIN_DATO  SIN_DATO  SIN_DATO  Norte   \n",
      "4        Kennedy  SIN_DATO  SIN_DATO  SIN_DATO    Sur   \n",
      "\n",
      "                              TIPO_INCIDENTE PRIORIDAD    MES  \\\n",
      "0                        Lesiones personales      ALTA  ENERO   \n",
      "1  Accidente de tránsito con heridos/Muertos      ALTA  ENERO   \n",
      "2                             Dolor torácico      ALTA  ENERO   \n",
      "3     Inconsciente/Paro Cardiorrespiratorio       ALTA  ENERO   \n",
      "4                         Herido con pólvora      ALTA  ENERO   \n",
      "\n",
      "  CLASIFICACION FINAL  \n",
      "0           Cancelado  \n",
      "1           Cancelado  \n",
      "2            Traslado  \n",
      "3        Falsa Alarma  \n",
      "4           Cancelado  \n"
     ]
    }
   ],
   "source": [
    "#una pequeña vista de los dataframes\n",
    "for i in range(len(dfArrayCalls)):\n",
    "    print(f'archivo :{i},{dataRaw[i]}\\n\\n',dfArrayCalls[i].head())"
   ]
  },
  {
   "cell_type": "markdown",
   "id": "5657b4a3-c305-40fc-9d72-7f6b0749d2ab",
   "metadata": {
    "tags": []
   },
   "source": [
    "Ahora definire una funcion que renombre los nombres de las columnas de acuerdo a nuestro arreglo tomado de ***Diccionario de datos***"
   ]
  },
  {
   "cell_type": "code",
   "execution_count": 56,
   "id": "fd8db606-bd3d-4f16-8b88-53cf3bbf4f92",
   "metadata": {
    "tags": []
   },
   "outputs": [],
   "source": [
    "# renombrar los titulos de las columnas de df\n",
    "def RenombrarColumns(index):\n",
    "    dfArrayCalls[index].rename(\n",
    "        columns = {\n",
    "            dfArrayCalls[index].keys()[0]           : columName[0],\n",
    "            dfArrayCalls[index].keys()[1]           : columName[1],\n",
    "            dfArrayCalls[index].keys()[2]           : columName[2],\n",
    "            dfArrayCalls[index].keys()[3]           : columName[3],\n",
    "            dfArrayCalls[index].keys()[4]           : columName[4],\n",
    "            dfArrayCalls[index].keys()[5]           : columName[5],\n",
    "            dfArrayCalls[index].keys()[6]           : columName[6],\n",
    "            dfArrayCalls[index].keys()[7]           : columName[7],\n",
    "            dfArrayCalls[index].keys()[8]           : columName[8],\n",
    "            dfArrayCalls[index].keys()[9]           : columName[9],\n",
    "            dfArrayCalls[index].keys()[10]          : columName[10],\n",
    "            dfArrayCalls[index].keys()[11]          : columName[11]\n",
    "        },\n",
    "        inplace=True #esto manipula en memoria cargada para muestra, no el datos en bucket\n",
    "    )\n",
    "#dfArrayCalls[0]"
   ]
  },
  {
   "cell_type": "markdown",
   "id": "13987e53-b8cd-4d45-8db0-0d73db3bb872",
   "metadata": {},
   "source": [
    "Esta fucion se aplicara a los dataframes, pero esta funcion requiere que tengan 12 columnas, razon por la cual se apliacara a los data frames [0,1,6], para las demas la funcion debe redefinirse para no aplicar el scrip a columnas inexistentes."
   ]
  },
  {
   "cell_type": "code",
   "execution_count": 57,
   "id": "5924f974-2fad-4e2b-ad79-addabe989ccc",
   "metadata": {},
   "outputs": [],
   "source": [
    "# renombrar los titulos de las columnas de df\n",
    "def RenombrarColumns2(index):\n",
    "    dfArrayCalls[index].rename(\n",
    "        columns = {\n",
    "            dfArrayCalls[index].keys()[0]           : columName[0],\n",
    "            dfArrayCalls[index].keys()[1]           : columName[1],\n",
    "            dfArrayCalls[index].keys()[2]           : columName[2],\n",
    "            dfArrayCalls[index].keys()[3]           : columName[3],\n",
    "            dfArrayCalls[index].keys()[4]           : columName[4],\n",
    "            dfArrayCalls[index].keys()[5]           : columName[5],\n",
    "            dfArrayCalls[index].keys()[6]           : columName[6],\n",
    "            dfArrayCalls[index].keys()[7]           : columName[7],\n",
    "            dfArrayCalls[index].keys()[8]           : columName[8],\n",
    "            dfArrayCalls[index].keys()[9]           : columName[9]\n",
    "        },\n",
    "        inplace=True #esto manipula en memoria cargada para muestra, no el datos en bucket\n",
    "    )\n",
    "#dfArrayCalls[0]"
   ]
  },
  {
   "cell_type": "code",
   "execution_count": 58,
   "id": "9db8f49d-95bf-4076-b65b-c7a72d82eefc",
   "metadata": {},
   "outputs": [],
   "source": [
    "aplicar=[0,1,6]\n",
    "for ind in aplicar:\n",
    "    RenombrarColumns(ind)"
   ]
  },
  {
   "cell_type": "code",
   "execution_count": 59,
   "id": "9cf34742-058d-441b-8e0c-580f300024b5",
   "metadata": {},
   "outputs": [],
   "source": [
    "aplicar=[2,3,4,5]\n",
    "for ind in aplicar:\n",
    "    RenombrarColumns2(ind)"
   ]
  },
  {
   "cell_type": "code",
   "execution_count": 60,
   "id": "7b28c827-ce83-408f-a436-d750647f0059",
   "metadata": {
    "collapsed": true,
    "jupyter": {
     "outputs_hidden": true
    },
    "tags": []
   },
   "outputs": [
    {
     "name": "stdout",
     "output_type": "stream",
     "text": [
      "archivo :0,datos-abiertos-julio-2019.csv\n",
      "\n",
      "        FECHA_INCIDENTE FECHA_INICIO_DESPLAZAMIENTO_MOVIL  CODIGO_LOCALIDAD  \\\n",
      "0  2019-07-01 00:05:08               2019-07-01 00:11:02                 8   \n",
      "1  2019-07-01 00:06:57               2019-07-01 00:12:56                19   \n",
      "2  2019-07-01 00:09:26               2019-07-01 00:10:26                 6   \n",
      "3  2019-07-01 00:14:42               2019-07-01 00:15:47                 8   \n",
      "4  2019-07-01 00:17:13               2019-07-01 00:31:13                10   \n",
      "\n",
      "         LOCALIDAD      EDAD    UNIDAD     GENERO    RED  \\\n",
      "0          Kennedy        39      Años   FEMENINO  Norte   \n",
      "1   Ciudad Bolivar        69      Años  MASCULINO    Sur   \n",
      "2       Tunjuelito        25      Años  MASCULINO    Sur   \n",
      "3          Kennedy        65      Años  MASCULINO    Sur   \n",
      "4         Engativa  SIN_DATO  SIN_DATO   SIN_DATO  Norte   \n",
      "\n",
      "                           TIPO_INCIDENTE PRIORIDAD    MES CLASIFICACION_FINAL  \n",
      "0                 Dificultad Respiratoria      ALTA  JULIO            Traslado  \n",
      "1  Inconsciente/Paro Cardiorrespiratorio       ALTA  JULIO                 NaN  \n",
      "2                                 Enfermo     MEDIA  JULIO            Traslado  \n",
      "3                     Lesiones personales     MEDIA  JULIO            Traslado  \n",
      "4                                 Enfermo     MEDIA  JULIO           Cancelado  \n",
      "archivo :1,datos-abiertos-agosto-2019.csv\n",
      "\n",
      "    FECHA_INCIDENTE FECHA_INICIO_DESPLAZAMIENTO_MOVIL  CODIGO_LOCALIDAD  \\\n",
      "0        809224194                    1/08/2019 0:28                 1   \n",
      "1        809224194                    1/08/2019 0:28                 1   \n",
      "2        809240194                    1/08/2019 0:15                11   \n",
      "3        809240194                    1/08/2019 0:15                11   \n",
      "4        809240194                    1/08/2019 0:15                11   \n",
      "\n",
      "  LOCALIDAD      EDAD    UNIDAD    GENERO    RED  \\\n",
      "0   Usaquen  SIN_DATO  SIN_DATO  SIN_DATO  Norte   \n",
      "1   Usaquen  SIN_DATO  SIN_DATO  SIN_DATO  Norte   \n",
      "2      Suba  SIN_DATO  SIN_DATO  SIN_DATO  Norte   \n",
      "3      Suba  SIN_DATO  SIN_DATO  SIN_DATO  Norte   \n",
      "4      Suba  SIN_DATO  SIN_DATO  SIN_DATO  Norte   \n",
      "\n",
      "                           TIPO_INCIDENTE PRIORIDAD     MES  \\\n",
      "0  Inconsciente/Paro Cardiorrespiratorio       ALTA  AGOSTO   \n",
      "1  Inconsciente/Paro Cardiorrespiratorio       ALTA  AGOSTO   \n",
      "2             Accidente cerebro vascular       BAJA  AGOSTO   \n",
      "3             Accidente cerebro vascular       BAJA  AGOSTO   \n",
      "4             Accidente cerebro vascular       BAJA  AGOSTO   \n",
      "\n",
      "  CLASIFICACION_FINAL  \n",
      "0           Cancelado  \n",
      "1           Cancelado  \n",
      "2           Cancelado  \n",
      "3           Cancelado  \n",
      "4           Cancelado  \n",
      "archivo :2,datos-abiertos-septiembre-2019.csv\n",
      "\n",
      "    FECHA_INCIDENTE FECHA_INICIO_DESPLAZAMIENTO_MOVIL  CODIGO_LOCALIDAD  \\\n",
      "0        538006196               2019-09-01 00:05:32                18   \n",
      "1        538024196               2019-09-01 00:12:07                11   \n",
      "2        538031196               2019-09-01 00:05:39                 8   \n",
      "3        538084196               2019-09-01 00:13:39                11   \n",
      "4        538123196               2019-09-01 00:20:31                 2   \n",
      "\n",
      "             LOCALIDAD  EDAD UNIDAD     GENERO    RED  \\\n",
      "0   Rafael Uribe Uribe    53   Años  MASCULINO    Sur   \n",
      "1                 Suba     0    NaN   SIN_DATO  Norte   \n",
      "2              Kennedy    26   Años  MASCULINO  Norte   \n",
      "3                 Suba    24   Años  MASCULINO  Norte   \n",
      "4            Chapinero     0    NaN   SIN_DATO  Norte   \n",
      "\n",
      "                              TIPO_INCIDENTE PRIORIDAD  \n",
      "0  ACCIDENTE DE TRÁNSITO CON HERIDOS/MUERTOS      ALTA  \n",
      "1  ACCIDENTE DE TRÁNSITO CON HERIDOS/MUERTOS      ALTA  \n",
      "2  ACCIDENTE DE TRÁNSITO CON HERIDOS/MUERTOS      ALTA  \n",
      "3  ACCIDENTE DE TRÁNSITO CON HERIDOS/MUERTOS      ALTA  \n",
      "4     INCONSCIENTE/PARO CARDIORRESPIRATORIO       ALTA  \n",
      "archivo :3,datos-abiertos-noviembre_2019.csv\n",
      "\n",
      "   FECHA_INCIDENTE FECHA_INICIO_DESPLAZAMIENTO_MOVIL  CODIGO_LOCALIDAD  \\\n",
      "0      1129118194               2019-11-01 00:01:16                18   \n",
      "1      1129198194               2019-11-01 00:14:45                11   \n",
      "2      1129241194               2019-11-01 00:16:15                 2   \n",
      "3      1129253194               2019-11-01 00:11:37                 7   \n",
      "4      1129258194               2019-11-01 00:16:28                11   \n",
      "\n",
      "            LOCALIDAD  EDAD    UNIDAD     GENERO    RED  \\\n",
      "0  Rafael Uribe Uribe     0  SIN_DATO   SIN_DATO    Sur   \n",
      "1                Suba    47      Años  MASCULINO  Norte   \n",
      "2           Chapinero    33      Años  MASCULINO  Norte   \n",
      "3                Bosa     5      Años   FEMENINO    Sur   \n",
      "4                Suba    43      Años   FEMENINO  Norte   \n",
      "\n",
      "                              TIPO_INCIDENTE PRIORIDAD  \n",
      "0                     Lesiones personales         ALTA  \n",
      "1             Accidente cerebro vascular          ALTA  \n",
      "2  Inconsciente/Paro Cardiorrespiratorio          ALTA  \n",
      "3                 Dificultad Respiratoria         ALTA  \n",
      "4                          Dolor torácico         ALTA  \n",
      "archivo :4,datos_abiertos_cons_diciembre_2019.csv\n",
      "\n",
      "   FECHA_INCIDENTE FECHA_INICIO_DESPLAZAMIENTO_MOVIL  CODIGO_LOCALIDAD  \\\n",
      "0      1178693196               2019-12-01 03:18:23                 8   \n",
      "1      1176480196               2019-12-01 00:05:59                 5   \n",
      "2      1180282196               2019-12-01 05:37:10                 7   \n",
      "3      1176520196               2019-12-01 00:07:43                 3   \n",
      "4      1180873196               2019-12-01 07:14:08                 5   \n",
      "\n",
      "  LOCALIDAD  EDAD    UNIDAD     GENERO      RED  \\\n",
      "0   Kennedy    14      Años  MASCULINO  Privada   \n",
      "1      Usme     0  SIN/DATO   SIN/DATO      Sur   \n",
      "2      Bosa    32      Años  MASCULINO  Privada   \n",
      "3  Santa Fe     0  SIN/DATO   SIN/DATO    Norte   \n",
      "4      Usme    53      Años   FEMENINO  Privada   \n",
      "\n",
      "                           TIPO_INCIDENTE PRIORIDAD  \n",
      "0  Accidente Tránsito con Heridos/Muertos      ALTA  \n",
      "1  Accidente Tránsito con Heridos/Muertos      ALTA  \n",
      "2  Accidente Tránsito con Heridos/Muertos      ALTA  \n",
      "3                     Lesiones Personales      ALTA  \n",
      "4  Accidente Tránsito con Heridos/Muertos      ALTA  \n",
      "archivo :5,datos-abiertos-enero_2020.csv\n",
      "\n",
      "    FECHA_INCIDENTE FECHA_INICIO_DESPLAZAMIENTO_MOVIL  CODIGO_LOCALIDAD  \\\n",
      "0  CRU-00000002-20               2020-01-01 00:13:40                19   \n",
      "1  CRU-00000002-20               2020-01-01 00:13:40                19   \n",
      "2  CRU-00000005-20               2020-01-01 00:15:14                14   \n",
      "3  CRU-00000024-20               2020-01-01 00:20:50                11   \n",
      "4  CRU-00000036-20               2020-01-01 00:26:05                10   \n",
      "\n",
      "         LOCALIDAD  EDAD    UNIDAD     GENERO    RED  \\\n",
      "0   Ciudad Bolívar     0  SIN_DATO   SIN_DATO    Sur   \n",
      "1   Ciudad Bolívar     0  SIN_DATO   SIN_DATO    Sur   \n",
      "2     Los Mártires     0  SIN_DATO   SIN_DATO  Norte   \n",
      "3             Suba    58      Años  MASCULINO  Norte   \n",
      "4         Engativá     0  SIN_DATO   SIN_DATO  Norte   \n",
      "\n",
      "                           TIPO_INCIDENTE  PRIORIDAD  \n",
      "0                                Heridos           2  \n",
      "1                                Heridos           2  \n",
      "2  Inconsciente/Paro Cardiorrespiratorio           1  \n",
      "3  Inconsciente/Paro Cardiorrespiratorio           1  \n",
      "4  Inconsciente/Paro Cardiorrespiratorio           1  \n",
      "archivo :6,llamadas-de-urgencias-y-emergencias.csv\n",
      "\n",
      "        FECHA_INCIDENTE FECHA_INICIO_DESPLAZAMIENTO_MOVIL  CODIGO_LOCALIDAD  \\\n",
      "0  2019-01 01 00:00:18               2019-01 01 00:04:37                11   \n",
      "1  2019-01 01 00:00:58               2019-01 01 00:08:06                16   \n",
      "2  2019-01 01 00:04:31               2019-01 01 00:07:41                 3   \n",
      "3  2019-01 01 00:04:51               2019-01 01 00:07:46                10   \n",
      "4  2019-01 01 00:08:40               2019-01 01 00:10:40                 8   \n",
      "\n",
      "       LOCALIDAD      EDAD    UNIDAD    GENERO    RED  \\\n",
      "0           Suba  SIN_DATO  SIN_DATO  SIN_DATO  Norte   \n",
      "1  Puente Aranda  SIN_DATO  SIN_DATO  SIN_DATO    Sur   \n",
      "2       Santa Fe        51      Años  FEMENINO  Norte   \n",
      "3       Engativá  SIN_DATO  SIN_DATO  SIN_DATO  Norte   \n",
      "4        Kennedy  SIN_DATO  SIN_DATO  SIN_DATO    Sur   \n",
      "\n",
      "                              TIPO_INCIDENTE PRIORIDAD    MES  \\\n",
      "0                        Lesiones personales      ALTA  ENERO   \n",
      "1  Accidente de tránsito con heridos/Muertos      ALTA  ENERO   \n",
      "2                             Dolor torácico      ALTA  ENERO   \n",
      "3     Inconsciente/Paro Cardiorrespiratorio       ALTA  ENERO   \n",
      "4                         Herido con pólvora      ALTA  ENERO   \n",
      "\n",
      "  CLASIFICACION_FINAL  \n",
      "0           Cancelado  \n",
      "1           Cancelado  \n",
      "2            Traslado  \n",
      "3        Falsa Alarma  \n",
      "4           Cancelado  \n"
     ]
    }
   ],
   "source": [
    "#una pequeña vista de los dataframes\n",
    "for i in range(len(dfArrayCalls)):\n",
    "    print(f'archivo :{i},{dataRaw[i]}\\n\\n',dfArrayCalls[i].head())"
   ]
  },
  {
   "cell_type": "markdown",
   "id": "bbf0e600-76c3-461b-80c2-ebfd627c1c41",
   "metadata": {},
   "source": [
    "para esta altura tenemos las dataframes sin columnas fuera del siccionario y con sus columnas con nombre unificados"
   ]
  },
  {
   "cell_type": "markdown",
   "id": "456f1e08-37a7-4709-81ab-bfac7b585adf",
   "metadata": {},
   "source": [
    "# Limpiezas de nombres Dataframe"
   ]
  },
  {
   "cell_type": "code",
   "execution_count": 61,
   "id": "0c7e3539-cddf-4aa5-8ad5-c47aa6b77564",
   "metadata": {
    "collapsed": true,
    "jupyter": {
     "outputs_hidden": true
    },
    "tags": []
   },
   "outputs": [
    {
     "data": {
      "text/plain": [
       " Kennedy               1593\n",
       " Suba                  1548\n",
       "Engativa               1521\n",
       " Bosa                  1122\n",
       " Ciudad Bolivar         994\n",
       "Usaquen                 786\n",
       "San Cristobal           776\n",
       " Rafael Uribe Uribe     741\n",
       "Fontibon                723\n",
       " Puente Aranda          690\n",
       "Usme                    636\n",
       "Chapinero               599\n",
       "Barrios Unidos          516\n",
       "Los Martires            516\n",
       "Santa Fe                489\n",
       "Teusaquillo             464\n",
       "Tunjuelito              462\n",
       " Antonio Nariño         292\n",
       " La Candelaria           91\n",
       " Sumapaz                  1\n",
       "Name: LOCALIDAD, dtype: int64"
      ]
     },
     "execution_count": 61,
     "metadata": {},
     "output_type": "execute_result"
    }
   ],
   "source": [
    "dfArrayCalls[0][columName[3]].value_counts(dropna=False)"
   ]
  },
  {
   "cell_type": "code",
   "execution_count": 62,
   "id": "1f779dc1-9e80-4014-94c3-3bcaac8af85b",
   "metadata": {
    "collapsed": true,
    "jupyter": {
     "outputs_hidden": true
    },
    "tags": []
   },
   "outputs": [
    {
     "data": {
      "text/plain": [
       "Kennedy               1593\n",
       "Suba                  1548\n",
       "Engativa              1521\n",
       "Bosa                  1122\n",
       "Ciudad Bolivar         994\n",
       "Usaquen                786\n",
       "San Cristobal          776\n",
       "Rafael Uribe Uribe     741\n",
       "Fontibon               723\n",
       "Puente Aranda          690\n",
       "Usme                   636\n",
       "Chapinero              599\n",
       "Barrios Unidos         516\n",
       "Los Martires           516\n",
       "Santa Fe               489\n",
       "Teusaquillo            464\n",
       "Tunjuelito             462\n",
       "Antonio Nariño         292\n",
       "La Candelaria           91\n",
       "Sumapaz                  1\n",
       "Name: LOCALIDAD, dtype: int64"
      ]
     },
     "execution_count": 62,
     "metadata": {},
     "output_type": "execute_result"
    }
   ],
   "source": [
    "#estripieando valores en columna 'LOCADIDAD' en todos los dataframes---pendiente volverlo funcion\n",
    "for ind in range(len(dfArrayCalls)):\n",
    "    dfArrayCalls[ind][columName[3]]=dfArrayCalls[ind][columName[3]].apply(lambda x: x.strip())\n",
    "dfArrayCalls[0][columName[3]].value_counts(dropna=False)"
   ]
  },
  {
   "cell_type": "code",
   "execution_count": 63,
   "id": "23bc37ad-66c3-4285-bf91-5653547a51b5",
   "metadata": {
    "collapsed": true,
    "jupyter": {
     "outputs_hidden": true
    },
    "tags": []
   },
   "outputs": [
    {
     "data": {
      "text/plain": [
       "SIN_DATO     6621\n",
       "MASCULINO    4190\n",
       "FEMENINO     3749\n",
       "Name: GENERO, dtype: int64"
      ]
     },
     "execution_count": 63,
     "metadata": {},
     "output_type": "execute_result"
    }
   ],
   "source": [
    "#estripeando valores en columan 'GENERO'\n",
    "for ind in range(len(dfArrayCalls)):\n",
    "    dfArrayCalls[ind][columName[6]]=dfArrayCalls[ind][columName[6]].apply(lambda x: x.strip())\n",
    "dfArrayCalls[0][columName[6]].value_counts(dropna=False)"
   ]
  },
  {
   "cell_type": "code",
   "execution_count": 64,
   "id": "51e48cca-b773-4046-9e2c-02bed0cca0a7",
   "metadata": {
    "collapsed": true,
    "jupyter": {
     "outputs_hidden": true
    },
    "tags": []
   },
   "outputs": [
    {
     "data": {
      "text/plain": [
       "Accidente de tránsito con heridos/Muertos    4261\n",
       "Inconsciente/Paro Cardiorrespiratorio        1623\n",
       "Dificultad Respiratoria                      1398\n",
       "Enfermo                                      1131\n",
       "Convulsiones                                 1011\n",
       "Heridos                                       747\n",
       "Trastorno mental                              709\n",
       "Dolor torácico                                611\n",
       "Lesiones personales                           547\n",
       "Intento de suicidio                           534\n",
       "Patología Gineco - obstétrica                 425\n",
       "Síntomas gastrointestinales                   344\n",
       "Accidente cerebro vascular                    323\n",
       "Caída                                         318\n",
       "Intoxicaciones                                141\n",
       "Ideas de suicidio                             111\n",
       "Violencia Sexual                               41\n",
       "Muerte Natural                                 39\n",
       "SIN_DATO                                       39\n",
       "Incendio estructural                           29\n",
       "Solicitud Apoyo / Desacato                     28\n",
       "Sangrado Vaginal                               21\n",
       "Accidente Tránsito Simple                      14\n",
       "Quemaduras                                     12\n",
       "Riña                                           11\n",
       "Amenaza de Ruina                               10\n",
       "Rescates                                        7\n",
       "Incendio Vehicular                              7\n",
       "Abrir domicilio                                 7\n",
       "Elemento caído y/o en peligro de caer.          7\n",
       "Electrocución / Rescate                         5\n",
       "Fuga de Gas Natural o Propano                   5\n",
       "MATPEL (Materiales peligrosos)                  5\n",
       "Animal Peligroso                                5\n",
       "Maltrato                                        5\n",
       "Explosión                                       4\n",
       "Disparos                                        4\n",
       "Muerto                                          3\n",
       "Persona Pidiendo Auxilio                        3\n",
       "Deslizamiento                                   3\n",
       "Embriaguez                                      3\n",
       "Persona tendida en la vía                       2\n",
       "Habitante de la Calle                           2\n",
       "Extraviados / Desaparecidos                     1\n",
       "Incidente rescate acuático                      1\n",
       "Venta o Consumo alcohol u otro en Menor         1\n",
       "Atraco / Hurto en Proces                        1\n",
       "Rescates Montaña                                1\n",
       "Name: TIPO_INCIDENTE, dtype: int64"
      ]
     },
     "execution_count": 64,
     "metadata": {},
     "output_type": "execute_result"
    }
   ],
   "source": [
    "# limpia y reemplaza en todos los df los valores de la columna 'TIPO_INCIDENTE'\n",
    "for ind in range(len(dfArrayCalls)):\n",
    "    dfArrayCalls[ind][columName[8]]=dfArrayCalls[ind][columName[8]].apply(lambda x: x.strip())\n",
    "dfArrayCalls[0][columName[8]].value_counts(dropna=False)"
   ]
  },
  {
   "cell_type": "markdown",
   "id": "cdeaa8c0-413e-4714-a8ad-caa85ead26f0",
   "metadata": {},
   "source": [
    "ahora para la columna 'CLASIFICACION_FINAL', solo se hara la limpieza para los data frames [0,1,6]"
   ]
  },
  {
   "cell_type": "code",
   "execution_count": 66,
   "id": "417e8d48-21af-4fb4-804f-0e7c833223b8",
   "metadata": {},
   "outputs": [],
   "source": [
    "aplicar=[0,1,6]\n",
    "for ind in aplicar:\n",
    "    dfArrayCalls[ind][columName[11]].fillna('SIN_DATO', inplace=True)\n",
    "    dfArrayCalls[ind][columName[11]] = dfArrayCalls[ind][columName[11]].apply(lambda x: x.strip())"
   ]
  },
  {
   "cell_type": "code",
   "execution_count": 78,
   "id": "7dc77321-40e3-4fa9-ab6a-2ed572da1594",
   "metadata": {
    "collapsed": true,
    "jupyter": {
     "outputs_hidden": true
    },
    "tags": []
   },
   "outputs": [
    {
     "ename": "ValueError",
     "evalue": "time data 2019-01 01 00:04:37 doesn't match format specified",
     "output_type": "error",
     "traceback": [
      "\u001b[0;31m---------------------------------------------------------------------------\u001b[0m",
      "\u001b[0;31mTypeError\u001b[0m                                 Traceback (most recent call last)",
      "\u001b[0;32m/opt/conda/lib/python3.7/site-packages/pandas/core/arrays/datetimes.py\u001b[0m in \u001b[0;36mobjects_to_datetime64ns\u001b[0;34m(data, dayfirst, yearfirst, utc, errors, require_iso8601, allow_object, allow_mixed)\u001b[0m\n\u001b[1;32m   2191\u001b[0m         \u001b[0;32mtry\u001b[0m\u001b[0;34m:\u001b[0m\u001b[0;34m\u001b[0m\u001b[0;34m\u001b[0m\u001b[0m\n\u001b[0;32m-> 2192\u001b[0;31m             \u001b[0mvalues\u001b[0m\u001b[0;34m,\u001b[0m \u001b[0mtz_parsed\u001b[0m \u001b[0;34m=\u001b[0m \u001b[0mconversion\u001b[0m\u001b[0;34m.\u001b[0m\u001b[0mdatetime_to_datetime64\u001b[0m\u001b[0;34m(\u001b[0m\u001b[0mdata\u001b[0m\u001b[0;34m.\u001b[0m\u001b[0mravel\u001b[0m\u001b[0;34m(\u001b[0m\u001b[0;34m\"K\"\u001b[0m\u001b[0;34m)\u001b[0m\u001b[0;34m)\u001b[0m\u001b[0;34m\u001b[0m\u001b[0;34m\u001b[0m\u001b[0m\n\u001b[0m\u001b[1;32m   2193\u001b[0m             \u001b[0;31m# If tzaware, these values represent unix timestamps, so we\u001b[0m\u001b[0;34m\u001b[0m\u001b[0;34m\u001b[0m\u001b[0;34m\u001b[0m\u001b[0m\n",
      "\u001b[0;32m/opt/conda/lib/python3.7/site-packages/pandas/_libs/tslibs/conversion.pyx\u001b[0m in \u001b[0;36mpandas._libs.tslibs.conversion.datetime_to_datetime64\u001b[0;34m()\u001b[0m\n",
      "\u001b[0;31mTypeError\u001b[0m: Unrecognized value type: <class 'str'>",
      "\nDuring handling of the above exception, another exception occurred:\n",
      "\u001b[0;31mValueError\u001b[0m                                Traceback (most recent call last)",
      "\u001b[0;32m/tmp/ipykernel_25613/1580509736.py\u001b[0m in \u001b[0;36m<module>\u001b[0;34m\u001b[0m\n\u001b[1;32m      1\u001b[0m \u001b[0mind\u001b[0m\u001b[0;34m=\u001b[0m\u001b[0;36m6\u001b[0m\u001b[0;34m\u001b[0m\u001b[0;34m\u001b[0m\u001b[0m\n\u001b[0;32m----> 2\u001b[0;31m \u001b[0mdfArrayCalls\u001b[0m\u001b[0;34m[\u001b[0m\u001b[0mind\u001b[0m\u001b[0;34m]\u001b[0m\u001b[0;34m[\u001b[0m\u001b[0mcolumName\u001b[0m\u001b[0;34m[\u001b[0m\u001b[0;36m1\u001b[0m\u001b[0;34m]\u001b[0m\u001b[0;34m]\u001b[0m\u001b[0;34m=\u001b[0m\u001b[0mpd\u001b[0m\u001b[0;34m.\u001b[0m\u001b[0mto_datetime\u001b[0m\u001b[0;34m(\u001b[0m\u001b[0mdfArrayCalls\u001b[0m\u001b[0;34m[\u001b[0m\u001b[0mind\u001b[0m\u001b[0;34m]\u001b[0m\u001b[0;34m[\u001b[0m\u001b[0mcolumName\u001b[0m\u001b[0;34m[\u001b[0m\u001b[0;36m1\u001b[0m\u001b[0;34m]\u001b[0m\u001b[0;34m]\u001b[0m\u001b[0;34m,\u001b[0m\u001b[0mformat\u001b[0m\u001b[0;34m=\u001b[0m\u001b[0;34m'%Y/%m/%d %H:%M'\u001b[0m\u001b[0;34m)\u001b[0m\u001b[0;34m\u001b[0m\u001b[0;34m\u001b[0m\u001b[0m\n\u001b[0m\u001b[1;32m      3\u001b[0m \u001b[0mdfArrayCalls\u001b[0m\u001b[0;34m[\u001b[0m\u001b[0mind\u001b[0m\u001b[0;34m]\u001b[0m\u001b[0;34m[\u001b[0m\u001b[0mcolumName\u001b[0m\u001b[0;34m[\u001b[0m\u001b[0;36m1\u001b[0m\u001b[0;34m]\u001b[0m\u001b[0;34m]\u001b[0m\u001b[0;34m.\u001b[0m\u001b[0mvalue_counts\u001b[0m\u001b[0;34m\u001b[0m\u001b[0;34m\u001b[0m\u001b[0m\n\u001b[1;32m      4\u001b[0m \u001b[0mdfArrayCalls\u001b[0m\u001b[0;34m[\u001b[0m\u001b[0mind\u001b[0m\u001b[0;34m]\u001b[0m\u001b[0;34m[\u001b[0m\u001b[0mcolumName\u001b[0m\u001b[0;34m[\u001b[0m\u001b[0;36m0\u001b[0m\u001b[0;34m]\u001b[0m\u001b[0;34m]\u001b[0m\u001b[0;34m=\u001b[0m\u001b[0mpd\u001b[0m\u001b[0;34m.\u001b[0m\u001b[0mto_datetime\u001b[0m\u001b[0;34m(\u001b[0m\u001b[0mdfArrayCalls\u001b[0m\u001b[0;34m[\u001b[0m\u001b[0mind\u001b[0m\u001b[0;34m]\u001b[0m\u001b[0;34m[\u001b[0m\u001b[0mcolumName\u001b[0m\u001b[0;34m[\u001b[0m\u001b[0;36m1\u001b[0m\u001b[0;34m]\u001b[0m\u001b[0;34m]\u001b[0m\u001b[0;34m,\u001b[0m\u001b[0mformat\u001b[0m\u001b[0;34m=\u001b[0m\u001b[0;34m'%Y/%m/%d %H:%M'\u001b[0m\u001b[0;34m)\u001b[0m\u001b[0;34m\u001b[0m\u001b[0;34m\u001b[0m\u001b[0m\n\u001b[1;32m      5\u001b[0m \u001b[0mdfArrayCalls\u001b[0m\u001b[0;34m[\u001b[0m\u001b[0mind\u001b[0m\u001b[0;34m]\u001b[0m\u001b[0;34m[\u001b[0m\u001b[0mcolumName\u001b[0m\u001b[0;34m[\u001b[0m\u001b[0;36m0\u001b[0m\u001b[0;34m]\u001b[0m\u001b[0;34m]\u001b[0m\u001b[0;34m.\u001b[0m\u001b[0mvalue_counts\u001b[0m\u001b[0;34m\u001b[0m\u001b[0;34m\u001b[0m\u001b[0m\n",
      "\u001b[0;32m/opt/conda/lib/python3.7/site-packages/pandas/core/tools/datetimes.py\u001b[0m in \u001b[0;36mto_datetime\u001b[0;34m(arg, errors, dayfirst, yearfirst, utc, format, exact, unit, infer_datetime_format, origin, cache)\u001b[0m\n\u001b[1;32m    885\u001b[0m             \u001b[0mresult\u001b[0m \u001b[0;34m=\u001b[0m \u001b[0marg\u001b[0m\u001b[0;34m.\u001b[0m\u001b[0mmap\u001b[0m\u001b[0;34m(\u001b[0m\u001b[0mcache_array\u001b[0m\u001b[0;34m)\u001b[0m\u001b[0;34m\u001b[0m\u001b[0;34m\u001b[0m\u001b[0m\n\u001b[1;32m    886\u001b[0m         \u001b[0;32melse\u001b[0m\u001b[0;34m:\u001b[0m\u001b[0;34m\u001b[0m\u001b[0;34m\u001b[0m\u001b[0m\n\u001b[0;32m--> 887\u001b[0;31m             \u001b[0mvalues\u001b[0m \u001b[0;34m=\u001b[0m \u001b[0mconvert_listlike\u001b[0m\u001b[0;34m(\u001b[0m\u001b[0marg\u001b[0m\u001b[0;34m.\u001b[0m\u001b[0m_values\u001b[0m\u001b[0;34m,\u001b[0m \u001b[0mformat\u001b[0m\u001b[0;34m)\u001b[0m\u001b[0;34m\u001b[0m\u001b[0;34m\u001b[0m\u001b[0m\n\u001b[0m\u001b[1;32m    888\u001b[0m             \u001b[0mresult\u001b[0m \u001b[0;34m=\u001b[0m \u001b[0marg\u001b[0m\u001b[0;34m.\u001b[0m\u001b[0m_constructor\u001b[0m\u001b[0;34m(\u001b[0m\u001b[0mvalues\u001b[0m\u001b[0;34m,\u001b[0m \u001b[0mindex\u001b[0m\u001b[0;34m=\u001b[0m\u001b[0marg\u001b[0m\u001b[0;34m.\u001b[0m\u001b[0mindex\u001b[0m\u001b[0;34m,\u001b[0m \u001b[0mname\u001b[0m\u001b[0;34m=\u001b[0m\u001b[0marg\u001b[0m\u001b[0;34m.\u001b[0m\u001b[0mname\u001b[0m\u001b[0;34m)\u001b[0m\u001b[0;34m\u001b[0m\u001b[0;34m\u001b[0m\u001b[0m\n\u001b[1;32m    889\u001b[0m     \u001b[0;32melif\u001b[0m \u001b[0misinstance\u001b[0m\u001b[0;34m(\u001b[0m\u001b[0marg\u001b[0m\u001b[0;34m,\u001b[0m \u001b[0;34m(\u001b[0m\u001b[0mABCDataFrame\u001b[0m\u001b[0;34m,\u001b[0m \u001b[0mabc\u001b[0m\u001b[0;34m.\u001b[0m\u001b[0mMutableMapping\u001b[0m\u001b[0;34m)\u001b[0m\u001b[0;34m)\u001b[0m\u001b[0;34m:\u001b[0m\u001b[0;34m\u001b[0m\u001b[0;34m\u001b[0m\u001b[0m\n",
      "\u001b[0;32m/opt/conda/lib/python3.7/site-packages/pandas/core/tools/datetimes.py\u001b[0m in \u001b[0;36m_convert_listlike_datetimes\u001b[0;34m(arg, format, name, tz, unit, errors, infer_datetime_format, dayfirst, yearfirst, exact)\u001b[0m\n\u001b[1;32m    406\u001b[0m         \u001b[0merrors\u001b[0m\u001b[0;34m=\u001b[0m\u001b[0merrors\u001b[0m\u001b[0;34m,\u001b[0m\u001b[0;34m\u001b[0m\u001b[0;34m\u001b[0m\u001b[0m\n\u001b[1;32m    407\u001b[0m         \u001b[0mrequire_iso8601\u001b[0m\u001b[0;34m=\u001b[0m\u001b[0mrequire_iso8601\u001b[0m\u001b[0;34m,\u001b[0m\u001b[0;34m\u001b[0m\u001b[0;34m\u001b[0m\u001b[0m\n\u001b[0;32m--> 408\u001b[0;31m         \u001b[0mallow_object\u001b[0m\u001b[0;34m=\u001b[0m\u001b[0;32mTrue\u001b[0m\u001b[0;34m,\u001b[0m\u001b[0;34m\u001b[0m\u001b[0;34m\u001b[0m\u001b[0m\n\u001b[0m\u001b[1;32m    409\u001b[0m     )\n\u001b[1;32m    410\u001b[0m \u001b[0;34m\u001b[0m\u001b[0m\n",
      "\u001b[0;32m/opt/conda/lib/python3.7/site-packages/pandas/core/arrays/datetimes.py\u001b[0m in \u001b[0;36mobjects_to_datetime64ns\u001b[0;34m(data, dayfirst, yearfirst, utc, errors, require_iso8601, allow_object, allow_mixed)\u001b[0m\n\u001b[1;32m   2196\u001b[0m             \u001b[0;32mreturn\u001b[0m \u001b[0mvalues\u001b[0m\u001b[0;34m.\u001b[0m\u001b[0mview\u001b[0m\u001b[0;34m(\u001b[0m\u001b[0;34m\"i8\"\u001b[0m\u001b[0;34m)\u001b[0m\u001b[0;34m,\u001b[0m \u001b[0mtz_parsed\u001b[0m\u001b[0;34m\u001b[0m\u001b[0;34m\u001b[0m\u001b[0m\n\u001b[1;32m   2197\u001b[0m         \u001b[0;32mexcept\u001b[0m \u001b[0;34m(\u001b[0m\u001b[0mValueError\u001b[0m\u001b[0;34m,\u001b[0m \u001b[0mTypeError\u001b[0m\u001b[0;34m)\u001b[0m\u001b[0;34m:\u001b[0m\u001b[0;34m\u001b[0m\u001b[0;34m\u001b[0m\u001b[0m\n\u001b[0;32m-> 2198\u001b[0;31m             \u001b[0;32mraise\u001b[0m \u001b[0merr\u001b[0m\u001b[0;34m\u001b[0m\u001b[0;34m\u001b[0m\u001b[0m\n\u001b[0m\u001b[1;32m   2199\u001b[0m \u001b[0;34m\u001b[0m\u001b[0m\n\u001b[1;32m   2200\u001b[0m     \u001b[0;32mif\u001b[0m \u001b[0mtz_parsed\u001b[0m \u001b[0;32mis\u001b[0m \u001b[0;32mnot\u001b[0m \u001b[0;32mNone\u001b[0m\u001b[0;34m:\u001b[0m\u001b[0;34m\u001b[0m\u001b[0;34m\u001b[0m\u001b[0m\n",
      "\u001b[0;32m/opt/conda/lib/python3.7/site-packages/pandas/core/arrays/datetimes.py\u001b[0m in \u001b[0;36mobjects_to_datetime64ns\u001b[0;34m(data, dayfirst, yearfirst, utc, errors, require_iso8601, allow_object, allow_mixed)\u001b[0m\n\u001b[1;32m   2185\u001b[0m             \u001b[0myearfirst\u001b[0m\u001b[0;34m=\u001b[0m\u001b[0myearfirst\u001b[0m\u001b[0;34m,\u001b[0m\u001b[0;34m\u001b[0m\u001b[0;34m\u001b[0m\u001b[0m\n\u001b[1;32m   2186\u001b[0m             \u001b[0mrequire_iso8601\u001b[0m\u001b[0;34m=\u001b[0m\u001b[0mrequire_iso8601\u001b[0m\u001b[0;34m,\u001b[0m\u001b[0;34m\u001b[0m\u001b[0;34m\u001b[0m\u001b[0m\n\u001b[0;32m-> 2187\u001b[0;31m             \u001b[0mallow_mixed\u001b[0m\u001b[0;34m=\u001b[0m\u001b[0mallow_mixed\u001b[0m\u001b[0;34m,\u001b[0m\u001b[0;34m\u001b[0m\u001b[0;34m\u001b[0m\u001b[0m\n\u001b[0m\u001b[1;32m   2188\u001b[0m         )\n\u001b[1;32m   2189\u001b[0m         \u001b[0mresult\u001b[0m \u001b[0;34m=\u001b[0m \u001b[0mresult\u001b[0m\u001b[0;34m.\u001b[0m\u001b[0mreshape\u001b[0m\u001b[0;34m(\u001b[0m\u001b[0mdata\u001b[0m\u001b[0;34m.\u001b[0m\u001b[0mshape\u001b[0m\u001b[0;34m,\u001b[0m \u001b[0morder\u001b[0m\u001b[0;34m=\u001b[0m\u001b[0morder\u001b[0m\u001b[0;34m)\u001b[0m\u001b[0;34m\u001b[0m\u001b[0;34m\u001b[0m\u001b[0m\n",
      "\u001b[0;32m/opt/conda/lib/python3.7/site-packages/pandas/_libs/tslib.pyx\u001b[0m in \u001b[0;36mpandas._libs.tslib.array_to_datetime\u001b[0;34m()\u001b[0m\n",
      "\u001b[0;32m/opt/conda/lib/python3.7/site-packages/pandas/_libs/tslib.pyx\u001b[0m in \u001b[0;36mpandas._libs.tslib.array_to_datetime\u001b[0;34m()\u001b[0m\n",
      "\u001b[0;31mValueError\u001b[0m: time data 2019-01 01 00:04:37 doesn't match format specified"
     ]
    }
   ],
   "source": [
    "ind=6\n",
    "dfArrayCalls[ind][columName[1]]=pd.to_datetime(dfArrayCalls[ind][columName[1]],format='%Y/%m/%d %H:%M')\n",
    "dfArrayCalls[ind][columName[1]].value_counts\n",
    "dfArrayCalls[ind][columName[0]]=pd.to_datetime(dfArrayCalls[ind][columName[1]],format='%Y/%m/%d %H:%M')\n",
    "dfArrayCalls[ind][columName[0]].value_counts\n",
    "\n"
   ]
  },
  {
   "cell_type": "markdown",
   "id": "7f9c5373-05d9-4f9f-b087-7f34b2b63997",
   "metadata": {},
   "source": [
    "# generar Informes"
   ]
  },
  {
   "cell_type": "code",
   "execution_count": 79,
   "id": "2bd25efd-a8cb-4806-a123-784a3b9f28c5",
   "metadata": {},
   "outputs": [],
   "source": [
    "nombreInformes=['profile_raw_data_julio-2019.html',\n",
    "         'profile_raw_data_agosto-2019.html',\n",
    "         'profile_raw_data_septiembre-2019.html',\n",
    "         'profile_raw_data_noviembre_2019.html',\n",
    "         'profile_raw_data_diciembre_2019.html',\n",
    "         'profile_raw_data_enero_2020.html',\n",
    "         'profile_raw_data_llamadas-de-urgencias-y-emergencias.html'\n",
    "     ]"
   ]
  },
  {
   "cell_type": "code",
   "execution_count": 80,
   "id": "5882614c-7875-4bad-854a-b2e59f938639",
   "metadata": {},
   "outputs": [
    {
     "data": {
      "application/vnd.jupyter.widget-view+json": {
       "model_id": "893210f2dee84a26a3cfb58144fdf0a4",
       "version_major": 2,
       "version_minor": 0
      },
      "text/plain": [
       "Summarize dataset:   0%|          | 0/25 [00:00<?, ?it/s]"
      ]
     },
     "metadata": {},
     "output_type": "display_data"
    },
    {
     "data": {
      "application/vnd.jupyter.widget-view+json": {
       "model_id": "910769e6c5d248f5aa1207e07ecd903e",
       "version_major": 2,
       "version_minor": 0
      },
      "text/plain": [
       "Generate report structure:   0%|          | 0/1 [00:00<?, ?it/s]"
      ]
     },
     "metadata": {},
     "output_type": "display_data"
    },
    {
     "data": {
      "application/vnd.jupyter.widget-view+json": {
       "model_id": "e0a59ea157d840dfa763c75dda1cb428",
       "version_major": 2,
       "version_minor": 0
      },
      "text/plain": [
       "Render HTML:   0%|          | 0/1 [00:00<?, ?it/s]"
      ]
     },
     "metadata": {},
     "output_type": "display_data"
    },
    {
     "data": {
      "application/vnd.jupyter.widget-view+json": {
       "model_id": "a0225bf94beb43d6aa039ecc1136036e",
       "version_major": 2,
       "version_minor": 0
      },
      "text/plain": [
       "Export report to file:   0%|          | 0/1 [00:00<?, ?it/s]"
      ]
     },
     "metadata": {},
     "output_type": "display_data"
    },
    {
     "data": {
      "application/vnd.jupyter.widget-view+json": {
       "model_id": "fd8cc29ce65245ef9990607a811d170e",
       "version_major": 2,
       "version_minor": 0
      },
      "text/plain": [
       "Summarize dataset:   0%|          | 0/25 [00:00<?, ?it/s]"
      ]
     },
     "metadata": {},
     "output_type": "display_data"
    },
    {
     "data": {
      "application/vnd.jupyter.widget-view+json": {
       "model_id": "f33dc3409e344359b71d1c4888c5686d",
       "version_major": 2,
       "version_minor": 0
      },
      "text/plain": [
       "Generate report structure:   0%|          | 0/1 [00:00<?, ?it/s]"
      ]
     },
     "metadata": {},
     "output_type": "display_data"
    },
    {
     "data": {
      "application/vnd.jupyter.widget-view+json": {
       "model_id": "665779b1ea4c4a42af03e1ab7c615c16",
       "version_major": 2,
       "version_minor": 0
      },
      "text/plain": [
       "Render HTML:   0%|          | 0/1 [00:00<?, ?it/s]"
      ]
     },
     "metadata": {},
     "output_type": "display_data"
    },
    {
     "data": {
      "application/vnd.jupyter.widget-view+json": {
       "model_id": "9b94d447e62547a68d8af0fcb46df9b7",
       "version_major": 2,
       "version_minor": 0
      },
      "text/plain": [
       "Export report to file:   0%|          | 0/1 [00:00<?, ?it/s]"
      ]
     },
     "metadata": {},
     "output_type": "display_data"
    },
    {
     "data": {
      "application/vnd.jupyter.widget-view+json": {
       "model_id": "37cad9d280184876bdbeeed15e3289d0",
       "version_major": 2,
       "version_minor": 0
      },
      "text/plain": [
       "Summarize dataset:   0%|          | 0/23 [00:00<?, ?it/s]"
      ]
     },
     "metadata": {},
     "output_type": "display_data"
    },
    {
     "data": {
      "application/vnd.jupyter.widget-view+json": {
       "model_id": "81d12468b8b64e80aaa1c2b9c2270a03",
       "version_major": 2,
       "version_minor": 0
      },
      "text/plain": [
       "Generate report structure:   0%|          | 0/1 [00:00<?, ?it/s]"
      ]
     },
     "metadata": {},
     "output_type": "display_data"
    },
    {
     "data": {
      "application/vnd.jupyter.widget-view+json": {
       "model_id": "a4be89803ad64eaa8c8ec467fe202c9b",
       "version_major": 2,
       "version_minor": 0
      },
      "text/plain": [
       "Render HTML:   0%|          | 0/1 [00:00<?, ?it/s]"
      ]
     },
     "metadata": {},
     "output_type": "display_data"
    },
    {
     "data": {
      "application/vnd.jupyter.widget-view+json": {
       "model_id": "a70d68c1600540d1a99a700ddbd3ec7c",
       "version_major": 2,
       "version_minor": 0
      },
      "text/plain": [
       "Export report to file:   0%|          | 0/1 [00:00<?, ?it/s]"
      ]
     },
     "metadata": {},
     "output_type": "display_data"
    },
    {
     "data": {
      "application/vnd.jupyter.widget-view+json": {
       "model_id": "c408b1145a724b46b6f65ab568ff4d2e",
       "version_major": 2,
       "version_minor": 0
      },
      "text/plain": [
       "Summarize dataset:   0%|          | 0/23 [00:00<?, ?it/s]"
      ]
     },
     "metadata": {},
     "output_type": "display_data"
    },
    {
     "data": {
      "application/vnd.jupyter.widget-view+json": {
       "model_id": "eb2795ffee5344febd36f18595a580ea",
       "version_major": 2,
       "version_minor": 0
      },
      "text/plain": [
       "Generate report structure:   0%|          | 0/1 [00:00<?, ?it/s]"
      ]
     },
     "metadata": {},
     "output_type": "display_data"
    },
    {
     "data": {
      "application/vnd.jupyter.widget-view+json": {
       "model_id": "260a9fdb1d6b4f0e97f887376e300065",
       "version_major": 2,
       "version_minor": 0
      },
      "text/plain": [
       "Render HTML:   0%|          | 0/1 [00:00<?, ?it/s]"
      ]
     },
     "metadata": {},
     "output_type": "display_data"
    },
    {
     "data": {
      "application/vnd.jupyter.widget-view+json": {
       "model_id": "1c4dab1a5f134058a98aade284013ae3",
       "version_major": 2,
       "version_minor": 0
      },
      "text/plain": [
       "Export report to file:   0%|          | 0/1 [00:00<?, ?it/s]"
      ]
     },
     "metadata": {},
     "output_type": "display_data"
    },
    {
     "data": {
      "application/vnd.jupyter.widget-view+json": {
       "model_id": "15c00516281e4410a84bbb5e5bf67ffc",
       "version_major": 2,
       "version_minor": 0
      },
      "text/plain": [
       "Summarize dataset:   0%|          | 0/23 [00:00<?, ?it/s]"
      ]
     },
     "metadata": {},
     "output_type": "display_data"
    },
    {
     "data": {
      "application/vnd.jupyter.widget-view+json": {
       "model_id": "c97f8f90fac34d1996d70d03898b9dee",
       "version_major": 2,
       "version_minor": 0
      },
      "text/plain": [
       "Generate report structure:   0%|          | 0/1 [00:00<?, ?it/s]"
      ]
     },
     "metadata": {},
     "output_type": "display_data"
    },
    {
     "data": {
      "application/vnd.jupyter.widget-view+json": {
       "model_id": "7816b18febec4fe996288ae7d3abd520",
       "version_major": 2,
       "version_minor": 0
      },
      "text/plain": [
       "Render HTML:   0%|          | 0/1 [00:00<?, ?it/s]"
      ]
     },
     "metadata": {},
     "output_type": "display_data"
    },
    {
     "data": {
      "application/vnd.jupyter.widget-view+json": {
       "model_id": "e870244be1494ae983621d85830a07a7",
       "version_major": 2,
       "version_minor": 0
      },
      "text/plain": [
       "Export report to file:   0%|          | 0/1 [00:00<?, ?it/s]"
      ]
     },
     "metadata": {},
     "output_type": "display_data"
    },
    {
     "data": {
      "application/vnd.jupyter.widget-view+json": {
       "model_id": "1bf262bec6e445168b3f95ac36084b0b",
       "version_major": 2,
       "version_minor": 0
      },
      "text/plain": [
       "Summarize dataset:   0%|          | 0/23 [00:00<?, ?it/s]"
      ]
     },
     "metadata": {},
     "output_type": "display_data"
    },
    {
     "data": {
      "application/vnd.jupyter.widget-view+json": {
       "model_id": "bbb021570f474eff9c73f02dd9aef1b9",
       "version_major": 2,
       "version_minor": 0
      },
      "text/plain": [
       "Generate report structure:   0%|          | 0/1 [00:00<?, ?it/s]"
      ]
     },
     "metadata": {},
     "output_type": "display_data"
    },
    {
     "data": {
      "application/vnd.jupyter.widget-view+json": {
       "model_id": "491967225da44944bc937d5e379e3465",
       "version_major": 2,
       "version_minor": 0
      },
      "text/plain": [
       "Render HTML:   0%|          | 0/1 [00:00<?, ?it/s]"
      ]
     },
     "metadata": {},
     "output_type": "display_data"
    },
    {
     "data": {
      "application/vnd.jupyter.widget-view+json": {
       "model_id": "59c54527645b439c9a60468e102e4ede",
       "version_major": 2,
       "version_minor": 0
      },
      "text/plain": [
       "Export report to file:   0%|          | 0/1 [00:00<?, ?it/s]"
      ]
     },
     "metadata": {},
     "output_type": "display_data"
    },
    {
     "data": {
      "application/vnd.jupyter.widget-view+json": {
       "model_id": "2c9ae01c90e84cc38462ed88875f1871",
       "version_major": 2,
       "version_minor": 0
      },
      "text/plain": [
       "Summarize dataset:   0%|          | 0/25 [00:00<?, ?it/s]"
      ]
     },
     "metadata": {},
     "output_type": "display_data"
    },
    {
     "data": {
      "application/vnd.jupyter.widget-view+json": {
       "model_id": "071664a85d4847f8a7c1c64e8824be68",
       "version_major": 2,
       "version_minor": 0
      },
      "text/plain": [
       "Generate report structure:   0%|          | 0/1 [00:00<?, ?it/s]"
      ]
     },
     "metadata": {},
     "output_type": "display_data"
    },
    {
     "data": {
      "application/vnd.jupyter.widget-view+json": {
       "model_id": "db4cc8a924844d9db5b1f9ee035e3c09",
       "version_major": 2,
       "version_minor": 0
      },
      "text/plain": [
       "Render HTML:   0%|          | 0/1 [00:00<?, ?it/s]"
      ]
     },
     "metadata": {},
     "output_type": "display_data"
    },
    {
     "data": {
      "application/vnd.jupyter.widget-view+json": {
       "model_id": "0db4d80ca468461a806807595e3e60f6",
       "version_major": 2,
       "version_minor": 0
      },
      "text/plain": [
       "Export report to file:   0%|          | 0/1 [00:00<?, ?it/s]"
      ]
     },
     "metadata": {},
     "output_type": "display_data"
    }
   ],
   "source": [
    "for ind in range(len(dfArrayCalls)):\n",
    "    profile = ProfileReport(df=dfArrayCalls[ind])\n",
    "    profile.to_file(output_file=project_dir + '/reports/'+nombreInformes[ind])"
   ]
  },
  {
   "cell_type": "markdown",
   "id": "c87201db-4b78-4ac1-9396-28c932f9d36f",
   "metadata": {},
   "source": [
    "Ahora unire las dataframes en uno solo"
   ]
  },
  {
   "cell_type": "code",
   "execution_count": 83,
   "id": "b07b6540-57e3-4119-b2df-fca92827c232",
   "metadata": {},
   "outputs": [],
   "source": [
    "dfCallsTotal= pd.concat(dfArrayCalls)"
   ]
  },
  {
   "cell_type": "code",
   "execution_count": 86,
   "id": "cbed09e8-8690-47f3-bc8a-d03b06401111",
   "metadata": {},
   "outputs": [
    {
     "data": {
      "text/html": [
       "<div>\n",
       "<style scoped>\n",
       "    .dataframe tbody tr th:only-of-type {\n",
       "        vertical-align: middle;\n",
       "    }\n",
       "\n",
       "    .dataframe tbody tr th {\n",
       "        vertical-align: top;\n",
       "    }\n",
       "\n",
       "    .dataframe thead th {\n",
       "        text-align: right;\n",
       "    }\n",
       "</style>\n",
       "<table border=\"1\" class=\"dataframe\">\n",
       "  <thead>\n",
       "    <tr style=\"text-align: right;\">\n",
       "      <th></th>\n",
       "      <th>FECHA_INCIDENTE</th>\n",
       "      <th>FECHA_INICIO_DESPLAZAMIENTO_MOVIL</th>\n",
       "      <th>CODIGO_LOCALIDAD</th>\n",
       "      <th>LOCALIDAD</th>\n",
       "      <th>EDAD</th>\n",
       "      <th>UNIDAD</th>\n",
       "      <th>GENERO</th>\n",
       "      <th>RED</th>\n",
       "      <th>TIPO_INCIDENTE</th>\n",
       "      <th>PRIORIDAD</th>\n",
       "      <th>MES</th>\n",
       "      <th>CLASIFICACION_FINAL</th>\n",
       "    </tr>\n",
       "  </thead>\n",
       "  <tbody>\n",
       "    <tr>\n",
       "      <th>0</th>\n",
       "      <td>2019-07-01 00:11:02</td>\n",
       "      <td>2019-07-01 00:11:02</td>\n",
       "      <td>8</td>\n",
       "      <td>Kennedy</td>\n",
       "      <td>39</td>\n",
       "      <td>Años</td>\n",
       "      <td>FEMENINO</td>\n",
       "      <td>Norte</td>\n",
       "      <td>Dificultad Respiratoria</td>\n",
       "      <td>ALTA</td>\n",
       "      <td>JULIO</td>\n",
       "      <td>Traslado</td>\n",
       "    </tr>\n",
       "    <tr>\n",
       "      <th>1</th>\n",
       "      <td>2019-07-01 00:12:56</td>\n",
       "      <td>2019-07-01 00:12:56</td>\n",
       "      <td>19</td>\n",
       "      <td>Ciudad Bolivar</td>\n",
       "      <td>69</td>\n",
       "      <td>Años</td>\n",
       "      <td>MASCULINO</td>\n",
       "      <td>Sur</td>\n",
       "      <td>Inconsciente/Paro Cardiorrespiratorio</td>\n",
       "      <td>ALTA</td>\n",
       "      <td>JULIO</td>\n",
       "      <td>SIN_DATO</td>\n",
       "    </tr>\n",
       "    <tr>\n",
       "      <th>2</th>\n",
       "      <td>2019-07-01 00:10:26</td>\n",
       "      <td>2019-07-01 00:10:26</td>\n",
       "      <td>6</td>\n",
       "      <td>Tunjuelito</td>\n",
       "      <td>25</td>\n",
       "      <td>Años</td>\n",
       "      <td>MASCULINO</td>\n",
       "      <td>Sur</td>\n",
       "      <td>Enfermo</td>\n",
       "      <td>MEDIA</td>\n",
       "      <td>JULIO</td>\n",
       "      <td>Traslado</td>\n",
       "    </tr>\n",
       "    <tr>\n",
       "      <th>3</th>\n",
       "      <td>2019-07-01 00:15:47</td>\n",
       "      <td>2019-07-01 00:15:47</td>\n",
       "      <td>8</td>\n",
       "      <td>Kennedy</td>\n",
       "      <td>65</td>\n",
       "      <td>Años</td>\n",
       "      <td>MASCULINO</td>\n",
       "      <td>Sur</td>\n",
       "      <td>Lesiones personales</td>\n",
       "      <td>MEDIA</td>\n",
       "      <td>JULIO</td>\n",
       "      <td>Traslado</td>\n",
       "    </tr>\n",
       "    <tr>\n",
       "      <th>4</th>\n",
       "      <td>2019-07-01 00:31:13</td>\n",
       "      <td>2019-07-01 00:31:13</td>\n",
       "      <td>10</td>\n",
       "      <td>Engativa</td>\n",
       "      <td>SIN_DATO</td>\n",
       "      <td>SIN_DATO</td>\n",
       "      <td>SIN_DATO</td>\n",
       "      <td>Norte</td>\n",
       "      <td>Enfermo</td>\n",
       "      <td>MEDIA</td>\n",
       "      <td>JULIO</td>\n",
       "      <td>Cancelado</td>\n",
       "    </tr>\n",
       "  </tbody>\n",
       "</table>\n",
       "</div>"
      ],
      "text/plain": [
       "       FECHA_INCIDENTE FECHA_INICIO_DESPLAZAMIENTO_MOVIL  CODIGO_LOCALIDAD  \\\n",
       "0  2019-07-01 00:11:02               2019-07-01 00:11:02                 8   \n",
       "1  2019-07-01 00:12:56               2019-07-01 00:12:56                19   \n",
       "2  2019-07-01 00:10:26               2019-07-01 00:10:26                 6   \n",
       "3  2019-07-01 00:15:47               2019-07-01 00:15:47                 8   \n",
       "4  2019-07-01 00:31:13               2019-07-01 00:31:13                10   \n",
       "\n",
       "        LOCALIDAD      EDAD    UNIDAD     GENERO    RED  \\\n",
       "0         Kennedy        39      Años   FEMENINO  Norte   \n",
       "1  Ciudad Bolivar        69      Años  MASCULINO    Sur   \n",
       "2      Tunjuelito        25      Años  MASCULINO    Sur   \n",
       "3         Kennedy        65      Años  MASCULINO    Sur   \n",
       "4        Engativa  SIN_DATO  SIN_DATO   SIN_DATO  Norte   \n",
       "\n",
       "                          TIPO_INCIDENTE PRIORIDAD    MES CLASIFICACION_FINAL  \n",
       "0                Dificultad Respiratoria      ALTA  JULIO            Traslado  \n",
       "1  Inconsciente/Paro Cardiorrespiratorio      ALTA  JULIO            SIN_DATO  \n",
       "2                                Enfermo     MEDIA  JULIO            Traslado  \n",
       "3                    Lesiones personales     MEDIA  JULIO            Traslado  \n",
       "4                                Enfermo     MEDIA  JULIO           Cancelado  "
      ]
     },
     "execution_count": 86,
     "metadata": {},
     "output_type": "execute_result"
    }
   ],
   "source": [
    "dfCallsTotal.head()"
   ]
  },
  {
   "cell_type": "code",
   "execution_count": 88,
   "id": "85176b44-0b0f-4a49-ace2-dd33eae04b7a",
   "metadata": {},
   "outputs": [
    {
     "data": {
      "application/vnd.jupyter.widget-view+json": {
       "model_id": "157cda5a4a1d41358c44198e49de8d33",
       "version_major": 2,
       "version_minor": 0
      },
      "text/plain": [
       "Summarize dataset:   0%|          | 0/26 [00:00<?, ?it/s]"
      ]
     },
     "metadata": {},
     "output_type": "display_data"
    },
    {
     "data": {
      "application/vnd.jupyter.widget-view+json": {
       "model_id": "208ca03ad6fa44039f01464cf03dce80",
       "version_major": 2,
       "version_minor": 0
      },
      "text/plain": [
       "Generate report structure:   0%|          | 0/1 [00:00<?, ?it/s]"
      ]
     },
     "metadata": {},
     "output_type": "display_data"
    },
    {
     "data": {
      "application/vnd.jupyter.widget-view+json": {
       "model_id": "90dfc71bcafe4908bca91e3cc2d3c530",
       "version_major": 2,
       "version_minor": 0
      },
      "text/plain": [
       "Render HTML:   0%|          | 0/1 [00:00<?, ?it/s]"
      ]
     },
     "metadata": {},
     "output_type": "display_data"
    },
    {
     "data": {
      "application/vnd.jupyter.widget-view+json": {
       "model_id": "5bfd2b66079442a8a351812afe1104b2",
       "version_major": 2,
       "version_minor": 0
      },
      "text/plain": [
       "Export report to file:   0%|          | 0/1 [00:00<?, ?it/s]"
      ]
     },
     "metadata": {},
     "output_type": "display_data"
    }
   ],
   "source": [
    " profile = ProfileReport(df=dfCallsTotal)\n",
    "profile.to_file(output_file=project_dir + '/reports/'+'profile_raw_data_total.html')"
   ]
  },
  {
   "cell_type": "code",
   "execution_count": null,
   "id": "4b03382e-9a1c-4532-a256-70a085241dac",
   "metadata": {
    "jupyter": {
     "source_hidden": true
    },
    "tags": []
   },
   "outputs": [],
   "source": [
    "raw_data = get_input_data(bucket=bucket,\n",
    "                          initial_directory=directory,\n",
    "                          filename = 'datos-abiertos-julio-2019.csv')\n",
    "print(raw_data.info())"
   ]
  },
  {
   "cell_type": "markdown",
   "id": "5eb9ef0e-e60c-49ce-94f7-6d3f18f71a62",
   "metadata": {
    "jupyter": {
     "source_hidden": true
    },
    "tags": []
   },
   "source": [
    "It seems that this file contains already the fields, but need to rename them"
   ]
  },
  {
   "cell_type": "markdown",
   "id": "9bbedf48-cbe2-41c5-bcd7-d99f3d3f4caf",
   "metadata": {
    "tags": []
   },
   "source": [
    "### Rename Columns"
   ]
  },
  {
   "cell_type": "code",
   "execution_count": null,
   "id": "4d354b06-a4ef-4a8e-81d5-2a1ba773e78f",
   "metadata": {
    "jupyter": {
     "source_hidden": true
    },
    "tags": []
   },
   "outputs": [],
   "source": [
    "# Don't let white spaces between headers to avoid errors during the pipeline\n",
    "# This is sometimes called a recipe for etl\n",
    "raw_data.rename(\n",
    "    columns = {\n",
    "        'FECHA_INICIO_DESPLAZAMIENTO-MOVIL' : 'FECHA_INICIO_DESPLAZAMIENTO_MOVIL',\n",
    "        'CODIGO DE LOCALIDAD'               : 'CODIGO_LOCALIDAD',\n",
    "        'CLASIFICACION FINAL'               : 'CLASIFICACION_FINAL'\n",
    "    },\n",
    "    inplace=True #esto manipula en memoria cargada para muestra, no el datos en bucket\n",
    ")\n",
    "raw_data.head()"
   ]
  },
  {
   "cell_type": "markdown",
   "id": "188353cb-3a29-4285-9e1d-5ca19ed9105c",
   "metadata": {},
   "source": [
    "### Check values per field\n",
    "--------\n",
    "1. LOCALIDAD\n",
    "2. GENERO"
   ]
  },
  {
   "cell_type": "code",
   "execution_count": null,
   "id": "c7e613bd-d1d0-49bd-b7a3-919e2ed04957",
   "metadata": {
    "jupyter": {
     "source_hidden": true
    },
    "tags": []
   },
   "outputs": [],
   "source": [
    "raw_data['LOCALIDAD'].value_counts(dropna=False) #dropna no muestra los nulos en True por defecto"
   ]
  },
  {
   "cell_type": "markdown",
   "id": "1af92623-c419-4db6-b0a2-5d0d0dc158d2",
   "metadata": {
    "jupyter": {
     "source_hidden": true
    },
    "tags": []
   },
   "source": [
    "It seems that in some fields exist a white space at the begining of the values, probably at the end too, lets clean them all"
   ]
  },
  {
   "cell_type": "code",
   "execution_count": null,
   "id": "aa8e1799-a9f9-479e-b93a-06c6c2c05fd0",
   "metadata": {
    "jupyter": {
     "source_hidden": true
    },
    "tags": []
   },
   "outputs": [],
   "source": [
    "# Let's use the function strip(), this property works for string objects in python that removes whitespaces\n",
    "raw_data['LOCALIDAD'].apply(\n",
    "    lambda x: x.strip()        # here we use a lambda function, exclusively for python. Is a one-line function\n",
    ").value_counts()"
   ]
  },
  {
   "cell_type": "code",
   "execution_count": null,
   "id": "ea1c48db-18e8-41a3-8377-1c41b2582423",
   "metadata": {
    "jupyter": {
     "source_hidden": true
    },
    "tags": []
   },
   "outputs": [],
   "source": [
    "raw_data['LOCALIDAD'] = raw_data['LOCALIDAD'].apply(lambda x: x.strip()) # we assign the output of the function apply to the same column"
   ]
  },
  {
   "cell_type": "code",
   "execution_count": null,
   "id": "56a2080d-11bd-4c4e-bf36-99b1ec4a3390",
   "metadata": {
    "jupyter": {
     "source_hidden": true
    },
    "tags": []
   },
   "outputs": [],
   "source": [
    "raw_data.head()"
   ]
  },
  {
   "cell_type": "code",
   "execution_count": null,
   "id": "440653d8-5eda-4138-8e1e-146724e4931a",
   "metadata": {
    "jupyter": {
     "source_hidden": true
    },
    "tags": []
   },
   "outputs": [],
   "source": [
    "col = 'GENERO'\n",
    "raw_data[col] = raw_data[col].apply(lambda x: x.strip())\n",
    "raw_data[col].value_counts(dropna=False)   # here we could apply the same technique as before to avoid errors"
   ]
  },
  {
   "cell_type": "code",
   "execution_count": null,
   "id": "2ce261b7-3ebb-45b5-8915-4b5aa1921d27",
   "metadata": {
    "jupyter": {
     "source_hidden": true
    },
    "tags": []
   },
   "outputs": [],
   "source": [
    "col = 'TIPO_INCIDENTE'\n",
    "raw_data[col] = raw_data[col].apply(lambda x: x.strip())\n",
    "raw_data[col].value_counts(dropna=False)"
   ]
  },
  {
   "cell_type": "code",
   "execution_count": null,
   "id": "b0b0ce51-ea1a-4bdb-8c12-d41f611bb276",
   "metadata": {
    "jupyter": {
     "source_hidden": true
    },
    "tags": []
   },
   "outputs": [],
   "source": [
    "col = 'CLASIFICACION_FINAL'\n",
    "#raw_data[col] = raw_data[col].apply(lambda x: x.strip())\n",
    "raw_data[col].value_counts(dropna=False)"
   ]
  },
  {
   "cell_type": "markdown",
   "id": "ed0d30da-1ead-4916-a018-16f3c969a569",
   "metadata": {},
   "source": [
    "Here this columns contains a null value, aka NaN (this is numeric value that is Null), lets replace them first\n",
    "* NaN --> SIN_DATO"
   ]
  },
  {
   "cell_type": "code",
   "execution_count": null,
   "id": "8510699c-d135-477d-bc61-2ba0017473da",
   "metadata": {
    "jupyter": {
     "source_hidden": true
    },
    "tags": []
   },
   "outputs": [],
   "source": [
    "raw_data[col].fillna('SIN_DATO').value_counts()"
   ]
  },
  {
   "cell_type": "code",
   "execution_count": null,
   "id": "046865ae-7421-4b6b-9bbb-89891cad72a0",
   "metadata": {
    "jupyter": {
     "source_hidden": true
    },
    "tags": []
   },
   "outputs": [],
   "source": [
    "col = 'CLASIFICACION_FINAL'\n",
    "raw_data[col].fillna('SIN_DATO', inplace=True)\n",
    "raw_data[col] = raw_data[col].apply(lambda x: x.strip())\n",
    "raw_data.head()"
   ]
  },
  {
   "cell_type": "markdown",
   "id": "e6f30471-1464-47a9-a444-970a302baea7",
   "metadata": {},
   "source": [
    "# Profile of the Data\n",
    "------\n",
    "first install pandas profiling, from a terminal\n",
    "\n",
    "````\n",
    "pip install pandas-profiling\n",
    "````"
   ]
  },
  {
   "cell_type": "code",
   "execution_count": null,
   "id": "66f66769-d164-42e4-bcfb-e43b7fef1859",
   "metadata": {},
   "outputs": [],
   "source": [
    "profile = ProfileReport(df=raw_data)\n",
    "profile.to_file(output_file=project_dir + '/reports/'+'profile_raw_data_julio_2019.html')"
   ]
  },
  {
   "cell_type": "markdown",
   "id": "a7a93408-dff3-402c-8324-2262c187a797",
   "metadata": {},
   "source": [
    "Form the initial report of the file we see that are duplicates rows in the table, we need to subtract them"
   ]
  },
  {
   "cell_type": "markdown",
   "id": "113216ea-7395-4cb0-8691-b9554ec270ab",
   "metadata": {},
   "source": [
    "### Remove duplicates"
   ]
  },
  {
   "cell_type": "code",
   "execution_count": null,
   "id": "67b41e99-6206-4a24-b838-b8f8e71ae17f",
   "metadata": {},
   "outputs": [],
   "source": [
    "print('Number of rows before cleaning:', raw_data.shape[0] )\n",
    "raw_data.drop_duplicates(inplace=True)\n",
    "print('Number of rows after cleaning:', raw_data.shape[0] )"
   ]
  },
  {
   "cell_type": "markdown",
   "id": "a89276dd-f903-4752-9f7f-15e360c7207f",
   "metadata": {},
   "source": [
    "### Save the final table\n",
    "use to_csv to save the table"
   ]
  },
  {
   "cell_type": "code",
   "execution_count": null,
   "id": "33a9d6aa-ed3d-465b-a920-404a17490f79",
   "metadata": {},
   "outputs": [],
   "source": [
    "# saving in a local directory\n",
    "raw_data.to_csv(project_dir + '/data/processed/' +'clean_llamadas_123_julio_2019.csv', encoding='latin1', sep=';', index=False)"
   ]
  },
  {
   "cell_type": "code",
   "execution_count": null,
   "id": "45a07cac-a200-4a9a-86dd-1d5a62ab5c4f",
   "metadata": {},
   "outputs": [],
   "source": [
    "raw_data"
   ]
  },
  {
   "cell_type": "code",
   "execution_count": null,
   "id": "75f4ace1-c2d9-423c-b8cc-2df1c788d261",
   "metadata": {},
   "outputs": [],
   "source": [
    "raw_data_agosto2019"
   ]
  },
  {
   "cell_type": "code",
   "execution_count": null,
   "id": "25748f6c-fa75-46d7-9fca-aabccf0e0d54",
   "metadata": {},
   "outputs": [],
   "source": [
    "data = pd.concat([raw_data,raw_data_agosto2019])\n",
    "data"
   ]
  },
  {
   "cell_type": "code",
   "execution_count": null,
   "id": "7cb857ee-f20a-4709-8cc5-ca1e80b06dcc",
   "metadata": {},
   "outputs": [],
   "source": [
    "pd.concat?"
   ]
  }
 ],
 "metadata": {
  "environment": {
   "kernel": "python3",
   "name": "common-cpu.m90",
   "type": "gcloud",
   "uri": "gcr.io/deeplearning-platform-release/base-cpu:m90"
  },
  "kernelspec": {
   "display_name": "Python 3",
   "language": "python",
   "name": "python3"
  },
  "language_info": {
   "codemirror_mode": {
    "name": "ipython",
    "version": 3
   },
   "file_extension": ".py",
   "mimetype": "text/x-python",
   "name": "python",
   "nbconvert_exporter": "python",
   "pygments_lexer": "ipython3",
   "version": "3.7.12"
  }
 },
 "nbformat": 4,
 "nbformat_minor": 5
}
