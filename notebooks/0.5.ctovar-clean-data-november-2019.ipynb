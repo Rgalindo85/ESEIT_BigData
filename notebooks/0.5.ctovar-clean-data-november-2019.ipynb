{
 "cells": [
  {
   "cell_type": "markdown",
   "id": "a7dac6ca-3d99-49ad-b3bd-76c1144c6939",
   "metadata": {},
   "source": [
    "# Read and clean a single file"
   ]
  },
  {
   "cell_type": "code",
   "execution_count": 1,
   "id": "19dc2eac-db51-40ad-9834-b50602429973",
   "metadata": {},
   "outputs": [],
   "source": [
    "import os\n",
    "import sys\n",
    "import logging\n",
    "import pandas as pd\n",
    "\n",
    "from pandas_profiling import ProfileReport\n",
    "\n",
    "\n",
    "project_dir = os.path.dirname(os.path.abspath('.')) # get the path of the project, if doesn't work use os.getcwd() instead and use rfind to find the project dir\n",
    "sys.path.append(os.path.join(project_dir, 'src', 'data'))\n",
    "\n",
    "from data_manipulator import get_input_data\n",
    "\n",
    "bucket = 'ctovar_espbigdata'\n",
    "directory = 'BigData'"
   ]
  },
  {
   "cell_type": "markdown",
   "id": "6531655d-2cc6-40bf-8f3d-af0e28004fe1",
   "metadata": {},
   "source": [
    "## Read Metadata\n",
    "-----\n",
    "General info for each relevant column"
   ]
  },
  {
   "cell_type": "code",
   "execution_count": 2,
   "id": "4e1ea718-96b7-4eaa-95e7-7d9f314b5b56",
   "metadata": {},
   "outputs": [
    {
     "data": {
      "text/html": [
       "<div>\n",
       "<style scoped>\n",
       "    .dataframe tbody tr th:only-of-type {\n",
       "        vertical-align: middle;\n",
       "    }\n",
       "\n",
       "    .dataframe tbody tr th {\n",
       "        vertical-align: top;\n",
       "    }\n",
       "\n",
       "    .dataframe thead th {\n",
       "        text-align: right;\n",
       "    }\n",
       "</style>\n",
       "<table border=\"1\" class=\"dataframe\">\n",
       "  <thead>\n",
       "    <tr style=\"text-align: right;\">\n",
       "      <th></th>\n",
       "      <th>NOMBRE</th>\n",
       "      <th>DESCRIPCION</th>\n",
       "    </tr>\n",
       "  </thead>\n",
       "  <tbody>\n",
       "    <tr>\n",
       "      <th>0</th>\n",
       "      <td>FECHA_INCIDENTE</td>\n",
       "      <td>Es la fecha el cual se registra la llamada del...</td>\n",
       "    </tr>\n",
       "    <tr>\n",
       "      <th>1</th>\n",
       "      <td>FECHA_INICIO_DESPLAZAMIENTO_MOVIL</td>\n",
       "      <td>Es la fecha el cual se inicia el desplazamient...</td>\n",
       "    </tr>\n",
       "    <tr>\n",
       "      <th>2</th>\n",
       "      <td>CODIGO LOCALIDAD</td>\n",
       "      <td>Es el código de las 20 localidades de la ciuda...</td>\n",
       "    </tr>\n",
       "    <tr>\n",
       "      <th>3</th>\n",
       "      <td>LOCALIDAD</td>\n",
       "      <td>Es la localidad donde sucede el incidente.</td>\n",
       "    </tr>\n",
       "    <tr>\n",
       "      <th>4</th>\n",
       "      <td>EDAD</td>\n",
       "      <td>La edad del paciente.</td>\n",
       "    </tr>\n",
       "    <tr>\n",
       "      <th>5</th>\n",
       "      <td>UNIDAD</td>\n",
       "      <td>La descripción de la edad si es en horas, días...</td>\n",
       "    </tr>\n",
       "    <tr>\n",
       "      <th>6</th>\n",
       "      <td>GENERO</td>\n",
       "      <td>Es la  distinción de genero del paciente</td>\n",
       "    </tr>\n",
       "    <tr>\n",
       "      <th>7</th>\n",
       "      <td>RED</td>\n",
       "      <td>Es la localización a nivel bogota de la red de...</td>\n",
       "    </tr>\n",
       "    <tr>\n",
       "      <th>8</th>\n",
       "      <td>TIPO_INCIDENTE</td>\n",
       "      <td>Es la descripción inicial que tipifica el cent...</td>\n",
       "    </tr>\n",
       "    <tr>\n",
       "      <th>9</th>\n",
       "      <td>PRIORIDAD</td>\n",
       "      <td>Es la tipificación según la prioridad del inci...</td>\n",
       "    </tr>\n",
       "    <tr>\n",
       "      <th>10</th>\n",
       "      <td>MES</td>\n",
       "      <td>Es el mes el cual ocurrió el incidente.</td>\n",
       "    </tr>\n",
       "    <tr>\n",
       "      <th>11</th>\n",
       "      <td>CLASIFICACION FINAL</td>\n",
       "      <td>Es la clasificación final que entrega el centr...</td>\n",
       "    </tr>\n",
       "  </tbody>\n",
       "</table>\n",
       "</div>"
      ],
      "text/plain": [
       "                               NOMBRE  \\\n",
       "0                     FECHA_INCIDENTE   \n",
       "1   FECHA_INICIO_DESPLAZAMIENTO_MOVIL   \n",
       "2                    CODIGO LOCALIDAD   \n",
       "3                           LOCALIDAD   \n",
       "4                                EDAD   \n",
       "5                              UNIDAD   \n",
       "6                              GENERO   \n",
       "7                                 RED   \n",
       "8                      TIPO_INCIDENTE   \n",
       "9                           PRIORIDAD   \n",
       "10                                MES   \n",
       "11                CLASIFICACION FINAL   \n",
       "\n",
       "                                          DESCRIPCION  \n",
       "0   Es la fecha el cual se registra la llamada del...  \n",
       "1   Es la fecha el cual se inicia el desplazamient...  \n",
       "2   Es el código de las 20 localidades de la ciuda...  \n",
       "3          Es la localidad donde sucede el incidente.  \n",
       "4                               La edad del paciente.  \n",
       "5   La descripción de la edad si es en horas, días...  \n",
       "6            Es la  distinción de genero del paciente  \n",
       "7   Es la localización a nivel bogota de la red de...  \n",
       "8   Es la descripción inicial que tipifica el cent...  \n",
       "9   Es la tipificación según la prioridad del inci...  \n",
       "10            Es el mes el cual ocurrió el incidente.  \n",
       "11  Es la clasificación final que entrega el centr...  "
      ]
     },
     "execution_count": 2,
     "metadata": {},
     "output_type": "execute_result"
    }
   ],
   "source": [
    "file = 'gs://{}/{}/data/metadatos-llamadas-urg-y-emer.csv'.format(bucket, directory)\n",
    "df_metadata = pd.read_csv(file, encoding='latin1', sep=';')\n",
    "df_metadata"
   ]
  },
  {
   "cell_type": "markdown",
   "id": "e9553498-4f18-4757-92f7-384a12ebcff2",
   "metadata": {},
   "source": [
    "The final data must contains this and only this columns with that specific headers in order to standarize the data, this is a type of data dictionary but it also must include the data types (**schema**) of each field (**column**)"
   ]
  },
  {
   "cell_type": "markdown",
   "id": "ca09f0ce-cd22-4aca-94f5-61f4264efde5",
   "metadata": {},
   "source": [
    "## Get raw data"
   ]
  },
  {
   "cell_type": "code",
   "execution_count": 3,
   "id": "5acab9d2-7df9-433f-880b-0e88e61f9a18",
   "metadata": {},
   "outputs": [
    {
     "data": {
      "text/plain": [
       "\u001b[0;31mSignature:\u001b[0m\n",
       "\u001b[0mget_input_data\u001b[0m\u001b[0;34m(\u001b[0m\u001b[0;34m\u001b[0m\n",
       "\u001b[0;34m\u001b[0m    \u001b[0mbucket\u001b[0m\u001b[0;34m=\u001b[0m\u001b[0;34m'esp-big-data'\u001b[0m\u001b[0;34m,\u001b[0m\u001b[0;34m\u001b[0m\n",
       "\u001b[0;34m\u001b[0m    \u001b[0minitial_directory\u001b[0m\u001b[0;34m=\u001b[0m\u001b[0;34m'BigData'\u001b[0m\u001b[0;34m,\u001b[0m\u001b[0;34m\u001b[0m\n",
       "\u001b[0;34m\u001b[0m    \u001b[0mfilename\u001b[0m\u001b[0;34m=\u001b[0m\u001b[0;34m'datos-abiertos-agosto-2019.csv'\u001b[0m\u001b[0;34m,\u001b[0m\u001b[0;34m\u001b[0m\n",
       "\u001b[0;34m\u001b[0m\u001b[0;34m)\u001b[0m\u001b[0;34m\u001b[0m\u001b[0;34m\u001b[0m\u001b[0m\n",
       "\u001b[0;31mDocstring:\u001b[0m\n",
       "Read a csv file in a bucket of GCS, the file must use latin1 encoding and the separator is a semicolon (;)\n",
       "\n",
       "Args:\n",
       "    bucket (str, optional): Name of the bucket. Defaults to 'esp-big-data'.\n",
       "    initial_directory (str, optional): project directory. Defaults to 'BigData'.\n",
       "    filename (str, optional):csv file to read. Defaults to 'datos-abiertos-agosto-2019.csv'.\n",
       "\n",
       "Returns:\n",
       "    pandas.dataframe: dataframe with the raw data\n",
       "\u001b[0;31mFile:\u001b[0m      ~/ESEIT_BigData/src/data/data_manipulator.py\n",
       "\u001b[0;31mType:\u001b[0m      function\n"
      ]
     },
     "metadata": {},
     "output_type": "display_data"
    }
   ],
   "source": [
    "get_input_data?"
   ]
  },
  {
   "cell_type": "code",
   "execution_count": 6,
   "id": "4b03382e-9a1c-4532-a256-70a085241dac",
   "metadata": {},
   "outputs": [
    {
     "name": "stdout",
     "output_type": "stream",
     "text": [
      "<class 'pandas.core.frame.DataFrame'>\n",
      "RangeIndex: 15926 entries, 0 to 15925\n",
      "Data columns (total 10 columns):\n",
      " #   Column                             Non-Null Count  Dtype \n",
      "---  ------                             --------------  ----- \n",
      " 0   NUMERO_INCIDENTE                   15926 non-null  object\n",
      " 1   FECHA_INICIO_DESPLAZAMIENTO-MOVIL  15926 non-null  object\n",
      " 2   CODIGO DE LOCALIDAD                15926 non-null  int64 \n",
      " 3   LOCALIDAD                          15926 non-null  object\n",
      " 4   EDAD                               15926 non-null  int64 \n",
      " 5   UNIDAD                             15926 non-null  object\n",
      " 6   GENERO                             15926 non-null  object\n",
      " 7   RED                                15926 non-null  object\n",
      " 8   TIPO_INCIDENTE                     15926 non-null  object\n",
      " 9   PRIORIDAD                          15926 non-null  object\n",
      "dtypes: int64(2), object(8)\n",
      "memory usage: 1.2+ MB\n",
      "None\n"
     ]
    }
   ],
   "source": [
    "raw_data = get_input_data(\n",
    "    bucket = bucket,\n",
    "    initial_directory = directory,\n",
    "    filename = 'datos-abiertos-noviembre_2019.csv'\n",
    ")\n",
    "print(raw_data.info())"
   ]
  },
  {
   "cell_type": "markdown",
   "id": "5eb9ef0e-e60c-49ce-94f7-6d3f18f71a62",
   "metadata": {},
   "source": [
    "It seems that this file contains already the fields, but need to rename them"
   ]
  },
  {
   "cell_type": "markdown",
   "id": "9bbedf48-cbe2-41c5-bcd7-d99f3d3f4caf",
   "metadata": {},
   "source": [
    "### Rename Columns"
   ]
  },
  {
   "cell_type": "code",
   "execution_count": 7,
   "id": "4d354b06-a4ef-4a8e-81d5-2a1ba773e78f",
   "metadata": {},
   "outputs": [
    {
     "data": {
      "text/html": [
       "<div>\n",
       "<style scoped>\n",
       "    .dataframe tbody tr th:only-of-type {\n",
       "        vertical-align: middle;\n",
       "    }\n",
       "\n",
       "    .dataframe tbody tr th {\n",
       "        vertical-align: top;\n",
       "    }\n",
       "\n",
       "    .dataframe thead th {\n",
       "        text-align: right;\n",
       "    }\n",
       "</style>\n",
       "<table border=\"1\" class=\"dataframe\">\n",
       "  <thead>\n",
       "    <tr style=\"text-align: right;\">\n",
       "      <th></th>\n",
       "      <th>NUMERO_INCIDENTE</th>\n",
       "      <th>FECHA_INICIO_DESPLAZAMIENTO_MOVIL</th>\n",
       "      <th>CODIGO_LOCALIDAD</th>\n",
       "      <th>LOCALIDAD</th>\n",
       "      <th>EDAD</th>\n",
       "      <th>UNIDAD</th>\n",
       "      <th>GENERO</th>\n",
       "      <th>RED</th>\n",
       "      <th>TIPO_INCIDENTE</th>\n",
       "      <th>PRIORIDAD</th>\n",
       "    </tr>\n",
       "  </thead>\n",
       "  <tbody>\n",
       "    <tr>\n",
       "      <th>0</th>\n",
       "      <td>1129118194</td>\n",
       "      <td>2019-11-01 00:01:16</td>\n",
       "      <td>18</td>\n",
       "      <td>Rafael Uribe Uribe</td>\n",
       "      <td>0</td>\n",
       "      <td>SIN_DATO</td>\n",
       "      <td>SIN_DATO</td>\n",
       "      <td>Sur</td>\n",
       "      <td>Lesiones personales</td>\n",
       "      <td>ALTA</td>\n",
       "    </tr>\n",
       "    <tr>\n",
       "      <th>1</th>\n",
       "      <td>1129198194</td>\n",
       "      <td>2019-11-01 00:14:45</td>\n",
       "      <td>11</td>\n",
       "      <td>Suba</td>\n",
       "      <td>47</td>\n",
       "      <td>Años</td>\n",
       "      <td>MASCULINO</td>\n",
       "      <td>Norte</td>\n",
       "      <td>Accidente cerebro vascular</td>\n",
       "      <td>ALTA</td>\n",
       "    </tr>\n",
       "    <tr>\n",
       "      <th>2</th>\n",
       "      <td>1129241194</td>\n",
       "      <td>2019-11-01 00:16:15</td>\n",
       "      <td>2</td>\n",
       "      <td>Chapinero</td>\n",
       "      <td>33</td>\n",
       "      <td>Años</td>\n",
       "      <td>MASCULINO</td>\n",
       "      <td>Norte</td>\n",
       "      <td>Inconsciente/Paro Cardiorrespiratorio</td>\n",
       "      <td>ALTA</td>\n",
       "    </tr>\n",
       "    <tr>\n",
       "      <th>3</th>\n",
       "      <td>1129253194</td>\n",
       "      <td>2019-11-01 00:11:37</td>\n",
       "      <td>7</td>\n",
       "      <td>Bosa</td>\n",
       "      <td>5</td>\n",
       "      <td>Años</td>\n",
       "      <td>FEMENINO</td>\n",
       "      <td>Sur</td>\n",
       "      <td>Dificultad Respiratoria</td>\n",
       "      <td>ALTA</td>\n",
       "    </tr>\n",
       "    <tr>\n",
       "      <th>4</th>\n",
       "      <td>1129258194</td>\n",
       "      <td>2019-11-01 00:16:28</td>\n",
       "      <td>11</td>\n",
       "      <td>Suba</td>\n",
       "      <td>43</td>\n",
       "      <td>Años</td>\n",
       "      <td>FEMENINO</td>\n",
       "      <td>Norte</td>\n",
       "      <td>Dolor torácico</td>\n",
       "      <td>ALTA</td>\n",
       "    </tr>\n",
       "  </tbody>\n",
       "</table>\n",
       "</div>"
      ],
      "text/plain": [
       "  NUMERO_INCIDENTE FECHA_INICIO_DESPLAZAMIENTO_MOVIL  CODIGO_LOCALIDAD  \\\n",
       "0       1129118194               2019-11-01 00:01:16                18   \n",
       "1       1129198194               2019-11-01 00:14:45                11   \n",
       "2       1129241194               2019-11-01 00:16:15                 2   \n",
       "3       1129253194               2019-11-01 00:11:37                 7   \n",
       "4       1129258194               2019-11-01 00:16:28                11   \n",
       "\n",
       "            LOCALIDAD  EDAD    UNIDAD     GENERO    RED  \\\n",
       "0  Rafael Uribe Uribe     0  SIN_DATO   SIN_DATO    Sur   \n",
       "1                Suba    47      Años  MASCULINO  Norte   \n",
       "2           Chapinero    33      Años  MASCULINO  Norte   \n",
       "3                Bosa     5      Años   FEMENINO    Sur   \n",
       "4                Suba    43      Años   FEMENINO  Norte   \n",
       "\n",
       "                              TIPO_INCIDENTE PRIORIDAD  \n",
       "0                     Lesiones personales         ALTA  \n",
       "1             Accidente cerebro vascular          ALTA  \n",
       "2  Inconsciente/Paro Cardiorrespiratorio          ALTA  \n",
       "3                 Dificultad Respiratoria         ALTA  \n",
       "4                          Dolor torácico         ALTA  "
      ]
     },
     "execution_count": 7,
     "metadata": {},
     "output_type": "execute_result"
    }
   ],
   "source": [
    "# Don't let white spaces between headers to avoid errors during the pipeline\n",
    "# This is sometimes called a recipe for etl\n",
    "raw_data.rename(\n",
    "    columns = {\n",
    "        'FECHA_INICIO_DESPLAZAMIENTO-MOVIL' : 'FECHA_INICIO_DESPLAZAMIENTO_MOVIL',\n",
    "        'CODIGO DE LOCALIDAD'               : 'CODIGO_LOCALIDAD',\n",
    "    },\n",
    "    inplace=True\n",
    ")\n",
    "raw_data.head()"
   ]
  },
  {
   "cell_type": "markdown",
   "id": "188353cb-3a29-4285-9e1d-5ca19ed9105c",
   "metadata": {},
   "source": [
    "### Check values per field\n",
    "--------\n",
    "1. LOCALIDAD\n",
    "2. GENERO"
   ]
  },
  {
   "cell_type": "code",
   "execution_count": 8,
   "id": "c7e613bd-d1d0-49bd-b7a3-919e2ed04957",
   "metadata": {},
   "outputs": [
    {
     "data": {
      "text/plain": [
       " Kennedy              2192\n",
       "Engativa              1571\n",
       "Suba                  1424\n",
       " Bosa                 1189\n",
       " Ciudad Bolivar       1123\n",
       " Puente Aranda         854\n",
       "Rafael Uribe Uribe     835\n",
       "Usaquen                808\n",
       "Fontibon               787\n",
       "San Cristobal          758\n",
       " Santa Fe              613\n",
       " Chapinero             577\n",
       " Usme                  577\n",
       "Los Martires           560\n",
       " Tunjuelito            551\n",
       " Teusaquillo           546\n",
       " Barrios Unidos        520\n",
       " Antonio Nariño        338\n",
       " La Candelaria         102\n",
       " Sumapaz                 1\n",
       "Name: LOCALIDAD, dtype: int64"
      ]
     },
     "execution_count": 8,
     "metadata": {},
     "output_type": "execute_result"
    }
   ],
   "source": [
    "raw_data['LOCALIDAD'].value_counts(dropna=False)"
   ]
  },
  {
   "cell_type": "markdown",
   "id": "1af92623-c419-4db6-b0a2-5d0d0dc158d2",
   "metadata": {},
   "source": [
    "It seems that in some fields exist a white space at the begining of the values, probably at the end too, lets clean them all"
   ]
  },
  {
   "cell_type": "code",
   "execution_count": 9,
   "id": "aa8e1799-a9f9-479e-b93a-06c6c2c05fd0",
   "metadata": {},
   "outputs": [
    {
     "data": {
      "text/plain": [
       "Kennedy               2192\n",
       "Engativa              1571\n",
       "Suba                  1424\n",
       "Bosa                  1189\n",
       "Ciudad Bolivar        1123\n",
       "Puente Aranda          854\n",
       "Rafael Uribe Uribe     835\n",
       "Usaquen                808\n",
       "Fontibon               787\n",
       "San Cristobal          758\n",
       "Santa Fe               613\n",
       "Chapinero              577\n",
       "Usme                   577\n",
       "Los Martires           560\n",
       "Tunjuelito             551\n",
       "Teusaquillo            546\n",
       "Barrios Unidos         520\n",
       "Antonio Nariño         338\n",
       "La Candelaria          102\n",
       "Sumapaz                  1\n",
       "Name: LOCALIDAD, dtype: int64"
      ]
     },
     "execution_count": 9,
     "metadata": {},
     "output_type": "execute_result"
    }
   ],
   "source": [
    "# Let's use the function strip(), this property works for string objects in python that removes whitespaces\n",
    "raw_data['LOCALIDAD'].apply(\n",
    "    lambda x: x.strip()        # here we use a lambda function, exclusively for python. Is a one-line function\n",
    ").value_counts()"
   ]
  },
  {
   "cell_type": "code",
   "execution_count": 10,
   "id": "ea1c48db-18e8-41a3-8377-1c41b2582423",
   "metadata": {},
   "outputs": [],
   "source": [
    "raw_data['LOCALIDAD'] = raw_data['LOCALIDAD'].apply(lambda x: x.strip()) # we assign the output of the function apply to the same column"
   ]
  },
  {
   "cell_type": "code",
   "execution_count": 11,
   "id": "56a2080d-11bd-4c4e-bf36-99b1ec4a3390",
   "metadata": {},
   "outputs": [
    {
     "data": {
      "text/html": [
       "<div>\n",
       "<style scoped>\n",
       "    .dataframe tbody tr th:only-of-type {\n",
       "        vertical-align: middle;\n",
       "    }\n",
       "\n",
       "    .dataframe tbody tr th {\n",
       "        vertical-align: top;\n",
       "    }\n",
       "\n",
       "    .dataframe thead th {\n",
       "        text-align: right;\n",
       "    }\n",
       "</style>\n",
       "<table border=\"1\" class=\"dataframe\">\n",
       "  <thead>\n",
       "    <tr style=\"text-align: right;\">\n",
       "      <th></th>\n",
       "      <th>NUMERO_INCIDENTE</th>\n",
       "      <th>FECHA_INICIO_DESPLAZAMIENTO_MOVIL</th>\n",
       "      <th>CODIGO_LOCALIDAD</th>\n",
       "      <th>LOCALIDAD</th>\n",
       "      <th>EDAD</th>\n",
       "      <th>UNIDAD</th>\n",
       "      <th>GENERO</th>\n",
       "      <th>RED</th>\n",
       "      <th>TIPO_INCIDENTE</th>\n",
       "      <th>PRIORIDAD</th>\n",
       "    </tr>\n",
       "  </thead>\n",
       "  <tbody>\n",
       "    <tr>\n",
       "      <th>0</th>\n",
       "      <td>1129118194</td>\n",
       "      <td>2019-11-01 00:01:16</td>\n",
       "      <td>18</td>\n",
       "      <td>Rafael Uribe Uribe</td>\n",
       "      <td>0</td>\n",
       "      <td>SIN_DATO</td>\n",
       "      <td>SIN_DATO</td>\n",
       "      <td>Sur</td>\n",
       "      <td>Lesiones personales</td>\n",
       "      <td>ALTA</td>\n",
       "    </tr>\n",
       "    <tr>\n",
       "      <th>1</th>\n",
       "      <td>1129198194</td>\n",
       "      <td>2019-11-01 00:14:45</td>\n",
       "      <td>11</td>\n",
       "      <td>Suba</td>\n",
       "      <td>47</td>\n",
       "      <td>Años</td>\n",
       "      <td>MASCULINO</td>\n",
       "      <td>Norte</td>\n",
       "      <td>Accidente cerebro vascular</td>\n",
       "      <td>ALTA</td>\n",
       "    </tr>\n",
       "    <tr>\n",
       "      <th>2</th>\n",
       "      <td>1129241194</td>\n",
       "      <td>2019-11-01 00:16:15</td>\n",
       "      <td>2</td>\n",
       "      <td>Chapinero</td>\n",
       "      <td>33</td>\n",
       "      <td>Años</td>\n",
       "      <td>MASCULINO</td>\n",
       "      <td>Norte</td>\n",
       "      <td>Inconsciente/Paro Cardiorrespiratorio</td>\n",
       "      <td>ALTA</td>\n",
       "    </tr>\n",
       "    <tr>\n",
       "      <th>3</th>\n",
       "      <td>1129253194</td>\n",
       "      <td>2019-11-01 00:11:37</td>\n",
       "      <td>7</td>\n",
       "      <td>Bosa</td>\n",
       "      <td>5</td>\n",
       "      <td>Años</td>\n",
       "      <td>FEMENINO</td>\n",
       "      <td>Sur</td>\n",
       "      <td>Dificultad Respiratoria</td>\n",
       "      <td>ALTA</td>\n",
       "    </tr>\n",
       "    <tr>\n",
       "      <th>4</th>\n",
       "      <td>1129258194</td>\n",
       "      <td>2019-11-01 00:16:28</td>\n",
       "      <td>11</td>\n",
       "      <td>Suba</td>\n",
       "      <td>43</td>\n",
       "      <td>Años</td>\n",
       "      <td>FEMENINO</td>\n",
       "      <td>Norte</td>\n",
       "      <td>Dolor torácico</td>\n",
       "      <td>ALTA</td>\n",
       "    </tr>\n",
       "  </tbody>\n",
       "</table>\n",
       "</div>"
      ],
      "text/plain": [
       "  NUMERO_INCIDENTE FECHA_INICIO_DESPLAZAMIENTO_MOVIL  CODIGO_LOCALIDAD  \\\n",
       "0       1129118194               2019-11-01 00:01:16                18   \n",
       "1       1129198194               2019-11-01 00:14:45                11   \n",
       "2       1129241194               2019-11-01 00:16:15                 2   \n",
       "3       1129253194               2019-11-01 00:11:37                 7   \n",
       "4       1129258194               2019-11-01 00:16:28                11   \n",
       "\n",
       "            LOCALIDAD  EDAD    UNIDAD     GENERO    RED  \\\n",
       "0  Rafael Uribe Uribe     0  SIN_DATO   SIN_DATO    Sur   \n",
       "1                Suba    47      Años  MASCULINO  Norte   \n",
       "2           Chapinero    33      Años  MASCULINO  Norte   \n",
       "3                Bosa     5      Años   FEMENINO    Sur   \n",
       "4                Suba    43      Años   FEMENINO  Norte   \n",
       "\n",
       "                              TIPO_INCIDENTE PRIORIDAD  \n",
       "0                     Lesiones personales         ALTA  \n",
       "1             Accidente cerebro vascular          ALTA  \n",
       "2  Inconsciente/Paro Cardiorrespiratorio          ALTA  \n",
       "3                 Dificultad Respiratoria         ALTA  \n",
       "4                          Dolor torácico         ALTA  "
      ]
     },
     "execution_count": 11,
     "metadata": {},
     "output_type": "execute_result"
    }
   ],
   "source": [
    "raw_data.head()"
   ]
  },
  {
   "cell_type": "code",
   "execution_count": 12,
   "id": "440653d8-5eda-4138-8e1e-146724e4931a",
   "metadata": {},
   "outputs": [
    {
     "data": {
      "text/plain": [
       "SIN_DATO     7011\n",
       "MASCULINO    4856\n",
       "FEMENINO     4059\n",
       "Name: GENERO, dtype: int64"
      ]
     },
     "execution_count": 12,
     "metadata": {},
     "output_type": "execute_result"
    }
   ],
   "source": [
    "col = 'GENERO'\n",
    "raw_data[col] = raw_data[col].apply(lambda x: x.strip())\n",
    "raw_data[col].value_counts(dropna=False)   # here we could apply the same technique as before to avoid errors"
   ]
  },
  {
   "cell_type": "code",
   "execution_count": 13,
   "id": "2ce261b7-3ebb-45b5-8915-4b5aa1921d27",
   "metadata": {},
   "outputs": [
    {
     "data": {
      "text/plain": [
       "Accidente de tránsito con heridos/Muertos    5577\n",
       "Inconsciente/Paro Cardiorrespiratorio        1587\n",
       "Dificultad Respiratoria                      1400\n",
       "Enfermo                                      1066\n",
       "Convulsiones                                  979\n",
       "Heridos                                       729\n",
       "Lesiones personales                           675\n",
       "Trastorno mental                              601\n",
       "Intento de suicidio                           600\n",
       "Dolor torácico                                577\n",
       "Patología Gineco - obstétrica                 373\n",
       "Síntomas gastrointestinales                   355\n",
       "Caída                                         346\n",
       "Accidente cerebro vascular                    318\n",
       "Intoxicaciones                                137\n",
       "SIN_DATO                                      122\n",
       "Ideas de suicidio                              90\n",
       "Solicitud Apoyo / Desacato                     83\n",
       "Incendio estructural                           48\n",
       "Muerte Natural                                 41\n",
       "Violencia Sexual                               24\n",
       "Quemaduras                                     21\n",
       "Sangrado Vaginal                               18\n",
       "Rescates                                       16\n",
       "MATPEL (Materiales peligrosos)                 15\n",
       "Incidente rescate acuático                     13\n",
       "Riña                                           13\n",
       "Electrocución / Rescate                         9\n",
       "Accidente Tránsito Simple                       9\n",
       "Incendio Vehicular                              8\n",
       "Elemento caído y/o en peligro de caer.          7\n",
       "Explosión                                       7\n",
       "Persona Pidiendo Auxilio                        7\n",
       "Fuga de Gas Natural o Propano                   6\n",
       "Manifestación / Motín                           6\n",
       "Atraco / Hurto en Proces                        6\n",
       "Abrir domicilio                                 6\n",
       "Animal Peligroso                                5\n",
       "Menor o persona Abandonada                      4\n",
       "Persona tendida en la vía                       4\n",
       "Muerto                                          4\n",
       "Disparos                                        4\n",
       "Embriaguez                                      3\n",
       "PSICOLOGIA                                      2\n",
       "Maltrato                                        2\n",
       "Verificar Situación                             1\n",
       "Delincuente capturado por civil                 1\n",
       "Deslizamiento                                   1\n",
       "Name: TIPO_INCIDENTE, dtype: int64"
      ]
     },
     "execution_count": 13,
     "metadata": {},
     "output_type": "execute_result"
    }
   ],
   "source": [
    "col = 'TIPO_INCIDENTE'\n",
    "raw_data[col] = raw_data[col].apply(lambda x: x.strip())\n",
    "raw_data[col].value_counts(dropna=False)"
   ]
  },
  {
   "cell_type": "code",
   "execution_count": 12,
   "id": "b0b0ce51-ea1a-4bdb-8c12-d41f611bb276",
   "metadata": {},
   "outputs": [
    {
     "data": {
      "text/plain": [
       "Traslado                       7311\n",
       "Cancelado                      4935\n",
       "Trasladado por Otro Recurso    1813\n",
       "Falsa Alarma                   1738\n",
       "Desistimiento                  1449\n",
       "No Amerita Traslado             452\n",
       "No Ubica                        235\n",
       "Fallecido                       205\n",
       "NaN                               3\n",
       "Name: CLASIFICACION_FINAL, dtype: int64"
      ]
     },
     "execution_count": 12,
     "metadata": {},
     "output_type": "execute_result"
    }
   ],
   "source": [
    "col = 'CLASIFICACION_FINAL'\n",
    "# raw_data[col] = raw_data[col].apply(lambda x: x.strip())\n",
    "raw_data[col].value_counts(dropna=False)"
   ]
  },
  {
   "cell_type": "markdown",
   "id": "ed0d30da-1ead-4916-a018-16f3c969a569",
   "metadata": {},
   "source": [
    "Here this columns contains a null value, aka NaN (this is numeric value that is Null), lets replace them first\n",
    "* NaN --> SIN_DATO"
   ]
  },
  {
   "cell_type": "code",
   "execution_count": 16,
   "id": "8510699c-d135-477d-bc61-2ba0017473da",
   "metadata": {},
   "outputs": [
    {
     "data": {
      "text/plain": [
       "Accidente de tránsito con heridos/Muertos    5577\n",
       "Inconsciente/Paro Cardiorrespiratorio        1587\n",
       "Dificultad Respiratoria                      1400\n",
       "Enfermo                                      1066\n",
       "Convulsiones                                  979\n",
       "Heridos                                       729\n",
       "Lesiones personales                           675\n",
       "Trastorno mental                              601\n",
       "Intento de suicidio                           600\n",
       "Dolor torácico                                577\n",
       "Patología Gineco - obstétrica                 373\n",
       "Síntomas gastrointestinales                   355\n",
       "Caída                                         346\n",
       "Accidente cerebro vascular                    318\n",
       "Intoxicaciones                                137\n",
       "SIN_DATO                                      122\n",
       "Ideas de suicidio                              90\n",
       "Solicitud Apoyo / Desacato                     83\n",
       "Incendio estructural                           48\n",
       "Muerte Natural                                 41\n",
       "Violencia Sexual                               24\n",
       "Quemaduras                                     21\n",
       "Sangrado Vaginal                               18\n",
       "Rescates                                       16\n",
       "MATPEL (Materiales peligrosos)                 15\n",
       "Incidente rescate acuático                     13\n",
       "Riña                                           13\n",
       "Electrocución / Rescate                         9\n",
       "Accidente Tránsito Simple                       9\n",
       "Incendio Vehicular                              8\n",
       "Elemento caído y/o en peligro de caer.          7\n",
       "Explosión                                       7\n",
       "Persona Pidiendo Auxilio                        7\n",
       "Fuga de Gas Natural o Propano                   6\n",
       "Manifestación / Motín                           6\n",
       "Atraco / Hurto en Proces                        6\n",
       "Abrir domicilio                                 6\n",
       "Animal Peligroso                                5\n",
       "Menor o persona Abandonada                      4\n",
       "Persona tendida en la vía                       4\n",
       "Muerto                                          4\n",
       "Disparos                                        4\n",
       "Embriaguez                                      3\n",
       "PSICOLOGIA                                      2\n",
       "Maltrato                                        2\n",
       "Verificar Situación                             1\n",
       "Delincuente capturado por civil                 1\n",
       "Deslizamiento                                   1\n",
       "Name: TIPO_INCIDENTE, dtype: int64"
      ]
     },
     "execution_count": 16,
     "metadata": {},
     "output_type": "execute_result"
    }
   ],
   "source": [
    "raw_data[col].fillna('SIN_DATO').value_counts()"
   ]
  },
  {
   "cell_type": "markdown",
   "id": "22b1062e-3915-4df7-92ca-1c403f61eaa0",
   "metadata": {},
   "source": [
    "# Convert to datetime data type columns must be\n",
    "________________________________________________"
   ]
  },
  {
   "cell_type": "code",
   "execution_count": 15,
   "id": "25220856-cb2a-4025-a913-8be20d281919",
   "metadata": {},
   "outputs": [
    {
     "name": "stdout",
     "output_type": "stream",
     "text": [
      "<class 'pandas.core.frame.DataFrame'>\n",
      "RangeIndex: 15926 entries, 0 to 15925\n",
      "Data columns (total 10 columns):\n",
      " #   Column                             Non-Null Count  Dtype         \n",
      "---  ------                             --------------  -----         \n",
      " 0   NUMERO_INCIDENTE                   15926 non-null  object        \n",
      " 1   FECHA_INICIO_DESPLAZAMIENTO_MOVIL  15926 non-null  datetime64[ns]\n",
      " 2   CODIGO_LOCALIDAD                   15926 non-null  int64         \n",
      " 3   LOCALIDAD                          15926 non-null  object        \n",
      " 4   EDAD                               15926 non-null  int64         \n",
      " 5   UNIDAD                             15926 non-null  object        \n",
      " 6   GENERO                             15926 non-null  object        \n",
      " 7   RED                                15926 non-null  object        \n",
      " 8   TIPO_INCIDENTE                     15926 non-null  object        \n",
      " 9   PRIORIDAD                          15926 non-null  object        \n",
      "dtypes: datetime64[ns](1), int64(2), object(7)\n",
      "memory usage: 1.2+ MB\n"
     ]
    }
   ],
   "source": [
    "raw_data[\"FECHA_INICIO_DESPLAZAMIENTO_MOVIL\"]= pd.to_datetime(raw_data[\"FECHA_INICIO_DESPLAZAMIENTO_MOVIL\"])\n",
    "raw_data.info()\n",
    "\n"
   ]
  },
  {
   "cell_type": "markdown",
   "id": "e6f30471-1464-47a9-a444-970a302baea7",
   "metadata": {
    "tags": []
   },
   "source": [
    "# Profile of the Data\n",
    "------\n",
    "first install pandas profiling, from a terminal\n",
    "\n",
    "````\n",
    "pip install pandas-profiling\n",
    "````"
   ]
  },
  {
   "cell_type": "code",
   "execution_count": 17,
   "id": "66f66769-d164-42e4-bcfb-e43b7fef1859",
   "metadata": {},
   "outputs": [
    {
     "data": {
      "application/vnd.jupyter.widget-view+json": {
       "model_id": "2c77db146c3b4bce9d26419af1ed2288",
       "version_major": 2,
       "version_minor": 0
      },
      "text/plain": [
       "Summarize dataset:   0%|          | 0/23 [00:00<?, ?it/s]"
      ]
     },
     "metadata": {},
     "output_type": "display_data"
    },
    {
     "data": {
      "application/vnd.jupyter.widget-view+json": {
       "model_id": "6983fbcdedfb4be5a4200a307a084ac6",
       "version_major": 2,
       "version_minor": 0
      },
      "text/plain": [
       "Generate report structure:   0%|          | 0/1 [00:00<?, ?it/s]"
      ]
     },
     "metadata": {},
     "output_type": "display_data"
    },
    {
     "data": {
      "application/vnd.jupyter.widget-view+json": {
       "model_id": "f608bb4e19ba4c6ca855f59be3a43b24",
       "version_major": 2,
       "version_minor": 0
      },
      "text/plain": [
       "Render HTML:   0%|          | 0/1 [00:00<?, ?it/s]"
      ]
     },
     "metadata": {},
     "output_type": "display_data"
    },
    {
     "data": {
      "application/vnd.jupyter.widget-view+json": {
       "model_id": "69d60b4dcf3d4dfa984dc9d4c7e0c49a",
       "version_major": 2,
       "version_minor": 0
      },
      "text/plain": [
       "Export report to file:   0%|          | 0/1 [00:00<?, ?it/s]"
      ]
     },
     "metadata": {},
     "output_type": "display_data"
    }
   ],
   "source": [
    "profile = ProfileReport(df=raw_data)\n",
    "profile.to_file(output_file=project_dir + '/reports/'+'profile_raw_data_noviembre_2019.html')"
   ]
  },
  {
   "cell_type": "markdown",
   "id": "a7a93408-dff3-402c-8324-2262c187a797",
   "metadata": {},
   "source": [
    "Form the initial report of the file we see that are duplicates rows in the table, we need to subtract them"
   ]
  },
  {
   "cell_type": "markdown",
   "id": "113216ea-7395-4cb0-8691-b9554ec270ab",
   "metadata": {},
   "source": [
    "### Remove duplicates"
   ]
  },
  {
   "cell_type": "code",
   "execution_count": 18,
   "id": "67b41e99-6206-4a24-b838-b8f8e71ae17f",
   "metadata": {},
   "outputs": [
    {
     "name": "stdout",
     "output_type": "stream",
     "text": [
      "Number of rows before cleaning: 15926\n",
      "Number of rows after cleaning: 15886\n"
     ]
    }
   ],
   "source": [
    "print('Number of rows before cleaning:', raw_data.shape[0] )\n",
    "raw_data.drop_duplicates(inplace=True)\n",
    "print('Number of rows after cleaning:', raw_data.shape[0] )"
   ]
  },
  {
   "cell_type": "markdown",
   "id": "a89276dd-f903-4752-9f7f-15e360c7207f",
   "metadata": {},
   "source": [
    "### Save the final table\n",
    "use to_csv to save the table"
   ]
  },
  {
   "cell_type": "code",
   "execution_count": 19,
   "id": "33a9d6aa-ed3d-465b-a920-404a17490f79",
   "metadata": {},
   "outputs": [],
   "source": [
    "# saving in a local directory\n",
    "raw_data.to_csv(project_dir + '/data/processed/' +'clean_llamadas_123_noviembre_2019.csv', encoding='latin1', sep=';', index=False)"
   ]
  },
  {
   "cell_type": "code",
   "execution_count": null,
   "id": "dff37989-97fe-4cb2-b388-790945ba3e40",
   "metadata": {},
   "outputs": [],
   "source": []
  }
 ],
 "metadata": {
  "environment": {
   "kernel": "python3",
   "name": "common-cpu.m90",
   "type": "gcloud",
   "uri": "gcr.io/deeplearning-platform-release/base-cpu:m90"
  },
  "kernelspec": {
   "display_name": "Python 3",
   "language": "python",
   "name": "python3"
  },
  "language_info": {
   "codemirror_mode": {
    "name": "ipython",
    "version": 3
   },
   "file_extension": ".py",
   "mimetype": "text/x-python",
   "name": "python",
   "nbconvert_exporter": "python",
   "pygments_lexer": "ipython3",
   "version": "3.7.12"
  }
 },
 "nbformat": 4,
 "nbformat_minor": 5
}
