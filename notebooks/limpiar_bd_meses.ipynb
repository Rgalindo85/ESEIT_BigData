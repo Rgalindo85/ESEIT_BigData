{
 "cells": [
  {
   "cell_type": "code",
   "execution_count": 1,
   "id": "3ddc2491-0282-4ad2-9f06-44fd2686d348",
   "metadata": {},
   "outputs": [],
   "source": [
    "#FABIO GARCIA ALVAREZ - DESARROLLADOR\n",
    "\n",
    "import os\n",
    "import sys\n",
    "import logging\n",
    "import pandas as pd\n",
    "import numpy as np\n",
    "\n",
    "from pandas_profiling import ProfileReport\n",
    "\n",
    "\n",
    "project_dir = os.path.dirname(os.path.abspath('.')) # get the path of the project, if doesn't work use os.getcwd() instead and use rfind to find the project dir\n",
    "sys.path.append(os.path.join(project_dir, 'src', 'data'))\n",
    "\n",
    "from data_manipulator import get_input_data\n",
    "\n",
    "bucket = 'esp_big_data'\n",
    "directory = 'BigData'"
   ]
  },
  {
   "cell_type": "code",
   "execution_count": 2,
   "id": "631651da-1157-4acf-bc9f-8e64ce5cd491",
   "metadata": {},
   "outputs": [],
   "source": [
    "#Defino funciones a utilizar\n",
    "def limpiar_vacias(data,ini=10,fin=37):\n",
    " listado_columnas_eliminar=['Unnamed: {}'.format(i) for i in range(ini,fin)] #Creamos la listado automatica con for\n",
    " data_procesada = data.drop(listado_columnas_eliminar, axis='columns')\n",
    " return data_procesada\n",
    "\n",
    "def reemplazar_guion(data):\n",
    "    data.rename(\n",
    "    columns = {\n",
    "        'FECHA_INICIO_DESPLAZAMIENTO-MOVIL' : 'FECHA_INICIO_DESPLAZAMIENTO_MOVIL',\n",
    "        'FECHA_DESPACHO_518': 'FECHA_INICIO_DESPLAZAMIENTO_MOVIL',\n",
    "        'CODIGO DE LOCALIDAD'               : 'CODIGO_LOCALIDAD',\n",
    "        'TIPO DE INCIDIDENT'                : 'TIPO_INCIDENTE',\n",
    "        'CLASIFICACION FINAL'               : 'CLASIFICACION_FINAL'\n",
    "    },inplace=True)\n",
    "    return(data)\n",
    "\n",
    "def quitar_espacios_finales(data,cols):\n",
    "    for col in cols:\n",
    "        data[col] = data[col].apply(lambda x: x.strip())\n",
    "    #Fin for\n",
    "    return data\n",
    "\n",
    "def quitar_na(data,cols):\n",
    "    for col in cols:\n",
    "        data[col] = data[col].fillna('SIN_DATO', inplace=True)\n",
    "    #data[col].fillna('SIN_DATO', inplace=True)\n",
    "    return data\n",
    "\n",
    "def quitar_tildes(s):\n",
    "    replacements = (\n",
    "        (\"á\", \"a\"),\n",
    "        (\"é\", \"e\"),\n",
    "        (\"í\", \"i\"),\n",
    "        (\"ó\", \"o\"),\n",
    "        (\"ú\", \"u\"),\n",
    "    )\n",
    "    for a, b in replacements:\n",
    "        s = s.replace(a, b).replace(a.upper(), b.upper())\n",
    "    return s\n",
    "\n",
    "   \n"
   ]
  },
  {
   "cell_type": "code",
   "execution_count": 15,
   "id": "13834921-6bdc-4a5e-93eb-cafb6ac484b8",
   "metadata": {},
   "outputs": [],
   "source": [
    "#Datas\n",
    "data_ls = ['datos-abiertos-enero_2020.csv',\n",
    "           'datos-abiertos-julio-2019.csv',\n",
    "           'datos-abiertos-agosto-2019.csv',\n",
    "           'datos-abiertos-septiembre-2019.csv',\n",
    "           'datos-abiertos-octubre-2019.csv',\n",
    "           'datos-abiertos-noviembre_2019.csv',\n",
    "           'datos_abiertos_cons_diciembre_2019.csv']"
   ]
  },
  {
   "cell_type": "code",
   "execution_count": 3,
   "id": "bb229a60-890e-4aa1-914a-e333fc19ef03",
   "metadata": {},
   "outputs": [
    {
     "name": "stdout",
     "output_type": "stream",
     "text": [
      "<class 'pandas.core.frame.DataFrame'>\n",
      "RangeIndex: 15304 entries, 0 to 15303\n",
      "Data columns (total 10 columns):\n",
      " #   Column                             Non-Null Count  Dtype \n",
      "---  ------                             --------------  ----- \n",
      " 0   NUMERO_INCIDENTE                   15304 non-null  object\n",
      " 1   FECHA_INICIO_DESPLAZAMIENTO_MOVIL  15304 non-null  object\n",
      " 2   CODIGO_LOCALIDAD                   15304 non-null  int64 \n",
      " 3   LOCALIDAD                          15304 non-null  object\n",
      " 4   EDAD                               15304 non-null  int64 \n",
      " 5   UNIDAD                             15304 non-null  object\n",
      " 6   GENERO                             15304 non-null  object\n",
      " 7   RED                                15304 non-null  object\n",
      " 8   TIPO_INCIDENTE                     15304 non-null  object\n",
      " 9   PRIORIDAD                          15304 non-null  int64 \n",
      "dtypes: int64(3), object(7)\n",
      "memory usage: 1.2+ MB\n",
      "Number of rows before cleaning: 15304\n",
      "Number of rows after cleaning: 15240\n",
      "<class 'pandas.core.frame.DataFrame'>\n",
      "Int64Index: 15240 entries, 0 to 15303\n",
      "Data columns (total 10 columns):\n",
      " #   Column                             Non-Null Count  Dtype \n",
      "---  ------                             --------------  ----- \n",
      " 0   NUMERO_INCIDENTE                   15240 non-null  object\n",
      " 1   FECHA_INICIO_DESPLAZAMIENTO_MOVIL  15240 non-null  object\n",
      " 2   CODIGO_LOCALIDAD                   15240 non-null  int64 \n",
      " 3   LOCALIDAD                          15240 non-null  object\n",
      " 4   EDAD                               15240 non-null  int64 \n",
      " 5   UNIDAD                             15240 non-null  object\n",
      " 6   GENERO                             15240 non-null  object\n",
      " 7   RED                                15240 non-null  object\n",
      " 8   TIPO_INCIDENTE                     15240 non-null  object\n",
      " 9   PRIORIDAD                          15240 non-null  int64 \n",
      "dtypes: int64(3), object(7)\n",
      "memory usage: 1.3+ MB\n"
     ]
    }
   ],
   "source": [
    "#Enero\n",
    "filename = 'datos-abiertos-enero_2020.csv'\n",
    "enero = get_input_data(bucket=bucket, filename = filename) #Tomamos\n",
    "enero = limpiar_vacias(enero) # Limpiar vacias\n",
    "enero = reemplazar_guion(enero) #Reemplazar guiones\n",
    "\n",
    "enero.info()\n",
    "columnas_padres = np.array(['NUMERO_INCIDENTE', 'FECHA_INICIO_DESPLAZAMIENTO_MOVIL',\n",
    "       'CODIGO_LOCALIDAD', 'LOCALIDAD', 'EDAD', 'UNIDAD', 'GENERO', 'RED',\n",
    "       'TIPO_INCIDENTE', 'PRIORIDAD'])\n",
    "columnas = np.array(['NUMERO_INCIDENTE', 'FECHA_INICIO_DESPLAZAMIENTO_MOVIL','LOCALIDAD','UNIDAD', 'GENERO', 'RED',\n",
    "       'TIPO_INCIDENTE',])\n",
    "enero = quitar_espacios_finales(enero,columnas)\n",
    "\n",
    "for col in columnas:\n",
    "       enero[col] = enero[col].apply(lambda x: quitar_tildes(x)) #Quitamos las tildes dee los datos\n",
    "\n",
    "#QUITAR DUPLICADOS\n",
    "print('Number of rows before cleaning:', enero.shape[0] )\n",
    "enero.drop_duplicates(inplace=True)\n",
    "print('Number of rows after cleaning:', enero.shape[0] )\n",
    "\n",
    "enero.info()\n",
    "#enero.info()"
   ]
  },
  {
   "cell_type": "code",
   "execution_count": 4,
   "id": "a1f4f4a5-2fd9-458a-a7fb-4a996d3070e1",
   "metadata": {},
   "outputs": [
    {
     "name": "stdout",
     "output_type": "stream",
     "text": [
      "<class 'pandas.core.frame.DataFrame'>\n",
      "RangeIndex: 14560 entries, 0 to 14559\n",
      "Data columns (total 12 columns):\n",
      " #   Column                             Non-Null Count  Dtype \n",
      "---  ------                             --------------  ----- \n",
      " 0   FECHA_INCIDENTE                    14560 non-null  object\n",
      " 1   FECHA_INICIO_DESPLAZAMIENTO_MOVIL  14560 non-null  object\n",
      " 2   CODIGO_LOCALIDAD                   14560 non-null  int64 \n",
      " 3   LOCALIDAD                          14560 non-null  object\n",
      " 4   EDAD                               14560 non-null  object\n",
      " 5   UNIDAD                             14560 non-null  object\n",
      " 6   GENERO                             14560 non-null  object\n",
      " 7   RED                                14560 non-null  object\n",
      " 8   TIPO_INCIDENTE                     14560 non-null  object\n",
      " 9   PRIORIDAD                          14560 non-null  object\n",
      " 10  MES                                14560 non-null  object\n",
      " 11  CLASIFICACION_FINAL                13035 non-null  object\n",
      "dtypes: int64(1), object(11)\n",
      "memory usage: 1.3+ MB\n",
      "Number of rows before cleaning: 14560\n",
      "Number of rows after cleaning: 13842\n",
      "<class 'pandas.core.frame.DataFrame'>\n",
      "Int64Index: 13842 entries, 0 to 14559\n",
      "Data columns (total 12 columns):\n",
      " #   Column                             Non-Null Count  Dtype \n",
      "---  ------                             --------------  ----- \n",
      " 0   FECHA_INCIDENTE                    13842 non-null  object\n",
      " 1   FECHA_INICIO_DESPLAZAMIENTO_MOVIL  13842 non-null  object\n",
      " 2   CODIGO_LOCALIDAD                   13842 non-null  int64 \n",
      " 3   LOCALIDAD                          13842 non-null  object\n",
      " 4   EDAD                               13842 non-null  object\n",
      " 5   UNIDAD                             13842 non-null  object\n",
      " 6   GENERO                             13842 non-null  object\n",
      " 7   RED                                13842 non-null  object\n",
      " 8   TIPO_INCIDENTE                     13842 non-null  object\n",
      " 9   PRIORIDAD                          13842 non-null  object\n",
      " 10  MES                                13842 non-null  object\n",
      " 11  CLASIFICACION_FINAL                12333 non-null  object\n",
      "dtypes: int64(1), object(11)\n",
      "memory usage: 1.4+ MB\n"
     ]
    }
   ],
   "source": [
    "#julio\n",
    "filename = 'datos-abiertos-julio-2019.csv'\n",
    "julio = get_input_data(bucket=bucket, filename = filename) #Tomamos\n",
    "#julio = limpiar_vacias(julio) # Limpiar vacias\n",
    "julio = reemplazar_guion(julio) #Reemplazar guiones\n",
    "\n",
    "julio.info()\n",
    "columnas_padres = np.array(['FECHA_INCIDENTE', 'FECHA_INICIO_DESPLAZAMIENTO_MOVIL',\n",
    "       'CODIGO_LOCALIDAD', 'LOCALIDAD', 'EDAD', 'UNIDAD', 'GENERO', 'RED',\n",
    "       'TIPO_INCIDENTE', 'PRIORIDAD','MES','CLASIFICACION_FINAL'])\n",
    "columnas = np.array(['FECHA_INCIDENTE', 'FECHA_INICIO_DESPLAZAMIENTO_MOVIL','LOCALIDAD','UNIDAD', 'GENERO', 'RED',\n",
    "       'TIPO_INCIDENTE', 'PRIORIDAD'])\n",
    "julio = quitar_espacios_finales(julio,columnas)\n",
    "\n",
    "for col in columnas:\n",
    "       julio[col] = julio[col].apply(lambda x: quitar_tildes(x)) #Quitamos las tildes dee los datos\n",
    "\n",
    "#QUITAR DUPLICADOS\n",
    "print('Number of rows before cleaning:', julio.shape[0] )\n",
    "julio.drop_duplicates(inplace=True)\n",
    "print('Number of rows after cleaning:', julio.shape[0] )\n",
    "julio.info()\n",
    "#julio.info()\n"
   ]
  },
  {
   "cell_type": "code",
   "execution_count": 5,
   "id": "4ca4827a-c23a-434e-971b-e5df7e03d3f9",
   "metadata": {},
   "outputs": [
    {
     "name": "stdout",
     "output_type": "stream",
     "text": [
      "<class 'pandas.core.frame.DataFrame'>\n",
      "RangeIndex: 18141 entries, 0 to 18140\n",
      "Data columns (total 12 columns):\n",
      " #   Column                             Non-Null Count  Dtype \n",
      "---  ------                             --------------  ----- \n",
      " 0   NUMERO_INCIDENTE                   18141 non-null  int64 \n",
      " 1   FECHA_INICIO_DESPLAZAMIENTO_MOVIL  18141 non-null  object\n",
      " 2   CODIGO_LOCALIDAD                   18141 non-null  int64 \n",
      " 3   LOCALIDAD                          18141 non-null  object\n",
      " 4   EDAD                               18141 non-null  object\n",
      " 5   UNIDAD                             18141 non-null  object\n",
      " 6   GENERO                             18141 non-null  object\n",
      " 7   RED                                18141 non-null  object\n",
      " 8   TIPO_INCIDENTE                     18141 non-null  object\n",
      " 9   PRIORIDAD                          18141 non-null  object\n",
      " 10  MES                                18141 non-null  object\n",
      " 11  CLASIFICACION_FINAL                18138 non-null  object\n",
      "dtypes: int64(2), object(10)\n",
      "memory usage: 1.7+ MB\n",
      "Number of rows before cleaning: 18141\n",
      "Number of rows after cleaning: 16807\n",
      "<class 'pandas.core.frame.DataFrame'>\n",
      "Int64Index: 16807 entries, 0 to 18140\n",
      "Data columns (total 12 columns):\n",
      " #   Column                             Non-Null Count  Dtype \n",
      "---  ------                             --------------  ----- \n",
      " 0   NUMERO_INCIDENTE                   16807 non-null  int64 \n",
      " 1   FECHA_INICIO_DESPLAZAMIENTO_MOVIL  16807 non-null  object\n",
      " 2   CODIGO_LOCALIDAD                   16807 non-null  int64 \n",
      " 3   LOCALIDAD                          16807 non-null  object\n",
      " 4   EDAD                               16807 non-null  object\n",
      " 5   UNIDAD                             16807 non-null  object\n",
      " 6   GENERO                             16807 non-null  object\n",
      " 7   RED                                16807 non-null  object\n",
      " 8   TIPO_INCIDENTE                     16807 non-null  object\n",
      " 9   PRIORIDAD                          16807 non-null  object\n",
      " 10  MES                                16807 non-null  object\n",
      " 11  CLASIFICACION_FINAL                16804 non-null  object\n",
      "dtypes: int64(2), object(10)\n",
      "memory usage: 1.7+ MB\n"
     ]
    }
   ],
   "source": [
    "#agosto\n",
    "filename = 'datos-abiertos-agosto-2019.csv'\n",
    "agosto = get_input_data(bucket=bucket, filename = filename) #Tomamos\n",
    "#agosto = limpiar_vacias(agosto) # Limpiar vacias\n",
    "agosto = reemplazar_guion(agosto) #Reemplazar guiones\n",
    "\n",
    "agosto.info()\n",
    "columnas_padres = np.array(['NUMERO_INCIDENTE', 'FECHA_INICIO_DESPLAZAMIENTO_MOVIL',\n",
    "       'CODIGO_LOCALIDAD', 'LOCALIDAD', 'EDAD', 'UNIDAD', 'GENERO', 'RED',\n",
    "       'TIPO_INCIDENTE', 'PRIORIDAD'])\n",
    "columnas = np.array(['FECHA_INICIO_DESPLAZAMIENTO_MOVIL','LOCALIDAD','UNIDAD', 'GENERO', 'RED',\n",
    "       'TIPO_INCIDENTE',])\n",
    "agosto = quitar_espacios_finales(agosto,columnas)\n",
    "\n",
    "for col in columnas:\n",
    "       agosto[col] = agosto[col].apply(lambda x: quitar_tildes(x)) #Quitamos las tildes dee los datos\n",
    "\n",
    "#QUITAR DUPLICADOS\n",
    "print('Number of rows before cleaning:', agosto.shape[0] )\n",
    "agosto.drop_duplicates(inplace=True)\n",
    "print('Number of rows after cleaning:', agosto.shape[0] )\n",
    "agosto.info()\n",
    "#agosto.info()\n"
   ]
  },
  {
   "cell_type": "code",
   "execution_count": 6,
   "id": "6a2ea5ea-8455-48b2-aa91-f58e44edb42d",
   "metadata": {},
   "outputs": [
    {
     "name": "stdout",
     "output_type": "stream",
     "text": [
      "<class 'pandas.core.frame.DataFrame'>\n",
      "RangeIndex: 17018 entries, 0 to 17017\n",
      "Data columns (total 10 columns):\n",
      " #   Column                             Non-Null Count  Dtype \n",
      "---  ------                             --------------  ----- \n",
      " 0   NUMERO_INCIDENTE                   17018 non-null  int64 \n",
      " 1   FECHA_INICIO_DESPLAZAMIENTO_MOVIL  17018 non-null  object\n",
      " 2   CODIGO_LOCALIDAD                   17018 non-null  int64 \n",
      " 3   LOCALIDAD                          17018 non-null  object\n",
      " 4   EDAD                               17018 non-null  int64 \n",
      " 5   UNIDAD                             9371 non-null   object\n",
      " 6   GENERO                             17018 non-null  object\n",
      " 7   RED                                17018 non-null  object\n",
      " 8   TIPO_INCIDENTE                     17018 non-null  object\n",
      " 9   PRIORIDAD                          17018 non-null  object\n",
      "dtypes: int64(3), object(7)\n",
      "memory usage: 1.3+ MB\n",
      "Number of rows before cleaning: 17018\n",
      "Number of rows after cleaning: 16267\n",
      "<class 'pandas.core.frame.DataFrame'>\n",
      "Int64Index: 16267 entries, 0 to 17017\n",
      "Data columns (total 10 columns):\n",
      " #   Column                             Non-Null Count  Dtype \n",
      "---  ------                             --------------  ----- \n",
      " 0   NUMERO_INCIDENTE                   16267 non-null  int64 \n",
      " 1   FECHA_INICIO_DESPLAZAMIENTO_MOVIL  16267 non-null  object\n",
      " 2   CODIGO_LOCALIDAD                   16267 non-null  int64 \n",
      " 3   LOCALIDAD                          16267 non-null  object\n",
      " 4   EDAD                               16267 non-null  int64 \n",
      " 5   UNIDAD                             9346 non-null   object\n",
      " 6   GENERO                             16267 non-null  object\n",
      " 7   RED                                16267 non-null  object\n",
      " 8   TIPO_INCIDENTE                     16267 non-null  object\n",
      " 9   PRIORIDAD                          16267 non-null  object\n",
      "dtypes: int64(3), object(7)\n",
      "memory usage: 1.4+ MB\n"
     ]
    }
   ],
   "source": [
    "#septiembre\n",
    "filename = 'datos-abiertos-septiembre-2019.csv'\n",
    "septiembre = get_input_data(bucket=bucket, filename = filename) #Tomamos\n",
    "#septiembre = limpiar_vacias(septiembre) # Limpiar vacias\n",
    "septiembre = reemplazar_guion(septiembre) #Reemplazar guiones\n",
    "\n",
    "septiembre.info()\n",
    "columnas_padres = np.array(['NUMERO_INCIDENTE', 'FECHA_INICIO_DESPLAZAMIENTO_MOVIL',\n",
    "       'CODIGO_LOCALIDAD', 'LOCALIDAD', 'EDAD', 'UNIDAD', 'GENERO', 'RED',\n",
    "       'TIPO_INCIDENTE', 'PRIORIDAD'])\n",
    "columnas = np.array(['FECHA_INICIO_DESPLAZAMIENTO_MOVIL','LOCALIDAD','GENERO', 'RED',\n",
    "       'TIPO_INCIDENTE'])\n",
    "septiembre = quitar_espacios_finales(septiembre,columnas)\n",
    "\n",
    "for col in columnas:\n",
    "       septiembre[col] = septiembre[col].apply(lambda x: quitar_tildes(x)) #Quitamos las tildes dee los datos\n",
    "\n",
    "#QUITAR DUPLICADOS\n",
    "print('Number of rows before cleaning:', septiembre.shape[0] )\n",
    "septiembre.drop_duplicates(inplace=True)\n",
    "print('Number of rows after cleaning:', septiembre.shape[0] )\n",
    "septiembre.info()\n",
    "#septiembre.info()\n",
    "\n"
   ]
  },
  {
   "cell_type": "code",
   "execution_count": 7,
   "id": "b5bd58b8-ab6e-471c-88f8-607c9ba2f208",
   "metadata": {},
   "outputs": [
    {
     "name": "stdout",
     "output_type": "stream",
     "text": [
      "<class 'pandas.core.frame.DataFrame'>\n",
      "RangeIndex: 18195 entries, 0 to 18194\n",
      "Data columns (total 10 columns):\n",
      " #   Column                             Non-Null Count  Dtype \n",
      "---  ------                             --------------  ----- \n",
      " 0   NUMERO_INCIDENTE                   18195 non-null  int64 \n",
      " 1   FECHA_INICIO_DESPLAZAMIENTO_MOVIL  18195 non-null  object\n",
      " 2   CODIGO_LOCALIDAD                   18195 non-null  int64 \n",
      " 3   LOCALIDAD                          18195 non-null  object\n",
      " 4   EDAD                               18195 non-null  object\n",
      " 5   UNIDAD                             9503 non-null   object\n",
      " 6   GENERO                             9543 non-null   object\n",
      " 7   RED                                18195 non-null  object\n",
      " 8   TIPO_INCIDENTE                     18195 non-null  object\n",
      " 9   PRIORIDAD                          18195 non-null  object\n",
      "dtypes: int64(2), object(8)\n",
      "memory usage: 1.4+ MB\n",
      "Number of rows before cleaning: 18195\n",
      "Number of rows after cleaning: 16559\n",
      "<class 'pandas.core.frame.DataFrame'>\n",
      "Int64Index: 16559 entries, 0 to 18194\n",
      "Data columns (total 10 columns):\n",
      " #   Column                             Non-Null Count  Dtype \n",
      "---  ------                             --------------  ----- \n",
      " 0   NUMERO_INCIDENTE                   16559 non-null  int64 \n",
      " 1   FECHA_INICIO_DESPLAZAMIENTO_MOVIL  16559 non-null  object\n",
      " 2   CODIGO_LOCALIDAD                   16559 non-null  int64 \n",
      " 3   LOCALIDAD                          16559 non-null  object\n",
      " 4   EDAD                               16559 non-null  object\n",
      " 5   UNIDAD                             9460 non-null   object\n",
      " 6   GENERO                             9495 non-null   object\n",
      " 7   RED                                16559 non-null  object\n",
      " 8   TIPO_INCIDENTE                     16559 non-null  object\n",
      " 9   PRIORIDAD                          16559 non-null  object\n",
      "dtypes: int64(2), object(8)\n",
      "memory usage: 1.4+ MB\n"
     ]
    }
   ],
   "source": [
    "#octubre\n",
    "filename = 'datos-abiertos-octubre-2019.csv'\n",
    "octubre = get_input_data(bucket=bucket, filename = filename) #Tomamos\n",
    "#octubre = limpiar_vacias(octubre) # Limpiar vacias\n",
    "octubre = reemplazar_guion(octubre) #Reemplazar guiones\n",
    "\n",
    "octubre.info()\n",
    "columnas_padres = np.array(['NUMERO_INCIDENTE', 'FECHA_INICIO_DESPLAZAMIENTO_MOVIL',\n",
    "       'CODIGO_LOCALIDAD', 'LOCALIDAD', 'EDAD', 'UNIDAD', 'GENERO', 'RED',\n",
    "       'TIPO_INCIDENTE', 'PRIORIDAD'])\n",
    "columnas = np.array(['FECHA_INICIO_DESPLAZAMIENTO_MOVIL','LOCALIDAD', 'RED',\n",
    "       'TIPO_INCIDENTE'])\n",
    "octubre = quitar_espacios_finales(octubre,columnas)\n",
    "\n",
    "for col in columnas:\n",
    "       octubre[col] = octubre[col].apply(lambda x: quitar_tildes(x)) #Quitamos las tildes dee los datos\n",
    "\n",
    "#QUITAR DUPLICADOS\n",
    "print('Number of rows before cleaning:', octubre.shape[0] )\n",
    "octubre.drop_duplicates(inplace=True)\n",
    "print('Number of rows after cleaning:', octubre.shape[0] )\n",
    "octubre.info()\n",
    "#octubre.info()"
   ]
  },
  {
   "cell_type": "code",
   "execution_count": 8,
   "id": "1af64f1a-2fa5-4f86-9d4b-257cd9cd80b3",
   "metadata": {},
   "outputs": [
    {
     "name": "stdout",
     "output_type": "stream",
     "text": [
      "<class 'pandas.core.frame.DataFrame'>\n",
      "RangeIndex: 15926 entries, 0 to 15925\n",
      "Data columns (total 10 columns):\n",
      " #   Column                             Non-Null Count  Dtype \n",
      "---  ------                             --------------  ----- \n",
      " 0   NUMERO_INCIDENTE                   15926 non-null  object\n",
      " 1   FECHA_INICIO_DESPLAZAMIENTO_MOVIL  15926 non-null  object\n",
      " 2   CODIGO_LOCALIDAD                   15926 non-null  int64 \n",
      " 3   LOCALIDAD                          15926 non-null  object\n",
      " 4   EDAD                               15926 non-null  int64 \n",
      " 5   UNIDAD                             15926 non-null  object\n",
      " 6   GENERO                             15926 non-null  object\n",
      " 7   RED                                15926 non-null  object\n",
      " 8   TIPO_INCIDENTE                     15926 non-null  object\n",
      " 9   PRIORIDAD                          15926 non-null  object\n",
      "dtypes: int64(2), object(8)\n",
      "memory usage: 1.2+ MB\n",
      "Number of rows before cleaning: 15926\n",
      "Number of rows after cleaning: 15886\n",
      "<class 'pandas.core.frame.DataFrame'>\n",
      "Int64Index: 15886 entries, 0 to 15925\n",
      "Data columns (total 10 columns):\n",
      " #   Column                             Non-Null Count  Dtype \n",
      "---  ------                             --------------  ----- \n",
      " 0   NUMERO_INCIDENTE                   15886 non-null  object\n",
      " 1   FECHA_INICIO_DESPLAZAMIENTO_MOVIL  15886 non-null  object\n",
      " 2   CODIGO_LOCALIDAD                   15886 non-null  int64 \n",
      " 3   LOCALIDAD                          15886 non-null  object\n",
      " 4   EDAD                               15886 non-null  int64 \n",
      " 5   UNIDAD                             15886 non-null  object\n",
      " 6   GENERO                             15886 non-null  object\n",
      " 7   RED                                15886 non-null  object\n",
      " 8   TIPO_INCIDENTE                     15886 non-null  object\n",
      " 9   PRIORIDAD                          15886 non-null  object\n",
      "dtypes: int64(2), object(8)\n",
      "memory usage: 1.3+ MB\n"
     ]
    }
   ],
   "source": [
    "#noviembre\n",
    "filename = 'datos-abiertos-noviembre_2019.csv'\n",
    "noviembre = get_input_data(bucket=bucket, filename = filename) #Tomamos\n",
    "#noviembre = limpiar_vacias(noviembre) # Limpiar vacias\n",
    "noviembre = reemplazar_guion(noviembre) #Reemplazar guiones\n",
    "\n",
    "noviembre.info()\n",
    "columnas_padres = np.array(['NUMERO_INCIDENTE', 'FECHA_INICIO_DESPLAZAMIENTO_MOVIL',\n",
    "       'CODIGO_LOCALIDAD', 'LOCALIDAD', 'EDAD', 'UNIDAD', 'GENERO', 'RED',\n",
    "       'TIPO_INCIDENTE', 'PRIORIDAD'])\n",
    "columnas = np.array(['FECHA_INICIO_DESPLAZAMIENTO_MOVIL','LOCALIDAD','UNIDAD', 'GENERO', 'RED',\n",
    "       'TIPO_INCIDENTE',])\n",
    "noviembre = quitar_espacios_finales(noviembre,columnas)\n",
    "\n",
    "for col in columnas:\n",
    "       noviembre[col] = noviembre[col].apply(lambda x: quitar_tildes(x)) #Quitamos las tildes dee los datos\n",
    "\n",
    "#QUITAR DUPLICADOS\n",
    "print('Number of rows before cleaning:', noviembre.shape[0] )\n",
    "noviembre.drop_duplicates(inplace=True)\n",
    "print('Number of rows after cleaning:', noviembre.shape[0] )\n",
    "noviembre.info()\n",
    "#noviembre.info()"
   ]
  },
  {
   "cell_type": "code",
   "execution_count": 9,
   "id": "7853ff01-5b9d-4cfc-a945-f2657f0f4255",
   "metadata": {},
   "outputs": [
    {
     "name": "stdout",
     "output_type": "stream",
     "text": [
      "<class 'pandas.core.frame.DataFrame'>\n",
      "RangeIndex: 16243 entries, 0 to 16242\n",
      "Data columns (total 10 columns):\n",
      " #   Column                             Non-Null Count  Dtype \n",
      "---  ------                             --------------  ----- \n",
      " 0   NUMERO_INCIDENTE                   16243 non-null  object\n",
      " 1   FECHA_INICIO_DESPLAZAMIENTO_MOVIL  16243 non-null  object\n",
      " 2   CODIGO_LOCALIDAD                   16243 non-null  int64 \n",
      " 3   LOCALIDAD                          16243 non-null  object\n",
      " 4   EDAD                               16243 non-null  int64 \n",
      " 5   UNIDAD                             16243 non-null  object\n",
      " 6   GENERO                             16243 non-null  object\n",
      " 7   RED                                16243 non-null  object\n",
      " 8   TIPO_INCIDENTE                     16243 non-null  object\n",
      " 9   PRIORIDAD                          16243 non-null  object\n",
      "dtypes: int64(2), object(8)\n",
      "memory usage: 1.2+ MB\n",
      "Number of rows before cleaning: 16243\n",
      "Number of rows after cleaning: 16162\n",
      "<class 'pandas.core.frame.DataFrame'>\n",
      "Int64Index: 16162 entries, 0 to 16242\n",
      "Data columns (total 10 columns):\n",
      " #   Column                             Non-Null Count  Dtype \n",
      "---  ------                             --------------  ----- \n",
      " 0   NUMERO_INCIDENTE                   16162 non-null  object\n",
      " 1   FECHA_INICIO_DESPLAZAMIENTO_MOVIL  16162 non-null  object\n",
      " 2   CODIGO_LOCALIDAD                   16162 non-null  int64 \n",
      " 3   LOCALIDAD                          16162 non-null  object\n",
      " 4   EDAD                               16162 non-null  int64 \n",
      " 5   UNIDAD                             16162 non-null  object\n",
      " 6   GENERO                             16162 non-null  object\n",
      " 7   RED                                16162 non-null  object\n",
      " 8   TIPO_INCIDENTE                     16162 non-null  object\n",
      " 9   PRIORIDAD                          16162 non-null  object\n",
      "dtypes: int64(2), object(8)\n",
      "memory usage: 1.4+ MB\n"
     ]
    }
   ],
   "source": [
    "#diciembre\n",
    "filename = 'datos_abiertos_cons_diciembre_2019.csv'\n",
    "diciembre = get_input_data(bucket=bucket, filename = filename) #Tomamos\n",
    "#diciembre = limpiar_vacias(diciembre) # Limpiar vacias\n",
    "diciembre = reemplazar_guion(diciembre) #Reemplazar guiones\n",
    "\n",
    "diciembre.info()\n",
    "columnas_padres = np.array(['NUMERO_INCIDENTE', 'FECHA_INICIO_DESPLAZAMIENTO_MOVIL',\n",
    "       'CODIGO_LOCALIDAD', 'LOCALIDAD', 'EDAD', 'UNIDAD', 'GENERO', 'RED',\n",
    "       'TIPO_INCIDENTE', 'PRIORIDAD'])\n",
    "columnas = np.array(['FECHA_INICIO_DESPLAZAMIENTO_MOVIL','LOCALIDAD','UNIDAD', 'GENERO', 'RED',\n",
    "       'TIPO_INCIDENTE',])\n",
    "diciembre = quitar_espacios_finales(diciembre,columnas)\n",
    "\n",
    "for col in columnas:\n",
    "       diciembre[col] = diciembre[col].apply(lambda x: quitar_tildes(x)) #Quitamos las tildes dee los datos\n",
    "\n",
    "#QUITAR DUPLICADOS\n",
    "print('Number of rows before cleaning:', diciembre.shape[0] )\n",
    "diciembre.drop_duplicates(inplace=True)\n",
    "print('Number of rows after cleaning:', diciembre.shape[0] )\n",
    "diciembre.info()\n",
    "#diciembre.info()\n"
   ]
  },
  {
   "cell_type": "code",
   "execution_count": 10,
   "id": "664a5c8b-7a88-49ab-9e52-a3d7f750b976",
   "metadata": {},
   "outputs": [
    {
     "name": "stdout",
     "output_type": "stream",
     "text": [
      "<class 'pandas.core.frame.DataFrame'>\n",
      "Int64Index: 15240 entries, 0 to 15303\n",
      "Data columns (total 10 columns):\n",
      " #   Column                             Non-Null Count  Dtype         \n",
      "---  ------                             --------------  -----         \n",
      " 0   NUMERO_INCIDENTE                   15240 non-null  object        \n",
      " 1   FECHA_INICIO_DESPLAZAMIENTO_MOVIL  15240 non-null  datetime64[ns]\n",
      " 2   CODIGO_LOCALIDAD                   15240 non-null  int64         \n",
      " 3   LOCALIDAD                          15240 non-null  object        \n",
      " 4   EDAD                               15240 non-null  int64         \n",
      " 5   UNIDAD                             15240 non-null  object        \n",
      " 6   GENERO                             15240 non-null  object        \n",
      " 7   RED                                15240 non-null  object        \n",
      " 8   TIPO_INCIDENTE                     15240 non-null  object        \n",
      " 9   PRIORIDAD                          15240 non-null  int64         \n",
      "dtypes: datetime64[ns](1), int64(3), object(6)\n",
      "memory usage: 1.3+ MB\n",
      "None\n",
      "<class 'pandas.core.frame.DataFrame'>\n",
      "Int64Index: 13842 entries, 0 to 14559\n",
      "Data columns (total 12 columns):\n",
      " #   Column                             Non-Null Count  Dtype         \n",
      "---  ------                             --------------  -----         \n",
      " 0   FECHA_INCIDENTE                    13842 non-null  datetime64[ns]\n",
      " 1   FECHA_INICIO_DESPLAZAMIENTO_MOVIL  13842 non-null  datetime64[ns]\n",
      " 2   CODIGO_LOCALIDAD                   13842 non-null  int64         \n",
      " 3   LOCALIDAD                          13842 non-null  object        \n",
      " 4   EDAD                               13842 non-null  object        \n",
      " 5   UNIDAD                             13842 non-null  object        \n",
      " 6   GENERO                             13842 non-null  object        \n",
      " 7   RED                                13842 non-null  object        \n",
      " 8   TIPO_INCIDENTE                     13842 non-null  object        \n",
      " 9   PRIORIDAD                          13842 non-null  object        \n",
      " 10  MES                                13842 non-null  object        \n",
      " 11  CLASIFICACION_FINAL                12333 non-null  object        \n",
      "dtypes: datetime64[ns](2), int64(1), object(9)\n",
      "memory usage: 1.4+ MB\n",
      "None\n",
      "<class 'pandas.core.frame.DataFrame'>\n",
      "Int64Index: 16807 entries, 0 to 18140\n",
      "Data columns (total 12 columns):\n",
      " #   Column                             Non-Null Count  Dtype         \n",
      "---  ------                             --------------  -----         \n",
      " 0   NUMERO_INCIDENTE                   16807 non-null  int64         \n",
      " 1   FECHA_INICIO_DESPLAZAMIENTO_MOVIL  16807 non-null  datetime64[ns]\n",
      " 2   CODIGO_LOCALIDAD                   16807 non-null  int64         \n",
      " 3   LOCALIDAD                          16807 non-null  object        \n",
      " 4   EDAD                               16807 non-null  object        \n",
      " 5   UNIDAD                             16807 non-null  object        \n",
      " 6   GENERO                             16807 non-null  object        \n",
      " 7   RED                                16807 non-null  object        \n",
      " 8   TIPO_INCIDENTE                     16807 non-null  object        \n",
      " 9   PRIORIDAD                          16807 non-null  object        \n",
      " 10  MES                                16807 non-null  object        \n",
      " 11  CLASIFICACION_FINAL                16804 non-null  object        \n",
      "dtypes: datetime64[ns](1), int64(2), object(9)\n",
      "memory usage: 1.7+ MB\n",
      "None\n",
      "<class 'pandas.core.frame.DataFrame'>\n",
      "Int64Index: 16267 entries, 0 to 17017\n",
      "Data columns (total 10 columns):\n",
      " #   Column                             Non-Null Count  Dtype         \n",
      "---  ------                             --------------  -----         \n",
      " 0   NUMERO_INCIDENTE                   16267 non-null  int64         \n",
      " 1   FECHA_INICIO_DESPLAZAMIENTO_MOVIL  16267 non-null  datetime64[ns]\n",
      " 2   CODIGO_LOCALIDAD                   16267 non-null  int64         \n",
      " 3   LOCALIDAD                          16267 non-null  object        \n",
      " 4   EDAD                               16267 non-null  int64         \n",
      " 5   UNIDAD                             9346 non-null   object        \n",
      " 6   GENERO                             16267 non-null  object        \n",
      " 7   RED                                16267 non-null  object        \n",
      " 8   TIPO_INCIDENTE                     16267 non-null  object        \n",
      " 9   PRIORIDAD                          16267 non-null  object        \n",
      "dtypes: datetime64[ns](1), int64(3), object(6)\n",
      "memory usage: 1.4+ MB\n",
      "None\n",
      "<class 'pandas.core.frame.DataFrame'>\n",
      "Int64Index: 16559 entries, 0 to 18194\n",
      "Data columns (total 10 columns):\n",
      " #   Column                             Non-Null Count  Dtype         \n",
      "---  ------                             --------------  -----         \n",
      " 0   NUMERO_INCIDENTE                   16559 non-null  int64         \n",
      " 1   FECHA_INICIO_DESPLAZAMIENTO_MOVIL  16559 non-null  datetime64[ns]\n",
      " 2   CODIGO_LOCALIDAD                   16559 non-null  int64         \n",
      " 3   LOCALIDAD                          16559 non-null  object        \n",
      " 4   EDAD                               16559 non-null  object        \n",
      " 5   UNIDAD                             9460 non-null   object        \n",
      " 6   GENERO                             9495 non-null   object        \n",
      " 7   RED                                16559 non-null  object        \n",
      " 8   TIPO_INCIDENTE                     16559 non-null  object        \n",
      " 9   PRIORIDAD                          16559 non-null  object        \n",
      "dtypes: datetime64[ns](1), int64(2), object(7)\n",
      "memory usage: 1.4+ MB\n",
      "None\n",
      "<class 'pandas.core.frame.DataFrame'>\n",
      "Int64Index: 15886 entries, 0 to 15925\n",
      "Data columns (total 10 columns):\n",
      " #   Column                             Non-Null Count  Dtype         \n",
      "---  ------                             --------------  -----         \n",
      " 0   NUMERO_INCIDENTE                   15886 non-null  object        \n",
      " 1   FECHA_INICIO_DESPLAZAMIENTO_MOVIL  15886 non-null  datetime64[ns]\n",
      " 2   CODIGO_LOCALIDAD                   15886 non-null  int64         \n",
      " 3   LOCALIDAD                          15886 non-null  object        \n",
      " 4   EDAD                               15886 non-null  int64         \n",
      " 5   UNIDAD                             15886 non-null  object        \n",
      " 6   GENERO                             15886 non-null  object        \n",
      " 7   RED                                15886 non-null  object        \n",
      " 8   TIPO_INCIDENTE                     15886 non-null  object        \n",
      " 9   PRIORIDAD                          15886 non-null  object        \n",
      "dtypes: datetime64[ns](1), int64(2), object(7)\n",
      "memory usage: 1.3+ MB\n",
      "None\n",
      "<class 'pandas.core.frame.DataFrame'>\n",
      "Int64Index: 16162 entries, 0 to 16242\n",
      "Data columns (total 10 columns):\n",
      " #   Column                             Non-Null Count  Dtype         \n",
      "---  ------                             --------------  -----         \n",
      " 0   NUMERO_INCIDENTE                   16162 non-null  object        \n",
      " 1   FECHA_INICIO_DESPLAZAMIENTO_MOVIL  16162 non-null  datetime64[ns]\n",
      " 2   CODIGO_LOCALIDAD                   16162 non-null  int64         \n",
      " 3   LOCALIDAD                          16162 non-null  object        \n",
      " 4   EDAD                               16162 non-null  int64         \n",
      " 5   UNIDAD                             16162 non-null  object        \n",
      " 6   GENERO                             16162 non-null  object        \n",
      " 7   RED                                16162 non-null  object        \n",
      " 8   TIPO_INCIDENTE                     16162 non-null  object        \n",
      " 9   PRIORIDAD                          16162 non-null  object        \n",
      "dtypes: datetime64[ns](1), int64(2), object(7)\n",
      "memory usage: 1.4+ MB\n",
      "None\n"
     ]
    }
   ],
   "source": [
    "#Formatear fechas\n",
    "meses = [enero,julio,agosto,septiembre,octubre,noviembre,diciembre]\n",
    "n=0;\n",
    "for m in meses:\n",
    "  m['FECHA_INICIO_DESPLAZAMIENTO_MOVIL']=pd.to_datetime(m['FECHA_INICIO_DESPLAZAMIENTO_MOVIL'])\n",
    "  #print(m.info())\n",
    "\n",
    "julio['FECHA_INCIDENTE']=pd.to_datetime(julio['FECHA_INCIDENTE'])\n",
    "\n",
    "#Imprimir info de los datas\n",
    "for m in meses:\n",
    " print(m.info())\n"
   ]
  },
  {
   "cell_type": "code",
   "execution_count": 26,
   "id": "68032d52-3c5f-4c30-8710-efe6c8fc1c00",
   "metadata": {},
   "outputs": [
    {
     "data": {
      "application/vnd.jupyter.widget-view+json": {
       "model_id": "4bfbeae832a64fb1b34af9dd21b9c5bc",
       "version_major": 2,
       "version_minor": 0
      },
      "text/plain": [
       "Summarize dataset:   0%|          | 0/24 [00:00<?, ?it/s]"
      ]
     },
     "metadata": {},
     "output_type": "display_data"
    },
    {
     "data": {
      "application/vnd.jupyter.widget-view+json": {
       "model_id": "47d43a7983b64d619532a340a2873d22",
       "version_major": 2,
       "version_minor": 0
      },
      "text/plain": [
       "Generate report structure:   0%|          | 0/1 [00:00<?, ?it/s]"
      ]
     },
     "metadata": {},
     "output_type": "display_data"
    },
    {
     "data": {
      "application/vnd.jupyter.widget-view+json": {
       "model_id": "c9d138b2abbe4468a09e59a12abc6cd7",
       "version_major": 2,
       "version_minor": 0
      },
      "text/plain": [
       "Render HTML:   0%|          | 0/1 [00:00<?, ?it/s]"
      ]
     },
     "metadata": {},
     "output_type": "display_data"
    },
    {
     "data": {
      "application/vnd.jupyter.widget-view+json": {
       "model_id": "2923d94e382044d1b946c4d91427516b",
       "version_major": 2,
       "version_minor": 0
      },
      "text/plain": [
       "Export report to file:   0%|          | 0/1 [00:00<?, ?it/s]"
      ]
     },
     "metadata": {},
     "output_type": "display_data"
    },
    {
     "data": {
      "application/vnd.jupyter.widget-view+json": {
       "model_id": "6767894815c5472c8db534cc04b57b9c",
       "version_major": 2,
       "version_minor": 0
      },
      "text/plain": [
       "Summarize dataset:   0%|          | 0/26 [00:00<?, ?it/s]"
      ]
     },
     "metadata": {},
     "output_type": "display_data"
    },
    {
     "data": {
      "application/vnd.jupyter.widget-view+json": {
       "model_id": "d5b6c7a667c94d6c82b32161cdee54f2",
       "version_major": 2,
       "version_minor": 0
      },
      "text/plain": [
       "Generate report structure:   0%|          | 0/1 [00:00<?, ?it/s]"
      ]
     },
     "metadata": {},
     "output_type": "display_data"
    },
    {
     "data": {
      "application/vnd.jupyter.widget-view+json": {
       "model_id": "3a36c2d2caa242dfa411f3cfc46bbf06",
       "version_major": 2,
       "version_minor": 0
      },
      "text/plain": [
       "Render HTML:   0%|          | 0/1 [00:00<?, ?it/s]"
      ]
     },
     "metadata": {},
     "output_type": "display_data"
    },
    {
     "data": {
      "application/vnd.jupyter.widget-view+json": {
       "model_id": "a2f98857e03140a78d7fae2c534e8f3b",
       "version_major": 2,
       "version_minor": 0
      },
      "text/plain": [
       "Export report to file:   0%|          | 0/1 [00:00<?, ?it/s]"
      ]
     },
     "metadata": {},
     "output_type": "display_data"
    },
    {
     "data": {
      "application/vnd.jupyter.widget-view+json": {
       "model_id": "e28260d29b1f4dac82ea6cc340ca6a76",
       "version_major": 2,
       "version_minor": 0
      },
      "text/plain": [
       "Summarize dataset:   0%|          | 0/26 [00:00<?, ?it/s]"
      ]
     },
     "metadata": {},
     "output_type": "display_data"
    },
    {
     "data": {
      "application/vnd.jupyter.widget-view+json": {
       "model_id": "49f2eb649053487986c6ec947878480b",
       "version_major": 2,
       "version_minor": 0
      },
      "text/plain": [
       "Generate report structure:   0%|          | 0/1 [00:00<?, ?it/s]"
      ]
     },
     "metadata": {},
     "output_type": "display_data"
    },
    {
     "data": {
      "application/vnd.jupyter.widget-view+json": {
       "model_id": "e2371ac4d5af4b64a007cf74aa83ce5a",
       "version_major": 2,
       "version_minor": 0
      },
      "text/plain": [
       "Render HTML:   0%|          | 0/1 [00:00<?, ?it/s]"
      ]
     },
     "metadata": {},
     "output_type": "display_data"
    },
    {
     "data": {
      "application/vnd.jupyter.widget-view+json": {
       "model_id": "19c9f161fa2145c5896c2472e4aa8c74",
       "version_major": 2,
       "version_minor": 0
      },
      "text/plain": [
       "Export report to file:   0%|          | 0/1 [00:00<?, ?it/s]"
      ]
     },
     "metadata": {},
     "output_type": "display_data"
    },
    {
     "data": {
      "application/vnd.jupyter.widget-view+json": {
       "model_id": "4a82d481ee8846b288cb24dde58ce878",
       "version_major": 2,
       "version_minor": 0
      },
      "text/plain": [
       "Summarize dataset:   0%|          | 0/24 [00:00<?, ?it/s]"
      ]
     },
     "metadata": {},
     "output_type": "display_data"
    },
    {
     "data": {
      "application/vnd.jupyter.widget-view+json": {
       "model_id": "7c84ae903b7d4484a2ce847773ca968c",
       "version_major": 2,
       "version_minor": 0
      },
      "text/plain": [
       "Generate report structure:   0%|          | 0/1 [00:00<?, ?it/s]"
      ]
     },
     "metadata": {},
     "output_type": "display_data"
    },
    {
     "data": {
      "application/vnd.jupyter.widget-view+json": {
       "model_id": "53cf20a980184cc8a140852d53fa86c0",
       "version_major": 2,
       "version_minor": 0
      },
      "text/plain": [
       "Render HTML:   0%|          | 0/1 [00:00<?, ?it/s]"
      ]
     },
     "metadata": {},
     "output_type": "display_data"
    },
    {
     "data": {
      "application/vnd.jupyter.widget-view+json": {
       "model_id": "a552f69d58dc45dbbf09bf9f5a036fe1",
       "version_major": 2,
       "version_minor": 0
      },
      "text/plain": [
       "Export report to file:   0%|          | 0/1 [00:00<?, ?it/s]"
      ]
     },
     "metadata": {},
     "output_type": "display_data"
    },
    {
     "data": {
      "application/vnd.jupyter.widget-view+json": {
       "model_id": "361cc09ac1ca4907ac1d46671cbb9618",
       "version_major": 2,
       "version_minor": 0
      },
      "text/plain": [
       "Summarize dataset:   0%|          | 0/24 [00:00<?, ?it/s]"
      ]
     },
     "metadata": {},
     "output_type": "display_data"
    },
    {
     "data": {
      "application/vnd.jupyter.widget-view+json": {
       "model_id": "b294b6ce501a4859b15c39ab53afdce6",
       "version_major": 2,
       "version_minor": 0
      },
      "text/plain": [
       "Generate report structure:   0%|          | 0/1 [00:00<?, ?it/s]"
      ]
     },
     "metadata": {},
     "output_type": "display_data"
    },
    {
     "data": {
      "application/vnd.jupyter.widget-view+json": {
       "model_id": "31aeeb93596343cd9c30da6abda7a892",
       "version_major": 2,
       "version_minor": 0
      },
      "text/plain": [
       "Render HTML:   0%|          | 0/1 [00:00<?, ?it/s]"
      ]
     },
     "metadata": {},
     "output_type": "display_data"
    },
    {
     "data": {
      "application/vnd.jupyter.widget-view+json": {
       "model_id": "4ddf018b9d894c08b768fe52ceb7af2e",
       "version_major": 2,
       "version_minor": 0
      },
      "text/plain": [
       "Export report to file:   0%|          | 0/1 [00:00<?, ?it/s]"
      ]
     },
     "metadata": {},
     "output_type": "display_data"
    },
    {
     "data": {
      "application/vnd.jupyter.widget-view+json": {
       "model_id": "1c08a8d652a14cb7a8391302009bdcc3",
       "version_major": 2,
       "version_minor": 0
      },
      "text/plain": [
       "Summarize dataset:   0%|          | 0/24 [00:00<?, ?it/s]"
      ]
     },
     "metadata": {},
     "output_type": "display_data"
    },
    {
     "data": {
      "application/vnd.jupyter.widget-view+json": {
       "model_id": "4858eed172b14695bf18f8c33354473a",
       "version_major": 2,
       "version_minor": 0
      },
      "text/plain": [
       "Generate report structure:   0%|          | 0/1 [00:00<?, ?it/s]"
      ]
     },
     "metadata": {},
     "output_type": "display_data"
    },
    {
     "data": {
      "application/vnd.jupyter.widget-view+json": {
       "model_id": "3ca54bf9c7164cfc972520290e0fe139",
       "version_major": 2,
       "version_minor": 0
      },
      "text/plain": [
       "Render HTML:   0%|          | 0/1 [00:00<?, ?it/s]"
      ]
     },
     "metadata": {},
     "output_type": "display_data"
    },
    {
     "data": {
      "application/vnd.jupyter.widget-view+json": {
       "model_id": "f1a95736b4e14456bd7bc23edc1f2598",
       "version_major": 2,
       "version_minor": 0
      },
      "text/plain": [
       "Export report to file:   0%|          | 0/1 [00:00<?, ?it/s]"
      ]
     },
     "metadata": {},
     "output_type": "display_data"
    },
    {
     "data": {
      "application/vnd.jupyter.widget-view+json": {
       "model_id": "d6a94752623c47eeb2b7b50210817366",
       "version_major": 2,
       "version_minor": 0
      },
      "text/plain": [
       "Summarize dataset:   0%|          | 0/24 [00:00<?, ?it/s]"
      ]
     },
     "metadata": {},
     "output_type": "display_data"
    },
    {
     "data": {
      "application/vnd.jupyter.widget-view+json": {
       "model_id": "9cc0eda4544347cb84917b64ecd10711",
       "version_major": 2,
       "version_minor": 0
      },
      "text/plain": [
       "Generate report structure:   0%|          | 0/1 [00:00<?, ?it/s]"
      ]
     },
     "metadata": {},
     "output_type": "display_data"
    },
    {
     "data": {
      "application/vnd.jupyter.widget-view+json": {
       "model_id": "076c1beee11c463b840273eb05271d96",
       "version_major": 2,
       "version_minor": 0
      },
      "text/plain": [
       "Render HTML:   0%|          | 0/1 [00:00<?, ?it/s]"
      ]
     },
     "metadata": {},
     "output_type": "display_data"
    },
    {
     "data": {
      "application/vnd.jupyter.widget-view+json": {
       "model_id": "ff22f9dc541a406d962482c232609d59",
       "version_major": 2,
       "version_minor": 0
      },
      "text/plain": [
       "Export report to file:   0%|          | 0/1 [00:00<?, ?it/s]"
      ]
     },
     "metadata": {},
     "output_type": "display_data"
    }
   ],
   "source": [
    "#Crear reporte por meses\n",
    "meses = [enero,julio,agosto,septiembre,octubre,noviembre,diciembre]\n",
    "n=0;\n",
    "for m in meses:\n",
    "    profile = ProfileReport(df=m)\n",
    "    n=n+1;\n",
    "    nombre_salida = '/reports/'+'profile_raw_data_mes_num {}_2019.html'.format(n)\n",
    "    profile.to_file(output_file=project_dir +nombre_salida )\n"
   ]
  },
  {
   "cell_type": "code",
   "execution_count": 28,
   "id": "5699fd4d-a46b-4bae-957b-662dffe6bff6",
   "metadata": {},
   "outputs": [],
   "source": [
    "#Guardar meses procesados\n",
    "n=0;\n",
    "for m in meses:\n",
    "    profile = ProfileReport(df=m)\n",
    "    n=n+1;\n",
    "    nombre_salida = '/processed/'+'clean_llamadas_123_mes_num {}_2019.csv'.format(n)\n",
    "    m.to_csv(project_dir + '/src' +nombre_salida, encoding='latin1', sep=';', index=False)"
   ]
  },
  {
   "cell_type": "code",
   "execution_count": 29,
   "id": "8742719c-6435-4c0e-9800-4a89ae71652f",
   "metadata": {},
   "outputs": [],
   "source": [
    "#Unificar meses\n",
    "informe_final = pd.concat([enero,julio,agosto,septiembre,octubre,noviembre,diciembre])"
   ]
  },
  {
   "cell_type": "code",
   "execution_count": 30,
   "id": "de99d64b-5449-4c5f-a0f9-849915ca1eaf",
   "metadata": {},
   "outputs": [],
   "source": [
    "#Guardar el final BD\n",
    "nombre_salida = '/processed/'+'clean_llamadas_123_final_2019.csv'.format(n)\n",
    "informe_final.to_csv(project_dir + '/src' +nombre_salida, encoding='latin1', sep=';', index=False)"
   ]
  },
  {
   "cell_type": "code",
   "execution_count": 31,
   "id": "2859fc91-480c-4875-bb33-dfdf85a88f8e",
   "metadata": {},
   "outputs": [
    {
     "data": {
      "application/vnd.jupyter.widget-view+json": {
       "model_id": "ac5bd2b4ca684d6a8b9e25f7234de269",
       "version_major": 2,
       "version_minor": 0
      },
      "text/plain": [
       "Summarize dataset:   0%|          | 0/27 [00:00<?, ?it/s]"
      ]
     },
     "metadata": {},
     "output_type": "display_data"
    },
    {
     "data": {
      "application/vnd.jupyter.widget-view+json": {
       "model_id": "569a37cb15d349fab93082ae32f61230",
       "version_major": 2,
       "version_minor": 0
      },
      "text/plain": [
       "Generate report structure:   0%|          | 0/1 [00:00<?, ?it/s]"
      ]
     },
     "metadata": {},
     "output_type": "display_data"
    },
    {
     "data": {
      "application/vnd.jupyter.widget-view+json": {
       "model_id": "267cf669458c43939aab154626d62b6a",
       "version_major": 2,
       "version_minor": 0
      },
      "text/plain": [
       "Render HTML:   0%|          | 0/1 [00:00<?, ?it/s]"
      ]
     },
     "metadata": {},
     "output_type": "display_data"
    },
    {
     "data": {
      "application/vnd.jupyter.widget-view+json": {
       "model_id": "f7087e51c8454cab975ae00bbae238e2",
       "version_major": 2,
       "version_minor": 0
      },
      "text/plain": [
       "Export report to file:   0%|          | 0/1 [00:00<?, ?it/s]"
      ]
     },
     "metadata": {},
     "output_type": "display_data"
    }
   ],
   "source": [
    "#Crear informe fnal\n",
    "nombre_salida = '/reports/'+'profile_raw_data_final_2019.html'.format(n)\n",
    "profile = ProfileReport(df=informe_final)\n",
    "profile.to_file(output_file=project_dir +nombre_salida )"
   ]
  },
  {
   "cell_type": "code",
   "execution_count": null,
   "id": "09c8e5f9-0773-40e0-af9f-992b72349a32",
   "metadata": {},
   "outputs": [],
   "source": []
  }
 ],
 "metadata": {
  "environment": {
   "kernel": "python3",
   "name": "common-cpu.m90",
   "type": "gcloud",
   "uri": "gcr.io/deeplearning-platform-release/base-cpu:m90"
  },
  "kernelspec": {
   "display_name": "Python 3",
   "language": "python",
   "name": "python3"
  },
  "language_info": {
   "codemirror_mode": {
    "name": "ipython",
    "version": 3
   },
   "file_extension": ".py",
   "mimetype": "text/x-python",
   "name": "python",
   "nbconvert_exporter": "python",
   "pygments_lexer": "ipython3",
   "version": "3.7.12"
  }
 },
 "nbformat": 4,
 "nbformat_minor": 5
}
