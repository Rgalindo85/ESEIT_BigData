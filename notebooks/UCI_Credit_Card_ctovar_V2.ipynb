{
 "cells": [
  {
   "cell_type": "markdown",
   "id": "efccbc89-fb69-4866-ad66-eca1b5eb5d3b",
   "metadata": {},
   "source": [
    "# UCI Credit Card\n",
    "___________________\n",
    "\n",
    "**Carolina Tovar Castiblanco**\n",
    "_____"
   ]
  },
  {
   "cell_type": "code",
   "execution_count": 1,
   "id": "559ade2c-eaa5-4e69-bba4-857b9a65b709",
   "metadata": {},
   "outputs": [
    {
     "name": "stdout",
     "output_type": "stream",
     "text": [
      "/home/jupyter/ESEIT_BigData/notebooks\n",
      "/home/jupyter/ESEIT_BigData\n"
     ]
    }
   ],
   "source": [
    "import os\n",
    "\n",
    "import pandas as pd\n",
    "import numpy as np\n",
    "import seaborn as sns\n",
    "import matplotlib.pyplot as plt\n",
    "import plotly.express as px\n",
    "\n",
    "from sklearn.model_selection import train_test_split\n",
    "from sklearn.linear_model import LogisticRegression\n",
    "from sklearn.svm          import SVC\n",
    "from sklearn.preprocessing import StandardScaler\n",
    "from sklearn.preprocessing import LabelEncoder\n",
    "from sklearn.decomposition import PCA\n",
    "from sklearn.metrics import confusion_matrix\n",
    "import xgboost as xgb\n",
    "from sklearn.metrics import accuracy_score, precision_score, recall_score, f1_score\n",
    "\n",
    "from pathlib import Path\n",
    "current_dir = Path('.').resolve()\n",
    "project_dir = current_dir.parent\n",
    "\n",
    "print(current_dir)\n",
    "print(project_dir)"
   ]
  },
  {
   "cell_type": "code",
   "execution_count": 2,
   "id": "7182da14-6395-4b11-b7b0-0ba6085b1890",
   "metadata": {},
   "outputs": [
    {
     "data": {
      "text/html": [
       "<div>\n",
       "<style scoped>\n",
       "    .dataframe tbody tr th:only-of-type {\n",
       "        vertical-align: middle;\n",
       "    }\n",
       "\n",
       "    .dataframe tbody tr th {\n",
       "        vertical-align: top;\n",
       "    }\n",
       "\n",
       "    .dataframe thead th {\n",
       "        text-align: right;\n",
       "    }\n",
       "</style>\n",
       "<table border=\"1\" class=\"dataframe\">\n",
       "  <thead>\n",
       "    <tr style=\"text-align: right;\">\n",
       "      <th></th>\n",
       "      <th>ID</th>\n",
       "      <th>LIMIT_BAL</th>\n",
       "      <th>SEX</th>\n",
       "      <th>EDUCATION</th>\n",
       "      <th>MARRIAGE</th>\n",
       "      <th>AGE</th>\n",
       "      <th>PAY_0</th>\n",
       "      <th>PAY_2</th>\n",
       "      <th>PAY_3</th>\n",
       "      <th>PAY_4</th>\n",
       "      <th>...</th>\n",
       "      <th>BILL_AMT4</th>\n",
       "      <th>BILL_AMT5</th>\n",
       "      <th>BILL_AMT6</th>\n",
       "      <th>PAY_AMT1</th>\n",
       "      <th>PAY_AMT2</th>\n",
       "      <th>PAY_AMT3</th>\n",
       "      <th>PAY_AMT4</th>\n",
       "      <th>PAY_AMT5</th>\n",
       "      <th>PAY_AMT6</th>\n",
       "      <th>default.payment.next.month</th>\n",
       "    </tr>\n",
       "  </thead>\n",
       "  <tbody>\n",
       "    <tr>\n",
       "      <th>0</th>\n",
       "      <td>1</td>\n",
       "      <td>20000.0</td>\n",
       "      <td>2</td>\n",
       "      <td>2</td>\n",
       "      <td>1</td>\n",
       "      <td>24</td>\n",
       "      <td>2</td>\n",
       "      <td>2</td>\n",
       "      <td>-1</td>\n",
       "      <td>-1</td>\n",
       "      <td>...</td>\n",
       "      <td>0.0</td>\n",
       "      <td>0.0</td>\n",
       "      <td>0.0</td>\n",
       "      <td>0.0</td>\n",
       "      <td>689.0</td>\n",
       "      <td>0.0</td>\n",
       "      <td>0.0</td>\n",
       "      <td>0.0</td>\n",
       "      <td>0.0</td>\n",
       "      <td>1</td>\n",
       "    </tr>\n",
       "    <tr>\n",
       "      <th>1</th>\n",
       "      <td>2</td>\n",
       "      <td>120000.0</td>\n",
       "      <td>2</td>\n",
       "      <td>2</td>\n",
       "      <td>2</td>\n",
       "      <td>26</td>\n",
       "      <td>-1</td>\n",
       "      <td>2</td>\n",
       "      <td>0</td>\n",
       "      <td>0</td>\n",
       "      <td>...</td>\n",
       "      <td>3272.0</td>\n",
       "      <td>3455.0</td>\n",
       "      <td>3261.0</td>\n",
       "      <td>0.0</td>\n",
       "      <td>1000.0</td>\n",
       "      <td>1000.0</td>\n",
       "      <td>1000.0</td>\n",
       "      <td>0.0</td>\n",
       "      <td>2000.0</td>\n",
       "      <td>1</td>\n",
       "    </tr>\n",
       "    <tr>\n",
       "      <th>2</th>\n",
       "      <td>3</td>\n",
       "      <td>90000.0</td>\n",
       "      <td>2</td>\n",
       "      <td>2</td>\n",
       "      <td>2</td>\n",
       "      <td>34</td>\n",
       "      <td>0</td>\n",
       "      <td>0</td>\n",
       "      <td>0</td>\n",
       "      <td>0</td>\n",
       "      <td>...</td>\n",
       "      <td>14331.0</td>\n",
       "      <td>14948.0</td>\n",
       "      <td>15549.0</td>\n",
       "      <td>1518.0</td>\n",
       "      <td>1500.0</td>\n",
       "      <td>1000.0</td>\n",
       "      <td>1000.0</td>\n",
       "      <td>1000.0</td>\n",
       "      <td>5000.0</td>\n",
       "      <td>0</td>\n",
       "    </tr>\n",
       "    <tr>\n",
       "      <th>3</th>\n",
       "      <td>4</td>\n",
       "      <td>50000.0</td>\n",
       "      <td>2</td>\n",
       "      <td>2</td>\n",
       "      <td>1</td>\n",
       "      <td>37</td>\n",
       "      <td>0</td>\n",
       "      <td>0</td>\n",
       "      <td>0</td>\n",
       "      <td>0</td>\n",
       "      <td>...</td>\n",
       "      <td>28314.0</td>\n",
       "      <td>28959.0</td>\n",
       "      <td>29547.0</td>\n",
       "      <td>2000.0</td>\n",
       "      <td>2019.0</td>\n",
       "      <td>1200.0</td>\n",
       "      <td>1100.0</td>\n",
       "      <td>1069.0</td>\n",
       "      <td>1000.0</td>\n",
       "      <td>0</td>\n",
       "    </tr>\n",
       "    <tr>\n",
       "      <th>4</th>\n",
       "      <td>5</td>\n",
       "      <td>50000.0</td>\n",
       "      <td>1</td>\n",
       "      <td>2</td>\n",
       "      <td>1</td>\n",
       "      <td>57</td>\n",
       "      <td>-1</td>\n",
       "      <td>0</td>\n",
       "      <td>-1</td>\n",
       "      <td>0</td>\n",
       "      <td>...</td>\n",
       "      <td>20940.0</td>\n",
       "      <td>19146.0</td>\n",
       "      <td>19131.0</td>\n",
       "      <td>2000.0</td>\n",
       "      <td>36681.0</td>\n",
       "      <td>10000.0</td>\n",
       "      <td>9000.0</td>\n",
       "      <td>689.0</td>\n",
       "      <td>679.0</td>\n",
       "      <td>0</td>\n",
       "    </tr>\n",
       "  </tbody>\n",
       "</table>\n",
       "<p>5 rows × 25 columns</p>\n",
       "</div>"
      ],
      "text/plain": [
       "   ID  LIMIT_BAL  SEX  EDUCATION  MARRIAGE  AGE  PAY_0  PAY_2  PAY_3  PAY_4  \\\n",
       "0   1    20000.0    2          2         1   24      2      2     -1     -1   \n",
       "1   2   120000.0    2          2         2   26     -1      2      0      0   \n",
       "2   3    90000.0    2          2         2   34      0      0      0      0   \n",
       "3   4    50000.0    2          2         1   37      0      0      0      0   \n",
       "4   5    50000.0    1          2         1   57     -1      0     -1      0   \n",
       "\n",
       "   ...  BILL_AMT4  BILL_AMT5  BILL_AMT6  PAY_AMT1  PAY_AMT2  PAY_AMT3  \\\n",
       "0  ...        0.0        0.0        0.0       0.0     689.0       0.0   \n",
       "1  ...     3272.0     3455.0     3261.0       0.0    1000.0    1000.0   \n",
       "2  ...    14331.0    14948.0    15549.0    1518.0    1500.0    1000.0   \n",
       "3  ...    28314.0    28959.0    29547.0    2000.0    2019.0    1200.0   \n",
       "4  ...    20940.0    19146.0    19131.0    2000.0   36681.0   10000.0   \n",
       "\n",
       "   PAY_AMT4  PAY_AMT5  PAY_AMT6  default.payment.next.month  \n",
       "0       0.0       0.0       0.0                           1  \n",
       "1    1000.0       0.0    2000.0                           1  \n",
       "2    1000.0    1000.0    5000.0                           0  \n",
       "3    1100.0    1069.0    1000.0                           0  \n",
       "4    9000.0     689.0     679.0                           0  \n",
       "\n",
       "[5 rows x 25 columns]"
      ]
     },
     "execution_count": 2,
     "metadata": {},
     "output_type": "execute_result"
    }
   ],
   "source": [
    "file_data = os.path.join(project_dir, 'data', 'raw', 'UCI_Credit_Card.csv')\n",
    "data = pd.read_csv(file_data, header=0)\n",
    "data.head()"
   ]
  },
  {
   "cell_type": "code",
   "execution_count": 3,
   "id": "f3d838c5-d617-4fb4-b418-cf79176c8e52",
   "metadata": {},
   "outputs": [
    {
     "name": "stdout",
     "output_type": "stream",
     "text": [
      "<class 'pandas.core.frame.DataFrame'>\n",
      "RangeIndex: 30000 entries, 0 to 29999\n",
      "Data columns (total 25 columns):\n",
      " #   Column                      Non-Null Count  Dtype  \n",
      "---  ------                      --------------  -----  \n",
      " 0   ID                          30000 non-null  int64  \n",
      " 1   LIMIT_BAL                   30000 non-null  float64\n",
      " 2   SEX                         30000 non-null  int64  \n",
      " 3   EDUCATION                   30000 non-null  int64  \n",
      " 4   MARRIAGE                    30000 non-null  int64  \n",
      " 5   AGE                         30000 non-null  int64  \n",
      " 6   PAY_0                       30000 non-null  int64  \n",
      " 7   PAY_2                       30000 non-null  int64  \n",
      " 8   PAY_3                       30000 non-null  int64  \n",
      " 9   PAY_4                       30000 non-null  int64  \n",
      " 10  PAY_5                       30000 non-null  int64  \n",
      " 11  PAY_6                       30000 non-null  int64  \n",
      " 12  BILL_AMT1                   30000 non-null  float64\n",
      " 13  BILL_AMT2                   30000 non-null  float64\n",
      " 14  BILL_AMT3                   30000 non-null  float64\n",
      " 15  BILL_AMT4                   30000 non-null  float64\n",
      " 16  BILL_AMT5                   30000 non-null  float64\n",
      " 17  BILL_AMT6                   30000 non-null  float64\n",
      " 18  PAY_AMT1                    30000 non-null  float64\n",
      " 19  PAY_AMT2                    30000 non-null  float64\n",
      " 20  PAY_AMT3                    30000 non-null  float64\n",
      " 21  PAY_AMT4                    30000 non-null  float64\n",
      " 22  PAY_AMT5                    30000 non-null  float64\n",
      " 23  PAY_AMT6                    30000 non-null  float64\n",
      " 24  default.payment.next.month  30000 non-null  int64  \n",
      "dtypes: float64(13), int64(12)\n",
      "memory usage: 5.7 MB\n"
     ]
    }
   ],
   "source": [
    "data.info()"
   ]
  },
  {
   "cell_type": "markdown",
   "id": "63215bca-bd5e-4ad1-ba96-ee95277d3304",
   "metadata": {},
   "source": [
    "Medata disponible del dataset:\n",
    "\n",
    "| Campo | Definición | \n",
    "| --- | --- | \n",
    "| ID |  ID of each client |\n",
    "|Amount of previous payment in September, 2005 (NT dollar) |  Amount of given credit in NT dollars (includes individual and family/supplementary credit | \n",
    "| SEX | Gender (1=male, 2=female) | \n",
    "| EDUCATION | (1=graduate school, 2=university, 3=high school, 4=others, 5=unknown, 6=unknown)  | \n",
    "| MARRIAGE |  Marital status (1=married, 2=single, 3=others) | \n",
    "| AGE |  Age in years  | \n",
    "| PAY_0 |   Repayment status in September, 2005 (-1=pay duly, 1=payment delay for one month, 2=payment delay for two months, … 8=payment delay for eight months, 9=payment delay for nine months and above) | \n",
    "| PAY_2 |  Repayment status in August, 2005 (scale same as above) | \n",
    "| PAY_3 |  Repayment status in July, 2005 (scale same as above) | \n",
    "| PAY_4 |  Repayment status in June, 2005 (scale same as above) | \n",
    "| PAY_5 | Repayment status in May, 2005 (scale same as above) | \n",
    "| PAY_6 | Repayment status in April, 2005 (scale same as above) | \n",
    "| BILL_AMT1 | Amount of bill statement in September, 2005 (NT dollar) | \n",
    "| BILL_AMT2 | Amount of bill statement in Agust, 2005 (NT dollar) |\n",
    "| BILL_AMT3 | Amount of bill statement in July, 2005 (NT dollar) | \n",
    "| BILL_AMT4 | Amount of bill statement in June, 2005 (NT dollar) | \n",
    "| BILL_AMT5 | Amount of bill statement in May, 2005 (NT dollar) | \n",
    "| BILL_AMT6 | Amount of bill statement in April, 2005 (NT dollar) | \n",
    "| PAY_AMT1 | Amount of previous payment in September, 2005 (NT dollar) | \n",
    "| PAY_AMT2 | Amount of previous payment in Agust, 2005 (NT dollar) | \n",
    "| PAY_AMT3 | Amount of previous payment in July, 2005 (NT dollar) | \n",
    "| PAY_AMT4 | Amount of previous payment in June, 2005 (NT dollar) | \n",
    "| PAY_AMT5 | Amount of previous payment in May, 2005 (NT dollar) | \n",
    "| PAY_AMT6 | Amount of previous payment in April, 2005 (NT dollar) | \n",
    "| default.payment.next.month |  Default payment (1=yes, 0=no) | \n"
   ]
  },
  {
   "cell_type": "markdown",
   "id": "708a2d0d-5b8e-4edc-8884-39d17e4116bf",
   "metadata": {
    "tags": []
   },
   "source": [
    "## Exploración, limpieza y pre procesamiento de datos"
   ]
  },
  {
   "cell_type": "markdown",
   "id": "a8971473-be25-44a9-abfa-2bc9aeb8291b",
   "metadata": {},
   "source": [
    "**Exploración de las variables demogŕaficas para corroborar que sea consistente con la información de la metadata**"
   ]
  },
  {
   "cell_type": "code",
   "execution_count": 4,
   "id": "4ede6f99-bfec-4875-b85d-39c083f3ceae",
   "metadata": {},
   "outputs": [
    {
     "data": {
      "text/plain": [
       "2    18112\n",
       "1    11888\n",
       "Name: SEX, dtype: int64"
      ]
     },
     "execution_count": 4,
     "metadata": {},
     "output_type": "execute_result"
    }
   ],
   "source": [
    "data['SEX'].value_counts()"
   ]
  },
  {
   "cell_type": "code",
   "execution_count": 5,
   "id": "b6d40da4-590a-4eb9-b4fd-0f1a44b7b5b9",
   "metadata": {},
   "outputs": [
    {
     "data": {
      "text/plain": [
       "2    14030\n",
       "1    10585\n",
       "3     4917\n",
       "5      280\n",
       "4      123\n",
       "6       51\n",
       "0       14\n",
       "Name: EDUCATION, dtype: int64"
      ]
     },
     "execution_count": 5,
     "metadata": {},
     "output_type": "execute_result"
    }
   ],
   "source": [
    "data['EDUCATION'].value_counts()"
   ]
  },
  {
   "cell_type": "code",
   "execution_count": 6,
   "id": "0c8e662b-e4a0-441b-9857-53e0ba8be2d4",
   "metadata": {},
   "outputs": [
    {
     "data": {
      "text/plain": [
       "2    15964\n",
       "1    13659\n",
       "3      323\n",
       "0       54\n",
       "Name: MARRIAGE, dtype: int64"
      ]
     },
     "execution_count": 6,
     "metadata": {},
     "output_type": "execute_result"
    }
   ],
   "source": [
    "data['MARRIAGE'].value_counts()"
   ]
  },
  {
   "cell_type": "code",
   "execution_count": 7,
   "id": "0836c2e1-c889-4da4-ac60-24adc23b7002",
   "metadata": {
    "scrolled": true,
    "tags": []
   },
   "outputs": [
    {
     "data": {
      "text/plain": [
       "29    1605\n",
       "27    1477\n",
       "28    1409\n",
       "30    1395\n",
       "26    1256\n",
       "31    1217\n",
       "25    1186\n",
       "34    1162\n",
       "32    1158\n",
       "33    1146\n",
       "24    1127\n",
       "35    1113\n",
       "36    1108\n",
       "37    1041\n",
       "39     954\n",
       "38     944\n",
       "23     931\n",
       "40     870\n",
       "41     824\n",
       "42     794\n",
       "44     700\n",
       "43     670\n",
       "45     617\n",
       "46     570\n",
       "22     560\n",
       "47     501\n",
       "48     466\n",
       "49     452\n",
       "50     411\n",
       "51     340\n",
       "53     325\n",
       "52     304\n",
       "54     247\n",
       "55     209\n",
       "56     178\n",
       "58     122\n",
       "57     122\n",
       "59      83\n",
       "60      67\n",
       "21      67\n",
       "61      56\n",
       "62      44\n",
       "63      31\n",
       "64      31\n",
       "66      25\n",
       "65      24\n",
       "67      16\n",
       "69      15\n",
       "70      10\n",
       "68       5\n",
       "73       4\n",
       "72       3\n",
       "75       3\n",
       "71       3\n",
       "79       1\n",
       "74       1\n",
       "Name: AGE, dtype: int64"
      ]
     },
     "execution_count": 7,
     "metadata": {},
     "output_type": "execute_result"
    }
   ],
   "source": [
    "data['AGE'].value_counts()"
   ]
  },
  {
   "cell_type": "markdown",
   "id": "53222a78-e695-4450-8e24-f37b7487b59a",
   "metadata": {},
   "source": [
    "**Exploración de las variables restantes para corroborar que sea consistente con la información de la metadata**"
   ]
  },
  {
   "cell_type": "code",
   "execution_count": 8,
   "id": "408bf5e2-f37e-4159-b4ab-2dd26c4427fa",
   "metadata": {},
   "outputs": [
    {
     "data": {
      "text/plain": [
       " 0    14737\n",
       "-1     5686\n",
       " 1     3688\n",
       "-2     2759\n",
       " 2     2667\n",
       " 3      322\n",
       " 4       76\n",
       " 5       26\n",
       " 8       19\n",
       " 6       11\n",
       " 7        9\n",
       "Name: PAY_0, dtype: int64"
      ]
     },
     "execution_count": 8,
     "metadata": {},
     "output_type": "execute_result"
    }
   ],
   "source": [
    "data['PAY_0'].value_counts()"
   ]
  },
  {
   "cell_type": "code",
   "execution_count": 9,
   "id": "1efc93ce-7f1d-4c34-a851-f217f5e77182",
   "metadata": {},
   "outputs": [
    {
     "data": {
      "text/plain": [
       " 0    15730\n",
       "-1     6050\n",
       " 2     3927\n",
       "-2     3782\n",
       " 3      326\n",
       " 4       99\n",
       " 1       28\n",
       " 5       25\n",
       " 7       20\n",
       " 6       12\n",
       " 8        1\n",
       "Name: PAY_2, dtype: int64"
      ]
     },
     "execution_count": 9,
     "metadata": {},
     "output_type": "execute_result"
    }
   ],
   "source": [
    "data['PAY_2'].value_counts()"
   ]
  },
  {
   "cell_type": "code",
   "execution_count": 10,
   "id": "7eef073d-4a3b-4b50-aab7-e8d3beb5306e",
   "metadata": {},
   "outputs": [
    {
     "data": {
      "text/plain": [
       " 0    15764\n",
       "-1     5938\n",
       "-2     4085\n",
       " 2     3819\n",
       " 3      240\n",
       " 4       76\n",
       " 7       27\n",
       " 6       23\n",
       " 5       21\n",
       " 1        4\n",
       " 8        3\n",
       "Name: PAY_3, dtype: int64"
      ]
     },
     "execution_count": 10,
     "metadata": {},
     "output_type": "execute_result"
    }
   ],
   "source": [
    "data['PAY_3'].value_counts()"
   ]
  },
  {
   "cell_type": "code",
   "execution_count": 11,
   "id": "d2994243-1c1c-48b8-b8fa-988d265373e8",
   "metadata": {},
   "outputs": [
    {
     "data": {
      "text/plain": [
       " 0    16455\n",
       "-1     5687\n",
       "-2     4348\n",
       " 2     3159\n",
       " 3      180\n",
       " 4       69\n",
       " 7       58\n",
       " 5       35\n",
       " 6        5\n",
       " 1        2\n",
       " 8        2\n",
       "Name: PAY_4, dtype: int64"
      ]
     },
     "execution_count": 11,
     "metadata": {},
     "output_type": "execute_result"
    }
   ],
   "source": [
    "data['PAY_4'].value_counts()"
   ]
  },
  {
   "cell_type": "code",
   "execution_count": 12,
   "id": "23d39278-8fd4-4617-8337-88c7236e8b80",
   "metadata": {},
   "outputs": [
    {
     "data": {
      "text/plain": [
       " 0    16947\n",
       "-1     5539\n",
       "-2     4546\n",
       " 2     2626\n",
       " 3      178\n",
       " 4       84\n",
       " 7       58\n",
       " 5       17\n",
       " 6        4\n",
       " 8        1\n",
       "Name: PAY_5, dtype: int64"
      ]
     },
     "execution_count": 12,
     "metadata": {},
     "output_type": "execute_result"
    }
   ],
   "source": [
    "data['PAY_5'].value_counts()"
   ]
  },
  {
   "cell_type": "code",
   "execution_count": 13,
   "id": "6348eeb6-7ced-4fa6-9e5e-4119806ba9ce",
   "metadata": {},
   "outputs": [
    {
     "data": {
      "text/plain": [
       " 0    16286\n",
       "-1     5740\n",
       "-2     4895\n",
       " 2     2766\n",
       " 3      184\n",
       " 4       49\n",
       " 7       46\n",
       " 6       19\n",
       " 5       13\n",
       " 8        2\n",
       "Name: PAY_6, dtype: int64"
      ]
     },
     "execution_count": 13,
     "metadata": {},
     "output_type": "execute_result"
    }
   ],
   "source": [
    "data['PAY_6'].value_counts()"
   ]
  },
  {
   "cell_type": "code",
   "execution_count": 14,
   "id": "39435836-37ae-461b-b37d-d735d4b9fdca",
   "metadata": {},
   "outputs": [
    {
     "data": {
      "text/plain": [
       "0    23364\n",
       "1     6636\n",
       "Name: default.payment.next.month, dtype: int64"
      ]
     },
     "execution_count": 14,
     "metadata": {},
     "output_type": "execute_result"
    }
   ],
   "source": [
    "data['default.payment.next.month'].value_counts()"
   ]
  },
  {
   "cell_type": "markdown",
   "id": "8491f089-ff91-4797-ab67-2ef7377276d8",
   "metadata": {},
   "source": [
    "___\n",
    "\n",
    "De la exploración se concluye lo siguiente:\n",
    "- **EDUCATION** Los que tienen valores 0, 5 y 6 volverlos  4 \"others\" ya que es la clasificación por defecto cuando no se especifica el nivel educativo\n",
    "\n",
    "- **MARRIAGE** : Los que son 0 asignarle valor 3 \"others\" ya que es la clasificación que fue dada por defecto al estado civil diferente a soltero y casado\n",
    "\n",
    "- **CAMPOS PAY**: Los que contienen valores negativos como -2 y -1 se pueden volver 0 ya que se puede inferir de acuerdo a la descripción que fueron pagados a tiempo\n",
    "\n",
    "\n",
    "A continuación se realizan los cambios definidos:\n",
    "\n",
    "___________"
   ]
  },
  {
   "cell_type": "code",
   "execution_count": 15,
   "id": "b357b4c3-4ba7-4fa0-868b-5bf9be32c906",
   "metadata": {},
   "outputs": [
    {
     "data": {
      "text/plain": [
       "2    14030\n",
       "1    10585\n",
       "3     4917\n",
       "5      280\n",
       "4      123\n",
       "6       51\n",
       "0       14\n",
       "Name: EDUCATION, dtype: int64"
      ]
     },
     "execution_count": 15,
     "metadata": {},
     "output_type": "execute_result"
    }
   ],
   "source": [
    "col1 = 'EDUCATION'\n",
    "data[col1].value_counts()"
   ]
  },
  {
   "cell_type": "code",
   "execution_count": 16,
   "id": "37af39dc-390f-4f67-b89b-f0c802471eae",
   "metadata": {},
   "outputs": [
    {
     "data": {
      "text/plain": [
       "2    14030\n",
       "1    10585\n",
       "3     4917\n",
       "4      468\n",
       "Name: EDUCATION, dtype: int64"
      ]
     },
     "execution_count": 16,
     "metadata": {},
     "output_type": "execute_result"
    }
   ],
   "source": [
    "data[col1].replace(0,4,inplace=True)\n",
    "data[col1].replace(5,4,inplace=True)\n",
    "data[col1].replace(6,4,inplace=True)\n",
    "data[col1].value_counts()"
   ]
  },
  {
   "cell_type": "code",
   "execution_count": 17,
   "id": "5bd87fdd-7552-41b4-9f4d-09b58680d8e6",
   "metadata": {},
   "outputs": [
    {
     "data": {
      "text/plain": [
       "2    15964\n",
       "1    13659\n",
       "3      323\n",
       "0       54\n",
       "Name: MARRIAGE, dtype: int64"
      ]
     },
     "execution_count": 17,
     "metadata": {},
     "output_type": "execute_result"
    }
   ],
   "source": [
    "col2= 'MARRIAGE'\n",
    "data[col2].value_counts()"
   ]
  },
  {
   "cell_type": "code",
   "execution_count": 18,
   "id": "2171a00b-9e67-48cc-a43f-a3804d232a50",
   "metadata": {},
   "outputs": [
    {
     "data": {
      "text/plain": [
       "2    15964\n",
       "1    13659\n",
       "3      377\n",
       "Name: MARRIAGE, dtype: int64"
      ]
     },
     "execution_count": 18,
     "metadata": {},
     "output_type": "execute_result"
    }
   ],
   "source": [
    "data[col2].replace(0,3,inplace=True)\n",
    "data[col2].value_counts()"
   ]
  },
  {
   "cell_type": "code",
   "execution_count": 19,
   "id": "058f7227-8612-4fc0-8b34-9b79b6b88c83",
   "metadata": {},
   "outputs": [
    {
     "data": {
      "text/plain": [
       " 0    14737\n",
       "-1     5686\n",
       " 1     3688\n",
       "-2     2759\n",
       " 2     2667\n",
       " 3      322\n",
       " 4       76\n",
       " 5       26\n",
       " 8       19\n",
       " 6       11\n",
       " 7        9\n",
       "Name: PAY_0, dtype: int64"
      ]
     },
     "execution_count": 19,
     "metadata": {},
     "output_type": "execute_result"
    }
   ],
   "source": [
    "col3='PAY_0'\n",
    "data[col3].value_counts()"
   ]
  },
  {
   "cell_type": "code",
   "execution_count": 20,
   "id": "c7a9ce20-0dda-4aac-8778-759ac3e1dc35",
   "metadata": {},
   "outputs": [
    {
     "data": {
      "text/plain": [
       "0    23182\n",
       "1     3688\n",
       "2     2667\n",
       "3      322\n",
       "4       76\n",
       "5       26\n",
       "8       19\n",
       "6       11\n",
       "7        9\n",
       "Name: PAY_0, dtype: int64"
      ]
     },
     "execution_count": 20,
     "metadata": {},
     "output_type": "execute_result"
    }
   ],
   "source": [
    "data[col3].replace(-1,0,inplace=True)\n",
    "data[col3].replace(-2,0,inplace=True)\n",
    "data[col3].value_counts()"
   ]
  },
  {
   "cell_type": "code",
   "execution_count": 21,
   "id": "30d5d256-379e-450b-abef-410a63c518b7",
   "metadata": {},
   "outputs": [
    {
     "data": {
      "text/plain": [
       " 0    15730\n",
       "-1     6050\n",
       " 2     3927\n",
       "-2     3782\n",
       " 3      326\n",
       " 4       99\n",
       " 1       28\n",
       " 5       25\n",
       " 7       20\n",
       " 6       12\n",
       " 8        1\n",
       "Name: PAY_2, dtype: int64"
      ]
     },
     "execution_count": 21,
     "metadata": {},
     "output_type": "execute_result"
    }
   ],
   "source": [
    "col4='PAY_2'\n",
    "data[col4].value_counts()"
   ]
  },
  {
   "cell_type": "code",
   "execution_count": 22,
   "id": "f670a882-0e15-4c2e-9779-49fe3b67c045",
   "metadata": {},
   "outputs": [
    {
     "data": {
      "text/plain": [
       "0    25562\n",
       "2     3927\n",
       "3      326\n",
       "4       99\n",
       "1       28\n",
       "5       25\n",
       "7       20\n",
       "6       12\n",
       "8        1\n",
       "Name: PAY_2, dtype: int64"
      ]
     },
     "execution_count": 22,
     "metadata": {},
     "output_type": "execute_result"
    }
   ],
   "source": [
    "data[col4].replace(-1,0,inplace=True)\n",
    "data[col4].replace(-2,0,inplace=True)\n",
    "data[col4].value_counts()"
   ]
  },
  {
   "cell_type": "code",
   "execution_count": 23,
   "id": "aaeeb159-f576-4af1-a7ca-e81c06133696",
   "metadata": {},
   "outputs": [
    {
     "data": {
      "text/plain": [
       " 0    15764\n",
       "-1     5938\n",
       "-2     4085\n",
       " 2     3819\n",
       " 3      240\n",
       " 4       76\n",
       " 7       27\n",
       " 6       23\n",
       " 5       21\n",
       " 1        4\n",
       " 8        3\n",
       "Name: PAY_3, dtype: int64"
      ]
     },
     "execution_count": 23,
     "metadata": {},
     "output_type": "execute_result"
    }
   ],
   "source": [
    "col5='PAY_3'\n",
    "data[col5].value_counts()"
   ]
  },
  {
   "cell_type": "code",
   "execution_count": 24,
   "id": "90b59397-523d-442b-a1d5-f5e75587c95b",
   "metadata": {},
   "outputs": [
    {
     "data": {
      "text/plain": [
       "0    25787\n",
       "2     3819\n",
       "3      240\n",
       "4       76\n",
       "7       27\n",
       "6       23\n",
       "5       21\n",
       "1        4\n",
       "8        3\n",
       "Name: PAY_3, dtype: int64"
      ]
     },
     "execution_count": 24,
     "metadata": {},
     "output_type": "execute_result"
    }
   ],
   "source": [
    "data[col5].replace(-1,0,inplace=True)\n",
    "data[col5].replace(-2,0,inplace=True)\n",
    "data[col5].value_counts()"
   ]
  },
  {
   "cell_type": "code",
   "execution_count": 25,
   "id": "0e9be8f1-afe0-4cc6-9501-cf1e9b6fb9e8",
   "metadata": {},
   "outputs": [
    {
     "data": {
      "text/plain": [
       " 0    16455\n",
       "-1     5687\n",
       "-2     4348\n",
       " 2     3159\n",
       " 3      180\n",
       " 4       69\n",
       " 7       58\n",
       " 5       35\n",
       " 6        5\n",
       " 1        2\n",
       " 8        2\n",
       "Name: PAY_4, dtype: int64"
      ]
     },
     "execution_count": 25,
     "metadata": {},
     "output_type": "execute_result"
    }
   ],
   "source": [
    "col6='PAY_4'\n",
    "data[col6].value_counts()"
   ]
  },
  {
   "cell_type": "code",
   "execution_count": 26,
   "id": "e5b8ee19-af3c-4dc9-ac8c-31ddd8721810",
   "metadata": {},
   "outputs": [
    {
     "data": {
      "text/plain": [
       "0    26490\n",
       "2     3159\n",
       "3      180\n",
       "4       69\n",
       "7       58\n",
       "5       35\n",
       "6        5\n",
       "1        2\n",
       "8        2\n",
       "Name: PAY_4, dtype: int64"
      ]
     },
     "execution_count": 26,
     "metadata": {},
     "output_type": "execute_result"
    }
   ],
   "source": [
    "data[col6].replace(-1,0,inplace=True)\n",
    "data[col6].replace(-2,0,inplace=True)\n",
    "data[col6].value_counts()"
   ]
  },
  {
   "cell_type": "code",
   "execution_count": 27,
   "id": "3aad483d-49b6-4767-8e2a-ad394a0abc1e",
   "metadata": {},
   "outputs": [
    {
     "data": {
      "text/plain": [
       " 0    16947\n",
       "-1     5539\n",
       "-2     4546\n",
       " 2     2626\n",
       " 3      178\n",
       " 4       84\n",
       " 7       58\n",
       " 5       17\n",
       " 6        4\n",
       " 8        1\n",
       "Name: PAY_5, dtype: int64"
      ]
     },
     "execution_count": 27,
     "metadata": {},
     "output_type": "execute_result"
    }
   ],
   "source": [
    "col7='PAY_5'\n",
    "data[col7].value_counts()"
   ]
  },
  {
   "cell_type": "code",
   "execution_count": 28,
   "id": "a62e9f58-6446-4918-ae01-e6b2a05c5ac6",
   "metadata": {},
   "outputs": [
    {
     "data": {
      "text/plain": [
       "0    27032\n",
       "2     2626\n",
       "3      178\n",
       "4       84\n",
       "7       58\n",
       "5       17\n",
       "6        4\n",
       "8        1\n",
       "Name: PAY_5, dtype: int64"
      ]
     },
     "execution_count": 28,
     "metadata": {},
     "output_type": "execute_result"
    }
   ],
   "source": [
    "data[col7].replace(-1,0,inplace=True)\n",
    "data[col7].replace(-2,0,inplace=True)\n",
    "data[col7].value_counts()"
   ]
  },
  {
   "cell_type": "code",
   "execution_count": 29,
   "id": "be0c3871-38a4-4cdc-972c-c8dcd0320efd",
   "metadata": {},
   "outputs": [
    {
     "data": {
      "text/plain": [
       " 0    16286\n",
       "-1     5740\n",
       "-2     4895\n",
       " 2     2766\n",
       " 3      184\n",
       " 4       49\n",
       " 7       46\n",
       " 6       19\n",
       " 5       13\n",
       " 8        2\n",
       "Name: PAY_6, dtype: int64"
      ]
     },
     "execution_count": 29,
     "metadata": {},
     "output_type": "execute_result"
    }
   ],
   "source": [
    "col8='PAY_6'\n",
    "data[col8].value_counts()"
   ]
  },
  {
   "cell_type": "code",
   "execution_count": 30,
   "id": "7c8a4c42-9462-4088-b77b-456437c1affe",
   "metadata": {},
   "outputs": [
    {
     "data": {
      "text/plain": [
       "0    26921\n",
       "2     2766\n",
       "3      184\n",
       "4       49\n",
       "7       46\n",
       "6       19\n",
       "5       13\n",
       "8        2\n",
       "Name: PAY_6, dtype: int64"
      ]
     },
     "execution_count": 30,
     "metadata": {},
     "output_type": "execute_result"
    }
   ],
   "source": [
    "data[col8].replace(-1,0,inplace=True)\n",
    "data[col8].replace(-2,0,inplace=True)\n",
    "data[col8].value_counts()"
   ]
  },
  {
   "cell_type": "code",
   "execution_count": 31,
   "id": "047fb62a-4421-4139-94d9-77cf0ddfd004",
   "metadata": {},
   "outputs": [
    {
     "data": {
      "text/html": [
       "<div>\n",
       "<style scoped>\n",
       "    .dataframe tbody tr th:only-of-type {\n",
       "        vertical-align: middle;\n",
       "    }\n",
       "\n",
       "    .dataframe tbody tr th {\n",
       "        vertical-align: top;\n",
       "    }\n",
       "\n",
       "    .dataframe thead th {\n",
       "        text-align: right;\n",
       "    }\n",
       "</style>\n",
       "<table border=\"1\" class=\"dataframe\">\n",
       "  <thead>\n",
       "    <tr style=\"text-align: right;\">\n",
       "      <th></th>\n",
       "      <th>ID</th>\n",
       "      <th>LIMIT_BAL</th>\n",
       "      <th>SEX</th>\n",
       "      <th>EDUCATION</th>\n",
       "      <th>MARRIAGE</th>\n",
       "      <th>AGE</th>\n",
       "      <th>PAY_0</th>\n",
       "      <th>PAY_2</th>\n",
       "      <th>PAY_3</th>\n",
       "      <th>PAY_4</th>\n",
       "      <th>...</th>\n",
       "      <th>BILL_AMT4</th>\n",
       "      <th>BILL_AMT5</th>\n",
       "      <th>BILL_AMT6</th>\n",
       "      <th>PAY_AMT1</th>\n",
       "      <th>PAY_AMT2</th>\n",
       "      <th>PAY_AMT3</th>\n",
       "      <th>PAY_AMT4</th>\n",
       "      <th>PAY_AMT5</th>\n",
       "      <th>PAY_AMT6</th>\n",
       "      <th>default.payment.next.month</th>\n",
       "    </tr>\n",
       "  </thead>\n",
       "  <tbody>\n",
       "    <tr>\n",
       "      <th>0</th>\n",
       "      <td>1</td>\n",
       "      <td>20000.0</td>\n",
       "      <td>2</td>\n",
       "      <td>2</td>\n",
       "      <td>1</td>\n",
       "      <td>24</td>\n",
       "      <td>2</td>\n",
       "      <td>2</td>\n",
       "      <td>0</td>\n",
       "      <td>0</td>\n",
       "      <td>...</td>\n",
       "      <td>0.0</td>\n",
       "      <td>0.0</td>\n",
       "      <td>0.0</td>\n",
       "      <td>0.0</td>\n",
       "      <td>689.0</td>\n",
       "      <td>0.0</td>\n",
       "      <td>0.0</td>\n",
       "      <td>0.0</td>\n",
       "      <td>0.0</td>\n",
       "      <td>1</td>\n",
       "    </tr>\n",
       "    <tr>\n",
       "      <th>1</th>\n",
       "      <td>2</td>\n",
       "      <td>120000.0</td>\n",
       "      <td>2</td>\n",
       "      <td>2</td>\n",
       "      <td>2</td>\n",
       "      <td>26</td>\n",
       "      <td>0</td>\n",
       "      <td>2</td>\n",
       "      <td>0</td>\n",
       "      <td>0</td>\n",
       "      <td>...</td>\n",
       "      <td>3272.0</td>\n",
       "      <td>3455.0</td>\n",
       "      <td>3261.0</td>\n",
       "      <td>0.0</td>\n",
       "      <td>1000.0</td>\n",
       "      <td>1000.0</td>\n",
       "      <td>1000.0</td>\n",
       "      <td>0.0</td>\n",
       "      <td>2000.0</td>\n",
       "      <td>1</td>\n",
       "    </tr>\n",
       "    <tr>\n",
       "      <th>2</th>\n",
       "      <td>3</td>\n",
       "      <td>90000.0</td>\n",
       "      <td>2</td>\n",
       "      <td>2</td>\n",
       "      <td>2</td>\n",
       "      <td>34</td>\n",
       "      <td>0</td>\n",
       "      <td>0</td>\n",
       "      <td>0</td>\n",
       "      <td>0</td>\n",
       "      <td>...</td>\n",
       "      <td>14331.0</td>\n",
       "      <td>14948.0</td>\n",
       "      <td>15549.0</td>\n",
       "      <td>1518.0</td>\n",
       "      <td>1500.0</td>\n",
       "      <td>1000.0</td>\n",
       "      <td>1000.0</td>\n",
       "      <td>1000.0</td>\n",
       "      <td>5000.0</td>\n",
       "      <td>0</td>\n",
       "    </tr>\n",
       "    <tr>\n",
       "      <th>3</th>\n",
       "      <td>4</td>\n",
       "      <td>50000.0</td>\n",
       "      <td>2</td>\n",
       "      <td>2</td>\n",
       "      <td>1</td>\n",
       "      <td>37</td>\n",
       "      <td>0</td>\n",
       "      <td>0</td>\n",
       "      <td>0</td>\n",
       "      <td>0</td>\n",
       "      <td>...</td>\n",
       "      <td>28314.0</td>\n",
       "      <td>28959.0</td>\n",
       "      <td>29547.0</td>\n",
       "      <td>2000.0</td>\n",
       "      <td>2019.0</td>\n",
       "      <td>1200.0</td>\n",
       "      <td>1100.0</td>\n",
       "      <td>1069.0</td>\n",
       "      <td>1000.0</td>\n",
       "      <td>0</td>\n",
       "    </tr>\n",
       "    <tr>\n",
       "      <th>4</th>\n",
       "      <td>5</td>\n",
       "      <td>50000.0</td>\n",
       "      <td>1</td>\n",
       "      <td>2</td>\n",
       "      <td>1</td>\n",
       "      <td>57</td>\n",
       "      <td>0</td>\n",
       "      <td>0</td>\n",
       "      <td>0</td>\n",
       "      <td>0</td>\n",
       "      <td>...</td>\n",
       "      <td>20940.0</td>\n",
       "      <td>19146.0</td>\n",
       "      <td>19131.0</td>\n",
       "      <td>2000.0</td>\n",
       "      <td>36681.0</td>\n",
       "      <td>10000.0</td>\n",
       "      <td>9000.0</td>\n",
       "      <td>689.0</td>\n",
       "      <td>679.0</td>\n",
       "      <td>0</td>\n",
       "    </tr>\n",
       "  </tbody>\n",
       "</table>\n",
       "<p>5 rows × 25 columns</p>\n",
       "</div>"
      ],
      "text/plain": [
       "   ID  LIMIT_BAL  SEX  EDUCATION  MARRIAGE  AGE  PAY_0  PAY_2  PAY_3  PAY_4  \\\n",
       "0   1    20000.0    2          2         1   24      2      2      0      0   \n",
       "1   2   120000.0    2          2         2   26      0      2      0      0   \n",
       "2   3    90000.0    2          2         2   34      0      0      0      0   \n",
       "3   4    50000.0    2          2         1   37      0      0      0      0   \n",
       "4   5    50000.0    1          2         1   57      0      0      0      0   \n",
       "\n",
       "   ...  BILL_AMT4  BILL_AMT5  BILL_AMT6  PAY_AMT1  PAY_AMT2  PAY_AMT3  \\\n",
       "0  ...        0.0        0.0        0.0       0.0     689.0       0.0   \n",
       "1  ...     3272.0     3455.0     3261.0       0.0    1000.0    1000.0   \n",
       "2  ...    14331.0    14948.0    15549.0    1518.0    1500.0    1000.0   \n",
       "3  ...    28314.0    28959.0    29547.0    2000.0    2019.0    1200.0   \n",
       "4  ...    20940.0    19146.0    19131.0    2000.0   36681.0   10000.0   \n",
       "\n",
       "   PAY_AMT4  PAY_AMT5  PAY_AMT6  default.payment.next.month  \n",
       "0       0.0       0.0       0.0                           1  \n",
       "1    1000.0       0.0    2000.0                           1  \n",
       "2    1000.0    1000.0    5000.0                           0  \n",
       "3    1100.0    1069.0    1000.0                           0  \n",
       "4    9000.0     689.0     679.0                           0  \n",
       "\n",
       "[5 rows x 25 columns]"
      ]
     },
     "execution_count": 31,
     "metadata": {},
     "output_type": "execute_result"
    }
   ],
   "source": [
    "data.head()"
   ]
  },
  {
   "cell_type": "markdown",
   "id": "930fd518-e098-4693-9b1c-a8751cc38563",
   "metadata": {},
   "source": [
    "**Descripción de los datos después de estandarizados**"
   ]
  },
  {
   "cell_type": "code",
   "execution_count": 32,
   "id": "0ef15e05-3d31-4837-8f34-bd4a24f9d979",
   "metadata": {},
   "outputs": [
    {
     "data": {
      "text/html": [
       "<div>\n",
       "<style scoped>\n",
       "    .dataframe tbody tr th:only-of-type {\n",
       "        vertical-align: middle;\n",
       "    }\n",
       "\n",
       "    .dataframe tbody tr th {\n",
       "        vertical-align: top;\n",
       "    }\n",
       "\n",
       "    .dataframe thead th {\n",
       "        text-align: right;\n",
       "    }\n",
       "</style>\n",
       "<table border=\"1\" class=\"dataframe\">\n",
       "  <thead>\n",
       "    <tr style=\"text-align: right;\">\n",
       "      <th></th>\n",
       "      <th>ID</th>\n",
       "      <th>LIMIT_BAL</th>\n",
       "      <th>SEX</th>\n",
       "      <th>EDUCATION</th>\n",
       "      <th>MARRIAGE</th>\n",
       "      <th>AGE</th>\n",
       "      <th>PAY_0</th>\n",
       "      <th>PAY_2</th>\n",
       "      <th>PAY_3</th>\n",
       "      <th>PAY_4</th>\n",
       "      <th>...</th>\n",
       "      <th>BILL_AMT4</th>\n",
       "      <th>BILL_AMT5</th>\n",
       "      <th>BILL_AMT6</th>\n",
       "      <th>PAY_AMT1</th>\n",
       "      <th>PAY_AMT2</th>\n",
       "      <th>PAY_AMT3</th>\n",
       "      <th>PAY_AMT4</th>\n",
       "      <th>PAY_AMT5</th>\n",
       "      <th>PAY_AMT6</th>\n",
       "      <th>default.payment.next.month</th>\n",
       "    </tr>\n",
       "  </thead>\n",
       "  <tbody>\n",
       "    <tr>\n",
       "      <th>count</th>\n",
       "      <td>30000.000000</td>\n",
       "      <td>30000.000000</td>\n",
       "      <td>30000.000000</td>\n",
       "      <td>30000.000000</td>\n",
       "      <td>30000.000000</td>\n",
       "      <td>30000.000000</td>\n",
       "      <td>30000.000000</td>\n",
       "      <td>30000.000000</td>\n",
       "      <td>30000.000000</td>\n",
       "      <td>30000.000000</td>\n",
       "      <td>...</td>\n",
       "      <td>30000.000000</td>\n",
       "      <td>30000.000000</td>\n",
       "      <td>30000.000000</td>\n",
       "      <td>30000.000000</td>\n",
       "      <td>3.000000e+04</td>\n",
       "      <td>30000.00000</td>\n",
       "      <td>30000.000000</td>\n",
       "      <td>30000.000000</td>\n",
       "      <td>30000.000000</td>\n",
       "      <td>30000.000000</td>\n",
       "    </tr>\n",
       "    <tr>\n",
       "      <th>mean</th>\n",
       "      <td>15000.500000</td>\n",
       "      <td>167484.322667</td>\n",
       "      <td>1.603733</td>\n",
       "      <td>1.842267</td>\n",
       "      <td>1.557267</td>\n",
       "      <td>35.485500</td>\n",
       "      <td>0.356767</td>\n",
       "      <td>0.320033</td>\n",
       "      <td>0.304067</td>\n",
       "      <td>0.258767</td>\n",
       "      <td>...</td>\n",
       "      <td>43262.948967</td>\n",
       "      <td>40311.400967</td>\n",
       "      <td>38871.760400</td>\n",
       "      <td>5663.580500</td>\n",
       "      <td>5.921163e+03</td>\n",
       "      <td>5225.68150</td>\n",
       "      <td>4826.076867</td>\n",
       "      <td>4799.387633</td>\n",
       "      <td>5215.502567</td>\n",
       "      <td>0.221200</td>\n",
       "    </tr>\n",
       "    <tr>\n",
       "      <th>std</th>\n",
       "      <td>8660.398374</td>\n",
       "      <td>129747.661567</td>\n",
       "      <td>0.489129</td>\n",
       "      <td>0.744494</td>\n",
       "      <td>0.521405</td>\n",
       "      <td>9.217904</td>\n",
       "      <td>0.760594</td>\n",
       "      <td>0.801727</td>\n",
       "      <td>0.790589</td>\n",
       "      <td>0.761113</td>\n",
       "      <td>...</td>\n",
       "      <td>64332.856134</td>\n",
       "      <td>60797.155770</td>\n",
       "      <td>59554.107537</td>\n",
       "      <td>16563.280354</td>\n",
       "      <td>2.304087e+04</td>\n",
       "      <td>17606.96147</td>\n",
       "      <td>15666.159744</td>\n",
       "      <td>15278.305679</td>\n",
       "      <td>17777.465775</td>\n",
       "      <td>0.415062</td>\n",
       "    </tr>\n",
       "    <tr>\n",
       "      <th>min</th>\n",
       "      <td>1.000000</td>\n",
       "      <td>10000.000000</td>\n",
       "      <td>1.000000</td>\n",
       "      <td>1.000000</td>\n",
       "      <td>1.000000</td>\n",
       "      <td>21.000000</td>\n",
       "      <td>0.000000</td>\n",
       "      <td>0.000000</td>\n",
       "      <td>0.000000</td>\n",
       "      <td>0.000000</td>\n",
       "      <td>...</td>\n",
       "      <td>-170000.000000</td>\n",
       "      <td>-81334.000000</td>\n",
       "      <td>-339603.000000</td>\n",
       "      <td>0.000000</td>\n",
       "      <td>0.000000e+00</td>\n",
       "      <td>0.00000</td>\n",
       "      <td>0.000000</td>\n",
       "      <td>0.000000</td>\n",
       "      <td>0.000000</td>\n",
       "      <td>0.000000</td>\n",
       "    </tr>\n",
       "    <tr>\n",
       "      <th>25%</th>\n",
       "      <td>7500.750000</td>\n",
       "      <td>50000.000000</td>\n",
       "      <td>1.000000</td>\n",
       "      <td>1.000000</td>\n",
       "      <td>1.000000</td>\n",
       "      <td>28.000000</td>\n",
       "      <td>0.000000</td>\n",
       "      <td>0.000000</td>\n",
       "      <td>0.000000</td>\n",
       "      <td>0.000000</td>\n",
       "      <td>...</td>\n",
       "      <td>2326.750000</td>\n",
       "      <td>1763.000000</td>\n",
       "      <td>1256.000000</td>\n",
       "      <td>1000.000000</td>\n",
       "      <td>8.330000e+02</td>\n",
       "      <td>390.00000</td>\n",
       "      <td>296.000000</td>\n",
       "      <td>252.500000</td>\n",
       "      <td>117.750000</td>\n",
       "      <td>0.000000</td>\n",
       "    </tr>\n",
       "    <tr>\n",
       "      <th>50%</th>\n",
       "      <td>15000.500000</td>\n",
       "      <td>140000.000000</td>\n",
       "      <td>2.000000</td>\n",
       "      <td>2.000000</td>\n",
       "      <td>2.000000</td>\n",
       "      <td>34.000000</td>\n",
       "      <td>0.000000</td>\n",
       "      <td>0.000000</td>\n",
       "      <td>0.000000</td>\n",
       "      <td>0.000000</td>\n",
       "      <td>...</td>\n",
       "      <td>19052.000000</td>\n",
       "      <td>18104.500000</td>\n",
       "      <td>17071.000000</td>\n",
       "      <td>2100.000000</td>\n",
       "      <td>2.009000e+03</td>\n",
       "      <td>1800.00000</td>\n",
       "      <td>1500.000000</td>\n",
       "      <td>1500.000000</td>\n",
       "      <td>1500.000000</td>\n",
       "      <td>0.000000</td>\n",
       "    </tr>\n",
       "    <tr>\n",
       "      <th>75%</th>\n",
       "      <td>22500.250000</td>\n",
       "      <td>240000.000000</td>\n",
       "      <td>2.000000</td>\n",
       "      <td>2.000000</td>\n",
       "      <td>2.000000</td>\n",
       "      <td>41.000000</td>\n",
       "      <td>0.000000</td>\n",
       "      <td>0.000000</td>\n",
       "      <td>0.000000</td>\n",
       "      <td>0.000000</td>\n",
       "      <td>...</td>\n",
       "      <td>54506.000000</td>\n",
       "      <td>50190.500000</td>\n",
       "      <td>49198.250000</td>\n",
       "      <td>5006.000000</td>\n",
       "      <td>5.000000e+03</td>\n",
       "      <td>4505.00000</td>\n",
       "      <td>4013.250000</td>\n",
       "      <td>4031.500000</td>\n",
       "      <td>4000.000000</td>\n",
       "      <td>0.000000</td>\n",
       "    </tr>\n",
       "    <tr>\n",
       "      <th>max</th>\n",
       "      <td>30000.000000</td>\n",
       "      <td>1000000.000000</td>\n",
       "      <td>2.000000</td>\n",
       "      <td>4.000000</td>\n",
       "      <td>3.000000</td>\n",
       "      <td>79.000000</td>\n",
       "      <td>8.000000</td>\n",
       "      <td>8.000000</td>\n",
       "      <td>8.000000</td>\n",
       "      <td>8.000000</td>\n",
       "      <td>...</td>\n",
       "      <td>891586.000000</td>\n",
       "      <td>927171.000000</td>\n",
       "      <td>961664.000000</td>\n",
       "      <td>873552.000000</td>\n",
       "      <td>1.684259e+06</td>\n",
       "      <td>896040.00000</td>\n",
       "      <td>621000.000000</td>\n",
       "      <td>426529.000000</td>\n",
       "      <td>528666.000000</td>\n",
       "      <td>1.000000</td>\n",
       "    </tr>\n",
       "  </tbody>\n",
       "</table>\n",
       "<p>8 rows × 25 columns</p>\n",
       "</div>"
      ],
      "text/plain": [
       "                 ID       LIMIT_BAL           SEX     EDUCATION      MARRIAGE  \\\n",
       "count  30000.000000    30000.000000  30000.000000  30000.000000  30000.000000   \n",
       "mean   15000.500000   167484.322667      1.603733      1.842267      1.557267   \n",
       "std     8660.398374   129747.661567      0.489129      0.744494      0.521405   \n",
       "min        1.000000    10000.000000      1.000000      1.000000      1.000000   \n",
       "25%     7500.750000    50000.000000      1.000000      1.000000      1.000000   \n",
       "50%    15000.500000   140000.000000      2.000000      2.000000      2.000000   \n",
       "75%    22500.250000   240000.000000      2.000000      2.000000      2.000000   \n",
       "max    30000.000000  1000000.000000      2.000000      4.000000      3.000000   \n",
       "\n",
       "                AGE         PAY_0         PAY_2         PAY_3         PAY_4  \\\n",
       "count  30000.000000  30000.000000  30000.000000  30000.000000  30000.000000   \n",
       "mean      35.485500      0.356767      0.320033      0.304067      0.258767   \n",
       "std        9.217904      0.760594      0.801727      0.790589      0.761113   \n",
       "min       21.000000      0.000000      0.000000      0.000000      0.000000   \n",
       "25%       28.000000      0.000000      0.000000      0.000000      0.000000   \n",
       "50%       34.000000      0.000000      0.000000      0.000000      0.000000   \n",
       "75%       41.000000      0.000000      0.000000      0.000000      0.000000   \n",
       "max       79.000000      8.000000      8.000000      8.000000      8.000000   \n",
       "\n",
       "       ...      BILL_AMT4      BILL_AMT5      BILL_AMT6       PAY_AMT1  \\\n",
       "count  ...   30000.000000   30000.000000   30000.000000   30000.000000   \n",
       "mean   ...   43262.948967   40311.400967   38871.760400    5663.580500   \n",
       "std    ...   64332.856134   60797.155770   59554.107537   16563.280354   \n",
       "min    ... -170000.000000  -81334.000000 -339603.000000       0.000000   \n",
       "25%    ...    2326.750000    1763.000000    1256.000000    1000.000000   \n",
       "50%    ...   19052.000000   18104.500000   17071.000000    2100.000000   \n",
       "75%    ...   54506.000000   50190.500000   49198.250000    5006.000000   \n",
       "max    ...  891586.000000  927171.000000  961664.000000  873552.000000   \n",
       "\n",
       "           PAY_AMT2      PAY_AMT3       PAY_AMT4       PAY_AMT5  \\\n",
       "count  3.000000e+04   30000.00000   30000.000000   30000.000000   \n",
       "mean   5.921163e+03    5225.68150    4826.076867    4799.387633   \n",
       "std    2.304087e+04   17606.96147   15666.159744   15278.305679   \n",
       "min    0.000000e+00       0.00000       0.000000       0.000000   \n",
       "25%    8.330000e+02     390.00000     296.000000     252.500000   \n",
       "50%    2.009000e+03    1800.00000    1500.000000    1500.000000   \n",
       "75%    5.000000e+03    4505.00000    4013.250000    4031.500000   \n",
       "max    1.684259e+06  896040.00000  621000.000000  426529.000000   \n",
       "\n",
       "            PAY_AMT6  default.payment.next.month  \n",
       "count   30000.000000                30000.000000  \n",
       "mean     5215.502567                    0.221200  \n",
       "std     17777.465775                    0.415062  \n",
       "min         0.000000                    0.000000  \n",
       "25%       117.750000                    0.000000  \n",
       "50%      1500.000000                    0.000000  \n",
       "75%      4000.000000                    0.000000  \n",
       "max    528666.000000                    1.000000  \n",
       "\n",
       "[8 rows x 25 columns]"
      ]
     },
     "execution_count": 32,
     "metadata": {},
     "output_type": "execute_result"
    }
   ],
   "source": [
    "data.describe()"
   ]
  },
  {
   "cell_type": "markdown",
   "id": "d3028bbb-7756-4e36-9415-bac0f5a8d031",
   "metadata": {},
   "source": [
    "**One Hot Encondig Variables categóricas**\n",
    "\n",
    "Si bien todas las variables del dataset  son númericas, hay 4 campos que correponden a variables categóricas. Se trabajará con *SEX*, *EDUCATION* y *MARRRIAGE*.La otra variable categórica  *default.payment.next.month* se quitará el dataset ya que finalmente es el valor que se intenta predecir"
   ]
  },
  {
   "cell_type": "code",
   "execution_count": 33,
   "id": "2af2be29-810f-4cb9-8465-101305897ef6",
   "metadata": {},
   "outputs": [],
   "source": [
    "#Obtener variables dummy\n",
    "sex_dummy = pd.get_dummies(data[\"SEX\"], prefix=\"SEX\")\n",
    "edu_dummy = pd.get_dummies(data[\"EDUCATION\"], prefix=\"EDUCATION\")\n",
    "marr_dummy = pd.get_dummies(data[\"MARRIAGE\"], prefix=\"MARRIAGE\")"
   ]
  },
  {
   "cell_type": "code",
   "execution_count": 34,
   "id": "921a31c1-6898-4b38-ab90-3d82c6d3e374",
   "metadata": {},
   "outputs": [],
   "source": [
    "data = pd.concat([data,sex_dummy],  axis = 1)\n",
    "data = pd.concat([data,edu_dummy],  axis = 1)\n",
    "data = pd.concat([data,marr_dummy], axis = 1)"
   ]
  },
  {
   "cell_type": "code",
   "execution_count": 35,
   "id": "6f6754af-4ad6-48e2-8c2b-e57e46f22e20",
   "metadata": {},
   "outputs": [
    {
     "data": {
      "text/html": [
       "<div>\n",
       "<style scoped>\n",
       "    .dataframe tbody tr th:only-of-type {\n",
       "        vertical-align: middle;\n",
       "    }\n",
       "\n",
       "    .dataframe tbody tr th {\n",
       "        vertical-align: top;\n",
       "    }\n",
       "\n",
       "    .dataframe thead th {\n",
       "        text-align: right;\n",
       "    }\n",
       "</style>\n",
       "<table border=\"1\" class=\"dataframe\">\n",
       "  <thead>\n",
       "    <tr style=\"text-align: right;\">\n",
       "      <th></th>\n",
       "      <th>ID</th>\n",
       "      <th>LIMIT_BAL</th>\n",
       "      <th>AGE</th>\n",
       "      <th>PAY_0</th>\n",
       "      <th>PAY_2</th>\n",
       "      <th>PAY_3</th>\n",
       "      <th>PAY_4</th>\n",
       "      <th>PAY_5</th>\n",
       "      <th>PAY_6</th>\n",
       "      <th>BILL_AMT1</th>\n",
       "      <th>...</th>\n",
       "      <th>default.payment.next.month</th>\n",
       "      <th>SEX_1</th>\n",
       "      <th>SEX_2</th>\n",
       "      <th>EDUCATION_1</th>\n",
       "      <th>EDUCATION_2</th>\n",
       "      <th>EDUCATION_3</th>\n",
       "      <th>EDUCATION_4</th>\n",
       "      <th>MARRIAGE_1</th>\n",
       "      <th>MARRIAGE_2</th>\n",
       "      <th>MARRIAGE_3</th>\n",
       "    </tr>\n",
       "  </thead>\n",
       "  <tbody>\n",
       "    <tr>\n",
       "      <th>0</th>\n",
       "      <td>1</td>\n",
       "      <td>20000.0</td>\n",
       "      <td>24</td>\n",
       "      <td>2</td>\n",
       "      <td>2</td>\n",
       "      <td>0</td>\n",
       "      <td>0</td>\n",
       "      <td>0</td>\n",
       "      <td>0</td>\n",
       "      <td>3913.0</td>\n",
       "      <td>...</td>\n",
       "      <td>1</td>\n",
       "      <td>0</td>\n",
       "      <td>1</td>\n",
       "      <td>0</td>\n",
       "      <td>1</td>\n",
       "      <td>0</td>\n",
       "      <td>0</td>\n",
       "      <td>1</td>\n",
       "      <td>0</td>\n",
       "      <td>0</td>\n",
       "    </tr>\n",
       "    <tr>\n",
       "      <th>1</th>\n",
       "      <td>2</td>\n",
       "      <td>120000.0</td>\n",
       "      <td>26</td>\n",
       "      <td>0</td>\n",
       "      <td>2</td>\n",
       "      <td>0</td>\n",
       "      <td>0</td>\n",
       "      <td>0</td>\n",
       "      <td>2</td>\n",
       "      <td>2682.0</td>\n",
       "      <td>...</td>\n",
       "      <td>1</td>\n",
       "      <td>0</td>\n",
       "      <td>1</td>\n",
       "      <td>0</td>\n",
       "      <td>1</td>\n",
       "      <td>0</td>\n",
       "      <td>0</td>\n",
       "      <td>0</td>\n",
       "      <td>1</td>\n",
       "      <td>0</td>\n",
       "    </tr>\n",
       "    <tr>\n",
       "      <th>2</th>\n",
       "      <td>3</td>\n",
       "      <td>90000.0</td>\n",
       "      <td>34</td>\n",
       "      <td>0</td>\n",
       "      <td>0</td>\n",
       "      <td>0</td>\n",
       "      <td>0</td>\n",
       "      <td>0</td>\n",
       "      <td>0</td>\n",
       "      <td>29239.0</td>\n",
       "      <td>...</td>\n",
       "      <td>0</td>\n",
       "      <td>0</td>\n",
       "      <td>1</td>\n",
       "      <td>0</td>\n",
       "      <td>1</td>\n",
       "      <td>0</td>\n",
       "      <td>0</td>\n",
       "      <td>0</td>\n",
       "      <td>1</td>\n",
       "      <td>0</td>\n",
       "    </tr>\n",
       "    <tr>\n",
       "      <th>3</th>\n",
       "      <td>4</td>\n",
       "      <td>50000.0</td>\n",
       "      <td>37</td>\n",
       "      <td>0</td>\n",
       "      <td>0</td>\n",
       "      <td>0</td>\n",
       "      <td>0</td>\n",
       "      <td>0</td>\n",
       "      <td>0</td>\n",
       "      <td>46990.0</td>\n",
       "      <td>...</td>\n",
       "      <td>0</td>\n",
       "      <td>0</td>\n",
       "      <td>1</td>\n",
       "      <td>0</td>\n",
       "      <td>1</td>\n",
       "      <td>0</td>\n",
       "      <td>0</td>\n",
       "      <td>1</td>\n",
       "      <td>0</td>\n",
       "      <td>0</td>\n",
       "    </tr>\n",
       "    <tr>\n",
       "      <th>4</th>\n",
       "      <td>5</td>\n",
       "      <td>50000.0</td>\n",
       "      <td>57</td>\n",
       "      <td>0</td>\n",
       "      <td>0</td>\n",
       "      <td>0</td>\n",
       "      <td>0</td>\n",
       "      <td>0</td>\n",
       "      <td>0</td>\n",
       "      <td>8617.0</td>\n",
       "      <td>...</td>\n",
       "      <td>0</td>\n",
       "      <td>1</td>\n",
       "      <td>0</td>\n",
       "      <td>0</td>\n",
       "      <td>1</td>\n",
       "      <td>0</td>\n",
       "      <td>0</td>\n",
       "      <td>1</td>\n",
       "      <td>0</td>\n",
       "      <td>0</td>\n",
       "    </tr>\n",
       "    <tr>\n",
       "      <th>...</th>\n",
       "      <td>...</td>\n",
       "      <td>...</td>\n",
       "      <td>...</td>\n",
       "      <td>...</td>\n",
       "      <td>...</td>\n",
       "      <td>...</td>\n",
       "      <td>...</td>\n",
       "      <td>...</td>\n",
       "      <td>...</td>\n",
       "      <td>...</td>\n",
       "      <td>...</td>\n",
       "      <td>...</td>\n",
       "      <td>...</td>\n",
       "      <td>...</td>\n",
       "      <td>...</td>\n",
       "      <td>...</td>\n",
       "      <td>...</td>\n",
       "      <td>...</td>\n",
       "      <td>...</td>\n",
       "      <td>...</td>\n",
       "      <td>...</td>\n",
       "    </tr>\n",
       "    <tr>\n",
       "      <th>29995</th>\n",
       "      <td>29996</td>\n",
       "      <td>220000.0</td>\n",
       "      <td>39</td>\n",
       "      <td>0</td>\n",
       "      <td>0</td>\n",
       "      <td>0</td>\n",
       "      <td>0</td>\n",
       "      <td>0</td>\n",
       "      <td>0</td>\n",
       "      <td>188948.0</td>\n",
       "      <td>...</td>\n",
       "      <td>0</td>\n",
       "      <td>1</td>\n",
       "      <td>0</td>\n",
       "      <td>0</td>\n",
       "      <td>0</td>\n",
       "      <td>1</td>\n",
       "      <td>0</td>\n",
       "      <td>1</td>\n",
       "      <td>0</td>\n",
       "      <td>0</td>\n",
       "    </tr>\n",
       "    <tr>\n",
       "      <th>29996</th>\n",
       "      <td>29997</td>\n",
       "      <td>150000.0</td>\n",
       "      <td>43</td>\n",
       "      <td>0</td>\n",
       "      <td>0</td>\n",
       "      <td>0</td>\n",
       "      <td>0</td>\n",
       "      <td>0</td>\n",
       "      <td>0</td>\n",
       "      <td>1683.0</td>\n",
       "      <td>...</td>\n",
       "      <td>0</td>\n",
       "      <td>1</td>\n",
       "      <td>0</td>\n",
       "      <td>0</td>\n",
       "      <td>0</td>\n",
       "      <td>1</td>\n",
       "      <td>0</td>\n",
       "      <td>0</td>\n",
       "      <td>1</td>\n",
       "      <td>0</td>\n",
       "    </tr>\n",
       "    <tr>\n",
       "      <th>29997</th>\n",
       "      <td>29998</td>\n",
       "      <td>30000.0</td>\n",
       "      <td>37</td>\n",
       "      <td>4</td>\n",
       "      <td>3</td>\n",
       "      <td>2</td>\n",
       "      <td>0</td>\n",
       "      <td>0</td>\n",
       "      <td>0</td>\n",
       "      <td>3565.0</td>\n",
       "      <td>...</td>\n",
       "      <td>1</td>\n",
       "      <td>1</td>\n",
       "      <td>0</td>\n",
       "      <td>0</td>\n",
       "      <td>1</td>\n",
       "      <td>0</td>\n",
       "      <td>0</td>\n",
       "      <td>0</td>\n",
       "      <td>1</td>\n",
       "      <td>0</td>\n",
       "    </tr>\n",
       "    <tr>\n",
       "      <th>29998</th>\n",
       "      <td>29999</td>\n",
       "      <td>80000.0</td>\n",
       "      <td>41</td>\n",
       "      <td>1</td>\n",
       "      <td>0</td>\n",
       "      <td>0</td>\n",
       "      <td>0</td>\n",
       "      <td>0</td>\n",
       "      <td>0</td>\n",
       "      <td>-1645.0</td>\n",
       "      <td>...</td>\n",
       "      <td>1</td>\n",
       "      <td>1</td>\n",
       "      <td>0</td>\n",
       "      <td>0</td>\n",
       "      <td>0</td>\n",
       "      <td>1</td>\n",
       "      <td>0</td>\n",
       "      <td>1</td>\n",
       "      <td>0</td>\n",
       "      <td>0</td>\n",
       "    </tr>\n",
       "    <tr>\n",
       "      <th>29999</th>\n",
       "      <td>30000</td>\n",
       "      <td>50000.0</td>\n",
       "      <td>46</td>\n",
       "      <td>0</td>\n",
       "      <td>0</td>\n",
       "      <td>0</td>\n",
       "      <td>0</td>\n",
       "      <td>0</td>\n",
       "      <td>0</td>\n",
       "      <td>47929.0</td>\n",
       "      <td>...</td>\n",
       "      <td>1</td>\n",
       "      <td>1</td>\n",
       "      <td>0</td>\n",
       "      <td>0</td>\n",
       "      <td>1</td>\n",
       "      <td>0</td>\n",
       "      <td>0</td>\n",
       "      <td>1</td>\n",
       "      <td>0</td>\n",
       "      <td>0</td>\n",
       "    </tr>\n",
       "  </tbody>\n",
       "</table>\n",
       "<p>30000 rows × 31 columns</p>\n",
       "</div>"
      ],
      "text/plain": [
       "          ID  LIMIT_BAL  AGE  PAY_0  PAY_2  PAY_3  PAY_4  PAY_5  PAY_6  \\\n",
       "0          1    20000.0   24      2      2      0      0      0      0   \n",
       "1          2   120000.0   26      0      2      0      0      0      2   \n",
       "2          3    90000.0   34      0      0      0      0      0      0   \n",
       "3          4    50000.0   37      0      0      0      0      0      0   \n",
       "4          5    50000.0   57      0      0      0      0      0      0   \n",
       "...      ...        ...  ...    ...    ...    ...    ...    ...    ...   \n",
       "29995  29996   220000.0   39      0      0      0      0      0      0   \n",
       "29996  29997   150000.0   43      0      0      0      0      0      0   \n",
       "29997  29998    30000.0   37      4      3      2      0      0      0   \n",
       "29998  29999    80000.0   41      1      0      0      0      0      0   \n",
       "29999  30000    50000.0   46      0      0      0      0      0      0   \n",
       "\n",
       "       BILL_AMT1  ...  default.payment.next.month  SEX_1  SEX_2  EDUCATION_1  \\\n",
       "0         3913.0  ...                           1      0      1            0   \n",
       "1         2682.0  ...                           1      0      1            0   \n",
       "2        29239.0  ...                           0      0      1            0   \n",
       "3        46990.0  ...                           0      0      1            0   \n",
       "4         8617.0  ...                           0      1      0            0   \n",
       "...          ...  ...                         ...    ...    ...          ...   \n",
       "29995   188948.0  ...                           0      1      0            0   \n",
       "29996     1683.0  ...                           0      1      0            0   \n",
       "29997     3565.0  ...                           1      1      0            0   \n",
       "29998    -1645.0  ...                           1      1      0            0   \n",
       "29999    47929.0  ...                           1      1      0            0   \n",
       "\n",
       "       EDUCATION_2  EDUCATION_3  EDUCATION_4  MARRIAGE_1  MARRIAGE_2  \\\n",
       "0                1            0            0           1           0   \n",
       "1                1            0            0           0           1   \n",
       "2                1            0            0           0           1   \n",
       "3                1            0            0           1           0   \n",
       "4                1            0            0           1           0   \n",
       "...            ...          ...          ...         ...         ...   \n",
       "29995            0            1            0           1           0   \n",
       "29996            0            1            0           0           1   \n",
       "29997            1            0            0           0           1   \n",
       "29998            0            1            0           1           0   \n",
       "29999            1            0            0           1           0   \n",
       "\n",
       "       MARRIAGE_3  \n",
       "0               0  \n",
       "1               0  \n",
       "2               0  \n",
       "3               0  \n",
       "4               0  \n",
       "...           ...  \n",
       "29995           0  \n",
       "29996           0  \n",
       "29997           0  \n",
       "29998           0  \n",
       "29999           0  \n",
       "\n",
       "[30000 rows x 31 columns]"
      ]
     },
     "execution_count": 35,
     "metadata": {},
     "output_type": "execute_result"
    }
   ],
   "source": [
    "data_cred = data.drop([  'SEX',\n",
    "                         'EDUCATION',\n",
    "                         'MARRIAGE',], axis = 1)\n",
    "data_cred"
   ]
  },
  {
   "cell_type": "code",
   "execution_count": 36,
   "id": "48406f57-b9e4-413d-8c60-02c23c2bc243",
   "metadata": {},
   "outputs": [
    {
     "name": "stdout",
     "output_type": "stream",
     "text": [
      "<class 'pandas.core.frame.DataFrame'>\n",
      "RangeIndex: 30000 entries, 0 to 29999\n",
      "Data columns (total 31 columns):\n",
      " #   Column                      Non-Null Count  Dtype  \n",
      "---  ------                      --------------  -----  \n",
      " 0   ID                          30000 non-null  int64  \n",
      " 1   LIMIT_BAL                   30000 non-null  float64\n",
      " 2   AGE                         30000 non-null  int64  \n",
      " 3   PAY_0                       30000 non-null  int64  \n",
      " 4   PAY_2                       30000 non-null  int64  \n",
      " 5   PAY_3                       30000 non-null  int64  \n",
      " 6   PAY_4                       30000 non-null  int64  \n",
      " 7   PAY_5                       30000 non-null  int64  \n",
      " 8   PAY_6                       30000 non-null  int64  \n",
      " 9   BILL_AMT1                   30000 non-null  float64\n",
      " 10  BILL_AMT2                   30000 non-null  float64\n",
      " 11  BILL_AMT3                   30000 non-null  float64\n",
      " 12  BILL_AMT4                   30000 non-null  float64\n",
      " 13  BILL_AMT5                   30000 non-null  float64\n",
      " 14  BILL_AMT6                   30000 non-null  float64\n",
      " 15  PAY_AMT1                    30000 non-null  float64\n",
      " 16  PAY_AMT2                    30000 non-null  float64\n",
      " 17  PAY_AMT3                    30000 non-null  float64\n",
      " 18  PAY_AMT4                    30000 non-null  float64\n",
      " 19  PAY_AMT5                    30000 non-null  float64\n",
      " 20  PAY_AMT6                    30000 non-null  float64\n",
      " 21  default.payment.next.month  30000 non-null  int64  \n",
      " 22  SEX_1                       30000 non-null  uint8  \n",
      " 23  SEX_2                       30000 non-null  uint8  \n",
      " 24  EDUCATION_1                 30000 non-null  uint8  \n",
      " 25  EDUCATION_2                 30000 non-null  uint8  \n",
      " 26  EDUCATION_3                 30000 non-null  uint8  \n",
      " 27  EDUCATION_4                 30000 non-null  uint8  \n",
      " 28  MARRIAGE_1                  30000 non-null  uint8  \n",
      " 29  MARRIAGE_2                  30000 non-null  uint8  \n",
      " 30  MARRIAGE_3                  30000 non-null  uint8  \n",
      "dtypes: float64(13), int64(9), uint8(9)\n",
      "memory usage: 5.3 MB\n"
     ]
    }
   ],
   "source": [
    "data_cred.info()"
   ]
  },
  {
   "cell_type": "code",
   "execution_count": 37,
   "id": "b3ad67ad-5add-4dee-8c3b-7036f197a351",
   "metadata": {},
   "outputs": [
    {
     "data": {
      "image/png": "[encoded data removed]",
      "text/plain": [
       "<Figure size 432x432 with 1 Axes>"
      ]
     },
     "metadata": {
      "needs_background": "light"
     },
     "output_type": "display_data"
    }
   ],
   "source": [
    "temp = data_cred[\"default.payment.next.month\"].value_counts()\n",
    "df = pd.DataFrame({'default.payment.next.month': temp.index,'values': temp.values})\n",
    "plt.figure(figsize = (6,6))\n",
    "plt.title('Clientes de tarjeta de crédito predeterminados - valor objetivo - desbalance de datos\\n (Default payment (1=yes, 0=no))')\n",
    "sns.set_color_codes()\n",
    "sns.barplot(x = 'default.payment.next.month', y=\"values\", data=df)\n",
    "locs, labels = plt.xticks()\n",
    "plt.show()"
   ]
  },
  {
   "cell_type": "code",
   "execution_count": 38,
   "id": "f97fbd7d-2deb-4b24-8236-7b19f36ba6d8",
   "metadata": {},
   "outputs": [],
   "source": [
    "X = data_cred.iloc[:,1:31]\n",
    "y = data_cred.iloc[:,1]"
   ]
  },
  {
   "cell_type": "code",
   "execution_count": 39,
   "id": "951532e7-2c1c-4611-bb4c-0320aa61b669",
   "metadata": {},
   "outputs": [
    {
     "name": "stdout",
     "output_type": "stream",
     "text": [
      "X shape:  (30000, 30)\n",
      "y shape:  (30000,)\n"
     ]
    }
   ],
   "source": [
    "print('X shape: ',X.shape)\n",
    "print('y shape: ',y.shape)"
   ]
  },
  {
   "cell_type": "code",
   "execution_count": 40,
   "id": "64719edd-5e1a-486e-a417-7a46943c0209",
   "metadata": {},
   "outputs": [
    {
     "name": "stdout",
     "output_type": "stream",
     "text": [
      "X_train_shape (21000, 30)\n",
      "y_train_shape (21000,)\n",
      "X_test_shape (9000, 30)\n",
      "y_test_shape (9000,)\n"
     ]
    }
   ],
   "source": [
    "X_train, X_test, y_train, y_test = train_test_split(X, y, test_size=0.3, random_state=42)\n",
    "                                                    \n",
    "print(\"X_train_shape\", X_train.shape)\n",
    "print(\"y_train_shape\", y_train.shape)\n",
    "print(\"X_test_shape\", X_test.shape)\n",
    "print(\"y_test_shape\", y_test.shape)"
   ]
  },
  {
   "cell_type": "code",
   "execution_count": 41,
   "id": "f404d1f2-fdd1-461d-bf06-de73ca01ed10",
   "metadata": {},
   "outputs": [
    {
     "data": {
      "text/plain": [
       "<AxesSubplot:>"
      ]
     },
     "execution_count": 41,
     "metadata": {},
     "output_type": "execute_result"
    },
    {
     "data": {
      "image/png": "[encoded data removed]",
      "text/plain": [
       "<Figure size 1440x864 with 2 Axes>"
      ]
     },
     "metadata": {
      "needs_background": "light"
     },
     "output_type": "display_data"
    }
   ],
   "source": [
    "plt.figure(figsize =(20,12))\n",
    "\n",
    "corr_matrix = X_train.corr()\n",
    "\n",
    "mask = np.triu(np.ones_like(corr_matrix, dtype=bool))\n",
    "# crear una matriz angular inferior reemplazar los unos de la matriz y reemplazar\n",
    "\n",
    "cmap = sns.diverging_palette(230,20, as_cmap=True)\n",
    "# mapa de color con una difuminación de los colores\n",
    "\n",
    "sns.heatmap(\n",
    "    corr_matrix,\n",
    "    mask  = mask,\n",
    "    cmap  = cmap,\n",
    "    annot = True,\n",
    "    fmt   = '.2f'\n",
    ")\n",
    "    "
   ]
  },
  {
   "cell_type": "code",
   "execution_count": 42,
   "id": "b2e9a6ed-4665-4e73-aeda-57139314dc36",
   "metadata": {},
   "outputs": [
    {
     "data": {
      "text/html": [
       "<div>\n",
       "<style scoped>\n",
       "    .dataframe tbody tr th:only-of-type {\n",
       "        vertical-align: middle;\n",
       "    }\n",
       "\n",
       "    .dataframe tbody tr th {\n",
       "        vertical-align: top;\n",
       "    }\n",
       "\n",
       "    .dataframe thead th {\n",
       "        text-align: right;\n",
       "    }\n",
       "</style>\n",
       "<table border=\"1\" class=\"dataframe\">\n",
       "  <thead>\n",
       "    <tr style=\"text-align: right;\">\n",
       "      <th></th>\n",
       "      <th>LIMIT_BAL</th>\n",
       "      <th>AGE</th>\n",
       "      <th>PAY_0</th>\n",
       "      <th>PAY_2</th>\n",
       "      <th>PAY_3</th>\n",
       "      <th>PAY_4</th>\n",
       "      <th>PAY_5</th>\n",
       "      <th>PAY_6</th>\n",
       "      <th>BILL_AMT6</th>\n",
       "      <th>PAY_AMT1</th>\n",
       "      <th>...</th>\n",
       "      <th>PAY_AMT5</th>\n",
       "      <th>PAY_AMT6</th>\n",
       "      <th>default.payment.next.month</th>\n",
       "      <th>SEX_2</th>\n",
       "      <th>EDUCATION_1</th>\n",
       "      <th>EDUCATION_2</th>\n",
       "      <th>EDUCATION_3</th>\n",
       "      <th>EDUCATION_4</th>\n",
       "      <th>MARRIAGE_2</th>\n",
       "      <th>MARRIAGE_3</th>\n",
       "    </tr>\n",
       "  </thead>\n",
       "  <tbody>\n",
       "    <tr>\n",
       "      <th>28465</th>\n",
       "      <td>240000.0</td>\n",
       "      <td>40</td>\n",
       "      <td>0</td>\n",
       "      <td>0</td>\n",
       "      <td>0</td>\n",
       "      <td>0</td>\n",
       "      <td>0</td>\n",
       "      <td>0</td>\n",
       "      <td>0.0</td>\n",
       "      <td>0.0</td>\n",
       "      <td>...</td>\n",
       "      <td>0.0</td>\n",
       "      <td>0.0</td>\n",
       "      <td>1</td>\n",
       "      <td>1</td>\n",
       "      <td>1</td>\n",
       "      <td>0</td>\n",
       "      <td>0</td>\n",
       "      <td>0</td>\n",
       "      <td>0</td>\n",
       "      <td>0</td>\n",
       "    </tr>\n",
       "    <tr>\n",
       "      <th>27622</th>\n",
       "      <td>50000.0</td>\n",
       "      <td>23</td>\n",
       "      <td>0</td>\n",
       "      <td>0</td>\n",
       "      <td>0</td>\n",
       "      <td>0</td>\n",
       "      <td>0</td>\n",
       "      <td>0</td>\n",
       "      <td>660.0</td>\n",
       "      <td>2548.0</td>\n",
       "      <td>...</td>\n",
       "      <td>660.0</td>\n",
       "      <td>2980.0</td>\n",
       "      <td>0</td>\n",
       "      <td>1</td>\n",
       "      <td>1</td>\n",
       "      <td>0</td>\n",
       "      <td>0</td>\n",
       "      <td>0</td>\n",
       "      <td>1</td>\n",
       "      <td>0</td>\n",
       "    </tr>\n",
       "    <tr>\n",
       "      <th>28376</th>\n",
       "      <td>50000.0</td>\n",
       "      <td>36</td>\n",
       "      <td>2</td>\n",
       "      <td>2</td>\n",
       "      <td>2</td>\n",
       "      <td>2</td>\n",
       "      <td>0</td>\n",
       "      <td>0</td>\n",
       "      <td>35126.0</td>\n",
       "      <td>0.0</td>\n",
       "      <td>...</td>\n",
       "      <td>3500.0</td>\n",
       "      <td>0.0</td>\n",
       "      <td>0</td>\n",
       "      <td>1</td>\n",
       "      <td>0</td>\n",
       "      <td>1</td>\n",
       "      <td>0</td>\n",
       "      <td>0</td>\n",
       "      <td>0</td>\n",
       "      <td>0</td>\n",
       "    </tr>\n",
       "    <tr>\n",
       "      <th>10917</th>\n",
       "      <td>200000.0</td>\n",
       "      <td>54</td>\n",
       "      <td>6</td>\n",
       "      <td>5</td>\n",
       "      <td>4</td>\n",
       "      <td>3</td>\n",
       "      <td>2</td>\n",
       "      <td>2</td>\n",
       "      <td>0.0</td>\n",
       "      <td>0.0</td>\n",
       "      <td>...</td>\n",
       "      <td>0.0</td>\n",
       "      <td>0.0</td>\n",
       "      <td>0</td>\n",
       "      <td>1</td>\n",
       "      <td>0</td>\n",
       "      <td>0</td>\n",
       "      <td>1</td>\n",
       "      <td>0</td>\n",
       "      <td>0</td>\n",
       "      <td>0</td>\n",
       "    </tr>\n",
       "    <tr>\n",
       "      <th>27234</th>\n",
       "      <td>240000.0</td>\n",
       "      <td>35</td>\n",
       "      <td>0</td>\n",
       "      <td>0</td>\n",
       "      <td>0</td>\n",
       "      <td>0</td>\n",
       "      <td>0</td>\n",
       "      <td>0</td>\n",
       "      <td>22659.0</td>\n",
       "      <td>2017.0</td>\n",
       "      <td>...</td>\n",
       "      <td>22772.0</td>\n",
       "      <td>22820.0</td>\n",
       "      <td>0</td>\n",
       "      <td>0</td>\n",
       "      <td>1</td>\n",
       "      <td>0</td>\n",
       "      <td>0</td>\n",
       "      <td>0</td>\n",
       "      <td>0</td>\n",
       "      <td>0</td>\n",
       "    </tr>\n",
       "  </tbody>\n",
       "</table>\n",
       "<p>5 rows × 23 columns</p>\n",
       "</div>"
      ],
      "text/plain": [
       "       LIMIT_BAL  AGE  PAY_0  PAY_2  PAY_3  PAY_4  PAY_5  PAY_6  BILL_AMT6  \\\n",
       "28465   240000.0   40      0      0      0      0      0      0        0.0   \n",
       "27622    50000.0   23      0      0      0      0      0      0      660.0   \n",
       "28376    50000.0   36      2      2      2      2      0      0    35126.0   \n",
       "10917   200000.0   54      6      5      4      3      2      2        0.0   \n",
       "27234   240000.0   35      0      0      0      0      0      0    22659.0   \n",
       "\n",
       "       PAY_AMT1  ...  PAY_AMT5  PAY_AMT6  default.payment.next.month  SEX_2  \\\n",
       "28465       0.0  ...       0.0       0.0                           1      1   \n",
       "27622    2548.0  ...     660.0    2980.0                           0      1   \n",
       "28376       0.0  ...    3500.0       0.0                           0      1   \n",
       "10917       0.0  ...       0.0       0.0                           0      1   \n",
       "27234    2017.0  ...   22772.0   22820.0                           0      0   \n",
       "\n",
       "       EDUCATION_1  EDUCATION_2  EDUCATION_3  EDUCATION_4  MARRIAGE_2  \\\n",
       "28465            1            0            0            0           0   \n",
       "27622            1            0            0            0           1   \n",
       "28376            0            1            0            0           0   \n",
       "10917            0            0            1            0           0   \n",
       "27234            1            0            0            0           0   \n",
       "\n",
       "       MARRIAGE_3  \n",
       "28465           0  \n",
       "27622           0  \n",
       "28376           0  \n",
       "10917           0  \n",
       "27234           0  \n",
       "\n",
       "[5 rows x 23 columns]"
      ]
     },
     "execution_count": 42,
     "metadata": {},
     "output_type": "execute_result"
    }
   ],
   "source": [
    "corr_matrix = corr_matrix.abs()\n",
    "\n",
    "mask = np.triu(np.ones_like(corr_matrix, dtype=bool))\n",
    "tri_df = corr_matrix.mask(mask)\n",
    "\n",
    "to_drop = [x for x in tri_df.columns if any(tri_df[x] > 0.9)]\n",
    "\n",
    "X_train = X_train.drop(to_drop, axis=1)\n",
    "X_test = X_test.drop(to_drop, axis=1)\n",
    "X_train.head()"
   ]
  },
  {
   "cell_type": "code",
   "execution_count": 43,
   "id": "c9f198f0-25b0-407f-932e-e381b01e6fca",
   "metadata": {},
   "outputs": [
    {
     "name": "stdout",
     "output_type": "stream",
     "text": [
      "<class 'pandas.core.frame.DataFrame'>\n",
      "Int64Index: 21000 entries, 28465 to 23654\n",
      "Data columns (total 23 columns):\n",
      " #   Column                      Non-Null Count  Dtype  \n",
      "---  ------                      --------------  -----  \n",
      " 0   LIMIT_BAL                   21000 non-null  float64\n",
      " 1   AGE                         21000 non-null  int64  \n",
      " 2   PAY_0                       21000 non-null  int64  \n",
      " 3   PAY_2                       21000 non-null  int64  \n",
      " 4   PAY_3                       21000 non-null  int64  \n",
      " 5   PAY_4                       21000 non-null  int64  \n",
      " 6   PAY_5                       21000 non-null  int64  \n",
      " 7   PAY_6                       21000 non-null  int64  \n",
      " 8   BILL_AMT6                   21000 non-null  float64\n",
      " 9   PAY_AMT1                    21000 non-null  float64\n",
      " 10  PAY_AMT2                    21000 non-null  float64\n",
      " 11  PAY_AMT3                    21000 non-null  float64\n",
      " 12  PAY_AMT4                    21000 non-null  float64\n",
      " 13  PAY_AMT5                    21000 non-null  float64\n",
      " 14  PAY_AMT6                    21000 non-null  float64\n",
      " 15  default.payment.next.month  21000 non-null  int64  \n",
      " 16  SEX_2                       21000 non-null  uint8  \n",
      " 17  EDUCATION_1                 21000 non-null  uint8  \n",
      " 18  EDUCATION_2                 21000 non-null  uint8  \n",
      " 19  EDUCATION_3                 21000 non-null  uint8  \n",
      " 20  EDUCATION_4                 21000 non-null  uint8  \n",
      " 21  MARRIAGE_2                  21000 non-null  uint8  \n",
      " 22  MARRIAGE_3                  21000 non-null  uint8  \n",
      "dtypes: float64(8), int64(8), uint8(7)\n",
      "memory usage: 2.9 MB\n"
     ]
    }
   ],
   "source": [
    "X_train.info()"
   ]
  },
  {
   "cell_type": "code",
   "execution_count": 44,
   "id": "05c6c474-df32-4f61-b3eb-948103b2bbab",
   "metadata": {},
   "outputs": [
    {
     "data": {
      "text/plain": [
       "0    23364\n",
       "1     6636\n",
       "Name: default.payment.next.month, dtype: int64"
      ]
     },
     "execution_count": 44,
     "metadata": {},
     "output_type": "execute_result"
    }
   ],
   "source": [
    "data_cred = data_cred[(data_cred['default.payment.next.month'] == 1) |(data_cred['default.payment.next.month'] == 0)]\n",
    "data_cred['default.payment.next.month'].value_counts()"
   ]
  },
  {
   "cell_type": "code",
   "execution_count": 45,
   "id": "bc0e40d9-34b6-46b9-bf26-c6a45acc77a8",
   "metadata": {},
   "outputs": [],
   "source": [
    "cols = ['PAY_0', 'LIMIT_BAL', 'LIMIT_BAL', 'default.payment.next.month']\n",
    "\n",
    "data1 = data_cred[~data_cred['PAY_0'].isna()][cols] \n",
    "X = data[cols[:-1]].values\n",
    "y = data[cols[-1]].values"
   ]
  },
  {
   "cell_type": "code",
   "execution_count": 46,
   "id": "dde53050-8365-46d7-99ce-aa54db8ca463",
   "metadata": {},
   "outputs": [],
   "source": [
    "X_train, X_test, y_train, y_test = train_test_split(X, y, test_size=0.3, random_state=42)"
   ]
  },
  {
   "cell_type": "code",
   "execution_count": 47,
   "id": "8b7a7741-33de-4e59-9373-63fee4e13412",
   "metadata": {},
   "outputs": [
    {
     "name": "stdout",
     "output_type": "stream",
     "text": [
      "Total train data:  (21000, 3)\n",
      "Total test data:  (9000, 3)\n"
     ]
    }
   ],
   "source": [
    "print('Total train data: ',X_train.shape)\n",
    "print('Total test data: ',X_test.shape)"
   ]
  },
  {
   "cell_type": "code",
   "execution_count": 48,
   "id": "976dff28-c137-491e-a8d0-62f933e8f5cf",
   "metadata": {},
   "outputs": [
    {
     "name": "stdout",
     "output_type": "stream",
     "text": [
      "Total train label:  (21000,)\n",
      "Total test label:  (9000,)\n"
     ]
    }
   ],
   "source": [
    "print('Total train label: ', y_train.shape)\n",
    "print('Total test label: ', y_test.shape)"
   ]
  },
  {
   "cell_type": "code",
   "execution_count": 49,
   "id": "1dc92afd-410c-499c-93db-762313103b6b",
   "metadata": {},
   "outputs": [
    {
     "data": {
      "text/plain": [
       "SVC()"
      ]
     },
     "execution_count": 49,
     "metadata": {},
     "output_type": "execute_result"
    }
   ],
   "source": [
    "lr = LogisticRegression()\n",
    "lr.fit(X_train, y_train)\n",
    "\n",
    "svc = SVC()\n",
    "svc.fit(X_train, y_train)"
   ]
  },
  {
   "cell_type": "code",
   "execution_count": 50,
   "id": "08f0a8cc-1564-4c2d-82a1-880bb028d200",
   "metadata": {},
   "outputs": [
    {
     "name": "stdout",
     "output_type": "stream",
     "text": [
      "Logit Hyperparameters\n",
      "{'C': 1.0, 'class_weight': None, 'dual': False, 'fit_intercept': True, 'intercept_scaling': 1, 'l1_ratio': None, 'max_iter': 100, 'multi_class': 'auto', 'n_jobs': None, 'penalty': 'l2', 'random_state': None, 'solver': 'lbfgs', 'tol': 0.0001, 'verbose': 0, 'warm_start': False}\n",
      "svc Hyperparameters\n",
      "{'C': 1.0, 'break_ties': False, 'cache_size': 200, 'class_weight': None, 'coef0': 0.0, 'decision_function_shape': 'ovr', 'degree': 3, 'gamma': 'scale', 'kernel': 'rbf', 'max_iter': -1, 'probability': False, 'random_state': None, 'shrinking': True, 'tol': 0.001, 'verbose': False}\n"
     ]
    }
   ],
   "source": [
    "print('Logit Hyperparameters')\n",
    "print(lr.get_params())\n",
    "print('svc Hyperparameters')\n",
    "print(svc.get_params())"
   ]
  },
  {
   "cell_type": "code",
   "execution_count": 51,
   "id": "b03d4002-7ab0-42d3-929e-a9715732d36b",
   "metadata": {},
   "outputs": [
    {
     "name": "stdout",
     "output_type": "stream",
     "text": [
      "Lr pred: (array([0]), array([9000]))\n",
      "SVC pred: (array([0]), array([9000]))\n"
     ]
    }
   ],
   "source": [
    "y_pred_lr = lr.predict(X_test)\n",
    "y_pred_svc = svc.predict(X_test)\n",
    "\n",
    "print ('Lr pred:',np.unique(y_pred_lr, return_counts=True))\n",
    "print ('SVC pred:',np.unique(y_pred_svc, return_counts=True))"
   ]
  },
  {
   "cell_type": "code",
   "execution_count": 52,
   "id": "307927d2-4312-4a63-953c-26e49d911fd0",
   "metadata": {},
   "outputs": [
    {
     "data": {
      "text/plain": [
       "(array([0, 1]), array([7040, 1960]))"
      ]
     },
     "execution_count": 52,
     "metadata": {},
     "output_type": "execute_result"
    }
   ],
   "source": [
    "np.unique(y_test, return_counts=True)"
   ]
  },
  {
   "cell_type": "code",
   "execution_count": 53,
   "id": "59ddea89-6877-4076-ab6c-3cb4547d7015",
   "metadata": {},
   "outputs": [
    {
     "data": {
      "text/plain": [
       "<BarContainer object of 1 artists>"
      ]
     },
     "execution_count": 53,
     "metadata": {},
     "output_type": "execute_result"
    },
    {
     "data": {
      "image/png": "[encoded data removed]",
      "text/plain": [
       "<Figure size 1080x360 with 2 Axes>"
      ]
     },
     "metadata": {
      "needs_background": "light"
     },
     "output_type": "display_data"
    }
   ],
   "source": [
    "labels_true, values_true = np.unique(y_test, return_counts=True)\n",
    "labels_pred, values_pred = np.unique(y_pred_lr, return_counts=True)\n",
    "labels_pred_svc, values_pred_svc = np.unique(y_pred_svc, return_counts=True)\n",
    "\n",
    "fig, ax = plt.subplots(ncols=2, nrows=1, figsize=(15, 5), sharey=True)\n",
    "ax[0].bar(labels_true, values_true)\n",
    "ax[1].bar(labels_pred, values_pred)\n",
    "ax[1].bar(labels_pred_svc, values_pred_svc)"
   ]
  },
  {
   "cell_type": "code",
   "execution_count": 54,
   "id": "33bfd6bc-3175-4d67-a583-05326fe079f9",
   "metadata": {},
   "outputs": [],
   "source": [
    "lr_conf_matrix = confusion_matrix(y_test, y_pred_lr)\n",
    "lr_conf_matrix_svc = confusion_matrix(y_test, y_pred_svc)"
   ]
  },
  {
   "cell_type": "code",
   "execution_count": 55,
   "id": "a9c7ec3f-5b04-4343-bfb4-0f5c566ac1ea",
   "metadata": {},
   "outputs": [
    {
     "data": {
      "text/plain": [
       "array([[7040,    0],\n",
       "       [1960,    0]])"
      ]
     },
     "execution_count": 55,
     "metadata": {},
     "output_type": "execute_result"
    }
   ],
   "source": [
    "lr_conf_matrix"
   ]
  },
  {
   "cell_type": "code",
   "execution_count": 56,
   "id": "17bc9daf-b230-4fdf-a0f6-904bc1f242c6",
   "metadata": {},
   "outputs": [
    {
     "data": {
      "text/plain": [
       "array([[7040,    0],\n",
       "       [1960,    0]])"
      ]
     },
     "execution_count": 56,
     "metadata": {},
     "output_type": "execute_result"
    }
   ],
   "source": [
    "lr_conf_matrix_svc"
   ]
  },
  {
   "cell_type": "code",
   "execution_count": 57,
   "id": "384a3e86-428c-4558-999c-9bca7af948ce",
   "metadata": {},
   "outputs": [
    {
     "data": {
      "text/plain": [
       "<sklearn.metrics._plot.confusion_matrix.ConfusionMatrixDisplay at 0x7f86543c9690>"
      ]
     },
     "execution_count": 57,
     "metadata": {},
     "output_type": "execute_result"
    },
    {
     "data": {
      "image/png": "[encoded data removed]",
      "text/plain": [
       "<Figure size 432x288 with 2 Axes>"
      ]
     },
     "metadata": {
      "needs_background": "light"
     },
     "output_type": "display_data"
    }
   ],
   "source": [
    "from sklearn.metrics import ConfusionMatrixDisplay\n",
    "ConfusionMatrixDisplay.from_estimator(lr, X_test, y_test, cmap='Blues')"
   ]
  },
  {
   "cell_type": "code",
   "execution_count": 58,
   "id": "e36c4b3c-2178-4419-b892-e121f447dc33",
   "metadata": {},
   "outputs": [
    {
     "name": "stdout",
     "output_type": "stream",
     "text": [
      "Logistic Regression Performance:\n",
      "Accuracy:                 0.7822222222222223\n",
      "Precission No Paga:       0.7822222222222223\n",
      "Precission Paga:          0.0\n",
      "Recall No Paga            1.0\n",
      "Recall Paga               0.0\n",
      "F1-score No Paga:         0.8778054862842892\n",
      "F1-score Paga:            0.0\n"
     ]
    },
    {
     "name": "stderr",
     "output_type": "stream",
     "text": [
      "/opt/conda/lib/python3.7/site-packages/sklearn/metrics/_classification.py:1318: UndefinedMetricWarning: Precision is ill-defined and being set to 0.0 due to no predicted samples. Use `zero_division` parameter to control this behavior.\n",
      "  _warn_prf(average, modifier, msg_start, len(result))\n"
     ]
    }
   ],
   "source": [
    "print('Logistic Regression Performance:')\n",
    "print('Accuracy:                ', accuracy_score(y_test, y_pred_lr))\n",
    "\n",
    "print('Precission No Paga:      ', precision_score(y_test, y_pred_lr, pos_label=0))\n",
    "print('Precission Paga:         ', precision_score(y_test, y_pred_lr, pos_label=1))\n",
    "\n",
    "print('Recall No Paga           ', recall_score(y_test, y_pred_lr, pos_label=0))\n",
    "print('Recall Paga              ', recall_score(y_test, y_pred_lr, pos_label=1))\n",
    "\n",
    "print('F1-score No Paga:        ', f1_score(y_test, y_pred_lr, pos_label=0))\n",
    "print('F1-score Paga:           ', f1_score(y_test, y_pred_lr, pos_label=1))"
   ]
  },
  {
   "cell_type": "markdown",
   "id": "29c6dea7-2787-464f-b1e4-a216d40e324b",
   "metadata": {},
   "source": [
    "## XGBoost Model"
   ]
  },
  {
   "cell_type": "code",
   "execution_count": 59,
   "id": "5f1ed96f-8414-4bd8-a05c-c3d05c6659b6",
   "metadata": {},
   "outputs": [],
   "source": [
    "target = 'default.payment.next.month'\n",
    "predictors = [  'LIMIT_BAL','AGE','PAY_0', 'PAY_2', 'PAY_3', 'PAY_4', 'PAY_5', 'PAY_6', \n",
    "                'BILL_AMT6', 'PAY_AMT1', 'PAY_AMT2', 'PAY_AMT3', 'PAY_AMT4', 'PAY_AMT5', 'PAY_AMT6',\n",
    "                'SEX_2','EDUCATION_1','EDUCATION_2','EDUCATION_3','EDUCATION_4','MARRIAGE_2','MARRIAGE_3']"
   ]
  },
  {
   "cell_type": "code",
   "execution_count": 62,
   "id": "f546d514-4d14-4bb4-a997-b4cd592ae66c",
   "metadata": {},
   "outputs": [],
   "source": [
    "train_df, val_df = train_test_split(data_cred, test_size=0.20, random_state=42, shuffle=True )"
   ]
  },
  {
   "cell_type": "code",
   "execution_count": 63,
   "id": "84a117a8-1731-4144-aa0a-1f852713e391",
   "metadata": {},
   "outputs": [],
   "source": [
    "dtrain = xgb.DMatrix(train_df[predictors], train_df[target].values)\n",
    "dvalid = xgb.DMatrix(val_df[predictors], val_df[target].values)\n",
    "\n",
    "watchlist = [(dtrain, 'train'), (dvalid, 'valid')]\n",
    "\n",
    "params = {}\n",
    "params['objective'] = 'binary:logistic'\n",
    "params['eta'] = 0.039\n",
    "params['silent'] = True\n",
    "params['max_depth'] = 2\n",
    "params['subsample'] = 0.8\n",
    "params['colsample_bytree'] = 0.9\n",
    "params['eval_metric'] = 'auc'\n",
    "params['random_state'] = 42"
   ]
  },
  {
   "cell_type": "code",
   "execution_count": 64,
   "id": "89f4796d-a9a5-48bc-8675-6af1de26f438",
   "metadata": {},
   "outputs": [
    {
     "name": "stdout",
     "output_type": "stream",
     "text": [
      "[05:23:57] WARNING: ../src/learner.cc:627: \n",
      "Parameters: { \"silent\" } might not be used.\n",
      "\n",
      "  This could be a false alarm, with some parameters getting used by language bindings but\n",
      "  then being mistakenly passed down to XGBoost core, or some parameter actually being used\n",
      "  but getting flagged wrongly here. Please open an issue if you find any such cases.\n",
      "\n",
      "\n",
      "[0]\ttrain-auc:0.67102\tvalid-auc:0.66074\n"
     ]
    },
    {
     "name": "stderr",
     "output_type": "stream",
     "text": [
      "/opt/conda/lib/python3.7/site-packages/xgboost/core.py:528: FutureWarning: Pass `evals` as keyword args.  Passing these as positional arguments will be considered as error in future releases.\n",
      "  format(\", \".join(args_msg)), FutureWarning\n"
     ]
    },
    {
     "name": "stdout",
     "output_type": "stream",
     "text": [
      "[50]\ttrain-auc:0.76861\tvalid-auc:0.76368\n",
      "[100]\ttrain-auc:0.77668\tvalid-auc:0.76962\n",
      "[150]\ttrain-auc:0.78077\tvalid-auc:0.77271\n",
      "[200]\ttrain-auc:0.78346\tvalid-auc:0.77453\n",
      "[250]\ttrain-auc:0.78500\tvalid-auc:0.77488\n",
      "[300]\ttrain-auc:0.78670\tvalid-auc:0.77534\n",
      "[350]\ttrain-auc:0.78807\tvalid-auc:0.77524\n",
      "[362]\ttrain-auc:0.78859\tvalid-auc:0.77514\n"
     ]
    }
   ],
   "source": [
    "model = xgb.train(params, \n",
    "                dtrain, \n",
    "                1000, \n",
    "                watchlist, \n",
    "                early_stopping_rounds=50, \n",
    "                maximize=True, \n",
    "                verbose_eval=50)"
   ]
  },
  {
   "cell_type": "code",
   "execution_count": 65,
   "id": "c6209497-bf6e-4032-9b6f-016c5941e0fa",
   "metadata": {},
   "outputs": [
    {
     "data": {
      "image/png": "[encoded data removed]",
      "text/plain": [
       "<Figure size 576x360 with 1 Axes>"
      ]
     },
     "metadata": {
      "needs_background": "light"
     },
     "output_type": "display_data"
    }
   ],
   "source": [
    "fig, (ax) = plt.subplots(ncols=1, figsize=(8,5))\n",
    "xgb.plot_importance(model, height=0.8, title=\"Features importance (XGBoost)\", ax=ax, color=\"green\") \n",
    "plt.show()"
   ]
  },
  {
   "cell_type": "code",
   "execution_count": null,
   "id": "50f82e69-0d2d-4d6f-803d-d77d3f47dbc7",
   "metadata": {},
   "outputs": [],
   "source": []
  }
 ],
 "metadata": {
  "environment": {
   "kernel": "python3",
   "name": "common-cpu.m90",
   "type": "gcloud",
   "uri": "gcr.io/deeplearning-platform-release/base-cpu:m90"
  },
  "kernelspec": {
   "display_name": "Python 3",
   "language": "python",
   "name": "python3"
  },
  "language_info": {
   "codemirror_mode": {
    "name": "ipython",
    "version": 3
   },
   "file_extension": ".py",
   "mimetype": "text/x-python",
   "name": "python",
   "nbconvert_exporter": "python",
   "pygments_lexer": "ipython3",
   "version": "3.7.12"
  }
 },
 "nbformat": 4,
 "nbformat_minor": 5
}
