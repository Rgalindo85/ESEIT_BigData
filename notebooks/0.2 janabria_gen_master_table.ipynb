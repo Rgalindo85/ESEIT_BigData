{
 "cells": [
  {
   "cell_type": "markdown",
   "id": "c45c40c1-ee5d-45b8-9986-3a8ead148527",
   "metadata": {},
   "source": [
    "# Nombre: **Julio Enrique Sanabria Quintana**"
   ]
  },
  {
   "cell_type": "code",
   "execution_count": 1,
   "id": "c690d88f-b992-4dbc-9b50-17fd15022cb5",
   "metadata": {},
   "outputs": [],
   "source": [
    "import os\n",
    "import sys\n",
    "import logging\n",
    "import pandas as pd\n",
    "import numpy as np\n",
    "import matplotlib.pyplot as plt\n",
    "\n",
    "\n",
    "from pandas_profiling import ProfileReport\n",
    "from dateutil.parser import parse          # This library is exclusive to deal\n",
    "\n",
    "project_dir = os.path.dirname(os.path.abspath('.')) # get the path of the project, if doesn't work use os.getcwd() instead and use rfind to find the project dir\n",
    "sys.path.append(os.path.join(project_dir, 'src', 'data'))\n",
    "\n",
    "from data_manipulator import get_input_data\n",
    "from google.cloud import storage\n",
    "\n",
    "%load_ext autoreload\n",
    "%autoreload 2\n",
    "\n",
    "bucket = 'esp_bigdata'\n",
    "directory = 'BigData'"
   ]
  },
  {
   "cell_type": "code",
   "execution_count": 2,
   "id": "aeda55b5-72e8-406f-8fe1-f9d97f056440",
   "metadata": {},
   "outputs": [],
   "source": [
    "def list_blobs(esp_bigdata, directory=\"BigData/data/process/\"):\n",
    "    \"\"\"List all the blob in the bucket.\"\"\"\n",
    "    \n",
    "    storage_client=storage.Client()\n",
    "    \n",
    "                #Client.list_blobs requires at least package version 1.17.0.\n",
    "    blobs=storage_client.list_blobs(esp_bigdata, prefix=directory, delimiter=\"/\")\n",
    "    \n",
    "    list_files=list()\n",
    "    \n",
    "    for blob in blobs:\n",
    "        print(blob.name)\n",
    "        if \".csv\" in blob.name:\n",
    "            list_files.append(blob.name)\n",
    "            \n",
    "    return list_files"
   ]
  },
  {
   "cell_type": "code",
   "execution_count": 3,
   "id": "e47da754-9d4c-46e6-b16d-40c26d54149b",
   "metadata": {},
   "outputs": [
    {
     "name": "stdout",
     "output_type": "stream",
     "text": [
      "BigData/data/process/\n",
      "BigData/data/process/clean_datos-abiertos-agosto-2019.csv\n",
      "BigData/data/process/clean_datos-abiertos-enero_2020.csv\n",
      "BigData/data/process/clean_llamadas_123_julio_2019.csv\n"
     ]
    }
   ],
   "source": [
    "list_files=list_blobs(esp_bigdata=bucket)"
   ]
  },
  {
   "cell_type": "code",
   "execution_count": 4,
   "id": "85a8477b-07e9-43f0-8d36-6e2cb35b1fb6",
   "metadata": {},
   "outputs": [
    {
     "name": "stdout",
     "output_type": "stream",
     "text": [
      "['BigData', 'data', 'process', 'clean_datos-abiertos-agosto-2019.csv']\n",
      "['BigData', 'data', 'process', 'clean_datos-abiertos-enero_2020.csv']\n",
      "['BigData', 'data', 'process', 'clean_llamadas_123_julio_2019.csv']\n",
      "Total Dataframes:0\n"
     ]
    }
   ],
   "source": [
    "list_data=list()\n",
    "\n",
    "for file in list_files:\n",
    "    print(file.split(\"/\"))\n",
    "    list_strings=file.split(\"/\")\n",
    "    \n",
    "    data=get_input_data(\n",
    "        bucket           =bucket,\n",
    "        initial_directory=directory,\n",
    "        step             =\"process\",\n",
    "        filename         =list_strings[-1]\n",
    "    )\n",
    "    \n",
    "    list:data.append(data)\n",
    "print(\"Total Dataframes:{}\".format(len(list_data)))"
   ]
  },
  {
   "cell_type": "code",
   "execution_count": 5,
   "id": "750c6f59-3b84-427f-9302-a7c91b5ecfc0",
   "metadata": {},
   "outputs": [
    {
     "data": {
      "text/plain": [
       "'/home/jupyter/ESEIT_BigData/notebooks'"
      ]
     },
     "execution_count": 5,
     "metadata": {},
     "output_type": "execute_result"
    }
   ],
   "source": [
    "%pwd"
   ]
  },
  {
   "cell_type": "code",
   "execution_count": null,
   "id": "fcf8f798-19bc-424d-9f62-46a1605089a6",
   "metadata": {},
   "outputs": [],
   "source": []
  }
 ],
 "metadata": {
  "environment": {
   "kernel": "python3",
   "name": "common-cpu.m90",
   "type": "gcloud",
   "uri": "gcr.io/deeplearning-platform-release/base-cpu:m90"
  },
  "kernelspec": {
   "display_name": "Python 3",
   "language": "python",
   "name": "python3"
  },
  "language_info": {
   "codemirror_mode": {
    "name": "ipython",
    "version": 3
   },
   "file_extension": ".py",
   "mimetype": "text/x-python",
   "name": "python",
   "nbconvert_exporter": "python",
   "pygments_lexer": "ipython3",
   "version": "3.7.12"
  }
 },
 "nbformat": 4,
 "nbformat_minor": 5
}
