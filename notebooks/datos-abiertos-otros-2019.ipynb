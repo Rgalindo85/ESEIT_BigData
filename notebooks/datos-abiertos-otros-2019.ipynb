{
 "cells": [
  {
   "cell_type": "code",
   "execution_count": 7,
   "id": "d3a9cb8a-99de-40d0-aa54-145bd7bcefe0",
   "metadata": {},
   "outputs": [],
   "source": [
    "import os\n",
    "import sys\n",
    "import logging\n",
    "import pandas as pd\n",
    "\n",
    "from pandas_profiling import ProfileReport\n",
    "\n",
    "\n",
    "project_dir = os.path.dirname(os.path.abspath('.')) # get the path of the project, if doesn't work use os.getcwd() instead and use rfind to find the project dir\n",
    "sys.path.append(os.path.join(project_dir, 'src', 'data'))\n",
    "\n",
    "from data_manipulator import get_input_data\n",
    "\n",
    "bucket = 'fredo7'\n",
    "directory = 'BigData'"
   ]
  },
  {
   "cell_type": "code",
   "execution_count": 8,
   "id": "74881931-f892-4a44-8d3a-fe67036ecbbd",
   "metadata": {},
   "outputs": [
    {
     "name": "stdout",
     "output_type": "stream",
     "text": [
      "<class 'pandas.core.frame.DataFrame'>\n",
      "RangeIndex: 127314 entries, 0 to 127313\n",
      "Data columns (total 12 columns):\n",
      " #   Column                             Non-Null Count   Dtype \n",
      "---  ------                             --------------   ----- \n",
      " 0   FECHA_INCIDENTE                    127314 non-null  object\n",
      " 1   FECHA_INICIO_DESPLAZAMIENTO_MOVIL  127314 non-null  object\n",
      " 2   CODIGO LOCALIDAD                   127314 non-null  int64 \n",
      " 3   LOCALIDAD                          127314 non-null  object\n",
      " 4   EDAD                               127314 non-null  object\n",
      " 5   UNIDAD                             127314 non-null  object\n",
      " 6   GENERO                             127314 non-null  object\n",
      " 7   RED                                127314 non-null  object\n",
      " 8   TIPO_INCIDENTE                     127314 non-null  object\n",
      " 9   PRIORIDAD                          127286 non-null  object\n",
      " 10  MES                                127314 non-null  object\n",
      " 11  CLASIFICACION FINAL                127314 non-null  object\n",
      "dtypes: int64(1), object(11)\n",
      "memory usage: 11.7+ MB\n",
      "None\n"
     ]
    }
   ],
   "source": [
    "raw_data = get_input_data(\n",
    "    bucket=bucket,\n",
    "    initial_directory=directory,\n",
    "    filename = 'llamadas-de-urgencias-y-emergencias.csv')\n",
    "print(raw_data.info())"
   ]
  },
  {
   "cell_type": "code",
   "execution_count": 9,
   "id": "1d88d0dc-81fb-4e94-a822-2df14ca2d537",
   "metadata": {},
   "outputs": [
    {
     "name": "stdout",
     "output_type": "stream",
     "text": [
      "<class 'pandas.core.frame.DataFrame'>\n",
      "RangeIndex: 127314 entries, 0 to 127313\n",
      "Data columns (total 12 columns):\n",
      " #   Column                             Non-Null Count   Dtype \n",
      "---  ------                             --------------   ----- \n",
      " 0   FECHA_INCIDENTE                    127314 non-null  object\n",
      " 1   FECHA_INICIO_DESPLAZAMIENTO_MOVIL  127314 non-null  object\n",
      " 2   CODIGO LOCALIDAD                   127314 non-null  int64 \n",
      " 3   LOCALIDAD                          127314 non-null  object\n",
      " 4   EDAD                               127314 non-null  object\n",
      " 5   UNIDAD                             127314 non-null  object\n",
      " 6   GENERO                             127314 non-null  object\n",
      " 7   RED                                127314 non-null  object\n",
      " 8   TIPO_INCIDENTE                     127314 non-null  object\n",
      " 9   PRIORIDAD                          127286 non-null  object\n",
      " 10  MES                                127314 non-null  object\n",
      " 11  CLASIFICACION_FINAL                127314 non-null  object\n",
      "dtypes: int64(1), object(11)\n",
      "memory usage: 11.7+ MB\n"
     ]
    }
   ],
   "source": [
    "# Se renombran los campos actuales\n",
    "raw_data.rename(\n",
    "    columns = {\n",
    "        'CLASIFICACION FINAL' : 'CLASIFICACION_FINAL',\n",
    "              },\n",
    "    inplace=True\n",
    ")\n",
    "raw_data.head()\n",
    "raw_data.info()"
   ]
  },
  {
   "cell_type": "code",
   "execution_count": 10,
   "id": "c448de78-0e36-4d7a-b73d-9d9516cc7a0a",
   "metadata": {},
   "outputs": [
    {
     "name": "stdout",
     "output_type": "stream",
     "text": [
      "<class 'pandas.core.frame.DataFrame'>\n",
      "RangeIndex: 127314 entries, 0 to 127313\n",
      "Data columns (total 13 columns):\n",
      " #   Column                             Non-Null Count   Dtype \n",
      "---  ------                             --------------   ----- \n",
      " 0   FECHA_INCIDENTE                    127314 non-null  object\n",
      " 1   FECHA_INICIO_DESPLAZAMIENTO_MOVIL  127314 non-null  object\n",
      " 2   CODIGO LOCALIDAD                   127314 non-null  int64 \n",
      " 3   LOCALIDAD                          127314 non-null  object\n",
      " 4   EDAD                               127314 non-null  object\n",
      " 5   UNIDAD                             127314 non-null  object\n",
      " 6   GENERO                             127314 non-null  object\n",
      " 7   RED                                127314 non-null  object\n",
      " 8   TIPO_INCIDENTE                     127314 non-null  object\n",
      " 9   PRIORIDAD                          127286 non-null  object\n",
      " 10  MES                                127314 non-null  object\n",
      " 11  CLASIFICACION_FINAL                127314 non-null  object\n",
      " 12  NUMERO_INCIDENTE                   127314 non-null  object\n",
      "dtypes: int64(1), object(12)\n",
      "memory usage: 12.6+ MB\n"
     ]
    }
   ],
   "source": [
    "# Incluyen las nuevos campos faltantes\n",
    "raw_data = raw_data.assign(NUMERO_INCIDENTE = \"SIN_DATO\")\n",
    "raw_data.head()\n",
    "raw_data.info()"
   ]
  },
  {
   "cell_type": "code",
   "execution_count": 11,
   "id": "07fc48fb-2c4d-46a8-b235-6403b5a0e49e",
   "metadata": {},
   "outputs": [
    {
     "name": "stdout",
     "output_type": "stream",
     "text": [
      "<class 'pandas.core.frame.DataFrame'>\n",
      "RangeIndex: 127314 entries, 0 to 127313\n",
      "Data columns (total 13 columns):\n",
      " #   Column                             Non-Null Count   Dtype  \n",
      "---  ------                             --------------   -----  \n",
      " 0   NUMERO_INCIDENTE                   127314 non-null  object \n",
      " 1   FECHA_INCIDENTE                    127314 non-null  object \n",
      " 2   FECHA_INICIO_DESPLAZAMIENTO_MOVIL  127314 non-null  object \n",
      " 3   CODIGO_LOCALIDAD                   0 non-null       float64\n",
      " 4   LOCALIDAD                          127314 non-null  object \n",
      " 5   EDAD                               127314 non-null  object \n",
      " 6   UNIDAD                             127314 non-null  object \n",
      " 7   GENERO                             127314 non-null  object \n",
      " 8   RED                                127314 non-null  object \n",
      " 9   TIPO_INCIDENTE                     127314 non-null  object \n",
      " 10  PRIORIDAD                          127286 non-null  object \n",
      " 11  MES                                127314 non-null  object \n",
      " 12  CLASIFICACION_FINAL                127314 non-null  object \n",
      "dtypes: float64(1), object(12)\n",
      "memory usage: 12.6+ MB\n"
     ]
    }
   ],
   "source": [
    "# Reordenamos las columnas en el orden establecido para todos\n",
    "#los archivos\n",
    "\n",
    "raw_data = raw_data.reindex(columns=['NUMERO_INCIDENTE',\n",
    "                                     'FECHA_INCIDENTE',\n",
    "'FECHA_INICIO_DESPLAZAMIENTO_MOVIL',\n",
    "'CODIGO_LOCALIDAD',\n",
    "'LOCALIDAD',\n",
    "'EDAD',\n",
    "'UNIDAD',\n",
    "'GENERO',\n",
    "'RED',\n",
    "'TIPO_INCIDENTE',\n",
    "'PRIORIDAD',\n",
    "'MES',\n",
    "'CLASIFICACION_FINAL',\n",
    "\n",
    "])\n",
    "raw_data.head()\n",
    "raw_data.info()"
   ]
  },
  {
   "cell_type": "code",
   "execution_count": 12,
   "id": "90616ad4-03dd-4e5d-b094-56ea9b4f25b6",
   "metadata": {},
   "outputs": [
    {
     "data": {
      "text/plain": [
       "NaN    127314\n",
       "Name: CODIGO_LOCALIDAD, dtype: int64"
      ]
     },
     "execution_count": 12,
     "metadata": {},
     "output_type": "execute_result"
    }
   ],
   "source": [
    "raw_data['CODIGO_LOCALIDAD'].value_counts(dropna=False)"
   ]
  },
  {
   "cell_type": "code",
   "execution_count": 13,
   "id": "896a978c-218e-4d52-8b79-c75d965e2cf2",
   "metadata": {},
   "outputs": [
    {
     "name": "stdout",
     "output_type": "stream",
     "text": [
      "<class 'pandas.core.frame.DataFrame'>\n",
      "RangeIndex: 127314 entries, 0 to 127313\n",
      "Data columns (total 13 columns):\n",
      " #   Column                             Non-Null Count   Dtype \n",
      "---  ------                             --------------   ----- \n",
      " 0   NUMERO_INCIDENTE                   127314 non-null  object\n",
      " 1   FECHA_INCIDENTE                    127314 non-null  object\n",
      " 2   FECHA_INICIO_DESPLAZAMIENTO_MOVIL  127314 non-null  object\n",
      " 3   CODIGO_LOCALIDAD                   127314 non-null  object\n",
      " 4   LOCALIDAD                          127314 non-null  object\n",
      " 5   EDAD                               127314 non-null  object\n",
      " 6   UNIDAD                             127314 non-null  object\n",
      " 7   GENERO                             127314 non-null  object\n",
      " 8   RED                                127314 non-null  object\n",
      " 9   TIPO_INCIDENTE                     127314 non-null  object\n",
      " 10  PRIORIDAD                          127286 non-null  object\n",
      " 11  MES                                127314 non-null  object\n",
      " 12  CLASIFICACION_FINAL                127314 non-null  object\n",
      "dtypes: object(13)\n",
      "memory usage: 12.6+ MB\n"
     ]
    }
   ],
   "source": [
    "col = 'CODIGO_LOCALIDAD'\n",
    "raw_data[col].fillna('SIN_DATO', inplace=True)\n",
    "raw_data[col] = raw_data[col].apply(lambda x: x.strip())\n",
    "raw_data.head()\n",
    "raw_data.info()"
   ]
  },
  {
   "cell_type": "code",
   "execution_count": 14,
   "id": "772e4afe-78e1-4771-95c6-76a83735df5a",
   "metadata": {},
   "outputs": [
    {
     "data": {
      "application/vnd.jupyter.widget-view+json": {
       "model_id": "15064a51135a4419beb6f181c1f642be",
       "version_major": 2,
       "version_minor": 0
      },
      "text/plain": [
       "Summarize dataset:   0%|          | 0/26 [00:00<?, ?it/s]"
      ]
     },
     "metadata": {},
     "output_type": "display_data"
    },
    {
     "data": {
      "application/vnd.jupyter.widget-view+json": {
       "model_id": "c79f7138ef3d41ff84bf8308ddc27021",
       "version_major": 2,
       "version_minor": 0
      },
      "text/plain": [
       "Generate report structure:   0%|          | 0/1 [00:00<?, ?it/s]"
      ]
     },
     "metadata": {},
     "output_type": "display_data"
    },
    {
     "data": {
      "application/vnd.jupyter.widget-view+json": {
       "model_id": "7566f6988a4b486499332a7540ec1550",
       "version_major": 2,
       "version_minor": 0
      },
      "text/plain": [
       "Render HTML:   0%|          | 0/1 [00:00<?, ?it/s]"
      ]
     },
     "metadata": {},
     "output_type": "display_data"
    },
    {
     "data": {
      "application/vnd.jupyter.widget-view+json": {
       "model_id": "1b0a87b859b045d88c1c92c946214719",
       "version_major": 2,
       "version_minor": 0
      },
      "text/plain": [
       "Export report to file:   0%|          | 0/1 [00:00<?, ?it/s]"
      ]
     },
     "metadata": {},
     "output_type": "display_data"
    }
   ],
   "source": [
    "profile = ProfileReport(df=raw_data)\n",
    "profile.to_file(output_file=project_dir + '/reports/'+'profile_raw_data_otros_2019.html')"
   ]
  },
  {
   "cell_type": "code",
   "execution_count": 15,
   "id": "87649a2c-f76e-4d56-b575-1b1096c2eb57",
   "metadata": {},
   "outputs": [],
   "source": [
    "# saving in a local directory\n",
    "raw_data.to_csv(project_dir + '/data/processed/' +'clean_llamadas_123_otros_2019.csv', encoding='latin1', sep=';', index=False)"
   ]
  },
  {
   "cell_type": "code",
   "execution_count": null,
   "id": "3e48037d-7e9c-4889-ba90-71d201e65a9d",
   "metadata": {},
   "outputs": [],
   "source": []
  }
 ],
 "metadata": {
  "environment": {
   "kernel": "python3",
   "name": "common-cpu.m90",
   "type": "gcloud",
   "uri": "gcr.io/deeplearning-platform-release/base-cpu:m90"
  },
  "kernelspec": {
   "display_name": "Python 3",
   "language": "python",
   "name": "python3"
  },
  "language_info": {
   "codemirror_mode": {
    "name": "ipython",
    "version": 3
   },
   "file_extension": ".py",
   "mimetype": "text/x-python",
   "name": "python",
   "nbconvert_exporter": "python",
   "pygments_lexer": "ipython3",
   "version": "3.7.12"
  }
 },
 "nbformat": 4,
 "nbformat_minor": 5
}
