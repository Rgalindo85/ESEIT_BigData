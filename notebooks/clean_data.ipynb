{
 "cells": [
  {
   "cell_type": "markdown",
   "id": "0ef08388-aeb8-43b6-92bc-0eab3bb3930a",
   "metadata": {},
   "source": [
    "#Lectura y limpieza"
   ]
  },
  {
   "cell_type": "code",
   "execution_count": 1,
   "id": "adfcd1de-feca-40ee-ae58-b134d93bf66e",
   "metadata": {},
   "outputs": [],
   "source": [
    "import os\n",
    "import sys\n",
    "import logging\n",
    "import pandas as pd\n",
    "\n",
    "from pandas_profiling import ProfileReport\n",
    "\n",
    "\n",
    "project_dir = os.path.dirname(os.path.abspath('.')) # get the path of the project, if doesn't work use os.getcwd() instead and use rfind to find the project dir\n",
    "sys.path.append(os.path.join(project_dir, 'src', 'data'))\n",
    "\n",
    "from data_manipulator import get_input_data\n",
    "\n",
    "bucket = 'especializacion_daba'\n",
    "directory = 'BigData'\n"
   ]
  },
  {
   "cell_type": "code",
   "execution_count": 2,
   "id": "aad48a0b-f595-4992-9790-26460982cefd",
   "metadata": {},
   "outputs": [
    {
     "data": {
      "text/plain": [
       "\u001b[0;31mSignature:\u001b[0m\n",
       "\u001b[0mget_input_data\u001b[0m\u001b[0;34m(\u001b[0m\u001b[0;34m\u001b[0m\n",
       "\u001b[0;34m\u001b[0m    \u001b[0mbucket\u001b[0m\u001b[0;34m=\u001b[0m\u001b[0;34m'esp-big-data'\u001b[0m\u001b[0;34m,\u001b[0m\u001b[0;34m\u001b[0m\n",
       "\u001b[0;34m\u001b[0m    \u001b[0minitial_directory\u001b[0m\u001b[0;34m=\u001b[0m\u001b[0;34m'BigData'\u001b[0m\u001b[0;34m,\u001b[0m\u001b[0;34m\u001b[0m\n",
       "\u001b[0;34m\u001b[0m    \u001b[0mfilename\u001b[0m\u001b[0;34m=\u001b[0m\u001b[0;34m'datos-abiertos-agosto-2019.csv'\u001b[0m\u001b[0;34m,\u001b[0m\u001b[0;34m\u001b[0m\n",
       "\u001b[0;34m\u001b[0m\u001b[0;34m)\u001b[0m\u001b[0;34m\u001b[0m\u001b[0;34m\u001b[0m\u001b[0m\n",
       "\u001b[0;31mDocstring:\u001b[0m\n",
       "Read a csv file in a bucket of GCS, the file must use latin1 encoding and the separator is a semicolon (;)\n",
       "\n",
       "Args:\n",
       "    bucket (str, optional): Name of the bucket. Defaults to 'esp-big-data'.\n",
       "    initial_directory (str, optional): project directory. Defaults to 'BigData'.\n",
       "    filename (str, optional):csv file to read. Defaults to 'datos-abiertos-agosto-2019.csv'.\n",
       "\n",
       "Returns:\n",
       "    pandas.dataframe: dataframe with the raw data\n",
       "\u001b[0;31mFile:\u001b[0m      ~/ESEIT_BigData/src/data/data_manipulator.py\n",
       "\u001b[0;31mType:\u001b[0m      function\n"
      ]
     },
     "metadata": {},
     "output_type": "display_data"
    }
   ],
   "source": [
    "get_input_data?"
   ]
  },
  {
   "cell_type": "code",
   "execution_count": 3,
   "id": "9c4ee59e-05f7-4416-99c2-1fbf9913e9be",
   "metadata": {},
   "outputs": [
    {
     "name": "stdout",
     "output_type": "stream",
     "text": [
      "<class 'pandas.core.frame.DataFrame'>\n",
      "RangeIndex: 18141 entries, 0 to 18140\n",
      "Data columns (total 12 columns):\n",
      " #   Column                             Non-Null Count  Dtype \n",
      "---  ------                             --------------  ----- \n",
      " 0   NUMERO_INCIDENTE                   18141 non-null  int64 \n",
      " 1   FECHA_INICIO_DESPLAZAMIENTO-MOVIL  18141 non-null  object\n",
      " 2   CODIGO DE LOCALIDAD                18141 non-null  int64 \n",
      " 3   LOCALIDAD                          18141 non-null  object\n",
      " 4   EDAD                               18141 non-null  object\n",
      " 5   UNIDAD                             18141 non-null  object\n",
      " 6   GENERO                             18141 non-null  object\n",
      " 7   RED                                18141 non-null  object\n",
      " 8   TIPO DE INCIDIDENT                 18141 non-null  object\n",
      " 9   PRIORIDAD                          18141 non-null  object\n",
      " 10  MES                                18141 non-null  object\n",
      " 11  CLASIFICACION FINAL                18138 non-null  object\n",
      "dtypes: int64(2), object(10)\n",
      "memory usage: 1.7+ MB\n",
      "None\n"
     ]
    }
   ],
   "source": [
    "raw_data_ago = get_input_data(bucket='especializacion_daba',filename ='datos-abiertos-agosto-2019.csv')\n",
    "print(raw_data_ago.info())"
   ]
  },
  {
   "cell_type": "code",
   "execution_count": 4,
   "id": "bc1297cd-2863-461b-bfd4-62e2e90939db",
   "metadata": {},
   "outputs": [
    {
     "data": {
      "text/html": [
       "<div>\n",
       "<style scoped>\n",
       "    .dataframe tbody tr th:only-of-type {\n",
       "        vertical-align: middle;\n",
       "    }\n",
       "\n",
       "    .dataframe tbody tr th {\n",
       "        vertical-align: top;\n",
       "    }\n",
       "\n",
       "    .dataframe thead th {\n",
       "        text-align: right;\n",
       "    }\n",
       "</style>\n",
       "<table border=\"1\" class=\"dataframe\">\n",
       "  <thead>\n",
       "    <tr style=\"text-align: right;\">\n",
       "      <th></th>\n",
       "      <th>NUMERO_INCIDENTE</th>\n",
       "      <th>FECHA_INICIO_DESPLAZAMIENTO_MOVIL</th>\n",
       "      <th>CODIGO_DE_LOCALIDAD</th>\n",
       "      <th>LOCALIDAD</th>\n",
       "      <th>EDAD</th>\n",
       "      <th>UNIDAD</th>\n",
       "      <th>GENERO</th>\n",
       "      <th>RED</th>\n",
       "      <th>TIPO_DE_INCIDENTE</th>\n",
       "      <th>PRIORIDAD</th>\n",
       "      <th>MES</th>\n",
       "      <th>CLASIFICACION_FINAL</th>\n",
       "    </tr>\n",
       "  </thead>\n",
       "  <tbody>\n",
       "    <tr>\n",
       "      <th>0</th>\n",
       "      <td>809224194</td>\n",
       "      <td>1/08/2019 0:28</td>\n",
       "      <td>1</td>\n",
       "      <td>Usaquen</td>\n",
       "      <td>SIN_DATO</td>\n",
       "      <td>SIN_DATO</td>\n",
       "      <td>SIN_DATO</td>\n",
       "      <td>Norte</td>\n",
       "      <td>Inconsciente/Paro Cardiorrespiratorio</td>\n",
       "      <td>ALTA</td>\n",
       "      <td>AGOSTO</td>\n",
       "      <td>Cancelado</td>\n",
       "    </tr>\n",
       "    <tr>\n",
       "      <th>1</th>\n",
       "      <td>809224194</td>\n",
       "      <td>1/08/2019 0:28</td>\n",
       "      <td>1</td>\n",
       "      <td>Usaquen</td>\n",
       "      <td>SIN_DATO</td>\n",
       "      <td>SIN_DATO</td>\n",
       "      <td>SIN_DATO</td>\n",
       "      <td>Norte</td>\n",
       "      <td>Inconsciente/Paro Cardiorrespiratorio</td>\n",
       "      <td>ALTA</td>\n",
       "      <td>AGOSTO</td>\n",
       "      <td>Cancelado</td>\n",
       "    </tr>\n",
       "    <tr>\n",
       "      <th>2</th>\n",
       "      <td>809240194</td>\n",
       "      <td>1/08/2019 0:15</td>\n",
       "      <td>11</td>\n",
       "      <td>Suba</td>\n",
       "      <td>SIN_DATO</td>\n",
       "      <td>SIN_DATO</td>\n",
       "      <td>SIN_DATO</td>\n",
       "      <td>Norte</td>\n",
       "      <td>Accidente cerebro vascular</td>\n",
       "      <td>BAJA</td>\n",
       "      <td>AGOSTO</td>\n",
       "      <td>Cancelado</td>\n",
       "    </tr>\n",
       "    <tr>\n",
       "      <th>3</th>\n",
       "      <td>809240194</td>\n",
       "      <td>1/08/2019 0:15</td>\n",
       "      <td>11</td>\n",
       "      <td>Suba</td>\n",
       "      <td>SIN_DATO</td>\n",
       "      <td>SIN_DATO</td>\n",
       "      <td>SIN_DATO</td>\n",
       "      <td>Norte</td>\n",
       "      <td>Accidente cerebro vascular</td>\n",
       "      <td>BAJA</td>\n",
       "      <td>AGOSTO</td>\n",
       "      <td>Cancelado</td>\n",
       "    </tr>\n",
       "    <tr>\n",
       "      <th>4</th>\n",
       "      <td>809240194</td>\n",
       "      <td>1/08/2019 0:15</td>\n",
       "      <td>11</td>\n",
       "      <td>Suba</td>\n",
       "      <td>SIN_DATO</td>\n",
       "      <td>SIN_DATO</td>\n",
       "      <td>SIN_DATO</td>\n",
       "      <td>Norte</td>\n",
       "      <td>Accidente cerebro vascular</td>\n",
       "      <td>BAJA</td>\n",
       "      <td>AGOSTO</td>\n",
       "      <td>Cancelado</td>\n",
       "    </tr>\n",
       "  </tbody>\n",
       "</table>\n",
       "</div>"
      ],
      "text/plain": [
       "   NUMERO_INCIDENTE FECHA_INICIO_DESPLAZAMIENTO_MOVIL  CODIGO_DE_LOCALIDAD  \\\n",
       "0         809224194                    1/08/2019 0:28                    1   \n",
       "1         809224194                    1/08/2019 0:28                    1   \n",
       "2         809240194                    1/08/2019 0:15                   11   \n",
       "3         809240194                    1/08/2019 0:15                   11   \n",
       "4         809240194                    1/08/2019 0:15                   11   \n",
       "\n",
       "  LOCALIDAD      EDAD    UNIDAD    GENERO    RED  \\\n",
       "0   Usaquen  SIN_DATO  SIN_DATO  SIN_DATO  Norte   \n",
       "1   Usaquen  SIN_DATO  SIN_DATO  SIN_DATO  Norte   \n",
       "2      Suba  SIN_DATO  SIN_DATO  SIN_DATO  Norte   \n",
       "3      Suba  SIN_DATO  SIN_DATO  SIN_DATO  Norte   \n",
       "4      Suba  SIN_DATO  SIN_DATO  SIN_DATO  Norte   \n",
       "\n",
       "                        TIPO_DE_INCIDENTE PRIORIDAD     MES  \\\n",
       "0  Inconsciente/Paro Cardiorrespiratorio       ALTA  AGOSTO   \n",
       "1  Inconsciente/Paro Cardiorrespiratorio       ALTA  AGOSTO   \n",
       "2             Accidente cerebro vascular       BAJA  AGOSTO   \n",
       "3             Accidente cerebro vascular       BAJA  AGOSTO   \n",
       "4             Accidente cerebro vascular       BAJA  AGOSTO   \n",
       "\n",
       "  CLASIFICACION_FINAL  \n",
       "0           Cancelado  \n",
       "1           Cancelado  \n",
       "2           Cancelado  \n",
       "3           Cancelado  \n",
       "4           Cancelado  "
      ]
     },
     "execution_count": 4,
     "metadata": {},
     "output_type": "execute_result"
    }
   ],
   "source": [
    "raw_data_ago.rename(\n",
    "    columns = {\n",
    "        'FECHA_INICIO_DESPLAZAMIENTO-MOVIL' : 'FECHA_INICIO_DESPLAZAMIENTO_MOVIL',\n",
    "        'CODIGO DE LOCALIDAD'               : 'CODIGO_DE_LOCALIDAD',\n",
    "        'TIPO DE INCIDIDENT'               : 'TIPO_DE_INCIDENTE',\n",
    "        'CLASIFICACION FINAL'               : 'CLASIFICACION_FINAL',\n",
    "        'FECHA_DESPACHO_518'               : 'FECHA_DE_DESPACHO'\n",
    "    },\n",
    "    inplace=True\n",
    ")\n",
    "raw_data_ago.head()"
   ]
  },
  {
   "cell_type": "code",
   "execution_count": 5,
   "id": "5bf835df-6f11-483c-ad8f-68f2a0a1eb8b",
   "metadata": {},
   "outputs": [
    {
     "data": {
      "text/plain": [
       "Kennedy               2717\n",
       "Engativa              1805\n",
       "Suba                  1678\n",
       "Bosa                  1264\n",
       "Ciudad Bolivar        1220\n",
       "Puente Aranda          977\n",
       "San Cristobal          906\n",
       "Usaquen                894\n",
       "Rafael Uribe Uribe     892\n",
       "Fontibon               878\n",
       "Chapinero              707\n",
       "Santa Fe               682\n",
       "Usme                   637\n",
       "Barrios Unidos         608\n",
       "Teusaquillo            599\n",
       "Tunjuelito             595\n",
       "Los Martires           593\n",
       "Antonio Nariño         369\n",
       "La Candelaria          119\n",
       "Sumapaz                  1\n",
       "Name: LOCALIDAD, dtype: int64"
      ]
     },
     "execution_count": 5,
     "metadata": {},
     "output_type": "execute_result"
    }
   ],
   "source": [
    "raw_data_ago['LOCALIDAD'].value_counts(dropna=False)\n",
    "\n",
    "raw_data_ago['LOCALIDAD'].apply(\n",
    "    lambda x: x.strip()        \n",
    ").value_counts()"
   ]
  },
  {
   "cell_type": "code",
   "execution_count": 6,
   "id": "9ab91ccf-1ba9-402f-bea0-f07fba36f6a6",
   "metadata": {},
   "outputs": [],
   "source": [
    "from datetime import datetime, timedelta\n",
    "from pandas import DataFrame "
   ]
  },
  {
   "cell_type": "code",
   "execution_count": 7,
   "id": "b0f2f32d-5f8e-4e25-a277-58209f3e7df6",
   "metadata": {},
   "outputs": [
    {
     "data": {
      "text/plain": [
       "8/08/2019 14:00     19\n",
       "27/08/2019 17:07    13\n",
       "13/08/2019 6:52     12\n",
       "12/08/2019 22:38     9\n",
       "7/08/2019 19:13      8\n",
       "                    ..\n",
       "12/08/2019 20:34     1\n",
       "12/08/2019 20:47     1\n",
       "12/08/2019 20:35     1\n",
       "12/08/2019 21:28     1\n",
       "8/08/2019 19:29      1\n",
       "Name: FECHA_INICIO_DESPLAZAMIENTO_MOVIL, Length: 13752, dtype: int64"
      ]
     },
     "execution_count": 7,
     "metadata": {},
     "output_type": "execute_result"
    }
   ],
   "source": [
    "raw_data_ago['FECHA_INICIO_DESPLAZAMIENTO_MOVIL'].value_counts(dropna=False)"
   ]
  },
  {
   "cell_type": "code",
   "execution_count": 8,
   "id": "1d5ec201-7b24-4ee4-8e4d-bbb8a5fc2010",
   "metadata": {},
   "outputs": [
    {
     "name": "stdout",
     "output_type": "stream",
     "text": [
      "2019-08-01 12:00:00 <class 'pandas._libs.tslibs.timestamps.Timestamp'>\n"
     ]
    }
   ],
   "source": [
    "date_time='01/08/2019 12:00:00'\n",
    "date_time=pd.to_datetime(date_time, format='%d/%m/%Y %H:%M:%S')\n",
    "print (date_time, type (date_time))"
   ]
  },
  {
   "cell_type": "code",
   "execution_count": 9,
   "id": "402fb4c0-9393-4107-95ed-1b37346015c2",
   "metadata": {},
   "outputs": [
    {
     "data": {
      "text/plain": [
       "<bound method IndexOpsMixin.value_counts of 0       2019-08-01 00:28:00\n",
       "1       2019-08-01 00:28:00\n",
       "2       2019-08-01 00:15:00\n",
       "3       2019-08-01 00:15:00\n",
       "4       2019-08-01 00:15:00\n",
       "                ...        \n",
       "18136   2019-08-08 17:26:00\n",
       "18137   2019-08-08 18:18:00\n",
       "18138   2019-08-08 19:29:00\n",
       "18139   2019-08-08 19:19:00\n",
       "18140   2019-08-08 19:16:00\n",
       "Name: FECHA_INICIO_DESPLAZAMIENTO_MOVIL, Length: 18141, dtype: datetime64[ns]>"
      ]
     },
     "execution_count": 9,
     "metadata": {},
     "output_type": "execute_result"
    }
   ],
   "source": [
    "col = 'FECHA_INICIO_DESPLAZAMIENTO_MOVIL'\n",
    "raw_data_ago[col] = pd.to_datetime(raw_data_ago[col], format='%d/%m/%Y %H:%M') \n",
    "raw_data_ago[col].value_counts\n",
    "# raw_data_ago.head()"
   ]
  },
  {
   "cell_type": "code",
   "execution_count": 10,
   "id": "94bcd4fd-6ab6-42cc-8385-25c797774daa",
   "metadata": {},
   "outputs": [
    {
     "data": {
      "text/html": [
       "<div>\n",
       "<style scoped>\n",
       "    .dataframe tbody tr th:only-of-type {\n",
       "        vertical-align: middle;\n",
       "    }\n",
       "\n",
       "    .dataframe tbody tr th {\n",
       "        vertical-align: top;\n",
       "    }\n",
       "\n",
       "    .dataframe thead th {\n",
       "        text-align: right;\n",
       "    }\n",
       "</style>\n",
       "<table border=\"1\" class=\"dataframe\">\n",
       "  <thead>\n",
       "    <tr style=\"text-align: right;\">\n",
       "      <th></th>\n",
       "      <th>NUMERO_INCIDENTE</th>\n",
       "      <th>FECHA_INICIO_DESPLAZAMIENTO_MOVIL</th>\n",
       "      <th>CODIGO_DE_LOCALIDAD</th>\n",
       "      <th>LOCALIDAD</th>\n",
       "      <th>EDAD</th>\n",
       "      <th>UNIDAD</th>\n",
       "      <th>GENERO</th>\n",
       "      <th>RED</th>\n",
       "      <th>TIPO_DE_INCIDENTE</th>\n",
       "      <th>PRIORIDAD</th>\n",
       "      <th>MES</th>\n",
       "      <th>CLASIFICACION_FINAL</th>\n",
       "    </tr>\n",
       "  </thead>\n",
       "  <tbody>\n",
       "    <tr>\n",
       "      <th>0</th>\n",
       "      <td>809224194</td>\n",
       "      <td>2019-08-01 00:28:00</td>\n",
       "      <td>1</td>\n",
       "      <td>Usaquen</td>\n",
       "      <td>SIN_DATO</td>\n",
       "      <td>SIN_DATO</td>\n",
       "      <td>SIN_DATO</td>\n",
       "      <td>Norte</td>\n",
       "      <td>Inconsciente/Paro Cardiorrespiratorio</td>\n",
       "      <td>ALTA</td>\n",
       "      <td>AGOSTO</td>\n",
       "      <td>Cancelado</td>\n",
       "    </tr>\n",
       "    <tr>\n",
       "      <th>1</th>\n",
       "      <td>809224194</td>\n",
       "      <td>2019-08-01 00:28:00</td>\n",
       "      <td>1</td>\n",
       "      <td>Usaquen</td>\n",
       "      <td>SIN_DATO</td>\n",
       "      <td>SIN_DATO</td>\n",
       "      <td>SIN_DATO</td>\n",
       "      <td>Norte</td>\n",
       "      <td>Inconsciente/Paro Cardiorrespiratorio</td>\n",
       "      <td>ALTA</td>\n",
       "      <td>AGOSTO</td>\n",
       "      <td>Cancelado</td>\n",
       "    </tr>\n",
       "    <tr>\n",
       "      <th>2</th>\n",
       "      <td>809240194</td>\n",
       "      <td>2019-08-01 00:15:00</td>\n",
       "      <td>11</td>\n",
       "      <td>Suba</td>\n",
       "      <td>SIN_DATO</td>\n",
       "      <td>SIN_DATO</td>\n",
       "      <td>SIN_DATO</td>\n",
       "      <td>Norte</td>\n",
       "      <td>Accidente cerebro vascular</td>\n",
       "      <td>BAJA</td>\n",
       "      <td>AGOSTO</td>\n",
       "      <td>Cancelado</td>\n",
       "    </tr>\n",
       "    <tr>\n",
       "      <th>3</th>\n",
       "      <td>809240194</td>\n",
       "      <td>2019-08-01 00:15:00</td>\n",
       "      <td>11</td>\n",
       "      <td>Suba</td>\n",
       "      <td>SIN_DATO</td>\n",
       "      <td>SIN_DATO</td>\n",
       "      <td>SIN_DATO</td>\n",
       "      <td>Norte</td>\n",
       "      <td>Accidente cerebro vascular</td>\n",
       "      <td>BAJA</td>\n",
       "      <td>AGOSTO</td>\n",
       "      <td>Cancelado</td>\n",
       "    </tr>\n",
       "    <tr>\n",
       "      <th>4</th>\n",
       "      <td>809240194</td>\n",
       "      <td>2019-08-01 00:15:00</td>\n",
       "      <td>11</td>\n",
       "      <td>Suba</td>\n",
       "      <td>SIN_DATO</td>\n",
       "      <td>SIN_DATO</td>\n",
       "      <td>SIN_DATO</td>\n",
       "      <td>Norte</td>\n",
       "      <td>Accidente cerebro vascular</td>\n",
       "      <td>BAJA</td>\n",
       "      <td>AGOSTO</td>\n",
       "      <td>Cancelado</td>\n",
       "    </tr>\n",
       "  </tbody>\n",
       "</table>\n",
       "</div>"
      ],
      "text/plain": [
       "   NUMERO_INCIDENTE FECHA_INICIO_DESPLAZAMIENTO_MOVIL  CODIGO_DE_LOCALIDAD  \\\n",
       "0         809224194               2019-08-01 00:28:00                    1   \n",
       "1         809224194               2019-08-01 00:28:00                    1   \n",
       "2         809240194               2019-08-01 00:15:00                   11   \n",
       "3         809240194               2019-08-01 00:15:00                   11   \n",
       "4         809240194               2019-08-01 00:15:00                   11   \n",
       "\n",
       "  LOCALIDAD      EDAD    UNIDAD    GENERO    RED  \\\n",
       "0   Usaquen  SIN_DATO  SIN_DATO  SIN_DATO  Norte   \n",
       "1   Usaquen  SIN_DATO  SIN_DATO  SIN_DATO  Norte   \n",
       "2      Suba  SIN_DATO  SIN_DATO  SIN_DATO  Norte   \n",
       "3      Suba  SIN_DATO  SIN_DATO  SIN_DATO  Norte   \n",
       "4      Suba  SIN_DATO  SIN_DATO  SIN_DATO  Norte   \n",
       "\n",
       "                        TIPO_DE_INCIDENTE PRIORIDAD     MES  \\\n",
       "0  Inconsciente/Paro Cardiorrespiratorio       ALTA  AGOSTO   \n",
       "1  Inconsciente/Paro Cardiorrespiratorio       ALTA  AGOSTO   \n",
       "2             Accidente cerebro vascular       BAJA  AGOSTO   \n",
       "3             Accidente cerebro vascular       BAJA  AGOSTO   \n",
       "4             Accidente cerebro vascular       BAJA  AGOSTO   \n",
       "\n",
       "  CLASIFICACION_FINAL  \n",
       "0           Cancelado  \n",
       "1           Cancelado  \n",
       "2           Cancelado  \n",
       "3           Cancelado  \n",
       "4           Cancelado  "
      ]
     },
     "execution_count": 10,
     "metadata": {},
     "output_type": "execute_result"
    }
   ],
   "source": [
    "raw_data_ago.head()"
   ]
  },
  {
   "cell_type": "code",
   "execution_count": 11,
   "id": "564e5861-39e3-43a7-9117-e35a5b37d352",
   "metadata": {},
   "outputs": [
    {
     "data": {
      "text/plain": [
       "SIN_DATO     8617\n",
       "MASCULINO    5143\n",
       "FEMENINO     4381\n",
       "Name: GENERO, dtype: int64"
      ]
     },
     "execution_count": 11,
     "metadata": {},
     "output_type": "execute_result"
    }
   ],
   "source": [
    "\n",
    "col = 'GENERO'\n",
    "raw_data_ago[col] = raw_data_ago[col].apply(lambda x: x.strip())\n",
    "raw_data_ago[col].value_counts(dropna=False) "
   ]
  },
  {
   "cell_type": "code",
   "execution_count": 12,
   "id": "421d0606-3dae-4469-8e74-4015da6a682c",
   "metadata": {},
   "outputs": [
    {
     "data": {
      "text/plain": [
       "Accidente de tránsito con heridos/Muertos    6827\n",
       "Inconsciente/Paro Cardiorrespiratorio        1875\n",
       "Dificultad Respiratoria                      1504\n",
       "Enfermo                                      1233\n",
       "Convulsiones                                 1135\n",
       "Heridos                                       847\n",
       "Lesiones personales                           718\n",
       "Trastorno mental                              670\n",
       "Dolor torácico                                628\n",
       "Intento de suicidio                           555\n",
       "Síntomas gastrointestinales                   418\n",
       "Accidente cerebro vascular                    401\n",
       "Patología Gineco - obstétrica                 353\n",
       "Caída                                         295\n",
       "Intoxicaciones                                181\n",
       "Ideas de suicidio                             102\n",
       "SIN_DATO                                       58\n",
       "Incendio estructural                           51\n",
       "Muerte Natural                                 35\n",
       "Violencia Sexual                               33\n",
       "Riña                                           24\n",
       "Solicitud Apoyo / Desacato                     21\n",
       "Accidente Tránsito Simple                      20\n",
       "Sangrado Vaginal                               15\n",
       "Quemaduras                                     15\n",
       "MATPEL (Materiales peligrosos)                  9\n",
       "Fuga de Gas Natural o Propano                   9\n",
       "Elemento caído y/o en peligro de caer.          9\n",
       "Electrocución / Rescate                         9\n",
       "Abrir domicilio                                 8\n",
       "Incidente rescate acuático                      7\n",
       "Manifestación / Motín                           7\n",
       "Embriaguez                                      6\n",
       "Maltrato                                        6\n",
       "Animal Peligroso                                5\n",
       "Rescates                                        5\n",
       "Incendio con MATPEL                             4\n",
       "Menor o persona Abandonada                      4\n",
       "Explosión                                       4\n",
       "Extraviados / Desaparecidos                     3\n",
       "Deslizamiento                                   3\n",
       "Disparos                                        3\n",
       "Persona Pidiendo Auxilio                        3\n",
       "Hurto Efectuado                                 3\n",
       "Incendio Vehicular                              3\n",
       "Persona tendida en la vía                       3\n",
       "Habitante de la Calle                           3\n",
       "Muerto                                          3\n",
       "Abejas                                          3\n",
       "Amenaza de Ruina                                2\n",
       "Atraco / Hurto en Proces                        2\n",
       "Incendio                                        1\n",
       "Name: TIPO_DE_INCIDENTE, dtype: int64"
      ]
     },
     "execution_count": 12,
     "metadata": {},
     "output_type": "execute_result"
    }
   ],
   "source": [
    "col = 'TIPO_DE_INCIDENTE'\n",
    "raw_data_ago[col] = raw_data_ago[col].apply(lambda x: x.strip())\n",
    "raw_data_ago[col].value_counts(dropna=False)"
   ]
  },
  {
   "cell_type": "code",
   "execution_count": 13,
   "id": "2e02551b-c98b-4b8e-83f2-4a2dc6846dca",
   "metadata": {},
   "outputs": [
    {
     "data": {
      "text/plain": [
       "Años        9447\n",
       "SIN_DATO    8637\n",
       "Meses         42\n",
       "Dias           9\n",
       "Horas          6\n",
       "Name: UNIDAD, dtype: int64"
      ]
     },
     "execution_count": 13,
     "metadata": {},
     "output_type": "execute_result"
    }
   ],
   "source": [
    "col = 'UNIDAD'\n",
    "raw_data_ago[col] = raw_data_ago[col].apply(lambda x: x.strip())\n",
    "raw_data_ago[col].value_counts(dropna=False) "
   ]
  },
  {
   "cell_type": "code",
   "execution_count": 14,
   "id": "dcb90c63-dec5-4d3a-95cd-d46276cab9d6",
   "metadata": {},
   "outputs": [
    {
     "data": {
      "text/plain": [
       "Norte      7925\n",
       "Sur        6507\n",
       "Privada    3709\n",
       "Name: RED, dtype: int64"
      ]
     },
     "execution_count": 14,
     "metadata": {},
     "output_type": "execute_result"
    }
   ],
   "source": [
    "col = 'RED'\n",
    "raw_data_ago[col] = raw_data_ago[col].apply(lambda x: x.strip())\n",
    "raw_data_ago[col].value_counts(dropna=False) "
   ]
  },
  {
   "cell_type": "code",
   "execution_count": 15,
   "id": "4d2761e6-47be-4acd-992a-7e9e734d34fc",
   "metadata": {},
   "outputs": [
    {
     "data": {
      "text/plain": [
       "ALTA        15314\n",
       "MEDIA        2539\n",
       "BAJA          246\n",
       "SIN_DATO       42\n",
       "Name: PRIORIDAD, dtype: int64"
      ]
     },
     "execution_count": 15,
     "metadata": {},
     "output_type": "execute_result"
    }
   ],
   "source": [
    "col = 'PRIORIDAD'\n",
    "raw_data_ago[col] = raw_data_ago[col].apply(lambda x: x.strip())\n",
    "raw_data_ago[col].value_counts(dropna=False) "
   ]
  },
  {
   "cell_type": "code",
   "execution_count": 16,
   "id": "69bb4ecc-784e-46a2-a231-e5806087e3d5",
   "metadata": {},
   "outputs": [
    {
     "data": {
      "text/plain": [
       "AGOSTO    18141\n",
       "Name: MES, dtype: int64"
      ]
     },
     "execution_count": 16,
     "metadata": {},
     "output_type": "execute_result"
    }
   ],
   "source": [
    "col = 'MES'\n",
    "raw_data_ago[col] = raw_data_ago[col].apply(lambda x: x.strip())\n",
    "raw_data_ago[col].value_counts(dropna=False) "
   ]
  },
  {
   "cell_type": "code",
   "execution_count": 17,
   "id": "9260bf49-b934-4aa3-8aab-6e0efb95f342",
   "metadata": {},
   "outputs": [
    {
     "data": {
      "text/plain": [
       "Traslado                       7311\n",
       "Cancelado                      4935\n",
       "Trasladado por Otro Recurso    1813\n",
       "Falsa Alarma                   1738\n",
       "Desistimiento                  1449\n",
       "No Amerita Traslado             452\n",
       "No Ubica                        235\n",
       "Fallecido                       205\n",
       "SIN_DATO                          3\n",
       "Name: CLASIFICACION_FINAL, dtype: int64"
      ]
     },
     "execution_count": 17,
     "metadata": {},
     "output_type": "execute_result"
    }
   ],
   "source": [
    "col = 'CLASIFICACION_FINAL'\n",
    "raw_data_ago[col].value_counts(dropna=False) \n",
    "raw_data_ago[col].fillna('SIN_DATO').value_counts()"
   ]
  },
  {
   "cell_type": "code",
   "execution_count": 18,
   "id": "f3f73fac-9b56-46ec-a1a6-15354298951f",
   "metadata": {},
   "outputs": [
    {
     "data": {
      "text/html": [
       "<div>\n",
       "<style scoped>\n",
       "    .dataframe tbody tr th:only-of-type {\n",
       "        vertical-align: middle;\n",
       "    }\n",
       "\n",
       "    .dataframe tbody tr th {\n",
       "        vertical-align: top;\n",
       "    }\n",
       "\n",
       "    .dataframe thead th {\n",
       "        text-align: right;\n",
       "    }\n",
       "</style>\n",
       "<table border=\"1\" class=\"dataframe\">\n",
       "  <thead>\n",
       "    <tr style=\"text-align: right;\">\n",
       "      <th></th>\n",
       "      <th>NUMERO_INCIDENTE</th>\n",
       "      <th>FECHA_INICIO_DESPLAZAMIENTO_MOVIL</th>\n",
       "      <th>CODIGO_DE_LOCALIDAD</th>\n",
       "      <th>LOCALIDAD</th>\n",
       "      <th>EDAD</th>\n",
       "      <th>UNIDAD</th>\n",
       "      <th>GENERO</th>\n",
       "      <th>RED</th>\n",
       "      <th>TIPO_DE_INCIDENTE</th>\n",
       "      <th>PRIORIDAD</th>\n",
       "      <th>MES</th>\n",
       "      <th>CLASIFICACION_FINAL</th>\n",
       "    </tr>\n",
       "  </thead>\n",
       "  <tbody>\n",
       "    <tr>\n",
       "      <th>0</th>\n",
       "      <td>809224194</td>\n",
       "      <td>2019-08-01 00:28:00</td>\n",
       "      <td>1</td>\n",
       "      <td>Usaquen</td>\n",
       "      <td>SIN_DATO</td>\n",
       "      <td>SIN_DATO</td>\n",
       "      <td>SIN_DATO</td>\n",
       "      <td>Norte</td>\n",
       "      <td>Inconsciente/Paro Cardiorrespiratorio</td>\n",
       "      <td>ALTA</td>\n",
       "      <td>AGOSTO</td>\n",
       "      <td>Cancelado</td>\n",
       "    </tr>\n",
       "    <tr>\n",
       "      <th>1</th>\n",
       "      <td>809224194</td>\n",
       "      <td>2019-08-01 00:28:00</td>\n",
       "      <td>1</td>\n",
       "      <td>Usaquen</td>\n",
       "      <td>SIN_DATO</td>\n",
       "      <td>SIN_DATO</td>\n",
       "      <td>SIN_DATO</td>\n",
       "      <td>Norte</td>\n",
       "      <td>Inconsciente/Paro Cardiorrespiratorio</td>\n",
       "      <td>ALTA</td>\n",
       "      <td>AGOSTO</td>\n",
       "      <td>Cancelado</td>\n",
       "    </tr>\n",
       "    <tr>\n",
       "      <th>2</th>\n",
       "      <td>809240194</td>\n",
       "      <td>2019-08-01 00:15:00</td>\n",
       "      <td>11</td>\n",
       "      <td>Suba</td>\n",
       "      <td>SIN_DATO</td>\n",
       "      <td>SIN_DATO</td>\n",
       "      <td>SIN_DATO</td>\n",
       "      <td>Norte</td>\n",
       "      <td>Accidente cerebro vascular</td>\n",
       "      <td>BAJA</td>\n",
       "      <td>AGOSTO</td>\n",
       "      <td>Cancelado</td>\n",
       "    </tr>\n",
       "    <tr>\n",
       "      <th>3</th>\n",
       "      <td>809240194</td>\n",
       "      <td>2019-08-01 00:15:00</td>\n",
       "      <td>11</td>\n",
       "      <td>Suba</td>\n",
       "      <td>SIN_DATO</td>\n",
       "      <td>SIN_DATO</td>\n",
       "      <td>SIN_DATO</td>\n",
       "      <td>Norte</td>\n",
       "      <td>Accidente cerebro vascular</td>\n",
       "      <td>BAJA</td>\n",
       "      <td>AGOSTO</td>\n",
       "      <td>Cancelado</td>\n",
       "    </tr>\n",
       "    <tr>\n",
       "      <th>4</th>\n",
       "      <td>809240194</td>\n",
       "      <td>2019-08-01 00:15:00</td>\n",
       "      <td>11</td>\n",
       "      <td>Suba</td>\n",
       "      <td>SIN_DATO</td>\n",
       "      <td>SIN_DATO</td>\n",
       "      <td>SIN_DATO</td>\n",
       "      <td>Norte</td>\n",
       "      <td>Accidente cerebro vascular</td>\n",
       "      <td>BAJA</td>\n",
       "      <td>AGOSTO</td>\n",
       "      <td>Cancelado</td>\n",
       "    </tr>\n",
       "  </tbody>\n",
       "</table>\n",
       "</div>"
      ],
      "text/plain": [
       "   NUMERO_INCIDENTE FECHA_INICIO_DESPLAZAMIENTO_MOVIL  CODIGO_DE_LOCALIDAD  \\\n",
       "0         809224194               2019-08-01 00:28:00                    1   \n",
       "1         809224194               2019-08-01 00:28:00                    1   \n",
       "2         809240194               2019-08-01 00:15:00                   11   \n",
       "3         809240194               2019-08-01 00:15:00                   11   \n",
       "4         809240194               2019-08-01 00:15:00                   11   \n",
       "\n",
       "  LOCALIDAD      EDAD    UNIDAD    GENERO    RED  \\\n",
       "0   Usaquen  SIN_DATO  SIN_DATO  SIN_DATO  Norte   \n",
       "1   Usaquen  SIN_DATO  SIN_DATO  SIN_DATO  Norte   \n",
       "2      Suba  SIN_DATO  SIN_DATO  SIN_DATO  Norte   \n",
       "3      Suba  SIN_DATO  SIN_DATO  SIN_DATO  Norte   \n",
       "4      Suba  SIN_DATO  SIN_DATO  SIN_DATO  Norte   \n",
       "\n",
       "                       TIPO_DE_INCIDENTE PRIORIDAD     MES CLASIFICACION_FINAL  \n",
       "0  Inconsciente/Paro Cardiorrespiratorio      ALTA  AGOSTO           Cancelado  \n",
       "1  Inconsciente/Paro Cardiorrespiratorio      ALTA  AGOSTO           Cancelado  \n",
       "2             Accidente cerebro vascular      BAJA  AGOSTO           Cancelado  \n",
       "3             Accidente cerebro vascular      BAJA  AGOSTO           Cancelado  \n",
       "4             Accidente cerebro vascular      BAJA  AGOSTO           Cancelado  "
      ]
     },
     "execution_count": 18,
     "metadata": {},
     "output_type": "execute_result"
    }
   ],
   "source": [
    "col = 'CLASIFICACION_FINAL'\n",
    "raw_data_ago[col].fillna('SIN_DATO', inplace=True)\n",
    "raw_data_ago[col] = raw_data_ago[col].apply(lambda x: x.strip())\n",
    "raw_data_ago.head()"
   ]
  },
  {
   "cell_type": "code",
   "execution_count": 19,
   "id": "4cb8db2c-d374-4e34-a1df-0ad2cc02fb68",
   "metadata": {},
   "outputs": [
    {
     "data": {
      "application/vnd.jupyter.widget-view+json": {
       "model_id": "3e4672da99db4169a1f40427335694d2",
       "version_major": 2,
       "version_minor": 0
      },
      "text/plain": [
       "Summarize dataset:   0%|          | 0/25 [00:00<?, ?it/s]"
      ]
     },
     "metadata": {},
     "output_type": "display_data"
    },
    {
     "data": {
      "application/vnd.jupyter.widget-view+json": {
       "model_id": "28312677305a411cb332e2be56d5cca5",
       "version_major": 2,
       "version_minor": 0
      },
      "text/plain": [
       "Generate report structure:   0%|          | 0/1 [00:00<?, ?it/s]"
      ]
     },
     "metadata": {},
     "output_type": "display_data"
    },
    {
     "data": {
      "application/vnd.jupyter.widget-view+json": {
       "model_id": "bd37c00131134590850c21c9195efe77",
       "version_major": 2,
       "version_minor": 0
      },
      "text/plain": [
       "Render HTML:   0%|          | 0/1 [00:00<?, ?it/s]"
      ]
     },
     "metadata": {},
     "output_type": "display_data"
    },
    {
     "data": {
      "application/vnd.jupyter.widget-view+json": {
       "model_id": "464480ce5ebe423faf89214c46425608",
       "version_major": 2,
       "version_minor": 0
      },
      "text/plain": [
       "Export report to file:   0%|          | 0/1 [00:00<?, ?it/s]"
      ]
     },
     "metadata": {},
     "output_type": "display_data"
    },
    {
     "ename": "FileNotFoundError",
     "evalue": "[Errno 2] No such file or directory: '/home/jupyter/ESEIT_BigData/reports/profile_raw_datos_abiertos_agosto_2019.html'",
     "output_type": "error",
     "traceback": [
      "\u001b[0;31m---------------------------------------------------------------------------\u001b[0m",
      "\u001b[0;31mFileNotFoundError\u001b[0m                         Traceback (most recent call last)",
      "\u001b[0;32m/tmp/ipykernel_10647/808139353.py\u001b[0m in \u001b[0;36m<module>\u001b[0;34m\u001b[0m\n\u001b[1;32m      1\u001b[0m \u001b[0mprofile\u001b[0m \u001b[0;34m=\u001b[0m \u001b[0mProfileReport\u001b[0m\u001b[0;34m(\u001b[0m\u001b[0mdf\u001b[0m\u001b[0;34m=\u001b[0m\u001b[0mraw_data_ago\u001b[0m\u001b[0;34m)\u001b[0m\u001b[0;34m\u001b[0m\u001b[0;34m\u001b[0m\u001b[0m\n\u001b[0;32m----> 2\u001b[0;31m \u001b[0mprofile\u001b[0m\u001b[0;34m.\u001b[0m\u001b[0mto_file\u001b[0m\u001b[0;34m(\u001b[0m\u001b[0moutput_file\u001b[0m\u001b[0;34m=\u001b[0m\u001b[0mproject_dir\u001b[0m \u001b[0;34m+\u001b[0m \u001b[0;34m'/reports/'\u001b[0m\u001b[0;34m+\u001b[0m\u001b[0;34m'profile_raw_datos_abiertos_agosto_2019.html'\u001b[0m\u001b[0;34m)\u001b[0m\u001b[0;34m\u001b[0m\u001b[0;34m\u001b[0m\u001b[0m\n\u001b[0m",
      "\u001b[0;32m/opt/conda/lib/python3.7/site-packages/pandas_profiling/profile_report.py\u001b[0m in \u001b[0;36mto_file\u001b[0;34m(self, output_file, silent)\u001b[0m\n\u001b[1;32m    273\u001b[0m             \u001b[0mtotal\u001b[0m\u001b[0;34m=\u001b[0m\u001b[0;36m1\u001b[0m\u001b[0;34m,\u001b[0m \u001b[0mdesc\u001b[0m\u001b[0;34m=\u001b[0m\u001b[0;34m\"Export report to file\"\u001b[0m\u001b[0;34m,\u001b[0m \u001b[0mdisable\u001b[0m\u001b[0;34m=\u001b[0m\u001b[0mdisable_progress_bar\u001b[0m\u001b[0;34m\u001b[0m\u001b[0;34m\u001b[0m\u001b[0m\n\u001b[1;32m    274\u001b[0m         ) as pbar:\n\u001b[0;32m--> 275\u001b[0;31m             \u001b[0moutput_file\u001b[0m\u001b[0;34m.\u001b[0m\u001b[0mwrite_text\u001b[0m\u001b[0;34m(\u001b[0m\u001b[0mdata\u001b[0m\u001b[0;34m,\u001b[0m \u001b[0mencoding\u001b[0m\u001b[0;34m=\u001b[0m\u001b[0;34m\"utf-8\"\u001b[0m\u001b[0;34m)\u001b[0m\u001b[0;34m\u001b[0m\u001b[0;34m\u001b[0m\u001b[0m\n\u001b[0m\u001b[1;32m    276\u001b[0m             \u001b[0mpbar\u001b[0m\u001b[0;34m.\u001b[0m\u001b[0mupdate\u001b[0m\u001b[0;34m(\u001b[0m\u001b[0;34m)\u001b[0m\u001b[0;34m\u001b[0m\u001b[0;34m\u001b[0m\u001b[0m\n\u001b[1;32m    277\u001b[0m \u001b[0;34m\u001b[0m\u001b[0m\n",
      "\u001b[0;32m/opt/conda/lib/python3.7/pathlib.py\u001b[0m in \u001b[0;36mwrite_text\u001b[0;34m(self, data, encoding, errors)\u001b[0m\n\u001b[1;32m   1238\u001b[0m             raise TypeError('data must be str, not %s' %\n\u001b[1;32m   1239\u001b[0m                             data.__class__.__name__)\n\u001b[0;32m-> 1240\u001b[0;31m         \u001b[0;32mwith\u001b[0m \u001b[0mself\u001b[0m\u001b[0;34m.\u001b[0m\u001b[0mopen\u001b[0m\u001b[0;34m(\u001b[0m\u001b[0mmode\u001b[0m\u001b[0;34m=\u001b[0m\u001b[0;34m'w'\u001b[0m\u001b[0;34m,\u001b[0m \u001b[0mencoding\u001b[0m\u001b[0;34m=\u001b[0m\u001b[0mencoding\u001b[0m\u001b[0;34m,\u001b[0m \u001b[0merrors\u001b[0m\u001b[0;34m=\u001b[0m\u001b[0merrors\u001b[0m\u001b[0;34m)\u001b[0m \u001b[0;32mas\u001b[0m \u001b[0mf\u001b[0m\u001b[0;34m:\u001b[0m\u001b[0;34m\u001b[0m\u001b[0;34m\u001b[0m\u001b[0m\n\u001b[0m\u001b[1;32m   1241\u001b[0m             \u001b[0;32mreturn\u001b[0m \u001b[0mf\u001b[0m\u001b[0;34m.\u001b[0m\u001b[0mwrite\u001b[0m\u001b[0;34m(\u001b[0m\u001b[0mdata\u001b[0m\u001b[0;34m)\u001b[0m\u001b[0;34m\u001b[0m\u001b[0;34m\u001b[0m\u001b[0m\n\u001b[1;32m   1242\u001b[0m \u001b[0;34m\u001b[0m\u001b[0m\n",
      "\u001b[0;32m/opt/conda/lib/python3.7/pathlib.py\u001b[0m in \u001b[0;36mopen\u001b[0;34m(self, mode, buffering, encoding, errors, newline)\u001b[0m\n\u001b[1;32m   1206\u001b[0m             \u001b[0mself\u001b[0m\u001b[0;34m.\u001b[0m\u001b[0m_raise_closed\u001b[0m\u001b[0;34m(\u001b[0m\u001b[0;34m)\u001b[0m\u001b[0;34m\u001b[0m\u001b[0;34m\u001b[0m\u001b[0m\n\u001b[1;32m   1207\u001b[0m         return io.open(self, mode, buffering, encoding, errors, newline,\n\u001b[0;32m-> 1208\u001b[0;31m                        opener=self._opener)\n\u001b[0m\u001b[1;32m   1209\u001b[0m \u001b[0;34m\u001b[0m\u001b[0m\n\u001b[1;32m   1210\u001b[0m     \u001b[0;32mdef\u001b[0m \u001b[0mread_bytes\u001b[0m\u001b[0;34m(\u001b[0m\u001b[0mself\u001b[0m\u001b[0;34m)\u001b[0m\u001b[0;34m:\u001b[0m\u001b[0;34m\u001b[0m\u001b[0;34m\u001b[0m\u001b[0m\n",
      "\u001b[0;32m/opt/conda/lib/python3.7/pathlib.py\u001b[0m in \u001b[0;36m_opener\u001b[0;34m(self, name, flags, mode)\u001b[0m\n\u001b[1;32m   1061\u001b[0m     \u001b[0;32mdef\u001b[0m \u001b[0m_opener\u001b[0m\u001b[0;34m(\u001b[0m\u001b[0mself\u001b[0m\u001b[0;34m,\u001b[0m \u001b[0mname\u001b[0m\u001b[0;34m,\u001b[0m \u001b[0mflags\u001b[0m\u001b[0;34m,\u001b[0m \u001b[0mmode\u001b[0m\u001b[0;34m=\u001b[0m\u001b[0;36m0o666\u001b[0m\u001b[0;34m)\u001b[0m\u001b[0;34m:\u001b[0m\u001b[0;34m\u001b[0m\u001b[0;34m\u001b[0m\u001b[0m\n\u001b[1;32m   1062\u001b[0m         \u001b[0;31m# A stub for the opener argument to built-in open()\u001b[0m\u001b[0;34m\u001b[0m\u001b[0;34m\u001b[0m\u001b[0;34m\u001b[0m\u001b[0m\n\u001b[0;32m-> 1063\u001b[0;31m         \u001b[0;32mreturn\u001b[0m \u001b[0mself\u001b[0m\u001b[0;34m.\u001b[0m\u001b[0m_accessor\u001b[0m\u001b[0;34m.\u001b[0m\u001b[0mopen\u001b[0m\u001b[0;34m(\u001b[0m\u001b[0mself\u001b[0m\u001b[0;34m,\u001b[0m \u001b[0mflags\u001b[0m\u001b[0;34m,\u001b[0m \u001b[0mmode\u001b[0m\u001b[0;34m)\u001b[0m\u001b[0;34m\u001b[0m\u001b[0;34m\u001b[0m\u001b[0m\n\u001b[0m\u001b[1;32m   1064\u001b[0m \u001b[0;34m\u001b[0m\u001b[0m\n\u001b[1;32m   1065\u001b[0m     \u001b[0;32mdef\u001b[0m \u001b[0m_raw_open\u001b[0m\u001b[0;34m(\u001b[0m\u001b[0mself\u001b[0m\u001b[0;34m,\u001b[0m \u001b[0mflags\u001b[0m\u001b[0;34m,\u001b[0m \u001b[0mmode\u001b[0m\u001b[0;34m=\u001b[0m\u001b[0;36m0o777\u001b[0m\u001b[0;34m)\u001b[0m\u001b[0;34m:\u001b[0m\u001b[0;34m\u001b[0m\u001b[0;34m\u001b[0m\u001b[0m\n",
      "\u001b[0;31mFileNotFoundError\u001b[0m: [Errno 2] No such file or directory: '/home/jupyter/ESEIT_BigData/reports/profile_raw_datos_abiertos_agosto_2019.html'"
     ]
    }
   ],
   "source": [
    "profile = ProfileReport(df=raw_data_ago)\n",
    "profile.to_file(output_file=project_dir + '/reports/'+'profile_raw_datos_abiertos_agosto_2019.html')"
   ]
  },
  {
   "cell_type": "code",
   "execution_count": null,
   "id": "f86b0363-de1c-4516-846a-5ec4fd06cb57",
   "metadata": {},
   "outputs": [],
   "source": [
    "print('Number of rows before cleaning:', raw_data_ago.shape[0] )\n",
    "raw_data_ago.drop_duplicates(inplace=True)\n",
    "print('Number of rows after cleaning:', raw_data_ago.shape[0] )"
   ]
  },
  {
   "cell_type": "code",
   "execution_count": 21,
   "id": "30f9ef3d-4ef7-4304-8941-3d0247576e59",
   "metadata": {},
   "outputs": [
    {
     "name": "stdout",
     "output_type": "stream",
     "text": [
      "<class 'pandas.core.frame.DataFrame'>\n",
      "RangeIndex: 17018 entries, 0 to 17017\n",
      "Data columns (total 10 columns):\n",
      " #   Column                             Non-Null Count  Dtype \n",
      "---  ------                             --------------  ----- \n",
      " 0   NUMERO_INCIDENTE                   17018 non-null  int64 \n",
      " 1   FECHA_INICIO_DESPLAZAMIENTO-MOVIL  17018 non-null  object\n",
      " 2   CODIGO DE LOCALIDAD                17018 non-null  int64 \n",
      " 3   LOCALIDAD                          17018 non-null  object\n",
      " 4   EDAD                               17018 non-null  int64 \n",
      " 5   UNIDAD                             9371 non-null   object\n",
      " 6   GENERO                             17018 non-null  object\n",
      " 7   RED                                17018 non-null  object\n",
      " 8   TIPO_INCIDENTE                     17018 non-null  object\n",
      " 9   PRIORIDAD                          17018 non-null  object\n",
      "dtypes: int64(3), object(7)\n",
      "memory usage: 1.3+ MB\n",
      "None\n"
     ]
    }
   ],
   "source": [
    "raw_data_sep = get_input_data(bucket='especializacion_daba',filename ='datos-abiertos-septiembre-2019.csv')\n",
    "print(raw_data_sep.info())"
   ]
  },
  {
   "cell_type": "code",
   "execution_count": 22,
   "id": "d431d0df-ab7e-4277-91d4-f4b1a97fbf71",
   "metadata": {},
   "outputs": [
    {
     "data": {
      "text/html": [
       "<div>\n",
       "<style scoped>\n",
       "    .dataframe tbody tr th:only-of-type {\n",
       "        vertical-align: middle;\n",
       "    }\n",
       "\n",
       "    .dataframe tbody tr th {\n",
       "        vertical-align: top;\n",
       "    }\n",
       "\n",
       "    .dataframe thead th {\n",
       "        text-align: right;\n",
       "    }\n",
       "</style>\n",
       "<table border=\"1\" class=\"dataframe\">\n",
       "  <thead>\n",
       "    <tr style=\"text-align: right;\">\n",
       "      <th></th>\n",
       "      <th>NUMERO_INCIDENTE</th>\n",
       "      <th>FECHA_INICIO_DESPLAZAMIENTO_MOVIL</th>\n",
       "      <th>CODIGO_DE_LOCALIDAD</th>\n",
       "      <th>LOCALIDAD</th>\n",
       "      <th>EDAD</th>\n",
       "      <th>UNIDAD</th>\n",
       "      <th>GENERO</th>\n",
       "      <th>RED</th>\n",
       "      <th>TIPO_DE_INCIDENTE</th>\n",
       "      <th>PRIORIDAD</th>\n",
       "    </tr>\n",
       "  </thead>\n",
       "  <tbody>\n",
       "    <tr>\n",
       "      <th>0</th>\n",
       "      <td>538006196</td>\n",
       "      <td>2019-09-01 00:05:32</td>\n",
       "      <td>18</td>\n",
       "      <td>Rafael Uribe Uribe</td>\n",
       "      <td>53</td>\n",
       "      <td>Años</td>\n",
       "      <td>MASCULINO</td>\n",
       "      <td>Sur</td>\n",
       "      <td>ACCIDENTE DE TRÁNSITO CON HERIDOS/MUERTOS</td>\n",
       "      <td>ALTA</td>\n",
       "    </tr>\n",
       "    <tr>\n",
       "      <th>1</th>\n",
       "      <td>538024196</td>\n",
       "      <td>2019-09-01 00:12:07</td>\n",
       "      <td>11</td>\n",
       "      <td>Suba</td>\n",
       "      <td>0</td>\n",
       "      <td>NaN</td>\n",
       "      <td>SIN_DATO</td>\n",
       "      <td>Norte</td>\n",
       "      <td>ACCIDENTE DE TRÁNSITO CON HERIDOS/MUERTOS</td>\n",
       "      <td>ALTA</td>\n",
       "    </tr>\n",
       "    <tr>\n",
       "      <th>2</th>\n",
       "      <td>538031196</td>\n",
       "      <td>2019-09-01 00:05:39</td>\n",
       "      <td>8</td>\n",
       "      <td>Kennedy</td>\n",
       "      <td>26</td>\n",
       "      <td>Años</td>\n",
       "      <td>MASCULINO</td>\n",
       "      <td>Norte</td>\n",
       "      <td>ACCIDENTE DE TRÁNSITO CON HERIDOS/MUERTOS</td>\n",
       "      <td>ALTA</td>\n",
       "    </tr>\n",
       "    <tr>\n",
       "      <th>3</th>\n",
       "      <td>538084196</td>\n",
       "      <td>2019-09-01 00:13:39</td>\n",
       "      <td>11</td>\n",
       "      <td>Suba</td>\n",
       "      <td>24</td>\n",
       "      <td>Años</td>\n",
       "      <td>MASCULINO</td>\n",
       "      <td>Norte</td>\n",
       "      <td>ACCIDENTE DE TRÁNSITO CON HERIDOS/MUERTOS</td>\n",
       "      <td>ALTA</td>\n",
       "    </tr>\n",
       "    <tr>\n",
       "      <th>4</th>\n",
       "      <td>538123196</td>\n",
       "      <td>2019-09-01 00:20:31</td>\n",
       "      <td>2</td>\n",
       "      <td>Chapinero</td>\n",
       "      <td>0</td>\n",
       "      <td>NaN</td>\n",
       "      <td>SIN_DATO</td>\n",
       "      <td>Norte</td>\n",
       "      <td>INCONSCIENTE/PARO CARDIORRESPIRATORIO</td>\n",
       "      <td>ALTA</td>\n",
       "    </tr>\n",
       "  </tbody>\n",
       "</table>\n",
       "</div>"
      ],
      "text/plain": [
       "   NUMERO_INCIDENTE FECHA_INICIO_DESPLAZAMIENTO_MOVIL  CODIGO_DE_LOCALIDAD  \\\n",
       "0         538006196               2019-09-01 00:05:32                   18   \n",
       "1         538024196               2019-09-01 00:12:07                   11   \n",
       "2         538031196               2019-09-01 00:05:39                    8   \n",
       "3         538084196               2019-09-01 00:13:39                   11   \n",
       "4         538123196               2019-09-01 00:20:31                    2   \n",
       "\n",
       "             LOCALIDAD  EDAD UNIDAD     GENERO    RED  \\\n",
       "0   Rafael Uribe Uribe    53   Años  MASCULINO    Sur   \n",
       "1                 Suba     0    NaN   SIN_DATO  Norte   \n",
       "2              Kennedy    26   Años  MASCULINO  Norte   \n",
       "3                 Suba    24   Años  MASCULINO  Norte   \n",
       "4            Chapinero     0    NaN   SIN_DATO  Norte   \n",
       "\n",
       "                           TIPO_DE_INCIDENTE PRIORIDAD  \n",
       "0  ACCIDENTE DE TRÁNSITO CON HERIDOS/MUERTOS      ALTA  \n",
       "1  ACCIDENTE DE TRÁNSITO CON HERIDOS/MUERTOS      ALTA  \n",
       "2  ACCIDENTE DE TRÁNSITO CON HERIDOS/MUERTOS      ALTA  \n",
       "3  ACCIDENTE DE TRÁNSITO CON HERIDOS/MUERTOS      ALTA  \n",
       "4     INCONSCIENTE/PARO CARDIORRESPIRATORIO       ALTA  "
      ]
     },
     "execution_count": 22,
     "metadata": {},
     "output_type": "execute_result"
    }
   ],
   "source": [
    "raw_data_sep.rename(\n",
    "    columns = {\n",
    "        'FECHA_INICIO_DESPLAZAMIENTO-MOVIL' : 'FECHA_INICIO_DESPLAZAMIENTO_MOVIL',\n",
    "        'CODIGO DE LOCALIDAD'               : 'CODIGO_DE_LOCALIDAD',\n",
    "        'TIPO_INCIDENTE'               : 'TIPO_DE_INCIDENTE',\n",
    "        'CLASIFICACION FINAL'               : 'CLASIFICACION_FINAL',\n",
    "        'FECHA_DESPACHO_518'               : 'FECHA_DE_DESPACHO'\n",
    "    },\n",
    "    inplace=True\n",
    ")\n",
    "raw_data_sep.head()"
   ]
  },
  {
   "cell_type": "code",
   "execution_count": 23,
   "id": "a986eaf7-309d-4f4c-a3ec-ac7a317f66bd",
   "metadata": {},
   "outputs": [
    {
     "data": {
      "text/plain": [
       "Kennedy               2398\n",
       "Suba                  1634\n",
       "Engativa              1631\n",
       "Bosa                  1294\n",
       "Ciudad Bolivar        1138\n",
       "Puente Aranda          938\n",
       "Rafael Uribe Uribe     854\n",
       "Usaquen                829\n",
       "San Cristobal          826\n",
       "Fontibon               809\n",
       "Chapinero              749\n",
       "Barrios Unidos         616\n",
       "Tunjuelito             603\n",
       "Los Martires           593\n",
       "Usme                   572\n",
       "Santa Fe               549\n",
       "Teusaquillo            540\n",
       "Antonio Nariño         362\n",
       "La Candelaria           83\n",
       "Name: LOCALIDAD, dtype: int64"
      ]
     },
     "execution_count": 23,
     "metadata": {},
     "output_type": "execute_result"
    }
   ],
   "source": [
    "raw_data_sep['LOCALIDAD'].value_counts(dropna=False)\n",
    "\n",
    "raw_data_sep['LOCALIDAD'].apply(\n",
    "    lambda x: x.strip()        \n",
    ").value_counts()"
   ]
  },
  {
   "cell_type": "code",
   "execution_count": 24,
   "id": "e0eca3ef-6d19-4c89-adc4-94692cc4c399",
   "metadata": {},
   "outputs": [
    {
     "data": {
      "text/plain": [
       "2019-09-18 05:09:15    9\n",
       "2019-09-06 14:47:18    8\n",
       "2019-09-07 18:29:25    7\n",
       "2019-09-26 15:06:05    7\n",
       "2019-09-06 07:53:53    6\n",
       "                      ..\n",
       "2019-09-11 10:10:04    1\n",
       "2019-09-11 10:19:54    1\n",
       "2019-09-11 10:34:31    1\n",
       "2019-09-11 10:24:38    1\n",
       "2019-09-30 23:50:06    1\n",
       "Name: FECHA_INICIO_DESPLAZAMIENTO_MOVIL, Length: 15925, dtype: int64"
      ]
     },
     "execution_count": 24,
     "metadata": {},
     "output_type": "execute_result"
    }
   ],
   "source": [
    "raw_data_sep['FECHA_INICIO_DESPLAZAMIENTO_MOVIL'].value_counts(dropna=False)"
   ]
  },
  {
   "cell_type": "code",
   "execution_count": 25,
   "id": "7dff8705-a4ee-49d2-a084-2394def9ed35",
   "metadata": {},
   "outputs": [
    {
     "name": "stdout",
     "output_type": "stream",
     "text": [
      "2019-09-01 12:00:00 <class 'pandas._libs.tslibs.timestamps.Timestamp'>\n"
     ]
    }
   ],
   "source": [
    "date_time='2019/09/01 12:00:00'\n",
    "date_time=pd.to_datetime(date_time, format='%Y/%m/%d %H:%M:%S')\n",
    "print (date_time, type (date_time))"
   ]
  },
  {
   "cell_type": "code",
   "execution_count": 26,
   "id": "b0ecd3b6-9242-4f74-b6cb-ce7452e50603",
   "metadata": {},
   "outputs": [
    {
     "data": {
      "text/plain": [
       "<bound method IndexOpsMixin.value_counts of 0       2019-09-01 00:05:32\n",
       "1       2019-09-01 00:12:07\n",
       "2       2019-09-01 00:05:39\n",
       "3       2019-09-01 00:13:39\n",
       "4       2019-09-01 00:20:31\n",
       "                ...        \n",
       "17013   2019-09-30 23:12:24\n",
       "17014   2019-09-30 23:22:18\n",
       "17015   2019-09-30 23:28:36\n",
       "17016   2019-09-30 23:30:30\n",
       "17017   2019-09-30 23:50:06\n",
       "Name: FECHA_INICIO_DESPLAZAMIENTO_MOVIL, Length: 17018, dtype: datetime64[ns]>"
      ]
     },
     "execution_count": 26,
     "metadata": {},
     "output_type": "execute_result"
    }
   ],
   "source": [
    "col = 'FECHA_INICIO_DESPLAZAMIENTO_MOVIL'\n",
    "raw_data_sep[col] = pd.to_datetime(raw_data_sep[col], format='%Y/%m/%d %H:%M:%S') \n",
    "raw_data_sep[col].value_counts\n",
    "# raw_data_ago.head()"
   ]
  },
  {
   "cell_type": "code",
   "execution_count": 27,
   "id": "a9900cb5-3ed7-4686-bd58-ccd851802287",
   "metadata": {},
   "outputs": [
    {
     "data": {
      "text/plain": [
       "SIN_DATO     7632\n",
       "MASCULINO    5082\n",
       "FEMENINO     4304\n",
       "Name: GENERO, dtype: int64"
      ]
     },
     "execution_count": 27,
     "metadata": {},
     "output_type": "execute_result"
    }
   ],
   "source": [
    "col = 'GENERO'\n",
    "raw_data_sep[col] = raw_data_sep[col].apply(lambda x: x.strip())\n",
    "raw_data_sep[col].value_counts(dropna=False) "
   ]
  },
  {
   "cell_type": "code",
   "execution_count": 28,
   "id": "23671fdc-d350-48d1-91b9-bc7adc1164ae",
   "metadata": {},
   "outputs": [
    {
     "data": {
      "text/plain": [
       "ACCIDENTE DE TRÁNSITO CON HERIDOS/MUERTOS    6333\n",
       "INCONSCIENTE/PARO CARDIORRESPIRATORIO        1720\n",
       "DIFICULTAD RESPIRATORIA                      1386\n",
       "ENFERMO                                      1137\n",
       "CONVULSIONES                                 1039\n",
       "HERIDOS                                       834\n",
       "INTENTO DE SUICIDIO                           653\n",
       "DOLOR TORÁCICO                                629\n",
       "TRASTORNO MENTAL                              621\n",
       "LESIONES PERSONALES                           593\n",
       "PATOLOGÍA GINECO - OBSTÉTRICA                 421\n",
       "SÍNTOMAS GASTROINTESTINALES                   360\n",
       "ACCIDENTE CEREBRO VASCULAR                    352\n",
       "CAÍDA                                         334\n",
       "INTOXICACIONES                                156\n",
       "IDEAS DE SUICIDIO                             113\n",
       "VIOLENCIA SEXUAL                               48\n",
       "INCENDIO ESTRUCTURAL                           40\n",
       "SIN_DATO                                       32\n",
       "SANGRADO VAGINAL                               25\n",
       "ACCIDENTE TRÁNSITO SIMPLE                      23\n",
       "RESCATES                                       20\n",
       "MUERTE NATURAL                                 18\n",
       "ELEMENTO CAÍDO Y/O EN PELIGRO DE CAER.         16\n",
       "SOLICITUD APOYO / DESACATO                     15\n",
       "RIÑA                                           13\n",
       "EXPLOSIÓN                                      10\n",
       "ABRIR DOMICILIO                                 8\n",
       "QUEMADURAS                                      8\n",
       "FUGA DE GAS NATURAL O PROPANO                   6\n",
       "MALTRATO                                        6\n",
       "ANIMAL PELIGROSO                                5\n",
       "ELECTROCUCIÓN / RESCATE                         5\n",
       "PERSONA PIDIENDO AUXILIO                        5\n",
       "MANIFESTACIÓN / MOTÍN                           4\n",
       "INCIDENTE RESCATE ACUÁTICO                      4\n",
       "INCENDIO VEHICULAR                              3\n",
       "EMBRIAGUEZ                                      3\n",
       "ATRACO / HURTO EN PROCES                        3\n",
       "INCENDIO                                        2\n",
       "INUNDACIÓN                                      2\n",
       "PERSONA TENDIDA EN LA VÍA                       2\n",
       "DAÑOS EN SERVICIOS                              2\n",
       "MUERTO                                          2\n",
       "VERIFICAR SITUACIÓN                             1\n",
       "RESCATES MONTAÑA                                1\n",
       "HABITANTE DE LA CALLE                           1\n",
       "PREVENCIÓN                                      1\n",
       "INCENDIO FORESTAL                               1\n",
       "DESLIZAMIENTO                                   1\n",
       "DELINCUENTE CAPTURADO POR CIVIL                 1\n",
       "Name: TIPO_DE_INCIDENTE, dtype: int64"
      ]
     },
     "execution_count": 28,
     "metadata": {},
     "output_type": "execute_result"
    }
   ],
   "source": [
    "col = 'TIPO_DE_INCIDENTE'\n",
    "raw_data_sep[col] = raw_data_sep[col].apply(lambda x: x.strip())\n",
    "raw_data_sep[col].value_counts(dropna=False)"
   ]
  },
  {
   "cell_type": "code",
   "execution_count": 29,
   "id": "faf35bd2-fbfc-4c42-8404-6a5892b29772",
   "metadata": {},
   "outputs": [
    {
     "data": {
      "text/plain": [
       "Años        9311\n",
       "SIN_DATO    7647\n",
       "Meses         42\n",
       "Dias          10\n",
       "Horas          8\n",
       "Name: UNIDAD, dtype: int64"
      ]
     },
     "execution_count": 29,
     "metadata": {},
     "output_type": "execute_result"
    }
   ],
   "source": [
    "col = 'UNIDAD'\n",
    "raw_data_sep[col].value_counts(dropna=False) \n",
    "raw_data_sep[col].fillna('SIN_DATO').value_counts()"
   ]
  },
  {
   "cell_type": "code",
   "execution_count": 30,
   "id": "d0c10473-94f9-481c-9c15-efb91255c0f7",
   "metadata": {},
   "outputs": [
    {
     "data": {
      "text/plain": [
       "Norte      7343\n",
       "Sur        6360\n",
       "Privada    3315\n",
       "Name: RED, dtype: int64"
      ]
     },
     "execution_count": 30,
     "metadata": {},
     "output_type": "execute_result"
    }
   ],
   "source": [
    "col = 'RED'\n",
    "raw_data_sep[col] = raw_data_sep[col].apply(lambda x: x.strip())\n",
    "raw_data_sep[col].value_counts(dropna=False) "
   ]
  },
  {
   "cell_type": "code",
   "execution_count": 31,
   "id": "0cdfcea9-7eae-4915-8144-e3e1c4480f87",
   "metadata": {},
   "outputs": [
    {
     "data": {
      "text/plain": [
       "ALTA        14243\n",
       "MEDIA        2550\n",
       "BAJA          204\n",
       "SIN_D          15\n",
       "SIN_DATO        6\n",
       "Name: PRIORIDAD, dtype: int64"
      ]
     },
     "execution_count": 31,
     "metadata": {},
     "output_type": "execute_result"
    }
   ],
   "source": [
    "col = 'PRIORIDAD'\n",
    "raw_data_sep[col] = raw_data_sep[col].apply(lambda x: x.strip())\n",
    "raw_data_sep[col].value_counts(dropna=False) \n",
    "raw_data_sep[col].fillna('SIN_DATO, SIN_D').value_counts()"
   ]
  },
  {
   "cell_type": "code",
   "execution_count": 32,
   "id": "b5e55a0a-0008-41e4-ad6d-9b344db01ed3",
   "metadata": {},
   "outputs": [
    {
     "name": "stdout",
     "output_type": "stream",
     "text": [
      "Number of rows before cleaning: 17018\n",
      "Number of rows after cleaning: 16267\n"
     ]
    }
   ],
   "source": [
    "print('Number of rows before cleaning:', raw_data_sep.shape[0] )\n",
    "raw_data_sep.drop_duplicates(inplace=True)\n",
    "print('Number of rows after cleaning:', raw_data_sep.shape[0] )"
   ]
  },
  {
   "cell_type": "code",
   "execution_count": 33,
   "id": "4fb6bfa3-7a45-4b7e-b373-ccc883d642a2",
   "metadata": {},
   "outputs": [
    {
     "name": "stdout",
     "output_type": "stream",
     "text": [
      "<class 'pandas.core.frame.DataFrame'>\n",
      "RangeIndex: 18195 entries, 0 to 18194\n",
      "Data columns (total 10 columns):\n",
      " #   Column               Non-Null Count  Dtype \n",
      "---  ------               --------------  ----- \n",
      " 0   NUMERO_INCIDENTE     18195 non-null  int64 \n",
      " 1   FECHA_DESPACHO_518   18195 non-null  object\n",
      " 2   CODIGO DE LOCALIDAD  18195 non-null  int64 \n",
      " 3   LOCALIDAD            18195 non-null  object\n",
      " 4   EDAD                 18195 non-null  object\n",
      " 5   UNIDAD               9503 non-null   object\n",
      " 6   GENERO               9543 non-null   object\n",
      " 7   RED                  18195 non-null  object\n",
      " 8   TIPO_INCIDENTE       18195 non-null  object\n",
      " 9   PRIORIDAD            18195 non-null  object\n",
      "dtypes: int64(2), object(8)\n",
      "memory usage: 1.4+ MB\n",
      "None\n"
     ]
    }
   ],
   "source": [
    "raw_data_oct = get_input_data(bucket='especializacion_daba',filename ='datos-abiertos-octubre-2019.csv')\n",
    "print(raw_data_oct.info())"
   ]
  },
  {
   "cell_type": "code",
   "execution_count": 34,
   "id": "9f098e34-64df-415c-b6f3-2c916494be92",
   "metadata": {},
   "outputs": [
    {
     "data": {
      "text/html": [
       "<div>\n",
       "<style scoped>\n",
       "    .dataframe tbody tr th:only-of-type {\n",
       "        vertical-align: middle;\n",
       "    }\n",
       "\n",
       "    .dataframe tbody tr th {\n",
       "        vertical-align: top;\n",
       "    }\n",
       "\n",
       "    .dataframe thead th {\n",
       "        text-align: right;\n",
       "    }\n",
       "</style>\n",
       "<table border=\"1\" class=\"dataframe\">\n",
       "  <thead>\n",
       "    <tr style=\"text-align: right;\">\n",
       "      <th></th>\n",
       "      <th>NUMERO_INCIDENTE</th>\n",
       "      <th>FECHA_INICIO_DESPLAZAMIENTO_MOVIL</th>\n",
       "      <th>CODIGO_DE_LOCALIDAD</th>\n",
       "      <th>LOCALIDAD</th>\n",
       "      <th>EDAD</th>\n",
       "      <th>UNIDAD</th>\n",
       "      <th>GENERO</th>\n",
       "      <th>RED</th>\n",
       "      <th>TIPO_DE_INCIDENTE</th>\n",
       "      <th>PRIORIDAD</th>\n",
       "      <th>MES</th>\n",
       "      <th>CLASIFICACION_FINAL</th>\n",
       "    </tr>\n",
       "  </thead>\n",
       "  <tbody>\n",
       "    <tr>\n",
       "      <th>0</th>\n",
       "      <td>809224194</td>\n",
       "      <td>2019-08-01 00:28:00</td>\n",
       "      <td>1</td>\n",
       "      <td>Usaquen</td>\n",
       "      <td>SIN_DATO</td>\n",
       "      <td>SIN_DATO</td>\n",
       "      <td>SIN_DATO</td>\n",
       "      <td>Norte</td>\n",
       "      <td>Inconsciente/Paro Cardiorrespiratorio</td>\n",
       "      <td>ALTA</td>\n",
       "      <td>AGOSTO</td>\n",
       "      <td>Cancelado</td>\n",
       "    </tr>\n",
       "    <tr>\n",
       "      <th>1</th>\n",
       "      <td>809224194</td>\n",
       "      <td>2019-08-01 00:28:00</td>\n",
       "      <td>1</td>\n",
       "      <td>Usaquen</td>\n",
       "      <td>SIN_DATO</td>\n",
       "      <td>SIN_DATO</td>\n",
       "      <td>SIN_DATO</td>\n",
       "      <td>Norte</td>\n",
       "      <td>Inconsciente/Paro Cardiorrespiratorio</td>\n",
       "      <td>ALTA</td>\n",
       "      <td>AGOSTO</td>\n",
       "      <td>Cancelado</td>\n",
       "    </tr>\n",
       "    <tr>\n",
       "      <th>2</th>\n",
       "      <td>809240194</td>\n",
       "      <td>2019-08-01 00:15:00</td>\n",
       "      <td>11</td>\n",
       "      <td>Suba</td>\n",
       "      <td>SIN_DATO</td>\n",
       "      <td>SIN_DATO</td>\n",
       "      <td>SIN_DATO</td>\n",
       "      <td>Norte</td>\n",
       "      <td>Accidente cerebro vascular</td>\n",
       "      <td>BAJA</td>\n",
       "      <td>AGOSTO</td>\n",
       "      <td>Cancelado</td>\n",
       "    </tr>\n",
       "    <tr>\n",
       "      <th>3</th>\n",
       "      <td>809240194</td>\n",
       "      <td>2019-08-01 00:15:00</td>\n",
       "      <td>11</td>\n",
       "      <td>Suba</td>\n",
       "      <td>SIN_DATO</td>\n",
       "      <td>SIN_DATO</td>\n",
       "      <td>SIN_DATO</td>\n",
       "      <td>Norte</td>\n",
       "      <td>Accidente cerebro vascular</td>\n",
       "      <td>BAJA</td>\n",
       "      <td>AGOSTO</td>\n",
       "      <td>Cancelado</td>\n",
       "    </tr>\n",
       "    <tr>\n",
       "      <th>4</th>\n",
       "      <td>809240194</td>\n",
       "      <td>2019-08-01 00:15:00</td>\n",
       "      <td>11</td>\n",
       "      <td>Suba</td>\n",
       "      <td>SIN_DATO</td>\n",
       "      <td>SIN_DATO</td>\n",
       "      <td>SIN_DATO</td>\n",
       "      <td>Norte</td>\n",
       "      <td>Accidente cerebro vascular</td>\n",
       "      <td>BAJA</td>\n",
       "      <td>AGOSTO</td>\n",
       "      <td>Cancelado</td>\n",
       "    </tr>\n",
       "  </tbody>\n",
       "</table>\n",
       "</div>"
      ],
      "text/plain": [
       "   NUMERO_INCIDENTE FECHA_INICIO_DESPLAZAMIENTO_MOVIL  CODIGO_DE_LOCALIDAD  \\\n",
       "0         809224194               2019-08-01 00:28:00                    1   \n",
       "1         809224194               2019-08-01 00:28:00                    1   \n",
       "2         809240194               2019-08-01 00:15:00                   11   \n",
       "3         809240194               2019-08-01 00:15:00                   11   \n",
       "4         809240194               2019-08-01 00:15:00                   11   \n",
       "\n",
       "  LOCALIDAD      EDAD    UNIDAD    GENERO    RED  \\\n",
       "0   Usaquen  SIN_DATO  SIN_DATO  SIN_DATO  Norte   \n",
       "1   Usaquen  SIN_DATO  SIN_DATO  SIN_DATO  Norte   \n",
       "2      Suba  SIN_DATO  SIN_DATO  SIN_DATO  Norte   \n",
       "3      Suba  SIN_DATO  SIN_DATO  SIN_DATO  Norte   \n",
       "4      Suba  SIN_DATO  SIN_DATO  SIN_DATO  Norte   \n",
       "\n",
       "                       TIPO_DE_INCIDENTE PRIORIDAD     MES CLASIFICACION_FINAL  \n",
       "0  Inconsciente/Paro Cardiorrespiratorio      ALTA  AGOSTO           Cancelado  \n",
       "1  Inconsciente/Paro Cardiorrespiratorio      ALTA  AGOSTO           Cancelado  \n",
       "2             Accidente cerebro vascular      BAJA  AGOSTO           Cancelado  \n",
       "3             Accidente cerebro vascular      BAJA  AGOSTO           Cancelado  \n",
       "4             Accidente cerebro vascular      BAJA  AGOSTO           Cancelado  "
      ]
     },
     "execution_count": 34,
     "metadata": {},
     "output_type": "execute_result"
    }
   ],
   "source": [
    "raw_data_oct.rename(\n",
    "    columns = {\n",
    "        'FECHA_INICIO_DESPLAZAMIENTO-MOVIL' : 'FECHA_INICIO_DESPLAZAMIENTO_MOVIL',\n",
    "        'CODIGO DE LOCALIDAD'               : 'CODIGO_DE_LOCALIDAD',\n",
    "        'TIPO_INCIDENTE'               : 'TIPO_DE_INCIDENTE',\n",
    "        'CLASIFICACION FINAL'               : 'CLASIFICACION_FINAL',\n",
    "        'FECHA_DESPACHO_518'               : 'FECHA_DE_DESPACHO'\n",
    "    },\n",
    "    inplace=True\n",
    ")\n",
    "raw_data_ago.head()"
   ]
  },
  {
   "cell_type": "code",
   "execution_count": 35,
   "id": "080515c8-9761-4495-8add-e3b24052cbf9",
   "metadata": {},
   "outputs": [
    {
     "data": {
      "text/plain": [
       "Kennedy               2546\n",
       "Engativa              1791\n",
       "Suba                  1742\n",
       "Bosa                  1334\n",
       "Ciudad Bolivar        1141\n",
       "Puente Aranda          989\n",
       "Rafael Uribe Uribe     949\n",
       "Usaquen                888\n",
       "Fontibon               863\n",
       "San Cristobal          844\n",
       "Chapinero              763\n",
       "Los Martires           697\n",
       "Santa Fe               689\n",
       "Barrios Unidos         680\n",
       "Usme                   609\n",
       "Tunjuelito             589\n",
       "Teusaquillo            536\n",
       "Antonio Nariño         419\n",
       "La Candelaria          120\n",
       "Sumapaz                  6\n",
       "Name: LOCALIDAD, dtype: int64"
      ]
     },
     "execution_count": 35,
     "metadata": {},
     "output_type": "execute_result"
    }
   ],
   "source": [
    "raw_data_oct['LOCALIDAD'].value_counts(dropna=False)\n",
    "\n",
    "raw_data_oct['LOCALIDAD'].apply(\n",
    "    lambda x: x.strip()        \n",
    ").value_counts()"
   ]
  },
  {
   "cell_type": "code",
   "execution_count": 36,
   "id": "d6d8d49b-1374-4a99-92ac-c76a33c645c2",
   "metadata": {},
   "outputs": [
    {
     "data": {
      "text/plain": [
       "2019-10-23 12:54:36    11\n",
       "2019-10-29 08:09:42    11\n",
       "2019-10-18 16:51:18    10\n",
       "2019-10-28 07:39:15     9\n",
       "2019-10-17 07:53:20     8\n",
       "                       ..\n",
       "2019-10-12 18:03:04     1\n",
       "2019-10-12 17:54:47     1\n",
       "2019-10-12 18:03:11     1\n",
       "2019-10-12 10:42:19     1\n",
       "2019-10-03 20:23:50     1\n",
       "Name: FECHA_DE_DESPACHO, Length: 16197, dtype: int64"
      ]
     },
     "execution_count": 36,
     "metadata": {},
     "output_type": "execute_result"
    }
   ],
   "source": [
    "raw_data_oct['FECHA_DE_DESPACHO'].value_counts(dropna=False)"
   ]
  },
  {
   "cell_type": "code",
   "execution_count": 37,
   "id": "ecaa6716-8427-4285-b17e-fa73534ff13f",
   "metadata": {},
   "outputs": [
    {
     "name": "stdout",
     "output_type": "stream",
     "text": [
      "2019-09-01 12:00:00 <class 'pandas._libs.tslibs.timestamps.Timestamp'>\n"
     ]
    }
   ],
   "source": [
    "date_time='2019/09/01 12:00:00'\n",
    "date_time=pd.to_datetime(date_time, format='%Y/%m/%d %H:%M:%S')\n",
    "print (date_time, type (date_time))"
   ]
  },
  {
   "cell_type": "code",
   "execution_count": 38,
   "id": "f619090f-9ef2-4b78-8bcc-7d931f12de39",
   "metadata": {},
   "outputs": [
    {
     "data": {
      "text/plain": [
       "<bound method IndexOpsMixin.value_counts of 0       2019-10-01 00:06:29\n",
       "1       2019-10-01 00:19:40\n",
       "2       2019-10-01 00:13:20\n",
       "3       2019-10-01 05:30:23\n",
       "4       2019-10-01 00:42:45\n",
       "                ...        \n",
       "18190   2019-10-31 23:23:45\n",
       "18191   2019-10-31 23:29:29\n",
       "18192   2019-10-18 13:33:43\n",
       "18193   2019-10-10 18:50:51\n",
       "18194   2019-10-03 20:23:50\n",
       "Name: FECHA_DE_DESPACHO, Length: 18195, dtype: datetime64[ns]>"
      ]
     },
     "execution_count": 38,
     "metadata": {},
     "output_type": "execute_result"
    }
   ],
   "source": [
    "col = 'FECHA_DE_DESPACHO'\n",
    "raw_data_oct[col] = pd.to_datetime(raw_data_oct[col], format='%Y/%m/%d %H:%M:%S') \n",
    "raw_data_oct[col].value_counts\n",
    "# raw_data_ago.head()"
   ]
  },
  {
   "cell_type": "code",
   "execution_count": 39,
   "id": "623f10eb-47b3-446e-9103-877946179a93",
   "metadata": {},
   "outputs": [
    {
     "data": {
      "text/plain": [
       "SIN_DATO     8680\n",
       "MASCULINO    5145\n",
       "FEMENINO     4370\n",
       "Name: GENERO, dtype: int64"
      ]
     },
     "execution_count": 39,
     "metadata": {},
     "output_type": "execute_result"
    }
   ],
   "source": [
    "col = 'GENERO'\n",
    "raw_data_oct[col].value_counts(dropna=False) \n",
    "raw_data_oct[col].fillna('SIN_DATO').value_counts()"
   ]
  },
  {
   "cell_type": "code",
   "execution_count": 40,
   "id": "d9b0d9e3-43d4-4521-a400-b7231f642eec",
   "metadata": {},
   "outputs": [
    {
     "data": {
      "text/plain": [
       "Accidente de tránsito con heridos/Muertos    6778\n",
       "Inconsciente/Paro Cardiorrespiratorio        1768\n",
       "Dificultad Respiratoria                      1497\n",
       "Enfermo                                      1276\n",
       "Convulsiones                                 1130\n",
       "Heridos                                       828\n",
       "Dolor torácico                                735\n",
       "Intento de suicidio                           668\n",
       "Lesiones personales                           657\n",
       "Trastorno mental                              654\n",
       "Accidente cerebro vascular                    396\n",
       "Patología Gineco - obstétrica                 378\n",
       "Síntomas gastrointestinales                   375\n",
       "Caída                                         322\n",
       "Intoxicaciones                                179\n",
       "Ideas de suicidio                             111\n",
       "SIN_DATO                                       60\n",
       "Incendio estructural                           51\n",
       "Muerte Natural                                 39\n",
       "Violencia Sexual                               32\n",
       "Quemaduras                                     32\n",
       "Solicitud Apoyo / Desacato                     30\n",
       "Electrocución / Rescate                        20\n",
       "Sangrado Vaginal                               20\n",
       "Explosión                                      18\n",
       "Rescates                                       16\n",
       "Riña                                           15\n",
       "Accidente Tránsito Simple                      10\n",
       "Verificar Situación                            10\n",
       "Persona Pidiendo Auxilio                       10\n",
       "Fuga de Gas Natural o Propano                   9\n",
       "Incendio Vehicular                              8\n",
       "Abrir domicilio                                 7\n",
       "Incidente rescate acuático                      7\n",
       "MATPEL (Materiales peligrosos)                  6\n",
       "Atraco / Hurto en Proces                        6\n",
       "Muerto                                          5\n",
       "Maltrato                                        5\n",
       "Menor o persona Abandonada                      4\n",
       "Disparos                                        3\n",
       "Incendio con MATPEL                             3\n",
       "Manifestación / Motín                           3\n",
       "Elemento caído y/o en peligro de caer.          3\n",
       "Prevención                                      2\n",
       "PSICOLOGIA                                      2\n",
       "Vehiculo Hurtado                                2\n",
       "Abejas                                          1\n",
       "Embriaguez                                      1\n",
       "Incendio                                        1\n",
       "Animal Peligroso                                1\n",
       "Extraviados / Desaparecidos                     1\n",
       "Name: TIPO_DE_INCIDENTE, dtype: int64"
      ]
     },
     "execution_count": 40,
     "metadata": {},
     "output_type": "execute_result"
    }
   ],
   "source": [
    "col = 'TIPO_DE_INCIDENTE'\n",
    "raw_data_oct[col] = raw_data_oct[col].apply(lambda x: x.strip())\n",
    "raw_data_oct[col].value_counts(dropna=False)"
   ]
  },
  {
   "cell_type": "code",
   "execution_count": 41,
   "id": "c2c58eea-1af0-47eb-b849-91129ef9a176",
   "metadata": {},
   "outputs": [
    {
     "data": {
      "text/plain": [
       "Años        9447\n",
       "SIN_DATO    8692\n",
       "Meses         36\n",
       "Horas         12\n",
       "Dias           8\n",
       "Name: UNIDAD, dtype: int64"
      ]
     },
     "execution_count": 41,
     "metadata": {},
     "output_type": "execute_result"
    }
   ],
   "source": [
    "col = 'UNIDAD'\n",
    "raw_data_oct[col].value_counts(dropna=False) \n",
    "raw_data_oct[col].fillna('SIN_DATO').value_counts()"
   ]
  },
  {
   "cell_type": "code",
   "execution_count": 42,
   "id": "47ea9bf7-96d0-438a-83da-e1b7a7673abf",
   "metadata": {},
   "outputs": [
    {
     "data": {
      "text/plain": [
       "Norte      7994\n",
       "Sur        6513\n",
       "Privada    3688\n",
       "Name: RED, dtype: int64"
      ]
     },
     "execution_count": 42,
     "metadata": {},
     "output_type": "execute_result"
    }
   ],
   "source": [
    "col = 'RED'\n",
    "raw_data_oct[col] = raw_data_oct[col].apply(lambda x: x.strip())\n",
    "raw_data_oct[col].value_counts(dropna=False) "
   ]
  },
  {
   "cell_type": "code",
   "execution_count": 43,
   "id": "96bf0f51-620e-466d-8636-f7502631e075",
   "metadata": {},
   "outputs": [
    {
     "data": {
      "text/plain": [
       "ALTA        15190\n",
       "MEDIA        2733\n",
       "BAJA          228\n",
       "SIN_DATO       44\n",
       "Name: PRIORIDAD, dtype: int64"
      ]
     },
     "execution_count": 43,
     "metadata": {},
     "output_type": "execute_result"
    }
   ],
   "source": [
    "col = 'PRIORIDAD'\n",
    "raw_data_oct[col] = raw_data_oct[col].apply(lambda x: x.strip())\n",
    "raw_data_oct[col].value_counts(dropna=False) \n",
    "raw_data_oct[col].fillna('SIN_DATO, SIN_D').value_counts()"
   ]
  },
  {
   "cell_type": "code",
   "execution_count": 44,
   "id": "52482a21-f5e6-4e6d-bb3e-b8e9635fe0d8",
   "metadata": {},
   "outputs": [
    {
     "name": "stdout",
     "output_type": "stream",
     "text": [
      "Number of rows before cleaning: 18195\n",
      "Number of rows after cleaning: 16559\n"
     ]
    }
   ],
   "source": [
    "print('Number of rows before cleaning:', raw_data_oct.shape[0] )\n",
    "raw_data_oct.drop_duplicates(inplace=True)\n",
    "print('Number of rows after cleaning:', raw_data_oct.shape[0] )"
   ]
  },
  {
   "cell_type": "code",
   "execution_count": 45,
   "id": "bfad0610-cdca-4a56-892e-033e9799b05f",
   "metadata": {},
   "outputs": [
    {
     "name": "stdout",
     "output_type": "stream",
     "text": [
      "<class 'pandas.core.frame.DataFrame'>\n",
      "RangeIndex: 15926 entries, 0 to 15925\n",
      "Data columns (total 10 columns):\n",
      " #   Column                             Non-Null Count  Dtype \n",
      "---  ------                             --------------  ----- \n",
      " 0   NUMERO_INCIDENTE                   15926 non-null  object\n",
      " 1   FECHA_INICIO_DESPLAZAMIENTO-MOVIL  15926 non-null  object\n",
      " 2   CODIGO DE LOCALIDAD                15926 non-null  int64 \n",
      " 3   LOCALIDAD                          15926 non-null  object\n",
      " 4   EDAD                               15926 non-null  int64 \n",
      " 5   UNIDAD                             15926 non-null  object\n",
      " 6   GENERO                             15926 non-null  object\n",
      " 7   RED                                15926 non-null  object\n",
      " 8   TIPO_INCIDENTE                     15926 non-null  object\n",
      " 9   PRIORIDAD                          15926 non-null  object\n",
      "dtypes: int64(2), object(8)\n",
      "memory usage: 1.2+ MB\n",
      "None\n"
     ]
    }
   ],
   "source": [
    "raw_data_nov = get_input_data(bucket='especializacion_daba',filename ='datos-abiertos-noviembre_2019.csv')\n",
    "print(raw_data_nov.info())"
   ]
  },
  {
   "cell_type": "code",
   "execution_count": 46,
   "id": "301ec3e8-c25b-4aa6-b0a6-ce069c43388e",
   "metadata": {},
   "outputs": [
    {
     "data": {
      "text/html": [
       "<div>\n",
       "<style scoped>\n",
       "    .dataframe tbody tr th:only-of-type {\n",
       "        vertical-align: middle;\n",
       "    }\n",
       "\n",
       "    .dataframe tbody tr th {\n",
       "        vertical-align: top;\n",
       "    }\n",
       "\n",
       "    .dataframe thead th {\n",
       "        text-align: right;\n",
       "    }\n",
       "</style>\n",
       "<table border=\"1\" class=\"dataframe\">\n",
       "  <thead>\n",
       "    <tr style=\"text-align: right;\">\n",
       "      <th></th>\n",
       "      <th>NUMERO_INCIDENTE</th>\n",
       "      <th>FECHA_INICIO_DESPLAZAMIENTO_MOVIL</th>\n",
       "      <th>CODIGO_DE_LOCALIDAD</th>\n",
       "      <th>LOCALIDAD</th>\n",
       "      <th>EDAD</th>\n",
       "      <th>UNIDAD</th>\n",
       "      <th>GENERO</th>\n",
       "      <th>RED</th>\n",
       "      <th>TIPO_DE_INCIDENTE</th>\n",
       "      <th>PRIORIDAD</th>\n",
       "    </tr>\n",
       "  </thead>\n",
       "  <tbody>\n",
       "    <tr>\n",
       "      <th>0</th>\n",
       "      <td>1129118194</td>\n",
       "      <td>2019-11-01 00:01:16</td>\n",
       "      <td>18</td>\n",
       "      <td>Rafael Uribe Uribe</td>\n",
       "      <td>0</td>\n",
       "      <td>SIN_DATO</td>\n",
       "      <td>SIN_DATO</td>\n",
       "      <td>Sur</td>\n",
       "      <td>Lesiones personales</td>\n",
       "      <td>ALTA</td>\n",
       "    </tr>\n",
       "    <tr>\n",
       "      <th>1</th>\n",
       "      <td>1129198194</td>\n",
       "      <td>2019-11-01 00:14:45</td>\n",
       "      <td>11</td>\n",
       "      <td>Suba</td>\n",
       "      <td>47</td>\n",
       "      <td>Años</td>\n",
       "      <td>MASCULINO</td>\n",
       "      <td>Norte</td>\n",
       "      <td>Accidente cerebro vascular</td>\n",
       "      <td>ALTA</td>\n",
       "    </tr>\n",
       "    <tr>\n",
       "      <th>2</th>\n",
       "      <td>1129241194</td>\n",
       "      <td>2019-11-01 00:16:15</td>\n",
       "      <td>2</td>\n",
       "      <td>Chapinero</td>\n",
       "      <td>33</td>\n",
       "      <td>Años</td>\n",
       "      <td>MASCULINO</td>\n",
       "      <td>Norte</td>\n",
       "      <td>Inconsciente/Paro Cardiorrespiratorio</td>\n",
       "      <td>ALTA</td>\n",
       "    </tr>\n",
       "    <tr>\n",
       "      <th>3</th>\n",
       "      <td>1129253194</td>\n",
       "      <td>2019-11-01 00:11:37</td>\n",
       "      <td>7</td>\n",
       "      <td>Bosa</td>\n",
       "      <td>5</td>\n",
       "      <td>Años</td>\n",
       "      <td>FEMENINO</td>\n",
       "      <td>Sur</td>\n",
       "      <td>Dificultad Respiratoria</td>\n",
       "      <td>ALTA</td>\n",
       "    </tr>\n",
       "    <tr>\n",
       "      <th>4</th>\n",
       "      <td>1129258194</td>\n",
       "      <td>2019-11-01 00:16:28</td>\n",
       "      <td>11</td>\n",
       "      <td>Suba</td>\n",
       "      <td>43</td>\n",
       "      <td>Años</td>\n",
       "      <td>FEMENINO</td>\n",
       "      <td>Norte</td>\n",
       "      <td>Dolor torácico</td>\n",
       "      <td>ALTA</td>\n",
       "    </tr>\n",
       "  </tbody>\n",
       "</table>\n",
       "</div>"
      ],
      "text/plain": [
       "  NUMERO_INCIDENTE FECHA_INICIO_DESPLAZAMIENTO_MOVIL  CODIGO_DE_LOCALIDAD  \\\n",
       "0       1129118194               2019-11-01 00:01:16                   18   \n",
       "1       1129198194               2019-11-01 00:14:45                   11   \n",
       "2       1129241194               2019-11-01 00:16:15                    2   \n",
       "3       1129253194               2019-11-01 00:11:37                    7   \n",
       "4       1129258194               2019-11-01 00:16:28                   11   \n",
       "\n",
       "            LOCALIDAD  EDAD    UNIDAD     GENERO    RED  \\\n",
       "0  Rafael Uribe Uribe     0  SIN_DATO   SIN_DATO    Sur   \n",
       "1                Suba    47      Años  MASCULINO  Norte   \n",
       "2           Chapinero    33      Años  MASCULINO  Norte   \n",
       "3                Bosa     5      Años   FEMENINO    Sur   \n",
       "4                Suba    43      Años   FEMENINO  Norte   \n",
       "\n",
       "                           TIPO_DE_INCIDENTE PRIORIDAD  \n",
       "0                     Lesiones personales         ALTA  \n",
       "1             Accidente cerebro vascular          ALTA  \n",
       "2  Inconsciente/Paro Cardiorrespiratorio          ALTA  \n",
       "3                 Dificultad Respiratoria         ALTA  \n",
       "4                          Dolor torácico         ALTA  "
      ]
     },
     "execution_count": 46,
     "metadata": {},
     "output_type": "execute_result"
    }
   ],
   "source": [
    "raw_data_nov.rename(\n",
    "    columns = {\n",
    "        'FECHA_INICIO_DESPLAZAMIENTO-MOVIL' : 'FECHA_INICIO_DESPLAZAMIENTO_MOVIL',\n",
    "        'CODIGO DE LOCALIDAD'               : 'CODIGO_DE_LOCALIDAD',\n",
    "        'TIPO_INCIDENTE'               : 'TIPO_DE_INCIDENTE',\n",
    "        'CLASIFICACION FINAL'               : 'CLASIFICACION_FINAL',\n",
    "        'FECHA_DESPACHO_518'               : 'FECHA_DE_DESPACHO'\n",
    "    },\n",
    "    inplace=True\n",
    ")\n",
    "raw_data_nov.head()"
   ]
  },
  {
   "cell_type": "code",
   "execution_count": 47,
   "id": "4550cad6-9d3f-4642-b5e5-e2fc22219864",
   "metadata": {},
   "outputs": [
    {
     "data": {
      "text/plain": [
       "Kennedy               2192\n",
       "Engativa              1571\n",
       "Suba                  1424\n",
       "Bosa                  1189\n",
       "Ciudad Bolivar        1123\n",
       "Puente Aranda          854\n",
       "Rafael Uribe Uribe     835\n",
       "Usaquen                808\n",
       "Fontibon               787\n",
       "San Cristobal          758\n",
       "Santa Fe               613\n",
       "Chapinero              577\n",
       "Usme                   577\n",
       "Los Martires           560\n",
       "Tunjuelito             551\n",
       "Teusaquillo            546\n",
       "Barrios Unidos         520\n",
       "Antonio Nariño         338\n",
       "La Candelaria          102\n",
       "Sumapaz                  1\n",
       "Name: LOCALIDAD, dtype: int64"
      ]
     },
     "execution_count": 47,
     "metadata": {},
     "output_type": "execute_result"
    }
   ],
   "source": [
    "raw_data_nov['LOCALIDAD'].value_counts(dropna=False)\n",
    "\n",
    "raw_data_nov['LOCALIDAD'].apply(\n",
    "    lambda x: x.strip()        \n",
    ").value_counts()"
   ]
  },
  {
   "cell_type": "code",
   "execution_count": 48,
   "id": "e5cd679e-9c65-4bb7-91b8-3b41534f3847",
   "metadata": {},
   "outputs": [
    {
     "name": "stdout",
     "output_type": "stream",
     "text": [
      "2019-11-01 12:00:00 <class 'pandas._libs.tslibs.timestamps.Timestamp'>\n"
     ]
    }
   ],
   "source": [
    "date_time='01/11/2019 12:00:00'\n",
    "date_time=pd.to_datetime(date_time, format='%d/%m/%Y %H:%M:%S')\n",
    "print (date_time, type (date_time))"
   ]
  },
  {
   "cell_type": "code",
   "execution_count": 49,
   "id": "9643dfbe-bf9c-42b4-b6b5-7e381a091eee",
   "metadata": {},
   "outputs": [
    {
     "data": {
      "text/plain": [
       "<bound method IndexOpsMixin.value_counts of 0       2019-11-01 00:01:16\n",
       "1       2019-11-01 00:14:45\n",
       "2       2019-11-01 00:16:15\n",
       "3       2019-11-01 00:11:37\n",
       "4       2019-11-01 00:16:28\n",
       "                ...        \n",
       "15921   2019-11-30 23:59:33\n",
       "15922   2019-11-30 23:56:11\n",
       "15923   2019-11-30 23:55:55\n",
       "15924   2019-12-01 00:49:00\n",
       "15925   2019-12-01 00:04:47\n",
       "Name: FECHA_INICIO_DESPLAZAMIENTO_MOVIL, Length: 15926, dtype: datetime64[ns]>"
      ]
     },
     "execution_count": 49,
     "metadata": {},
     "output_type": "execute_result"
    }
   ],
   "source": [
    "col = 'FECHA_INICIO_DESPLAZAMIENTO_MOVIL'\n",
    "raw_data_nov[col] = pd.to_datetime(raw_data_nov[col], format='%Y/%m/%d %H:%M:%S') \n",
    "raw_data_nov[col].value_counts\n",
    "# raw_data_ago.head()"
   ]
  },
  {
   "cell_type": "code",
   "execution_count": 50,
   "id": "5713936b-286e-46ab-9f3b-66096d0ccd87",
   "metadata": {},
   "outputs": [
    {
     "data": {
      "text/plain": [
       "SIN_DATO     7011\n",
       "MASCULINO    4856\n",
       "FEMENINO     4059\n",
       "Name: GENERO, dtype: int64"
      ]
     },
     "execution_count": 50,
     "metadata": {},
     "output_type": "execute_result"
    }
   ],
   "source": [
    "col = 'GENERO'\n",
    "raw_data_nov[col].value_counts(dropna=False) \n",
    "raw_data_nov[col].fillna('SIN_DATO').value_counts()"
   ]
  },
  {
   "cell_type": "code",
   "execution_count": 51,
   "id": "102d1025-e448-4d58-a21c-5c491de53de4",
   "metadata": {},
   "outputs": [
    {
     "data": {
      "text/plain": [
       "Accidente de tránsito con heridos/Muertos    5577\n",
       "Inconsciente/Paro Cardiorrespiratorio        1587\n",
       "Dificultad Respiratoria                      1400\n",
       "Enfermo                                      1066\n",
       "Convulsiones                                  979\n",
       "Heridos                                       729\n",
       "Lesiones personales                           675\n",
       "Trastorno mental                              601\n",
       "Intento de suicidio                           600\n",
       "Dolor torácico                                577\n",
       "Patología Gineco - obstétrica                 373\n",
       "Síntomas gastrointestinales                   355\n",
       "Caída                                         346\n",
       "Accidente cerebro vascular                    318\n",
       "Intoxicaciones                                137\n",
       "SIN_DATO                                      122\n",
       "Ideas de suicidio                              90\n",
       "Solicitud Apoyo / Desacato                     83\n",
       "Incendio estructural                           48\n",
       "Muerte Natural                                 41\n",
       "Violencia Sexual                               24\n",
       "Quemaduras                                     21\n",
       "Sangrado Vaginal                               18\n",
       "Rescates                                       16\n",
       "MATPEL (Materiales peligrosos)                 15\n",
       "Incidente rescate acuático                     13\n",
       "Riña                                           13\n",
       "Electrocución / Rescate                         9\n",
       "Accidente Tránsito Simple                       9\n",
       "Incendio Vehicular                              8\n",
       "Elemento caído y/o en peligro de caer.          7\n",
       "Explosión                                       7\n",
       "Persona Pidiendo Auxilio                        7\n",
       "Fuga de Gas Natural o Propano                   6\n",
       "Manifestación / Motín                           6\n",
       "Atraco / Hurto en Proces                        6\n",
       "Abrir domicilio                                 6\n",
       "Animal Peligroso                                5\n",
       "Menor o persona Abandonada                      4\n",
       "Persona tendida en la vía                       4\n",
       "Muerto                                          4\n",
       "Disparos                                        4\n",
       "Embriaguez                                      3\n",
       "PSICOLOGIA                                      2\n",
       "Maltrato                                        2\n",
       "Verificar Situación                             1\n",
       "Delincuente capturado por civil                 1\n",
       "Deslizamiento                                   1\n",
       "Name: TIPO_DE_INCIDENTE, dtype: int64"
      ]
     },
     "execution_count": 51,
     "metadata": {},
     "output_type": "execute_result"
    }
   ],
   "source": [
    "col = 'TIPO_DE_INCIDENTE'\n",
    "raw_data_nov[col] = raw_data_nov[col].apply(lambda x: x.strip())\n",
    "raw_data_nov[col].value_counts(dropna=False)"
   ]
  },
  {
   "cell_type": "code",
   "execution_count": 52,
   "id": "20a97fee-c480-48de-9f00-563acb1c86a8",
   "metadata": {},
   "outputs": [
    {
     "data": {
      "text/plain": [
       "Años        8820\n",
       "SIN_DATO    7020\n",
       "Meses         66\n",
       "Dias          11\n",
       "Horas          9\n",
       "Name: UNIDAD, dtype: int64"
      ]
     },
     "execution_count": 52,
     "metadata": {},
     "output_type": "execute_result"
    }
   ],
   "source": [
    "col = 'UNIDAD'\n",
    "raw_data_nov[col].value_counts(dropna=False) \n",
    "raw_data_nov[col].fillna('SIN_DATO').value_counts()"
   ]
  },
  {
   "cell_type": "code",
   "execution_count": 53,
   "id": "624703bc-7fa6-4f9a-94f7-ca4197167f2a",
   "metadata": {},
   "outputs": [
    {
     "data": {
      "text/plain": [
       "Norte      6859\n",
       "Sur        6000\n",
       "Privada    3067\n",
       "Name: RED, dtype: int64"
      ]
     },
     "execution_count": 53,
     "metadata": {},
     "output_type": "execute_result"
    }
   ],
   "source": [
    "col = 'RED'\n",
    "raw_data_nov[col] = raw_data_nov[col].apply(lambda x: x.strip())\n",
    "raw_data_nov[col].value_counts(dropna=False) "
   ]
  },
  {
   "cell_type": "code",
   "execution_count": 54,
   "id": "3fb18043-cb9c-44c9-a58b-efbc4bd1c2a8",
   "metadata": {},
   "outputs": [
    {
     "data": {
      "text/plain": [
       "ALTA        13281\n",
       "MEDIA        2349\n",
       "BAJA          209\n",
       "SIN_DATO       87\n",
       "Name: PRIORIDAD, dtype: int64"
      ]
     },
     "execution_count": 54,
     "metadata": {},
     "output_type": "execute_result"
    }
   ],
   "source": [
    "col = 'PRIORIDAD'\n",
    "raw_data_nov[col] = raw_data_nov[col].apply(lambda x: x.strip())\n",
    "raw_data_nov[col].value_counts(dropna=False) \n",
    "raw_data_nov[col].fillna('SIN_DATO, SIN_D').value_counts()"
   ]
  },
  {
   "cell_type": "code",
   "execution_count": 55,
   "id": "48e023de-61a6-4eef-aca7-a2f7a790ad30",
   "metadata": {},
   "outputs": [
    {
     "name": "stdout",
     "output_type": "stream",
     "text": [
      "Number of rows before cleaning: 15926\n",
      "Number of rows after cleaning: 15886\n"
     ]
    }
   ],
   "source": [
    "print('Number of rows before cleaning:', raw_data_nov.shape[0] )\n",
    "raw_data_nov.drop_duplicates(inplace=True)\n",
    "print('Number of rows after cleaning:', raw_data_nov.shape[0] )"
   ]
  },
  {
   "cell_type": "code",
   "execution_count": 56,
   "id": "a784315d-8ecb-4d23-981f-ed9d65c04bc1",
   "metadata": {},
   "outputs": [
    {
     "name": "stdout",
     "output_type": "stream",
     "text": [
      "<class 'pandas.core.frame.DataFrame'>\n",
      "RangeIndex: 16243 entries, 0 to 16242\n",
      "Data columns (total 10 columns):\n",
      " #   Column               Non-Null Count  Dtype \n",
      "---  ------               --------------  ----- \n",
      " 0   NUMERO_INCIDENTE     16243 non-null  object\n",
      " 1   FECHA_DESPACHO_518   16243 non-null  object\n",
      " 2   CODIGO DE LOCALIDAD  16243 non-null  int64 \n",
      " 3   LOCALIDAD            16243 non-null  object\n",
      " 4   EDAD                 16243 non-null  int64 \n",
      " 5   UNIDAD               16243 non-null  object\n",
      " 6   GENERO               16243 non-null  object\n",
      " 7   RED                  16243 non-null  object\n",
      " 8   TIPO_INCIDENTE       16243 non-null  object\n",
      " 9   PRIORIDAD            16243 non-null  object\n",
      "dtypes: int64(2), object(8)\n",
      "memory usage: 1.2+ MB\n",
      "None\n"
     ]
    }
   ],
   "source": [
    "raw_data_dic = get_input_data(bucket='especializacion_daba',filename ='datos_abiertos_cons_diciembre_2019.csv')\n",
    "print(raw_data_dic.info())"
   ]
  },
  {
   "cell_type": "code",
   "execution_count": 57,
   "id": "6f29d896-dafc-4447-8f09-902e11e3a046",
   "metadata": {},
   "outputs": [
    {
     "data": {
      "text/html": [
       "<div>\n",
       "<style scoped>\n",
       "    .dataframe tbody tr th:only-of-type {\n",
       "        vertical-align: middle;\n",
       "    }\n",
       "\n",
       "    .dataframe tbody tr th {\n",
       "        vertical-align: top;\n",
       "    }\n",
       "\n",
       "    .dataframe thead th {\n",
       "        text-align: right;\n",
       "    }\n",
       "</style>\n",
       "<table border=\"1\" class=\"dataframe\">\n",
       "  <thead>\n",
       "    <tr style=\"text-align: right;\">\n",
       "      <th></th>\n",
       "      <th>NUMERO_INCIDENTE</th>\n",
       "      <th>FECHA_DE_DESPACHO</th>\n",
       "      <th>CODIGO_DE_LOCALIDAD</th>\n",
       "      <th>LOCALIDAD</th>\n",
       "      <th>EDAD</th>\n",
       "      <th>UNIDAD</th>\n",
       "      <th>GENERO</th>\n",
       "      <th>RED</th>\n",
       "      <th>TIPO_DE_INCIDENTE</th>\n",
       "      <th>PRIORIDAD</th>\n",
       "    </tr>\n",
       "  </thead>\n",
       "  <tbody>\n",
       "    <tr>\n",
       "      <th>0</th>\n",
       "      <td>1178693196</td>\n",
       "      <td>2019-12-01 03:18:23</td>\n",
       "      <td>8</td>\n",
       "      <td>Kennedy</td>\n",
       "      <td>14</td>\n",
       "      <td>Años</td>\n",
       "      <td>MASCULINO</td>\n",
       "      <td>Privada</td>\n",
       "      <td>Accidente Tránsito con Heridos/Muertos</td>\n",
       "      <td>ALTA</td>\n",
       "    </tr>\n",
       "    <tr>\n",
       "      <th>1</th>\n",
       "      <td>1176480196</td>\n",
       "      <td>2019-12-01 00:05:59</td>\n",
       "      <td>5</td>\n",
       "      <td>Usme</td>\n",
       "      <td>0</td>\n",
       "      <td>SIN/DATO</td>\n",
       "      <td>SIN/DATO</td>\n",
       "      <td>Sur</td>\n",
       "      <td>Accidente Tránsito con Heridos/Muertos</td>\n",
       "      <td>ALTA</td>\n",
       "    </tr>\n",
       "    <tr>\n",
       "      <th>2</th>\n",
       "      <td>1180282196</td>\n",
       "      <td>2019-12-01 05:37:10</td>\n",
       "      <td>7</td>\n",
       "      <td>Bosa</td>\n",
       "      <td>32</td>\n",
       "      <td>Años</td>\n",
       "      <td>MASCULINO</td>\n",
       "      <td>Privada</td>\n",
       "      <td>Accidente Tránsito con Heridos/Muertos</td>\n",
       "      <td>ALTA</td>\n",
       "    </tr>\n",
       "    <tr>\n",
       "      <th>3</th>\n",
       "      <td>1176520196</td>\n",
       "      <td>2019-12-01 00:07:43</td>\n",
       "      <td>3</td>\n",
       "      <td>Santa Fe</td>\n",
       "      <td>0</td>\n",
       "      <td>SIN/DATO</td>\n",
       "      <td>SIN/DATO</td>\n",
       "      <td>Norte</td>\n",
       "      <td>Lesiones Personales</td>\n",
       "      <td>ALTA</td>\n",
       "    </tr>\n",
       "    <tr>\n",
       "      <th>4</th>\n",
       "      <td>1180873196</td>\n",
       "      <td>2019-12-01 07:14:08</td>\n",
       "      <td>5</td>\n",
       "      <td>Usme</td>\n",
       "      <td>53</td>\n",
       "      <td>Años</td>\n",
       "      <td>FEMENINO</td>\n",
       "      <td>Privada</td>\n",
       "      <td>Accidente Tránsito con Heridos/Muertos</td>\n",
       "      <td>ALTA</td>\n",
       "    </tr>\n",
       "  </tbody>\n",
       "</table>\n",
       "</div>"
      ],
      "text/plain": [
       "  NUMERO_INCIDENTE    FECHA_DE_DESPACHO  CODIGO_DE_LOCALIDAD LOCALIDAD  EDAD  \\\n",
       "0       1178693196  2019-12-01 03:18:23                    8   Kennedy    14   \n",
       "1       1176480196  2019-12-01 00:05:59                    5      Usme     0   \n",
       "2       1180282196  2019-12-01 05:37:10                    7      Bosa    32   \n",
       "3       1176520196  2019-12-01 00:07:43                    3  Santa Fe     0   \n",
       "4       1180873196  2019-12-01 07:14:08                    5      Usme    53   \n",
       "\n",
       "     UNIDAD     GENERO      RED                       TIPO_DE_INCIDENTE  \\\n",
       "0      Años  MASCULINO  Privada  Accidente Tránsito con Heridos/Muertos   \n",
       "1  SIN/DATO   SIN/DATO      Sur  Accidente Tránsito con Heridos/Muertos   \n",
       "2      Años  MASCULINO  Privada  Accidente Tránsito con Heridos/Muertos   \n",
       "3  SIN/DATO   SIN/DATO    Norte                     Lesiones Personales   \n",
       "4      Años   FEMENINO  Privada  Accidente Tránsito con Heridos/Muertos   \n",
       "\n",
       "  PRIORIDAD  \n",
       "0      ALTA  \n",
       "1      ALTA  \n",
       "2      ALTA  \n",
       "3      ALTA  \n",
       "4      ALTA  "
      ]
     },
     "execution_count": 57,
     "metadata": {},
     "output_type": "execute_result"
    }
   ],
   "source": [
    "raw_data_dic.rename(\n",
    "    columns = {\n",
    "        'FECHA_INICIO_DESPLAZAMIENTO-MOVIL' : 'FECHA_INICIO_DESPLAZAMIENTO_MOVIL',\n",
    "        'CODIGO DE LOCALIDAD'               : 'CODIGO_DE_LOCALIDAD',\n",
    "        'TIPO_INCIDENTE'               : 'TIPO_DE_INCIDENTE',\n",
    "        'CLASIFICACION FINAL'               : 'CLASIFICACION_FINAL',\n",
    "        'FECHA_DESPACHO_518'               : 'FECHA_DE_DESPACHO'\n",
    "    },\n",
    "    inplace=True\n",
    ")\n",
    "raw_data_dic.head()"
   ]
  },
  {
   "cell_type": "code",
   "execution_count": 58,
   "id": "e2f253ea-3121-4c66-b47f-0c7ce754d537",
   "metadata": {},
   "outputs": [
    {
     "data": {
      "text/plain": [
       "Kennedy               2317\n",
       "Engativá              1644\n",
       "Suba                  1471\n",
       "Bosa                  1182\n",
       "Ciudad Bolívar        1121\n",
       "Puente Aranda          904\n",
       "Fontibón               864\n",
       "San Cristóbal          838\n",
       "Rafael Uribe Uribe     772\n",
       "Usaquén                770\n",
       "Usme                   630\n",
       "Tunjuelito             616\n",
       "Santa Fe               589\n",
       "Chapinero              556\n",
       "Los Mártires           525\n",
       "Barrios Unidos         513\n",
       "Teusaquillo            497\n",
       "Antonio Nariño         373\n",
       "La Candelaria           60\n",
       "Sumapaz                  1\n",
       "Name: LOCALIDAD, dtype: int64"
      ]
     },
     "execution_count": 58,
     "metadata": {},
     "output_type": "execute_result"
    }
   ],
   "source": [
    "raw_data_dic['LOCALIDAD'].value_counts(dropna=False)\n",
    "\n",
    "raw_data_dic['LOCALIDAD'].apply(\n",
    "    lambda x: x.strip()        \n",
    ").value_counts()"
   ]
  },
  {
   "cell_type": "code",
   "execution_count": 59,
   "id": "77f5419d-1223-4b06-b9eb-936299e479be",
   "metadata": {},
   "outputs": [
    {
     "data": {
      "text/plain": [
       "2019-12-20 22:05:02    9\n",
       "2019-12-24 15:02:30    6\n",
       "2019-12-24 21:08:00    6\n",
       "2019-12-31 17:39:10    6\n",
       "2019-12-26 21:34:05    5\n",
       "                      ..\n",
       "2019-12-09 14:50:55    1\n",
       "2019-12-09 15:52:58    1\n",
       "2019-12-09 15:37:33    1\n",
       "2019-12-09 16:02:42    1\n",
       "2019-12-01 07:12:34    1\n",
       "Name: FECHA_DE_DESPACHO, Length: 15804, dtype: int64"
      ]
     },
     "execution_count": 59,
     "metadata": {},
     "output_type": "execute_result"
    }
   ],
   "source": [
    "raw_data_dic['FECHA_DE_DESPACHO'].value_counts(dropna=False)"
   ]
  },
  {
   "cell_type": "code",
   "execution_count": 60,
   "id": "a28d4923-bc1f-4cf7-a6b1-b4355da2622a",
   "metadata": {},
   "outputs": [
    {
     "name": "stdout",
     "output_type": "stream",
     "text": [
      "2019-09-01 12:00:00 <class 'pandas._libs.tslibs.timestamps.Timestamp'>\n"
     ]
    },
    {
     "data": {
      "text/plain": [
       "<bound method IndexOpsMixin.value_counts of 0       2019-12-01 03:18:23\n",
       "1       2019-12-01 00:05:59\n",
       "2       2019-12-01 05:37:10\n",
       "3       2019-12-01 00:07:43\n",
       "4       2019-12-01 07:14:08\n",
       "                ...        \n",
       "16238   2019-12-01 05:22:10\n",
       "16239   2019-12-01 07:48:13\n",
       "16240   2019-12-01 08:04:29\n",
       "16241   2019-12-01 06:22:44\n",
       "16242   2019-12-01 07:12:34\n",
       "Name: FECHA_DE_DESPACHO, Length: 16243, dtype: datetime64[ns]>"
      ]
     },
     "execution_count": 60,
     "metadata": {},
     "output_type": "execute_result"
    }
   ],
   "source": [
    "date_time='2019/09/01 12:00:00'\n",
    "date_time=pd.to_datetime(date_time, format='%Y/%m/%d %H:%M:%S')\n",
    "print (date_time, type (date_time))\n",
    "\n",
    "col = 'FECHA_DE_DESPACHO'\n",
    "raw_data_dic[col] = pd.to_datetime(raw_data_dic[col], format='%Y/%m/%d %H:%M:%S') \n",
    "raw_data_dic[col].value_counts\n",
    "# raw_data_ago.head()"
   ]
  },
  {
   "cell_type": "code",
   "execution_count": 61,
   "id": "04642757-ab5d-447e-9036-e790e23bfb7f",
   "metadata": {},
   "outputs": [
    {
     "data": {
      "text/plain": [
       "SIN/DATO     8286\n",
       "MASCULINO    4405\n",
       "FEMENINO     3552\n",
       "Name: GENERO, dtype: int64"
      ]
     },
     "execution_count": 61,
     "metadata": {},
     "output_type": "execute_result"
    }
   ],
   "source": [
    "col = 'GENERO'\n",
    "raw_data_dic[col].value_counts(dropna=False) \n",
    "raw_data_dic[col].fillna('SIN_DATO').value_counts()"
   ]
  },
  {
   "cell_type": "code",
   "execution_count": 62,
   "id": "298fc844-1dfe-4eb9-8a6c-3ebb62aacf61",
   "metadata": {},
   "outputs": [
    {
     "data": {
      "text/plain": [
       "Heridos accidentales                      7390\n",
       "Inconsciente / paro cardiorespiratorio    1743\n",
       "Evento respiratorio                       1404\n",
       "Convulsión                                1027\n",
       "Enfermo                                    873\n",
       "Trastorno mental                           650\n",
       "Dolor torácico                             611\n",
       "Intento de Suicidio                        543\n",
       "Caída de Altura                            377\n",
       "Patología ginecobstétrica                  371\n",
       "Accidente Cerebro\\nVascular                365\n",
       "Síntomas gastrointestinales                275\n",
       "Intoxicación                               153\n",
       "S/D                                        138\n",
       "Accidente Tránsito con Heridos/Muertos     108\n",
       "Amenaza de\\nSuicidio                        95\n",
       "Violencia Sexual                            28\n",
       "Sangrado Vaginal                            24\n",
       "Lesiones Personales                         23\n",
       "Quemaduras                                  16\n",
       "Electrocución / Rescate                     10\n",
       "Accidente Cerebro Vascular (ACV)             7\n",
       "Maltrato                                     7\n",
       "Incendio estructural                         2\n",
       "Muerte Natural                               2\n",
       "Accidente de Aviación                        1\n",
       "Name: TIPO_DE_INCIDENTE, dtype: int64"
      ]
     },
     "execution_count": 62,
     "metadata": {},
     "output_type": "execute_result"
    }
   ],
   "source": [
    "col = 'TIPO_DE_INCIDENTE'\n",
    "raw_data_dic[col] = raw_data_dic[col].apply(lambda x: x.strip())\n",
    "raw_data_dic[col].value_counts(dropna=False)"
   ]
  },
  {
   "cell_type": "code",
   "execution_count": 63,
   "id": "9022abb9-1fb5-40f2-85c4-2063a4b91265",
   "metadata": {},
   "outputs": [
    {
     "data": {
      "text/plain": [
       "SIN/DATO    8286\n",
       "Años        7889\n",
       "Meses         45\n",
       "Horas         13\n",
       "Dias          10\n",
       "Name: UNIDAD, dtype: int64"
      ]
     },
     "execution_count": 63,
     "metadata": {},
     "output_type": "execute_result"
    }
   ],
   "source": [
    "col = 'UNIDAD'\n",
    "raw_data_dic[col].value_counts(dropna=False) \n",
    "raw_data_dic[col].fillna('SIN_DATO').value_counts()"
   ]
  },
  {
   "cell_type": "code",
   "execution_count": 64,
   "id": "fb1677f6-91ac-4461-bd38-5410242ec4eb",
   "metadata": {},
   "outputs": [
    {
     "data": {
      "text/plain": [
       "Norte      7114\n",
       "Sur        6282\n",
       "Privada    2847\n",
       "Name: RED, dtype: int64"
      ]
     },
     "execution_count": 64,
     "metadata": {},
     "output_type": "execute_result"
    }
   ],
   "source": [
    "col = 'RED'\n",
    "raw_data_dic[col] = raw_data_dic[col].apply(lambda x: x.strip())\n",
    "raw_data_dic[col].value_counts(dropna=False) "
   ]
  },
  {
   "cell_type": "code",
   "execution_count": 65,
   "id": "0ead4ea0-f7d3-4bfa-ae2f-0bc29849eec9",
   "metadata": {},
   "outputs": [
    {
     "data": {
      "text/plain": [
       "2        10668\n",
       "1         3128\n",
       "3         1922\n",
       "ALTA       300\n",
       "4          197\n",
       "MEDIA       23\n",
       "BAJA         5\n",
       "Name: PRIORIDAD, dtype: int64"
      ]
     },
     "execution_count": 65,
     "metadata": {},
     "output_type": "execute_result"
    }
   ],
   "source": [
    "col = 'PRIORIDAD'\n",
    "raw_data_dic[col] = raw_data_dic[col].apply(lambda x: x.strip())\n",
    "raw_data_dic[col].value_counts(dropna=False) \n",
    "raw_data_dic[col].fillna('SIN_DATO, SIN_D').value_counts()"
   ]
  },
  {
   "cell_type": "code",
   "execution_count": 66,
   "id": "d85c0d32-4d80-4f22-b400-4be21039d8fa",
   "metadata": {},
   "outputs": [
    {
     "name": "stdout",
     "output_type": "stream",
     "text": [
      "Number of rows before cleaning: 16243\n",
      "Number of rows after cleaning: 16162\n"
     ]
    }
   ],
   "source": [
    "print('Number of rows before cleaning:', raw_data_dic.shape[0] )\n",
    "raw_data_dic.drop_duplicates(inplace=True)\n",
    "print('Number of rows after cleaning:', raw_data_dic.shape[0] )"
   ]
  },
  {
   "cell_type": "code",
   "execution_count": 67,
   "id": "033d79bc-fdc7-4bb0-acdc-2e3121c7428a",
   "metadata": {},
   "outputs": [
    {
     "name": "stdout",
     "output_type": "stream",
     "text": [
      "<class 'pandas.core.frame.DataFrame'>\n",
      "RangeIndex: 14560 entries, 0 to 14559\n",
      "Data columns (total 12 columns):\n",
      " #   Column                             Non-Null Count  Dtype \n",
      "---  ------                             --------------  ----- \n",
      " 0   FECHA_INCIDENTE                    14560 non-null  object\n",
      " 1   FECHA_INICIO_DESPLAZAMIENTO-MOVIL  14560 non-null  object\n",
      " 2   CODIGO DE LOCALIDAD                14560 non-null  int64 \n",
      " 3   LOCALIDAD                          14560 non-null  object\n",
      " 4   EDAD                               14560 non-null  object\n",
      " 5   UNIDAD                             14560 non-null  object\n",
      " 6   GENERO                             14560 non-null  object\n",
      " 7   RED                                14560 non-null  object\n",
      " 8   TIPO_INCIDENTE                     14560 non-null  object\n",
      " 9   PRIORIDAD                          14560 non-null  object\n",
      " 10  MES                                14560 non-null  object\n",
      " 11  CLASIFICACION FINAL                13035 non-null  object\n",
      "dtypes: int64(1), object(11)\n",
      "memory usage: 1.3+ MB\n",
      "None\n"
     ]
    }
   ],
   "source": [
    "raw_data_jul = get_input_data(bucket='especializacion_daba',filename ='datos-abiertos-julio-2019.csv')\n",
    "print(raw_data_jul.info())"
   ]
  },
  {
   "cell_type": "code",
   "execution_count": 68,
   "id": "f9523211-936f-4e37-b917-e2ffc309d0c9",
   "metadata": {},
   "outputs": [
    {
     "data": {
      "text/html": [
       "<div>\n",
       "<style scoped>\n",
       "    .dataframe tbody tr th:only-of-type {\n",
       "        vertical-align: middle;\n",
       "    }\n",
       "\n",
       "    .dataframe tbody tr th {\n",
       "        vertical-align: top;\n",
       "    }\n",
       "\n",
       "    .dataframe thead th {\n",
       "        text-align: right;\n",
       "    }\n",
       "</style>\n",
       "<table border=\"1\" class=\"dataframe\">\n",
       "  <thead>\n",
       "    <tr style=\"text-align: right;\">\n",
       "      <th></th>\n",
       "      <th>FECHA_INCIDENTE</th>\n",
       "      <th>FECHA_INICIO_DESPLAZAMIENTO_MOVIL</th>\n",
       "      <th>CODIGO_DE_LOCALIDAD</th>\n",
       "      <th>LOCALIDAD</th>\n",
       "      <th>EDAD</th>\n",
       "      <th>UNIDAD</th>\n",
       "      <th>GENERO</th>\n",
       "      <th>RED</th>\n",
       "      <th>TIPO_DE_INCIDENTE</th>\n",
       "      <th>PRIORIDAD</th>\n",
       "      <th>MES</th>\n",
       "      <th>CLASIFICACION_FINAL</th>\n",
       "    </tr>\n",
       "  </thead>\n",
       "  <tbody>\n",
       "    <tr>\n",
       "      <th>0</th>\n",
       "      <td>2019-07-01 00:05:08</td>\n",
       "      <td>2019-07-01 00:11:02</td>\n",
       "      <td>8</td>\n",
       "      <td>Kennedy</td>\n",
       "      <td>39</td>\n",
       "      <td>Años</td>\n",
       "      <td>FEMENINO</td>\n",
       "      <td>Norte</td>\n",
       "      <td>Dificultad Respiratoria</td>\n",
       "      <td>ALTA</td>\n",
       "      <td>JULIO</td>\n",
       "      <td>Traslado</td>\n",
       "    </tr>\n",
       "    <tr>\n",
       "      <th>1</th>\n",
       "      <td>2019-07-01 00:06:57</td>\n",
       "      <td>2019-07-01 00:12:56</td>\n",
       "      <td>19</td>\n",
       "      <td>Ciudad Bolivar</td>\n",
       "      <td>69</td>\n",
       "      <td>Años</td>\n",
       "      <td>MASCULINO</td>\n",
       "      <td>Sur</td>\n",
       "      <td>Inconsciente/Paro Cardiorrespiratorio</td>\n",
       "      <td>ALTA</td>\n",
       "      <td>JULIO</td>\n",
       "      <td>NaN</td>\n",
       "    </tr>\n",
       "    <tr>\n",
       "      <th>2</th>\n",
       "      <td>2019-07-01 00:09:26</td>\n",
       "      <td>2019-07-01 00:10:26</td>\n",
       "      <td>6</td>\n",
       "      <td>Tunjuelito</td>\n",
       "      <td>25</td>\n",
       "      <td>Años</td>\n",
       "      <td>MASCULINO</td>\n",
       "      <td>Sur</td>\n",
       "      <td>Enfermo</td>\n",
       "      <td>MEDIA</td>\n",
       "      <td>JULIO</td>\n",
       "      <td>Traslado</td>\n",
       "    </tr>\n",
       "    <tr>\n",
       "      <th>3</th>\n",
       "      <td>2019-07-01 00:14:42</td>\n",
       "      <td>2019-07-01 00:15:47</td>\n",
       "      <td>8</td>\n",
       "      <td>Kennedy</td>\n",
       "      <td>65</td>\n",
       "      <td>Años</td>\n",
       "      <td>MASCULINO</td>\n",
       "      <td>Sur</td>\n",
       "      <td>Lesiones personales</td>\n",
       "      <td>MEDIA</td>\n",
       "      <td>JULIO</td>\n",
       "      <td>Traslado</td>\n",
       "    </tr>\n",
       "    <tr>\n",
       "      <th>4</th>\n",
       "      <td>2019-07-01 00:17:13</td>\n",
       "      <td>2019-07-01 00:31:13</td>\n",
       "      <td>10</td>\n",
       "      <td>Engativa</td>\n",
       "      <td>SIN_DATO</td>\n",
       "      <td>SIN_DATO</td>\n",
       "      <td>SIN_DATO</td>\n",
       "      <td>Norte</td>\n",
       "      <td>Enfermo</td>\n",
       "      <td>MEDIA</td>\n",
       "      <td>JULIO</td>\n",
       "      <td>Cancelado</td>\n",
       "    </tr>\n",
       "  </tbody>\n",
       "</table>\n",
       "</div>"
      ],
      "text/plain": [
       "       FECHA_INCIDENTE FECHA_INICIO_DESPLAZAMIENTO_MOVIL  CODIGO_DE_LOCALIDAD  \\\n",
       "0  2019-07-01 00:05:08               2019-07-01 00:11:02                    8   \n",
       "1  2019-07-01 00:06:57               2019-07-01 00:12:56                   19   \n",
       "2  2019-07-01 00:09:26               2019-07-01 00:10:26                    6   \n",
       "3  2019-07-01 00:14:42               2019-07-01 00:15:47                    8   \n",
       "4  2019-07-01 00:17:13               2019-07-01 00:31:13                   10   \n",
       "\n",
       "         LOCALIDAD      EDAD    UNIDAD     GENERO    RED  \\\n",
       "0          Kennedy        39      Años   FEMENINO  Norte   \n",
       "1   Ciudad Bolivar        69      Años  MASCULINO    Sur   \n",
       "2       Tunjuelito        25      Años  MASCULINO    Sur   \n",
       "3          Kennedy        65      Años  MASCULINO    Sur   \n",
       "4         Engativa  SIN_DATO  SIN_DATO   SIN_DATO  Norte   \n",
       "\n",
       "                        TIPO_DE_INCIDENTE PRIORIDAD    MES CLASIFICACION_FINAL  \n",
       "0                 Dificultad Respiratoria      ALTA  JULIO            Traslado  \n",
       "1  Inconsciente/Paro Cardiorrespiratorio       ALTA  JULIO                 NaN  \n",
       "2                                 Enfermo     MEDIA  JULIO            Traslado  \n",
       "3                     Lesiones personales     MEDIA  JULIO            Traslado  \n",
       "4                                 Enfermo     MEDIA  JULIO           Cancelado  "
      ]
     },
     "execution_count": 68,
     "metadata": {},
     "output_type": "execute_result"
    }
   ],
   "source": [
    "raw_data_jul.rename(\n",
    "    columns = {\n",
    "        'FECHA_INICIO_DESPLAZAMIENTO-MOVIL' : 'FECHA_INICIO_DESPLAZAMIENTO_MOVIL',\n",
    "        'CODIGO DE LOCALIDAD'               : 'CODIGO_DE_LOCALIDAD',\n",
    "        'TIPO_INCIDENTE'               : 'TIPO_DE_INCIDENTE',\n",
    "        'CLASIFICACION FINAL'               : 'CLASIFICACION_FINAL',\n",
    "        'FECHA_DESPACHO_518'               : 'FECHA_DE_DESPACHO'\n",
    "    },\n",
    "    inplace=True\n",
    ")\n",
    "raw_data_jul.head()"
   ]
  },
  {
   "cell_type": "code",
   "execution_count": 69,
   "id": "d5e06164-af55-46bf-9874-8746974df84f",
   "metadata": {},
   "outputs": [
    {
     "data": {
      "text/plain": [
       "Kennedy               1593\n",
       "Suba                  1548\n",
       "Engativa              1521\n",
       "Bosa                  1122\n",
       "Ciudad Bolivar         994\n",
       "Usaquen                786\n",
       "San Cristobal          776\n",
       "Rafael Uribe Uribe     741\n",
       "Fontibon               723\n",
       "Puente Aranda          690\n",
       "Usme                   636\n",
       "Chapinero              599\n",
       "Barrios Unidos         516\n",
       "Los Martires           516\n",
       "Santa Fe               489\n",
       "Teusaquillo            464\n",
       "Tunjuelito             462\n",
       "Antonio Nariño         292\n",
       "La Candelaria           91\n",
       "Sumapaz                  1\n",
       "Name: LOCALIDAD, dtype: int64"
      ]
     },
     "execution_count": 69,
     "metadata": {},
     "output_type": "execute_result"
    }
   ],
   "source": [
    "raw_data_jul['LOCALIDAD'].value_counts(dropna=False)\n",
    "\n",
    "raw_data_jul['LOCALIDAD'].apply(\n",
    "    lambda x: x.strip()        \n",
    ").value_counts()\n"
   ]
  },
  {
   "cell_type": "code",
   "execution_count": 70,
   "id": "213cadb7-3b9c-4118-b469-c8d7dd9c5ebf",
   "metadata": {},
   "outputs": [
    {
     "name": "stdout",
     "output_type": "stream",
     "text": [
      "2019-08-01 12:00:00 <class 'pandas._libs.tslibs.timestamps.Timestamp'>\n"
     ]
    }
   ],
   "source": [
    "raw_data_jul['FECHA_INICIO_DESPLAZAMIENTO_MOVIL'].value_counts(dropna=False)\n",
    "\n",
    "date_time='01/08/2019 12:00:00'\n",
    "date_time=pd.to_datetime(date_time, format='%d/%m/%Y %H:%M:%S')\n",
    "print (date_time, type (date_time))"
   ]
  },
  {
   "cell_type": "code",
   "execution_count": 71,
   "id": "9aaa3498-f454-4562-8c14-936ed9a9aa93",
   "metadata": {},
   "outputs": [
    {
     "data": {
      "text/plain": [
       "<bound method IndexOpsMixin.value_counts of 0       2019-07-01 00:11:02\n",
       "1       2019-07-01 00:12:56\n",
       "2       2019-07-01 00:10:26\n",
       "3       2019-07-01 00:15:47\n",
       "4       2019-07-01 00:31:13\n",
       "                ...        \n",
       "14555   2019-07-31 23:21:39\n",
       "14556   2019-07-31 23:28:20\n",
       "14557   2019-07-31 23:27:43\n",
       "14558   2019-07-31 23:29:43\n",
       "14559   2019-07-31 23:50:43\n",
       "Name: FECHA_INICIO_DESPLAZAMIENTO_MOVIL, Length: 14560, dtype: datetime64[ns]>"
      ]
     },
     "execution_count": 71,
     "metadata": {},
     "output_type": "execute_result"
    }
   ],
   "source": [
    "col = 'FECHA_INICIO_DESPLAZAMIENTO_MOVIL'\n",
    "raw_data_jul[col] = pd.to_datetime(raw_data_jul[col], format='%Y/%m/%d %H:%M') \n",
    "raw_data_jul[col].value_counts\n",
    "# raw_data_ago.head()\n"
   ]
  },
  {
   "cell_type": "code",
   "execution_count": 72,
   "id": "cf5c0e77-e696-4ca1-b680-4fc9a76db089",
   "metadata": {},
   "outputs": [
    {
     "data": {
      "text/plain": [
       "SIN_DATO     6621\n",
       "MASCULINO    4190\n",
       "FEMENINO     3749\n",
       "Name: GENERO, dtype: int64"
      ]
     },
     "execution_count": 72,
     "metadata": {},
     "output_type": "execute_result"
    }
   ],
   "source": [
    "col = 'GENERO'\n",
    "raw_data_jul[col] = raw_data_jul[col].apply(lambda x: x.strip())\n",
    "raw_data_jul[col].value_counts(dropna=False)\n"
   ]
  },
  {
   "cell_type": "code",
   "execution_count": 73,
   "id": "dc05e8d8-efec-4b44-a77b-4a21c0a42ee9",
   "metadata": {},
   "outputs": [
    {
     "data": {
      "text/plain": [
       "Accidente de tránsito con heridos/Muertos    4261\n",
       "Inconsciente/Paro Cardiorrespiratorio        1623\n",
       "Dificultad Respiratoria                      1398\n",
       "Enfermo                                      1131\n",
       "Convulsiones                                 1011\n",
       "Heridos                                       747\n",
       "Trastorno mental                              709\n",
       "Dolor torácico                                611\n",
       "Lesiones personales                           547\n",
       "Intento de suicidio                           534\n",
       "Patología Gineco - obstétrica                 425\n",
       "Síntomas gastrointestinales                   344\n",
       "Accidente cerebro vascular                    323\n",
       "Caída                                         318\n",
       "Intoxicaciones                                141\n",
       "Ideas de suicidio                             111\n",
       "Violencia Sexual                               41\n",
       "Muerte Natural                                 39\n",
       "SIN_DATO                                       39\n",
       "Incendio estructural                           29\n",
       "Solicitud Apoyo / Desacato                     28\n",
       "Sangrado Vaginal                               21\n",
       "Accidente Tránsito Simple                      14\n",
       "Quemaduras                                     12\n",
       "Riña                                           11\n",
       "Amenaza de Ruina                               10\n",
       "Rescates                                        7\n",
       "Incendio Vehicular                              7\n",
       "Abrir domicilio                                 7\n",
       "Elemento caído y/o en peligro de caer.          7\n",
       "Electrocución / Rescate                         5\n",
       "Fuga de Gas Natural o Propano                   5\n",
       "MATPEL (Materiales peligrosos)                  5\n",
       "Animal Peligroso                                5\n",
       "Maltrato                                        5\n",
       "Explosión                                       4\n",
       "Disparos                                        4\n",
       "Muerto                                          3\n",
       "Persona Pidiendo Auxilio                        3\n",
       "Deslizamiento                                   3\n",
       "Embriaguez                                      3\n",
       "Persona tendida en la vía                       2\n",
       "Habitante de la Calle                           2\n",
       "Extraviados / Desaparecidos                     1\n",
       "Incidente rescate acuático                      1\n",
       "Venta o Consumo alcohol u otro en Menor         1\n",
       "Atraco / Hurto en Proces                        1\n",
       "Rescates Montaña                                1\n",
       "Name: TIPO_DE_INCIDENTE, dtype: int64"
      ]
     },
     "execution_count": 73,
     "metadata": {},
     "output_type": "execute_result"
    }
   ],
   "source": [
    "col = 'TIPO_DE_INCIDENTE'\n",
    "raw_data_jul[col] = raw_data_jul[col].apply(lambda x: x.strip())\n",
    "raw_data_jul[col].value_counts(dropna=False)\n"
   ]
  },
  {
   "cell_type": "code",
   "execution_count": 74,
   "id": "776528ce-c1c2-40c2-b585-a5baf30553c8",
   "metadata": {},
   "outputs": [
    {
     "data": {
      "text/plain": [
       "Años        7886\n",
       "SIN_DATO    6621\n",
       "Meses         39\n",
       "Dias           7\n",
       "Horas          7\n",
       "Name: UNIDAD, dtype: int64"
      ]
     },
     "execution_count": 74,
     "metadata": {},
     "output_type": "execute_result"
    }
   ],
   "source": [
    "col = 'UNIDAD'\n",
    "raw_data_jul[col] = raw_data_jul[col].apply(lambda x: x.strip())\n",
    "raw_data_jul[col].value_counts(dropna=False)\n"
   ]
  },
  {
   "cell_type": "code",
   "execution_count": 75,
   "id": "f930b515-7ad6-428c-a57c-cb6f815aec48",
   "metadata": {},
   "outputs": [
    {
     "data": {
      "text/plain": [
       "Norte    8078\n",
       "Sur      6482\n",
       "Name: RED, dtype: int64"
      ]
     },
     "execution_count": 75,
     "metadata": {},
     "output_type": "execute_result"
    }
   ],
   "source": [
    "col = 'RED'\n",
    "raw_data_jul[col] = raw_data_jul[col].apply(lambda x: x.strip())\n",
    "raw_data_jul[col].value_counts(dropna=False)\n"
   ]
  },
  {
   "cell_type": "code",
   "execution_count": 76,
   "id": "7a8a0b4e-a3c9-41c0-a65c-c5d63445b295",
   "metadata": {},
   "outputs": [
    {
     "data": {
      "text/plain": [
       "ALTA        11842\n",
       "MEDIA        2432\n",
       "BAJA          270\n",
       "SIN_DATO       16\n",
       "Name: PRIORIDAD, dtype: int64"
      ]
     },
     "execution_count": 76,
     "metadata": {},
     "output_type": "execute_result"
    }
   ],
   "source": [
    "col = 'PRIORIDAD'\n",
    "raw_data_jul[col] = raw_data_jul[col].apply(lambda x: x.strip())\n",
    "raw_data_jul[col].value_counts(dropna=False)\n"
   ]
  },
  {
   "cell_type": "code",
   "execution_count": 77,
   "id": "af190100-b6e2-451e-bf92-bdb096193695",
   "metadata": {},
   "outputs": [
    {
     "data": {
      "text/plain": [
       "JULIO    14560\n",
       "Name: MES, dtype: int64"
      ]
     },
     "execution_count": 77,
     "metadata": {},
     "output_type": "execute_result"
    }
   ],
   "source": [
    "col = 'MES'\n",
    "raw_data_jul[col] = raw_data_jul[col].apply(lambda x: x.strip())\n",
    "raw_data_jul[col].value_counts(dropna=False)\n"
   ]
  },
  {
   "cell_type": "code",
   "execution_count": 78,
   "id": "6fcdd691-a910-40d7-aed8-89ed35934b91",
   "metadata": {},
   "outputs": [
    {
     "data": {
      "text/html": [
       "<div>\n",
       "<style scoped>\n",
       "    .dataframe tbody tr th:only-of-type {\n",
       "        vertical-align: middle;\n",
       "    }\n",
       "\n",
       "    .dataframe tbody tr th {\n",
       "        vertical-align: top;\n",
       "    }\n",
       "\n",
       "    .dataframe thead th {\n",
       "        text-align: right;\n",
       "    }\n",
       "</style>\n",
       "<table border=\"1\" class=\"dataframe\">\n",
       "  <thead>\n",
       "    <tr style=\"text-align: right;\">\n",
       "      <th></th>\n",
       "      <th>FECHA_INCIDENTE</th>\n",
       "      <th>FECHA_INICIO_DESPLAZAMIENTO_MOVIL</th>\n",
       "      <th>CODIGO_DE_LOCALIDAD</th>\n",
       "      <th>LOCALIDAD</th>\n",
       "      <th>EDAD</th>\n",
       "      <th>UNIDAD</th>\n",
       "      <th>GENERO</th>\n",
       "      <th>RED</th>\n",
       "      <th>TIPO_DE_INCIDENTE</th>\n",
       "      <th>PRIORIDAD</th>\n",
       "      <th>MES</th>\n",
       "      <th>CLASIFICACION_FINAL</th>\n",
       "    </tr>\n",
       "  </thead>\n",
       "  <tbody>\n",
       "    <tr>\n",
       "      <th>0</th>\n",
       "      <td>2019-07-01 00:05:08</td>\n",
       "      <td>2019-07-01 00:11:02</td>\n",
       "      <td>8</td>\n",
       "      <td>Kennedy</td>\n",
       "      <td>39</td>\n",
       "      <td>Años</td>\n",
       "      <td>FEMENINO</td>\n",
       "      <td>Norte</td>\n",
       "      <td>Dificultad Respiratoria</td>\n",
       "      <td>ALTA</td>\n",
       "      <td>JULIO</td>\n",
       "      <td>Traslado</td>\n",
       "    </tr>\n",
       "    <tr>\n",
       "      <th>1</th>\n",
       "      <td>2019-07-01 00:06:57</td>\n",
       "      <td>2019-07-01 00:12:56</td>\n",
       "      <td>19</td>\n",
       "      <td>Ciudad Bolivar</td>\n",
       "      <td>69</td>\n",
       "      <td>Años</td>\n",
       "      <td>MASCULINO</td>\n",
       "      <td>Sur</td>\n",
       "      <td>Inconsciente/Paro Cardiorrespiratorio</td>\n",
       "      <td>ALTA</td>\n",
       "      <td>JULIO</td>\n",
       "      <td>SIN_DATO</td>\n",
       "    </tr>\n",
       "    <tr>\n",
       "      <th>2</th>\n",
       "      <td>2019-07-01 00:09:26</td>\n",
       "      <td>2019-07-01 00:10:26</td>\n",
       "      <td>6</td>\n",
       "      <td>Tunjuelito</td>\n",
       "      <td>25</td>\n",
       "      <td>Años</td>\n",
       "      <td>MASCULINO</td>\n",
       "      <td>Sur</td>\n",
       "      <td>Enfermo</td>\n",
       "      <td>MEDIA</td>\n",
       "      <td>JULIO</td>\n",
       "      <td>Traslado</td>\n",
       "    </tr>\n",
       "    <tr>\n",
       "      <th>3</th>\n",
       "      <td>2019-07-01 00:14:42</td>\n",
       "      <td>2019-07-01 00:15:47</td>\n",
       "      <td>8</td>\n",
       "      <td>Kennedy</td>\n",
       "      <td>65</td>\n",
       "      <td>Años</td>\n",
       "      <td>MASCULINO</td>\n",
       "      <td>Sur</td>\n",
       "      <td>Lesiones personales</td>\n",
       "      <td>MEDIA</td>\n",
       "      <td>JULIO</td>\n",
       "      <td>Traslado</td>\n",
       "    </tr>\n",
       "    <tr>\n",
       "      <th>4</th>\n",
       "      <td>2019-07-01 00:17:13</td>\n",
       "      <td>2019-07-01 00:31:13</td>\n",
       "      <td>10</td>\n",
       "      <td>Engativa</td>\n",
       "      <td>SIN_DATO</td>\n",
       "      <td>SIN_DATO</td>\n",
       "      <td>SIN_DATO</td>\n",
       "      <td>Norte</td>\n",
       "      <td>Enfermo</td>\n",
       "      <td>MEDIA</td>\n",
       "      <td>JULIO</td>\n",
       "      <td>Cancelado</td>\n",
       "    </tr>\n",
       "  </tbody>\n",
       "</table>\n",
       "</div>"
      ],
      "text/plain": [
       "       FECHA_INCIDENTE FECHA_INICIO_DESPLAZAMIENTO_MOVIL  CODIGO_DE_LOCALIDAD  \\\n",
       "0  2019-07-01 00:05:08               2019-07-01 00:11:02                    8   \n",
       "1  2019-07-01 00:06:57               2019-07-01 00:12:56                   19   \n",
       "2  2019-07-01 00:09:26               2019-07-01 00:10:26                    6   \n",
       "3  2019-07-01 00:14:42               2019-07-01 00:15:47                    8   \n",
       "4  2019-07-01 00:17:13               2019-07-01 00:31:13                   10   \n",
       "\n",
       "         LOCALIDAD      EDAD    UNIDAD     GENERO    RED  \\\n",
       "0          Kennedy        39      Años   FEMENINO  Norte   \n",
       "1   Ciudad Bolivar        69      Años  MASCULINO    Sur   \n",
       "2       Tunjuelito        25      Años  MASCULINO    Sur   \n",
       "3          Kennedy        65      Años  MASCULINO    Sur   \n",
       "4         Engativa  SIN_DATO  SIN_DATO   SIN_DATO  Norte   \n",
       "\n",
       "                       TIPO_DE_INCIDENTE PRIORIDAD    MES CLASIFICACION_FINAL  \n",
       "0                Dificultad Respiratoria      ALTA  JULIO            Traslado  \n",
       "1  Inconsciente/Paro Cardiorrespiratorio      ALTA  JULIO            SIN_DATO  \n",
       "2                                Enfermo     MEDIA  JULIO            Traslado  \n",
       "3                    Lesiones personales     MEDIA  JULIO            Traslado  \n",
       "4                                Enfermo     MEDIA  JULIO           Cancelado  "
      ]
     },
     "execution_count": 78,
     "metadata": {},
     "output_type": "execute_result"
    }
   ],
   "source": [
    "col = 'CLASIFICACION_FINAL'\n",
    "raw_data_jul[col].value_counts(dropna=False) \n",
    "raw_data_jul[col].fillna('SIN_DATO').value_counts()\n",
    "\n",
    "col = 'CLASIFICACION_FINAL'\n",
    "raw_data_jul[col].fillna('SIN_DATO', inplace=True)\n",
    "raw_data_jul[col] = raw_data_jul[col].apply(lambda x: x.strip())\n",
    "raw_data_jul.head()\n"
   ]
  },
  {
   "cell_type": "code",
   "execution_count": 79,
   "id": "cfe0de09-2909-46d2-9a43-07f30f8ed603",
   "metadata": {},
   "outputs": [
    {
     "name": "stdout",
     "output_type": "stream",
     "text": [
      "Number of rows before cleaning: 14560\n",
      "Number of rows after cleaning: 13842\n"
     ]
    }
   ],
   "source": [
    "print('Number of rows before cleaning:', raw_data_jul.shape[0] )\n",
    "raw_data_jul.drop_duplicates(inplace=True)\n",
    "print('Number of rows after cleaning:', raw_data_jul.shape[0] )\n"
   ]
  },
  {
   "cell_type": "code",
   "execution_count": 80,
   "id": "21668b19-53c4-426e-b430-d16242ff8441",
   "metadata": {},
   "outputs": [
    {
     "name": "stdout",
     "output_type": "stream",
     "text": [
      "<class 'pandas.core.frame.DataFrame'>\n",
      "RangeIndex: 15304 entries, 0 to 15303\n",
      "Data columns (total 37 columns):\n",
      " #   Column               Non-Null Count  Dtype  \n",
      "---  ------               --------------  -----  \n",
      " 0   NUMERO_INCIDENTE     15304 non-null  object \n",
      " 1   FECHA_DESPACHO_518   15304 non-null  object \n",
      " 2   CODIGO DE LOCALIDAD  15304 non-null  int64  \n",
      " 3   LOCALIDAD            15304 non-null  object \n",
      " 4   EDAD                 15304 non-null  int64  \n",
      " 5   UNIDAD               15304 non-null  object \n",
      " 6   GENERO               15304 non-null  object \n",
      " 7   RED                  15304 non-null  object \n",
      " 8   TIPO_INCIDENTE       15304 non-null  object \n",
      " 9   PRIORIDAD            15304 non-null  int64  \n",
      " 10  Unnamed: 10          0 non-null      float64\n",
      " 11  Unnamed: 11          0 non-null      float64\n",
      " 12  Unnamed: 12          0 non-null      float64\n",
      " 13  Unnamed: 13          0 non-null      float64\n",
      " 14  Unnamed: 14          0 non-null      float64\n",
      " 15  Unnamed: 15          0 non-null      float64\n",
      " 16  Unnamed: 16          0 non-null      float64\n",
      " 17  Unnamed: 17          0 non-null      float64\n",
      " 18  Unnamed: 18          0 non-null      float64\n",
      " 19  Unnamed: 19          0 non-null      float64\n",
      " 20  Unnamed: 20          0 non-null      float64\n",
      " 21  Unnamed: 21          0 non-null      float64\n",
      " 22  Unnamed: 22          0 non-null      float64\n",
      " 23  Unnamed: 23          0 non-null      float64\n",
      " 24  Unnamed: 24          0 non-null      float64\n",
      " 25  Unnamed: 25          0 non-null      float64\n",
      " 26  Unnamed: 26          0 non-null      float64\n",
      " 27  Unnamed: 27          0 non-null      float64\n",
      " 28  Unnamed: 28          0 non-null      float64\n",
      " 29  Unnamed: 29          0 non-null      float64\n",
      " 30  Unnamed: 30          0 non-null      float64\n",
      " 31  Unnamed: 31          0 non-null      float64\n",
      " 32  Unnamed: 32          0 non-null      float64\n",
      " 33  Unnamed: 33          0 non-null      float64\n",
      " 34  Unnamed: 34          0 non-null      float64\n",
      " 35  Unnamed: 35          0 non-null      float64\n",
      " 36  Unnamed: 36          0 non-null      float64\n",
      "dtypes: float64(27), int64(3), object(7)\n",
      "memory usage: 4.3+ MB\n",
      "None\n"
     ]
    }
   ],
   "source": [
    "raw_data_ene = get_input_data(bucket='especializacion_daba',filename ='datos-abiertos-enero_2020.csv')\n",
    "print(raw_data_ene.info())"
   ]
  },
  {
   "cell_type": "code",
   "execution_count": 81,
   "id": "c22dbfc9-89e7-4358-9076-661ae8d899be",
   "metadata": {},
   "outputs": [
    {
     "data": {
      "text/html": [
       "<div>\n",
       "<style scoped>\n",
       "    .dataframe tbody tr th:only-of-type {\n",
       "        vertical-align: middle;\n",
       "    }\n",
       "\n",
       "    .dataframe tbody tr th {\n",
       "        vertical-align: top;\n",
       "    }\n",
       "\n",
       "    .dataframe thead th {\n",
       "        text-align: right;\n",
       "    }\n",
       "</style>\n",
       "<table border=\"1\" class=\"dataframe\">\n",
       "  <thead>\n",
       "    <tr style=\"text-align: right;\">\n",
       "      <th></th>\n",
       "      <th>NUMERO_INCIDENTE</th>\n",
       "      <th>FECHA_DE_DESPACHO</th>\n",
       "      <th>CODIGO_DE_LOCALIDAD</th>\n",
       "      <th>LOCALIDAD</th>\n",
       "      <th>EDAD</th>\n",
       "      <th>UNIDAD</th>\n",
       "      <th>GENERO</th>\n",
       "      <th>RED</th>\n",
       "      <th>TIPO_DE_INCIDENTE</th>\n",
       "      <th>PRIORIDAD</th>\n",
       "      <th>...</th>\n",
       "      <th>Unnamed: 27</th>\n",
       "      <th>Unnamed: 28</th>\n",
       "      <th>Unnamed: 29</th>\n",
       "      <th>Unnamed: 30</th>\n",
       "      <th>Unnamed: 31</th>\n",
       "      <th>Unnamed: 32</th>\n",
       "      <th>Unnamed: 33</th>\n",
       "      <th>Unnamed: 34</th>\n",
       "      <th>Unnamed: 35</th>\n",
       "      <th>Unnamed: 36</th>\n",
       "    </tr>\n",
       "  </thead>\n",
       "  <tbody>\n",
       "    <tr>\n",
       "      <th>0</th>\n",
       "      <td>CRU-00000002-20</td>\n",
       "      <td>2020-01-01 00:13:40</td>\n",
       "      <td>19</td>\n",
       "      <td>Ciudad Bolívar</td>\n",
       "      <td>0</td>\n",
       "      <td>SIN_DATO</td>\n",
       "      <td>SIN_DATO</td>\n",
       "      <td>Sur</td>\n",
       "      <td>Heridos</td>\n",
       "      <td>2</td>\n",
       "      <td>...</td>\n",
       "      <td>NaN</td>\n",
       "      <td>NaN</td>\n",
       "      <td>NaN</td>\n",
       "      <td>NaN</td>\n",
       "      <td>NaN</td>\n",
       "      <td>NaN</td>\n",
       "      <td>NaN</td>\n",
       "      <td>NaN</td>\n",
       "      <td>NaN</td>\n",
       "      <td>NaN</td>\n",
       "    </tr>\n",
       "    <tr>\n",
       "      <th>1</th>\n",
       "      <td>CRU-00000002-20</td>\n",
       "      <td>2020-01-01 00:13:40</td>\n",
       "      <td>19</td>\n",
       "      <td>Ciudad Bolívar</td>\n",
       "      <td>0</td>\n",
       "      <td>SIN_DATO</td>\n",
       "      <td>SIN_DATO</td>\n",
       "      <td>Sur</td>\n",
       "      <td>Heridos</td>\n",
       "      <td>2</td>\n",
       "      <td>...</td>\n",
       "      <td>NaN</td>\n",
       "      <td>NaN</td>\n",
       "      <td>NaN</td>\n",
       "      <td>NaN</td>\n",
       "      <td>NaN</td>\n",
       "      <td>NaN</td>\n",
       "      <td>NaN</td>\n",
       "      <td>NaN</td>\n",
       "      <td>NaN</td>\n",
       "      <td>NaN</td>\n",
       "    </tr>\n",
       "    <tr>\n",
       "      <th>2</th>\n",
       "      <td>CRU-00000005-20</td>\n",
       "      <td>2020-01-01 00:15:14</td>\n",
       "      <td>14</td>\n",
       "      <td>Los Mártires</td>\n",
       "      <td>0</td>\n",
       "      <td>SIN_DATO</td>\n",
       "      <td>SIN_DATO</td>\n",
       "      <td>Norte</td>\n",
       "      <td>Inconsciente/Paro Cardiorrespiratorio</td>\n",
       "      <td>1</td>\n",
       "      <td>...</td>\n",
       "      <td>NaN</td>\n",
       "      <td>NaN</td>\n",
       "      <td>NaN</td>\n",
       "      <td>NaN</td>\n",
       "      <td>NaN</td>\n",
       "      <td>NaN</td>\n",
       "      <td>NaN</td>\n",
       "      <td>NaN</td>\n",
       "      <td>NaN</td>\n",
       "      <td>NaN</td>\n",
       "    </tr>\n",
       "    <tr>\n",
       "      <th>3</th>\n",
       "      <td>CRU-00000024-20</td>\n",
       "      <td>2020-01-01 00:20:50</td>\n",
       "      <td>11</td>\n",
       "      <td>Suba</td>\n",
       "      <td>58</td>\n",
       "      <td>Años</td>\n",
       "      <td>MASCULINO</td>\n",
       "      <td>Norte</td>\n",
       "      <td>Inconsciente/Paro Cardiorrespiratorio</td>\n",
       "      <td>1</td>\n",
       "      <td>...</td>\n",
       "      <td>NaN</td>\n",
       "      <td>NaN</td>\n",
       "      <td>NaN</td>\n",
       "      <td>NaN</td>\n",
       "      <td>NaN</td>\n",
       "      <td>NaN</td>\n",
       "      <td>NaN</td>\n",
       "      <td>NaN</td>\n",
       "      <td>NaN</td>\n",
       "      <td>NaN</td>\n",
       "    </tr>\n",
       "    <tr>\n",
       "      <th>4</th>\n",
       "      <td>CRU-00000036-20</td>\n",
       "      <td>2020-01-01 00:26:05</td>\n",
       "      <td>10</td>\n",
       "      <td>Engativá</td>\n",
       "      <td>0</td>\n",
       "      <td>SIN_DATO</td>\n",
       "      <td>SIN_DATO</td>\n",
       "      <td>Norte</td>\n",
       "      <td>Inconsciente/Paro Cardiorrespiratorio</td>\n",
       "      <td>1</td>\n",
       "      <td>...</td>\n",
       "      <td>NaN</td>\n",
       "      <td>NaN</td>\n",
       "      <td>NaN</td>\n",
       "      <td>NaN</td>\n",
       "      <td>NaN</td>\n",
       "      <td>NaN</td>\n",
       "      <td>NaN</td>\n",
       "      <td>NaN</td>\n",
       "      <td>NaN</td>\n",
       "      <td>NaN</td>\n",
       "    </tr>\n",
       "  </tbody>\n",
       "</table>\n",
       "<p>5 rows × 37 columns</p>\n",
       "</div>"
      ],
      "text/plain": [
       "  NUMERO_INCIDENTE    FECHA_DE_DESPACHO  CODIGO_DE_LOCALIDAD        LOCALIDAD  \\\n",
       "0  CRU-00000002-20  2020-01-01 00:13:40                   19   Ciudad Bolívar   \n",
       "1  CRU-00000002-20  2020-01-01 00:13:40                   19   Ciudad Bolívar   \n",
       "2  CRU-00000005-20  2020-01-01 00:15:14                   14     Los Mártires   \n",
       "3  CRU-00000024-20  2020-01-01 00:20:50                   11             Suba   \n",
       "4  CRU-00000036-20  2020-01-01 00:26:05                   10         Engativá   \n",
       "\n",
       "   EDAD    UNIDAD     GENERO    RED                       TIPO_DE_INCIDENTE  \\\n",
       "0     0  SIN_DATO   SIN_DATO    Sur                                Heridos    \n",
       "1     0  SIN_DATO   SIN_DATO    Sur                                Heridos    \n",
       "2     0  SIN_DATO   SIN_DATO  Norte  Inconsciente/Paro Cardiorrespiratorio    \n",
       "3    58      Años  MASCULINO  Norte  Inconsciente/Paro Cardiorrespiratorio    \n",
       "4     0  SIN_DATO   SIN_DATO  Norte  Inconsciente/Paro Cardiorrespiratorio    \n",
       "\n",
       "   PRIORIDAD  ...  Unnamed: 27  Unnamed: 28  Unnamed: 29  Unnamed: 30  \\\n",
       "0          2  ...          NaN          NaN          NaN          NaN   \n",
       "1          2  ...          NaN          NaN          NaN          NaN   \n",
       "2          1  ...          NaN          NaN          NaN          NaN   \n",
       "3          1  ...          NaN          NaN          NaN          NaN   \n",
       "4          1  ...          NaN          NaN          NaN          NaN   \n",
       "\n",
       "   Unnamed: 31  Unnamed: 32  Unnamed: 33  Unnamed: 34  Unnamed: 35  \\\n",
       "0          NaN          NaN          NaN          NaN          NaN   \n",
       "1          NaN          NaN          NaN          NaN          NaN   \n",
       "2          NaN          NaN          NaN          NaN          NaN   \n",
       "3          NaN          NaN          NaN          NaN          NaN   \n",
       "4          NaN          NaN          NaN          NaN          NaN   \n",
       "\n",
       "   Unnamed: 36  \n",
       "0          NaN  \n",
       "1          NaN  \n",
       "2          NaN  \n",
       "3          NaN  \n",
       "4          NaN  \n",
       "\n",
       "[5 rows x 37 columns]"
      ]
     },
     "execution_count": 81,
     "metadata": {},
     "output_type": "execute_result"
    }
   ],
   "source": [
    "raw_data_ene.rename(\n",
    "    columns = {\n",
    "        'FECHA_INICIO_DESPLAZAMIENTO-MOVIL' : 'FECHA_INICIO_DESPLAZAMIENTO_MOVIL',\n",
    "        'CODIGO DE LOCALIDAD'               : 'CODIGO_DE_LOCALIDAD',\n",
    "        'TIPO_INCIDENTE'               : 'TIPO_DE_INCIDENTE',\n",
    "        'CLASIFICACION FINAL'               : 'CLASIFICACION_FINAL',\n",
    "        'FECHA_DESPACHO_518'               : 'FECHA_DE_DESPACHO'        \n",
    "    },\n",
    "    inplace=True\n",
    ")\n",
    "raw_data_ene.head()"
   ]
  },
  {
   "cell_type": "code",
   "execution_count": 82,
   "id": "ac31e4b4-aa12-494a-83a3-02838b09472d",
   "metadata": {},
   "outputs": [
    {
     "data": {
      "text/plain": [
       "Kennedy               2116\n",
       "Engativá              1473\n",
       "Suba                  1465\n",
       "Bosa                  1072\n",
       "Ciudad Bolívar        1022\n",
       "Puente Aranda          942\n",
       "Fontibón               812\n",
       "Usaquén                786\n",
       "San Cristóbal          746\n",
       "Rafael Uribe Uribe     737\n",
       "Usme                   678\n",
       "Tunjuelito             550\n",
       "Santa Fe               541\n",
       "Teusaquillo            527\n",
       "Barrios Unidos         506\n",
       "Chapinero              498\n",
       "Los Mártires           446\n",
       "Antonio Nariño         320\n",
       "La Candelaria           64\n",
       "Sumapaz                  3\n",
       "Name: LOCALIDAD, dtype: int64"
      ]
     },
     "execution_count": 82,
     "metadata": {},
     "output_type": "execute_result"
    }
   ],
   "source": [
    "raw_data_ene['LOCALIDAD'].value_counts(dropna=False)\n",
    "\n",
    "raw_data_ene['LOCALIDAD'].apply(\n",
    "    lambda x: x.strip()        \n",
    ").value_counts()"
   ]
  },
  {
   "cell_type": "code",
   "execution_count": 83,
   "id": "afee32b8-caf3-4047-a281-9b00b15c4aa8",
   "metadata": {},
   "outputs": [
    {
     "name": "stdout",
     "output_type": "stream",
     "text": [
      "2019-09-01 12:00:00 <class 'pandas._libs.tslibs.timestamps.Timestamp'>\n"
     ]
    },
    {
     "data": {
      "text/plain": [
       "<bound method IndexOpsMixin.value_counts of 0       2020-01-01 00:13:40\n",
       "1       2020-01-01 00:13:40\n",
       "2       2020-01-01 00:15:14\n",
       "3       2020-01-01 00:20:50\n",
       "4       2020-01-01 00:26:05\n",
       "                ...        \n",
       "15299   2020-02-01 00:03:14\n",
       "15300   2020-02-01 00:03:58\n",
       "15301   2020-02-01 00:10:45\n",
       "15302   2020-02-01 00:55:15\n",
       "15303   2020-02-01 01:19:50\n",
       "Name: FECHA_DE_DESPACHO, Length: 15304, dtype: datetime64[ns]>"
      ]
     },
     "execution_count": 83,
     "metadata": {},
     "output_type": "execute_result"
    }
   ],
   "source": [
    "raw_data_ene['FECHA_DE_DESPACHO'].value_counts(dropna=False)\n",
    "\n",
    "date_time='2019/09/01 12:00:00'\n",
    "date_time=pd.to_datetime(date_time, format='%Y/%m/%d %H:%M:%S')\n",
    "print (date_time, type (date_time))\n",
    "\n",
    "col = 'FECHA_DE_DESPACHO'\n",
    "raw_data_ene[col] = pd.to_datetime(raw_data_ene[col], format='%Y/%m/%d %H:%M:%S') \n",
    "raw_data_ene[col].value_counts\n",
    "# raw_data_ago.head()\n"
   ]
  },
  {
   "cell_type": "code",
   "execution_count": 84,
   "id": "e4089fa5-c9f9-4dd2-a8e7-e43b9aa19a60",
   "metadata": {},
   "outputs": [
    {
     "data": {
      "text/plain": [
       "SIN_DATO     7003\n",
       "MASCULINO    4521\n",
       "FEMENINO     3780\n",
       "Name: GENERO, dtype: int64"
      ]
     },
     "execution_count": 84,
     "metadata": {},
     "output_type": "execute_result"
    }
   ],
   "source": [
    "col = 'GENERO'\n",
    "raw_data_ene[col].value_counts(dropna=False) \n",
    "raw_data_ene[col].fillna('SIN_DATO').value_counts()"
   ]
  },
  {
   "cell_type": "code",
   "execution_count": 85,
   "id": "08547381-a13b-4c63-b055-a9990c9318be",
   "metadata": {},
   "outputs": [
    {
     "data": {
      "text/plain": [
       "Heridos                                  6849\n",
       "Inconsciente/Paro Cardiorrespiratorio    1520\n",
       "Dificultad Respiratoria                  1359\n",
       "Enfermo                                  1045\n",
       "Convulsiones                              994\n",
       "Trastorno mental                          661\n",
       "Dolor torácico                            634\n",
       "Intento de suicidio                       503\n",
       "Accidente cerebro vascular                374\n",
       "Patología Gineco - obstétrica             331\n",
       "Síntomas gastrointestinales               331\n",
       "Caída                                     320\n",
       "Intoxicaciones                            138\n",
       "Ideas de suicidio                          99\n",
       "SIN_DATO                                   80\n",
       "Violencia Sexual                           34\n",
       "Quemaduras                                 10\n",
       "Sangrado Vaginal                            8\n",
       "Maltrato                                    7\n",
       "Electrocución / Rescate                     7\n",
       "Name: TIPO_DE_INCIDENTE, dtype: int64"
      ]
     },
     "execution_count": 85,
     "metadata": {},
     "output_type": "execute_result"
    }
   ],
   "source": [
    "col = 'TIPO_DE_INCIDENTE'\n",
    "raw_data_ene[col] = raw_data_ene[col].apply(lambda x: x.strip())\n",
    "raw_data_ene[col].value_counts(dropna=False)"
   ]
  },
  {
   "cell_type": "code",
   "execution_count": 86,
   "id": "871cd0ac-d55d-4135-aeff-bef0c7b767b3",
   "metadata": {},
   "outputs": [
    {
     "data": {
      "text/plain": [
       "Años        8259\n",
       "SIN_DATO    7003\n",
       "Meses         34\n",
       "Horas          5\n",
       "Dias           3\n",
       "Name: UNIDAD, dtype: int64"
      ]
     },
     "execution_count": 86,
     "metadata": {},
     "output_type": "execute_result"
    }
   ],
   "source": [
    "col = 'UNIDAD'\n",
    "raw_data_ene[col].value_counts(dropna=False) \n",
    "raw_data_ene[col].fillna('SIN_DATO').value_counts()"
   ]
  },
  {
   "cell_type": "code",
   "execution_count": 87,
   "id": "08fe693b-c692-446b-8a5c-25bf27621ce7",
   "metadata": {},
   "outputs": [
    {
     "data": {
      "text/plain": [
       "Norte      6155\n",
       "Sur        5291\n",
       "Privada    3858\n",
       "Name: RED, dtype: int64"
      ]
     },
     "execution_count": 87,
     "metadata": {},
     "output_type": "execute_result"
    }
   ],
   "source": [
    "col = 'RED'\n",
    "raw_data_ene[col] = raw_data_ene[col].apply(lambda x: x.strip())\n",
    "raw_data_ene[col].value_counts(dropna=False) "
   ]
  },
  {
   "cell_type": "code",
   "execution_count": 88,
   "id": "e69e9a0b-803d-45c6-addb-8e6f3ceeb319",
   "metadata": {},
   "outputs": [
    {
     "data": {
      "text/plain": [
       "2    10084\n",
       "1     3017\n",
       "3     2048\n",
       "4      155\n",
       "Name: PRIORIDAD, dtype: int64"
      ]
     },
     "execution_count": 88,
     "metadata": {},
     "output_type": "execute_result"
    }
   ],
   "source": [
    "col = 'PRIORIDAD'\n",
    "raw_data_ene[col].value_counts(dropna=False) \n",
    "raw_data_ene[col].fillna('SIN_DATO, SIN_D').value_counts()"
   ]
  },
  {
   "cell_type": "code",
   "execution_count": 89,
   "id": "ad23aec5-bb2b-4e0e-b595-1702eee1195d",
   "metadata": {},
   "outputs": [
    {
     "name": "stdout",
     "output_type": "stream",
     "text": [
      "Number of rows before cleaning: 15304\n",
      "Number of rows after cleaning: 15240\n"
     ]
    }
   ],
   "source": [
    "print('Number of rows before cleaning:', raw_data_ene.shape[0] )\n",
    "raw_data_ene.drop_duplicates(inplace=True)\n",
    "print('Number of rows after cleaning:', raw_data_ene.shape[0] )"
   ]
  },
  {
   "cell_type": "code",
   "execution_count": 90,
   "id": "883900cb-04e4-455d-ab0f-f7488d2c2cb3",
   "metadata": {},
   "outputs": [
    {
     "data": {
      "text/html": [
       "<div>\n",
       "<style scoped>\n",
       "    .dataframe tbody tr th:only-of-type {\n",
       "        vertical-align: middle;\n",
       "    }\n",
       "\n",
       "    .dataframe tbody tr th {\n",
       "        vertical-align: top;\n",
       "    }\n",
       "\n",
       "    .dataframe thead th {\n",
       "        text-align: right;\n",
       "    }\n",
       "</style>\n",
       "<table border=\"1\" class=\"dataframe\">\n",
       "  <thead>\n",
       "    <tr style=\"text-align: right;\">\n",
       "      <th></th>\n",
       "      <th>FECHA_INCIDENTE</th>\n",
       "      <th>FECHA_INICIO_DESPLAZAMIENTO_MOVIL</th>\n",
       "      <th>CODIGO_DE_LOCALIDAD</th>\n",
       "      <th>LOCALIDAD</th>\n",
       "      <th>EDAD</th>\n",
       "      <th>UNIDAD</th>\n",
       "      <th>GENERO</th>\n",
       "      <th>RED</th>\n",
       "      <th>TIPO_DE_INCIDENTE</th>\n",
       "      <th>PRIORIDAD</th>\n",
       "      <th>...</th>\n",
       "      <th>Unnamed: 27</th>\n",
       "      <th>Unnamed: 28</th>\n",
       "      <th>Unnamed: 29</th>\n",
       "      <th>Unnamed: 30</th>\n",
       "      <th>Unnamed: 31</th>\n",
       "      <th>Unnamed: 32</th>\n",
       "      <th>Unnamed: 33</th>\n",
       "      <th>Unnamed: 34</th>\n",
       "      <th>Unnamed: 35</th>\n",
       "      <th>Unnamed: 36</th>\n",
       "    </tr>\n",
       "  </thead>\n",
       "  <tbody>\n",
       "    <tr>\n",
       "      <th>0</th>\n",
       "      <td>2019-07-01 00:05:08</td>\n",
       "      <td>2019-07-01 00:11:02</td>\n",
       "      <td>8</td>\n",
       "      <td>Kennedy</td>\n",
       "      <td>39</td>\n",
       "      <td>Años</td>\n",
       "      <td>FEMENINO</td>\n",
       "      <td>Norte</td>\n",
       "      <td>Dificultad Respiratoria</td>\n",
       "      <td>ALTA</td>\n",
       "      <td>...</td>\n",
       "      <td>NaN</td>\n",
       "      <td>NaN</td>\n",
       "      <td>NaN</td>\n",
       "      <td>NaN</td>\n",
       "      <td>NaN</td>\n",
       "      <td>NaN</td>\n",
       "      <td>NaN</td>\n",
       "      <td>NaN</td>\n",
       "      <td>NaN</td>\n",
       "      <td>NaN</td>\n",
       "    </tr>\n",
       "    <tr>\n",
       "      <th>1</th>\n",
       "      <td>2019-07-01 00:06:57</td>\n",
       "      <td>2019-07-01 00:12:56</td>\n",
       "      <td>19</td>\n",
       "      <td>Ciudad Bolivar</td>\n",
       "      <td>69</td>\n",
       "      <td>Años</td>\n",
       "      <td>MASCULINO</td>\n",
       "      <td>Sur</td>\n",
       "      <td>Inconsciente/Paro Cardiorrespiratorio</td>\n",
       "      <td>ALTA</td>\n",
       "      <td>...</td>\n",
       "      <td>NaN</td>\n",
       "      <td>NaN</td>\n",
       "      <td>NaN</td>\n",
       "      <td>NaN</td>\n",
       "      <td>NaN</td>\n",
       "      <td>NaN</td>\n",
       "      <td>NaN</td>\n",
       "      <td>NaN</td>\n",
       "      <td>NaN</td>\n",
       "      <td>NaN</td>\n",
       "    </tr>\n",
       "    <tr>\n",
       "      <th>2</th>\n",
       "      <td>2019-07-01 00:09:26</td>\n",
       "      <td>2019-07-01 00:10:26</td>\n",
       "      <td>6</td>\n",
       "      <td>Tunjuelito</td>\n",
       "      <td>25</td>\n",
       "      <td>Años</td>\n",
       "      <td>MASCULINO</td>\n",
       "      <td>Sur</td>\n",
       "      <td>Enfermo</td>\n",
       "      <td>MEDIA</td>\n",
       "      <td>...</td>\n",
       "      <td>NaN</td>\n",
       "      <td>NaN</td>\n",
       "      <td>NaN</td>\n",
       "      <td>NaN</td>\n",
       "      <td>NaN</td>\n",
       "      <td>NaN</td>\n",
       "      <td>NaN</td>\n",
       "      <td>NaN</td>\n",
       "      <td>NaN</td>\n",
       "      <td>NaN</td>\n",
       "    </tr>\n",
       "    <tr>\n",
       "      <th>3</th>\n",
       "      <td>2019-07-01 00:14:42</td>\n",
       "      <td>2019-07-01 00:15:47</td>\n",
       "      <td>8</td>\n",
       "      <td>Kennedy</td>\n",
       "      <td>65</td>\n",
       "      <td>Años</td>\n",
       "      <td>MASCULINO</td>\n",
       "      <td>Sur</td>\n",
       "      <td>Lesiones personales</td>\n",
       "      <td>MEDIA</td>\n",
       "      <td>...</td>\n",
       "      <td>NaN</td>\n",
       "      <td>NaN</td>\n",
       "      <td>NaN</td>\n",
       "      <td>NaN</td>\n",
       "      <td>NaN</td>\n",
       "      <td>NaN</td>\n",
       "      <td>NaN</td>\n",
       "      <td>NaN</td>\n",
       "      <td>NaN</td>\n",
       "      <td>NaN</td>\n",
       "    </tr>\n",
       "    <tr>\n",
       "      <th>4</th>\n",
       "      <td>2019-07-01 00:17:13</td>\n",
       "      <td>2019-07-01 00:31:13</td>\n",
       "      <td>10</td>\n",
       "      <td>Engativa</td>\n",
       "      <td>SIN_DATO</td>\n",
       "      <td>SIN_DATO</td>\n",
       "      <td>SIN_DATO</td>\n",
       "      <td>Norte</td>\n",
       "      <td>Enfermo</td>\n",
       "      <td>MEDIA</td>\n",
       "      <td>...</td>\n",
       "      <td>NaN</td>\n",
       "      <td>NaN</td>\n",
       "      <td>NaN</td>\n",
       "      <td>NaN</td>\n",
       "      <td>NaN</td>\n",
       "      <td>NaN</td>\n",
       "      <td>NaN</td>\n",
       "      <td>NaN</td>\n",
       "      <td>NaN</td>\n",
       "      <td>NaN</td>\n",
       "    </tr>\n",
       "    <tr>\n",
       "      <th>...</th>\n",
       "      <td>...</td>\n",
       "      <td>...</td>\n",
       "      <td>...</td>\n",
       "      <td>...</td>\n",
       "      <td>...</td>\n",
       "      <td>...</td>\n",
       "      <td>...</td>\n",
       "      <td>...</td>\n",
       "      <td>...</td>\n",
       "      <td>...</td>\n",
       "      <td>...</td>\n",
       "      <td>...</td>\n",
       "      <td>...</td>\n",
       "      <td>...</td>\n",
       "      <td>...</td>\n",
       "      <td>...</td>\n",
       "      <td>...</td>\n",
       "      <td>...</td>\n",
       "      <td>...</td>\n",
       "      <td>...</td>\n",
       "      <td>...</td>\n",
       "    </tr>\n",
       "    <tr>\n",
       "      <th>15299</th>\n",
       "      <td>NaN</td>\n",
       "      <td>NaT</td>\n",
       "      <td>18</td>\n",
       "      <td>Rafael Uribe Uribe</td>\n",
       "      <td>89</td>\n",
       "      <td>Años</td>\n",
       "      <td>FEMENINO</td>\n",
       "      <td>Sur</td>\n",
       "      <td>Síntomas gastrointestinales</td>\n",
       "      <td>3</td>\n",
       "      <td>...</td>\n",
       "      <td>NaN</td>\n",
       "      <td>NaN</td>\n",
       "      <td>NaN</td>\n",
       "      <td>NaN</td>\n",
       "      <td>NaN</td>\n",
       "      <td>NaN</td>\n",
       "      <td>NaN</td>\n",
       "      <td>NaN</td>\n",
       "      <td>NaN</td>\n",
       "      <td>NaN</td>\n",
       "    </tr>\n",
       "    <tr>\n",
       "      <th>15300</th>\n",
       "      <td>NaN</td>\n",
       "      <td>NaT</td>\n",
       "      <td>1</td>\n",
       "      <td>Usaquén</td>\n",
       "      <td>0</td>\n",
       "      <td>SIN_DATO</td>\n",
       "      <td>SIN_DATO</td>\n",
       "      <td>Norte</td>\n",
       "      <td>Intento de suicidio</td>\n",
       "      <td>2</td>\n",
       "      <td>...</td>\n",
       "      <td>NaN</td>\n",
       "      <td>NaN</td>\n",
       "      <td>NaN</td>\n",
       "      <td>NaN</td>\n",
       "      <td>NaN</td>\n",
       "      <td>NaN</td>\n",
       "      <td>NaN</td>\n",
       "      <td>NaN</td>\n",
       "      <td>NaN</td>\n",
       "      <td>NaN</td>\n",
       "    </tr>\n",
       "    <tr>\n",
       "      <th>15301</th>\n",
       "      <td>NaN</td>\n",
       "      <td>NaT</td>\n",
       "      <td>19</td>\n",
       "      <td>Ciudad Bolívar</td>\n",
       "      <td>46</td>\n",
       "      <td>Años</td>\n",
       "      <td>MASCULINO</td>\n",
       "      <td>Sur</td>\n",
       "      <td>Trastorno mental</td>\n",
       "      <td>3</td>\n",
       "      <td>...</td>\n",
       "      <td>NaN</td>\n",
       "      <td>NaN</td>\n",
       "      <td>NaN</td>\n",
       "      <td>NaN</td>\n",
       "      <td>NaN</td>\n",
       "      <td>NaN</td>\n",
       "      <td>NaN</td>\n",
       "      <td>NaN</td>\n",
       "      <td>NaN</td>\n",
       "      <td>NaN</td>\n",
       "    </tr>\n",
       "    <tr>\n",
       "      <th>15302</th>\n",
       "      <td>NaN</td>\n",
       "      <td>NaT</td>\n",
       "      <td>19</td>\n",
       "      <td>Ciudad Bolívar</td>\n",
       "      <td>0</td>\n",
       "      <td>SIN_DATO</td>\n",
       "      <td>SIN_DATO</td>\n",
       "      <td>Sur</td>\n",
       "      <td>Trastorno mental</td>\n",
       "      <td>3</td>\n",
       "      <td>...</td>\n",
       "      <td>NaN</td>\n",
       "      <td>NaN</td>\n",
       "      <td>NaN</td>\n",
       "      <td>NaN</td>\n",
       "      <td>NaN</td>\n",
       "      <td>NaN</td>\n",
       "      <td>NaN</td>\n",
       "      <td>NaN</td>\n",
       "      <td>NaN</td>\n",
       "      <td>NaN</td>\n",
       "    </tr>\n",
       "    <tr>\n",
       "      <th>15303</th>\n",
       "      <td>NaN</td>\n",
       "      <td>NaT</td>\n",
       "      <td>8</td>\n",
       "      <td>Kennedy</td>\n",
       "      <td>16</td>\n",
       "      <td>Años</td>\n",
       "      <td>MASCULINO</td>\n",
       "      <td>Sur</td>\n",
       "      <td>Trastorno mental</td>\n",
       "      <td>3</td>\n",
       "      <td>...</td>\n",
       "      <td>NaN</td>\n",
       "      <td>NaN</td>\n",
       "      <td>NaN</td>\n",
       "      <td>NaN</td>\n",
       "      <td>NaN</td>\n",
       "      <td>NaN</td>\n",
       "      <td>NaN</td>\n",
       "      <td>NaN</td>\n",
       "      <td>NaN</td>\n",
       "      <td>NaN</td>\n",
       "    </tr>\n",
       "  </tbody>\n",
       "</table>\n",
       "<p>112097 rows × 41 columns</p>\n",
       "</div>"
      ],
      "text/plain": [
       "           FECHA_INCIDENTE FECHA_INICIO_DESPLAZAMIENTO_MOVIL  \\\n",
       "0      2019-07-01 00:05:08               2019-07-01 00:11:02   \n",
       "1      2019-07-01 00:06:57               2019-07-01 00:12:56   \n",
       "2      2019-07-01 00:09:26               2019-07-01 00:10:26   \n",
       "3      2019-07-01 00:14:42               2019-07-01 00:15:47   \n",
       "4      2019-07-01 00:17:13               2019-07-01 00:31:13   \n",
       "...                    ...                               ...   \n",
       "15299                  NaN                               NaT   \n",
       "15300                  NaN                               NaT   \n",
       "15301                  NaN                               NaT   \n",
       "15302                  NaN                               NaT   \n",
       "15303                  NaN                               NaT   \n",
       "\n",
       "       CODIGO_DE_LOCALIDAD           LOCALIDAD      EDAD    UNIDAD     GENERO  \\\n",
       "0                        8             Kennedy        39      Años   FEMENINO   \n",
       "1                       19      Ciudad Bolivar        69      Años  MASCULINO   \n",
       "2                        6          Tunjuelito        25      Años  MASCULINO   \n",
       "3                        8             Kennedy        65      Años  MASCULINO   \n",
       "4                       10            Engativa  SIN_DATO  SIN_DATO   SIN_DATO   \n",
       "...                    ...                 ...       ...       ...        ...   \n",
       "15299                   18  Rafael Uribe Uribe        89      Años   FEMENINO   \n",
       "15300                    1             Usaquén         0  SIN_DATO   SIN_DATO   \n",
       "15301                   19      Ciudad Bolívar        46      Años  MASCULINO   \n",
       "15302                   19      Ciudad Bolívar         0  SIN_DATO   SIN_DATO   \n",
       "15303                    8             Kennedy        16      Años  MASCULINO   \n",
       "\n",
       "         RED                      TIPO_DE_INCIDENTE PRIORIDAD  ...  \\\n",
       "0      Norte                Dificultad Respiratoria      ALTA  ...   \n",
       "1        Sur  Inconsciente/Paro Cardiorrespiratorio      ALTA  ...   \n",
       "2        Sur                                Enfermo     MEDIA  ...   \n",
       "3        Sur                    Lesiones personales     MEDIA  ...   \n",
       "4      Norte                                Enfermo     MEDIA  ...   \n",
       "...      ...                                    ...       ...  ...   \n",
       "15299    Sur            Síntomas gastrointestinales         3  ...   \n",
       "15300  Norte                    Intento de suicidio         2  ...   \n",
       "15301    Sur                       Trastorno mental         3  ...   \n",
       "15302    Sur                       Trastorno mental         3  ...   \n",
       "15303    Sur                       Trastorno mental         3  ...   \n",
       "\n",
       "      Unnamed: 27 Unnamed: 28 Unnamed: 29 Unnamed: 30  Unnamed: 31  \\\n",
       "0             NaN         NaN         NaN         NaN          NaN   \n",
       "1             NaN         NaN         NaN         NaN          NaN   \n",
       "2             NaN         NaN         NaN         NaN          NaN   \n",
       "3             NaN         NaN         NaN         NaN          NaN   \n",
       "4             NaN         NaN         NaN         NaN          NaN   \n",
       "...           ...         ...         ...         ...          ...   \n",
       "15299         NaN         NaN         NaN         NaN          NaN   \n",
       "15300         NaN         NaN         NaN         NaN          NaN   \n",
       "15301         NaN         NaN         NaN         NaN          NaN   \n",
       "15302         NaN         NaN         NaN         NaN          NaN   \n",
       "15303         NaN         NaN         NaN         NaN          NaN   \n",
       "\n",
       "       Unnamed: 32  Unnamed: 33  Unnamed: 34  Unnamed: 35  Unnamed: 36  \n",
       "0              NaN          NaN          NaN          NaN          NaN  \n",
       "1              NaN          NaN          NaN          NaN          NaN  \n",
       "2              NaN          NaN          NaN          NaN          NaN  \n",
       "3              NaN          NaN          NaN          NaN          NaN  \n",
       "4              NaN          NaN          NaN          NaN          NaN  \n",
       "...            ...          ...          ...          ...          ...  \n",
       "15299          NaN          NaN          NaN          NaN          NaN  \n",
       "15300          NaN          NaN          NaN          NaN          NaN  \n",
       "15301          NaN          NaN          NaN          NaN          NaN  \n",
       "15302          NaN          NaN          NaN          NaN          NaN  \n",
       "15303          NaN          NaN          NaN          NaN          NaN  \n",
       "\n",
       "[112097 rows x 41 columns]"
      ]
     },
     "metadata": {},
     "output_type": "display_data"
    }
   ],
   "source": [
    "data_total = pd.concat([raw_data_jul, raw_data_ago, raw_data_sep, raw_data_oct, raw_data_nov, raw_data_dic, raw_data_ene], names=['FECHA_INCIDENTE', 'FECHA_INICIO_DESPLAZAMIENTO_MOVIL', 'FECHA_DE_DESPACHO',  'CODIGO_DE_LOCALIDAD', 'LOCALIDAD', 'EDAD', 'UNIDAD', 'GENERO', 'RED', 'TIPO_DE_INCIDENTE', 'PRIORIDAD', 'MES', 'CLASIFICACION_FINAL'])\n",
    "display(data_total)"
   ]
  },
  {
   "cell_type": "code",
   "execution_count": 91,
   "id": "f441cd84-911c-451e-975d-ecd9e3bc2ce2",
   "metadata": {},
   "outputs": [
    {
     "name": "stdout",
     "output_type": "stream",
     "text": [
      "Number of rows before cleaning: 112097\n",
      "Number of rows after cleaning: 110763\n"
     ]
    }
   ],
   "source": [
    "print('Number of rows before cleaning:', data_total.shape[0] )\n",
    "data_total.drop_duplicates(inplace=True)\n",
    "print('Number of rows after cleaning:', data_total.shape[0] )"
   ]
  },
  {
   "cell_type": "code",
   "execution_count": 92,
   "id": "7e1cb69c-a549-447d-b4b0-6ed655d8e785",
   "metadata": {},
   "outputs": [
    {
     "data": {
      "application/vnd.jupyter.widget-view+json": {
       "model_id": "b6bbb4e9cb2f4dc5b3b4247a47550522",
       "version_major": 2,
       "version_minor": 0
      },
      "text/plain": [
       "Summarize dataset:   0%|          | 0/55 [00:00<?, ?it/s]"
      ]
     },
     "metadata": {},
     "output_type": "display_data"
    },
    {
     "data": {
      "application/vnd.jupyter.widget-view+json": {
       "model_id": "8bb6fe118da64bc3bcd53346984071de",
       "version_major": 2,
       "version_minor": 0
      },
      "text/plain": [
       "Generate report structure:   0%|          | 0/1 [00:00<?, ?it/s]"
      ]
     },
     "metadata": {},
     "output_type": "display_data"
    },
    {
     "data": {
      "application/vnd.jupyter.widget-view+json": {
       "model_id": "d6ec3b28443e47e69611d060aac246cf",
       "version_major": 2,
       "version_minor": 0
      },
      "text/plain": [
       "Render HTML:   0%|          | 0/1 [00:00<?, ?it/s]"
      ]
     },
     "metadata": {},
     "output_type": "display_data"
    },
    {
     "data": {
      "application/vnd.jupyter.widget-view+json": {
       "model_id": "b62ed8a8120b427084d02756d84fa449",
       "version_major": 2,
       "version_minor": 0
      },
      "text/plain": [
       "Export report to file:   0%|          | 0/1 [00:00<?, ?it/s]"
      ]
     },
     "metadata": {},
     "output_type": "display_data"
    },
    {
     "ename": "FileNotFoundError",
     "evalue": "[Errno 2] No such file or directory: '/home/jupyter/ESEIT_BigData/reports/profile_data_total.html'",
     "output_type": "error",
     "traceback": [
      "\u001b[0;31m---------------------------------------------------------------------------\u001b[0m",
      "\u001b[0;31mFileNotFoundError\u001b[0m                         Traceback (most recent call last)",
      "\u001b[0;32m/tmp/ipykernel_10647/3516687632.py\u001b[0m in \u001b[0;36m<module>\u001b[0;34m\u001b[0m\n\u001b[1;32m      1\u001b[0m \u001b[0mprofile\u001b[0m \u001b[0;34m=\u001b[0m \u001b[0mProfileReport\u001b[0m\u001b[0;34m(\u001b[0m\u001b[0mdf\u001b[0m\u001b[0;34m=\u001b[0m\u001b[0mdata_total\u001b[0m\u001b[0;34m)\u001b[0m\u001b[0;34m\u001b[0m\u001b[0;34m\u001b[0m\u001b[0m\n\u001b[0;32m----> 2\u001b[0;31m \u001b[0mprofile\u001b[0m\u001b[0;34m.\u001b[0m\u001b[0mto_file\u001b[0m\u001b[0;34m(\u001b[0m\u001b[0moutput_file\u001b[0m\u001b[0;34m=\u001b[0m\u001b[0mproject_dir\u001b[0m \u001b[0;34m+\u001b[0m \u001b[0;34m'/reports/'\u001b[0m\u001b[0;34m+\u001b[0m\u001b[0;34m'profile_data_total.html'\u001b[0m\u001b[0;34m)\u001b[0m\u001b[0;34m\u001b[0m\u001b[0;34m\u001b[0m\u001b[0m\n\u001b[0m",
      "\u001b[0;32m/opt/conda/lib/python3.7/site-packages/pandas_profiling/profile_report.py\u001b[0m in \u001b[0;36mto_file\u001b[0;34m(self, output_file, silent)\u001b[0m\n\u001b[1;32m    273\u001b[0m             \u001b[0mtotal\u001b[0m\u001b[0;34m=\u001b[0m\u001b[0;36m1\u001b[0m\u001b[0;34m,\u001b[0m \u001b[0mdesc\u001b[0m\u001b[0;34m=\u001b[0m\u001b[0;34m\"Export report to file\"\u001b[0m\u001b[0;34m,\u001b[0m \u001b[0mdisable\u001b[0m\u001b[0;34m=\u001b[0m\u001b[0mdisable_progress_bar\u001b[0m\u001b[0;34m\u001b[0m\u001b[0;34m\u001b[0m\u001b[0m\n\u001b[1;32m    274\u001b[0m         ) as pbar:\n\u001b[0;32m--> 275\u001b[0;31m             \u001b[0moutput_file\u001b[0m\u001b[0;34m.\u001b[0m\u001b[0mwrite_text\u001b[0m\u001b[0;34m(\u001b[0m\u001b[0mdata\u001b[0m\u001b[0;34m,\u001b[0m \u001b[0mencoding\u001b[0m\u001b[0;34m=\u001b[0m\u001b[0;34m\"utf-8\"\u001b[0m\u001b[0;34m)\u001b[0m\u001b[0;34m\u001b[0m\u001b[0;34m\u001b[0m\u001b[0m\n\u001b[0m\u001b[1;32m    276\u001b[0m             \u001b[0mpbar\u001b[0m\u001b[0;34m.\u001b[0m\u001b[0mupdate\u001b[0m\u001b[0;34m(\u001b[0m\u001b[0;34m)\u001b[0m\u001b[0;34m\u001b[0m\u001b[0;34m\u001b[0m\u001b[0m\n\u001b[1;32m    277\u001b[0m \u001b[0;34m\u001b[0m\u001b[0m\n",
      "\u001b[0;32m/opt/conda/lib/python3.7/pathlib.py\u001b[0m in \u001b[0;36mwrite_text\u001b[0;34m(self, data, encoding, errors)\u001b[0m\n\u001b[1;32m   1238\u001b[0m             raise TypeError('data must be str, not %s' %\n\u001b[1;32m   1239\u001b[0m                             data.__class__.__name__)\n\u001b[0;32m-> 1240\u001b[0;31m         \u001b[0;32mwith\u001b[0m \u001b[0mself\u001b[0m\u001b[0;34m.\u001b[0m\u001b[0mopen\u001b[0m\u001b[0;34m(\u001b[0m\u001b[0mmode\u001b[0m\u001b[0;34m=\u001b[0m\u001b[0;34m'w'\u001b[0m\u001b[0;34m,\u001b[0m \u001b[0mencoding\u001b[0m\u001b[0;34m=\u001b[0m\u001b[0mencoding\u001b[0m\u001b[0;34m,\u001b[0m \u001b[0merrors\u001b[0m\u001b[0;34m=\u001b[0m\u001b[0merrors\u001b[0m\u001b[0;34m)\u001b[0m \u001b[0;32mas\u001b[0m \u001b[0mf\u001b[0m\u001b[0;34m:\u001b[0m\u001b[0;34m\u001b[0m\u001b[0;34m\u001b[0m\u001b[0m\n\u001b[0m\u001b[1;32m   1241\u001b[0m             \u001b[0;32mreturn\u001b[0m \u001b[0mf\u001b[0m\u001b[0;34m.\u001b[0m\u001b[0mwrite\u001b[0m\u001b[0;34m(\u001b[0m\u001b[0mdata\u001b[0m\u001b[0;34m)\u001b[0m\u001b[0;34m\u001b[0m\u001b[0;34m\u001b[0m\u001b[0m\n\u001b[1;32m   1242\u001b[0m \u001b[0;34m\u001b[0m\u001b[0m\n",
      "\u001b[0;32m/opt/conda/lib/python3.7/pathlib.py\u001b[0m in \u001b[0;36mopen\u001b[0;34m(self, mode, buffering, encoding, errors, newline)\u001b[0m\n\u001b[1;32m   1206\u001b[0m             \u001b[0mself\u001b[0m\u001b[0;34m.\u001b[0m\u001b[0m_raise_closed\u001b[0m\u001b[0;34m(\u001b[0m\u001b[0;34m)\u001b[0m\u001b[0;34m\u001b[0m\u001b[0;34m\u001b[0m\u001b[0m\n\u001b[1;32m   1207\u001b[0m         return io.open(self, mode, buffering, encoding, errors, newline,\n\u001b[0;32m-> 1208\u001b[0;31m                        opener=self._opener)\n\u001b[0m\u001b[1;32m   1209\u001b[0m \u001b[0;34m\u001b[0m\u001b[0m\n\u001b[1;32m   1210\u001b[0m     \u001b[0;32mdef\u001b[0m \u001b[0mread_bytes\u001b[0m\u001b[0;34m(\u001b[0m\u001b[0mself\u001b[0m\u001b[0;34m)\u001b[0m\u001b[0;34m:\u001b[0m\u001b[0;34m\u001b[0m\u001b[0;34m\u001b[0m\u001b[0m\n",
      "\u001b[0;32m/opt/conda/lib/python3.7/pathlib.py\u001b[0m in \u001b[0;36m_opener\u001b[0;34m(self, name, flags, mode)\u001b[0m\n\u001b[1;32m   1061\u001b[0m     \u001b[0;32mdef\u001b[0m \u001b[0m_opener\u001b[0m\u001b[0;34m(\u001b[0m\u001b[0mself\u001b[0m\u001b[0;34m,\u001b[0m \u001b[0mname\u001b[0m\u001b[0;34m,\u001b[0m \u001b[0mflags\u001b[0m\u001b[0;34m,\u001b[0m \u001b[0mmode\u001b[0m\u001b[0;34m=\u001b[0m\u001b[0;36m0o666\u001b[0m\u001b[0;34m)\u001b[0m\u001b[0;34m:\u001b[0m\u001b[0;34m\u001b[0m\u001b[0;34m\u001b[0m\u001b[0m\n\u001b[1;32m   1062\u001b[0m         \u001b[0;31m# A stub for the opener argument to built-in open()\u001b[0m\u001b[0;34m\u001b[0m\u001b[0;34m\u001b[0m\u001b[0;34m\u001b[0m\u001b[0m\n\u001b[0;32m-> 1063\u001b[0;31m         \u001b[0;32mreturn\u001b[0m \u001b[0mself\u001b[0m\u001b[0;34m.\u001b[0m\u001b[0m_accessor\u001b[0m\u001b[0;34m.\u001b[0m\u001b[0mopen\u001b[0m\u001b[0;34m(\u001b[0m\u001b[0mself\u001b[0m\u001b[0;34m,\u001b[0m \u001b[0mflags\u001b[0m\u001b[0;34m,\u001b[0m \u001b[0mmode\u001b[0m\u001b[0;34m)\u001b[0m\u001b[0;34m\u001b[0m\u001b[0;34m\u001b[0m\u001b[0m\n\u001b[0m\u001b[1;32m   1064\u001b[0m \u001b[0;34m\u001b[0m\u001b[0m\n\u001b[1;32m   1065\u001b[0m     \u001b[0;32mdef\u001b[0m \u001b[0m_raw_open\u001b[0m\u001b[0;34m(\u001b[0m\u001b[0mself\u001b[0m\u001b[0;34m,\u001b[0m \u001b[0mflags\u001b[0m\u001b[0;34m,\u001b[0m \u001b[0mmode\u001b[0m\u001b[0;34m=\u001b[0m\u001b[0;36m0o777\u001b[0m\u001b[0;34m)\u001b[0m\u001b[0;34m:\u001b[0m\u001b[0;34m\u001b[0m\u001b[0;34m\u001b[0m\u001b[0m\n",
      "\u001b[0;31mFileNotFoundError\u001b[0m: [Errno 2] No such file or directory: '/home/jupyter/ESEIT_BigData/reports/profile_data_total.html'"
     ]
    }
   ],
   "source": [
    "profile = ProfileReport(df=data_total)\n",
    "profile.to_file(output_file=project_dir + '/reports/'+'profile_data_total.html')"
   ]
  },
  {
   "cell_type": "code",
   "execution_count": null,
   "id": "529c5722-d869-4c22-beb0-10e0337ae806",
   "metadata": {},
   "outputs": [],
   "source": [
    "# saving in a local directory\n",
    "data_total.to_csv(project_dir + '/processed/' +'tablaPrimerLimpieza.csv', encoding='latin1', sep=';', index=False)"
   ]
  },
  {
   "cell_type": "code",
   "execution_count": null,
   "id": "d6514cfe-fba7-44f2-b914-26013cc2f9f8",
   "metadata": {},
   "outputs": [],
   "source": []
  }
 ],
 "metadata": {
  "environment": {
   "kernel": "python3",
   "name": "common-cpu.m91",
   "type": "gcloud",
   "uri": "gcr.io/deeplearning-platform-release/base-cpu:m91"
  },
  "kernelspec": {
   "display_name": "Python 3",
   "language": "python",
   "name": "python3"
  },
  "language_info": {
   "codemirror_mode": {
    "name": "ipython",
    "version": 3
   },
   "file_extension": ".py",
   "mimetype": "text/x-python",
   "name": "python",
   "nbconvert_exporter": "python",
   "pygments_lexer": "ipython3",
   "version": "3.7.12"
  }
 },
 "nbformat": 4,
 "nbformat_minor": 5
}
