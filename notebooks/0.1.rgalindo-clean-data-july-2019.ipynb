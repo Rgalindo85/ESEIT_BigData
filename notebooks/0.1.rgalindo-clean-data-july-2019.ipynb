{
 "cells": [
  {
   "cell_type": "markdown",
   "id": "a7dac6ca-3d99-49ad-b3bd-76c1144c6939",
   "metadata": {},
   "source": [
    "# Read and clean a single file\n",
    "--------------------\n",
    "Nombre: John Luis Gonzalez Padilla"
   ]
  },
  {
   "cell_type": "code",
   "execution_count": 318,
   "id": "19dc2eac-db51-40ad-9834-b50602429973",
   "metadata": {},
   "outputs": [],
   "source": [
    "import os\n",
    "import sys\n",
    "import logging\n",
    "import pandas as pd\n",
    "import datetime\n",
    "import time\n",
    "\n",
    "from pandas_profiling import ProfileReport\n",
    "\n",
    "\n",
    "project_dir = os.path.dirname(os.path.abspath('.')) # get the path of the project, if doesn't work use os.getcwd() instead and use rfind to find the project dir\n",
    "sys.path.append(os.path.join(project_dir, 'src', 'data'))\n",
    "\n",
    "from data_manipulator import get_input_data\n",
    "\n",
    "bucket = 'espbigdata_jg'\n",
    "directory = 'BigData'"
   ]
  },
  {
   "cell_type": "markdown",
   "id": "6531655d-2cc6-40bf-8f3d-af0e28004fe1",
   "metadata": {},
   "source": [
    "## Read Metadata\n",
    "-----\n",
    "General info for each relevant column"
   ]
  },
  {
   "cell_type": "code",
   "execution_count": 319,
   "id": "4e1ea718-96b7-4eaa-95e7-7d9f314b5b56",
   "metadata": {},
   "outputs": [
    {
     "data": {
      "text/html": [
       "<div>\n",
       "<style scoped>\n",
       "    .dataframe tbody tr th:only-of-type {\n",
       "        vertical-align: middle;\n",
       "    }\n",
       "\n",
       "    .dataframe tbody tr th {\n",
       "        vertical-align: top;\n",
       "    }\n",
       "\n",
       "    .dataframe thead th {\n",
       "        text-align: right;\n",
       "    }\n",
       "</style>\n",
       "<table border=\"1\" class=\"dataframe\">\n",
       "  <thead>\n",
       "    <tr style=\"text-align: right;\">\n",
       "      <th></th>\n",
       "      <th>NOMBRE</th>\n",
       "      <th>DESCRIPCION</th>\n",
       "    </tr>\n",
       "  </thead>\n",
       "  <tbody>\n",
       "    <tr>\n",
       "      <th>0</th>\n",
       "      <td>FECHA_INCIDENTE</td>\n",
       "      <td>Es la fecha el cual se registra la llamada del...</td>\n",
       "    </tr>\n",
       "    <tr>\n",
       "      <th>1</th>\n",
       "      <td>FECHA_INICIO_DESPLAZAMIENTO_MOVIL</td>\n",
       "      <td>Es la fecha el cual se inicia el desplazamient...</td>\n",
       "    </tr>\n",
       "    <tr>\n",
       "      <th>2</th>\n",
       "      <td>CODIGO LOCALIDAD</td>\n",
       "      <td>Es el código de las 20 localidades de la ciuda...</td>\n",
       "    </tr>\n",
       "    <tr>\n",
       "      <th>3</th>\n",
       "      <td>LOCALIDAD</td>\n",
       "      <td>Es la localidad donde sucede el incidente.</td>\n",
       "    </tr>\n",
       "    <tr>\n",
       "      <th>4</th>\n",
       "      <td>EDAD</td>\n",
       "      <td>La edad del paciente.</td>\n",
       "    </tr>\n",
       "    <tr>\n",
       "      <th>5</th>\n",
       "      <td>UNIDAD</td>\n",
       "      <td>La descripción de la edad si es en horas, días...</td>\n",
       "    </tr>\n",
       "    <tr>\n",
       "      <th>6</th>\n",
       "      <td>GENERO</td>\n",
       "      <td>Es la  distinción de genero del paciente</td>\n",
       "    </tr>\n",
       "    <tr>\n",
       "      <th>7</th>\n",
       "      <td>RED</td>\n",
       "      <td>Es la localización a nivel bogota de la red de...</td>\n",
       "    </tr>\n",
       "    <tr>\n",
       "      <th>8</th>\n",
       "      <td>TIPO_INCIDENTE</td>\n",
       "      <td>Es la descripción inicial que tipifica el cent...</td>\n",
       "    </tr>\n",
       "    <tr>\n",
       "      <th>9</th>\n",
       "      <td>PRIORIDAD</td>\n",
       "      <td>Es la tipificación según la prioridad del inci...</td>\n",
       "    </tr>\n",
       "    <tr>\n",
       "      <th>10</th>\n",
       "      <td>MES</td>\n",
       "      <td>Es el mes el cual ocurrió el incidente.</td>\n",
       "    </tr>\n",
       "    <tr>\n",
       "      <th>11</th>\n",
       "      <td>CLASIFICACION FINAL</td>\n",
       "      <td>Es la clasificación final que entrega el centr...</td>\n",
       "    </tr>\n",
       "  </tbody>\n",
       "</table>\n",
       "</div>"
      ],
      "text/plain": [
       "                               NOMBRE  \\\n",
       "0                     FECHA_INCIDENTE   \n",
       "1   FECHA_INICIO_DESPLAZAMIENTO_MOVIL   \n",
       "2                    CODIGO LOCALIDAD   \n",
       "3                           LOCALIDAD   \n",
       "4                                EDAD   \n",
       "5                              UNIDAD   \n",
       "6                              GENERO   \n",
       "7                                 RED   \n",
       "8                      TIPO_INCIDENTE   \n",
       "9                           PRIORIDAD   \n",
       "10                                MES   \n",
       "11                CLASIFICACION FINAL   \n",
       "\n",
       "                                          DESCRIPCION  \n",
       "0   Es la fecha el cual se registra la llamada del...  \n",
       "1   Es la fecha el cual se inicia el desplazamient...  \n",
       "2   Es el código de las 20 localidades de la ciuda...  \n",
       "3          Es la localidad donde sucede el incidente.  \n",
       "4                               La edad del paciente.  \n",
       "5   La descripción de la edad si es en horas, días...  \n",
       "6            Es la  distinción de genero del paciente  \n",
       "7   Es la localización a nivel bogota de la red de...  \n",
       "8   Es la descripción inicial que tipifica el cent...  \n",
       "9   Es la tipificación según la prioridad del inci...  \n",
       "10            Es el mes el cual ocurrió el incidente.  \n",
       "11  Es la clasificación final que entrega el centr...  "
      ]
     },
     "execution_count": 319,
     "metadata": {},
     "output_type": "execute_result"
    }
   ],
   "source": [
    "file = 'gs://{}/{}/data/metadatos-llamadas-urg-y-emer.csv'.format(bucket, directory)\n",
    "df_metadata = pd.read_csv(file, encoding='latin1', sep=';')\n",
    "df_metadata"
   ]
  },
  {
   "cell_type": "markdown",
   "id": "e9553498-4f18-4757-92f7-384a12ebcff2",
   "metadata": {},
   "source": [
    "The final data must contains this and only this columns with that specific headers in order to standarize the data, this is a type of data dictionary but it also must include the data types (**schema**) of each field (**column**)"
   ]
  },
  {
   "cell_type": "markdown",
   "id": "ca09f0ce-cd22-4aca-94f5-61f4264efde5",
   "metadata": {},
   "source": [
    "## Get raw data"
   ]
  },
  {
   "cell_type": "code",
   "execution_count": 320,
   "id": "4b03382e-9a1c-4532-a256-70a085241dac",
   "metadata": {},
   "outputs": [
    {
     "name": "stdout",
     "output_type": "stream",
     "text": [
      "<class 'pandas.core.frame.DataFrame'>\n",
      "RangeIndex: 18141 entries, 0 to 18140\n",
      "Data columns (total 12 columns):\n",
      " #   Column                             Non-Null Count  Dtype \n",
      "---  ------                             --------------  ----- \n",
      " 0   NUMERO_INCIDENTE                   18141 non-null  int64 \n",
      " 1   FECHA_INICIO_DESPLAZAMIENTO-MOVIL  18141 non-null  object\n",
      " 2   CODIGO DE LOCALIDAD                18141 non-null  int64 \n",
      " 3   LOCALIDAD                          18141 non-null  object\n",
      " 4   EDAD                               18141 non-null  object\n",
      " 5   UNIDAD                             18141 non-null  object\n",
      " 6   GENERO                             18141 non-null  object\n",
      " 7   RED                                18141 non-null  object\n",
      " 8   TIPO DE INCIDIDENT                 18141 non-null  object\n",
      " 9   PRIORIDAD                          18141 non-null  object\n",
      " 10  MES                                18141 non-null  object\n",
      " 11  CLASIFICACION FINAL                18138 non-null  object\n",
      "dtypes: int64(2), object(10)\n",
      "memory usage: 1.7+ MB\n",
      "None\n"
     ]
    }
   ],
   "source": [
    "raw_data = get_input_data(\n",
    "    bucket = bucket,\n",
    "    initial_directory= directory,\n",
    "    filename = 'datos-abiertos-agosto-2019.csv'\n",
    ")\n",
    "print(raw_data.info())"
   ]
  },
  {
   "cell_type": "code",
   "execution_count": 321,
   "id": "9fe09083-586a-48f0-93b1-982d75e9df43",
   "metadata": {},
   "outputs": [],
   "source": [
    "#list_cols_to_drop =[\"Unnamed: {}\".format(i) for i in range(10, 37)]\n",
    "#raw_data = raw_data.drop(list_cols_to_drop, axis=1)\n",
    "#raw_data.head()"
   ]
  },
  {
   "cell_type": "markdown",
   "id": "5eb9ef0e-e60c-49ce-94f7-6d3f18f71a62",
   "metadata": {},
   "source": [
    "raw_data = get_input_data(\n",
    "    bucket = bucket,\n",
    "    initial_directory= directory,\n",
    "    processed = proc,\n",
    "    filename = 'clean_llamadas_123_agosto_2019.csv'\n",
    ")\n",
    "print(raw_data.info())It seems that this file contains already the fields, but need to rename them"
   ]
  },
  {
   "cell_type": "markdown",
   "id": "9bbedf48-cbe2-41c5-bcd7-d99f3d3f4caf",
   "metadata": {},
   "source": [
    "### Rename Columns"
   ]
  },
  {
   "cell_type": "code",
   "execution_count": 322,
   "id": "4d354b06-a4ef-4a8e-81d5-2a1ba773e78f",
   "metadata": {},
   "outputs": [
    {
     "data": {
      "text/html": [
       "<div>\n",
       "<style scoped>\n",
       "    .dataframe tbody tr th:only-of-type {\n",
       "        vertical-align: middle;\n",
       "    }\n",
       "\n",
       "    .dataframe tbody tr th {\n",
       "        vertical-align: top;\n",
       "    }\n",
       "\n",
       "    .dataframe thead th {\n",
       "        text-align: right;\n",
       "    }\n",
       "</style>\n",
       "<table border=\"1\" class=\"dataframe\">\n",
       "  <thead>\n",
       "    <tr style=\"text-align: right;\">\n",
       "      <th></th>\n",
       "      <th>NUMERO_INCIDENTE</th>\n",
       "      <th>FECHA_INICIO_DESPLAZAMIENTO_MOVIL</th>\n",
       "      <th>CODIGO_LOCALIDAD</th>\n",
       "      <th>LOCALIDAD</th>\n",
       "      <th>EDAD</th>\n",
       "      <th>UNIDAD</th>\n",
       "      <th>GENERO</th>\n",
       "      <th>RED</th>\n",
       "      <th>TIPO_INCIDENTE</th>\n",
       "      <th>PRIORIDAD</th>\n",
       "      <th>MES</th>\n",
       "      <th>CLASIFICACION_FINAL</th>\n",
       "    </tr>\n",
       "  </thead>\n",
       "  <tbody>\n",
       "    <tr>\n",
       "      <th>0</th>\n",
       "      <td>809224194</td>\n",
       "      <td>1/08/2019 0:28</td>\n",
       "      <td>1</td>\n",
       "      <td>Usaquen</td>\n",
       "      <td>SIN_DATO</td>\n",
       "      <td>SIN_DATO</td>\n",
       "      <td>SIN_DATO</td>\n",
       "      <td>Norte</td>\n",
       "      <td>Inconsciente/Paro Cardiorrespiratorio</td>\n",
       "      <td>ALTA</td>\n",
       "      <td>AGOSTO</td>\n",
       "      <td>Cancelado</td>\n",
       "    </tr>\n",
       "    <tr>\n",
       "      <th>1</th>\n",
       "      <td>809224194</td>\n",
       "      <td>1/08/2019 0:28</td>\n",
       "      <td>1</td>\n",
       "      <td>Usaquen</td>\n",
       "      <td>SIN_DATO</td>\n",
       "      <td>SIN_DATO</td>\n",
       "      <td>SIN_DATO</td>\n",
       "      <td>Norte</td>\n",
       "      <td>Inconsciente/Paro Cardiorrespiratorio</td>\n",
       "      <td>ALTA</td>\n",
       "      <td>AGOSTO</td>\n",
       "      <td>Cancelado</td>\n",
       "    </tr>\n",
       "    <tr>\n",
       "      <th>2</th>\n",
       "      <td>809240194</td>\n",
       "      <td>1/08/2019 0:15</td>\n",
       "      <td>11</td>\n",
       "      <td>Suba</td>\n",
       "      <td>SIN_DATO</td>\n",
       "      <td>SIN_DATO</td>\n",
       "      <td>SIN_DATO</td>\n",
       "      <td>Norte</td>\n",
       "      <td>Accidente cerebro vascular</td>\n",
       "      <td>BAJA</td>\n",
       "      <td>AGOSTO</td>\n",
       "      <td>Cancelado</td>\n",
       "    </tr>\n",
       "    <tr>\n",
       "      <th>3</th>\n",
       "      <td>809240194</td>\n",
       "      <td>1/08/2019 0:15</td>\n",
       "      <td>11</td>\n",
       "      <td>Suba</td>\n",
       "      <td>SIN_DATO</td>\n",
       "      <td>SIN_DATO</td>\n",
       "      <td>SIN_DATO</td>\n",
       "      <td>Norte</td>\n",
       "      <td>Accidente cerebro vascular</td>\n",
       "      <td>BAJA</td>\n",
       "      <td>AGOSTO</td>\n",
       "      <td>Cancelado</td>\n",
       "    </tr>\n",
       "    <tr>\n",
       "      <th>4</th>\n",
       "      <td>809240194</td>\n",
       "      <td>1/08/2019 0:15</td>\n",
       "      <td>11</td>\n",
       "      <td>Suba</td>\n",
       "      <td>SIN_DATO</td>\n",
       "      <td>SIN_DATO</td>\n",
       "      <td>SIN_DATO</td>\n",
       "      <td>Norte</td>\n",
       "      <td>Accidente cerebro vascular</td>\n",
       "      <td>BAJA</td>\n",
       "      <td>AGOSTO</td>\n",
       "      <td>Cancelado</td>\n",
       "    </tr>\n",
       "  </tbody>\n",
       "</table>\n",
       "</div>"
      ],
      "text/plain": [
       "   NUMERO_INCIDENTE FECHA_INICIO_DESPLAZAMIENTO_MOVIL  CODIGO_LOCALIDAD  \\\n",
       "0         809224194                    1/08/2019 0:28                 1   \n",
       "1         809224194                    1/08/2019 0:28                 1   \n",
       "2         809240194                    1/08/2019 0:15                11   \n",
       "3         809240194                    1/08/2019 0:15                11   \n",
       "4         809240194                    1/08/2019 0:15                11   \n",
       "\n",
       "  LOCALIDAD      EDAD    UNIDAD    GENERO    RED  \\\n",
       "0   Usaquen  SIN_DATO  SIN_DATO  SIN_DATO  Norte   \n",
       "1   Usaquen  SIN_DATO  SIN_DATO  SIN_DATO  Norte   \n",
       "2      Suba  SIN_DATO  SIN_DATO  SIN_DATO  Norte   \n",
       "3      Suba  SIN_DATO  SIN_DATO  SIN_DATO  Norte   \n",
       "4      Suba  SIN_DATO  SIN_DATO  SIN_DATO  Norte   \n",
       "\n",
       "                           TIPO_INCIDENTE PRIORIDAD     MES  \\\n",
       "0  Inconsciente/Paro Cardiorrespiratorio       ALTA  AGOSTO   \n",
       "1  Inconsciente/Paro Cardiorrespiratorio       ALTA  AGOSTO   \n",
       "2             Accidente cerebro vascular       BAJA  AGOSTO   \n",
       "3             Accidente cerebro vascular       BAJA  AGOSTO   \n",
       "4             Accidente cerebro vascular       BAJA  AGOSTO   \n",
       "\n",
       "  CLASIFICACION_FINAL  \n",
       "0           Cancelado  \n",
       "1           Cancelado  \n",
       "2           Cancelado  \n",
       "3           Cancelado  \n",
       "4           Cancelado  "
      ]
     },
     "execution_count": 322,
     "metadata": {},
     "output_type": "execute_result"
    }
   ],
   "source": [
    "# Don't let white spaces between headers to avoid errors during the pipeline\n",
    "# This is sometimes called a recipe for etl\n",
    "raw_data.rename(\n",
    "    columns = {\n",
    "        'FECHA_INICIO_DESPLAZAMIENTO-MOVIL' : 'FECHA_INICIO_DESPLAZAMIENTO_MOVIL',\n",
    "        'CODIGO DE LOCALIDAD'               : 'CODIGO_LOCALIDAD',\n",
    "        'CLASIFICACION FINAL'               : 'CLASIFICACION_FINAL',\n",
    "        'TIPO DE INCIDIDENT'               : 'TIPO_INCIDENTE'\n",
    "    },\n",
    "    inplace=True\n",
    ")\n",
    "raw_data.head()"
   ]
  },
  {
   "cell_type": "markdown",
   "id": "188353cb-3a29-4285-9e1d-5ca19ed9105c",
   "metadata": {},
   "source": [
    "### Check values per field\n",
    "--------\n",
    "1. LOCALIDAD\n",
    "2. GENERO"
   ]
  },
  {
   "cell_type": "code",
   "execution_count": 323,
   "id": "c7e613bd-d1d0-49bd-b7a3-919e2ed04957",
   "metadata": {},
   "outputs": [
    {
     "data": {
      "text/plain": [
       "Kennedy                2717\n",
       " Engativa              1805\n",
       " Suba                  1678\n",
       " Bosa                  1264\n",
       "Ciudad Bolivar         1220\n",
       "Puente Aranda           977\n",
       " San Cristobal          906\n",
       "Usaquen                 894\n",
       " Rafael Uribe Uribe     892\n",
       "Fontibon                878\n",
       "Chapinero               707\n",
       "Santa Fe                682\n",
       " Usme                   637\n",
       " Barrios Unidos         608\n",
       " Teusaquillo            599\n",
       "Tunjuelito              595\n",
       "Los Martires            593\n",
       " Antonio Nariño         369\n",
       " La Candelaria          119\n",
       " Sumapaz                  1\n",
       "Name: LOCALIDAD, dtype: int64"
      ]
     },
     "execution_count": 323,
     "metadata": {},
     "output_type": "execute_result"
    }
   ],
   "source": [
    "raw_data['LOCALIDAD'].value_counts(dropna=False)"
   ]
  },
  {
   "cell_type": "markdown",
   "id": "1af92623-c419-4db6-b0a2-5d0d0dc158d2",
   "metadata": {},
   "source": [
    "It seems that in some fields exist a white space at the begining of the values, probably at the end too, lets clean them all"
   ]
  },
  {
   "cell_type": "code",
   "execution_count": 324,
   "id": "aa8e1799-a9f9-479e-b93a-06c6c2c05fd0",
   "metadata": {},
   "outputs": [
    {
     "data": {
      "text/plain": [
       "Kennedy               2717\n",
       "Engativa              1805\n",
       "Suba                  1678\n",
       "Bosa                  1264\n",
       "Ciudad Bolivar        1220\n",
       "Puente Aranda          977\n",
       "San Cristobal          906\n",
       "Usaquen                894\n",
       "Rafael Uribe Uribe     892\n",
       "Fontibon               878\n",
       "Chapinero              707\n",
       "Santa Fe               682\n",
       "Usme                   637\n",
       "Barrios Unidos         608\n",
       "Teusaquillo            599\n",
       "Tunjuelito             595\n",
       "Los Martires           593\n",
       "Antonio Nariño         369\n",
       "La Candelaria          119\n",
       "Sumapaz                  1\n",
       "Name: LOCALIDAD, dtype: int64"
      ]
     },
     "execution_count": 324,
     "metadata": {},
     "output_type": "execute_result"
    }
   ],
   "source": [
    "# Let's use the function strip(), this property works for string objects in python that removes whitespaces\n",
    "raw_data['LOCALIDAD'].apply(\n",
    "    lambda x: x.strip()        # here we use a lambda function, exclusively for python. Is a one-line function\n",
    ").value_counts()"
   ]
  },
  {
   "cell_type": "code",
   "execution_count": 325,
   "id": "ea1c48db-18e8-41a3-8377-1c41b2582423",
   "metadata": {},
   "outputs": [],
   "source": [
    "raw_data['LOCALIDAD'] = raw_data['LOCALIDAD'].apply(lambda x: x.strip()) # we assign the output of the function apply to the same column"
   ]
  },
  {
   "cell_type": "code",
   "execution_count": 326,
   "id": "56a2080d-11bd-4c4e-bf36-99b1ec4a3390",
   "metadata": {},
   "outputs": [
    {
     "data": {
      "text/html": [
       "<div>\n",
       "<style scoped>\n",
       "    .dataframe tbody tr th:only-of-type {\n",
       "        vertical-align: middle;\n",
       "    }\n",
       "\n",
       "    .dataframe tbody tr th {\n",
       "        vertical-align: top;\n",
       "    }\n",
       "\n",
       "    .dataframe thead th {\n",
       "        text-align: right;\n",
       "    }\n",
       "</style>\n",
       "<table border=\"1\" class=\"dataframe\">\n",
       "  <thead>\n",
       "    <tr style=\"text-align: right;\">\n",
       "      <th></th>\n",
       "      <th>NUMERO_INCIDENTE</th>\n",
       "      <th>FECHA_INICIO_DESPLAZAMIENTO_MOVIL</th>\n",
       "      <th>CODIGO_LOCALIDAD</th>\n",
       "      <th>LOCALIDAD</th>\n",
       "      <th>EDAD</th>\n",
       "      <th>UNIDAD</th>\n",
       "      <th>GENERO</th>\n",
       "      <th>RED</th>\n",
       "      <th>TIPO_INCIDENTE</th>\n",
       "      <th>PRIORIDAD</th>\n",
       "      <th>MES</th>\n",
       "      <th>CLASIFICACION_FINAL</th>\n",
       "    </tr>\n",
       "  </thead>\n",
       "  <tbody>\n",
       "    <tr>\n",
       "      <th>0</th>\n",
       "      <td>809224194</td>\n",
       "      <td>1/08/2019 0:28</td>\n",
       "      <td>1</td>\n",
       "      <td>Usaquen</td>\n",
       "      <td>SIN_DATO</td>\n",
       "      <td>SIN_DATO</td>\n",
       "      <td>SIN_DATO</td>\n",
       "      <td>Norte</td>\n",
       "      <td>Inconsciente/Paro Cardiorrespiratorio</td>\n",
       "      <td>ALTA</td>\n",
       "      <td>AGOSTO</td>\n",
       "      <td>Cancelado</td>\n",
       "    </tr>\n",
       "    <tr>\n",
       "      <th>1</th>\n",
       "      <td>809224194</td>\n",
       "      <td>1/08/2019 0:28</td>\n",
       "      <td>1</td>\n",
       "      <td>Usaquen</td>\n",
       "      <td>SIN_DATO</td>\n",
       "      <td>SIN_DATO</td>\n",
       "      <td>SIN_DATO</td>\n",
       "      <td>Norte</td>\n",
       "      <td>Inconsciente/Paro Cardiorrespiratorio</td>\n",
       "      <td>ALTA</td>\n",
       "      <td>AGOSTO</td>\n",
       "      <td>Cancelado</td>\n",
       "    </tr>\n",
       "    <tr>\n",
       "      <th>2</th>\n",
       "      <td>809240194</td>\n",
       "      <td>1/08/2019 0:15</td>\n",
       "      <td>11</td>\n",
       "      <td>Suba</td>\n",
       "      <td>SIN_DATO</td>\n",
       "      <td>SIN_DATO</td>\n",
       "      <td>SIN_DATO</td>\n",
       "      <td>Norte</td>\n",
       "      <td>Accidente cerebro vascular</td>\n",
       "      <td>BAJA</td>\n",
       "      <td>AGOSTO</td>\n",
       "      <td>Cancelado</td>\n",
       "    </tr>\n",
       "    <tr>\n",
       "      <th>3</th>\n",
       "      <td>809240194</td>\n",
       "      <td>1/08/2019 0:15</td>\n",
       "      <td>11</td>\n",
       "      <td>Suba</td>\n",
       "      <td>SIN_DATO</td>\n",
       "      <td>SIN_DATO</td>\n",
       "      <td>SIN_DATO</td>\n",
       "      <td>Norte</td>\n",
       "      <td>Accidente cerebro vascular</td>\n",
       "      <td>BAJA</td>\n",
       "      <td>AGOSTO</td>\n",
       "      <td>Cancelado</td>\n",
       "    </tr>\n",
       "    <tr>\n",
       "      <th>4</th>\n",
       "      <td>809240194</td>\n",
       "      <td>1/08/2019 0:15</td>\n",
       "      <td>11</td>\n",
       "      <td>Suba</td>\n",
       "      <td>SIN_DATO</td>\n",
       "      <td>SIN_DATO</td>\n",
       "      <td>SIN_DATO</td>\n",
       "      <td>Norte</td>\n",
       "      <td>Accidente cerebro vascular</td>\n",
       "      <td>BAJA</td>\n",
       "      <td>AGOSTO</td>\n",
       "      <td>Cancelado</td>\n",
       "    </tr>\n",
       "  </tbody>\n",
       "</table>\n",
       "</div>"
      ],
      "text/plain": [
       "   NUMERO_INCIDENTE FECHA_INICIO_DESPLAZAMIENTO_MOVIL  CODIGO_LOCALIDAD  \\\n",
       "0         809224194                    1/08/2019 0:28                 1   \n",
       "1         809224194                    1/08/2019 0:28                 1   \n",
       "2         809240194                    1/08/2019 0:15                11   \n",
       "3         809240194                    1/08/2019 0:15                11   \n",
       "4         809240194                    1/08/2019 0:15                11   \n",
       "\n",
       "  LOCALIDAD      EDAD    UNIDAD    GENERO    RED  \\\n",
       "0   Usaquen  SIN_DATO  SIN_DATO  SIN_DATO  Norte   \n",
       "1   Usaquen  SIN_DATO  SIN_DATO  SIN_DATO  Norte   \n",
       "2      Suba  SIN_DATO  SIN_DATO  SIN_DATO  Norte   \n",
       "3      Suba  SIN_DATO  SIN_DATO  SIN_DATO  Norte   \n",
       "4      Suba  SIN_DATO  SIN_DATO  SIN_DATO  Norte   \n",
       "\n",
       "                           TIPO_INCIDENTE PRIORIDAD     MES  \\\n",
       "0  Inconsciente/Paro Cardiorrespiratorio       ALTA  AGOSTO   \n",
       "1  Inconsciente/Paro Cardiorrespiratorio       ALTA  AGOSTO   \n",
       "2             Accidente cerebro vascular       BAJA  AGOSTO   \n",
       "3             Accidente cerebro vascular       BAJA  AGOSTO   \n",
       "4             Accidente cerebro vascular       BAJA  AGOSTO   \n",
       "\n",
       "  CLASIFICACION_FINAL  \n",
       "0           Cancelado  \n",
       "1           Cancelado  \n",
       "2           Cancelado  \n",
       "3           Cancelado  \n",
       "4           Cancelado  "
      ]
     },
     "execution_count": 326,
     "metadata": {},
     "output_type": "execute_result"
    }
   ],
   "source": [
    "raw_data.head()"
   ]
  },
  {
   "cell_type": "code",
   "execution_count": 327,
   "id": "440653d8-5eda-4138-8e1e-146724e4931a",
   "metadata": {},
   "outputs": [
    {
     "data": {
      "text/plain": [
       "SIN_DATO     8617\n",
       "MASCULINO    5143\n",
       "FEMENINO     4381\n",
       "Name: GENERO, dtype: int64"
      ]
     },
     "execution_count": 327,
     "metadata": {},
     "output_type": "execute_result"
    }
   ],
   "source": [
    "col = 'GENERO'\n",
    "#raw_data[col] = raw_data[col].apply(lambda x: x.strip())\n",
    "#raw_data[col].value_counts(dropna=False)   # here we could apply the same technique as before to avoid errors\n",
    "raw_data[col].fillna('SIN_DATO').value_counts()"
   ]
  },
  {
   "cell_type": "code",
   "execution_count": 328,
   "id": "2ce261b7-3ebb-45b5-8915-4b5aa1921d27",
   "metadata": {},
   "outputs": [
    {
     "data": {
      "text/plain": [
       "Accidente de tránsito con heridos/Muertos    6827\n",
       "Inconsciente/Paro Cardiorrespiratorio        1875\n",
       "Dificultad Respiratoria                      1504\n",
       "Enfermo                                      1233\n",
       "Convulsiones                                 1135\n",
       "Heridos                                       847\n",
       "Lesiones personales                           718\n",
       "Trastorno mental                              670\n",
       "Dolor torácico                                628\n",
       "Intento de suicidio                           555\n",
       "Síntomas gastrointestinales                   418\n",
       "Accidente cerebro vascular                    401\n",
       "Patología Gineco - obstétrica                 353\n",
       "Caída                                         295\n",
       "Intoxicaciones                                181\n",
       "Ideas de suicidio                             102\n",
       "SIN_DATO                                       58\n",
       "Incendio estructural                           51\n",
       "Muerte Natural                                 35\n",
       "Violencia Sexual                               33\n",
       "Riña                                           24\n",
       "Solicitud Apoyo / Desacato                     21\n",
       "Accidente Tránsito Simple                      20\n",
       "Sangrado Vaginal                               15\n",
       "Quemaduras                                     15\n",
       "MATPEL (Materiales peligrosos)                  9\n",
       "Fuga de Gas Natural o Propano                   9\n",
       "Elemento caído y/o en peligro de caer.          9\n",
       "Electrocución / Rescate                         9\n",
       "Abrir domicilio                                 8\n",
       "Incidente rescate acuático                      7\n",
       "Manifestación / Motín                           7\n",
       "Embriaguez                                      6\n",
       "Maltrato                                        6\n",
       "Animal Peligroso                                5\n",
       "Rescates                                        5\n",
       "Incendio con MATPEL                             4\n",
       "Menor o persona Abandonada                      4\n",
       "Explosión                                       4\n",
       "Extraviados / Desaparecidos                     3\n",
       "Deslizamiento                                   3\n",
       "Disparos                                        3\n",
       "Persona Pidiendo Auxilio                        3\n",
       "Hurto Efectuado                                 3\n",
       "Incendio Vehicular                              3\n",
       "Persona tendida en la vía                       3\n",
       "Habitante de la Calle                           3\n",
       "Muerto                                          3\n",
       "Abejas                                          3\n",
       "Amenaza de Ruina                                2\n",
       "Atraco / Hurto en Proces                        2\n",
       "Incendio                                        1\n",
       "Name: TIPO_INCIDENTE, dtype: int64"
      ]
     },
     "execution_count": 328,
     "metadata": {},
     "output_type": "execute_result"
    }
   ],
   "source": [
    "col = 'TIPO_INCIDENTE'\n",
    "raw_data[col] = raw_data[col].apply(lambda x: x.strip())\n",
    "raw_data[col].value_counts(dropna=False)\n",
    "raw_data[col].fillna('SIN_DATO').value_counts()"
   ]
  },
  {
   "cell_type": "code",
   "execution_count": 329,
   "id": "13c33f07-c6ef-43ce-9fb0-99e431f623e6",
   "metadata": {},
   "outputs": [
    {
     "data": {
      "text/plain": [
       "Kennedy               2717\n",
       "Engativa              1805\n",
       "Suba                  1678\n",
       "Bosa                  1264\n",
       "Ciudad Bolivar        1220\n",
       "Puente Aranda          977\n",
       "San Cristobal          906\n",
       "Usaquen                894\n",
       "Rafael Uribe Uribe     892\n",
       "Fontibon               878\n",
       "Chapinero              707\n",
       "Santa Fe               682\n",
       "Usme                   637\n",
       "Barrios Unidos         608\n",
       "Teusaquillo            599\n",
       "Tunjuelito             595\n",
       "Los Martires           593\n",
       "Antonio Nariño         369\n",
       "La Candelaria          119\n",
       "Sumapaz                  1\n",
       "Name: LOCALIDAD, dtype: int64"
      ]
     },
     "execution_count": 329,
     "metadata": {},
     "output_type": "execute_result"
    }
   ],
   "source": [
    "col = 'LOCALIDAD'\n",
    "raw_data[col] = raw_data[col].apply(lambda x: x.strip())\n",
    "raw_data[col].value_counts(dropna=False)   # here we could apply the same technique as before to avoid errors\n",
    "raw_data[col].fillna('SIN_DATO').value_counts()"
   ]
  },
  {
   "cell_type": "code",
   "execution_count": 330,
   "id": "2f1267e4-ded1-48ab-aa74-84b4f0974c9c",
   "metadata": {},
   "outputs": [
    {
     "data": {
      "text/plain": [
       "Norte      7925\n",
       "Sur        6507\n",
       "Privada    3709\n",
       "Name: RED, dtype: int64"
      ]
     },
     "execution_count": 330,
     "metadata": {},
     "output_type": "execute_result"
    }
   ],
   "source": [
    "col = 'RED'\n",
    "raw_data[col] = raw_data[col].apply(lambda x: x.strip())\n",
    "raw_data[col].value_counts(dropna=False)   # here we could apply the same technique as before to avoid errors\n",
    "raw_data[col].fillna('SIN_DATO').value_counts()"
   ]
  },
  {
   "cell_type": "code",
   "execution_count": 331,
   "id": "89c273a8-1bd1-40e4-92a9-d14497e92060",
   "metadata": {},
   "outputs": [
    {
     "data": {
      "text/plain": [
       "ALTA        15314\n",
       "MEDIA        2539\n",
       "BAJA          246\n",
       "SIN_DATO       42\n",
       "Name: PRIORIDAD, dtype: int64"
      ]
     },
     "execution_count": 331,
     "metadata": {},
     "output_type": "execute_result"
    }
   ],
   "source": [
    "col = 'PRIORIDAD'\n",
    "raw_data[col] = raw_data[col].apply(lambda x: x.strip())\n",
    "raw_data[col].value_counts(dropna=False)   # here we could apply the same technique as before to avoid errors\n",
    "raw_data[col].fillna('SIN_DATO').value_counts()"
   ]
  },
  {
   "cell_type": "code",
   "execution_count": 332,
   "id": "3dd637e8-c465-4608-84aa-ca350571e543",
   "metadata": {},
   "outputs": [
    {
     "data": {
      "text/plain": [
       "490880196    20\n",
       "890637194    18\n",
       "347522196    16\n",
       "333930196    12\n",
       "522326196    12\n",
       "             ..\n",
       "933610194     1\n",
       "933616194     1\n",
       "933621194     1\n",
       "933624194     1\n",
       "894020194     1\n",
       "Name: NUMERO_INCIDENTE, Length: 14746, dtype: int64"
      ]
     },
     "execution_count": 332,
     "metadata": {},
     "output_type": "execute_result"
    }
   ],
   "source": [
    "col = 'NUMERO_INCIDENTE'\n",
    "raw_data[col].fillna('SIN_DATO').value_counts()"
   ]
  },
  {
   "cell_type": "code",
   "execution_count": 335,
   "id": "4c109147-859b-49c1-8d4c-3a335aba03af",
   "metadata": {},
   "outputs": [
    {
     "data": {
      "text/plain": [
       "8/08/2019 14:00     19\n",
       "27/08/2019 17:07    13\n",
       "13/08/2019 6:52     12\n",
       "12/08/2019 22:38     9\n",
       "7/08/2019 19:13      8\n",
       "                    ..\n",
       "12/08/2019 20:34     1\n",
       "12/08/2019 20:47     1\n",
       "12/08/2019 20:35     1\n",
       "12/08/2019 21:28     1\n",
       "8/08/2019 19:29      1\n",
       "Name: FECHA_INICIO_DESPLAZAMIENTO_MOVIL, Length: 13752, dtype: int64"
      ]
     },
     "execution_count": 335,
     "metadata": {},
     "output_type": "execute_result"
    }
   ],
   "source": [
    "col = 'FECHA_INICIO_DESPLAZAMIENTO_MOVIL'\n",
    "raw_data[col].fillna('SIN_DATO').value_counts()"
   ]
  },
  {
   "cell_type": "code",
   "execution_count": 336,
   "id": "5ca72043-584d-4fb8-a20a-d1be9add7d10",
   "metadata": {},
   "outputs": [],
   "source": [
    "#col = 'FECHA_DESPACHO_518'\n",
    "#raw_data[col].fillna('SIN_DATO').value_counts()"
   ]
  },
  {
   "cell_type": "code",
   "execution_count": 338,
   "id": "02c8269c-d7e3-4e4d-9fbd-72d0c8ad58d1",
   "metadata": {},
   "outputs": [],
   "source": [
    "#col = 'FECHA_DESPACHO_518'\n",
    "#raw_data[col] = pd.to_datetime(raw_data[col])\n",
    "#raw_data"
   ]
  },
  {
   "cell_type": "code",
   "execution_count": 339,
   "id": "1a0007a5-c7fd-4dc1-9374-e6dea79b371a",
   "metadata": {},
   "outputs": [
    {
     "data": {
      "text/plain": [
       "8     2717\n",
       "10    1805\n",
       "11    1678\n",
       "7     1264\n",
       "19    1220\n",
       "16     977\n",
       "4      906\n",
       "1      894\n",
       "18     892\n",
       "9      878\n",
       "2      707\n",
       "3      682\n",
       "5      637\n",
       "12     608\n",
       "13     599\n",
       "6      595\n",
       "14     593\n",
       "15     369\n",
       "17     119\n",
       "20       1\n",
       "Name: CODIGO_LOCALIDAD, dtype: int64"
      ]
     },
     "execution_count": 339,
     "metadata": {},
     "output_type": "execute_result"
    }
   ],
   "source": [
    "col = 'CODIGO_LOCALIDAD'\n",
    "raw_data[col].fillna('SIN_DATO').value_counts()"
   ]
  },
  {
   "cell_type": "code",
   "execution_count": 340,
   "id": "f68143e9-f655-4909-b7a3-4694f04348e4",
   "metadata": {},
   "outputs": [
    {
     "data": {
      "text/plain": [
       "SIN_DATO    8637\n",
       "22           323\n",
       "23           280\n",
       "25           272\n",
       "24           271\n",
       "            ... \n",
       "99            19\n",
       "6             18\n",
       "4             17\n",
       "97            15\n",
       "98            12\n",
       "Name: EDAD, Length: 100, dtype: int64"
      ]
     },
     "execution_count": 340,
     "metadata": {},
     "output_type": "execute_result"
    }
   ],
   "source": [
    "col = 'EDAD'\n",
    "raw_data[col].fillna('SIN_DATO').value_counts()"
   ]
  },
  {
   "cell_type": "code",
   "execution_count": 341,
   "id": "b0c7b8eb-b78a-4f00-af47-d008366d27c1",
   "metadata": {},
   "outputs": [
    {
     "data": {
      "text/plain": [
       "ALTA        15314\n",
       "MEDIA        2539\n",
       "BAJA          246\n",
       "SIN_DATO       42\n",
       "Name: PRIORIDAD, dtype: int64"
      ]
     },
     "execution_count": 341,
     "metadata": {},
     "output_type": "execute_result"
    }
   ],
   "source": [
    "col = 'PRIORIDAD'\n",
    "raw_data[col].fillna('SIN_DATO').value_counts()"
   ]
  },
  {
   "cell_type": "code",
   "execution_count": 342,
   "id": "5fc911a9-cc38-4e05-afbc-e79201f03048",
   "metadata": {},
   "outputs": [
    {
     "data": {
      "text/plain": [
       "Norte      7925\n",
       "Sur        6507\n",
       "Privada    3709\n",
       "Name: RED, dtype: int64"
      ]
     },
     "execution_count": 342,
     "metadata": {},
     "output_type": "execute_result"
    }
   ],
   "source": [
    "col = 'RED'\n",
    "raw_data[col].fillna('SIN_DATO').value_counts()"
   ]
  },
  {
   "cell_type": "code",
   "execution_count": 343,
   "id": "05877d00-8ae6-4e36-a712-3496ffe01710",
   "metadata": {},
   "outputs": [
    {
     "data": {
      "text/html": [
       "<div>\n",
       "<style scoped>\n",
       "    .dataframe tbody tr th:only-of-type {\n",
       "        vertical-align: middle;\n",
       "    }\n",
       "\n",
       "    .dataframe tbody tr th {\n",
       "        vertical-align: top;\n",
       "    }\n",
       "\n",
       "    .dataframe thead th {\n",
       "        text-align: right;\n",
       "    }\n",
       "</style>\n",
       "<table border=\"1\" class=\"dataframe\">\n",
       "  <thead>\n",
       "    <tr style=\"text-align: right;\">\n",
       "      <th></th>\n",
       "      <th>NUMERO_INCIDENTE</th>\n",
       "      <th>FECHA_INICIO_DESPLAZAMIENTO_MOVIL</th>\n",
       "      <th>CODIGO_LOCALIDAD</th>\n",
       "      <th>LOCALIDAD</th>\n",
       "      <th>EDAD</th>\n",
       "      <th>UNIDAD</th>\n",
       "      <th>GENERO</th>\n",
       "      <th>RED</th>\n",
       "      <th>TIPO_INCIDENTE</th>\n",
       "      <th>PRIORIDAD</th>\n",
       "      <th>MES</th>\n",
       "      <th>CLASIFICACION_FINAL</th>\n",
       "    </tr>\n",
       "  </thead>\n",
       "  <tbody>\n",
       "    <tr>\n",
       "      <th>0</th>\n",
       "      <td>809224194</td>\n",
       "      <td>2019-01-08 00:28:00</td>\n",
       "      <td>1</td>\n",
       "      <td>Usaquen</td>\n",
       "      <td>SIN_DATO</td>\n",
       "      <td>SIN_DATO</td>\n",
       "      <td>SIN_DATO</td>\n",
       "      <td>Norte</td>\n",
       "      <td>Inconsciente/Paro Cardiorrespiratorio</td>\n",
       "      <td>ALTA</td>\n",
       "      <td>AGOSTO</td>\n",
       "      <td>Cancelado</td>\n",
       "    </tr>\n",
       "    <tr>\n",
       "      <th>1</th>\n",
       "      <td>809224194</td>\n",
       "      <td>2019-01-08 00:28:00</td>\n",
       "      <td>1</td>\n",
       "      <td>Usaquen</td>\n",
       "      <td>SIN_DATO</td>\n",
       "      <td>SIN_DATO</td>\n",
       "      <td>SIN_DATO</td>\n",
       "      <td>Norte</td>\n",
       "      <td>Inconsciente/Paro Cardiorrespiratorio</td>\n",
       "      <td>ALTA</td>\n",
       "      <td>AGOSTO</td>\n",
       "      <td>Cancelado</td>\n",
       "    </tr>\n",
       "    <tr>\n",
       "      <th>2</th>\n",
       "      <td>809240194</td>\n",
       "      <td>2019-01-08 00:15:00</td>\n",
       "      <td>11</td>\n",
       "      <td>Suba</td>\n",
       "      <td>SIN_DATO</td>\n",
       "      <td>SIN_DATO</td>\n",
       "      <td>SIN_DATO</td>\n",
       "      <td>Norte</td>\n",
       "      <td>Accidente cerebro vascular</td>\n",
       "      <td>BAJA</td>\n",
       "      <td>AGOSTO</td>\n",
       "      <td>Cancelado</td>\n",
       "    </tr>\n",
       "    <tr>\n",
       "      <th>3</th>\n",
       "      <td>809240194</td>\n",
       "      <td>2019-01-08 00:15:00</td>\n",
       "      <td>11</td>\n",
       "      <td>Suba</td>\n",
       "      <td>SIN_DATO</td>\n",
       "      <td>SIN_DATO</td>\n",
       "      <td>SIN_DATO</td>\n",
       "      <td>Norte</td>\n",
       "      <td>Accidente cerebro vascular</td>\n",
       "      <td>BAJA</td>\n",
       "      <td>AGOSTO</td>\n",
       "      <td>Cancelado</td>\n",
       "    </tr>\n",
       "    <tr>\n",
       "      <th>4</th>\n",
       "      <td>809240194</td>\n",
       "      <td>2019-01-08 00:15:00</td>\n",
       "      <td>11</td>\n",
       "      <td>Suba</td>\n",
       "      <td>SIN_DATO</td>\n",
       "      <td>SIN_DATO</td>\n",
       "      <td>SIN_DATO</td>\n",
       "      <td>Norte</td>\n",
       "      <td>Accidente cerebro vascular</td>\n",
       "      <td>BAJA</td>\n",
       "      <td>AGOSTO</td>\n",
       "      <td>Cancelado</td>\n",
       "    </tr>\n",
       "    <tr>\n",
       "      <th>...</th>\n",
       "      <td>...</td>\n",
       "      <td>...</td>\n",
       "      <td>...</td>\n",
       "      <td>...</td>\n",
       "      <td>...</td>\n",
       "      <td>...</td>\n",
       "      <td>...</td>\n",
       "      <td>...</td>\n",
       "      <td>...</td>\n",
       "      <td>...</td>\n",
       "      <td>...</td>\n",
       "      <td>...</td>\n",
       "    </tr>\n",
       "    <tr>\n",
       "      <th>18136</th>\n",
       "      <td>892657194</td>\n",
       "      <td>2019-08-08 17:26:00</td>\n",
       "      <td>7</td>\n",
       "      <td>Bosa</td>\n",
       "      <td>30</td>\n",
       "      <td>Años</td>\n",
       "      <td>MASCULINO</td>\n",
       "      <td>Privada</td>\n",
       "      <td>Accidente de tránsito con heridos/Muertos</td>\n",
       "      <td>ALTA</td>\n",
       "      <td>AGOSTO</td>\n",
       "      <td>Traslado</td>\n",
       "    </tr>\n",
       "    <tr>\n",
       "      <th>18137</th>\n",
       "      <td>893082194</td>\n",
       "      <td>2019-08-08 18:18:00</td>\n",
       "      <td>16</td>\n",
       "      <td>Puente Aranda</td>\n",
       "      <td>17</td>\n",
       "      <td>Años</td>\n",
       "      <td>MASCULINO</td>\n",
       "      <td>Privada</td>\n",
       "      <td>Heridos</td>\n",
       "      <td>MEDIA</td>\n",
       "      <td>AGOSTO</td>\n",
       "      <td>Traslado</td>\n",
       "    </tr>\n",
       "    <tr>\n",
       "      <th>18138</th>\n",
       "      <td>893602194</td>\n",
       "      <td>2019-08-08 19:29:00</td>\n",
       "      <td>10</td>\n",
       "      <td>Engativa</td>\n",
       "      <td>SIN_DATO</td>\n",
       "      <td>SIN_DATO</td>\n",
       "      <td>SIN_DATO</td>\n",
       "      <td>Privada</td>\n",
       "      <td>Accidente de tránsito con heridos/Muertos</td>\n",
       "      <td>ALTA</td>\n",
       "      <td>AGOSTO</td>\n",
       "      <td>Cancelado</td>\n",
       "    </tr>\n",
       "    <tr>\n",
       "      <th>18139</th>\n",
       "      <td>893721194</td>\n",
       "      <td>2019-08-08 19:19:00</td>\n",
       "      <td>10</td>\n",
       "      <td>Engativa</td>\n",
       "      <td>73</td>\n",
       "      <td>Años</td>\n",
       "      <td>MASCULINO</td>\n",
       "      <td>Privada</td>\n",
       "      <td>Accidente de tránsito con heridos/Muertos</td>\n",
       "      <td>ALTA</td>\n",
       "      <td>AGOSTO</td>\n",
       "      <td>Traslado</td>\n",
       "    </tr>\n",
       "    <tr>\n",
       "      <th>18140</th>\n",
       "      <td>894020194</td>\n",
       "      <td>2019-08-08 19:16:00</td>\n",
       "      <td>8</td>\n",
       "      <td>Kennedy</td>\n",
       "      <td>27</td>\n",
       "      <td>Años</td>\n",
       "      <td>FEMENINO</td>\n",
       "      <td>Privada</td>\n",
       "      <td>Accidente de tránsito con heridos/Muertos</td>\n",
       "      <td>ALTA</td>\n",
       "      <td>AGOSTO</td>\n",
       "      <td>Traslado</td>\n",
       "    </tr>\n",
       "  </tbody>\n",
       "</table>\n",
       "<p>18141 rows × 12 columns</p>\n",
       "</div>"
      ],
      "text/plain": [
       "       NUMERO_INCIDENTE FECHA_INICIO_DESPLAZAMIENTO_MOVIL  CODIGO_LOCALIDAD  \\\n",
       "0             809224194               2019-01-08 00:28:00                 1   \n",
       "1             809224194               2019-01-08 00:28:00                 1   \n",
       "2             809240194               2019-01-08 00:15:00                11   \n",
       "3             809240194               2019-01-08 00:15:00                11   \n",
       "4             809240194               2019-01-08 00:15:00                11   \n",
       "...                 ...                               ...               ...   \n",
       "18136         892657194               2019-08-08 17:26:00                 7   \n",
       "18137         893082194               2019-08-08 18:18:00                16   \n",
       "18138         893602194               2019-08-08 19:29:00                10   \n",
       "18139         893721194               2019-08-08 19:19:00                10   \n",
       "18140         894020194               2019-08-08 19:16:00                 8   \n",
       "\n",
       "           LOCALIDAD      EDAD    UNIDAD     GENERO      RED  \\\n",
       "0            Usaquen  SIN_DATO  SIN_DATO   SIN_DATO    Norte   \n",
       "1            Usaquen  SIN_DATO  SIN_DATO   SIN_DATO    Norte   \n",
       "2               Suba  SIN_DATO  SIN_DATO   SIN_DATO    Norte   \n",
       "3               Suba  SIN_DATO  SIN_DATO   SIN_DATO    Norte   \n",
       "4               Suba  SIN_DATO  SIN_DATO   SIN_DATO    Norte   \n",
       "...              ...       ...       ...        ...      ...   \n",
       "18136           Bosa        30      Años  MASCULINO  Privada   \n",
       "18137  Puente Aranda        17      Años  MASCULINO  Privada   \n",
       "18138       Engativa  SIN_DATO  SIN_DATO   SIN_DATO  Privada   \n",
       "18139       Engativa        73      Años  MASCULINO  Privada   \n",
       "18140        Kennedy        27      Años   FEMENINO  Privada   \n",
       "\n",
       "                                  TIPO_INCIDENTE PRIORIDAD     MES  \\\n",
       "0          Inconsciente/Paro Cardiorrespiratorio      ALTA  AGOSTO   \n",
       "1          Inconsciente/Paro Cardiorrespiratorio      ALTA  AGOSTO   \n",
       "2                     Accidente cerebro vascular      BAJA  AGOSTO   \n",
       "3                     Accidente cerebro vascular      BAJA  AGOSTO   \n",
       "4                     Accidente cerebro vascular      BAJA  AGOSTO   \n",
       "...                                          ...       ...     ...   \n",
       "18136  Accidente de tránsito con heridos/Muertos      ALTA  AGOSTO   \n",
       "18137                                    Heridos     MEDIA  AGOSTO   \n",
       "18138  Accidente de tránsito con heridos/Muertos      ALTA  AGOSTO   \n",
       "18139  Accidente de tránsito con heridos/Muertos      ALTA  AGOSTO   \n",
       "18140  Accidente de tránsito con heridos/Muertos      ALTA  AGOSTO   \n",
       "\n",
       "      CLASIFICACION_FINAL  \n",
       "0               Cancelado  \n",
       "1               Cancelado  \n",
       "2               Cancelado  \n",
       "3               Cancelado  \n",
       "4               Cancelado  \n",
       "...                   ...  \n",
       "18136            Traslado  \n",
       "18137            Traslado  \n",
       "18138           Cancelado  \n",
       "18139            Traslado  \n",
       "18140            Traslado  \n",
       "\n",
       "[18141 rows x 12 columns]"
      ]
     },
     "execution_count": 343,
     "metadata": {},
     "output_type": "execute_result"
    }
   ],
   "source": [
    "col = 'FECHA_INICIO_DESPLAZAMIENTO_MOVIL'\n",
    "raw_data[col] = pd.to_datetime(raw_data[col])\n",
    "raw_data"
   ]
  },
  {
   "cell_type": "markdown",
   "id": "ed0d30da-1ead-4916-a018-16f3c969a569",
   "metadata": {},
   "source": [
    "Here this columns contains a null value, aka NaN (this is numeric value that is Null), lets replace them first\n",
    "* NaN --> SIN_DATO"
   ]
  },
  {
   "cell_type": "code",
   "execution_count": 344,
   "id": "8510699c-d135-477d-bc61-2ba0017473da",
   "metadata": {},
   "outputs": [
    {
     "data": {
      "text/plain": [
       "2019-08-08 14:00:00    19\n",
       "2019-08-27 17:07:00    13\n",
       "2019-08-13 06:52:00    12\n",
       "2019-12-08 22:38:00     9\n",
       "2019-07-08 19:13:00     8\n",
       "                       ..\n",
       "2019-12-08 20:34:00     1\n",
       "2019-12-08 20:47:00     1\n",
       "2019-12-08 20:35:00     1\n",
       "2019-12-08 21:28:00     1\n",
       "2019-08-08 19:29:00     1\n",
       "Name: FECHA_INICIO_DESPLAZAMIENTO_MOVIL, Length: 13752, dtype: int64"
      ]
     },
     "execution_count": 344,
     "metadata": {},
     "output_type": "execute_result"
    }
   ],
   "source": [
    "raw_data[col].fillna('SIN_DATO').value_counts()"
   ]
  },
  {
   "cell_type": "code",
   "execution_count": 345,
   "id": "046865ae-7421-4b6b-9bbb-89891cad72a0",
   "metadata": {},
   "outputs": [
    {
     "data": {
      "text/html": [
       "<div>\n",
       "<style scoped>\n",
       "    .dataframe tbody tr th:only-of-type {\n",
       "        vertical-align: middle;\n",
       "    }\n",
       "\n",
       "    .dataframe tbody tr th {\n",
       "        vertical-align: top;\n",
       "    }\n",
       "\n",
       "    .dataframe thead th {\n",
       "        text-align: right;\n",
       "    }\n",
       "</style>\n",
       "<table border=\"1\" class=\"dataframe\">\n",
       "  <thead>\n",
       "    <tr style=\"text-align: right;\">\n",
       "      <th></th>\n",
       "      <th>NUMERO_INCIDENTE</th>\n",
       "      <th>FECHA_INICIO_DESPLAZAMIENTO_MOVIL</th>\n",
       "      <th>CODIGO_LOCALIDAD</th>\n",
       "      <th>LOCALIDAD</th>\n",
       "      <th>EDAD</th>\n",
       "      <th>UNIDAD</th>\n",
       "      <th>GENERO</th>\n",
       "      <th>RED</th>\n",
       "      <th>TIPO_INCIDENTE</th>\n",
       "      <th>PRIORIDAD</th>\n",
       "      <th>MES</th>\n",
       "      <th>CLASIFICACION_FINAL</th>\n",
       "    </tr>\n",
       "  </thead>\n",
       "  <tbody>\n",
       "    <tr>\n",
       "      <th>0</th>\n",
       "      <td>809224194</td>\n",
       "      <td>2019-01-08 00:28:00</td>\n",
       "      <td>1</td>\n",
       "      <td>Usaquen</td>\n",
       "      <td>SIN_DATO</td>\n",
       "      <td>SIN_DATO</td>\n",
       "      <td>SIN_DATO</td>\n",
       "      <td>Norte</td>\n",
       "      <td>Inconsciente/Paro Cardiorrespiratorio</td>\n",
       "      <td>ALTA</td>\n",
       "      <td>AGOSTO</td>\n",
       "      <td>Cancelado</td>\n",
       "    </tr>\n",
       "    <tr>\n",
       "      <th>1</th>\n",
       "      <td>809224194</td>\n",
       "      <td>2019-01-08 00:28:00</td>\n",
       "      <td>1</td>\n",
       "      <td>Usaquen</td>\n",
       "      <td>SIN_DATO</td>\n",
       "      <td>SIN_DATO</td>\n",
       "      <td>SIN_DATO</td>\n",
       "      <td>Norte</td>\n",
       "      <td>Inconsciente/Paro Cardiorrespiratorio</td>\n",
       "      <td>ALTA</td>\n",
       "      <td>AGOSTO</td>\n",
       "      <td>Cancelado</td>\n",
       "    </tr>\n",
       "    <tr>\n",
       "      <th>2</th>\n",
       "      <td>809240194</td>\n",
       "      <td>2019-01-08 00:15:00</td>\n",
       "      <td>11</td>\n",
       "      <td>Suba</td>\n",
       "      <td>SIN_DATO</td>\n",
       "      <td>SIN_DATO</td>\n",
       "      <td>SIN_DATO</td>\n",
       "      <td>Norte</td>\n",
       "      <td>Accidente cerebro vascular</td>\n",
       "      <td>BAJA</td>\n",
       "      <td>AGOSTO</td>\n",
       "      <td>Cancelado</td>\n",
       "    </tr>\n",
       "    <tr>\n",
       "      <th>3</th>\n",
       "      <td>809240194</td>\n",
       "      <td>2019-01-08 00:15:00</td>\n",
       "      <td>11</td>\n",
       "      <td>Suba</td>\n",
       "      <td>SIN_DATO</td>\n",
       "      <td>SIN_DATO</td>\n",
       "      <td>SIN_DATO</td>\n",
       "      <td>Norte</td>\n",
       "      <td>Accidente cerebro vascular</td>\n",
       "      <td>BAJA</td>\n",
       "      <td>AGOSTO</td>\n",
       "      <td>Cancelado</td>\n",
       "    </tr>\n",
       "    <tr>\n",
       "      <th>4</th>\n",
       "      <td>809240194</td>\n",
       "      <td>2019-01-08 00:15:00</td>\n",
       "      <td>11</td>\n",
       "      <td>Suba</td>\n",
       "      <td>SIN_DATO</td>\n",
       "      <td>SIN_DATO</td>\n",
       "      <td>SIN_DATO</td>\n",
       "      <td>Norte</td>\n",
       "      <td>Accidente cerebro vascular</td>\n",
       "      <td>BAJA</td>\n",
       "      <td>AGOSTO</td>\n",
       "      <td>Cancelado</td>\n",
       "    </tr>\n",
       "  </tbody>\n",
       "</table>\n",
       "</div>"
      ],
      "text/plain": [
       "   NUMERO_INCIDENTE FECHA_INICIO_DESPLAZAMIENTO_MOVIL  CODIGO_LOCALIDAD  \\\n",
       "0         809224194               2019-01-08 00:28:00                 1   \n",
       "1         809224194               2019-01-08 00:28:00                 1   \n",
       "2         809240194               2019-01-08 00:15:00                11   \n",
       "3         809240194               2019-01-08 00:15:00                11   \n",
       "4         809240194               2019-01-08 00:15:00                11   \n",
       "\n",
       "  LOCALIDAD      EDAD    UNIDAD    GENERO    RED  \\\n",
       "0   Usaquen  SIN_DATO  SIN_DATO  SIN_DATO  Norte   \n",
       "1   Usaquen  SIN_DATO  SIN_DATO  SIN_DATO  Norte   \n",
       "2      Suba  SIN_DATO  SIN_DATO  SIN_DATO  Norte   \n",
       "3      Suba  SIN_DATO  SIN_DATO  SIN_DATO  Norte   \n",
       "4      Suba  SIN_DATO  SIN_DATO  SIN_DATO  Norte   \n",
       "\n",
       "                          TIPO_INCIDENTE PRIORIDAD     MES CLASIFICACION_FINAL  \n",
       "0  Inconsciente/Paro Cardiorrespiratorio      ALTA  AGOSTO           Cancelado  \n",
       "1  Inconsciente/Paro Cardiorrespiratorio      ALTA  AGOSTO           Cancelado  \n",
       "2             Accidente cerebro vascular      BAJA  AGOSTO           Cancelado  \n",
       "3             Accidente cerebro vascular      BAJA  AGOSTO           Cancelado  \n",
       "4             Accidente cerebro vascular      BAJA  AGOSTO           Cancelado  "
      ]
     },
     "execution_count": 345,
     "metadata": {},
     "output_type": "execute_result"
    }
   ],
   "source": [
    "col = 'CLASIFICACION_FINAL'\n",
    "raw_data[col].fillna('SIN_DATO', inplace=True)\n",
    "raw_data[col] = raw_data[col].apply(lambda x: x.strip())\n",
    "raw_data.head()"
   ]
  },
  {
   "cell_type": "code",
   "execution_count": 346,
   "id": "6fb868f0-eef8-4dd4-bac7-c62c1f01f034",
   "metadata": {},
   "outputs": [
    {
     "data": {
      "text/plain": [
       "Traslado                       7311\n",
       "Cancelado                      4935\n",
       "Trasladado por Otro Recurso    1813\n",
       "Falsa Alarma                   1738\n",
       "Desistimiento                  1449\n",
       "No Amerita Traslado             452\n",
       "No Ubica                        235\n",
       "Fallecido                       205\n",
       "SIN_DATO                          3\n",
       "Name: CLASIFICACION_FINAL, dtype: int64"
      ]
     },
     "execution_count": 346,
     "metadata": {},
     "output_type": "execute_result"
    }
   ],
   "source": [
    "col = 'CLASIFICACION_FINAL'\n",
    "raw_data[col].fillna('SIN_DATO').value_counts()"
   ]
  },
  {
   "cell_type": "markdown",
   "id": "e6f30471-1464-47a9-a444-970a302baea7",
   "metadata": {},
   "source": [
    "# Profile of the Data\n",
    "------\n",
    "first install pandas profiling, from a terminal\n",
    "\n",
    "````\n",
    "pip install pandas-profiling\n",
    "````"
   ]
  },
  {
   "cell_type": "code",
   "execution_count": 347,
   "id": "66f66769-d164-42e4-bcfb-e43b7fef1859",
   "metadata": {},
   "outputs": [
    {
     "data": {
      "application/vnd.jupyter.widget-view+json": {
       "model_id": "909b2041b48e400987aea240f84a5125",
       "version_major": 2,
       "version_minor": 0
      },
      "text/plain": [
       "Summarize dataset:   0%|          | 0/25 [00:00<?, ?it/s]"
      ]
     },
     "metadata": {},
     "output_type": "display_data"
    },
    {
     "data": {
      "application/vnd.jupyter.widget-view+json": {
       "model_id": "63ce55694d5c4eed89b796d9799a56cb",
       "version_major": 2,
       "version_minor": 0
      },
      "text/plain": [
       "Generate report structure:   0%|          | 0/1 [00:00<?, ?it/s]"
      ]
     },
     "metadata": {},
     "output_type": "display_data"
    },
    {
     "data": {
      "application/vnd.jupyter.widget-view+json": {
       "model_id": "3c230899f2fe430daf2f2d3458b2b431",
       "version_major": 2,
       "version_minor": 0
      },
      "text/plain": [
       "Render HTML:   0%|          | 0/1 [00:00<?, ?it/s]"
      ]
     },
     "metadata": {},
     "output_type": "display_data"
    },
    {
     "data": {
      "application/vnd.jupyter.widget-view+json": {
       "model_id": "6760c5dc491241469c6f7b4f43250fb3",
       "version_major": 2,
       "version_minor": 0
      },
      "text/plain": [
       "Export report to file:   0%|          | 0/1 [00:00<?, ?it/s]"
      ]
     },
     "metadata": {},
     "output_type": "display_data"
    }
   ],
   "source": [
    "profile = ProfileReport(df=raw_data)\n",
    "profile.to_file(output_file=project_dir + '/reports/'+'profile_raw_data_agosto_2019.html')"
   ]
  },
  {
   "cell_type": "markdown",
   "id": "a7a93408-dff3-402c-8324-2262c187a797",
   "metadata": {},
   "source": [
    "Form the initial report of the file we see that are duplicates rows in the table, we need to subtract them"
   ]
  },
  {
   "cell_type": "markdown",
   "id": "113216ea-7395-4cb0-8691-b9554ec270ab",
   "metadata": {},
   "source": [
    "### Remove duplicates"
   ]
  },
  {
   "cell_type": "code",
   "execution_count": 348,
   "id": "67b41e99-6206-4a24-b838-b8f8e71ae17f",
   "metadata": {},
   "outputs": [
    {
     "name": "stdout",
     "output_type": "stream",
     "text": [
      "Number of rows before cleaning: 18141\n",
      "Number of rows after cleaning: 16807\n"
     ]
    }
   ],
   "source": [
    "print('Number of rows before cleaning:', raw_data.shape[0] )\n",
    "raw_data.drop_duplicates(inplace=True)\n",
    "print('Number of rows after cleaning:', raw_data.shape[0] )"
   ]
  },
  {
   "cell_type": "markdown",
   "id": "a89276dd-f903-4752-9f7f-15e360c7207f",
   "metadata": {},
   "source": [
    "### Save the final table\n",
    "use to_csv to save the table]"
   ]
  },
  {
   "cell_type": "code",
   "execution_count": 349,
   "id": "33a9d6aa-ed3d-465b-a920-404a17490f79",
   "metadata": {},
   "outputs": [],
   "source": [
    "#saving in a local directory\n",
    "raw_data.to_csv(project_dir + '/data/processed/' +'clean_llamadas_123_agosto_2019.csv', encoding='latin1', sep=';', index=False)"
   ]
  },
  {
   "cell_type": "code",
   "execution_count": null,
   "id": "45a07cac-a200-4a9a-86dd-1d5a62ab5c4f",
   "metadata": {},
   "outputs": [],
   "source": []
  }
 ],
 "metadata": {
  "environment": {
   "kernel": "python3",
   "name": "common-cpu.m91",
   "type": "gcloud",
   "uri": "gcr.io/deeplearning-platform-release/base-cpu:m91"
  },
  "kernelspec": {
   "display_name": "Python 3",
   "language": "python",
   "name": "python3"
  },
  "language_info": {
   "codemirror_mode": {
    "name": "ipython",
    "version": 3
   },
   "file_extension": ".py",
   "mimetype": "text/x-python",
   "name": "python",
   "nbconvert_exporter": "python",
   "pygments_lexer": "ipython3",
   "version": "3.7.12"
  }
 },
 "nbformat": 4,
 "nbformat_minor": 5
}
