{
 "cells": [
  {
   "cell_type": "markdown",
   "id": "a7dac6ca-3d99-49ad-b3bd-76c1144c6939",
   "metadata": {},
   "source": [
    "# Read and clean a single file"
   ]
  },
  {
   "cell_type": "code",
   "execution_count": 1,
   "id": "19dc2eac-db51-40ad-9834-b50602429973",
   "metadata": {},
   "outputs": [],
   "source": [
    "import os\n",
    "import sys\n",
    "import logging\n",
    "import pandas as pd\n",
    "\n",
    "from pandas_profiling import ProfileReport\n",
    "\n",
    "\n",
    "project_dir = os.path.dirname(os.path.abspath('.')) # get the path of the project, if doesn't work use os.getcwd() instead and use rfind to find the project dir\n",
    "sys.path.append(os.path.join(project_dir, 'src', 'data'))\n",
    "\n",
    "from data_manipulator import get_input_data\n",
    "\n",
    "bucket = 'esp-big-data'\n",
    "directory = 'BigData'"
   ]
  },
  {
   "cell_type": "markdown",
   "id": "6531655d-2cc6-40bf-8f3d-af0e28004fe1",
   "metadata": {},
   "source": [
    "## Read Metadata\n",
    "-----\n",
    "General info for each relevant column"
   ]
  },
  {
   "cell_type": "code",
   "execution_count": 2,
   "id": "4e1ea718-96b7-4eaa-95e7-7d9f314b5b56",
   "metadata": {},
   "outputs": [
    {
     "data": {
      "text/html": [
       "<div>\n",
       "<style scoped>\n",
       "    .dataframe tbody tr th:only-of-type {\n",
       "        vertical-align: middle;\n",
       "    }\n",
       "\n",
       "    .dataframe tbody tr th {\n",
       "        vertical-align: top;\n",
       "    }\n",
       "\n",
       "    .dataframe thead th {\n",
       "        text-align: right;\n",
       "    }\n",
       "</style>\n",
       "<table border=\"1\" class=\"dataframe\">\n",
       "  <thead>\n",
       "    <tr style=\"text-align: right;\">\n",
       "      <th></th>\n",
       "      <th>NOMBRE</th>\n",
       "      <th>DESCRIPCION</th>\n",
       "    </tr>\n",
       "  </thead>\n",
       "  <tbody>\n",
       "    <tr>\n",
       "      <th>0</th>\n",
       "      <td>FECHA_INCIDENTE</td>\n",
       "      <td>Es la fecha el cual se registra la llamada del...</td>\n",
       "    </tr>\n",
       "    <tr>\n",
       "      <th>1</th>\n",
       "      <td>FECHA_INICIO_DESPLAZAMIENTO_MOVIL</td>\n",
       "      <td>Es la fecha el cual se inicia el desplazamient...</td>\n",
       "    </tr>\n",
       "    <tr>\n",
       "      <th>2</th>\n",
       "      <td>CODIGO LOCALIDAD</td>\n",
       "      <td>Es el código de las 20 localidades de la ciuda...</td>\n",
       "    </tr>\n",
       "    <tr>\n",
       "      <th>3</th>\n",
       "      <td>LOCALIDAD</td>\n",
       "      <td>Es la localidad donde sucede el incidente.</td>\n",
       "    </tr>\n",
       "    <tr>\n",
       "      <th>4</th>\n",
       "      <td>EDAD</td>\n",
       "      <td>La edad del paciente.</td>\n",
       "    </tr>\n",
       "    <tr>\n",
       "      <th>5</th>\n",
       "      <td>UNIDAD</td>\n",
       "      <td>La descripción de la edad si es en horas, días...</td>\n",
       "    </tr>\n",
       "    <tr>\n",
       "      <th>6</th>\n",
       "      <td>GENERO</td>\n",
       "      <td>Es la  distinción de genero del paciente</td>\n",
       "    </tr>\n",
       "    <tr>\n",
       "      <th>7</th>\n",
       "      <td>RED</td>\n",
       "      <td>Es la localización a nivel bogota de la red de...</td>\n",
       "    </tr>\n",
       "    <tr>\n",
       "      <th>8</th>\n",
       "      <td>TIPO_INCIDENTE</td>\n",
       "      <td>Es la descripción inicial que tipifica el cent...</td>\n",
       "    </tr>\n",
       "    <tr>\n",
       "      <th>9</th>\n",
       "      <td>PRIORIDAD</td>\n",
       "      <td>Es la tipificación según la prioridad del inci...</td>\n",
       "    </tr>\n",
       "    <tr>\n",
       "      <th>10</th>\n",
       "      <td>MES</td>\n",
       "      <td>Es el mes el cual ocurrió el incidente.</td>\n",
       "    </tr>\n",
       "    <tr>\n",
       "      <th>11</th>\n",
       "      <td>CLASIFICACION FINAL</td>\n",
       "      <td>Es la clasificación final que entrega el centr...</td>\n",
       "    </tr>\n",
       "  </tbody>\n",
       "</table>\n",
       "</div>"
      ],
      "text/plain": [
       "                               NOMBRE  \\\n",
       "0                     FECHA_INCIDENTE   \n",
       "1   FECHA_INICIO_DESPLAZAMIENTO_MOVIL   \n",
       "2                    CODIGO LOCALIDAD   \n",
       "3                           LOCALIDAD   \n",
       "4                                EDAD   \n",
       "5                              UNIDAD   \n",
       "6                              GENERO   \n",
       "7                                 RED   \n",
       "8                      TIPO_INCIDENTE   \n",
       "9                           PRIORIDAD   \n",
       "10                                MES   \n",
       "11                CLASIFICACION FINAL   \n",
       "\n",
       "                                          DESCRIPCION  \n",
       "0   Es la fecha el cual se registra la llamada del...  \n",
       "1   Es la fecha el cual se inicia el desplazamient...  \n",
       "2   Es el código de las 20 localidades de la ciuda...  \n",
       "3          Es la localidad donde sucede el incidente.  \n",
       "4                               La edad del paciente.  \n",
       "5   La descripción de la edad si es en horas, días...  \n",
       "6            Es la  distinción de genero del paciente  \n",
       "7   Es la localización a nivel bogota de la red de...  \n",
       "8   Es la descripción inicial que tipifica el cent...  \n",
       "9   Es la tipificación según la prioridad del inci...  \n",
       "10            Es el mes el cual ocurrió el incidente.  \n",
       "11  Es la clasificación final que entrega el centr...  "
      ]
     },
     "execution_count": 2,
     "metadata": {},
     "output_type": "execute_result"
    }
   ],
   "source": [
    "file = 'gs://{}/{}/data/metadatos-llamadas-urg-y-emer.csv'.format(bucket, directory)\n",
    "df_metadata = pd.read_csv(file, encoding='latin1', sep=';')\n",
    "df_metadata"
   ]
  },
  {
   "cell_type": "markdown",
   "id": "e9553498-4f18-4757-92f7-384a12ebcff2",
   "metadata": {},
   "source": [
    "The final data must contains this and only this columns with that specific headers in order to standarize the data, this is a type of data dictionary but it also must include the data types (**schema**) of each field (**column**)"
   ]
  },
  {
   "cell_type": "markdown",
   "id": "ca09f0ce-cd22-4aca-94f5-61f4264efde5",
   "metadata": {},
   "source": [
    "## Get raw data"
   ]
  },
  {
   "cell_type": "code",
   "execution_count": 98,
   "id": "4b03382e-9a1c-4532-a256-70a085241dac",
   "metadata": {},
   "outputs": [
    {
     "name": "stdout",
     "output_type": "stream",
     "text": [
      "<class 'pandas.core.frame.DataFrame'>\n",
      "RangeIndex: 16243 entries, 0 to 16242\n",
      "Data columns (total 10 columns):\n",
      " #   Column               Non-Null Count  Dtype \n",
      "---  ------               --------------  ----- \n",
      " 0   NUMERO_INCIDENTE     16243 non-null  object\n",
      " 1   FECHA_DESPACHO_518   16243 non-null  object\n",
      " 2   CODIGO DE LOCALIDAD  16243 non-null  int64 \n",
      " 3   LOCALIDAD            16243 non-null  object\n",
      " 4   EDAD                 16243 non-null  int64 \n",
      " 5   UNIDAD               16243 non-null  object\n",
      " 6   GENERO               16243 non-null  object\n",
      " 7   RED                  16243 non-null  object\n",
      " 8   TIPO_INCIDENTE       16243 non-null  object\n",
      " 9   PRIORIDAD            16243 non-null  object\n",
      "dtypes: int64(2), object(8)\n",
      "memory usage: 1.2+ MB\n",
      "None\n"
     ]
    }
   ],
   "source": [
    "raw_data = get_input_data(\n",
    "    bucket            = bucket,\n",
    "    initial_directory = directory,\n",
    "    filename          = 'datos_abiertos_cons_diciembre_2019.csv'\n",
    ")\n",
    "print(raw_data.info())"
   ]
  },
  {
   "cell_type": "markdown",
   "id": "5eb9ef0e-e60c-49ce-94f7-6d3f18f71a62",
   "metadata": {},
   "source": [
    "It seems that this file contains already the fields, but need to rename them.\n",
    "\n",
    "September file only contains 10 columns instead of 12, let's impute them"
   ]
  },
  {
   "cell_type": "code",
   "execution_count": 99,
   "id": "1e4541ae-9303-481c-a6b2-9edef742f021",
   "metadata": {},
   "outputs": [],
   "source": [
    "raw_data['MES'] = ['DICIEMBRE']*raw_data.shape[0]                    # fill the column with the same value\n",
    "raw_data['CLASIFICACION_FINAL'] = ['SIN-DATO']*raw_data.shape[0]"
   ]
  },
  {
   "cell_type": "markdown",
   "id": "9bbedf48-cbe2-41c5-bcd7-d99f3d3f4caf",
   "metadata": {},
   "source": [
    "### Rename Columns"
   ]
  },
  {
   "cell_type": "code",
   "execution_count": 100,
   "id": "4d354b06-a4ef-4a8e-81d5-2a1ba773e78f",
   "metadata": {},
   "outputs": [
    {
     "data": {
      "text/html": [
       "<div>\n",
       "<style scoped>\n",
       "    .dataframe tbody tr th:only-of-type {\n",
       "        vertical-align: middle;\n",
       "    }\n",
       "\n",
       "    .dataframe tbody tr th {\n",
       "        vertical-align: top;\n",
       "    }\n",
       "\n",
       "    .dataframe thead th {\n",
       "        text-align: right;\n",
       "    }\n",
       "</style>\n",
       "<table border=\"1\" class=\"dataframe\">\n",
       "  <thead>\n",
       "    <tr style=\"text-align: right;\">\n",
       "      <th></th>\n",
       "      <th>NUMERO_INCIDENTE</th>\n",
       "      <th>FECHA_DESPACHO_518</th>\n",
       "      <th>CODIGO_LOCALIDAD</th>\n",
       "      <th>LOCALIDAD</th>\n",
       "      <th>EDAD</th>\n",
       "      <th>UNIDAD</th>\n",
       "      <th>GENERO</th>\n",
       "      <th>RED</th>\n",
       "      <th>TIPO_INCIDENTE</th>\n",
       "      <th>PRIORIDAD</th>\n",
       "      <th>MES</th>\n",
       "      <th>CLASIFICACION_FINAL</th>\n",
       "    </tr>\n",
       "  </thead>\n",
       "  <tbody>\n",
       "    <tr>\n",
       "      <th>0</th>\n",
       "      <td>1178693196</td>\n",
       "      <td>2019-12-01 03:18:23</td>\n",
       "      <td>8</td>\n",
       "      <td>Kennedy</td>\n",
       "      <td>14</td>\n",
       "      <td>Años</td>\n",
       "      <td>MASCULINO</td>\n",
       "      <td>Privada</td>\n",
       "      <td>Accidente Tránsito con Heridos/Muertos</td>\n",
       "      <td>ALTA</td>\n",
       "      <td>DICIEMBRE</td>\n",
       "      <td>SIN-DATO</td>\n",
       "    </tr>\n",
       "    <tr>\n",
       "      <th>1</th>\n",
       "      <td>1176480196</td>\n",
       "      <td>2019-12-01 00:05:59</td>\n",
       "      <td>5</td>\n",
       "      <td>Usme</td>\n",
       "      <td>0</td>\n",
       "      <td>SIN/DATO</td>\n",
       "      <td>SIN/DATO</td>\n",
       "      <td>Sur</td>\n",
       "      <td>Accidente Tránsito con Heridos/Muertos</td>\n",
       "      <td>ALTA</td>\n",
       "      <td>DICIEMBRE</td>\n",
       "      <td>SIN-DATO</td>\n",
       "    </tr>\n",
       "    <tr>\n",
       "      <th>2</th>\n",
       "      <td>1180282196</td>\n",
       "      <td>2019-12-01 05:37:10</td>\n",
       "      <td>7</td>\n",
       "      <td>Bosa</td>\n",
       "      <td>32</td>\n",
       "      <td>Años</td>\n",
       "      <td>MASCULINO</td>\n",
       "      <td>Privada</td>\n",
       "      <td>Accidente Tránsito con Heridos/Muertos</td>\n",
       "      <td>ALTA</td>\n",
       "      <td>DICIEMBRE</td>\n",
       "      <td>SIN-DATO</td>\n",
       "    </tr>\n",
       "    <tr>\n",
       "      <th>3</th>\n",
       "      <td>1176520196</td>\n",
       "      <td>2019-12-01 00:07:43</td>\n",
       "      <td>3</td>\n",
       "      <td>Santa Fe</td>\n",
       "      <td>0</td>\n",
       "      <td>SIN/DATO</td>\n",
       "      <td>SIN/DATO</td>\n",
       "      <td>Norte</td>\n",
       "      <td>Lesiones Personales</td>\n",
       "      <td>ALTA</td>\n",
       "      <td>DICIEMBRE</td>\n",
       "      <td>SIN-DATO</td>\n",
       "    </tr>\n",
       "    <tr>\n",
       "      <th>4</th>\n",
       "      <td>1180873196</td>\n",
       "      <td>2019-12-01 07:14:08</td>\n",
       "      <td>5</td>\n",
       "      <td>Usme</td>\n",
       "      <td>53</td>\n",
       "      <td>Años</td>\n",
       "      <td>FEMENINO</td>\n",
       "      <td>Privada</td>\n",
       "      <td>Accidente Tránsito con Heridos/Muertos</td>\n",
       "      <td>ALTA</td>\n",
       "      <td>DICIEMBRE</td>\n",
       "      <td>SIN-DATO</td>\n",
       "    </tr>\n",
       "  </tbody>\n",
       "</table>\n",
       "</div>"
      ],
      "text/plain": [
       "  NUMERO_INCIDENTE   FECHA_DESPACHO_518  CODIGO_LOCALIDAD LOCALIDAD  EDAD  \\\n",
       "0       1178693196  2019-12-01 03:18:23                 8   Kennedy    14   \n",
       "1       1176480196  2019-12-01 00:05:59                 5      Usme     0   \n",
       "2       1180282196  2019-12-01 05:37:10                 7      Bosa    32   \n",
       "3       1176520196  2019-12-01 00:07:43                 3  Santa Fe     0   \n",
       "4       1180873196  2019-12-01 07:14:08                 5      Usme    53   \n",
       "\n",
       "     UNIDAD     GENERO      RED                          TIPO_INCIDENTE  \\\n",
       "0      Años  MASCULINO  Privada  Accidente Tránsito con Heridos/Muertos   \n",
       "1  SIN/DATO   SIN/DATO      Sur  Accidente Tránsito con Heridos/Muertos   \n",
       "2      Años  MASCULINO  Privada  Accidente Tránsito con Heridos/Muertos   \n",
       "3  SIN/DATO   SIN/DATO    Norte                     Lesiones Personales   \n",
       "4      Años   FEMENINO  Privada  Accidente Tránsito con Heridos/Muertos   \n",
       "\n",
       "  PRIORIDAD        MES CLASIFICACION_FINAL  \n",
       "0      ALTA  DICIEMBRE            SIN-DATO  \n",
       "1      ALTA  DICIEMBRE            SIN-DATO  \n",
       "2      ALTA  DICIEMBRE            SIN-DATO  \n",
       "3      ALTA  DICIEMBRE            SIN-DATO  \n",
       "4      ALTA  DICIEMBRE            SIN-DATO  "
      ]
     },
     "execution_count": 100,
     "metadata": {},
     "output_type": "execute_result"
    }
   ],
   "source": [
    "# Don't let white spaces between headers to avoid errors during the pipeline\n",
    "# This is sometimes called a recipe for etl\n",
    "raw_data.rename(\n",
    "    columns = {\n",
    "        'FECHA_INICIO_DESPLAZAMIENTO-MOVIL' : 'FECHA_INICIO_DESPLAZAMIENTO_MOVIL',\n",
    "        'CODIGO DE LOCALIDAD'               : 'CODIGO_LOCALIDAD',\n",
    "        'CLASIFICACION FINAL'               : 'CLASIFICACION_FINAL',\n",
    "        'TIPO DE INCIDIDENT'                : 'TIPO_INCIDENTE',                    # AGOSTO HAS THIS BAD COLUMN NAME\n",
    "        'FECHA_DEPACHO_518'                 : 'FECHA_INICIO_DESPLAZAMIENTO_MOVIL', # Octubre and Diciembre has this bad column name\n",
    "        \n",
    "    },\n",
    "    inplace=True\n",
    ")\n",
    "raw_data.head()"
   ]
  },
  {
   "cell_type": "markdown",
   "id": "188353cb-3a29-4285-9e1d-5ca19ed9105c",
   "metadata": {},
   "source": [
    "### Check values per field\n",
    "--------\n",
    "1. LOCALIDAD\n",
    "2. GENERO"
   ]
  },
  {
   "cell_type": "code",
   "execution_count": 101,
   "id": "c7e613bd-d1d0-49bd-b7a3-919e2ed04957",
   "metadata": {},
   "outputs": [
    {
     "data": {
      "text/plain": [
       " Kennedy              2317\n",
       "Engativá              1644\n",
       "Suba                  1471\n",
       "Bosa                  1182\n",
       "Ciudad Bolívar        1121\n",
       "Puente Aranda          904\n",
       "Fontibón               864\n",
       "San Cristóbal          838\n",
       "Rafael Uribe Uribe     772\n",
       "Usaquén                770\n",
       "Usme                   630\n",
       "Tunjuelito             616\n",
       "Santa Fe               589\n",
       "Chapinero              556\n",
       "Los Mártires           525\n",
       "Barrios Unidos         513\n",
       "Teusaquillo            497\n",
       "Antonio Nariño         373\n",
       "La Candelaria           60\n",
       "Sumapaz                  1\n",
       "Name: LOCALIDAD, dtype: int64"
      ]
     },
     "execution_count": 101,
     "metadata": {},
     "output_type": "execute_result"
    }
   ],
   "source": [
    "raw_data['LOCALIDAD'].value_counts(dropna=False)"
   ]
  },
  {
   "cell_type": "markdown",
   "id": "1af92623-c419-4db6-b0a2-5d0d0dc158d2",
   "metadata": {},
   "source": [
    "It seems that in some fields exist a white space at the begining of the values, probably at the end too, lets clean them all"
   ]
  },
  {
   "cell_type": "code",
   "execution_count": 102,
   "id": "7c754d13-cb9a-4dfc-ba72-1271de89939c",
   "metadata": {},
   "outputs": [
    {
     "data": {
      "text/plain": [
       "'hola mundo'"
      ]
     },
     "execution_count": 102,
     "metadata": {},
     "output_type": "execute_result"
    }
   ],
   "source": [
    "palabra = '   hola mundo    '\n",
    "palabra.strip()"
   ]
  },
  {
   "cell_type": "code",
   "execution_count": 103,
   "id": "aa8e1799-a9f9-479e-b93a-06c6c2c05fd0",
   "metadata": {},
   "outputs": [
    {
     "data": {
      "text/plain": [
       "Kennedy               2317\n",
       "Engativá              1644\n",
       "Suba                  1471\n",
       "Bosa                  1182\n",
       "Ciudad Bolívar        1121\n",
       "Puente Aranda          904\n",
       "Fontibón               864\n",
       "San Cristóbal          838\n",
       "Rafael Uribe Uribe     772\n",
       "Usaquén                770\n",
       "Usme                   630\n",
       "Tunjuelito             616\n",
       "Santa Fe               589\n",
       "Chapinero              556\n",
       "Los Mártires           525\n",
       "Barrios Unidos         513\n",
       "Teusaquillo            497\n",
       "Antonio Nariño         373\n",
       "La Candelaria           60\n",
       "Sumapaz                  1\n",
       "Name: LOCALIDAD, dtype: int64"
      ]
     },
     "execution_count": 103,
     "metadata": {},
     "output_type": "execute_result"
    }
   ],
   "source": [
    "# Let's use the function strip(), this property works for string objects in python that removes whitespaces\n",
    "raw_data['LOCALIDAD'].apply(\n",
    "    lambda x: x.strip()        # here we use a lambda function, exclusively for python. Is a one-line function\n",
    ").value_counts()"
   ]
  },
  {
   "cell_type": "code",
   "execution_count": 104,
   "id": "ea1c48db-18e8-41a3-8377-1c41b2582423",
   "metadata": {},
   "outputs": [],
   "source": [
    "raw_data['LOCALIDAD'] = raw_data['LOCALIDAD'].apply(lambda x: x.strip()) # we assign the output of the function apply to the same column"
   ]
  },
  {
   "cell_type": "code",
   "execution_count": 105,
   "id": "56a2080d-11bd-4c4e-bf36-99b1ec4a3390",
   "metadata": {},
   "outputs": [
    {
     "data": {
      "text/html": [
       "<div>\n",
       "<style scoped>\n",
       "    .dataframe tbody tr th:only-of-type {\n",
       "        vertical-align: middle;\n",
       "    }\n",
       "\n",
       "    .dataframe tbody tr th {\n",
       "        vertical-align: top;\n",
       "    }\n",
       "\n",
       "    .dataframe thead th {\n",
       "        text-align: right;\n",
       "    }\n",
       "</style>\n",
       "<table border=\"1\" class=\"dataframe\">\n",
       "  <thead>\n",
       "    <tr style=\"text-align: right;\">\n",
       "      <th></th>\n",
       "      <th>NUMERO_INCIDENTE</th>\n",
       "      <th>FECHA_DESPACHO_518</th>\n",
       "      <th>CODIGO_LOCALIDAD</th>\n",
       "      <th>LOCALIDAD</th>\n",
       "      <th>EDAD</th>\n",
       "      <th>UNIDAD</th>\n",
       "      <th>GENERO</th>\n",
       "      <th>RED</th>\n",
       "      <th>TIPO_INCIDENTE</th>\n",
       "      <th>PRIORIDAD</th>\n",
       "      <th>MES</th>\n",
       "      <th>CLASIFICACION_FINAL</th>\n",
       "    </tr>\n",
       "  </thead>\n",
       "  <tbody>\n",
       "    <tr>\n",
       "      <th>0</th>\n",
       "      <td>1178693196</td>\n",
       "      <td>2019-12-01 03:18:23</td>\n",
       "      <td>8</td>\n",
       "      <td>Kennedy</td>\n",
       "      <td>14</td>\n",
       "      <td>Años</td>\n",
       "      <td>MASCULINO</td>\n",
       "      <td>Privada</td>\n",
       "      <td>Accidente Tránsito con Heridos/Muertos</td>\n",
       "      <td>ALTA</td>\n",
       "      <td>DICIEMBRE</td>\n",
       "      <td>SIN-DATO</td>\n",
       "    </tr>\n",
       "    <tr>\n",
       "      <th>1</th>\n",
       "      <td>1176480196</td>\n",
       "      <td>2019-12-01 00:05:59</td>\n",
       "      <td>5</td>\n",
       "      <td>Usme</td>\n",
       "      <td>0</td>\n",
       "      <td>SIN/DATO</td>\n",
       "      <td>SIN/DATO</td>\n",
       "      <td>Sur</td>\n",
       "      <td>Accidente Tránsito con Heridos/Muertos</td>\n",
       "      <td>ALTA</td>\n",
       "      <td>DICIEMBRE</td>\n",
       "      <td>SIN-DATO</td>\n",
       "    </tr>\n",
       "    <tr>\n",
       "      <th>2</th>\n",
       "      <td>1180282196</td>\n",
       "      <td>2019-12-01 05:37:10</td>\n",
       "      <td>7</td>\n",
       "      <td>Bosa</td>\n",
       "      <td>32</td>\n",
       "      <td>Años</td>\n",
       "      <td>MASCULINO</td>\n",
       "      <td>Privada</td>\n",
       "      <td>Accidente Tránsito con Heridos/Muertos</td>\n",
       "      <td>ALTA</td>\n",
       "      <td>DICIEMBRE</td>\n",
       "      <td>SIN-DATO</td>\n",
       "    </tr>\n",
       "    <tr>\n",
       "      <th>3</th>\n",
       "      <td>1176520196</td>\n",
       "      <td>2019-12-01 00:07:43</td>\n",
       "      <td>3</td>\n",
       "      <td>Santa Fe</td>\n",
       "      <td>0</td>\n",
       "      <td>SIN/DATO</td>\n",
       "      <td>SIN/DATO</td>\n",
       "      <td>Norte</td>\n",
       "      <td>Lesiones Personales</td>\n",
       "      <td>ALTA</td>\n",
       "      <td>DICIEMBRE</td>\n",
       "      <td>SIN-DATO</td>\n",
       "    </tr>\n",
       "    <tr>\n",
       "      <th>4</th>\n",
       "      <td>1180873196</td>\n",
       "      <td>2019-12-01 07:14:08</td>\n",
       "      <td>5</td>\n",
       "      <td>Usme</td>\n",
       "      <td>53</td>\n",
       "      <td>Años</td>\n",
       "      <td>FEMENINO</td>\n",
       "      <td>Privada</td>\n",
       "      <td>Accidente Tránsito con Heridos/Muertos</td>\n",
       "      <td>ALTA</td>\n",
       "      <td>DICIEMBRE</td>\n",
       "      <td>SIN-DATO</td>\n",
       "    </tr>\n",
       "  </tbody>\n",
       "</table>\n",
       "</div>"
      ],
      "text/plain": [
       "  NUMERO_INCIDENTE   FECHA_DESPACHO_518  CODIGO_LOCALIDAD LOCALIDAD  EDAD  \\\n",
       "0       1178693196  2019-12-01 03:18:23                 8   Kennedy    14   \n",
       "1       1176480196  2019-12-01 00:05:59                 5      Usme     0   \n",
       "2       1180282196  2019-12-01 05:37:10                 7      Bosa    32   \n",
       "3       1176520196  2019-12-01 00:07:43                 3  Santa Fe     0   \n",
       "4       1180873196  2019-12-01 07:14:08                 5      Usme    53   \n",
       "\n",
       "     UNIDAD     GENERO      RED                          TIPO_INCIDENTE  \\\n",
       "0      Años  MASCULINO  Privada  Accidente Tránsito con Heridos/Muertos   \n",
       "1  SIN/DATO   SIN/DATO      Sur  Accidente Tránsito con Heridos/Muertos   \n",
       "2      Años  MASCULINO  Privada  Accidente Tránsito con Heridos/Muertos   \n",
       "3  SIN/DATO   SIN/DATO    Norte                     Lesiones Personales   \n",
       "4      Años   FEMENINO  Privada  Accidente Tránsito con Heridos/Muertos   \n",
       "\n",
       "  PRIORIDAD        MES CLASIFICACION_FINAL  \n",
       "0      ALTA  DICIEMBRE            SIN-DATO  \n",
       "1      ALTA  DICIEMBRE            SIN-DATO  \n",
       "2      ALTA  DICIEMBRE            SIN-DATO  \n",
       "3      ALTA  DICIEMBRE            SIN-DATO  \n",
       "4      ALTA  DICIEMBRE            SIN-DATO  "
      ]
     },
     "execution_count": 105,
     "metadata": {},
     "output_type": "execute_result"
    }
   ],
   "source": [
    "raw_data.head()"
   ]
  },
  {
   "cell_type": "code",
   "execution_count": 106,
   "id": "71f54090-7bfd-4314-acb4-679ce29a3878",
   "metadata": {},
   "outputs": [
    {
     "data": {
      "text/plain": [
       "SIN/DATO     8286\n",
       "MASCULINO    4405\n",
       "FEMENINO     3552\n",
       "Name: GENERO, dtype: int64"
      ]
     },
     "execution_count": 106,
     "metadata": {},
     "output_type": "execute_result"
    }
   ],
   "source": [
    "col = 'GENERO'\n",
    "raw_data[col].value_counts(dropna=False)"
   ]
  },
  {
   "cell_type": "code",
   "execution_count": 107,
   "id": "440653d8-5eda-4138-8e1e-146724e4931a",
   "metadata": {},
   "outputs": [
    {
     "data": {
      "text/plain": [
       "SIN/DATO     8286\n",
       "MASCULINO    4405\n",
       "FEMENINO     3552\n",
       "Name: GENERO, dtype: int64"
      ]
     },
     "execution_count": 107,
     "metadata": {},
     "output_type": "execute_result"
    }
   ],
   "source": [
    "col = 'GENERO'\n",
    "raw_data[col].fillna('SIN-DATO', inplace=True)\n",
    "raw_data[col] = raw_data[col].apply(lambda x: x.strip())\n",
    "raw_data[col].value_counts(dropna=False)   # here we could apply the same technique as before to avoid errors"
   ]
  },
  {
   "cell_type": "code",
   "execution_count": 108,
   "id": "2ce261b7-3ebb-45b5-8915-4b5aa1921d27",
   "metadata": {},
   "outputs": [
    {
     "data": {
      "text/plain": [
       "Heridos accidentales                      7390\n",
       "Inconsciente / paro cardiorespiratorio    1743\n",
       "Evento respiratorio                       1404\n",
       "Convulsión                                1027\n",
       "Enfermo                                    873\n",
       "Trastorno mental                           650\n",
       "Dolor torácico                             611\n",
       "Intento de Suicidio                        543\n",
       "Caída de Altura                            377\n",
       "Patología ginecobstétrica                  371\n",
       "Accidente Cerebro\\nVascular                365\n",
       "Síntomas gastrointestinales                275\n",
       "Intoxicación                               153\n",
       "S/D                                        138\n",
       "Accidente Tránsito con Heridos/Muertos     108\n",
       "Amenaza de\\nSuicidio                        95\n",
       "Violencia Sexual                            28\n",
       "Sangrado Vaginal                            24\n",
       "Lesiones Personales                         23\n",
       "Quemaduras                                  16\n",
       "Electrocución / Rescate                     10\n",
       "Accidente Cerebro Vascular (ACV)             7\n",
       "Maltrato                                     7\n",
       "Incendio estructural                         2\n",
       "Muerte Natural                               2\n",
       "Accidente de Aviación                        1\n",
       "Name: TIPO_INCIDENTE, dtype: int64"
      ]
     },
     "execution_count": 108,
     "metadata": {},
     "output_type": "execute_result"
    }
   ],
   "source": [
    "col = 'TIPO_INCIDENTE'\n",
    "raw_data[col] = raw_data[col].apply(lambda x: x.strip())\n",
    "raw_data[col].value_counts(dropna=False)"
   ]
  },
  {
   "cell_type": "code",
   "execution_count": 109,
   "id": "b0b0ce51-ea1a-4bdb-8c12-d41f611bb276",
   "metadata": {},
   "outputs": [
    {
     "data": {
      "text/plain": [
       "SIN-DATO    16243\n",
       "Name: CLASIFICACION_FINAL, dtype: int64"
      ]
     },
     "execution_count": 109,
     "metadata": {},
     "output_type": "execute_result"
    }
   ],
   "source": [
    "col = 'CLASIFICACION_FINAL'\n",
    "# raw_data[col] = raw_data[col].apply(lambda x: x.strip())\n",
    "raw_data[col].value_counts(dropna=False)"
   ]
  },
  {
   "cell_type": "markdown",
   "id": "ed0d30da-1ead-4916-a018-16f3c969a569",
   "metadata": {},
   "source": [
    "Here this columns contains a null value, aka NaN (this is numeric value that is Null), lets replace them first\n",
    "* NaN --> SIN_DATO"
   ]
  },
  {
   "cell_type": "code",
   "execution_count": 110,
   "id": "8510699c-d135-477d-bc61-2ba0017473da",
   "metadata": {},
   "outputs": [
    {
     "data": {
      "text/plain": [
       "SIN-DATO    16243\n",
       "Name: CLASIFICACION_FINAL, dtype: int64"
      ]
     },
     "execution_count": 110,
     "metadata": {},
     "output_type": "execute_result"
    }
   ],
   "source": [
    "raw_data[col].fillna('SIN-DATO').value_counts()"
   ]
  },
  {
   "cell_type": "code",
   "execution_count": 111,
   "id": "046865ae-7421-4b6b-9bbb-89891cad72a0",
   "metadata": {},
   "outputs": [
    {
     "data": {
      "text/html": [
       "<div>\n",
       "<style scoped>\n",
       "    .dataframe tbody tr th:only-of-type {\n",
       "        vertical-align: middle;\n",
       "    }\n",
       "\n",
       "    .dataframe tbody tr th {\n",
       "        vertical-align: top;\n",
       "    }\n",
       "\n",
       "    .dataframe thead th {\n",
       "        text-align: right;\n",
       "    }\n",
       "</style>\n",
       "<table border=\"1\" class=\"dataframe\">\n",
       "  <thead>\n",
       "    <tr style=\"text-align: right;\">\n",
       "      <th></th>\n",
       "      <th>NUMERO_INCIDENTE</th>\n",
       "      <th>FECHA_DESPACHO_518</th>\n",
       "      <th>CODIGO_LOCALIDAD</th>\n",
       "      <th>LOCALIDAD</th>\n",
       "      <th>EDAD</th>\n",
       "      <th>UNIDAD</th>\n",
       "      <th>GENERO</th>\n",
       "      <th>RED</th>\n",
       "      <th>TIPO_INCIDENTE</th>\n",
       "      <th>PRIORIDAD</th>\n",
       "      <th>MES</th>\n",
       "      <th>CLASIFICACION_FINAL</th>\n",
       "    </tr>\n",
       "  </thead>\n",
       "  <tbody>\n",
       "    <tr>\n",
       "      <th>0</th>\n",
       "      <td>1178693196</td>\n",
       "      <td>2019-12-01 03:18:23</td>\n",
       "      <td>8</td>\n",
       "      <td>Kennedy</td>\n",
       "      <td>14</td>\n",
       "      <td>Años</td>\n",
       "      <td>MASCULINO</td>\n",
       "      <td>Privada</td>\n",
       "      <td>Accidente Tránsito con Heridos/Muertos</td>\n",
       "      <td>ALTA</td>\n",
       "      <td>DICIEMBRE</td>\n",
       "      <td>SIN-DATO</td>\n",
       "    </tr>\n",
       "    <tr>\n",
       "      <th>1</th>\n",
       "      <td>1176480196</td>\n",
       "      <td>2019-12-01 00:05:59</td>\n",
       "      <td>5</td>\n",
       "      <td>Usme</td>\n",
       "      <td>0</td>\n",
       "      <td>SIN/DATO</td>\n",
       "      <td>SIN/DATO</td>\n",
       "      <td>Sur</td>\n",
       "      <td>Accidente Tránsito con Heridos/Muertos</td>\n",
       "      <td>ALTA</td>\n",
       "      <td>DICIEMBRE</td>\n",
       "      <td>SIN-DATO</td>\n",
       "    </tr>\n",
       "    <tr>\n",
       "      <th>2</th>\n",
       "      <td>1180282196</td>\n",
       "      <td>2019-12-01 05:37:10</td>\n",
       "      <td>7</td>\n",
       "      <td>Bosa</td>\n",
       "      <td>32</td>\n",
       "      <td>Años</td>\n",
       "      <td>MASCULINO</td>\n",
       "      <td>Privada</td>\n",
       "      <td>Accidente Tránsito con Heridos/Muertos</td>\n",
       "      <td>ALTA</td>\n",
       "      <td>DICIEMBRE</td>\n",
       "      <td>SIN-DATO</td>\n",
       "    </tr>\n",
       "    <tr>\n",
       "      <th>3</th>\n",
       "      <td>1176520196</td>\n",
       "      <td>2019-12-01 00:07:43</td>\n",
       "      <td>3</td>\n",
       "      <td>Santa Fe</td>\n",
       "      <td>0</td>\n",
       "      <td>SIN/DATO</td>\n",
       "      <td>SIN/DATO</td>\n",
       "      <td>Norte</td>\n",
       "      <td>Lesiones Personales</td>\n",
       "      <td>ALTA</td>\n",
       "      <td>DICIEMBRE</td>\n",
       "      <td>SIN-DATO</td>\n",
       "    </tr>\n",
       "    <tr>\n",
       "      <th>4</th>\n",
       "      <td>1180873196</td>\n",
       "      <td>2019-12-01 07:14:08</td>\n",
       "      <td>5</td>\n",
       "      <td>Usme</td>\n",
       "      <td>53</td>\n",
       "      <td>Años</td>\n",
       "      <td>FEMENINO</td>\n",
       "      <td>Privada</td>\n",
       "      <td>Accidente Tránsito con Heridos/Muertos</td>\n",
       "      <td>ALTA</td>\n",
       "      <td>DICIEMBRE</td>\n",
       "      <td>SIN-DATO</td>\n",
       "    </tr>\n",
       "  </tbody>\n",
       "</table>\n",
       "</div>"
      ],
      "text/plain": [
       "  NUMERO_INCIDENTE   FECHA_DESPACHO_518  CODIGO_LOCALIDAD LOCALIDAD  EDAD  \\\n",
       "0       1178693196  2019-12-01 03:18:23                 8   Kennedy    14   \n",
       "1       1176480196  2019-12-01 00:05:59                 5      Usme     0   \n",
       "2       1180282196  2019-12-01 05:37:10                 7      Bosa    32   \n",
       "3       1176520196  2019-12-01 00:07:43                 3  Santa Fe     0   \n",
       "4       1180873196  2019-12-01 07:14:08                 5      Usme    53   \n",
       "\n",
       "     UNIDAD     GENERO      RED                          TIPO_INCIDENTE  \\\n",
       "0      Años  MASCULINO  Privada  Accidente Tránsito con Heridos/Muertos   \n",
       "1  SIN/DATO   SIN/DATO      Sur  Accidente Tránsito con Heridos/Muertos   \n",
       "2      Años  MASCULINO  Privada  Accidente Tránsito con Heridos/Muertos   \n",
       "3  SIN/DATO   SIN/DATO    Norte                     Lesiones Personales   \n",
       "4      Años   FEMENINO  Privada  Accidente Tránsito con Heridos/Muertos   \n",
       "\n",
       "  PRIORIDAD        MES CLASIFICACION_FINAL  \n",
       "0      ALTA  DICIEMBRE            SIN-DATO  \n",
       "1      ALTA  DICIEMBRE            SIN-DATO  \n",
       "2      ALTA  DICIEMBRE            SIN-DATO  \n",
       "3      ALTA  DICIEMBRE            SIN-DATO  \n",
       "4      ALTA  DICIEMBRE            SIN-DATO  "
      ]
     },
     "execution_count": 111,
     "metadata": {},
     "output_type": "execute_result"
    }
   ],
   "source": [
    "col = 'CLASIFICACION_FINAL'\n",
    "raw_data[col].fillna('SIN-DATO', inplace=True)\n",
    "raw_data[col] = raw_data[col].apply(lambda x: x.strip())\n",
    "raw_data.head()"
   ]
  },
  {
   "cell_type": "markdown",
   "id": "e6f30471-1464-47a9-a444-970a302baea7",
   "metadata": {},
   "source": [
    "# Profile of the Data\n",
    "------\n",
    "first install pandas profiling, from a terminal\n",
    "\n",
    "````\n",
    "pip install pandas-profiling\n",
    "````"
   ]
  },
  {
   "cell_type": "code",
   "execution_count": 112,
   "id": "66f66769-d164-42e4-bcfb-e43b7fef1859",
   "metadata": {},
   "outputs": [
    {
     "data": {
      "application/vnd.jupyter.widget-view+json": {
       "model_id": "eb697c8f54a14f40b76d5b405e6ea603",
       "version_major": 2,
       "version_minor": 0
      },
      "text/plain": [
       "Summarize dataset:   0%|          | 0/25 [00:00<?, ?it/s]"
      ]
     },
     "metadata": {},
     "output_type": "display_data"
    },
    {
     "data": {
      "application/vnd.jupyter.widget-view+json": {
       "model_id": "9ab71f8c4b434674bdf1528ec758d707",
       "version_major": 2,
       "version_minor": 0
      },
      "text/plain": [
       "Generate report structure:   0%|          | 0/1 [00:00<?, ?it/s]"
      ]
     },
     "metadata": {},
     "output_type": "display_data"
    },
    {
     "data": {
      "application/vnd.jupyter.widget-view+json": {
       "model_id": "05b00608a483402f88f548420c9d417d",
       "version_major": 2,
       "version_minor": 0
      },
      "text/plain": [
       "Render HTML:   0%|          | 0/1 [00:00<?, ?it/s]"
      ]
     },
     "metadata": {},
     "output_type": "display_data"
    },
    {
     "data": {
      "application/vnd.jupyter.widget-view+json": {
       "model_id": "56f8c5f6ae8c40c698b25ab8b8298260",
       "version_major": 2,
       "version_minor": 0
      },
      "text/plain": [
       "Export report to file:   0%|          | 0/1 [00:00<?, ?it/s]"
      ]
     },
     "metadata": {},
     "output_type": "display_data"
    }
   ],
   "source": [
    "profile = ProfileReport(df=raw_data)\n",
    "profile.to_file(output_file=project_dir + '/reports/'+'profile_raw_data_diciembre_2019.html')"
   ]
  },
  {
   "cell_type": "markdown",
   "id": "a7a93408-dff3-402c-8324-2262c187a797",
   "metadata": {},
   "source": [
    "Form the initial report of the file we see that are duplicates rows in the table, we need to subtract them"
   ]
  },
  {
   "cell_type": "markdown",
   "id": "113216ea-7395-4cb0-8691-b9554ec270ab",
   "metadata": {},
   "source": [
    "### Remove duplicates"
   ]
  },
  {
   "cell_type": "code",
   "execution_count": 113,
   "id": "67b41e99-6206-4a24-b838-b8f8e71ae17f",
   "metadata": {},
   "outputs": [
    {
     "name": "stdout",
     "output_type": "stream",
     "text": [
      "Number of rows before cleaning: 16243\n",
      "Number of rows after cleaning: 16162\n"
     ]
    }
   ],
   "source": [
    "print('Number of rows before cleaning:', raw_data.shape[0] )\n",
    "raw_data.drop_duplicates(inplace=True)\n",
    "print('Number of rows after cleaning:', raw_data.shape[0] )"
   ]
  },
  {
   "cell_type": "markdown",
   "id": "a89276dd-f903-4752-9f7f-15e360c7207f",
   "metadata": {},
   "source": [
    "### Save the final table\n",
    "use to_csv to save the table"
   ]
  },
  {
   "cell_type": "code",
   "execution_count": 114,
   "id": "33a9d6aa-ed3d-465b-a920-404a17490f79",
   "metadata": {},
   "outputs": [],
   "source": [
    "# saving in a local directory\n",
    "raw_data.to_csv(project_dir + '/data/processed/' +'clean_llamadas_123_diciembre_2019.csv', encoding='latin1', sep=';', index=False)"
   ]
  },
  {
   "cell_type": "markdown",
   "id": "388000fe-5d60-4ff1-8396-631fcb8073ec",
   "metadata": {},
   "source": [
    "# Next steps.... create the master table and analyze it"
   ]
  },
  {
   "cell_type": "code",
   "execution_count": null,
   "id": "a38025ab-8667-45ce-b20c-7afde398ece9",
   "metadata": {},
   "outputs": [],
   "source": []
  }
 ],
 "metadata": {
  "environment": {
   "kernel": "python3",
   "name": "common-cpu.m90",
   "type": "gcloud",
   "uri": "gcr.io/deeplearning-platform-release/base-cpu:m90"
  },
  "kernelspec": {
   "display_name": "Python 3",
   "language": "python",
   "name": "python3"
  },
  "language_info": {
   "codemirror_mode": {
    "name": "ipython",
    "version": 3
   },
   "file_extension": ".py",
   "mimetype": "text/x-python",
   "name": "python",
   "nbconvert_exporter": "python",
   "pygments_lexer": "ipython3",
   "version": "3.7.12"
  }
 },
 "nbformat": 4,
 "nbformat_minor": 5
}
