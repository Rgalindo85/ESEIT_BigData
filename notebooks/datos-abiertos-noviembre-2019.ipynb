{
 "cells": [
  {
   "cell_type": "code",
   "execution_count": 10,
   "id": "7e69523d-1194-497e-bbf7-92ef0f5be86a",
   "metadata": {},
   "outputs": [],
   "source": [
    "import os\n",
    "import sys\n",
    "import logging\n",
    "import pandas as pd\n",
    "\n",
    "from pandas_profiling import ProfileReport\n",
    "\n",
    "\n",
    "project_dir = os.path.dirname(os.path.abspath('.')) # get the path of the project, if doesn't work use os.getcwd() instead and use rfind to find the project dir\n",
    "sys.path.append(os.path.join(project_dir, 'src', 'data'))\n",
    "\n",
    "from data_manipulator import get_input_data\n",
    "\n",
    "bucket = 'fredo7'\n",
    "directory = 'BigData'"
   ]
  },
  {
   "cell_type": "code",
   "execution_count": 11,
   "id": "573e9198-73a2-4a34-80c9-6c0e8db0e668",
   "metadata": {},
   "outputs": [
    {
     "name": "stdout",
     "output_type": "stream",
     "text": [
      "<class 'pandas.core.frame.DataFrame'>\n",
      "RangeIndex: 15926 entries, 0 to 15925\n",
      "Data columns (total 10 columns):\n",
      " #   Column                             Non-Null Count  Dtype \n",
      "---  ------                             --------------  ----- \n",
      " 0   NUMERO_INCIDENTE                   15926 non-null  object\n",
      " 1   FECHA_INICIO_DESPLAZAMIENTO-MOVIL  15926 non-null  object\n",
      " 2   CODIGO DE LOCALIDAD                15926 non-null  int64 \n",
      " 3   LOCALIDAD                          15926 non-null  object\n",
      " 4   EDAD                               15926 non-null  int64 \n",
      " 5   UNIDAD                             15926 non-null  object\n",
      " 6   GENERO                             15926 non-null  object\n",
      " 7   RED                                15926 non-null  object\n",
      " 8   TIPO_INCIDENTE                     15926 non-null  object\n",
      " 9   PRIORIDAD                          15926 non-null  object\n",
      "dtypes: int64(2), object(8)\n",
      "memory usage: 1.2+ MB\n",
      "None\n"
     ]
    }
   ],
   "source": [
    "raw_data = get_input_data(\n",
    "    bucket=bucket,\n",
    "    initial_directory=directory,\n",
    "    filename = 'datos-abiertos-noviembre_2019.csv')\n",
    "print(raw_data.info())"
   ]
  },
  {
   "cell_type": "code",
   "execution_count": 12,
   "id": "5834fa78-9705-4194-9f24-18108eefa434",
   "metadata": {},
   "outputs": [
    {
     "name": "stdout",
     "output_type": "stream",
     "text": [
      "<class 'pandas.core.frame.DataFrame'>\n",
      "RangeIndex: 15926 entries, 0 to 15925\n",
      "Data columns (total 10 columns):\n",
      " #   Column                             Non-Null Count  Dtype \n",
      "---  ------                             --------------  ----- \n",
      " 0   NUMERO_INCIDENTE                   15926 non-null  object\n",
      " 1   FECHA_INICIO_DESPLAZAMIENTO_MOVIL  15926 non-null  object\n",
      " 2   CODIGO_LOCALIDAD                   15926 non-null  int64 \n",
      " 3   LOCALIDAD                          15926 non-null  object\n",
      " 4   EDAD                               15926 non-null  int64 \n",
      " 5   UNIDAD                             15926 non-null  object\n",
      " 6   GENERO                             15926 non-null  object\n",
      " 7   RED                                15926 non-null  object\n",
      " 8   TIPO_INCIDENTE                     15926 non-null  object\n",
      " 9   PRIORIDAD                          15926 non-null  object\n",
      "dtypes: int64(2), object(8)\n",
      "memory usage: 1.2+ MB\n"
     ]
    }
   ],
   "source": [
    "# Se renombran los campos actuales\n",
    "raw_data.rename(\n",
    "    columns = {\n",
    "        'FECHA_INICIO_DESPLAZAMIENTO-MOVIL' : 'FECHA_INICIO_DESPLAZAMIENTO_MOVIL',\n",
    "        'CODIGO DE LOCALIDAD'               : 'CODIGO_LOCALIDAD',\n",
    "        'TIPO DE INCIDIDENT': 'TIPO_INCIDENTE',\n",
    "            },\n",
    "    inplace=True\n",
    ")\n",
    "raw_data.head()\n",
    "raw_data.info()"
   ]
  },
  {
   "cell_type": "code",
   "execution_count": 13,
   "id": "5aa2dc22-15cf-44ac-8f41-74636180eab9",
   "metadata": {},
   "outputs": [
    {
     "name": "stdout",
     "output_type": "stream",
     "text": [
      "<class 'pandas.core.frame.DataFrame'>\n",
      "RangeIndex: 15926 entries, 0 to 15925\n",
      "Data columns (total 13 columns):\n",
      " #   Column                             Non-Null Count  Dtype \n",
      "---  ------                             --------------  ----- \n",
      " 0   NUMERO_INCIDENTE                   15926 non-null  object\n",
      " 1   FECHA_INICIO_DESPLAZAMIENTO_MOVIL  15926 non-null  object\n",
      " 2   CODIGO_LOCALIDAD                   15926 non-null  int64 \n",
      " 3   LOCALIDAD                          15926 non-null  object\n",
      " 4   EDAD                               15926 non-null  int64 \n",
      " 5   UNIDAD                             15926 non-null  object\n",
      " 6   GENERO                             15926 non-null  object\n",
      " 7   RED                                15926 non-null  object\n",
      " 8   TIPO_INCIDENTE                     15926 non-null  object\n",
      " 9   PRIORIDAD                          15926 non-null  object\n",
      " 10  FECHA_INCIDENTE                    15926 non-null  object\n",
      " 11  MES                                15926 non-null  object\n",
      " 12  CLASIFICACION_FINAL                15926 non-null  object\n",
      "dtypes: int64(2), object(11)\n",
      "memory usage: 1.6+ MB\n"
     ]
    }
   ],
   "source": [
    "# Incluyen las nuevos campos faltantes\n",
    "raw_data = raw_data.assign(FECHA_INCIDENTE= raw_data['FECHA_INICIO_DESPLAZAMIENTO_MOVIL'])\n",
    "raw_data\n",
    "raw_data = raw_data.assign( MES = 'NOVIEMBRE')\n",
    "raw_data.head()\n",
    "raw_data = raw_data.assign(CLASIFICACION_FINAL = \"SIN_DATO\")\n",
    "raw_data.head()\n",
    "raw_data.info()"
   ]
  },
  {
   "cell_type": "code",
   "execution_count": 14,
   "id": "48fabbdc-9741-4133-86c0-ebd4b4004ea9",
   "metadata": {},
   "outputs": [
    {
     "name": "stdout",
     "output_type": "stream",
     "text": [
      "<class 'pandas.core.frame.DataFrame'>\n",
      "RangeIndex: 15926 entries, 0 to 15925\n",
      "Data columns (total 13 columns):\n",
      " #   Column                             Non-Null Count  Dtype \n",
      "---  ------                             --------------  ----- \n",
      " 0   NUMERO_INCIDENTE                   15926 non-null  object\n",
      " 1   FECHA_INCIDENTE                    15926 non-null  object\n",
      " 2   FECHA_INICIO_DESPLAZAMIENTO_MOVIL  15926 non-null  object\n",
      " 3   CODIGO_LOCALIDAD                   15926 non-null  int64 \n",
      " 4   LOCALIDAD                          15926 non-null  object\n",
      " 5   EDAD                               15926 non-null  int64 \n",
      " 6   UNIDAD                             15926 non-null  object\n",
      " 7   GENERO                             15926 non-null  object\n",
      " 8   RED                                15926 non-null  object\n",
      " 9   TIPO_INCIDENTE                     15926 non-null  object\n",
      " 10  PRIORIDAD                          15926 non-null  object\n",
      " 11  MES                                15926 non-null  object\n",
      " 12  CLASIFICACION_FINAL                15926 non-null  object\n",
      "dtypes: int64(2), object(11)\n",
      "memory usage: 1.6+ MB\n"
     ]
    }
   ],
   "source": [
    "# Reordenamos las columnas en el orden establecido para todos\n",
    "#los archivos\n",
    "\n",
    "raw_data = raw_data.reindex(columns=['NUMERO_INCIDENTE',\n",
    "                                     'FECHA_INCIDENTE',\n",
    "'FECHA_INICIO_DESPLAZAMIENTO_MOVIL',\n",
    "'CODIGO_LOCALIDAD',\n",
    "'LOCALIDAD',\n",
    "'EDAD',\n",
    "'UNIDAD',\n",
    "'GENERO',\n",
    "'RED',\n",
    "'TIPO_INCIDENTE',\n",
    "'PRIORIDAD',\n",
    "'MES',\n",
    "'CLASIFICACION_FINAL',\n",
    "\n",
    "])\n",
    "raw_data.head()\n",
    "raw_data.info()"
   ]
  },
  {
   "cell_type": "code",
   "execution_count": 15,
   "id": "d1f48ca0-9060-4ad6-ae03-e266331c337c",
   "metadata": {},
   "outputs": [
    {
     "data": {
      "application/vnd.jupyter.widget-view+json": {
       "model_id": "9e32839cde1f43fb983f6c55dc30f057",
       "version_major": 2,
       "version_minor": 0
      },
      "text/plain": [
       "Summarize dataset:   0%|          | 0/26 [00:00<?, ?it/s]"
      ]
     },
     "metadata": {},
     "output_type": "display_data"
    },
    {
     "data": {
      "application/vnd.jupyter.widget-view+json": {
       "model_id": "1df89681d27e486c81c5cf8fb9cf4bf8",
       "version_major": 2,
       "version_minor": 0
      },
      "text/plain": [
       "Generate report structure:   0%|          | 0/1 [00:00<?, ?it/s]"
      ]
     },
     "metadata": {},
     "output_type": "display_data"
    },
    {
     "data": {
      "application/vnd.jupyter.widget-view+json": {
       "model_id": "66cf609b48974f3e9b3a2884e86f1c1d",
       "version_major": 2,
       "version_minor": 0
      },
      "text/plain": [
       "Render HTML:   0%|          | 0/1 [00:00<?, ?it/s]"
      ]
     },
     "metadata": {},
     "output_type": "display_data"
    },
    {
     "data": {
      "application/vnd.jupyter.widget-view+json": {
       "model_id": "9dc05c5bf5374d24b72715214226f94c",
       "version_major": 2,
       "version_minor": 0
      },
      "text/plain": [
       "Export report to file:   0%|          | 0/1 [00:00<?, ?it/s]"
      ]
     },
     "metadata": {},
     "output_type": "display_data"
    }
   ],
   "source": [
    "profile = ProfileReport(df=raw_data)\n",
    "profile.to_file(output_file=project_dir + '/reports/'+'profile_raw_data_noviembre_2019.html')"
   ]
  },
  {
   "cell_type": "code",
   "execution_count": 16,
   "id": "d136f2e9-3daf-4b4c-8c11-8d04ae5786d3",
   "metadata": {},
   "outputs": [],
   "source": [
    "# saving in a local directory\n",
    "raw_data.to_csv(project_dir + '/data/processed/' +'clean_llamadas_123_noviembre_2019.csv', encoding='latin1', sep=';', index=False)"
   ]
  },
  {
   "cell_type": "code",
   "execution_count": null,
   "id": "5210d678-9379-4357-8e67-0a32517ccf79",
   "metadata": {},
   "outputs": [],
   "source": []
  }
 ],
 "metadata": {
  "environment": {
   "kernel": "python3",
   "name": "common-cpu.m90",
   "type": "gcloud",
   "uri": "gcr.io/deeplearning-platform-release/base-cpu:m90"
  },
  "kernelspec": {
   "display_name": "Python 3",
   "language": "python",
   "name": "python3"
  },
  "language_info": {
   "codemirror_mode": {
    "name": "ipython",
    "version": 3
   },
   "file_extension": ".py",
   "mimetype": "text/x-python",
   "name": "python",
   "nbconvert_exporter": "python",
   "pygments_lexer": "ipython3",
   "version": "3.7.12"
  }
 },
 "nbformat": 4,
 "nbformat_minor": 5
}
