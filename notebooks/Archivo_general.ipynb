{
 "cells": [
  {
   "cell_type": "code",
   "execution_count": 1,
   "id": "af13bb28-fbfd-4342-a98d-f83d4bdb2612",
   "metadata": {},
   "outputs": [],
   "source": [
    "import os\n",
    "import sys\n",
    "import logging\n",
    "import pandas as pd\n",
    "from datetime import datetime, timedelta\n",
    "\n",
    "\n",
    "from pandas_profiling import ProfileReport\n",
    "\n",
    "\n",
    "project_dir = os.path.dirname(os.path.abspath('.')) # get the path of the project, if doesn't work use os.getcwd() instead and use rfind to find the project dir\n",
    "sys.path.append(os.path.join(project_dir, 'src', 'data'))\n",
    "\n",
    "from data_manipulator_proc import get_input_data\n",
    "\n",
    "bucket = 'fredo7'\n",
    "directory = 'BigData'"
   ]
  },
  {
   "cell_type": "code",
   "execution_count": 2,
   "id": "c9baea0b-7c6f-47cd-99f2-2564f55f0880",
   "metadata": {},
   "outputs": [
    {
     "name": "stdout",
     "output_type": "stream",
     "text": [
      "<class 'pandas.core.frame.DataFrame'>\n",
      "RangeIndex: 16807 entries, 0 to 16806\n",
      "Data columns (total 13 columns):\n",
      " #   Column                             Non-Null Count  Dtype \n",
      "---  ------                             --------------  ----- \n",
      " 0   NUMERO_INCIDENTE                   16807 non-null  int64 \n",
      " 1   FECHA_INCIDENTE                    16807 non-null  object\n",
      " 2   FECHA_INICIO_DESPLAZAMIENTO_MOVIL  16807 non-null  object\n",
      " 3   CODIGO_LOCALIDAD                   16807 non-null  int64 \n",
      " 4   LOCALIDAD                          16807 non-null  object\n",
      " 5   EDAD                               16807 non-null  object\n",
      " 6   UNIDAD                             16807 non-null  object\n",
      " 7   GENERO                             16807 non-null  object\n",
      " 8   RED                                16807 non-null  object\n",
      " 9   TIPO_INCIDENTE                     16807 non-null  object\n",
      " 10  PRIORIDAD                          16807 non-null  object\n",
      " 11  MES                                16807 non-null  object\n",
      " 12  CLASIFICACION_FINAL                16807 non-null  object\n",
      "dtypes: int64(2), object(11)\n",
      "memory usage: 1.7+ MB\n",
      "None\n"
     ]
    }
   ],
   "source": [
    "raw_data1 = get_input_data(\n",
    "    bucket=bucket,\n",
    "    initial_directory=directory,\n",
    "    filename = 'clean_llamadas_123_agosto_2019.csv')\n",
    "print(raw_data1.info())"
   ]
  },
  {
   "cell_type": "code",
   "execution_count": 3,
   "id": "949b7279-5276-4c97-aed3-c680bb9abb99",
   "metadata": {},
   "outputs": [
    {
     "name": "stdout",
     "output_type": "stream",
     "text": [
      "<class 'pandas.core.frame.DataFrame'>\n",
      "RangeIndex: 16243 entries, 0 to 16242\n",
      "Data columns (total 13 columns):\n",
      " #   Column                             Non-Null Count  Dtype \n",
      "---  ------                             --------------  ----- \n",
      " 0   NUMERO_INCIDENTE                   16243 non-null  object\n",
      " 1   FECHA_INCIDENTE                    16243 non-null  object\n",
      " 2   FECHA_INICIO_DESPLAZAMIENTO_MOVIL  16243 non-null  object\n",
      " 3   CODIGO_LOCALIDAD                   16243 non-null  int64 \n",
      " 4   LOCALIDAD                          16243 non-null  object\n",
      " 5   EDAD                               16243 non-null  int64 \n",
      " 6   UNIDAD                             16243 non-null  object\n",
      " 7   GENERO                             16243 non-null  object\n",
      " 8   RED                                16243 non-null  object\n",
      " 9   TIPO_INCIDENTE                     16243 non-null  object\n",
      " 10  PRIORIDAD                          16243 non-null  object\n",
      " 11  MES                                16243 non-null  object\n",
      " 12  CLASIFICACION_FINAL                16243 non-null  object\n",
      "dtypes: int64(2), object(11)\n",
      "memory usage: 1.6+ MB\n",
      "None\n"
     ]
    }
   ],
   "source": [
    "raw_data2 = get_input_data(\n",
    "    bucket=bucket,\n",
    "    initial_directory=directory,\n",
    "    filename = 'clean_llamadas_123_diciembre_2019.csv')\n",
    "print(raw_data2.info())"
   ]
  },
  {
   "cell_type": "code",
   "execution_count": 4,
   "id": "8922c585-9b77-472c-9bd3-cb7cce4c1d3f",
   "metadata": {},
   "outputs": [
    {
     "name": "stdout",
     "output_type": "stream",
     "text": [
      "<class 'pandas.core.frame.DataFrame'>\n",
      "RangeIndex: 15240 entries, 0 to 15239\n",
      "Data columns (total 13 columns):\n",
      " #   Column                             Non-Null Count  Dtype \n",
      "---  ------                             --------------  ----- \n",
      " 0   NUMERO_INCIDENTE                   15240 non-null  object\n",
      " 1   FECHA_INCIDENTE                    15240 non-null  object\n",
      " 2   FECHA_INICIO_DESPLAZAMIENTO_MOVIL  15240 non-null  object\n",
      " 3   CODIGO_LOCALIDAD                   15240 non-null  int64 \n",
      " 4   LOCALIDAD                          15240 non-null  object\n",
      " 5   EDAD                               15240 non-null  int64 \n",
      " 6   UNIDAD                             15240 non-null  object\n",
      " 7   GENERO                             15240 non-null  object\n",
      " 8   RED                                15240 non-null  object\n",
      " 9   TIPO_INCIDENTE                     15240 non-null  object\n",
      " 10  PRIORIDAD                          15240 non-null  int64 \n",
      " 11  MES                                15240 non-null  object\n",
      " 12  CLASIFICACION_FINAL                15240 non-null  object\n",
      "dtypes: int64(3), object(10)\n",
      "memory usage: 1.5+ MB\n",
      "None\n"
     ]
    }
   ],
   "source": [
    "raw_data3 = get_input_data(\n",
    "    bucket=bucket,\n",
    "    initial_directory=directory,\n",
    "    filename = 'clean_llamadas_123_enero_2020.csv')\n",
    "print(raw_data3.info())"
   ]
  },
  {
   "cell_type": "code",
   "execution_count": 5,
   "id": "7802fc81-2378-4a23-89bf-9963e8e2368c",
   "metadata": {},
   "outputs": [
    {
     "name": "stdout",
     "output_type": "stream",
     "text": [
      "<class 'pandas.core.frame.DataFrame'>\n",
      "RangeIndex: 13842 entries, 0 to 13841\n",
      "Data columns (total 13 columns):\n",
      " #   Column                             Non-Null Count  Dtype \n",
      "---  ------                             --------------  ----- \n",
      " 0   NUMERO_INCIDENTE                   13842 non-null  int64 \n",
      " 1   FECHA_INCIDENTE                    13842 non-null  object\n",
      " 2   FECHA_INICIO_DESPLAZAMIENTO_MOVIL  13842 non-null  object\n",
      " 3   CODIGO_LOCALIDAD                   13842 non-null  int64 \n",
      " 4   LOCALIDAD                          13842 non-null  object\n",
      " 5   EDAD                               13842 non-null  object\n",
      " 6   UNIDAD                             13842 non-null  object\n",
      " 7   GENERO                             13842 non-null  object\n",
      " 8   RED                                13842 non-null  object\n",
      " 9   TIPO_INCIDENTE                     13842 non-null  object\n",
      " 10  PRIORIDAD                          13842 non-null  object\n",
      " 11  MES                                13842 non-null  object\n",
      " 12  CLASIFICACION_FINAL                13842 non-null  object\n",
      "dtypes: int64(2), object(11)\n",
      "memory usage: 1.4+ MB\n",
      "None\n"
     ]
    }
   ],
   "source": [
    "raw_data4 = get_input_data(\n",
    "    bucket=bucket,\n",
    "    initial_directory=directory,\n",
    "    filename = 'clean_llamadas_123_julio_2019.csv')\n",
    "print(raw_data4.info())"
   ]
  },
  {
   "cell_type": "code",
   "execution_count": 6,
   "id": "ed740844-9b88-466e-92db-e7f037e31ab2",
   "metadata": {},
   "outputs": [
    {
     "name": "stdout",
     "output_type": "stream",
     "text": [
      "<class 'pandas.core.frame.DataFrame'>\n",
      "RangeIndex: 15926 entries, 0 to 15925\n",
      "Data columns (total 13 columns):\n",
      " #   Column                             Non-Null Count  Dtype \n",
      "---  ------                             --------------  ----- \n",
      " 0   NUMERO_INCIDENTE                   15926 non-null  object\n",
      " 1   FECHA_INCIDENTE                    15926 non-null  object\n",
      " 2   FECHA_INICIO_DESPLAZAMIENTO_MOVIL  15926 non-null  object\n",
      " 3   CODIGO_LOCALIDAD                   15926 non-null  int64 \n",
      " 4   LOCALIDAD                          15926 non-null  object\n",
      " 5   EDAD                               15926 non-null  int64 \n",
      " 6   UNIDAD                             15926 non-null  object\n",
      " 7   GENERO                             15926 non-null  object\n",
      " 8   RED                                15926 non-null  object\n",
      " 9   TIPO_INCIDENTE                     15926 non-null  object\n",
      " 10  PRIORIDAD                          15926 non-null  object\n",
      " 11  MES                                15926 non-null  object\n",
      " 12  CLASIFICACION_FINAL                15926 non-null  object\n",
      "dtypes: int64(2), object(11)\n",
      "memory usage: 1.6+ MB\n",
      "None\n"
     ]
    }
   ],
   "source": [
    "raw_data5 = get_input_data(\n",
    "    bucket=bucket,\n",
    "    initial_directory=directory,\n",
    "    filename = 'clean_llamadas_123_noviembre_2019.csv')\n",
    "print(raw_data5.info())"
   ]
  },
  {
   "cell_type": "code",
   "execution_count": 7,
   "id": "44b17003-49bd-4386-ad6f-9ac861b53d38",
   "metadata": {},
   "outputs": [
    {
     "name": "stdout",
     "output_type": "stream",
     "text": [
      "<class 'pandas.core.frame.DataFrame'>\n",
      "RangeIndex: 15926 entries, 0 to 15925\n",
      "Data columns (total 13 columns):\n",
      " #   Column                             Non-Null Count  Dtype \n",
      "---  ------                             --------------  ----- \n",
      " 0   NUMERO_INCIDENTE                   15926 non-null  object\n",
      " 1   FECHA_INCIDENTE                    15926 non-null  object\n",
      " 2   FECHA_INICIO_DESPLAZAMIENTO_MOVIL  15926 non-null  object\n",
      " 3   CODIGO_LOCALIDAD                   15926 non-null  int64 \n",
      " 4   LOCALIDAD                          15926 non-null  object\n",
      " 5   EDAD                               15926 non-null  int64 \n",
      " 6   UNIDAD                             15926 non-null  object\n",
      " 7   GENERO                             15926 non-null  object\n",
      " 8   RED                                15926 non-null  object\n",
      " 9   TIPO_INCIDENTE                     15926 non-null  object\n",
      " 10  PRIORIDAD                          15926 non-null  object\n",
      " 11  MES                                15926 non-null  object\n",
      " 12  CLASIFICACION_FINAL                15926 non-null  object\n",
      "dtypes: int64(2), object(11)\n",
      "memory usage: 1.6+ MB\n",
      "None\n"
     ]
    }
   ],
   "source": [
    "raw_data6 = get_input_data(\n",
    "    bucket=bucket,\n",
    "    initial_directory=directory,\n",
    "    filename = 'clean_llamadas_123_octubre_2019.csv')\n",
    "print(raw_data5.info())"
   ]
  },
  {
   "cell_type": "code",
   "execution_count": 8,
   "id": "fbac390d-3ea9-4c71-a6b7-c50fc3ebe2d7",
   "metadata": {},
   "outputs": [
    {
     "name": "stdout",
     "output_type": "stream",
     "text": [
      "<class 'pandas.core.frame.DataFrame'>\n",
      "RangeIndex: 17018 entries, 0 to 17017\n",
      "Data columns (total 13 columns):\n",
      " #   Column                             Non-Null Count  Dtype \n",
      "---  ------                             --------------  ----- \n",
      " 0   NUMERO_INCIDENTE                   17018 non-null  int64 \n",
      " 1   FECHA_INCIDENTE                    17018 non-null  object\n",
      " 2   FECHA_INICIO_DESPLAZAMIENTO_MOVIL  17018 non-null  object\n",
      " 3   CODIGO_LOCALIDAD                   17018 non-null  int64 \n",
      " 4   LOCALIDAD                          17018 non-null  object\n",
      " 5   EDAD                               17018 non-null  int64 \n",
      " 6   UNIDAD                             9371 non-null   object\n",
      " 7   GENERO                             17018 non-null  object\n",
      " 8   RED                                17018 non-null  object\n",
      " 9   TIPO_INCIDENTE                     17018 non-null  object\n",
      " 10  PRIORIDAD                          17018 non-null  object\n",
      " 11  MES                                17018 non-null  object\n",
      " 12  CLASIFICACION_FINAL                17018 non-null  object\n",
      "dtypes: int64(3), object(10)\n",
      "memory usage: 1.7+ MB\n",
      "None\n"
     ]
    }
   ],
   "source": [
    "raw_data7 = get_input_data(\n",
    "    bucket=bucket,\n",
    "    initial_directory=directory,\n",
    "    filename = 'clean_llamadas_123_septiembre_2019.csv')\n",
    "print(raw_data7.info())"
   ]
  },
  {
   "cell_type": "code",
   "execution_count": 9,
   "id": "f2cad057-0a42-47aa-9805-a8f05bd4f3d5",
   "metadata": {},
   "outputs": [
    {
     "name": "stdout",
     "output_type": "stream",
     "text": [
      "<class 'pandas.core.frame.DataFrame'>\n",
      "RangeIndex: 127314 entries, 0 to 127313\n",
      "Data columns (total 13 columns):\n",
      " #   Column                             Non-Null Count   Dtype \n",
      "---  ------                             --------------   ----- \n",
      " 0   NUMERO_INCIDENTE                   127314 non-null  object\n",
      " 1   FECHA_INCIDENTE                    127314 non-null  object\n",
      " 2   FECHA_INICIO_DESPLAZAMIENTO_MOVIL  127314 non-null  object\n",
      " 3   CODIGO_LOCALIDAD                   127314 non-null  object\n",
      " 4   LOCALIDAD                          127314 non-null  object\n",
      " 5   EDAD                               127314 non-null  object\n",
      " 6   UNIDAD                             127314 non-null  object\n",
      " 7   GENERO                             127314 non-null  object\n",
      " 8   RED                                127314 non-null  object\n",
      " 9   TIPO_INCIDENTE                     127314 non-null  object\n",
      " 10  PRIORIDAD                          127286 non-null  object\n",
      " 11  MES                                127314 non-null  object\n",
      " 12  CLASIFICACION_FINAL                127314 non-null  object\n",
      "dtypes: object(13)\n",
      "memory usage: 12.6+ MB\n",
      "None\n"
     ]
    }
   ],
   "source": [
    "raw_data8 = get_input_data(\n",
    "    bucket=bucket,\n",
    "    initial_directory=directory,\n",
    "    filename = 'clean_llamadas_123_otros_2019.csv')\n",
    "print(raw_data8.info())"
   ]
  },
  {
   "cell_type": "code",
   "execution_count": 10,
   "id": "036cfa68-07e4-4a59-a04b-be298a086dbf",
   "metadata": {},
   "outputs": [
    {
     "name": "stdout",
     "output_type": "stream",
     "text": [
      "<class 'pandas.core.frame.DataFrame'>\n",
      "Int64Index: 240585 entries, 0 to 127313\n",
      "Data columns (total 13 columns):\n",
      " #   Column                             Non-Null Count   Dtype \n",
      "---  ------                             --------------   ----- \n",
      " 0   NUMERO_INCIDENTE                   240585 non-null  object\n",
      " 1   FECHA_INCIDENTE                    240585 non-null  object\n",
      " 2   FECHA_INICIO_DESPLAZAMIENTO_MOVIL  240585 non-null  object\n",
      " 3   CODIGO_LOCALIDAD                   240585 non-null  object\n",
      " 4   LOCALIDAD                          240585 non-null  object\n",
      " 5   EDAD                               240585 non-null  object\n",
      " 6   UNIDAD                             224246 non-null  object\n",
      " 7   GENERO                             231933 non-null  object\n",
      " 8   RED                                240585 non-null  object\n",
      " 9   TIPO_INCIDENTE                     240585 non-null  object\n",
      " 10  PRIORIDAD                          240557 non-null  object\n",
      " 11  MES                                240585 non-null  object\n",
      " 12  CLASIFICACION_FINAL                240585 non-null  object\n",
      "dtypes: object(13)\n",
      "memory usage: 25.7+ MB\n"
     ]
    }
   ],
   "source": [
    "raw_dataT = pd.concat([raw_data1, raw_data2, raw_data3, raw_data4, raw_data5, raw_data6, raw_data7, raw_data8])\n",
    "raw_dataT.info()\n"
   ]
  },
  {
   "cell_type": "code",
   "execution_count": 11,
   "id": "ffc0b4ac-51f3-48b4-9634-58cc7c98b293",
   "metadata": {},
   "outputs": [
    {
     "data": {
      "text/plain": [
       "SIN_DATO           127314\n",
       "0                   13842\n",
       "1026850196             73\n",
       "789977196              30\n",
       "1096036194             24\n",
       "                    ...  \n",
       "CRU-00004140-20         1\n",
       "CRU-00004132-20         1\n",
       "CRU-00004095-20         1\n",
       "CRU-00004127-20         1\n",
       "1136893194              1\n",
       "Name: NUMERO_INCIDENTE, Length: 85860, dtype: int64"
      ]
     },
     "execution_count": 11,
     "metadata": {},
     "output_type": "execute_result"
    }
   ],
   "source": [
    "# Columna NUMERO INCIDENTE\n",
    "# Se validan hay datos nullos \n",
    "# Si hay datos nullos se reemplazan por SIN_DATO\n",
    "# Retiramos todos los espacios en blanco que existan\n",
    "raw_dataT['NUMERO_INCIDENTE'].value_counts(dropna=False)"
   ]
  },
  {
   "cell_type": "code",
   "execution_count": 12,
   "id": "54af070a-4f64-4b13-ac6d-d70189e8552d",
   "metadata": {},
   "outputs": [
    {
     "data": {
      "text/plain": [
       "22/02/2019 11:51       38\n",
       "20/03/2019 6:13        32\n",
       "10/05/2019 12:39       30\n",
       "29/03/2019 16:04       28\n",
       "3/04/2019 10:19        28\n",
       "                       ..\n",
       "2019-11-05 14:50:24     1\n",
       "2019-11-05 15:30:05     1\n",
       "2019-11-05 15:26:02     1\n",
       "2019-11-05 14:50:28     1\n",
       "30/06/2019 23:56        1\n",
       "Name: FECHA_INCIDENTE, Length: 172022, dtype: int64"
      ]
     },
     "execution_count": 12,
     "metadata": {},
     "output_type": "execute_result"
    }
   ],
   "source": [
    "# Columna FECHA INCIDENTE\n",
    "# Se validan hay datos nullos \n",
    "# Si hay datos nullos se reemplazan por SIN_DATO\n",
    "# Retiramos todos los espacios en blanco que existan\n",
    "raw_dataT['FECHA_INCIDENTE'].value_counts(dropna=False)"
   ]
  },
  {
   "cell_type": "code",
   "execution_count": 13,
   "id": "c75e770b-5779-40fe-8618-894ebe801e87",
   "metadata": {},
   "outputs": [
    {
     "data": {
      "text/plain": [
       "Sumapaz                    5\n",
       " Sumapaz                  25\n",
       "La Candelaria            325\n",
       " Los Martires            697\n",
       " Usaquen                 829\n",
       " Fontibon                863\n",
       "Antonio Nariño           962\n",
       "Los Mártires            1042\n",
       " La Candelaria          1184\n",
       "Barrios Unidos          1579\n",
       " San Cristobal          1668\n",
       "Teusaquillo             1851\n",
       "Ciudad Bolivar          2085\n",
       "Los Martires            2188\n",
       "San Cristóbal           2253\n",
       "San Cristobal           2346\n",
       " Tunjuelito             2699\n",
       "Ciudad Bolívar          3029\n",
       "Fontibon                3107\n",
       "Fontibón                3120\n",
       "Bosa                    3247\n",
       "Usaquen                 3270\n",
       " Ciudad Bolivar         3402\n",
       " Engativa               3470\n",
       " Usaquén                3525\n",
       "Santa Fe                3714\n",
       " Fontibón               4012\n",
       "Usme                    4233\n",
       " Antonio Nariño         4237\n",
       " Los Mártires           4254\n",
       "Rafael Uribe Uribe      4490\n",
       "Engativa                4646\n",
       " Chapinero              4666\n",
       " Engativá               4674\n",
       "Puente Aranda           4676\n",
       "Chapinero               4677\n",
       "Usaquén                 4736\n",
       " Santa Fe               5045\n",
       "Tunjuelito              5386\n",
       " Usme                   5418\n",
       " Teusaquillo            5769\n",
       " San Cristóbal          6083\n",
       " Barrios Unidos         6687\n",
       "Kennedy                 7168\n",
       " Rafael Uribe Uribe     7815\n",
       " Ciudad Bolívar         7858\n",
       " Puente Aranda          8123\n",
       "Suba                    8915\n",
       "Engativá               11782\n",
       " Bosa                  14185\n",
       " Suba                  15578\n",
       " Kennedy               22987\n",
       "Name: LOCALIDAD, dtype: int64"
      ]
     },
     "execution_count": 13,
     "metadata": {},
     "output_type": "execute_result"
    }
   ],
   "source": [
    "raw_dataT['LOCALIDAD'].value_counts(dropna=False, ascending=True)"
   ]
  },
  {
   "cell_type": "code",
   "execution_count": 14,
   "id": "e6f9a2bd-d6aa-4cf5-9731-e23ab09a4bf9",
   "metadata": {},
   "outputs": [
    {
     "data": {
      "text/plain": [
       "Sumapaz                  30\n",
       "La Candelaria          1509\n",
       "Los Martires           2885\n",
       "Fontibon               3970\n",
       "San Cristobal          4014\n",
       "Usaquen                4099\n",
       "Antonio Nariño         5199\n",
       "Los Mártires           5296\n",
       "Ciudad Bolivar         5487\n",
       "Fontibón               7132\n",
       "Teusaquillo            7620\n",
       "Tunjuelito             8085\n",
       "Engativa               8116\n",
       "Usaquén                8261\n",
       "Barrios Unidos         8266\n",
       "San Cristóbal          8336\n",
       "Santa Fe               8759\n",
       "Chapinero              9343\n",
       "Usme                   9651\n",
       "Ciudad Bolívar        10887\n",
       "Rafael Uribe Uribe    12305\n",
       "Puente Aranda         12799\n",
       "Engativá              16456\n",
       "Bosa                  17432\n",
       "Suba                  24493\n",
       "Kennedy               30155\n",
       "Name: LOCALIDAD, dtype: int64"
      ]
     },
     "execution_count": 14,
     "metadata": {},
     "output_type": "execute_result"
    }
   ],
   "source": [
    "raw_dataT['LOCALIDAD']= raw_dataT['LOCALIDAD'].apply(\n",
    "    lambda x:x.strip()        \n",
    ")\n",
    "raw_dataT.head()\n",
    "raw_dataT['LOCALIDAD'].value_counts(dropna=False, ascending=True)"
   ]
  },
  {
   "cell_type": "code",
   "execution_count": 16,
   "id": "0800011c-d297-473f-8e2f-575cd1628fa4",
   "metadata": {},
   "outputs": [],
   "source": [
    "def normalize(s):\n",
    "    replacements = (\n",
    "        (\"á\", \"a\"),\n",
    "        (\"é\", \"e\"),\n",
    "        (\"í\", \"i\"),\n",
    "        (\"ó\", \"o\"),\n",
    "        (\"ú\", \"u\"),\n",
    "    )\n",
    "    for a, b in replacements:\n",
    "        s = s.replace(a, b).replace(a.upper(), b.upper())\n",
    "    return s\n",
    "\n",
    "\n",
    "def fechas(x):\n",
    "    objDate = datetime.strptime(x, '%m/%d/%y')\n",
    "    return objDate\n",
    "\n",
    "\n",
    "\n",
    "\n"
   ]
  },
  {
   "cell_type": "code",
   "execution_count": 17,
   "id": "6545995e-1cc7-4375-be85-8ba823d21939",
   "metadata": {},
   "outputs": [
    {
     "data": {
      "text/plain": [
       "Sumapaz                  30\n",
       "La Candelaria          1509\n",
       "Antonio Nariño         5199\n",
       "Teusaquillo            7620\n",
       "Tunjuelito             8085\n",
       "Los Martires           8181\n",
       "Barrios Unidos         8266\n",
       "Santa Fe               8759\n",
       "Chapinero              9343\n",
       "Usme                   9651\n",
       "Fontibon              11102\n",
       "Rafael Uribe Uribe    12305\n",
       "San Cristobal         12350\n",
       "Usaquen               12360\n",
       "Puente Aranda         12799\n",
       "Ciudad Bolivar        16374\n",
       "Bosa                  17432\n",
       "Suba                  24493\n",
       "Engativa              24572\n",
       "Kennedy               30155\n",
       "Name: LOCALIDAD, dtype: int64"
      ]
     },
     "execution_count": 17,
     "metadata": {},
     "output_type": "execute_result"
    }
   ],
   "source": [
    "raw_dataT['LOCALIDAD']= raw_dataT['LOCALIDAD'].apply(\n",
    "    lambda x:normalize(x)        \n",
    ")\n",
    "raw_dataT['LOCALIDAD'].value_counts(dropna=False, ascending=True)"
   ]
  },
  {
   "cell_type": "code",
   "execution_count": 18,
   "id": "7545fa0a-1f1a-49e9-9bde-c68c9c284737",
   "metadata": {},
   "outputs": [
    {
     "name": "stdout",
     "output_type": "stream",
     "text": [
      "<class 'pandas.core.frame.DataFrame'>\n",
      "Int64Index: 240585 entries, 0 to 127313\n",
      "Data columns (total 13 columns):\n",
      " #   Column                             Non-Null Count   Dtype \n",
      "---  ------                             --------------   ----- \n",
      " 0   NUMERO_INCIDENTE                   240585 non-null  object\n",
      " 1   FECHA_INCIDENTE                    240585 non-null  object\n",
      " 2   FECHA_INICIO_DESPLAZAMIENTO_MOVIL  240585 non-null  object\n",
      " 3   CODIGO_LOCALIDAD                   240585 non-null  object\n",
      " 4   LOCALIDAD                          240585 non-null  object\n",
      " 5   EDAD                               240585 non-null  object\n",
      " 6   UNIDAD                             224246 non-null  object\n",
      " 7   GENERO                             231933 non-null  object\n",
      " 8   RED                                240585 non-null  object\n",
      " 9   TIPO_INCIDENTE                     240585 non-null  object\n",
      " 10  PRIORIDAD                          240557 non-null  object\n",
      " 11  MES                                240585 non-null  object\n",
      " 12  CLASIFICACION_FINAL                240585 non-null  object\n",
      "dtypes: object(13)\n",
      "memory usage: 25.7+ MB\n"
     ]
    }
   ],
   "source": [
    "raw_dataT.info()"
   ]
  },
  {
   "cell_type": "code",
   "execution_count": 23,
   "id": "8f897d13-a729-4c7e-9f3c-99e425bf0640",
   "metadata": {},
   "outputs": [
    {
     "name": "stdout",
     "output_type": "stream",
     "text": [
      "Number of rows before cleaning: 240585\n",
      "Number of rows after cleaning: 194817\n"
     ]
    }
   ],
   "source": [
    "print('Number of rows before cleaning:', raw_dataT.shape[0] )\n",
    "raw_dataT.drop_duplicates(inplace=True)\n",
    "print('Number of rows after cleaning:', raw_dataT.shape[0] )"
   ]
  },
  {
   "cell_type": "code",
   "execution_count": 24,
   "id": "5d8428c5-e67a-49c0-a7b9-07e44a218a7e",
   "metadata": {},
   "outputs": [
    {
     "data": {
      "application/vnd.jupyter.widget-view+json": {
       "model_id": "4a8a025bdf914990b76e7e56598877a6",
       "version_major": 2,
       "version_minor": 0
      },
      "text/plain": [
       "Summarize dataset:   0%|          | 0/27 [00:00<?, ?it/s]"
      ]
     },
     "metadata": {},
     "output_type": "display_data"
    },
    {
     "data": {
      "application/vnd.jupyter.widget-view+json": {
       "model_id": "8573f4dcd522440cb7ecbe6bd26d00c5",
       "version_major": 2,
       "version_minor": 0
      },
      "text/plain": [
       "Generate report structure:   0%|          | 0/1 [00:00<?, ?it/s]"
      ]
     },
     "metadata": {},
     "output_type": "display_data"
    },
    {
     "data": {
      "application/vnd.jupyter.widget-view+json": {
       "model_id": "0d68ed267e2f428aa55c5de73c7639d4",
       "version_major": 2,
       "version_minor": 0
      },
      "text/plain": [
       "Render HTML:   0%|          | 0/1 [00:00<?, ?it/s]"
      ]
     },
     "metadata": {},
     "output_type": "display_data"
    },
    {
     "data": {
      "application/vnd.jupyter.widget-view+json": {
       "model_id": "7041069c97754776862943616795e7bc",
       "version_major": 2,
       "version_minor": 0
      },
      "text/plain": [
       "Export report to file:   0%|          | 0/1 [00:00<?, ?it/s]"
      ]
     },
     "metadata": {},
     "output_type": "display_data"
    }
   ],
   "source": [
    "profile = ProfileReport(df=raw_dataT)\n",
    "profile.to_file(output_file=project_dir + '/reports/'+'profile_clean_data_total_123.html')"
   ]
  },
  {
   "cell_type": "code",
   "execution_count": 25,
   "id": "e424f635-edd8-4ad4-9e98-84f275c2db0a",
   "metadata": {},
   "outputs": [],
   "source": [
    "# saving in a local directory\n",
    "\n",
    "import data_manipulator_proc\n",
    "\n",
    "raw_dataT.to_csv(project_dir + '/data/processed/' +'Total_llamadas_2019.csv', encoding='latin1', sep=';', index=False)"
   ]
  },
  {
   "cell_type": "code",
   "execution_count": null,
   "id": "5f2efbca-7ac1-4a7e-998f-e75feeaf6ef8",
   "metadata": {},
   "outputs": [],
   "source": []
  }
 ],
 "metadata": {
  "environment": {
   "kernel": "python3",
   "name": "common-cpu.m90",
   "type": "gcloud",
   "uri": "gcr.io/deeplearning-platform-release/base-cpu:m90"
  },
  "kernelspec": {
   "display_name": "Python 3",
   "language": "python",
   "name": "python3"
  },
  "language_info": {
   "codemirror_mode": {
    "name": "ipython",
    "version": 3
   },
   "file_extension": ".py",
   "mimetype": "text/x-python",
   "name": "python",
   "nbconvert_exporter": "python",
   "pygments_lexer": "ipython3",
   "version": "3.7.12"
  }
 },
 "nbformat": 4,
 "nbformat_minor": 5
}
