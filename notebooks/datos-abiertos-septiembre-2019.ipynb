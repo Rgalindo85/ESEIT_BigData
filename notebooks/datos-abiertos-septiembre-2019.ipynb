{
 "cells": [
  {
   "cell_type": "code",
   "execution_count": 9,
   "id": "cead1ac5-217c-4ff6-a1af-5be73c23dc48",
   "metadata": {},
   "outputs": [],
   "source": [
    "import os\n",
    "import sys\n",
    "import logging\n",
    "import pandas as pd\n",
    "\n",
    "from pandas_profiling import ProfileReport\n",
    "\n",
    "\n",
    "project_dir = os.path.dirname(os.path.abspath('.')) # get the path of the project, if doesn't work use os.getcwd() instead and use rfind to find the project dir\n",
    "sys.path.append(os.path.join(project_dir, 'src', 'data'))\n",
    "\n",
    "from data_manipulator import get_input_data\n",
    "\n",
    "bucket = 'fredo7'\n",
    "directory = 'BigData'"
   ]
  },
  {
   "cell_type": "code",
   "execution_count": 11,
   "id": "379fbe38-b07a-4507-9f5b-6919c526ee90",
   "metadata": {},
   "outputs": [
    {
     "name": "stdout",
     "output_type": "stream",
     "text": [
      "<class 'pandas.core.frame.DataFrame'>\n",
      "RangeIndex: 17018 entries, 0 to 17017\n",
      "Data columns (total 10 columns):\n",
      " #   Column                             Non-Null Count  Dtype \n",
      "---  ------                             --------------  ----- \n",
      " 0   NUMERO_INCIDENTE                   17018 non-null  int64 \n",
      " 1   FECHA_INICIO_DESPLAZAMIENTO-MOVIL  17018 non-null  object\n",
      " 2   CODIGO DE LOCALIDAD                17018 non-null  int64 \n",
      " 3   LOCALIDAD                          17018 non-null  object\n",
      " 4   EDAD                               17018 non-null  int64 \n",
      " 5   UNIDAD                             9371 non-null   object\n",
      " 6   GENERO                             17018 non-null  object\n",
      " 7   RED                                17018 non-null  object\n",
      " 8   TIPO_INCIDENTE                     17018 non-null  object\n",
      " 9   PRIORIDAD                          17018 non-null  object\n",
      "dtypes: int64(3), object(7)\n",
      "memory usage: 1.3+ MB\n",
      "None\n"
     ]
    }
   ],
   "source": [
    "raw_data = get_input_data(\n",
    "    bucket=bucket,\n",
    "    initial_directory=directory,\n",
    "    filename = 'datos-abiertos-septiembre-2019.csv')\n",
    "print(raw_data.info())"
   ]
  },
  {
   "cell_type": "code",
   "execution_count": 12,
   "id": "aa2e7421-e6e0-4a3c-8de6-f77682c3d0e9",
   "metadata": {},
   "outputs": [
    {
     "name": "stdout",
     "output_type": "stream",
     "text": [
      "<class 'pandas.core.frame.DataFrame'>\n",
      "RangeIndex: 17018 entries, 0 to 17017\n",
      "Data columns (total 10 columns):\n",
      " #   Column                             Non-Null Count  Dtype \n",
      "---  ------                             --------------  ----- \n",
      " 0   NUMERO_INCIDENTE                   17018 non-null  int64 \n",
      " 1   FECHA_INICIO_DESPLAZAMIENTO_MOVIL  17018 non-null  object\n",
      " 2   CODIGO_LOCALIDAD                   17018 non-null  int64 \n",
      " 3   LOCALIDAD                          17018 non-null  object\n",
      " 4   EDAD                               17018 non-null  int64 \n",
      " 5   UNIDAD                             9371 non-null   object\n",
      " 6   GENERO                             17018 non-null  object\n",
      " 7   RED                                17018 non-null  object\n",
      " 8   TIPO_INCIDENTE                     17018 non-null  object\n",
      " 9   PRIORIDAD                          17018 non-null  object\n",
      "dtypes: int64(3), object(7)\n",
      "memory usage: 1.3+ MB\n"
     ]
    }
   ],
   "source": [
    "# Se renombran los campos actuales\n",
    "raw_data.rename(\n",
    "    columns = {\n",
    "        'FECHA_INICIO_DESPLAZAMIENTO-MOVIL' : 'FECHA_INICIO_DESPLAZAMIENTO_MOVIL',\n",
    "        'CODIGO DE LOCALIDAD'               : 'CODIGO_LOCALIDAD',\n",
    "            },\n",
    "    inplace=True\n",
    ")\n",
    "raw_data.head()\n",
    "raw_data.info()"
   ]
  },
  {
   "cell_type": "code",
   "execution_count": 16,
   "id": "e431d989-fd20-4450-a0de-3503e02e7508",
   "metadata": {},
   "outputs": [
    {
     "name": "stdout",
     "output_type": "stream",
     "text": [
      "<class 'pandas.core.frame.DataFrame'>\n",
      "RangeIndex: 17018 entries, 0 to 17017\n",
      "Data columns (total 13 columns):\n",
      " #   Column                             Non-Null Count  Dtype \n",
      "---  ------                             --------------  ----- \n",
      " 0   NUMERO_INCIDENTE                   17018 non-null  int64 \n",
      " 1   FECHA_INICIO_DESPLAZAMIENTO_MOVIL  17018 non-null  object\n",
      " 2   CODIGO_LOCALIDAD                   17018 non-null  int64 \n",
      " 3   LOCALIDAD                          17018 non-null  object\n",
      " 4   EDAD                               17018 non-null  int64 \n",
      " 5   UNIDAD                             9371 non-null   object\n",
      " 6   GENERO                             17018 non-null  object\n",
      " 7   RED                                17018 non-null  object\n",
      " 8   TIPO_INCIDENTE                     17018 non-null  object\n",
      " 9   PRIORIDAD                          17018 non-null  object\n",
      " 10  FECHA_INCIDENTE                    17018 non-null  object\n",
      " 11  MES                                17018 non-null  object\n",
      " 12  CLASIFICACION_FINAL                17018 non-null  object\n",
      "dtypes: int64(3), object(10)\n",
      "memory usage: 1.7+ MB\n"
     ]
    }
   ],
   "source": [
    "# Incluyen las nuevos campos faltantes\n",
    "raw_data = raw_data.assign(FECHA_INCIDENTE= raw_data['FECHA_INICIO_DESPLAZAMIENTO_MOVIL'])\n",
    "raw_data\n",
    "raw_data = raw_data.assign( MES = 'SEPTIEMBRE')\n",
    "raw_data.head()\n",
    "raw_data = raw_data.assign(CLASIFICACION_FINAL = \"SIN_DATO\")\n",
    "raw_data.head()\n",
    "raw_data.info()"
   ]
  },
  {
   "cell_type": "code",
   "execution_count": 17,
   "id": "8bb3e960-fc1a-409d-940c-9649022914ae",
   "metadata": {},
   "outputs": [
    {
     "name": "stdout",
     "output_type": "stream",
     "text": [
      "<class 'pandas.core.frame.DataFrame'>\n",
      "RangeIndex: 17018 entries, 0 to 17017\n",
      "Data columns (total 13 columns):\n",
      " #   Column                             Non-Null Count  Dtype \n",
      "---  ------                             --------------  ----- \n",
      " 0   NUMERO_INCIDENTE                   17018 non-null  int64 \n",
      " 1   FECHA_INCIDENTE                    17018 non-null  object\n",
      " 2   FECHA_INICIO_DESPLAZAMIENTO_MOVIL  17018 non-null  object\n",
      " 3   CODIGO_LOCALIDAD                   17018 non-null  int64 \n",
      " 4   LOCALIDAD                          17018 non-null  object\n",
      " 5   EDAD                               17018 non-null  int64 \n",
      " 6   UNIDAD                             9371 non-null   object\n",
      " 7   GENERO                             17018 non-null  object\n",
      " 8   RED                                17018 non-null  object\n",
      " 9   TIPO_INCIDENTE                     17018 non-null  object\n",
      " 10  PRIORIDAD                          17018 non-null  object\n",
      " 11  MES                                17018 non-null  object\n",
      " 12  CLASIFICACION_FINAL                17018 non-null  object\n",
      "dtypes: int64(3), object(10)\n",
      "memory usage: 1.7+ MB\n"
     ]
    }
   ],
   "source": [
    "# Reordenamos las columnas en el orden establecido para todos\n",
    "#los archivos\n",
    "\n",
    "raw_data = raw_data.reindex(columns=['NUMERO_INCIDENTE',\n",
    "                                     'FECHA_INCIDENTE',\n",
    "'FECHA_INICIO_DESPLAZAMIENTO_MOVIL',\n",
    "'CODIGO_LOCALIDAD',\n",
    "'LOCALIDAD',\n",
    "'EDAD',\n",
    "'UNIDAD',\n",
    "'GENERO',\n",
    "'RED',\n",
    "'TIPO_INCIDENTE',\n",
    "'PRIORIDAD',\n",
    "'MES',\n",
    "'CLASIFICACION_FINAL',\n",
    "\n",
    "])\n",
    "raw_data.head()\n",
    "raw_data.info()"
   ]
  },
  {
   "cell_type": "code",
   "execution_count": 21,
   "id": "02f4d363-6997-4d2c-84f6-11bf58947b14",
   "metadata": {},
   "outputs": [
    {
     "data": {
      "application/vnd.jupyter.widget-view+json": {
       "model_id": "55856acd8db34815ba0fa976ac8dc5a5",
       "version_major": 2,
       "version_minor": 0
      },
      "text/plain": [
       "Summarize dataset:   0%|          | 0/26 [00:00<?, ?it/s]"
      ]
     },
     "metadata": {},
     "output_type": "display_data"
    },
    {
     "data": {
      "application/vnd.jupyter.widget-view+json": {
       "model_id": "b80df672f7d44b2585f88e86e53dd097",
       "version_major": 2,
       "version_minor": 0
      },
      "text/plain": [
       "Generate report structure:   0%|          | 0/1 [00:00<?, ?it/s]"
      ]
     },
     "metadata": {},
     "output_type": "display_data"
    },
    {
     "data": {
      "application/vnd.jupyter.widget-view+json": {
       "model_id": "234c0eeca4fe454bb50324a41981940b",
       "version_major": 2,
       "version_minor": 0
      },
      "text/plain": [
       "Render HTML:   0%|          | 0/1 [00:00<?, ?it/s]"
      ]
     },
     "metadata": {},
     "output_type": "display_data"
    },
    {
     "data": {
      "application/vnd.jupyter.widget-view+json": {
       "model_id": "d04ed8fc8b6147d7b60b3a881f990788",
       "version_major": 2,
       "version_minor": 0
      },
      "text/plain": [
       "Export report to file:   0%|          | 0/1 [00:00<?, ?it/s]"
      ]
     },
     "metadata": {},
     "output_type": "display_data"
    }
   ],
   "source": [
    "profile = ProfileReport(df=raw_data)\n",
    "profile.to_file(output_file=project_dir + '/reports/'+'profile_raw_data_septiembre_2019.html')"
   ]
  },
  {
   "cell_type": "code",
   "execution_count": 23,
   "id": "0face52c-5408-46e9-9ef1-d99b92eec38a",
   "metadata": {},
   "outputs": [],
   "source": [
    "# saving in a local directory\n",
    "raw_data.to_csv(project_dir + '/data/processed/' +'clean_llamadas_123_septiembre_2019.csv', encoding='latin1', sep=';', index=False)"
   ]
  },
  {
   "cell_type": "code",
   "execution_count": null,
   "id": "a3f019fd-8619-4e69-98d4-49b2e8b32db1",
   "metadata": {},
   "outputs": [],
   "source": []
  }
 ],
 "metadata": {
  "environment": {
   "kernel": "python3",
   "name": "common-cpu.m90",
   "type": "gcloud",
   "uri": "gcr.io/deeplearning-platform-release/base-cpu:m90"
  },
  "kernelspec": {
   "display_name": "Python 3",
   "language": "python",
   "name": "python3"
  },
  "language_info": {
   "codemirror_mode": {
    "name": "ipython",
    "version": 3
   },
   "file_extension": ".py",
   "mimetype": "text/x-python",
   "name": "python",
   "nbconvert_exporter": "python",
   "pygments_lexer": "ipython3",
   "version": "3.7.12"
  }
 },
 "nbformat": 4,
 "nbformat_minor": 5
}
