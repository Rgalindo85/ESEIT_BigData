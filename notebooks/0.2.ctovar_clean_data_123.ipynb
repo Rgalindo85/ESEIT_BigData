{
 "cells": [
  {
   "cell_type": "markdown",
   "id": "809f786c-2c37-4425-8c04-60c6a0f54e83",
   "metadata": {},
   "source": [
    "## Clean and merge data linea 123 files\n",
    "Carolina Tovar Castiblanco"
   ]
  },
  {
   "cell_type": "code",
   "execution_count": 1,
   "id": "590f9d2c-fd07-4267-b8e4-8f12513d5621",
   "metadata": {},
   "outputs": [],
   "source": [
    "import os\n",
    "import sys\n",
    "import logging\n",
    "import pandas as pd\n",
    "\n",
    "from pandas_profiling import ProfileReport\n",
    "\n",
    "\n",
    "project_dir = os.path.dirname(os.path.abspath('.')) # get the path of the project, if doesn't work use os.getcwd() instead and use rfind to find the project dir\n",
    "sys.path.append(os.path.join(project_dir, 'src', 'data'))\n",
    "\n",
    "from data_manipulator import get_input_data\n",
    "\n",
    "bucket = 'ctovar_espbigdata'\n",
    "directory = 'BigData'"
   ]
  },
  {
   "cell_type": "markdown",
   "id": "fb2d4160-cbd8-46b2-812b-67501deb4088",
   "metadata": {},
   "source": [
    "## Read Metadata\n",
    "-----\n",
    "General info for each relevant column"
   ]
  },
  {
   "cell_type": "code",
   "execution_count": 2,
   "id": "3e24f97b-b94b-478c-80aa-9380e752423e",
   "metadata": {},
   "outputs": [
    {
     "data": {
      "text/html": [
       "<div>\n",
       "<style scoped>\n",
       "    .dataframe tbody tr th:only-of-type {\n",
       "        vertical-align: middle;\n",
       "    }\n",
       "\n",
       "    .dataframe tbody tr th {\n",
       "        vertical-align: top;\n",
       "    }\n",
       "\n",
       "    .dataframe thead th {\n",
       "        text-align: right;\n",
       "    }\n",
       "</style>\n",
       "<table border=\"1\" class=\"dataframe\">\n",
       "  <thead>\n",
       "    <tr style=\"text-align: right;\">\n",
       "      <th></th>\n",
       "      <th>NOMBRE</th>\n",
       "      <th>DESCRIPCION</th>\n",
       "    </tr>\n",
       "  </thead>\n",
       "  <tbody>\n",
       "    <tr>\n",
       "      <th>0</th>\n",
       "      <td>FECHA_INCIDENTE</td>\n",
       "      <td>Es la fecha el cual se registra la llamada del...</td>\n",
       "    </tr>\n",
       "    <tr>\n",
       "      <th>1</th>\n",
       "      <td>FECHA_INICIO_DESPLAZAMIENTO_MOVIL</td>\n",
       "      <td>Es la fecha el cual se inicia el desplazamient...</td>\n",
       "    </tr>\n",
       "    <tr>\n",
       "      <th>2</th>\n",
       "      <td>CODIGO LOCALIDAD</td>\n",
       "      <td>Es el código de las 20 localidades de la ciuda...</td>\n",
       "    </tr>\n",
       "    <tr>\n",
       "      <th>3</th>\n",
       "      <td>LOCALIDAD</td>\n",
       "      <td>Es la localidad donde sucede el incidente.</td>\n",
       "    </tr>\n",
       "    <tr>\n",
       "      <th>4</th>\n",
       "      <td>EDAD</td>\n",
       "      <td>La edad del paciente.</td>\n",
       "    </tr>\n",
       "    <tr>\n",
       "      <th>5</th>\n",
       "      <td>UNIDAD</td>\n",
       "      <td>La descripción de la edad si es en horas, días...</td>\n",
       "    </tr>\n",
       "    <tr>\n",
       "      <th>6</th>\n",
       "      <td>GENERO</td>\n",
       "      <td>Es la  distinción de genero del paciente</td>\n",
       "    </tr>\n",
       "    <tr>\n",
       "      <th>7</th>\n",
       "      <td>RED</td>\n",
       "      <td>Es la localización a nivel bogota de la red de...</td>\n",
       "    </tr>\n",
       "    <tr>\n",
       "      <th>8</th>\n",
       "      <td>TIPO_INCIDENTE</td>\n",
       "      <td>Es la descripción inicial que tipifica el cent...</td>\n",
       "    </tr>\n",
       "    <tr>\n",
       "      <th>9</th>\n",
       "      <td>PRIORIDAD</td>\n",
       "      <td>Es la tipificación según la prioridad del inci...</td>\n",
       "    </tr>\n",
       "    <tr>\n",
       "      <th>10</th>\n",
       "      <td>MES</td>\n",
       "      <td>Es el mes el cual ocurrió el incidente.</td>\n",
       "    </tr>\n",
       "    <tr>\n",
       "      <th>11</th>\n",
       "      <td>CLASIFICACION FINAL</td>\n",
       "      <td>Es la clasificación final que entrega el centr...</td>\n",
       "    </tr>\n",
       "  </tbody>\n",
       "</table>\n",
       "</div>"
      ],
      "text/plain": [
       "                               NOMBRE  \\\n",
       "0                     FECHA_INCIDENTE   \n",
       "1   FECHA_INICIO_DESPLAZAMIENTO_MOVIL   \n",
       "2                    CODIGO LOCALIDAD   \n",
       "3                           LOCALIDAD   \n",
       "4                                EDAD   \n",
       "5                              UNIDAD   \n",
       "6                              GENERO   \n",
       "7                                 RED   \n",
       "8                      TIPO_INCIDENTE   \n",
       "9                           PRIORIDAD   \n",
       "10                                MES   \n",
       "11                CLASIFICACION FINAL   \n",
       "\n",
       "                                          DESCRIPCION  \n",
       "0   Es la fecha el cual se registra la llamada del...  \n",
       "1   Es la fecha el cual se inicia el desplazamient...  \n",
       "2   Es el código de las 20 localidades de la ciuda...  \n",
       "3          Es la localidad donde sucede el incidente.  \n",
       "4                               La edad del paciente.  \n",
       "5   La descripción de la edad si es en horas, días...  \n",
       "6            Es la  distinción de genero del paciente  \n",
       "7   Es la localización a nivel bogota de la red de...  \n",
       "8   Es la descripción inicial que tipifica el cent...  \n",
       "9   Es la tipificación según la prioridad del inci...  \n",
       "10            Es el mes el cual ocurrió el incidente.  \n",
       "11  Es la clasificación final que entrega el centr...  "
      ]
     },
     "execution_count": 2,
     "metadata": {},
     "output_type": "execute_result"
    }
   ],
   "source": [
    "file = 'gs://{}/{}/data/metadatos-llamadas-urg-y-emer.csv'.format(bucket, directory)\n",
    "df_metadata = pd.read_csv(file, encoding='latin1', sep=';')\n",
    "df_metadata"
   ]
  },
  {
   "cell_type": "markdown",
   "id": "04d34b55-991e-4d40-942c-eec65fecb7c2",
   "metadata": {},
   "source": [
    "## Get raw data of all of months"
   ]
  },
  {
   "cell_type": "code",
   "execution_count": 3,
   "id": "d923d9c2-fc83-4491-a6c7-23c8f057a62a",
   "metadata": {},
   "outputs": [
    {
     "name": "stdout",
     "output_type": "stream",
     "text": [
      "<class 'pandas.core.frame.DataFrame'>\n",
      "RangeIndex: 14560 entries, 0 to 14559\n",
      "Data columns (total 12 columns):\n",
      " #   Column                             Non-Null Count  Dtype \n",
      "---  ------                             --------------  ----- \n",
      " 0   FECHA_INCIDENTE                    14560 non-null  object\n",
      " 1   FECHA_INICIO_DESPLAZAMIENTO-MOVIL  14560 non-null  object\n",
      " 2   CODIGO DE LOCALIDAD                14560 non-null  int64 \n",
      " 3   LOCALIDAD                          14560 non-null  object\n",
      " 4   EDAD                               14560 non-null  object\n",
      " 5   UNIDAD                             14560 non-null  object\n",
      " 6   GENERO                             14560 non-null  object\n",
      " 7   RED                                14560 non-null  object\n",
      " 8   TIPO_INCIDENTE                     14560 non-null  object\n",
      " 9   PRIORIDAD                          14560 non-null  object\n",
      " 10  MES                                14560 non-null  object\n",
      " 11  CLASIFICACION FINAL                13035 non-null  object\n",
      "dtypes: int64(1), object(11)\n",
      "memory usage: 1.3+ MB\n",
      "None\n"
     ]
    }
   ],
   "source": [
    "raw_data_julio = get_input_data(\n",
    "    bucket = bucket,\n",
    "    initial_directory = directory,\n",
    "    filename = 'datos-abiertos-julio-2019.csv'\n",
    "    )\n",
    "print(raw_data_julio.info())"
   ]
  },
  {
   "cell_type": "code",
   "execution_count": 4,
   "id": "dbe1bb62-1c22-46b1-9288-c12a342f322f",
   "metadata": {},
   "outputs": [
    {
     "name": "stdout",
     "output_type": "stream",
     "text": [
      "<class 'pandas.core.frame.DataFrame'>\n",
      "RangeIndex: 18141 entries, 0 to 18140\n",
      "Data columns (total 12 columns):\n",
      " #   Column                             Non-Null Count  Dtype \n",
      "---  ------                             --------------  ----- \n",
      " 0   NUMERO_INCIDENTE                   18141 non-null  int64 \n",
      " 1   FECHA_INICIO_DESPLAZAMIENTO-MOVIL  18141 non-null  object\n",
      " 2   CODIGO DE LOCALIDAD                18141 non-null  int64 \n",
      " 3   LOCALIDAD                          18141 non-null  object\n",
      " 4   EDAD                               18141 non-null  object\n",
      " 5   UNIDAD                             18141 non-null  object\n",
      " 6   GENERO                             18141 non-null  object\n",
      " 7   RED                                18141 non-null  object\n",
      " 8   TIPO DE INCIDIDENT                 18141 non-null  object\n",
      " 9   PRIORIDAD                          18141 non-null  object\n",
      " 10  MES                                18141 non-null  object\n",
      " 11  CLASIFICACION FINAL                18138 non-null  object\n",
      "dtypes: int64(2), object(10)\n",
      "memory usage: 1.7+ MB\n",
      "None\n"
     ]
    }
   ],
   "source": [
    "raw_data_agosto = get_input_data(\n",
    "    bucket = bucket,\n",
    "    initial_directory = directory,\n",
    "    filename = 'datos-abiertos-agosto-2019.csv'\n",
    "    )\n",
    "print(raw_data_agosto.info())"
   ]
  },
  {
   "cell_type": "code",
   "execution_count": 5,
   "id": "2e7ebb4a-298e-49ce-af2a-bb28f264aa02",
   "metadata": {},
   "outputs": [
    {
     "name": "stdout",
     "output_type": "stream",
     "text": [
      "<class 'pandas.core.frame.DataFrame'>\n",
      "RangeIndex: 17018 entries, 0 to 17017\n",
      "Data columns (total 10 columns):\n",
      " #   Column                             Non-Null Count  Dtype \n",
      "---  ------                             --------------  ----- \n",
      " 0   NUMERO_INCIDENTE                   17018 non-null  int64 \n",
      " 1   FECHA_INICIO_DESPLAZAMIENTO-MOVIL  17018 non-null  object\n",
      " 2   CODIGO DE LOCALIDAD                17018 non-null  int64 \n",
      " 3   LOCALIDAD                          17018 non-null  object\n",
      " 4   EDAD                               17018 non-null  int64 \n",
      " 5   UNIDAD                             9371 non-null   object\n",
      " 6   GENERO                             17018 non-null  object\n",
      " 7   RED                                17018 non-null  object\n",
      " 8   TIPO_INCIDENTE                     17018 non-null  object\n",
      " 9   PRIORIDAD                          17018 non-null  object\n",
      "dtypes: int64(3), object(7)\n",
      "memory usage: 1.3+ MB\n",
      "None\n"
     ]
    }
   ],
   "source": [
    "raw_data_septiembre = get_input_data(\n",
    "    bucket = bucket,\n",
    "    initial_directory = directory,\n",
    "    filename = 'datos-abiertos-septiembre-2019.csv'\n",
    "    )\n",
    "print(raw_data_septiembre.info())"
   ]
  },
  {
   "cell_type": "code",
   "execution_count": 6,
   "id": "58247293-edd1-40a2-84c2-e438879fbc24",
   "metadata": {},
   "outputs": [
    {
     "name": "stdout",
     "output_type": "stream",
     "text": [
      "<class 'pandas.core.frame.DataFrame'>\n",
      "RangeIndex: 18195 entries, 0 to 18194\n",
      "Data columns (total 10 columns):\n",
      " #   Column               Non-Null Count  Dtype \n",
      "---  ------               --------------  ----- \n",
      " 0   NUMERO_INCIDENTE     18195 non-null  int64 \n",
      " 1   FECHA_DESPACHO_518   18195 non-null  object\n",
      " 2   CODIGO DE LOCALIDAD  18195 non-null  int64 \n",
      " 3   LOCALIDAD            18195 non-null  object\n",
      " 4   EDAD                 18195 non-null  object\n",
      " 5   UNIDAD               9503 non-null   object\n",
      " 6   GENERO               9543 non-null   object\n",
      " 7   RED                  18195 non-null  object\n",
      " 8   TIPO_INCIDENTE       18195 non-null  object\n",
      " 9   PRIORIDAD            18195 non-null  object\n",
      "dtypes: int64(2), object(8)\n",
      "memory usage: 1.4+ MB\n",
      "None\n"
     ]
    }
   ],
   "source": [
    "raw_data_octubre = get_input_data(\n",
    "    bucket = bucket,\n",
    "    initial_directory = directory,\n",
    "    filename = 'datos-abiertos-octubre-2019.csv'\n",
    "    )\n",
    "print(raw_data_octubre.info())"
   ]
  },
  {
   "cell_type": "code",
   "execution_count": 7,
   "id": "f9a3be1b-e36b-401f-81a3-f46991ef96db",
   "metadata": {},
   "outputs": [
    {
     "name": "stdout",
     "output_type": "stream",
     "text": [
      "<class 'pandas.core.frame.DataFrame'>\n",
      "RangeIndex: 15926 entries, 0 to 15925\n",
      "Data columns (total 10 columns):\n",
      " #   Column                             Non-Null Count  Dtype \n",
      "---  ------                             --------------  ----- \n",
      " 0   NUMERO_INCIDENTE                   15926 non-null  object\n",
      " 1   FECHA_INICIO_DESPLAZAMIENTO-MOVIL  15926 non-null  object\n",
      " 2   CODIGO DE LOCALIDAD                15926 non-null  int64 \n",
      " 3   LOCALIDAD                          15926 non-null  object\n",
      " 4   EDAD                               15926 non-null  int64 \n",
      " 5   UNIDAD                             15926 non-null  object\n",
      " 6   GENERO                             15926 non-null  object\n",
      " 7   RED                                15926 non-null  object\n",
      " 8   TIPO_INCIDENTE                     15926 non-null  object\n",
      " 9   PRIORIDAD                          15926 non-null  object\n",
      "dtypes: int64(2), object(8)\n",
      "memory usage: 1.2+ MB\n",
      "None\n"
     ]
    }
   ],
   "source": [
    "raw_data_noviembre = get_input_data(\n",
    "    bucket = bucket,\n",
    "    initial_directory = directory,\n",
    "    filename = 'datos-abiertos-noviembre_2019.csv'\n",
    "    )\n",
    "print(raw_data_noviembre.info())"
   ]
  },
  {
   "cell_type": "code",
   "execution_count": 8,
   "id": "76c1cc88-caa5-4235-8ec7-10cd35d0685f",
   "metadata": {},
   "outputs": [
    {
     "name": "stdout",
     "output_type": "stream",
     "text": [
      "<class 'pandas.core.frame.DataFrame'>\n",
      "RangeIndex: 16243 entries, 0 to 16242\n",
      "Data columns (total 10 columns):\n",
      " #   Column               Non-Null Count  Dtype \n",
      "---  ------               --------------  ----- \n",
      " 0   NUMERO_INCIDENTE     16243 non-null  object\n",
      " 1   FECHA_DESPACHO_518   16243 non-null  object\n",
      " 2   CODIGO DE LOCALIDAD  16243 non-null  int64 \n",
      " 3   LOCALIDAD            16243 non-null  object\n",
      " 4   EDAD                 16243 non-null  int64 \n",
      " 5   UNIDAD               16243 non-null  object\n",
      " 6   GENERO               16243 non-null  object\n",
      " 7   RED                  16243 non-null  object\n",
      " 8   TIPO_INCIDENTE       16243 non-null  object\n",
      " 9   PRIORIDAD            16243 non-null  object\n",
      "dtypes: int64(2), object(8)\n",
      "memory usage: 1.2+ MB\n",
      "None\n"
     ]
    }
   ],
   "source": [
    "raw_data_diciembre = get_input_data(\n",
    "    bucket = bucket,\n",
    "    initial_directory = directory,\n",
    "    filename = 'datos_abiertos_cons_diciembre_2019.csv'\n",
    "    )\n",
    "print(raw_data_diciembre.info())"
   ]
  },
  {
   "cell_type": "code",
   "execution_count": 9,
   "id": "e9ee9bcc-3159-4162-87dc-7d52099ee0df",
   "metadata": {},
   "outputs": [
    {
     "name": "stdout",
     "output_type": "stream",
     "text": [
      "<class 'pandas.core.frame.DataFrame'>\n",
      "RangeIndex: 15304 entries, 0 to 15303\n",
      "Data columns (total 37 columns):\n",
      " #   Column               Non-Null Count  Dtype  \n",
      "---  ------               --------------  -----  \n",
      " 0   NUMERO_INCIDENTE     15304 non-null  object \n",
      " 1   FECHA_DESPACHO_518   15304 non-null  object \n",
      " 2   CODIGO DE LOCALIDAD  15304 non-null  int64  \n",
      " 3   LOCALIDAD            15304 non-null  object \n",
      " 4   EDAD                 15304 non-null  int64  \n",
      " 5   UNIDAD               15304 non-null  object \n",
      " 6   GENERO               15304 non-null  object \n",
      " 7   RED                  15304 non-null  object \n",
      " 8   TIPO_INCIDENTE       15304 non-null  object \n",
      " 9   PRIORIDAD            15304 non-null  int64  \n",
      " 10  Unnamed: 10          0 non-null      float64\n",
      " 11  Unnamed: 11          0 non-null      float64\n",
      " 12  Unnamed: 12          0 non-null      float64\n",
      " 13  Unnamed: 13          0 non-null      float64\n",
      " 14  Unnamed: 14          0 non-null      float64\n",
      " 15  Unnamed: 15          0 non-null      float64\n",
      " 16  Unnamed: 16          0 non-null      float64\n",
      " 17  Unnamed: 17          0 non-null      float64\n",
      " 18  Unnamed: 18          0 non-null      float64\n",
      " 19  Unnamed: 19          0 non-null      float64\n",
      " 20  Unnamed: 20          0 non-null      float64\n",
      " 21  Unnamed: 21          0 non-null      float64\n",
      " 22  Unnamed: 22          0 non-null      float64\n",
      " 23  Unnamed: 23          0 non-null      float64\n",
      " 24  Unnamed: 24          0 non-null      float64\n",
      " 25  Unnamed: 25          0 non-null      float64\n",
      " 26  Unnamed: 26          0 non-null      float64\n",
      " 27  Unnamed: 27          0 non-null      float64\n",
      " 28  Unnamed: 28          0 non-null      float64\n",
      " 29  Unnamed: 29          0 non-null      float64\n",
      " 30  Unnamed: 30          0 non-null      float64\n",
      " 31  Unnamed: 31          0 non-null      float64\n",
      " 32  Unnamed: 32          0 non-null      float64\n",
      " 33  Unnamed: 33          0 non-null      float64\n",
      " 34  Unnamed: 34          0 non-null      float64\n",
      " 35  Unnamed: 35          0 non-null      float64\n",
      " 36  Unnamed: 36          0 non-null      float64\n",
      "dtypes: float64(27), int64(3), object(7)\n",
      "memory usage: 4.3+ MB\n",
      "None\n"
     ]
    }
   ],
   "source": [
    "raw_data_enero = get_input_data(\n",
    "    bucket = bucket,\n",
    "    initial_directory = directory,\n",
    "    filename = 'datos-abiertos-enero_2020.csv'\n",
    "    )\n",
    "print(raw_data_enero.info())"
   ]
  },
  {
   "cell_type": "markdown",
   "id": "eace44ce-e157-49e0-95c8-37b893f8b596",
   "metadata": {},
   "source": [
    "### Rename Columns of all of months"
   ]
  },
  {
   "cell_type": "code",
   "execution_count": 10,
   "id": "2b76a1e2-d2a8-47a2-a2bb-eea24ffd1a61",
   "metadata": {},
   "outputs": [
    {
     "data": {
      "text/html": [
       "<div>\n",
       "<style scoped>\n",
       "    .dataframe tbody tr th:only-of-type {\n",
       "        vertical-align: middle;\n",
       "    }\n",
       "\n",
       "    .dataframe tbody tr th {\n",
       "        vertical-align: top;\n",
       "    }\n",
       "\n",
       "    .dataframe thead th {\n",
       "        text-align: right;\n",
       "    }\n",
       "</style>\n",
       "<table border=\"1\" class=\"dataframe\">\n",
       "  <thead>\n",
       "    <tr style=\"text-align: right;\">\n",
       "      <th></th>\n",
       "      <th>FECHA_INCIDENTE</th>\n",
       "      <th>FECHA_INICIO_DESPLAZAMIENTO_MOVIL</th>\n",
       "      <th>CODIGO_LOCALIDAD</th>\n",
       "      <th>LOCALIDAD</th>\n",
       "      <th>EDAD</th>\n",
       "      <th>UNIDAD</th>\n",
       "      <th>GENERO</th>\n",
       "      <th>RED</th>\n",
       "      <th>TIPO_INCIDENTE</th>\n",
       "      <th>PRIORIDAD</th>\n",
       "      <th>MES</th>\n",
       "      <th>CLASIFICACION_FINAL</th>\n",
       "    </tr>\n",
       "  </thead>\n",
       "  <tbody>\n",
       "    <tr>\n",
       "      <th>0</th>\n",
       "      <td>2019-07-01 00:05:08</td>\n",
       "      <td>2019-07-01 00:11:02</td>\n",
       "      <td>8</td>\n",
       "      <td>Kennedy</td>\n",
       "      <td>39</td>\n",
       "      <td>Años</td>\n",
       "      <td>FEMENINO</td>\n",
       "      <td>Norte</td>\n",
       "      <td>Dificultad Respiratoria</td>\n",
       "      <td>ALTA</td>\n",
       "      <td>JULIO</td>\n",
       "      <td>Traslado</td>\n",
       "    </tr>\n",
       "    <tr>\n",
       "      <th>1</th>\n",
       "      <td>2019-07-01 00:06:57</td>\n",
       "      <td>2019-07-01 00:12:56</td>\n",
       "      <td>19</td>\n",
       "      <td>Ciudad Bolivar</td>\n",
       "      <td>69</td>\n",
       "      <td>Años</td>\n",
       "      <td>MASCULINO</td>\n",
       "      <td>Sur</td>\n",
       "      <td>Inconsciente/Paro Cardiorrespiratorio</td>\n",
       "      <td>ALTA</td>\n",
       "      <td>JULIO</td>\n",
       "      <td>NaN</td>\n",
       "    </tr>\n",
       "    <tr>\n",
       "      <th>2</th>\n",
       "      <td>2019-07-01 00:09:26</td>\n",
       "      <td>2019-07-01 00:10:26</td>\n",
       "      <td>6</td>\n",
       "      <td>Tunjuelito</td>\n",
       "      <td>25</td>\n",
       "      <td>Años</td>\n",
       "      <td>MASCULINO</td>\n",
       "      <td>Sur</td>\n",
       "      <td>Enfermo</td>\n",
       "      <td>MEDIA</td>\n",
       "      <td>JULIO</td>\n",
       "      <td>Traslado</td>\n",
       "    </tr>\n",
       "    <tr>\n",
       "      <th>3</th>\n",
       "      <td>2019-07-01 00:14:42</td>\n",
       "      <td>2019-07-01 00:15:47</td>\n",
       "      <td>8</td>\n",
       "      <td>Kennedy</td>\n",
       "      <td>65</td>\n",
       "      <td>Años</td>\n",
       "      <td>MASCULINO</td>\n",
       "      <td>Sur</td>\n",
       "      <td>Lesiones personales</td>\n",
       "      <td>MEDIA</td>\n",
       "      <td>JULIO</td>\n",
       "      <td>Traslado</td>\n",
       "    </tr>\n",
       "    <tr>\n",
       "      <th>4</th>\n",
       "      <td>2019-07-01 00:17:13</td>\n",
       "      <td>2019-07-01 00:31:13</td>\n",
       "      <td>10</td>\n",
       "      <td>Engativa</td>\n",
       "      <td>SIN_DATO</td>\n",
       "      <td>SIN_DATO</td>\n",
       "      <td>SIN_DATO</td>\n",
       "      <td>Norte</td>\n",
       "      <td>Enfermo</td>\n",
       "      <td>MEDIA</td>\n",
       "      <td>JULIO</td>\n",
       "      <td>Cancelado</td>\n",
       "    </tr>\n",
       "  </tbody>\n",
       "</table>\n",
       "</div>"
      ],
      "text/plain": [
       "       FECHA_INCIDENTE FECHA_INICIO_DESPLAZAMIENTO_MOVIL  CODIGO_LOCALIDAD  \\\n",
       "0  2019-07-01 00:05:08               2019-07-01 00:11:02                 8   \n",
       "1  2019-07-01 00:06:57               2019-07-01 00:12:56                19   \n",
       "2  2019-07-01 00:09:26               2019-07-01 00:10:26                 6   \n",
       "3  2019-07-01 00:14:42               2019-07-01 00:15:47                 8   \n",
       "4  2019-07-01 00:17:13               2019-07-01 00:31:13                10   \n",
       "\n",
       "         LOCALIDAD      EDAD    UNIDAD     GENERO    RED  \\\n",
       "0          Kennedy        39      Años   FEMENINO  Norte   \n",
       "1   Ciudad Bolivar        69      Años  MASCULINO    Sur   \n",
       "2       Tunjuelito        25      Años  MASCULINO    Sur   \n",
       "3          Kennedy        65      Años  MASCULINO    Sur   \n",
       "4         Engativa  SIN_DATO  SIN_DATO   SIN_DATO  Norte   \n",
       "\n",
       "                           TIPO_INCIDENTE PRIORIDAD    MES CLASIFICACION_FINAL  \n",
       "0                 Dificultad Respiratoria      ALTA  JULIO            Traslado  \n",
       "1  Inconsciente/Paro Cardiorrespiratorio       ALTA  JULIO                 NaN  \n",
       "2                                 Enfermo     MEDIA  JULIO            Traslado  \n",
       "3                     Lesiones personales     MEDIA  JULIO            Traslado  \n",
       "4                                 Enfermo     MEDIA  JULIO           Cancelado  "
      ]
     },
     "execution_count": 10,
     "metadata": {},
     "output_type": "execute_result"
    }
   ],
   "source": [
    "raw_data_julio.rename(\n",
    "    columns = {\n",
    "        'FECHA_INICIO_DESPLAZAMIENTO-MOVIL' : 'FECHA_INICIO_DESPLAZAMIENTO_MOVIL',\n",
    "        'CODIGO DE LOCALIDAD'               : 'CODIGO_LOCALIDAD',\n",
    "        'CLASIFICACION FINAL'               : 'CLASIFICACION_FINAL'\n",
    "    },\n",
    "    inplace=True\n",
    ")\n",
    "raw_data_julio.head()"
   ]
  },
  {
   "cell_type": "code",
   "execution_count": 11,
   "id": "5ab30fea-d27f-4402-a805-5376b8833281",
   "metadata": {},
   "outputs": [
    {
     "data": {
      "text/html": [
       "<div>\n",
       "<style scoped>\n",
       "    .dataframe tbody tr th:only-of-type {\n",
       "        vertical-align: middle;\n",
       "    }\n",
       "\n",
       "    .dataframe tbody tr th {\n",
       "        vertical-align: top;\n",
       "    }\n",
       "\n",
       "    .dataframe thead th {\n",
       "        text-align: right;\n",
       "    }\n",
       "</style>\n",
       "<table border=\"1\" class=\"dataframe\">\n",
       "  <thead>\n",
       "    <tr style=\"text-align: right;\">\n",
       "      <th></th>\n",
       "      <th>NUMERO_INCIDENTE</th>\n",
       "      <th>FECHA_INICIO_DESPLAZAMIENTO_MOVIL</th>\n",
       "      <th>CODIGO_LOCALIDAD</th>\n",
       "      <th>LOCALIDAD</th>\n",
       "      <th>EDAD</th>\n",
       "      <th>UNIDAD</th>\n",
       "      <th>GENERO</th>\n",
       "      <th>RED</th>\n",
       "      <th>TIPO_INCIDENTE</th>\n",
       "      <th>PRIORIDAD</th>\n",
       "      <th>MES</th>\n",
       "      <th>CLASIFICACION_FINAL</th>\n",
       "    </tr>\n",
       "  </thead>\n",
       "  <tbody>\n",
       "    <tr>\n",
       "      <th>0</th>\n",
       "      <td>809224194</td>\n",
       "      <td>1/08/2019 0:28</td>\n",
       "      <td>1</td>\n",
       "      <td>Usaquen</td>\n",
       "      <td>SIN_DATO</td>\n",
       "      <td>SIN_DATO</td>\n",
       "      <td>SIN_DATO</td>\n",
       "      <td>Norte</td>\n",
       "      <td>Inconsciente/Paro Cardiorrespiratorio</td>\n",
       "      <td>ALTA</td>\n",
       "      <td>AGOSTO</td>\n",
       "      <td>Cancelado</td>\n",
       "    </tr>\n",
       "    <tr>\n",
       "      <th>1</th>\n",
       "      <td>809224194</td>\n",
       "      <td>1/08/2019 0:28</td>\n",
       "      <td>1</td>\n",
       "      <td>Usaquen</td>\n",
       "      <td>SIN_DATO</td>\n",
       "      <td>SIN_DATO</td>\n",
       "      <td>SIN_DATO</td>\n",
       "      <td>Norte</td>\n",
       "      <td>Inconsciente/Paro Cardiorrespiratorio</td>\n",
       "      <td>ALTA</td>\n",
       "      <td>AGOSTO</td>\n",
       "      <td>Cancelado</td>\n",
       "    </tr>\n",
       "    <tr>\n",
       "      <th>2</th>\n",
       "      <td>809240194</td>\n",
       "      <td>1/08/2019 0:15</td>\n",
       "      <td>11</td>\n",
       "      <td>Suba</td>\n",
       "      <td>SIN_DATO</td>\n",
       "      <td>SIN_DATO</td>\n",
       "      <td>SIN_DATO</td>\n",
       "      <td>Norte</td>\n",
       "      <td>Accidente cerebro vascular</td>\n",
       "      <td>BAJA</td>\n",
       "      <td>AGOSTO</td>\n",
       "      <td>Cancelado</td>\n",
       "    </tr>\n",
       "    <tr>\n",
       "      <th>3</th>\n",
       "      <td>809240194</td>\n",
       "      <td>1/08/2019 0:15</td>\n",
       "      <td>11</td>\n",
       "      <td>Suba</td>\n",
       "      <td>SIN_DATO</td>\n",
       "      <td>SIN_DATO</td>\n",
       "      <td>SIN_DATO</td>\n",
       "      <td>Norte</td>\n",
       "      <td>Accidente cerebro vascular</td>\n",
       "      <td>BAJA</td>\n",
       "      <td>AGOSTO</td>\n",
       "      <td>Cancelado</td>\n",
       "    </tr>\n",
       "    <tr>\n",
       "      <th>4</th>\n",
       "      <td>809240194</td>\n",
       "      <td>1/08/2019 0:15</td>\n",
       "      <td>11</td>\n",
       "      <td>Suba</td>\n",
       "      <td>SIN_DATO</td>\n",
       "      <td>SIN_DATO</td>\n",
       "      <td>SIN_DATO</td>\n",
       "      <td>Norte</td>\n",
       "      <td>Accidente cerebro vascular</td>\n",
       "      <td>BAJA</td>\n",
       "      <td>AGOSTO</td>\n",
       "      <td>Cancelado</td>\n",
       "    </tr>\n",
       "  </tbody>\n",
       "</table>\n",
       "</div>"
      ],
      "text/plain": [
       "   NUMERO_INCIDENTE FECHA_INICIO_DESPLAZAMIENTO_MOVIL  CODIGO_LOCALIDAD  \\\n",
       "0         809224194                    1/08/2019 0:28                 1   \n",
       "1         809224194                    1/08/2019 0:28                 1   \n",
       "2         809240194                    1/08/2019 0:15                11   \n",
       "3         809240194                    1/08/2019 0:15                11   \n",
       "4         809240194                    1/08/2019 0:15                11   \n",
       "\n",
       "  LOCALIDAD      EDAD    UNIDAD    GENERO    RED  \\\n",
       "0   Usaquen  SIN_DATO  SIN_DATO  SIN_DATO  Norte   \n",
       "1   Usaquen  SIN_DATO  SIN_DATO  SIN_DATO  Norte   \n",
       "2      Suba  SIN_DATO  SIN_DATO  SIN_DATO  Norte   \n",
       "3      Suba  SIN_DATO  SIN_DATO  SIN_DATO  Norte   \n",
       "4      Suba  SIN_DATO  SIN_DATO  SIN_DATO  Norte   \n",
       "\n",
       "                           TIPO_INCIDENTE PRIORIDAD     MES  \\\n",
       "0  Inconsciente/Paro Cardiorrespiratorio       ALTA  AGOSTO   \n",
       "1  Inconsciente/Paro Cardiorrespiratorio       ALTA  AGOSTO   \n",
       "2             Accidente cerebro vascular       BAJA  AGOSTO   \n",
       "3             Accidente cerebro vascular       BAJA  AGOSTO   \n",
       "4             Accidente cerebro vascular       BAJA  AGOSTO   \n",
       "\n",
       "  CLASIFICACION_FINAL  \n",
       "0           Cancelado  \n",
       "1           Cancelado  \n",
       "2           Cancelado  \n",
       "3           Cancelado  \n",
       "4           Cancelado  "
      ]
     },
     "execution_count": 11,
     "metadata": {},
     "output_type": "execute_result"
    }
   ],
   "source": [
    "raw_data_agosto.rename(\n",
    "    columns = {\n",
    "        'FECHA_INICIO_DESPLAZAMIENTO-MOVIL' : 'FECHA_INICIO_DESPLAZAMIENTO_MOVIL',\n",
    "        'CODIGO DE LOCALIDAD'               : 'CODIGO_LOCALIDAD',\n",
    "        'TIPO DE INCIDIDENT'                : 'TIPO_INCIDENTE',\n",
    "        'CLASIFICACION FINAL'               : 'CLASIFICACION_FINAL'\n",
    "    },\n",
    "    inplace=True\n",
    ")\n",
    "raw_data_agosto.head()"
   ]
  },
  {
   "cell_type": "code",
   "execution_count": 12,
   "id": "1c136e88-5bbd-46d9-959d-2dec07146102",
   "metadata": {},
   "outputs": [
    {
     "data": {
      "text/html": [
       "<div>\n",
       "<style scoped>\n",
       "    .dataframe tbody tr th:only-of-type {\n",
       "        vertical-align: middle;\n",
       "    }\n",
       "\n",
       "    .dataframe tbody tr th {\n",
       "        vertical-align: top;\n",
       "    }\n",
       "\n",
       "    .dataframe thead th {\n",
       "        text-align: right;\n",
       "    }\n",
       "</style>\n",
       "<table border=\"1\" class=\"dataframe\">\n",
       "  <thead>\n",
       "    <tr style=\"text-align: right;\">\n",
       "      <th></th>\n",
       "      <th>NUMERO_INCIDENTE</th>\n",
       "      <th>FECHA_INICIO_DESPLAZAMIENTO_MOVIL</th>\n",
       "      <th>CODIGO_LOCALIDAD</th>\n",
       "      <th>LOCALIDAD</th>\n",
       "      <th>EDAD</th>\n",
       "      <th>UNIDAD</th>\n",
       "      <th>GENERO</th>\n",
       "      <th>RED</th>\n",
       "      <th>TIPO_INCIDENTE</th>\n",
       "      <th>PRIORIDAD</th>\n",
       "    </tr>\n",
       "  </thead>\n",
       "  <tbody>\n",
       "    <tr>\n",
       "      <th>0</th>\n",
       "      <td>538006196</td>\n",
       "      <td>2019-09-01 00:05:32</td>\n",
       "      <td>18</td>\n",
       "      <td>Rafael Uribe Uribe</td>\n",
       "      <td>53</td>\n",
       "      <td>Años</td>\n",
       "      <td>MASCULINO</td>\n",
       "      <td>Sur</td>\n",
       "      <td>ACCIDENTE DE TRÁNSITO CON HERIDOS/MUERTOS</td>\n",
       "      <td>ALTA</td>\n",
       "    </tr>\n",
       "    <tr>\n",
       "      <th>1</th>\n",
       "      <td>538024196</td>\n",
       "      <td>2019-09-01 00:12:07</td>\n",
       "      <td>11</td>\n",
       "      <td>Suba</td>\n",
       "      <td>0</td>\n",
       "      <td>NaN</td>\n",
       "      <td>SIN_DATO</td>\n",
       "      <td>Norte</td>\n",
       "      <td>ACCIDENTE DE TRÁNSITO CON HERIDOS/MUERTOS</td>\n",
       "      <td>ALTA</td>\n",
       "    </tr>\n",
       "    <tr>\n",
       "      <th>2</th>\n",
       "      <td>538031196</td>\n",
       "      <td>2019-09-01 00:05:39</td>\n",
       "      <td>8</td>\n",
       "      <td>Kennedy</td>\n",
       "      <td>26</td>\n",
       "      <td>Años</td>\n",
       "      <td>MASCULINO</td>\n",
       "      <td>Norte</td>\n",
       "      <td>ACCIDENTE DE TRÁNSITO CON HERIDOS/MUERTOS</td>\n",
       "      <td>ALTA</td>\n",
       "    </tr>\n",
       "    <tr>\n",
       "      <th>3</th>\n",
       "      <td>538084196</td>\n",
       "      <td>2019-09-01 00:13:39</td>\n",
       "      <td>11</td>\n",
       "      <td>Suba</td>\n",
       "      <td>24</td>\n",
       "      <td>Años</td>\n",
       "      <td>MASCULINO</td>\n",
       "      <td>Norte</td>\n",
       "      <td>ACCIDENTE DE TRÁNSITO CON HERIDOS/MUERTOS</td>\n",
       "      <td>ALTA</td>\n",
       "    </tr>\n",
       "    <tr>\n",
       "      <th>4</th>\n",
       "      <td>538123196</td>\n",
       "      <td>2019-09-01 00:20:31</td>\n",
       "      <td>2</td>\n",
       "      <td>Chapinero</td>\n",
       "      <td>0</td>\n",
       "      <td>NaN</td>\n",
       "      <td>SIN_DATO</td>\n",
       "      <td>Norte</td>\n",
       "      <td>INCONSCIENTE/PARO CARDIORRESPIRATORIO</td>\n",
       "      <td>ALTA</td>\n",
       "    </tr>\n",
       "  </tbody>\n",
       "</table>\n",
       "</div>"
      ],
      "text/plain": [
       "   NUMERO_INCIDENTE FECHA_INICIO_DESPLAZAMIENTO_MOVIL  CODIGO_LOCALIDAD  \\\n",
       "0         538006196               2019-09-01 00:05:32                18   \n",
       "1         538024196               2019-09-01 00:12:07                11   \n",
       "2         538031196               2019-09-01 00:05:39                 8   \n",
       "3         538084196               2019-09-01 00:13:39                11   \n",
       "4         538123196               2019-09-01 00:20:31                 2   \n",
       "\n",
       "             LOCALIDAD  EDAD UNIDAD     GENERO    RED  \\\n",
       "0   Rafael Uribe Uribe    53   Años  MASCULINO    Sur   \n",
       "1                 Suba     0    NaN   SIN_DATO  Norte   \n",
       "2              Kennedy    26   Años  MASCULINO  Norte   \n",
       "3                 Suba    24   Años  MASCULINO  Norte   \n",
       "4            Chapinero     0    NaN   SIN_DATO  Norte   \n",
       "\n",
       "                              TIPO_INCIDENTE PRIORIDAD  \n",
       "0  ACCIDENTE DE TRÁNSITO CON HERIDOS/MUERTOS      ALTA  \n",
       "1  ACCIDENTE DE TRÁNSITO CON HERIDOS/MUERTOS      ALTA  \n",
       "2  ACCIDENTE DE TRÁNSITO CON HERIDOS/MUERTOS      ALTA  \n",
       "3  ACCIDENTE DE TRÁNSITO CON HERIDOS/MUERTOS      ALTA  \n",
       "4     INCONSCIENTE/PARO CARDIORRESPIRATORIO       ALTA  "
      ]
     },
     "execution_count": 12,
     "metadata": {},
     "output_type": "execute_result"
    }
   ],
   "source": [
    "raw_data_septiembre.rename(\n",
    "    columns = {\n",
    "        'FECHA_INICIO_DESPLAZAMIENTO-MOVIL' : 'FECHA_INICIO_DESPLAZAMIENTO_MOVIL',\n",
    "        'CODIGO DE LOCALIDAD'               : 'CODIGO_LOCALIDAD'\n",
    "    },\n",
    "    inplace=True\n",
    ")\n",
    "raw_data_septiembre.head()"
   ]
  },
  {
   "cell_type": "code",
   "execution_count": 13,
   "id": "1391f671-72a8-450d-99f0-9b3cb82ef416",
   "metadata": {},
   "outputs": [
    {
     "data": {
      "text/html": [
       "<div>\n",
       "<style scoped>\n",
       "    .dataframe tbody tr th:only-of-type {\n",
       "        vertical-align: middle;\n",
       "    }\n",
       "\n",
       "    .dataframe tbody tr th {\n",
       "        vertical-align: top;\n",
       "    }\n",
       "\n",
       "    .dataframe thead th {\n",
       "        text-align: right;\n",
       "    }\n",
       "</style>\n",
       "<table border=\"1\" class=\"dataframe\">\n",
       "  <thead>\n",
       "    <tr style=\"text-align: right;\">\n",
       "      <th></th>\n",
       "      <th>NUMERO_INCIDENTE</th>\n",
       "      <th>FECHA_INICIO_DESPLAZAMIENTO_MOVIL</th>\n",
       "      <th>CODIGO_LOCALIDAD</th>\n",
       "      <th>LOCALIDAD</th>\n",
       "      <th>EDAD</th>\n",
       "      <th>UNIDAD</th>\n",
       "      <th>GENERO</th>\n",
       "      <th>RED</th>\n",
       "      <th>TIPO_INCIDENTE</th>\n",
       "      <th>PRIORIDAD</th>\n",
       "    </tr>\n",
       "  </thead>\n",
       "  <tbody>\n",
       "    <tr>\n",
       "      <th>0</th>\n",
       "      <td>868419196</td>\n",
       "      <td>2019-10-01 00:06:29</td>\n",
       "      <td>9</td>\n",
       "      <td>Fontibon</td>\n",
       "      <td>SIN_DATO</td>\n",
       "      <td>NaN</td>\n",
       "      <td>NaN</td>\n",
       "      <td>Norte</td>\n",
       "      <td>Dolor torácico</td>\n",
       "      <td>ALTA</td>\n",
       "    </tr>\n",
       "    <tr>\n",
       "      <th>1</th>\n",
       "      <td>868421196</td>\n",
       "      <td>2019-10-01 00:19:40</td>\n",
       "      <td>10</td>\n",
       "      <td>Engativa</td>\n",
       "      <td>67</td>\n",
       "      <td>Años</td>\n",
       "      <td>MASCULINO</td>\n",
       "      <td>Norte</td>\n",
       "      <td>Heridos</td>\n",
       "      <td>ALTA</td>\n",
       "    </tr>\n",
       "    <tr>\n",
       "      <th>2</th>\n",
       "      <td>868438196</td>\n",
       "      <td>2019-10-01 00:13:20</td>\n",
       "      <td>4</td>\n",
       "      <td>San Cristobal</td>\n",
       "      <td>SIN_DATO</td>\n",
       "      <td>NaN</td>\n",
       "      <td>NaN</td>\n",
       "      <td>Sur</td>\n",
       "      <td>Inconsciente/Paro Cardiorrespiratorio</td>\n",
       "      <td>ALTA</td>\n",
       "    </tr>\n",
       "    <tr>\n",
       "      <th>3</th>\n",
       "      <td>944374194</td>\n",
       "      <td>2019-10-01 05:30:23</td>\n",
       "      <td>16</td>\n",
       "      <td>Puente Aranda</td>\n",
       "      <td>SIN_DATO</td>\n",
       "      <td>NaN</td>\n",
       "      <td>NaN</td>\n",
       "      <td>Privada</td>\n",
       "      <td>Convulsiones</td>\n",
       "      <td>ALTA</td>\n",
       "    </tr>\n",
       "    <tr>\n",
       "      <th>4</th>\n",
       "      <td>868476196</td>\n",
       "      <td>2019-10-01 00:42:45</td>\n",
       "      <td>5</td>\n",
       "      <td>Usme</td>\n",
       "      <td>5</td>\n",
       "      <td>Años</td>\n",
       "      <td>FEMENINO</td>\n",
       "      <td>Sur</td>\n",
       "      <td>Dificultad Respiratoria</td>\n",
       "      <td>ALTA</td>\n",
       "    </tr>\n",
       "  </tbody>\n",
       "</table>\n",
       "</div>"
      ],
      "text/plain": [
       "   NUMERO_INCIDENTE FECHA_INICIO_DESPLAZAMIENTO_MOVIL  CODIGO_LOCALIDAD  \\\n",
       "0         868419196               2019-10-01 00:06:29                 9   \n",
       "1         868421196               2019-10-01 00:19:40                10   \n",
       "2         868438196               2019-10-01 00:13:20                 4   \n",
       "3         944374194               2019-10-01 05:30:23                16   \n",
       "4         868476196               2019-10-01 00:42:45                 5   \n",
       "\n",
       "        LOCALIDAD      EDAD UNIDAD     GENERO      RED  \\\n",
       "0        Fontibon  SIN_DATO    NaN        NaN    Norte   \n",
       "1        Engativa        67   Años  MASCULINO    Norte   \n",
       "2   San Cristobal  SIN_DATO    NaN        NaN      Sur   \n",
       "3   Puente Aranda  SIN_DATO    NaN        NaN  Privada   \n",
       "4            Usme         5   Años   FEMENINO      Sur   \n",
       "\n",
       "                           TIPO_INCIDENTE PRIORIDAD  \n",
       "0                          Dolor torácico      ALTA  \n",
       "1                                Heridos       ALTA  \n",
       "2  Inconsciente/Paro Cardiorrespiratorio       ALTA  \n",
       "3                           Convulsiones       ALTA  \n",
       "4                 Dificultad Respiratoria      ALTA  "
      ]
     },
     "execution_count": 13,
     "metadata": {},
     "output_type": "execute_result"
    }
   ],
   "source": [
    "raw_data_octubre.rename(\n",
    "    columns = {\n",
    "        'FECHA_DESPACHO_518' : 'FECHA_INICIO_DESPLAZAMIENTO_MOVIL',\n",
    "        'CODIGO DE LOCALIDAD': 'CODIGO_LOCALIDAD'\n",
    "    },\n",
    "    inplace=True\n",
    ")\n",
    "raw_data_octubre.head()"
   ]
  },
  {
   "cell_type": "code",
   "execution_count": 14,
   "id": "753a42c2-a4d3-4b45-ba1a-9a88f3537605",
   "metadata": {},
   "outputs": [
    {
     "data": {
      "text/html": [
       "<div>\n",
       "<style scoped>\n",
       "    .dataframe tbody tr th:only-of-type {\n",
       "        vertical-align: middle;\n",
       "    }\n",
       "\n",
       "    .dataframe tbody tr th {\n",
       "        vertical-align: top;\n",
       "    }\n",
       "\n",
       "    .dataframe thead th {\n",
       "        text-align: right;\n",
       "    }\n",
       "</style>\n",
       "<table border=\"1\" class=\"dataframe\">\n",
       "  <thead>\n",
       "    <tr style=\"text-align: right;\">\n",
       "      <th></th>\n",
       "      <th>NUMERO_INCIDENTE</th>\n",
       "      <th>FECHA_INICIO_DESPLAZAMIENTO_MOVIL</th>\n",
       "      <th>CODIGO_LOCALIDAD</th>\n",
       "      <th>LOCALIDAD</th>\n",
       "      <th>EDAD</th>\n",
       "      <th>UNIDAD</th>\n",
       "      <th>GENERO</th>\n",
       "      <th>RED</th>\n",
       "      <th>TIPO_INCIDENTE</th>\n",
       "      <th>PRIORIDAD</th>\n",
       "    </tr>\n",
       "  </thead>\n",
       "  <tbody>\n",
       "    <tr>\n",
       "      <th>0</th>\n",
       "      <td>1129118194</td>\n",
       "      <td>2019-11-01 00:01:16</td>\n",
       "      <td>18</td>\n",
       "      <td>Rafael Uribe Uribe</td>\n",
       "      <td>0</td>\n",
       "      <td>SIN_DATO</td>\n",
       "      <td>SIN_DATO</td>\n",
       "      <td>Sur</td>\n",
       "      <td>Lesiones personales</td>\n",
       "      <td>ALTA</td>\n",
       "    </tr>\n",
       "    <tr>\n",
       "      <th>1</th>\n",
       "      <td>1129198194</td>\n",
       "      <td>2019-11-01 00:14:45</td>\n",
       "      <td>11</td>\n",
       "      <td>Suba</td>\n",
       "      <td>47</td>\n",
       "      <td>Años</td>\n",
       "      <td>MASCULINO</td>\n",
       "      <td>Norte</td>\n",
       "      <td>Accidente cerebro vascular</td>\n",
       "      <td>ALTA</td>\n",
       "    </tr>\n",
       "    <tr>\n",
       "      <th>2</th>\n",
       "      <td>1129241194</td>\n",
       "      <td>2019-11-01 00:16:15</td>\n",
       "      <td>2</td>\n",
       "      <td>Chapinero</td>\n",
       "      <td>33</td>\n",
       "      <td>Años</td>\n",
       "      <td>MASCULINO</td>\n",
       "      <td>Norte</td>\n",
       "      <td>Inconsciente/Paro Cardiorrespiratorio</td>\n",
       "      <td>ALTA</td>\n",
       "    </tr>\n",
       "    <tr>\n",
       "      <th>3</th>\n",
       "      <td>1129253194</td>\n",
       "      <td>2019-11-01 00:11:37</td>\n",
       "      <td>7</td>\n",
       "      <td>Bosa</td>\n",
       "      <td>5</td>\n",
       "      <td>Años</td>\n",
       "      <td>FEMENINO</td>\n",
       "      <td>Sur</td>\n",
       "      <td>Dificultad Respiratoria</td>\n",
       "      <td>ALTA</td>\n",
       "    </tr>\n",
       "    <tr>\n",
       "      <th>4</th>\n",
       "      <td>1129258194</td>\n",
       "      <td>2019-11-01 00:16:28</td>\n",
       "      <td>11</td>\n",
       "      <td>Suba</td>\n",
       "      <td>43</td>\n",
       "      <td>Años</td>\n",
       "      <td>FEMENINO</td>\n",
       "      <td>Norte</td>\n",
       "      <td>Dolor torácico</td>\n",
       "      <td>ALTA</td>\n",
       "    </tr>\n",
       "  </tbody>\n",
       "</table>\n",
       "</div>"
      ],
      "text/plain": [
       "  NUMERO_INCIDENTE FECHA_INICIO_DESPLAZAMIENTO_MOVIL  CODIGO_LOCALIDAD  \\\n",
       "0       1129118194               2019-11-01 00:01:16                18   \n",
       "1       1129198194               2019-11-01 00:14:45                11   \n",
       "2       1129241194               2019-11-01 00:16:15                 2   \n",
       "3       1129253194               2019-11-01 00:11:37                 7   \n",
       "4       1129258194               2019-11-01 00:16:28                11   \n",
       "\n",
       "            LOCALIDAD  EDAD    UNIDAD     GENERO    RED  \\\n",
       "0  Rafael Uribe Uribe     0  SIN_DATO   SIN_DATO    Sur   \n",
       "1                Suba    47      Años  MASCULINO  Norte   \n",
       "2           Chapinero    33      Años  MASCULINO  Norte   \n",
       "3                Bosa     5      Años   FEMENINO    Sur   \n",
       "4                Suba    43      Años   FEMENINO  Norte   \n",
       "\n",
       "                              TIPO_INCIDENTE PRIORIDAD  \n",
       "0                     Lesiones personales         ALTA  \n",
       "1             Accidente cerebro vascular          ALTA  \n",
       "2  Inconsciente/Paro Cardiorrespiratorio          ALTA  \n",
       "3                 Dificultad Respiratoria         ALTA  \n",
       "4                          Dolor torácico         ALTA  "
      ]
     },
     "execution_count": 14,
     "metadata": {},
     "output_type": "execute_result"
    }
   ],
   "source": [
    "raw_data_noviembre.rename(\n",
    "    columns = {\n",
    "        'FECHA_INICIO_DESPLAZAMIENTO-MOVIL' : 'FECHA_INICIO_DESPLAZAMIENTO_MOVIL',\n",
    "        'CODIGO DE LOCALIDAD': 'CODIGO_LOCALIDAD'\n",
    "    },\n",
    "    inplace=True\n",
    ")\n",
    "raw_data_noviembre.head()"
   ]
  },
  {
   "cell_type": "code",
   "execution_count": 15,
   "id": "800d674d-1835-452b-ba14-052e97bdfeb0",
   "metadata": {},
   "outputs": [
    {
     "data": {
      "text/html": [
       "<div>\n",
       "<style scoped>\n",
       "    .dataframe tbody tr th:only-of-type {\n",
       "        vertical-align: middle;\n",
       "    }\n",
       "\n",
       "    .dataframe tbody tr th {\n",
       "        vertical-align: top;\n",
       "    }\n",
       "\n",
       "    .dataframe thead th {\n",
       "        text-align: right;\n",
       "    }\n",
       "</style>\n",
       "<table border=\"1\" class=\"dataframe\">\n",
       "  <thead>\n",
       "    <tr style=\"text-align: right;\">\n",
       "      <th></th>\n",
       "      <th>NUMERO_INCIDENTE</th>\n",
       "      <th>FECHA_INICIO_DESPLAZAMIENTO_MOVIL</th>\n",
       "      <th>CODIGO_LOCALIDAD</th>\n",
       "      <th>LOCALIDAD</th>\n",
       "      <th>EDAD</th>\n",
       "      <th>UNIDAD</th>\n",
       "      <th>GENERO</th>\n",
       "      <th>RED</th>\n",
       "      <th>TIPO_INCIDENTE</th>\n",
       "      <th>PRIORIDAD</th>\n",
       "    </tr>\n",
       "  </thead>\n",
       "  <tbody>\n",
       "    <tr>\n",
       "      <th>0</th>\n",
       "      <td>1178693196</td>\n",
       "      <td>2019-12-01 03:18:23</td>\n",
       "      <td>8</td>\n",
       "      <td>Kennedy</td>\n",
       "      <td>14</td>\n",
       "      <td>Años</td>\n",
       "      <td>MASCULINO</td>\n",
       "      <td>Privada</td>\n",
       "      <td>Accidente Tránsito con Heridos/Muertos</td>\n",
       "      <td>ALTA</td>\n",
       "    </tr>\n",
       "    <tr>\n",
       "      <th>1</th>\n",
       "      <td>1176480196</td>\n",
       "      <td>2019-12-01 00:05:59</td>\n",
       "      <td>5</td>\n",
       "      <td>Usme</td>\n",
       "      <td>0</td>\n",
       "      <td>SIN/DATO</td>\n",
       "      <td>SIN/DATO</td>\n",
       "      <td>Sur</td>\n",
       "      <td>Accidente Tránsito con Heridos/Muertos</td>\n",
       "      <td>ALTA</td>\n",
       "    </tr>\n",
       "    <tr>\n",
       "      <th>2</th>\n",
       "      <td>1180282196</td>\n",
       "      <td>2019-12-01 05:37:10</td>\n",
       "      <td>7</td>\n",
       "      <td>Bosa</td>\n",
       "      <td>32</td>\n",
       "      <td>Años</td>\n",
       "      <td>MASCULINO</td>\n",
       "      <td>Privada</td>\n",
       "      <td>Accidente Tránsito con Heridos/Muertos</td>\n",
       "      <td>ALTA</td>\n",
       "    </tr>\n",
       "    <tr>\n",
       "      <th>3</th>\n",
       "      <td>1176520196</td>\n",
       "      <td>2019-12-01 00:07:43</td>\n",
       "      <td>3</td>\n",
       "      <td>Santa Fe</td>\n",
       "      <td>0</td>\n",
       "      <td>SIN/DATO</td>\n",
       "      <td>SIN/DATO</td>\n",
       "      <td>Norte</td>\n",
       "      <td>Lesiones Personales</td>\n",
       "      <td>ALTA</td>\n",
       "    </tr>\n",
       "    <tr>\n",
       "      <th>4</th>\n",
       "      <td>1180873196</td>\n",
       "      <td>2019-12-01 07:14:08</td>\n",
       "      <td>5</td>\n",
       "      <td>Usme</td>\n",
       "      <td>53</td>\n",
       "      <td>Años</td>\n",
       "      <td>FEMENINO</td>\n",
       "      <td>Privada</td>\n",
       "      <td>Accidente Tránsito con Heridos/Muertos</td>\n",
       "      <td>ALTA</td>\n",
       "    </tr>\n",
       "  </tbody>\n",
       "</table>\n",
       "</div>"
      ],
      "text/plain": [
       "  NUMERO_INCIDENTE FECHA_INICIO_DESPLAZAMIENTO_MOVIL  CODIGO_LOCALIDAD  \\\n",
       "0       1178693196               2019-12-01 03:18:23                 8   \n",
       "1       1176480196               2019-12-01 00:05:59                 5   \n",
       "2       1180282196               2019-12-01 05:37:10                 7   \n",
       "3       1176520196               2019-12-01 00:07:43                 3   \n",
       "4       1180873196               2019-12-01 07:14:08                 5   \n",
       "\n",
       "  LOCALIDAD  EDAD    UNIDAD     GENERO      RED  \\\n",
       "0   Kennedy    14      Años  MASCULINO  Privada   \n",
       "1      Usme     0  SIN/DATO   SIN/DATO      Sur   \n",
       "2      Bosa    32      Años  MASCULINO  Privada   \n",
       "3  Santa Fe     0  SIN/DATO   SIN/DATO    Norte   \n",
       "4      Usme    53      Años   FEMENINO  Privada   \n",
       "\n",
       "                           TIPO_INCIDENTE PRIORIDAD  \n",
       "0  Accidente Tránsito con Heridos/Muertos      ALTA  \n",
       "1  Accidente Tránsito con Heridos/Muertos      ALTA  \n",
       "2  Accidente Tránsito con Heridos/Muertos      ALTA  \n",
       "3                     Lesiones Personales      ALTA  \n",
       "4  Accidente Tránsito con Heridos/Muertos      ALTA  "
      ]
     },
     "execution_count": 15,
     "metadata": {},
     "output_type": "execute_result"
    }
   ],
   "source": [
    "raw_data_diciembre.rename(\n",
    "    columns = {\n",
    "        'FECHA_DESPACHO_518' : 'FECHA_INICIO_DESPLAZAMIENTO_MOVIL',\n",
    "        'CODIGO DE LOCALIDAD': 'CODIGO_LOCALIDAD'\n",
    "    },\n",
    "    inplace=True\n",
    ")\n",
    "raw_data_diciembre.head()"
   ]
  },
  {
   "cell_type": "code",
   "execution_count": 16,
   "id": "78270364-dc47-48a7-944b-efa6b4178ee2",
   "metadata": {},
   "outputs": [
    {
     "data": {
      "text/html": [
       "<div>\n",
       "<style scoped>\n",
       "    .dataframe tbody tr th:only-of-type {\n",
       "        vertical-align: middle;\n",
       "    }\n",
       "\n",
       "    .dataframe tbody tr th {\n",
       "        vertical-align: top;\n",
       "    }\n",
       "\n",
       "    .dataframe thead th {\n",
       "        text-align: right;\n",
       "    }\n",
       "</style>\n",
       "<table border=\"1\" class=\"dataframe\">\n",
       "  <thead>\n",
       "    <tr style=\"text-align: right;\">\n",
       "      <th></th>\n",
       "      <th>NUMERO_INCIDENTE</th>\n",
       "      <th>FECHA_INICIO_DESPLAZAMIENTO_MOVIL</th>\n",
       "      <th>CODIGO_LOCALIDAD</th>\n",
       "      <th>LOCALIDAD</th>\n",
       "      <th>EDAD</th>\n",
       "      <th>UNIDAD</th>\n",
       "      <th>GENERO</th>\n",
       "      <th>RED</th>\n",
       "      <th>TIPO_INCIDENTE</th>\n",
       "      <th>PRIORIDAD</th>\n",
       "      <th>...</th>\n",
       "      <th>Unnamed: 27</th>\n",
       "      <th>Unnamed: 28</th>\n",
       "      <th>Unnamed: 29</th>\n",
       "      <th>Unnamed: 30</th>\n",
       "      <th>Unnamed: 31</th>\n",
       "      <th>Unnamed: 32</th>\n",
       "      <th>Unnamed: 33</th>\n",
       "      <th>Unnamed: 34</th>\n",
       "      <th>Unnamed: 35</th>\n",
       "      <th>Unnamed: 36</th>\n",
       "    </tr>\n",
       "  </thead>\n",
       "  <tbody>\n",
       "    <tr>\n",
       "      <th>0</th>\n",
       "      <td>CRU-00000002-20</td>\n",
       "      <td>2020-01-01 00:13:40</td>\n",
       "      <td>19</td>\n",
       "      <td>Ciudad Bolívar</td>\n",
       "      <td>0</td>\n",
       "      <td>SIN_DATO</td>\n",
       "      <td>SIN_DATO</td>\n",
       "      <td>Sur</td>\n",
       "      <td>Heridos</td>\n",
       "      <td>2</td>\n",
       "      <td>...</td>\n",
       "      <td>NaN</td>\n",
       "      <td>NaN</td>\n",
       "      <td>NaN</td>\n",
       "      <td>NaN</td>\n",
       "      <td>NaN</td>\n",
       "      <td>NaN</td>\n",
       "      <td>NaN</td>\n",
       "      <td>NaN</td>\n",
       "      <td>NaN</td>\n",
       "      <td>NaN</td>\n",
       "    </tr>\n",
       "    <tr>\n",
       "      <th>1</th>\n",
       "      <td>CRU-00000002-20</td>\n",
       "      <td>2020-01-01 00:13:40</td>\n",
       "      <td>19</td>\n",
       "      <td>Ciudad Bolívar</td>\n",
       "      <td>0</td>\n",
       "      <td>SIN_DATO</td>\n",
       "      <td>SIN_DATO</td>\n",
       "      <td>Sur</td>\n",
       "      <td>Heridos</td>\n",
       "      <td>2</td>\n",
       "      <td>...</td>\n",
       "      <td>NaN</td>\n",
       "      <td>NaN</td>\n",
       "      <td>NaN</td>\n",
       "      <td>NaN</td>\n",
       "      <td>NaN</td>\n",
       "      <td>NaN</td>\n",
       "      <td>NaN</td>\n",
       "      <td>NaN</td>\n",
       "      <td>NaN</td>\n",
       "      <td>NaN</td>\n",
       "    </tr>\n",
       "    <tr>\n",
       "      <th>2</th>\n",
       "      <td>CRU-00000005-20</td>\n",
       "      <td>2020-01-01 00:15:14</td>\n",
       "      <td>14</td>\n",
       "      <td>Los Mártires</td>\n",
       "      <td>0</td>\n",
       "      <td>SIN_DATO</td>\n",
       "      <td>SIN_DATO</td>\n",
       "      <td>Norte</td>\n",
       "      <td>Inconsciente/Paro Cardiorrespiratorio</td>\n",
       "      <td>1</td>\n",
       "      <td>...</td>\n",
       "      <td>NaN</td>\n",
       "      <td>NaN</td>\n",
       "      <td>NaN</td>\n",
       "      <td>NaN</td>\n",
       "      <td>NaN</td>\n",
       "      <td>NaN</td>\n",
       "      <td>NaN</td>\n",
       "      <td>NaN</td>\n",
       "      <td>NaN</td>\n",
       "      <td>NaN</td>\n",
       "    </tr>\n",
       "    <tr>\n",
       "      <th>3</th>\n",
       "      <td>CRU-00000024-20</td>\n",
       "      <td>2020-01-01 00:20:50</td>\n",
       "      <td>11</td>\n",
       "      <td>Suba</td>\n",
       "      <td>58</td>\n",
       "      <td>Años</td>\n",
       "      <td>MASCULINO</td>\n",
       "      <td>Norte</td>\n",
       "      <td>Inconsciente/Paro Cardiorrespiratorio</td>\n",
       "      <td>1</td>\n",
       "      <td>...</td>\n",
       "      <td>NaN</td>\n",
       "      <td>NaN</td>\n",
       "      <td>NaN</td>\n",
       "      <td>NaN</td>\n",
       "      <td>NaN</td>\n",
       "      <td>NaN</td>\n",
       "      <td>NaN</td>\n",
       "      <td>NaN</td>\n",
       "      <td>NaN</td>\n",
       "      <td>NaN</td>\n",
       "    </tr>\n",
       "    <tr>\n",
       "      <th>4</th>\n",
       "      <td>CRU-00000036-20</td>\n",
       "      <td>2020-01-01 00:26:05</td>\n",
       "      <td>10</td>\n",
       "      <td>Engativá</td>\n",
       "      <td>0</td>\n",
       "      <td>SIN_DATO</td>\n",
       "      <td>SIN_DATO</td>\n",
       "      <td>Norte</td>\n",
       "      <td>Inconsciente/Paro Cardiorrespiratorio</td>\n",
       "      <td>1</td>\n",
       "      <td>...</td>\n",
       "      <td>NaN</td>\n",
       "      <td>NaN</td>\n",
       "      <td>NaN</td>\n",
       "      <td>NaN</td>\n",
       "      <td>NaN</td>\n",
       "      <td>NaN</td>\n",
       "      <td>NaN</td>\n",
       "      <td>NaN</td>\n",
       "      <td>NaN</td>\n",
       "      <td>NaN</td>\n",
       "    </tr>\n",
       "  </tbody>\n",
       "</table>\n",
       "<p>5 rows × 37 columns</p>\n",
       "</div>"
      ],
      "text/plain": [
       "  NUMERO_INCIDENTE FECHA_INICIO_DESPLAZAMIENTO_MOVIL  CODIGO_LOCALIDAD  \\\n",
       "0  CRU-00000002-20               2020-01-01 00:13:40                19   \n",
       "1  CRU-00000002-20               2020-01-01 00:13:40                19   \n",
       "2  CRU-00000005-20               2020-01-01 00:15:14                14   \n",
       "3  CRU-00000024-20               2020-01-01 00:20:50                11   \n",
       "4  CRU-00000036-20               2020-01-01 00:26:05                10   \n",
       "\n",
       "         LOCALIDAD  EDAD    UNIDAD     GENERO    RED  \\\n",
       "0   Ciudad Bolívar     0  SIN_DATO   SIN_DATO    Sur   \n",
       "1   Ciudad Bolívar     0  SIN_DATO   SIN_DATO    Sur   \n",
       "2     Los Mártires     0  SIN_DATO   SIN_DATO  Norte   \n",
       "3             Suba    58      Años  MASCULINO  Norte   \n",
       "4         Engativá     0  SIN_DATO   SIN_DATO  Norte   \n",
       "\n",
       "                           TIPO_INCIDENTE  PRIORIDAD  ...  Unnamed: 27  \\\n",
       "0                                Heridos           2  ...          NaN   \n",
       "1                                Heridos           2  ...          NaN   \n",
       "2  Inconsciente/Paro Cardiorrespiratorio           1  ...          NaN   \n",
       "3  Inconsciente/Paro Cardiorrespiratorio           1  ...          NaN   \n",
       "4  Inconsciente/Paro Cardiorrespiratorio           1  ...          NaN   \n",
       "\n",
       "   Unnamed: 28  Unnamed: 29  Unnamed: 30  Unnamed: 31  Unnamed: 32  \\\n",
       "0          NaN          NaN          NaN          NaN          NaN   \n",
       "1          NaN          NaN          NaN          NaN          NaN   \n",
       "2          NaN          NaN          NaN          NaN          NaN   \n",
       "3          NaN          NaN          NaN          NaN          NaN   \n",
       "4          NaN          NaN          NaN          NaN          NaN   \n",
       "\n",
       "   Unnamed: 33  Unnamed: 34  Unnamed: 35  Unnamed: 36  \n",
       "0          NaN          NaN          NaN          NaN  \n",
       "1          NaN          NaN          NaN          NaN  \n",
       "2          NaN          NaN          NaN          NaN  \n",
       "3          NaN          NaN          NaN          NaN  \n",
       "4          NaN          NaN          NaN          NaN  \n",
       "\n",
       "[5 rows x 37 columns]"
      ]
     },
     "execution_count": 16,
     "metadata": {},
     "output_type": "execute_result"
    }
   ],
   "source": [
    "raw_data_enero.rename(\n",
    "    columns = {\n",
    "        'FECHA_DESPACHO_518' : 'FECHA_INICIO_DESPLAZAMIENTO_MOVIL',\n",
    "        'CODIGO DE LOCALIDAD': 'CODIGO_LOCALIDAD'\n",
    "    },\n",
    "    inplace=True\n",
    ")\n",
    "raw_data_enero.head()"
   ]
  },
  {
   "cell_type": "markdown",
   "id": "53943f8e-4ee5-4430-b232-680ab820eaa9",
   "metadata": {
    "tags": []
   },
   "source": [
    "## Drop \"Unnamed\" Columns of January"
   ]
  },
  {
   "cell_type": "code",
   "execution_count": 17,
   "id": "b06d33cc-0742-46cb-8966-c8fc588ca558",
   "metadata": {},
   "outputs": [
    {
     "name": "stdout",
     "output_type": "stream",
     "text": [
      "<class 'pandas.core.frame.DataFrame'>\n",
      "RangeIndex: 15304 entries, 0 to 15303\n",
      "Data columns (total 10 columns):\n",
      " #   Column                             Non-Null Count  Dtype \n",
      "---  ------                             --------------  ----- \n",
      " 0   NUMERO_INCIDENTE                   15304 non-null  object\n",
      " 1   FECHA_INICIO_DESPLAZAMIENTO_MOVIL  15304 non-null  object\n",
      " 2   CODIGO_LOCALIDAD                   15304 non-null  int64 \n",
      " 3   LOCALIDAD                          15304 non-null  object\n",
      " 4   EDAD                               15304 non-null  int64 \n",
      " 5   UNIDAD                             15304 non-null  object\n",
      " 6   GENERO                             15304 non-null  object\n",
      " 7   RED                                15304 non-null  object\n",
      " 8   TIPO_INCIDENTE                     15304 non-null  object\n",
      " 9   PRIORIDAD                          15304 non-null  int64 \n",
      "dtypes: int64(3), object(7)\n",
      "memory usage: 1.2+ MB\n",
      "None\n"
     ]
    }
   ],
   "source": [
    "list_cols_to_drop = ['Unnamed: {}'.format(i) for i in range(10, 37)]\n",
    "list_cols_to_drop\n",
    "raw_data_enero = raw_data_enero.drop(list_cols_to_drop, axis= 'columns')\n",
    "print(raw_data_enero.info())"
   ]
  },
  {
   "cell_type": "markdown",
   "id": "b024f24f-f9ad-49c9-a81d-37b72314ebf4",
   "metadata": {},
   "source": [
    "### Remove duplicates"
   ]
  },
  {
   "cell_type": "code",
   "execution_count": 18,
   "id": "fc2fb572-f025-4835-bddd-1278f967d3b0",
   "metadata": {},
   "outputs": [
    {
     "name": "stdout",
     "output_type": "stream",
     "text": [
      "Number of rows before cleaning julio: 14560\n",
      "Number of rows after cleaning julio: 13842\n",
      "Number of rows before cleaning agosto: 18141\n",
      "Number of rows after cleaning agosto: 16807\n",
      "Number of rows before cleaning septiembre: 17018\n",
      "Number of rows after cleaning septiembre: 16267\n",
      "Number of rows before cleaning octubre: 18195\n",
      "Number of rows after cleaning octubre: 16559\n",
      "Number of rows before cleaning noviembre: 15926\n",
      "Number of rows after cleaning noviembre: 15886\n",
      "Number of rows before cleaning diciembre: 16243\n",
      "Number of rows after cleaning diciembre: 16162\n",
      "Number of rows before cleaning enero: 15304\n",
      "Number of rows after cleaning enero: 15304\n"
     ]
    }
   ],
   "source": [
    "print('Number of rows before cleaning julio:', raw_data_julio.shape[0] )\n",
    "raw_data_julio.drop_duplicates(inplace=True)\n",
    "print('Number of rows after cleaning julio:', raw_data_julio.shape[0] )\n",
    "print('Number of rows before cleaning agosto:', raw_data_agosto.shape[0] )\n",
    "raw_data_agosto.drop_duplicates(inplace=True)\n",
    "print('Number of rows after cleaning agosto:', raw_data_agosto.shape[0] )\n",
    "print('Number of rows before cleaning septiembre:', raw_data_septiembre.shape[0] )\n",
    "raw_data_septiembre.drop_duplicates(inplace=True)\n",
    "print('Number of rows after cleaning septiembre:', raw_data_septiembre.shape[0] )\n",
    "print('Number of rows before cleaning octubre:', raw_data_octubre.shape[0] )\n",
    "raw_data_octubre.drop_duplicates(inplace=True)\n",
    "print('Number of rows after cleaning octubre:', raw_data_octubre.shape[0] )\n",
    "print('Number of rows before cleaning noviembre:', raw_data_noviembre.shape[0] )\n",
    "raw_data_noviembre.drop_duplicates(inplace=True)\n",
    "print('Number of rows after cleaning noviembre:', raw_data_noviembre.shape[0] )\n",
    "print('Number of rows before cleaning diciembre:', raw_data_diciembre.shape[0] )\n",
    "raw_data_diciembre.drop_duplicates(inplace=True)\n",
    "print('Number of rows after cleaning diciembre:', raw_data_diciembre.shape[0] )\n",
    "print('Number of rows before cleaning enero:', raw_data_enero.shape[0] )\n",
    "raw_data_julio.drop_duplicates(inplace=True)\n",
    "print('Number of rows after cleaning enero:', raw_data_enero.shape[0] )"
   ]
  },
  {
   "cell_type": "markdown",
   "id": "cd4ed4eb-b815-4854-8c66-e126909bddbe",
   "metadata": {},
   "source": [
    "# Convert to datetime data type columns must be"
   ]
  },
  {
   "cell_type": "code",
   "execution_count": 19,
   "id": "6fb0259c-92a3-45b0-9d68-30f59302e9e7",
   "metadata": {},
   "outputs": [
    {
     "name": "stdout",
     "output_type": "stream",
     "text": [
      "<class 'pandas.core.frame.DataFrame'>\n",
      "Int64Index: 13842 entries, 0 to 14559\n",
      "Data columns (total 12 columns):\n",
      " #   Column                             Non-Null Count  Dtype         \n",
      "---  ------                             --------------  -----         \n",
      " 0   FECHA_INCIDENTE                    13842 non-null  datetime64[ns]\n",
      " 1   FECHA_INICIO_DESPLAZAMIENTO_MOVIL  13842 non-null  datetime64[ns]\n",
      " 2   CODIGO_LOCALIDAD                   13842 non-null  int64         \n",
      " 3   LOCALIDAD                          13842 non-null  object        \n",
      " 4   EDAD                               13842 non-null  object        \n",
      " 5   UNIDAD                             13842 non-null  object        \n",
      " 6   GENERO                             13842 non-null  object        \n",
      " 7   RED                                13842 non-null  object        \n",
      " 8   TIPO_INCIDENTE                     13842 non-null  object        \n",
      " 9   PRIORIDAD                          13842 non-null  object        \n",
      " 10  MES                                13842 non-null  object        \n",
      " 11  CLASIFICACION_FINAL                12333 non-null  object        \n",
      "dtypes: datetime64[ns](2), int64(1), object(9)\n",
      "memory usage: 1.4+ MB\n"
     ]
    }
   ],
   "source": [
    "raw_data_julio[\"FECHA_INCIDENTE\"]= pd.to_datetime(raw_data_julio[\"FECHA_INCIDENTE\"])\n",
    "raw_data_julio[\"FECHA_INICIO_DESPLAZAMIENTO_MOVIL\"]= pd.to_datetime(raw_data_julio[\"FECHA_INICIO_DESPLAZAMIENTO_MOVIL\"])\n",
    "raw_data_julio.info()"
   ]
  },
  {
   "cell_type": "code",
   "execution_count": 20,
   "id": "4ba090c0-c7cd-4edf-8c24-47f8ada991ec",
   "metadata": {},
   "outputs": [
    {
     "name": "stdout",
     "output_type": "stream",
     "text": [
      "<class 'pandas.core.frame.DataFrame'>\n",
      "Int64Index: 16807 entries, 0 to 18140\n",
      "Data columns (total 12 columns):\n",
      " #   Column                             Non-Null Count  Dtype         \n",
      "---  ------                             --------------  -----         \n",
      " 0   NUMERO_INCIDENTE                   16807 non-null  int64         \n",
      " 1   FECHA_INICIO_DESPLAZAMIENTO_MOVIL  16807 non-null  datetime64[ns]\n",
      " 2   CODIGO_LOCALIDAD                   16807 non-null  int64         \n",
      " 3   LOCALIDAD                          16807 non-null  object        \n",
      " 4   EDAD                               16807 non-null  object        \n",
      " 5   UNIDAD                             16807 non-null  object        \n",
      " 6   GENERO                             16807 non-null  object        \n",
      " 7   RED                                16807 non-null  object        \n",
      " 8   TIPO_INCIDENTE                     16807 non-null  object        \n",
      " 9   PRIORIDAD                          16807 non-null  object        \n",
      " 10  MES                                16807 non-null  object        \n",
      " 11  CLASIFICACION_FINAL                16804 non-null  object        \n",
      "dtypes: datetime64[ns](1), int64(2), object(9)\n",
      "memory usage: 1.7+ MB\n"
     ]
    }
   ],
   "source": [
    "raw_data_agosto[\"FECHA_INICIO_DESPLAZAMIENTO_MOVIL\"]= pd.to_datetime(raw_data_agosto[\"FECHA_INICIO_DESPLAZAMIENTO_MOVIL\"])\n",
    "raw_data_agosto.info()"
   ]
  },
  {
   "cell_type": "code",
   "execution_count": 103,
   "id": "a6d3fa03-0265-4617-9d3b-10e19368942e",
   "metadata": {},
   "outputs": [
    {
     "name": "stdout",
     "output_type": "stream",
     "text": [
      "<class 'pandas.core.frame.DataFrame'>\n",
      "Int64Index: 16267 entries, 0 to 17017\n",
      "Data columns (total 10 columns):\n",
      " #   Column                             Non-Null Count  Dtype         \n",
      "---  ------                             --------------  -----         \n",
      " 0   NUMERO_INCIDENTE                   16267 non-null  int64         \n",
      " 1   FECHA_INICIO_DESPLAZAMIENTO_MOVIL  16267 non-null  datetime64[ns]\n",
      " 2   CODIGO_LOCALIDAD                   16267 non-null  int64         \n",
      " 3   LOCALIDAD                          16267 non-null  object        \n",
      " 4   EDAD                               16267 non-null  int64         \n",
      " 5   UNIDAD                             9346 non-null   object        \n",
      " 6   GENERO                             16267 non-null  object        \n",
      " 7   RED                                16267 non-null  object        \n",
      " 8   TIPO_INCIDENTE                     16267 non-null  object        \n",
      " 9   PRIORIDAD                          16267 non-null  object        \n",
      "dtypes: datetime64[ns](1), int64(3), object(6)\n",
      "memory usage: 1.4+ MB\n"
     ]
    }
   ],
   "source": [
    "raw_data_septiembre[\"FECHA_INICIO_DESPLAZAMIENTO_MOVIL\"]= pd.to_datetime(raw_data_septiembre[\"FECHA_INICIO_DESPLAZAMIENTO_MOVIL\"])\n",
    "raw_data_septiembre.info()"
   ]
  },
  {
   "cell_type": "code",
   "execution_count": 21,
   "id": "b4a05295-958b-4c66-a631-5035f12024a8",
   "metadata": {},
   "outputs": [
    {
     "name": "stdout",
     "output_type": "stream",
     "text": [
      "<class 'pandas.core.frame.DataFrame'>\n",
      "Int64Index: 16559 entries, 0 to 18194\n",
      "Data columns (total 10 columns):\n",
      " #   Column                             Non-Null Count  Dtype         \n",
      "---  ------                             --------------  -----         \n",
      " 0   NUMERO_INCIDENTE                   16559 non-null  int64         \n",
      " 1   FECHA_INICIO_DESPLAZAMIENTO_MOVIL  16559 non-null  datetime64[ns]\n",
      " 2   CODIGO_LOCALIDAD                   16559 non-null  int64         \n",
      " 3   LOCALIDAD                          16559 non-null  object        \n",
      " 4   EDAD                               16559 non-null  object        \n",
      " 5   UNIDAD                             9460 non-null   object        \n",
      " 6   GENERO                             9495 non-null   object        \n",
      " 7   RED                                16559 non-null  object        \n",
      " 8   TIPO_INCIDENTE                     16559 non-null  object        \n",
      " 9   PRIORIDAD                          16559 non-null  object        \n",
      "dtypes: datetime64[ns](1), int64(2), object(7)\n",
      "memory usage: 1.4+ MB\n"
     ]
    }
   ],
   "source": [
    "raw_data_octubre[\"FECHA_INICIO_DESPLAZAMIENTO_MOVIL\"]= pd.to_datetime(raw_data_octubre[\"FECHA_INICIO_DESPLAZAMIENTO_MOVIL\"])\n",
    "raw_data_octubre.info()"
   ]
  },
  {
   "cell_type": "code",
   "execution_count": 22,
   "id": "91baae4f-f767-46a9-9558-9756085b4cab",
   "metadata": {},
   "outputs": [
    {
     "name": "stdout",
     "output_type": "stream",
     "text": [
      "<class 'pandas.core.frame.DataFrame'>\n",
      "Int64Index: 15886 entries, 0 to 15925\n",
      "Data columns (total 10 columns):\n",
      " #   Column                             Non-Null Count  Dtype         \n",
      "---  ------                             --------------  -----         \n",
      " 0   NUMERO_INCIDENTE                   15886 non-null  object        \n",
      " 1   FECHA_INICIO_DESPLAZAMIENTO_MOVIL  15886 non-null  datetime64[ns]\n",
      " 2   CODIGO_LOCALIDAD                   15886 non-null  int64         \n",
      " 3   LOCALIDAD                          15886 non-null  object        \n",
      " 4   EDAD                               15886 non-null  int64         \n",
      " 5   UNIDAD                             15886 non-null  object        \n",
      " 6   GENERO                             15886 non-null  object        \n",
      " 7   RED                                15886 non-null  object        \n",
      " 8   TIPO_INCIDENTE                     15886 non-null  object        \n",
      " 9   PRIORIDAD                          15886 non-null  object        \n",
      "dtypes: datetime64[ns](1), int64(2), object(7)\n",
      "memory usage: 1.3+ MB\n"
     ]
    }
   ],
   "source": [
    "raw_data_noviembre[\"FECHA_INICIO_DESPLAZAMIENTO_MOVIL\"]= pd.to_datetime(raw_data_noviembre[\"FECHA_INICIO_DESPLAZAMIENTO_MOVIL\"])\n",
    "raw_data_noviembre.info()"
   ]
  },
  {
   "cell_type": "code",
   "execution_count": 23,
   "id": "a3421922-c566-4c5b-ae0e-37574c226072",
   "metadata": {},
   "outputs": [
    {
     "name": "stdout",
     "output_type": "stream",
     "text": [
      "<class 'pandas.core.frame.DataFrame'>\n",
      "Int64Index: 16162 entries, 0 to 16242\n",
      "Data columns (total 10 columns):\n",
      " #   Column                             Non-Null Count  Dtype         \n",
      "---  ------                             --------------  -----         \n",
      " 0   NUMERO_INCIDENTE                   16162 non-null  object        \n",
      " 1   FECHA_INICIO_DESPLAZAMIENTO_MOVIL  16162 non-null  datetime64[ns]\n",
      " 2   CODIGO_LOCALIDAD                   16162 non-null  int64         \n",
      " 3   LOCALIDAD                          16162 non-null  object        \n",
      " 4   EDAD                               16162 non-null  int64         \n",
      " 5   UNIDAD                             16162 non-null  object        \n",
      " 6   GENERO                             16162 non-null  object        \n",
      " 7   RED                                16162 non-null  object        \n",
      " 8   TIPO_INCIDENTE                     16162 non-null  object        \n",
      " 9   PRIORIDAD                          16162 non-null  object        \n",
      "dtypes: datetime64[ns](1), int64(2), object(7)\n",
      "memory usage: 1.4+ MB\n"
     ]
    }
   ],
   "source": [
    "raw_data_diciembre[\"FECHA_INICIO_DESPLAZAMIENTO_MOVIL\"]= pd.to_datetime(raw_data_diciembre[\"FECHA_INICIO_DESPLAZAMIENTO_MOVIL\"])\n",
    "raw_data_diciembre.info()"
   ]
  },
  {
   "cell_type": "code",
   "execution_count": 25,
   "id": "a96a3216-eed7-4059-b32c-5acecb7412e8",
   "metadata": {},
   "outputs": [
    {
     "name": "stdout",
     "output_type": "stream",
     "text": [
      "<class 'pandas.core.frame.DataFrame'>\n",
      "RangeIndex: 15304 entries, 0 to 15303\n",
      "Data columns (total 10 columns):\n",
      " #   Column                             Non-Null Count  Dtype         \n",
      "---  ------                             --------------  -----         \n",
      " 0   NUMERO_INCIDENTE                   15304 non-null  object        \n",
      " 1   FECHA_INICIO_DESPLAZAMIENTO_MOVIL  15304 non-null  datetime64[ns]\n",
      " 2   CODIGO_LOCALIDAD                   15304 non-null  int64         \n",
      " 3   LOCALIDAD                          15304 non-null  object        \n",
      " 4   EDAD                               15304 non-null  int64         \n",
      " 5   UNIDAD                             15304 non-null  object        \n",
      " 6   GENERO                             15304 non-null  object        \n",
      " 7   RED                                15304 non-null  object        \n",
      " 8   TIPO_INCIDENTE                     15304 non-null  object        \n",
      " 9   PRIORIDAD                          15304 non-null  int64         \n",
      "dtypes: datetime64[ns](1), int64(3), object(6)\n",
      "memory usage: 1.2+ MB\n"
     ]
    }
   ],
   "source": [
    "raw_data_enero[\"FECHA_INICIO_DESPLAZAMIENTO_MOVIL\"]= pd.to_datetime(raw_data_enero[\"FECHA_INICIO_DESPLAZAMIENTO_MOVIL\"])\n",
    "raw_data_enero.info()"
   ]
  },
  {
   "cell_type": "markdown",
   "id": "230ba07e-c661-4c4e-b477-496cd9bb0e3f",
   "metadata": {},
   "source": [
    "## Check values per field"
   ]
  },
  {
   "cell_type": "code",
   "execution_count": 26,
   "id": "a8176374-b362-4732-8fc1-9f49fb40b77a",
   "metadata": {},
   "outputs": [
    {
     "data": {
      "text/plain": [
       " Kennedy              2116\n",
       " Engativá             1473\n",
       " Suba                 1465\n",
       " Bosa                 1072\n",
       " Ciudad Bolívar       1022\n",
       " Puente Aranda         942\n",
       " Fontibón              812\n",
       "Usaquén                786\n",
       " San Cristóbal         746\n",
       "Rafael Uribe Uribe     737\n",
       "Usme                   678\n",
       "Tunjuelito             550\n",
       "Santa Fe               541\n",
       " Teusaquillo           527\n",
       " Barrios Unidos        506\n",
       "Chapinero              498\n",
       " Los Mártires          446\n",
       " Antonio Nariño        320\n",
       " La Candelaria          64\n",
       "Sumapaz                  3\n",
       "Name: LOCALIDAD, dtype: int64"
      ]
     },
     "execution_count": 26,
     "metadata": {},
     "output_type": "execute_result"
    }
   ],
   "source": [
    "#localidad\n",
    "raw_data_julio['LOCALIDAD'].value_counts(dropna=False)\n",
    "raw_data_agosto['LOCALIDAD'].value_counts(dropna=False)\n",
    "raw_data_septiembre['LOCALIDAD'].value_counts(dropna=False)\n",
    "raw_data_octubre['LOCALIDAD'].value_counts(dropna=False)\n",
    "raw_data_noviembre['LOCALIDAD'].value_counts(dropna=False)\n",
    "raw_data_diciembre['LOCALIDAD'].value_counts(dropna=False)\n",
    "raw_data_enero['LOCALIDAD'].value_counts(dropna=False)"
   ]
  },
  {
   "cell_type": "code",
   "execution_count": 27,
   "id": "471b16ac-63f5-49bf-8964-0209cc54baf9",
   "metadata": {},
   "outputs": [
    {
     "data": {
      "text/plain": [
       "Kennedy               1502\n",
       "Suba                  1480\n",
       "Engativa              1444\n",
       "Bosa                  1076\n",
       "Ciudad Bolivar         944\n",
       "San Cristobal          744\n",
       "Usaquen                740\n",
       "Rafael Uribe Uribe     706\n",
       "Fontibon               686\n",
       "Puente Aranda          646\n",
       "Usme                   609\n",
       "Chapinero              562\n",
       "Barrios Unidos         493\n",
       "Los Martires           492\n",
       "Santa Fe               462\n",
       "Tunjuelito             446\n",
       "Teusaquillo            436\n",
       "Antonio Nariño         284\n",
       "La Candelaria           89\n",
       "Sumapaz                  1\n",
       "Name: LOCALIDAD, dtype: int64"
      ]
     },
     "execution_count": 27,
     "metadata": {},
     "output_type": "execute_result"
    }
   ],
   "source": [
    "raw_data_julio['LOCALIDAD'].apply(\n",
    "    lambda x: x.strip()        \n",
    ").value_counts()"
   ]
  },
  {
   "cell_type": "code",
   "execution_count": 28,
   "id": "bb40b053-0d18-4b9f-8cf0-661a5cc10f02",
   "metadata": {},
   "outputs": [
    {
     "data": {
      "text/plain": [
       "Kennedy               2443\n",
       "Engativa              1679\n",
       "Suba                  1573\n",
       "Bosa                  1193\n",
       "Ciudad Bolivar        1141\n",
       "Puente Aranda          891\n",
       "San Cristobal          842\n",
       "Rafael Uribe Uribe     837\n",
       "Usaquen                834\n",
       "Fontibon               825\n",
       "Chapinero              652\n",
       "Santa Fe               636\n",
       "Usme                   612\n",
       "Teusaquillo            552\n",
       "Tunjuelito             551\n",
       "Barrios Unidos         550\n",
       "Los Martires           543\n",
       "Antonio Nariño         346\n",
       "La Candelaria          106\n",
       "Sumapaz                  1\n",
       "Name: LOCALIDAD, dtype: int64"
      ]
     },
     "execution_count": 28,
     "metadata": {},
     "output_type": "execute_result"
    }
   ],
   "source": [
    "raw_data_agosto['LOCALIDAD'].apply(\n",
    "    lambda x: x.strip()        \n",
    ").value_counts()"
   ]
  },
  {
   "cell_type": "code",
   "execution_count": 29,
   "id": "16e3305d-0798-4249-a127-bc0574dc7270",
   "metadata": {},
   "outputs": [
    {
     "data": {
      "text/plain": [
       "Kennedy               2274\n",
       "Suba                  1566\n",
       "Engativa              1556\n",
       "Bosa                  1235\n",
       "Ciudad Bolivar        1096\n",
       "Puente Aranda          886\n",
       "Rafael Uribe Uribe     827\n",
       "San Cristobal          798\n",
       "Usaquen                794\n",
       "Fontibon               779\n",
       "Chapinero              706\n",
       "Barrios Unidos         583\n",
       "Tunjuelito             575\n",
       "Los Martires           570\n",
       "Usme                   560\n",
       "Santa Fe               517\n",
       "Teusaquillo            514\n",
       "Antonio Nariño         349\n",
       "La Candelaria           82\n",
       "Name: LOCALIDAD, dtype: int64"
      ]
     },
     "execution_count": 29,
     "metadata": {},
     "output_type": "execute_result"
    }
   ],
   "source": [
    "raw_data_septiembre['LOCALIDAD'].apply(\n",
    "    lambda x: x.strip()        \n",
    ").value_counts()"
   ]
  },
  {
   "cell_type": "code",
   "execution_count": 30,
   "id": "512fc780-1277-4c0a-9309-77ca368ccd70",
   "metadata": {},
   "outputs": [
    {
     "data": {
      "text/plain": [
       "Kennedy               2311\n",
       "Engativa              1617\n",
       "Suba                  1572\n",
       "Bosa                  1220\n",
       "Ciudad Bolivar        1062\n",
       "Puente Aranda          889\n",
       "Rafael Uribe Uribe     872\n",
       "Usaquen                806\n",
       "Fontibon               793\n",
       "San Cristobal          782\n",
       "Chapinero              682\n",
       "Santa Fe               631\n",
       "Los Martires           628\n",
       "Barrios Unidos         619\n",
       "Usme                   557\n",
       "Tunjuelito             533\n",
       "Teusaquillo            484\n",
       "Antonio Nariño         384\n",
       "La Candelaria          112\n",
       "Sumapaz                  5\n",
       "Name: LOCALIDAD, dtype: int64"
      ]
     },
     "execution_count": 30,
     "metadata": {},
     "output_type": "execute_result"
    }
   ],
   "source": [
    "raw_data_octubre['LOCALIDAD'].apply(\n",
    "    lambda x: x.strip()        \n",
    ").value_counts()"
   ]
  },
  {
   "cell_type": "code",
   "execution_count": 31,
   "id": "9ff22153-8189-4b3c-90da-ade33a088503",
   "metadata": {},
   "outputs": [
    {
     "data": {
      "text/plain": [
       "Kennedy               2191\n",
       "Engativa              1564\n",
       "Suba                  1419\n",
       "Bosa                  1185\n",
       "Ciudad Bolivar        1123\n",
       "Puente Aranda          851\n",
       "Rafael Uribe Uribe     834\n",
       "Usaquen                807\n",
       "Fontibon               785\n",
       "San Cristobal          756\n",
       "Santa Fe               612\n",
       "Chapinero              577\n",
       "Usme                   575\n",
       "Los Martires           557\n",
       "Tunjuelito             546\n",
       "Teusaquillo            544\n",
       "Barrios Unidos         519\n",
       "Antonio Nariño         338\n",
       "La Candelaria          102\n",
       "Sumapaz                  1\n",
       "Name: LOCALIDAD, dtype: int64"
      ]
     },
     "execution_count": 31,
     "metadata": {},
     "output_type": "execute_result"
    }
   ],
   "source": [
    "raw_data_noviembre['LOCALIDAD'].apply(\n",
    "    lambda x: x.strip()        \n",
    ").value_counts()"
   ]
  },
  {
   "cell_type": "code",
   "execution_count": 32,
   "id": "a6f8d0a2-4603-4a7f-bb50-626bd5fb3daa",
   "metadata": {},
   "outputs": [
    {
     "data": {
      "text/plain": [
       "Kennedy               2310\n",
       "Engativá              1633\n",
       "Suba                  1460\n",
       "Bosa                  1177\n",
       "Ciudad Bolívar        1118\n",
       "Puente Aranda          898\n",
       "Fontibón               859\n",
       "San Cristóbal          835\n",
       "Rafael Uribe Uribe     769\n",
       "Usaquén                766\n",
       "Usme                   626\n",
       "Tunjuelito             611\n",
       "Santa Fe               584\n",
       "Chapinero              553\n",
       "Los Mártires           524\n",
       "Barrios Unidos         510\n",
       "Teusaquillo            496\n",
       "Antonio Nariño         372\n",
       "La Candelaria           60\n",
       "Sumapaz                  1\n",
       "Name: LOCALIDAD, dtype: int64"
      ]
     },
     "execution_count": 32,
     "metadata": {},
     "output_type": "execute_result"
    }
   ],
   "source": [
    "raw_data_diciembre['LOCALIDAD'].apply(\n",
    "    lambda x: x.strip()        \n",
    ").value_counts()"
   ]
  },
  {
   "cell_type": "code",
   "execution_count": 33,
   "id": "1fcd07f8-90f9-47a1-aa92-e2b74168e5a5",
   "metadata": {},
   "outputs": [
    {
     "data": {
      "text/plain": [
       "Kennedy               2116\n",
       "Engativá              1473\n",
       "Suba                  1465\n",
       "Bosa                  1072\n",
       "Ciudad Bolívar        1022\n",
       "Puente Aranda          942\n",
       "Fontibón               812\n",
       "Usaquén                786\n",
       "San Cristóbal          746\n",
       "Rafael Uribe Uribe     737\n",
       "Usme                   678\n",
       "Tunjuelito             550\n",
       "Santa Fe               541\n",
       "Teusaquillo            527\n",
       "Barrios Unidos         506\n",
       "Chapinero              498\n",
       "Los Mártires           446\n",
       "Antonio Nariño         320\n",
       "La Candelaria           64\n",
       "Sumapaz                  3\n",
       "Name: LOCALIDAD, dtype: int64"
      ]
     },
     "execution_count": 33,
     "metadata": {},
     "output_type": "execute_result"
    }
   ],
   "source": [
    "raw_data_enero['LOCALIDAD'].apply(\n",
    "    lambda x: x.strip()        \n",
    ").value_counts()"
   ]
  },
  {
   "cell_type": "code",
   "execution_count": 35,
   "id": "29a99ff7-719f-45e6-ac54-6a0b3e7aa1a6",
   "metadata": {},
   "outputs": [
    {
     "data": {
      "text/html": [
       "<div>\n",
       "<style scoped>\n",
       "    .dataframe tbody tr th:only-of-type {\n",
       "        vertical-align: middle;\n",
       "    }\n",
       "\n",
       "    .dataframe tbody tr th {\n",
       "        vertical-align: top;\n",
       "    }\n",
       "\n",
       "    .dataframe thead th {\n",
       "        text-align: right;\n",
       "    }\n",
       "</style>\n",
       "<table border=\"1\" class=\"dataframe\">\n",
       "  <thead>\n",
       "    <tr style=\"text-align: right;\">\n",
       "      <th></th>\n",
       "      <th>FECHA_INCIDENTE</th>\n",
       "      <th>FECHA_INICIO_DESPLAZAMIENTO_MOVIL</th>\n",
       "      <th>CODIGO_LOCALIDAD</th>\n",
       "      <th>LOCALIDAD</th>\n",
       "      <th>EDAD</th>\n",
       "      <th>UNIDAD</th>\n",
       "      <th>GENERO</th>\n",
       "      <th>RED</th>\n",
       "      <th>TIPO_INCIDENTE</th>\n",
       "      <th>PRIORIDAD</th>\n",
       "      <th>MES</th>\n",
       "      <th>CLASIFICACION_FINAL</th>\n",
       "    </tr>\n",
       "  </thead>\n",
       "  <tbody>\n",
       "    <tr>\n",
       "      <th>0</th>\n",
       "      <td>2019-07-01 00:05:08</td>\n",
       "      <td>2019-07-01 00:11:02</td>\n",
       "      <td>8</td>\n",
       "      <td>Kennedy</td>\n",
       "      <td>39</td>\n",
       "      <td>Años</td>\n",
       "      <td>FEMENINO</td>\n",
       "      <td>Norte</td>\n",
       "      <td>Dificultad Respiratoria</td>\n",
       "      <td>ALTA</td>\n",
       "      <td>JULIO</td>\n",
       "      <td>Traslado</td>\n",
       "    </tr>\n",
       "    <tr>\n",
       "      <th>1</th>\n",
       "      <td>2019-07-01 00:06:57</td>\n",
       "      <td>2019-07-01 00:12:56</td>\n",
       "      <td>19</td>\n",
       "      <td>Ciudad Bolivar</td>\n",
       "      <td>69</td>\n",
       "      <td>Años</td>\n",
       "      <td>MASCULINO</td>\n",
       "      <td>Sur</td>\n",
       "      <td>Inconsciente/Paro Cardiorrespiratorio</td>\n",
       "      <td>ALTA</td>\n",
       "      <td>JULIO</td>\n",
       "      <td>NaN</td>\n",
       "    </tr>\n",
       "    <tr>\n",
       "      <th>2</th>\n",
       "      <td>2019-07-01 00:09:26</td>\n",
       "      <td>2019-07-01 00:10:26</td>\n",
       "      <td>6</td>\n",
       "      <td>Tunjuelito</td>\n",
       "      <td>25</td>\n",
       "      <td>Años</td>\n",
       "      <td>MASCULINO</td>\n",
       "      <td>Sur</td>\n",
       "      <td>Enfermo</td>\n",
       "      <td>MEDIA</td>\n",
       "      <td>JULIO</td>\n",
       "      <td>Traslado</td>\n",
       "    </tr>\n",
       "    <tr>\n",
       "      <th>3</th>\n",
       "      <td>2019-07-01 00:14:42</td>\n",
       "      <td>2019-07-01 00:15:47</td>\n",
       "      <td>8</td>\n",
       "      <td>Kennedy</td>\n",
       "      <td>65</td>\n",
       "      <td>Años</td>\n",
       "      <td>MASCULINO</td>\n",
       "      <td>Sur</td>\n",
       "      <td>Lesiones personales</td>\n",
       "      <td>MEDIA</td>\n",
       "      <td>JULIO</td>\n",
       "      <td>Traslado</td>\n",
       "    </tr>\n",
       "    <tr>\n",
       "      <th>4</th>\n",
       "      <td>2019-07-01 00:17:13</td>\n",
       "      <td>2019-07-01 00:31:13</td>\n",
       "      <td>10</td>\n",
       "      <td>Engativa</td>\n",
       "      <td>SIN_DATO</td>\n",
       "      <td>SIN_DATO</td>\n",
       "      <td>SIN_DATO</td>\n",
       "      <td>Norte</td>\n",
       "      <td>Enfermo</td>\n",
       "      <td>MEDIA</td>\n",
       "      <td>JULIO</td>\n",
       "      <td>Cancelado</td>\n",
       "    </tr>\n",
       "  </tbody>\n",
       "</table>\n",
       "</div>"
      ],
      "text/plain": [
       "      FECHA_INCIDENTE FECHA_INICIO_DESPLAZAMIENTO_MOVIL  CODIGO_LOCALIDAD  \\\n",
       "0 2019-07-01 00:05:08               2019-07-01 00:11:02                 8   \n",
       "1 2019-07-01 00:06:57               2019-07-01 00:12:56                19   \n",
       "2 2019-07-01 00:09:26               2019-07-01 00:10:26                 6   \n",
       "3 2019-07-01 00:14:42               2019-07-01 00:15:47                 8   \n",
       "4 2019-07-01 00:17:13               2019-07-01 00:31:13                10   \n",
       "\n",
       "        LOCALIDAD      EDAD    UNIDAD     GENERO    RED  \\\n",
       "0         Kennedy        39      Años   FEMENINO  Norte   \n",
       "1  Ciudad Bolivar        69      Años  MASCULINO    Sur   \n",
       "2      Tunjuelito        25      Años  MASCULINO    Sur   \n",
       "3         Kennedy        65      Años  MASCULINO    Sur   \n",
       "4        Engativa  SIN_DATO  SIN_DATO   SIN_DATO  Norte   \n",
       "\n",
       "                           TIPO_INCIDENTE PRIORIDAD    MES CLASIFICACION_FINAL  \n",
       "0                 Dificultad Respiratoria      ALTA  JULIO            Traslado  \n",
       "1  Inconsciente/Paro Cardiorrespiratorio       ALTA  JULIO                 NaN  \n",
       "2                                 Enfermo     MEDIA  JULIO            Traslado  \n",
       "3                     Lesiones personales     MEDIA  JULIO            Traslado  \n",
       "4                                 Enfermo     MEDIA  JULIO           Cancelado  "
      ]
     },
     "execution_count": 35,
     "metadata": {},
     "output_type": "execute_result"
    }
   ],
   "source": [
    "raw_data_julio['LOCALIDAD'] = raw_data_julio['LOCALIDAD'].apply(lambda x: x.strip())\n",
    "raw_data_julio.head()"
   ]
  },
  {
   "cell_type": "code",
   "execution_count": 36,
   "id": "c30f636c-74ef-421d-9ccb-0242799f3c3a",
   "metadata": {},
   "outputs": [
    {
     "data": {
      "text/html": [
       "<div>\n",
       "<style scoped>\n",
       "    .dataframe tbody tr th:only-of-type {\n",
       "        vertical-align: middle;\n",
       "    }\n",
       "\n",
       "    .dataframe tbody tr th {\n",
       "        vertical-align: top;\n",
       "    }\n",
       "\n",
       "    .dataframe thead th {\n",
       "        text-align: right;\n",
       "    }\n",
       "</style>\n",
       "<table border=\"1\" class=\"dataframe\">\n",
       "  <thead>\n",
       "    <tr style=\"text-align: right;\">\n",
       "      <th></th>\n",
       "      <th>NUMERO_INCIDENTE</th>\n",
       "      <th>FECHA_INICIO_DESPLAZAMIENTO_MOVIL</th>\n",
       "      <th>CODIGO_LOCALIDAD</th>\n",
       "      <th>LOCALIDAD</th>\n",
       "      <th>EDAD</th>\n",
       "      <th>UNIDAD</th>\n",
       "      <th>GENERO</th>\n",
       "      <th>RED</th>\n",
       "      <th>TIPO_INCIDENTE</th>\n",
       "      <th>PRIORIDAD</th>\n",
       "      <th>MES</th>\n",
       "      <th>CLASIFICACION_FINAL</th>\n",
       "    </tr>\n",
       "  </thead>\n",
       "  <tbody>\n",
       "    <tr>\n",
       "      <th>0</th>\n",
       "      <td>809224194</td>\n",
       "      <td>2019-01-08 00:28:00</td>\n",
       "      <td>1</td>\n",
       "      <td>Usaquen</td>\n",
       "      <td>SIN_DATO</td>\n",
       "      <td>SIN_DATO</td>\n",
       "      <td>SIN_DATO</td>\n",
       "      <td>Norte</td>\n",
       "      <td>Inconsciente/Paro Cardiorrespiratorio</td>\n",
       "      <td>ALTA</td>\n",
       "      <td>AGOSTO</td>\n",
       "      <td>Cancelado</td>\n",
       "    </tr>\n",
       "    <tr>\n",
       "      <th>2</th>\n",
       "      <td>809240194</td>\n",
       "      <td>2019-01-08 00:15:00</td>\n",
       "      <td>11</td>\n",
       "      <td>Suba</td>\n",
       "      <td>SIN_DATO</td>\n",
       "      <td>SIN_DATO</td>\n",
       "      <td>SIN_DATO</td>\n",
       "      <td>Norte</td>\n",
       "      <td>Accidente cerebro vascular</td>\n",
       "      <td>BAJA</td>\n",
       "      <td>AGOSTO</td>\n",
       "      <td>Cancelado</td>\n",
       "    </tr>\n",
       "    <tr>\n",
       "      <th>5</th>\n",
       "      <td>809244194</td>\n",
       "      <td>2019-01-08 00:10:00</td>\n",
       "      <td>13</td>\n",
       "      <td>Teusaquillo</td>\n",
       "      <td>SIN_DATO</td>\n",
       "      <td>SIN_DATO</td>\n",
       "      <td>SIN_DATO</td>\n",
       "      <td>Norte</td>\n",
       "      <td>Accidente de tránsito con heridos/Muertos</td>\n",
       "      <td>ALTA</td>\n",
       "      <td>AGOSTO</td>\n",
       "      <td>Cancelado</td>\n",
       "    </tr>\n",
       "    <tr>\n",
       "      <th>7</th>\n",
       "      <td>809253194</td>\n",
       "      <td>2019-01-08 00:12:00</td>\n",
       "      <td>8</td>\n",
       "      <td>Kennedy</td>\n",
       "      <td>SIN_DATO</td>\n",
       "      <td>SIN_DATO</td>\n",
       "      <td>SIN_DATO</td>\n",
       "      <td>Norte</td>\n",
       "      <td>Accidente de tránsito con heridos/Muertos</td>\n",
       "      <td>ALTA</td>\n",
       "      <td>AGOSTO</td>\n",
       "      <td>Cancelado</td>\n",
       "    </tr>\n",
       "    <tr>\n",
       "      <th>9</th>\n",
       "      <td>809261194</td>\n",
       "      <td>2019-01-08 00:13:00</td>\n",
       "      <td>11</td>\n",
       "      <td>Suba</td>\n",
       "      <td>71</td>\n",
       "      <td>Años</td>\n",
       "      <td>FEMENINO</td>\n",
       "      <td>Norte</td>\n",
       "      <td>Dificultad Respiratoria</td>\n",
       "      <td>ALTA</td>\n",
       "      <td>AGOSTO</td>\n",
       "      <td>Traslado</td>\n",
       "    </tr>\n",
       "  </tbody>\n",
       "</table>\n",
       "</div>"
      ],
      "text/plain": [
       "   NUMERO_INCIDENTE FECHA_INICIO_DESPLAZAMIENTO_MOVIL  CODIGO_LOCALIDAD  \\\n",
       "0         809224194               2019-01-08 00:28:00                 1   \n",
       "2         809240194               2019-01-08 00:15:00                11   \n",
       "5         809244194               2019-01-08 00:10:00                13   \n",
       "7         809253194               2019-01-08 00:12:00                 8   \n",
       "9         809261194               2019-01-08 00:13:00                11   \n",
       "\n",
       "     LOCALIDAD      EDAD    UNIDAD    GENERO    RED  \\\n",
       "0      Usaquen  SIN_DATO  SIN_DATO  SIN_DATO  Norte   \n",
       "2         Suba  SIN_DATO  SIN_DATO  SIN_DATO  Norte   \n",
       "5  Teusaquillo  SIN_DATO  SIN_DATO  SIN_DATO  Norte   \n",
       "7      Kennedy  SIN_DATO  SIN_DATO  SIN_DATO  Norte   \n",
       "9         Suba        71      Años  FEMENINO  Norte   \n",
       "\n",
       "                              TIPO_INCIDENTE PRIORIDAD     MES  \\\n",
       "0     Inconsciente/Paro Cardiorrespiratorio       ALTA  AGOSTO   \n",
       "2                Accidente cerebro vascular       BAJA  AGOSTO   \n",
       "5  Accidente de tránsito con heridos/Muertos      ALTA  AGOSTO   \n",
       "7  Accidente de tránsito con heridos/Muertos      ALTA  AGOSTO   \n",
       "9                    Dificultad Respiratoria      ALTA  AGOSTO   \n",
       "\n",
       "  CLASIFICACION_FINAL  \n",
       "0           Cancelado  \n",
       "2           Cancelado  \n",
       "5           Cancelado  \n",
       "7           Cancelado  \n",
       "9            Traslado  "
      ]
     },
     "execution_count": 36,
     "metadata": {},
     "output_type": "execute_result"
    }
   ],
   "source": [
    "raw_data_agosto['LOCALIDAD'] = raw_data_agosto['LOCALIDAD'].apply(lambda x: x.strip())\n",
    "raw_data_agosto.head()"
   ]
  },
  {
   "cell_type": "code",
   "execution_count": 37,
   "id": "1f92e5bd-29b1-437b-904f-e2049a123bfa",
   "metadata": {},
   "outputs": [
    {
     "data": {
      "text/html": [
       "<div>\n",
       "<style scoped>\n",
       "    .dataframe tbody tr th:only-of-type {\n",
       "        vertical-align: middle;\n",
       "    }\n",
       "\n",
       "    .dataframe tbody tr th {\n",
       "        vertical-align: top;\n",
       "    }\n",
       "\n",
       "    .dataframe thead th {\n",
       "        text-align: right;\n",
       "    }\n",
       "</style>\n",
       "<table border=\"1\" class=\"dataframe\">\n",
       "  <thead>\n",
       "    <tr style=\"text-align: right;\">\n",
       "      <th></th>\n",
       "      <th>NUMERO_INCIDENTE</th>\n",
       "      <th>FECHA_INICIO_DESPLAZAMIENTO_MOVIL</th>\n",
       "      <th>CODIGO_LOCALIDAD</th>\n",
       "      <th>LOCALIDAD</th>\n",
       "      <th>EDAD</th>\n",
       "      <th>UNIDAD</th>\n",
       "      <th>GENERO</th>\n",
       "      <th>RED</th>\n",
       "      <th>TIPO_INCIDENTE</th>\n",
       "      <th>PRIORIDAD</th>\n",
       "    </tr>\n",
       "  </thead>\n",
       "  <tbody>\n",
       "    <tr>\n",
       "      <th>0</th>\n",
       "      <td>538006196</td>\n",
       "      <td>2019-09-01 00:05:32</td>\n",
       "      <td>18</td>\n",
       "      <td>Rafael Uribe Uribe</td>\n",
       "      <td>53</td>\n",
       "      <td>Años</td>\n",
       "      <td>MASCULINO</td>\n",
       "      <td>Sur</td>\n",
       "      <td>ACCIDENTE DE TRÁNSITO CON HERIDOS/MUERTOS</td>\n",
       "      <td>ALTA</td>\n",
       "    </tr>\n",
       "    <tr>\n",
       "      <th>1</th>\n",
       "      <td>538024196</td>\n",
       "      <td>2019-09-01 00:12:07</td>\n",
       "      <td>11</td>\n",
       "      <td>Suba</td>\n",
       "      <td>0</td>\n",
       "      <td>NaN</td>\n",
       "      <td>SIN_DATO</td>\n",
       "      <td>Norte</td>\n",
       "      <td>ACCIDENTE DE TRÁNSITO CON HERIDOS/MUERTOS</td>\n",
       "      <td>ALTA</td>\n",
       "    </tr>\n",
       "    <tr>\n",
       "      <th>2</th>\n",
       "      <td>538031196</td>\n",
       "      <td>2019-09-01 00:05:39</td>\n",
       "      <td>8</td>\n",
       "      <td>Kennedy</td>\n",
       "      <td>26</td>\n",
       "      <td>Años</td>\n",
       "      <td>MASCULINO</td>\n",
       "      <td>Norte</td>\n",
       "      <td>ACCIDENTE DE TRÁNSITO CON HERIDOS/MUERTOS</td>\n",
       "      <td>ALTA</td>\n",
       "    </tr>\n",
       "    <tr>\n",
       "      <th>3</th>\n",
       "      <td>538084196</td>\n",
       "      <td>2019-09-01 00:13:39</td>\n",
       "      <td>11</td>\n",
       "      <td>Suba</td>\n",
       "      <td>24</td>\n",
       "      <td>Años</td>\n",
       "      <td>MASCULINO</td>\n",
       "      <td>Norte</td>\n",
       "      <td>ACCIDENTE DE TRÁNSITO CON HERIDOS/MUERTOS</td>\n",
       "      <td>ALTA</td>\n",
       "    </tr>\n",
       "    <tr>\n",
       "      <th>4</th>\n",
       "      <td>538123196</td>\n",
       "      <td>2019-09-01 00:20:31</td>\n",
       "      <td>2</td>\n",
       "      <td>Chapinero</td>\n",
       "      <td>0</td>\n",
       "      <td>NaN</td>\n",
       "      <td>SIN_DATO</td>\n",
       "      <td>Norte</td>\n",
       "      <td>INCONSCIENTE/PARO CARDIORRESPIRATORIO</td>\n",
       "      <td>ALTA</td>\n",
       "    </tr>\n",
       "  </tbody>\n",
       "</table>\n",
       "</div>"
      ],
      "text/plain": [
       "   NUMERO_INCIDENTE FECHA_INICIO_DESPLAZAMIENTO_MOVIL  CODIGO_LOCALIDAD  \\\n",
       "0         538006196               2019-09-01 00:05:32                18   \n",
       "1         538024196               2019-09-01 00:12:07                11   \n",
       "2         538031196               2019-09-01 00:05:39                 8   \n",
       "3         538084196               2019-09-01 00:13:39                11   \n",
       "4         538123196               2019-09-01 00:20:31                 2   \n",
       "\n",
       "            LOCALIDAD  EDAD UNIDAD     GENERO    RED  \\\n",
       "0  Rafael Uribe Uribe    53   Años  MASCULINO    Sur   \n",
       "1                Suba     0    NaN   SIN_DATO  Norte   \n",
       "2             Kennedy    26   Años  MASCULINO  Norte   \n",
       "3                Suba    24   Años  MASCULINO  Norte   \n",
       "4           Chapinero     0    NaN   SIN_DATO  Norte   \n",
       "\n",
       "                              TIPO_INCIDENTE PRIORIDAD  \n",
       "0  ACCIDENTE DE TRÁNSITO CON HERIDOS/MUERTOS      ALTA  \n",
       "1  ACCIDENTE DE TRÁNSITO CON HERIDOS/MUERTOS      ALTA  \n",
       "2  ACCIDENTE DE TRÁNSITO CON HERIDOS/MUERTOS      ALTA  \n",
       "3  ACCIDENTE DE TRÁNSITO CON HERIDOS/MUERTOS      ALTA  \n",
       "4     INCONSCIENTE/PARO CARDIORRESPIRATORIO       ALTA  "
      ]
     },
     "execution_count": 37,
     "metadata": {},
     "output_type": "execute_result"
    }
   ],
   "source": [
    "raw_data_septiembre['LOCALIDAD'] = raw_data_septiembre['LOCALIDAD'].apply(lambda x: x.strip())\n",
    "raw_data_septiembre.head()"
   ]
  },
  {
   "cell_type": "code",
   "execution_count": 38,
   "id": "19156006-aa4e-4bf6-b48a-a7d6fa9f056e",
   "metadata": {},
   "outputs": [
    {
     "data": {
      "text/html": [
       "<div>\n",
       "<style scoped>\n",
       "    .dataframe tbody tr th:only-of-type {\n",
       "        vertical-align: middle;\n",
       "    }\n",
       "\n",
       "    .dataframe tbody tr th {\n",
       "        vertical-align: top;\n",
       "    }\n",
       "\n",
       "    .dataframe thead th {\n",
       "        text-align: right;\n",
       "    }\n",
       "</style>\n",
       "<table border=\"1\" class=\"dataframe\">\n",
       "  <thead>\n",
       "    <tr style=\"text-align: right;\">\n",
       "      <th></th>\n",
       "      <th>NUMERO_INCIDENTE</th>\n",
       "      <th>FECHA_INICIO_DESPLAZAMIENTO_MOVIL</th>\n",
       "      <th>CODIGO_LOCALIDAD</th>\n",
       "      <th>LOCALIDAD</th>\n",
       "      <th>EDAD</th>\n",
       "      <th>UNIDAD</th>\n",
       "      <th>GENERO</th>\n",
       "      <th>RED</th>\n",
       "      <th>TIPO_INCIDENTE</th>\n",
       "      <th>PRIORIDAD</th>\n",
       "    </tr>\n",
       "  </thead>\n",
       "  <tbody>\n",
       "    <tr>\n",
       "      <th>0</th>\n",
       "      <td>868419196</td>\n",
       "      <td>2019-10-01 00:06:29</td>\n",
       "      <td>9</td>\n",
       "      <td>Fontibon</td>\n",
       "      <td>SIN_DATO</td>\n",
       "      <td>NaN</td>\n",
       "      <td>NaN</td>\n",
       "      <td>Norte</td>\n",
       "      <td>Dolor torácico</td>\n",
       "      <td>ALTA</td>\n",
       "    </tr>\n",
       "    <tr>\n",
       "      <th>1</th>\n",
       "      <td>868421196</td>\n",
       "      <td>2019-10-01 00:19:40</td>\n",
       "      <td>10</td>\n",
       "      <td>Engativa</td>\n",
       "      <td>67</td>\n",
       "      <td>Años</td>\n",
       "      <td>MASCULINO</td>\n",
       "      <td>Norte</td>\n",
       "      <td>Heridos</td>\n",
       "      <td>ALTA</td>\n",
       "    </tr>\n",
       "    <tr>\n",
       "      <th>2</th>\n",
       "      <td>868438196</td>\n",
       "      <td>2019-10-01 00:13:20</td>\n",
       "      <td>4</td>\n",
       "      <td>San Cristobal</td>\n",
       "      <td>SIN_DATO</td>\n",
       "      <td>NaN</td>\n",
       "      <td>NaN</td>\n",
       "      <td>Sur</td>\n",
       "      <td>Inconsciente/Paro Cardiorrespiratorio</td>\n",
       "      <td>ALTA</td>\n",
       "    </tr>\n",
       "    <tr>\n",
       "      <th>3</th>\n",
       "      <td>944374194</td>\n",
       "      <td>2019-10-01 05:30:23</td>\n",
       "      <td>16</td>\n",
       "      <td>Puente Aranda</td>\n",
       "      <td>SIN_DATO</td>\n",
       "      <td>NaN</td>\n",
       "      <td>NaN</td>\n",
       "      <td>Privada</td>\n",
       "      <td>Convulsiones</td>\n",
       "      <td>ALTA</td>\n",
       "    </tr>\n",
       "    <tr>\n",
       "      <th>4</th>\n",
       "      <td>868476196</td>\n",
       "      <td>2019-10-01 00:42:45</td>\n",
       "      <td>5</td>\n",
       "      <td>Usme</td>\n",
       "      <td>5</td>\n",
       "      <td>Años</td>\n",
       "      <td>FEMENINO</td>\n",
       "      <td>Sur</td>\n",
       "      <td>Dificultad Respiratoria</td>\n",
       "      <td>ALTA</td>\n",
       "    </tr>\n",
       "  </tbody>\n",
       "</table>\n",
       "</div>"
      ],
      "text/plain": [
       "   NUMERO_INCIDENTE FECHA_INICIO_DESPLAZAMIENTO_MOVIL  CODIGO_LOCALIDAD  \\\n",
       "0         868419196               2019-10-01 00:06:29                 9   \n",
       "1         868421196               2019-10-01 00:19:40                10   \n",
       "2         868438196               2019-10-01 00:13:20                 4   \n",
       "3         944374194               2019-10-01 05:30:23                16   \n",
       "4         868476196               2019-10-01 00:42:45                 5   \n",
       "\n",
       "       LOCALIDAD      EDAD UNIDAD     GENERO      RED  \\\n",
       "0       Fontibon  SIN_DATO    NaN        NaN    Norte   \n",
       "1       Engativa        67   Años  MASCULINO    Norte   \n",
       "2  San Cristobal  SIN_DATO    NaN        NaN      Sur   \n",
       "3  Puente Aranda  SIN_DATO    NaN        NaN  Privada   \n",
       "4           Usme         5   Años   FEMENINO      Sur   \n",
       "\n",
       "                           TIPO_INCIDENTE PRIORIDAD  \n",
       "0                          Dolor torácico      ALTA  \n",
       "1                                Heridos       ALTA  \n",
       "2  Inconsciente/Paro Cardiorrespiratorio       ALTA  \n",
       "3                           Convulsiones       ALTA  \n",
       "4                 Dificultad Respiratoria      ALTA  "
      ]
     },
     "execution_count": 38,
     "metadata": {},
     "output_type": "execute_result"
    }
   ],
   "source": [
    "raw_data_octubre['LOCALIDAD'] = raw_data_octubre['LOCALIDAD'].apply(lambda x: x.strip())\n",
    "raw_data_octubre.head()"
   ]
  },
  {
   "cell_type": "code",
   "execution_count": 39,
   "id": "a14cdd9a-8726-42d9-95dc-9bdc0cdc6f24",
   "metadata": {},
   "outputs": [
    {
     "data": {
      "text/html": [
       "<div>\n",
       "<style scoped>\n",
       "    .dataframe tbody tr th:only-of-type {\n",
       "        vertical-align: middle;\n",
       "    }\n",
       "\n",
       "    .dataframe tbody tr th {\n",
       "        vertical-align: top;\n",
       "    }\n",
       "\n",
       "    .dataframe thead th {\n",
       "        text-align: right;\n",
       "    }\n",
       "</style>\n",
       "<table border=\"1\" class=\"dataframe\">\n",
       "  <thead>\n",
       "    <tr style=\"text-align: right;\">\n",
       "      <th></th>\n",
       "      <th>NUMERO_INCIDENTE</th>\n",
       "      <th>FECHA_INICIO_DESPLAZAMIENTO_MOVIL</th>\n",
       "      <th>CODIGO_LOCALIDAD</th>\n",
       "      <th>LOCALIDAD</th>\n",
       "      <th>EDAD</th>\n",
       "      <th>UNIDAD</th>\n",
       "      <th>GENERO</th>\n",
       "      <th>RED</th>\n",
       "      <th>TIPO_INCIDENTE</th>\n",
       "      <th>PRIORIDAD</th>\n",
       "    </tr>\n",
       "  </thead>\n",
       "  <tbody>\n",
       "    <tr>\n",
       "      <th>0</th>\n",
       "      <td>1129118194</td>\n",
       "      <td>2019-11-01 00:01:16</td>\n",
       "      <td>18</td>\n",
       "      <td>Rafael Uribe Uribe</td>\n",
       "      <td>0</td>\n",
       "      <td>SIN_DATO</td>\n",
       "      <td>SIN_DATO</td>\n",
       "      <td>Sur</td>\n",
       "      <td>Lesiones personales</td>\n",
       "      <td>ALTA</td>\n",
       "    </tr>\n",
       "    <tr>\n",
       "      <th>1</th>\n",
       "      <td>1129198194</td>\n",
       "      <td>2019-11-01 00:14:45</td>\n",
       "      <td>11</td>\n",
       "      <td>Suba</td>\n",
       "      <td>47</td>\n",
       "      <td>Años</td>\n",
       "      <td>MASCULINO</td>\n",
       "      <td>Norte</td>\n",
       "      <td>Accidente cerebro vascular</td>\n",
       "      <td>ALTA</td>\n",
       "    </tr>\n",
       "    <tr>\n",
       "      <th>2</th>\n",
       "      <td>1129241194</td>\n",
       "      <td>2019-11-01 00:16:15</td>\n",
       "      <td>2</td>\n",
       "      <td>Chapinero</td>\n",
       "      <td>33</td>\n",
       "      <td>Años</td>\n",
       "      <td>MASCULINO</td>\n",
       "      <td>Norte</td>\n",
       "      <td>Inconsciente/Paro Cardiorrespiratorio</td>\n",
       "      <td>ALTA</td>\n",
       "    </tr>\n",
       "    <tr>\n",
       "      <th>3</th>\n",
       "      <td>1129253194</td>\n",
       "      <td>2019-11-01 00:11:37</td>\n",
       "      <td>7</td>\n",
       "      <td>Bosa</td>\n",
       "      <td>5</td>\n",
       "      <td>Años</td>\n",
       "      <td>FEMENINO</td>\n",
       "      <td>Sur</td>\n",
       "      <td>Dificultad Respiratoria</td>\n",
       "      <td>ALTA</td>\n",
       "    </tr>\n",
       "    <tr>\n",
       "      <th>4</th>\n",
       "      <td>1129258194</td>\n",
       "      <td>2019-11-01 00:16:28</td>\n",
       "      <td>11</td>\n",
       "      <td>Suba</td>\n",
       "      <td>43</td>\n",
       "      <td>Años</td>\n",
       "      <td>FEMENINO</td>\n",
       "      <td>Norte</td>\n",
       "      <td>Dolor torácico</td>\n",
       "      <td>ALTA</td>\n",
       "    </tr>\n",
       "  </tbody>\n",
       "</table>\n",
       "</div>"
      ],
      "text/plain": [
       "  NUMERO_INCIDENTE FECHA_INICIO_DESPLAZAMIENTO_MOVIL  CODIGO_LOCALIDAD  \\\n",
       "0       1129118194               2019-11-01 00:01:16                18   \n",
       "1       1129198194               2019-11-01 00:14:45                11   \n",
       "2       1129241194               2019-11-01 00:16:15                 2   \n",
       "3       1129253194               2019-11-01 00:11:37                 7   \n",
       "4       1129258194               2019-11-01 00:16:28                11   \n",
       "\n",
       "            LOCALIDAD  EDAD    UNIDAD     GENERO    RED  \\\n",
       "0  Rafael Uribe Uribe     0  SIN_DATO   SIN_DATO    Sur   \n",
       "1                Suba    47      Años  MASCULINO  Norte   \n",
       "2           Chapinero    33      Años  MASCULINO  Norte   \n",
       "3                Bosa     5      Años   FEMENINO    Sur   \n",
       "4                Suba    43      Años   FEMENINO  Norte   \n",
       "\n",
       "                              TIPO_INCIDENTE PRIORIDAD  \n",
       "0                     Lesiones personales         ALTA  \n",
       "1             Accidente cerebro vascular          ALTA  \n",
       "2  Inconsciente/Paro Cardiorrespiratorio          ALTA  \n",
       "3                 Dificultad Respiratoria         ALTA  \n",
       "4                          Dolor torácico         ALTA  "
      ]
     },
     "execution_count": 39,
     "metadata": {},
     "output_type": "execute_result"
    }
   ],
   "source": [
    "raw_data_noviembre['LOCALIDAD'] = raw_data_noviembre['LOCALIDAD'].apply(lambda x: x.strip())\n",
    "raw_data_noviembre.head()"
   ]
  },
  {
   "cell_type": "code",
   "execution_count": 40,
   "id": "413ee55a-f55f-4dfb-8593-d6fa5fd3c5dc",
   "metadata": {},
   "outputs": [
    {
     "data": {
      "text/html": [
       "<div>\n",
       "<style scoped>\n",
       "    .dataframe tbody tr th:only-of-type {\n",
       "        vertical-align: middle;\n",
       "    }\n",
       "\n",
       "    .dataframe tbody tr th {\n",
       "        vertical-align: top;\n",
       "    }\n",
       "\n",
       "    .dataframe thead th {\n",
       "        text-align: right;\n",
       "    }\n",
       "</style>\n",
       "<table border=\"1\" class=\"dataframe\">\n",
       "  <thead>\n",
       "    <tr style=\"text-align: right;\">\n",
       "      <th></th>\n",
       "      <th>NUMERO_INCIDENTE</th>\n",
       "      <th>FECHA_INICIO_DESPLAZAMIENTO_MOVIL</th>\n",
       "      <th>CODIGO_LOCALIDAD</th>\n",
       "      <th>LOCALIDAD</th>\n",
       "      <th>EDAD</th>\n",
       "      <th>UNIDAD</th>\n",
       "      <th>GENERO</th>\n",
       "      <th>RED</th>\n",
       "      <th>TIPO_INCIDENTE</th>\n",
       "      <th>PRIORIDAD</th>\n",
       "    </tr>\n",
       "  </thead>\n",
       "  <tbody>\n",
       "    <tr>\n",
       "      <th>0</th>\n",
       "      <td>1178693196</td>\n",
       "      <td>2019-12-01 03:18:23</td>\n",
       "      <td>8</td>\n",
       "      <td>Kennedy</td>\n",
       "      <td>14</td>\n",
       "      <td>Años</td>\n",
       "      <td>MASCULINO</td>\n",
       "      <td>Privada</td>\n",
       "      <td>Accidente Tránsito con Heridos/Muertos</td>\n",
       "      <td>ALTA</td>\n",
       "    </tr>\n",
       "    <tr>\n",
       "      <th>1</th>\n",
       "      <td>1176480196</td>\n",
       "      <td>2019-12-01 00:05:59</td>\n",
       "      <td>5</td>\n",
       "      <td>Usme</td>\n",
       "      <td>0</td>\n",
       "      <td>SIN/DATO</td>\n",
       "      <td>SIN/DATO</td>\n",
       "      <td>Sur</td>\n",
       "      <td>Accidente Tránsito con Heridos/Muertos</td>\n",
       "      <td>ALTA</td>\n",
       "    </tr>\n",
       "    <tr>\n",
       "      <th>2</th>\n",
       "      <td>1180282196</td>\n",
       "      <td>2019-12-01 05:37:10</td>\n",
       "      <td>7</td>\n",
       "      <td>Bosa</td>\n",
       "      <td>32</td>\n",
       "      <td>Años</td>\n",
       "      <td>MASCULINO</td>\n",
       "      <td>Privada</td>\n",
       "      <td>Accidente Tránsito con Heridos/Muertos</td>\n",
       "      <td>ALTA</td>\n",
       "    </tr>\n",
       "    <tr>\n",
       "      <th>3</th>\n",
       "      <td>1176520196</td>\n",
       "      <td>2019-12-01 00:07:43</td>\n",
       "      <td>3</td>\n",
       "      <td>Santa Fe</td>\n",
       "      <td>0</td>\n",
       "      <td>SIN/DATO</td>\n",
       "      <td>SIN/DATO</td>\n",
       "      <td>Norte</td>\n",
       "      <td>Lesiones Personales</td>\n",
       "      <td>ALTA</td>\n",
       "    </tr>\n",
       "    <tr>\n",
       "      <th>4</th>\n",
       "      <td>1180873196</td>\n",
       "      <td>2019-12-01 07:14:08</td>\n",
       "      <td>5</td>\n",
       "      <td>Usme</td>\n",
       "      <td>53</td>\n",
       "      <td>Años</td>\n",
       "      <td>FEMENINO</td>\n",
       "      <td>Privada</td>\n",
       "      <td>Accidente Tránsito con Heridos/Muertos</td>\n",
       "      <td>ALTA</td>\n",
       "    </tr>\n",
       "  </tbody>\n",
       "</table>\n",
       "</div>"
      ],
      "text/plain": [
       "  NUMERO_INCIDENTE FECHA_INICIO_DESPLAZAMIENTO_MOVIL  CODIGO_LOCALIDAD  \\\n",
       "0       1178693196               2019-12-01 03:18:23                 8   \n",
       "1       1176480196               2019-12-01 00:05:59                 5   \n",
       "2       1180282196               2019-12-01 05:37:10                 7   \n",
       "3       1176520196               2019-12-01 00:07:43                 3   \n",
       "4       1180873196               2019-12-01 07:14:08                 5   \n",
       "\n",
       "  LOCALIDAD  EDAD    UNIDAD     GENERO      RED  \\\n",
       "0   Kennedy    14      Años  MASCULINO  Privada   \n",
       "1      Usme     0  SIN/DATO   SIN/DATO      Sur   \n",
       "2      Bosa    32      Años  MASCULINO  Privada   \n",
       "3  Santa Fe     0  SIN/DATO   SIN/DATO    Norte   \n",
       "4      Usme    53      Años   FEMENINO  Privada   \n",
       "\n",
       "                           TIPO_INCIDENTE PRIORIDAD  \n",
       "0  Accidente Tránsito con Heridos/Muertos      ALTA  \n",
       "1  Accidente Tránsito con Heridos/Muertos      ALTA  \n",
       "2  Accidente Tránsito con Heridos/Muertos      ALTA  \n",
       "3                     Lesiones Personales      ALTA  \n",
       "4  Accidente Tránsito con Heridos/Muertos      ALTA  "
      ]
     },
     "execution_count": 40,
     "metadata": {},
     "output_type": "execute_result"
    }
   ],
   "source": [
    "raw_data_diciembre['LOCALIDAD'] = raw_data_diciembre['LOCALIDAD'].apply(lambda x: x.strip())\n",
    "raw_data_diciembre.head()"
   ]
  },
  {
   "cell_type": "code",
   "execution_count": 41,
   "id": "b5aa9b7c-84da-439f-b864-1a93351547ca",
   "metadata": {},
   "outputs": [
    {
     "data": {
      "text/html": [
       "<div>\n",
       "<style scoped>\n",
       "    .dataframe tbody tr th:only-of-type {\n",
       "        vertical-align: middle;\n",
       "    }\n",
       "\n",
       "    .dataframe tbody tr th {\n",
       "        vertical-align: top;\n",
       "    }\n",
       "\n",
       "    .dataframe thead th {\n",
       "        text-align: right;\n",
       "    }\n",
       "</style>\n",
       "<table border=\"1\" class=\"dataframe\">\n",
       "  <thead>\n",
       "    <tr style=\"text-align: right;\">\n",
       "      <th></th>\n",
       "      <th>NUMERO_INCIDENTE</th>\n",
       "      <th>FECHA_INICIO_DESPLAZAMIENTO_MOVIL</th>\n",
       "      <th>CODIGO_LOCALIDAD</th>\n",
       "      <th>LOCALIDAD</th>\n",
       "      <th>EDAD</th>\n",
       "      <th>UNIDAD</th>\n",
       "      <th>GENERO</th>\n",
       "      <th>RED</th>\n",
       "      <th>TIPO_INCIDENTE</th>\n",
       "      <th>PRIORIDAD</th>\n",
       "    </tr>\n",
       "  </thead>\n",
       "  <tbody>\n",
       "    <tr>\n",
       "      <th>0</th>\n",
       "      <td>CRU-00000002-20</td>\n",
       "      <td>2020-01-01 00:13:40</td>\n",
       "      <td>19</td>\n",
       "      <td>Ciudad Bolívar</td>\n",
       "      <td>0</td>\n",
       "      <td>SIN_DATO</td>\n",
       "      <td>SIN_DATO</td>\n",
       "      <td>Sur</td>\n",
       "      <td>Heridos</td>\n",
       "      <td>2</td>\n",
       "    </tr>\n",
       "    <tr>\n",
       "      <th>1</th>\n",
       "      <td>CRU-00000002-20</td>\n",
       "      <td>2020-01-01 00:13:40</td>\n",
       "      <td>19</td>\n",
       "      <td>Ciudad Bolívar</td>\n",
       "      <td>0</td>\n",
       "      <td>SIN_DATO</td>\n",
       "      <td>SIN_DATO</td>\n",
       "      <td>Sur</td>\n",
       "      <td>Heridos</td>\n",
       "      <td>2</td>\n",
       "    </tr>\n",
       "    <tr>\n",
       "      <th>2</th>\n",
       "      <td>CRU-00000005-20</td>\n",
       "      <td>2020-01-01 00:15:14</td>\n",
       "      <td>14</td>\n",
       "      <td>Los Mártires</td>\n",
       "      <td>0</td>\n",
       "      <td>SIN_DATO</td>\n",
       "      <td>SIN_DATO</td>\n",
       "      <td>Norte</td>\n",
       "      <td>Inconsciente/Paro Cardiorrespiratorio</td>\n",
       "      <td>1</td>\n",
       "    </tr>\n",
       "    <tr>\n",
       "      <th>3</th>\n",
       "      <td>CRU-00000024-20</td>\n",
       "      <td>2020-01-01 00:20:50</td>\n",
       "      <td>11</td>\n",
       "      <td>Suba</td>\n",
       "      <td>58</td>\n",
       "      <td>Años</td>\n",
       "      <td>MASCULINO</td>\n",
       "      <td>Norte</td>\n",
       "      <td>Inconsciente/Paro Cardiorrespiratorio</td>\n",
       "      <td>1</td>\n",
       "    </tr>\n",
       "    <tr>\n",
       "      <th>4</th>\n",
       "      <td>CRU-00000036-20</td>\n",
       "      <td>2020-01-01 00:26:05</td>\n",
       "      <td>10</td>\n",
       "      <td>Engativá</td>\n",
       "      <td>0</td>\n",
       "      <td>SIN_DATO</td>\n",
       "      <td>SIN_DATO</td>\n",
       "      <td>Norte</td>\n",
       "      <td>Inconsciente/Paro Cardiorrespiratorio</td>\n",
       "      <td>1</td>\n",
       "    </tr>\n",
       "  </tbody>\n",
       "</table>\n",
       "</div>"
      ],
      "text/plain": [
       "  NUMERO_INCIDENTE FECHA_INICIO_DESPLAZAMIENTO_MOVIL  CODIGO_LOCALIDAD  \\\n",
       "0  CRU-00000002-20               2020-01-01 00:13:40                19   \n",
       "1  CRU-00000002-20               2020-01-01 00:13:40                19   \n",
       "2  CRU-00000005-20               2020-01-01 00:15:14                14   \n",
       "3  CRU-00000024-20               2020-01-01 00:20:50                11   \n",
       "4  CRU-00000036-20               2020-01-01 00:26:05                10   \n",
       "\n",
       "        LOCALIDAD  EDAD    UNIDAD     GENERO    RED  \\\n",
       "0  Ciudad Bolívar     0  SIN_DATO   SIN_DATO    Sur   \n",
       "1  Ciudad Bolívar     0  SIN_DATO   SIN_DATO    Sur   \n",
       "2    Los Mártires     0  SIN_DATO   SIN_DATO  Norte   \n",
       "3            Suba    58      Años  MASCULINO  Norte   \n",
       "4        Engativá     0  SIN_DATO   SIN_DATO  Norte   \n",
       "\n",
       "                           TIPO_INCIDENTE  PRIORIDAD  \n",
       "0                                Heridos           2  \n",
       "1                                Heridos           2  \n",
       "2  Inconsciente/Paro Cardiorrespiratorio           1  \n",
       "3  Inconsciente/Paro Cardiorrespiratorio           1  \n",
       "4  Inconsciente/Paro Cardiorrespiratorio           1  "
      ]
     },
     "execution_count": 41,
     "metadata": {},
     "output_type": "execute_result"
    }
   ],
   "source": [
    "raw_data_enero['LOCALIDAD'] = raw_data_enero['LOCALIDAD'].apply(lambda x: x.strip())\n",
    "raw_data_enero.head()"
   ]
  },
  {
   "cell_type": "code",
   "execution_count": 43,
   "id": "97538a9e-6dfc-4763-b856-d6916aa8f0d1",
   "metadata": {},
   "outputs": [
    {
     "data": {
      "text/plain": [
       "SIN_DATO     5938\n",
       "MASCULINO    4172\n",
       "FEMENINO     3732\n",
       "Name: GENERO, dtype: int64"
      ]
     },
     "execution_count": 43,
     "metadata": {},
     "output_type": "execute_result"
    }
   ],
   "source": [
    "col = 'GENERO'\n",
    "raw_data_julio[col] = raw_data_julio[col].apply(lambda x: x.strip())\n",
    "raw_data_julio[col].value_counts(dropna=False) "
   ]
  },
  {
   "cell_type": "code",
   "execution_count": 44,
   "id": "c058742f-205a-41d5-9009-246bc1f23832",
   "metadata": {},
   "outputs": [
    {
     "data": {
      "text/plain": [
       "SIN_DATO     7326\n",
       "MASCULINO    5120\n",
       "FEMENINO     4361\n",
       "Name: GENERO, dtype: int64"
      ]
     },
     "execution_count": 44,
     "metadata": {},
     "output_type": "execute_result"
    }
   ],
   "source": [
    "col = 'GENERO'\n",
    "raw_data_agosto[col] = raw_data_agosto[col].apply(lambda x: x.strip())\n",
    "raw_data_agosto[col].value_counts(dropna=False) "
   ]
  },
  {
   "cell_type": "code",
   "execution_count": 45,
   "id": "43137aec-a441-4904-becf-697610a75fe5",
   "metadata": {},
   "outputs": [
    {
     "data": {
      "text/plain": [
       "SIN_DATO     6906\n",
       "MASCULINO    5068\n",
       "FEMENINO     4293\n",
       "Name: GENERO, dtype: int64"
      ]
     },
     "execution_count": 45,
     "metadata": {},
     "output_type": "execute_result"
    }
   ],
   "source": [
    "col = 'GENERO'\n",
    "raw_data_septiembre[col] = raw_data_septiembre[col].apply(lambda x: x.strip())\n",
    "raw_data_septiembre[col].value_counts(dropna=False) "
   ]
  },
  {
   "cell_type": "code",
   "execution_count": 47,
   "id": "58ea7bd6-74a4-4901-a1c1-fd762faa12c7",
   "metadata": {},
   "outputs": [
    {
     "data": {
      "text/plain": [
       "SIN_DATO     6998\n",
       "MASCULINO    4841\n",
       "FEMENINO     4047\n",
       "Name: GENERO, dtype: int64"
      ]
     },
     "execution_count": 47,
     "metadata": {},
     "output_type": "execute_result"
    }
   ],
   "source": [
    "col = 'GENERO'\n",
    "raw_data_noviembre[col] = raw_data_noviembre[col].apply(lambda x: x.strip())\n",
    "raw_data_noviembre[col].value_counts(dropna=False) "
   ]
  },
  {
   "cell_type": "code",
   "execution_count": 48,
   "id": "90fa6fd2-d5fb-461d-9c1e-5ba20add422b",
   "metadata": {},
   "outputs": [
    {
     "data": {
      "text/plain": [
       "SIN/DATO     8241\n",
       "MASCULINO    4383\n",
       "FEMENINO     3538\n",
       "Name: GENERO, dtype: int64"
      ]
     },
     "execution_count": 48,
     "metadata": {},
     "output_type": "execute_result"
    }
   ],
   "source": [
    "col = 'GENERO'\n",
    "raw_data_diciembre[col] = raw_data_diciembre[col].apply(lambda x: x.strip())\n",
    "raw_data_diciembre[col].value_counts(dropna=False) "
   ]
  },
  {
   "cell_type": "code",
   "execution_count": 49,
   "id": "62613038-562d-4661-b1b3-4ae3b4cf576e",
   "metadata": {},
   "outputs": [
    {
     "data": {
      "text/plain": [
       "SIN_DATO     7003\n",
       "MASCULINO    4521\n",
       "FEMENINO     3780\n",
       "Name: GENERO, dtype: int64"
      ]
     },
     "execution_count": 49,
     "metadata": {},
     "output_type": "execute_result"
    }
   ],
   "source": [
    "col = 'GENERO'\n",
    "raw_data_enero[col] = raw_data_enero[col].apply(lambda x: x.strip())\n",
    "raw_data_enero[col].value_counts(dropna=False) "
   ]
  },
  {
   "cell_type": "code",
   "execution_count": 50,
   "id": "a6d04a23-5355-4386-9e00-52c538d4b406",
   "metadata": {},
   "outputs": [
    {
     "data": {
      "text/plain": [
       "Accidente de tránsito con heridos/Muertos    3993\n",
       "Inconsciente/Paro Cardiorrespiratorio        1540\n",
       "Dificultad Respiratoria                      1364\n",
       "Enfermo                                      1078\n",
       "Convulsiones                                  961\n",
       "Heridos                                       722\n",
       "Trastorno mental                              684\n",
       "Dolor torácico                                587\n",
       "Intento de suicidio                           508\n",
       "Lesiones personales                           502\n",
       "Patología Gineco - obstétrica                 411\n",
       "Síntomas gastrointestinales                   333\n",
       "Accidente cerebro vascular                    313\n",
       "Caída                                         306\n",
       "Intoxicaciones                                126\n",
       "Ideas de suicidio                             107\n",
       "Violencia Sexual                               40\n",
       "SIN_DATO                                       37\n",
       "Muerte Natural                                 36\n",
       "Incendio estructural                           27\n",
       "Solicitud Apoyo / Desacato                     26\n",
       "Sangrado Vaginal                               19\n",
       "Accidente Tránsito Simple                      14\n",
       "Riña                                           11\n",
       "Amenaza de Ruina                               10\n",
       "Quemaduras                                      9\n",
       "Incendio Vehicular                              7\n",
       "Rescates                                        6\n",
       "Abrir domicilio                                 6\n",
       "Elemento caído y/o en peligro de caer.          6\n",
       "Electrocución / Rescate                         5\n",
       "Fuga de Gas Natural o Propano                   5\n",
       "MATPEL (Materiales peligrosos)                  5\n",
       "Animal Peligroso                                5\n",
       "Maltrato                                        5\n",
       "Disparos                                        4\n",
       "Muerto                                          3\n",
       "Persona Pidiendo Auxilio                        3\n",
       "Explosión                                       3\n",
       "Deslizamiento                                   3\n",
       "Embriaguez                                      3\n",
       "Persona tendida en la vía                       2\n",
       "Habitante de la Calle                           2\n",
       "Extraviados / Desaparecidos                     1\n",
       "Incidente rescate acuático                      1\n",
       "Venta o Consumo alcohol u otro en Menor         1\n",
       "Atraco / Hurto en Proces                        1\n",
       "Rescates Montaña                                1\n",
       "Name: TIPO_INCIDENTE, dtype: int64"
      ]
     },
     "execution_count": 50,
     "metadata": {},
     "output_type": "execute_result"
    }
   ],
   "source": [
    "col = 'TIPO_INCIDENTE'\n",
    "raw_data_julio[col] = raw_data_julio[col].apply(lambda x: x.strip())\n",
    "raw_data_julio[col].value_counts(dropna=False)"
   ]
  },
  {
   "cell_type": "code",
   "execution_count": 51,
   "id": "0c2ba1a5-0e6e-431b-81ff-29627def3092",
   "metadata": {},
   "outputs": [
    {
     "data": {
      "text/plain": [
       "Accidente de tránsito con heridos/Muertos    6181\n",
       "Inconsciente/Paro Cardiorrespiratorio        1763\n",
       "Dificultad Respiratoria                      1443\n",
       "Enfermo                                      1166\n",
       "Convulsiones                                 1046\n",
       "Heridos                                       801\n",
       "Trastorno mental                              657\n",
       "Lesiones personales                           649\n",
       "Dolor torácico                                592\n",
       "Intento de suicidio                           515\n",
       "Síntomas gastrointestinales                   395\n",
       "Accidente cerebro vascular                    368\n",
       "Patología Gineco - obstétrica                 329\n",
       "Caída                                         278\n",
       "Intoxicaciones                                170\n",
       "Ideas de suicidio                              94\n",
       "SIN_DATO                                       50\n",
       "Incendio estructural                           47\n",
       "Violencia Sexual                               33\n",
       "Muerte Natural                                 31\n",
       "Riña                                           21\n",
       "Solicitud Apoyo / Desacato                     20\n",
       "Accidente Tránsito Simple                      18\n",
       "Sangrado Vaginal                               14\n",
       "Quemaduras                                     14\n",
       "Electrocución / Rescate                         9\n",
       "Abrir domicilio                                 8\n",
       "Fuga de Gas Natural o Propano                   8\n",
       "Incidente rescate acuático                      7\n",
       "Elemento caído y/o en peligro de caer.          7\n",
       "Manifestación / Motín                           7\n",
       "MATPEL (Materiales peligrosos)                  7\n",
       "Maltrato                                        6\n",
       "Animal Peligroso                                5\n",
       "Embriaguez                                      5\n",
       "Rescates                                        5\n",
       "Explosión                                       4\n",
       "Deslizamiento                                   3\n",
       "Disparos                                        3\n",
       "Muerto                                          3\n",
       "Hurto Efectuado                                 3\n",
       "Abejas                                          3\n",
       "Persona tendida en la vía                       3\n",
       "Extraviados / Desaparecidos                     3\n",
       "Menor o persona Abandonada                      2\n",
       "Amenaza de Ruina                                2\n",
       "Atraco / Hurto en Proces                        2\n",
       "Incendio Vehicular                              2\n",
       "Incendio con MATPEL                             2\n",
       "Habitante de la Calle                           1\n",
       "Incendio                                        1\n",
       "Persona Pidiendo Auxilio                        1\n",
       "Name: TIPO_INCIDENTE, dtype: int64"
      ]
     },
     "execution_count": 51,
     "metadata": {},
     "output_type": "execute_result"
    }
   ],
   "source": [
    "col = 'TIPO_INCIDENTE'\n",
    "raw_data_agosto[col] = raw_data_agosto[col].apply(lambda x: x.strip())\n",
    "raw_data_agosto[col].value_counts(dropna=False)"
   ]
  },
  {
   "cell_type": "code",
   "execution_count": 52,
   "id": "6c580095-17d5-4e88-8a44-d273193bc60d",
   "metadata": {},
   "outputs": [
    {
     "data": {
      "text/plain": [
       "ACCIDENTE DE TRÁNSITO CON HERIDOS/MUERTOS    5956\n",
       "INCONSCIENTE/PARO CARDIORRESPIRATORIO        1661\n",
       "DIFICULTAD RESPIRATORIA                      1342\n",
       "ENFERMO                                      1098\n",
       "CONVULSIONES                                  987\n",
       "HERIDOS                                       813\n",
       "INTENTO DE SUICIDIO                           631\n",
       "TRASTORNO MENTAL                              604\n",
       "DOLOR TORÁCICO                                598\n",
       "LESIONES PERSONALES                           564\n",
       "PATOLOGÍA GINECO - OBSTÉTRICA                 406\n",
       "SÍNTOMAS GASTROINTESTINALES                   350\n",
       "ACCIDENTE CEREBRO VASCULAR                    344\n",
       "CAÍDA                                         324\n",
       "INTOXICACIONES                                150\n",
       "IDEAS DE SUICIDIO                             113\n",
       "VIOLENCIA SEXUAL                               46\n",
       "INCENDIO ESTRUCTURAL                           38\n",
       "SIN_DATO                                       32\n",
       "SANGRADO VAGINAL                               25\n",
       "ACCIDENTE TRÁNSITO SIMPLE                      23\n",
       "RESCATES                                       19\n",
       "MUERTE NATURAL                                 18\n",
       "ELEMENTO CAÍDO Y/O EN PELIGRO DE CAER.         16\n",
       "SOLICITUD APOYO / DESACATO                     15\n",
       "RIÑA                                           13\n",
       "EXPLOSIÓN                                      10\n",
       "ABRIR DOMICILIO                                 8\n",
       "QUEMADURAS                                      7\n",
       "FUGA DE GAS NATURAL O PROPANO                   6\n",
       "ELECTROCUCIÓN / RESCATE                         5\n",
       "PERSONA PIDIENDO AUXILIO                        5\n",
       "ANIMAL PELIGROSO                                4\n",
       "MANIFESTACIÓN / MOTÍN                           4\n",
       "INCIDENTE RESCATE ACUÁTICO                      4\n",
       "INCENDIO VEHICULAR                              3\n",
       "MALTRATO                                        3\n",
       "EMBRIAGUEZ                                      3\n",
       "ATRACO / HURTO EN PROCES                        3\n",
       "INUNDACIÓN                                      2\n",
       "PERSONA TENDIDA EN LA VÍA                       2\n",
       "DAÑOS EN SERVICIOS                              2\n",
       "MUERTO                                          2\n",
       "INCENDIO                                        1\n",
       "VERIFICAR SITUACIÓN                             1\n",
       "RESCATES MONTAÑA                                1\n",
       "HABITANTE DE LA CALLE                           1\n",
       "PREVENCIÓN                                      1\n",
       "INCENDIO FORESTAL                               1\n",
       "DESLIZAMIENTO                                   1\n",
       "DELINCUENTE CAPTURADO POR CIVIL                 1\n",
       "Name: TIPO_INCIDENTE, dtype: int64"
      ]
     },
     "execution_count": 52,
     "metadata": {},
     "output_type": "execute_result"
    }
   ],
   "source": [
    "col = 'TIPO_INCIDENTE'\n",
    "raw_data_septiembre[col] = raw_data_septiembre[col].apply(lambda x: x.strip())\n",
    "raw_data_septiembre[col].value_counts(dropna=False)"
   ]
  },
  {
   "cell_type": "code",
   "execution_count": 53,
   "id": "2d60258a-de94-4a34-9614-70237e466280",
   "metadata": {},
   "outputs": [
    {
     "data": {
      "text/plain": [
       "Accidente de tránsito con heridos/Muertos    6015\n",
       "Inconsciente/Paro Cardiorrespiratorio        1622\n",
       "Dificultad Respiratoria                      1420\n",
       "Enfermo                                      1194\n",
       "Convulsiones                                 1035\n",
       "Heridos                                       772\n",
       "Dolor torácico                                675\n",
       "Trastorno mental                              627\n",
       "Intento de suicidio                           594\n",
       "Lesiones personales                           560\n",
       "Accidente cerebro vascular                    374\n",
       "Patología Gineco - obstétrica                 362\n",
       "Síntomas gastrointestinales                   359\n",
       "Caída                                         300\n",
       "Intoxicaciones                                159\n",
       "Ideas de suicidio                             101\n",
       "SIN_DATO                                       54\n",
       "Incendio estructural                           41\n",
       "Muerte Natural                                 33\n",
       "Solicitud Apoyo / Desacato                     30\n",
       "Violencia Sexual                               29\n",
       "Quemaduras                                     27\n",
       "Sangrado Vaginal                               19\n",
       "Explosión                                      17\n",
       "Electrocución / Rescate                        16\n",
       "Rescates                                       16\n",
       "Riña                                           13\n",
       "Accidente Tránsito Simple                      10\n",
       "Verificar Situación                            10\n",
       "Fuga de Gas Natural o Propano                   8\n",
       "Incendio Vehicular                              7\n",
       "Persona Pidiendo Auxilio                        7\n",
       "Abrir domicilio                                 6\n",
       "Incidente rescate acuático                      6\n",
       "Atraco / Hurto en Proces                        5\n",
       "MATPEL (Materiales peligrosos)                  5\n",
       "Maltrato                                        4\n",
       "Menor o persona Abandonada                      4\n",
       "Elemento caído y/o en peligro de caer.          3\n",
       "Manifestación / Motín                           3\n",
       "PSICOLOGIA                                      2\n",
       "Muerto                                          2\n",
       "Vehiculo Hurtado                                2\n",
       "Disparos                                        2\n",
       "Prevención                                      2\n",
       "Incendio con MATPEL                             2\n",
       "Abejas                                          1\n",
       "Embriaguez                                      1\n",
       "Incendio                                        1\n",
       "Animal Peligroso                                1\n",
       "Extraviados / Desaparecidos                     1\n",
       "Name: TIPO_INCIDENTE, dtype: int64"
      ]
     },
     "execution_count": 53,
     "metadata": {},
     "output_type": "execute_result"
    }
   ],
   "source": [
    "col = 'TIPO_INCIDENTE'\n",
    "raw_data_octubre[col] = raw_data_octubre[col].apply(lambda x: x.strip())\n",
    "raw_data_octubre[col].value_counts(dropna=False)"
   ]
  },
  {
   "cell_type": "code",
   "execution_count": 54,
   "id": "b382ad49-5f64-4833-ba9f-bdfc7de3afc5",
   "metadata": {},
   "outputs": [
    {
     "data": {
      "text/plain": [
       "Accidente de tránsito con heridos/Muertos    5568\n",
       "Inconsciente/Paro Cardiorrespiratorio        1584\n",
       "Dificultad Respiratoria                      1399\n",
       "Enfermo                                      1064\n",
       "Convulsiones                                  977\n",
       "Heridos                                       727\n",
       "Lesiones personales                           673\n",
       "Trastorno mental                              599\n",
       "Intento de suicidio                           598\n",
       "Dolor torácico                                576\n",
       "Patología Gineco - obstétrica                 372\n",
       "Síntomas gastrointestinales                   353\n",
       "Caída                                         345\n",
       "Accidente cerebro vascular                    317\n",
       "Intoxicaciones                                134\n",
       "SIN_DATO                                      120\n",
       "Ideas de suicidio                              90\n",
       "Solicitud Apoyo / Desacato                     82\n",
       "Incendio estructural                           48\n",
       "Muerte Natural                                 41\n",
       "Violencia Sexual                               24\n",
       "Quemaduras                                     21\n",
       "Sangrado Vaginal                               18\n",
       "Rescates                                       16\n",
       "MATPEL (Materiales peligrosos)                 14\n",
       "Incidente rescate acuático                     13\n",
       "Riña                                           13\n",
       "Electrocución / Rescate                         9\n",
       "Accidente Tránsito Simple                       9\n",
       "Incendio Vehicular                              8\n",
       "Elemento caído y/o en peligro de caer.          7\n",
       "Explosión                                       7\n",
       "Persona Pidiendo Auxilio                        7\n",
       "Fuga de Gas Natural o Propano                   6\n",
       "Manifestación / Motín                           6\n",
       "Atraco / Hurto en Proces                        6\n",
       "Animal Peligroso                                5\n",
       "Abrir domicilio                                 5\n",
       "Menor o persona Abandonada                      4\n",
       "Persona tendida en la vía                       4\n",
       "Muerto                                          4\n",
       "Embriaguez                                      3\n",
       "Disparos                                        3\n",
       "PSICOLOGIA                                      2\n",
       "Maltrato                                        2\n",
       "Verificar Situación                             1\n",
       "Delincuente capturado por civil                 1\n",
       "Deslizamiento                                   1\n",
       "Name: TIPO_INCIDENTE, dtype: int64"
      ]
     },
     "execution_count": 54,
     "metadata": {},
     "output_type": "execute_result"
    }
   ],
   "source": [
    "col = 'TIPO_INCIDENTE'\n",
    "raw_data_noviembre[col] = raw_data_noviembre[col].apply(lambda x: x.strip())\n",
    "raw_data_noviembre[col].value_counts(dropna=False)"
   ]
  },
  {
   "cell_type": "code",
   "execution_count": 55,
   "id": "4f66d457-0e39-44ac-97d3-917f0b502f70",
   "metadata": {},
   "outputs": [
    {
     "data": {
      "text/plain": [
       "Heridos accidentales                      7346\n",
       "Inconsciente / paro cardiorespiratorio    1738\n",
       "Evento respiratorio                       1399\n",
       "Convulsión                                1024\n",
       "Enfermo                                    868\n",
       "Trastorno mental                           646\n",
       "Dolor torácico                             610\n",
       "Intento de Suicidio                        538\n",
       "Caída de Altura                            376\n",
       "Patología ginecobstétrica                  368\n",
       "Accidente Cerebro\\nVascular                365\n",
       "Síntomas gastrointestinales                275\n",
       "Intoxicación                               152\n",
       "S/D                                        136\n",
       "Accidente Tránsito con Heridos/Muertos     108\n",
       "Amenaza de\\nSuicidio                        94\n",
       "Violencia Sexual                            28\n",
       "Sangrado Vaginal                            24\n",
       "Lesiones Personales                         23\n",
       "Quemaduras                                  16\n",
       "Electrocución / Rescate                      9\n",
       "Accidente Cerebro Vascular (ACV)             7\n",
       "Maltrato                                     7\n",
       "Incendio estructural                         2\n",
       "Muerte Natural                               2\n",
       "Accidente de Aviación                        1\n",
       "Name: TIPO_INCIDENTE, dtype: int64"
      ]
     },
     "execution_count": 55,
     "metadata": {},
     "output_type": "execute_result"
    }
   ],
   "source": [
    "col = 'TIPO_INCIDENTE'\n",
    "raw_data_diciembre[col] = raw_data_diciembre[col].apply(lambda x: x.strip())\n",
    "raw_data_diciembre[col].value_counts(dropna=False)"
   ]
  },
  {
   "cell_type": "code",
   "execution_count": 56,
   "id": "6a4e2f67-9f44-4b28-bd1c-9f7ebdc3e5d4",
   "metadata": {},
   "outputs": [
    {
     "data": {
      "text/plain": [
       "Heridos                                  6849\n",
       "Inconsciente/Paro Cardiorrespiratorio    1520\n",
       "Dificultad Respiratoria                  1359\n",
       "Enfermo                                  1045\n",
       "Convulsiones                              994\n",
       "Trastorno mental                          661\n",
       "Dolor torácico                            634\n",
       "Intento de suicidio                       503\n",
       "Accidente cerebro vascular                374\n",
       "Patología Gineco - obstétrica             331\n",
       "Síntomas gastrointestinales               331\n",
       "Caída                                     320\n",
       "Intoxicaciones                            138\n",
       "Ideas de suicidio                          99\n",
       "SIN_DATO                                   80\n",
       "Violencia Sexual                           34\n",
       "Quemaduras                                 10\n",
       "Sangrado Vaginal                            8\n",
       "Maltrato                                    7\n",
       "Electrocución / Rescate                     7\n",
       "Name: TIPO_INCIDENTE, dtype: int64"
      ]
     },
     "execution_count": 56,
     "metadata": {},
     "output_type": "execute_result"
    }
   ],
   "source": [
    "col = 'TIPO_INCIDENTE'\n",
    "raw_data_enero[col] = raw_data_enero[col].apply(lambda x: x.strip())\n",
    "raw_data_enero[col].value_counts(dropna=False)"
   ]
  },
  {
   "cell_type": "code",
   "execution_count": 57,
   "id": "19079b86-19d7-482a-a0ec-4e45791043aa",
   "metadata": {},
   "outputs": [
    {
     "data": {
      "text/plain": [
       "Traslado                       6143\n",
       "Cancelado                      3221\n",
       "NaN                            1509\n",
       "Trasladado por Otro Recurso    1365\n",
       "Falsa Alarma                   1183\n",
       "No Ubica                        192\n",
       "Desistimiento                   137\n",
       "No Amerita Traslado              64\n",
       "Fallecido                        28\n",
       "Name: CLASIFICACION_FINAL, dtype: int64"
      ]
     },
     "execution_count": 57,
     "metadata": {},
     "output_type": "execute_result"
    }
   ],
   "source": [
    "col = 'CLASIFICACION_FINAL'\n",
    "raw_data_julio[col].value_counts(dropna=False)"
   ]
  },
  {
   "cell_type": "code",
   "execution_count": 58,
   "id": "352c9227-635e-4074-8d68-6fdacae0ca8d",
   "metadata": {},
   "outputs": [
    {
     "data": {
      "text/plain": [
       "Traslado                       7287\n",
       "Cancelado                      4147\n",
       "Trasladado por Otro Recurso    1573\n",
       "Falsa Alarma                   1503\n",
       "Desistimiento                  1442\n",
       "No Amerita Traslado             443\n",
       "Fallecido                       205\n",
       "No Ubica                        204\n",
       "NaN                               3\n",
       "Name: CLASIFICACION_FINAL, dtype: int64"
      ]
     },
     "execution_count": 58,
     "metadata": {},
     "output_type": "execute_result"
    }
   ],
   "source": [
    "col = 'CLASIFICACION_FINAL'\n",
    "raw_data_agosto[col].value_counts(dropna=False)"
   ]
  },
  {
   "cell_type": "code",
   "execution_count": 64,
   "id": "5ed1eabb-a98c-4ecb-a047-8b06f7d344c3",
   "metadata": {},
   "outputs": [
    {
     "data": {
      "text/plain": [
       "Traslado                       6143\n",
       "Cancelado                      3221\n",
       "SIN_DATO                       1509\n",
       "Trasladado por Otro Recurso    1365\n",
       "Falsa Alarma                   1183\n",
       "No Ubica                        192\n",
       "Desistimiento                   137\n",
       "No Amerita Traslado              64\n",
       "Fallecido                        28\n",
       "Name: CLASIFICACION_FINAL, dtype: int64"
      ]
     },
     "execution_count": 64,
     "metadata": {},
     "output_type": "execute_result"
    }
   ],
   "source": [
    "raw_data_julio[col].fillna('SIN_DATO').value_counts()"
   ]
  },
  {
   "cell_type": "code",
   "execution_count": 65,
   "id": "87a05aa1-5a60-497a-ac76-470617049e3e",
   "metadata": {},
   "outputs": [
    {
     "data": {
      "text/plain": [
       "Traslado                       7287\n",
       "Cancelado                      4147\n",
       "Trasladado por Otro Recurso    1573\n",
       "Falsa Alarma                   1503\n",
       "Desistimiento                  1442\n",
       "No Amerita Traslado             443\n",
       "Fallecido                       205\n",
       "No Ubica                        204\n",
       "SIN_DATO                          3\n",
       "Name: CLASIFICACION_FINAL, dtype: int64"
      ]
     },
     "execution_count": 65,
     "metadata": {},
     "output_type": "execute_result"
    }
   ],
   "source": [
    "raw_data_agosto[col].fillna('SIN_DATO').value_counts()"
   ]
  },
  {
   "cell_type": "code",
   "execution_count": 66,
   "id": "c6ef4fdd-f7b5-4e4c-8acc-d455c1cf2d9d",
   "metadata": {},
   "outputs": [
    {
     "data": {
      "text/html": [
       "<div>\n",
       "<style scoped>\n",
       "    .dataframe tbody tr th:only-of-type {\n",
       "        vertical-align: middle;\n",
       "    }\n",
       "\n",
       "    .dataframe tbody tr th {\n",
       "        vertical-align: top;\n",
       "    }\n",
       "\n",
       "    .dataframe thead th {\n",
       "        text-align: right;\n",
       "    }\n",
       "</style>\n",
       "<table border=\"1\" class=\"dataframe\">\n",
       "  <thead>\n",
       "    <tr style=\"text-align: right;\">\n",
       "      <th></th>\n",
       "      <th>FECHA_INCIDENTE</th>\n",
       "      <th>FECHA_INICIO_DESPLAZAMIENTO_MOVIL</th>\n",
       "      <th>CODIGO_LOCALIDAD</th>\n",
       "      <th>LOCALIDAD</th>\n",
       "      <th>EDAD</th>\n",
       "      <th>UNIDAD</th>\n",
       "      <th>GENERO</th>\n",
       "      <th>RED</th>\n",
       "      <th>TIPO_INCIDENTE</th>\n",
       "      <th>PRIORIDAD</th>\n",
       "      <th>MES</th>\n",
       "      <th>CLASIFICACION_FINAL</th>\n",
       "    </tr>\n",
       "  </thead>\n",
       "  <tbody>\n",
       "    <tr>\n",
       "      <th>0</th>\n",
       "      <td>2019-07-01 00:05:08</td>\n",
       "      <td>2019-07-01 00:11:02</td>\n",
       "      <td>8</td>\n",
       "      <td>Kennedy</td>\n",
       "      <td>39</td>\n",
       "      <td>Años</td>\n",
       "      <td>FEMENINO</td>\n",
       "      <td>Norte</td>\n",
       "      <td>Dificultad Respiratoria</td>\n",
       "      <td>ALTA</td>\n",
       "      <td>JULIO</td>\n",
       "      <td>Traslado</td>\n",
       "    </tr>\n",
       "    <tr>\n",
       "      <th>1</th>\n",
       "      <td>2019-07-01 00:06:57</td>\n",
       "      <td>2019-07-01 00:12:56</td>\n",
       "      <td>19</td>\n",
       "      <td>Ciudad Bolivar</td>\n",
       "      <td>69</td>\n",
       "      <td>Años</td>\n",
       "      <td>MASCULINO</td>\n",
       "      <td>Sur</td>\n",
       "      <td>Inconsciente/Paro Cardiorrespiratorio</td>\n",
       "      <td>ALTA</td>\n",
       "      <td>JULIO</td>\n",
       "      <td>SIN_DATO</td>\n",
       "    </tr>\n",
       "    <tr>\n",
       "      <th>2</th>\n",
       "      <td>2019-07-01 00:09:26</td>\n",
       "      <td>2019-07-01 00:10:26</td>\n",
       "      <td>6</td>\n",
       "      <td>Tunjuelito</td>\n",
       "      <td>25</td>\n",
       "      <td>Años</td>\n",
       "      <td>MASCULINO</td>\n",
       "      <td>Sur</td>\n",
       "      <td>Enfermo</td>\n",
       "      <td>MEDIA</td>\n",
       "      <td>JULIO</td>\n",
       "      <td>Traslado</td>\n",
       "    </tr>\n",
       "    <tr>\n",
       "      <th>3</th>\n",
       "      <td>2019-07-01 00:14:42</td>\n",
       "      <td>2019-07-01 00:15:47</td>\n",
       "      <td>8</td>\n",
       "      <td>Kennedy</td>\n",
       "      <td>65</td>\n",
       "      <td>Años</td>\n",
       "      <td>MASCULINO</td>\n",
       "      <td>Sur</td>\n",
       "      <td>Lesiones personales</td>\n",
       "      <td>MEDIA</td>\n",
       "      <td>JULIO</td>\n",
       "      <td>Traslado</td>\n",
       "    </tr>\n",
       "    <tr>\n",
       "      <th>4</th>\n",
       "      <td>2019-07-01 00:17:13</td>\n",
       "      <td>2019-07-01 00:31:13</td>\n",
       "      <td>10</td>\n",
       "      <td>Engativa</td>\n",
       "      <td>SIN_DATO</td>\n",
       "      <td>SIN_DATO</td>\n",
       "      <td>SIN_DATO</td>\n",
       "      <td>Norte</td>\n",
       "      <td>Enfermo</td>\n",
       "      <td>MEDIA</td>\n",
       "      <td>JULIO</td>\n",
       "      <td>Cancelado</td>\n",
       "    </tr>\n",
       "  </tbody>\n",
       "</table>\n",
       "</div>"
      ],
      "text/plain": [
       "      FECHA_INCIDENTE FECHA_INICIO_DESPLAZAMIENTO_MOVIL  CODIGO_LOCALIDAD  \\\n",
       "0 2019-07-01 00:05:08               2019-07-01 00:11:02                 8   \n",
       "1 2019-07-01 00:06:57               2019-07-01 00:12:56                19   \n",
       "2 2019-07-01 00:09:26               2019-07-01 00:10:26                 6   \n",
       "3 2019-07-01 00:14:42               2019-07-01 00:15:47                 8   \n",
       "4 2019-07-01 00:17:13               2019-07-01 00:31:13                10   \n",
       "\n",
       "        LOCALIDAD      EDAD    UNIDAD     GENERO    RED  \\\n",
       "0         Kennedy        39      Años   FEMENINO  Norte   \n",
       "1  Ciudad Bolivar        69      Años  MASCULINO    Sur   \n",
       "2      Tunjuelito        25      Años  MASCULINO    Sur   \n",
       "3         Kennedy        65      Años  MASCULINO    Sur   \n",
       "4        Engativa  SIN_DATO  SIN_DATO   SIN_DATO  Norte   \n",
       "\n",
       "                          TIPO_INCIDENTE PRIORIDAD    MES CLASIFICACION_FINAL  \n",
       "0                Dificultad Respiratoria      ALTA  JULIO            Traslado  \n",
       "1  Inconsciente/Paro Cardiorrespiratorio      ALTA  JULIO            SIN_DATO  \n",
       "2                                Enfermo     MEDIA  JULIO            Traslado  \n",
       "3                    Lesiones personales     MEDIA  JULIO            Traslado  \n",
       "4                                Enfermo     MEDIA  JULIO           Cancelado  "
      ]
     },
     "execution_count": 66,
     "metadata": {},
     "output_type": "execute_result"
    }
   ],
   "source": [
    "col = 'CLASIFICACION_FINAL'\n",
    "raw_data_julio[col].fillna('SIN_DATO', inplace=True)\n",
    "raw_data_julio[col] = raw_data_julio[col].apply(lambda x: x.strip())\n",
    "raw_data_julio.head()"
   ]
  },
  {
   "cell_type": "code",
   "execution_count": 67,
   "id": "c109ae65-7331-4804-bae6-a5ad658c53d3",
   "metadata": {},
   "outputs": [
    {
     "data": {
      "text/html": [
       "<div>\n",
       "<style scoped>\n",
       "    .dataframe tbody tr th:only-of-type {\n",
       "        vertical-align: middle;\n",
       "    }\n",
       "\n",
       "    .dataframe tbody tr th {\n",
       "        vertical-align: top;\n",
       "    }\n",
       "\n",
       "    .dataframe thead th {\n",
       "        text-align: right;\n",
       "    }\n",
       "</style>\n",
       "<table border=\"1\" class=\"dataframe\">\n",
       "  <thead>\n",
       "    <tr style=\"text-align: right;\">\n",
       "      <th></th>\n",
       "      <th>NUMERO_INCIDENTE</th>\n",
       "      <th>FECHA_INICIO_DESPLAZAMIENTO_MOVIL</th>\n",
       "      <th>CODIGO_LOCALIDAD</th>\n",
       "      <th>LOCALIDAD</th>\n",
       "      <th>EDAD</th>\n",
       "      <th>UNIDAD</th>\n",
       "      <th>GENERO</th>\n",
       "      <th>RED</th>\n",
       "      <th>TIPO_INCIDENTE</th>\n",
       "      <th>PRIORIDAD</th>\n",
       "      <th>MES</th>\n",
       "      <th>CLASIFICACION_FINAL</th>\n",
       "    </tr>\n",
       "  </thead>\n",
       "  <tbody>\n",
       "    <tr>\n",
       "      <th>0</th>\n",
       "      <td>809224194</td>\n",
       "      <td>2019-01-08 00:28:00</td>\n",
       "      <td>1</td>\n",
       "      <td>Usaquen</td>\n",
       "      <td>SIN_DATO</td>\n",
       "      <td>SIN_DATO</td>\n",
       "      <td>SIN_DATO</td>\n",
       "      <td>Norte</td>\n",
       "      <td>Inconsciente/Paro Cardiorrespiratorio</td>\n",
       "      <td>ALTA</td>\n",
       "      <td>AGOSTO</td>\n",
       "      <td>Cancelado</td>\n",
       "    </tr>\n",
       "    <tr>\n",
       "      <th>2</th>\n",
       "      <td>809240194</td>\n",
       "      <td>2019-01-08 00:15:00</td>\n",
       "      <td>11</td>\n",
       "      <td>Suba</td>\n",
       "      <td>SIN_DATO</td>\n",
       "      <td>SIN_DATO</td>\n",
       "      <td>SIN_DATO</td>\n",
       "      <td>Norte</td>\n",
       "      <td>Accidente cerebro vascular</td>\n",
       "      <td>BAJA</td>\n",
       "      <td>AGOSTO</td>\n",
       "      <td>Cancelado</td>\n",
       "    </tr>\n",
       "    <tr>\n",
       "      <th>5</th>\n",
       "      <td>809244194</td>\n",
       "      <td>2019-01-08 00:10:00</td>\n",
       "      <td>13</td>\n",
       "      <td>Teusaquillo</td>\n",
       "      <td>SIN_DATO</td>\n",
       "      <td>SIN_DATO</td>\n",
       "      <td>SIN_DATO</td>\n",
       "      <td>Norte</td>\n",
       "      <td>Accidente de tránsito con heridos/Muertos</td>\n",
       "      <td>ALTA</td>\n",
       "      <td>AGOSTO</td>\n",
       "      <td>Cancelado</td>\n",
       "    </tr>\n",
       "    <tr>\n",
       "      <th>7</th>\n",
       "      <td>809253194</td>\n",
       "      <td>2019-01-08 00:12:00</td>\n",
       "      <td>8</td>\n",
       "      <td>Kennedy</td>\n",
       "      <td>SIN_DATO</td>\n",
       "      <td>SIN_DATO</td>\n",
       "      <td>SIN_DATO</td>\n",
       "      <td>Norte</td>\n",
       "      <td>Accidente de tránsito con heridos/Muertos</td>\n",
       "      <td>ALTA</td>\n",
       "      <td>AGOSTO</td>\n",
       "      <td>Cancelado</td>\n",
       "    </tr>\n",
       "    <tr>\n",
       "      <th>9</th>\n",
       "      <td>809261194</td>\n",
       "      <td>2019-01-08 00:13:00</td>\n",
       "      <td>11</td>\n",
       "      <td>Suba</td>\n",
       "      <td>71</td>\n",
       "      <td>Años</td>\n",
       "      <td>FEMENINO</td>\n",
       "      <td>Norte</td>\n",
       "      <td>Dificultad Respiratoria</td>\n",
       "      <td>ALTA</td>\n",
       "      <td>AGOSTO</td>\n",
       "      <td>Traslado</td>\n",
       "    </tr>\n",
       "  </tbody>\n",
       "</table>\n",
       "</div>"
      ],
      "text/plain": [
       "   NUMERO_INCIDENTE FECHA_INICIO_DESPLAZAMIENTO_MOVIL  CODIGO_LOCALIDAD  \\\n",
       "0         809224194               2019-01-08 00:28:00                 1   \n",
       "2         809240194               2019-01-08 00:15:00                11   \n",
       "5         809244194               2019-01-08 00:10:00                13   \n",
       "7         809253194               2019-01-08 00:12:00                 8   \n",
       "9         809261194               2019-01-08 00:13:00                11   \n",
       "\n",
       "     LOCALIDAD      EDAD    UNIDAD    GENERO    RED  \\\n",
       "0      Usaquen  SIN_DATO  SIN_DATO  SIN_DATO  Norte   \n",
       "2         Suba  SIN_DATO  SIN_DATO  SIN_DATO  Norte   \n",
       "5  Teusaquillo  SIN_DATO  SIN_DATO  SIN_DATO  Norte   \n",
       "7      Kennedy  SIN_DATO  SIN_DATO  SIN_DATO  Norte   \n",
       "9         Suba        71      Años  FEMENINO  Norte   \n",
       "\n",
       "                              TIPO_INCIDENTE PRIORIDAD     MES  \\\n",
       "0      Inconsciente/Paro Cardiorrespiratorio      ALTA  AGOSTO   \n",
       "2                 Accidente cerebro vascular      BAJA  AGOSTO   \n",
       "5  Accidente de tránsito con heridos/Muertos      ALTA  AGOSTO   \n",
       "7  Accidente de tránsito con heridos/Muertos      ALTA  AGOSTO   \n",
       "9                    Dificultad Respiratoria      ALTA  AGOSTO   \n",
       "\n",
       "  CLASIFICACION_FINAL  \n",
       "0           Cancelado  \n",
       "2           Cancelado  \n",
       "5           Cancelado  \n",
       "7           Cancelado  \n",
       "9            Traslado  "
      ]
     },
     "execution_count": 67,
     "metadata": {},
     "output_type": "execute_result"
    }
   ],
   "source": [
    "col = 'CLASIFICACION_FINAL'\n",
    "raw_data_agosto[col].fillna('SIN_DATO', inplace=True)\n",
    "raw_data_agosto[col] = raw_data_agosto[col].apply(lambda x: x.strip())\n",
    "raw_data_agosto.head()"
   ]
  },
  {
   "cell_type": "markdown",
   "id": "137a2b31-81b1-4a8e-a82a-75fd09619d17",
   "metadata": {},
   "source": [
    "## Remove accents"
   ]
  },
  {
   "cell_type": "code",
   "execution_count": 92,
   "id": "abd89fb2-ec5f-46be-a758-5ae891e2f29c",
   "metadata": {},
   "outputs": [],
   "source": [
    "def normalize(s):\n",
    "    replacements = (\n",
    "        (\"á\", \"a\"),\n",
    "        (\"é\", \"e\"),\n",
    "        (\"í\", \"i\"),\n",
    "        (\"ó\", \"o\"),\n",
    "        (\"ú\", \"u\"),\n",
    "    )\n",
    "    for a, b in replacements:\n",
    "        s = s.replace(a, b).replace(a.upper(), b.upper())\n",
    "    return s"
   ]
  },
  {
   "cell_type": "code",
   "execution_count": 95,
   "id": "7322e4e5-8656-478e-a371-bab9dafb3bb8",
   "metadata": {},
   "outputs": [
    {
     "name": "stdout",
     "output_type": "stream",
     "text": [
      "0            Inconsciente/Paro Cardiorrespiratorio\n",
      "2                       Accidente cerebro vascular\n",
      "5        Accidente de tránsito con heridos/Muertos\n",
      "7        Accidente de tránsito con heridos/Muertos\n",
      "9                          Dificultad Respiratoria\n",
      "                           ...                    \n",
      "18136    Accidente de tránsito con heridos/Muertos\n",
      "18137                                      Heridos\n",
      "18138    Accidente de tránsito con heridos/Muertos\n",
      "18139    Accidente de tránsito con heridos/Muertos\n",
      "18140    Accidente de tránsito con heridos/Muertos\n",
      "Name: TIPO_INCIDENTE, Length: 16807, dtype: object\n"
     ]
    }
   ],
   "source": [
    "print(normalize(raw_data_agosto[col]))\n"
   ]
  },
  {
   "cell_type": "markdown",
   "id": "5dfb6ce5-a227-4fc1-b45a-b34a85da790e",
   "metadata": {},
   "source": [
    "# Profile of the Data"
   ]
  },
  {
   "cell_type": "code",
   "execution_count": 97,
   "id": "79498c23-a41f-4c91-a86b-7bb01cdc4bba",
   "metadata": {},
   "outputs": [
    {
     "data": {
      "application/vnd.jupyter.widget-view+json": {
       "model_id": "25dfa41b90e848ae9f7245740e2e1bd3",
       "version_major": 2,
       "version_minor": 0
      },
      "text/plain": [
       "Summarize dataset:   0%|          | 0/26 [00:00<?, ?it/s]"
      ]
     },
     "metadata": {},
     "output_type": "display_data"
    },
    {
     "data": {
      "application/vnd.jupyter.widget-view+json": {
       "model_id": "746ef8f389dd489687ee0c4e5dd258cb",
       "version_major": 2,
       "version_minor": 0
      },
      "text/plain": [
       "Generate report structure:   0%|          | 0/1 [00:00<?, ?it/s]"
      ]
     },
     "metadata": {},
     "output_type": "display_data"
    },
    {
     "data": {
      "application/vnd.jupyter.widget-view+json": {
       "model_id": "54f6cdd79284419ab367a277c391cdc1",
       "version_major": 2,
       "version_minor": 0
      },
      "text/plain": [
       "Render HTML:   0%|          | 0/1 [00:00<?, ?it/s]"
      ]
     },
     "metadata": {},
     "output_type": "display_data"
    },
    {
     "data": {
      "application/vnd.jupyter.widget-view+json": {
       "model_id": "d60b85696fba466fa3b6f2432e9f5d45",
       "version_major": 2,
       "version_minor": 0
      },
      "text/plain": [
       "Export report to file:   0%|          | 0/1 [00:00<?, ?it/s]"
      ]
     },
     "metadata": {},
     "output_type": "display_data"
    }
   ],
   "source": [
    "profile = ProfileReport(df=raw_data_julio)\n",
    "profile.to_file(output_file=project_dir + '/reports/'+'profile_raw_data_julio_2019.html')"
   ]
  },
  {
   "cell_type": "code",
   "execution_count": 100,
   "id": "442689a2-c198-4250-86c9-7488dbab143b",
   "metadata": {},
   "outputs": [
    {
     "data": {
      "application/vnd.jupyter.widget-view+json": {
       "model_id": "1c8c0004d1444c2eb00841254feba1e7",
       "version_major": 2,
       "version_minor": 0
      },
      "text/plain": [
       "Summarize dataset:   0%|          | 0/26 [00:00<?, ?it/s]"
      ]
     },
     "metadata": {},
     "output_type": "display_data"
    },
    {
     "data": {
      "application/vnd.jupyter.widget-view+json": {
       "model_id": "e8515835151e4c2f98311a9b87b88e9a",
       "version_major": 2,
       "version_minor": 0
      },
      "text/plain": [
       "Generate report structure:   0%|          | 0/1 [00:00<?, ?it/s]"
      ]
     },
     "metadata": {},
     "output_type": "display_data"
    },
    {
     "data": {
      "application/vnd.jupyter.widget-view+json": {
       "model_id": "78d6582ff97d4006aa5efb95091297ab",
       "version_major": 2,
       "version_minor": 0
      },
      "text/plain": [
       "Render HTML:   0%|          | 0/1 [00:00<?, ?it/s]"
      ]
     },
     "metadata": {},
     "output_type": "display_data"
    },
    {
     "data": {
      "application/vnd.jupyter.widget-view+json": {
       "model_id": "60611849d2044c79ace2af7eaced60ef",
       "version_major": 2,
       "version_minor": 0
      },
      "text/plain": [
       "Export report to file:   0%|          | 0/1 [00:00<?, ?it/s]"
      ]
     },
     "metadata": {},
     "output_type": "display_data"
    }
   ],
   "source": [
    "profile = ProfileReport(df=raw_data_agosto)\n",
    "profile.to_file(output_file=project_dir + '/reports/'+'profile_raw_data_agosto_2019.html')"
   ]
  },
  {
   "cell_type": "code",
   "execution_count": 101,
   "id": "3f9ce3d7-294b-494a-a7c0-6dcec938f7a8",
   "metadata": {},
   "outputs": [
    {
     "data": {
      "application/vnd.jupyter.widget-view+json": {
       "model_id": "fb1e198965544a6c9cb508cd75a1a046",
       "version_major": 2,
       "version_minor": 0
      },
      "text/plain": [
       "Summarize dataset:   0%|          | 0/24 [00:00<?, ?it/s]"
      ]
     },
     "metadata": {},
     "output_type": "display_data"
    },
    {
     "data": {
      "application/vnd.jupyter.widget-view+json": {
       "model_id": "cd2362c078e54bb5a7f6e18672e6065d",
       "version_major": 2,
       "version_minor": 0
      },
      "text/plain": [
       "Generate report structure:   0%|          | 0/1 [00:00<?, ?it/s]"
      ]
     },
     "metadata": {},
     "output_type": "display_data"
    },
    {
     "data": {
      "application/vnd.jupyter.widget-view+json": {
       "model_id": "cd2dab853a1c4d9a928ba692f73f0718",
       "version_major": 2,
       "version_minor": 0
      },
      "text/plain": [
       "Render HTML:   0%|          | 0/1 [00:00<?, ?it/s]"
      ]
     },
     "metadata": {},
     "output_type": "display_data"
    },
    {
     "data": {
      "application/vnd.jupyter.widget-view+json": {
       "model_id": "a45da07d768f4fffb63ebf450ddc662f",
       "version_major": 2,
       "version_minor": 0
      },
      "text/plain": [
       "Export report to file:   0%|          | 0/1 [00:00<?, ?it/s]"
      ]
     },
     "metadata": {},
     "output_type": "display_data"
    }
   ],
   "source": [
    "profile = ProfileReport(df=raw_data_septiembre)\n",
    "profile.to_file(output_file=project_dir + '/reports/'+'profile_raw_data_septiembre_2019.html')"
   ]
  },
  {
   "cell_type": "code",
   "execution_count": 102,
   "id": "1e68ee76-ff5a-4067-a7f6-f41c948e288a",
   "metadata": {},
   "outputs": [
    {
     "data": {
      "application/vnd.jupyter.widget-view+json": {
       "model_id": "8cd99654b296400ebeff82d1d23b61a2",
       "version_major": 2,
       "version_minor": 0
      },
      "text/plain": [
       "Summarize dataset:   0%|          | 0/24 [00:00<?, ?it/s]"
      ]
     },
     "metadata": {},
     "output_type": "display_data"
    },
    {
     "data": {
      "application/vnd.jupyter.widget-view+json": {
       "model_id": "6b02c1200d5e4884a41a4fa143a95095",
       "version_major": 2,
       "version_minor": 0
      },
      "text/plain": [
       "Generate report structure:   0%|          | 0/1 [00:00<?, ?it/s]"
      ]
     },
     "metadata": {},
     "output_type": "display_data"
    },
    {
     "data": {
      "application/vnd.jupyter.widget-view+json": {
       "model_id": "47c3b370249149c280a8581b2b8a9a9f",
       "version_major": 2,
       "version_minor": 0
      },
      "text/plain": [
       "Render HTML:   0%|          | 0/1 [00:00<?, ?it/s]"
      ]
     },
     "metadata": {},
     "output_type": "display_data"
    },
    {
     "data": {
      "application/vnd.jupyter.widget-view+json": {
       "model_id": "3ae5219220bd4f93a62a77c37cd17e39",
       "version_major": 2,
       "version_minor": 0
      },
      "text/plain": [
       "Export report to file:   0%|          | 0/1 [00:00<?, ?it/s]"
      ]
     },
     "metadata": {},
     "output_type": "display_data"
    }
   ],
   "source": [
    "profile = ProfileReport(df=raw_data_octubre)\n",
    "profile.to_file(output_file=project_dir + '/reports/'+'profile_raw_data_octubre_2019.html')"
   ]
  },
  {
   "cell_type": "code",
   "execution_count": 103,
   "id": "cc7b1688-22dc-4cc0-a2af-5f54d637d611",
   "metadata": {},
   "outputs": [
    {
     "data": {
      "application/vnd.jupyter.widget-view+json": {
       "model_id": "1bbad89dcd9043f5aaa6ca76019e2021",
       "version_major": 2,
       "version_minor": 0
      },
      "text/plain": [
       "Summarize dataset:   0%|          | 0/24 [00:00<?, ?it/s]"
      ]
     },
     "metadata": {},
     "output_type": "display_data"
    },
    {
     "data": {
      "application/vnd.jupyter.widget-view+json": {
       "model_id": "b427d81d014647d387d0aeebf51a4561",
       "version_major": 2,
       "version_minor": 0
      },
      "text/plain": [
       "Generate report structure:   0%|          | 0/1 [00:00<?, ?it/s]"
      ]
     },
     "metadata": {},
     "output_type": "display_data"
    },
    {
     "data": {
      "application/vnd.jupyter.widget-view+json": {
       "model_id": "756d97141d5b484c877b9418dbdd9206",
       "version_major": 2,
       "version_minor": 0
      },
      "text/plain": [
       "Render HTML:   0%|          | 0/1 [00:00<?, ?it/s]"
      ]
     },
     "metadata": {},
     "output_type": "display_data"
    },
    {
     "data": {
      "application/vnd.jupyter.widget-view+json": {
       "model_id": "93b0096619c847898156f9096a3f25cb",
       "version_major": 2,
       "version_minor": 0
      },
      "text/plain": [
       "Export report to file:   0%|          | 0/1 [00:00<?, ?it/s]"
      ]
     },
     "metadata": {},
     "output_type": "display_data"
    }
   ],
   "source": [
    "profile = ProfileReport(df=raw_data_noviembre)\n",
    "profile.to_file(output_file=project_dir + '/reports/'+'profile_raw_data_noviembre_2019.html')"
   ]
  },
  {
   "cell_type": "code",
   "execution_count": 104,
   "id": "e6bcf011-bbb4-471a-8aeb-38a2d22d5b16",
   "metadata": {},
   "outputs": [
    {
     "data": {
      "application/vnd.jupyter.widget-view+json": {
       "model_id": "8f7f5622de424f0baea3abac2004ce73",
       "version_major": 2,
       "version_minor": 0
      },
      "text/plain": [
       "Summarize dataset:   0%|          | 0/24 [00:00<?, ?it/s]"
      ]
     },
     "metadata": {},
     "output_type": "display_data"
    },
    {
     "data": {
      "application/vnd.jupyter.widget-view+json": {
       "model_id": "a010046dc6b049ad9441009f44a17730",
       "version_major": 2,
       "version_minor": 0
      },
      "text/plain": [
       "Generate report structure:   0%|          | 0/1 [00:00<?, ?it/s]"
      ]
     },
     "metadata": {},
     "output_type": "display_data"
    },
    {
     "data": {
      "application/vnd.jupyter.widget-view+json": {
       "model_id": "52106c87494143258731ddff2170ef3f",
       "version_major": 2,
       "version_minor": 0
      },
      "text/plain": [
       "Render HTML:   0%|          | 0/1 [00:00<?, ?it/s]"
      ]
     },
     "metadata": {},
     "output_type": "display_data"
    },
    {
     "data": {
      "application/vnd.jupyter.widget-view+json": {
       "model_id": "4ce3c0d419a54cc185e7fb6596f38841",
       "version_major": 2,
       "version_minor": 0
      },
      "text/plain": [
       "Export report to file:   0%|          | 0/1 [00:00<?, ?it/s]"
      ]
     },
     "metadata": {},
     "output_type": "display_data"
    }
   ],
   "source": [
    "profile = ProfileReport(df=raw_data_diciembre)\n",
    "profile.to_file(output_file=project_dir + '/reports/'+'profile_raw_data_diciembre_2019.html')"
   ]
  },
  {
   "cell_type": "code",
   "execution_count": 106,
   "id": "7854f762-bb67-4377-bfe0-a8d420ef08d8",
   "metadata": {},
   "outputs": [
    {
     "data": {
      "application/vnd.jupyter.widget-view+json": {
       "model_id": "144988c84f844934aaee72cec3fbc983",
       "version_major": 2,
       "version_minor": 0
      },
      "text/plain": [
       "Summarize dataset:   0%|          | 0/23 [00:00<?, ?it/s]"
      ]
     },
     "metadata": {},
     "output_type": "display_data"
    },
    {
     "data": {
      "application/vnd.jupyter.widget-view+json": {
       "model_id": "db6d5544406c4f34be7b8c464ca37c31",
       "version_major": 2,
       "version_minor": 0
      },
      "text/plain": [
       "Generate report structure:   0%|          | 0/1 [00:00<?, ?it/s]"
      ]
     },
     "metadata": {},
     "output_type": "display_data"
    },
    {
     "data": {
      "application/vnd.jupyter.widget-view+json": {
       "model_id": "061664d7f09d4eaf8a7580353b463ad1",
       "version_major": 2,
       "version_minor": 0
      },
      "text/plain": [
       "Render HTML:   0%|          | 0/1 [00:00<?, ?it/s]"
      ]
     },
     "metadata": {},
     "output_type": "display_data"
    },
    {
     "data": {
      "application/vnd.jupyter.widget-view+json": {
       "model_id": "0ed34eda8d4d4fe39d927a0602ea447b",
       "version_major": 2,
       "version_minor": 0
      },
      "text/plain": [
       "Export report to file:   0%|          | 0/1 [00:00<?, ?it/s]"
      ]
     },
     "metadata": {},
     "output_type": "display_data"
    }
   ],
   "source": [
    "profile = ProfileReport(df=raw_data_enero)\n",
    "profile.to_file(output_file=project_dir + '/reports/'+'profile_raw_data_enero_2020.html')"
   ]
  },
  {
   "cell_type": "markdown",
   "id": "37e954bf-5e89-4299-9d24-385f619129f1",
   "metadata": {},
   "source": [
    "## Save table for each month"
   ]
  },
  {
   "cell_type": "code",
   "execution_count": 128,
   "id": "91f8d2d2-3887-4bc9-8c3c-8c93a716d55a",
   "metadata": {},
   "outputs": [],
   "source": [
    "raw_data_julio.to_csv(project_dir + '/data/processed/' +'clean_llamadas_123_julio_2019.csv', encoding='latin1', sep=';', index=False)\n",
    "raw_data_agosto.to_csv(project_dir + '/data/processed/' +'clean_llamadas_123_agosto_2019.csv', encoding='latin1', sep=';', index=False)\n",
    "raw_data_septiembre.to_csv(project_dir + '/data/processed/' +'clean_llamadas_123_septiembre_2019.csv', encoding='latin1', sep=';', index=False)\n",
    "raw_data_octubre.to_csv(project_dir + '/data/processed/' +'clean_llamadas_123_octubre_2019.csv', encoding='latin1', sep=';', index=False)\n",
    "raw_data_noviembre.to_csv(project_dir + '/data/processed/' +'clean_llamadas_123_noviembre_2019.csv', encoding='latin1', sep=';', index=False)\n",
    "raw_data_diciembre.to_csv(project_dir + '/data/processed/' +'clean_llamadas_123_diciembre_2019.csv', encoding='latin1', sep=';', index=False)\n",
    "raw_data_enero.to_csv(project_dir + '/data/processed/' +'clean_llamadas_123_enero_2020.csv', encoding='latin1', sep=';', index=False)"
   ]
  }
 ],
 "metadata": {
  "environment": {
   "kernel": "python3",
   "name": "common-cpu.m90",
   "type": "gcloud",
   "uri": "gcr.io/deeplearning-platform-release/base-cpu:m90"
  },
  "kernelspec": {
   "display_name": "Python 3",
   "language": "python",
   "name": "python3"
  },
  "language_info": {
   "codemirror_mode": {
    "name": "ipython",
    "version": 3
   },
   "file_extension": ".py",
   "mimetype": "text/x-python",
   "name": "python",
   "nbconvert_exporter": "python",
   "pygments_lexer": "ipython3",
   "version": "3.7.12"
  }
 },
 "nbformat": 4,
 "nbformat_minor": 5
}
