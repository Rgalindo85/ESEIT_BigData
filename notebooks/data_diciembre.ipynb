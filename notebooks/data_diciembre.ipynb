{
 "cells": [
  {
   "cell_type": "markdown",
   "id": "a7dac6ca-3d99-49ad-b3bd-76c1144c6939",
   "metadata": {},
   "source": [
    "# Read and clean a single file"
   ]
  },
  {
   "cell_type": "code",
   "execution_count": 1,
   "id": "19dc2eac-db51-40ad-9834-b50602429973",
   "metadata": {},
   "outputs": [],
   "source": [
    "import os\n",
    "import sys\n",
    "import logging\n",
    "import pandas as pd\n",
    "\n",
    "from pandas_profiling import ProfileReport\n",
    "\n",
    "\n",
    "project_dir = os.path.dirname(os.path.abspath('.')) # get the path of the project, if doesn't work use os.getcwd() instead and use rfind to find the project dir\n",
    "sys.path.append(os.path.join(project_dir, 'src', 'data'))\n",
    "\n",
    "from data_manipulator import get_input_data\n",
    "\n",
    "bucket = 'yuma_bucket'\n",
    "directory = 'BigData'"
   ]
  },
  {
   "cell_type": "markdown",
   "id": "6531655d-2cc6-40bf-8f3d-af0e28004fe1",
   "metadata": {},
   "source": [
    "## Read Metadata\n",
    "-----\n",
    "General info for each relevant column"
   ]
  },
  {
   "cell_type": "code",
   "execution_count": 2,
   "id": "4e1ea718-96b7-4eaa-95e7-7d9f314b5b56",
   "metadata": {},
   "outputs": [
    {
     "data": {
      "text/html": [
       "<div>\n",
       "<style scoped>\n",
       "    .dataframe tbody tr th:only-of-type {\n",
       "        vertical-align: middle;\n",
       "    }\n",
       "\n",
       "    .dataframe tbody tr th {\n",
       "        vertical-align: top;\n",
       "    }\n",
       "\n",
       "    .dataframe thead th {\n",
       "        text-align: right;\n",
       "    }\n",
       "</style>\n",
       "<table border=\"1\" class=\"dataframe\">\n",
       "  <thead>\n",
       "    <tr style=\"text-align: right;\">\n",
       "      <th></th>\n",
       "      <th>NOMBRE</th>\n",
       "      <th>DESCRIPCION</th>\n",
       "    </tr>\n",
       "  </thead>\n",
       "  <tbody>\n",
       "    <tr>\n",
       "      <th>0</th>\n",
       "      <td>FECHA_INCIDENTE</td>\n",
       "      <td>Es la fecha el cual se registra la llamada del...</td>\n",
       "    </tr>\n",
       "    <tr>\n",
       "      <th>1</th>\n",
       "      <td>FECHA_INICIO_DESPLAZAMIENTO_MOVIL</td>\n",
       "      <td>Es la fecha el cual se inicia el desplazamient...</td>\n",
       "    </tr>\n",
       "    <tr>\n",
       "      <th>2</th>\n",
       "      <td>CODIGO LOCALIDAD</td>\n",
       "      <td>Es el código de las 20 localidades de la ciuda...</td>\n",
       "    </tr>\n",
       "    <tr>\n",
       "      <th>3</th>\n",
       "      <td>LOCALIDAD</td>\n",
       "      <td>Es la localidad donde sucede el incidente.</td>\n",
       "    </tr>\n",
       "    <tr>\n",
       "      <th>4</th>\n",
       "      <td>EDAD</td>\n",
       "      <td>La edad del paciente.</td>\n",
       "    </tr>\n",
       "    <tr>\n",
       "      <th>5</th>\n",
       "      <td>UNIDAD</td>\n",
       "      <td>La descripción de la edad si es en horas, días...</td>\n",
       "    </tr>\n",
       "    <tr>\n",
       "      <th>6</th>\n",
       "      <td>GENERO</td>\n",
       "      <td>Es la  distinción de genero del paciente</td>\n",
       "    </tr>\n",
       "    <tr>\n",
       "      <th>7</th>\n",
       "      <td>RED</td>\n",
       "      <td>Es la localización a nivel bogota de la red de...</td>\n",
       "    </tr>\n",
       "    <tr>\n",
       "      <th>8</th>\n",
       "      <td>TIPO_INCIDENTE</td>\n",
       "      <td>Es la descripción inicial que tipifica el cent...</td>\n",
       "    </tr>\n",
       "    <tr>\n",
       "      <th>9</th>\n",
       "      <td>PRIORIDAD</td>\n",
       "      <td>Es la tipificación según la prioridad del inci...</td>\n",
       "    </tr>\n",
       "    <tr>\n",
       "      <th>10</th>\n",
       "      <td>MES</td>\n",
       "      <td>Es el mes el cual ocurrió el incidente.</td>\n",
       "    </tr>\n",
       "    <tr>\n",
       "      <th>11</th>\n",
       "      <td>CLASIFICACION FINAL</td>\n",
       "      <td>Es la clasificación final que entrega el centr...</td>\n",
       "    </tr>\n",
       "  </tbody>\n",
       "</table>\n",
       "</div>"
      ],
      "text/plain": [
       "                               NOMBRE  \\\n",
       "0                     FECHA_INCIDENTE   \n",
       "1   FECHA_INICIO_DESPLAZAMIENTO_MOVIL   \n",
       "2                    CODIGO LOCALIDAD   \n",
       "3                           LOCALIDAD   \n",
       "4                                EDAD   \n",
       "5                              UNIDAD   \n",
       "6                              GENERO   \n",
       "7                                 RED   \n",
       "8                      TIPO_INCIDENTE   \n",
       "9                           PRIORIDAD   \n",
       "10                                MES   \n",
       "11                CLASIFICACION FINAL   \n",
       "\n",
       "                                          DESCRIPCION  \n",
       "0   Es la fecha el cual se registra la llamada del...  \n",
       "1   Es la fecha el cual se inicia el desplazamient...  \n",
       "2   Es el código de las 20 localidades de la ciuda...  \n",
       "3          Es la localidad donde sucede el incidente.  \n",
       "4                               La edad del paciente.  \n",
       "5   La descripción de la edad si es en horas, días...  \n",
       "6            Es la  distinción de genero del paciente  \n",
       "7   Es la localización a nivel bogota de la red de...  \n",
       "8   Es la descripción inicial que tipifica el cent...  \n",
       "9   Es la tipificación según la prioridad del inci...  \n",
       "10            Es el mes el cual ocurrió el incidente.  \n",
       "11  Es la clasificación final que entrega el centr...  "
      ]
     },
     "execution_count": 2,
     "metadata": {},
     "output_type": "execute_result"
    }
   ],
   "source": [
    "file = 'gs://{}/{}/data/metadatos-llamadas-urg-y-emer.csv'.format(bucket, directory)\n",
    "df_metadata = pd.read_csv(file, encoding='latin1', sep=';')\n",
    "df_metadata"
   ]
  },
  {
   "cell_type": "markdown",
   "id": "e9553498-4f18-4757-92f7-384a12ebcff2",
   "metadata": {},
   "source": [
    "The final data must contains this and only this columns with that specific headers in order to standarize the data, this is a type of data dictionary but it also must include the data types (**schema**) of each field (**column**)"
   ]
  },
  {
   "cell_type": "markdown",
   "id": "ca09f0ce-cd22-4aca-94f5-61f4264efde5",
   "metadata": {},
   "source": [
    "## Get raw data"
   ]
  },
  {
   "cell_type": "code",
   "execution_count": 3,
   "id": "4b03382e-9a1c-4532-a256-70a085241dac",
   "metadata": {},
   "outputs": [
    {
     "name": "stdout",
     "output_type": "stream",
     "text": [
      "<class 'pandas.core.frame.DataFrame'>\n",
      "RangeIndex: 16243 entries, 0 to 16242\n",
      "Data columns (total 10 columns):\n",
      " #   Column               Non-Null Count  Dtype \n",
      "---  ------               --------------  ----- \n",
      " 0   NUMERO_INCIDENTE     16243 non-null  object\n",
      " 1   FECHA_DESPACHO_518   16243 non-null  object\n",
      " 2   CODIGO DE LOCALIDAD  16243 non-null  int64 \n",
      " 3   LOCALIDAD            16243 non-null  object\n",
      " 4   EDAD                 16243 non-null  int64 \n",
      " 5   UNIDAD               16243 non-null  object\n",
      " 6   GENERO               16243 non-null  object\n",
      " 7   RED                  16243 non-null  object\n",
      " 8   TIPO_INCIDENTE       16243 non-null  object\n",
      " 9   PRIORIDAD            16243 non-null  object\n",
      "dtypes: int64(2), object(8)\n",
      "memory usage: 1.2+ MB\n",
      "None\n"
     ]
    }
   ],
   "source": [
    "raw_data_dic = get_input_data(bucket=bucket,\n",
    "                          initial_directory=directory,\n",
    "                          filename = 'datos_abiertos_cons_diciembre_2019.csv')\n",
    "print(raw_data_dic.info())"
   ]
  },
  {
   "cell_type": "markdown",
   "id": "5eb9ef0e-e60c-49ce-94f7-6d3f18f71a62",
   "metadata": {},
   "source": [
    "It seems that this file contains already the fields, but need to rename them"
   ]
  },
  {
   "cell_type": "markdown",
   "id": "9bbedf48-cbe2-41c5-bcd7-d99f3d3f4caf",
   "metadata": {},
   "source": [
    "### Rename Columns"
   ]
  },
  {
   "cell_type": "code",
   "execution_count": 4,
   "id": "4d354b06-a4ef-4a8e-81d5-2a1ba773e78f",
   "metadata": {},
   "outputs": [
    {
     "data": {
      "text/html": [
       "<div>\n",
       "<style scoped>\n",
       "    .dataframe tbody tr th:only-of-type {\n",
       "        vertical-align: middle;\n",
       "    }\n",
       "\n",
       "    .dataframe tbody tr th {\n",
       "        vertical-align: top;\n",
       "    }\n",
       "\n",
       "    .dataframe thead th {\n",
       "        text-align: right;\n",
       "    }\n",
       "</style>\n",
       "<table border=\"1\" class=\"dataframe\">\n",
       "  <thead>\n",
       "    <tr style=\"text-align: right;\">\n",
       "      <th></th>\n",
       "      <th>FECHA_INCIDENTE</th>\n",
       "      <th>FECHA_INICIO_DESPLAZAMIENTO_MOVIL</th>\n",
       "      <th>CODIGO_LOCALIDAD</th>\n",
       "      <th>LOCALIDAD</th>\n",
       "      <th>EDAD</th>\n",
       "      <th>UNIDAD</th>\n",
       "      <th>GENERO</th>\n",
       "      <th>RED</th>\n",
       "      <th>TIPO_INCIDENTE</th>\n",
       "      <th>PRIORIDAD</th>\n",
       "    </tr>\n",
       "  </thead>\n",
       "  <tbody>\n",
       "    <tr>\n",
       "      <th>0</th>\n",
       "      <td>1178693196</td>\n",
       "      <td>2019-12-01 03:18:23</td>\n",
       "      <td>8</td>\n",
       "      <td>Kennedy</td>\n",
       "      <td>14</td>\n",
       "      <td>Años</td>\n",
       "      <td>MASCULINO</td>\n",
       "      <td>Privada</td>\n",
       "      <td>Accidente Tránsito con Heridos/Muertos</td>\n",
       "      <td>ALTA</td>\n",
       "    </tr>\n",
       "    <tr>\n",
       "      <th>1</th>\n",
       "      <td>1176480196</td>\n",
       "      <td>2019-12-01 00:05:59</td>\n",
       "      <td>5</td>\n",
       "      <td>Usme</td>\n",
       "      <td>0</td>\n",
       "      <td>SIN/DATO</td>\n",
       "      <td>SIN/DATO</td>\n",
       "      <td>Sur</td>\n",
       "      <td>Accidente Tránsito con Heridos/Muertos</td>\n",
       "      <td>ALTA</td>\n",
       "    </tr>\n",
       "    <tr>\n",
       "      <th>2</th>\n",
       "      <td>1180282196</td>\n",
       "      <td>2019-12-01 05:37:10</td>\n",
       "      <td>7</td>\n",
       "      <td>Bosa</td>\n",
       "      <td>32</td>\n",
       "      <td>Años</td>\n",
       "      <td>MASCULINO</td>\n",
       "      <td>Privada</td>\n",
       "      <td>Accidente Tránsito con Heridos/Muertos</td>\n",
       "      <td>ALTA</td>\n",
       "    </tr>\n",
       "    <tr>\n",
       "      <th>3</th>\n",
       "      <td>1176520196</td>\n",
       "      <td>2019-12-01 00:07:43</td>\n",
       "      <td>3</td>\n",
       "      <td>Santa Fe</td>\n",
       "      <td>0</td>\n",
       "      <td>SIN/DATO</td>\n",
       "      <td>SIN/DATO</td>\n",
       "      <td>Norte</td>\n",
       "      <td>Lesiones Personales</td>\n",
       "      <td>ALTA</td>\n",
       "    </tr>\n",
       "    <tr>\n",
       "      <th>4</th>\n",
       "      <td>1180873196</td>\n",
       "      <td>2019-12-01 07:14:08</td>\n",
       "      <td>5</td>\n",
       "      <td>Usme</td>\n",
       "      <td>53</td>\n",
       "      <td>Años</td>\n",
       "      <td>FEMENINO</td>\n",
       "      <td>Privada</td>\n",
       "      <td>Accidente Tránsito con Heridos/Muertos</td>\n",
       "      <td>ALTA</td>\n",
       "    </tr>\n",
       "  </tbody>\n",
       "</table>\n",
       "</div>"
      ],
      "text/plain": [
       "  FECHA_INCIDENTE FECHA_INICIO_DESPLAZAMIENTO_MOVIL  CODIGO_LOCALIDAD  \\\n",
       "0      1178693196               2019-12-01 03:18:23                 8   \n",
       "1      1176480196               2019-12-01 00:05:59                 5   \n",
       "2      1180282196               2019-12-01 05:37:10                 7   \n",
       "3      1176520196               2019-12-01 00:07:43                 3   \n",
       "4      1180873196               2019-12-01 07:14:08                 5   \n",
       "\n",
       "  LOCALIDAD  EDAD    UNIDAD     GENERO      RED  \\\n",
       "0   Kennedy    14      Años  MASCULINO  Privada   \n",
       "1      Usme     0  SIN/DATO   SIN/DATO      Sur   \n",
       "2      Bosa    32      Años  MASCULINO  Privada   \n",
       "3  Santa Fe     0  SIN/DATO   SIN/DATO    Norte   \n",
       "4      Usme    53      Años   FEMENINO  Privada   \n",
       "\n",
       "                           TIPO_INCIDENTE PRIORIDAD  \n",
       "0  Accidente Tránsito con Heridos/Muertos      ALTA  \n",
       "1  Accidente Tránsito con Heridos/Muertos      ALTA  \n",
       "2  Accidente Tránsito con Heridos/Muertos      ALTA  \n",
       "3                     Lesiones Personales      ALTA  \n",
       "4  Accidente Tránsito con Heridos/Muertos      ALTA  "
      ]
     },
     "execution_count": 4,
     "metadata": {},
     "output_type": "execute_result"
    }
   ],
   "source": [
    "# Don't let white spaces between headers to avoid errors during the pipeline\n",
    "# This is sometimes called a recipe for etl\n",
    "raw_data_dic.rename(\n",
    "    columns = {\n",
    "        'NUMERO_INCIDENTE'                 : 'FECHA_INCIDENTE',\n",
    "        'FECHA_DESPACHO_518'               : 'FECHA_INICIO_DESPLAZAMIENTO_MOVIL',\n",
    "        'CODIGO DE LOCALIDAD'               : 'CODIGO_LOCALIDAD',\n",
    "    },\n",
    "    inplace=True\n",
    ")\n",
    "raw_data_dic.head()"
   ]
  },
  {
   "cell_type": "markdown",
   "id": "188353cb-3a29-4285-9e1d-5ca19ed9105c",
   "metadata": {},
   "source": [
    "### Check values per field\n",
    "--------\n",
    "1. FECHA_INICIO_DESPLAZAMIENTO-MOVIL\n",
    "2. LOCALIDAD\n",
    "3. UNIDAD\n",
    "4. GENERO\n",
    "5. RED\n",
    "6. TIPO_INCIDENTE\n",
    "7. PRIORIDAD"
   ]
  },
  {
   "cell_type": "code",
   "execution_count": 5,
   "id": "729be0fc-afc3-4bf4-8abd-962db24cc255",
   "metadata": {},
   "outputs": [
    {
     "data": {
      "text/html": [
       "<div>\n",
       "<style scoped>\n",
       "    .dataframe tbody tr th:only-of-type {\n",
       "        vertical-align: middle;\n",
       "    }\n",
       "\n",
       "    .dataframe tbody tr th {\n",
       "        vertical-align: top;\n",
       "    }\n",
       "\n",
       "    .dataframe thead th {\n",
       "        text-align: right;\n",
       "    }\n",
       "</style>\n",
       "<table border=\"1\" class=\"dataframe\">\n",
       "  <thead>\n",
       "    <tr style=\"text-align: right;\">\n",
       "      <th></th>\n",
       "      <th>FECHA_INCIDENTE</th>\n",
       "      <th>FECHA_INICIO_DESPLAZAMIENTO_MOVIL</th>\n",
       "      <th>CODIGO_LOCALIDAD</th>\n",
       "      <th>LOCALIDAD</th>\n",
       "      <th>EDAD</th>\n",
       "      <th>UNIDAD</th>\n",
       "      <th>GENERO</th>\n",
       "      <th>RED</th>\n",
       "      <th>TIPO_INCIDENTE</th>\n",
       "      <th>PRIORIDAD</th>\n",
       "    </tr>\n",
       "  </thead>\n",
       "  <tbody>\n",
       "    <tr>\n",
       "      <th>0</th>\n",
       "      <td>1178693196</td>\n",
       "      <td>2019-12-01 03:18:23</td>\n",
       "      <td>8</td>\n",
       "      <td>Kennedy</td>\n",
       "      <td>14</td>\n",
       "      <td>Años</td>\n",
       "      <td>MASCULINO</td>\n",
       "      <td>Privada</td>\n",
       "      <td>Accidente Tránsito con Heridos/Muertos</td>\n",
       "      <td>ALTA</td>\n",
       "    </tr>\n",
       "    <tr>\n",
       "      <th>1</th>\n",
       "      <td>1176480196</td>\n",
       "      <td>2019-12-01 00:05:59</td>\n",
       "      <td>5</td>\n",
       "      <td>Usme</td>\n",
       "      <td>0</td>\n",
       "      <td>SIN/DATO</td>\n",
       "      <td>SIN/DATO</td>\n",
       "      <td>Sur</td>\n",
       "      <td>Accidente Tránsito con Heridos/Muertos</td>\n",
       "      <td>ALTA</td>\n",
       "    </tr>\n",
       "    <tr>\n",
       "      <th>2</th>\n",
       "      <td>1180282196</td>\n",
       "      <td>2019-12-01 05:37:10</td>\n",
       "      <td>7</td>\n",
       "      <td>Bosa</td>\n",
       "      <td>32</td>\n",
       "      <td>Años</td>\n",
       "      <td>MASCULINO</td>\n",
       "      <td>Privada</td>\n",
       "      <td>Accidente Tránsito con Heridos/Muertos</td>\n",
       "      <td>ALTA</td>\n",
       "    </tr>\n",
       "    <tr>\n",
       "      <th>3</th>\n",
       "      <td>1176520196</td>\n",
       "      <td>2019-12-01 00:07:43</td>\n",
       "      <td>3</td>\n",
       "      <td>Santa Fe</td>\n",
       "      <td>0</td>\n",
       "      <td>SIN/DATO</td>\n",
       "      <td>SIN/DATO</td>\n",
       "      <td>Norte</td>\n",
       "      <td>Lesiones Personales</td>\n",
       "      <td>ALTA</td>\n",
       "    </tr>\n",
       "    <tr>\n",
       "      <th>4</th>\n",
       "      <td>1180873196</td>\n",
       "      <td>2019-12-01 07:14:08</td>\n",
       "      <td>5</td>\n",
       "      <td>Usme</td>\n",
       "      <td>53</td>\n",
       "      <td>Años</td>\n",
       "      <td>FEMENINO</td>\n",
       "      <td>Privada</td>\n",
       "      <td>Accidente Tránsito con Heridos/Muertos</td>\n",
       "      <td>ALTA</td>\n",
       "    </tr>\n",
       "  </tbody>\n",
       "</table>\n",
       "</div>"
      ],
      "text/plain": [
       "  FECHA_INCIDENTE FECHA_INICIO_DESPLAZAMIENTO_MOVIL  CODIGO_LOCALIDAD  \\\n",
       "0      1178693196               2019-12-01 03:18:23                 8   \n",
       "1      1176480196               2019-12-01 00:05:59                 5   \n",
       "2      1180282196               2019-12-01 05:37:10                 7   \n",
       "3      1176520196               2019-12-01 00:07:43                 3   \n",
       "4      1180873196               2019-12-01 07:14:08                 5   \n",
       "\n",
       "  LOCALIDAD  EDAD    UNIDAD     GENERO      RED  \\\n",
       "0   Kennedy    14      Años  MASCULINO  Privada   \n",
       "1      Usme     0  SIN/DATO   SIN/DATO      Sur   \n",
       "2      Bosa    32      Años  MASCULINO  Privada   \n",
       "3  Santa Fe     0  SIN/DATO   SIN/DATO    Norte   \n",
       "4      Usme    53      Años   FEMENINO  Privada   \n",
       "\n",
       "                           TIPO_INCIDENTE PRIORIDAD  \n",
       "0  Accidente Tránsito con Heridos/Muertos      ALTA  \n",
       "1  Accidente Tránsito con Heridos/Muertos      ALTA  \n",
       "2  Accidente Tránsito con Heridos/Muertos      ALTA  \n",
       "3                     Lesiones Personales      ALTA  \n",
       "4  Accidente Tránsito con Heridos/Muertos      ALTA  "
      ]
     },
     "execution_count": 5,
     "metadata": {},
     "output_type": "execute_result"
    }
   ],
   "source": [
    "col = 'FECHA_INICIO_DESPLAZAMIENTO_MOVIL'\n",
    "raw_data_dic[col] = pd.to_datetime(raw_data_dic[col], format='%Y/%m/%d %H:%M') \n",
    "raw_data_dic[col].value_counts\n",
    "raw_data_dic.head()"
   ]
  },
  {
   "cell_type": "code",
   "execution_count": 6,
   "id": "c7e613bd-d1d0-49bd-b7a3-919e2ed04957",
   "metadata": {},
   "outputs": [
    {
     "data": {
      "text/plain": [
       "Kennedy               2317\n",
       "Engativá              1644\n",
       "Suba                  1471\n",
       "Bosa                  1182\n",
       "Ciudad Bolívar        1121\n",
       "Puente Aranda          904\n",
       "Fontibón               864\n",
       "San Cristóbal          838\n",
       "Rafael Uribe Uribe     772\n",
       "Usaquén                770\n",
       "Usme                   630\n",
       "Tunjuelito             616\n",
       "Santa Fe               589\n",
       "Chapinero              556\n",
       "Los Mártires           525\n",
       "Barrios Unidos         513\n",
       "Teusaquillo            497\n",
       "Antonio Nariño         373\n",
       "La Candelaria           60\n",
       "Sumapaz                  1\n",
       "Name: LOCALIDAD, dtype: int64"
      ]
     },
     "execution_count": 6,
     "metadata": {},
     "output_type": "execute_result"
    }
   ],
   "source": [
    "col = 'LOCALIDAD'\n",
    "raw_data_dic[col] = raw_data_dic[col].apply(lambda x: x.strip())\n",
    "raw_data_dic[col].value_counts(dropna=False) "
   ]
  },
  {
   "cell_type": "code",
   "execution_count": 8,
   "id": "251daf90-954b-4407-825a-b668734de90a",
   "metadata": {},
   "outputs": [
    {
     "data": {
      "text/plain": [
       "SIN/DATO    8286\n",
       "Años        7889\n",
       "Meses         45\n",
       "Horas         13\n",
       "Dias          10\n",
       "Name: UNIDAD, dtype: int64"
      ]
     },
     "execution_count": 8,
     "metadata": {},
     "output_type": "execute_result"
    }
   ],
   "source": [
    "col = 'UNIDAD'\n",
    "raw_data_dic[col] = raw_data_dic[col].apply(lambda x: x.strip())\n",
    "raw_data_dic[col].value_counts(dropna=False) "
   ]
  },
  {
   "cell_type": "markdown",
   "id": "1af92623-c419-4db6-b0a2-5d0d0dc158d2",
   "metadata": {},
   "source": [
    "It seems that in some fields exist a white space at the begining of the values, probably at the end too, lets clean them all"
   ]
  },
  {
   "cell_type": "code",
   "execution_count": 9,
   "id": "98f1ee15-dc8c-4802-94ad-0179d45665de",
   "metadata": {},
   "outputs": [
    {
     "data": {
      "text/plain": [
       "SIN/DATO     8286\n",
       "MASCULINO    4405\n",
       "FEMENINO     3552\n",
       "Name: GENERO, dtype: int64"
      ]
     },
     "execution_count": 9,
     "metadata": {},
     "output_type": "execute_result"
    }
   ],
   "source": [
    "col = 'GENERO'\n",
    "raw_data_dic[col] = raw_data_dic[col].apply(lambda x: x.strip())\n",
    "raw_data_dic[col].value_counts(dropna=False) "
   ]
  },
  {
   "cell_type": "code",
   "execution_count": 10,
   "id": "e5b75e82-5d10-42fa-bb37-f5d5d3a0c8dd",
   "metadata": {},
   "outputs": [
    {
     "data": {
      "text/plain": [
       "Norte      7114\n",
       "Sur        6282\n",
       "Privada    2847\n",
       "Name: RED, dtype: int64"
      ]
     },
     "execution_count": 10,
     "metadata": {},
     "output_type": "execute_result"
    }
   ],
   "source": [
    "col = 'RED'\n",
    "raw_data_dic[col] = raw_data_dic[col].apply(lambda x: x.strip())\n",
    "raw_data_dic[col].value_counts(dropna=False) "
   ]
  },
  {
   "cell_type": "code",
   "execution_count": 11,
   "id": "2ce261b7-3ebb-45b5-8915-4b5aa1921d27",
   "metadata": {},
   "outputs": [
    {
     "data": {
      "text/plain": [
       "Heridos accidentales                      7390\n",
       "Inconsciente / paro cardiorespiratorio    1743\n",
       "Evento respiratorio                       1404\n",
       "Convulsión                                1027\n",
       "Enfermo                                    873\n",
       "Trastorno mental                           650\n",
       "Dolor torácico                             611\n",
       "Intento de Suicidio                        543\n",
       "Caída de Altura                            377\n",
       "Patología ginecobstétrica                  371\n",
       "Accidente Cerebro\\nVascular                365\n",
       "Síntomas gastrointestinales                275\n",
       "Intoxicación                               153\n",
       "S/D                                        138\n",
       "Accidente Tránsito con Heridos/Muertos     108\n",
       "Amenaza de\\nSuicidio                        95\n",
       "Violencia Sexual                            28\n",
       "Sangrado Vaginal                            24\n",
       "Lesiones Personales                         23\n",
       "Quemaduras                                  16\n",
       "Electrocución / Rescate                     10\n",
       "Accidente Cerebro Vascular (ACV)             7\n",
       "Maltrato                                     7\n",
       "Incendio estructural                         2\n",
       "Muerte Natural                               2\n",
       "Accidente de Aviación                        1\n",
       "Name: TIPO_INCIDENTE, dtype: int64"
      ]
     },
     "execution_count": 11,
     "metadata": {},
     "output_type": "execute_result"
    }
   ],
   "source": [
    "col = 'TIPO_INCIDENTE'\n",
    "raw_data_dic[col] = raw_data_dic[col].apply(lambda x: x.strip())\n",
    "raw_data_dic[col].value_counts(dropna=False)"
   ]
  },
  {
   "cell_type": "code",
   "execution_count": 15,
   "id": "b0b0ce51-ea1a-4bdb-8c12-d41f611bb276",
   "metadata": {},
   "outputs": [
    {
     "data": {
      "text/plain": [
       "2        10668\n",
       "1         3128\n",
       "3         1922\n",
       "ALTA       300\n",
       "4          197\n",
       "MEDIA       23\n",
       "BAJA         5\n",
       "Name: PRIORIDAD, dtype: int64"
      ]
     },
     "execution_count": 15,
     "metadata": {},
     "output_type": "execute_result"
    }
   ],
   "source": [
    "col = 'PRIORIDAD'\n",
    "#raw_data[col] = raw_data[col].apply(lambda x: x.strip())\n",
    "raw_data_dic[col].value_counts(dropna=False)"
   ]
  },
  {
   "cell_type": "markdown",
   "id": "e6f30471-1464-47a9-a444-970a302baea7",
   "metadata": {},
   "source": [
    "# Profile of the Data\n",
    "------\n",
    "first install pandas profiling, from a terminal\n",
    "\n",
    "````\n",
    "pip install pandas-profiling\n",
    "````"
   ]
  },
  {
   "cell_type": "code",
   "execution_count": 23,
   "id": "c644d684-7ca4-46f2-8f02-36076567be21",
   "metadata": {},
   "outputs": [
    {
     "data": {
      "text/plain": [
       "'/home/jupyter/ESEIT_BigData'"
      ]
     },
     "execution_count": 23,
     "metadata": {},
     "output_type": "execute_result"
    }
   ],
   "source": [
    "project_dir"
   ]
  },
  {
   "cell_type": "code",
   "execution_count": 16,
   "id": "66f66769-d164-42e4-bcfb-e43b7fef1859",
   "metadata": {},
   "outputs": [
    {
     "data": {
      "application/vnd.jupyter.widget-view+json": {
       "model_id": "eaa0f2cd981545c38c3e08e452efae58",
       "version_major": 2,
       "version_minor": 0
      },
      "text/plain": [
       "Summarize dataset:   0%|          | 0/5 [00:00<?, ?it/s]"
      ]
     },
     "metadata": {},
     "output_type": "display_data"
    },
    {
     "data": {
      "application/vnd.jupyter.widget-view+json": {
       "model_id": "912910bee2904e6bb1386aef834eb875",
       "version_major": 2,
       "version_minor": 0
      },
      "text/plain": [
       "Generate report structure:   0%|          | 0/1 [00:00<?, ?it/s]"
      ]
     },
     "metadata": {},
     "output_type": "display_data"
    },
    {
     "data": {
      "application/vnd.jupyter.widget-view+json": {
       "model_id": "d663683b294f444aa3c8b1f5f4720899",
       "version_major": 2,
       "version_minor": 0
      },
      "text/plain": [
       "Render HTML:   0%|          | 0/1 [00:00<?, ?it/s]"
      ]
     },
     "metadata": {},
     "output_type": "display_data"
    },
    {
     "data": {
      "application/vnd.jupyter.widget-view+json": {
       "model_id": "80f72129b77a4a37a9232023a3693c85",
       "version_major": 2,
       "version_minor": 0
      },
      "text/plain": [
       "Export report to file:   0%|          | 0/1 [00:00<?, ?it/s]"
      ]
     },
     "metadata": {},
     "output_type": "display_data"
    }
   ],
   "source": [
    "profile = ProfileReport(df=raw_data_dic)\n",
    "profile.to_file(output_file=project_dir + '/reports/'+'profile_raw_data_diciembre_2019.html')"
   ]
  },
  {
   "cell_type": "markdown",
   "id": "a7a93408-dff3-402c-8324-2262c187a797",
   "metadata": {},
   "source": [
    "Form the initial report of the file we see that are duplicates rows in the table, we need to subtract them"
   ]
  },
  {
   "cell_type": "markdown",
   "id": "113216ea-7395-4cb0-8691-b9554ec270ab",
   "metadata": {},
   "source": [
    "### Remove duplicates"
   ]
  },
  {
   "cell_type": "code",
   "execution_count": 17,
   "id": "67b41e99-6206-4a24-b838-b8f8e71ae17f",
   "metadata": {},
   "outputs": [
    {
     "name": "stdout",
     "output_type": "stream",
     "text": [
      "Number of rows before cleaning: 16243\n",
      "Number of rows after cleaning: 16162\n"
     ]
    }
   ],
   "source": [
    "print('Number of rows before cleaning:', raw_data_dic.shape[0] )\n",
    "raw_data_dic.drop_duplicates(inplace=True)\n",
    "print('Number of rows after cleaning:', raw_data_dic.shape[0] )"
   ]
  },
  {
   "cell_type": "markdown",
   "id": "a89276dd-f903-4752-9f7f-15e360c7207f",
   "metadata": {},
   "source": [
    "### Save the final table\n",
    "use to_csv to save the table"
   ]
  },
  {
   "cell_type": "code",
   "execution_count": 19,
   "id": "33a9d6aa-ed3d-465b-a920-404a17490f79",
   "metadata": {},
   "outputs": [],
   "source": [
    "# saving in a local directory\n",
    "raw_data_dic.to_csv(project_dir + '/data/processed/' +'clean_llamadas_123_diciembre_2019.csv', encoding='latin1', sep=';', index=False)"
   ]
  },
  {
   "cell_type": "code",
   "execution_count": null,
   "id": "45a07cac-a200-4a9a-86dd-1d5a62ab5c4f",
   "metadata": {},
   "outputs": [],
   "source": []
  }
 ],
 "metadata": {
  "environment": {
   "kernel": "python3",
   "name": "tf2-gpu.2-8.m91",
   "type": "gcloud",
   "uri": "gcr.io/deeplearning-platform-release/tf2-gpu.2-8:m91"
  },
  "kernelspec": {
   "display_name": "Python 3",
   "language": "python",
   "name": "python3"
  },
  "language_info": {
   "codemirror_mode": {
    "name": "ipython",
    "version": 3
   },
   "file_extension": ".py",
   "mimetype": "text/x-python",
   "name": "python",
   "nbconvert_exporter": "python",
   "pygments_lexer": "ipython3",
   "version": "3.7.12"
  }
 },
 "nbformat": 4,
 "nbformat_minor": 5
}
