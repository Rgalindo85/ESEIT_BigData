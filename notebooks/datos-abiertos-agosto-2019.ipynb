{
 "cells": [
  {
   "cell_type": "markdown",
   "id": "a7dac6ca-3d99-49ad-b3bd-76c1144c6939",
   "metadata": {},
   "source": [
    "# Datos abiertos agosto 2019"
   ]
  },
  {
   "cell_type": "code",
   "execution_count": 1,
   "id": "19dc2eac-db51-40ad-9834-b50602429973",
   "metadata": {},
   "outputs": [],
   "source": [
    "import os\n",
    "import sys\n",
    "import logging\n",
    "import pandas as pd\n",
    "\n",
    "from pandas_profiling import ProfileReport\n",
    "\n",
    "\n",
    "project_dir = os.path.dirname(os.path.abspath('.')) # get the path of the project, if doesn't work use os.getcwd() instead and use rfind to find the project dir\n",
    "sys.path.append(os.path.join(project_dir, 'src', 'data'))\n",
    "\n",
    "from data_manipulator import get_input_data\n",
    "\n",
    "bucket = 'fredo7'\n",
    "directory = 'BigData'"
   ]
  },
  {
   "cell_type": "markdown",
   "id": "ca09f0ce-cd22-4aca-94f5-61f4264efde5",
   "metadata": {
    "tags": []
   },
   "source": [
    "## Get raw data"
   ]
  },
  {
   "cell_type": "code",
   "execution_count": 2,
   "id": "4b03382e-9a1c-4532-a256-70a085241dac",
   "metadata": {},
   "outputs": [
    {
     "name": "stdout",
     "output_type": "stream",
     "text": [
      "<class 'pandas.core.frame.DataFrame'>\n",
      "RangeIndex: 18141 entries, 0 to 18140\n",
      "Data columns (total 12 columns):\n",
      " #   Column                             Non-Null Count  Dtype \n",
      "---  ------                             --------------  ----- \n",
      " 0   NUMERO_INCIDENTE                   18141 non-null  int64 \n",
      " 1   FECHA_INICIO_DESPLAZAMIENTO-MOVIL  18141 non-null  object\n",
      " 2   CODIGO DE LOCALIDAD                18141 non-null  int64 \n",
      " 3   LOCALIDAD                          18141 non-null  object\n",
      " 4   EDAD                               18141 non-null  object\n",
      " 5   UNIDAD                             18141 non-null  object\n",
      " 6   GENERO                             18141 non-null  object\n",
      " 7   RED                                18141 non-null  object\n",
      " 8   TIPO DE INCIDIDENT                 18141 non-null  object\n",
      " 9   PRIORIDAD                          18141 non-null  object\n",
      " 10  MES                                18141 non-null  object\n",
      " 11  CLASIFICACION FINAL                18138 non-null  object\n",
      "dtypes: int64(2), object(10)\n",
      "memory usage: 1.7+ MB\n",
      "None\n"
     ]
    }
   ],
   "source": [
    "raw_data = get_input_data(\n",
    "    bucket=bucket,\n",
    "    initial_directory=directory,\n",
    "    filename = 'datos-abiertos-agosto-2019.csv')\n",
    "print(raw_data.info())"
   ]
  },
  {
   "cell_type": "code",
   "execution_count": 4,
   "id": "a6e39839-e698-4428-b66b-294fea2bacf2",
   "metadata": {},
   "outputs": [
    {
     "data": {
      "text/html": [
       "<div>\n",
       "<style scoped>\n",
       "    .dataframe tbody tr th:only-of-type {\n",
       "        vertical-align: middle;\n",
       "    }\n",
       "\n",
       "    .dataframe tbody tr th {\n",
       "        vertical-align: top;\n",
       "    }\n",
       "\n",
       "    .dataframe thead th {\n",
       "        text-align: right;\n",
       "    }\n",
       "</style>\n",
       "<table border=\"1\" class=\"dataframe\">\n",
       "  <thead>\n",
       "    <tr style=\"text-align: right;\">\n",
       "      <th></th>\n",
       "      <th>NUMERO_INCIDENTE</th>\n",
       "      <th>FECHA_INICIO_DESPLAZAMIENTO-MOVIL</th>\n",
       "      <th>CODIGO DE LOCALIDAD</th>\n",
       "      <th>LOCALIDAD</th>\n",
       "      <th>EDAD</th>\n",
       "      <th>UNIDAD</th>\n",
       "      <th>GENERO</th>\n",
       "      <th>RED</th>\n",
       "      <th>TIPO DE INCIDIDENT</th>\n",
       "      <th>PRIORIDAD</th>\n",
       "      <th>MES</th>\n",
       "      <th>CLASIFICACION FINAL</th>\n",
       "    </tr>\n",
       "  </thead>\n",
       "  <tbody>\n",
       "    <tr>\n",
       "      <th>0</th>\n",
       "      <td>809224194</td>\n",
       "      <td>1/08/2019 0:28</td>\n",
       "      <td>1</td>\n",
       "      <td>Usaquen</td>\n",
       "      <td>SIN_DATO</td>\n",
       "      <td>SIN_DATO</td>\n",
       "      <td>SIN_DATO</td>\n",
       "      <td>Norte</td>\n",
       "      <td>Inconsciente/Paro Cardiorrespiratorio</td>\n",
       "      <td>ALTA</td>\n",
       "      <td>AGOSTO</td>\n",
       "      <td>Cancelado</td>\n",
       "    </tr>\n",
       "    <tr>\n",
       "      <th>1</th>\n",
       "      <td>809224194</td>\n",
       "      <td>1/08/2019 0:28</td>\n",
       "      <td>1</td>\n",
       "      <td>Usaquen</td>\n",
       "      <td>SIN_DATO</td>\n",
       "      <td>SIN_DATO</td>\n",
       "      <td>SIN_DATO</td>\n",
       "      <td>Norte</td>\n",
       "      <td>Inconsciente/Paro Cardiorrespiratorio</td>\n",
       "      <td>ALTA</td>\n",
       "      <td>AGOSTO</td>\n",
       "      <td>Cancelado</td>\n",
       "    </tr>\n",
       "    <tr>\n",
       "      <th>2</th>\n",
       "      <td>809240194</td>\n",
       "      <td>1/08/2019 0:15</td>\n",
       "      <td>11</td>\n",
       "      <td>Suba</td>\n",
       "      <td>SIN_DATO</td>\n",
       "      <td>SIN_DATO</td>\n",
       "      <td>SIN_DATO</td>\n",
       "      <td>Norte</td>\n",
       "      <td>Accidente cerebro vascular</td>\n",
       "      <td>BAJA</td>\n",
       "      <td>AGOSTO</td>\n",
       "      <td>Cancelado</td>\n",
       "    </tr>\n",
       "    <tr>\n",
       "      <th>3</th>\n",
       "      <td>809240194</td>\n",
       "      <td>1/08/2019 0:15</td>\n",
       "      <td>11</td>\n",
       "      <td>Suba</td>\n",
       "      <td>SIN_DATO</td>\n",
       "      <td>SIN_DATO</td>\n",
       "      <td>SIN_DATO</td>\n",
       "      <td>Norte</td>\n",
       "      <td>Accidente cerebro vascular</td>\n",
       "      <td>BAJA</td>\n",
       "      <td>AGOSTO</td>\n",
       "      <td>Cancelado</td>\n",
       "    </tr>\n",
       "    <tr>\n",
       "      <th>4</th>\n",
       "      <td>809240194</td>\n",
       "      <td>1/08/2019 0:15</td>\n",
       "      <td>11</td>\n",
       "      <td>Suba</td>\n",
       "      <td>SIN_DATO</td>\n",
       "      <td>SIN_DATO</td>\n",
       "      <td>SIN_DATO</td>\n",
       "      <td>Norte</td>\n",
       "      <td>Accidente cerebro vascular</td>\n",
       "      <td>BAJA</td>\n",
       "      <td>AGOSTO</td>\n",
       "      <td>Cancelado</td>\n",
       "    </tr>\n",
       "  </tbody>\n",
       "</table>\n",
       "</div>"
      ],
      "text/plain": [
       "   NUMERO_INCIDENTE FECHA_INICIO_DESPLAZAMIENTO-MOVIL  CODIGO DE LOCALIDAD  \\\n",
       "0         809224194                    1/08/2019 0:28                    1   \n",
       "1         809224194                    1/08/2019 0:28                    1   \n",
       "2         809240194                    1/08/2019 0:15                   11   \n",
       "3         809240194                    1/08/2019 0:15                   11   \n",
       "4         809240194                    1/08/2019 0:15                   11   \n",
       "\n",
       "  LOCALIDAD      EDAD    UNIDAD    GENERO    RED  \\\n",
       "0   Usaquen  SIN_DATO  SIN_DATO  SIN_DATO  Norte   \n",
       "1   Usaquen  SIN_DATO  SIN_DATO  SIN_DATO  Norte   \n",
       "2      Suba  SIN_DATO  SIN_DATO  SIN_DATO  Norte   \n",
       "3      Suba  SIN_DATO  SIN_DATO  SIN_DATO  Norte   \n",
       "4      Suba  SIN_DATO  SIN_DATO  SIN_DATO  Norte   \n",
       "\n",
       "                       TIPO DE INCIDIDENT PRIORIDAD     MES  \\\n",
       "0  Inconsciente/Paro Cardiorrespiratorio       ALTA  AGOSTO   \n",
       "1  Inconsciente/Paro Cardiorrespiratorio       ALTA  AGOSTO   \n",
       "2             Accidente cerebro vascular       BAJA  AGOSTO   \n",
       "3             Accidente cerebro vascular       BAJA  AGOSTO   \n",
       "4             Accidente cerebro vascular       BAJA  AGOSTO   \n",
       "\n",
       "  CLASIFICACION FINAL  \n",
       "0           Cancelado  \n",
       "1           Cancelado  \n",
       "2           Cancelado  \n",
       "3           Cancelado  \n",
       "4           Cancelado  "
      ]
     },
     "execution_count": 4,
     "metadata": {},
     "output_type": "execute_result"
    }
   ],
   "source": [
    "raw_data.head()"
   ]
  },
  {
   "cell_type": "markdown",
   "id": "dd44c580-6a3c-4544-a27c-a6a53e050f6f",
   "metadata": {},
   "source": [
    "VERIFIQUE EL NOMBRE DE LAS COLUMNAS PARA AJUSTARLO AL ESTANDAR"
   ]
  },
  {
   "cell_type": "markdown",
   "id": "9bbedf48-cbe2-41c5-bcd7-d99f3d3f4caf",
   "metadata": {},
   "source": [
    "### Rename Columns"
   ]
  },
  {
   "cell_type": "code",
   "execution_count": 3,
   "id": "4d354b06-a4ef-4a8e-81d5-2a1ba773e78f",
   "metadata": {},
   "outputs": [
    {
     "data": {
      "text/html": [
       "<div>\n",
       "<style scoped>\n",
       "    .dataframe tbody tr th:only-of-type {\n",
       "        vertical-align: middle;\n",
       "    }\n",
       "\n",
       "    .dataframe tbody tr th {\n",
       "        vertical-align: top;\n",
       "    }\n",
       "\n",
       "    .dataframe thead th {\n",
       "        text-align: right;\n",
       "    }\n",
       "</style>\n",
       "<table border=\"1\" class=\"dataframe\">\n",
       "  <thead>\n",
       "    <tr style=\"text-align: right;\">\n",
       "      <th></th>\n",
       "      <th>NUMERO_INCIDENTE</th>\n",
       "      <th>FECHA_INICIO_DESPLAZAMIENTO_MOVIL</th>\n",
       "      <th>CODIGO_LOCALIDAD</th>\n",
       "      <th>LOCALIDAD</th>\n",
       "      <th>EDAD</th>\n",
       "      <th>UNIDAD</th>\n",
       "      <th>GENERO</th>\n",
       "      <th>RED</th>\n",
       "      <th>TIPO_INCIDENTE</th>\n",
       "      <th>PRIORIDAD</th>\n",
       "      <th>MES</th>\n",
       "      <th>CLASIFICACION_FINAL</th>\n",
       "    </tr>\n",
       "  </thead>\n",
       "  <tbody>\n",
       "    <tr>\n",
       "      <th>0</th>\n",
       "      <td>809224194</td>\n",
       "      <td>1/08/2019 0:28</td>\n",
       "      <td>1</td>\n",
       "      <td>Usaquen</td>\n",
       "      <td>SIN_DATO</td>\n",
       "      <td>SIN_DATO</td>\n",
       "      <td>SIN_DATO</td>\n",
       "      <td>Norte</td>\n",
       "      <td>Inconsciente/Paro Cardiorrespiratorio</td>\n",
       "      <td>ALTA</td>\n",
       "      <td>AGOSTO</td>\n",
       "      <td>Cancelado</td>\n",
       "    </tr>\n",
       "    <tr>\n",
       "      <th>1</th>\n",
       "      <td>809224194</td>\n",
       "      <td>1/08/2019 0:28</td>\n",
       "      <td>1</td>\n",
       "      <td>Usaquen</td>\n",
       "      <td>SIN_DATO</td>\n",
       "      <td>SIN_DATO</td>\n",
       "      <td>SIN_DATO</td>\n",
       "      <td>Norte</td>\n",
       "      <td>Inconsciente/Paro Cardiorrespiratorio</td>\n",
       "      <td>ALTA</td>\n",
       "      <td>AGOSTO</td>\n",
       "      <td>Cancelado</td>\n",
       "    </tr>\n",
       "    <tr>\n",
       "      <th>2</th>\n",
       "      <td>809240194</td>\n",
       "      <td>1/08/2019 0:15</td>\n",
       "      <td>11</td>\n",
       "      <td>Suba</td>\n",
       "      <td>SIN_DATO</td>\n",
       "      <td>SIN_DATO</td>\n",
       "      <td>SIN_DATO</td>\n",
       "      <td>Norte</td>\n",
       "      <td>Accidente cerebro vascular</td>\n",
       "      <td>BAJA</td>\n",
       "      <td>AGOSTO</td>\n",
       "      <td>Cancelado</td>\n",
       "    </tr>\n",
       "    <tr>\n",
       "      <th>3</th>\n",
       "      <td>809240194</td>\n",
       "      <td>1/08/2019 0:15</td>\n",
       "      <td>11</td>\n",
       "      <td>Suba</td>\n",
       "      <td>SIN_DATO</td>\n",
       "      <td>SIN_DATO</td>\n",
       "      <td>SIN_DATO</td>\n",
       "      <td>Norte</td>\n",
       "      <td>Accidente cerebro vascular</td>\n",
       "      <td>BAJA</td>\n",
       "      <td>AGOSTO</td>\n",
       "      <td>Cancelado</td>\n",
       "    </tr>\n",
       "    <tr>\n",
       "      <th>4</th>\n",
       "      <td>809240194</td>\n",
       "      <td>1/08/2019 0:15</td>\n",
       "      <td>11</td>\n",
       "      <td>Suba</td>\n",
       "      <td>SIN_DATO</td>\n",
       "      <td>SIN_DATO</td>\n",
       "      <td>SIN_DATO</td>\n",
       "      <td>Norte</td>\n",
       "      <td>Accidente cerebro vascular</td>\n",
       "      <td>BAJA</td>\n",
       "      <td>AGOSTO</td>\n",
       "      <td>Cancelado</td>\n",
       "    </tr>\n",
       "  </tbody>\n",
       "</table>\n",
       "</div>"
      ],
      "text/plain": [
       "   NUMERO_INCIDENTE FECHA_INICIO_DESPLAZAMIENTO_MOVIL  CODIGO_LOCALIDAD  \\\n",
       "0         809224194                    1/08/2019 0:28                 1   \n",
       "1         809224194                    1/08/2019 0:28                 1   \n",
       "2         809240194                    1/08/2019 0:15                11   \n",
       "3         809240194                    1/08/2019 0:15                11   \n",
       "4         809240194                    1/08/2019 0:15                11   \n",
       "\n",
       "  LOCALIDAD      EDAD    UNIDAD    GENERO    RED  \\\n",
       "0   Usaquen  SIN_DATO  SIN_DATO  SIN_DATO  Norte   \n",
       "1   Usaquen  SIN_DATO  SIN_DATO  SIN_DATO  Norte   \n",
       "2      Suba  SIN_DATO  SIN_DATO  SIN_DATO  Norte   \n",
       "3      Suba  SIN_DATO  SIN_DATO  SIN_DATO  Norte   \n",
       "4      Suba  SIN_DATO  SIN_DATO  SIN_DATO  Norte   \n",
       "\n",
       "                           TIPO_INCIDENTE PRIORIDAD     MES  \\\n",
       "0  Inconsciente/Paro Cardiorrespiratorio       ALTA  AGOSTO   \n",
       "1  Inconsciente/Paro Cardiorrespiratorio       ALTA  AGOSTO   \n",
       "2             Accidente cerebro vascular       BAJA  AGOSTO   \n",
       "3             Accidente cerebro vascular       BAJA  AGOSTO   \n",
       "4             Accidente cerebro vascular       BAJA  AGOSTO   \n",
       "\n",
       "  CLASIFICACION_FINAL  \n",
       "0           Cancelado  \n",
       "1           Cancelado  \n",
       "2           Cancelado  \n",
       "3           Cancelado  \n",
       "4           Cancelado  "
      ]
     },
     "execution_count": 3,
     "metadata": {},
     "output_type": "execute_result"
    }
   ],
   "source": [
    "raw_data.rename(\n",
    "    columns = {\n",
    "        'FECHA_INICIO_DESPLAZAMIENTO-MOVIL' : 'FECHA_INICIO_DESPLAZAMIENTO_MOVIL',\n",
    "        'CODIGO DE LOCALIDAD'               : 'CODIGO_LOCALIDAD',\n",
    "        'TIPO DE INCIDIDENT': 'TIPO_INCIDENTE',\n",
    "        'CLASIFICACION FINAL' : 'CLASIFICACION_FINAL'\n",
    "    },\n",
    "    inplace=True\n",
    ")\n",
    "raw_data.head()"
   ]
  },
  {
   "cell_type": "markdown",
   "id": "188353cb-3a29-4285-9e1d-5ca19ed9105c",
   "metadata": {},
   "source": [
    "### Check values per field\n",
    "--------\n",
    "1. CODIGO LOCALIDAD\n",
    "2. LOCALIDAD\n",
    "3. EDAD\n",
    "4. UNIDAD\n",
    "5. GENERO\n",
    "6. RED\n",
    "7. TIPO_INCIDENTE\n",
    "8. PRIORIDAD\n",
    "9. MES\n",
    "10.CLASIFICACION _ FINAL"
   ]
  },
  {
   "cell_type": "code",
   "execution_count": 4,
   "id": "f2727b25-cfcc-40f3-be6b-73ff197b90c9",
   "metadata": {},
   "outputs": [
    {
     "data": {
      "text/plain": [
       "8     2717\n",
       "10    1805\n",
       "11    1678\n",
       "7     1264\n",
       "19    1220\n",
       "16     977\n",
       "4      906\n",
       "1      894\n",
       "18     892\n",
       "9      878\n",
       "2      707\n",
       "3      682\n",
       "5      637\n",
       "12     608\n",
       "13     599\n",
       "6      595\n",
       "14     593\n",
       "15     369\n",
       "17     119\n",
       "20       1\n",
       "Name: CODIGO_LOCALIDAD, dtype: int64"
      ]
     },
     "execution_count": 4,
     "metadata": {},
     "output_type": "execute_result"
    }
   ],
   "source": [
    "# Columna CODIGO LOCALIDAD\n",
    "# Se validan hay datos nullos \n",
    "# Si hay datos nullos se reemplazan por SIN_DATO\n",
    "# Retiramos todos los espacios en blanco que existan\n",
    "\n",
    "\n",
    "raw_data['CODIGO_LOCALIDAD'].value_counts(dropna=False)\n"
   ]
  },
  {
   "cell_type": "code",
   "execution_count": 5,
   "id": "58031406-9aa0-4375-9f34-5aac95079cf3",
   "metadata": {},
   "outputs": [
    {
     "data": {
      "text/plain": [
       "Kennedy                2717\n",
       " Engativa              1805\n",
       " Suba                  1678\n",
       " Bosa                  1264\n",
       "Ciudad Bolivar         1220\n",
       "Puente Aranda           977\n",
       " San Cristobal          906\n",
       "Usaquen                 894\n",
       " Rafael Uribe Uribe     892\n",
       "Fontibon                878\n",
       "Chapinero               707\n",
       "Santa Fe                682\n",
       " Usme                   637\n",
       " Barrios Unidos         608\n",
       " Teusaquillo            599\n",
       "Tunjuelito              595\n",
       "Los Martires            593\n",
       " Antonio Nariño         369\n",
       " La Candelaria          119\n",
       " Sumapaz                  1\n",
       "Name: LOCALIDAD, dtype: int64"
      ]
     },
     "execution_count": 5,
     "metadata": {},
     "output_type": "execute_result"
    }
   ],
   "source": [
    "# Columna CODIGO LOCALIDAD\n",
    "# Se validan hay datos nullos \n",
    "# Si hay datos nullos se reemplazan por SIN_DATO\n",
    "# Retiramos todos los espacios en blanco que existan\n",
    "raw_data['LOCALIDAD'].value_counts(dropna=False)"
   ]
  },
  {
   "cell_type": "code",
   "execution_count": 32,
   "id": "2ee61314-b74e-4caf-965b-98a0498b26f8",
   "metadata": {},
   "outputs": [
    {
     "data": {
      "text/plain": [
       "Kennedy               2717\n",
       "Engativa              1805\n",
       "Suba                  1678\n",
       "Bosa                  1264\n",
       "Ciudad Bolivar        1220\n",
       "Puente Aranda          977\n",
       "San Cristobal          906\n",
       "Usaquen                894\n",
       "Rafael Uribe Uribe     892\n",
       "Fontibon               878\n",
       "Chapinero              707\n",
       "Santa Fe               682\n",
       "Usme                   637\n",
       "Barrios Unidos         608\n",
       "Teusaquillo            599\n",
       "Tunjuelito             595\n",
       "Los Martires           593\n",
       "Antonio Nariño         369\n",
       "La Candelaria          119\n",
       "Sumapaz                  1\n",
       "Name: LOCALIDAD, dtype: int64"
      ]
     },
     "execution_count": 32,
     "metadata": {},
     "output_type": "execute_result"
    }
   ],
   "source": [
    "# Retiro espacios en blanco\n",
    "raw_data['LOCALIDAD'].apply(\n",
    "    lambda x: x.strip()        \n",
    ").value_counts() \n"
   ]
  },
  {
   "cell_type": "code",
   "execution_count": 6,
   "id": "3735a52a-2ff2-4f06-9150-992594b6a159",
   "metadata": {},
   "outputs": [
    {
     "data": {
      "text/plain": [
       "SIN_DATO    8637\n",
       "22           323\n",
       "23           280\n",
       "25           272\n",
       "24           271\n",
       "            ... \n",
       "99            19\n",
       "6             18\n",
       "4             17\n",
       "97            15\n",
       "98            12\n",
       "Name: EDAD, Length: 100, dtype: int64"
      ]
     },
     "execution_count": 6,
     "metadata": {},
     "output_type": "execute_result"
    }
   ],
   "source": [
    "# Columna \"EDAD\"\n",
    "# Se validan hay datos nullos \n",
    "# Si hay datos nullos se reemplazan por SIN_DATO\n",
    "# Retiramos todos los espacios en blanco que existan\n",
    "raw_data['EDAD'].value_counts(dropna=False)"
   ]
  },
  {
   "cell_type": "code",
   "execution_count": 7,
   "id": "3ed257db-fbe4-4bf2-956b-78976c9ec2fe",
   "metadata": {
    "tags": []
   },
   "outputs": [
    {
     "data": {
      "text/plain": [
       "Años        9447\n",
       "SIN_DATO    8637\n",
       "Meses         42\n",
       "Dias           9\n",
       "Horas          6\n",
       "Name: UNIDAD, dtype: int64"
      ]
     },
     "execution_count": 7,
     "metadata": {},
     "output_type": "execute_result"
    }
   ],
   "source": [
    "# Columna \"UNIDAD\"\n",
    "# Se validan hay datos nullos \n",
    "# Si hay datos nullos se reemplazan por SIN_DATO\n",
    "# Retiramos todos los espacios en blanco que existan\n",
    "\n",
    "raw_data['UNIDAD'].value_counts(dropna=False)"
   ]
  },
  {
   "cell_type": "code",
   "execution_count": 8,
   "id": "761f54ee-d9fb-406c-8615-94bf0f617f76",
   "metadata": {},
   "outputs": [
    {
     "data": {
      "text/plain": [
       "Años        9447\n",
       "SIN_DATO    8637\n",
       "Meses         42\n",
       "Dias           9\n",
       "Horas          6\n",
       "Name: UNIDAD, dtype: int64"
      ]
     },
     "execution_count": 8,
     "metadata": {},
     "output_type": "execute_result"
    }
   ],
   "source": [
    "raw_data['UNIDAD'].apply(\n",
    "    lambda x: x.strip()        \n",
    ").value_counts()"
   ]
  },
  {
   "cell_type": "code",
   "execution_count": 9,
   "id": "b8b9eacf-a1dd-423d-a88c-b5801f65f5bc",
   "metadata": {
    "tags": []
   },
   "outputs": [
    {
     "data": {
      "text/plain": [
       "SIN_DATO     8617\n",
       "MASCULINO    5143\n",
       "FEMENINO     4381\n",
       "Name: GENERO, dtype: int64"
      ]
     },
     "execution_count": 9,
     "metadata": {},
     "output_type": "execute_result"
    }
   ],
   "source": [
    "# Columna \"GENERO\"\n",
    "# Se validan hay datos nullos \n",
    "# Si hay datos nullos se reemplazan por SIN_DATO\n",
    "# Retiramos todos los espacios en blanco que existan\n",
    "\n",
    "raw_data['GENERO'].value_counts(dropna=False)"
   ]
  },
  {
   "cell_type": "code",
   "execution_count": 10,
   "id": "558f9a03-8799-48e0-a65e-bd9e3e162959",
   "metadata": {},
   "outputs": [
    {
     "data": {
      "text/plain": [
       "SIN_DATO     8617\n",
       "MASCULINO    5143\n",
       "FEMENINO     4381\n",
       "Name: GENERO, dtype: int64"
      ]
     },
     "execution_count": 10,
     "metadata": {},
     "output_type": "execute_result"
    }
   ],
   "source": [
    "raw_data['GENERO'].apply(\n",
    "    lambda x: x.strip()        \n",
    ").value_counts()"
   ]
  },
  {
   "cell_type": "code",
   "execution_count": 11,
   "id": "197b4574-4b87-42cb-b201-c3f97b099b09",
   "metadata": {},
   "outputs": [
    {
     "data": {
      "text/plain": [
       "Norte      7925\n",
       "Sur        6507\n",
       "Privada    3709\n",
       "Name: RED, dtype: int64"
      ]
     },
     "execution_count": 11,
     "metadata": {},
     "output_type": "execute_result"
    }
   ],
   "source": [
    "# Columna \"RED\"\n",
    "# Se validan hay datos nullos \n",
    "# Si hay datos nullos se reemplazan por SIN_DATO\n",
    "# Retiramos todos los espacios en blanco que existan\n",
    "\n",
    "\n",
    "raw_data['RED'].value_counts(dropna=False)\n"
   ]
  },
  {
   "cell_type": "code",
   "execution_count": 12,
   "id": "7fbaf9dc-a259-44f0-926b-c10c4b96f3e0",
   "metadata": {},
   "outputs": [
    {
     "data": {
      "text/plain": [
       "Norte      7925\n",
       "Sur        6507\n",
       "Privada    3709\n",
       "Name: RED, dtype: int64"
      ]
     },
     "execution_count": 12,
     "metadata": {},
     "output_type": "execute_result"
    }
   ],
   "source": [
    "raw_data['RED'].apply(\n",
    "    lambda x: x.strip()        \n",
    ").value_counts()"
   ]
  },
  {
   "cell_type": "code",
   "execution_count": 13,
   "id": "b9b8b4a8-bd44-47f2-8dc1-6c8c4b6351a0",
   "metadata": {},
   "outputs": [
    {
     "data": {
      "text/plain": [
       "Accidente de tránsito con heridos/Muertos    6827\n",
       "Inconsciente/Paro Cardiorrespiratorio        1875\n",
       "Dificultad Respiratoria                      1504\n",
       "Enfermo                                      1233\n",
       "Convulsiones                                 1135\n",
       "Heridos                                       847\n",
       "Lesiones personales                           718\n",
       "Trastorno mental                              670\n",
       "Dolor torácico                                628\n",
       "Intento de suicidio                           555\n",
       "Síntomas gastrointestinales                   418\n",
       "Accidente cerebro vascular                    401\n",
       "Patología Gineco - obstétrica                 353\n",
       "Caída                                         295\n",
       "Intoxicaciones                                181\n",
       "Ideas de suicidio                             102\n",
       "SIN_DATO                                       58\n",
       "Incendio estructural                           51\n",
       "Muerte Natural                                 35\n",
       "Violencia Sexual                               33\n",
       "Riña                                           24\n",
       "Solicitud Apoyo / Desacato                     21\n",
       "Accidente Tránsito Simple                      20\n",
       "Sangrado Vaginal                               15\n",
       "Quemaduras                                     15\n",
       "MATPEL (Materiales peligrosos)                  9\n",
       "Fuga de Gas Natural o Propano                   9\n",
       "Elemento caído y/o en peligro de caer.          9\n",
       "Electrocución / Rescate                         9\n",
       "Abrir domicilio                                 8\n",
       "Incidente rescate acuático                      7\n",
       "Manifestación / Motín                           7\n",
       "Embriaguez                                      6\n",
       "Maltrato                                        6\n",
       "Animal Peligroso                                5\n",
       "Rescates                                        5\n",
       "Incendio con MATPEL                             4\n",
       "Menor o persona Abandonada                      4\n",
       "Explosión                                       4\n",
       "Extraviados / Desaparecidos                     3\n",
       "Deslizamiento                                   3\n",
       "Disparos                                        3\n",
       "Persona Pidiendo Auxilio                        3\n",
       "Hurto Efectuado                                 3\n",
       "Incendio Vehicular                              3\n",
       "Persona tendida en la vía                       3\n",
       "Habitante de la Calle                           3\n",
       "Muerto                                          3\n",
       "Abejas                                          3\n",
       "Amenaza de Ruina                                2\n",
       "Atraco / Hurto en Proces                        2\n",
       "Incendio                                        1\n",
       "Name: TIPO_INCIDENTE, dtype: int64"
      ]
     },
     "execution_count": 13,
     "metadata": {},
     "output_type": "execute_result"
    }
   ],
   "source": [
    "# Columna \"TIPO_INCIDENTE\"\n",
    "# Se validan hay datos nullos \n",
    "# Si hay datos nullos se reemplazan por SIN_DATO\n",
    "# Retiramos todos los espacios en blanco que existan\n",
    "\n",
    "\n",
    "raw_data['TIPO_INCIDENTE'].value_counts(dropna=False)\n"
   ]
  },
  {
   "cell_type": "code",
   "execution_count": 14,
   "id": "10d875a1-c7b7-4e32-b850-8fed6da579d9",
   "metadata": {},
   "outputs": [
    {
     "data": {
      "text/plain": [
       "Accidente de tránsito con heridos/Muertos    6827\n",
       "Inconsciente/Paro Cardiorrespiratorio        1875\n",
       "Dificultad Respiratoria                      1504\n",
       "Enfermo                                      1233\n",
       "Convulsiones                                 1135\n",
       "Heridos                                       847\n",
       "Lesiones personales                           718\n",
       "Trastorno mental                              670\n",
       "Dolor torácico                                628\n",
       "Intento de suicidio                           555\n",
       "Síntomas gastrointestinales                   418\n",
       "Accidente cerebro vascular                    401\n",
       "Patología Gineco - obstétrica                 353\n",
       "Caída                                         295\n",
       "Intoxicaciones                                181\n",
       "Ideas de suicidio                             102\n",
       "SIN_DATO                                       58\n",
       "Incendio estructural                           51\n",
       "Muerte Natural                                 35\n",
       "Violencia Sexual                               33\n",
       "Riña                                           24\n",
       "Solicitud Apoyo / Desacato                     21\n",
       "Accidente Tránsito Simple                      20\n",
       "Sangrado Vaginal                               15\n",
       "Quemaduras                                     15\n",
       "MATPEL (Materiales peligrosos)                  9\n",
       "Fuga de Gas Natural o Propano                   9\n",
       "Elemento caído y/o en peligro de caer.          9\n",
       "Electrocución / Rescate                         9\n",
       "Abrir domicilio                                 8\n",
       "Incidente rescate acuático                      7\n",
       "Manifestación / Motín                           7\n",
       "Embriaguez                                      6\n",
       "Maltrato                                        6\n",
       "Animal Peligroso                                5\n",
       "Rescates                                        5\n",
       "Incendio con MATPEL                             4\n",
       "Menor o persona Abandonada                      4\n",
       "Explosión                                       4\n",
       "Extraviados / Desaparecidos                     3\n",
       "Deslizamiento                                   3\n",
       "Disparos                                        3\n",
       "Persona Pidiendo Auxilio                        3\n",
       "Hurto Efectuado                                 3\n",
       "Incendio Vehicular                              3\n",
       "Persona tendida en la vía                       3\n",
       "Habitante de la Calle                           3\n",
       "Muerto                                          3\n",
       "Abejas                                          3\n",
       "Amenaza de Ruina                                2\n",
       "Atraco / Hurto en Proces                        2\n",
       "Incendio                                        1\n",
       "Name: TIPO_INCIDENTE, dtype: int64"
      ]
     },
     "execution_count": 14,
     "metadata": {},
     "output_type": "execute_result"
    }
   ],
   "source": [
    "raw_data['TIPO_INCIDENTE'].apply(\n",
    "    lambda x: x.strip()        \n",
    ").value_counts()"
   ]
  },
  {
   "cell_type": "code",
   "execution_count": 15,
   "id": "9fc364e1-51d6-4708-b881-2677064fdb49",
   "metadata": {},
   "outputs": [
    {
     "data": {
      "text/plain": [
       "ALTA        15314\n",
       "MEDIA        2539\n",
       "BAJA          246\n",
       "SIN_DATO       42\n",
       "Name: PRIORIDAD, dtype: int64"
      ]
     },
     "execution_count": 15,
     "metadata": {},
     "output_type": "execute_result"
    }
   ],
   "source": [
    "# Columna \"PRIORIDAD\"\n",
    "# Se validan hay datos nullos \n",
    "# Si hay datos nullos se reemplazan por SIN_DATO\n",
    "# Retiramos todos los espacios en blanco que existan\n",
    "\n",
    "raw_data['PRIORIDAD'].value_counts(dropna=False)"
   ]
  },
  {
   "cell_type": "code",
   "execution_count": 16,
   "id": "a1f5905f-4597-47b2-a4ae-21776c472074",
   "metadata": {},
   "outputs": [
    {
     "data": {
      "text/plain": [
       "ALTA        15314\n",
       "MEDIA        2539\n",
       "BAJA          246\n",
       "SIN_DATO       42\n",
       "Name: PRIORIDAD, dtype: int64"
      ]
     },
     "execution_count": 16,
     "metadata": {},
     "output_type": "execute_result"
    }
   ],
   "source": [
    "raw_data['PRIORIDAD'].apply(\n",
    "    lambda x: x.strip()        \n",
    ").value_counts()"
   ]
  },
  {
   "cell_type": "code",
   "execution_count": 17,
   "id": "75c84bcc-df9f-4062-bbad-330226f1d08c",
   "metadata": {},
   "outputs": [
    {
     "data": {
      "text/plain": [
       "AGOSTO    18141\n",
       "Name: MES, dtype: int64"
      ]
     },
     "execution_count": 17,
     "metadata": {},
     "output_type": "execute_result"
    }
   ],
   "source": [
    "# Columna \"MES\n",
    "# Se validan hay datos nullos \n",
    "# Si hay datos nullos se reemplazan por SIN_DATO\n",
    "# Retiramos todos los espacios en blanco que existan\n",
    "\n",
    "raw_data['MES'].value_counts(dropna=False)"
   ]
  },
  {
   "cell_type": "code",
   "execution_count": 18,
   "id": "2a45112c-beaf-4a35-b099-27f563cfdc87",
   "metadata": {},
   "outputs": [
    {
     "data": {
      "text/plain": [
       "AGOSTO    18141\n",
       "Name: MES, dtype: int64"
      ]
     },
     "execution_count": 18,
     "metadata": {},
     "output_type": "execute_result"
    }
   ],
   "source": [
    "raw_data['MES'].apply(\n",
    "    lambda x: x.strip()        \n",
    ").value_counts()"
   ]
  },
  {
   "cell_type": "code",
   "execution_count": 21,
   "id": "f9db01de-28b3-4407-bdf5-5d0b116b8d5e",
   "metadata": {},
   "outputs": [
    {
     "data": {
      "text/plain": [
       "Traslado                       7311\n",
       "Cancelado                      4935\n",
       "Trasladado por Otro Recurso    1813\n",
       "Falsa Alarma                   1738\n",
       "Desistimiento                  1449\n",
       "No Amerita Traslado             452\n",
       "No Ubica                        235\n",
       "Fallecido                       205\n",
       "NaN                               3\n",
       "Name: CLASIFICACION_FINAL, dtype: int64"
      ]
     },
     "execution_count": 21,
     "metadata": {},
     "output_type": "execute_result"
    }
   ],
   "source": [
    "# Columna \"CLASIFICACION_FINAL\"\n",
    "# Se validan hay datos nullos \n",
    "# Si hay datos nullos se reemplazan por SIN_DATO\n",
    "# Retiramos todos los espacios en blanco que existan\n",
    "\n",
    "raw_data['CLASIFICACION_FINAL'].value_counts(dropna=False)"
   ]
  },
  {
   "cell_type": "code",
   "execution_count": 23,
   "id": "6be3042c-2c7d-4a5f-8991-0f880bdc6200",
   "metadata": {},
   "outputs": [
    {
     "data": {
      "text/plain": [
       "Traslado                       7311\n",
       "Cancelado                      4935\n",
       "Trasladado por Otro Recurso    1813\n",
       "Falsa Alarma                   1738\n",
       "Desistimiento                  1449\n",
       "No Amerita Traslado             452\n",
       "No Ubica                        235\n",
       "Fallecido                       205\n",
       "NaN                               3\n",
       "Name: CLASIFICACION_FINAL, dtype: int64"
      ]
     },
     "execution_count": 23,
     "metadata": {},
     "output_type": "execute_result"
    }
   ],
   "source": [
    "col = 'CLASIFICACION_FINAL'\n",
    "raw_data[col].value_counts(dropna=False) # Contamos los NA"
   ]
  },
  {
   "cell_type": "code",
   "execution_count": 24,
   "id": "01db938b-05cb-48fa-83fa-6d0ec600ebe0",
   "metadata": {},
   "outputs": [
    {
     "data": {
      "text/plain": [
       "Traslado                       7311\n",
       "Cancelado                      4935\n",
       "Trasladado por Otro Recurso    1813\n",
       "Falsa Alarma                   1738\n",
       "Desistimiento                  1449\n",
       "No Amerita Traslado             452\n",
       "No Ubica                        235\n",
       "Fallecido                       205\n",
       "NaN                               3\n",
       "Name: CLASIFICACION_FINAL, dtype: int64"
      ]
     },
     "execution_count": 24,
     "metadata": {},
     "output_type": "execute_result"
    }
   ],
   "source": [
    "# Reemplazamos el nombre nan por SIN_Dato. No utilizamos la función fillna,\n",
    "# ya que no lo reconocía como un null.\n",
    "raw_data[col] = raw_data[col].replace('nan', 'SIN_DATO')\n",
    "raw_data['CLASIFICACION_FINAL'].value_counts(dropna=False)\n"
   ]
  },
  {
   "cell_type": "code",
   "execution_count": 25,
   "id": "7d27aa20-f0bd-4828-8f30-af13ab7dbd30",
   "metadata": {},
   "outputs": [
    {
     "data": {
      "text/html": [
       "<div>\n",
       "<style scoped>\n",
       "    .dataframe tbody tr th:only-of-type {\n",
       "        vertical-align: middle;\n",
       "    }\n",
       "\n",
       "    .dataframe tbody tr th {\n",
       "        vertical-align: top;\n",
       "    }\n",
       "\n",
       "    .dataframe thead th {\n",
       "        text-align: right;\n",
       "    }\n",
       "</style>\n",
       "<table border=\"1\" class=\"dataframe\">\n",
       "  <thead>\n",
       "    <tr style=\"text-align: right;\">\n",
       "      <th></th>\n",
       "      <th>NUMERO_INCIDENTE</th>\n",
       "      <th>FECHA_INICIO_DESPLAZAMIENTO_MOVIL</th>\n",
       "      <th>CODIGO_LOCALIDAD</th>\n",
       "      <th>LOCALIDAD</th>\n",
       "      <th>EDAD</th>\n",
       "      <th>UNIDAD</th>\n",
       "      <th>GENERO</th>\n",
       "      <th>RED</th>\n",
       "      <th>TIPO_INCIDENTE</th>\n",
       "      <th>PRIORIDAD</th>\n",
       "      <th>MES</th>\n",
       "      <th>CLASIFICACION_FINAL</th>\n",
       "    </tr>\n",
       "  </thead>\n",
       "  <tbody>\n",
       "    <tr>\n",
       "      <th>0</th>\n",
       "      <td>809224194</td>\n",
       "      <td>1/08/2019 0:28</td>\n",
       "      <td>1</td>\n",
       "      <td>Usaquen</td>\n",
       "      <td>SIN_DATO</td>\n",
       "      <td>SIN_DATO</td>\n",
       "      <td>SIN_DATO</td>\n",
       "      <td>Norte</td>\n",
       "      <td>Inconsciente/Paro Cardiorrespiratorio</td>\n",
       "      <td>ALTA</td>\n",
       "      <td>AGOSTO</td>\n",
       "      <td>Cancelado</td>\n",
       "    </tr>\n",
       "    <tr>\n",
       "      <th>1</th>\n",
       "      <td>809224194</td>\n",
       "      <td>1/08/2019 0:28</td>\n",
       "      <td>1</td>\n",
       "      <td>Usaquen</td>\n",
       "      <td>SIN_DATO</td>\n",
       "      <td>SIN_DATO</td>\n",
       "      <td>SIN_DATO</td>\n",
       "      <td>Norte</td>\n",
       "      <td>Inconsciente/Paro Cardiorrespiratorio</td>\n",
       "      <td>ALTA</td>\n",
       "      <td>AGOSTO</td>\n",
       "      <td>Cancelado</td>\n",
       "    </tr>\n",
       "    <tr>\n",
       "      <th>2</th>\n",
       "      <td>809240194</td>\n",
       "      <td>1/08/2019 0:15</td>\n",
       "      <td>11</td>\n",
       "      <td>Suba</td>\n",
       "      <td>SIN_DATO</td>\n",
       "      <td>SIN_DATO</td>\n",
       "      <td>SIN_DATO</td>\n",
       "      <td>Norte</td>\n",
       "      <td>Accidente cerebro vascular</td>\n",
       "      <td>BAJA</td>\n",
       "      <td>AGOSTO</td>\n",
       "      <td>Cancelado</td>\n",
       "    </tr>\n",
       "    <tr>\n",
       "      <th>3</th>\n",
       "      <td>809240194</td>\n",
       "      <td>1/08/2019 0:15</td>\n",
       "      <td>11</td>\n",
       "      <td>Suba</td>\n",
       "      <td>SIN_DATO</td>\n",
       "      <td>SIN_DATO</td>\n",
       "      <td>SIN_DATO</td>\n",
       "      <td>Norte</td>\n",
       "      <td>Accidente cerebro vascular</td>\n",
       "      <td>BAJA</td>\n",
       "      <td>AGOSTO</td>\n",
       "      <td>Cancelado</td>\n",
       "    </tr>\n",
       "    <tr>\n",
       "      <th>4</th>\n",
       "      <td>809240194</td>\n",
       "      <td>1/08/2019 0:15</td>\n",
       "      <td>11</td>\n",
       "      <td>Suba</td>\n",
       "      <td>SIN_DATO</td>\n",
       "      <td>SIN_DATO</td>\n",
       "      <td>SIN_DATO</td>\n",
       "      <td>Norte</td>\n",
       "      <td>Accidente cerebro vascular</td>\n",
       "      <td>BAJA</td>\n",
       "      <td>AGOSTO</td>\n",
       "      <td>Cancelado</td>\n",
       "    </tr>\n",
       "  </tbody>\n",
       "</table>\n",
       "</div>"
      ],
      "text/plain": [
       "   NUMERO_INCIDENTE FECHA_INICIO_DESPLAZAMIENTO_MOVIL  CODIGO_LOCALIDAD  \\\n",
       "0         809224194                    1/08/2019 0:28                 1   \n",
       "1         809224194                    1/08/2019 0:28                 1   \n",
       "2         809240194                    1/08/2019 0:15                11   \n",
       "3         809240194                    1/08/2019 0:15                11   \n",
       "4         809240194                    1/08/2019 0:15                11   \n",
       "\n",
       "  LOCALIDAD      EDAD    UNIDAD    GENERO    RED  \\\n",
       "0   Usaquen  SIN_DATO  SIN_DATO  SIN_DATO  Norte   \n",
       "1   Usaquen  SIN_DATO  SIN_DATO  SIN_DATO  Norte   \n",
       "2      Suba  SIN_DATO  SIN_DATO  SIN_DATO  Norte   \n",
       "3      Suba  SIN_DATO  SIN_DATO  SIN_DATO  Norte   \n",
       "4      Suba  SIN_DATO  SIN_DATO  SIN_DATO  Norte   \n",
       "\n",
       "                           TIPO_INCIDENTE PRIORIDAD     MES  \\\n",
       "0  Inconsciente/Paro Cardiorrespiratorio       ALTA  AGOSTO   \n",
       "1  Inconsciente/Paro Cardiorrespiratorio       ALTA  AGOSTO   \n",
       "2             Accidente cerebro vascular       BAJA  AGOSTO   \n",
       "3             Accidente cerebro vascular       BAJA  AGOSTO   \n",
       "4             Accidente cerebro vascular       BAJA  AGOSTO   \n",
       "\n",
       "  CLASIFICACION_FINAL  \n",
       "0           Cancelado  \n",
       "1           Cancelado  \n",
       "2           Cancelado  \n",
       "3           Cancelado  \n",
       "4           Cancelado  "
      ]
     },
     "execution_count": 25,
     "metadata": {},
     "output_type": "execute_result"
    }
   ],
   "source": [
    "raw_data.head()"
   ]
  },
  {
   "cell_type": "code",
   "execution_count": 26,
   "id": "cdae1115-394a-4450-a43c-3bf33faa41d9",
   "metadata": {},
   "outputs": [
    {
     "data": {
      "text/html": [
       "<div>\n",
       "<style scoped>\n",
       "    .dataframe tbody tr th:only-of-type {\n",
       "        vertical-align: middle;\n",
       "    }\n",
       "\n",
       "    .dataframe tbody tr th {\n",
       "        vertical-align: top;\n",
       "    }\n",
       "\n",
       "    .dataframe thead th {\n",
       "        text-align: right;\n",
       "    }\n",
       "</style>\n",
       "<table border=\"1\" class=\"dataframe\">\n",
       "  <thead>\n",
       "    <tr style=\"text-align: right;\">\n",
       "      <th></th>\n",
       "      <th>NUMERO_INCIDENTE</th>\n",
       "      <th>FECHA_INICIO_DESPLAZAMIENTO_MOVIL</th>\n",
       "      <th>CODIGO_LOCALIDAD</th>\n",
       "      <th>LOCALIDAD</th>\n",
       "      <th>EDAD</th>\n",
       "      <th>UNIDAD</th>\n",
       "      <th>GENERO</th>\n",
       "      <th>RED</th>\n",
       "      <th>TIPO_INCIDENTE</th>\n",
       "      <th>PRIORIDAD</th>\n",
       "      <th>MES</th>\n",
       "      <th>CLASIFICACION_FINAL</th>\n",
       "      <th>FECHA_INCIDENTE</th>\n",
       "    </tr>\n",
       "  </thead>\n",
       "  <tbody>\n",
       "    <tr>\n",
       "      <th>0</th>\n",
       "      <td>809224194</td>\n",
       "      <td>1/08/2019 0:28</td>\n",
       "      <td>1</td>\n",
       "      <td>Usaquen</td>\n",
       "      <td>SIN_DATO</td>\n",
       "      <td>SIN_DATO</td>\n",
       "      <td>SIN_DATO</td>\n",
       "      <td>Norte</td>\n",
       "      <td>Inconsciente/Paro Cardiorrespiratorio</td>\n",
       "      <td>ALTA</td>\n",
       "      <td>AGOSTO</td>\n",
       "      <td>Cancelado</td>\n",
       "      <td>1/08/2019 0:28</td>\n",
       "    </tr>\n",
       "    <tr>\n",
       "      <th>1</th>\n",
       "      <td>809224194</td>\n",
       "      <td>1/08/2019 0:28</td>\n",
       "      <td>1</td>\n",
       "      <td>Usaquen</td>\n",
       "      <td>SIN_DATO</td>\n",
       "      <td>SIN_DATO</td>\n",
       "      <td>SIN_DATO</td>\n",
       "      <td>Norte</td>\n",
       "      <td>Inconsciente/Paro Cardiorrespiratorio</td>\n",
       "      <td>ALTA</td>\n",
       "      <td>AGOSTO</td>\n",
       "      <td>Cancelado</td>\n",
       "      <td>1/08/2019 0:28</td>\n",
       "    </tr>\n",
       "    <tr>\n",
       "      <th>2</th>\n",
       "      <td>809240194</td>\n",
       "      <td>1/08/2019 0:15</td>\n",
       "      <td>11</td>\n",
       "      <td>Suba</td>\n",
       "      <td>SIN_DATO</td>\n",
       "      <td>SIN_DATO</td>\n",
       "      <td>SIN_DATO</td>\n",
       "      <td>Norte</td>\n",
       "      <td>Accidente cerebro vascular</td>\n",
       "      <td>BAJA</td>\n",
       "      <td>AGOSTO</td>\n",
       "      <td>Cancelado</td>\n",
       "      <td>1/08/2019 0:15</td>\n",
       "    </tr>\n",
       "    <tr>\n",
       "      <th>3</th>\n",
       "      <td>809240194</td>\n",
       "      <td>1/08/2019 0:15</td>\n",
       "      <td>11</td>\n",
       "      <td>Suba</td>\n",
       "      <td>SIN_DATO</td>\n",
       "      <td>SIN_DATO</td>\n",
       "      <td>SIN_DATO</td>\n",
       "      <td>Norte</td>\n",
       "      <td>Accidente cerebro vascular</td>\n",
       "      <td>BAJA</td>\n",
       "      <td>AGOSTO</td>\n",
       "      <td>Cancelado</td>\n",
       "      <td>1/08/2019 0:15</td>\n",
       "    </tr>\n",
       "    <tr>\n",
       "      <th>4</th>\n",
       "      <td>809240194</td>\n",
       "      <td>1/08/2019 0:15</td>\n",
       "      <td>11</td>\n",
       "      <td>Suba</td>\n",
       "      <td>SIN_DATO</td>\n",
       "      <td>SIN_DATO</td>\n",
       "      <td>SIN_DATO</td>\n",
       "      <td>Norte</td>\n",
       "      <td>Accidente cerebro vascular</td>\n",
       "      <td>BAJA</td>\n",
       "      <td>AGOSTO</td>\n",
       "      <td>Cancelado</td>\n",
       "      <td>1/08/2019 0:15</td>\n",
       "    </tr>\n",
       "  </tbody>\n",
       "</table>\n",
       "</div>"
      ],
      "text/plain": [
       "   NUMERO_INCIDENTE FECHA_INICIO_DESPLAZAMIENTO_MOVIL  CODIGO_LOCALIDAD  \\\n",
       "0         809224194                    1/08/2019 0:28                 1   \n",
       "1         809224194                    1/08/2019 0:28                 1   \n",
       "2         809240194                    1/08/2019 0:15                11   \n",
       "3         809240194                    1/08/2019 0:15                11   \n",
       "4         809240194                    1/08/2019 0:15                11   \n",
       "\n",
       "  LOCALIDAD      EDAD    UNIDAD    GENERO    RED  \\\n",
       "0   Usaquen  SIN_DATO  SIN_DATO  SIN_DATO  Norte   \n",
       "1   Usaquen  SIN_DATO  SIN_DATO  SIN_DATO  Norte   \n",
       "2      Suba  SIN_DATO  SIN_DATO  SIN_DATO  Norte   \n",
       "3      Suba  SIN_DATO  SIN_DATO  SIN_DATO  Norte   \n",
       "4      Suba  SIN_DATO  SIN_DATO  SIN_DATO  Norte   \n",
       "\n",
       "                           TIPO_INCIDENTE PRIORIDAD     MES  \\\n",
       "0  Inconsciente/Paro Cardiorrespiratorio       ALTA  AGOSTO   \n",
       "1  Inconsciente/Paro Cardiorrespiratorio       ALTA  AGOSTO   \n",
       "2             Accidente cerebro vascular       BAJA  AGOSTO   \n",
       "3             Accidente cerebro vascular       BAJA  AGOSTO   \n",
       "4             Accidente cerebro vascular       BAJA  AGOSTO   \n",
       "\n",
       "  CLASIFICACION_FINAL FECHA_INCIDENTE  \n",
       "0           Cancelado  1/08/2019 0:28  \n",
       "1           Cancelado  1/08/2019 0:28  \n",
       "2           Cancelado  1/08/2019 0:15  \n",
       "3           Cancelado  1/08/2019 0:15  \n",
       "4           Cancelado  1/08/2019 0:15  "
      ]
     },
     "execution_count": 26,
     "metadata": {},
     "output_type": "execute_result"
    }
   ],
   "source": [
    "#la fecha de incidente no existe, por lo que se incluye una nueva columna\n",
    "# y se deja la misma de '0FECHA_INICIO_DESPLAZAMIENTO_MOVIL'\n",
    "\n",
    "\n",
    "raw_data = raw_data.assign(FECHA_INCIDENTE= raw_data['FECHA_INICIO_DESPLAZAMIENTO_MOVIL'])\n",
    "raw_data.head()"
   ]
  },
  {
   "cell_type": "code",
   "execution_count": 27,
   "id": "023652a3-4d51-4cb3-aeec-e739a01c46dc",
   "metadata": {},
   "outputs": [
    {
     "data": {
      "text/html": [
       "<div>\n",
       "<style scoped>\n",
       "    .dataframe tbody tr th:only-of-type {\n",
       "        vertical-align: middle;\n",
       "    }\n",
       "\n",
       "    .dataframe tbody tr th {\n",
       "        vertical-align: top;\n",
       "    }\n",
       "\n",
       "    .dataframe thead th {\n",
       "        text-align: right;\n",
       "    }\n",
       "</style>\n",
       "<table border=\"1\" class=\"dataframe\">\n",
       "  <thead>\n",
       "    <tr style=\"text-align: right;\">\n",
       "      <th></th>\n",
       "      <th>NUMERO_INCIDENTE</th>\n",
       "      <th>FECHA_INCIDENTE</th>\n",
       "      <th>FECHA_INICIO_DESPLAZAMIENTO_MOVIL</th>\n",
       "      <th>CODIGO_LOCALIDAD</th>\n",
       "      <th>LOCALIDAD</th>\n",
       "      <th>EDAD</th>\n",
       "      <th>UNIDAD</th>\n",
       "      <th>GENERO</th>\n",
       "      <th>RED</th>\n",
       "      <th>TIPO_INCIDENTE</th>\n",
       "      <th>PRIORIDAD</th>\n",
       "      <th>MES</th>\n",
       "      <th>CLASIFICACION_FINAL</th>\n",
       "    </tr>\n",
       "  </thead>\n",
       "  <tbody>\n",
       "    <tr>\n",
       "      <th>0</th>\n",
       "      <td>809224194</td>\n",
       "      <td>1/08/2019 0:28</td>\n",
       "      <td>1/08/2019 0:28</td>\n",
       "      <td>1</td>\n",
       "      <td>Usaquen</td>\n",
       "      <td>SIN_DATO</td>\n",
       "      <td>SIN_DATO</td>\n",
       "      <td>SIN_DATO</td>\n",
       "      <td>Norte</td>\n",
       "      <td>Inconsciente/Paro Cardiorrespiratorio</td>\n",
       "      <td>ALTA</td>\n",
       "      <td>AGOSTO</td>\n",
       "      <td>Cancelado</td>\n",
       "    </tr>\n",
       "    <tr>\n",
       "      <th>1</th>\n",
       "      <td>809224194</td>\n",
       "      <td>1/08/2019 0:28</td>\n",
       "      <td>1/08/2019 0:28</td>\n",
       "      <td>1</td>\n",
       "      <td>Usaquen</td>\n",
       "      <td>SIN_DATO</td>\n",
       "      <td>SIN_DATO</td>\n",
       "      <td>SIN_DATO</td>\n",
       "      <td>Norte</td>\n",
       "      <td>Inconsciente/Paro Cardiorrespiratorio</td>\n",
       "      <td>ALTA</td>\n",
       "      <td>AGOSTO</td>\n",
       "      <td>Cancelado</td>\n",
       "    </tr>\n",
       "    <tr>\n",
       "      <th>2</th>\n",
       "      <td>809240194</td>\n",
       "      <td>1/08/2019 0:15</td>\n",
       "      <td>1/08/2019 0:15</td>\n",
       "      <td>11</td>\n",
       "      <td>Suba</td>\n",
       "      <td>SIN_DATO</td>\n",
       "      <td>SIN_DATO</td>\n",
       "      <td>SIN_DATO</td>\n",
       "      <td>Norte</td>\n",
       "      <td>Accidente cerebro vascular</td>\n",
       "      <td>BAJA</td>\n",
       "      <td>AGOSTO</td>\n",
       "      <td>Cancelado</td>\n",
       "    </tr>\n",
       "    <tr>\n",
       "      <th>3</th>\n",
       "      <td>809240194</td>\n",
       "      <td>1/08/2019 0:15</td>\n",
       "      <td>1/08/2019 0:15</td>\n",
       "      <td>11</td>\n",
       "      <td>Suba</td>\n",
       "      <td>SIN_DATO</td>\n",
       "      <td>SIN_DATO</td>\n",
       "      <td>SIN_DATO</td>\n",
       "      <td>Norte</td>\n",
       "      <td>Accidente cerebro vascular</td>\n",
       "      <td>BAJA</td>\n",
       "      <td>AGOSTO</td>\n",
       "      <td>Cancelado</td>\n",
       "    </tr>\n",
       "    <tr>\n",
       "      <th>4</th>\n",
       "      <td>809240194</td>\n",
       "      <td>1/08/2019 0:15</td>\n",
       "      <td>1/08/2019 0:15</td>\n",
       "      <td>11</td>\n",
       "      <td>Suba</td>\n",
       "      <td>SIN_DATO</td>\n",
       "      <td>SIN_DATO</td>\n",
       "      <td>SIN_DATO</td>\n",
       "      <td>Norte</td>\n",
       "      <td>Accidente cerebro vascular</td>\n",
       "      <td>BAJA</td>\n",
       "      <td>AGOSTO</td>\n",
       "      <td>Cancelado</td>\n",
       "    </tr>\n",
       "  </tbody>\n",
       "</table>\n",
       "</div>"
      ],
      "text/plain": [
       "   NUMERO_INCIDENTE FECHA_INCIDENTE FECHA_INICIO_DESPLAZAMIENTO_MOVIL  \\\n",
       "0         809224194  1/08/2019 0:28                    1/08/2019 0:28   \n",
       "1         809224194  1/08/2019 0:28                    1/08/2019 0:28   \n",
       "2         809240194  1/08/2019 0:15                    1/08/2019 0:15   \n",
       "3         809240194  1/08/2019 0:15                    1/08/2019 0:15   \n",
       "4         809240194  1/08/2019 0:15                    1/08/2019 0:15   \n",
       "\n",
       "   CODIGO_LOCALIDAD LOCALIDAD      EDAD    UNIDAD    GENERO    RED  \\\n",
       "0                 1   Usaquen  SIN_DATO  SIN_DATO  SIN_DATO  Norte   \n",
       "1                 1   Usaquen  SIN_DATO  SIN_DATO  SIN_DATO  Norte   \n",
       "2                11      Suba  SIN_DATO  SIN_DATO  SIN_DATO  Norte   \n",
       "3                11      Suba  SIN_DATO  SIN_DATO  SIN_DATO  Norte   \n",
       "4                11      Suba  SIN_DATO  SIN_DATO  SIN_DATO  Norte   \n",
       "\n",
       "                           TIPO_INCIDENTE PRIORIDAD     MES  \\\n",
       "0  Inconsciente/Paro Cardiorrespiratorio       ALTA  AGOSTO   \n",
       "1  Inconsciente/Paro Cardiorrespiratorio       ALTA  AGOSTO   \n",
       "2             Accidente cerebro vascular       BAJA  AGOSTO   \n",
       "3             Accidente cerebro vascular       BAJA  AGOSTO   \n",
       "4             Accidente cerebro vascular       BAJA  AGOSTO   \n",
       "\n",
       "  CLASIFICACION_FINAL  \n",
       "0           Cancelado  \n",
       "1           Cancelado  \n",
       "2           Cancelado  \n",
       "3           Cancelado  \n",
       "4           Cancelado  "
      ]
     },
     "execution_count": 27,
     "metadata": {},
     "output_type": "execute_result"
    }
   ],
   "source": [
    "# Reordenamos las columnas en el orden establecido para todos\n",
    "#los archivos\n",
    "\n",
    "raw_data = raw_data.reindex(columns=['NUMERO_INCIDENTE',\n",
    "                                     'FECHA_INCIDENTE',\n",
    "'FECHA_INICIO_DESPLAZAMIENTO_MOVIL',\n",
    "'CODIGO_LOCALIDAD',\n",
    "'LOCALIDAD',\n",
    "'EDAD',\n",
    "'UNIDAD',\n",
    "'GENERO',\n",
    "'RED',\n",
    "'TIPO_INCIDENTE',\n",
    "'PRIORIDAD',\n",
    "'MES',\n",
    "'CLASIFICACION_FINAL',\n",
    "\n",
    "])\n",
    "raw_data.head()"
   ]
  },
  {
   "cell_type": "code",
   "execution_count": 28,
   "id": "943b073a-dfb6-4997-a3b6-c5b4547826c7",
   "metadata": {},
   "outputs": [
    {
     "name": "stdout",
     "output_type": "stream",
     "text": [
      "<class 'pandas.core.frame.DataFrame'>\n",
      "RangeIndex: 18141 entries, 0 to 18140\n",
      "Data columns (total 13 columns):\n",
      " #   Column                             Non-Null Count  Dtype \n",
      "---  ------                             --------------  ----- \n",
      " 0   NUMERO_INCIDENTE                   18141 non-null  int64 \n",
      " 1   FECHA_INCIDENTE                    18141 non-null  object\n",
      " 2   FECHA_INICIO_DESPLAZAMIENTO_MOVIL  18141 non-null  object\n",
      " 3   CODIGO_LOCALIDAD                   18141 non-null  int64 \n",
      " 4   LOCALIDAD                          18141 non-null  object\n",
      " 5   EDAD                               18141 non-null  object\n",
      " 6   UNIDAD                             18141 non-null  object\n",
      " 7   GENERO                             18141 non-null  object\n",
      " 8   RED                                18141 non-null  object\n",
      " 9   TIPO_INCIDENTE                     18141 non-null  object\n",
      " 10  PRIORIDAD                          18141 non-null  object\n",
      " 11  MES                                18141 non-null  object\n",
      " 12  CLASIFICACION_FINAL                18138 non-null  object\n",
      "dtypes: int64(2), object(11)\n",
      "memory usage: 1.8+ MB\n"
     ]
    }
   ],
   "source": [
    "raw_data.info()"
   ]
  },
  {
   "cell_type": "markdown",
   "id": "e6f30471-1464-47a9-a444-970a302baea7",
   "metadata": {},
   "source": [
    "# Profile of the Data\n"
   ]
  },
  {
   "cell_type": "code",
   "execution_count": 29,
   "id": "66f66769-d164-42e4-bcfb-e43b7fef1859",
   "metadata": {},
   "outputs": [
    {
     "data": {
      "application/vnd.jupyter.widget-view+json": {
       "model_id": "07b13d210fba4488846eb9b6bd6356c7",
       "version_major": 2,
       "version_minor": 0
      },
      "text/plain": [
       "Summarize dataset:   0%|          | 0/26 [00:00<?, ?it/s]"
      ]
     },
     "metadata": {},
     "output_type": "display_data"
    },
    {
     "data": {
      "application/vnd.jupyter.widget-view+json": {
       "model_id": "45b18a40a5944cda81884d640c799835",
       "version_major": 2,
       "version_minor": 0
      },
      "text/plain": [
       "Generate report structure:   0%|          | 0/1 [00:00<?, ?it/s]"
      ]
     },
     "metadata": {},
     "output_type": "display_data"
    },
    {
     "data": {
      "application/vnd.jupyter.widget-view+json": {
       "model_id": "89ece281448f46229d1581e0f00cc304",
       "version_major": 2,
       "version_minor": 0
      },
      "text/plain": [
       "Render HTML:   0%|          | 0/1 [00:00<?, ?it/s]"
      ]
     },
     "metadata": {},
     "output_type": "display_data"
    },
    {
     "data": {
      "application/vnd.jupyter.widget-view+json": {
       "model_id": "ac9900ba16004571a27dd9aa56ce04ee",
       "version_major": 2,
       "version_minor": 0
      },
      "text/plain": [
       "Export report to file:   0%|          | 0/1 [00:00<?, ?it/s]"
      ]
     },
     "metadata": {},
     "output_type": "display_data"
    }
   ],
   "source": [
    "profile = ProfileReport(df=raw_data)\n",
    "profile.to_file(output_file=project_dir + '/reports/'+'profile_raw_data_agosto_2019.html')"
   ]
  },
  {
   "cell_type": "markdown",
   "id": "a7a93408-dff3-402c-8324-2262c187a797",
   "metadata": {},
   "source": [
    "Form the initial report of the file we see that are duplicates rows in the table, we need to subtract them"
   ]
  },
  {
   "cell_type": "markdown",
   "id": "113216ea-7395-4cb0-8691-b9554ec270ab",
   "metadata": {},
   "source": [
    "### Remove duplicates"
   ]
  },
  {
   "cell_type": "code",
   "execution_count": 64,
   "id": "67b41e99-6206-4a24-b838-b8f8e71ae17f",
   "metadata": {},
   "outputs": [
    {
     "name": "stdout",
     "output_type": "stream",
     "text": [
      "Number of rows before cleaning: 18141\n",
      "Number of rows after cleaning: 16807\n"
     ]
    }
   ],
   "source": [
    "print('Number of rows before cleaning:', raw_data.shape[0] )\n",
    "raw_data.drop_duplicates(inplace=True)\n",
    "print('Number of rows after cleaning:', raw_data.shape[0] )"
   ]
  },
  {
   "cell_type": "markdown",
   "id": "a89276dd-f903-4752-9f7f-15e360c7207f",
   "metadata": {},
   "source": [
    "### Save the final table\n",
    "use to_csv to save the table"
   ]
  },
  {
   "cell_type": "code",
   "execution_count": 65,
   "id": "33a9d6aa-ed3d-465b-a920-404a17490f79",
   "metadata": {},
   "outputs": [],
   "source": [
    "# saving in a local directory\n",
    "raw_data.to_csv(project_dir + '/data/process/' +'prueba_llamadas_123_agosto_2019.csv', encoding='latin1', sep=';', index=False)"
   ]
  },
  {
   "cell_type": "code",
   "execution_count": null,
   "id": "45a07cac-a200-4a9a-86dd-1d5a62ab5c4f",
   "metadata": {},
   "outputs": [],
   "source": []
  }
 ],
 "metadata": {
  "environment": {
   "kernel": "python3",
   "name": "common-cpu.m90",
   "type": "gcloud",
   "uri": "gcr.io/deeplearning-platform-release/base-cpu:m90"
  },
  "kernelspec": {
   "display_name": "Python 3",
   "language": "python",
   "name": "python3"
  },
  "language_info": {
   "codemirror_mode": {
    "name": "ipython",
    "version": 3
   },
   "file_extension": ".py",
   "mimetype": "text/x-python",
   "name": "python",
   "nbconvert_exporter": "python",
   "pygments_lexer": "ipython3",
   "version": "3.7.12"
  }
 },
 "nbformat": 4,
 "nbformat_minor": 5
}
