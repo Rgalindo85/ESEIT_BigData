{
 "cells": [
  {
   "cell_type": "markdown",
   "id": "e5e4f267-9ac6-416c-a86f-5c0e683742f4",
   "metadata": {},
   "source": [
    "Working with Data"
   ]
  },
  {
   "cell_type": "markdown",
   "id": "72c75b83-98a6-4c92-bb9c-a36d54d4e031",
   "metadata": {},
   "source": [
    "install pandas-gbq"
   ]
  },
  {
   "cell_type": "markdown",
   "id": "42635dc7-fda0-409e-90ed-5b1fbb8a9383",
   "metadata": {},
   "source": [
    "pip install pandas-gbq"
   ]
  },
  {
   "cell_type": "code",
   "execution_count": 1,
   "id": "efa2f429-ff4a-49e8-bfc2-333a9a4eca14",
   "metadata": {},
   "outputs": [],
   "source": [
    "import os, sys\n",
    "import pandas as pd\n",
    "import numpy as np\n",
    "import seaborn as sns\n",
    "import pandas_gbq\n",
    "import matplotlib.pyplot as plt\n",
    "\n",
    "#%matplotlib inline\n",
    "\n",
    "#para definir la ruta de los directorios\n",
    "from pathlib import Path\n",
    "current_dir = Path('.').resolve()\n",
    "project_dir = Path(current_dir).parent"
   ]
  },
  {
   "cell_type": "code",
   "execution_count": 2,
   "id": "b9f595ea-5f96-4e1b-be9e-24230ef5ba21",
   "metadata": {},
   "outputs": [
    {
     "data": {
      "text/html": [
       "<div>\n",
       "<style scoped>\n",
       "    .dataframe tbody tr th:only-of-type {\n",
       "        vertical-align: middle;\n",
       "    }\n",
       "\n",
       "    .dataframe tbody tr th {\n",
       "        vertical-align: top;\n",
       "    }\n",
       "\n",
       "    .dataframe thead th {\n",
       "        text-align: right;\n",
       "    }\n",
       "</style>\n",
       "<table border=\"1\" class=\"dataframe\">\n",
       "  <thead>\n",
       "    <tr style=\"text-align: right;\">\n",
       "      <th></th>\n",
       "      <th>unique_key</th>\n",
       "      <th>taxi_id</th>\n",
       "      <th>trip_start_timestamp</th>\n",
       "      <th>trip_end_timestamp</th>\n",
       "      <th>trip_seconds</th>\n",
       "      <th>trip_miles</th>\n",
       "      <th>pickup_census_tract</th>\n",
       "      <th>dropoff_census_tract</th>\n",
       "      <th>pickup_community_area</th>\n",
       "      <th>dropoff_community_area</th>\n",
       "      <th>...</th>\n",
       "      <th>extras</th>\n",
       "      <th>trip_total</th>\n",
       "      <th>payment_type</th>\n",
       "      <th>company</th>\n",
       "      <th>pickup_latitude</th>\n",
       "      <th>pickup_longitude</th>\n",
       "      <th>pickup_location</th>\n",
       "      <th>dropoff_latitude</th>\n",
       "      <th>dropoff_longitude</th>\n",
       "      <th>dropoff_location</th>\n",
       "    </tr>\n",
       "  </thead>\n",
       "  <tbody>\n",
       "    <tr>\n",
       "      <th>0</th>\n",
       "      <td>1635cc78e071c55379ba87d3d275a4f21333d213</td>\n",
       "      <td>d2602cb4eab81d9227cd17a415cec4099309d84ff8520c...</td>\n",
       "      <td>2016-09-22 11:30:00+00:00</td>\n",
       "      <td>2016-09-22 11:45:00+00:00</td>\n",
       "      <td>600</td>\n",
       "      <td>0.8</td>\n",
       "      <td>&lt;NA&gt;</td>\n",
       "      <td>&lt;NA&gt;</td>\n",
       "      <td>&lt;NA&gt;</td>\n",
       "      <td>&lt;NA&gt;</td>\n",
       "      <td>...</td>\n",
       "      <td>0.0</td>\n",
       "      <td>9.25</td>\n",
       "      <td>Credit Card</td>\n",
       "      <td>Chicago Independents</td>\n",
       "      <td>NaN</td>\n",
       "      <td>NaN</td>\n",
       "      <td>None</td>\n",
       "      <td>NaN</td>\n",
       "      <td>NaN</td>\n",
       "      <td>None</td>\n",
       "    </tr>\n",
       "    <tr>\n",
       "      <th>1</th>\n",
       "      <td>1e3168900f8090e1bab555b15210f6ad701af327</td>\n",
       "      <td>d2602cb4eab81d9227cd17a415cec4099309d84ff8520c...</td>\n",
       "      <td>2016-09-22 11:45:00+00:00</td>\n",
       "      <td>2016-09-22 12:00:00+00:00</td>\n",
       "      <td>960</td>\n",
       "      <td>7.6</td>\n",
       "      <td>&lt;NA&gt;</td>\n",
       "      <td>&lt;NA&gt;</td>\n",
       "      <td>&lt;NA&gt;</td>\n",
       "      <td>&lt;NA&gt;</td>\n",
       "      <td>...</td>\n",
       "      <td>0.0</td>\n",
       "      <td>21.50</td>\n",
       "      <td>Cash</td>\n",
       "      <td>Chicago Independents</td>\n",
       "      <td>NaN</td>\n",
       "      <td>NaN</td>\n",
       "      <td>None</td>\n",
       "      <td>NaN</td>\n",
       "      <td>NaN</td>\n",
       "      <td>None</td>\n",
       "    </tr>\n",
       "    <tr>\n",
       "      <th>2</th>\n",
       "      <td>c620405438b7bfcc6378f885f6aa56d1b8be9369</td>\n",
       "      <td>d2602cb4eab81d9227cd17a415cec4099309d84ff8520c...</td>\n",
       "      <td>2016-09-22 15:00:00+00:00</td>\n",
       "      <td>2016-09-22 15:45:00+00:00</td>\n",
       "      <td>3000</td>\n",
       "      <td>13.2</td>\n",
       "      <td>&lt;NA&gt;</td>\n",
       "      <td>&lt;NA&gt;</td>\n",
       "      <td>&lt;NA&gt;</td>\n",
       "      <td>&lt;NA&gt;</td>\n",
       "      <td>...</td>\n",
       "      <td>0.0</td>\n",
       "      <td>37.00</td>\n",
       "      <td>Cash</td>\n",
       "      <td>Chicago Independents</td>\n",
       "      <td>NaN</td>\n",
       "      <td>NaN</td>\n",
       "      <td>None</td>\n",
       "      <td>NaN</td>\n",
       "      <td>NaN</td>\n",
       "      <td>None</td>\n",
       "    </tr>\n",
       "    <tr>\n",
       "      <th>3</th>\n",
       "      <td>c8b56b9c599580efc1e4ffe36ac36cfb7ea85cbd</td>\n",
       "      <td>d2602cb4eab81d9227cd17a415cec4099309d84ff8520c...</td>\n",
       "      <td>2016-09-22 17:15:00+00:00</td>\n",
       "      <td>2016-09-22 17:45:00+00:00</td>\n",
       "      <td>2220</td>\n",
       "      <td>12.2</td>\n",
       "      <td>&lt;NA&gt;</td>\n",
       "      <td>&lt;NA&gt;</td>\n",
       "      <td>&lt;NA&gt;</td>\n",
       "      <td>&lt;NA&gt;</td>\n",
       "      <td>...</td>\n",
       "      <td>4.5</td>\n",
       "      <td>46.58</td>\n",
       "      <td>Credit Card</td>\n",
       "      <td>Chicago Independents</td>\n",
       "      <td>NaN</td>\n",
       "      <td>NaN</td>\n",
       "      <td>None</td>\n",
       "      <td>NaN</td>\n",
       "      <td>NaN</td>\n",
       "      <td>None</td>\n",
       "    </tr>\n",
       "    <tr>\n",
       "      <th>4</th>\n",
       "      <td>c876619a0a2869039533144d7105948e9cfc1951</td>\n",
       "      <td>1158f25979ad78fd3dafc867a540ad761b65922c312e61...</td>\n",
       "      <td>2016-09-19 21:00:00+00:00</td>\n",
       "      <td>2016-09-19 21:30:00+00:00</td>\n",
       "      <td>1560</td>\n",
       "      <td>15.6</td>\n",
       "      <td>&lt;NA&gt;</td>\n",
       "      <td>&lt;NA&gt;</td>\n",
       "      <td>&lt;NA&gt;</td>\n",
       "      <td>&lt;NA&gt;</td>\n",
       "      <td>...</td>\n",
       "      <td>4.0</td>\n",
       "      <td>52.40</td>\n",
       "      <td>Credit Card</td>\n",
       "      <td>Sun Taxi</td>\n",
       "      <td>NaN</td>\n",
       "      <td>NaN</td>\n",
       "      <td>None</td>\n",
       "      <td>NaN</td>\n",
       "      <td>NaN</td>\n",
       "      <td>None</td>\n",
       "    </tr>\n",
       "  </tbody>\n",
       "</table>\n",
       "<p>5 rows × 23 columns</p>\n",
       "</div>"
      ],
      "text/plain": [
       "                                 unique_key  \\\n",
       "0  1635cc78e071c55379ba87d3d275a4f21333d213   \n",
       "1  1e3168900f8090e1bab555b15210f6ad701af327   \n",
       "2  c620405438b7bfcc6378f885f6aa56d1b8be9369   \n",
       "3  c8b56b9c599580efc1e4ffe36ac36cfb7ea85cbd   \n",
       "4  c876619a0a2869039533144d7105948e9cfc1951   \n",
       "\n",
       "                                             taxi_id  \\\n",
       "0  d2602cb4eab81d9227cd17a415cec4099309d84ff8520c...   \n",
       "1  d2602cb4eab81d9227cd17a415cec4099309d84ff8520c...   \n",
       "2  d2602cb4eab81d9227cd17a415cec4099309d84ff8520c...   \n",
       "3  d2602cb4eab81d9227cd17a415cec4099309d84ff8520c...   \n",
       "4  1158f25979ad78fd3dafc867a540ad761b65922c312e61...   \n",
       "\n",
       "       trip_start_timestamp        trip_end_timestamp  trip_seconds  \\\n",
       "0 2016-09-22 11:30:00+00:00 2016-09-22 11:45:00+00:00           600   \n",
       "1 2016-09-22 11:45:00+00:00 2016-09-22 12:00:00+00:00           960   \n",
       "2 2016-09-22 15:00:00+00:00 2016-09-22 15:45:00+00:00          3000   \n",
       "3 2016-09-22 17:15:00+00:00 2016-09-22 17:45:00+00:00          2220   \n",
       "4 2016-09-19 21:00:00+00:00 2016-09-19 21:30:00+00:00          1560   \n",
       "\n",
       "   trip_miles  pickup_census_tract  dropoff_census_tract  \\\n",
       "0         0.8                 <NA>                  <NA>   \n",
       "1         7.6                 <NA>                  <NA>   \n",
       "2        13.2                 <NA>                  <NA>   \n",
       "3        12.2                 <NA>                  <NA>   \n",
       "4        15.6                 <NA>                  <NA>   \n",
       "\n",
       "   pickup_community_area  dropoff_community_area  ...  extras  trip_total  \\\n",
       "0                   <NA>                    <NA>  ...     0.0        9.25   \n",
       "1                   <NA>                    <NA>  ...     0.0       21.50   \n",
       "2                   <NA>                    <NA>  ...     0.0       37.00   \n",
       "3                   <NA>                    <NA>  ...     4.5       46.58   \n",
       "4                   <NA>                    <NA>  ...     4.0       52.40   \n",
       "\n",
       "   payment_type               company  pickup_latitude pickup_longitude  \\\n",
       "0   Credit Card  Chicago Independents              NaN              NaN   \n",
       "1          Cash  Chicago Independents              NaN              NaN   \n",
       "2          Cash  Chicago Independents              NaN              NaN   \n",
       "3   Credit Card  Chicago Independents              NaN              NaN   \n",
       "4   Credit Card              Sun Taxi              NaN              NaN   \n",
       "\n",
       "  pickup_location  dropoff_latitude  dropoff_longitude dropoff_location  \n",
       "0            None               NaN                NaN             None  \n",
       "1            None               NaN                NaN             None  \n",
       "2            None               NaN                NaN             None  \n",
       "3            None               NaN                NaN             None  \n",
       "4            None               NaN                NaN             None  \n",
       "\n",
       "[5 rows x 23 columns]"
      ]
     },
     "execution_count": 2,
     "metadata": {},
     "output_type": "execute_result"
    }
   ],
   "source": [
    "query = \"\"\"\n",
    "    SELECT\n",
    "    *\n",
    "    FROM\n",
    "        `bigquery-public-data.chicago_taxi_trips.taxi_trips`\n",
    "    LIMIT 1000\n",
    "\"\"\"\n",
    "df = pd.read_gbq(query)\n",
    "df.head()"
   ]
  },
  {
   "cell_type": "markdown",
   "id": "fa3d76b6-c45f-42a9-9536-880991730fe7",
   "metadata": {},
   "source": [
    "EXPLORACION DE DATOS\n",
    "DATOS UNIDIMENCIONALES\n",
    "solo variables numericas, columnas numericas"
   ]
  },
  {
   "cell_type": "code",
   "execution_count": 3,
   "id": "2027b44b-ad0c-4403-bb5c-e2c56776bb8b",
   "metadata": {},
   "outputs": [
    {
     "data": {
      "text/html": [
       "<div>\n",
       "<style scoped>\n",
       "    .dataframe tbody tr th:only-of-type {\n",
       "        vertical-align: middle;\n",
       "    }\n",
       "\n",
       "    .dataframe tbody tr th {\n",
       "        vertical-align: top;\n",
       "    }\n",
       "\n",
       "    .dataframe thead th {\n",
       "        text-align: right;\n",
       "    }\n",
       "</style>\n",
       "<table border=\"1\" class=\"dataframe\">\n",
       "  <thead>\n",
       "    <tr style=\"text-align: right;\">\n",
       "      <th></th>\n",
       "      <th>trip_seconds</th>\n",
       "      <th>trip_miles</th>\n",
       "      <th>pickup_census_tract</th>\n",
       "      <th>dropoff_census_tract</th>\n",
       "      <th>pickup_community_area</th>\n",
       "      <th>dropoff_community_area</th>\n",
       "      <th>fare</th>\n",
       "      <th>tips</th>\n",
       "      <th>tolls</th>\n",
       "      <th>extras</th>\n",
       "      <th>trip_total</th>\n",
       "      <th>pickup_latitude</th>\n",
       "      <th>pickup_longitude</th>\n",
       "      <th>dropoff_latitude</th>\n",
       "      <th>dropoff_longitude</th>\n",
       "    </tr>\n",
       "  </thead>\n",
       "  <tbody>\n",
       "    <tr>\n",
       "      <th>0</th>\n",
       "      <td>600</td>\n",
       "      <td>0.8</td>\n",
       "      <td>&lt;NA&gt;</td>\n",
       "      <td>&lt;NA&gt;</td>\n",
       "      <td>&lt;NA&gt;</td>\n",
       "      <td>&lt;NA&gt;</td>\n",
       "      <td>6.75</td>\n",
       "      <td>2.00</td>\n",
       "      <td>0.0</td>\n",
       "      <td>0.0</td>\n",
       "      <td>9.25</td>\n",
       "      <td>NaN</td>\n",
       "      <td>NaN</td>\n",
       "      <td>NaN</td>\n",
       "      <td>NaN</td>\n",
       "    </tr>\n",
       "    <tr>\n",
       "      <th>1</th>\n",
       "      <td>960</td>\n",
       "      <td>7.6</td>\n",
       "      <td>&lt;NA&gt;</td>\n",
       "      <td>&lt;NA&gt;</td>\n",
       "      <td>&lt;NA&gt;</td>\n",
       "      <td>&lt;NA&gt;</td>\n",
       "      <td>21.50</td>\n",
       "      <td>0.00</td>\n",
       "      <td>0.0</td>\n",
       "      <td>0.0</td>\n",
       "      <td>21.50</td>\n",
       "      <td>NaN</td>\n",
       "      <td>NaN</td>\n",
       "      <td>NaN</td>\n",
       "      <td>NaN</td>\n",
       "    </tr>\n",
       "    <tr>\n",
       "      <th>2</th>\n",
       "      <td>3000</td>\n",
       "      <td>13.2</td>\n",
       "      <td>&lt;NA&gt;</td>\n",
       "      <td>&lt;NA&gt;</td>\n",
       "      <td>&lt;NA&gt;</td>\n",
       "      <td>&lt;NA&gt;</td>\n",
       "      <td>37.00</td>\n",
       "      <td>0.00</td>\n",
       "      <td>0.0</td>\n",
       "      <td>0.0</td>\n",
       "      <td>37.00</td>\n",
       "      <td>NaN</td>\n",
       "      <td>NaN</td>\n",
       "      <td>NaN</td>\n",
       "      <td>NaN</td>\n",
       "    </tr>\n",
       "    <tr>\n",
       "      <th>3</th>\n",
       "      <td>2220</td>\n",
       "      <td>12.2</td>\n",
       "      <td>&lt;NA&gt;</td>\n",
       "      <td>&lt;NA&gt;</td>\n",
       "      <td>&lt;NA&gt;</td>\n",
       "      <td>&lt;NA&gt;</td>\n",
       "      <td>35.50</td>\n",
       "      <td>6.08</td>\n",
       "      <td>0.0</td>\n",
       "      <td>4.5</td>\n",
       "      <td>46.58</td>\n",
       "      <td>NaN</td>\n",
       "      <td>NaN</td>\n",
       "      <td>NaN</td>\n",
       "      <td>NaN</td>\n",
       "    </tr>\n",
       "    <tr>\n",
       "      <th>4</th>\n",
       "      <td>1560</td>\n",
       "      <td>15.6</td>\n",
       "      <td>&lt;NA&gt;</td>\n",
       "      <td>&lt;NA&gt;</td>\n",
       "      <td>&lt;NA&gt;</td>\n",
       "      <td>&lt;NA&gt;</td>\n",
       "      <td>39.25</td>\n",
       "      <td>8.65</td>\n",
       "      <td>0.0</td>\n",
       "      <td>4.0</td>\n",
       "      <td>52.40</td>\n",
       "      <td>NaN</td>\n",
       "      <td>NaN</td>\n",
       "      <td>NaN</td>\n",
       "      <td>NaN</td>\n",
       "    </tr>\n",
       "  </tbody>\n",
       "</table>\n",
       "</div>"
      ],
      "text/plain": [
       "   trip_seconds  trip_miles  pickup_census_tract  dropoff_census_tract  \\\n",
       "0           600         0.8                 <NA>                  <NA>   \n",
       "1           960         7.6                 <NA>                  <NA>   \n",
       "2          3000        13.2                 <NA>                  <NA>   \n",
       "3          2220        12.2                 <NA>                  <NA>   \n",
       "4          1560        15.6                 <NA>                  <NA>   \n",
       "\n",
       "   pickup_community_area  dropoff_community_area   fare  tips  tolls  extras  \\\n",
       "0                   <NA>                    <NA>   6.75  2.00    0.0     0.0   \n",
       "1                   <NA>                    <NA>  21.50  0.00    0.0     0.0   \n",
       "2                   <NA>                    <NA>  37.00  0.00    0.0     0.0   \n",
       "3                   <NA>                    <NA>  35.50  6.08    0.0     4.5   \n",
       "4                   <NA>                    <NA>  39.25  8.65    0.0     4.0   \n",
       "\n",
       "   trip_total  pickup_latitude  pickup_longitude  dropoff_latitude  \\\n",
       "0        9.25              NaN               NaN               NaN   \n",
       "1       21.50              NaN               NaN               NaN   \n",
       "2       37.00              NaN               NaN               NaN   \n",
       "3       46.58              NaN               NaN               NaN   \n",
       "4       52.40              NaN               NaN               NaN   \n",
       "\n",
       "   dropoff_longitude  \n",
       "0                NaN  \n",
       "1                NaN  \n",
       "2                NaN  \n",
       "3                NaN  \n",
       "4                NaN  "
      ]
     },
     "execution_count": 3,
     "metadata": {},
     "output_type": "execute_result"
    }
   ],
   "source": [
    "numerics = ['int16', 'int32', 'int64', 'float16', 'float32', 'float64']\n",
    "\n",
    "num_df = df.select_dtypes(include=numerics)\n",
    "num_df.head()"
   ]
  },
  {
   "cell_type": "code",
   "execution_count": 4,
   "id": "2749888c-3752-4a81-8ebb-9936934783a2",
   "metadata": {},
   "outputs": [
    {
     "data": {
      "text/html": [
       "<div>\n",
       "<style scoped>\n",
       "    .dataframe tbody tr th:only-of-type {\n",
       "        vertical-align: middle;\n",
       "    }\n",
       "\n",
       "    .dataframe tbody tr th {\n",
       "        vertical-align: top;\n",
       "    }\n",
       "\n",
       "    .dataframe thead th {\n",
       "        text-align: right;\n",
       "    }\n",
       "</style>\n",
       "<table border=\"1\" class=\"dataframe\">\n",
       "  <thead>\n",
       "    <tr style=\"text-align: right;\">\n",
       "      <th></th>\n",
       "      <th>trip_seconds</th>\n",
       "      <th>trip_miles</th>\n",
       "      <th>pickup_census_tract</th>\n",
       "      <th>dropoff_census_tract</th>\n",
       "      <th>pickup_community_area</th>\n",
       "      <th>dropoff_community_area</th>\n",
       "      <th>fare</th>\n",
       "      <th>tips</th>\n",
       "      <th>tolls</th>\n",
       "      <th>extras</th>\n",
       "      <th>trip_total</th>\n",
       "      <th>pickup_latitude</th>\n",
       "      <th>pickup_longitude</th>\n",
       "      <th>dropoff_latitude</th>\n",
       "      <th>dropoff_longitude</th>\n",
       "    </tr>\n",
       "  </thead>\n",
       "  <tbody>\n",
       "    <tr>\n",
       "      <th>count</th>\n",
       "      <td>1000.000000</td>\n",
       "      <td>1000.000000</td>\n",
       "      <td>0</td>\n",
       "      <td>0</td>\n",
       "      <td>0</td>\n",
       "      <td>0</td>\n",
       "      <td>1000.000000</td>\n",
       "      <td>1000.000000</td>\n",
       "      <td>907.0</td>\n",
       "      <td>1000.000000</td>\n",
       "      <td>1000.000000</td>\n",
       "      <td>0.0</td>\n",
       "      <td>0.0</td>\n",
       "      <td>0.0</td>\n",
       "      <td>0.0</td>\n",
       "    </tr>\n",
       "    <tr>\n",
       "      <th>mean</th>\n",
       "      <td>827.440000</td>\n",
       "      <td>6.726440</td>\n",
       "      <td>&lt;NA&gt;</td>\n",
       "      <td>&lt;NA&gt;</td>\n",
       "      <td>&lt;NA&gt;</td>\n",
       "      <td>&lt;NA&gt;</td>\n",
       "      <td>13.628910</td>\n",
       "      <td>1.578080</td>\n",
       "      <td>0.0</td>\n",
       "      <td>0.970000</td>\n",
       "      <td>16.376990</td>\n",
       "      <td>NaN</td>\n",
       "      <td>NaN</td>\n",
       "      <td>NaN</td>\n",
       "      <td>NaN</td>\n",
       "    </tr>\n",
       "    <tr>\n",
       "      <th>std</th>\n",
       "      <td>803.937998</td>\n",
       "      <td>18.950691</td>\n",
       "      <td>&lt;NA&gt;</td>\n",
       "      <td>&lt;NA&gt;</td>\n",
       "      <td>&lt;NA&gt;</td>\n",
       "      <td>&lt;NA&gt;</td>\n",
       "      <td>13.689976</td>\n",
       "      <td>2.675334</td>\n",
       "      <td>0.0</td>\n",
       "      <td>3.560024</td>\n",
       "      <td>16.965577</td>\n",
       "      <td>NaN</td>\n",
       "      <td>NaN</td>\n",
       "      <td>NaN</td>\n",
       "      <td>NaN</td>\n",
       "    </tr>\n",
       "    <tr>\n",
       "      <th>min</th>\n",
       "      <td>0.000000</td>\n",
       "      <td>0.000000</td>\n",
       "      <td>&lt;NA&gt;</td>\n",
       "      <td>&lt;NA&gt;</td>\n",
       "      <td>&lt;NA&gt;</td>\n",
       "      <td>&lt;NA&gt;</td>\n",
       "      <td>0.010000</td>\n",
       "      <td>0.000000</td>\n",
       "      <td>0.0</td>\n",
       "      <td>0.000000</td>\n",
       "      <td>0.010000</td>\n",
       "      <td>NaN</td>\n",
       "      <td>NaN</td>\n",
       "      <td>NaN</td>\n",
       "      <td>NaN</td>\n",
       "    </tr>\n",
       "    <tr>\n",
       "      <th>25%</th>\n",
       "      <td>347.500000</td>\n",
       "      <td>1.000000</td>\n",
       "      <td>&lt;NA&gt;</td>\n",
       "      <td>&lt;NA&gt;</td>\n",
       "      <td>&lt;NA&gt;</td>\n",
       "      <td>&lt;NA&gt;</td>\n",
       "      <td>6.000000</td>\n",
       "      <td>0.000000</td>\n",
       "      <td>0.0</td>\n",
       "      <td>0.000000</td>\n",
       "      <td>7.250000</td>\n",
       "      <td>NaN</td>\n",
       "      <td>NaN</td>\n",
       "      <td>NaN</td>\n",
       "      <td>NaN</td>\n",
       "    </tr>\n",
       "    <tr>\n",
       "      <th>50%</th>\n",
       "      <td>600.000000</td>\n",
       "      <td>1.900000</td>\n",
       "      <td>&lt;NA&gt;</td>\n",
       "      <td>&lt;NA&gt;</td>\n",
       "      <td>&lt;NA&gt;</td>\n",
       "      <td>&lt;NA&gt;</td>\n",
       "      <td>8.500000</td>\n",
       "      <td>0.000000</td>\n",
       "      <td>0.0</td>\n",
       "      <td>0.000000</td>\n",
       "      <td>10.250000</td>\n",
       "      <td>NaN</td>\n",
       "      <td>NaN</td>\n",
       "      <td>NaN</td>\n",
       "      <td>NaN</td>\n",
       "    </tr>\n",
       "    <tr>\n",
       "      <th>75%</th>\n",
       "      <td>960.000000</td>\n",
       "      <td>5.725000</td>\n",
       "      <td>&lt;NA&gt;</td>\n",
       "      <td>&lt;NA&gt;</td>\n",
       "      <td>&lt;NA&gt;</td>\n",
       "      <td>&lt;NA&gt;</td>\n",
       "      <td>14.762500</td>\n",
       "      <td>2.000000</td>\n",
       "      <td>0.0</td>\n",
       "      <td>1.000000</td>\n",
       "      <td>17.500000</td>\n",
       "      <td>NaN</td>\n",
       "      <td>NaN</td>\n",
       "      <td>NaN</td>\n",
       "      <td>NaN</td>\n",
       "    </tr>\n",
       "    <tr>\n",
       "      <th>max</th>\n",
       "      <td>6240.000000</td>\n",
       "      <td>195.900000</td>\n",
       "      <td>&lt;NA&gt;</td>\n",
       "      <td>&lt;NA&gt;</td>\n",
       "      <td>&lt;NA&gt;</td>\n",
       "      <td>&lt;NA&gt;</td>\n",
       "      <td>145.000000</td>\n",
       "      <td>20.000000</td>\n",
       "      <td>0.0</td>\n",
       "      <td>72.000000</td>\n",
       "      <td>217.000000</td>\n",
       "      <td>NaN</td>\n",
       "      <td>NaN</td>\n",
       "      <td>NaN</td>\n",
       "      <td>NaN</td>\n",
       "    </tr>\n",
       "  </tbody>\n",
       "</table>\n",
       "</div>"
      ],
      "text/plain": [
       "       trip_seconds   trip_miles pickup_census_tract dropoff_census_tract  \\\n",
       "count   1000.000000  1000.000000                   0                    0   \n",
       "mean     827.440000     6.726440                <NA>                 <NA>   \n",
       "std      803.937998    18.950691                <NA>                 <NA>   \n",
       "min        0.000000     0.000000                <NA>                 <NA>   \n",
       "25%      347.500000     1.000000                <NA>                 <NA>   \n",
       "50%      600.000000     1.900000                <NA>                 <NA>   \n",
       "75%      960.000000     5.725000                <NA>                 <NA>   \n",
       "max     6240.000000   195.900000                <NA>                 <NA>   \n",
       "\n",
       "      pickup_community_area dropoff_community_area         fare         tips  \\\n",
       "count                     0                      0  1000.000000  1000.000000   \n",
       "mean                   <NA>                   <NA>    13.628910     1.578080   \n",
       "std                    <NA>                   <NA>    13.689976     2.675334   \n",
       "min                    <NA>                   <NA>     0.010000     0.000000   \n",
       "25%                    <NA>                   <NA>     6.000000     0.000000   \n",
       "50%                    <NA>                   <NA>     8.500000     0.000000   \n",
       "75%                    <NA>                   <NA>    14.762500     2.000000   \n",
       "max                    <NA>                   <NA>   145.000000    20.000000   \n",
       "\n",
       "       tolls       extras   trip_total  pickup_latitude  pickup_longitude  \\\n",
       "count  907.0  1000.000000  1000.000000              0.0               0.0   \n",
       "mean     0.0     0.970000    16.376990              NaN               NaN   \n",
       "std      0.0     3.560024    16.965577              NaN               NaN   \n",
       "min      0.0     0.000000     0.010000              NaN               NaN   \n",
       "25%      0.0     0.000000     7.250000              NaN               NaN   \n",
       "50%      0.0     0.000000    10.250000              NaN               NaN   \n",
       "75%      0.0     1.000000    17.500000              NaN               NaN   \n",
       "max      0.0    72.000000   217.000000              NaN               NaN   \n",
       "\n",
       "       dropoff_latitude  dropoff_longitude  \n",
       "count               0.0                0.0  \n",
       "mean                NaN                NaN  \n",
       "std                 NaN                NaN  \n",
       "min                 NaN                NaN  \n",
       "25%                 NaN                NaN  \n",
       "50%                 NaN                NaN  \n",
       "75%                 NaN                NaN  \n",
       "max                 NaN                NaN  "
      ]
     },
     "execution_count": 4,
     "metadata": {},
     "output_type": "execute_result"
    }
   ],
   "source": [
    "num_df.describe()"
   ]
  },
  {
   "cell_type": "markdown",
   "id": "a8a0894b-1ffc-4bb0-9cb0-1861db0ceac9",
   "metadata": {},
   "source": [
    "Variables unidemencionales\n",
    "histograma\n",
    "box plot"
   ]
  },
  {
   "cell_type": "code",
   "execution_count": 5,
   "id": "2ebc6327-1eb6-44af-8f16-9355fe8674b8",
   "metadata": {},
   "outputs": [
    {
     "data": {
      "text/plain": [
       "<AxesSubplot:>"
      ]
     },
     "execution_count": 5,
     "metadata": {},
     "output_type": "execute_result"
    },
    {
     "data": {
      "image/png": "[encoded data removed]",
      "text/plain": [
       "<Figure size 1080x504 with 2 Axes>"
      ]
     },
     "metadata": {
      "needs_background": "light"
     },
     "output_type": "display_data"
    }
   ],
   "source": [
    "fig, ax = plt.subplots(ncols=2, nrows=1, figsize=(15, 7))\n",
    "num_df['trip_seconds'].plot(kind='hist', bins=10, ax=ax[0])\n",
    "num_df['trip_seconds'].plot(kind='box',           ax=ax[1])"
   ]
  },
  {
   "cell_type": "code",
   "execution_count": 6,
   "id": "e5e566c3-bb81-4af8-8928-4ed85548e713",
   "metadata": {},
   "outputs": [
    {
     "name": "stderr",
     "output_type": "stream",
     "text": [
      "/opt/conda/lib/python3.7/site-packages/seaborn/_decorators.py:43: FutureWarning: Pass the following variable as a keyword arg: x. From version 0.12, the only valid positional argument will be `data`, and passing other arguments without an explicit keyword will result in an error or misinterpretation.\n",
      "  FutureWarning\n"
     ]
    },
    {
     "data": {
      "image/png": "[encoded data removed]",
      "text/plain": [
       "<Figure size 432x288 with 2 Axes>"
      ]
     },
     "metadata": {
      "needs_background": "light"
     },
     "output_type": "display_data"
    }
   ],
   "source": [
    "# creating a figure composed of two matplotlib.Axes objects (ax_box and ax_hist)\n",
    "f, (ax_box, ax_hist) = plt.subplots(2, sharex=True, gridspec_kw={\"height_ratios\": (.15, .85)})\n",
    "#parte la grafica 15% arriba y 85% abajo\n",
    "\n",
    "# assigning a graph to each ax\n",
    "sns.boxplot(num_df[\"trip_seconds\"], ax=ax_box)\n",
    "sns.histplot(data=num_df, x=\"trip_seconds\", bins=30, ax=ax_hist)\n",
    " \n",
    "# Remove x axis name for the boxplot\n",
    "ax_box.set(xlabel='')\n",
    "#titulo\n",
    "plt.suptitle('taxi trips duration chicago')  \n",
    "ax_hist.grid()\n",
    "\n",
    "\n",
    "plot_path = os.path.join(project_dir, 'reports', 'plots', 'taxi-trip-duration-chicago')\n",
    "f.savefig(plot_path)\n",
    "#no es un error sino un warning"
   ]
  },
  {
   "cell_type": "code",
   "execution_count": 7,
   "id": "c5cb2045-0cff-4a2e-a28f-3b007df65a8c",
   "metadata": {},
   "outputs": [
    {
     "name": "stdout",
     "output_type": "stream",
     "text": [
      "<class 'pandas.core.frame.DataFrame'>\n",
      "RangeIndex: 1000 entries, 0 to 999\n",
      "Data columns (total 15 columns):\n",
      " #   Column                  Non-Null Count  Dtype  \n",
      "---  ------                  --------------  -----  \n",
      " 0   trip_seconds            1000 non-null   Int64  \n",
      " 1   trip_miles              1000 non-null   float64\n",
      " 2   pickup_census_tract     0 non-null      Int64  \n",
      " 3   dropoff_census_tract    0 non-null      Int64  \n",
      " 4   pickup_community_area   0 non-null      Int64  \n",
      " 5   dropoff_community_area  0 non-null      Int64  \n",
      " 6   fare                    1000 non-null   float64\n",
      " 7   tips                    1000 non-null   float64\n",
      " 8   tolls                   907 non-null    float64\n",
      " 9   extras                  1000 non-null   float64\n",
      " 10  trip_total              1000 non-null   float64\n",
      " 11  pickup_latitude         0 non-null      float64\n",
      " 12  pickup_longitude        0 non-null      float64\n",
      " 13  dropoff_latitude        0 non-null      float64\n",
      " 14  dropoff_longitude       0 non-null      float64\n",
      "dtypes: Int64(5), float64(10)\n",
      "memory usage: 122.2 KB\n"
     ]
    }
   ],
   "source": [
    "num_df.info()"
   ]
  },
  {
   "cell_type": "code",
   "execution_count": 8,
   "id": "c0bf959f-72cf-477c-959d-ae038861f012",
   "metadata": {},
   "outputs": [
    {
     "data": {
      "text/html": [
       "<div>\n",
       "<style scoped>\n",
       "    .dataframe tbody tr th:only-of-type {\n",
       "        vertical-align: middle;\n",
       "    }\n",
       "\n",
       "    .dataframe tbody tr th {\n",
       "        vertical-align: top;\n",
       "    }\n",
       "\n",
       "    .dataframe thead th {\n",
       "        text-align: right;\n",
       "    }\n",
       "</style>\n",
       "<table border=\"1\" class=\"dataframe\">\n",
       "  <thead>\n",
       "    <tr style=\"text-align: right;\">\n",
       "      <th></th>\n",
       "      <th>trip_seconds</th>\n",
       "      <th>trip_miles</th>\n",
       "      <th>fare</th>\n",
       "      <th>tips</th>\n",
       "      <th>tolls</th>\n",
       "      <th>extras</th>\n",
       "      <th>trip_total</th>\n",
       "    </tr>\n",
       "  </thead>\n",
       "  <tbody>\n",
       "    <tr>\n",
       "      <th>0</th>\n",
       "      <td>600</td>\n",
       "      <td>0.8</td>\n",
       "      <td>6.75</td>\n",
       "      <td>2.00</td>\n",
       "      <td>0.0</td>\n",
       "      <td>0.0</td>\n",
       "      <td>9.25</td>\n",
       "    </tr>\n",
       "    <tr>\n",
       "      <th>1</th>\n",
       "      <td>960</td>\n",
       "      <td>7.6</td>\n",
       "      <td>21.50</td>\n",
       "      <td>0.00</td>\n",
       "      <td>0.0</td>\n",
       "      <td>0.0</td>\n",
       "      <td>21.50</td>\n",
       "    </tr>\n",
       "    <tr>\n",
       "      <th>2</th>\n",
       "      <td>3000</td>\n",
       "      <td>13.2</td>\n",
       "      <td>37.00</td>\n",
       "      <td>0.00</td>\n",
       "      <td>0.0</td>\n",
       "      <td>0.0</td>\n",
       "      <td>37.00</td>\n",
       "    </tr>\n",
       "    <tr>\n",
       "      <th>3</th>\n",
       "      <td>2220</td>\n",
       "      <td>12.2</td>\n",
       "      <td>35.50</td>\n",
       "      <td>6.08</td>\n",
       "      <td>0.0</td>\n",
       "      <td>4.5</td>\n",
       "      <td>46.58</td>\n",
       "    </tr>\n",
       "    <tr>\n",
       "      <th>4</th>\n",
       "      <td>1560</td>\n",
       "      <td>15.6</td>\n",
       "      <td>39.25</td>\n",
       "      <td>8.65</td>\n",
       "      <td>0.0</td>\n",
       "      <td>4.0</td>\n",
       "      <td>52.40</td>\n",
       "    </tr>\n",
       "  </tbody>\n",
       "</table>\n",
       "</div>"
      ],
      "text/plain": [
       "   trip_seconds  trip_miles   fare  tips  tolls  extras  trip_total\n",
       "0           600         0.8   6.75  2.00    0.0     0.0        9.25\n",
       "1           960         7.6  21.50  0.00    0.0     0.0       21.50\n",
       "2          3000        13.2  37.00  0.00    0.0     0.0       37.00\n",
       "3          2220        12.2  35.50  6.08    0.0     4.5       46.58\n",
       "4          1560        15.6  39.25  8.65    0.0     4.0       52.40"
      ]
     },
     "execution_count": 8,
     "metadata": {},
     "output_type": "execute_result"
    }
   ],
   "source": [
    "# se borraron columnas con datos en blanco\n",
    "num_df = num_df.drop(['pickup_census_tract','dropoff_census_tract','pickup_community_area','dropoff_community_area','pickup_latitude','pickup_longitude','dropoff_latitude','dropoff_longitude'], axis=1)\n",
    "num_df.head()"
   ]
  },
  {
   "cell_type": "code",
   "execution_count": 9,
   "id": "5fbbb82d-0dcc-4887-96d7-52ec42a118ee",
   "metadata": {},
   "outputs": [],
   "source": [
    "columns = ['trip_seconds','trip_miles','fare','tips','tolls','extras','trip_total']"
   ]
  },
  {
   "cell_type": "markdown",
   "id": "b547c6d5-41a3-4c6f-a857-6956627eaebd",
   "metadata": {},
   "source": [
    "1. Exercico hacer las mismas graficas para el resto de variables numericas"
   ]
  },
  {
   "cell_type": "code",
   "execution_count": 10,
   "id": "d8312d7f-3b0a-4192-87a8-fb18acfc841e",
   "metadata": {},
   "outputs": [],
   "source": [
    "#def graficas (col):\n",
    "    \n",
    "    #f, (ax_box, ax_hist) = plt.subplots(2, sharex=True, gridspec_kw={\"height_ratios\": (.15, .85)})\n",
    "    #sns.boxplot(num_df[columns], ax=ax_box)\n",
    "    #sns.histplot(data=num_df, x=columns, bins=30, ax=ax_hist)\n",
    "    \n",
    "    #plt.suptitle(columns)  \n",
    "    #ax_hist.grid()\n",
    "    #plt.show()"
   ]
  },
  {
   "cell_type": "code",
   "execution_count": 11,
   "id": "bd338b0a-e2ec-4fb7-a722-48c640e128ee",
   "metadata": {},
   "outputs": [
    {
     "name": "stderr",
     "output_type": "stream",
     "text": [
      "/opt/conda/lib/python3.7/site-packages/seaborn/_decorators.py:43: FutureWarning: Pass the following variable as a keyword arg: x. From version 0.12, the only valid positional argument will be `data`, and passing other arguments without an explicit keyword will result in an error or misinterpretation.\n",
      "  FutureWarning\n"
     ]
    },
    {
     "data": {
      "image/png": "[encoded data removed]",
      "text/plain": [
       "<Figure size 432x288 with 2 Axes>"
      ]
     },
     "metadata": {
      "needs_background": "light"
     },
     "output_type": "display_data"
    }
   ],
   "source": [
    "#Gradfica uno fare\n",
    "f, (ax_box, ax_hist) = plt.subplots(2, sharex=True, gridspec_kw={\"height_ratios\": (.15, .85)})\n",
    "sns.boxplot(num_df[\"fare\"], ax=ax_box)\n",
    "sns.histplot(data=num_df, x=\"fare\", bins=30, ax=ax_hist)\n",
    "ax_box.set(xlabel='')\n",
    "plt.suptitle('fares')  \n",
    "ax_hist.grid()\n",
    "\n",
    "plot_path = os.path.join(project_dir, 'reports', 'plots', 'fare')\n",
    "f.savefig(plot_path)"
   ]
  },
  {
   "cell_type": "code",
   "execution_count": 12,
   "id": "b9e0e6cd-87d9-4662-b463-0746cd39c532",
   "metadata": {},
   "outputs": [
    {
     "name": "stderr",
     "output_type": "stream",
     "text": [
      "/opt/conda/lib/python3.7/site-packages/seaborn/_decorators.py:43: FutureWarning: Pass the following variable as a keyword arg: x. From version 0.12, the only valid positional argument will be `data`, and passing other arguments without an explicit keyword will result in an error or misinterpretation.\n",
      "  FutureWarning\n"
     ]
    },
    {
     "data": {
      "image/png": "[encoded data removed]",
      "text/plain": [
       "<Figure size 432x288 with 2 Axes>"
      ]
     },
     "metadata": {
      "needs_background": "light"
     },
     "output_type": "display_data"
    }
   ],
   "source": [
    "#Gradfica dos taxi trips miles\n",
    "f, (ax_box, ax_hist) = plt.subplots(2, sharex=True, gridspec_kw={\"height_ratios\": (.15, .85)})\n",
    "sns.boxplot(num_df[\"trip_miles\"], ax=ax_box)\n",
    "sns.histplot(data=num_df, x=\"trip_miles\", bins=30, ax=ax_hist)\n",
    "ax_box.set(xlabel='')\n",
    "plt.suptitle('taxi trips miles')  \n",
    "ax_hist.grid()\n",
    "\n",
    "plot_path = os.path.join(project_dir, 'reports', 'plots', 'taxi trips miles')\n",
    "f.savefig(plot_path)"
   ]
  },
  {
   "cell_type": "code",
   "execution_count": 13,
   "id": "07bac153-c642-4dc3-bb1e-892d4b11a045",
   "metadata": {},
   "outputs": [
    {
     "name": "stderr",
     "output_type": "stream",
     "text": [
      "/opt/conda/lib/python3.7/site-packages/seaborn/_decorators.py:43: FutureWarning: Pass the following variable as a keyword arg: x. From version 0.12, the only valid positional argument will be `data`, and passing other arguments without an explicit keyword will result in an error or misinterpretation.\n",
      "  FutureWarning\n"
     ]
    },
    {
     "data": {
      "image/png": "[encoded data removed]",
      "text/plain": [
       "<Figure size 432x288 with 2 Axes>"
      ]
     },
     "metadata": {
      "needs_background": "light"
     },
     "output_type": "display_data"
    }
   ],
   "source": [
    "#Gradfica tres tips\n",
    "f, (ax_box, ax_hist) = plt.subplots(2, sharex=True, gridspec_kw={\"height_ratios\": (.15, .85)})\n",
    "sns.boxplot(num_df[\"tips\"], ax=ax_box)\n",
    "sns.histplot(data=num_df, x=\"tips\", bins=30, ax=ax_hist)\n",
    "ax_box.set(xlabel='')\n",
    "plt.suptitle('taxi tips')  \n",
    "ax_hist.grid()\n",
    "\n",
    "plot_path = os.path.join(project_dir, 'reports', 'plots', 'taxi tips')\n",
    "f.savefig(plot_path)"
   ]
  },
  {
   "cell_type": "code",
   "execution_count": 14,
   "id": "9748cfc1-22f0-40d4-aeeb-467291a8cd5f",
   "metadata": {},
   "outputs": [
    {
     "name": "stderr",
     "output_type": "stream",
     "text": [
      "/opt/conda/lib/python3.7/site-packages/seaborn/_decorators.py:43: FutureWarning: Pass the following variable as a keyword arg: x. From version 0.12, the only valid positional argument will be `data`, and passing other arguments without an explicit keyword will result in an error or misinterpretation.\n",
      "  FutureWarning\n"
     ]
    },
    {
     "data": {
      "image/png": "[encoded data removed]",
      "text/plain": [
       "<Figure size 432x288 with 2 Axes>"
      ]
     },
     "metadata": {
      "needs_background": "light"
     },
     "output_type": "display_data"
    }
   ],
   "source": [
    "#Gradfica cuatro tolls\n",
    "f, (ax_box, ax_hist) = plt.subplots(2, sharex=True, gridspec_kw={\"height_ratios\": (.15, .85)})\n",
    "sns.boxplot(num_df[\"tolls\"], ax=ax_box)\n",
    "sns.histplot(data=num_df, x=\"tolls\", bins=30, ax=ax_hist)\n",
    "ax_box.set(xlabel='')\n",
    "plt.suptitle('tolls')  \n",
    "ax_hist.grid()\n",
    "\n",
    "plot_path = os.path.join(project_dir, 'reports', 'plots', 'tolls')\n",
    "f.savefig(plot_path)"
   ]
  },
  {
   "cell_type": "code",
   "execution_count": 15,
   "id": "7a5e686d-92a1-4325-a5c0-e06274b1e92e",
   "metadata": {},
   "outputs": [
    {
     "name": "stderr",
     "output_type": "stream",
     "text": [
      "/opt/conda/lib/python3.7/site-packages/seaborn/_decorators.py:43: FutureWarning: Pass the following variable as a keyword arg: x. From version 0.12, the only valid positional argument will be `data`, and passing other arguments without an explicit keyword will result in an error or misinterpretation.\n",
      "  FutureWarning\n"
     ]
    },
    {
     "data": {
      "image/png": "[encoded data removed]",
      "text/plain": [
       "<Figure size 432x288 with 2 Axes>"
      ]
     },
     "metadata": {
      "needs_background": "light"
     },
     "output_type": "display_data"
    }
   ],
   "source": [
    "#Gradfica cinco extras\n",
    "f, (ax_box, ax_hist) = plt.subplots(2, sharex=True, gridspec_kw={\"height_ratios\": (.15, .85)})\n",
    "sns.boxplot(num_df[\"extras\"], ax=ax_box)\n",
    "sns.histplot(data=num_df, x=\"extras\", bins=30, ax=ax_hist)\n",
    "ax_box.set(xlabel='')\n",
    "plt.suptitle('tolls')  \n",
    "ax_hist.grid()\n",
    "\n",
    "plot_path = os.path.join(project_dir, 'reports', 'plots', 'extras')\n",
    "f.savefig(plot_path)"
   ]
  },
  {
   "cell_type": "code",
   "execution_count": 16,
   "id": "039a489c-d2a6-417e-8fda-fbe5b7309ae0",
   "metadata": {},
   "outputs": [
    {
     "name": "stderr",
     "output_type": "stream",
     "text": [
      "/opt/conda/lib/python3.7/site-packages/seaborn/_decorators.py:43: FutureWarning: Pass the following variable as a keyword arg: x. From version 0.12, the only valid positional argument will be `data`, and passing other arguments without an explicit keyword will result in an error or misinterpretation.\n",
      "  FutureWarning\n"
     ]
    },
    {
     "data": {
      "image/png": "[encoded data removed]",
      "text/plain": [
       "<Figure size 432x288 with 2 Axes>"
      ]
     },
     "metadata": {
      "needs_background": "light"
     },
     "output_type": "display_data"
    }
   ],
   "source": [
    "#Gradfica seis trip_total\n",
    "f, (ax_box, ax_hist) = plt.subplots(2, sharex=True, gridspec_kw={\"height_ratios\": (.15, .85)})\n",
    "sns.boxplot(num_df[\"trip_total\"], ax=ax_box)\n",
    "sns.histplot(data=num_df, x=\"trip_total\", bins=30, ax=ax_hist)\n",
    "ax_box.set(xlabel='')\n",
    "plt.suptitle('tolls')  \n",
    "ax_hist.grid()\n",
    "\n",
    "plot_path = os.path.join(project_dir, 'reports', 'plots', 'trip_total')\n",
    "f.savefig(plot_path)"
   ]
  },
  {
   "cell_type": "markdown",
   "id": "546c7978-5639-437f-8403-3684474abcef",
   "metadata": {},
   "source": [
    "LOG TRANSFORM"
   ]
  },
  {
   "cell_type": "code",
   "execution_count": 17,
   "id": "64f51d96-a3c0-4ec5-a9c4-89722af532a9",
   "metadata": {},
   "outputs": [
    {
     "data": {
      "text/plain": [
       "0       600\n",
       "1       960\n",
       "2      3000\n",
       "3      2220\n",
       "4      1560\n",
       "       ... \n",
       "995    2040\n",
       "996     480\n",
       "997    1260\n",
       "998     720\n",
       "999     960\n",
       "Name: trip_seconds, Length: 1000, dtype: Int64"
      ]
     },
     "execution_count": 17,
     "metadata": {},
     "output_type": "execute_result"
    }
   ],
   "source": [
    "x = num_df['trip_seconds']\n",
    "x"
   ]
  },
  {
   "cell_type": "code",
   "execution_count": 18,
   "id": "1fe5356f-72a2-4c63-8282-556c4c6c94f8",
   "metadata": {},
   "outputs": [
    {
     "data": {
      "text/plain": [
       "0      6.398595\n",
       "1      6.867974\n",
       "2      8.006701\n",
       "3      7.705713\n",
       "4      7.353082\n",
       "         ...   \n",
       "995    7.621195\n",
       "996    6.175867\n",
       "997     7.13966\n",
       "998    6.580639\n",
       "999    6.867974\n",
       "Name: trip_seconds, Length: 1000, dtype: Float64"
      ]
     },
     "execution_count": 18,
     "metadata": {},
     "output_type": "execute_result"
    }
   ],
   "source": [
    "log_x = np.log(x+1)\n",
    "log_x"
   ]
  },
  {
   "cell_type": "code",
   "execution_count": 19,
   "id": "b7d74050-8e1e-488b-95a7-4ce5c8bf7f39",
   "metadata": {},
   "outputs": [
    {
     "data": {
      "image/png": "[encoded data removed]",
      "text/plain": [
       "<Figure size 1080x288 with 2 Axes>"
      ]
     },
     "metadata": {
      "needs_background": "light"
     },
     "output_type": "display_data"
    }
   ],
   "source": [
    "f, ax = plt.subplots(1,2, figsize=(15,4))\n",
    "ax[0].hist(x,     bins=30)\n",
    "ax[1].hist(log_x, bins=30); #punto y como para que no muestre los valores"
   ]
  },
  {
   "cell_type": "code",
   "execution_count": 20,
   "id": "0814df2b-ed94-44da-b5aa-65b9395984e4",
   "metadata": {},
   "outputs": [
    {
     "name": "stderr",
     "output_type": "stream",
     "text": [
      "/opt/conda/lib/python3.7/site-packages/seaborn/_decorators.py:43: FutureWarning: Pass the following variable as a keyword arg: x. From version 0.12, the only valid positional argument will be `data`, and passing other arguments without an explicit keyword will result in an error or misinterpretation.\n",
      "  FutureWarning\n"
     ]
    },
    {
     "data": {
      "text/plain": [
       "<AxesSubplot:xlabel='trip_seconds'>"
      ]
     },
     "execution_count": 20,
     "metadata": {},
     "output_type": "execute_result"
    },
    {
     "data": {
      "image/png": "[encoded data removed]",
      "text/plain": [
       "<Figure size 432x288 with 1 Axes>"
      ]
     },
     "metadata": {
      "needs_background": "light"
     },
     "output_type": "display_data"
    }
   ],
   "source": [
    "sns.boxplot(x)"
   ]
  },
  {
   "cell_type": "code",
   "execution_count": 21,
   "id": "64f6cc51-766c-4b0c-be9e-d3cf811c8a6f",
   "metadata": {},
   "outputs": [
    {
     "name": "stderr",
     "output_type": "stream",
     "text": [
      "/opt/conda/lib/python3.7/site-packages/seaborn/_decorators.py:43: FutureWarning: Pass the following variable as a keyword arg: x. From version 0.12, the only valid positional argument will be `data`, and passing other arguments without an explicit keyword will result in an error or misinterpretation.\n",
      "  FutureWarning\n"
     ]
    },
    {
     "data": {
      "text/plain": [
       "<AxesSubplot:xlabel='trip_seconds'>"
      ]
     },
     "execution_count": 21,
     "metadata": {},
     "output_type": "execute_result"
    },
    {
     "data": {
      "image/png": "[encoded data removed]",
      "text/plain": [
       "<Figure size 432x288 with 1 Axes>"
      ]
     },
     "metadata": {
      "needs_background": "light"
     },
     "output_type": "display_data"
    }
   ],
   "source": [
    "sns.boxplot(log_x)"
   ]
  },
  {
   "cell_type": "code",
   "execution_count": 22,
   "id": "44055289-dfda-4b48-bf98-76a52ec820b9",
   "metadata": {},
   "outputs": [
    {
     "data": {
      "text/plain": [
       "count    1000.000000\n",
       "mean        6.101627\n",
       "std         1.595560\n",
       "min         0.000000\n",
       "25%         5.853610\n",
       "50%         6.398595\n",
       "75%         6.867974\n",
       "max         8.738896\n",
       "Name: trip_seconds, dtype: float64"
      ]
     },
     "execution_count": 22,
     "metadata": {},
     "output_type": "execute_result"
    }
   ],
   "source": [
    "log_x.describe()"
   ]
  },
  {
   "cell_type": "code",
   "execution_count": 23,
   "id": "2bff0d62-fd47-4f47-bb2a-7ed28b98a4d2",
   "metadata": {},
   "outputs": [
    {
     "data": {
      "text/plain": [
       "6.101626616629768"
      ]
     },
     "execution_count": 23,
     "metadata": {},
     "output_type": "execute_result"
    }
   ],
   "source": [
    "#media\n",
    "log_x.mean() "
   ]
  },
  {
   "cell_type": "code",
   "execution_count": 24,
   "id": "2f0c25a7-bf83-4fd0-a2df-1c1549830d19",
   "metadata": {},
   "outputs": [
    {
     "data": {
      "text/plain": [
       "446.58359990923947"
      ]
     },
     "execution_count": 24,
     "metadata": {},
     "output_type": "execute_result"
    }
   ],
   "source": [
    "#log natural\n",
    "np.exp(log_x.mean())"
   ]
  },
  {
   "cell_type": "markdown",
   "id": "0b02e28b-71d5-4fab-954a-ad0447f994cc",
   "metadata": {},
   "source": [
    "bidimencional\n",
    "two dimensions"
   ]
  },
  {
   "cell_type": "markdown",
   "id": "4c0bc171-4828-4382-b7cd-f73a8f3f7200",
   "metadata": {},
   "source": [
    "Scatter plots\n",
    "correlation"
   ]
  },
  {
   "cell_type": "code",
   "execution_count": 25,
   "id": "2f8ddcbf-045a-41eb-be77-61a63596327d",
   "metadata": {},
   "outputs": [
    {
     "data": {
      "text/plain": [
       "<AxesSubplot:xlabel='trip_seconds', ylabel='trip_miles'>"
      ]
     },
     "execution_count": 25,
     "metadata": {},
     "output_type": "execute_result"
    },
    {
     "data": {
      "image/png": "[encoded data removed]",
      "text/plain": [
       "<Figure size 432x288 with 1 Axes>"
      ]
     },
     "metadata": {
      "needs_background": "light"
     },
     "output_type": "display_data"
    }
   ],
   "source": [
    "num_df.plot(kind='scatter', x='trip_seconds', y='trip_miles', alpha=0.1)"
   ]
  },
  {
   "cell_type": "code",
   "execution_count": 26,
   "id": "861895ec-399f-4c42-8dc9-c2ca7a26fdd1",
   "metadata": {},
   "outputs": [
    {
     "data": {
      "text/html": [
       "<div>\n",
       "<style scoped>\n",
       "    .dataframe tbody tr th:only-of-type {\n",
       "        vertical-align: middle;\n",
       "    }\n",
       "\n",
       "    .dataframe tbody tr th {\n",
       "        vertical-align: top;\n",
       "    }\n",
       "\n",
       "    .dataframe thead th {\n",
       "        text-align: right;\n",
       "    }\n",
       "</style>\n",
       "<table border=\"1\" class=\"dataframe\">\n",
       "  <thead>\n",
       "    <tr style=\"text-align: right;\">\n",
       "      <th></th>\n",
       "      <th>trip_seconds</th>\n",
       "      <th>trip_miles</th>\n",
       "    </tr>\n",
       "  </thead>\n",
       "  <tbody>\n",
       "    <tr>\n",
       "      <th>trip_seconds</th>\n",
       "      <td>1.000000</td>\n",
       "      <td>0.388041</td>\n",
       "    </tr>\n",
       "    <tr>\n",
       "      <th>trip_miles</th>\n",
       "      <td>0.388041</td>\n",
       "      <td>1.000000</td>\n",
       "    </tr>\n",
       "  </tbody>\n",
       "</table>\n",
       "</div>"
      ],
      "text/plain": [
       "              trip_seconds  trip_miles\n",
       "trip_seconds      1.000000    0.388041\n",
       "trip_miles        0.388041    1.000000"
      ]
     },
     "execution_count": 26,
     "metadata": {},
     "output_type": "execute_result"
    }
   ],
   "source": [
    "#coeficiente de correlacion\n",
    "x='trip_seconds'\n",
    "y='trip_miles'\n",
    "num_df[[x, y]].corr()"
   ]
  },
  {
   "cell_type": "code",
   "execution_count": 27,
   "id": "2dac3afa-a39b-4b78-9ab9-010ef3bb5c8a",
   "metadata": {},
   "outputs": [
    {
     "data": {
      "text/plain": [
       "<AxesSubplot:xlabel='trip_seconds', ylabel='trip_miles'>"
      ]
     },
     "execution_count": 27,
     "metadata": {},
     "output_type": "execute_result"
    },
    {
     "data": {
      "image/png": "[encoded data removed]",
      "text/plain": [
       "<Figure size 432x288 with 1 Axes>"
      ]
     },
     "metadata": {
      "needs_background": "light"
     },
     "output_type": "display_data"
    }
   ],
   "source": [
    "log_x= np.log(num_df[x] + 1)\n",
    "log_y= np.log(num_df[y] + 1)\n",
    "sns.scatterplot(x=log_x, y=log_y, alpha=0.1)"
   ]
  },
  {
   "cell_type": "code",
   "execution_count": 28,
   "id": "906bd901-f79b-4de3-b1bb-ddfd2729799c",
   "metadata": {},
   "outputs": [
    {
     "data": {
      "text/html": [
       "<div>\n",
       "<style scoped>\n",
       "    .dataframe tbody tr th:only-of-type {\n",
       "        vertical-align: middle;\n",
       "    }\n",
       "\n",
       "    .dataframe tbody tr th {\n",
       "        vertical-align: top;\n",
       "    }\n",
       "\n",
       "    .dataframe thead th {\n",
       "        text-align: right;\n",
       "    }\n",
       "</style>\n",
       "<table border=\"1\" class=\"dataframe\">\n",
       "  <thead>\n",
       "    <tr style=\"text-align: right;\">\n",
       "      <th></th>\n",
       "      <th>trip_seconds</th>\n",
       "      <th>trip_miles</th>\n",
       "    </tr>\n",
       "  </thead>\n",
       "  <tbody>\n",
       "    <tr>\n",
       "      <th>trip_seconds</th>\n",
       "      <td>1.000000</td>\n",
       "      <td>0.543457</td>\n",
       "    </tr>\n",
       "    <tr>\n",
       "      <th>trip_miles</th>\n",
       "      <td>0.543457</td>\n",
       "      <td>1.000000</td>\n",
       "    </tr>\n",
       "  </tbody>\n",
       "</table>\n",
       "</div>"
      ],
      "text/plain": [
       "              trip_seconds  trip_miles\n",
       "trip_seconds      1.000000    0.543457\n",
       "trip_miles        0.543457    1.000000"
      ]
     },
     "execution_count": 28,
     "metadata": {},
     "output_type": "execute_result"
    }
   ],
   "source": [
    "#coeficiente de correlacion de logaritmos\n",
    "log_num_df = pd.DataFrame(\n",
    "    columns=[x, y]\n",
    ")\n",
    "\n",
    "log_num_df[x]=log_x\n",
    "log_num_df[y]=log_y\n",
    "log_num_df.corr()"
   ]
  },
  {
   "cell_type": "markdown",
   "id": "e50b11e9-143d-4530-bb9d-7b771c7ec1d1",
   "metadata": {},
   "source": [
    "2. exercicio hacer el estudio de correlacion con las otras variables"
   ]
  },
  {
   "cell_type": "code",
   "execution_count": 29,
   "id": "a015f090-7578-4ae5-9cfc-5d3be2764c8e",
   "metadata": {},
   "outputs": [
    {
     "data": {
      "text/plain": [
       "0       0.8\n",
       "1       7.6\n",
       "2      13.2\n",
       "3      12.2\n",
       "4      15.6\n",
       "       ... \n",
       "995     9.1\n",
       "996     1.8\n",
       "997     6.0\n",
       "998     1.7\n",
       "999     5.4\n",
       "Name: trip_miles, Length: 1000, dtype: float64"
      ]
     },
     "execution_count": 29,
     "metadata": {},
     "output_type": "execute_result"
    }
   ],
   "source": [
    "# log de la variable 'trip_miles'\n",
    "x = num_df['trip_miles']\n",
    "x"
   ]
  },
  {
   "cell_type": "code",
   "execution_count": 30,
   "id": "0339faca-a63b-45b9-b44b-834b0cec0924",
   "metadata": {},
   "outputs": [
    {
     "data": {
      "text/plain": [
       "0      0.587787\n",
       "1      2.151762\n",
       "2      2.653242\n",
       "3      2.580217\n",
       "4      2.809403\n",
       "         ...   \n",
       "995    2.312535\n",
       "996    1.029619\n",
       "997    1.945910\n",
       "998    0.993252\n",
       "999    1.856298\n",
       "Name: trip_miles, Length: 1000, dtype: float64"
      ]
     },
     "execution_count": 30,
     "metadata": {},
     "output_type": "execute_result"
    }
   ],
   "source": [
    "# log de la variable 'trip_miles'\n",
    "log_x = np.log(x+1)\n",
    "log_x"
   ]
  },
  {
   "cell_type": "code",
   "execution_count": 31,
   "id": "42d1be34-2b32-4d46-997a-485ecd04ccc5",
   "metadata": {
    "tags": []
   },
   "outputs": [
    {
     "data": {
      "image/png": "[encoded data removed]",
      "text/plain": [
       "<Figure size 1080x288 with 2 Axes>"
      ]
     },
     "metadata": {
      "needs_background": "light"
     },
     "output_type": "display_data"
    }
   ],
   "source": [
    "# Graficas de la variable 'trip_miles' normal y con logaritmo\n",
    "f, ax = plt.subplots(1,2, figsize=(15,4))\n",
    "ax[0].hist(x,     bins=30)\n",
    "ax[1].hist(log_x, bins=30);"
   ]
  },
  {
   "cell_type": "code",
   "execution_count": 32,
   "id": "f18df371-0a0b-4b46-a3f8-09e056e0b614",
   "metadata": {},
   "outputs": [
    {
     "data": {
      "text/plain": [
       "0       6.75\n",
       "1      21.50\n",
       "2      37.00\n",
       "3      35.50\n",
       "4      39.25\n",
       "       ...  \n",
       "995    26.00\n",
       "996     8.00\n",
       "997    19.00\n",
       "998     9.25\n",
       "999    16.25\n",
       "Name: fare, Length: 1000, dtype: float64"
      ]
     },
     "execution_count": 32,
     "metadata": {},
     "output_type": "execute_result"
    }
   ],
   "source": [
    "# log de la variable 'fare'\n",
    "x = num_df['fare']\n",
    "x"
   ]
  },
  {
   "cell_type": "code",
   "execution_count": 33,
   "id": "308691de-e235-4653-aad1-a4cd1059bd56",
   "metadata": {},
   "outputs": [
    {
     "data": {
      "text/plain": [
       "0      2.047693\n",
       "1      3.113515\n",
       "2      3.637586\n",
       "3      3.597312\n",
       "4      3.695110\n",
       "         ...   \n",
       "995    3.295837\n",
       "996    2.197225\n",
       "997    2.995732\n",
       "998    2.327278\n",
       "999    2.847812\n",
       "Name: fare, Length: 1000, dtype: float64"
      ]
     },
     "execution_count": 33,
     "metadata": {},
     "output_type": "execute_result"
    }
   ],
   "source": [
    "# log de la variable 'fare'\n",
    "log_x = np.log(x+1)\n",
    "log_x"
   ]
  },
  {
   "cell_type": "code",
   "execution_count": 34,
   "id": "bfd5da16-ec5c-4122-91c9-2bc561c534e4",
   "metadata": {},
   "outputs": [
    {
     "data": {
      "image/png": "[encoded data removed]",
      "text/plain": [
       "<Figure size 1080x288 with 2 Axes>"
      ]
     },
     "metadata": {
      "needs_background": "light"
     },
     "output_type": "display_data"
    }
   ],
   "source": [
    "# Graficas de la variable 'fare' normal y con logaritmo\n",
    "f, ax = plt.subplots(1,2, figsize=(15,4))\n",
    "ax[0].hist(x,     bins=30)\n",
    "ax[1].hist(log_x, bins=30);"
   ]
  },
  {
   "cell_type": "code",
   "execution_count": 35,
   "id": "a3e21106-4152-423c-98d5-95a87e58ae54",
   "metadata": {},
   "outputs": [
    {
     "data": {
      "text/plain": [
       "0      0.0\n",
       "1      0.0\n",
       "2      0.0\n",
       "3      0.0\n",
       "4      0.0\n",
       "      ... \n",
       "995    0.0\n",
       "996    0.0\n",
       "997    0.0\n",
       "998    0.0\n",
       "999    0.0\n",
       "Name: tolls, Length: 1000, dtype: float64"
      ]
     },
     "execution_count": 35,
     "metadata": {},
     "output_type": "execute_result"
    }
   ],
   "source": [
    "# log de la variable 'tolls'\n",
    "x = num_df['tolls']\n",
    "x"
   ]
  },
  {
   "cell_type": "code",
   "execution_count": 36,
   "id": "e4db98e9-3f4a-4653-b4e9-811f5e56d825",
   "metadata": {},
   "outputs": [
    {
     "data": {
      "text/plain": [
       "0      0.0\n",
       "1      0.0\n",
       "2      0.0\n",
       "3      0.0\n",
       "4      0.0\n",
       "      ... \n",
       "995    0.0\n",
       "996    0.0\n",
       "997    0.0\n",
       "998    0.0\n",
       "999    0.0\n",
       "Name: tolls, Length: 1000, dtype: float64"
      ]
     },
     "execution_count": 36,
     "metadata": {},
     "output_type": "execute_result"
    }
   ],
   "source": [
    "# log de la variable 'tolls'\n",
    "log_x = np.log(x+1)\n",
    "log_x"
   ]
  },
  {
   "cell_type": "code",
   "execution_count": 37,
   "id": "f7e3b685-9f78-48d9-acb3-3580efd6b077",
   "metadata": {},
   "outputs": [
    {
     "data": {
      "text/plain": [
       "0      2.00\n",
       "1      0.00\n",
       "2      0.00\n",
       "3      6.08\n",
       "4      8.65\n",
       "       ... \n",
       "995    0.00\n",
       "996    0.00\n",
       "997    3.80\n",
       "998    0.00\n",
       "999    0.00\n",
       "Name: tips, Length: 1000, dtype: float64"
      ]
     },
     "execution_count": 37,
     "metadata": {},
     "output_type": "execute_result"
    }
   ],
   "source": [
    "# log de la variable 'tips'\n",
    "x = num_df['tips']\n",
    "x"
   ]
  },
  {
   "cell_type": "code",
   "execution_count": 38,
   "id": "8349eebf-5dbc-41ef-8882-154ea9060ce4",
   "metadata": {},
   "outputs": [
    {
     "data": {
      "text/plain": [
       "0      1.098612\n",
       "1      0.000000\n",
       "2      0.000000\n",
       "3      1.957274\n",
       "4      2.266958\n",
       "         ...   \n",
       "995    0.000000\n",
       "996    0.000000\n",
       "997    1.568616\n",
       "998    0.000000\n",
       "999    0.000000\n",
       "Name: tips, Length: 1000, dtype: float64"
      ]
     },
     "execution_count": 38,
     "metadata": {},
     "output_type": "execute_result"
    }
   ],
   "source": [
    "# log de la variable 'tips'\n",
    "log_x = np.log(x+1)\n",
    "log_x"
   ]
  },
  {
   "cell_type": "code",
   "execution_count": 39,
   "id": "3926a22e-c3f9-467e-92a0-b87f557098ae",
   "metadata": {},
   "outputs": [
    {
     "data": {
      "image/png": "[encoded data removed]",
      "text/plain": [
       "<Figure size 1080x288 with 2 Axes>"
      ]
     },
     "metadata": {
      "needs_background": "light"
     },
     "output_type": "display_data"
    }
   ],
   "source": [
    "# Graficas de la variable 'tips' normal y con logaritmo\n",
    "f, ax = plt.subplots(1,2, figsize=(15,4))\n",
    "ax[0].hist(x,     bins=30)\n",
    "ax[1].hist(log_x, bins=30);"
   ]
  },
  {
   "cell_type": "code",
   "execution_count": 40,
   "id": "d68cab77-a510-4577-95e4-d22adac3b089",
   "metadata": {},
   "outputs": [
    {
     "data": {
      "text/plain": [
       "0      0.0\n",
       "1      0.0\n",
       "2      0.0\n",
       "3      4.5\n",
       "4      4.0\n",
       "      ... \n",
       "995    0.0\n",
       "996    1.5\n",
       "997    0.0\n",
       "998    0.0\n",
       "999    0.0\n",
       "Name: extras, Length: 1000, dtype: float64"
      ]
     },
     "execution_count": 40,
     "metadata": {},
     "output_type": "execute_result"
    }
   ],
   "source": [
    "# log de la variable 'extras'\n",
    "x = num_df['extras']\n",
    "x"
   ]
  },
  {
   "cell_type": "code",
   "execution_count": 41,
   "id": "681876e2-957f-4b8e-90e4-5dfb7be37a9e",
   "metadata": {},
   "outputs": [
    {
     "data": {
      "text/plain": [
       "0      0.000000\n",
       "1      0.000000\n",
       "2      0.000000\n",
       "3      1.704748\n",
       "4      1.609438\n",
       "         ...   \n",
       "995    0.000000\n",
       "996    0.916291\n",
       "997    0.000000\n",
       "998    0.000000\n",
       "999    0.000000\n",
       "Name: extras, Length: 1000, dtype: float64"
      ]
     },
     "execution_count": 41,
     "metadata": {},
     "output_type": "execute_result"
    }
   ],
   "source": [
    "# log de la variable 'extras'\n",
    "log_x = np.log(x+1)\n",
    "log_x"
   ]
  },
  {
   "cell_type": "code",
   "execution_count": 42,
   "id": "729f8bcc-afc0-4bc2-8276-d38aa0adb779",
   "metadata": {},
   "outputs": [
    {
     "data": {
      "image/png": "[encoded data removed]",
      "text/plain": [
       "<Figure size 1080x288 with 2 Axes>"
      ]
     },
     "metadata": {
      "needs_background": "light"
     },
     "output_type": "display_data"
    }
   ],
   "source": [
    "# Graficas de la variable 'extras' normal y con logaritmo\n",
    "f, ax = plt.subplots(1,2, figsize=(15,4))\n",
    "ax[0].hist(x,     bins=30)\n",
    "ax[1].hist(log_x, bins=30);"
   ]
  },
  {
   "cell_type": "code",
   "execution_count": 43,
   "id": "1c101517-c392-4cd9-8bb4-36f6ad18ba51",
   "metadata": {},
   "outputs": [
    {
     "data": {
      "text/plain": [
       "0      0.000000\n",
       "1      0.000000\n",
       "2      0.000000\n",
       "3      1.704748\n",
       "4      1.609438\n",
       "         ...   \n",
       "995    0.000000\n",
       "996    0.916291\n",
       "997    0.000000\n",
       "998    0.000000\n",
       "999    0.000000\n",
       "Name: extras, Length: 1000, dtype: float64"
      ]
     },
     "execution_count": 43,
     "metadata": {},
     "output_type": "execute_result"
    }
   ],
   "source": [
    "# log de la variable 'trip_total'\n",
    "log_x = np.log(x+1)\n",
    "log_x"
   ]
  },
  {
   "cell_type": "code",
   "execution_count": 44,
   "id": "9bfa7af7-f956-43f8-b562-e5f8a5380d90",
   "metadata": {},
   "outputs": [
    {
     "data": {
      "image/png": "[encoded data removed]",
      "text/plain": [
       "<Figure size 1080x288 with 2 Axes>"
      ]
     },
     "metadata": {
      "needs_background": "light"
     },
     "output_type": "display_data"
    }
   ],
   "source": [
    "# Graficas de la variable 'trip_total' normal y con logaritmo\n",
    "f, ax = plt.subplots(1,2, figsize=(15,4))\n",
    "ax[0].hist(x,     bins=30)\n",
    "ax[1].hist(log_x, bins=30);"
   ]
  },
  {
   "cell_type": "markdown",
   "id": "a6e8174d-58dd-4f3a-aaba-6c24038b1c00",
   "metadata": {},
   "source": [
    "matrices de dispercion"
   ]
  },
  {
   "cell_type": "code",
   "execution_count": 45,
   "id": "34d2b3e9-63d3-48a4-978b-e55009da57fb",
   "metadata": {},
   "outputs": [
    {
     "data": {
      "text/plain": [
       "<seaborn.axisgrid.PairGrid at 0x7f9fe4c13d50>"
      ]
     },
     "execution_count": 45,
     "metadata": {},
     "output_type": "execute_result"
    },
    {
     "data": {
      "image/png": "[encoded data removed]",
      "text/plain": [
       "<Figure size 900x900 with 30 Axes>"
      ]
     },
     "metadata": {
      "needs_background": "light"
     },
     "output_type": "display_data"
    }
   ],
   "source": [
    "cols = ['trip_total', 'trip_seconds', 'tips', 'fare', 'extras']\n",
    "sns.pairplot(data=num_df[cols])   "
   ]
  },
  {
   "cell_type": "code",
   "execution_count": 46,
   "id": "1dec1ba0-34cb-45f4-9f6c-3cc440634fd0",
   "metadata": {},
   "outputs": [
    {
     "data": {
      "text/plain": [
       "<AxesSubplot:>"
      ]
     },
     "execution_count": 46,
     "metadata": {},
     "output_type": "execute_result"
    },
    {
     "data": {
      "image/png": "[encoded data removed]",
      "text/plain": [
       "<Figure size 432x288 with 2 Axes>"
      ]
     },
     "metadata": {
      "needs_background": "light"
     },
     "output_type": "display_data"
    }
   ],
   "source": [
    "correlations = num_df[cols].corr()\n",
    "sns.heatmap(correlations, cmap='Reds', annot=True)"
   ]
  },
  {
   "cell_type": "markdown",
   "id": "8742cc8c-93f1-45c9-a4b3-4f2690499ba8",
   "metadata": {},
   "source": [
    "3. Construir mapa de calor  y ScatterMatrix, con las variables numéricas transformadas a logaritmo"
   ]
  },
  {
   "cell_type": "code",
   "execution_count": 51,
   "id": "419a9629-cdbc-4e4c-8457-bc46501c3b87",
   "metadata": {},
   "outputs": [],
   "source": [
    "# log de la variable 'trip_miles'\n",
    "x1 = num_df['trip_miles']\n",
    "trip_miles_log = np.log(x1+1)\n",
    "# log de la variable 'trip_total'\n",
    "x2 = num_df['trip_total']\n",
    "trip_total_log = np.log(x2+1)\n",
    "# log de la variable 'fare'\n",
    "x3 = num_df['fare']\n",
    "fare_log = np.log(x3+1)\n",
    "# log de la variable 'tips'\n",
    "x4 = num_df['tips']\n",
    "tips_log = np.log(x4+1)\n",
    "# log de la variable 'tolls'\n",
    "x5 = num_df['tolls']\n",
    "tolls_log = np.log(x5+1)\n",
    "# log de la variable 'extras'\n",
    "x6 = num_df['extras']\n",
    "extras_log = np.log(x6+1)\n",
    "# log de la variable 'trip_miles'\n",
    "x7 = num_df['trip_total']\n",
    "trip_total_log = np.log(x7+1)"
   ]
  },
  {
   "cell_type": "markdown",
   "id": "ab69da66-2427-47fa-91ed-ca606da87017",
   "metadata": {},
   "source": [
    "min y max scaled"
   ]
  },
  {
   "cell_type": "code",
   "execution_count": 65,
   "id": "4d2230e5-c803-434b-aace-42a57d4e4495",
   "metadata": {},
   "outputs": [
    {
     "data": {
      "image/png": "[encoded data removed]",
      "text/plain": [
       "<Figure size 432x288 with 1 Axes>"
      ]
     },
     "metadata": {
      "needs_background": "light"
     },
     "output_type": "display_data"
    }
   ],
   "source": [
    "x = num_df['trip_seconds']\n",
    "x_min = x.min()\n",
    "x_max = x.max()\n",
    "\n",
    "x_scaled = (x-x_min) / (x_max-x_min)\n",
    "plt.hist(x_scaled, bins=30);"
   ]
  },
  {
   "cell_type": "markdown",
   "id": "e14a2548-8da3-4cb7-ba80-e7a8d8e4f063",
   "metadata": {},
   "source": [
    "standard scaler"
   ]
  },
  {
   "cell_type": "code",
   "execution_count": 48,
   "id": "7aaa4ebd-d1e1-44e4-8b77-875574dc6233",
   "metadata": {},
   "outputs": [
    {
     "data": {
      "text/plain": [
       "<matplotlib.legend.Legend at 0x7f9fca41e390>"
      ]
     },
     "execution_count": 48,
     "metadata": {},
     "output_type": "execute_result"
    },
    {
     "data": {
      "image/png": "[encoded data removed]",
      "text/plain": [
       "<Figure size 432x288 with 1 Axes>"
      ]
     },
     "metadata": {
      "needs_background": "light"
     },
     "output_type": "display_data"
    }
   ],
   "source": [
    "x = num_df['trip_seconds']\n",
    "x_min = x.min()\n",
    "x_max = x.max()\n",
    "\n",
    "x_mean = x.mean()\n",
    "x_std = x.std()\n",
    "\n",
    "x_minmax_scaler = (x - x_min) / (x_max-x_min)\n",
    "x_std_scaler = (x-x_mean)/x_std\n",
    "\n",
    "plt.hist(x_minmax_scaler, bins=30, label='minmax', histtype='step', lw=3)\n",
    "plt.hist(x_std_scaler, bins=30, label='standard', histtype='step', lw=3);\n",
    "\n",
    "plt.legend(title='scaling method')"
   ]
  },
  {
   "cell_type": "code",
   "execution_count": null,
   "id": "e5b1cc44-f555-4afd-9282-2c723988b2b8",
   "metadata": {},
   "outputs": [],
   "source": [
    "4. Estudio de correlaciones con Standard Scaler y MinMax Scaler"
   ]
  },
  {
   "cell_type": "code",
   "execution_count": 53,
   "id": "0d85a262-4249-4cae-bb3d-1e6260bd87f2",
   "metadata": {},
   "outputs": [
    {
     "data": {
      "text/plain": [
       "<matplotlib.legend.Legend at 0x7f9fca00f650>"
      ]
     },
     "execution_count": 53,
     "metadata": {},
     "output_type": "execute_result"
    },
    {
     "data": {
      "image/png": "[encoded data removed]",
      "text/plain": [
       "<Figure size 432x288 with 1 Axes>"
      ]
     },
     "metadata": {
      "needs_background": "light"
     },
     "output_type": "display_data"
    }
   ],
   "source": [
    "# Standard Scaler y MinMax Scaler fare\n",
    "x = num_df['fare']\n",
    "x_min = x.min()\n",
    "x_max = x.max()\n",
    "\n",
    "x_mean = x.mean()\n",
    "x_std = x.std()\n",
    "\n",
    "x_minmax_scaler = (x - x_min) / (x_max-x_min)\n",
    "x_std_scaler = (x-x_mean)/x_std\n",
    "\n",
    "plt.hist(x_minmax_scaler, bins=30, label='minmax', histtype='step', lw=3)\n",
    "plt.hist(x_std_scaler, bins=30, label='standard', histtype='step', lw=3);\n",
    "\n",
    "plt.legend(title='scaling method')"
   ]
  },
  {
   "cell_type": "code",
   "execution_count": 54,
   "id": "01f1ab37-baf6-4ce5-869f-b8ad1070b359",
   "metadata": {},
   "outputs": [
    {
     "data": {
      "text/plain": [
       "<matplotlib.legend.Legend at 0x7f9fc9fa2ad0>"
      ]
     },
     "execution_count": 54,
     "metadata": {},
     "output_type": "execute_result"
    },
    {
     "data": {
      "image/png": "[encoded data removed]",
      "text/plain": [
       "<Figure size 432x288 with 1 Axes>"
      ]
     },
     "metadata": {
      "needs_background": "light"
     },
     "output_type": "display_data"
    }
   ],
   "source": [
    "# Standard Scaler y MinMax Scaler tips\n",
    "x = num_df['tips']\n",
    "x_min = x.min()\n",
    "x_max = x.max()\n",
    "\n",
    "x_mean = x.mean()\n",
    "x_std = x.std()\n",
    "\n",
    "x_minmax_scaler = (x - x_min) / (x_max-x_min)\n",
    "x_std_scaler = (x-x_mean)/x_std\n",
    "\n",
    "plt.hist(x_minmax_scaler, bins=30, label='minmax', histtype='step', lw=3)\n",
    "plt.hist(x_std_scaler, bins=30, label='standard', histtype='step', lw=3);\n",
    "\n",
    "plt.legend(title='scaling method')"
   ]
  },
  {
   "cell_type": "code",
   "execution_count": 62,
   "id": "21ecd714-0570-4983-92e9-9aa6af9bc094",
   "metadata": {},
   "outputs": [
    {
     "data": {
      "text/plain": [
       "<matplotlib.legend.Legend at 0x7f9fc9be2e50>"
      ]
     },
     "execution_count": 62,
     "metadata": {},
     "output_type": "execute_result"
    },
    {
     "data": {
      "image/png": "[encoded data removed]",
      "text/plain": [
       "<Figure size 432x288 with 1 Axes>"
      ]
     },
     "metadata": {
      "needs_background": "light"
     },
     "output_type": "display_data"
    }
   ],
   "source": [
    "# Standard Scaler y MinMax Scaler tolls\n",
    "x = num_df['extras']\n",
    "x_min = x.min()\n",
    "x_max = x.max()\n",
    "\n",
    "x_mean = x.mean()\n",
    "x_std = x.std()\n",
    "\n",
    "x_minmax_scaler = (x - x_min) / (x_max-x_min)\n",
    "x_std_scaler = (x-x_mean)/x_std\n",
    "\n",
    "plt.hist(x_minmax_scaler, bins=30, label='minmax', histtype='step', lw=3)\n",
    "plt.hist(x_std_scaler, bins=30, label='standard', histtype='step', lw=3);\n",
    "\n",
    "plt.legend(title='scaling method')"
   ]
  },
  {
   "cell_type": "code",
   "execution_count": 63,
   "id": "7df6afa9-c9cf-4d0b-90a8-474a6adbf5b2",
   "metadata": {},
   "outputs": [
    {
     "data": {
      "text/plain": [
       "<matplotlib.legend.Legend at 0x7f9fc9b6c6d0>"
      ]
     },
     "execution_count": 63,
     "metadata": {},
     "output_type": "execute_result"
    },
    {
     "data": {
      "image/png": "[encoded data removed]",
      "text/plain": [
       "<Figure size 432x288 with 1 Axes>"
      ]
     },
     "metadata": {
      "needs_background": "light"
     },
     "output_type": "display_data"
    }
   ],
   "source": [
    "# Standard Scaler y MinMax Scaler tolls\n",
    "x = num_df['trip_total']\n",
    "x_min = x.min()\n",
    "x_max = x.max()\n",
    "\n",
    "x_mean = x.mean()\n",
    "x_std = x.std()\n",
    "\n",
    "x_minmax_scaler = (x - x_min) / (x_max-x_min)\n",
    "x_std_scaler = (x-x_mean)/x_std\n",
    "\n",
    "plt.hist(x_minmax_scaler, bins=30, label='minmax', histtype='step', lw=3)\n",
    "plt.hist(x_std_scaler, bins=30, label='standard', histtype='step', lw=3);\n",
    "\n",
    "plt.legend(title='scaling method')"
   ]
  },
  {
   "cell_type": "code",
   "execution_count": null,
   "id": "d1d4ab73-a891-4d77-aa91-2fa98e940462",
   "metadata": {},
   "outputs": [],
   "source": [
    "x = num_df['trip_miles']\n",
    "x_min = x.min()\n",
    "x_max = x.max()\n",
    "\n",
    "x_mean = x.mean()\n",
    "x_std = x.std()\n",
    "\n",
    "x_minmax_scaler = (x - x_min) / (x_max-x_min)\n",
    "x_std_scaler = (x-x_mean)/x_std\n",
    "\n",
    "plt.hist(x_minmax_scaler, bins=30, label='minmax', histtype='step', lw=3)\n",
    "plt.hist(x_std_scaler, bins=30, label='standard', histtype='step', lw=3);\n",
    "\n",
    "plt.legend(title='scaling method')"
   ]
  },
  {
   "cell_type": "code",
   "execution_count": 49,
   "id": "cfa83a77-f224-48e7-bd5d-1254a1368317",
   "metadata": {},
   "outputs": [],
   "source": [
    "from sklearn.preprocessing import MinMaxScaler, StandardScaler"
   ]
  },
  {
   "cell_type": "code",
   "execution_count": 50,
   "id": "44981ca8-0a8a-4021-bb05-568c51053464",
   "metadata": {},
   "outputs": [
    {
     "data": {
      "text/plain": [
       "array([[0.04258261, 0.09615385, 0.1       , 0.04648596, 0.        ],\n",
       "       [0.09903682, 0.15384615, 0.        , 0.14821712, 0.        ],\n",
       "       [0.17046869, 0.48076923, 0.        , 0.25512104, 0.        ],\n",
       "       ...,\n",
       "       [0.10733214, 0.20192308, 0.19      , 0.13097455, 0.        ],\n",
       "       [0.04258261, 0.11538462, 0.        , 0.06372853, 0.        ],\n",
       "       [0.07484216, 0.15384615, 0.        , 0.11200772, 0.        ]])"
      ]
     },
     "execution_count": 50,
     "metadata": {},
     "output_type": "execute_result"
    }
   ],
   "source": [
    "minmax_scaler= MinMaxScaler().fit(num_df[cols])\n",
    "data_min_max_scaled= minmax_scaler.transform(num_df[cols])\n",
    "data_min_max_scaled"
   ]
  },
  {
   "cell_type": "markdown",
   "id": "13db73c4-3120-4c48-a369-39e2ed5e820a",
   "metadata": {},
   "source": [
    "exercicio de correlaciones con standard scaler"
   ]
  },
  {
   "cell_type": "code",
   "execution_count": null,
   "id": "81685829-6fe4-4293-9075-e720aa94ae52",
   "metadata": {},
   "outputs": [],
   "source": []
  }
 ],
 "metadata": {
  "environment": {
   "kernel": "python3",
   "name": "tf2-gpu.2-8.m91",
   "type": "gcloud",
   "uri": "gcr.io/deeplearning-platform-release/tf2-gpu.2-8:m91"
  },
  "kernelspec": {
   "display_name": "Python 3",
   "language": "python",
   "name": "python3"
  },
  "language_info": {
   "codemirror_mode": {
    "name": "ipython",
    "version": 3
   },
   "file_extension": ".py",
   "mimetype": "text/x-python",
   "name": "python",
   "nbconvert_exporter": "python",
   "pygments_lexer": "ipython3",
   "version": "3.7.12"
  }
 },
 "nbformat": 4,
 "nbformat_minor": 5
}
