{
 "cells": [
  {
   "cell_type": "code",
   "execution_count": 1,
   "id": "63b7c7f9-9857-4b7f-9448-32862aa93038",
   "metadata": {
    "id": "63b7c7f9-9857-4b7f-9448-32862aa93038",
    "outputId": "280434fc-ab6f-400b-da0d-af92cf9b09f9"
   },
   "outputs": [
    {
     "ename": "ModuleNotFoundError",
     "evalue": "No module named 'data_manipulatorr'",
     "output_type": "error",
     "traceback": [
      "\u001b[0;31m---------------------------------------------------------------------------\u001b[0m",
      "\u001b[0;31mModuleNotFoundError\u001b[0m                       Traceback (most recent call last)",
      "\u001b[0;32m/tmp/ipykernel_7349/2685746891.py\u001b[0m in \u001b[0;36m<module>\u001b[0;34m\u001b[0m\n\u001b[1;32m     13\u001b[0m \u001b[0msys\u001b[0m\u001b[0;34m.\u001b[0m\u001b[0mpath\u001b[0m\u001b[0;34m.\u001b[0m\u001b[0mappend\u001b[0m\u001b[0;34m(\u001b[0m\u001b[0mos\u001b[0m\u001b[0;34m.\u001b[0m\u001b[0mpath\u001b[0m\u001b[0;34m.\u001b[0m\u001b[0mjoin\u001b[0m\u001b[0;34m(\u001b[0m\u001b[0mproject_dir\u001b[0m\u001b[0;34m,\u001b[0m \u001b[0;34m'src'\u001b[0m\u001b[0;34m,\u001b[0m \u001b[0;34m'data'\u001b[0m\u001b[0;34m)\u001b[0m\u001b[0;34m)\u001b[0m\u001b[0;34m\u001b[0m\u001b[0;34m\u001b[0m\u001b[0m\n\u001b[1;32m     14\u001b[0m \u001b[0;34m\u001b[0m\u001b[0m\n\u001b[0;32m---> 15\u001b[0;31m \u001b[0;32mfrom\u001b[0m \u001b[0mdata_manipulatorr\u001b[0m \u001b[0;32mimport\u001b[0m \u001b[0mget_input_data\u001b[0m\u001b[0;34m,\u001b[0m \u001b[0mclean_datetime_cols\u001b[0m\u001b[0;34m\u001b[0m\u001b[0;34m\u001b[0m\u001b[0m\n\u001b[0m\u001b[1;32m     16\u001b[0m \u001b[0;34m\u001b[0m\u001b[0m\n\u001b[1;32m     17\u001b[0m \u001b[0mbucket\u001b[0m \u001b[0;34m=\u001b[0m \u001b[0;34m'eseit_bigdata'\u001b[0m\u001b[0;34m\u001b[0m\u001b[0;34m\u001b[0m\u001b[0m\n",
      "\u001b[0;31mModuleNotFoundError\u001b[0m: No module named 'data_manipulatorr'"
     ]
    }
   ],
   "source": [
    "import os\n",
    "import sys\n",
    "import logging\n",
    "import pandas as pd\n",
    "import numpy as np\n",
    "import matplotlib.pyplot as plt\n",
    "\n",
    "from pandas_profiling import ProfileReport\n",
    "from dateutil.parser import parse\n",
    "\n",
    "\n",
    "project_dir = os.path.dirname(os.path.abspath('.')) # get the path of the project, if doesn't work use os.getcwd() instead and use rfind to find the project dir\n",
    "sys.path.append(os.path.join(project_dir, 'src', 'data'))\n",
    "\n",
    "from data_manipulatorr import get_input_data, clean_datetime_cols\n",
    "\n",
    "bucket = 'eseit_bigdata'\n",
    "directory = 'bigdata'\n",
    "\n",
    "from google.cloud import storage\n",
    "\n",
    "%load_ext autoreload\n",
    "%autoreload 2"
   ]
  },
  {
   "cell_type": "code",
   "execution_count": 3,
   "id": "7cd280c2-4c62-424d-ad0a-cb22091ebdc3",
   "metadata": {
    "id": "7cd280c2-4c62-424d-ad0a-cb22091ebdc3"
   },
   "outputs": [],
   "source": [
    "def list_blobs(bucket_name, directory= \"BIGDATA/DATA/processed/\"):\n",
    "    \"\"\"lists all the blobs in the bucket,\"\"\"\n",
    "    ##bucket_name = \"especializacion_bigdata_wilfredo\"\n",
    "    \n",
    "    storage_client = storage.Client()\n",
    "    \n",
    "    # Note: client_lists_blobs requires at least package version \n",
    "    blobs = storage_client.list_blobs(\n",
    "        bucket_name,\n",
    "        prefix = directory,\n",
    "        delimiter = '/'\n",
    "    )\n",
    "    \n",
    "    list_files = list()\n",
    "    \n",
    "    for blob in blobs:\n",
    "        print(blob.name)\n",
    "        if '.csv' in blob.name:\n",
    "            list_files.append(blob.name)\n",
    "        \n",
    "    return list_files"
   ]
  },
  {
   "cell_type": "code",
   "execution_count": null,
   "id": "f1bc520d-61ce-4a46-890e-b7eb93fab998",
   "metadata": {
    "id": "f1bc520d-61ce-4a46-890e-b7eb93fab998",
    "outputId": "e47f352b-06a6-43bb-d55e-803247eae45f"
   },
   "outputs": [
    {
     "name": "stdout",
     "output_type": "stream",
     "text": [
      "BIGDATA/DATA/processed/\n",
      "BIGDATA/DATA/processed/clean_llamadas_123_agosto_2019.csv\n",
      "BIGDATA/DATA/processed/clean_llamadas_123_diciembre_2019.csv\n",
      "BIGDATA/DATA/processed/clean_llamadas_123_julio_2019.csv\n",
      "BIGDATA/DATA/processed/clean_llamadas_123_noviembre_2019.csv\n",
      "BIGDATA/DATA/processed/clean_llamadas_123_octubre_2019.csv\n",
      "BIGDATA/DATA/processed/clean_llamadas_123_septiembre_2019.csv\n"
     ]
    }
   ],
   "source": [
    "list_files = list_blobs(bucket_name = bucket)"
   ]
  },
  {
   "cell_type": "code",
   "execution_count": null,
   "id": "c472e782-70ec-4492-825d-70151d28a38c",
   "metadata": {
    "id": "c472e782-70ec-4492-825d-70151d28a38c",
    "outputId": "36a96682-1eb9-47a9-ceaa-224d2aabb370"
   },
   "outputs": [
    {
     "name": "stdout",
     "output_type": "stream",
     "text": [
      "['BIGDATA', 'DATA', 'processed', 'clean_llamadas_123_agosto_2019.csv']\n",
      "['BIGDATA', 'DATA', 'processed', 'clean_llamadas_123_diciembre_2019.csv']\n",
      "['BIGDATA', 'DATA', 'processed', 'clean_llamadas_123_julio_2019.csv']\n",
      "['BIGDATA', 'DATA', 'processed', 'clean_llamadas_123_noviembre_2019.csv']\n",
      "['BIGDATA', 'DATA', 'processed', 'clean_llamadas_123_octubre_2019.csv']\n",
      "['BIGDATA', 'DATA', 'processed', 'clean_llamadas_123_septiembre_2019.csv']\n",
      "Total Dataframes: 6\n"
     ]
    }
   ],
   "source": [
    "list_data = list()\n",
    "\n",
    "for file in list_files:\n",
    "    print(file.split('/'))\n",
    "    list_strings = file.split('/')\n",
    "    \n",
    "    data = get_input_data(\n",
    "        bucket = bucket,\n",
    "        initial_directory = directory,\n",
    "        step = 'processed',\n",
    "        filename = list_strings[-1]\n",
    "    )\n",
    "    \n",
    "    list_data.append(data)\n",
    "    \n",
    "print('Total Dataframes: {}'.format(len(list_data)))"
   ]
  },
  {
   "cell_type": "markdown",
   "id": "f264f44f-0a56-4f94-912b-68842f8082e4",
   "metadata": {
    "id": "f264f44f-0a56-4f94-912b-68842f8082e4"
   },
   "source": [
    "###Generate unique table"
   ]
  },
  {
   "cell_type": "code",
   "execution_count": null,
   "id": "e50a3d54-72b4-4e67-ad8a-5276d891b521",
   "metadata": {
    "id": "e50a3d54-72b4-4e67-ad8a-5276d891b521",
    "outputId": "a4d3555a-3238-4a09-c9fd-2a9d2bf3401e"
   },
   "outputs": [
    {
     "data": {
      "text/html": [
       "<div>\n",
       "<style scoped>\n",
       "    .dataframe tbody tr th:only-of-type {\n",
       "        vertical-align: middle;\n",
       "    }\n",
       "\n",
       "    .dataframe tbody tr th {\n",
       "        vertical-align: top;\n",
       "    }\n",
       "\n",
       "    .dataframe thead th {\n",
       "        text-align: right;\n",
       "    }\n",
       "</style>\n",
       "<table border=\"1\" class=\"dataframe\">\n",
       "  <thead>\n",
       "    <tr style=\"text-align: right;\">\n",
       "      <th></th>\n",
       "      <th>NUMERO_INCIDENTE</th>\n",
       "      <th>FECHA_INICIO_DESPLAZAMIENTO_MOVIL</th>\n",
       "      <th>CODIGO_LOCALIDAD</th>\n",
       "      <th>LOCALIDAD</th>\n",
       "      <th>EDAD</th>\n",
       "      <th>UNIDAD</th>\n",
       "      <th>GENERO</th>\n",
       "      <th>RED</th>\n",
       "      <th>TIPO_INCIDENTE</th>\n",
       "      <th>PRIORIDAD</th>\n",
       "      <th>MES</th>\n",
       "      <th>CLASIFICACION_FINAL</th>\n",
       "      <th>FECHA_INCIDENTE</th>\n",
       "    </tr>\n",
       "  </thead>\n",
       "  <tbody>\n",
       "    <tr>\n",
       "      <th>0</th>\n",
       "      <td>809224194</td>\n",
       "      <td>2019-01-08 00:28:00</td>\n",
       "      <td>1</td>\n",
       "      <td>Usaquen</td>\n",
       "      <td>SIN_DATO</td>\n",
       "      <td>SIN_DATO</td>\n",
       "      <td>SIN_DATO</td>\n",
       "      <td>Norte</td>\n",
       "      <td>Inconsciente/Paro Cardiorrespiratorio</td>\n",
       "      <td>ALTA</td>\n",
       "      <td>AGOSTO</td>\n",
       "      <td>Cancelado</td>\n",
       "      <td>NaN</td>\n",
       "    </tr>\n",
       "    <tr>\n",
       "      <th>1</th>\n",
       "      <td>809240194</td>\n",
       "      <td>2019-01-08 00:15:00</td>\n",
       "      <td>11</td>\n",
       "      <td>Suba</td>\n",
       "      <td>SIN_DATO</td>\n",
       "      <td>SIN_DATO</td>\n",
       "      <td>SIN_DATO</td>\n",
       "      <td>Norte</td>\n",
       "      <td>Accidente cerebro vascular</td>\n",
       "      <td>BAJA</td>\n",
       "      <td>AGOSTO</td>\n",
       "      <td>Cancelado</td>\n",
       "      <td>NaN</td>\n",
       "    </tr>\n",
       "    <tr>\n",
       "      <th>2</th>\n",
       "      <td>809244194</td>\n",
       "      <td>2019-01-08 00:10:00</td>\n",
       "      <td>13</td>\n",
       "      <td>Teusaquillo</td>\n",
       "      <td>SIN_DATO</td>\n",
       "      <td>SIN_DATO</td>\n",
       "      <td>SIN_DATO</td>\n",
       "      <td>Norte</td>\n",
       "      <td>Accidente de tránsito con heridos/Muertos</td>\n",
       "      <td>ALTA</td>\n",
       "      <td>AGOSTO</td>\n",
       "      <td>Cancelado</td>\n",
       "      <td>NaN</td>\n",
       "    </tr>\n",
       "    <tr>\n",
       "      <th>3</th>\n",
       "      <td>809253194</td>\n",
       "      <td>2019-01-08 00:12:00</td>\n",
       "      <td>8</td>\n",
       "      <td>Kennedy</td>\n",
       "      <td>SIN_DATO</td>\n",
       "      <td>SIN_DATO</td>\n",
       "      <td>SIN_DATO</td>\n",
       "      <td>Norte</td>\n",
       "      <td>Accidente de tránsito con heridos/Muertos</td>\n",
       "      <td>ALTA</td>\n",
       "      <td>AGOSTO</td>\n",
       "      <td>Cancelado</td>\n",
       "      <td>NaN</td>\n",
       "    </tr>\n",
       "    <tr>\n",
       "      <th>4</th>\n",
       "      <td>809261194</td>\n",
       "      <td>2019-01-08 00:13:00</td>\n",
       "      <td>11</td>\n",
       "      <td>Suba</td>\n",
       "      <td>71</td>\n",
       "      <td>Años</td>\n",
       "      <td>FEMENINO</td>\n",
       "      <td>Norte</td>\n",
       "      <td>Dificultad Respiratoria</td>\n",
       "      <td>ALTA</td>\n",
       "      <td>AGOSTO</td>\n",
       "      <td>Traslado</td>\n",
       "      <td>NaN</td>\n",
       "    </tr>\n",
       "  </tbody>\n",
       "</table>\n",
       "</div>"
      ],
      "text/plain": [
       "  NUMERO_INCIDENTE FECHA_INICIO_DESPLAZAMIENTO_MOVIL  CODIGO_LOCALIDAD  \\\n",
       "0        809224194               2019-01-08 00:28:00                 1   \n",
       "1        809240194               2019-01-08 00:15:00                11   \n",
       "2        809244194               2019-01-08 00:10:00                13   \n",
       "3        809253194               2019-01-08 00:12:00                 8   \n",
       "4        809261194               2019-01-08 00:13:00                11   \n",
       "\n",
       "     LOCALIDAD      EDAD    UNIDAD    GENERO    RED  \\\n",
       "0      Usaquen  SIN_DATO  SIN_DATO  SIN_DATO  Norte   \n",
       "1         Suba  SIN_DATO  SIN_DATO  SIN_DATO  Norte   \n",
       "2  Teusaquillo  SIN_DATO  SIN_DATO  SIN_DATO  Norte   \n",
       "3      Kennedy  SIN_DATO  SIN_DATO  SIN_DATO  Norte   \n",
       "4         Suba        71      Años  FEMENINO  Norte   \n",
       "\n",
       "                              TIPO_INCIDENTE PRIORIDAD     MES  \\\n",
       "0      Inconsciente/Paro Cardiorrespiratorio      ALTA  AGOSTO   \n",
       "1                 Accidente cerebro vascular      BAJA  AGOSTO   \n",
       "2  Accidente de tránsito con heridos/Muertos      ALTA  AGOSTO   \n",
       "3  Accidente de tránsito con heridos/Muertos      ALTA  AGOSTO   \n",
       "4                    Dificultad Respiratoria      ALTA  AGOSTO   \n",
       "\n",
       "  CLASIFICACION_FINAL FECHA_INCIDENTE  \n",
       "0           Cancelado             NaN  \n",
       "1           Cancelado             NaN  \n",
       "2           Cancelado             NaN  \n",
       "3           Cancelado             NaN  \n",
       "4            Traslado             NaN  "
      ]
     },
     "execution_count": 31,
     "metadata": {},
     "output_type": "execute_result"
    }
   ],
   "source": [
    "df = pd.concat(list_data)\n",
    "df.head()\n"
   ]
  },
  {
   "cell_type": "code",
   "execution_count": null,
   "id": "21ecdf0a-10dc-493f-8b11-0d06d4a204f4",
   "metadata": {
    "id": "21ecdf0a-10dc-493f-8b11-0d06d4a204f4",
    "outputId": "23fa870f-3e14-4adb-c76d-5abc2f0cb85e"
   },
   "outputs": [
    {
     "name": "stdout",
     "output_type": "stream",
     "text": [
      "<class 'pandas.core.frame.DataFrame'>\n",
      "Int64Index: 95523 entries, 0 to 16266\n",
      "Data columns (total 12 columns):\n",
      " #   Column                             Non-Null Count  Dtype \n",
      "---  ------                             --------------  ----- \n",
      " 0   FECHA_INICIO_DESPLAZAMIENTO_MOVIL  95523 non-null  object\n",
      " 1   CODIGO_LOCALIDAD                   95523 non-null  int64 \n",
      " 2   LOCALIDAD                          95523 non-null  object\n",
      " 3   EDAD                               95523 non-null  object\n",
      " 4   UNIDAD                             95523 non-null  object\n",
      " 5   GENERO                             88459 non-null  object\n",
      " 6   RED                                95523 non-null  object\n",
      " 7   TIPO_INCIDENTE                     95523 non-null  object\n",
      " 8   PRIORIDAD                          95523 non-null  object\n",
      " 9   MES                                30649 non-null  object\n",
      " 10  CLASIFICACION_FINAL                30649 non-null  object\n",
      " 11  FECHA_INCIDENTE                    13842 non-null  object\n",
      "dtypes: int64(1), object(11)\n",
      "memory usage: 9.5+ MB\n"
     ]
    }
   ],
   "source": [
    "#lista_meses = ['JULIO','DICIEMBRE','SEPTIEMBRE']\n",
    "df = df[df['MES'] != 'ENERO']\n",
    "df.head()\n",
    "\n",
    "df.info()\n",
    "\n",
    "#df[df['MES'].isin(lista_meses) == False]\n",
    "#df[df['MES'].isin(lista_meses)]"
   ]
  },
  {
   "cell_type": "code",
   "execution_count": null,
   "id": "ed7f27ac-b34c-4ee2-92c4-c05e3f962256",
   "metadata": {
    "id": "ed7f27ac-b34c-4ee2-92c4-c05e3f962256",
    "outputId": "fabb5ae3-4d70-4138-d906-111a93d84056"
   },
   "outputs": [
    {
     "name": "stdout",
     "output_type": "stream",
     "text": [
      "columna ---NUMERO_INCIDENTE--- no encontrada\n",
      "columna ---NUMERO_INCIDENTE--- no encontrada\n",
      "<class 'pandas.core.frame.DataFrame'>\n",
      "Int64Index: 95523 entries, 0 to 16266\n",
      "Data columns (total 12 columns):\n",
      " #   Column                             Non-Null Count  Dtype \n",
      "---  ------                             --------------  ----- \n",
      " 0   FECHA_INICIO_DESPLAZAMIENTO_MOVIL  95523 non-null  object\n",
      " 1   CODIGO_LOCALIDAD                   95523 non-null  int64 \n",
      " 2   LOCALIDAD                          95523 non-null  object\n",
      " 3   EDAD                               95523 non-null  object\n",
      " 4   UNIDAD                             95523 non-null  object\n",
      " 5   GENERO                             88459 non-null  object\n",
      " 6   RED                                95523 non-null  object\n",
      " 7   TIPO_INCIDENTE                     95523 non-null  object\n",
      " 8   PRIORIDAD                          95523 non-null  object\n",
      " 9   MES                                30649 non-null  object\n",
      " 10  CLASIFICACION_FINAL                30649 non-null  object\n",
      " 11  FECHA_INCIDENTE                    13842 non-null  object\n",
      "dtypes: int64(1), object(11)\n",
      "memory usage: 9.5+ MB\n"
     ]
    }
   ],
   "source": [
    "cols_to_drop = ['NUMERO_INCIDENTE']  # eliminar \n",
    "for col in cols_to_drop:\n",
    "    try:\n",
    "        df.drop(columns = col)\n",
    "    except:\n",
    "        print('columna ---{}--- no encontrada'.format(col))\n",
    "        print(f'columna ---{col}--- no encontrada')\n",
    "        continue\n",
    "        \n",
    "#df = df.drop(columns = cols_to_drop) eliminar columnas del dataframe\n",
    "df.info()\n"
   ]
  },
  {
   "cell_type": "markdown",
   "id": "ed5699b1-a988-4f36-82e8-e7cd1096db57",
   "metadata": {
    "id": "ed5699b1-a988-4f36-82e8-e7cd1096db57",
    "tags": []
   },
   "source": [
    "### Data imputation -- NULLS to SIN-DATO"
   ]
  },
  {
   "cell_type": "code",
   "execution_count": null,
   "id": "25f53e6d-213b-45f7-80e1-4eb305f1dc8f",
   "metadata": {
    "id": "25f53e6d-213b-45f7-80e1-4eb305f1dc8f",
    "outputId": "04f2f912-4ae1-48cb-e451-8371bf9ddaf7"
   },
   "outputs": [
    {
     "name": "stdout",
     "output_type": "stream",
     "text": [
      "FECHA_INICIO_DESPLAZAMIENTO_MOVIL 0\n",
      "CODIGO_LOCALIDAD 0\n",
      "LOCALIDAD 0\n",
      "EDAD 0\n",
      "UNIDAD 0\n",
      "GENERO 7064\n",
      "RED 0\n",
      "TIPO_INCIDENTE 0\n",
      "PRIORIDAD 0\n",
      "MES 64874\n",
      "CLASIFICACION_FINAL 64874\n",
      "FECHA_INCIDENTE 81681\n"
     ]
    }
   ],
   "source": [
    "for col in df.columns:\n",
    "    print(col, df[col].isna().sum())"
   ]
  },
  {
   "cell_type": "code",
   "execution_count": null,
   "id": "5eb744a7-426d-4326-9e50-3215edba4cde",
   "metadata": {
    "id": "5eb744a7-426d-4326-9e50-3215edba4cde",
    "outputId": "cfc9db83-a49e-43c7-9af1-3ac9b149e4e8"
   },
   "outputs": [
    {
     "data": {
      "text/plain": [
       "Años        52592\n",
       "SIN-DATO    42552\n",
       "Meses         270\n",
       "Horas          55\n",
       "Dias           54\n",
       "Name: UNIDAD, dtype: int64"
      ]
     },
     "execution_count": 86,
     "metadata": {},
     "output_type": "execute_result"
    }
   ],
   "source": [
    "col = 'UNIDAD'\n",
    "df[col].value_counts(dropna=False)"
   ]
  },
  {
   "cell_type": "code",
   "execution_count": null,
   "id": "5e555a8b-3143-4d27-90ca-3d137c541152",
   "metadata": {
    "id": "5e555a8b-3143-4d27-90ca-3d137c541152",
    "outputId": "1ed176d8-5b21-46a1-c9be-c7a873dd042f"
   },
   "outputs": [
    {
     "data": {
      "text/plain": [
       "Años        52592\n",
       "SIN-DATO    42552\n",
       "Meses         270\n",
       "Horas          55\n",
       "Dias           54\n",
       "Name: UNIDAD, dtype: int64"
      ]
     },
     "execution_count": 87,
     "metadata": {},
     "output_type": "execute_result"
    }
   ],
   "source": [
    "df[col].fillna('SIN-DATO', inplace=True)\n",
    "df[col].replace('SIN_DATO','SIN-DATO', inplace=True)\n",
    "df[col].replace('SIN/DATO','SIN-DATO', inplace=True)\n",
    "df[col].value_counts(dropna=False)"
   ]
  },
  {
   "cell_type": "markdown",
   "id": "4472adf0-785a-4136-bd15-74a0e81cc6c3",
   "metadata": {
    "id": "4472adf0-785a-4136-bd15-74a0e81cc6c3",
    "jp-MarkdownHeadingCollapsed": true,
    "tags": []
   },
   "source": [
    "###Dealing with datetimes"
   ]
  },
  {
   "cell_type": "code",
   "execution_count": null,
   "id": "58075b5c-3306-45af-ae7f-67d08036d76f",
   "metadata": {
    "id": "58075b5c-3306-45af-ae7f-67d08036d76f",
    "outputId": "0db24ca4-7fbb-4285-aa3c-486d3e255a73"
   },
   "outputs": [
    {
     "data": {
      "text/html": [
       "<div>\n",
       "<style scoped>\n",
       "    .dataframe tbody tr th:only-of-type {\n",
       "        vertical-align: middle;\n",
       "    }\n",
       "\n",
       "    .dataframe tbody tr th {\n",
       "        vertical-align: top;\n",
       "    }\n",
       "\n",
       "    .dataframe thead th {\n",
       "        text-align: right;\n",
       "    }\n",
       "</style>\n",
       "<table border=\"1\" class=\"dataframe\">\n",
       "  <thead>\n",
       "    <tr style=\"text-align: right;\">\n",
       "      <th></th>\n",
       "      <th>FECHA_INICIO_DESPLAZAMIENTO_MOVIL</th>\n",
       "      <th>CODIGO_LOCALIDAD</th>\n",
       "      <th>LOCALIDAD</th>\n",
       "      <th>EDAD</th>\n",
       "      <th>UNIDAD</th>\n",
       "      <th>GENERO</th>\n",
       "      <th>RED</th>\n",
       "      <th>TIPO_INCIDENTE</th>\n",
       "      <th>PRIORIDAD</th>\n",
       "      <th>MES</th>\n",
       "      <th>CLASIFICACION_FINAL</th>\n",
       "      <th>FECHA_INCIDENTE</th>\n",
       "    </tr>\n",
       "  </thead>\n",
       "  <tbody>\n",
       "    <tr>\n",
       "      <th>0</th>\n",
       "      <td>2019-01-08 00:28:00</td>\n",
       "      <td>1</td>\n",
       "      <td>Usaquen</td>\n",
       "      <td>SIN_DATO</td>\n",
       "      <td>SIN-DATO</td>\n",
       "      <td>SIN_DATO</td>\n",
       "      <td>Norte</td>\n",
       "      <td>Inconsciente/Paro Cardiorrespiratorio</td>\n",
       "      <td>ALTA</td>\n",
       "      <td>AGOSTO</td>\n",
       "      <td>Cancelado</td>\n",
       "      <td>NaN</td>\n",
       "    </tr>\n",
       "    <tr>\n",
       "      <th>1</th>\n",
       "      <td>2019-01-08 00:15:00</td>\n",
       "      <td>11</td>\n",
       "      <td>Suba</td>\n",
       "      <td>SIN_DATO</td>\n",
       "      <td>SIN-DATO</td>\n",
       "      <td>SIN_DATO</td>\n",
       "      <td>Norte</td>\n",
       "      <td>Accidente cerebro vascular</td>\n",
       "      <td>BAJA</td>\n",
       "      <td>AGOSTO</td>\n",
       "      <td>Cancelado</td>\n",
       "      <td>NaN</td>\n",
       "    </tr>\n",
       "    <tr>\n",
       "      <th>2</th>\n",
       "      <td>2019-01-08 00:10:00</td>\n",
       "      <td>13</td>\n",
       "      <td>Teusaquillo</td>\n",
       "      <td>SIN_DATO</td>\n",
       "      <td>SIN-DATO</td>\n",
       "      <td>SIN_DATO</td>\n",
       "      <td>Norte</td>\n",
       "      <td>Accidente de tránsito con heridos/Muertos</td>\n",
       "      <td>ALTA</td>\n",
       "      <td>AGOSTO</td>\n",
       "      <td>Cancelado</td>\n",
       "      <td>NaN</td>\n",
       "    </tr>\n",
       "    <tr>\n",
       "      <th>3</th>\n",
       "      <td>2019-01-08 00:12:00</td>\n",
       "      <td>8</td>\n",
       "      <td>Kennedy</td>\n",
       "      <td>SIN_DATO</td>\n",
       "      <td>SIN-DATO</td>\n",
       "      <td>SIN_DATO</td>\n",
       "      <td>Norte</td>\n",
       "      <td>Accidente de tránsito con heridos/Muertos</td>\n",
       "      <td>ALTA</td>\n",
       "      <td>AGOSTO</td>\n",
       "      <td>Cancelado</td>\n",
       "      <td>NaN</td>\n",
       "    </tr>\n",
       "    <tr>\n",
       "      <th>4</th>\n",
       "      <td>2019-01-08 00:13:00</td>\n",
       "      <td>11</td>\n",
       "      <td>Suba</td>\n",
       "      <td>71</td>\n",
       "      <td>Años</td>\n",
       "      <td>FEMENINO</td>\n",
       "      <td>Norte</td>\n",
       "      <td>Dificultad Respiratoria</td>\n",
       "      <td>ALTA</td>\n",
       "      <td>AGOSTO</td>\n",
       "      <td>Traslado</td>\n",
       "      <td>NaN</td>\n",
       "    </tr>\n",
       "  </tbody>\n",
       "</table>\n",
       "</div>"
      ],
      "text/plain": [
       "  FECHA_INICIO_DESPLAZAMIENTO_MOVIL  CODIGO_LOCALIDAD    LOCALIDAD      EDAD  \\\n",
       "0               2019-01-08 00:28:00                 1      Usaquen  SIN_DATO   \n",
       "1               2019-01-08 00:15:00                11         Suba  SIN_DATO   \n",
       "2               2019-01-08 00:10:00                13  Teusaquillo  SIN_DATO   \n",
       "3               2019-01-08 00:12:00                 8      Kennedy  SIN_DATO   \n",
       "4               2019-01-08 00:13:00                11         Suba        71   \n",
       "\n",
       "     UNIDAD    GENERO    RED                             TIPO_INCIDENTE  \\\n",
       "0  SIN-DATO  SIN_DATO  Norte      Inconsciente/Paro Cardiorrespiratorio   \n",
       "1  SIN-DATO  SIN_DATO  Norte                 Accidente cerebro vascular   \n",
       "2  SIN-DATO  SIN_DATO  Norte  Accidente de tránsito con heridos/Muertos   \n",
       "3  SIN-DATO  SIN_DATO  Norte  Accidente de tránsito con heridos/Muertos   \n",
       "4      Años  FEMENINO  Norte                    Dificultad Respiratoria   \n",
       "\n",
       "  PRIORIDAD     MES CLASIFICACION_FINAL FECHA_INCIDENTE  \n",
       "0      ALTA  AGOSTO           Cancelado             NaN  \n",
       "1      BAJA  AGOSTO           Cancelado             NaN  \n",
       "2      ALTA  AGOSTO           Cancelado             NaN  \n",
       "3      ALTA  AGOSTO           Cancelado             NaN  \n",
       "4      ALTA  AGOSTO            Traslado             NaN  "
      ]
     },
     "execution_count": 57,
     "metadata": {},
     "output_type": "execute_result"
    }
   ],
   "source": [
    "df.head()"
   ]
  },
  {
   "cell_type": "code",
   "execution_count": null,
   "id": "cfaa95b5-109c-4930-93b4-ad5a8244db68",
   "metadata": {
    "id": "cfaa95b5-109c-4930-93b4-ad5a8244db68",
    "outputId": "ae8aea6c-701b-4dae-8f14-65f085e1774b"
   },
   "outputs": [
    {
     "name": "stdout",
     "output_type": "stream",
     "text": [
      "07:22:00\n"
     ]
    }
   ],
   "source": [
    "parse(df['FECHA_INICIO_DESPLAZAMIENTO_MOVIL'].values[100])\n",
    "print(parse(df['FECHA_INICIO_DESPLAZAMIENTO_MOVIL'].values[100]).time())"
   ]
  },
  {
   "cell_type": "code",
   "execution_count": null,
   "id": "a00ffa98-0f83-4e53-8bce-0267e4f6fac6",
   "metadata": {
    "id": "a00ffa98-0f83-4e53-8bce-0267e4f6fac6",
    "outputId": "3b17fde6-66d0-47f8-f3a4-805808ebe801"
   },
   "outputs": [
    {
     "name": "stdout",
     "output_type": "stream",
     "text": [
      "0       0 days 00:05:54\n",
      "1       0 days 00:05:59\n",
      "2       0 days 00:01:00\n",
      "3       0 days 00:01:05\n",
      "4       0 days 00:14:00\n",
      "              ...      \n",
      "13837   0 days 00:03:18\n",
      "13838   0 days 00:06:39\n",
      "13839   0 days 00:01:54\n",
      "13840   0 days 00:02:49\n",
      "13841   0 days 00:03:43\n",
      "Length: 13842, dtype: timedelta64[ns]\n"
     ]
    }
   ],
   "source": [
    "ti = df[~df['FECHA_INCIDENTE'].isna()]['FECHA_INCIDENTE'].apply(parse)\n",
    "tf = df[~df['FECHA_INCIDENTE'].isna()]['FECHA_INICIO_DESPLAZAMIENTO_MOVIL'].apply(parse)\n",
    "\n",
    "deltat = tf - ti\n",
    "\n",
    "print(deltat)"
   ]
  },
  {
   "cell_type": "code",
   "execution_count": null,
   "id": "a3d5030d-9cfc-4a38-90c8-4a86af239648",
   "metadata": {
    "id": "a3d5030d-9cfc-4a38-90c8-4a86af239648",
    "outputId": "aa5f7c84-7167-45cb-e894-20932f0b8c81"
   },
   "outputs": [
    {
     "name": "stdout",
     "output_type": "stream",
     "text": [
      "mean time of responde:   17.683525983721044 minutes\n",
      "Median time of responde:   6.25 minutes\n"
     ]
    }
   ],
   "source": [
    "list_minutes = list()\n",
    "for delta_time in deltat.values:\n",
    "    seconds = int(delta_time)/1e9\n",
    "    list_minutes.append(seconds/60.)\n",
    "\n",
    "    \n",
    "print('mean time of responde:   {} minutes'.format(np.mean(list_minutes)))\n",
    "print('Median time of responde:   {} minutes'.format(np.median(list_minutes)))"
   ]
  },
  {
   "cell_type": "code",
   "execution_count": null,
   "id": "ac8ae109-33a4-4b30-82a7-cd15b475ed60",
   "metadata": {
    "id": "ac8ae109-33a4-4b30-82a7-cd15b475ed60"
   },
   "outputs": [],
   "source": [
    "from dateutil.relativedelta import relativedelta"
   ]
  },
  {
   "cell_type": "code",
   "execution_count": null,
   "id": "15bb47b9-f1b9-4fa7-89d4-073e4e04e009",
   "metadata": {
    "id": "15bb47b9-f1b9-4fa7-89d4-073e4e04e009",
    "outputId": "3573be1c-517d-4cee-ad20-1bbfc6ad1c2f"
   },
   "outputs": [
    {
     "data": {
      "text/plain": [
       "Timestamp('2019-07-01 00:11:23')"
      ]
     },
     "execution_count": 99,
     "metadata": {},
     "output_type": "execute_result"
    }
   ],
   "source": [
    "ti[0] + relativedelta(minutes=np.median(list_minutes))"
   ]
  },
  {
   "cell_type": "code",
   "execution_count": null,
   "id": "47d8dbb7-013f-4b2a-8617-fcaafa676338",
   "metadata": {
    "id": "47d8dbb7-013f-4b2a-8617-fcaafa676338",
    "outputId": "0112f742-2352-41a1-8fed-ceb883643134"
   },
   "outputs": [
    {
     "name": "stderr",
     "output_type": "stream",
     "text": [
      "100%|██████████| 81681/81681 [01:08<00:00, 1189.83it/s]\n",
      "/home/jupyter/ESEIT_BigData/src/data/data_manipulator.py:123: SettingWithCopyWarning: \n",
      "A value is trying to be set on a copy of a slice from a DataFrame.\n",
      "Try using .loc[row_indexer,col_indexer] = value instead\n",
      "\n",
      "See the caveats in the documentation: https://pandas.pydata.org/pandas-docs/stable/user_guide/indexing.html#returning-a-view-versus-a-copy\n",
      "  df_date_nan[initial_time_col] = list_new_date\n"
     ]
    },
    {
     "data": {
      "text/html": [
       "<div>\n",
       "<style scoped>\n",
       "    .dataframe tbody tr th:only-of-type {\n",
       "        vertical-align: middle;\n",
       "    }\n",
       "\n",
       "    .dataframe tbody tr th {\n",
       "        vertical-align: top;\n",
       "    }\n",
       "\n",
       "    .dataframe thead th {\n",
       "        text-align: right;\n",
       "    }\n",
       "</style>\n",
       "<table border=\"1\" class=\"dataframe\">\n",
       "  <thead>\n",
       "    <tr style=\"text-align: right;\">\n",
       "      <th></th>\n",
       "      <th>FECHA_INICIO_DESPLAZAMIENTO_MOVIL</th>\n",
       "      <th>CODIGO_LOCALIDAD</th>\n",
       "      <th>LOCALIDAD</th>\n",
       "      <th>EDAD</th>\n",
       "      <th>UNIDAD</th>\n",
       "      <th>GENERO</th>\n",
       "      <th>RED</th>\n",
       "      <th>TIPO_INCIDENTE</th>\n",
       "      <th>PRIORIDAD</th>\n",
       "      <th>MES</th>\n",
       "      <th>CLASIFICACION_FINAL</th>\n",
       "      <th>FECHA_INCIDENTE</th>\n",
       "    </tr>\n",
       "  </thead>\n",
       "  <tbody>\n",
       "    <tr>\n",
       "      <th>0</th>\n",
       "      <td>2019-01-08 00:28:00</td>\n",
       "      <td>1</td>\n",
       "      <td>Usaquen</td>\n",
       "      <td>SIN_DATO</td>\n",
       "      <td>SIN-DATO</td>\n",
       "      <td>SIN_DATO</td>\n",
       "      <td>Norte</td>\n",
       "      <td>Inconsciente/Paro Cardiorrespiratorio</td>\n",
       "      <td>ALTA</td>\n",
       "      <td>AGOSTO</td>\n",
       "      <td>Cancelado</td>\n",
       "      <td>2019-01-08 00:21:45</td>\n",
       "    </tr>\n",
       "    <tr>\n",
       "      <th>1</th>\n",
       "      <td>2019-01-08 00:15:00</td>\n",
       "      <td>11</td>\n",
       "      <td>Suba</td>\n",
       "      <td>SIN_DATO</td>\n",
       "      <td>SIN-DATO</td>\n",
       "      <td>SIN_DATO</td>\n",
       "      <td>Norte</td>\n",
       "      <td>Accidente cerebro vascular</td>\n",
       "      <td>BAJA</td>\n",
       "      <td>AGOSTO</td>\n",
       "      <td>Cancelado</td>\n",
       "      <td>2019-01-08 00:08:45</td>\n",
       "    </tr>\n",
       "    <tr>\n",
       "      <th>2</th>\n",
       "      <td>2019-01-08 00:10:00</td>\n",
       "      <td>13</td>\n",
       "      <td>Teusaquillo</td>\n",
       "      <td>SIN_DATO</td>\n",
       "      <td>SIN-DATO</td>\n",
       "      <td>SIN_DATO</td>\n",
       "      <td>Norte</td>\n",
       "      <td>Accidente de tránsito con heridos/Muertos</td>\n",
       "      <td>ALTA</td>\n",
       "      <td>AGOSTO</td>\n",
       "      <td>Cancelado</td>\n",
       "      <td>2019-01-08 00:03:45</td>\n",
       "    </tr>\n",
       "    <tr>\n",
       "      <th>3</th>\n",
       "      <td>2019-01-08 00:12:00</td>\n",
       "      <td>8</td>\n",
       "      <td>Kennedy</td>\n",
       "      <td>SIN_DATO</td>\n",
       "      <td>SIN-DATO</td>\n",
       "      <td>SIN_DATO</td>\n",
       "      <td>Norte</td>\n",
       "      <td>Accidente de tránsito con heridos/Muertos</td>\n",
       "      <td>ALTA</td>\n",
       "      <td>AGOSTO</td>\n",
       "      <td>Cancelado</td>\n",
       "      <td>2019-01-08 00:05:45</td>\n",
       "    </tr>\n",
       "    <tr>\n",
       "      <th>4</th>\n",
       "      <td>2019-01-08 00:13:00</td>\n",
       "      <td>11</td>\n",
       "      <td>Suba</td>\n",
       "      <td>71</td>\n",
       "      <td>Años</td>\n",
       "      <td>FEMENINO</td>\n",
       "      <td>Norte</td>\n",
       "      <td>Dificultad Respiratoria</td>\n",
       "      <td>ALTA</td>\n",
       "      <td>AGOSTO</td>\n",
       "      <td>Traslado</td>\n",
       "      <td>2019-01-08 00:06:45</td>\n",
       "    </tr>\n",
       "    <tr>\n",
       "      <th>...</th>\n",
       "      <td>...</td>\n",
       "      <td>...</td>\n",
       "      <td>...</td>\n",
       "      <td>...</td>\n",
       "      <td>...</td>\n",
       "      <td>...</td>\n",
       "      <td>...</td>\n",
       "      <td>...</td>\n",
       "      <td>...</td>\n",
       "      <td>...</td>\n",
       "      <td>...</td>\n",
       "      <td>...</td>\n",
       "    </tr>\n",
       "    <tr>\n",
       "      <th>13837</th>\n",
       "      <td>2019-07-31 23:21:39</td>\n",
       "      <td>10</td>\n",
       "      <td>Engativa</td>\n",
       "      <td>SIN_DATO</td>\n",
       "      <td>SIN-DATO</td>\n",
       "      <td>SIN_DATO</td>\n",
       "      <td>Norte</td>\n",
       "      <td>Heridos</td>\n",
       "      <td>ALTA</td>\n",
       "      <td>JULIO</td>\n",
       "      <td>Cancelado</td>\n",
       "      <td>2019-07-31 23:18:21</td>\n",
       "    </tr>\n",
       "    <tr>\n",
       "      <th>13838</th>\n",
       "      <td>2019-07-31 23:28:20</td>\n",
       "      <td>18</td>\n",
       "      <td>Rafael Uribe Uribe</td>\n",
       "      <td>52</td>\n",
       "      <td>Años</td>\n",
       "      <td>FEMENINO</td>\n",
       "      <td>Sur</td>\n",
       "      <td>Inconsciente/Paro Cardiorrespiratorio</td>\n",
       "      <td>ALTA</td>\n",
       "      <td>JULIO</td>\n",
       "      <td>Traslado</td>\n",
       "      <td>2019-07-31 23:21:41</td>\n",
       "    </tr>\n",
       "    <tr>\n",
       "      <th>13839</th>\n",
       "      <td>2019-07-31 23:27:43</td>\n",
       "      <td>13</td>\n",
       "      <td>Teusaquillo</td>\n",
       "      <td>SIN_DATO</td>\n",
       "      <td>SIN-DATO</td>\n",
       "      <td>SIN_DATO</td>\n",
       "      <td>Norte</td>\n",
       "      <td>Inconsciente/Paro Cardiorrespiratorio</td>\n",
       "      <td>ALTA</td>\n",
       "      <td>JULIO</td>\n",
       "      <td>Cancelado</td>\n",
       "      <td>2019-07-31 23:25:49</td>\n",
       "    </tr>\n",
       "    <tr>\n",
       "      <th>13840</th>\n",
       "      <td>2019-07-31 23:29:43</td>\n",
       "      <td>18</td>\n",
       "      <td>Rafael Uribe Uribe</td>\n",
       "      <td>78</td>\n",
       "      <td>Años</td>\n",
       "      <td>MASCULINO</td>\n",
       "      <td>Sur</td>\n",
       "      <td>Convulsiones</td>\n",
       "      <td>ALTA</td>\n",
       "      <td>JULIO</td>\n",
       "      <td>Desistimiento</td>\n",
       "      <td>2019-07-31 23:26:54</td>\n",
       "    </tr>\n",
       "    <tr>\n",
       "      <th>13841</th>\n",
       "      <td>2019-07-31 23:50:43</td>\n",
       "      <td>1</td>\n",
       "      <td>Usaquen</td>\n",
       "      <td>27</td>\n",
       "      <td>Años</td>\n",
       "      <td>MASCULINO</td>\n",
       "      <td>Norte</td>\n",
       "      <td>Accidente de tránsito con heridos/Muertos</td>\n",
       "      <td>ALTA</td>\n",
       "      <td>JULIO</td>\n",
       "      <td>Traslado</td>\n",
       "      <td>2019-07-31 23:47:00</td>\n",
       "    </tr>\n",
       "  </tbody>\n",
       "</table>\n",
       "<p>95523 rows × 12 columns</p>\n",
       "</div>"
      ],
      "text/plain": [
       "      FECHA_INICIO_DESPLAZAMIENTO_MOVIL  CODIGO_LOCALIDAD           LOCALIDAD  \\\n",
       "0                   2019-01-08 00:28:00                 1             Usaquen   \n",
       "1                   2019-01-08 00:15:00                11                Suba   \n",
       "2                   2019-01-08 00:10:00                13         Teusaquillo   \n",
       "3                   2019-01-08 00:12:00                 8             Kennedy   \n",
       "4                   2019-01-08 00:13:00                11                Suba   \n",
       "...                                 ...               ...                 ...   \n",
       "13837               2019-07-31 23:21:39                10            Engativa   \n",
       "13838               2019-07-31 23:28:20                18  Rafael Uribe Uribe   \n",
       "13839               2019-07-31 23:27:43                13         Teusaquillo   \n",
       "13840               2019-07-31 23:29:43                18  Rafael Uribe Uribe   \n",
       "13841               2019-07-31 23:50:43                 1             Usaquen   \n",
       "\n",
       "           EDAD    UNIDAD     GENERO    RED  \\\n",
       "0      SIN_DATO  SIN-DATO   SIN_DATO  Norte   \n",
       "1      SIN_DATO  SIN-DATO   SIN_DATO  Norte   \n",
       "2      SIN_DATO  SIN-DATO   SIN_DATO  Norte   \n",
       "3      SIN_DATO  SIN-DATO   SIN_DATO  Norte   \n",
       "4            71      Años   FEMENINO  Norte   \n",
       "...         ...       ...        ...    ...   \n",
       "13837  SIN_DATO  SIN-DATO   SIN_DATO  Norte   \n",
       "13838        52      Años   FEMENINO    Sur   \n",
       "13839  SIN_DATO  SIN-DATO   SIN_DATO  Norte   \n",
       "13840        78      Años  MASCULINO    Sur   \n",
       "13841        27      Años  MASCULINO  Norte   \n",
       "\n",
       "                                  TIPO_INCIDENTE PRIORIDAD     MES  \\\n",
       "0          Inconsciente/Paro Cardiorrespiratorio      ALTA  AGOSTO   \n",
       "1                     Accidente cerebro vascular      BAJA  AGOSTO   \n",
       "2      Accidente de tránsito con heridos/Muertos      ALTA  AGOSTO   \n",
       "3      Accidente de tránsito con heridos/Muertos      ALTA  AGOSTO   \n",
       "4                        Dificultad Respiratoria      ALTA  AGOSTO   \n",
       "...                                          ...       ...     ...   \n",
       "13837                                    Heridos      ALTA   JULIO   \n",
       "13838      Inconsciente/Paro Cardiorrespiratorio      ALTA   JULIO   \n",
       "13839      Inconsciente/Paro Cardiorrespiratorio      ALTA   JULIO   \n",
       "13840                               Convulsiones      ALTA   JULIO   \n",
       "13841  Accidente de tránsito con heridos/Muertos      ALTA   JULIO   \n",
       "\n",
       "      CLASIFICACION_FINAL      FECHA_INCIDENTE  \n",
       "0               Cancelado  2019-01-08 00:21:45  \n",
       "1               Cancelado  2019-01-08 00:08:45  \n",
       "2               Cancelado  2019-01-08 00:03:45  \n",
       "3               Cancelado  2019-01-08 00:05:45  \n",
       "4                Traslado  2019-01-08 00:06:45  \n",
       "...                   ...                  ...  \n",
       "13837           Cancelado  2019-07-31 23:18:21  \n",
       "13838            Traslado  2019-07-31 23:21:41  \n",
       "13839           Cancelado  2019-07-31 23:25:49  \n",
       "13840       Desistimiento  2019-07-31 23:26:54  \n",
       "13841            Traslado  2019-07-31 23:47:00  \n",
       "\n",
       "[95523 rows x 12 columns]"
      ]
     },
     "execution_count": 104,
     "metadata": {},
     "output_type": "execute_result"
    }
   ],
   "source": [
    "df_out = clean_datetime_cols(df)\n",
    "df_out"
   ]
  },
  {
   "cell_type": "code",
   "execution_count": null,
   "id": "3c9b054b-1340-4744-9853-9f49caee13a9",
   "metadata": {
    "id": "3c9b054b-1340-4744-9853-9f49caee13a9"
   },
   "outputs": [],
   "source": [
    "def standarize_datetimes(x):\n",
    "    try:\n",
    "        new_x = parse(x)\n",
    "    except:\n",
    "        new_x = x\n",
    "    return new_x"
   ]
  },
  {
   "cell_type": "code",
   "execution_count": null,
   "id": "3b3bd5a7-f6ea-4ada-a807-442c2f162402",
   "metadata": {
    "id": "3b3bd5a7-f6ea-4ada-a807-442c2f162402"
   },
   "outputs": [],
   "source": [
    "df_out['FECHA_INICIO_DESPLAZAMIENTO_MOVIL'] = df.out['FECHA_INICIO_DESPLAZAMIENTO_MOVIL']"
   ]
  },
  {
   "cell_type": "code",
   "execution_count": null,
   "id": "a9caae44-caa9-4cc1-afea-c4b87c08302c",
   "metadata": {
    "id": "a9caae44-caa9-4cc1-afea-c4b87c08302c",
    "outputId": "4e990f0f-6474-4d4a-b317-88d8b273d292"
   },
   "outputs": [
    {
     "ename": "SyntaxError",
     "evalue": "invalid syntax (2405712113.py, line 3)",
     "output_type": "error",
     "traceback": [
      "\u001b[0;36m  File \u001b[0;32m\"/tmp/ipykernel_4940/2405712113.py\"\u001b[0;36m, line \u001b[0;32m3\u001b[0m\n\u001b[0;31m    unicode.\u001b[0m\n\u001b[0m            ^\u001b[0m\n\u001b[0;31mSyntaxError\u001b[0m\u001b[0;31m:\u001b[0m invalid syntax\n"
     ]
    }
   ],
   "source": [
    "import unidecode\n",
    "\n",
    "unicode.unicode"
   ]
  },
  {
   "cell_type": "code",
   "execution_count": null,
   "id": "9f3ee6b3-ed0f-4d44-9d6b-b605be8c9541",
   "metadata": {
    "id": "9f3ee6b3-ed0f-4d44-9d6b-b605be8c9541"
   },
   "outputs": [],
   "source": []
  }
 ],
 "metadata": {
  "colab": {
   "name": "Sabado 02 Abril (1).ipynb",
   "provenance": []
  },
  "environment": {
   "kernel": "python3",
   "name": "tf2-gpu.2-8.m91",
   "type": "gcloud",
   "uri": "gcr.io/deeplearning-platform-release/tf2-gpu.2-8:m91"
  },
  "kernelspec": {
   "display_name": "Python 3",
   "language": "python",
   "name": "python3"
  },
  "language_info": {
   "codemirror_mode": {
    "name": "ipython",
    "version": 3
   },
   "file_extension": ".py",
   "mimetype": "text/x-python",
   "name": "python",
   "nbconvert_exporter": "python",
   "pygments_lexer": "ipython3",
   "version": "3.7.12"
  }
 },
 "nbformat": 4,
 "nbformat_minor": 5
}
