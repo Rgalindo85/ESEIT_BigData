{
 "cells": [
  {
   "cell_type": "markdown",
   "id": "b7e4b4d5-9ba2-48e0-b7e1-be218e055a66",
   "metadata": {},
   "source": [
    "# Taller Machine Learning\n",
    "___________________________________\n",
    "\n",
    "### Carolina Tovar Castiblanco"
   ]
  },
  {
   "cell_type": "code",
   "execution_count": 1,
   "id": "ec43397f-56d0-42cf-96d4-8fd0f8e49937",
   "metadata": {},
   "outputs": [
    {
     "name": "stderr",
     "output_type": "stream",
     "text": [
      "2022-06-11 10:01:30.918670: W tensorflow/stream_executor/platform/default/dso_loader.cc:64] Could not load dynamic library 'libcudart.so.11.0'; dlerror: libcudart.so.11.0: cannot open shared object file: No such file or directory\n",
      "2022-06-11 10:01:30.918725: I tensorflow/stream_executor/cuda/cudart_stub.cc:29] Ignore above cudart dlerror if you do not have a GPU set up on your machine.\n"
     ]
    },
    {
     "name": "stdout",
     "output_type": "stream",
     "text": [
      "/home/jupyter/ESEIT_BigData/notebooks\n",
      "/home/jupyter/ESEIT_BigData\n"
     ]
    }
   ],
   "source": [
    "import tensorflow as tf\n",
    "from tensorflow import keras\n",
    "\n",
    "\n",
    "import os\n",
    "\n",
    "import pandas as pd\n",
    "import numpy as np\n",
    "import seaborn as sns\n",
    "import matplotlib.pyplot as plt\n",
    "import plotly.express as px\n",
    "\n",
    "from pathlib import Path\n",
    "current_dir = Path('.').resolve()\n",
    "project_dir = current_dir.parent\n",
    "\n",
    "from pandas_profiling import ProfileReport\n",
    "\n",
    "print(current_dir)\n",
    "print(project_dir)"
   ]
  },
  {
   "cell_type": "code",
   "execution_count": 2,
   "id": "c84fed17-89cd-4da8-a605-8c5d7cc3731a",
   "metadata": {},
   "outputs": [
    {
     "data": {
      "text/html": [
       "<div>\n",
       "<style scoped>\n",
       "    .dataframe tbody tr th:only-of-type {\n",
       "        vertical-align: middle;\n",
       "    }\n",
       "\n",
       "    .dataframe tbody tr th {\n",
       "        vertical-align: top;\n",
       "    }\n",
       "\n",
       "    .dataframe thead th {\n",
       "        text-align: right;\n",
       "    }\n",
       "</style>\n",
       "<table border=\"1\" class=\"dataframe\">\n",
       "  <thead>\n",
       "    <tr style=\"text-align: right;\">\n",
       "      <th></th>\n",
       "      <th>price</th>\n",
       "      <th>area</th>\n",
       "      <th>bedrooms</th>\n",
       "      <th>bathrooms</th>\n",
       "      <th>stories</th>\n",
       "      <th>mainroad</th>\n",
       "      <th>guestroom</th>\n",
       "      <th>basement</th>\n",
       "      <th>hotwaterheating</th>\n",
       "      <th>airconditioning</th>\n",
       "      <th>parking</th>\n",
       "      <th>prefarea</th>\n",
       "      <th>furnishingstatus</th>\n",
       "    </tr>\n",
       "  </thead>\n",
       "  <tbody>\n",
       "    <tr>\n",
       "      <th>0</th>\n",
       "      <td>13300000</td>\n",
       "      <td>7420</td>\n",
       "      <td>4</td>\n",
       "      <td>2</td>\n",
       "      <td>3</td>\n",
       "      <td>yes</td>\n",
       "      <td>no</td>\n",
       "      <td>no</td>\n",
       "      <td>no</td>\n",
       "      <td>yes</td>\n",
       "      <td>2</td>\n",
       "      <td>yes</td>\n",
       "      <td>furnished</td>\n",
       "    </tr>\n",
       "    <tr>\n",
       "      <th>1</th>\n",
       "      <td>12250000</td>\n",
       "      <td>8960</td>\n",
       "      <td>4</td>\n",
       "      <td>4</td>\n",
       "      <td>4</td>\n",
       "      <td>yes</td>\n",
       "      <td>no</td>\n",
       "      <td>no</td>\n",
       "      <td>no</td>\n",
       "      <td>yes</td>\n",
       "      <td>3</td>\n",
       "      <td>no</td>\n",
       "      <td>furnished</td>\n",
       "    </tr>\n",
       "    <tr>\n",
       "      <th>2</th>\n",
       "      <td>12250000</td>\n",
       "      <td>9960</td>\n",
       "      <td>3</td>\n",
       "      <td>2</td>\n",
       "      <td>2</td>\n",
       "      <td>yes</td>\n",
       "      <td>no</td>\n",
       "      <td>yes</td>\n",
       "      <td>no</td>\n",
       "      <td>no</td>\n",
       "      <td>2</td>\n",
       "      <td>yes</td>\n",
       "      <td>semi-furnished</td>\n",
       "    </tr>\n",
       "    <tr>\n",
       "      <th>3</th>\n",
       "      <td>12215000</td>\n",
       "      <td>7500</td>\n",
       "      <td>4</td>\n",
       "      <td>2</td>\n",
       "      <td>2</td>\n",
       "      <td>yes</td>\n",
       "      <td>no</td>\n",
       "      <td>yes</td>\n",
       "      <td>no</td>\n",
       "      <td>yes</td>\n",
       "      <td>3</td>\n",
       "      <td>yes</td>\n",
       "      <td>furnished</td>\n",
       "    </tr>\n",
       "    <tr>\n",
       "      <th>4</th>\n",
       "      <td>11410000</td>\n",
       "      <td>7420</td>\n",
       "      <td>4</td>\n",
       "      <td>1</td>\n",
       "      <td>2</td>\n",
       "      <td>yes</td>\n",
       "      <td>yes</td>\n",
       "      <td>yes</td>\n",
       "      <td>no</td>\n",
       "      <td>yes</td>\n",
       "      <td>2</td>\n",
       "      <td>no</td>\n",
       "      <td>furnished</td>\n",
       "    </tr>\n",
       "  </tbody>\n",
       "</table>\n",
       "</div>"
      ],
      "text/plain": [
       "      price  area  bedrooms  bathrooms  stories mainroad guestroom basement  \\\n",
       "0  13300000  7420         4          2        3      yes        no       no   \n",
       "1  12250000  8960         4          4        4      yes        no       no   \n",
       "2  12250000  9960         3          2        2      yes        no      yes   \n",
       "3  12215000  7500         4          2        2      yes        no      yes   \n",
       "4  11410000  7420         4          1        2      yes       yes      yes   \n",
       "\n",
       "  hotwaterheating airconditioning  parking prefarea furnishingstatus  \n",
       "0              no             yes        2      yes        furnished  \n",
       "1              no             yes        3       no        furnished  \n",
       "2              no              no        2      yes   semi-furnished  \n",
       "3              no             yes        3      yes        furnished  \n",
       "4              no             yes        2       no        furnished  "
      ]
     },
     "execution_count": 2,
     "metadata": {},
     "output_type": "execute_result"
    }
   ],
   "source": [
    "file_data = os.path.join(project_dir, 'data', 'raw', 'Housing.csv')\n",
    "data = pd.read_csv(file_data, header=0)\n",
    "data.head()"
   ]
  },
  {
   "cell_type": "markdown",
   "id": "1eb639e5-d2ae-48d1-ba3f-74f9fa365786",
   "metadata": {},
   "source": [
    "## Exploratory Data Analysis EDA"
   ]
  },
  {
   "cell_type": "code",
   "execution_count": 3,
   "id": "7da651b8-6577-42cf-89c4-a3deb65ab9ed",
   "metadata": {},
   "outputs": [
    {
     "data": {
      "text/plain": [
       "['mainroad',\n",
       " 'guestroom',\n",
       " 'basement',\n",
       " 'hotwaterheating',\n",
       " 'airconditioning',\n",
       " 'parking',\n",
       " 'prefarea']"
      ]
     },
     "execution_count": 3,
     "metadata": {},
     "output_type": "execute_result"
    }
   ],
   "source": [
    "target = 'price'\n",
    "\n",
    "furnishng = ['furnishingstatus']\n",
    "num_cols = ['area']\n",
    "ord_cols = ['bedrooms', 'bathrooms', 'stories']\n",
    "cat_cols = ['mainroad', 'guestroom', 'basement', 'hotwaterheating', \n",
    "            'airconditioning', 'parking', 'prefarea']\n",
    "cat_cols"
   ]
  },
  {
   "cell_type": "code",
   "execution_count": 4,
   "id": "25e099fc-7625-4692-8bd1-22f995ce6367",
   "metadata": {},
   "outputs": [
    {
     "data": {
      "text/plain": [
       "<AxesSubplot:xlabel='furnishingstatus', ylabel='price'>"
      ]
     },
     "execution_count": 4,
     "metadata": {},
     "output_type": "execute_result"
    },
    {
     "data": {
      "image/png": "[encoded data removed]",
      "text/plain": [
       "<Figure size 432x288 with 1 Axes>"
      ]
     },
     "metadata": {
      "needs_background": "light"
     },
     "output_type": "display_data"
    }
   ],
   "source": [
    "sns.scatterplot(x='furnishingstatus', y='price', data=data)"
   ]
  },
  {
   "cell_type": "code",
   "execution_count": 5,
   "id": "ea0cf534-c16e-4021-b8af-871b3a9768f4",
   "metadata": {},
   "outputs": [
    {
     "data": {
      "image/png": "[encoded data removed]",
      "text/plain": [
       "<Figure size 2160x360 with 7 Axes>"
      ]
     },
     "metadata": {
      "needs_background": "light"
     },
     "output_type": "display_data"
    }
   ],
   "source": [
    "fig, axes = plt.subplots(ncols=7, nrows=1, figsize=(30, 5) )\n",
    "axes = axes.flatten()\n",
    "\n",
    "for i, col in enumerate(cat_cols):\n",
    "    sns.scatterplot(x=col, y='price', data=data, ax=axes[i])"
   ]
  },
  {
   "cell_type": "code",
   "execution_count": 6,
   "id": "dec530fb-43f2-4c48-a66d-727c66168229",
   "metadata": {},
   "outputs": [
    {
     "data": {
      "text/plain": [
       "<seaborn.axisgrid.FacetGrid at 0x7ff27eca4a90>"
      ]
     },
     "execution_count": 6,
     "metadata": {},
     "output_type": "execute_result"
    },
    {
     "data": {
      "image/png": "[encoded data removed]",
      "text/plain": [
       "<Figure size 1125.88x360 with 1 Axes>"
      ]
     },
     "metadata": {
      "needs_background": "light"
     },
     "output_type": "display_data"
    }
   ],
   "source": [
    "sns.catplot(x='furnishingstatus', data=data, kind='count', hue='parking', aspect=3)"
   ]
  },
  {
   "cell_type": "markdown",
   "id": "4be1e776-4423-4d8f-90a7-9b5ca673a18c",
   "metadata": {},
   "source": [
    "## Feature Engineering\n",
    "\n",
    "- Converting Numeric cols to categorical cols\n",
    "- New variables\n",
    "- One-hot enconder"
   ]
  },
  {
   "cell_type": "code",
   "execution_count": 7,
   "id": "02d21581-846c-4baa-b6b6-8924f4d0b00a",
   "metadata": {},
   "outputs": [
    {
     "data": {
      "text/plain": [
       "0.2    3450.0\n",
       "0.4    4065.0\n",
       "0.6    5400.0\n",
       "0.8    6600.0\n",
       "Name: area, dtype: float64"
      ]
     },
     "execution_count": 7,
     "metadata": {},
     "output_type": "execute_result"
    }
   ],
   "source": [
    "data['area'].quantile([0.20,0.4,0.6,0.8]) # Lista de los cortes que quiero hacer"
   ]
  },
  {
   "cell_type": "code",
   "execution_count": 8,
   "id": "85b41cc6-5287-4377-87b2-4c0faf260c39",
   "metadata": {},
   "outputs": [
    {
     "data": {
      "text/plain": [
       "1    112\n",
       "3    112\n",
       "5    108\n",
       "4    107\n",
       "2    106\n",
       "Name: area_cat, dtype: int64"
      ]
     },
     "execution_count": 8,
     "metadata": {},
     "output_type": "execute_result"
    }
   ],
   "source": [
    "data[\"area_cat\"] = pd.cut(data[\"area\"],\n",
    "                               bins=[0., 3450, 4065, 5400, 6600, np.inf],\n",
    "                               labels=[1, 2, 3, 4, 5])\n",
    "\n",
    "data[\"area_cat\"].value_counts()"
   ]
  },
  {
   "cell_type": "code",
   "execution_count": 9,
   "id": "480362d4-437e-4397-a58d-28fe53f9f8f8",
   "metadata": {},
   "outputs": [
    {
     "data": {
      "text/plain": [
       "price        1.000000\n",
       "area         0.535997\n",
       "bathrooms    0.517545\n",
       "stories      0.420712\n",
       "parking      0.384394\n",
       "bedrooms     0.366494\n",
       "Name: price, dtype: float64"
      ]
     },
     "execution_count": 9,
     "metadata": {},
     "output_type": "execute_result"
    }
   ],
   "source": [
    "corr_matrix =data.corr()\n",
    "corr_matrix['price'].sort_values(ascending=False)"
   ]
  },
  {
   "cell_type": "code",
   "execution_count": 10,
   "id": "b295a0ec-444d-4947-8c50-30249f6de900",
   "metadata": {},
   "outputs": [
    {
     "data": {
      "text/plain": [
       "price        1.000000\n",
       "lux_home     0.588013\n",
       "area         0.535997\n",
       "bathrooms    0.517545\n",
       "stories      0.420712\n",
       "parking      0.384394\n",
       "bedrooms     0.366494\n",
       "Name: price, dtype: float64"
      ]
     },
     "execution_count": 10,
     "metadata": {},
     "output_type": "execute_result"
    }
   ],
   "source": [
    "data[\"lux_home\"] = data[\"bathrooms\"] + data[\"bedrooms\"] + data[\"parking\"]\n",
    "corr_matrix = data.corr()\n",
    "corr_matrix[\"price\"].sort_values(ascending=False)"
   ]
  },
  {
   "cell_type": "code",
   "execution_count": 11,
   "id": "7aade3b2-031d-4d5b-b967-478090f8a36c",
   "metadata": {},
   "outputs": [
    {
     "data": {
      "text/html": [
       "<div>\n",
       "<style scoped>\n",
       "    .dataframe tbody tr th:only-of-type {\n",
       "        vertical-align: middle;\n",
       "    }\n",
       "\n",
       "    .dataframe tbody tr th {\n",
       "        vertical-align: top;\n",
       "    }\n",
       "\n",
       "    .dataframe thead th {\n",
       "        text-align: right;\n",
       "    }\n",
       "</style>\n",
       "<table border=\"1\" class=\"dataframe\">\n",
       "  <thead>\n",
       "    <tr style=\"text-align: right;\">\n",
       "      <th></th>\n",
       "      <th>price</th>\n",
       "      <th>area</th>\n",
       "      <th>bedrooms</th>\n",
       "      <th>bathrooms</th>\n",
       "      <th>stories</th>\n",
       "      <th>mainroad</th>\n",
       "      <th>guestroom</th>\n",
       "      <th>basement</th>\n",
       "      <th>hotwaterheating</th>\n",
       "      <th>airconditioning</th>\n",
       "      <th>parking</th>\n",
       "      <th>prefarea</th>\n",
       "      <th>furnishingstatus</th>\n",
       "      <th>area_cat</th>\n",
       "      <th>lux_home</th>\n",
       "    </tr>\n",
       "  </thead>\n",
       "  <tbody>\n",
       "    <tr>\n",
       "      <th>0</th>\n",
       "      <td>13300000</td>\n",
       "      <td>7420</td>\n",
       "      <td>4</td>\n",
       "      <td>2</td>\n",
       "      <td>3</td>\n",
       "      <td>yes</td>\n",
       "      <td>no</td>\n",
       "      <td>no</td>\n",
       "      <td>no</td>\n",
       "      <td>yes</td>\n",
       "      <td>2</td>\n",
       "      <td>yes</td>\n",
       "      <td>furnished</td>\n",
       "      <td>5</td>\n",
       "      <td>8</td>\n",
       "    </tr>\n",
       "    <tr>\n",
       "      <th>1</th>\n",
       "      <td>12250000</td>\n",
       "      <td>8960</td>\n",
       "      <td>4</td>\n",
       "      <td>4</td>\n",
       "      <td>4</td>\n",
       "      <td>yes</td>\n",
       "      <td>no</td>\n",
       "      <td>no</td>\n",
       "      <td>no</td>\n",
       "      <td>yes</td>\n",
       "      <td>3</td>\n",
       "      <td>no</td>\n",
       "      <td>furnished</td>\n",
       "      <td>5</td>\n",
       "      <td>11</td>\n",
       "    </tr>\n",
       "    <tr>\n",
       "      <th>2</th>\n",
       "      <td>12250000</td>\n",
       "      <td>9960</td>\n",
       "      <td>3</td>\n",
       "      <td>2</td>\n",
       "      <td>2</td>\n",
       "      <td>yes</td>\n",
       "      <td>no</td>\n",
       "      <td>yes</td>\n",
       "      <td>no</td>\n",
       "      <td>no</td>\n",
       "      <td>2</td>\n",
       "      <td>yes</td>\n",
       "      <td>semi-furnished</td>\n",
       "      <td>5</td>\n",
       "      <td>7</td>\n",
       "    </tr>\n",
       "    <tr>\n",
       "      <th>3</th>\n",
       "      <td>12215000</td>\n",
       "      <td>7500</td>\n",
       "      <td>4</td>\n",
       "      <td>2</td>\n",
       "      <td>2</td>\n",
       "      <td>yes</td>\n",
       "      <td>no</td>\n",
       "      <td>yes</td>\n",
       "      <td>no</td>\n",
       "      <td>yes</td>\n",
       "      <td>3</td>\n",
       "      <td>yes</td>\n",
       "      <td>furnished</td>\n",
       "      <td>5</td>\n",
       "      <td>9</td>\n",
       "    </tr>\n",
       "    <tr>\n",
       "      <th>4</th>\n",
       "      <td>11410000</td>\n",
       "      <td>7420</td>\n",
       "      <td>4</td>\n",
       "      <td>1</td>\n",
       "      <td>2</td>\n",
       "      <td>yes</td>\n",
       "      <td>yes</td>\n",
       "      <td>yes</td>\n",
       "      <td>no</td>\n",
       "      <td>yes</td>\n",
       "      <td>2</td>\n",
       "      <td>no</td>\n",
       "      <td>furnished</td>\n",
       "      <td>5</td>\n",
       "      <td>7</td>\n",
       "    </tr>\n",
       "    <tr>\n",
       "      <th>...</th>\n",
       "      <td>...</td>\n",
       "      <td>...</td>\n",
       "      <td>...</td>\n",
       "      <td>...</td>\n",
       "      <td>...</td>\n",
       "      <td>...</td>\n",
       "      <td>...</td>\n",
       "      <td>...</td>\n",
       "      <td>...</td>\n",
       "      <td>...</td>\n",
       "      <td>...</td>\n",
       "      <td>...</td>\n",
       "      <td>...</td>\n",
       "      <td>...</td>\n",
       "      <td>...</td>\n",
       "    </tr>\n",
       "    <tr>\n",
       "      <th>540</th>\n",
       "      <td>1820000</td>\n",
       "      <td>3000</td>\n",
       "      <td>2</td>\n",
       "      <td>1</td>\n",
       "      <td>1</td>\n",
       "      <td>yes</td>\n",
       "      <td>no</td>\n",
       "      <td>yes</td>\n",
       "      <td>no</td>\n",
       "      <td>no</td>\n",
       "      <td>2</td>\n",
       "      <td>no</td>\n",
       "      <td>unfurnished</td>\n",
       "      <td>1</td>\n",
       "      <td>5</td>\n",
       "    </tr>\n",
       "    <tr>\n",
       "      <th>541</th>\n",
       "      <td>1767150</td>\n",
       "      <td>2400</td>\n",
       "      <td>3</td>\n",
       "      <td>1</td>\n",
       "      <td>1</td>\n",
       "      <td>no</td>\n",
       "      <td>no</td>\n",
       "      <td>no</td>\n",
       "      <td>no</td>\n",
       "      <td>no</td>\n",
       "      <td>0</td>\n",
       "      <td>no</td>\n",
       "      <td>semi-furnished</td>\n",
       "      <td>1</td>\n",
       "      <td>4</td>\n",
       "    </tr>\n",
       "    <tr>\n",
       "      <th>542</th>\n",
       "      <td>1750000</td>\n",
       "      <td>3620</td>\n",
       "      <td>2</td>\n",
       "      <td>1</td>\n",
       "      <td>1</td>\n",
       "      <td>yes</td>\n",
       "      <td>no</td>\n",
       "      <td>no</td>\n",
       "      <td>no</td>\n",
       "      <td>no</td>\n",
       "      <td>0</td>\n",
       "      <td>no</td>\n",
       "      <td>unfurnished</td>\n",
       "      <td>2</td>\n",
       "      <td>3</td>\n",
       "    </tr>\n",
       "    <tr>\n",
       "      <th>543</th>\n",
       "      <td>1750000</td>\n",
       "      <td>2910</td>\n",
       "      <td>3</td>\n",
       "      <td>1</td>\n",
       "      <td>1</td>\n",
       "      <td>no</td>\n",
       "      <td>no</td>\n",
       "      <td>no</td>\n",
       "      <td>no</td>\n",
       "      <td>no</td>\n",
       "      <td>0</td>\n",
       "      <td>no</td>\n",
       "      <td>furnished</td>\n",
       "      <td>1</td>\n",
       "      <td>4</td>\n",
       "    </tr>\n",
       "    <tr>\n",
       "      <th>544</th>\n",
       "      <td>1750000</td>\n",
       "      <td>3850</td>\n",
       "      <td>3</td>\n",
       "      <td>1</td>\n",
       "      <td>2</td>\n",
       "      <td>yes</td>\n",
       "      <td>no</td>\n",
       "      <td>no</td>\n",
       "      <td>no</td>\n",
       "      <td>no</td>\n",
       "      <td>0</td>\n",
       "      <td>no</td>\n",
       "      <td>unfurnished</td>\n",
       "      <td>2</td>\n",
       "      <td>4</td>\n",
       "    </tr>\n",
       "  </tbody>\n",
       "</table>\n",
       "<p>545 rows × 15 columns</p>\n",
       "</div>"
      ],
      "text/plain": [
       "        price  area  bedrooms  bathrooms  stories mainroad guestroom basement  \\\n",
       "0    13300000  7420         4          2        3      yes        no       no   \n",
       "1    12250000  8960         4          4        4      yes        no       no   \n",
       "2    12250000  9960         3          2        2      yes        no      yes   \n",
       "3    12215000  7500         4          2        2      yes        no      yes   \n",
       "4    11410000  7420         4          1        2      yes       yes      yes   \n",
       "..        ...   ...       ...        ...      ...      ...       ...      ...   \n",
       "540   1820000  3000         2          1        1      yes        no      yes   \n",
       "541   1767150  2400         3          1        1       no        no       no   \n",
       "542   1750000  3620         2          1        1      yes        no       no   \n",
       "543   1750000  2910         3          1        1       no        no       no   \n",
       "544   1750000  3850         3          1        2      yes        no       no   \n",
       "\n",
       "    hotwaterheating airconditioning  parking prefarea furnishingstatus  \\\n",
       "0                no             yes        2      yes        furnished   \n",
       "1                no             yes        3       no        furnished   \n",
       "2                no              no        2      yes   semi-furnished   \n",
       "3                no             yes        3      yes        furnished   \n",
       "4                no             yes        2       no        furnished   \n",
       "..              ...             ...      ...      ...              ...   \n",
       "540              no              no        2       no      unfurnished   \n",
       "541              no              no        0       no   semi-furnished   \n",
       "542              no              no        0       no      unfurnished   \n",
       "543              no              no        0       no        furnished   \n",
       "544              no              no        0       no      unfurnished   \n",
       "\n",
       "    area_cat  lux_home  \n",
       "0          5         8  \n",
       "1          5        11  \n",
       "2          5         7  \n",
       "3          5         9  \n",
       "4          5         7  \n",
       "..       ...       ...  \n",
       "540        1         5  \n",
       "541        1         4  \n",
       "542        2         3  \n",
       "543        1         4  \n",
       "544        2         4  \n",
       "\n",
       "[545 rows x 15 columns]"
      ]
     },
     "execution_count": 11,
     "metadata": {},
     "output_type": "execute_result"
    }
   ],
   "source": [
    "data"
   ]
  },
  {
   "cell_type": "code",
   "execution_count": 12,
   "id": "08782c11-d95d-4a77-a3d2-8ec5245961d0",
   "metadata": {},
   "outputs": [
    {
     "data": {
      "text/plain": [
       "<AxesSubplot:>"
      ]
     },
     "execution_count": 12,
     "metadata": {},
     "output_type": "execute_result"
    },
    {
     "data": {
      "image/png": "[encoded data removed]",
      "text/plain": [
       "<Figure size 432x288 with 1 Axes>"
      ]
     },
     "metadata": {
      "needs_background": "light"
     },
     "output_type": "display_data"
    }
   ],
   "source": [
    "data['lux_home'].hist()"
   ]
  },
  {
   "cell_type": "markdown",
   "id": "f469f7b4-e1df-40c3-bbc7-b7a771012770",
   "metadata": {},
   "source": [
    "## One-Hot Enconder"
   ]
  },
  {
   "cell_type": "code",
   "execution_count": 13,
   "id": "3d7f90d2-09af-44d0-aa1b-706a8fe3aac2",
   "metadata": {},
   "outputs": [
    {
     "data": {
      "text/html": [
       "<div>\n",
       "<style scoped>\n",
       "    .dataframe tbody tr th:only-of-type {\n",
       "        vertical-align: middle;\n",
       "    }\n",
       "\n",
       "    .dataframe tbody tr th {\n",
       "        vertical-align: top;\n",
       "    }\n",
       "\n",
       "    .dataframe thead th {\n",
       "        text-align: right;\n",
       "    }\n",
       "</style>\n",
       "<table border=\"1\" class=\"dataframe\">\n",
       "  <thead>\n",
       "    <tr style=\"text-align: right;\">\n",
       "      <th></th>\n",
       "      <th>parking</th>\n",
       "      <th>mainroad_no</th>\n",
       "      <th>mainroad_yes</th>\n",
       "      <th>guestroom_no</th>\n",
       "      <th>guestroom_yes</th>\n",
       "      <th>basement_no</th>\n",
       "      <th>basement_yes</th>\n",
       "      <th>hotwaterheating_no</th>\n",
       "      <th>hotwaterheating_yes</th>\n",
       "      <th>airconditioning_no</th>\n",
       "      <th>airconditioning_yes</th>\n",
       "      <th>prefarea_no</th>\n",
       "      <th>prefarea_yes</th>\n",
       "    </tr>\n",
       "  </thead>\n",
       "  <tbody>\n",
       "    <tr>\n",
       "      <th>0</th>\n",
       "      <td>2</td>\n",
       "      <td>0</td>\n",
       "      <td>1</td>\n",
       "      <td>1</td>\n",
       "      <td>0</td>\n",
       "      <td>1</td>\n",
       "      <td>0</td>\n",
       "      <td>1</td>\n",
       "      <td>0</td>\n",
       "      <td>0</td>\n",
       "      <td>1</td>\n",
       "      <td>0</td>\n",
       "      <td>1</td>\n",
       "    </tr>\n",
       "    <tr>\n",
       "      <th>1</th>\n",
       "      <td>3</td>\n",
       "      <td>0</td>\n",
       "      <td>1</td>\n",
       "      <td>1</td>\n",
       "      <td>0</td>\n",
       "      <td>1</td>\n",
       "      <td>0</td>\n",
       "      <td>1</td>\n",
       "      <td>0</td>\n",
       "      <td>0</td>\n",
       "      <td>1</td>\n",
       "      <td>1</td>\n",
       "      <td>0</td>\n",
       "    </tr>\n",
       "    <tr>\n",
       "      <th>2</th>\n",
       "      <td>2</td>\n",
       "      <td>0</td>\n",
       "      <td>1</td>\n",
       "      <td>1</td>\n",
       "      <td>0</td>\n",
       "      <td>0</td>\n",
       "      <td>1</td>\n",
       "      <td>1</td>\n",
       "      <td>0</td>\n",
       "      <td>1</td>\n",
       "      <td>0</td>\n",
       "      <td>0</td>\n",
       "      <td>1</td>\n",
       "    </tr>\n",
       "    <tr>\n",
       "      <th>3</th>\n",
       "      <td>3</td>\n",
       "      <td>0</td>\n",
       "      <td>1</td>\n",
       "      <td>1</td>\n",
       "      <td>0</td>\n",
       "      <td>0</td>\n",
       "      <td>1</td>\n",
       "      <td>1</td>\n",
       "      <td>0</td>\n",
       "      <td>0</td>\n",
       "      <td>1</td>\n",
       "      <td>0</td>\n",
       "      <td>1</td>\n",
       "    </tr>\n",
       "    <tr>\n",
       "      <th>4</th>\n",
       "      <td>2</td>\n",
       "      <td>0</td>\n",
       "      <td>1</td>\n",
       "      <td>0</td>\n",
       "      <td>1</td>\n",
       "      <td>0</td>\n",
       "      <td>1</td>\n",
       "      <td>1</td>\n",
       "      <td>0</td>\n",
       "      <td>0</td>\n",
       "      <td>1</td>\n",
       "      <td>1</td>\n",
       "      <td>0</td>\n",
       "    </tr>\n",
       "  </tbody>\n",
       "</table>\n",
       "</div>"
      ],
      "text/plain": [
       "   parking  mainroad_no  mainroad_yes  guestroom_no  guestroom_yes  \\\n",
       "0        2            0             1             1              0   \n",
       "1        3            0             1             1              0   \n",
       "2        2            0             1             1              0   \n",
       "3        3            0             1             1              0   \n",
       "4        2            0             1             0              1   \n",
       "\n",
       "   basement_no  basement_yes  hotwaterheating_no  hotwaterheating_yes  \\\n",
       "0            1             0                   1                    0   \n",
       "1            1             0                   1                    0   \n",
       "2            0             1                   1                    0   \n",
       "3            0             1                   1                    0   \n",
       "4            0             1                   1                    0   \n",
       "\n",
       "   airconditioning_no  airconditioning_yes  prefarea_no  prefarea_yes  \n",
       "0                   0                    1            0             1  \n",
       "1                   0                    1            1             0  \n",
       "2                   1                    0            0             1  \n",
       "3                   0                    1            0             1  \n",
       "4                   0                    1            1             0  "
      ]
     },
     "execution_count": 13,
     "metadata": {},
     "output_type": "execute_result"
    }
   ],
   "source": [
    "data_dummies = pd.get_dummies(data[cat_cols])\n",
    "data_dummies.head()"
   ]
  },
  {
   "cell_type": "code",
   "execution_count": 14,
   "id": "4042db54-a29a-48df-a916-8650e6a246fa",
   "metadata": {},
   "outputs": [
    {
     "data": {
      "text/plain": [
       "0     8\n",
       "1    11\n",
       "2     7\n",
       "3     9\n",
       "4     7\n",
       "Name: lux_home, dtype: int64"
      ]
     },
     "execution_count": 14,
     "metadata": {},
     "output_type": "execute_result"
    }
   ],
   "source": [
    "data_ord = data['lux_home']\n",
    "data_ord.head()"
   ]
  },
  {
   "cell_type": "code",
   "execution_count": 15,
   "id": "c4cb51b1-3798-458c-b53e-3facaf1b43ca",
   "metadata": {},
   "outputs": [
    {
     "data": {
      "text/plain": [
       "(545, 15)"
      ]
     },
     "execution_count": 15,
     "metadata": {},
     "output_type": "execute_result"
    }
   ],
   "source": [
    "list_df = [\n",
    "    data[['price']], # doble corchete cuadrado para hacer un dataframe de un columna\n",
    "    data_dummies,\n",
    "    data_ord,\n",
    "]\n",
    "\n",
    "data_fe = pd.concat(list_df, axis=1)\n",
    "data_fe.shape"
   ]
  },
  {
   "cell_type": "code",
   "execution_count": 16,
   "id": "aafc285b-5906-45de-a05b-e736558addb3",
   "metadata": {},
   "outputs": [
    {
     "data": {
      "text/html": [
       "<div>\n",
       "<style scoped>\n",
       "    .dataframe tbody tr th:only-of-type {\n",
       "        vertical-align: middle;\n",
       "    }\n",
       "\n",
       "    .dataframe tbody tr th {\n",
       "        vertical-align: top;\n",
       "    }\n",
       "\n",
       "    .dataframe thead th {\n",
       "        text-align: right;\n",
       "    }\n",
       "</style>\n",
       "<table border=\"1\" class=\"dataframe\">\n",
       "  <thead>\n",
       "    <tr style=\"text-align: right;\">\n",
       "      <th></th>\n",
       "      <th>price</th>\n",
       "      <th>parking</th>\n",
       "      <th>mainroad_no</th>\n",
       "      <th>mainroad_yes</th>\n",
       "      <th>guestroom_no</th>\n",
       "      <th>guestroom_yes</th>\n",
       "      <th>basement_no</th>\n",
       "      <th>basement_yes</th>\n",
       "      <th>hotwaterheating_no</th>\n",
       "      <th>hotwaterheating_yes</th>\n",
       "      <th>airconditioning_no</th>\n",
       "      <th>airconditioning_yes</th>\n",
       "      <th>prefarea_no</th>\n",
       "      <th>prefarea_yes</th>\n",
       "      <th>lux_home</th>\n",
       "    </tr>\n",
       "  </thead>\n",
       "  <tbody>\n",
       "    <tr>\n",
       "      <th>0</th>\n",
       "      <td>13300000</td>\n",
       "      <td>2</td>\n",
       "      <td>0</td>\n",
       "      <td>1</td>\n",
       "      <td>1</td>\n",
       "      <td>0</td>\n",
       "      <td>1</td>\n",
       "      <td>0</td>\n",
       "      <td>1</td>\n",
       "      <td>0</td>\n",
       "      <td>0</td>\n",
       "      <td>1</td>\n",
       "      <td>0</td>\n",
       "      <td>1</td>\n",
       "      <td>8</td>\n",
       "    </tr>\n",
       "    <tr>\n",
       "      <th>1</th>\n",
       "      <td>12250000</td>\n",
       "      <td>3</td>\n",
       "      <td>0</td>\n",
       "      <td>1</td>\n",
       "      <td>1</td>\n",
       "      <td>0</td>\n",
       "      <td>1</td>\n",
       "      <td>0</td>\n",
       "      <td>1</td>\n",
       "      <td>0</td>\n",
       "      <td>0</td>\n",
       "      <td>1</td>\n",
       "      <td>1</td>\n",
       "      <td>0</td>\n",
       "      <td>11</td>\n",
       "    </tr>\n",
       "    <tr>\n",
       "      <th>2</th>\n",
       "      <td>12250000</td>\n",
       "      <td>2</td>\n",
       "      <td>0</td>\n",
       "      <td>1</td>\n",
       "      <td>1</td>\n",
       "      <td>0</td>\n",
       "      <td>0</td>\n",
       "      <td>1</td>\n",
       "      <td>1</td>\n",
       "      <td>0</td>\n",
       "      <td>1</td>\n",
       "      <td>0</td>\n",
       "      <td>0</td>\n",
       "      <td>1</td>\n",
       "      <td>7</td>\n",
       "    </tr>\n",
       "    <tr>\n",
       "      <th>3</th>\n",
       "      <td>12215000</td>\n",
       "      <td>3</td>\n",
       "      <td>0</td>\n",
       "      <td>1</td>\n",
       "      <td>1</td>\n",
       "      <td>0</td>\n",
       "      <td>0</td>\n",
       "      <td>1</td>\n",
       "      <td>1</td>\n",
       "      <td>0</td>\n",
       "      <td>0</td>\n",
       "      <td>1</td>\n",
       "      <td>0</td>\n",
       "      <td>1</td>\n",
       "      <td>9</td>\n",
       "    </tr>\n",
       "    <tr>\n",
       "      <th>4</th>\n",
       "      <td>11410000</td>\n",
       "      <td>2</td>\n",
       "      <td>0</td>\n",
       "      <td>1</td>\n",
       "      <td>0</td>\n",
       "      <td>1</td>\n",
       "      <td>0</td>\n",
       "      <td>1</td>\n",
       "      <td>1</td>\n",
       "      <td>0</td>\n",
       "      <td>0</td>\n",
       "      <td>1</td>\n",
       "      <td>1</td>\n",
       "      <td>0</td>\n",
       "      <td>7</td>\n",
       "    </tr>\n",
       "    <tr>\n",
       "      <th>...</th>\n",
       "      <td>...</td>\n",
       "      <td>...</td>\n",
       "      <td>...</td>\n",
       "      <td>...</td>\n",
       "      <td>...</td>\n",
       "      <td>...</td>\n",
       "      <td>...</td>\n",
       "      <td>...</td>\n",
       "      <td>...</td>\n",
       "      <td>...</td>\n",
       "      <td>...</td>\n",
       "      <td>...</td>\n",
       "      <td>...</td>\n",
       "      <td>...</td>\n",
       "      <td>...</td>\n",
       "    </tr>\n",
       "    <tr>\n",
       "      <th>540</th>\n",
       "      <td>1820000</td>\n",
       "      <td>2</td>\n",
       "      <td>0</td>\n",
       "      <td>1</td>\n",
       "      <td>1</td>\n",
       "      <td>0</td>\n",
       "      <td>0</td>\n",
       "      <td>1</td>\n",
       "      <td>1</td>\n",
       "      <td>0</td>\n",
       "      <td>1</td>\n",
       "      <td>0</td>\n",
       "      <td>1</td>\n",
       "      <td>0</td>\n",
       "      <td>5</td>\n",
       "    </tr>\n",
       "    <tr>\n",
       "      <th>541</th>\n",
       "      <td>1767150</td>\n",
       "      <td>0</td>\n",
       "      <td>1</td>\n",
       "      <td>0</td>\n",
       "      <td>1</td>\n",
       "      <td>0</td>\n",
       "      <td>1</td>\n",
       "      <td>0</td>\n",
       "      <td>1</td>\n",
       "      <td>0</td>\n",
       "      <td>1</td>\n",
       "      <td>0</td>\n",
       "      <td>1</td>\n",
       "      <td>0</td>\n",
       "      <td>4</td>\n",
       "    </tr>\n",
       "    <tr>\n",
       "      <th>542</th>\n",
       "      <td>1750000</td>\n",
       "      <td>0</td>\n",
       "      <td>0</td>\n",
       "      <td>1</td>\n",
       "      <td>1</td>\n",
       "      <td>0</td>\n",
       "      <td>1</td>\n",
       "      <td>0</td>\n",
       "      <td>1</td>\n",
       "      <td>0</td>\n",
       "      <td>1</td>\n",
       "      <td>0</td>\n",
       "      <td>1</td>\n",
       "      <td>0</td>\n",
       "      <td>3</td>\n",
       "    </tr>\n",
       "    <tr>\n",
       "      <th>543</th>\n",
       "      <td>1750000</td>\n",
       "      <td>0</td>\n",
       "      <td>1</td>\n",
       "      <td>0</td>\n",
       "      <td>1</td>\n",
       "      <td>0</td>\n",
       "      <td>1</td>\n",
       "      <td>0</td>\n",
       "      <td>1</td>\n",
       "      <td>0</td>\n",
       "      <td>1</td>\n",
       "      <td>0</td>\n",
       "      <td>1</td>\n",
       "      <td>0</td>\n",
       "      <td>4</td>\n",
       "    </tr>\n",
       "    <tr>\n",
       "      <th>544</th>\n",
       "      <td>1750000</td>\n",
       "      <td>0</td>\n",
       "      <td>0</td>\n",
       "      <td>1</td>\n",
       "      <td>1</td>\n",
       "      <td>0</td>\n",
       "      <td>1</td>\n",
       "      <td>0</td>\n",
       "      <td>1</td>\n",
       "      <td>0</td>\n",
       "      <td>1</td>\n",
       "      <td>0</td>\n",
       "      <td>1</td>\n",
       "      <td>0</td>\n",
       "      <td>4</td>\n",
       "    </tr>\n",
       "  </tbody>\n",
       "</table>\n",
       "<p>545 rows × 15 columns</p>\n",
       "</div>"
      ],
      "text/plain": [
       "        price  parking  mainroad_no  mainroad_yes  guestroom_no  \\\n",
       "0    13300000        2            0             1             1   \n",
       "1    12250000        3            0             1             1   \n",
       "2    12250000        2            0             1             1   \n",
       "3    12215000        3            0             1             1   \n",
       "4    11410000        2            0             1             0   \n",
       "..        ...      ...          ...           ...           ...   \n",
       "540   1820000        2            0             1             1   \n",
       "541   1767150        0            1             0             1   \n",
       "542   1750000        0            0             1             1   \n",
       "543   1750000        0            1             0             1   \n",
       "544   1750000        0            0             1             1   \n",
       "\n",
       "     guestroom_yes  basement_no  basement_yes  hotwaterheating_no  \\\n",
       "0                0            1             0                   1   \n",
       "1                0            1             0                   1   \n",
       "2                0            0             1                   1   \n",
       "3                0            0             1                   1   \n",
       "4                1            0             1                   1   \n",
       "..             ...          ...           ...                 ...   \n",
       "540              0            0             1                   1   \n",
       "541              0            1             0                   1   \n",
       "542              0            1             0                   1   \n",
       "543              0            1             0                   1   \n",
       "544              0            1             0                   1   \n",
       "\n",
       "     hotwaterheating_yes  airconditioning_no  airconditioning_yes  \\\n",
       "0                      0                   0                    1   \n",
       "1                      0                   0                    1   \n",
       "2                      0                   1                    0   \n",
       "3                      0                   0                    1   \n",
       "4                      0                   0                    1   \n",
       "..                   ...                 ...                  ...   \n",
       "540                    0                   1                    0   \n",
       "541                    0                   1                    0   \n",
       "542                    0                   1                    0   \n",
       "543                    0                   1                    0   \n",
       "544                    0                   1                    0   \n",
       "\n",
       "     prefarea_no  prefarea_yes  lux_home  \n",
       "0              0             1         8  \n",
       "1              1             0        11  \n",
       "2              0             1         7  \n",
       "3              0             1         9  \n",
       "4              1             0         7  \n",
       "..           ...           ...       ...  \n",
       "540            1             0         5  \n",
       "541            1             0         4  \n",
       "542            1             0         3  \n",
       "543            1             0         4  \n",
       "544            1             0         4  \n",
       "\n",
       "[545 rows x 15 columns]"
      ]
     },
     "execution_count": 16,
     "metadata": {},
     "output_type": "execute_result"
    }
   ],
   "source": [
    "data_fe"
   ]
  },
  {
   "cell_type": "markdown",
   "id": "68f7a0fe-8830-46b6-b444-51e97bc01328",
   "metadata": {},
   "source": [
    "## Train Model"
   ]
  },
  {
   "cell_type": "code",
   "execution_count": 17,
   "id": "0ff02cba-2b38-4371-84dc-6d0466aaee4a",
   "metadata": {},
   "outputs": [],
   "source": [
    "from sklearn.model_selection import train_test_split\n",
    "\n",
    "cols = data_fe.columns\n",
    "X = data_fe[[col for col in cols if col != 'price']]\n",
    "y = data['price']/1.0e6\n",
    "\n",
    "X_train, X_test, y_train, y_test = train_test_split(X, y, test_size=0.3)"
   ]
  },
  {
   "cell_type": "code",
   "execution_count": 18,
   "id": "cea0b187-8897-4ddd-bf96-0a39d671424d",
   "metadata": {},
   "outputs": [
    {
     "data": {
      "text/plain": [
       "Lasso()"
      ]
     },
     "execution_count": 18,
     "metadata": {},
     "output_type": "execute_result"
    }
   ],
   "source": [
    "from sklearn.linear_model import LinearRegression, Ridge, Lasso\n",
    "\n",
    "lr = LinearRegression()\n",
    "ridge = Ridge()\n",
    "lasso = Lasso()\n",
    "\n",
    "\n",
    "lr.fit(X_train, y_train)\n",
    "ridge.fit(X_train, y_train)\n",
    "lasso.fit(X_train, y_train)"
   ]
  },
  {
   "cell_type": "code",
   "execution_count": 19,
   "id": "ce69147b-ebf7-4705-83be-8a34a178eaac",
   "metadata": {},
   "outputs": [],
   "source": [
    "y_pred_lr    = lr.predict(X_test)\n",
    "y_pred_ridge = ridge.predict(X_test)\n",
    "y_pred_lasso = lasso.predict(X_test)"
   ]
  },
  {
   "cell_type": "markdown",
   "id": "f4d08716-7650-4268-8c0b-1b4eced2d52c",
   "metadata": {},
   "source": [
    "## Gŕaficos residuales"
   ]
  },
  {
   "cell_type": "code",
   "execution_count": 20,
   "id": "be2107d6-2641-4392-9908-a787c49c024b",
   "metadata": {},
   "outputs": [
    {
     "data": {
      "text/plain": [
       "Text(0.5, 0, 'Predictions')"
      ]
     },
     "execution_count": 20,
     "metadata": {},
     "output_type": "execute_result"
    },
    {
     "data": {
      "image/png": "[encoded data removed]",
      "text/plain": [
       "<Figure size 432x288 with 1 Axes>"
      ]
     },
     "metadata": {
      "needs_background": "light"
     },
     "output_type": "display_data"
    }
   ],
   "source": [
    "plt.scatter(y_pred_lr ,    y_test-y_pred_lr,    color='orange', label='Lin. Reg')\n",
    "plt.scatter(y_pred_ridge , y_test-y_pred_ridge, color='blue',   label='Ridge. Reg')\n",
    "plt.scatter(y_pred_lasso , y_test-y_pred_lasso, color='red',    label='Lasso. Reg')\n",
    "\n",
    "plt.legend()\n",
    "\n",
    "plt.ylabel('Residuals')\n",
    "plt.xlabel('Predictions')"
   ]
  },
  {
   "cell_type": "code",
   "execution_count": 21,
   "id": "8d76c66b-2edc-4aa1-9670-410088a6c806",
   "metadata": {},
   "outputs": [
    {
     "data": {
      "text/plain": [
       "Text(0, 0.5, 'Frequency')"
      ]
     },
     "execution_count": 21,
     "metadata": {},
     "output_type": "execute_result"
    },
    {
     "data": {
      "image/png": "[encoded data removed]",
      "text/plain": [
       "<Figure size 432x288 with 1 Axes>"
      ]
     },
     "metadata": {
      "needs_background": "light"
     },
     "output_type": "display_data"
    }
   ],
   "source": [
    "plt.hist(y_test-y_pred_lr,    bins=30, color='orange', label='Lin. Reg',   alpha=0.3)\n",
    "plt.hist(y_test-y_pred_ridge, bins=30, color='blue',   label='Ridge. Reg', alpha=0.3)\n",
    "plt.hist(y_test-y_pred_lasso, bins=30, color='red',    label='Lasso. Reg', alpha=0.3)\n",
    "\n",
    "plt.legend()\n",
    "plt.xlabel('Residuals')\n",
    "plt.ylabel('Frequency')"
   ]
  },
  {
   "cell_type": "code",
   "execution_count": 22,
   "id": "7d4a554c-4429-46a0-8b66-4befd32b8f41",
   "metadata": {},
   "outputs": [
    {
     "name": "stdout",
     "output_type": "stream",
     "text": [
      "Model MSE R2\n",
      "Lineal. Reg 1.5401079080227007 0.5367070349199725\n",
      "Ridge.  Reg 1.5403674420322648 0.5366289622860982\n",
      "Lasso.  Reg 2.5852077332421137 0.22232166340911907\n"
     ]
    }
   ],
   "source": [
    "from sklearn.metrics import mean_squared_error, r2_score\n",
    "\n",
    "print('Model', 'MSE', 'R2')\n",
    "print('Lineal. Reg', mean_squared_error(y_test, y_pred_lr),    r2_score(y_test, y_pred_lr) )\n",
    "print('Ridge.  Reg', mean_squared_error(y_test, y_pred_ridge), r2_score(y_test, y_pred_ridge) )\n",
    "print('Lasso.  Reg', mean_squared_error(y_test, y_pred_lasso), r2_score(y_test, y_pred_lasso) )"
   ]
  },
  {
   "cell_type": "markdown",
   "id": "091e5b4e-bea3-4f60-89d0-03ca1efcf3e4",
   "metadata": {
    "tags": []
   },
   "source": [
    "## QQ Plot"
   ]
  },
  {
   "cell_type": "code",
   "execution_count": 23,
   "id": "b0d226da-38a7-42c9-9c41-df8739eb13df",
   "metadata": {},
   "outputs": [
    {
     "data": {
      "text/plain": [
       "[<matplotlib.lines.Line2D at 0x7ff276084fd0>]"
      ]
     },
     "execution_count": 23,
     "metadata": {},
     "output_type": "execute_result"
    },
    {
     "data": {
      "image/png": "[encoded data removed]",
      "text/plain": [
       "<Figure size 432x288 with 1 Axes>"
      ]
     },
     "metadata": {
      "needs_background": "light"
     },
     "output_type": "display_data"
    }
   ],
   "source": [
    "plt.scatter(np.sort(y_pred_lr), np.sort(y_test))\n",
    "plt.plot([np.min(y_test), np.max(y_test)], [np.min(y_test), np.max(y_test)], color='red')"
   ]
  },
  {
   "cell_type": "markdown",
   "id": "41441454-495e-4005-8df8-d50b44ef1fe9",
   "metadata": {},
   "source": [
    "# Redes Neuronales"
   ]
  },
  {
   "cell_type": "markdown",
   "id": "1c49fe84-cdb2-4390-81f5-795d54a6e473",
   "metadata": {},
   "source": [
    "## Data Transformation"
   ]
  },
  {
   "cell_type": "code",
   "execution_count": 24,
   "id": "d85cbc28-0782-4979-a4f9-680ba957fb76",
   "metadata": {},
   "outputs": [],
   "source": [
    "from sklearn.preprocessing import LabelEncoder\n",
    "\n",
    "le = LabelEncoder()\n",
    "\n",
    "data['mainroad_code']         = le.fit_transform(data['mainroad'])\n",
    "data['guestroom_code']        = le.fit_transform(data['guestroom'])\n",
    "data['basement_code']         = le.fit_transform(data['basement'])\n",
    "data['hotwaterheating_code']  = le.fit_transform(data['hotwaterheating'])\n",
    "data['airconditioning_code']  = le.fit_transform(data['airconditioning'])\n",
    "data['parking_code']          = le.fit_transform(data['parking'])\n",
    "data['prefarea_code']         = le.fit_transform(data['prefarea'])\n",
    "data['furnishingstatus_code'] = le.fit_transform(data['furnishingstatus'])\n",
    "\n",
    "data['log_area']       = np.log(data['area'] + 0.1)\n",
    "data['log_bedrooms']   = np.log(data['bedrooms'] + 0.1)\n",
    "data['log_bathrooms']  = np.log(data['bathrooms'] + 0.1)\n",
    "data['log_stories']    = np.log(data['stories'] + 0.1)\n",
    "\n",
    "\n",
    "#data['log_price'] = np.log(data['price'] + 0.1)"
   ]
  },
  {
   "cell_type": "code",
   "execution_count": 25,
   "id": "b6f568d2-c566-41b0-a5db-083546a9b5d3",
   "metadata": {},
   "outputs": [
    {
     "data": {
      "text/html": [
       "<div>\n",
       "<style scoped>\n",
       "    .dataframe tbody tr th:only-of-type {\n",
       "        vertical-align: middle;\n",
       "    }\n",
       "\n",
       "    .dataframe tbody tr th {\n",
       "        vertical-align: top;\n",
       "    }\n",
       "\n",
       "    .dataframe thead th {\n",
       "        text-align: right;\n",
       "    }\n",
       "</style>\n",
       "<table border=\"1\" class=\"dataframe\">\n",
       "  <thead>\n",
       "    <tr style=\"text-align: right;\">\n",
       "      <th></th>\n",
       "      <th>price</th>\n",
       "      <th>mainroad_code</th>\n",
       "      <th>guestroom_code</th>\n",
       "      <th>basement_code</th>\n",
       "      <th>hotwaterheating_code</th>\n",
       "      <th>airconditioning_code</th>\n",
       "      <th>parking_code</th>\n",
       "      <th>prefarea_code</th>\n",
       "      <th>furnishingstatus_code</th>\n",
       "      <th>log_area</th>\n",
       "      <th>log_bedrooms</th>\n",
       "      <th>log_bathrooms</th>\n",
       "      <th>log_stories</th>\n",
       "    </tr>\n",
       "  </thead>\n",
       "  <tbody>\n",
       "    <tr>\n",
       "      <th>0</th>\n",
       "      <td>13300000</td>\n",
       "      <td>1</td>\n",
       "      <td>0</td>\n",
       "      <td>0</td>\n",
       "      <td>0</td>\n",
       "      <td>1</td>\n",
       "      <td>2</td>\n",
       "      <td>1</td>\n",
       "      <td>0</td>\n",
       "      <td>8.911948</td>\n",
       "      <td>1.410987</td>\n",
       "      <td>0.741937</td>\n",
       "      <td>1.131402</td>\n",
       "    </tr>\n",
       "    <tr>\n",
       "      <th>1</th>\n",
       "      <td>12250000</td>\n",
       "      <td>1</td>\n",
       "      <td>0</td>\n",
       "      <td>0</td>\n",
       "      <td>0</td>\n",
       "      <td>1</td>\n",
       "      <td>3</td>\n",
       "      <td>0</td>\n",
       "      <td>0</td>\n",
       "      <td>9.100537</td>\n",
       "      <td>1.410987</td>\n",
       "      <td>1.410987</td>\n",
       "      <td>1.410987</td>\n",
       "    </tr>\n",
       "    <tr>\n",
       "      <th>2</th>\n",
       "      <td>12250000</td>\n",
       "      <td>1</td>\n",
       "      <td>0</td>\n",
       "      <td>1</td>\n",
       "      <td>0</td>\n",
       "      <td>0</td>\n",
       "      <td>2</td>\n",
       "      <td>1</td>\n",
       "      <td>1</td>\n",
       "      <td>9.206342</td>\n",
       "      <td>1.131402</td>\n",
       "      <td>0.741937</td>\n",
       "      <td>0.741937</td>\n",
       "    </tr>\n",
       "    <tr>\n",
       "      <th>3</th>\n",
       "      <td>12215000</td>\n",
       "      <td>1</td>\n",
       "      <td>0</td>\n",
       "      <td>1</td>\n",
       "      <td>0</td>\n",
       "      <td>1</td>\n",
       "      <td>3</td>\n",
       "      <td>1</td>\n",
       "      <td>0</td>\n",
       "      <td>8.922672</td>\n",
       "      <td>1.410987</td>\n",
       "      <td>0.741937</td>\n",
       "      <td>0.741937</td>\n",
       "    </tr>\n",
       "    <tr>\n",
       "      <th>4</th>\n",
       "      <td>11410000</td>\n",
       "      <td>1</td>\n",
       "      <td>1</td>\n",
       "      <td>1</td>\n",
       "      <td>0</td>\n",
       "      <td>1</td>\n",
       "      <td>2</td>\n",
       "      <td>0</td>\n",
       "      <td>0</td>\n",
       "      <td>8.911948</td>\n",
       "      <td>1.410987</td>\n",
       "      <td>0.095310</td>\n",
       "      <td>0.741937</td>\n",
       "    </tr>\n",
       "  </tbody>\n",
       "</table>\n",
       "</div>"
      ],
      "text/plain": [
       "      price  mainroad_code  guestroom_code  basement_code  \\\n",
       "0  13300000              1               0              0   \n",
       "1  12250000              1               0              0   \n",
       "2  12250000              1               0              1   \n",
       "3  12215000              1               0              1   \n",
       "4  11410000              1               1              1   \n",
       "\n",
       "   hotwaterheating_code  airconditioning_code  parking_code  prefarea_code  \\\n",
       "0                     0                     1             2              1   \n",
       "1                     0                     1             3              0   \n",
       "2                     0                     0             2              1   \n",
       "3                     0                     1             3              1   \n",
       "4                     0                     1             2              0   \n",
       "\n",
       "   furnishingstatus_code  log_area  log_bedrooms  log_bathrooms  log_stories  \n",
       "0                      0  8.911948      1.410987       0.741937     1.131402  \n",
       "1                      0  9.100537      1.410987       1.410987     1.410987  \n",
       "2                      1  9.206342      1.131402       0.741937     0.741937  \n",
       "3                      0  8.922672      1.410987       0.741937     0.741937  \n",
       "4                      0  8.911948      1.410987       0.095310     0.741937  "
      ]
     },
     "execution_count": 25,
     "metadata": {},
     "output_type": "execute_result"
    }
   ],
   "source": [
    "data=data.drop(['area_cat','lux_home','mainroad','guestroom','basement','hotwaterheating','airconditioning','parking','prefarea','furnishingstatus','area','bedrooms','bathrooms', 'stories'],axis=1)\n",
    "data.head()"
   ]
  },
  {
   "cell_type": "code",
   "execution_count": 26,
   "id": "0038fe59-6344-45ef-b1bf-70c094ab2216",
   "metadata": {},
   "outputs": [
    {
     "data": {
      "text/plain": [
       "price                    0\n",
       "mainroad_code            0\n",
       "guestroom_code           0\n",
       "basement_code            0\n",
       "hotwaterheating_code     0\n",
       "airconditioning_code     0\n",
       "parking_code             0\n",
       "prefarea_code            0\n",
       "furnishingstatus_code    0\n",
       "log_area                 0\n",
       "log_bedrooms             0\n",
       "log_bathrooms            0\n",
       "log_stories              0\n",
       "dtype: int64"
      ]
     },
     "execution_count": 26,
     "metadata": {},
     "output_type": "execute_result"
    }
   ],
   "source": [
    "data.fillna(0, inplace=True)\n",
    "data.isna().sum()"
   ]
  },
  {
   "cell_type": "code",
   "execution_count": 27,
   "id": "6d190a10-e12c-44a8-90dd-057e3a62a353",
   "metadata": {},
   "outputs": [
    {
     "name": "stdout",
     "output_type": "stream",
     "text": [
      "X shape (545, 12)\n",
      "y shape (545,)\n",
      "X Test shape (164, 12)\n",
      "X Test shape (164,)\n",
      "X train shape (381, 12)\n",
      "X train shape (381,)\n"
     ]
    }
   ],
   "source": [
    "from sklearn.model_selection import train_test_split\n",
    "\n",
    "y = data['furnishingstatus_code'].values\n",
    "X = data.drop('furnishingstatus_code', axis=1).values\n",
    "\n",
    "print('X shape', X.shape)\n",
    "print('y shape', y.shape)\n",
    "\n",
    "X_train, X_test, y_train, y_test = train_test_split(X, y, test_size=0.3)\n",
    "\n",
    "\n",
    "print('X Test shape',X_test.shape)\n",
    "print('X Test shape',y_test.shape)\n",
    "\n",
    "print('X train shape',X_train.shape)\n",
    "print('X train shape',y_train.shape)"
   ]
  },
  {
   "cell_type": "code",
   "execution_count": 28,
   "id": "2c3dab8a-4e00-4d30-a85b-f1ec712813f8",
   "metadata": {},
   "outputs": [],
   "source": [
    "from sklearn.preprocessing import StandardScaler\n",
    "\n",
    "scaler = StandardScaler()\n",
    "scaler.fit(X_train)\n",
    "\n",
    "X_train = scaler.transform(X_train)\n",
    "X_test  = scaler.transform(X_test)"
   ]
  },
  {
   "cell_type": "code",
   "execution_count": 29,
   "id": "d211d9da-f87e-415e-ac90-69c1476b4584",
   "metadata": {},
   "outputs": [
    {
     "name": "stderr",
     "output_type": "stream",
     "text": [
      "2022-06-11 10:01:38.555926: W tensorflow/stream_executor/platform/default/dso_loader.cc:64] Could not load dynamic library 'libcuda.so.1'; dlerror: libcuda.so.1: cannot open shared object file: No such file or directory\n",
      "2022-06-11 10:01:38.555971: W tensorflow/stream_executor/cuda/cuda_driver.cc:269] failed call to cuInit: UNKNOWN ERROR (303)\n",
      "2022-06-11 10:01:38.556005: I tensorflow/stream_executor/cuda/cuda_diagnostics.cc:156] kernel driver does not appear to be running on this host (ctovar-espbigdata): /proc/driver/nvidia/version does not exist\n",
      "2022-06-11 10:01:38.556389: I tensorflow/core/platform/cpu_feature_guard.cc:193] This TensorFlow binary is optimized with oneAPI Deep Neural Network Library (oneDNN) to use the following CPU instructions in performance-critical operations:  AVX2 FMA\n",
      "To enable them in other operations, rebuild TensorFlow with the appropriate compiler flags.\n"
     ]
    }
   ],
   "source": [
    "model = keras.models.Sequential([\n",
    "    keras.layers.Dense(5, input_shape=(X_train.shape[1],), activation='relu'),\n",
    "    keras.layers.Dense(1, activation='sigmoid')\n",
    "])"
   ]
  },
  {
   "cell_type": "code",
   "execution_count": 30,
   "id": "67de52c1-02ac-40ff-9e59-c8aa0108895f",
   "metadata": {},
   "outputs": [
    {
     "name": "stdout",
     "output_type": "stream",
     "text": [
      "Model: \"sequential\"\n",
      "_________________________________________________________________\n",
      " Layer (type)                Output Shape              Param #   \n",
      "=================================================================\n",
      " dense (Dense)               (None, 5)                 65        \n",
      "                                                                 \n",
      " dense_1 (Dense)             (None, 1)                 6         \n",
      "                                                                 \n",
      "=================================================================\n",
      "Total params: 71\n",
      "Trainable params: 71\n",
      "Non-trainable params: 0\n",
      "_________________________________________________________________\n"
     ]
    }
   ],
   "source": [
    "model.summary()"
   ]
  },
  {
   "cell_type": "code",
   "execution_count": 31,
   "id": "a93715f3-1955-45d3-b625-84979a78b102",
   "metadata": {},
   "outputs": [],
   "source": [
    "model.compile(\n",
    "    loss='binary_crossentropy',\n",
    "    optimizer='adam',\n",
    "    metrics  = ['accuracy']\n",
    ")"
   ]
  },
  {
   "cell_type": "code",
   "execution_count": 32,
   "id": "9af00d95-3885-4e6d-a4fe-b16cbd0360d8",
   "metadata": {},
   "outputs": [
    {
     "name": "stdout",
     "output_type": "stream",
     "text": [
      "Epoch 1/30\n",
      "12/12 [==============================] - 1s 17ms/step - loss: 0.9167 - accuracy: 0.2625 - val_loss: 0.8933 - val_accuracy: 0.3659\n",
      "Epoch 2/30\n",
      "12/12 [==============================] - 0s 4ms/step - loss: 0.8701 - accuracy: 0.2835 - val_loss: 0.8528 - val_accuracy: 0.3598\n",
      "Epoch 3/30\n",
      "12/12 [==============================] - 0s 4ms/step - loss: 0.8283 - accuracy: 0.2966 - val_loss: 0.8133 - val_accuracy: 0.3415\n",
      "Epoch 4/30\n",
      "12/12 [==============================] - 0s 4ms/step - loss: 0.7881 - accuracy: 0.2835 - val_loss: 0.7766 - val_accuracy: 0.3720\n",
      "Epoch 5/30\n",
      "12/12 [==============================] - 0s 4ms/step - loss: 0.7487 - accuracy: 0.3150 - val_loss: 0.7437 - val_accuracy: 0.4024\n",
      "Epoch 6/30\n",
      "12/12 [==============================] - 0s 4ms/step - loss: 0.7135 - accuracy: 0.3307 - val_loss: 0.7098 - val_accuracy: 0.4268\n",
      "Epoch 7/30\n",
      "12/12 [==============================] - 0s 4ms/step - loss: 0.6780 - accuracy: 0.3386 - val_loss: 0.6788 - val_accuracy: 0.4207\n",
      "Epoch 8/30\n",
      "12/12 [==============================] - 0s 4ms/step - loss: 0.6438 - accuracy: 0.3438 - val_loss: 0.6497 - val_accuracy: 0.4329\n",
      "Epoch 9/30\n",
      "12/12 [==============================] - 0s 4ms/step - loss: 0.6117 - accuracy: 0.3517 - val_loss: 0.6209 - val_accuracy: 0.4390\n",
      "Epoch 10/30\n",
      "12/12 [==============================] - 0s 4ms/step - loss: 0.5812 - accuracy: 0.3517 - val_loss: 0.5922 - val_accuracy: 0.4329\n",
      "Epoch 11/30\n",
      "12/12 [==============================] - 0s 4ms/step - loss: 0.5499 - accuracy: 0.3438 - val_loss: 0.5656 - val_accuracy: 0.4329\n",
      "Epoch 12/30\n",
      "12/12 [==============================] - 0s 4ms/step - loss: 0.5209 - accuracy: 0.3570 - val_loss: 0.5394 - val_accuracy: 0.4268\n",
      "Epoch 13/30\n",
      "12/12 [==============================] - 0s 4ms/step - loss: 0.4913 - accuracy: 0.3701 - val_loss: 0.5138 - val_accuracy: 0.4268\n",
      "Epoch 14/30\n",
      "12/12 [==============================] - 0s 4ms/step - loss: 0.4631 - accuracy: 0.3780 - val_loss: 0.4885 - val_accuracy: 0.4207\n",
      "Epoch 15/30\n",
      "12/12 [==============================] - 0s 4ms/step - loss: 0.4342 - accuracy: 0.3911 - val_loss: 0.4645 - val_accuracy: 0.4207\n",
      "Epoch 16/30\n",
      "12/12 [==============================] - 0s 4ms/step - loss: 0.4069 - accuracy: 0.3990 - val_loss: 0.4399 - val_accuracy: 0.4146\n",
      "Epoch 17/30\n",
      "12/12 [==============================] - 0s 4ms/step - loss: 0.3791 - accuracy: 0.3990 - val_loss: 0.4158 - val_accuracy: 0.4146\n",
      "Epoch 18/30\n",
      "12/12 [==============================] - 0s 4ms/step - loss: 0.3520 - accuracy: 0.4068 - val_loss: 0.3915 - val_accuracy: 0.4268\n",
      "Epoch 19/30\n",
      "12/12 [==============================] - 0s 4ms/step - loss: 0.3240 - accuracy: 0.4068 - val_loss: 0.3680 - val_accuracy: 0.4268\n",
      "Epoch 20/30\n",
      "12/12 [==============================] - 0s 4ms/step - loss: 0.2978 - accuracy: 0.4147 - val_loss: 0.3433 - val_accuracy: 0.4207\n",
      "Epoch 21/30\n",
      "12/12 [==============================] - 0s 4ms/step - loss: 0.2698 - accuracy: 0.4147 - val_loss: 0.3204 - val_accuracy: 0.4268\n",
      "Epoch 22/30\n",
      "12/12 [==============================] - 0s 4ms/step - loss: 0.2437 - accuracy: 0.4147 - val_loss: 0.2967 - val_accuracy: 0.4268\n",
      "Epoch 23/30\n",
      "12/12 [==============================] - 0s 4ms/step - loss: 0.2164 - accuracy: 0.4147 - val_loss: 0.2733 - val_accuracy: 0.4268\n",
      "Epoch 24/30\n",
      "12/12 [==============================] - 0s 4ms/step - loss: 0.1899 - accuracy: 0.4121 - val_loss: 0.2499 - val_accuracy: 0.4329\n",
      "Epoch 25/30\n",
      "12/12 [==============================] - 0s 4ms/step - loss: 0.1638 - accuracy: 0.4121 - val_loss: 0.2266 - val_accuracy: 0.4268\n",
      "Epoch 26/30\n",
      "12/12 [==============================] - 0s 4ms/step - loss: 0.1371 - accuracy: 0.4121 - val_loss: 0.2037 - val_accuracy: 0.4268\n",
      "Epoch 27/30\n",
      "12/12 [==============================] - 0s 4ms/step - loss: 0.1109 - accuracy: 0.4121 - val_loss: 0.1805 - val_accuracy: 0.4268\n",
      "Epoch 28/30\n",
      "12/12 [==============================] - 0s 4ms/step - loss: 0.0843 - accuracy: 0.4147 - val_loss: 0.1589 - val_accuracy: 0.4268\n",
      "Epoch 29/30\n",
      "12/12 [==============================] - 0s 4ms/step - loss: 0.0610 - accuracy: 0.4147 - val_loss: 0.1346 - val_accuracy: 0.4268\n",
      "Epoch 30/30\n",
      "12/12 [==============================] - 0s 4ms/step - loss: 0.0338 - accuracy: 0.4147 - val_loss: 0.1120 - val_accuracy: 0.4268\n"
     ]
    }
   ],
   "source": [
    "history = model.fit(\n",
    "    X_train,\n",
    "    y_train,\n",
    "    epochs=30,\n",
    "    validation_data=(X_test, y_test)\n",
    ")"
   ]
  },
  {
   "cell_type": "code",
   "execution_count": 33,
   "id": "a39491d0-38b8-4421-b7a3-08e42738799a",
   "metadata": {},
   "outputs": [
    {
     "data": {
      "image/png": "[encoded data removed]",
      "text/plain": [
       "<Figure size 432x288 with 1 Axes>"
      ]
     },
     "metadata": {
      "needs_background": "light"
     },
     "output_type": "display_data"
    }
   ],
   "source": [
    "pd.DataFrame(history.history).plot()\n",
    "plt.grid()"
   ]
  },
  {
   "cell_type": "code",
   "execution_count": 34,
   "id": "1187ec46-54fb-47ba-86e2-8b64927ac627",
   "metadata": {},
   "outputs": [
    {
     "name": "stdout",
     "output_type": "stream",
     "text": [
      "6/6 [==============================] - 0s 1ms/step\n"
     ]
    }
   ],
   "source": [
    "y_pred = model.predict(X_test)"
   ]
  },
  {
   "cell_type": "code",
   "execution_count": 35,
   "id": "6aa5c022-25df-4bb2-9166-9af4e6be25a4",
   "metadata": {},
   "outputs": [
    {
     "data": {
      "text/plain": [
       "[<matplotlib.lines.Line2D at 0x7ff26d74ea90>]"
      ]
     },
     "execution_count": 35,
     "metadata": {},
     "output_type": "execute_result"
    },
    {
     "data": {
      "image/png": "[encoded data removed]",
      "text/plain": [
       "<Figure size 432x288 with 1 Axes>"
      ]
     },
     "metadata": {
      "needs_background": "light"
     },
     "output_type": "display_data"
    }
   ],
   "source": [
    "plt.plot(np.sort(y_pred.flatten()))\n",
    "plt.plot(np.sort(np.round(y_pred.flatten())))\n",
    "plt.plot(np.sort(y_test.flatten())) "
   ]
  },
  {
   "cell_type": "code",
   "execution_count": 36,
   "id": "5a33f44e-68f6-4a81-9ded-c4a3fc87d14b",
   "metadata": {},
   "outputs": [],
   "source": [
    "y_pred_round = np.round(y_pred.flatten())"
   ]
  },
  {
   "cell_type": "code",
   "execution_count": 37,
   "id": "4302db7e-1967-425a-a75a-b334590528b2",
   "metadata": {},
   "outputs": [
    {
     "data": {
      "text/plain": [
       "array([1., 1., 1., 1., 1., 1., 1., 1., 1., 1., 1., 1., 1., 1., 1., 1., 1.,\n",
       "       1., 1., 1., 1., 1., 1., 1., 1., 1., 1., 1., 1., 1., 1., 1., 1., 1.,\n",
       "       1., 1., 1., 1., 1., 1., 1., 1., 1., 1., 1., 1., 1., 1., 1., 1., 1.,\n",
       "       1., 1., 1., 1., 1., 1., 1., 1., 1., 1., 1., 1., 1., 1., 1., 1., 1.,\n",
       "       1., 1., 1., 1., 1., 1., 1., 1., 1., 1., 1., 1., 1., 1., 1., 1., 1.,\n",
       "       1., 1., 1., 1., 1., 1., 1., 1., 1., 1., 1., 1., 1., 1., 1., 1., 1.,\n",
       "       1., 1., 1., 1., 1., 1., 1., 1., 1., 1., 1., 1., 1., 1., 1., 1., 1.,\n",
       "       1., 1., 1., 1., 0., 1., 1., 1., 1., 1., 1., 1., 1., 1., 1., 1., 1.,\n",
       "       1., 1., 1., 1., 1., 1., 1., 1., 1., 1., 1., 1., 1., 1., 1., 1., 1.,\n",
       "       1., 1., 1., 1., 1., 1., 0., 1., 1., 1., 1.], dtype=float32)"
      ]
     },
     "execution_count": 37,
     "metadata": {},
     "output_type": "execute_result"
    }
   ],
   "source": [
    "y_pred_round"
   ]
  },
  {
   "cell_type": "code",
   "execution_count": 38,
   "id": "3ec64587-dba1-4e8f-ac4d-03906c06baeb",
   "metadata": {},
   "outputs": [
    {
     "data": {
      "text/plain": [
       "<AxesSubplot:>"
      ]
     },
     "execution_count": 38,
     "metadata": {},
     "output_type": "execute_result"
    },
    {
     "data": {
      "image/png": "[encoded data removed]",
      "text/plain": [
       "<Figure size 432x288 with 2 Axes>"
      ]
     },
     "metadata": {
      "needs_background": "light"
     },
     "output_type": "display_data"
    }
   ],
   "source": [
    "from sklearn.metrics import confusion_matrix\n",
    "\n",
    "sns.heatmap(\n",
    "    confusion_matrix(y_test, y_pred_round, normalize='true'),\n",
    "    annot=True,\n",
    "    cmap='Reds'\n",
    ")"
   ]
  },
  {
   "cell_type": "code",
   "execution_count": 39,
   "id": "86481ec4-c12c-4679-8101-70387e51ed06",
   "metadata": {},
   "outputs": [
    {
     "data": {
      "text/plain": [
       "{0: 1.3655913978494623, 1: 0.7987421383647799, 2: 0.9844961240310077}"
      ]
     },
     "execution_count": 39,
     "metadata": {},
     "output_type": "execute_result"
    }
   ],
   "source": [
    "from sklearn.utils.class_weight import compute_class_weight\n",
    "class_weights = compute_class_weight(\n",
    "    class_weight = \"balanced\",\n",
    "    classes= np.unique(y_train),\n",
    "    y= y_train\n",
    ")\n",
    "\n",
    "class_weights = dict(zip(np.unique(y_train), class_weights))\n",
    "class_weights"
   ]
  },
  {
   "cell_type": "code",
   "execution_count": 40,
   "id": "2a68f579-2896-4afe-b211-acf14055cbd3",
   "metadata": {},
   "outputs": [
    {
     "name": "stdout",
     "output_type": "stream",
     "text": [
      "Epoch 1/30\n",
      "12/12 [==============================] - 1s 35ms/step - loss: 0.6194 - accuracy: 0.3753 - val_loss: 0.5494 - val_accuracy: 0.3171\n",
      "Epoch 2/30\n",
      "12/12 [==============================] - 0s 4ms/step - loss: 0.5679 - accuracy: 0.3780 - val_loss: 0.4921 - val_accuracy: 0.3232\n",
      "Epoch 3/30\n",
      "12/12 [==============================] - 0s 4ms/step - loss: 0.5161 - accuracy: 0.3780 - val_loss: 0.4419 - val_accuracy: 0.3232\n",
      "Epoch 4/30\n",
      "12/12 [==============================] - 0s 4ms/step - loss: 0.4695 - accuracy: 0.3727 - val_loss: 0.3976 - val_accuracy: 0.3354\n",
      "Epoch 5/30\n",
      "12/12 [==============================] - 0s 4ms/step - loss: 0.4286 - accuracy: 0.3806 - val_loss: 0.3532 - val_accuracy: 0.3598\n",
      "Epoch 6/30\n",
      "12/12 [==============================] - 0s 4ms/step - loss: 0.3880 - accuracy: 0.3753 - val_loss: 0.3136 - val_accuracy: 0.3598\n",
      "Epoch 7/30\n",
      "12/12 [==============================] - 0s 4ms/step - loss: 0.3522 - accuracy: 0.3780 - val_loss: 0.2730 - val_accuracy: 0.3902\n",
      "Epoch 8/30\n",
      "12/12 [==============================] - 0s 4ms/step - loss: 0.3152 - accuracy: 0.3885 - val_loss: 0.2367 - val_accuracy: 0.4085\n",
      "Epoch 9/30\n",
      "12/12 [==============================] - 0s 4ms/step - loss: 0.2834 - accuracy: 0.3990 - val_loss: 0.2003 - val_accuracy: 0.4207\n",
      "Epoch 10/30\n",
      "12/12 [==============================] - 0s 4ms/step - loss: 0.2489 - accuracy: 0.4042 - val_loss: 0.1686 - val_accuracy: 0.4268\n",
      "Epoch 11/30\n",
      "12/12 [==============================] - 0s 4ms/step - loss: 0.2213 - accuracy: 0.3963 - val_loss: 0.1352 - val_accuracy: 0.4268\n",
      "Epoch 12/30\n",
      "12/12 [==============================] - 0s 4ms/step - loss: 0.1913 - accuracy: 0.3963 - val_loss: 0.1036 - val_accuracy: 0.4268\n",
      "Epoch 13/30\n",
      "12/12 [==============================] - 0s 4ms/step - loss: 0.1626 - accuracy: 0.3990 - val_loss: 0.0738 - val_accuracy: 0.4329\n",
      "Epoch 14/30\n",
      "12/12 [==============================] - 0s 4ms/step - loss: 0.1362 - accuracy: 0.3990 - val_loss: 0.0446 - val_accuracy: 0.4268\n",
      "Epoch 15/30\n",
      "12/12 [==============================] - 0s 4ms/step - loss: 0.1132 - accuracy: 0.3963 - val_loss: 0.0119 - val_accuracy: 0.4268\n",
      "Epoch 16/30\n",
      "12/12 [==============================] - 0s 4ms/step - loss: 0.0849 - accuracy: 0.3937 - val_loss: -0.0158 - val_accuracy: 0.4146\n",
      "Epoch 17/30\n",
      "12/12 [==============================] - 0s 4ms/step - loss: 0.0609 - accuracy: 0.3937 - val_loss: -0.0447 - val_accuracy: 0.4146\n",
      "Epoch 18/30\n",
      "12/12 [==============================] - 0s 4ms/step - loss: 0.0364 - accuracy: 0.3885 - val_loss: -0.0734 - val_accuracy: 0.4146\n",
      "Epoch 19/30\n",
      "12/12 [==============================] - 0s 4ms/step - loss: 0.0102 - accuracy: 0.3911 - val_loss: -0.0986 - val_accuracy: 0.4146\n",
      "Epoch 20/30\n",
      "12/12 [==============================] - 0s 4ms/step - loss: -0.0130 - accuracy: 0.3963 - val_loss: -0.1264 - val_accuracy: 0.4146\n",
      "Epoch 21/30\n",
      "12/12 [==============================] - 0s 4ms/step - loss: -0.0365 - accuracy: 0.4016 - val_loss: -0.1558 - val_accuracy: 0.4146\n",
      "Epoch 22/30\n",
      "12/12 [==============================] - 0s 4ms/step - loss: -0.0597 - accuracy: 0.4016 - val_loss: -0.1850 - val_accuracy: 0.4207\n",
      "Epoch 23/30\n",
      "12/12 [==============================] - 0s 4ms/step - loss: -0.0859 - accuracy: 0.4016 - val_loss: -0.2116 - val_accuracy: 0.4207\n",
      "Epoch 24/30\n",
      "12/12 [==============================] - 0s 4ms/step - loss: -0.1080 - accuracy: 0.4016 - val_loss: -0.2426 - val_accuracy: 0.4207\n",
      "Epoch 25/30\n",
      "12/12 [==============================] - 0s 4ms/step - loss: -0.1329 - accuracy: 0.3990 - val_loss: -0.2707 - val_accuracy: 0.4268\n",
      "Epoch 26/30\n",
      "12/12 [==============================] - 0s 4ms/step - loss: -0.1547 - accuracy: 0.3990 - val_loss: -0.3038 - val_accuracy: 0.4268\n",
      "Epoch 27/30\n",
      "12/12 [==============================] - 0s 4ms/step - loss: -0.1802 - accuracy: 0.4042 - val_loss: -0.3340 - val_accuracy: 0.4268\n",
      "Epoch 28/30\n",
      "12/12 [==============================] - 0s 4ms/step - loss: -0.2066 - accuracy: 0.4042 - val_loss: -0.3608 - val_accuracy: 0.4268\n",
      "Epoch 29/30\n",
      "12/12 [==============================] - 0s 4ms/step - loss: -0.2289 - accuracy: 0.4068 - val_loss: -0.3898 - val_accuracy: 0.4268\n",
      "Epoch 30/30\n",
      "12/12 [==============================] - 0s 4ms/step - loss: -0.2525 - accuracy: 0.4042 - val_loss: -0.4194 - val_accuracy: 0.4451\n"
     ]
    }
   ],
   "source": [
    "model_cw= keras.models.Sequential([\n",
    "    keras.layers.Dense(10,input_shape=(X_train.shape[1],),activation='relu'),\n",
    "    keras.layers.Dense(1, activation='sigmoid')\n",
    "])\n",
    "\n",
    "model_cw.compile(\n",
    "    loss='binary_crossentropy',\n",
    "    optimizer='adam',\n",
    "    metrics  = ['accuracy']\n",
    ")\n",
    "\n",
    "history = model_cw.fit(\n",
    "    X_train,\n",
    "    y_train,\n",
    "    # batch_size=\n",
    "    epochs=30,\n",
    "    validation_data=(X_test, y_test),\n",
    "    class_weight=class_weights\n",
    ")"
   ]
  },
  {
   "cell_type": "code",
   "execution_count": 41,
   "id": "2a3e77d5-e589-4ff8-a97d-8b28efbe60dd",
   "metadata": {},
   "outputs": [
    {
     "name": "stdout",
     "output_type": "stream",
     "text": [
      "6/6 [==============================] - 0s 1ms/step\n"
     ]
    },
    {
     "data": {
      "text/plain": [
       "<AxesSubplot:>"
      ]
     },
     "execution_count": 41,
     "metadata": {},
     "output_type": "execute_result"
    },
    {
     "data": {
      "image/png": "[encoded data removed]",
      "text/plain": [
       "<Figure size 432x288 with 2 Axes>"
      ]
     },
     "metadata": {
      "needs_background": "light"
     },
     "output_type": "display_data"
    }
   ],
   "source": [
    "y_pred = model_cw.predict(X_test)\n",
    "y_pred_round = np.round(y_pred.flatten())\n",
    "\n",
    "from sklearn.metrics import confusion_matrix\n",
    "\n",
    "sns.heatmap(\n",
    "    confusion_matrix(y_test, y_pred_round, normalize='true'),\n",
    "    annot=True,\n",
    "    cmap='Reds'\n",
    ")"
   ]
  },
  {
   "cell_type": "code",
   "execution_count": null,
   "id": "ae1eb97e-792c-468c-bf69-63238ff59c5c",
   "metadata": {},
   "outputs": [],
   "source": []
  }
 ],
 "metadata": {
  "environment": {
   "kernel": "python3",
   "name": "common-cpu.m90",
   "type": "gcloud",
   "uri": "gcr.io/deeplearning-platform-release/base-cpu:m90"
  },
  "kernelspec": {
   "display_name": "Python 3",
   "language": "python",
   "name": "python3"
  },
  "language_info": {
   "codemirror_mode": {
    "name": "ipython",
    "version": 3
   },
   "file_extension": ".py",
   "mimetype": "text/x-python",
   "name": "python",
   "nbconvert_exporter": "python",
   "pygments_lexer": "ipython3",
   "version": "3.7.12"
  }
 },
 "nbformat": 4,
 "nbformat_minor": 5
}
