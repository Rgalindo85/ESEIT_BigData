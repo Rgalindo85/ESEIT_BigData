{
 "cells": [
  {
   "cell_type": "markdown",
   "id": "12f95dc4-607a-481f-9f54-936cc82fa2e9",
   "metadata": {},
   "source": [
    "## Read and clean a single file\n",
    "____________\n",
    "Nombre: Elkin Fernando Ayala "
   ]
  },
  {
   "cell_type": "code",
   "execution_count": 4,
   "id": "03a54150-bb46-4915-97dd-2986f68f4ed9",
   "metadata": {
    "tags": []
   },
   "outputs": [],
   "source": [
    "import os\n",
    "import sys\n",
    "import logging\n",
    "import pandas as pd\n",
    "import matplotlib.pyplot as plt\n",
    "import datetime\n",
    "\n",
    "from pandas_profiling import ProfileReport\n",
    "\n",
    "#reinicio de Kernel\n",
    "%load_ext autoreload \n",
    "#Reinicio en carpetas para tomar nuevos cambios\n",
    "%autoreload 2 \n",
    "\n",
    "project_dir = os.path.dirname(os.path.abspath('.')) # get the path of the project, if doesn't work use os.getcwd() instead and use rfind to find the project dir\n",
    "sys.path.append(os.path.join(project_dir, 'src', 'data'))\n",
    "\n",
    "from data_manipulator import get_input_data\n",
    "\n",
    "bucket = 'esp_bigdata_elkinayala'\n",
    "directory = 'bigdata'"
   ]
  },
  {
   "cell_type": "markdown",
   "id": "7b71d030-1b8f-4730-9332-70a55aa9936c",
   "metadata": {
    "tags": []
   },
   "source": [
    "**Read Metadata**\n",
    "-------\n",
    "General info for each relevant column"
   ]
  },
  {
   "cell_type": "code",
   "execution_count": 5,
   "id": "d9eb7f80-1cc4-418c-8b7f-4c44db6e1920",
   "metadata": {},
   "outputs": [
    {
     "data": {
      "text/html": [
       "<div>\n",
       "<style scoped>\n",
       "    .dataframe tbody tr th:only-of-type {\n",
       "        vertical-align: middle;\n",
       "    }\n",
       "\n",
       "    .dataframe tbody tr th {\n",
       "        vertical-align: top;\n",
       "    }\n",
       "\n",
       "    .dataframe thead th {\n",
       "        text-align: right;\n",
       "    }\n",
       "</style>\n",
       "<table border=\"1\" class=\"dataframe\">\n",
       "  <thead>\n",
       "    <tr style=\"text-align: right;\">\n",
       "      <th></th>\n",
       "      <th>NOMBRE</th>\n",
       "      <th>DESCRIPCION</th>\n",
       "    </tr>\n",
       "  </thead>\n",
       "  <tbody>\n",
       "    <tr>\n",
       "      <th>0</th>\n",
       "      <td>FECHA_INCIDENTE</td>\n",
       "      <td>Es la fecha el cual se registra la llamada del...</td>\n",
       "    </tr>\n",
       "    <tr>\n",
       "      <th>1</th>\n",
       "      <td>FECHA_INICIO_DESPLAZAMIENTO_MOVIL</td>\n",
       "      <td>Es la fecha el cual se inicia el desplazamient...</td>\n",
       "    </tr>\n",
       "    <tr>\n",
       "      <th>2</th>\n",
       "      <td>CODIGO LOCALIDAD</td>\n",
       "      <td>Es el código de las 20 localidades de la ciuda...</td>\n",
       "    </tr>\n",
       "    <tr>\n",
       "      <th>3</th>\n",
       "      <td>LOCALIDAD</td>\n",
       "      <td>Es la localidad donde sucede el incidente.</td>\n",
       "    </tr>\n",
       "    <tr>\n",
       "      <th>4</th>\n",
       "      <td>EDAD</td>\n",
       "      <td>La edad del paciente.</td>\n",
       "    </tr>\n",
       "    <tr>\n",
       "      <th>5</th>\n",
       "      <td>UNIDAD</td>\n",
       "      <td>La descripción de la edad si es en horas, días...</td>\n",
       "    </tr>\n",
       "    <tr>\n",
       "      <th>6</th>\n",
       "      <td>GENERO</td>\n",
       "      <td>Es la  distinción de genero del paciente</td>\n",
       "    </tr>\n",
       "    <tr>\n",
       "      <th>7</th>\n",
       "      <td>RED</td>\n",
       "      <td>Es la localización a nivel bogota de la red de...</td>\n",
       "    </tr>\n",
       "    <tr>\n",
       "      <th>8</th>\n",
       "      <td>TIPO_INCIDENTE</td>\n",
       "      <td>Es la descripción inicial que tipifica el cent...</td>\n",
       "    </tr>\n",
       "    <tr>\n",
       "      <th>9</th>\n",
       "      <td>PRIORIDAD</td>\n",
       "      <td>Es la tipificación según la prioridad del inci...</td>\n",
       "    </tr>\n",
       "    <tr>\n",
       "      <th>10</th>\n",
       "      <td>MES</td>\n",
       "      <td>Es el mes el cual ocurrió el incidente.</td>\n",
       "    </tr>\n",
       "    <tr>\n",
       "      <th>11</th>\n",
       "      <td>CLASIFICACION FINAL</td>\n",
       "      <td>Es la clasificación final que entrega el centr...</td>\n",
       "    </tr>\n",
       "  </tbody>\n",
       "</table>\n",
       "</div>"
      ],
      "text/plain": [
       "                               NOMBRE  \\\n",
       "0                     FECHA_INCIDENTE   \n",
       "1   FECHA_INICIO_DESPLAZAMIENTO_MOVIL   \n",
       "2                    CODIGO LOCALIDAD   \n",
       "3                           LOCALIDAD   \n",
       "4                                EDAD   \n",
       "5                              UNIDAD   \n",
       "6                              GENERO   \n",
       "7                                 RED   \n",
       "8                      TIPO_INCIDENTE   \n",
       "9                           PRIORIDAD   \n",
       "10                                MES   \n",
       "11                CLASIFICACION FINAL   \n",
       "\n",
       "                                          DESCRIPCION  \n",
       "0   Es la fecha el cual se registra la llamada del...  \n",
       "1   Es la fecha el cual se inicia el desplazamient...  \n",
       "2   Es el código de las 20 localidades de la ciuda...  \n",
       "3          Es la localidad donde sucede el incidente.  \n",
       "4                               La edad del paciente.  \n",
       "5   La descripción de la edad si es en horas, días...  \n",
       "6            Es la  distinción de genero del paciente  \n",
       "7   Es la localización a nivel bogota de la red de...  \n",
       "8   Es la descripción inicial que tipifica el cent...  \n",
       "9   Es la tipificación según la prioridad del inci...  \n",
       "10            Es el mes el cual ocurrió el incidente.  \n",
       "11  Es la clasificación final que entrega el centr...  "
      ]
     },
     "execution_count": 5,
     "metadata": {},
     "output_type": "execute_result"
    }
   ],
   "source": [
    "file = 'gs://{}/{}/data/metadatos-llamadas-urg-y-emer.csv'.format(bucket, directory)\n",
    "df_metadata = pd.read_csv(file, encoding='latin1', sep=';')\n",
    "df_metadata"
   ]
  },
  {
   "cell_type": "markdown",
   "id": "1166b904-7b43-4665-a3bc-1754f65cc031",
   "metadata": {
    "tags": []
   },
   "source": [
    "## Read datos-abiertos-julio-2019"
   ]
  },
  {
   "cell_type": "code",
   "execution_count": 6,
   "id": "db7c7e76-4d62-48c4-84cd-592e17a4d923",
   "metadata": {},
   "outputs": [
    {
     "name": "stdout",
     "output_type": "stream",
     "text": [
      "<class 'pandas.core.frame.DataFrame'>\n",
      "RangeIndex: 14560 entries, 0 to 14559\n",
      "Data columns (total 12 columns):\n",
      " #   Column                             Non-Null Count  Dtype \n",
      "---  ------                             --------------  ----- \n",
      " 0   FECHA_INCIDENTE                    14560 non-null  object\n",
      " 1   FECHA_INICIO_DESPLAZAMIENTO-MOVIL  14560 non-null  object\n",
      " 2   CODIGO DE LOCALIDAD                14560 non-null  int64 \n",
      " 3   LOCALIDAD                          14560 non-null  object\n",
      " 4   EDAD                               14560 non-null  object\n",
      " 5   UNIDAD                             14560 non-null  object\n",
      " 6   GENERO                             14560 non-null  object\n",
      " 7   RED                                14560 non-null  object\n",
      " 8   TIPO_INCIDENTE                     14560 non-null  object\n",
      " 9   PRIORIDAD                          14560 non-null  object\n",
      " 10  MES                                14560 non-null  object\n",
      " 11  CLASIFICACION FINAL                13035 non-null  object\n",
      "dtypes: int64(1), object(11)\n",
      "memory usage: 1.3+ MB\n",
      "None\n"
     ]
    }
   ],
   "source": [
    "raw_data_jul2019 = get_input_data(\n",
    "    bucket            = bucket,\n",
    "    initial_directory = directory,\n",
    "    filename          = 'datos-abiertos-julio-2019.csv'\n",
    ")\n",
    "print(raw_data_jul2019.info())"
   ]
  },
  {
   "cell_type": "code",
   "execution_count": 7,
   "id": "06945442-7a07-41fa-b17a-4225030260e4",
   "metadata": {},
   "outputs": [
    {
     "name": "stdout",
     "output_type": "stream",
     "text": [
      "<class 'pandas.core.frame.DataFrame'>\n",
      "RangeIndex: 14560 entries, 0 to 14559\n",
      "Data columns (total 11 columns):\n",
      " #   Column                             Non-Null Count  Dtype \n",
      "---  ------                             --------------  ----- \n",
      " 0   FECHA_INICIO_DESPLAZAMIENTO-MOVIL  14560 non-null  object\n",
      " 1   CODIGO DE LOCALIDAD                14560 non-null  int64 \n",
      " 2   LOCALIDAD                          14560 non-null  object\n",
      " 3   EDAD                               14560 non-null  object\n",
      " 4   UNIDAD                             14560 non-null  object\n",
      " 5   GENERO                             14560 non-null  object\n",
      " 6   RED                                14560 non-null  object\n",
      " 7   TIPO_INCIDENTE                     14560 non-null  object\n",
      " 8   PRIORIDAD                          14560 non-null  object\n",
      " 9   MES                                14560 non-null  object\n",
      " 10  CLASIFICACION FINAL                13035 non-null  object\n",
      "dtypes: int64(1), object(10)\n",
      "memory usage: 1.2+ MB\n"
     ]
    }
   ],
   "source": [
    "raw_data_jul2019.drop('FECHA_INCIDENTE', axis = 1 ).info() #.info() es para saber que podria pasar al hacer lo anterior\n",
    "raw_data_jul2019 = raw_data_jul2019.drop('FECHA_INCIDENTE', axis = 1 )"
   ]
  },
  {
   "cell_type": "code",
   "execution_count": 8,
   "id": "0f36a8ee-3d8c-42db-929c-e13a373d0d86",
   "metadata": {},
   "outputs": [
    {
     "data": {
      "text/html": [
       "<div>\n",
       "<style scoped>\n",
       "    .dataframe tbody tr th:only-of-type {\n",
       "        vertical-align: middle;\n",
       "    }\n",
       "\n",
       "    .dataframe tbody tr th {\n",
       "        vertical-align: top;\n",
       "    }\n",
       "\n",
       "    .dataframe thead th {\n",
       "        text-align: right;\n",
       "    }\n",
       "</style>\n",
       "<table border=\"1\" class=\"dataframe\">\n",
       "  <thead>\n",
       "    <tr style=\"text-align: right;\">\n",
       "      <th></th>\n",
       "      <th>NUMERO_INCIDENTE</th>\n",
       "      <th>FECHA_INICIO_DESPLAZAMIENTO-MOVIL</th>\n",
       "      <th>CODIGO DE LOCALIDAD</th>\n",
       "      <th>LOCALIDAD</th>\n",
       "      <th>EDAD</th>\n",
       "      <th>UNIDAD</th>\n",
       "      <th>GENERO</th>\n",
       "      <th>RED</th>\n",
       "      <th>TIPO_INCIDENTE</th>\n",
       "      <th>PRIORIDAD</th>\n",
       "      <th>MES</th>\n",
       "      <th>CLASIFICACION FINAL</th>\n",
       "    </tr>\n",
       "  </thead>\n",
       "  <tbody>\n",
       "    <tr>\n",
       "      <th>0</th>\n",
       "      <td>SIN_DATO</td>\n",
       "      <td>2019-07-01 00:11:02</td>\n",
       "      <td>8</td>\n",
       "      <td>Kennedy</td>\n",
       "      <td>39</td>\n",
       "      <td>Años</td>\n",
       "      <td>FEMENINO</td>\n",
       "      <td>Norte</td>\n",
       "      <td>Dificultad Respiratoria</td>\n",
       "      <td>ALTA</td>\n",
       "      <td>JULIO</td>\n",
       "      <td>Traslado</td>\n",
       "    </tr>\n",
       "    <tr>\n",
       "      <th>1</th>\n",
       "      <td>SIN_DATO</td>\n",
       "      <td>2019-07-01 00:12:56</td>\n",
       "      <td>19</td>\n",
       "      <td>Ciudad Bolivar</td>\n",
       "      <td>69</td>\n",
       "      <td>Años</td>\n",
       "      <td>MASCULINO</td>\n",
       "      <td>Sur</td>\n",
       "      <td>Inconsciente/Paro Cardiorrespiratorio</td>\n",
       "      <td>ALTA</td>\n",
       "      <td>JULIO</td>\n",
       "      <td>NaN</td>\n",
       "    </tr>\n",
       "    <tr>\n",
       "      <th>2</th>\n",
       "      <td>SIN_DATO</td>\n",
       "      <td>2019-07-01 00:10:26</td>\n",
       "      <td>6</td>\n",
       "      <td>Tunjuelito</td>\n",
       "      <td>25</td>\n",
       "      <td>Años</td>\n",
       "      <td>MASCULINO</td>\n",
       "      <td>Sur</td>\n",
       "      <td>Enfermo</td>\n",
       "      <td>MEDIA</td>\n",
       "      <td>JULIO</td>\n",
       "      <td>Traslado</td>\n",
       "    </tr>\n",
       "    <tr>\n",
       "      <th>3</th>\n",
       "      <td>SIN_DATO</td>\n",
       "      <td>2019-07-01 00:15:47</td>\n",
       "      <td>8</td>\n",
       "      <td>Kennedy</td>\n",
       "      <td>65</td>\n",
       "      <td>Años</td>\n",
       "      <td>MASCULINO</td>\n",
       "      <td>Sur</td>\n",
       "      <td>Lesiones personales</td>\n",
       "      <td>MEDIA</td>\n",
       "      <td>JULIO</td>\n",
       "      <td>Traslado</td>\n",
       "    </tr>\n",
       "    <tr>\n",
       "      <th>4</th>\n",
       "      <td>SIN_DATO</td>\n",
       "      <td>2019-07-01 00:31:13</td>\n",
       "      <td>10</td>\n",
       "      <td>Engativa</td>\n",
       "      <td>SIN_DATO</td>\n",
       "      <td>SIN_DATO</td>\n",
       "      <td>SIN_DATO</td>\n",
       "      <td>Norte</td>\n",
       "      <td>Enfermo</td>\n",
       "      <td>MEDIA</td>\n",
       "      <td>JULIO</td>\n",
       "      <td>Cancelado</td>\n",
       "    </tr>\n",
       "  </tbody>\n",
       "</table>\n",
       "</div>"
      ],
      "text/plain": [
       "  NUMERO_INCIDENTE FECHA_INICIO_DESPLAZAMIENTO-MOVIL  CODIGO DE LOCALIDAD  \\\n",
       "0         SIN_DATO               2019-07-01 00:11:02                    8   \n",
       "1         SIN_DATO               2019-07-01 00:12:56                   19   \n",
       "2         SIN_DATO               2019-07-01 00:10:26                    6   \n",
       "3         SIN_DATO               2019-07-01 00:15:47                    8   \n",
       "4         SIN_DATO               2019-07-01 00:31:13                   10   \n",
       "\n",
       "         LOCALIDAD      EDAD    UNIDAD     GENERO    RED  \\\n",
       "0          Kennedy        39      Años   FEMENINO  Norte   \n",
       "1   Ciudad Bolivar        69      Años  MASCULINO    Sur   \n",
       "2       Tunjuelito        25      Años  MASCULINO    Sur   \n",
       "3          Kennedy        65      Años  MASCULINO    Sur   \n",
       "4         Engativa  SIN_DATO  SIN_DATO   SIN_DATO  Norte   \n",
       "\n",
       "                           TIPO_INCIDENTE PRIORIDAD    MES CLASIFICACION FINAL  \n",
       "0                 Dificultad Respiratoria      ALTA  JULIO            Traslado  \n",
       "1  Inconsciente/Paro Cardiorrespiratorio       ALTA  JULIO                 NaN  \n",
       "2                                 Enfermo     MEDIA  JULIO            Traslado  \n",
       "3                     Lesiones personales     MEDIA  JULIO            Traslado  \n",
       "4                                 Enfermo     MEDIA  JULIO           Cancelado  "
      ]
     },
     "execution_count": 8,
     "metadata": {},
     "output_type": "execute_result"
    }
   ],
   "source": [
    "##Add column NUMERO_INCIDENTE\n",
    "raw_data_jul2019.insert(\n",
    "    loc = 0,\n",
    "    column = 'NUMERO_INCIDENTE',\n",
    "    value = 'SIN_DATO')\n",
    "raw_data_jul2019.head()"
   ]
  },
  {
   "cell_type": "markdown",
   "id": "21f03030-280b-4df5-8398-3dcb90a1857e",
   "metadata": {},
   "source": [
    "**Rename Columns datos-abiertos-julio-2019**"
   ]
  },
  {
   "cell_type": "code",
   "execution_count": 9,
   "id": "17a0be20-805b-42a9-815f-cb08c9dbcd58",
   "metadata": {},
   "outputs": [
    {
     "name": "stdout",
     "output_type": "stream",
     "text": [
      "<class 'pandas.core.frame.DataFrame'>\n",
      "RangeIndex: 14560 entries, 0 to 14559\n",
      "Data columns (total 12 columns):\n",
      " #   Column                             Non-Null Count  Dtype \n",
      "---  ------                             --------------  ----- \n",
      " 0   NUMERO_INCIDENTE                   14560 non-null  object\n",
      " 1   FECHA_INICIO_DESPLAZAMIENTO_MOVIL  14560 non-null  object\n",
      " 2   CODIGO_LOCALIDAD                   14560 non-null  int64 \n",
      " 3   LOCALIDAD                          14560 non-null  object\n",
      " 4   EDAD                               14560 non-null  object\n",
      " 5   UNIDAD                             14560 non-null  object\n",
      " 6   GENERO                             14560 non-null  object\n",
      " 7   RED                                14560 non-null  object\n",
      " 8   TIPO_INCIDENTE                     14560 non-null  object\n",
      " 9   PRIORIDAD                          14560 non-null  object\n",
      " 10  MES                                14560 non-null  object\n",
      " 11  CLASIFICACION_FINAL                13035 non-null  object\n",
      "dtypes: int64(1), object(11)\n",
      "memory usage: 1.3+ MB\n"
     ]
    }
   ],
   "source": [
    "# Don't let white spaces between headers to avoid errors during the pipeline\n",
    "# This is sometimes called a recipe for etl\n",
    "raw_data_jul2019.rename(\n",
    "    columns = {\n",
    "        'FECHA_INICIO_DESPLAZAMIENTO-MOVIL' : 'FECHA_INICIO_DESPLAZAMIENTO_MOVIL',\n",
    "        'CODIGO DE LOCALIDAD'               : 'CODIGO_LOCALIDAD',\n",
    "        'CLASIFICACION FINAL'               : 'CLASIFICACION_FINAL'\n",
    "    },\n",
    "    inplace=True\n",
    ")\n",
    "raw_data_jul2019.info()"
   ]
  },
  {
   "cell_type": "markdown",
   "id": "cc581a58-eeb0-46a6-90a3-0cf2b57cf0c2",
   "metadata": {},
   "source": [
    "**Check values per field datos-abiertos-julio-2019 (LOCALIDAD, GENERO, TIPO_INCIDENTE, CLASIFICACION_FINAL)**"
   ]
  },
  {
   "cell_type": "code",
   "execution_count": 10,
   "id": "df76f8f4-c67e-4d34-a37f-91ebc39e4a44",
   "metadata": {},
   "outputs": [
    {
     "data": {
      "text/plain": [
       " Kennedy               1593\n",
       " Suba                  1548\n",
       "Engativa               1521\n",
       " Bosa                  1122\n",
       " Ciudad Bolivar         994\n",
       "Usaquen                 786\n",
       "San Cristobal           776\n",
       " Rafael Uribe Uribe     741\n",
       "Fontibon                723\n",
       " Puente Aranda          690\n",
       "Usme                    636\n",
       "Chapinero               599\n",
       "Barrios Unidos          516\n",
       "Los Martires            516\n",
       "Santa Fe                489\n",
       "Teusaquillo             464\n",
       "Tunjuelito              462\n",
       " Antonio Nariño         292\n",
       " La Candelaria           91\n",
       " Sumapaz                  1\n",
       "Name: LOCALIDAD, dtype: int64"
      ]
     },
     "execution_count": 10,
     "metadata": {},
     "output_type": "execute_result"
    }
   ],
   "source": [
    "raw_data_jul2019['LOCALIDAD'].value_counts(dropna=False)"
   ]
  },
  {
   "cell_type": "code",
   "execution_count": 11,
   "id": "bebaf0b7-ce49-4dc3-918c-011d40e413c2",
   "metadata": {},
   "outputs": [
    {
     "data": {
      "text/plain": [
       "Kennedy               1593\n",
       "Suba                  1548\n",
       "Engativa              1521\n",
       "Bosa                  1122\n",
       "Ciudad Bolivar         994\n",
       "Usaquen                786\n",
       "San Cristobal          776\n",
       "Rafael Uribe Uribe     741\n",
       "Fontibon               723\n",
       "Puente Aranda          690\n",
       "Usme                   636\n",
       "Chapinero              599\n",
       "Barrios Unidos         516\n",
       "Los Martires           516\n",
       "Santa Fe               489\n",
       "Teusaquillo            464\n",
       "Tunjuelito             462\n",
       "Antonio Nariño         292\n",
       "La Candelaria           91\n",
       "Sumapaz                  1\n",
       "Name: LOCALIDAD, dtype: int64"
      ]
     },
     "execution_count": 11,
     "metadata": {},
     "output_type": "execute_result"
    }
   ],
   "source": [
    "# Let's use the function strip(), this property works for string objects in python that removes whitespaces\n",
    "raw_data_jul2019['LOCALIDAD'].apply(\n",
    "    lambda x: x.strip()        # here we use a lambda function, exclusively for python. Is a one-line function\n",
    ").value_counts()"
   ]
  },
  {
   "cell_type": "code",
   "execution_count": 12,
   "id": "453bd60d-8119-4b83-9024-98615c249c23",
   "metadata": {},
   "outputs": [],
   "source": [
    "raw_data_jul2019['LOCALIDAD'] = raw_data_jul2019['LOCALIDAD'].apply(lambda x: x.strip()) # we assign the output of the function apply to the same column"
   ]
  },
  {
   "cell_type": "code",
   "execution_count": 13,
   "id": "601ca471-d1d7-4310-b97c-bb0348ba31d8",
   "metadata": {},
   "outputs": [
    {
     "data": {
      "text/html": [
       "<div>\n",
       "<style scoped>\n",
       "    .dataframe tbody tr th:only-of-type {\n",
       "        vertical-align: middle;\n",
       "    }\n",
       "\n",
       "    .dataframe tbody tr th {\n",
       "        vertical-align: top;\n",
       "    }\n",
       "\n",
       "    .dataframe thead th {\n",
       "        text-align: right;\n",
       "    }\n",
       "</style>\n",
       "<table border=\"1\" class=\"dataframe\">\n",
       "  <thead>\n",
       "    <tr style=\"text-align: right;\">\n",
       "      <th></th>\n",
       "      <th>NUMERO_INCIDENTE</th>\n",
       "      <th>FECHA_INICIO_DESPLAZAMIENTO_MOVIL</th>\n",
       "      <th>CODIGO_LOCALIDAD</th>\n",
       "      <th>LOCALIDAD</th>\n",
       "      <th>EDAD</th>\n",
       "      <th>UNIDAD</th>\n",
       "      <th>GENERO</th>\n",
       "      <th>RED</th>\n",
       "      <th>TIPO_INCIDENTE</th>\n",
       "      <th>PRIORIDAD</th>\n",
       "      <th>MES</th>\n",
       "      <th>CLASIFICACION_FINAL</th>\n",
       "    </tr>\n",
       "  </thead>\n",
       "  <tbody>\n",
       "    <tr>\n",
       "      <th>0</th>\n",
       "      <td>SIN_DATO</td>\n",
       "      <td>2019-07-01 00:11:02</td>\n",
       "      <td>8</td>\n",
       "      <td>Kennedy</td>\n",
       "      <td>39</td>\n",
       "      <td>Años</td>\n",
       "      <td>FEMENINO</td>\n",
       "      <td>Norte</td>\n",
       "      <td>Dificultad Respiratoria</td>\n",
       "      <td>ALTA</td>\n",
       "      <td>JULIO</td>\n",
       "      <td>Traslado</td>\n",
       "    </tr>\n",
       "    <tr>\n",
       "      <th>1</th>\n",
       "      <td>SIN_DATO</td>\n",
       "      <td>2019-07-01 00:12:56</td>\n",
       "      <td>19</td>\n",
       "      <td>Ciudad Bolivar</td>\n",
       "      <td>69</td>\n",
       "      <td>Años</td>\n",
       "      <td>MASCULINO</td>\n",
       "      <td>Sur</td>\n",
       "      <td>Inconsciente/Paro Cardiorrespiratorio</td>\n",
       "      <td>ALTA</td>\n",
       "      <td>JULIO</td>\n",
       "      <td>NaN</td>\n",
       "    </tr>\n",
       "    <tr>\n",
       "      <th>2</th>\n",
       "      <td>SIN_DATO</td>\n",
       "      <td>2019-07-01 00:10:26</td>\n",
       "      <td>6</td>\n",
       "      <td>Tunjuelito</td>\n",
       "      <td>25</td>\n",
       "      <td>Años</td>\n",
       "      <td>MASCULINO</td>\n",
       "      <td>Sur</td>\n",
       "      <td>Enfermo</td>\n",
       "      <td>MEDIA</td>\n",
       "      <td>JULIO</td>\n",
       "      <td>Traslado</td>\n",
       "    </tr>\n",
       "    <tr>\n",
       "      <th>3</th>\n",
       "      <td>SIN_DATO</td>\n",
       "      <td>2019-07-01 00:15:47</td>\n",
       "      <td>8</td>\n",
       "      <td>Kennedy</td>\n",
       "      <td>65</td>\n",
       "      <td>Años</td>\n",
       "      <td>MASCULINO</td>\n",
       "      <td>Sur</td>\n",
       "      <td>Lesiones personales</td>\n",
       "      <td>MEDIA</td>\n",
       "      <td>JULIO</td>\n",
       "      <td>Traslado</td>\n",
       "    </tr>\n",
       "    <tr>\n",
       "      <th>4</th>\n",
       "      <td>SIN_DATO</td>\n",
       "      <td>2019-07-01 00:31:13</td>\n",
       "      <td>10</td>\n",
       "      <td>Engativa</td>\n",
       "      <td>SIN_DATO</td>\n",
       "      <td>SIN_DATO</td>\n",
       "      <td>SIN_DATO</td>\n",
       "      <td>Norte</td>\n",
       "      <td>Enfermo</td>\n",
       "      <td>MEDIA</td>\n",
       "      <td>JULIO</td>\n",
       "      <td>Cancelado</td>\n",
       "    </tr>\n",
       "  </tbody>\n",
       "</table>\n",
       "</div>"
      ],
      "text/plain": [
       "  NUMERO_INCIDENTE FECHA_INICIO_DESPLAZAMIENTO_MOVIL  CODIGO_LOCALIDAD  \\\n",
       "0         SIN_DATO               2019-07-01 00:11:02                 8   \n",
       "1         SIN_DATO               2019-07-01 00:12:56                19   \n",
       "2         SIN_DATO               2019-07-01 00:10:26                 6   \n",
       "3         SIN_DATO               2019-07-01 00:15:47                 8   \n",
       "4         SIN_DATO               2019-07-01 00:31:13                10   \n",
       "\n",
       "        LOCALIDAD      EDAD    UNIDAD     GENERO    RED  \\\n",
       "0         Kennedy        39      Años   FEMENINO  Norte   \n",
       "1  Ciudad Bolivar        69      Años  MASCULINO    Sur   \n",
       "2      Tunjuelito        25      Años  MASCULINO    Sur   \n",
       "3         Kennedy        65      Años  MASCULINO    Sur   \n",
       "4        Engativa  SIN_DATO  SIN_DATO   SIN_DATO  Norte   \n",
       "\n",
       "                           TIPO_INCIDENTE PRIORIDAD    MES CLASIFICACION_FINAL  \n",
       "0                 Dificultad Respiratoria      ALTA  JULIO            Traslado  \n",
       "1  Inconsciente/Paro Cardiorrespiratorio       ALTA  JULIO                 NaN  \n",
       "2                                 Enfermo     MEDIA  JULIO            Traslado  \n",
       "3                     Lesiones personales     MEDIA  JULIO            Traslado  \n",
       "4                                 Enfermo     MEDIA  JULIO           Cancelado  "
      ]
     },
     "execution_count": 13,
     "metadata": {},
     "output_type": "execute_result"
    }
   ],
   "source": [
    "raw_data_jul2019.head()"
   ]
  },
  {
   "cell_type": "code",
   "execution_count": 14,
   "id": "7c0d9cc2-49fc-4c9a-bdf3-8ae28507f6e2",
   "metadata": {},
   "outputs": [
    {
     "data": {
      "text/plain": [
       "SIN_DATO     6621\n",
       "MASCULINO    4190\n",
       "FEMENINO     3749\n",
       "Name: GENERO, dtype: int64"
      ]
     },
     "execution_count": 14,
     "metadata": {},
     "output_type": "execute_result"
    }
   ],
   "source": [
    "col = 'GENERO'\n",
    "raw_data_jul2019[col] = raw_data_jul2019[col].apply(lambda x: x.strip())\n",
    "raw_data_jul2019[col].value_counts(dropna=False)   # here we could apply the same technique as before to avoid errors"
   ]
  },
  {
   "cell_type": "code",
   "execution_count": 15,
   "id": "17a411d3-ada4-483b-aa96-35995dc6ad1a",
   "metadata": {
    "tags": []
   },
   "outputs": [],
   "source": [
    "#col = 'FECHA_INICIO_DESPLAZAMIENTO_MOVIL'\n",
    "#raw_data_jul2019[col] = pd.to_datetime(raw_data_jul2019[col]).value_counts()"
   ]
  },
  {
   "cell_type": "code",
   "execution_count": 16,
   "id": "085db9de-b7f8-4e9c-832a-885ea1ffd31e",
   "metadata": {},
   "outputs": [
    {
     "name": "stdout",
     "output_type": "stream",
     "text": [
      "<class 'pandas.core.frame.DataFrame'>\n",
      "RangeIndex: 14560 entries, 0 to 14559\n",
      "Data columns (total 12 columns):\n",
      " #   Column                             Non-Null Count  Dtype \n",
      "---  ------                             --------------  ----- \n",
      " 0   NUMERO_INCIDENTE                   14560 non-null  object\n",
      " 1   FECHA_INICIO_DESPLAZAMIENTO_MOVIL  14560 non-null  object\n",
      " 2   CODIGO_LOCALIDAD                   14560 non-null  int64 \n",
      " 3   LOCALIDAD                          14560 non-null  object\n",
      " 4   EDAD                               14560 non-null  object\n",
      " 5   UNIDAD                             14560 non-null  object\n",
      " 6   GENERO                             14560 non-null  object\n",
      " 7   RED                                14560 non-null  object\n",
      " 8   TIPO_INCIDENTE                     14560 non-null  object\n",
      " 9   PRIORIDAD                          14560 non-null  object\n",
      " 10  MES                                14560 non-null  object\n",
      " 11  CLASIFICACION_FINAL                13035 non-null  object\n",
      "dtypes: int64(1), object(11)\n",
      "memory usage: 1.3+ MB\n"
     ]
    }
   ],
   "source": [
    "raw_data_jul2019.info()"
   ]
  },
  {
   "cell_type": "code",
   "execution_count": 17,
   "id": "0d84b255-2666-4250-8674-4915196d2c8c",
   "metadata": {
    "tags": []
   },
   "outputs": [
    {
     "data": {
      "text/plain": [
       "Accidente de tránsito con heridos/Muertos    4261\n",
       "Inconsciente/Paro Cardiorrespiratorio        1623\n",
       "Dificultad Respiratoria                      1398\n",
       "Enfermo                                      1131\n",
       "Convulsiones                                 1011\n",
       "Heridos                                       747\n",
       "Trastorno mental                              709\n",
       "Dolor torácico                                611\n",
       "Lesiones personales                           547\n",
       "Intento de suicidio                           534\n",
       "Patología Gineco - obstétrica                 425\n",
       "Síntomas gastrointestinales                   344\n",
       "Accidente cerebro vascular                    323\n",
       "Caída                                         318\n",
       "Intoxicaciones                                141\n",
       "Ideas de suicidio                             111\n",
       "Violencia Sexual                               41\n",
       "Muerte Natural                                 39\n",
       "SIN_DATO                                       39\n",
       "Incendio estructural                           29\n",
       "Solicitud Apoyo / Desacato                     28\n",
       "Sangrado Vaginal                               21\n",
       "Accidente Tránsito Simple                      14\n",
       "Quemaduras                                     12\n",
       "Riña                                           11\n",
       "Amenaza de Ruina                               10\n",
       "Rescates                                        7\n",
       "Incendio Vehicular                              7\n",
       "Abrir domicilio                                 7\n",
       "Elemento caído y/o en peligro de caer.          7\n",
       "Electrocución / Rescate                         5\n",
       "Fuga de Gas Natural o Propano                   5\n",
       "MATPEL (Materiales peligrosos)                  5\n",
       "Animal Peligroso                                5\n",
       "Maltrato                                        5\n",
       "Explosión                                       4\n",
       "Disparos                                        4\n",
       "Muerto                                          3\n",
       "Persona Pidiendo Auxilio                        3\n",
       "Deslizamiento                                   3\n",
       "Embriaguez                                      3\n",
       "Persona tendida en la vía                       2\n",
       "Habitante de la Calle                           2\n",
       "Extraviados / Desaparecidos                     1\n",
       "Incidente rescate acuático                      1\n",
       "Venta o Consumo alcohol u otro en Menor         1\n",
       "Atraco / Hurto en Proces                        1\n",
       "Rescates Montaña                                1\n",
       "Name: TIPO_INCIDENTE, dtype: int64"
      ]
     },
     "execution_count": 17,
     "metadata": {},
     "output_type": "execute_result"
    }
   ],
   "source": [
    "col = 'TIPO_INCIDENTE'\n",
    "raw_data_jul2019[col] = raw_data_jul2019[col].apply(lambda x: x.strip())\n",
    "raw_data_jul2019[col].value_counts(dropna=False)"
   ]
  },
  {
   "cell_type": "code",
   "execution_count": 18,
   "id": "b6aa28d4-fd99-48d9-b394-2421b459aa06",
   "metadata": {},
   "outputs": [
    {
     "data": {
      "text/plain": [
       "ACCIDENTE DE TRÁNSITO CON HERIDOS/MUERTOS    4261\n",
       "INCONSCIENTE/PARO CARDIORRESPIRATORIO        1623\n",
       "DIFICULTAD RESPIRATORIA                      1398\n",
       "ENFERMO                                      1131\n",
       "CONVULSIONES                                 1011\n",
       "HERIDOS                                       747\n",
       "TRASTORNO MENTAL                              709\n",
       "DOLOR TORÁCICO                                611\n",
       "LESIONES PERSONALES                           547\n",
       "INTENTO DE SUICIDIO                           534\n",
       "PATOLOGÍA GINECO - OBSTÉTRICA                 425\n",
       "SÍNTOMAS GASTROINTESTINALES                   344\n",
       "ACCIDENTE CEREBRO VASCULAR                    323\n",
       "CAÍDA                                         318\n",
       "INTOXICACIONES                                141\n",
       "IDEAS DE SUICIDIO                             111\n",
       "VIOLENCIA SEXUAL                               41\n",
       "MUERTE NATURAL                                 39\n",
       "SIN_DATO                                       39\n",
       "INCENDIO ESTRUCTURAL                           29\n",
       "SOLICITUD APOYO / DESACATO                     28\n",
       "SANGRADO VAGINAL                               21\n",
       "ACCIDENTE TRÁNSITO SIMPLE                      14\n",
       "QUEMADURAS                                     12\n",
       "RIÑA                                           11\n",
       "AMENAZA DE RUINA                               10\n",
       "RESCATES                                        7\n",
       "INCENDIO VEHICULAR                              7\n",
       "ABRIR DOMICILIO                                 7\n",
       "ELEMENTO CAÍDO Y/O EN PELIGRO DE CAER.          7\n",
       "ELECTROCUCIÓN / RESCATE                         5\n",
       "FUGA DE GAS NATURAL O PROPANO                   5\n",
       "MATPEL (MATERIALES PELIGROSOS)                  5\n",
       "ANIMAL PELIGROSO                                5\n",
       "MALTRATO                                        5\n",
       "EXPLOSIÓN                                       4\n",
       "DISPAROS                                        4\n",
       "MUERTO                                          3\n",
       "PERSONA PIDIENDO AUXILIO                        3\n",
       "DESLIZAMIENTO                                   3\n",
       "EMBRIAGUEZ                                      3\n",
       "PERSONA TENDIDA EN LA VÍA                       2\n",
       "HABITANTE DE LA CALLE                           2\n",
       "EXTRAVIADOS / DESAPARECIDOS                     1\n",
       "INCIDENTE RESCATE ACUÁTICO                      1\n",
       "VENTA O CONSUMO ALCOHOL U OTRO EN MENOR         1\n",
       "ATRACO / HURTO EN PROCES                        1\n",
       "RESCATES MONTAÑA                                1\n",
       "Name: TIPO_INCIDENTE, dtype: int64"
      ]
     },
     "execution_count": 18,
     "metadata": {},
     "output_type": "execute_result"
    }
   ],
   "source": [
    "col = 'TIPO_INCIDENTE'\n",
    "raw_data_jul2019[col] = raw_data_jul2019[col].apply(lambda x: x.upper())\n",
    "raw_data_jul2019[col].value_counts(dropna=False)"
   ]
  },
  {
   "cell_type": "code",
   "execution_count": 19,
   "id": "bd81eefa-47fb-42ab-bc44-9101a8a6112b",
   "metadata": {
    "tags": []
   },
   "outputs": [
    {
     "data": {
      "text/plain": [
       "Traslado                       6162\n",
       "Cancelado                      3637\n",
       "SIN_DATO                       1525\n",
       "Trasladado por Otro Recurso    1501\n",
       "Falsa Alarma                   1291\n",
       "No Ubica                        215\n",
       "Desistimiento                   137\n",
       "No Amerita Traslado              64\n",
       "Fallecido                        28\n",
       "Name: CLASIFICACION_FINAL, dtype: int64"
      ]
     },
     "execution_count": 19,
     "metadata": {},
     "output_type": "execute_result"
    }
   ],
   "source": [
    "col = 'CLASIFICACION_FINAL'\n",
    "#raw_data_jul2019[col] = raw_data[col].apply(lambda x: x.strip())\n",
    "raw_data_jul2019[col].value_counts(dropna=False)\n",
    "raw_data_jul2019[col].fillna('SIN_DATO').value_counts()"
   ]
  },
  {
   "cell_type": "code",
   "execution_count": 20,
   "id": "5e7940eb-7677-4944-84a5-7f53fdd233ef",
   "metadata": {},
   "outputs": [],
   "source": [
    "col = 'EDAD'\n",
    "raw_data_jul2019[col].value_counts(dropna=False)\n",
    "raw_data_jul2019[col] = raw_data_jul2019[col].replace('SIN_DATO', -1)#.value_counts()"
   ]
  },
  {
   "cell_type": "code",
   "execution_count": 21,
   "id": "2f60f3a7-f7f8-4deb-bd9a-44beb31260d9",
   "metadata": {},
   "outputs": [
    {
     "data": {
      "text/html": [
       "<div>\n",
       "<style scoped>\n",
       "    .dataframe tbody tr th:only-of-type {\n",
       "        vertical-align: middle;\n",
       "    }\n",
       "\n",
       "    .dataframe tbody tr th {\n",
       "        vertical-align: top;\n",
       "    }\n",
       "\n",
       "    .dataframe thead th {\n",
       "        text-align: right;\n",
       "    }\n",
       "</style>\n",
       "<table border=\"1\" class=\"dataframe\">\n",
       "  <thead>\n",
       "    <tr style=\"text-align: right;\">\n",
       "      <th></th>\n",
       "      <th>NUMERO_INCIDENTE</th>\n",
       "      <th>FECHA_INICIO_DESPLAZAMIENTO_MOVIL</th>\n",
       "      <th>CODIGO_LOCALIDAD</th>\n",
       "      <th>LOCALIDAD</th>\n",
       "      <th>EDAD</th>\n",
       "      <th>UNIDAD</th>\n",
       "      <th>GENERO</th>\n",
       "      <th>RED</th>\n",
       "      <th>TIPO_INCIDENTE</th>\n",
       "      <th>PRIORIDAD</th>\n",
       "      <th>MES</th>\n",
       "      <th>CLASIFICACION_FINAL</th>\n",
       "    </tr>\n",
       "  </thead>\n",
       "  <tbody>\n",
       "    <tr>\n",
       "      <th>0</th>\n",
       "      <td>SIN_DATO</td>\n",
       "      <td>2019-07-01 00:11:02</td>\n",
       "      <td>8</td>\n",
       "      <td>Kennedy</td>\n",
       "      <td>39</td>\n",
       "      <td>Años</td>\n",
       "      <td>FEMENINO</td>\n",
       "      <td>Norte</td>\n",
       "      <td>DIFICULTAD RESPIRATORIA</td>\n",
       "      <td>ALTA</td>\n",
       "      <td>JULIO</td>\n",
       "      <td>Traslado</td>\n",
       "    </tr>\n",
       "    <tr>\n",
       "      <th>1</th>\n",
       "      <td>SIN_DATO</td>\n",
       "      <td>2019-07-01 00:12:56</td>\n",
       "      <td>19</td>\n",
       "      <td>Ciudad Bolivar</td>\n",
       "      <td>69</td>\n",
       "      <td>Años</td>\n",
       "      <td>MASCULINO</td>\n",
       "      <td>Sur</td>\n",
       "      <td>INCONSCIENTE/PARO CARDIORRESPIRATORIO</td>\n",
       "      <td>ALTA</td>\n",
       "      <td>JULIO</td>\n",
       "      <td>SIN_DATO</td>\n",
       "    </tr>\n",
       "    <tr>\n",
       "      <th>2</th>\n",
       "      <td>SIN_DATO</td>\n",
       "      <td>2019-07-01 00:10:26</td>\n",
       "      <td>6</td>\n",
       "      <td>Tunjuelito</td>\n",
       "      <td>25</td>\n",
       "      <td>Años</td>\n",
       "      <td>MASCULINO</td>\n",
       "      <td>Sur</td>\n",
       "      <td>ENFERMO</td>\n",
       "      <td>MEDIA</td>\n",
       "      <td>JULIO</td>\n",
       "      <td>Traslado</td>\n",
       "    </tr>\n",
       "    <tr>\n",
       "      <th>3</th>\n",
       "      <td>SIN_DATO</td>\n",
       "      <td>2019-07-01 00:15:47</td>\n",
       "      <td>8</td>\n",
       "      <td>Kennedy</td>\n",
       "      <td>65</td>\n",
       "      <td>Años</td>\n",
       "      <td>MASCULINO</td>\n",
       "      <td>Sur</td>\n",
       "      <td>LESIONES PERSONALES</td>\n",
       "      <td>MEDIA</td>\n",
       "      <td>JULIO</td>\n",
       "      <td>Traslado</td>\n",
       "    </tr>\n",
       "    <tr>\n",
       "      <th>4</th>\n",
       "      <td>SIN_DATO</td>\n",
       "      <td>2019-07-01 00:31:13</td>\n",
       "      <td>10</td>\n",
       "      <td>Engativa</td>\n",
       "      <td>-1</td>\n",
       "      <td>SIN_DATO</td>\n",
       "      <td>SIN_DATO</td>\n",
       "      <td>Norte</td>\n",
       "      <td>ENFERMO</td>\n",
       "      <td>MEDIA</td>\n",
       "      <td>JULIO</td>\n",
       "      <td>Cancelado</td>\n",
       "    </tr>\n",
       "  </tbody>\n",
       "</table>\n",
       "</div>"
      ],
      "text/plain": [
       "  NUMERO_INCIDENTE FECHA_INICIO_DESPLAZAMIENTO_MOVIL  CODIGO_LOCALIDAD  \\\n",
       "0         SIN_DATO               2019-07-01 00:11:02                 8   \n",
       "1         SIN_DATO               2019-07-01 00:12:56                19   \n",
       "2         SIN_DATO               2019-07-01 00:10:26                 6   \n",
       "3         SIN_DATO               2019-07-01 00:15:47                 8   \n",
       "4         SIN_DATO               2019-07-01 00:31:13                10   \n",
       "\n",
       "        LOCALIDAD EDAD    UNIDAD     GENERO    RED  \\\n",
       "0         Kennedy   39      Años   FEMENINO  Norte   \n",
       "1  Ciudad Bolivar   69      Años  MASCULINO    Sur   \n",
       "2      Tunjuelito   25      Años  MASCULINO    Sur   \n",
       "3         Kennedy   65      Años  MASCULINO    Sur   \n",
       "4        Engativa   -1  SIN_DATO   SIN_DATO  Norte   \n",
       "\n",
       "                          TIPO_INCIDENTE PRIORIDAD    MES CLASIFICACION_FINAL  \n",
       "0                DIFICULTAD RESPIRATORIA      ALTA  JULIO            Traslado  \n",
       "1  INCONSCIENTE/PARO CARDIORRESPIRATORIO      ALTA  JULIO            SIN_DATO  \n",
       "2                                ENFERMO     MEDIA  JULIO            Traslado  \n",
       "3                    LESIONES PERSONALES     MEDIA  JULIO            Traslado  \n",
       "4                                ENFERMO     MEDIA  JULIO           Cancelado  "
      ]
     },
     "execution_count": 21,
     "metadata": {},
     "output_type": "execute_result"
    }
   ],
   "source": [
    "col = 'CLASIFICACION_FINAL'\n",
    "raw_data_jul2019[col].fillna('SIN_DATO', inplace=True)\n",
    "raw_data_jul2019[col] = raw_data_jul2019[col].apply(lambda x: x.strip())\n",
    "raw_data_jul2019.head()"
   ]
  },
  {
   "cell_type": "code",
   "execution_count": 22,
   "id": "8280cc03-ff28-4bdc-810c-4879d031da1f",
   "metadata": {},
   "outputs": [
    {
     "name": "stdout",
     "output_type": "stream",
     "text": [
      "Number of rows before cleaning: 14560\n",
      "Number of rows after cleaning: 13841\n"
     ]
    }
   ],
   "source": [
    "print('Number of rows before cleaning:', raw_data_jul2019.shape[0] )\n",
    "raw_data_jul2019.drop_duplicates(inplace=True)\n",
    "print('Number of rows after cleaning:', raw_data_jul2019.shape[0] )"
   ]
  },
  {
   "cell_type": "code",
   "execution_count": 23,
   "id": "b820076b-1f4c-44ca-a809-47f91e3637b3",
   "metadata": {},
   "outputs": [
    {
     "name": "stdout",
     "output_type": "stream",
     "text": [
      "<class 'pandas.core.frame.DataFrame'>\n",
      "Int64Index: 13841 entries, 0 to 14559\n",
      "Data columns (total 12 columns):\n",
      " #   Column                             Non-Null Count  Dtype \n",
      "---  ------                             --------------  ----- \n",
      " 0   NUMERO_INCIDENTE                   13841 non-null  object\n",
      " 1   FECHA_INICIO_DESPLAZAMIENTO_MOVIL  13841 non-null  object\n",
      " 2   CODIGO_LOCALIDAD                   13841 non-null  int64 \n",
      " 3   LOCALIDAD                          13841 non-null  object\n",
      " 4   EDAD                               13841 non-null  object\n",
      " 5   UNIDAD                             13841 non-null  object\n",
      " 6   GENERO                             13841 non-null  object\n",
      " 7   RED                                13841 non-null  object\n",
      " 8   TIPO_INCIDENTE                     13841 non-null  object\n",
      " 9   PRIORIDAD                          13841 non-null  object\n",
      " 10  MES                                13841 non-null  object\n",
      " 11  CLASIFICACION_FINAL                13841 non-null  object\n",
      "dtypes: int64(1), object(11)\n",
      "memory usage: 1.4+ MB\n"
     ]
    }
   ],
   "source": [
    "raw_data_jul2019.info()"
   ]
  },
  {
   "cell_type": "markdown",
   "id": "0f2ea050-ac6e-4455-9209-8996959cdbb8",
   "metadata": {},
   "source": [
    "**Saving datos-abiertos-julio-2019**"
   ]
  },
  {
   "cell_type": "code",
   "execution_count": 24,
   "id": "f4b7dfcd-4803-43f0-8c35-631f5767e79e",
   "metadata": {},
   "outputs": [],
   "source": [
    "# saving in a local directory\n",
    "raw_data_jul2019.to_csv(project_dir + '/data/processed/' +'clean_llamadas_123_julio_2019.csv', encoding='latin1', sep=';', index=False)"
   ]
  },
  {
   "cell_type": "markdown",
   "id": "4884c149-1e7c-4cb5-8728-3c59bd2e2c3e",
   "metadata": {
    "jp-MarkdownHeadingCollapsed": true,
    "tags": []
   },
   "source": [
    "## Read datos-abiertos-agosto-2019"
   ]
  },
  {
   "cell_type": "code",
   "execution_count": 317,
   "id": "0cd0e482-b839-41cc-a062-7cd4e187d5cb",
   "metadata": {
    "tags": []
   },
   "outputs": [
    {
     "name": "stdout",
     "output_type": "stream",
     "text": [
      "<class 'pandas.core.frame.DataFrame'>\n",
      "RangeIndex: 18141 entries, 0 to 18140\n",
      "Data columns (total 12 columns):\n",
      " #   Column                             Non-Null Count  Dtype \n",
      "---  ------                             --------------  ----- \n",
      " 0   NUMERO_INCIDENTE                   18141 non-null  int64 \n",
      " 1   FECHA_INICIO_DESPLAZAMIENTO-MOVIL  18141 non-null  object\n",
      " 2   CODIGO DE LOCALIDAD                18141 non-null  int64 \n",
      " 3   LOCALIDAD                          18141 non-null  object\n",
      " 4   EDAD                               18141 non-null  object\n",
      " 5   UNIDAD                             18141 non-null  object\n",
      " 6   GENERO                             18141 non-null  object\n",
      " 7   RED                                18141 non-null  object\n",
      " 8   TIPO DE INCIDIDENT                 18141 non-null  object\n",
      " 9   PRIORIDAD                          18141 non-null  object\n",
      " 10  MES                                18141 non-null  object\n",
      " 11  CLASIFICACION FINAL                18138 non-null  object\n",
      "dtypes: int64(2), object(10)\n",
      "memory usage: 1.7+ MB\n",
      "None\n"
     ]
    }
   ],
   "source": [
    "raw_data_ago2019 = get_input_data(\n",
    "    bucket            = bucket,\n",
    "    initial_directory = directory,\n",
    "    filename          = 'datos-abiertos-agosto-2019.csv'\n",
    ")\n",
    "print(raw_data_ago2019.info())"
   ]
  },
  {
   "cell_type": "markdown",
   "id": "4ca505d7-a483-44bf-aa49-86afccabe40d",
   "metadata": {},
   "source": [
    "**Rename Columns datos-abiertos-agosto-2019**"
   ]
  },
  {
   "cell_type": "code",
   "execution_count": 318,
   "id": "a16f9e6f-f5d2-42c2-bc51-75ae942e137b",
   "metadata": {
    "tags": []
   },
   "outputs": [
    {
     "data": {
      "text/html": [
       "<div>\n",
       "<style scoped>\n",
       "    .dataframe tbody tr th:only-of-type {\n",
       "        vertical-align: middle;\n",
       "    }\n",
       "\n",
       "    .dataframe tbody tr th {\n",
       "        vertical-align: top;\n",
       "    }\n",
       "\n",
       "    .dataframe thead th {\n",
       "        text-align: right;\n",
       "    }\n",
       "</style>\n",
       "<table border=\"1\" class=\"dataframe\">\n",
       "  <thead>\n",
       "    <tr style=\"text-align: right;\">\n",
       "      <th></th>\n",
       "      <th>NUMERO_INCIDENTE</th>\n",
       "      <th>FECHA_INICIO_DESPLAZAMIENTO_MOVIL</th>\n",
       "      <th>CODIGO_LOCALIDAD</th>\n",
       "      <th>LOCALIDAD</th>\n",
       "      <th>EDAD</th>\n",
       "      <th>UNIDAD</th>\n",
       "      <th>GENERO</th>\n",
       "      <th>RED</th>\n",
       "      <th>TIPO_INCIDENTE</th>\n",
       "      <th>PRIORIDAD</th>\n",
       "      <th>MES</th>\n",
       "      <th>CLASIFICACION_FINAL</th>\n",
       "    </tr>\n",
       "  </thead>\n",
       "  <tbody>\n",
       "    <tr>\n",
       "      <th>0</th>\n",
       "      <td>809224194</td>\n",
       "      <td>1/08/2019 0:28</td>\n",
       "      <td>1</td>\n",
       "      <td>Usaquen</td>\n",
       "      <td>SIN_DATO</td>\n",
       "      <td>SIN_DATO</td>\n",
       "      <td>SIN_DATO</td>\n",
       "      <td>Norte</td>\n",
       "      <td>Inconsciente/Paro Cardiorrespiratorio</td>\n",
       "      <td>ALTA</td>\n",
       "      <td>AGOSTO</td>\n",
       "      <td>Cancelado</td>\n",
       "    </tr>\n",
       "    <tr>\n",
       "      <th>1</th>\n",
       "      <td>809224194</td>\n",
       "      <td>1/08/2019 0:28</td>\n",
       "      <td>1</td>\n",
       "      <td>Usaquen</td>\n",
       "      <td>SIN_DATO</td>\n",
       "      <td>SIN_DATO</td>\n",
       "      <td>SIN_DATO</td>\n",
       "      <td>Norte</td>\n",
       "      <td>Inconsciente/Paro Cardiorrespiratorio</td>\n",
       "      <td>ALTA</td>\n",
       "      <td>AGOSTO</td>\n",
       "      <td>Cancelado</td>\n",
       "    </tr>\n",
       "    <tr>\n",
       "      <th>2</th>\n",
       "      <td>809240194</td>\n",
       "      <td>1/08/2019 0:15</td>\n",
       "      <td>11</td>\n",
       "      <td>Suba</td>\n",
       "      <td>SIN_DATO</td>\n",
       "      <td>SIN_DATO</td>\n",
       "      <td>SIN_DATO</td>\n",
       "      <td>Norte</td>\n",
       "      <td>Accidente cerebro vascular</td>\n",
       "      <td>BAJA</td>\n",
       "      <td>AGOSTO</td>\n",
       "      <td>Cancelado</td>\n",
       "    </tr>\n",
       "    <tr>\n",
       "      <th>3</th>\n",
       "      <td>809240194</td>\n",
       "      <td>1/08/2019 0:15</td>\n",
       "      <td>11</td>\n",
       "      <td>Suba</td>\n",
       "      <td>SIN_DATO</td>\n",
       "      <td>SIN_DATO</td>\n",
       "      <td>SIN_DATO</td>\n",
       "      <td>Norte</td>\n",
       "      <td>Accidente cerebro vascular</td>\n",
       "      <td>BAJA</td>\n",
       "      <td>AGOSTO</td>\n",
       "      <td>Cancelado</td>\n",
       "    </tr>\n",
       "    <tr>\n",
       "      <th>4</th>\n",
       "      <td>809240194</td>\n",
       "      <td>1/08/2019 0:15</td>\n",
       "      <td>11</td>\n",
       "      <td>Suba</td>\n",
       "      <td>SIN_DATO</td>\n",
       "      <td>SIN_DATO</td>\n",
       "      <td>SIN_DATO</td>\n",
       "      <td>Norte</td>\n",
       "      <td>Accidente cerebro vascular</td>\n",
       "      <td>BAJA</td>\n",
       "      <td>AGOSTO</td>\n",
       "      <td>Cancelado</td>\n",
       "    </tr>\n",
       "  </tbody>\n",
       "</table>\n",
       "</div>"
      ],
      "text/plain": [
       "   NUMERO_INCIDENTE FECHA_INICIO_DESPLAZAMIENTO_MOVIL  CODIGO_LOCALIDAD  \\\n",
       "0         809224194                    1/08/2019 0:28                 1   \n",
       "1         809224194                    1/08/2019 0:28                 1   \n",
       "2         809240194                    1/08/2019 0:15                11   \n",
       "3         809240194                    1/08/2019 0:15                11   \n",
       "4         809240194                    1/08/2019 0:15                11   \n",
       "\n",
       "  LOCALIDAD      EDAD    UNIDAD    GENERO    RED  \\\n",
       "0   Usaquen  SIN_DATO  SIN_DATO  SIN_DATO  Norte   \n",
       "1   Usaquen  SIN_DATO  SIN_DATO  SIN_DATO  Norte   \n",
       "2      Suba  SIN_DATO  SIN_DATO  SIN_DATO  Norte   \n",
       "3      Suba  SIN_DATO  SIN_DATO  SIN_DATO  Norte   \n",
       "4      Suba  SIN_DATO  SIN_DATO  SIN_DATO  Norte   \n",
       "\n",
       "                           TIPO_INCIDENTE PRIORIDAD     MES  \\\n",
       "0  Inconsciente/Paro Cardiorrespiratorio       ALTA  AGOSTO   \n",
       "1  Inconsciente/Paro Cardiorrespiratorio       ALTA  AGOSTO   \n",
       "2             Accidente cerebro vascular       BAJA  AGOSTO   \n",
       "3             Accidente cerebro vascular       BAJA  AGOSTO   \n",
       "4             Accidente cerebro vascular       BAJA  AGOSTO   \n",
       "\n",
       "  CLASIFICACION_FINAL  \n",
       "0           Cancelado  \n",
       "1           Cancelado  \n",
       "2           Cancelado  \n",
       "3           Cancelado  \n",
       "4           Cancelado  "
      ]
     },
     "execution_count": 318,
     "metadata": {},
     "output_type": "execute_result"
    }
   ],
   "source": [
    "# Don't let white spaces between headers to avoid errors during the pipeline\n",
    "# This is sometimes called a recipe for etl\n",
    "raw_data_ago2019.rename(\n",
    "    columns = {\n",
    "        'FECHA_INICIO_DESPLAZAMIENTO-MOVIL' : 'FECHA_INICIO_DESPLAZAMIENTO_MOVIL',\n",
    "        'CODIGO DE LOCALIDAD'               : 'CODIGO_LOCALIDAD',\n",
    "        'CLASIFICACION FINAL'               : 'CLASIFICACION_FINAL',\n",
    "        'TIPO DE INCIDIDENT'                : 'TIPO_INCIDENTE'\n",
    "    },\n",
    "    inplace=True\n",
    ")\n",
    "raw_data_ago2019.head()"
   ]
  },
  {
   "cell_type": "markdown",
   "id": "357b0bea-3ec8-4120-a5ef-d2051290a485",
   "metadata": {},
   "source": [
    "**Check values per field datos-abiertos-julio-2019 (LOCALIDAD, GENERO, TIPO_INCIDENTE, CLASIFICACION_FINAL)**"
   ]
  },
  {
   "cell_type": "code",
   "execution_count": 319,
   "id": "8e024922-8423-44a0-b575-32d9d1aa6e67",
   "metadata": {
    "tags": []
   },
   "outputs": [
    {
     "data": {
      "text/plain": [
       "Kennedy                2717\n",
       " Engativa              1805\n",
       " Suba                  1678\n",
       " Bosa                  1264\n",
       "Ciudad Bolivar         1220\n",
       "Puente Aranda           977\n",
       " San Cristobal          906\n",
       "Usaquen                 894\n",
       " Rafael Uribe Uribe     892\n",
       "Fontibon                878\n",
       "Chapinero               707\n",
       "Santa Fe                682\n",
       " Usme                   637\n",
       " Barrios Unidos         608\n",
       " Teusaquillo            599\n",
       "Tunjuelito              595\n",
       "Los Martires            593\n",
       " Antonio Nariño         369\n",
       " La Candelaria          119\n",
       " Sumapaz                  1\n",
       "Name: LOCALIDAD, dtype: int64"
      ]
     },
     "execution_count": 319,
     "metadata": {},
     "output_type": "execute_result"
    }
   ],
   "source": [
    "raw_data_ago2019['LOCALIDAD'].value_counts(dropna=False)"
   ]
  },
  {
   "cell_type": "code",
   "execution_count": 320,
   "id": "db1eec3f-3992-4046-a077-3c1b2f212672",
   "metadata": {
    "tags": []
   },
   "outputs": [
    {
     "data": {
      "text/plain": [
       "Kennedy               2717\n",
       "Engativa              1805\n",
       "Suba                  1678\n",
       "Bosa                  1264\n",
       "Ciudad Bolivar        1220\n",
       "Puente Aranda          977\n",
       "San Cristobal          906\n",
       "Usaquen                894\n",
       "Rafael Uribe Uribe     892\n",
       "Fontibon               878\n",
       "Chapinero              707\n",
       "Santa Fe               682\n",
       "Usme                   637\n",
       "Barrios Unidos         608\n",
       "Teusaquillo            599\n",
       "Tunjuelito             595\n",
       "Los Martires           593\n",
       "Antonio Nariño         369\n",
       "La Candelaria          119\n",
       "Sumapaz                  1\n",
       "Name: LOCALIDAD, dtype: int64"
      ]
     },
     "execution_count": 320,
     "metadata": {},
     "output_type": "execute_result"
    }
   ],
   "source": [
    "# Let's use the function strip(), this property works for string objects in python that removes whitespaces\n",
    "raw_data_ago2019['LOCALIDAD'].apply(\n",
    "    lambda x: x.strip()        # here we use a lambda function, exclusively for python. Is a one-line function\n",
    ").value_counts()"
   ]
  },
  {
   "cell_type": "code",
   "execution_count": 321,
   "id": "a7309682-4e82-4fcc-9ecc-d2859a093939",
   "metadata": {},
   "outputs": [],
   "source": [
    "raw_data_ago2019['LOCALIDAD'] = raw_data_ago2019['LOCALIDAD'].apply(lambda x: x.strip()) # we assign the output of the function apply to the same column"
   ]
  },
  {
   "cell_type": "code",
   "execution_count": 322,
   "id": "de07a7c7-706a-4339-b576-67a41ff10521",
   "metadata": {
    "tags": []
   },
   "outputs": [
    {
     "data": {
      "text/plain": [
       "SIN_DATO     8617\n",
       "MASCULINO    5143\n",
       "FEMENINO     4381\n",
       "Name: GENERO, dtype: int64"
      ]
     },
     "execution_count": 322,
     "metadata": {},
     "output_type": "execute_result"
    }
   ],
   "source": [
    "col = 'GENERO'\n",
    "raw_data_ago2019[col] = raw_data_ago2019[col].apply(lambda x: x.strip())\n",
    "raw_data_ago2019[col].value_counts(dropna=False)   # here we could apply the same technique as before to avoid errors"
   ]
  },
  {
   "cell_type": "code",
   "execution_count": 324,
   "id": "44390f17-8d28-44a0-8e66-30b194c1bc15",
   "metadata": {},
   "outputs": [],
   "source": [
    "col = 'FECHA_INICIO_DESPLAZAMIENTO_MOVIL'\n",
    "raw_data_ago2019[col] = pd.to_datetime(raw_data_ago2019[col])#.value_counts()"
   ]
  },
  {
   "cell_type": "code",
   "execution_count": 325,
   "id": "7fa15189-b9ea-475a-8162-c0cc6fa31fb5",
   "metadata": {
    "tags": []
   },
   "outputs": [
    {
     "data": {
      "text/plain": [
       "Accidente de tránsito con heridos/Muertos    6827\n",
       "Inconsciente/Paro Cardiorrespiratorio        1875\n",
       "Dificultad Respiratoria                      1504\n",
       "Enfermo                                      1233\n",
       "Convulsiones                                 1135\n",
       "Heridos                                       847\n",
       "Lesiones personales                           718\n",
       "Trastorno mental                              670\n",
       "Dolor torácico                                628\n",
       "Intento de suicidio                           555\n",
       "Síntomas gastrointestinales                   418\n",
       "Accidente cerebro vascular                    401\n",
       "Patología Gineco - obstétrica                 353\n",
       "Caída                                         295\n",
       "Intoxicaciones                                181\n",
       "Ideas de suicidio                             102\n",
       "SIN_DATO                                       58\n",
       "Incendio estructural                           51\n",
       "Muerte Natural                                 35\n",
       "Violencia Sexual                               33\n",
       "Riña                                           24\n",
       "Solicitud Apoyo / Desacato                     21\n",
       "Accidente Tránsito Simple                      20\n",
       "Sangrado Vaginal                               15\n",
       "Quemaduras                                     15\n",
       "MATPEL (Materiales peligrosos)                  9\n",
       "Fuga de Gas Natural o Propano                   9\n",
       "Elemento caído y/o en peligro de caer.          9\n",
       "Electrocución / Rescate                         9\n",
       "Abrir domicilio                                 8\n",
       "Incidente rescate acuático                      7\n",
       "Manifestación / Motín                           7\n",
       "Embriaguez                                      6\n",
       "Maltrato                                        6\n",
       "Animal Peligroso                                5\n",
       "Rescates                                        5\n",
       "Incendio con MATPEL                             4\n",
       "Menor o persona Abandonada                      4\n",
       "Explosión                                       4\n",
       "Extraviados / Desaparecidos                     3\n",
       "Deslizamiento                                   3\n",
       "Disparos                                        3\n",
       "Persona Pidiendo Auxilio                        3\n",
       "Hurto Efectuado                                 3\n",
       "Incendio Vehicular                              3\n",
       "Persona tendida en la vía                       3\n",
       "Habitante de la Calle                           3\n",
       "Muerto                                          3\n",
       "Abejas                                          3\n",
       "Amenaza de Ruina                                2\n",
       "Atraco / Hurto en Proces                        2\n",
       "Incendio                                        1\n",
       "Name: TIPO_INCIDENTE, dtype: int64"
      ]
     },
     "execution_count": 325,
     "metadata": {},
     "output_type": "execute_result"
    }
   ],
   "source": [
    "col = 'TIPO_INCIDENTE'\n",
    "raw_data_ago2019[col] = raw_data_ago2019[col].apply(lambda x: x.strip())\n",
    "raw_data_ago2019[col].value_counts(dropna=False)   # here we could apply the same technique as before to avoid errors"
   ]
  },
  {
   "cell_type": "code",
   "execution_count": 447,
   "id": "9f768a8f-90af-4090-8fa0-20852f0c1f58",
   "metadata": {},
   "outputs": [],
   "source": [
    "col = 'EDAD'\n",
    "raw_data_ago2019[col].value_counts(dropna=False)\n",
    "raw_data_ago2019[col] = raw_data_ago2019[col].replace('SIN_DATO', -1)#.value_counts()"
   ]
  },
  {
   "cell_type": "code",
   "execution_count": 326,
   "id": "82a9ee6d-f962-487e-854b-2845453a21bb",
   "metadata": {
    "tags": []
   },
   "outputs": [
    {
     "data": {
      "text/plain": [
       "ACCIDENTE DE TRÁNSITO CON HERIDOS/MUERTOS    6827\n",
       "INCONSCIENTE/PARO CARDIORRESPIRATORIO        1875\n",
       "DIFICULTAD RESPIRATORIA                      1504\n",
       "ENFERMO                                      1233\n",
       "CONVULSIONES                                 1135\n",
       "HERIDOS                                       847\n",
       "LESIONES PERSONALES                           718\n",
       "TRASTORNO MENTAL                              670\n",
       "DOLOR TORÁCICO                                628\n",
       "INTENTO DE SUICIDIO                           555\n",
       "SÍNTOMAS GASTROINTESTINALES                   418\n",
       "ACCIDENTE CEREBRO VASCULAR                    401\n",
       "PATOLOGÍA GINECO - OBSTÉTRICA                 353\n",
       "CAÍDA                                         295\n",
       "INTOXICACIONES                                181\n",
       "IDEAS DE SUICIDIO                             102\n",
       "SIN_DATO                                       58\n",
       "INCENDIO ESTRUCTURAL                           51\n",
       "MUERTE NATURAL                                 35\n",
       "VIOLENCIA SEXUAL                               33\n",
       "RIÑA                                           24\n",
       "SOLICITUD APOYO / DESACATO                     21\n",
       "ACCIDENTE TRÁNSITO SIMPLE                      20\n",
       "SANGRADO VAGINAL                               15\n",
       "QUEMADURAS                                     15\n",
       "MATPEL (MATERIALES PELIGROSOS)                  9\n",
       "FUGA DE GAS NATURAL O PROPANO                   9\n",
       "ELEMENTO CAÍDO Y/O EN PELIGRO DE CAER.          9\n",
       "ELECTROCUCIÓN / RESCATE                         9\n",
       "ABRIR DOMICILIO                                 8\n",
       "INCIDENTE RESCATE ACUÁTICO                      7\n",
       "MANIFESTACIÓN / MOTÍN                           7\n",
       "EMBRIAGUEZ                                      6\n",
       "MALTRATO                                        6\n",
       "ANIMAL PELIGROSO                                5\n",
       "RESCATES                                        5\n",
       "INCENDIO CON MATPEL                             4\n",
       "MENOR O PERSONA ABANDONADA                      4\n",
       "EXPLOSIÓN                                       4\n",
       "EXTRAVIADOS / DESAPARECIDOS                     3\n",
       "DESLIZAMIENTO                                   3\n",
       "DISPAROS                                        3\n",
       "PERSONA PIDIENDO AUXILIO                        3\n",
       "HURTO EFECTUADO                                 3\n",
       "INCENDIO VEHICULAR                              3\n",
       "PERSONA TENDIDA EN LA VÍA                       3\n",
       "HABITANTE DE LA CALLE                           3\n",
       "MUERTO                                          3\n",
       "ABEJAS                                          3\n",
       "AMENAZA DE RUINA                                2\n",
       "ATRACO / HURTO EN PROCES                        2\n",
       "INCENDIO                                        1\n",
       "Name: TIPO_INCIDENTE, dtype: int64"
      ]
     },
     "execution_count": 326,
     "metadata": {},
     "output_type": "execute_result"
    }
   ],
   "source": [
    "col = 'TIPO_INCIDENTE'\n",
    "raw_data_ago2019[col] = raw_data_ago2019[col].apply(lambda x: x.upper())\n",
    "raw_data_ago2019[col].value_counts(dropna=False)"
   ]
  },
  {
   "cell_type": "code",
   "execution_count": 327,
   "id": "2d2bcd21-a9e4-4e06-908f-d6d8eaa2e6fd",
   "metadata": {
    "tags": []
   },
   "outputs": [
    {
     "data": {
      "text/plain": [
       "Traslado                       7311\n",
       "Cancelado                      4935\n",
       "Trasladado por Otro Recurso    1813\n",
       "Falsa Alarma                   1738\n",
       "Desistimiento                  1449\n",
       "No Amerita Traslado             452\n",
       "No Ubica                        235\n",
       "Fallecido                       205\n",
       "SIN_DATO                          3\n",
       "Name: CLASIFICACION_FINAL, dtype: int64"
      ]
     },
     "execution_count": 327,
     "metadata": {},
     "output_type": "execute_result"
    }
   ],
   "source": [
    "col = 'CLASIFICACION_FINAL'\n",
    "raw_data_ago2019[col].fillna('SIN_DATO').value_counts()\n",
    "#raw_data_ago2019[col].value_counts(dropna=False)   # here we could apply the same technique as before to avoid errors"
   ]
  },
  {
   "cell_type": "code",
   "execution_count": 328,
   "id": "e433d554-be6b-4c5e-b098-acf15d0bc54b",
   "metadata": {},
   "outputs": [
    {
     "name": "stdout",
     "output_type": "stream",
     "text": [
      "Number of rows before cleaning: 18141\n",
      "Number of rows after cleaning: 16807\n"
     ]
    }
   ],
   "source": [
    "print('Number of rows before cleaning:', raw_data_ago2019.shape[0] )\n",
    "raw_data_ago2019.drop_duplicates(inplace=True)\n",
    "print('Number of rows after cleaning:', raw_data_ago2019.shape[0] )"
   ]
  },
  {
   "cell_type": "markdown",
   "id": "0e562a9f-459b-4443-a121-72d333527ae5",
   "metadata": {},
   "source": [
    "**Saving datos-abiertos-agosto-2019**"
   ]
  },
  {
   "cell_type": "code",
   "execution_count": 329,
   "id": "fdb98371-77cb-49e6-b355-ded831b13807",
   "metadata": {},
   "outputs": [],
   "source": [
    "# saving in a local directory\n",
    "raw_data_ago2019.to_csv(project_dir + '/data/processed/' +'clean_llamadas_123_ago_2019.csv', encoding='latin1', sep=';', index=False)"
   ]
  },
  {
   "cell_type": "markdown",
   "id": "af72a854-d636-48b2-b644-7313822db402",
   "metadata": {
    "tags": []
   },
   "source": [
    "## Read datos-abiertos-septiembre-2019"
   ]
  },
  {
   "cell_type": "code",
   "execution_count": 32,
   "id": "4cfb183e-d412-4e6a-b89b-78ea1b32a5fb",
   "metadata": {},
   "outputs": [
    {
     "name": "stdout",
     "output_type": "stream",
     "text": [
      "<class 'pandas.core.frame.DataFrame'>\n",
      "RangeIndex: 17018 entries, 0 to 17017\n",
      "Data columns (total 10 columns):\n",
      " #   Column                             Non-Null Count  Dtype \n",
      "---  ------                             --------------  ----- \n",
      " 0   NUMERO_INCIDENTE                   17018 non-null  int64 \n",
      " 1   FECHA_INICIO_DESPLAZAMIENTO-MOVIL  17018 non-null  object\n",
      " 2   CODIGO DE LOCALIDAD                17018 non-null  int64 \n",
      " 3   LOCALIDAD                          17018 non-null  object\n",
      " 4   EDAD                               17018 non-null  int64 \n",
      " 5   UNIDAD                             9371 non-null   object\n",
      " 6   GENERO                             17018 non-null  object\n",
      " 7   RED                                17018 non-null  object\n",
      " 8   TIPO_INCIDENTE                     17018 non-null  object\n",
      " 9   PRIORIDAD                          17018 non-null  object\n",
      "dtypes: int64(3), object(7)\n",
      "memory usage: 1.3+ MB\n",
      "None\n"
     ]
    }
   ],
   "source": [
    "raw_data_sep2019 = get_input_data(\n",
    "    bucket            = bucket,\n",
    "    initial_directory = directory,\n",
    "    filename          = 'datos-abiertos-septiembre-2019.csv'\n",
    ")\n",
    "print(raw_data_sep2019.info())"
   ]
  },
  {
   "cell_type": "code",
   "execution_count": 33,
   "id": "ce617749-b7ad-48cc-a21e-859d1d9d0781",
   "metadata": {
    "tags": []
   },
   "outputs": [
    {
     "name": "stdout",
     "output_type": "stream",
     "text": [
      "<class 'pandas.core.frame.DataFrame'>\n",
      "RangeIndex: 17018 entries, 0 to 17017\n",
      "Data columns (total 12 columns):\n",
      " #   Column                             Non-Null Count  Dtype \n",
      "---  ------                             --------------  ----- \n",
      " 0   NUMERO_INCIDENTE                   17018 non-null  int64 \n",
      " 1   FECHA_INICIO_DESPLAZAMIENTO-MOVIL  17018 non-null  object\n",
      " 2   CODIGO DE LOCALIDAD                17018 non-null  int64 \n",
      " 3   LOCALIDAD                          17018 non-null  object\n",
      " 4   EDAD                               17018 non-null  int64 \n",
      " 5   UNIDAD                             9371 non-null   object\n",
      " 6   GENERO                             17018 non-null  object\n",
      " 7   RED                                17018 non-null  object\n",
      " 8   TIPO_INCIDENTE                     17018 non-null  object\n",
      " 9   PRIORIDAD                          17018 non-null  object\n",
      " 10  MES                                17018 non-null  object\n",
      " 11  CLASIFICACION_FINAL                17018 non-null  object\n",
      "dtypes: int64(3), object(9)\n",
      "memory usage: 1.6+ MB\n"
     ]
    }
   ],
   "source": [
    "##Add column MES, CLASIFICACION_FINAL\n",
    "raw_data_sep2019.insert(\n",
    "    loc = 10, \n",
    "    column = 'MES',\n",
    "    value = 'SEPTIEMBRE')\n",
    "raw_data_sep2019.insert(\n",
    "    loc = 11, \n",
    "    column = 'CLASIFICACION_FINAL',\n",
    "    value = 'SIN_DATO')\n",
    "raw_data_sep2019.info()"
   ]
  },
  {
   "cell_type": "code",
   "execution_count": 34,
   "id": "0a5b6a7f-a96f-4801-b6a1-24dd319c9e92",
   "metadata": {
    "tags": []
   },
   "outputs": [
    {
     "name": "stdout",
     "output_type": "stream",
     "text": [
      "<class 'pandas.core.frame.DataFrame'>\n",
      "RangeIndex: 17018 entries, 0 to 17017\n",
      "Data columns (total 12 columns):\n",
      " #   Column                             Non-Null Count  Dtype \n",
      "---  ------                             --------------  ----- \n",
      " 0   NUMERO_INCIDENTE                   17018 non-null  int64 \n",
      " 1   FECHA_INICIO_DESPLAZAMIENTO_MOVIL  17018 non-null  object\n",
      " 2   CODIGO_LOCALIDAD                   17018 non-null  int64 \n",
      " 3   LOCALIDAD                          17018 non-null  object\n",
      " 4   EDAD                               17018 non-null  int64 \n",
      " 5   UNIDAD                             9371 non-null   object\n",
      " 6   GENERO                             17018 non-null  object\n",
      " 7   RED                                17018 non-null  object\n",
      " 8   TIPO_INCIDENTE                     17018 non-null  object\n",
      " 9   PRIORIDAD                          17018 non-null  object\n",
      " 10  MES                                17018 non-null  object\n",
      " 11  CLASIFICACION_FINAL                17018 non-null  object\n",
      "dtypes: int64(3), object(9)\n",
      "memory usage: 1.6+ MB\n"
     ]
    }
   ],
   "source": [
    "# Don't let white spaces between headers to avoid errors during the pipeline\n",
    "# This is sometimes called a recipe for etl\n",
    "raw_data_sep2019.rename(\n",
    "    columns = {\n",
    "        'FECHA_INICIO_DESPLAZAMIENTO-MOVIL' : 'FECHA_INICIO_DESPLAZAMIENTO_MOVIL',\n",
    "        'CODIGO DE LOCALIDAD'               : 'CODIGO_LOCALIDAD',\n",
    "        'TIPO DE INCIDIDENT'                : 'TIPO_INCIDENTE'\n",
    "    },\n",
    "    inplace=True\n",
    ")\n",
    "raw_data_sep2019.info()"
   ]
  },
  {
   "cell_type": "code",
   "execution_count": 35,
   "id": "a4e782b6-e80b-4ed9-b43d-c98e088b5685",
   "metadata": {
    "tags": []
   },
   "outputs": [
    {
     "data": {
      "text/plain": [
       "Kennedy               2398\n",
       "Suba                  1634\n",
       "Engativa              1631\n",
       "Bosa                  1294\n",
       "Ciudad Bolivar        1138\n",
       "Puente Aranda          938\n",
       "Rafael Uribe Uribe     854\n",
       "Usaquen                829\n",
       "San Cristobal          826\n",
       "Fontibon               809\n",
       "Chapinero              749\n",
       "Barrios Unidos         616\n",
       "Tunjuelito             603\n",
       "Los Martires           593\n",
       "Usme                   572\n",
       "Santa Fe               549\n",
       "Teusaquillo            540\n",
       "Antonio Nariño         362\n",
       "La Candelaria           83\n",
       "Name: LOCALIDAD, dtype: int64"
      ]
     },
     "execution_count": 35,
     "metadata": {},
     "output_type": "execute_result"
    }
   ],
   "source": [
    "# Let's use the function strip(), this property works for string objects in python that removes whitespaces\n",
    "raw_data_sep2019['LOCALIDAD'].apply(\n",
    "    lambda x: x.strip()        # here we use a lambda function, exclusively for python. Is a one-line function\n",
    ").value_counts()"
   ]
  },
  {
   "cell_type": "code",
   "execution_count": 36,
   "id": "42667c57-f478-43af-a5b3-b966657d510c",
   "metadata": {},
   "outputs": [],
   "source": [
    "raw_data_sep2019['LOCALIDAD'] = raw_data_sep2019['LOCALIDAD'].apply(lambda x: x.strip()) # we assign the output of the function apply to the same column"
   ]
  },
  {
   "cell_type": "code",
   "execution_count": 37,
   "id": "c1a2def7-19a8-40b9-b99a-c91e8bda16ce",
   "metadata": {
    "tags": []
   },
   "outputs": [
    {
     "data": {
      "text/plain": [
       "SIN_DATO     7632\n",
       "MASCULINO    5082\n",
       "FEMENINO     4304\n",
       "Name: GENERO, dtype: int64"
      ]
     },
     "execution_count": 37,
     "metadata": {},
     "output_type": "execute_result"
    }
   ],
   "source": [
    "col = 'GENERO'\n",
    "raw_data_sep2019[col] = raw_data_sep2019[col].apply(lambda x: x.strip())\n",
    "raw_data_sep2019[col].value_counts(dropna=False)   # here we could apply the same technique as before to avoid errors"
   ]
  },
  {
   "cell_type": "code",
   "execution_count": 38,
   "id": "75c31062-ff9d-4fd8-aa1c-5de74e24819d",
   "metadata": {},
   "outputs": [],
   "source": [
    "col = 'EDAD'\n",
    "raw_data_sep2019[col].value_counts(dropna=False)\n",
    "raw_data_sep2019[col] = raw_data_sep2019[col].replace('SIN_DATO', -1)#.value_counts()"
   ]
  },
  {
   "cell_type": "code",
   "execution_count": 39,
   "id": "b47d1939-6a59-4f86-a55f-3284993884a8",
   "metadata": {
    "tags": []
   },
   "outputs": [
    {
     "data": {
      "text/plain": [
       "Años        9311\n",
       "SIN_DATO    7647\n",
       "Meses         42\n",
       "Dias          10\n",
       "Horas          8\n",
       "Name: UNIDAD, dtype: int64"
      ]
     },
     "execution_count": 39,
     "metadata": {},
     "output_type": "execute_result"
    }
   ],
   "source": [
    "col = 'UNIDAD'\n",
    "#raw_data_sep2019[col] = raw_data_sep2019[col].apply(lambda x: x.strip())\n",
    "raw_data_sep2019[col].fillna('SIN_DATO').value_counts()"
   ]
  },
  {
   "cell_type": "code",
   "execution_count": 40,
   "id": "9d7eb709-0c3d-4db3-b799-c719137cb930",
   "metadata": {},
   "outputs": [],
   "source": [
    "#col = 'FECHA_INICIO_DESPLAZAMIENTO_MOVIL'\n",
    "#raw_data_sep2019[col] = pd.to_datetime(raw_data_sep2019[col]).value_counts()"
   ]
  },
  {
   "cell_type": "code",
   "execution_count": 41,
   "id": "d3fc9f0a-0a7c-4509-92d3-26fb97794639",
   "metadata": {},
   "outputs": [
    {
     "data": {
      "text/plain": [
       "Años        9311\n",
       "SIN_DATO    7647\n",
       "Meses         42\n",
       "Dias          10\n",
       "Horas          8\n",
       "Name: UNIDAD, dtype: int64"
      ]
     },
     "execution_count": 41,
     "metadata": {},
     "output_type": "execute_result"
    }
   ],
   "source": [
    "col = 'UNIDAD'\n",
    "#raw_data_sep2019[col] = raw_data_sep2019[col].apply(lambda x: x.strip())\n",
    "raw_data_sep2019[col].fillna('SIN_DATO').value_counts()"
   ]
  },
  {
   "cell_type": "code",
   "execution_count": 351,
   "id": "6c64174b-c421-4fbc-95e0-8f3f80b25d2f",
   "metadata": {
    "collapsed": true,
    "jupyter": {
     "outputs_hidden": true
    },
    "tags": []
   },
   "outputs": [
    {
     "data": {
      "text/plain": [
       "ACCIDENTE DE TRÁNSITO CON HERIDOS/MUERTOS    6333\n",
       "INCONSCIENTE/PARO CARDIORRESPIRATORIO        1720\n",
       "DIFICULTAD RESPIRATORIA                      1386\n",
       "ENFERMO                                      1137\n",
       "CONVULSIONES                                 1039\n",
       "HERIDOS                                       834\n",
       "INTENTO DE SUICIDIO                           653\n",
       "DOLOR TORÁCICO                                629\n",
       "TRASTORNO MENTAL                              621\n",
       "LESIONES PERSONALES                           593\n",
       "PATOLOGÍA GINECO - OBSTÉTRICA                 421\n",
       "SÍNTOMAS GASTROINTESTINALES                   360\n",
       "ACCIDENTE CEREBRO VASCULAR                    352\n",
       "CAÍDA                                         334\n",
       "INTOXICACIONES                                156\n",
       "IDEAS DE SUICIDIO                             113\n",
       "VIOLENCIA SEXUAL                               48\n",
       "INCENDIO ESTRUCTURAL                           40\n",
       "SIN_DATO                                       32\n",
       "SANGRADO VAGINAL                               25\n",
       "ACCIDENTE TRÁNSITO SIMPLE                      23\n",
       "RESCATES                                       20\n",
       "MUERTE NATURAL                                 18\n",
       "ELEMENTO CAÍDO Y/O EN PELIGRO DE CAER.         16\n",
       "SOLICITUD APOYO / DESACATO                     15\n",
       "RIÑA                                           13\n",
       "EXPLOSIÓN                                      10\n",
       "ABRIR DOMICILIO                                 8\n",
       "QUEMADURAS                                      8\n",
       "FUGA DE GAS NATURAL O PROPANO                   6\n",
       "MALTRATO                                        6\n",
       "ANIMAL PELIGROSO                                5\n",
       "ELECTROCUCIÓN / RESCATE                         5\n",
       "PERSONA PIDIENDO AUXILIO                        5\n",
       "MANIFESTACIÓN / MOTÍN                           4\n",
       "INCIDENTE RESCATE ACUÁTICO                      4\n",
       "INCENDIO VEHICULAR                              3\n",
       "EMBRIAGUEZ                                      3\n",
       "ATRACO / HURTO EN PROCES                        3\n",
       "INCENDIO                                        2\n",
       "INUNDACIÓN                                      2\n",
       "PERSONA TENDIDA EN LA VÍA                       2\n",
       "DAÑOS EN SERVICIOS                              2\n",
       "MUERTO                                          2\n",
       "VERIFICAR SITUACIÓN                             1\n",
       "RESCATES MONTAÑA                                1\n",
       "HABITANTE DE LA CALLE                           1\n",
       "PREVENCIÓN                                      1\n",
       "INCENDIO FORESTAL                               1\n",
       "DESLIZAMIENTO                                   1\n",
       "DELINCUENTE CAPTURADO POR CIVIL                 1\n",
       "Name: TIPO_INCIDENTE, dtype: int64"
      ]
     },
     "execution_count": 351,
     "metadata": {},
     "output_type": "execute_result"
    }
   ],
   "source": [
    "col = 'TIPO_INCIDENTE'\n",
    "raw_data_sep2019[col].value_counts(dropna=False)   # here we could apply the same technique as before to avoid errors"
   ]
  },
  {
   "cell_type": "code",
   "execution_count": 31,
   "id": "c0e19cd6-c9e6-47a6-9915-c6eff596f432",
   "metadata": {},
   "outputs": [
    {
     "data": {
      "text/plain": [
       "NaN    17018\n",
       "Name: PRIORIDAD, dtype: int64"
      ]
     },
     "execution_count": 31,
     "metadata": {},
     "output_type": "execute_result"
    }
   ],
   "source": [
    "col = 'PRIORIDAD'\n",
    "#raw_data_sep2019[col] = raw_data_sep2019[col].apply(lambda x: x.replace('SIN_D','SIN_DATO'))\n",
    "#raw_data_sep2019[col] = raw_data_sep2019[col].apply(lambda x: x.replace('DUMMY','SIN_DATO'))  \n",
    "#raw_data_sep2019[col] = raw_data_sep2019[col].replace('SIN_D', 'SIN_DATO', inplace=False)\n",
    "raw_data_sep2019[col].value_counts(dropna=False)"
   ]
  },
  {
   "cell_type": "code",
   "execution_count": 353,
   "id": "263a7cc9-71f5-4b56-8e98-5c9d1f5b11f8",
   "metadata": {},
   "outputs": [
    {
     "data": {
      "text/plain": [
       "SIN_DATO    17018\n",
       "Name: CLASIFICACION_FINAL, dtype: int64"
      ]
     },
     "execution_count": 353,
     "metadata": {},
     "output_type": "execute_result"
    }
   ],
   "source": [
    "col = 'CLASIFICACION_FINAL'\n",
    "raw_data_sep2019[col].value_counts(dropna=False)"
   ]
  },
  {
   "cell_type": "code",
   "execution_count": 354,
   "id": "7ee0b896-a575-46a7-8e70-9a7237f8f0af",
   "metadata": {},
   "outputs": [
    {
     "name": "stdout",
     "output_type": "stream",
     "text": [
      "Number of rows before cleaning: 17018\n",
      "Number of rows after cleaning: 16267\n"
     ]
    }
   ],
   "source": [
    "print('Number of rows before cleaning:', raw_data_sep2019.shape[0] )\n",
    "raw_data_sep2019.drop_duplicates(inplace=True)\n",
    "print('Number of rows after cleaning:', raw_data_sep2019.shape[0] )"
   ]
  },
  {
   "cell_type": "markdown",
   "id": "6905fedd-cf91-4fb3-9d4e-4217a6be6145",
   "metadata": {},
   "source": [
    "**Saving datos-abiertos-septiembre-2019**"
   ]
  },
  {
   "cell_type": "code",
   "execution_count": 356,
   "id": "330932ee-1924-48b7-a2f6-98ce185a4394",
   "metadata": {},
   "outputs": [],
   "source": [
    "# saving in a local directory\n",
    "raw_data_sep2019.to_csv(project_dir + '/data/processed/' +'clean_llamadas_123_sep_2019.csv', encoding='latin1', sep=';', index=False)"
   ]
  },
  {
   "cell_type": "markdown",
   "id": "6c9f60c8-4ca9-4849-9779-5498c670e143",
   "metadata": {
    "jp-MarkdownHeadingCollapsed": true,
    "tags": []
   },
   "source": [
    "## Read datos-abiertos-octubre-2019"
   ]
  },
  {
   "cell_type": "code",
   "execution_count": 357,
   "id": "cff415d5-9387-4b1a-8fd8-79d1bb8f8281",
   "metadata": {},
   "outputs": [
    {
     "name": "stdout",
     "output_type": "stream",
     "text": [
      "<class 'pandas.core.frame.DataFrame'>\n",
      "RangeIndex: 18195 entries, 0 to 18194\n",
      "Data columns (total 10 columns):\n",
      " #   Column               Non-Null Count  Dtype \n",
      "---  ------               --------------  ----- \n",
      " 0   NUMERO_INCIDENTE     18195 non-null  int64 \n",
      " 1   FECHA_DESPACHO_518   18195 non-null  object\n",
      " 2   CODIGO DE LOCALIDAD  18195 non-null  int64 \n",
      " 3   LOCALIDAD            18195 non-null  object\n",
      " 4   EDAD                 18195 non-null  object\n",
      " 5   UNIDAD               9503 non-null   object\n",
      " 6   GENERO               9543 non-null   object\n",
      " 7   RED                  18195 non-null  object\n",
      " 8   TIPO_INCIDENTE       18195 non-null  object\n",
      " 9   PRIORIDAD            18195 non-null  object\n",
      "dtypes: int64(2), object(8)\n",
      "memory usage: 1.4+ MB\n",
      "None\n"
     ]
    }
   ],
   "source": [
    "raw_data_oct2019 = get_input_data(\n",
    "    bucket            = bucket,\n",
    "    initial_directory = directory,\n",
    "    filename          = 'datos-abiertos-octubre-2019.csv'\n",
    ")\n",
    "print(raw_data_oct2019.info())"
   ]
  },
  {
   "cell_type": "code",
   "execution_count": 358,
   "id": "88120de7-7b89-4a2f-bdda-f317925af64d",
   "metadata": {},
   "outputs": [
    {
     "name": "stdout",
     "output_type": "stream",
     "text": [
      "<class 'pandas.core.frame.DataFrame'>\n",
      "RangeIndex: 18195 entries, 0 to 18194\n",
      "Data columns (total 12 columns):\n",
      " #   Column                             Non-Null Count  Dtype \n",
      "---  ------                             --------------  ----- \n",
      " 0   NUMERO_INCIDENTE                   18195 non-null  int64 \n",
      " 1   FECHA_INICIO_DESPLAZAMIENTO_MOVIL  18195 non-null  object\n",
      " 2   CODIGO_LOCALIDAD                   18195 non-null  int64 \n",
      " 3   LOCALIDAD                          18195 non-null  object\n",
      " 4   EDAD                               18195 non-null  object\n",
      " 5   UNIDAD                             9503 non-null   object\n",
      " 6   GENERO                             9543 non-null   object\n",
      " 7   RED                                18195 non-null  object\n",
      " 8   TIPO_INCIDENTE                     18195 non-null  object\n",
      " 9   PRIORIDAD                          18195 non-null  object\n",
      " 10  MES                                18195 non-null  object\n",
      " 11  CLASIFICACION_FINAL                18195 non-null  object\n",
      "dtypes: int64(2), object(10)\n",
      "memory usage: 1.7+ MB\n"
     ]
    }
   ],
   "source": [
    "##Add column MES, CLASIFICACION_FINAL\n",
    "raw_data_oct2019.insert(\n",
    "    loc = 10, \n",
    "    column = 'MES',\n",
    "    value = 'OCTUBRE')\n",
    "raw_data_oct2019.insert(\n",
    "    loc = 11, \n",
    "    column = 'CLASIFICACION_FINAL',\n",
    "    value = 'SIN_DATO')\n",
    "# Don't let white spaces between headers to avoid errors during the pipeline\n",
    "# This is sometimes called a recipe for etl\n",
    "raw_data_oct2019.rename(\n",
    "    columns = {\n",
    "        'FECHA_DESPACHO_518'                : 'FECHA_INICIO_DESPLAZAMIENTO_MOVIL',\n",
    "        'CODIGO DE LOCALIDAD'               : 'CODIGO_LOCALIDAD'\n",
    "    },\n",
    "    inplace=True\n",
    ")\n",
    "raw_data_oct2019.info()"
   ]
  },
  {
   "cell_type": "code",
   "execution_count": 359,
   "id": "bdb0b39c-633b-40b3-b2e1-706b68354564",
   "metadata": {
    "tags": []
   },
   "outputs": [
    {
     "data": {
      "text/plain": [
       "Kennedy               2546\n",
       "Engativa              1791\n",
       "Suba                  1742\n",
       "Bosa                  1334\n",
       "Ciudad Bolivar        1141\n",
       "Puente Aranda          989\n",
       "Rafael Uribe Uribe     949\n",
       "Usaquen                888\n",
       "Fontibon               863\n",
       "San Cristobal          844\n",
       "Chapinero              763\n",
       "Los Martires           697\n",
       "Santa Fe               689\n",
       "Barrios Unidos         680\n",
       "Usme                   609\n",
       "Tunjuelito             589\n",
       "Teusaquillo            536\n",
       "Antonio Nariño         419\n",
       "La Candelaria          120\n",
       "Sumapaz                  6\n",
       "Name: LOCALIDAD, dtype: int64"
      ]
     },
     "execution_count": 359,
     "metadata": {},
     "output_type": "execute_result"
    }
   ],
   "source": [
    "# Let's use the function strip(), this property works for string objects in python that removes whitespaces\n",
    "raw_data_oct2019['LOCALIDAD'].apply(\n",
    "    lambda x: x.strip()        # here we use a lambda function, exclusively for python. Is a one-line function\n",
    ").value_counts()"
   ]
  },
  {
   "cell_type": "code",
   "execution_count": 360,
   "id": "0b2ea1ea-dc54-43a0-aedb-56f79f574cc3",
   "metadata": {},
   "outputs": [],
   "source": [
    "raw_data_oct2019['LOCALIDAD'] = raw_data_oct2019['LOCALIDAD'].apply(lambda x: x.strip()) # we assign the output of the function apply to the same column"
   ]
  },
  {
   "cell_type": "code",
   "execution_count": 361,
   "id": "6530161b-7d89-4e54-9f50-9b85dc47a625",
   "metadata": {},
   "outputs": [],
   "source": [
    "col = 'GENERO'\n",
    "#raw_data_oct2019[col] = raw_data_oct2019[col].apply(lambda x: x.strip())\n",
    "raw_data_oct2019[col] = raw_data_oct2019[col].fillna('SIN_DATO')#.value_counts()  # here we could apply the same technique as before to avoid errors"
   ]
  },
  {
   "cell_type": "code",
   "execution_count": 449,
   "id": "abd73814-c388-4ee1-86cd-a2ae2177f990",
   "metadata": {},
   "outputs": [],
   "source": [
    "col = 'EDAD'\n",
    "raw_data_oct2019[col].value_counts(dropna=False)\n",
    "raw_data_oct2019[col] = raw_data_oct2019[col].replace('SIN_DATO', -1)#.value_counts()"
   ]
  },
  {
   "cell_type": "code",
   "execution_count": 362,
   "id": "53b1e7ea-4ee7-45ac-b669-c1a03ac6fb0a",
   "metadata": {},
   "outputs": [],
   "source": [
    "col = 'UNIDAD'\n",
    "raw_data_oct2019[col] = raw_data_oct2019[col].fillna('SIN_DATO')#.value_counts()\n",
    "#raw_data_oct2019[col].value_counts(dropna=False)"
   ]
  },
  {
   "cell_type": "code",
   "execution_count": 367,
   "id": "38af441c-3112-484a-a600-0c73b5a50082",
   "metadata": {},
   "outputs": [
    {
     "name": "stdout",
     "output_type": "stream",
     "text": [
      "<class 'pandas.core.frame.DataFrame'>\n",
      "RangeIndex: 18195 entries, 0 to 18194\n",
      "Data columns (total 12 columns):\n",
      " #   Column                             Non-Null Count  Dtype         \n",
      "---  ------                             --------------  -----         \n",
      " 0   NUMERO_INCIDENTE                   18195 non-null  int64         \n",
      " 1   FECHA_INICIO_DESPLAZAMIENTO_MOVIL  18195 non-null  datetime64[ns]\n",
      " 2   CODIGO_LOCALIDAD                   18195 non-null  int64         \n",
      " 3   LOCALIDAD                          18195 non-null  object        \n",
      " 4   EDAD                               18195 non-null  object        \n",
      " 5   UNIDAD                             18195 non-null  object        \n",
      " 6   GENERO                             18195 non-null  object        \n",
      " 7   RED                                18195 non-null  object        \n",
      " 8   TIPO_INCIDENTE                     18195 non-null  object        \n",
      " 9   PRIORIDAD                          18195 non-null  object        \n",
      " 10  MES                                18195 non-null  object        \n",
      " 11  CLASIFICACION_FINAL                18195 non-null  object        \n",
      "dtypes: datetime64[ns](1), int64(2), object(9)\n",
      "memory usage: 1.7+ MB\n"
     ]
    }
   ],
   "source": [
    "col = 'FECHA_INICIO_DESPLAZAMIENTO_MOVIL'\n",
    "raw_data_oct2019[col] = pd.to_datetime(raw_data_oct2019[col])\n",
    "raw_data_oct2019.info()"
   ]
  },
  {
   "cell_type": "code",
   "execution_count": 368,
   "id": "4bd20356-4e20-4e13-bc2b-6aee7b0bda29",
   "metadata": {
    "tags": []
   },
   "outputs": [
    {
     "data": {
      "text/plain": [
       "ACCIDENTE DE TRÁNSITO CON HERIDOS/MUERTOS    6778\n",
       "INCONSCIENTE/PARO CARDIORRESPIRATORIO        1768\n",
       "DIFICULTAD RESPIRATORIA                      1497\n",
       "ENFERMO                                      1276\n",
       "CONVULSIONES                                 1130\n",
       "HERIDOS                                       828\n",
       "DOLOR TORÁCICO                                735\n",
       "INTENTO DE SUICIDIO                           668\n",
       "LESIONES PERSONALES                           657\n",
       "TRASTORNO MENTAL                              654\n",
       "ACCIDENTE CEREBRO VASCULAR                    396\n",
       "PATOLOGÍA GINECO - OBSTÉTRICA                 378\n",
       "SÍNTOMAS GASTROINTESTINALES                   375\n",
       "CAÍDA                                         322\n",
       "INTOXICACIONES                                179\n",
       "IDEAS DE SUICIDIO                             111\n",
       "SIN_DATO                                       60\n",
       "INCENDIO ESTRUCTURAL                           51\n",
       "MUERTE NATURAL                                 39\n",
       "VIOLENCIA SEXUAL                               32\n",
       "QUEMADURAS                                     32\n",
       "SOLICITUD APOYO / DESACATO                     30\n",
       "ELECTROCUCIÓN / RESCATE                        20\n",
       "SANGRADO VAGINAL                               20\n",
       "EXPLOSIÓN                                      18\n",
       "RESCATES                                       16\n",
       "RIÑA                                           15\n",
       "ACCIDENTE TRÁNSITO SIMPLE                      10\n",
       "VERIFICAR SITUACIÓN                            10\n",
       "PERSONA PIDIENDO AUXILIO                       10\n",
       "FUGA DE GAS NATURAL O PROPANO                   9\n",
       "INCENDIO VEHICULAR                              8\n",
       "ABRIR DOMICILIO                                 7\n",
       "INCIDENTE RESCATE ACUÁTICO                      7\n",
       "MATPEL (MATERIALES PELIGROSOS)                  6\n",
       "ATRACO / HURTO EN PROCES                        6\n",
       "MUERTO                                          5\n",
       "MALTRATO                                        5\n",
       "MENOR O PERSONA ABANDONADA                      4\n",
       "DISPAROS                                        3\n",
       "INCENDIO CON MATPEL                             3\n",
       "MANIFESTACIÓN / MOTÍN                           3\n",
       "ELEMENTO CAÍDO Y/O EN PELIGRO DE CAER.          3\n",
       "PREVENCIÓN                                      2\n",
       "PSICOLOGIA                                      2\n",
       "VEHICULO HURTADO                                2\n",
       "ABEJAS                                          1\n",
       "EMBRIAGUEZ                                      1\n",
       "INCENDIO                                        1\n",
       "ANIMAL PELIGROSO                                1\n",
       "EXTRAVIADOS / DESAPARECIDOS                     1\n",
       "Name: TIPO_INCIDENTE, dtype: int64"
      ]
     },
     "execution_count": 368,
     "metadata": {},
     "output_type": "execute_result"
    }
   ],
   "source": [
    "col = 'TIPO_INCIDENTE'\n",
    "raw_data_oct2019[col] = raw_data_oct2019[col].apply(lambda x: x.upper())\n",
    "raw_data_oct2019[col].value_counts(dropna=False)"
   ]
  },
  {
   "cell_type": "code",
   "execution_count": 369,
   "id": "d429903d-1d81-40c7-8d77-2cf217a6b168",
   "metadata": {},
   "outputs": [
    {
     "name": "stdout",
     "output_type": "stream",
     "text": [
      "Number of rows before cleaning: 18195\n",
      "Number of rows after cleaning: 16559\n"
     ]
    }
   ],
   "source": [
    "print('Number of rows before cleaning:', raw_data_oct2019.shape[0] )\n",
    "raw_data_oct2019.drop_duplicates(inplace=True)\n",
    "print('Number of rows after cleaning:', raw_data_oct2019.shape[0] )"
   ]
  },
  {
   "cell_type": "code",
   "execution_count": 371,
   "id": "13c49c75-19a9-4ff0-b178-9d55bc9c3fc7",
   "metadata": {},
   "outputs": [],
   "source": [
    "# saving in a local directory\n",
    "raw_data_oct2019.to_csv(project_dir + '/data/processed/' +'clean_llamadas_123_oct_2019.csv', encoding='latin1', sep=';', index=False)"
   ]
  },
  {
   "cell_type": "markdown",
   "id": "3920b655-4561-4c58-b1ab-e74c7396b4c2",
   "metadata": {
    "jp-MarkdownHeadingCollapsed": true,
    "tags": []
   },
   "source": [
    "## Read datos-abiertos-noviembre-2019"
   ]
  },
  {
   "cell_type": "code",
   "execution_count": 401,
   "id": "e986f77e-4f9c-4b10-9a0c-5b9924e8f1ee",
   "metadata": {
    "tags": []
   },
   "outputs": [
    {
     "name": "stdout",
     "output_type": "stream",
     "text": [
      "<class 'pandas.core.frame.DataFrame'>\n",
      "RangeIndex: 15926 entries, 0 to 15925\n",
      "Data columns (total 10 columns):\n",
      " #   Column                             Non-Null Count  Dtype \n",
      "---  ------                             --------------  ----- \n",
      " 0   NUMERO_INCIDENTE                   15926 non-null  object\n",
      " 1   FECHA_INICIO_DESPLAZAMIENTO-MOVIL  15926 non-null  object\n",
      " 2   CODIGO DE LOCALIDAD                15926 non-null  int64 \n",
      " 3   LOCALIDAD                          15926 non-null  object\n",
      " 4   EDAD                               15926 non-null  int64 \n",
      " 5   UNIDAD                             15926 non-null  object\n",
      " 6   GENERO                             15926 non-null  object\n",
      " 7   RED                                15926 non-null  object\n",
      " 8   TIPO_INCIDENTE                     15926 non-null  object\n",
      " 9   PRIORIDAD                          15926 non-null  object\n",
      "dtypes: int64(2), object(8)\n",
      "memory usage: 1.2+ MB\n",
      "None\n"
     ]
    }
   ],
   "source": [
    "raw_data_nov2019 = get_input_data(\n",
    "    bucket            = bucket,\n",
    "    initial_directory = directory,\n",
    "    filename          = 'datos-abiertos-noviembre_2019.csv'\n",
    ")\n",
    "print(raw_data_nov2019.info())"
   ]
  },
  {
   "cell_type": "code",
   "execution_count": 402,
   "id": "23df8bd8-b598-4b67-91b1-56fb08c9d2e0",
   "metadata": {
    "tags": []
   },
   "outputs": [
    {
     "name": "stdout",
     "output_type": "stream",
     "text": [
      "<class 'pandas.core.frame.DataFrame'>\n",
      "RangeIndex: 15926 entries, 0 to 15925\n",
      "Data columns (total 12 columns):\n",
      " #   Column                             Non-Null Count  Dtype \n",
      "---  ------                             --------------  ----- \n",
      " 0   NUMERO_INCIDENTE                   15926 non-null  object\n",
      " 1   FECHA_INICIO_DESPLAZAMIENTO_MOVIL  15926 non-null  object\n",
      " 2   CODIGO_LOCALIDAD                   15926 non-null  int64 \n",
      " 3   LOCALIDAD                          15926 non-null  object\n",
      " 4   EDAD                               15926 non-null  int64 \n",
      " 5   UNIDAD                             15926 non-null  object\n",
      " 6   GENERO                             15926 non-null  object\n",
      " 7   RED                                15926 non-null  object\n",
      " 8   TIPO_INCIDENTE                     15926 non-null  object\n",
      " 9   PRIORIDAD                          15926 non-null  object\n",
      " 10  MES                                15926 non-null  object\n",
      " 11  CLASIFICACION_FINAL                15926 non-null  object\n",
      "dtypes: int64(2), object(10)\n",
      "memory usage: 1.5+ MB\n"
     ]
    }
   ],
   "source": [
    "##Add column MES, CLASIFICACION_FINAL\n",
    "raw_data_nov2019.insert(\n",
    "    loc = 10, \n",
    "    column = 'MES',\n",
    "    value = 'NOVIEMBRE')\n",
    "raw_data_nov2019.insert(\n",
    "    loc = 11, \n",
    "    column = 'CLASIFICACION_FINAL',\n",
    "    value = 'SIN_DATO')\n",
    "raw_data_nov2019.rename(\n",
    "    columns = {\n",
    "        'FECHA_INICIO_DESPLAZAMIENTO-MOVIL' : 'FECHA_INICIO_DESPLAZAMIENTO_MOVIL',\n",
    "        'CODIGO DE LOCALIDAD'               : 'CODIGO_LOCALIDAD'\n",
    "    },\n",
    "    inplace=True)\n",
    "raw_data_nov2019.info()"
   ]
  },
  {
   "cell_type": "code",
   "execution_count": 403,
   "id": "e0180b2c-eaaf-46ad-8220-c7369c7f4d61",
   "metadata": {
    "tags": []
   },
   "outputs": [
    {
     "data": {
      "text/plain": [
       "Kennedy               2192\n",
       "Engativa              1571\n",
       "Suba                  1424\n",
       "Bosa                  1189\n",
       "Ciudad Bolivar        1123\n",
       "Puente Aranda          854\n",
       "Rafael Uribe Uribe     835\n",
       "Usaquen                808\n",
       "Fontibon               787\n",
       "San Cristobal          758\n",
       "Santa Fe               613\n",
       "Chapinero              577\n",
       "Usme                   577\n",
       "Los Martires           560\n",
       "Tunjuelito             551\n",
       "Teusaquillo            546\n",
       "Barrios Unidos         520\n",
       "Antonio Nariño         338\n",
       "La Candelaria          102\n",
       "Sumapaz                  1\n",
       "Name: LOCALIDAD, dtype: int64"
      ]
     },
     "execution_count": 403,
     "metadata": {},
     "output_type": "execute_result"
    }
   ],
   "source": [
    "# Let's use the function strip(), this property works for string objects in python that removes whitespaces\n",
    "raw_data_nov2019['LOCALIDAD'].apply(\n",
    "    lambda x: x.strip()        # here we use a lambda function, exclusively for python. Is a one-line function\n",
    ").value_counts()"
   ]
  },
  {
   "cell_type": "code",
   "execution_count": 404,
   "id": "f780b7b6-9a54-498c-a723-4d002f9bb2dd",
   "metadata": {},
   "outputs": [],
   "source": [
    "raw_data_nov2019['LOCALIDAD'] = raw_data_nov2019['LOCALIDAD'].apply(lambda x: x.strip()) # we assign the output of the function apply to the same column"
   ]
  },
  {
   "cell_type": "code",
   "execution_count": 405,
   "id": "9857fd20-28e6-4302-a548-6226c0ee6c4c",
   "metadata": {
    "tags": []
   },
   "outputs": [],
   "source": [
    "col = 'TIPO_INCIDENTE'\n",
    "raw_data_nov2019[col] = raw_data_nov2019[col].apply(lambda x: x.upper()).value_counts()"
   ]
  },
  {
   "cell_type": "code",
   "execution_count": 450,
   "id": "e8d3f6d8-20e2-4ab8-a0be-905017805f45",
   "metadata": {},
   "outputs": [],
   "source": [
    "col = 'EDAD'\n",
    "raw_data_nov2019[col].value_counts(dropna=False)\n",
    "raw_data_nov2019[col] = raw_data_nov2019[col].replace('SIN_DATO', -1)#.value_counts()"
   ]
  },
  {
   "cell_type": "code",
   "execution_count": 406,
   "id": "cf14a07a-e7ff-4c75-ba70-5d0e9f9ce2fb",
   "metadata": {},
   "outputs": [],
   "source": [
    "col = 'FECHA_INICIO_DESPLAZAMIENTO_MOVIL'\n",
    "raw_data_nov2019[col] = pd.to_datetime(raw_data_nov2019[col])"
   ]
  },
  {
   "cell_type": "code",
   "execution_count": 407,
   "id": "cd18df0f-b783-4986-9eb0-11027bdc50f6",
   "metadata": {},
   "outputs": [
    {
     "name": "stdout",
     "output_type": "stream",
     "text": [
      "Number of rows before cleaning: 15926\n",
      "Number of rows after cleaning: 15886\n"
     ]
    }
   ],
   "source": [
    "print('Number of rows before cleaning:', raw_data_nov2019.shape[0] )\n",
    "raw_data_nov2019.drop_duplicates(inplace=True)\n",
    "print('Number of rows after cleaning:', raw_data_nov2019.shape[0] )"
   ]
  },
  {
   "cell_type": "markdown",
   "id": "f78a35a2-6c10-4dea-aa03-fa99ee0863d0",
   "metadata": {
    "tags": []
   },
   "source": [
    "**save cleanned data**"
   ]
  },
  {
   "cell_type": "code",
   "execution_count": 408,
   "id": "fb70c138-c79d-4921-ba48-e6adc2af9ca3",
   "metadata": {},
   "outputs": [],
   "source": [
    "# saving in a local directory\n",
    "raw_data_nov2019.to_csv(project_dir + '/data/processed/' +'clean_llamadas_123_nov_2019.csv', encoding='latin1', sep=';', index=False)"
   ]
  },
  {
   "cell_type": "markdown",
   "id": "190ed22c-545a-47b3-894e-4b1b9fe9d980",
   "metadata": {
    "jp-MarkdownHeadingCollapsed": true,
    "tags": []
   },
   "source": [
    "## Read datos-abiertos-diciembre-2019"
   ]
  },
  {
   "cell_type": "code",
   "execution_count": 409,
   "id": "6db875fc-2c96-4fb8-9622-c7209d7209ec",
   "metadata": {},
   "outputs": [
    {
     "name": "stdout",
     "output_type": "stream",
     "text": [
      "<class 'pandas.core.frame.DataFrame'>\n",
      "RangeIndex: 16243 entries, 0 to 16242\n",
      "Data columns (total 10 columns):\n",
      " #   Column               Non-Null Count  Dtype \n",
      "---  ------               --------------  ----- \n",
      " 0   NUMERO_INCIDENTE     16243 non-null  object\n",
      " 1   FECHA_DESPACHO_518   16243 non-null  object\n",
      " 2   CODIGO DE LOCALIDAD  16243 non-null  int64 \n",
      " 3   LOCALIDAD            16243 non-null  object\n",
      " 4   EDAD                 16243 non-null  int64 \n",
      " 5   UNIDAD               16243 non-null  object\n",
      " 6   GENERO               16243 non-null  object\n",
      " 7   RED                  16243 non-null  object\n",
      " 8   TIPO_INCIDENTE       16243 non-null  object\n",
      " 9   PRIORIDAD            16243 non-null  object\n",
      "dtypes: int64(2), object(8)\n",
      "memory usage: 1.2+ MB\n",
      "None\n"
     ]
    }
   ],
   "source": [
    "raw_data_dic2019 = get_input_data(\n",
    "    bucket            = bucket,\n",
    "    initial_directory = directory,\n",
    "    filename          = 'datos_abiertos_cons_diciembre_2019.csv'\n",
    ")\n",
    "print(raw_data_dic2019.info())"
   ]
  },
  {
   "cell_type": "code",
   "execution_count": 410,
   "id": "35549411-d67b-43df-87c6-9928b2d2eb20",
   "metadata": {
    "tags": []
   },
   "outputs": [
    {
     "name": "stdout",
     "output_type": "stream",
     "text": [
      "<class 'pandas.core.frame.DataFrame'>\n",
      "RangeIndex: 16243 entries, 0 to 16242\n",
      "Data columns (total 12 columns):\n",
      " #   Column                             Non-Null Count  Dtype \n",
      "---  ------                             --------------  ----- \n",
      " 0   NUMERO_INCIDENTE                   16243 non-null  object\n",
      " 1   FECHA_INICIO_DESPLAZAMIENTO_MOVIL  16243 non-null  object\n",
      " 2   CODIGO_LOCALIDAD                   16243 non-null  int64 \n",
      " 3   LOCALIDAD                          16243 non-null  object\n",
      " 4   EDAD                               16243 non-null  int64 \n",
      " 5   UNIDAD                             16243 non-null  object\n",
      " 6   GENERO                             16243 non-null  object\n",
      " 7   RED                                16243 non-null  object\n",
      " 8   TIPO_INCIDENTE                     16243 non-null  object\n",
      " 9   PRIORIDAD                          16243 non-null  object\n",
      " 10  MES                                16243 non-null  object\n",
      " 11  CLASIFICACION_FINAL                16243 non-null  object\n",
      "dtypes: int64(2), object(10)\n",
      "memory usage: 1.5+ MB\n"
     ]
    }
   ],
   "source": [
    "##Add column MES, CLASIFICACION_FINAL\n",
    "raw_data_dic2019.insert(\n",
    "    loc = 10, \n",
    "    column = 'MES',\n",
    "    value = 'DICIEMBRE')\n",
    "raw_data_dic2019.insert(\n",
    "    loc = 11, \n",
    "    column = 'CLASIFICACION_FINAL',\n",
    "    value = 'SIN_DATO')\n",
    "raw_data_dic2019.rename(\n",
    "    columns = {\n",
    "        'FECHA_DESPACHO_518' : 'FECHA_INICIO_DESPLAZAMIENTO_MOVIL',\n",
    "        'CODIGO DE LOCALIDAD' : 'CODIGO_LOCALIDAD'\n",
    "    },\n",
    "    inplace=True\n",
    ")\n",
    "raw_data_dic2019.info()"
   ]
  },
  {
   "cell_type": "code",
   "execution_count": 411,
   "id": "2a279d6e-a7d9-4536-a101-9d04c2e9e3f2",
   "metadata": {
    "tags": []
   },
   "outputs": [
    {
     "data": {
      "text/plain": [
       "Kennedy               2317\n",
       "Engativá              1644\n",
       "Suba                  1471\n",
       "Bosa                  1182\n",
       "Ciudad Bolívar        1121\n",
       "Puente Aranda          904\n",
       "Fontibón               864\n",
       "San Cristóbal          838\n",
       "Rafael Uribe Uribe     772\n",
       "Usaquén                770\n",
       "Usme                   630\n",
       "Tunjuelito             616\n",
       "Santa Fe               589\n",
       "Chapinero              556\n",
       "Los Mártires           525\n",
       "Barrios Unidos         513\n",
       "Teusaquillo            497\n",
       "Antonio Nariño         373\n",
       "La Candelaria           60\n",
       "Sumapaz                  1\n",
       "Name: LOCALIDAD, dtype: int64"
      ]
     },
     "execution_count": 411,
     "metadata": {},
     "output_type": "execute_result"
    }
   ],
   "source": [
    "# Let's use the function strip(), this property works for string objects in python that removes whitespaces\n",
    "raw_data_dic2019['LOCALIDAD'].apply(\n",
    "    lambda x: x.strip()        # here we use a lambda function, exclusively for python. Is a one-line function\n",
    ").value_counts()"
   ]
  },
  {
   "cell_type": "code",
   "execution_count": 412,
   "id": "9965ef5b-2790-411e-a6dd-88e37088a519",
   "metadata": {},
   "outputs": [],
   "source": [
    "raw_data_dic2019['LOCALIDAD'] = raw_data_dic2019['LOCALIDAD'].apply(lambda x: x.strip()) # we assign the output of the function apply to the same column"
   ]
  },
  {
   "cell_type": "code",
   "execution_count": 413,
   "id": "8ab973d4-133b-440e-8990-ed226d0062ff",
   "metadata": {},
   "outputs": [
    {
     "data": {
      "text/plain": [
       "SIN_DATO    8286\n",
       "Años        7889\n",
       "Meses         45\n",
       "Horas         13\n",
       "Dias          10\n",
       "Name: UNIDAD, dtype: int64"
      ]
     },
     "execution_count": 413,
     "metadata": {},
     "output_type": "execute_result"
    }
   ],
   "source": [
    "col = 'UNIDAD'\n",
    "raw_data_dic2019[col] = raw_data_dic2019[col].apply(lambda x: x.replace('/','_')) \n",
    "raw_data_dic2019[col].value_counts()"
   ]
  },
  {
   "cell_type": "code",
   "execution_count": 451,
   "id": "353d4827-f314-488d-a647-2b086a705eb7",
   "metadata": {},
   "outputs": [],
   "source": [
    "col = 'EDAD'\n",
    "raw_data_dic2019[col].value_counts(dropna=False)\n",
    "raw_data_dic2019[col] = raw_data_dic2019[col].replace('SIN_DATO', -1)#.value_counts()"
   ]
  },
  {
   "cell_type": "code",
   "execution_count": 414,
   "id": "998ee462-af4d-4c6c-8358-a82ec431928a",
   "metadata": {},
   "outputs": [
    {
     "name": "stdout",
     "output_type": "stream",
     "text": [
      "<class 'pandas.core.frame.DataFrame'>\n",
      "RangeIndex: 16243 entries, 0 to 16242\n",
      "Data columns (total 12 columns):\n",
      " #   Column                             Non-Null Count  Dtype         \n",
      "---  ------                             --------------  -----         \n",
      " 0   NUMERO_INCIDENTE                   16243 non-null  object        \n",
      " 1   FECHA_INICIO_DESPLAZAMIENTO_MOVIL  16243 non-null  datetime64[ns]\n",
      " 2   CODIGO_LOCALIDAD                   16243 non-null  int64         \n",
      " 3   LOCALIDAD                          16243 non-null  object        \n",
      " 4   EDAD                               16243 non-null  int64         \n",
      " 5   UNIDAD                             16243 non-null  object        \n",
      " 6   GENERO                             16243 non-null  object        \n",
      " 7   RED                                16243 non-null  object        \n",
      " 8   TIPO_INCIDENTE                     16243 non-null  object        \n",
      " 9   PRIORIDAD                          16243 non-null  object        \n",
      " 10  MES                                16243 non-null  object        \n",
      " 11  CLASIFICACION_FINAL                16243 non-null  object        \n",
      "dtypes: datetime64[ns](1), int64(2), object(9)\n",
      "memory usage: 1.5+ MB\n"
     ]
    }
   ],
   "source": [
    "col = 'FECHA_INICIO_DESPLAZAMIENTO_MOVIL'\n",
    "raw_data_dic2019[col] = pd.to_datetime(raw_data_dic2019[col])\n",
    "raw_data_dic2019.info()"
   ]
  },
  {
   "cell_type": "code",
   "execution_count": 415,
   "id": "5eadb557-2a7c-447a-bb2d-ef5c3e50b916",
   "metadata": {},
   "outputs": [
    {
     "data": {
      "text/plain": [
       "SIN_DATO     8286\n",
       "MASCULINO    4405\n",
       "FEMENINO     3552\n",
       "Name: GENERO, dtype: int64"
      ]
     },
     "execution_count": 415,
     "metadata": {},
     "output_type": "execute_result"
    }
   ],
   "source": [
    "col = 'GENERO'\n",
    "raw_data_dic2019[col] = raw_data_dic2019[col].apply(lambda x: x.replace('/','_')) \n",
    "raw_data_dic2019[col].value_counts()"
   ]
  },
  {
   "cell_type": "code",
   "execution_count": 416,
   "id": "58094fe6-6cad-43a2-8e24-5f7c1e11b9f2",
   "metadata": {
    "tags": []
   },
   "outputs": [
    {
     "data": {
      "text/plain": [
       "HERIDOS ACCIDENTALES                      7390\n",
       "INCONSCIENTE / PARO CARDIORESPIRATORIO    1743\n",
       "EVENTO RESPIRATORIO                       1404\n",
       "CONVULSIÓN                                1027\n",
       "ENFERMO                                    873\n",
       "TRASTORNO MENTAL                           650\n",
       "DOLOR TORÁCICO                             611\n",
       "INTENTO DE SUICIDIO                        543\n",
       "CAÍDA DE ALTURA                            377\n",
       "PATOLOGÍA GINECOBSTÉTRICA                  371\n",
       "ACCIDENTE CEREBRO\\nVASCULAR                365\n",
       "SÍNTOMAS GASTROINTESTINALES                275\n",
       "INTOXICACIÓN                               153\n",
       "S/D                                        138\n",
       "ACCIDENTE TRÁNSITO CON HERIDOS/MUERTOS     108\n",
       "AMENAZA DE\\nSUICIDIO                        95\n",
       "VIOLENCIA SEXUAL                            28\n",
       "SANGRADO VAGINAL                            24\n",
       "LESIONES PERSONALES                         23\n",
       "QUEMADURAS                                  16\n",
       "ELECTROCUCIÓN / RESCATE                     10\n",
       "ACCIDENTE CEREBRO VASCULAR (ACV)             7\n",
       "MALTRATO                                     7\n",
       "INCENDIO ESTRUCTURAL                         2\n",
       "MUERTE NATURAL                               2\n",
       "ACCIDENTE DE AVIACIÓN                        1\n",
       "Name: TIPO_INCIDENTE, dtype: int64"
      ]
     },
     "execution_count": 416,
     "metadata": {},
     "output_type": "execute_result"
    }
   ],
   "source": [
    "col = 'TIPO_INCIDENTE'\n",
    "raw_data_dic2019[col] = raw_data_dic2019[col].apply(lambda x: x.upper())\n",
    "raw_data_dic2019[col] = raw_data_dic2019[col].apply(lambda x: x.strip())\n",
    "raw_data_dic2019[col].value_counts()"
   ]
  },
  {
   "cell_type": "code",
   "execution_count": 417,
   "id": "beb2066c-4565-4ebc-8ba8-4580569b2392",
   "metadata": {},
   "outputs": [
    {
     "name": "stdout",
     "output_type": "stream",
     "text": [
      "Number of rows before cleaning: 16243\n",
      "Number of rows after cleaning: 16162\n"
     ]
    }
   ],
   "source": [
    "print('Number of rows before cleaning:', raw_data_dic2019.shape[0] )\n",
    "raw_data_dic2019.drop_duplicates(inplace=True)\n",
    "print('Number of rows after cleaning:', raw_data_dic2019.shape[0] )"
   ]
  },
  {
   "cell_type": "code",
   "execution_count": 418,
   "id": "11bde673-ad3a-449f-93aa-5e3c9d4028d2",
   "metadata": {},
   "outputs": [],
   "source": [
    "# saving in a local directory\n",
    "raw_data_dic2019.to_csv(project_dir + '/data/processed/' +'clean_llamadas_123_dic_2019.csv', encoding='latin1', sep=';', index=False)"
   ]
  },
  {
   "cell_type": "markdown",
   "id": "01304d69-36f8-46d6-9efc-1bd6341dee25",
   "metadata": {
    "jp-MarkdownHeadingCollapsed": true,
    "tags": []
   },
   "source": [
    "## Read datos-abiertos-enero-2020"
   ]
  },
  {
   "cell_type": "code",
   "execution_count": 419,
   "id": "e6c9868b-694c-41ee-ab61-fb7224e8c485",
   "metadata": {},
   "outputs": [
    {
     "name": "stdout",
     "output_type": "stream",
     "text": [
      "<class 'pandas.core.frame.DataFrame'>\n",
      "RangeIndex: 15304 entries, 0 to 15303\n",
      "Data columns (total 37 columns):\n",
      " #   Column               Non-Null Count  Dtype  \n",
      "---  ------               --------------  -----  \n",
      " 0   NUMERO_INCIDENTE     15304 non-null  object \n",
      " 1   FECHA_DESPACHO_518   15304 non-null  object \n",
      " 2   CODIGO DE LOCALIDAD  15304 non-null  int64  \n",
      " 3   LOCALIDAD            15304 non-null  object \n",
      " 4   EDAD                 15304 non-null  int64  \n",
      " 5   UNIDAD               15304 non-null  object \n",
      " 6   GENERO               15304 non-null  object \n",
      " 7   RED                  15304 non-null  object \n",
      " 8   TIPO_INCIDENTE       15304 non-null  object \n",
      " 9   PRIORIDAD            15304 non-null  int64  \n",
      " 10  Unnamed: 10          0 non-null      float64\n",
      " 11  Unnamed: 11          0 non-null      float64\n",
      " 12  Unnamed: 12          0 non-null      float64\n",
      " 13  Unnamed: 13          0 non-null      float64\n",
      " 14  Unnamed: 14          0 non-null      float64\n",
      " 15  Unnamed: 15          0 non-null      float64\n",
      " 16  Unnamed: 16          0 non-null      float64\n",
      " 17  Unnamed: 17          0 non-null      float64\n",
      " 18  Unnamed: 18          0 non-null      float64\n",
      " 19  Unnamed: 19          0 non-null      float64\n",
      " 20  Unnamed: 20          0 non-null      float64\n",
      " 21  Unnamed: 21          0 non-null      float64\n",
      " 22  Unnamed: 22          0 non-null      float64\n",
      " 23  Unnamed: 23          0 non-null      float64\n",
      " 24  Unnamed: 24          0 non-null      float64\n",
      " 25  Unnamed: 25          0 non-null      float64\n",
      " 26  Unnamed: 26          0 non-null      float64\n",
      " 27  Unnamed: 27          0 non-null      float64\n",
      " 28  Unnamed: 28          0 non-null      float64\n",
      " 29  Unnamed: 29          0 non-null      float64\n",
      " 30  Unnamed: 30          0 non-null      float64\n",
      " 31  Unnamed: 31          0 non-null      float64\n",
      " 32  Unnamed: 32          0 non-null      float64\n",
      " 33  Unnamed: 33          0 non-null      float64\n",
      " 34  Unnamed: 34          0 non-null      float64\n",
      " 35  Unnamed: 35          0 non-null      float64\n",
      " 36  Unnamed: 36          0 non-null      float64\n",
      "dtypes: float64(27), int64(3), object(7)\n",
      "memory usage: 4.3+ MB\n",
      "None\n"
     ]
    }
   ],
   "source": [
    "raw_data_ene2020 = get_input_data(\n",
    "    bucket            = bucket,\n",
    "    initial_directory = directory,\n",
    "    filename          = 'datos-abiertos-enero_2020.csv'\n",
    ")\n",
    "print(raw_data_ene2020.info())"
   ]
  },
  {
   "cell_type": "code",
   "execution_count": 420,
   "id": "bbbda5db-9d69-4479-bcc4-ffdde8c9ebde",
   "metadata": {},
   "outputs": [
    {
     "name": "stdout",
     "output_type": "stream",
     "text": [
      "<class 'pandas.core.frame.DataFrame'>\n",
      "RangeIndex: 15304 entries, 0 to 15303\n",
      "Data columns (total 10 columns):\n",
      " #   Column               Non-Null Count  Dtype \n",
      "---  ------               --------------  ----- \n",
      " 0   NUMERO_INCIDENTE     15304 non-null  object\n",
      " 1   FECHA_DESPACHO_518   15304 non-null  object\n",
      " 2   CODIGO DE LOCALIDAD  15304 non-null  int64 \n",
      " 3   LOCALIDAD            15304 non-null  object\n",
      " 4   EDAD                 15304 non-null  int64 \n",
      " 5   UNIDAD               15304 non-null  object\n",
      " 6   GENERO               15304 non-null  object\n",
      " 7   RED                  15304 non-null  object\n",
      " 8   TIPO_INCIDENTE       15304 non-null  object\n",
      " 9   PRIORIDAD            15304 non-null  int64 \n",
      "dtypes: int64(3), object(7)\n",
      "memory usage: 1.2+ MB\n"
     ]
    }
   ],
   "source": [
    "list_cols_to_drop = ['Unnamed: {}'.format(i) for i in range(10,37)]  #En corchetes se espera el valor de una variable\n",
    "list_cols_to_drop\n",
    "raw_data_ene2020.drop(list_cols_to_drop, axis = 1 ).info() #.info() es para saber que podria pasar al hacer lo anterior\n",
    "raw_data_ene2020 = raw_data_ene2020.drop(list_cols_to_drop, axis = 1 )"
   ]
  },
  {
   "cell_type": "code",
   "execution_count": 421,
   "id": "9a1565a4-f0fd-4d5e-b361-f5453788203b",
   "metadata": {
    "tags": []
   },
   "outputs": [
    {
     "name": "stdout",
     "output_type": "stream",
     "text": [
      "<class 'pandas.core.frame.DataFrame'>\n",
      "RangeIndex: 15304 entries, 0 to 15303\n",
      "Data columns (total 12 columns):\n",
      " #   Column                             Non-Null Count  Dtype \n",
      "---  ------                             --------------  ----- \n",
      " 0   NUMERO_INCIDENTE                   15304 non-null  object\n",
      " 1   FECHA_INICIO_DESPLAZAMIENTO_MOVIL  15304 non-null  object\n",
      " 2   CODIGO_LOCALIDAD                   15304 non-null  int64 \n",
      " 3   LOCALIDAD                          15304 non-null  object\n",
      " 4   EDAD                               15304 non-null  int64 \n",
      " 5   UNIDAD                             15304 non-null  object\n",
      " 6   GENERO                             15304 non-null  object\n",
      " 7   RED                                15304 non-null  object\n",
      " 8   TIPO_INCIDENTE                     15304 non-null  object\n",
      " 9   PRIORIDAD                          15304 non-null  int64 \n",
      " 10  MES                                15304 non-null  object\n",
      " 11  CLASIFICACION_FINAL                15304 non-null  object\n",
      "dtypes: int64(3), object(9)\n",
      "memory usage: 1.4+ MB\n"
     ]
    }
   ],
   "source": [
    "##Add column MES, CLASIFICACION_FINAL\n",
    "raw_data_ene2020.insert(\n",
    "    loc = 10, \n",
    "    column = 'MES',\n",
    "    value = 'ENERO')\n",
    "raw_data_ene2020.insert(\n",
    "    loc = 11, \n",
    "    column = 'CLASIFICACION_FINAL',\n",
    "    value = 'SIN_DATO')\n",
    "raw_data_ene2020.rename(\n",
    "    columns = {\n",
    "        'FECHA_DESPACHO_518' : 'FECHA_INICIO_DESPLAZAMIENTO_MOVIL',\n",
    "        'CODIGO DE LOCALIDAD' : 'CODIGO_LOCALIDAD'\n",
    "    },\n",
    "    inplace=True\n",
    ")\n",
    "raw_data_ene2020.info()"
   ]
  },
  {
   "cell_type": "code",
   "execution_count": 422,
   "id": "af0468b0-e0a3-4a68-be73-c74b0a004f9e",
   "metadata": {
    "tags": []
   },
   "outputs": [
    {
     "data": {
      "text/plain": [
       "Kennedy               2116\n",
       "Engativá              1473\n",
       "Suba                  1465\n",
       "Bosa                  1072\n",
       "Ciudad Bolívar        1022\n",
       "Puente Aranda          942\n",
       "Fontibón               812\n",
       "Usaquén                786\n",
       "San Cristóbal          746\n",
       "Rafael Uribe Uribe     737\n",
       "Usme                   678\n",
       "Tunjuelito             550\n",
       "Santa Fe               541\n",
       "Teusaquillo            527\n",
       "Barrios Unidos         506\n",
       "Chapinero              498\n",
       "Los Mártires           446\n",
       "Antonio Nariño         320\n",
       "La Candelaria           64\n",
       "Sumapaz                  3\n",
       "Name: LOCALIDAD, dtype: int64"
      ]
     },
     "execution_count": 422,
     "metadata": {},
     "output_type": "execute_result"
    }
   ],
   "source": [
    "# Let's use the function strip(), this property works for string objects in python that removes whitespaces\n",
    "raw_data_ene2020['LOCALIDAD'].apply(\n",
    "    lambda x: x.strip()        # here we use a lambda function, exclusively for python. Is a one-line function\n",
    ").value_counts()"
   ]
  },
  {
   "cell_type": "code",
   "execution_count": 423,
   "id": "227056e7-3dd6-4521-91b5-c73736a8c708",
   "metadata": {},
   "outputs": [],
   "source": [
    "raw_data_ene2020['LOCALIDAD'] = raw_data_ene2020['LOCALIDAD'].apply(lambda x: x.strip()) # we assign the output of the function apply to the same column"
   ]
  },
  {
   "cell_type": "code",
   "execution_count": 424,
   "id": "f7aa2f21-cbd7-49fc-bfad-232773e167a5",
   "metadata": {
    "tags": []
   },
   "outputs": [
    {
     "data": {
      "text/plain": [
       "HERIDOS                                   6849\n",
       "INCONSCIENTE/PARO CARDIORRESPIRATORIO     1520\n",
       "DIFICULTAD RESPIRATORIA                   1359\n",
       "ENFERMO                                   1045\n",
       "CONVULSIONES                               994\n",
       "TRASTORNO MENTAL                           661\n",
       "DOLOR TORÁCICO                             634\n",
       "INTENTO DE SUICIDIO                        503\n",
       "ACCIDENTE CEREBRO VASCULAR                 374\n",
       "PATOLOGÍA GINECO - OBSTÉTRICA              331\n",
       "SÍNTOMAS GASTROINTESTINALES                331\n",
       "CAÍDA                                      320\n",
       "INTOXICACIONES                             138\n",
       "IDEAS DE SUICIDIO                           99\n",
       "SIN_DATO                                    80\n",
       "VIOLENCIA SEXUAL                            34\n",
       "QUEMADURAS                                  10\n",
       "SANGRADO VAGINAL                             8\n",
       "MALTRATO                                     7\n",
       "ELECTROCUCIÓN / RESCATE                      7\n",
       "Name: TIPO_INCIDENTE, dtype: int64"
      ]
     },
     "execution_count": 424,
     "metadata": {},
     "output_type": "execute_result"
    }
   ],
   "source": [
    "col = 'TIPO_INCIDENTE'\n",
    "raw_data_ene2020[col] = raw_data_ene2020[col].apply(lambda x: x.upper())\n",
    "raw_data_ene2020[col].value_counts()"
   ]
  },
  {
   "cell_type": "code",
   "execution_count": 425,
   "id": "eb724b80-ea05-4621-a3af-6f68bc1d6987",
   "metadata": {},
   "outputs": [
    {
     "name": "stdout",
     "output_type": "stream",
     "text": [
      "<class 'pandas.core.frame.DataFrame'>\n",
      "RangeIndex: 15304 entries, 0 to 15303\n",
      "Data columns (total 12 columns):\n",
      " #   Column                             Non-Null Count  Dtype         \n",
      "---  ------                             --------------  -----         \n",
      " 0   NUMERO_INCIDENTE                   15304 non-null  object        \n",
      " 1   FECHA_INICIO_DESPLAZAMIENTO_MOVIL  15304 non-null  datetime64[ns]\n",
      " 2   CODIGO_LOCALIDAD                   15304 non-null  int64         \n",
      " 3   LOCALIDAD                          15304 non-null  object        \n",
      " 4   EDAD                               15304 non-null  int64         \n",
      " 5   UNIDAD                             15304 non-null  object        \n",
      " 6   GENERO                             15304 non-null  object        \n",
      " 7   RED                                15304 non-null  object        \n",
      " 8   TIPO_INCIDENTE                     15304 non-null  object        \n",
      " 9   PRIORIDAD                          15304 non-null  int64         \n",
      " 10  MES                                15304 non-null  object        \n",
      " 11  CLASIFICACION_FINAL                15304 non-null  object        \n",
      "dtypes: datetime64[ns](1), int64(3), object(8)\n",
      "memory usage: 1.4+ MB\n"
     ]
    }
   ],
   "source": [
    "col = 'FECHA_INICIO_DESPLAZAMIENTO_MOVIL'\n",
    "raw_data_ene2020[col] = pd.to_datetime(raw_data_ene2020[col])\n",
    "raw_data_ene2020.info()"
   ]
  },
  {
   "cell_type": "code",
   "execution_count": 453,
   "id": "279e52c1-a069-47fd-88bf-99e9a8f4b685",
   "metadata": {},
   "outputs": [],
   "source": [
    "col = 'EDAD'\n",
    "raw_data_ene2020[col].value_counts(dropna=False)\n",
    "raw_data_ene2020[col] = raw_data_ene2020[col].replace('SIN_DATO', -1)#.value_counts()"
   ]
  },
  {
   "cell_type": "code",
   "execution_count": 454,
   "id": "18ae69b0-4183-41c5-8c6a-efd6ef93279c",
   "metadata": {},
   "outputs": [
    {
     "name": "stdout",
     "output_type": "stream",
     "text": [
      "Number of rows before cleaning: 16267\n",
      "Number of rows after cleaning: 16267\n"
     ]
    }
   ],
   "source": [
    "print('Number of rows before cleaning:', raw_data_sep2019.shape[0] )\n",
    "raw_data_sep2019.drop_duplicates(inplace=True)\n",
    "print('Number of rows after cleaning:', raw_data_sep2019.shape[0] )"
   ]
  },
  {
   "cell_type": "code",
   "execution_count": 455,
   "id": "a9e7dac0-3651-451a-8dd0-441b5b5a513d",
   "metadata": {},
   "outputs": [],
   "source": [
    "# saving in a local directory\n",
    "raw_data_ene2020.to_csv(project_dir + '/data/processed/' +'clean_llamadas_123_ene_2020.csv', encoding='latin1', sep=';', index=False)"
   ]
  },
  {
   "cell_type": "markdown",
   "id": "1a604b9b-8dae-422e-8dd5-3ab608a69f65",
   "metadata": {
    "jp-MarkdownHeadingCollapsed": true,
    "tags": []
   },
   "source": [
    "## Join files cleanned"
   ]
  },
  {
   "cell_type": "code",
   "execution_count": 456,
   "id": "c83f7e5b-5d41-404d-a152-2fb3533da948",
   "metadata": {
    "tags": []
   },
   "outputs": [],
   "source": [
    "notebook_dir = os.getcwd()\n",
    "project_dir = notebook_dir[:notebook_dir.rfind('/')]\n",
    "sys.path.append(os.path.join(project_dir,'data','processed'))\n",
    "\n",
    "from data_manipulator import get_input_data_open"
   ]
  },
  {
   "cell_type": "code",
   "execution_count": 457,
   "id": "ad6dd361-1ca7-4a56-9e76-8cf5e852eb0c",
   "metadata": {},
   "outputs": [
    {
     "name": "stdout",
     "output_type": "stream",
     "text": [
      "data path /home/jupyter/ESEIT_BigData/data/processed/clean_llamadas_123_ago_2019.csv\n",
      "data path /home/jupyter/ESEIT_BigData/data/processed/clean_llamadas_123_sep_2019.csv\n",
      "data path /home/jupyter/ESEIT_BigData/data/processed/clean_llamadas_123_oct_2019.csv\n",
      "data path /home/jupyter/ESEIT_BigData/data/processed/clean_llamadas_123_nov_2019.csv\n",
      "data path /home/jupyter/ESEIT_BigData/data/processed/clean_llamadas_123_dic_2019.csv\n",
      "data path /home/jupyter/ESEIT_BigData/data/processed/clean_llamadas_123_ene_2020.csv\n"
     ]
    }
   ],
   "source": [
    "filename = 'clean_llamadas_123_ago_2019.csv'\n",
    "df_ago2019 = get_input_data_open(filename)\n",
    "filename = 'clean_llamadas_123_sep_2019.csv'\n",
    "df_sep2019 = get_input_data_open(filename)\n",
    "filename = 'clean_llamadas_123_oct_2019.csv'\n",
    "df_oct2019 = get_input_data_open(filename)\n",
    "filename = 'clean_llamadas_123_nov_2019.csv'\n",
    "df_nov2019 = get_input_data_open(filename)\n",
    "filename = 'clean_llamadas_123_dic_2019.csv'\n",
    "df_dic2019 = get_input_data_open(filename)\n",
    "filename = 'clean_llamadas_123_ene_2020.csv'\n",
    "df_ene2020 = get_input_data_open(filename)"
   ]
  },
  {
   "cell_type": "code",
   "execution_count": 435,
   "id": "0b2b8035-b4ad-41a7-84a6-2ddb0c14fa61",
   "metadata": {},
   "outputs": [],
   "source": [
    "#df_nov2019.info()"
   ]
  },
  {
   "cell_type": "code",
   "execution_count": 458,
   "id": "6a7217d4-2b31-4af4-96b2-c9e751c98950",
   "metadata": {},
   "outputs": [],
   "source": [
    "##Revisar Unidad y genero en Septiembre y Octubre\n",
    "df_datosabiertos = pd.concat([df_ago2019, df_sep2019, df_oct2019, df_nov2019, df_dic2019, df_ene2020])\n",
    "df_datosabiertos.head()\n",
    "df_datosabiertos.to_csv(project_dir + '/data/processed/' +'clean_llamadas_123.csv', encoding='latin1', sep=';', index=False)"
   ]
  },
  {
   "cell_type": "markdown",
   "id": "b8648da4-26dd-48bf-98c0-bae19980770c",
   "metadata": {
    "tags": []
   },
   "source": [
    "## Read Final File"
   ]
  },
  {
   "cell_type": "code",
   "execution_count": 42,
   "id": "34dd192b-c147-41fb-ad2d-65fd6bbe6b57",
   "metadata": {},
   "outputs": [],
   "source": [
    "notebook_dir = os.getcwd()\n",
    "project_dir = notebook_dir[:notebook_dir.rfind('/')]\n",
    "sys.path.append(os.path.join(project_dir,'data','processed'))\n",
    "\n",
    "from data_manipulator import get_input_data_open"
   ]
  },
  {
   "cell_type": "code",
   "execution_count": 43,
   "id": "e123cc81-8020-4103-a418-24c25eea8295",
   "metadata": {},
   "outputs": [
    {
     "name": "stdout",
     "output_type": "stream",
     "text": [
      "data path /home/jupyter/ESEIT_BigData/data/processed/clean_llamadas_123.csv\n"
     ]
    }
   ],
   "source": [
    "filename = 'clean_llamadas_123.csv'\n",
    "df_opendata = get_input_data_open(filename)\n",
    "#pd.read_csv?"
   ]
  },
  {
   "cell_type": "code",
   "execution_count": 44,
   "id": "4eb8c915-2540-4d0a-a89b-a3a73e9aa7db",
   "metadata": {},
   "outputs": [
    {
     "name": "stdout",
     "output_type": "stream",
     "text": [
      "<class 'pandas.core.frame.DataFrame'>\n",
      "RangeIndex: 96985 entries, 0 to 96984\n",
      "Data columns (total 12 columns):\n",
      " #   Column                             Non-Null Count  Dtype         \n",
      "---  ------                             --------------  -----         \n",
      " 0   NUMERO_INCIDENTE                   96985 non-null  object        \n",
      " 1   FECHA_INICIO_DESPLAZAMIENTO_MOVIL  96985 non-null  datetime64[ns]\n",
      " 2   CODIGO_LOCALIDAD                   96985 non-null  int64         \n",
      " 3   LOCALIDAD                          96985 non-null  object        \n",
      " 4   EDAD                               96985 non-null  object        \n",
      " 5   UNIDAD                             90064 non-null  object        \n",
      " 6   GENERO                             96985 non-null  object        \n",
      " 7   RED                                96985 non-null  object        \n",
      " 8   TIPO_INCIDENTE                     81099 non-null  object        \n",
      " 9   PRIORIDAD                          96985 non-null  object        \n",
      " 10  MES                                96985 non-null  object        \n",
      " 11  CLASIFICACION_FINAL                96982 non-null  object        \n",
      "dtypes: datetime64[ns](1), int64(1), object(10)\n",
      "memory usage: 8.9+ MB\n"
     ]
    }
   ],
   "source": [
    "col = 'FECHA_INICIO_DESPLAZAMIENTO_MOVIL'\n",
    "df_opendata[col] = pd.to_datetime(df_opendata[col])\n",
    "df_opendata.info()"
   ]
  },
  {
   "cell_type": "code",
   "execution_count": 45,
   "id": "878b3830-ce5e-4f4d-bbec-c99cf4c34070",
   "metadata": {},
   "outputs": [
    {
     "data": {
      "application/vnd.jupyter.widget-view+json": {
       "model_id": "aa506f53342a4be490b0b129640c70ea",
       "version_major": 2,
       "version_minor": 0
      },
      "text/plain": [
       "Summarize dataset:   0%|          | 0/25 [00:00<?, ?it/s]"
      ]
     },
     "metadata": {},
     "output_type": "display_data"
    },
    {
     "data": {
      "application/vnd.jupyter.widget-view+json": {
       "model_id": "7d06409d0aa740c08d04e008f92d9f96",
       "version_major": 2,
       "version_minor": 0
      },
      "text/plain": [
       "Generate report structure:   0%|          | 0/1 [00:00<?, ?it/s]"
      ]
     },
     "metadata": {},
     "output_type": "display_data"
    },
    {
     "data": {
      "application/vnd.jupyter.widget-view+json": {
       "model_id": "5a44b3e38799496183659995243f2b5a",
       "version_major": 2,
       "version_minor": 0
      },
      "text/plain": [
       "Render HTML:   0%|          | 0/1 [00:00<?, ?it/s]"
      ]
     },
     "metadata": {},
     "output_type": "display_data"
    },
    {
     "data": {
      "application/vnd.jupyter.widget-view+json": {
       "model_id": "84cbdd921c344fe092a4a72c9d10c2c7",
       "version_major": 2,
       "version_minor": 0
      },
      "text/plain": [
       "Export report to file:   0%|          | 0/1 [00:00<?, ?it/s]"
      ]
     },
     "metadata": {},
     "output_type": "display_data"
    }
   ],
   "source": [
    "profile = ProfileReport(df=df_opendata)\n",
    "profile.to_file(output_file=project_dir + '/reports/'+'profile_raw_data.html')"
   ]
  },
  {
   "cell_type": "code",
   "execution_count": null,
   "id": "4cf8f994-c118-4101-8e62-f215688caec5",
   "metadata": {},
   "outputs": [
    {
     "name": "stdout",
     "output_type": "stream",
     "text": [
      "['AGOSTO', 'SEPTIEMBRE', 'OCTUBRE', 'NOVIEMBRE', 'DICIEMBRE', 'ENERO']\n",
      "            NUMERO_INCIDENTE  FECHA_INICIO_DESPLAZAMIENTO_MOVIL  \\\n",
      "MES                                                               \n",
      "AGOSTO                 16807                              16807   \n",
      "DICIEMBRE              16162                              16162   \n",
      "ENERO                  15304                              15304   \n",
      "NOVIEMBRE              15886                              15886   \n",
      "OCTUBRE                16559                              16559   \n",
      "SEPTIEMBRE             16267                              16267   \n",
      "\n",
      "            CODIGO_LOCALIDAD  LOCALIDAD   EDAD  UNIDAD  GENERO    RED  \\\n",
      "MES                                                                     \n",
      "AGOSTO                 16807      16807  16807   16807   16807  16807   \n",
      "DICIEMBRE              16162      16162  16162   16162   16162  16162   \n",
      "ENERO                  15304      15304  15304   15304   15304  15304   \n",
      "NOVIEMBRE              15886      15886  15886   15886   15886  15886   \n",
      "OCTUBRE                16559      16559  16559   16559   16559  16559   \n",
      "SEPTIEMBRE             16267      16267  16267    9346   16267  16267   \n",
      "\n",
      "            TIPO_INCIDENTE  PRIORIDAD  CLASIFICACION_FINAL  \n",
      "MES                                                         \n",
      "AGOSTO               16807      16807                16804  \n",
      "DICIEMBRE            16162      16162                16162  \n",
      "ENERO                15304      15304                15304  \n",
      "NOVIEMBRE                0      15886                15886  \n",
      "OCTUBRE              16559      16559                16559  \n",
      "SEPTIEMBRE           16267      16267                16267  \n"
     ]
    },
    {
     "ename": "ValueError",
     "evalue": "x must be 1D",
     "output_type": "error",
     "traceback": [
      "\u001b[0;31m---------------------------------------------------------------------------\u001b[0m",
      "\u001b[0;31mValueError\u001b[0m                                Traceback (most recent call last)",
      "\u001b[0;32m/tmp/ipykernel_1432/3173371412.py\u001b[0m in \u001b[0;36m<module>\u001b[0;34m\u001b[0m\n\u001b[1;32m      3\u001b[0m \u001b[0mprint\u001b[0m\u001b[0;34m(\u001b[0m\u001b[0mred\u001b[0m\u001b[0;34m)\u001b[0m\u001b[0;34m\u001b[0m\u001b[0;34m\u001b[0m\u001b[0m\n\u001b[1;32m      4\u001b[0m \u001b[0mprint\u001b[0m\u001b[0;34m(\u001b[0m\u001b[0mnumincidentes\u001b[0m\u001b[0;34m)\u001b[0m\u001b[0;34m\u001b[0m\u001b[0;34m\u001b[0m\u001b[0m\n\u001b[0;32m----> 5\u001b[0;31m \u001b[0mplt\u001b[0m\u001b[0;34m.\u001b[0m\u001b[0mpie\u001b[0m\u001b[0;34m(\u001b[0m\u001b[0mnumincidentes\u001b[0m\u001b[0;34m,\u001b[0m \u001b[0mlabels\u001b[0m\u001b[0;34m=\u001b[0m\u001b[0mred\u001b[0m\u001b[0;34m,\u001b[0m \u001b[0mautopct\u001b[0m\u001b[0;34m=\u001b[0m\u001b[0;34m\"%0.1f %%\"\u001b[0m\u001b[0;34m)\u001b[0m\u001b[0;34m\u001b[0m\u001b[0;34m\u001b[0m\u001b[0m\n\u001b[0m\u001b[1;32m      6\u001b[0m \u001b[0mplt\u001b[0m\u001b[0;34m.\u001b[0m\u001b[0maxis\u001b[0m\u001b[0;34m(\u001b[0m\u001b[0;34m\"equal\"\u001b[0m\u001b[0;34m)\u001b[0m\u001b[0;34m\u001b[0m\u001b[0;34m\u001b[0m\u001b[0m\n\u001b[1;32m      7\u001b[0m \u001b[0mplt\u001b[0m\u001b[0;34m.\u001b[0m\u001b[0mshow\u001b[0m\u001b[0;34m(\u001b[0m\u001b[0;34m)\u001b[0m\u001b[0;34m\u001b[0m\u001b[0;34m\u001b[0m\u001b[0m\n",
      "\u001b[0;32m/opt/conda/lib/python3.7/site-packages/matplotlib/pyplot.py\u001b[0m in \u001b[0;36mpie\u001b[0;34m(x, explode, labels, colors, autopct, pctdistance, shadow, labeldistance, startangle, radius, counterclock, wedgeprops, textprops, center, frame, rotatelabels, normalize, data)\u001b[0m\n\u001b[1;32m   2749\u001b[0m         \u001b[0mwedgeprops\u001b[0m\u001b[0;34m=\u001b[0m\u001b[0mwedgeprops\u001b[0m\u001b[0;34m,\u001b[0m \u001b[0mtextprops\u001b[0m\u001b[0;34m=\u001b[0m\u001b[0mtextprops\u001b[0m\u001b[0;34m,\u001b[0m \u001b[0mcenter\u001b[0m\u001b[0;34m=\u001b[0m\u001b[0mcenter\u001b[0m\u001b[0;34m,\u001b[0m\u001b[0;34m\u001b[0m\u001b[0;34m\u001b[0m\u001b[0m\n\u001b[1;32m   2750\u001b[0m         \u001b[0mframe\u001b[0m\u001b[0;34m=\u001b[0m\u001b[0mframe\u001b[0m\u001b[0;34m,\u001b[0m \u001b[0mrotatelabels\u001b[0m\u001b[0;34m=\u001b[0m\u001b[0mrotatelabels\u001b[0m\u001b[0;34m,\u001b[0m \u001b[0mnormalize\u001b[0m\u001b[0;34m=\u001b[0m\u001b[0mnormalize\u001b[0m\u001b[0;34m,\u001b[0m\u001b[0;34m\u001b[0m\u001b[0;34m\u001b[0m\u001b[0m\n\u001b[0;32m-> 2751\u001b[0;31m         **({\"data\": data} if data is not None else {}))\n\u001b[0m\u001b[1;32m   2752\u001b[0m \u001b[0;34m\u001b[0m\u001b[0m\n\u001b[1;32m   2753\u001b[0m \u001b[0;34m\u001b[0m\u001b[0m\n",
      "\u001b[0;32m/opt/conda/lib/python3.7/site-packages/matplotlib/__init__.py\u001b[0m in \u001b[0;36minner\u001b[0;34m(ax, data, *args, **kwargs)\u001b[0m\n\u001b[1;32m   1410\u001b[0m     \u001b[0;32mdef\u001b[0m \u001b[0minner\u001b[0m\u001b[0;34m(\u001b[0m\u001b[0max\u001b[0m\u001b[0;34m,\u001b[0m \u001b[0;34m*\u001b[0m\u001b[0margs\u001b[0m\u001b[0;34m,\u001b[0m \u001b[0mdata\u001b[0m\u001b[0;34m=\u001b[0m\u001b[0;32mNone\u001b[0m\u001b[0;34m,\u001b[0m \u001b[0;34m**\u001b[0m\u001b[0mkwargs\u001b[0m\u001b[0;34m)\u001b[0m\u001b[0;34m:\u001b[0m\u001b[0;34m\u001b[0m\u001b[0;34m\u001b[0m\u001b[0m\n\u001b[1;32m   1411\u001b[0m         \u001b[0;32mif\u001b[0m \u001b[0mdata\u001b[0m \u001b[0;32mis\u001b[0m \u001b[0;32mNone\u001b[0m\u001b[0;34m:\u001b[0m\u001b[0;34m\u001b[0m\u001b[0;34m\u001b[0m\u001b[0m\n\u001b[0;32m-> 1412\u001b[0;31m             \u001b[0;32mreturn\u001b[0m \u001b[0mfunc\u001b[0m\u001b[0;34m(\u001b[0m\u001b[0max\u001b[0m\u001b[0;34m,\u001b[0m \u001b[0;34m*\u001b[0m\u001b[0mmap\u001b[0m\u001b[0;34m(\u001b[0m\u001b[0msanitize_sequence\u001b[0m\u001b[0;34m,\u001b[0m \u001b[0margs\u001b[0m\u001b[0;34m)\u001b[0m\u001b[0;34m,\u001b[0m \u001b[0;34m**\u001b[0m\u001b[0mkwargs\u001b[0m\u001b[0;34m)\u001b[0m\u001b[0;34m\u001b[0m\u001b[0;34m\u001b[0m\u001b[0m\n\u001b[0m\u001b[1;32m   1413\u001b[0m \u001b[0;34m\u001b[0m\u001b[0m\n\u001b[1;32m   1414\u001b[0m         \u001b[0mbound\u001b[0m \u001b[0;34m=\u001b[0m \u001b[0mnew_sig\u001b[0m\u001b[0;34m.\u001b[0m\u001b[0mbind\u001b[0m\u001b[0;34m(\u001b[0m\u001b[0max\u001b[0m\u001b[0;34m,\u001b[0m \u001b[0;34m*\u001b[0m\u001b[0margs\u001b[0m\u001b[0;34m,\u001b[0m \u001b[0;34m**\u001b[0m\u001b[0mkwargs\u001b[0m\u001b[0;34m)\u001b[0m\u001b[0;34m\u001b[0m\u001b[0;34m\u001b[0m\u001b[0m\n",
      "\u001b[0;32m/opt/conda/lib/python3.7/site-packages/matplotlib/axes/_axes.py\u001b[0m in \u001b[0;36mpie\u001b[0;34m(self, x, explode, labels, colors, autopct, pctdistance, shadow, labeldistance, startangle, radius, counterclock, wedgeprops, textprops, center, frame, rotatelabels, normalize)\u001b[0m\n\u001b[1;32m   3042\u001b[0m         \u001b[0mx\u001b[0m \u001b[0;34m=\u001b[0m \u001b[0mnp\u001b[0m\u001b[0;34m.\u001b[0m\u001b[0masarray\u001b[0m\u001b[0;34m(\u001b[0m\u001b[0mx\u001b[0m\u001b[0;34m,\u001b[0m \u001b[0mnp\u001b[0m\u001b[0;34m.\u001b[0m\u001b[0mfloat32\u001b[0m\u001b[0;34m)\u001b[0m\u001b[0;34m\u001b[0m\u001b[0;34m\u001b[0m\u001b[0m\n\u001b[1;32m   3043\u001b[0m         \u001b[0;32mif\u001b[0m \u001b[0mx\u001b[0m\u001b[0;34m.\u001b[0m\u001b[0mndim\u001b[0m \u001b[0;34m>\u001b[0m \u001b[0;36m1\u001b[0m\u001b[0;34m:\u001b[0m\u001b[0;34m\u001b[0m\u001b[0;34m\u001b[0m\u001b[0m\n\u001b[0;32m-> 3044\u001b[0;31m             \u001b[0;32mraise\u001b[0m \u001b[0mValueError\u001b[0m\u001b[0;34m(\u001b[0m\u001b[0;34m\"x must be 1D\"\u001b[0m\u001b[0;34m)\u001b[0m\u001b[0;34m\u001b[0m\u001b[0;34m\u001b[0m\u001b[0m\n\u001b[0m\u001b[1;32m   3045\u001b[0m \u001b[0;34m\u001b[0m\u001b[0m\n\u001b[1;32m   3046\u001b[0m         \u001b[0;32mif\u001b[0m \u001b[0mnp\u001b[0m\u001b[0;34m.\u001b[0m\u001b[0many\u001b[0m\u001b[0;34m(\u001b[0m\u001b[0mx\u001b[0m \u001b[0;34m<\u001b[0m \u001b[0;36m0\u001b[0m\u001b[0;34m)\u001b[0m\u001b[0;34m:\u001b[0m\u001b[0;34m\u001b[0m\u001b[0;34m\u001b[0m\u001b[0m\n",
      "\u001b[0;31mValueError\u001b[0m: x must be 1D"
     ]
    }
   ],
   "source": [
    "numincidentes = df_opendata.groupby(['MES']).count()\n",
    "red = df_opendata['MES'].unique().tolist()\n",
    "print(red)\n",
    "print(numincidentes)\n",
    "plt.pie(numincidentes, labels=red, autopct=\"%0.1f %%\")\n",
    "plt.axis(\"equal\")\n",
    "plt.show()"
   ]
  },
  {
   "cell_type": "code",
   "execution_count": 470,
   "id": "afade98b-3e9f-483d-b676-c337eeedbf1a",
   "metadata": {},
   "outputs": [
    {
     "data": {
      "image/png": "[encoded data removed]",
      "text/plain": [
       "<Figure size 432x288 with 1 Axes>"
      ]
     },
     "metadata": {
      "needs_background": "light"
     },
     "output_type": "display_data"
    }
   ],
   "source": [
    "#df_opendata['EDAD'].describe()\n",
    "df_opendata['EDAD'].hist(bins=5,range=(1,10));"
   ]
  },
  {
   "cell_type": "code",
   "execution_count": null,
   "id": "8b23267c-e2d1-4306-b62f-68be5b2502f9",
   "metadata": {},
   "outputs": [],
   "source": []
  },
  {
   "cell_type": "code",
   "execution_count": 443,
   "id": "a4868e98-5685-4d5a-9266-1078691e4cbc",
   "metadata": {},
   "outputs": [
    {
     "data": {
      "text/html": [
       "<div>\n",
       "<style scoped>\n",
       "    .dataframe tbody tr th:only-of-type {\n",
       "        vertical-align: middle;\n",
       "    }\n",
       "\n",
       "    .dataframe tbody tr th {\n",
       "        vertical-align: top;\n",
       "    }\n",
       "\n",
       "    .dataframe thead th {\n",
       "        text-align: right;\n",
       "    }\n",
       "</style>\n",
       "<table border=\"1\" class=\"dataframe\">\n",
       "  <thead>\n",
       "    <tr style=\"text-align: right;\">\n",
       "      <th></th>\n",
       "      <th>NUMERO_INCIDENTE</th>\n",
       "      <th>FECHA_INICIO_DESPLAZAMIENTO_MOVIL</th>\n",
       "      <th>CODIGO_LOCALIDAD</th>\n",
       "      <th>LOCALIDAD</th>\n",
       "      <th>EDAD</th>\n",
       "      <th>UNIDAD</th>\n",
       "      <th>GENERO</th>\n",
       "      <th>RED</th>\n",
       "      <th>TIPO_INCIDENTE</th>\n",
       "      <th>PRIORIDAD</th>\n",
       "      <th>MES</th>\n",
       "      <th>CLASIFICACION_FINAL</th>\n",
       "    </tr>\n",
       "  </thead>\n",
       "  <tbody>\n",
       "    <tr>\n",
       "      <th>0</th>\n",
       "      <td>809224194</td>\n",
       "      <td>2019-01-08 00:28:00</td>\n",
       "      <td>1</td>\n",
       "      <td>Usaquen</td>\n",
       "      <td>SIN_DATO</td>\n",
       "      <td>SIN_DATO</td>\n",
       "      <td>SIN_DATO</td>\n",
       "      <td>Norte</td>\n",
       "      <td>INCONSCIENTE/PARO CARDIORRESPIRATORIO</td>\n",
       "      <td>ALTA</td>\n",
       "      <td>AGOSTO</td>\n",
       "      <td>Cancelado</td>\n",
       "    </tr>\n",
       "    <tr>\n",
       "      <th>8</th>\n",
       "      <td>809326194</td>\n",
       "      <td>2019-01-08 00:34:00</td>\n",
       "      <td>1</td>\n",
       "      <td>Usaquen</td>\n",
       "      <td>SIN_DATO</td>\n",
       "      <td>SIN_DATO</td>\n",
       "      <td>SIN_DATO</td>\n",
       "      <td>Norte</td>\n",
       "      <td>ACCIDENTE DE TRÁNSITO CON HERIDOS/MUERTOS</td>\n",
       "      <td>ALTA</td>\n",
       "      <td>AGOSTO</td>\n",
       "      <td>Falsa Alarma</td>\n",
       "    </tr>\n",
       "    <tr>\n",
       "      <th>22</th>\n",
       "      <td>809543194</td>\n",
       "      <td>2019-01-08 01:56:00</td>\n",
       "      <td>1</td>\n",
       "      <td>Usaquen</td>\n",
       "      <td>SIN_DATO</td>\n",
       "      <td>SIN_DATO</td>\n",
       "      <td>SIN_DATO</td>\n",
       "      <td>Norte</td>\n",
       "      <td>ACCIDENTE DE TRÁNSITO CON HERIDOS/MUERTOS</td>\n",
       "      <td>ALTA</td>\n",
       "      <td>AGOSTO</td>\n",
       "      <td>Cancelado</td>\n",
       "    </tr>\n",
       "    <tr>\n",
       "      <th>42</th>\n",
       "      <td>809949194</td>\n",
       "      <td>2019-01-08 04:45:00</td>\n",
       "      <td>1</td>\n",
       "      <td>Usaquen</td>\n",
       "      <td>39</td>\n",
       "      <td>Años</td>\n",
       "      <td>MASCULINO</td>\n",
       "      <td>Norte</td>\n",
       "      <td>ACCIDENTE CEREBRO VASCULAR</td>\n",
       "      <td>ALTA</td>\n",
       "      <td>AGOSTO</td>\n",
       "      <td>Desistimiento</td>\n",
       "    </tr>\n",
       "    <tr>\n",
       "      <th>83</th>\n",
       "      <td>810518194</td>\n",
       "      <td>2019-01-08 07:42:00</td>\n",
       "      <td>1</td>\n",
       "      <td>Usaquen</td>\n",
       "      <td>SIN_DATO</td>\n",
       "      <td>SIN_DATO</td>\n",
       "      <td>SIN_DATO</td>\n",
       "      <td>Privada</td>\n",
       "      <td>ACCIDENTE DE TRÁNSITO CON HERIDOS/MUERTOS</td>\n",
       "      <td>ALTA</td>\n",
       "      <td>AGOSTO</td>\n",
       "      <td>Cancelado</td>\n",
       "    </tr>\n",
       "    <tr>\n",
       "      <th>...</th>\n",
       "      <td>...</td>\n",
       "      <td>...</td>\n",
       "      <td>...</td>\n",
       "      <td>...</td>\n",
       "      <td>...</td>\n",
       "      <td>...</td>\n",
       "      <td>...</td>\n",
       "      <td>...</td>\n",
       "      <td>...</td>\n",
       "      <td>...</td>\n",
       "      <td>...</td>\n",
       "      <td>...</td>\n",
       "    </tr>\n",
       "    <tr>\n",
       "      <th>65406</th>\n",
       "      <td>1173130196</td>\n",
       "      <td>2019-11-30 19:52:24</td>\n",
       "      <td>1</td>\n",
       "      <td>Usaquen</td>\n",
       "      <td>58</td>\n",
       "      <td>Años</td>\n",
       "      <td>MASCULINO</td>\n",
       "      <td>Norte</td>\n",
       "      <td>NaN</td>\n",
       "      <td>ALTA</td>\n",
       "      <td>NOVIEMBRE</td>\n",
       "      <td>SIN_DATO</td>\n",
       "    </tr>\n",
       "    <tr>\n",
       "      <th>65425</th>\n",
       "      <td>1173578196</td>\n",
       "      <td>2019-11-30 20:23:29</td>\n",
       "      <td>1</td>\n",
       "      <td>Usaquen</td>\n",
       "      <td>26</td>\n",
       "      <td>Años</td>\n",
       "      <td>FEMENINO</td>\n",
       "      <td>Norte</td>\n",
       "      <td>NaN</td>\n",
       "      <td>ALTA</td>\n",
       "      <td>NOVIEMBRE</td>\n",
       "      <td>SIN_DATO</td>\n",
       "    </tr>\n",
       "    <tr>\n",
       "      <th>65460</th>\n",
       "      <td>1174496196</td>\n",
       "      <td>2019-11-30 22:23:20</td>\n",
       "      <td>1</td>\n",
       "      <td>Usaquen</td>\n",
       "      <td>0</td>\n",
       "      <td>SIN_DATO</td>\n",
       "      <td>SIN_DATO</td>\n",
       "      <td>Norte</td>\n",
       "      <td>NaN</td>\n",
       "      <td>ALTA</td>\n",
       "      <td>NOVIEMBRE</td>\n",
       "      <td>SIN_DATO</td>\n",
       "    </tr>\n",
       "    <tr>\n",
       "      <th>65511</th>\n",
       "      <td>1176293196</td>\n",
       "      <td>2019-12-01 01:00:44</td>\n",
       "      <td>1</td>\n",
       "      <td>Usaquen</td>\n",
       "      <td>55</td>\n",
       "      <td>Años</td>\n",
       "      <td>MASCULINO</td>\n",
       "      <td>Sur</td>\n",
       "      <td>NaN</td>\n",
       "      <td>MEDIA</td>\n",
       "      <td>NOVIEMBRE</td>\n",
       "      <td>SIN_DATO</td>\n",
       "    </tr>\n",
       "    <tr>\n",
       "      <th>65512</th>\n",
       "      <td>1176315196</td>\n",
       "      <td>2019-12-01 01:39:40</td>\n",
       "      <td>1</td>\n",
       "      <td>Usaquen</td>\n",
       "      <td>80</td>\n",
       "      <td>Años</td>\n",
       "      <td>MASCULINO</td>\n",
       "      <td>Norte</td>\n",
       "      <td>NaN</td>\n",
       "      <td>ALTA</td>\n",
       "      <td>NOVIEMBRE</td>\n",
       "      <td>SIN_DATO</td>\n",
       "    </tr>\n",
       "  </tbody>\n",
       "</table>\n",
       "<p>3241 rows × 12 columns</p>\n",
       "</div>"
      ],
      "text/plain": [
       "      NUMERO_INCIDENTE FECHA_INICIO_DESPLAZAMIENTO_MOVIL  CODIGO_LOCALIDAD  \\\n",
       "0            809224194               2019-01-08 00:28:00                 1   \n",
       "8            809326194               2019-01-08 00:34:00                 1   \n",
       "22           809543194               2019-01-08 01:56:00                 1   \n",
       "42           809949194               2019-01-08 04:45:00                 1   \n",
       "83           810518194               2019-01-08 07:42:00                 1   \n",
       "...                ...                               ...               ...   \n",
       "65406       1173130196               2019-11-30 19:52:24                 1   \n",
       "65425       1173578196               2019-11-30 20:23:29                 1   \n",
       "65460       1174496196               2019-11-30 22:23:20                 1   \n",
       "65511       1176293196               2019-12-01 01:00:44                 1   \n",
       "65512       1176315196               2019-12-01 01:39:40                 1   \n",
       "\n",
       "      LOCALIDAD      EDAD    UNIDAD     GENERO      RED  \\\n",
       "0       Usaquen  SIN_DATO  SIN_DATO   SIN_DATO    Norte   \n",
       "8       Usaquen  SIN_DATO  SIN_DATO   SIN_DATO    Norte   \n",
       "22      Usaquen  SIN_DATO  SIN_DATO   SIN_DATO    Norte   \n",
       "42      Usaquen        39      Años  MASCULINO    Norte   \n",
       "83      Usaquen  SIN_DATO  SIN_DATO   SIN_DATO  Privada   \n",
       "...         ...       ...       ...        ...      ...   \n",
       "65406   Usaquen        58      Años  MASCULINO    Norte   \n",
       "65425   Usaquen        26      Años   FEMENINO    Norte   \n",
       "65460   Usaquen         0  SIN_DATO   SIN_DATO    Norte   \n",
       "65511   Usaquen        55      Años  MASCULINO      Sur   \n",
       "65512   Usaquen        80      Años  MASCULINO    Norte   \n",
       "\n",
       "                                  TIPO_INCIDENTE PRIORIDAD        MES  \\\n",
       "0          INCONSCIENTE/PARO CARDIORRESPIRATORIO      ALTA     AGOSTO   \n",
       "8      ACCIDENTE DE TRÁNSITO CON HERIDOS/MUERTOS      ALTA     AGOSTO   \n",
       "22     ACCIDENTE DE TRÁNSITO CON HERIDOS/MUERTOS      ALTA     AGOSTO   \n",
       "42                    ACCIDENTE CEREBRO VASCULAR      ALTA     AGOSTO   \n",
       "83     ACCIDENTE DE TRÁNSITO CON HERIDOS/MUERTOS      ALTA     AGOSTO   \n",
       "...                                          ...       ...        ...   \n",
       "65406                                        NaN      ALTA  NOVIEMBRE   \n",
       "65425                                        NaN      ALTA  NOVIEMBRE   \n",
       "65460                                        NaN      ALTA  NOVIEMBRE   \n",
       "65511                                        NaN     MEDIA  NOVIEMBRE   \n",
       "65512                                        NaN      ALTA  NOVIEMBRE   \n",
       "\n",
       "      CLASIFICACION_FINAL  \n",
       "0               Cancelado  \n",
       "8            Falsa Alarma  \n",
       "22              Cancelado  \n",
       "42          Desistimiento  \n",
       "83              Cancelado  \n",
       "...                   ...  \n",
       "65406            SIN_DATO  \n",
       "65425            SIN_DATO  \n",
       "65460            SIN_DATO  \n",
       "65511            SIN_DATO  \n",
       "65512            SIN_DATO  \n",
       "\n",
       "[3241 rows x 12 columns]"
      ]
     },
     "execution_count": 443,
     "metadata": {},
     "output_type": "execute_result"
    }
   ],
   "source": [
    "lista_localidades = df_opendata['LOCALIDAD'].unique().tolist()\n",
    "localidad = lista_localidades[0]\n",
    "df_opendata[df_opendata['LOCALIDAD'] == localidad]"
   ]
  },
  {
   "cell_type": "code",
   "execution_count": 473,
   "id": "89ea96cf-1e20-41a1-8e6c-46908ac79431",
   "metadata": {},
   "outputs": [
    {
     "data": {
      "image/png": "[encoded data removed]",
      "text/plain": [
       "<Figure size 432x288 with 1 Axes>"
      ]
     },
     "metadata": {
      "needs_background": "light"
     },
     "output_type": "display_data"
    }
   ],
   "source": [
    "df_opendata[df_opendata['LOCALIDAD'] == lista_localidades[0]]['EDAD'].hist(bins=10,range=(1,10),color='red')\n",
    "df_opendata[df_opendata['LOCALIDAD'] == lista_localidades[1]]['EDAD'].hist(bins=10,range=(1,10),color='blue');"
   ]
  },
  {
   "cell_type": "code",
   "execution_count": 477,
   "id": "02e7877b-c352-4826-9311-ca7f9ec62933",
   "metadata": {
    "tags": []
   },
   "outputs": [
    {
     "data": {
      "image/png": "[encoded data removed]",
      "text/plain": [
       "<Figure size 432x288 with 1 Axes>"
      ]
     },
     "metadata": {
      "needs_background": "light"
     },
     "output_type": "display_data"
    }
   ],
   "source": [
    "#Contar registros de fuente\n",
    "df_opendata['NUMERO_INCIDENTE'].value_counts()\n",
    "pd.DataFrame(\n",
    "    df_opendata['RED'].value_counts(normalize=False)\n",
    ").plot(kind='bar');"
   ]
  },
  {
   "cell_type": "code",
   "execution_count": 479,
   "id": "ce86e9f7-8b37-4529-981f-4962463b9c5c",
   "metadata": {},
   "outputs": [
    {
     "name": "stdout",
     "output_type": "stream",
     "text": [
      "['Norte', 'Sur', 'Privada']\n",
      "         NUMERO_INCIDENTE  FECHA_INICIO_DESPLAZAMIENTO_MOVIL  \\\n",
      "RED                                                            \n",
      "Norte               41911                              41911   \n",
      "Privada             19218                              19218   \n",
      "Sur                 35856                              35856   \n",
      "\n",
      "         CODIGO_LOCALIDAD  LOCALIDAD   EDAD  UNIDAD  GENERO  TIPO_INCIDENTE  \\\n",
      "RED                                                                           \n",
      "Norte               41911      41911  41911   38745   41911           35074   \n",
      "Privada             19218      19218  19218   17873   19218           16153   \n",
      "Sur                 35856      35856  35856   33446   35856           29872   \n",
      "\n",
      "         PRIORIDAD    MES  CLASIFICACION_FINAL  \n",
      "RED                                             \n",
      "Norte        41911  41911                41910  \n",
      "Privada      19218  19218                19218  \n",
      "Sur          35856  35856                35854  \n"
     ]
    },
    {
     "data": {
      "text/plain": [
       "\u001b[0;31mSignature:\u001b[0m\n",
       "\u001b[0mdf_opendata\u001b[0m\u001b[0;34m.\u001b[0m\u001b[0mgroupby\u001b[0m\u001b[0;34m(\u001b[0m\u001b[0;34m\u001b[0m\n",
       "\u001b[0;34m\u001b[0m    \u001b[0mby\u001b[0m\u001b[0;34m=\u001b[0m\u001b[0;32mNone\u001b[0m\u001b[0;34m,\u001b[0m\u001b[0;34m\u001b[0m\n",
       "\u001b[0;34m\u001b[0m    \u001b[0maxis\u001b[0m\u001b[0;34m:\u001b[0m \u001b[0;34m'Axis'\u001b[0m \u001b[0;34m=\u001b[0m \u001b[0;36m0\u001b[0m\u001b[0;34m,\u001b[0m\u001b[0;34m\u001b[0m\n",
       "\u001b[0;34m\u001b[0m    \u001b[0mlevel\u001b[0m\u001b[0;34m:\u001b[0m \u001b[0;34m'Level | None'\u001b[0m \u001b[0;34m=\u001b[0m \u001b[0;32mNone\u001b[0m\u001b[0;34m,\u001b[0m\u001b[0;34m\u001b[0m\n",
       "\u001b[0;34m\u001b[0m    \u001b[0mas_index\u001b[0m\u001b[0;34m:\u001b[0m \u001b[0;34m'bool'\u001b[0m \u001b[0;34m=\u001b[0m \u001b[0;32mTrue\u001b[0m\u001b[0;34m,\u001b[0m\u001b[0;34m\u001b[0m\n",
       "\u001b[0;34m\u001b[0m    \u001b[0msort\u001b[0m\u001b[0;34m:\u001b[0m \u001b[0;34m'bool'\u001b[0m \u001b[0;34m=\u001b[0m \u001b[0;32mTrue\u001b[0m\u001b[0;34m,\u001b[0m\u001b[0;34m\u001b[0m\n",
       "\u001b[0;34m\u001b[0m    \u001b[0mgroup_keys\u001b[0m\u001b[0;34m:\u001b[0m \u001b[0;34m'bool'\u001b[0m \u001b[0;34m=\u001b[0m \u001b[0;32mTrue\u001b[0m\u001b[0;34m,\u001b[0m\u001b[0;34m\u001b[0m\n",
       "\u001b[0;34m\u001b[0m    \u001b[0msqueeze\u001b[0m\u001b[0;34m:\u001b[0m \u001b[0;34m'bool | lib.NoDefault'\u001b[0m \u001b[0;34m=\u001b[0m \u001b[0;34m<\u001b[0m\u001b[0mno_default\u001b[0m\u001b[0;34m>\u001b[0m\u001b[0;34m,\u001b[0m\u001b[0;34m\u001b[0m\n",
       "\u001b[0;34m\u001b[0m    \u001b[0mobserved\u001b[0m\u001b[0;34m:\u001b[0m \u001b[0;34m'bool'\u001b[0m \u001b[0;34m=\u001b[0m \u001b[0;32mFalse\u001b[0m\u001b[0;34m,\u001b[0m\u001b[0;34m\u001b[0m\n",
       "\u001b[0;34m\u001b[0m    \u001b[0mdropna\u001b[0m\u001b[0;34m:\u001b[0m \u001b[0;34m'bool'\u001b[0m \u001b[0;34m=\u001b[0m \u001b[0;32mTrue\u001b[0m\u001b[0;34m,\u001b[0m\u001b[0;34m\u001b[0m\n",
       "\u001b[0;34m\u001b[0m\u001b[0;34m)\u001b[0m \u001b[0;34m->\u001b[0m \u001b[0;34m'DataFrameGroupBy'\u001b[0m\u001b[0;34m\u001b[0m\u001b[0;34m\u001b[0m\u001b[0m\n",
       "\u001b[0;31mDocstring:\u001b[0m\n",
       "Group DataFrame using a mapper or by a Series of columns.\n",
       "\n",
       "A groupby operation involves some combination of splitting the\n",
       "object, applying a function, and combining the results. This can be\n",
       "used to group large amounts of data and compute operations on these\n",
       "groups.\n",
       "\n",
       "Parameters\n",
       "----------\n",
       "by : mapping, function, label, or list of labels\n",
       "    Used to determine the groups for the groupby.\n",
       "    If ``by`` is a function, it's called on each value of the object's\n",
       "    index. If a dict or Series is passed, the Series or dict VALUES\n",
       "    will be used to determine the groups (the Series' values are first\n",
       "    aligned; see ``.align()`` method). If an ndarray is passed, the\n",
       "    values are used as-is to determine the groups. A label or list of\n",
       "    labels may be passed to group by the columns in ``self``. Notice\n",
       "    that a tuple is interpreted as a (single) key.\n",
       "axis : {0 or 'index', 1 or 'columns'}, default 0\n",
       "    Split along rows (0) or columns (1).\n",
       "level : int, level name, or sequence of such, default None\n",
       "    If the axis is a MultiIndex (hierarchical), group by a particular\n",
       "    level or levels.\n",
       "as_index : bool, default True\n",
       "    For aggregated output, return object with group labels as the\n",
       "    index. Only relevant for DataFrame input. as_index=False is\n",
       "    effectively \"SQL-style\" grouped output.\n",
       "sort : bool, default True\n",
       "    Sort group keys. Get better performance by turning this off.\n",
       "    Note this does not influence the order of observations within each\n",
       "    group. Groupby preserves the order of rows within each group.\n",
       "group_keys : bool, default True\n",
       "    When calling apply, add group keys to index to identify pieces.\n",
       "squeeze : bool, default False\n",
       "    Reduce the dimensionality of the return type if possible,\n",
       "    otherwise return a consistent type.\n",
       "\n",
       "    .. deprecated:: 1.1.0\n",
       "\n",
       "observed : bool, default False\n",
       "    This only applies if any of the groupers are Categoricals.\n",
       "    If True: only show observed values for categorical groupers.\n",
       "    If False: show all values for categorical groupers.\n",
       "dropna : bool, default True\n",
       "    If True, and if group keys contain NA values, NA values together\n",
       "    with row/column will be dropped.\n",
       "    If False, NA values will also be treated as the key in groups\n",
       "\n",
       "    .. versionadded:: 1.1.0\n",
       "\n",
       "Returns\n",
       "-------\n",
       "DataFrameGroupBy\n",
       "    Returns a groupby object that contains information about the groups.\n",
       "\n",
       "See Also\n",
       "--------\n",
       "resample : Convenience method for frequency conversion and resampling\n",
       "    of time series.\n",
       "\n",
       "Notes\n",
       "-----\n",
       "See the `user guide\n",
       "<https://pandas.pydata.org/pandas-docs/stable/groupby.html>`__ for more.\n",
       "\n",
       "Examples\n",
       "--------\n",
       ">>> df = pd.DataFrame({'Animal': ['Falcon', 'Falcon',\n",
       "...                               'Parrot', 'Parrot'],\n",
       "...                    'Max Speed': [380., 370., 24., 26.]})\n",
       ">>> df\n",
       "   Animal  Max Speed\n",
       "0  Falcon      380.0\n",
       "1  Falcon      370.0\n",
       "2  Parrot       24.0\n",
       "3  Parrot       26.0\n",
       ">>> df.groupby(['Animal']).mean()\n",
       "        Max Speed\n",
       "Animal\n",
       "Falcon      375.0\n",
       "Parrot       25.0\n",
       "\n",
       "**Hierarchical Indexes**\n",
       "\n",
       "We can groupby different levels of a hierarchical index\n",
       "using the `level` parameter:\n",
       "\n",
       ">>> arrays = [['Falcon', 'Falcon', 'Parrot', 'Parrot'],\n",
       "...           ['Captive', 'Wild', 'Captive', 'Wild']]\n",
       ">>> index = pd.MultiIndex.from_arrays(arrays, names=('Animal', 'Type'))\n",
       ">>> df = pd.DataFrame({'Max Speed': [390., 350., 30., 20.]},\n",
       "...                   index=index)\n",
       ">>> df\n",
       "                Max Speed\n",
       "Animal Type\n",
       "Falcon Captive      390.0\n",
       "       Wild         350.0\n",
       "Parrot Captive       30.0\n",
       "       Wild          20.0\n",
       ">>> df.groupby(level=0).mean()\n",
       "        Max Speed\n",
       "Animal\n",
       "Falcon      370.0\n",
       "Parrot       25.0\n",
       ">>> df.groupby(level=\"Type\").mean()\n",
       "         Max Speed\n",
       "Type\n",
       "Captive      210.0\n",
       "Wild         185.0\n",
       "\n",
       "We can also choose to include NA in group keys or not by setting\n",
       "`dropna` parameter, the default setting is `True`:\n",
       "\n",
       ">>> l = [[1, 2, 3], [1, None, 4], [2, 1, 3], [1, 2, 2]]\n",
       ">>> df = pd.DataFrame(l, columns=[\"a\", \"b\", \"c\"])\n",
       "\n",
       ">>> df.groupby(by=[\"b\"]).sum()\n",
       "    a   c\n",
       "b\n",
       "1.0 2   3\n",
       "2.0 2   5\n",
       "\n",
       ">>> df.groupby(by=[\"b\"], dropna=False).sum()\n",
       "    a   c\n",
       "b\n",
       "1.0 2   3\n",
       "2.0 2   5\n",
       "NaN 1   4\n",
       "\n",
       ">>> l = [[\"a\", 12, 12], [None, 12.3, 33.], [\"b\", 12.3, 123], [\"a\", 1, 1]]\n",
       ">>> df = pd.DataFrame(l, columns=[\"a\", \"b\", \"c\"])\n",
       "\n",
       ">>> df.groupby(by=\"a\").sum()\n",
       "    b     c\n",
       "a\n",
       "a   13.0   13.0\n",
       "b   12.3  123.0\n",
       "\n",
       ">>> df.groupby(by=\"a\", dropna=False).sum()\n",
       "    b     c\n",
       "a\n",
       "a   13.0   13.0\n",
       "b   12.3  123.0\n",
       "NaN 12.3   33.0\n",
       "\u001b[0;31mFile:\u001b[0m      /opt/conda/lib/python3.7/site-packages/pandas/core/frame.py\n",
       "\u001b[0;31mType:\u001b[0m      method\n"
      ]
     },
     "metadata": {},
     "output_type": "display_data"
    }
   ],
   "source": [
    "numincidentes = df_opendata.groupby(['RED']).count()\n",
    "red = df_opendata['RED'].unique().tolist()\n",
    "print(red)\n",
    "print(numincidentes)\n",
    "#plt.pie(numincidentes, labels=red, autopct=\"%0.1f %%\")\n",
    "#plt.axis(\"equal\")\n",
    "#plt.show()\n",
    "\n",
    "df_opendata.groupby?\n",
    "\n"
   ]
  },
  {
   "cell_type": "code",
   "execution_count": 52,
   "id": "9c3e994e-3651-49dd-b8d4-f5c981f8d42f",
   "metadata": {},
   "outputs": [
    {
     "data": {
      "text/plain": [
       "\u001b[0;31mInit signature:\u001b[0m \u001b[0mpd\u001b[0m\u001b[0;34m.\u001b[0m\u001b[0mDataFrame\u001b[0m\u001b[0;34m.\u001b[0m\u001b[0mplot\u001b[0m\u001b[0;34m(\u001b[0m\u001b[0mdata\u001b[0m\u001b[0;34m)\u001b[0m\u001b[0;34m\u001b[0m\u001b[0;34m\u001b[0m\u001b[0m\n",
       "\u001b[0;31mDocstring:\u001b[0m     \n",
       "Make plots of Series or DataFrame.\n",
       "\n",
       "Uses the backend specified by the\n",
       "option ``plotting.backend``. By default, matplotlib is used.\n",
       "\n",
       "Parameters\n",
       "----------\n",
       "data : Series or DataFrame\n",
       "    The object for which the method is called.\n",
       "x : label or position, default None\n",
       "    Only used if data is a DataFrame.\n",
       "y : label, position or list of label, positions, default None\n",
       "    Allows plotting of one column versus another. Only used if data is a\n",
       "    DataFrame.\n",
       "kind : str\n",
       "    The kind of plot to produce:\n",
       "\n",
       "    - 'line' : line plot (default)\n",
       "    - 'bar' : vertical bar plot\n",
       "    - 'barh' : horizontal bar plot\n",
       "    - 'hist' : histogram\n",
       "    - 'box' : boxplot\n",
       "    - 'kde' : Kernel Density Estimation plot\n",
       "    - 'density' : same as 'kde'\n",
       "    - 'area' : area plot\n",
       "    - 'pie' : pie plot\n",
       "    - 'scatter' : scatter plot (DataFrame only)\n",
       "    - 'hexbin' : hexbin plot (DataFrame only)\n",
       "ax : matplotlib axes object, default None\n",
       "    An axes of the current figure.\n",
       "subplots : bool, default False\n",
       "    Make separate subplots for each column.\n",
       "sharex : bool, default True if ax is None else False\n",
       "    In case ``subplots=True``, share x axis and set some x axis labels\n",
       "    to invisible; defaults to True if ax is None otherwise False if\n",
       "    an ax is passed in; Be aware, that passing in both an ax and\n",
       "    ``sharex=True`` will alter all x axis labels for all axis in a figure.\n",
       "sharey : bool, default False\n",
       "    In case ``subplots=True``, share y axis and set some y axis labels to invisible.\n",
       "layout : tuple, optional\n",
       "    (rows, columns) for the layout of subplots.\n",
       "figsize : a tuple (width, height) in inches\n",
       "    Size of a figure object.\n",
       "use_index : bool, default True\n",
       "    Use index as ticks for x axis.\n",
       "title : str or list\n",
       "    Title to use for the plot. If a string is passed, print the string\n",
       "    at the top of the figure. If a list is passed and `subplots` is\n",
       "    True, print each item in the list above the corresponding subplot.\n",
       "grid : bool, default None (matlab style default)\n",
       "    Axis grid lines.\n",
       "legend : bool or {'reverse'}\n",
       "    Place legend on axis subplots.\n",
       "style : list or dict\n",
       "    The matplotlib line style per column.\n",
       "logx : bool or 'sym', default False\n",
       "    Use log scaling or symlog scaling on x axis.\n",
       "    .. versionchanged:: 0.25.0\n",
       "\n",
       "logy : bool or 'sym' default False\n",
       "    Use log scaling or symlog scaling on y axis.\n",
       "    .. versionchanged:: 0.25.0\n",
       "\n",
       "loglog : bool or 'sym', default False\n",
       "    Use log scaling or symlog scaling on both x and y axes.\n",
       "    .. versionchanged:: 0.25.0\n",
       "\n",
       "xticks : sequence\n",
       "    Values to use for the xticks.\n",
       "yticks : sequence\n",
       "    Values to use for the yticks.\n",
       "xlim : 2-tuple/list\n",
       "    Set the x limits of the current axes.\n",
       "ylim : 2-tuple/list\n",
       "    Set the y limits of the current axes.\n",
       "xlabel : label, optional\n",
       "    Name to use for the xlabel on x-axis. Default uses index name as xlabel, or the\n",
       "    x-column name for planar plots.\n",
       "\n",
       "    .. versionadded:: 1.1.0\n",
       "\n",
       "    .. versionchanged:: 1.2.0\n",
       "\n",
       "       Now applicable to planar plots (`scatter`, `hexbin`).\n",
       "\n",
       "ylabel : label, optional\n",
       "    Name to use for the ylabel on y-axis. Default will show no ylabel, or the\n",
       "    y-column name for planar plots.\n",
       "\n",
       "    .. versionadded:: 1.1.0\n",
       "\n",
       "    .. versionchanged:: 1.2.0\n",
       "\n",
       "       Now applicable to planar plots (`scatter`, `hexbin`).\n",
       "\n",
       "rot : int, default None\n",
       "    Rotation for ticks (xticks for vertical, yticks for horizontal\n",
       "    plots).\n",
       "fontsize : int, default None\n",
       "    Font size for xticks and yticks.\n",
       "colormap : str or matplotlib colormap object, default None\n",
       "    Colormap to select colors from. If string, load colormap with that\n",
       "    name from matplotlib.\n",
       "colorbar : bool, optional\n",
       "    If True, plot colorbar (only relevant for 'scatter' and 'hexbin'\n",
       "    plots).\n",
       "position : float\n",
       "    Specify relative alignments for bar plot layout.\n",
       "    From 0 (left/bottom-end) to 1 (right/top-end). Default is 0.5\n",
       "    (center).\n",
       "table : bool, Series or DataFrame, default False\n",
       "    If True, draw a table using the data in the DataFrame and the data\n",
       "    will be transposed to meet matplotlib's default layout.\n",
       "    If a Series or DataFrame is passed, use passed data to draw a\n",
       "    table.\n",
       "yerr : DataFrame, Series, array-like, dict and str\n",
       "    See :ref:`Plotting with Error Bars <visualization.errorbars>` for\n",
       "    detail.\n",
       "xerr : DataFrame, Series, array-like, dict and str\n",
       "    Equivalent to yerr.\n",
       "stacked : bool, default False in line and bar plots, and True in area plot\n",
       "    If True, create stacked plot.\n",
       "sort_columns : bool, default False\n",
       "    Sort column names to determine plot ordering.\n",
       "secondary_y : bool or sequence, default False\n",
       "    Whether to plot on the secondary y-axis if a list/tuple, which\n",
       "    columns to plot on secondary y-axis.\n",
       "mark_right : bool, default True\n",
       "    When using a secondary_y axis, automatically mark the column\n",
       "    labels with \"(right)\" in the legend.\n",
       "include_bool : bool, default is False\n",
       "    If True, boolean values can be plotted.\n",
       "backend : str, default None\n",
       "    Backend to use instead of the backend specified in the option\n",
       "    ``plotting.backend``. For instance, 'matplotlib'. Alternatively, to\n",
       "    specify the ``plotting.backend`` for the whole session, set\n",
       "    ``pd.options.plotting.backend``.\n",
       "\n",
       "    .. versionadded:: 1.0.0\n",
       "\n",
       "**kwargs\n",
       "    Options to pass to matplotlib plotting method.\n",
       "\n",
       "Returns\n",
       "-------\n",
       ":class:`matplotlib.axes.Axes` or numpy.ndarray of them\n",
       "    If the backend is not the default matplotlib one, the return value\n",
       "    will be the object returned by the backend.\n",
       "\n",
       "Notes\n",
       "-----\n",
       "- See matplotlib documentation online for more on this subject\n",
       "- If `kind` = 'bar' or 'barh', you can specify relative alignments\n",
       "  for bar plot layout by `position` keyword.\n",
       "  From 0 (left/bottom-end) to 1 (right/top-end). Default is 0.5\n",
       "  (center)\n",
       "\u001b[0;31mFile:\u001b[0m           /opt/conda/lib/python3.7/site-packages/pandas/plotting/_core.py\n",
       "\u001b[0;31mType:\u001b[0m           type\n",
       "\u001b[0;31mSubclasses:\u001b[0m     \n"
      ]
     },
     "metadata": {},
     "output_type": "display_data"
    }
   ],
   "source": [
    "pd.DataFrame.plot?"
   ]
  },
  {
   "cell_type": "code",
   "execution_count": null,
   "id": "7e48d5b9-c009-4e6a-a3e7-10d3d6ca2ae8",
   "metadata": {},
   "outputs": [],
   "source": []
  }
 ],
 "metadata": {
  "environment": {
   "kernel": "python3",
   "name": "common-cpu.m90",
   "type": "gcloud",
   "uri": "gcr.io/deeplearning-platform-release/base-cpu:m90"
  },
  "kernelspec": {
   "display_name": "Python 3",
   "language": "python",
   "name": "python3"
  },
  "language_info": {
   "codemirror_mode": {
    "name": "ipython",
    "version": 3
   },
   "file_extension": ".py",
   "mimetype": "text/x-python",
   "name": "python",
   "nbconvert_exporter": "python",
   "pygments_lexer": "ipython3",
   "version": "3.7.12"
  }
 },
 "nbformat": 4,
 "nbformat_minor": 5
}
