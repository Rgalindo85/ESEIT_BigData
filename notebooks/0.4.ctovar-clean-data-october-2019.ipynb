{
 "cells": [
  {
   "cell_type": "markdown",
   "id": "a7dac6ca-3d99-49ad-b3bd-76c1144c6939",
   "metadata": {},
   "source": [
    "# Read and clean a single file"
   ]
  },
  {
   "cell_type": "code",
   "execution_count": 1,
   "id": "19dc2eac-db51-40ad-9834-b50602429973",
   "metadata": {},
   "outputs": [],
   "source": [
    "import os\n",
    "import sys\n",
    "import logging\n",
    "import pandas as pd\n",
    "\n",
    "from pandas_profiling import ProfileReport\n",
    "\n",
    "\n",
    "project_dir = os.path.dirname(os.path.abspath('.')) # get the path of the project, if doesn't work use os.getcwd() instead and use rfind to find the project dir\n",
    "sys.path.append(os.path.join(project_dir, 'src', 'data'))\n",
    "\n",
    "from data_manipulator import get_input_data\n",
    "\n",
    "bucket = 'ctovar_espbigdata'\n",
    "directory = 'BigData'"
   ]
  },
  {
   "cell_type": "markdown",
   "id": "6531655d-2cc6-40bf-8f3d-af0e28004fe1",
   "metadata": {},
   "source": [
    "## Read Metadata\n",
    "-----\n",
    "General info for each relevant column"
   ]
  },
  {
   "cell_type": "code",
   "execution_count": 2,
   "id": "4e1ea718-96b7-4eaa-95e7-7d9f314b5b56",
   "metadata": {},
   "outputs": [
    {
     "data": {
      "text/html": [
       "<div>\n",
       "<style scoped>\n",
       "    .dataframe tbody tr th:only-of-type {\n",
       "        vertical-align: middle;\n",
       "    }\n",
       "\n",
       "    .dataframe tbody tr th {\n",
       "        vertical-align: top;\n",
       "    }\n",
       "\n",
       "    .dataframe thead th {\n",
       "        text-align: right;\n",
       "    }\n",
       "</style>\n",
       "<table border=\"1\" class=\"dataframe\">\n",
       "  <thead>\n",
       "    <tr style=\"text-align: right;\">\n",
       "      <th></th>\n",
       "      <th>NOMBRE</th>\n",
       "      <th>DESCRIPCION</th>\n",
       "    </tr>\n",
       "  </thead>\n",
       "  <tbody>\n",
       "    <tr>\n",
       "      <th>0</th>\n",
       "      <td>FECHA_INCIDENTE</td>\n",
       "      <td>Es la fecha el cual se registra la llamada del...</td>\n",
       "    </tr>\n",
       "    <tr>\n",
       "      <th>1</th>\n",
       "      <td>FECHA_INICIO_DESPLAZAMIENTO_MOVIL</td>\n",
       "      <td>Es la fecha el cual se inicia el desplazamient...</td>\n",
       "    </tr>\n",
       "    <tr>\n",
       "      <th>2</th>\n",
       "      <td>CODIGO LOCALIDAD</td>\n",
       "      <td>Es el código de las 20 localidades de la ciuda...</td>\n",
       "    </tr>\n",
       "    <tr>\n",
       "      <th>3</th>\n",
       "      <td>LOCALIDAD</td>\n",
       "      <td>Es la localidad donde sucede el incidente.</td>\n",
       "    </tr>\n",
       "    <tr>\n",
       "      <th>4</th>\n",
       "      <td>EDAD</td>\n",
       "      <td>La edad del paciente.</td>\n",
       "    </tr>\n",
       "    <tr>\n",
       "      <th>5</th>\n",
       "      <td>UNIDAD</td>\n",
       "      <td>La descripción de la edad si es en horas, días...</td>\n",
       "    </tr>\n",
       "    <tr>\n",
       "      <th>6</th>\n",
       "      <td>GENERO</td>\n",
       "      <td>Es la  distinción de genero del paciente</td>\n",
       "    </tr>\n",
       "    <tr>\n",
       "      <th>7</th>\n",
       "      <td>RED</td>\n",
       "      <td>Es la localización a nivel bogota de la red de...</td>\n",
       "    </tr>\n",
       "    <tr>\n",
       "      <th>8</th>\n",
       "      <td>TIPO_INCIDENTE</td>\n",
       "      <td>Es la descripción inicial que tipifica el cent...</td>\n",
       "    </tr>\n",
       "    <tr>\n",
       "      <th>9</th>\n",
       "      <td>PRIORIDAD</td>\n",
       "      <td>Es la tipificación según la prioridad del inci...</td>\n",
       "    </tr>\n",
       "    <tr>\n",
       "      <th>10</th>\n",
       "      <td>MES</td>\n",
       "      <td>Es el mes el cual ocurrió el incidente.</td>\n",
       "    </tr>\n",
       "    <tr>\n",
       "      <th>11</th>\n",
       "      <td>CLASIFICACION FINAL</td>\n",
       "      <td>Es la clasificación final que entrega el centr...</td>\n",
       "    </tr>\n",
       "  </tbody>\n",
       "</table>\n",
       "</div>"
      ],
      "text/plain": [
       "                               NOMBRE  \\\n",
       "0                     FECHA_INCIDENTE   \n",
       "1   FECHA_INICIO_DESPLAZAMIENTO_MOVIL   \n",
       "2                    CODIGO LOCALIDAD   \n",
       "3                           LOCALIDAD   \n",
       "4                                EDAD   \n",
       "5                              UNIDAD   \n",
       "6                              GENERO   \n",
       "7                                 RED   \n",
       "8                      TIPO_INCIDENTE   \n",
       "9                           PRIORIDAD   \n",
       "10                                MES   \n",
       "11                CLASIFICACION FINAL   \n",
       "\n",
       "                                          DESCRIPCION  \n",
       "0   Es la fecha el cual se registra la llamada del...  \n",
       "1   Es la fecha el cual se inicia el desplazamient...  \n",
       "2   Es el código de las 20 localidades de la ciuda...  \n",
       "3          Es la localidad donde sucede el incidente.  \n",
       "4                               La edad del paciente.  \n",
       "5   La descripción de la edad si es en horas, días...  \n",
       "6            Es la  distinción de genero del paciente  \n",
       "7   Es la localización a nivel bogota de la red de...  \n",
       "8   Es la descripción inicial que tipifica el cent...  \n",
       "9   Es la tipificación según la prioridad del inci...  \n",
       "10            Es el mes el cual ocurrió el incidente.  \n",
       "11  Es la clasificación final que entrega el centr...  "
      ]
     },
     "execution_count": 2,
     "metadata": {},
     "output_type": "execute_result"
    }
   ],
   "source": [
    "file = 'gs://{}/{}/data/metadatos-llamadas-urg-y-emer.csv'.format(bucket, directory)\n",
    "df_metadata = pd.read_csv(file, encoding='latin1', sep=';')\n",
    "df_metadata"
   ]
  },
  {
   "cell_type": "markdown",
   "id": "e9553498-4f18-4757-92f7-384a12ebcff2",
   "metadata": {},
   "source": [
    "The final data must contains this and only this columns with that specific headers in order to standarize the data, this is a type of data dictionary but it also must include the data types (**schema**) of each field (**column**)"
   ]
  },
  {
   "cell_type": "markdown",
   "id": "ca09f0ce-cd22-4aca-94f5-61f4264efde5",
   "metadata": {},
   "source": [
    "## Get raw data"
   ]
  },
  {
   "cell_type": "code",
   "execution_count": 3,
   "id": "5acab9d2-7df9-433f-880b-0e88e61f9a18",
   "metadata": {},
   "outputs": [
    {
     "data": {
      "text/plain": [
       "\u001b[0;31mSignature:\u001b[0m\n",
       "\u001b[0mget_input_data\u001b[0m\u001b[0;34m(\u001b[0m\u001b[0;34m\u001b[0m\n",
       "\u001b[0;34m\u001b[0m    \u001b[0mbucket\u001b[0m\u001b[0;34m=\u001b[0m\u001b[0;34m'esp-big-data'\u001b[0m\u001b[0;34m,\u001b[0m\u001b[0;34m\u001b[0m\n",
       "\u001b[0;34m\u001b[0m    \u001b[0minitial_directory\u001b[0m\u001b[0;34m=\u001b[0m\u001b[0;34m'BigData'\u001b[0m\u001b[0;34m,\u001b[0m\u001b[0;34m\u001b[0m\n",
       "\u001b[0;34m\u001b[0m    \u001b[0mfilename\u001b[0m\u001b[0;34m=\u001b[0m\u001b[0;34m'datos-abiertos-agosto-2019.csv'\u001b[0m\u001b[0;34m,\u001b[0m\u001b[0;34m\u001b[0m\n",
       "\u001b[0;34m\u001b[0m\u001b[0;34m)\u001b[0m\u001b[0;34m\u001b[0m\u001b[0;34m\u001b[0m\u001b[0m\n",
       "\u001b[0;31mDocstring:\u001b[0m\n",
       "Read a csv file in a bucket of GCS, the file must use latin1 encoding and the separator is a semicolon (;)\n",
       "\n",
       "Args:\n",
       "    bucket (str, optional): Name of the bucket. Defaults to 'esp-big-data'.\n",
       "    initial_directory (str, optional): project directory. Defaults to 'BigData'.\n",
       "    filename (str, optional):csv file to read. Defaults to 'datos-abiertos-agosto-2019.csv'.\n",
       "\n",
       "Returns:\n",
       "    pandas.dataframe: dataframe with the raw data\n",
       "\u001b[0;31mFile:\u001b[0m      ~/ESEIT_BigData/src/data/data_manipulator.py\n",
       "\u001b[0;31mType:\u001b[0m      function\n"
      ]
     },
     "metadata": {},
     "output_type": "display_data"
    }
   ],
   "source": [
    "get_input_data?"
   ]
  },
  {
   "cell_type": "code",
   "execution_count": 4,
   "id": "4b03382e-9a1c-4532-a256-70a085241dac",
   "metadata": {},
   "outputs": [
    {
     "name": "stdout",
     "output_type": "stream",
     "text": [
      "<class 'pandas.core.frame.DataFrame'>\n",
      "RangeIndex: 18195 entries, 0 to 18194\n",
      "Data columns (total 10 columns):\n",
      " #   Column               Non-Null Count  Dtype \n",
      "---  ------               --------------  ----- \n",
      " 0   NUMERO_INCIDENTE     18195 non-null  int64 \n",
      " 1   FECHA_DESPACHO_518   18195 non-null  object\n",
      " 2   CODIGO DE LOCALIDAD  18195 non-null  int64 \n",
      " 3   LOCALIDAD            18195 non-null  object\n",
      " 4   EDAD                 18195 non-null  object\n",
      " 5   UNIDAD               9503 non-null   object\n",
      " 6   GENERO               9543 non-null   object\n",
      " 7   RED                  18195 non-null  object\n",
      " 8   TIPO_INCIDENTE       18195 non-null  object\n",
      " 9   PRIORIDAD            18195 non-null  object\n",
      "dtypes: int64(2), object(8)\n",
      "memory usage: 1.4+ MB\n",
      "None\n"
     ]
    }
   ],
   "source": [
    "raw_data = get_input_data(\n",
    "    bucket = bucket,\n",
    "    initial_directory = directory,\n",
    "    filename = 'datos-abiertos-octubre-2019.csv'\n",
    ")\n",
    "print(raw_data.info())"
   ]
  },
  {
   "cell_type": "markdown",
   "id": "5eb9ef0e-e60c-49ce-94f7-6d3f18f71a62",
   "metadata": {},
   "source": [
    "It seems that this file contains already the fields, but need to rename them"
   ]
  },
  {
   "cell_type": "markdown",
   "id": "9bbedf48-cbe2-41c5-bcd7-d99f3d3f4caf",
   "metadata": {},
   "source": [
    "### Rename Columns"
   ]
  },
  {
   "cell_type": "code",
   "execution_count": 5,
   "id": "4d354b06-a4ef-4a8e-81d5-2a1ba773e78f",
   "metadata": {},
   "outputs": [
    {
     "data": {
      "text/html": [
       "<div>\n",
       "<style scoped>\n",
       "    .dataframe tbody tr th:only-of-type {\n",
       "        vertical-align: middle;\n",
       "    }\n",
       "\n",
       "    .dataframe tbody tr th {\n",
       "        vertical-align: top;\n",
       "    }\n",
       "\n",
       "    .dataframe thead th {\n",
       "        text-align: right;\n",
       "    }\n",
       "</style>\n",
       "<table border=\"1\" class=\"dataframe\">\n",
       "  <thead>\n",
       "    <tr style=\"text-align: right;\">\n",
       "      <th></th>\n",
       "      <th>NUMERO_INCIDENTE</th>\n",
       "      <th>FECHA_DESPACHO_518</th>\n",
       "      <th>CODIGO_LOCALIDAD</th>\n",
       "      <th>LOCALIDAD</th>\n",
       "      <th>EDAD</th>\n",
       "      <th>UNIDAD</th>\n",
       "      <th>GENERO</th>\n",
       "      <th>RED</th>\n",
       "      <th>TIPO_INCIDENTE</th>\n",
       "      <th>PRIORIDAD</th>\n",
       "    </tr>\n",
       "  </thead>\n",
       "  <tbody>\n",
       "    <tr>\n",
       "      <th>0</th>\n",
       "      <td>868419196</td>\n",
       "      <td>2019-10-01 00:06:29</td>\n",
       "      <td>9</td>\n",
       "      <td>Fontibon</td>\n",
       "      <td>SIN_DATO</td>\n",
       "      <td>NaN</td>\n",
       "      <td>NaN</td>\n",
       "      <td>Norte</td>\n",
       "      <td>Dolor torácico</td>\n",
       "      <td>ALTA</td>\n",
       "    </tr>\n",
       "    <tr>\n",
       "      <th>1</th>\n",
       "      <td>868421196</td>\n",
       "      <td>2019-10-01 00:19:40</td>\n",
       "      <td>10</td>\n",
       "      <td>Engativa</td>\n",
       "      <td>67</td>\n",
       "      <td>Años</td>\n",
       "      <td>MASCULINO</td>\n",
       "      <td>Norte</td>\n",
       "      <td>Heridos</td>\n",
       "      <td>ALTA</td>\n",
       "    </tr>\n",
       "    <tr>\n",
       "      <th>2</th>\n",
       "      <td>868438196</td>\n",
       "      <td>2019-10-01 00:13:20</td>\n",
       "      <td>4</td>\n",
       "      <td>San Cristobal</td>\n",
       "      <td>SIN_DATO</td>\n",
       "      <td>NaN</td>\n",
       "      <td>NaN</td>\n",
       "      <td>Sur</td>\n",
       "      <td>Inconsciente/Paro Cardiorrespiratorio</td>\n",
       "      <td>ALTA</td>\n",
       "    </tr>\n",
       "    <tr>\n",
       "      <th>3</th>\n",
       "      <td>944374194</td>\n",
       "      <td>2019-10-01 05:30:23</td>\n",
       "      <td>16</td>\n",
       "      <td>Puente Aranda</td>\n",
       "      <td>SIN_DATO</td>\n",
       "      <td>NaN</td>\n",
       "      <td>NaN</td>\n",
       "      <td>Privada</td>\n",
       "      <td>Convulsiones</td>\n",
       "      <td>ALTA</td>\n",
       "    </tr>\n",
       "    <tr>\n",
       "      <th>4</th>\n",
       "      <td>868476196</td>\n",
       "      <td>2019-10-01 00:42:45</td>\n",
       "      <td>5</td>\n",
       "      <td>Usme</td>\n",
       "      <td>5</td>\n",
       "      <td>Años</td>\n",
       "      <td>FEMENINO</td>\n",
       "      <td>Sur</td>\n",
       "      <td>Dificultad Respiratoria</td>\n",
       "      <td>ALTA</td>\n",
       "    </tr>\n",
       "  </tbody>\n",
       "</table>\n",
       "</div>"
      ],
      "text/plain": [
       "   NUMERO_INCIDENTE   FECHA_DESPACHO_518  CODIGO_LOCALIDAD       LOCALIDAD  \\\n",
       "0         868419196  2019-10-01 00:06:29                 9        Fontibon   \n",
       "1         868421196  2019-10-01 00:19:40                10        Engativa   \n",
       "2         868438196  2019-10-01 00:13:20                 4   San Cristobal   \n",
       "3         944374194  2019-10-01 05:30:23                16   Puente Aranda   \n",
       "4         868476196  2019-10-01 00:42:45                 5            Usme   \n",
       "\n",
       "       EDAD UNIDAD     GENERO      RED  \\\n",
       "0  SIN_DATO    NaN        NaN    Norte   \n",
       "1        67   Años  MASCULINO    Norte   \n",
       "2  SIN_DATO    NaN        NaN      Sur   \n",
       "3  SIN_DATO    NaN        NaN  Privada   \n",
       "4         5   Años   FEMENINO      Sur   \n",
       "\n",
       "                           TIPO_INCIDENTE PRIORIDAD  \n",
       "0                          Dolor torácico      ALTA  \n",
       "1                                Heridos       ALTA  \n",
       "2  Inconsciente/Paro Cardiorrespiratorio       ALTA  \n",
       "3                           Convulsiones       ALTA  \n",
       "4                 Dificultad Respiratoria      ALTA  "
      ]
     },
     "execution_count": 5,
     "metadata": {},
     "output_type": "execute_result"
    }
   ],
   "source": [
    "# Don't let white spaces between headers to avoid errors during the pipeline\n",
    "# This is sometimes called a recipe for etl\n",
    "raw_data.rename(\n",
    "    columns = {\n",
    "        'CODIGO DE LOCALIDAD'               : 'CODIGO_LOCALIDAD',\n",
    "        'TIPO DE INCIDIDENT'                : 'TIPO_INCIDENTE',\n",
    "    },\n",
    "    inplace=True\n",
    ")\n",
    "raw_data.head()"
   ]
  },
  {
   "cell_type": "markdown",
   "id": "188353cb-3a29-4285-9e1d-5ca19ed9105c",
   "metadata": {},
   "source": [
    "### Check values per field\n",
    "--------\n",
    "1. LOCALIDAD\n",
    "2. GENERO"
   ]
  },
  {
   "cell_type": "code",
   "execution_count": 6,
   "id": "c7e613bd-d1d0-49bd-b7a3-919e2ed04957",
   "metadata": {},
   "outputs": [
    {
     "data": {
      "text/plain": [
       " Kennedy               2546\n",
       " Engativa              1791\n",
       " Suba                  1742\n",
       " Bosa                  1334\n",
       " Ciudad Bolivar        1141\n",
       " Puente Aranda          989\n",
       " Rafael Uribe Uribe     949\n",
       "Usaquen                 888\n",
       " Fontibon               863\n",
       "San Cristobal           844\n",
       " Chapinero              763\n",
       " Los Martires           697\n",
       " Santa Fe               689\n",
       " Barrios Unidos         680\n",
       " Usme                   609\n",
       " Tunjuelito             589\n",
       " Teusaquillo            536\n",
       " Antonio Nariño         419\n",
       " La Candelaria          120\n",
       " Sumapaz                  6\n",
       "Name: LOCALIDAD, dtype: int64"
      ]
     },
     "execution_count": 6,
     "metadata": {},
     "output_type": "execute_result"
    }
   ],
   "source": [
    "raw_data['LOCALIDAD'].value_counts(dropna=False)"
   ]
  },
  {
   "cell_type": "markdown",
   "id": "1af92623-c419-4db6-b0a2-5d0d0dc158d2",
   "metadata": {},
   "source": [
    "It seems that in some fields exist a white space at the begining of the values, probably at the end too, lets clean them all"
   ]
  },
  {
   "cell_type": "code",
   "execution_count": 11,
   "id": "aa8e1799-a9f9-479e-b93a-06c6c2c05fd0",
   "metadata": {},
   "outputs": [
    {
     "data": {
      "text/plain": [
       "Kennedy               2546\n",
       "Engativa              1791\n",
       "Suba                  1742\n",
       "Bosa                  1334\n",
       "Ciudad Bolivar        1141\n",
       "Puente Aranda          989\n",
       "Rafael Uribe Uribe     949\n",
       "Usaquen                888\n",
       "Fontibon               863\n",
       "San Cristobal          844\n",
       "Chapinero              763\n",
       "Los Martires           697\n",
       "Santa Fe               689\n",
       "Barrios Unidos         680\n",
       "Usme                   609\n",
       "Tunjuelito             589\n",
       "Teusaquillo            536\n",
       "Antonio Nariño         419\n",
       "La Candelaria          120\n",
       "Sumapaz                  6\n",
       "Name: LOCALIDAD, dtype: int64"
      ]
     },
     "execution_count": 11,
     "metadata": {},
     "output_type": "execute_result"
    }
   ],
   "source": [
    "# Let's use the function strip(), this property works for string objects in python that removes whitespaces\n",
    "raw_data['LOCALIDAD'].apply(\n",
    "    lambda x: x.strip()        # here we use a lambda function, exclusively for python. Is a one-line function\n",
    ").value_counts()"
   ]
  },
  {
   "cell_type": "code",
   "execution_count": 6,
   "id": "ea1c48db-18e8-41a3-8377-1c41b2582423",
   "metadata": {},
   "outputs": [],
   "source": [
    "raw_data['LOCALIDAD'] = raw_data['LOCALIDAD'].apply(lambda x: x.strip()) # we assign the output of the function apply to the same column"
   ]
  },
  {
   "cell_type": "code",
   "execution_count": 7,
   "id": "56a2080d-11bd-4c4e-bf36-99b1ec4a3390",
   "metadata": {},
   "outputs": [
    {
     "data": {
      "text/html": [
       "<div>\n",
       "<style scoped>\n",
       "    .dataframe tbody tr th:only-of-type {\n",
       "        vertical-align: middle;\n",
       "    }\n",
       "\n",
       "    .dataframe tbody tr th {\n",
       "        vertical-align: top;\n",
       "    }\n",
       "\n",
       "    .dataframe thead th {\n",
       "        text-align: right;\n",
       "    }\n",
       "</style>\n",
       "<table border=\"1\" class=\"dataframe\">\n",
       "  <thead>\n",
       "    <tr style=\"text-align: right;\">\n",
       "      <th></th>\n",
       "      <th>NUMERO_INCIDENTE</th>\n",
       "      <th>FECHA_DESPACHO_518</th>\n",
       "      <th>CODIGO_LOCALIDAD</th>\n",
       "      <th>LOCALIDAD</th>\n",
       "      <th>EDAD</th>\n",
       "      <th>UNIDAD</th>\n",
       "      <th>GENERO</th>\n",
       "      <th>RED</th>\n",
       "      <th>TIPO_INCIDENTE</th>\n",
       "      <th>PRIORIDAD</th>\n",
       "    </tr>\n",
       "  </thead>\n",
       "  <tbody>\n",
       "    <tr>\n",
       "      <th>0</th>\n",
       "      <td>868419196</td>\n",
       "      <td>2019-10-01 00:06:29</td>\n",
       "      <td>9</td>\n",
       "      <td>Fontibon</td>\n",
       "      <td>SIN_DATO</td>\n",
       "      <td>NaN</td>\n",
       "      <td>NaN</td>\n",
       "      <td>Norte</td>\n",
       "      <td>Dolor torácico</td>\n",
       "      <td>ALTA</td>\n",
       "    </tr>\n",
       "    <tr>\n",
       "      <th>1</th>\n",
       "      <td>868421196</td>\n",
       "      <td>2019-10-01 00:19:40</td>\n",
       "      <td>10</td>\n",
       "      <td>Engativa</td>\n",
       "      <td>67</td>\n",
       "      <td>Años</td>\n",
       "      <td>MASCULINO</td>\n",
       "      <td>Norte</td>\n",
       "      <td>Heridos</td>\n",
       "      <td>ALTA</td>\n",
       "    </tr>\n",
       "    <tr>\n",
       "      <th>2</th>\n",
       "      <td>868438196</td>\n",
       "      <td>2019-10-01 00:13:20</td>\n",
       "      <td>4</td>\n",
       "      <td>San Cristobal</td>\n",
       "      <td>SIN_DATO</td>\n",
       "      <td>NaN</td>\n",
       "      <td>NaN</td>\n",
       "      <td>Sur</td>\n",
       "      <td>Inconsciente/Paro Cardiorrespiratorio</td>\n",
       "      <td>ALTA</td>\n",
       "    </tr>\n",
       "    <tr>\n",
       "      <th>3</th>\n",
       "      <td>944374194</td>\n",
       "      <td>2019-10-01 05:30:23</td>\n",
       "      <td>16</td>\n",
       "      <td>Puente Aranda</td>\n",
       "      <td>SIN_DATO</td>\n",
       "      <td>NaN</td>\n",
       "      <td>NaN</td>\n",
       "      <td>Privada</td>\n",
       "      <td>Convulsiones</td>\n",
       "      <td>ALTA</td>\n",
       "    </tr>\n",
       "    <tr>\n",
       "      <th>4</th>\n",
       "      <td>868476196</td>\n",
       "      <td>2019-10-01 00:42:45</td>\n",
       "      <td>5</td>\n",
       "      <td>Usme</td>\n",
       "      <td>5</td>\n",
       "      <td>Años</td>\n",
       "      <td>FEMENINO</td>\n",
       "      <td>Sur</td>\n",
       "      <td>Dificultad Respiratoria</td>\n",
       "      <td>ALTA</td>\n",
       "    </tr>\n",
       "  </tbody>\n",
       "</table>\n",
       "</div>"
      ],
      "text/plain": [
       "   NUMERO_INCIDENTE   FECHA_DESPACHO_518  CODIGO_LOCALIDAD      LOCALIDAD  \\\n",
       "0         868419196  2019-10-01 00:06:29                 9       Fontibon   \n",
       "1         868421196  2019-10-01 00:19:40                10       Engativa   \n",
       "2         868438196  2019-10-01 00:13:20                 4  San Cristobal   \n",
       "3         944374194  2019-10-01 05:30:23                16  Puente Aranda   \n",
       "4         868476196  2019-10-01 00:42:45                 5           Usme   \n",
       "\n",
       "       EDAD UNIDAD     GENERO      RED  \\\n",
       "0  SIN_DATO    NaN        NaN    Norte   \n",
       "1        67   Años  MASCULINO    Norte   \n",
       "2  SIN_DATO    NaN        NaN      Sur   \n",
       "3  SIN_DATO    NaN        NaN  Privada   \n",
       "4         5   Años   FEMENINO      Sur   \n",
       "\n",
       "                           TIPO_INCIDENTE PRIORIDAD  \n",
       "0                          Dolor torácico      ALTA  \n",
       "1                                Heridos       ALTA  \n",
       "2  Inconsciente/Paro Cardiorrespiratorio       ALTA  \n",
       "3                           Convulsiones       ALTA  \n",
       "4                 Dificultad Respiratoria      ALTA  "
      ]
     },
     "execution_count": 7,
     "metadata": {},
     "output_type": "execute_result"
    }
   ],
   "source": [
    "raw_data.head()"
   ]
  },
  {
   "cell_type": "code",
   "execution_count": 9,
   "id": "440653d8-5eda-4138-8e1e-146724e4931a",
   "metadata": {},
   "outputs": [],
   "source": [
    "#col = 'GENERO'\n",
    "#raw_data[col] = raw_data[col].apply(lambda x: x.strip())\n",
    "#raw_data[col].value_counts(dropna=False)   # here we could apply the same technique as before to avoid errors"
   ]
  },
  {
   "cell_type": "code",
   "execution_count": 10,
   "id": "2ce261b7-3ebb-45b5-8915-4b5aa1921d27",
   "metadata": {},
   "outputs": [
    {
     "data": {
      "text/plain": [
       "Accidente de tránsito con heridos/Muertos    6778\n",
       "Inconsciente/Paro Cardiorrespiratorio        1768\n",
       "Dificultad Respiratoria                      1497\n",
       "Enfermo                                      1276\n",
       "Convulsiones                                 1130\n",
       "Heridos                                       828\n",
       "Dolor torácico                                735\n",
       "Intento de suicidio                           668\n",
       "Lesiones personales                           657\n",
       "Trastorno mental                              654\n",
       "Accidente cerebro vascular                    396\n",
       "Patología Gineco - obstétrica                 378\n",
       "Síntomas gastrointestinales                   375\n",
       "Caída                                         322\n",
       "Intoxicaciones                                179\n",
       "Ideas de suicidio                             111\n",
       "SIN_DATO                                       60\n",
       "Incendio estructural                           51\n",
       "Muerte Natural                                 39\n",
       "Violencia Sexual                               32\n",
       "Quemaduras                                     32\n",
       "Solicitud Apoyo / Desacato                     30\n",
       "Electrocución / Rescate                        20\n",
       "Sangrado Vaginal                               20\n",
       "Explosión                                      18\n",
       "Rescates                                       16\n",
       "Riña                                           15\n",
       "Accidente Tránsito Simple                      10\n",
       "Verificar Situación                            10\n",
       "Persona Pidiendo Auxilio                       10\n",
       "Fuga de Gas Natural o Propano                   9\n",
       "Incendio Vehicular                              8\n",
       "Abrir domicilio                                 7\n",
       "Incidente rescate acuático                      7\n",
       "MATPEL (Materiales peligrosos)                  6\n",
       "Atraco / Hurto en Proces                        6\n",
       "Muerto                                          5\n",
       "Maltrato                                        5\n",
       "Menor o persona Abandonada                      4\n",
       "Disparos                                        3\n",
       "Incendio con MATPEL                             3\n",
       "Manifestación / Motín                           3\n",
       "Elemento caído y/o en peligro de caer.          3\n",
       "Prevención                                      2\n",
       "PSICOLOGIA                                      2\n",
       "Vehiculo Hurtado                                2\n",
       "Abejas                                          1\n",
       "Embriaguez                                      1\n",
       "Incendio                                        1\n",
       "Animal Peligroso                                1\n",
       "Extraviados / Desaparecidos                     1\n",
       "Name: TIPO_INCIDENTE, dtype: int64"
      ]
     },
     "execution_count": 10,
     "metadata": {},
     "output_type": "execute_result"
    }
   ],
   "source": [
    "col = 'TIPO_INCIDENTE'\n",
    "raw_data[col] = raw_data[col].apply(lambda x: x.strip())\n",
    "raw_data[col].value_counts(dropna=False)"
   ]
  },
  {
   "cell_type": "markdown",
   "id": "ed0d30da-1ead-4916-a018-16f3c969a569",
   "metadata": {},
   "source": [
    "Here this columns contains a null value, aka NaN (this is numeric value that is Null), lets replace them first\n",
    "* NaN --> SIN_DATO"
   ]
  },
  {
   "cell_type": "code",
   "execution_count": 11,
   "id": "8510699c-d135-477d-bc61-2ba0017473da",
   "metadata": {},
   "outputs": [
    {
     "data": {
      "text/plain": [
       "Accidente de tránsito con heridos/Muertos    6778\n",
       "Inconsciente/Paro Cardiorrespiratorio        1768\n",
       "Dificultad Respiratoria                      1497\n",
       "Enfermo                                      1276\n",
       "Convulsiones                                 1130\n",
       "Heridos                                       828\n",
       "Dolor torácico                                735\n",
       "Intento de suicidio                           668\n",
       "Lesiones personales                           657\n",
       "Trastorno mental                              654\n",
       "Accidente cerebro vascular                    396\n",
       "Patología Gineco - obstétrica                 378\n",
       "Síntomas gastrointestinales                   375\n",
       "Caída                                         322\n",
       "Intoxicaciones                                179\n",
       "Ideas de suicidio                             111\n",
       "SIN_DATO                                       60\n",
       "Incendio estructural                           51\n",
       "Muerte Natural                                 39\n",
       "Violencia Sexual                               32\n",
       "Quemaduras                                     32\n",
       "Solicitud Apoyo / Desacato                     30\n",
       "Electrocución / Rescate                        20\n",
       "Sangrado Vaginal                               20\n",
       "Explosión                                      18\n",
       "Rescates                                       16\n",
       "Riña                                           15\n",
       "Accidente Tránsito Simple                      10\n",
       "Verificar Situación                            10\n",
       "Persona Pidiendo Auxilio                       10\n",
       "Fuga de Gas Natural o Propano                   9\n",
       "Incendio Vehicular                              8\n",
       "Abrir domicilio                                 7\n",
       "Incidente rescate acuático                      7\n",
       "MATPEL (Materiales peligrosos)                  6\n",
       "Atraco / Hurto en Proces                        6\n",
       "Muerto                                          5\n",
       "Maltrato                                        5\n",
       "Menor o persona Abandonada                      4\n",
       "Disparos                                        3\n",
       "Incendio con MATPEL                             3\n",
       "Manifestación / Motín                           3\n",
       "Elemento caído y/o en peligro de caer.          3\n",
       "Prevención                                      2\n",
       "PSICOLOGIA                                      2\n",
       "Vehiculo Hurtado                                2\n",
       "Abejas                                          1\n",
       "Embriaguez                                      1\n",
       "Incendio                                        1\n",
       "Animal Peligroso                                1\n",
       "Extraviados / Desaparecidos                     1\n",
       "Name: TIPO_INCIDENTE, dtype: int64"
      ]
     },
     "execution_count": 11,
     "metadata": {},
     "output_type": "execute_result"
    }
   ],
   "source": [
    "raw_data[col].fillna('SIN_DATO').value_counts()"
   ]
  },
  {
   "cell_type": "markdown",
   "id": "22b1062e-3915-4df7-92ca-1c403f61eaa0",
   "metadata": {},
   "source": [
    "# Convert to datetime data type columns must be\n",
    "________________________________________________"
   ]
  },
  {
   "cell_type": "code",
   "execution_count": 12,
   "id": "25220856-cb2a-4025-a913-8be20d281919",
   "metadata": {},
   "outputs": [
    {
     "name": "stdout",
     "output_type": "stream",
     "text": [
      "<class 'pandas.core.frame.DataFrame'>\n",
      "RangeIndex: 18195 entries, 0 to 18194\n",
      "Data columns (total 10 columns):\n",
      " #   Column              Non-Null Count  Dtype         \n",
      "---  ------              --------------  -----         \n",
      " 0   NUMERO_INCIDENTE    18195 non-null  int64         \n",
      " 1   FECHA_DESPACHO_518  18195 non-null  datetime64[ns]\n",
      " 2   CODIGO_LOCALIDAD    18195 non-null  int64         \n",
      " 3   LOCALIDAD           18195 non-null  object        \n",
      " 4   EDAD                18195 non-null  object        \n",
      " 5   UNIDAD              9503 non-null   object        \n",
      " 6   GENERO              9543 non-null   object        \n",
      " 7   RED                 18195 non-null  object        \n",
      " 8   TIPO_INCIDENTE      18195 non-null  object        \n",
      " 9   PRIORIDAD           18195 non-null  object        \n",
      "dtypes: datetime64[ns](1), int64(2), object(7)\n",
      "memory usage: 1.4+ MB\n"
     ]
    }
   ],
   "source": [
    "raw_data[\"FECHA_DESPACHO_518\"]= pd.to_datetime(raw_data[\"FECHA_DESPACHO_518\"])\n",
    "raw_data.info()\n",
    "\n"
   ]
  },
  {
   "cell_type": "markdown",
   "id": "7f611c7b-194e-49e1-8dd7-5485c09c7c84",
   "metadata": {},
   "source": [
    "## Remove duplicates"
   ]
  },
  {
   "cell_type": "code",
   "execution_count": 13,
   "id": "234b649c-face-4b20-a477-5516eb3b1706",
   "metadata": {},
   "outputs": [
    {
     "name": "stdout",
     "output_type": "stream",
     "text": [
      "Number of rows before cleaning: 18195\n",
      "Number of rows after cleaning: 16559\n"
     ]
    }
   ],
   "source": [
    "print('Number of rows before cleaning:', raw_data.shape[0] )\n",
    "raw_data.drop_duplicates(inplace=True)\n",
    "print('Number of rows after cleaning:', raw_data.shape[0] )"
   ]
  },
  {
   "cell_type": "markdown",
   "id": "e6f30471-1464-47a9-a444-970a302baea7",
   "metadata": {
    "tags": []
   },
   "source": [
    "# Profile of the Data\n",
    "------\n",
    "first install pandas profiling, from a terminal\n",
    "\n",
    "````\n",
    "pip install pandas-profiling\n",
    "````"
   ]
  },
  {
   "cell_type": "code",
   "execution_count": 14,
   "id": "66f66769-d164-42e4-bcfb-e43b7fef1859",
   "metadata": {},
   "outputs": [
    {
     "data": {
      "application/vnd.jupyter.widget-view+json": {
       "model_id": "e6dbc4f53a2547cda4723ec138155202",
       "version_major": 2,
       "version_minor": 0
      },
      "text/plain": [
       "Summarize dataset:   0%|          | 0/24 [00:00<?, ?it/s]"
      ]
     },
     "metadata": {},
     "output_type": "display_data"
    },
    {
     "data": {
      "application/vnd.jupyter.widget-view+json": {
       "model_id": "869fae5d203744bca46b891ceee43242",
       "version_major": 2,
       "version_minor": 0
      },
      "text/plain": [
       "Generate report structure:   0%|          | 0/1 [00:00<?, ?it/s]"
      ]
     },
     "metadata": {},
     "output_type": "display_data"
    },
    {
     "data": {
      "application/vnd.jupyter.widget-view+json": {
       "model_id": "4a871355506d42c1b82d923c3260ae38",
       "version_major": 2,
       "version_minor": 0
      },
      "text/plain": [
       "Render HTML:   0%|          | 0/1 [00:00<?, ?it/s]"
      ]
     },
     "metadata": {},
     "output_type": "display_data"
    },
    {
     "data": {
      "application/vnd.jupyter.widget-view+json": {
       "model_id": "c6c0d41c876d4dc4b84ccb49400ff160",
       "version_major": 2,
       "version_minor": 0
      },
      "text/plain": [
       "Export report to file:   0%|          | 0/1 [00:00<?, ?it/s]"
      ]
     },
     "metadata": {},
     "output_type": "display_data"
    }
   ],
   "source": [
    "profile = ProfileReport(df=raw_data)\n",
    "profile.to_file(output_file=project_dir + '/reports/'+'profile_raw_data_octubre_2019.html')"
   ]
  },
  {
   "cell_type": "markdown",
   "id": "a7a93408-dff3-402c-8324-2262c187a797",
   "metadata": {},
   "source": [
    "Form the initial report of the file we see that are duplicates rows in the table, we need to subtract them"
   ]
  },
  {
   "cell_type": "markdown",
   "id": "a89276dd-f903-4752-9f7f-15e360c7207f",
   "metadata": {},
   "source": [
    "### Save the final table\n",
    "use to_csv to save the table"
   ]
  },
  {
   "cell_type": "code",
   "execution_count": 15,
   "id": "33a9d6aa-ed3d-465b-a920-404a17490f79",
   "metadata": {},
   "outputs": [],
   "source": [
    "# saving in a local directory\n",
    "raw_data.to_csv(project_dir + '/data/processed/' +'clean_llamadas_123_octubre_2019.csv', encoding='latin1', sep=';', index=False)"
   ]
  },
  {
   "cell_type": "code",
   "execution_count": null,
   "id": "dff37989-97fe-4cb2-b388-790945ba3e40",
   "metadata": {},
   "outputs": [],
   "source": []
  }
 ],
 "metadata": {
  "environment": {
   "kernel": "python3",
   "name": "common-cpu.m90",
   "type": "gcloud",
   "uri": "gcr.io/deeplearning-platform-release/base-cpu:m90"
  },
  "kernelspec": {
   "display_name": "Python 3",
   "language": "python",
   "name": "python3"
  },
  "language_info": {
   "codemirror_mode": {
    "name": "ipython",
    "version": 3
   },
   "file_extension": ".py",
   "mimetype": "text/x-python",
   "name": "python",
   "nbconvert_exporter": "python",
   "pygments_lexer": "ipython3",
   "version": "3.7.12"
  }
 },
 "nbformat": 4,
 "nbformat_minor": 5
}
