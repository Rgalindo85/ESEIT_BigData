{
 "cells": [
  {
   "cell_type": "markdown",
   "id": "a7dac6ca-3d99-49ad-b3bd-76c1144c6939",
   "metadata": {
    "tags": []
   },
   "source": [
    "## Lectura y limpieza de Datos Llamadas 123"
   ]
  },
  {
   "cell_type": "markdown",
   "id": "4bde52a1-4d5b-4546-8f0d-abbd0d4b1e4b",
   "metadata": {},
   "source": [
    "* cargar y limpiar cada df de los meses \n",
    "* Modificar en la tabla de string a date/time \n",
    "* Por tabla (de cada mes), puedes hacer un reporte con los datos limpios\n",
    "* Hacer todo esto en todas las tablas de 123 Y generar la tabla maestra\n",
    "* hacer reporte de tabal maestra"
   ]
  },
  {
   "cell_type": "code",
   "execution_count": 2,
   "id": "19dc2eac-db51-40ad-9834-b50602429973",
   "metadata": {
    "tags": []
   },
   "outputs": [],
   "source": [
    "import os\n",
    "import sys\n",
    "import logging  \n",
    "import pandas as pd\n",
    "\n",
    "import re # libreria para administracion de expresiones regulares\n",
    "\n",
    "from pandas_profiling import ProfileReport #para generar reporte\n",
    "\n",
    "\n",
    "project_dir = os.path.dirname(os.path.abspath('.')) # get the path of the project, if doesn't work use os.getcwd() instead and use rfind to find the project dir\n",
    "sys.path.append(os.path.join(project_dir, 'src', 'data'))\n",
    "from data_manipulator import get_input_data\n",
    "\n",
    "bucket = 'esp_bigdata_jemm'\n",
    "directory = 'BigData'\n",
    "\n",
    "%load_ext autoreload\n",
    "%autoreload 2"
   ]
  },
  {
   "cell_type": "markdown",
   "id": "cd8965c9-f29d-450b-b4a7-4259111c834b",
   "metadata": {},
   "source": [
    "## Visualizando el diccionario de datos"
   ]
  },
  {
   "cell_type": "code",
   "execution_count": 3,
   "id": "c223e996-5431-4d9b-934a-87929600c14a",
   "metadata": {},
   "outputs": [
    {
     "data": {
      "text/html": [
       "<div>\n",
       "<style scoped>\n",
       "    .dataframe tbody tr th:only-of-type {\n",
       "        vertical-align: middle;\n",
       "    }\n",
       "\n",
       "    .dataframe tbody tr th {\n",
       "        vertical-align: top;\n",
       "    }\n",
       "\n",
       "    .dataframe thead th {\n",
       "        text-align: right;\n",
       "    }\n",
       "</style>\n",
       "<table border=\"1\" class=\"dataframe\">\n",
       "  <thead>\n",
       "    <tr style=\"text-align: right;\">\n",
       "      <th></th>\n",
       "      <th>NOMBRE</th>\n",
       "      <th>DESCRIPCION</th>\n",
       "    </tr>\n",
       "  </thead>\n",
       "  <tbody>\n",
       "    <tr>\n",
       "      <th>0</th>\n",
       "      <td>FECHA_INCIDENTE</td>\n",
       "      <td>Es la fecha el cual se registra la llamada del...</td>\n",
       "    </tr>\n",
       "    <tr>\n",
       "      <th>1</th>\n",
       "      <td>FECHA_INICIO_DESPLAZAMIENTO_MOVIL</td>\n",
       "      <td>Es la fecha el cual se inicia el desplazamient...</td>\n",
       "    </tr>\n",
       "    <tr>\n",
       "      <th>2</th>\n",
       "      <td>CODIGO LOCALIDAD</td>\n",
       "      <td>Es el código de las 20 localidades de la ciuda...</td>\n",
       "    </tr>\n",
       "    <tr>\n",
       "      <th>3</th>\n",
       "      <td>LOCALIDAD</td>\n",
       "      <td>Es la localidad donde sucede el incidente.</td>\n",
       "    </tr>\n",
       "    <tr>\n",
       "      <th>4</th>\n",
       "      <td>EDAD</td>\n",
       "      <td>La edad del paciente.</td>\n",
       "    </tr>\n",
       "    <tr>\n",
       "      <th>5</th>\n",
       "      <td>UNIDAD</td>\n",
       "      <td>La descripción de la edad si es en horas, días...</td>\n",
       "    </tr>\n",
       "    <tr>\n",
       "      <th>6</th>\n",
       "      <td>GENERO</td>\n",
       "      <td>Es la  distinción de genero del paciente</td>\n",
       "    </tr>\n",
       "    <tr>\n",
       "      <th>7</th>\n",
       "      <td>RED</td>\n",
       "      <td>Es la localización a nivel bogota de la red de...</td>\n",
       "    </tr>\n",
       "    <tr>\n",
       "      <th>8</th>\n",
       "      <td>TIPO_INCIDENTE</td>\n",
       "      <td>Es la descripción inicial que tipifica el cent...</td>\n",
       "    </tr>\n",
       "    <tr>\n",
       "      <th>9</th>\n",
       "      <td>PRIORIDAD</td>\n",
       "      <td>Es la tipificación según la prioridad del inci...</td>\n",
       "    </tr>\n",
       "    <tr>\n",
       "      <th>10</th>\n",
       "      <td>MES</td>\n",
       "      <td>Es el mes el cual ocurrió el incidente.</td>\n",
       "    </tr>\n",
       "    <tr>\n",
       "      <th>11</th>\n",
       "      <td>CLASIFICACION FINAL</td>\n",
       "      <td>Es la clasificación final que entrega el centr...</td>\n",
       "    </tr>\n",
       "  </tbody>\n",
       "</table>\n",
       "</div>"
      ],
      "text/plain": [
       "                               NOMBRE  \\\n",
       "0                     FECHA_INCIDENTE   \n",
       "1   FECHA_INICIO_DESPLAZAMIENTO_MOVIL   \n",
       "2                    CODIGO LOCALIDAD   \n",
       "3                           LOCALIDAD   \n",
       "4                                EDAD   \n",
       "5                              UNIDAD   \n",
       "6                              GENERO   \n",
       "7                                 RED   \n",
       "8                      TIPO_INCIDENTE   \n",
       "9                           PRIORIDAD   \n",
       "10                                MES   \n",
       "11                CLASIFICACION FINAL   \n",
       "\n",
       "                                          DESCRIPCION  \n",
       "0   Es la fecha el cual se registra la llamada del...  \n",
       "1   Es la fecha el cual se inicia el desplazamient...  \n",
       "2   Es el código de las 20 localidades de la ciuda...  \n",
       "3          Es la localidad donde sucede el incidente.  \n",
       "4                               La edad del paciente.  \n",
       "5   La descripción de la edad si es en horas, días...  \n",
       "6            Es la  distinción de genero del paciente  \n",
       "7   Es la localización a nivel bogota de la red de...  \n",
       "8   Es la descripción inicial que tipifica el cent...  \n",
       "9   Es la tipificación según la prioridad del inci...  \n",
       "10            Es el mes el cual ocurrió el incidente.  \n",
       "11  Es la clasificación final que entrega el centr...  "
      ]
     },
     "execution_count": 3,
     "metadata": {},
     "output_type": "execute_result"
    }
   ],
   "source": [
    "file = 'gs://{}/{}/data/metadatos-llamadas-urg-y-emer.csv'.format(bucket, directory)\n",
    "df_metadata = pd.read_csv(file, encoding='latin1', sep=';')\n",
    "df_metadata"
   ]
  },
  {
   "cell_type": "markdown",
   "id": "401fb5d8-30ae-41b2-80e9-bb2182ca5ade",
   "metadata": {},
   "source": [
    "Para estandarizar los campos de los dataframes, relizare una copia de las variables declaradas en el ***diccionario de datos*** en un arreglo"
   ]
  },
  {
   "cell_type": "code",
   "execution_count": 19,
   "id": "d9f23d28-5f5c-415d-8e46-5349a9a53198",
   "metadata": {},
   "outputs": [],
   "source": [
    "columName=[x for x in df_metadata['NOMBRE']]"
   ]
  },
  {
   "cell_type": "markdown",
   "id": "8fccaa1b-1552-45fc-93f1-be3bfdd160b5",
   "metadata": {},
   "source": [
    "Usando la libreria ***re*** y con un recorrido por la lista creada, se realiza un cambio del caracter ***' '*** a ***'_'***, es de anotar que para estas variables no habia una necesidad de quitar los espacios alrededor del strig con el método *strip()*"
   ]
  },
  {
   "cell_type": "code",
   "execution_count": 20,
   "id": "702eef04-1bba-4cb3-940a-9969b8bfd328",
   "metadata": {},
   "outputs": [
    {
     "data": {
      "text/plain": [
       "['FECHA_INCIDENTE',\n",
       " 'FECHA_INICIO_DESPLAZAMIENTO_MOVIL',\n",
       " 'CODIGO_LOCALIDAD',\n",
       " 'LOCALIDAD',\n",
       " 'EDAD',\n",
       " 'UNIDAD',\n",
       " 'GENERO',\n",
       " 'RED',\n",
       " 'TIPO_INCIDENTE',\n",
       " 'PRIORIDAD',\n",
       " 'MES',\n",
       " 'CLASIFICACION_FINAL']"
      ]
     },
     "execution_count": 20,
     "metadata": {},
     "output_type": "execute_result"
    }
   ],
   "source": [
    "for index in range(len(columName)):\n",
    "    columName[index]=re.sub('\\s+', '_',columName[index])\n",
    "columName"
   ]
  },
  {
   "cell_type": "markdown",
   "id": "6405853c-8737-4d80-8636-ef4e1767aded",
   "metadata": {},
   "source": [
    "## Ahora pasaremos a los datos crudos:"
   ]
  },
  {
   "cell_type": "markdown",
   "id": "e9553498-4f18-4757-92f7-384a12ebcff2",
   "metadata": {},
   "source": [
    "Inicialemte inicializaré un arreglo con los nombres de los archivos que tengo en el bucket."
   ]
  },
  {
   "cell_type": "code",
   "execution_count": 21,
   "id": "2403b6fe-9804-46fc-b458-dbf8c196fa73",
   "metadata": {},
   "outputs": [],
   "source": [
    "dataRaw=['datos-abiertos-julio-2019.csv',\n",
    "         'datos-abiertos-agosto-2019.csv',\n",
    "         'datos-abiertos-septiembre-2019.csv',\n",
    "         'datos-abiertos-noviembre_2019.csv',\n",
    "         'datos_abiertos_cons_diciembre_2019.csv',\n",
    "         'datos-abiertos-enero_2020.csv',\n",
    "         'llamadas-de-urgencias-y-emergencias.csv'\n",
    "     ]"
   ]
  },
  {
   "cell_type": "markdown",
   "id": "3d864128-bfdd-4fcc-99b8-af494071eba4",
   "metadata": {},
   "source": [
    "defino un arreglo de dataframes"
   ]
  },
  {
   "cell_type": "code",
   "execution_count": 22,
   "id": "f587f67f-4c25-4be1-97fd-c49318b739c2",
   "metadata": {},
   "outputs": [],
   "source": [
    "dfArrayCalls=list()\n",
    "for i in range(len(dataRaw)):\n",
    "    df= get_input_data(bucket=bucket,\n",
    "                          initial_directory=directory,\n",
    "                          filename = dataRaw[i])\n",
    "    dfArrayCalls.append(df)"
   ]
  },
  {
   "cell_type": "markdown",
   "id": "5657b4a3-c305-40fc-9d72-7f6b0749d2ab",
   "metadata": {
    "tags": []
   },
   "source": [
    "Ahora definire una funcion que renombre los nombres de las columnas de acuerdo a nuestro arreglo tomado de ***Diccionario de datos***"
   ]
  },
  {
   "cell_type": "code",
   "execution_count": 30,
   "id": "fd8db606-bd3d-4f16-8b88-53cf3bbf4f92",
   "metadata": {},
   "outputs": [],
   "source": [
    "# renombrar los titulos de las columnas de df\n",
    "def RenombrarColumns(index):\n",
    "    dfArrayCalls[index].rename(\n",
    "        columns = {\n",
    "            dfArrayCalls[index].keys()[0]           : columName[0],\n",
    "            dfArrayCalls[index].keys()[1]           : columName[1],\n",
    "            dfArrayCalls[index].keys()[2]           : columName[2],\n",
    "            dfArrayCalls[index].keys()[3]           : columName[3],\n",
    "            dfArrayCalls[index].keys()[4]           : columName[4],\n",
    "            dfArrayCalls[index].keys()[5]           : columName[5],\n",
    "            dfArrayCalls[index].keys()[6]           : columName[6],\n",
    "            dfArrayCalls[index].keys()[7]           : columName[7],\n",
    "            dfArrayCalls[index].keys()[8]           : columName[8],\n",
    "            dfArrayCalls[index].keys()[9]           : columName[9],\n",
    "            dfArrayCalls[index].keys()[10]          : columName[10],\n",
    "            dfArrayCalls[index].keys()[11]          : columName[11]\n",
    "        },\n",
    "        inplace=True #esto manipula en memoria cargada para muestra, no el datos en bucket\n",
    "    )\n",
    "#dfArrayCalls[0]"
   ]
  },
  {
   "cell_type": "code",
   "execution_count": 39,
   "id": "0afe493b-2b7d-4161-a391-5efa92a583b6",
   "metadata": {},
   "outputs": [
    {
     "name": "stdout",
     "output_type": "stream",
     "text": [
      "cosaaaad0\n",
      "        FECHA_INCIDENTE FECHA_INICIO_DESPLAZAMIENTO_MOVIL  CODIGO_LOCALIDAD  \\\n",
      "0  2019-07-01 00:05:08               2019-07-01 00:11:02                 8   \n",
      "1  2019-07-01 00:06:57               2019-07-01 00:12:56                19   \n",
      "2  2019-07-01 00:09:26               2019-07-01 00:10:26                 6   \n",
      "3  2019-07-01 00:14:42               2019-07-01 00:15:47                 8   \n",
      "4  2019-07-01 00:17:13               2019-07-01 00:31:13                10   \n",
      "\n",
      "         LOCALIDAD      EDAD    UNIDAD     GENERO    RED  \\\n",
      "0          Kennedy        39      Años   FEMENINO  Norte   \n",
      "1   Ciudad Bolivar        69      Años  MASCULINO    Sur   \n",
      "2       Tunjuelito        25      Años  MASCULINO    Sur   \n",
      "3          Kennedy        65      Años  MASCULINO    Sur   \n",
      "4         Engativa  SIN_DATO  SIN_DATO   SIN_DATO  Norte   \n",
      "\n",
      "                           TIPO_INCIDENTE PRIORIDAD    MES CLASIFICACION_FINAL  \n",
      "0                 Dificultad Respiratoria      ALTA  JULIO            Traslado  \n",
      "1  Inconsciente/Paro Cardiorrespiratorio       ALTA  JULIO                 NaN  \n",
      "2                                 Enfermo     MEDIA  JULIO            Traslado  \n",
      "3                     Lesiones personales     MEDIA  JULIO            Traslado  \n",
      "4                                 Enfermo     MEDIA  JULIO           Cancelado  \n",
      "cosaaaad1\n",
      "    NUMERO_INCIDENTE FECHA_INICIO_DESPLAZAMIENTO-MOVIL  CODIGO DE LOCALIDAD  \\\n",
      "0         809224194                    1/08/2019 0:28                    1   \n",
      "1         809224194                    1/08/2019 0:28                    1   \n",
      "2         809240194                    1/08/2019 0:15                   11   \n",
      "3         809240194                    1/08/2019 0:15                   11   \n",
      "4         809240194                    1/08/2019 0:15                   11   \n",
      "\n",
      "  LOCALIDAD      EDAD    UNIDAD    GENERO    RED  \\\n",
      "0   Usaquen  SIN_DATO  SIN_DATO  SIN_DATO  Norte   \n",
      "1   Usaquen  SIN_DATO  SIN_DATO  SIN_DATO  Norte   \n",
      "2      Suba  SIN_DATO  SIN_DATO  SIN_DATO  Norte   \n",
      "3      Suba  SIN_DATO  SIN_DATO  SIN_DATO  Norte   \n",
      "4      Suba  SIN_DATO  SIN_DATO  SIN_DATO  Norte   \n",
      "\n",
      "                       TIPO DE INCIDIDENT PRIORIDAD     MES  \\\n",
      "0  Inconsciente/Paro Cardiorrespiratorio       ALTA  AGOSTO   \n",
      "1  Inconsciente/Paro Cardiorrespiratorio       ALTA  AGOSTO   \n",
      "2             Accidente cerebro vascular       BAJA  AGOSTO   \n",
      "3             Accidente cerebro vascular       BAJA  AGOSTO   \n",
      "4             Accidente cerebro vascular       BAJA  AGOSTO   \n",
      "\n",
      "  CLASIFICACION FINAL  \n",
      "0           Cancelado  \n",
      "1           Cancelado  \n",
      "2           Cancelado  \n",
      "3           Cancelado  \n",
      "4           Cancelado  \n",
      "cosaaaad2\n",
      "    NUMERO_INCIDENTE FECHA_INICIO_DESPLAZAMIENTO-MOVIL  CODIGO DE LOCALIDAD  \\\n",
      "0         538006196               2019-09-01 00:05:32                   18   \n",
      "1         538024196               2019-09-01 00:12:07                   11   \n",
      "2         538031196               2019-09-01 00:05:39                    8   \n",
      "3         538084196               2019-09-01 00:13:39                   11   \n",
      "4         538123196               2019-09-01 00:20:31                    2   \n",
      "\n",
      "             LOCALIDAD  EDAD UNIDAD     GENERO    RED  \\\n",
      "0   Rafael Uribe Uribe    53   Años  MASCULINO    Sur   \n",
      "1                 Suba     0    NaN   SIN_DATO  Norte   \n",
      "2              Kennedy    26   Años  MASCULINO  Norte   \n",
      "3                 Suba    24   Años  MASCULINO  Norte   \n",
      "4            Chapinero     0    NaN   SIN_DATO  Norte   \n",
      "\n",
      "                              TIPO_INCIDENTE PRIORIDAD  \n",
      "0  ACCIDENTE DE TRÁNSITO CON HERIDOS/MUERTOS      ALTA  \n",
      "1  ACCIDENTE DE TRÁNSITO CON HERIDOS/MUERTOS      ALTA  \n",
      "2  ACCIDENTE DE TRÁNSITO CON HERIDOS/MUERTOS      ALTA  \n",
      "3  ACCIDENTE DE TRÁNSITO CON HERIDOS/MUERTOS      ALTA  \n",
      "4     INCONSCIENTE/PARO CARDIORRESPIRATORIO       ALTA  \n",
      "cosaaaad3\n",
      "   NUMERO_INCIDENTE FECHA_INICIO_DESPLAZAMIENTO-MOVIL  CODIGO DE LOCALIDAD  \\\n",
      "0       1129118194               2019-11-01 00:01:16                   18   \n",
      "1       1129198194               2019-11-01 00:14:45                   11   \n",
      "2       1129241194               2019-11-01 00:16:15                    2   \n",
      "3       1129253194               2019-11-01 00:11:37                    7   \n",
      "4       1129258194               2019-11-01 00:16:28                   11   \n",
      "\n",
      "            LOCALIDAD  EDAD    UNIDAD     GENERO    RED  \\\n",
      "0  Rafael Uribe Uribe     0  SIN_DATO   SIN_DATO    Sur   \n",
      "1                Suba    47      Años  MASCULINO  Norte   \n",
      "2           Chapinero    33      Años  MASCULINO  Norte   \n",
      "3                Bosa     5      Años   FEMENINO    Sur   \n",
      "4                Suba    43      Años   FEMENINO  Norte   \n",
      "\n",
      "                              TIPO_INCIDENTE PRIORIDAD  \n",
      "0                     Lesiones personales         ALTA  \n",
      "1             Accidente cerebro vascular          ALTA  \n",
      "2  Inconsciente/Paro Cardiorrespiratorio          ALTA  \n",
      "3                 Dificultad Respiratoria         ALTA  \n",
      "4                          Dolor torácico         ALTA  \n",
      "cosaaaad4\n",
      "   NUMERO_INCIDENTE   FECHA_DESPACHO_518  CODIGO DE LOCALIDAD LOCALIDAD  EDAD  \\\n",
      "0       1178693196  2019-12-01 03:18:23                    8   Kennedy    14   \n",
      "1       1176480196  2019-12-01 00:05:59                    5      Usme     0   \n",
      "2       1180282196  2019-12-01 05:37:10                    7      Bosa    32   \n",
      "3       1176520196  2019-12-01 00:07:43                    3  Santa Fe     0   \n",
      "4       1180873196  2019-12-01 07:14:08                    5      Usme    53   \n",
      "\n",
      "     UNIDAD     GENERO      RED                          TIPO_INCIDENTE  \\\n",
      "0      Años  MASCULINO  Privada  Accidente Tránsito con Heridos/Muertos   \n",
      "1  SIN/DATO   SIN/DATO      Sur  Accidente Tránsito con Heridos/Muertos   \n",
      "2      Años  MASCULINO  Privada  Accidente Tránsito con Heridos/Muertos   \n",
      "3  SIN/DATO   SIN/DATO    Norte                     Lesiones Personales   \n",
      "4      Años   FEMENINO  Privada  Accidente Tránsito con Heridos/Muertos   \n",
      "\n",
      "  PRIORIDAD  \n",
      "0      ALTA  \n",
      "1      ALTA  \n",
      "2      ALTA  \n",
      "3      ALTA  \n",
      "4      ALTA  \n",
      "cosaaaad5\n",
      "    FECHA_INCIDENTE FECHA_INICIO_DESPLAZAMIENTO_MOVIL  CODIGO_LOCALIDAD  \\\n",
      "0  CRU-00000002-20               2020-01-01 00:13:40                19   \n",
      "1  CRU-00000002-20               2020-01-01 00:13:40                19   \n",
      "2  CRU-00000005-20               2020-01-01 00:15:14                14   \n",
      "3  CRU-00000024-20               2020-01-01 00:20:50                11   \n",
      "4  CRU-00000036-20               2020-01-01 00:26:05                10   \n",
      "\n",
      "         LOCALIDAD  EDAD    UNIDAD     GENERO    RED  \\\n",
      "0   Ciudad Bolívar     0  SIN_DATO   SIN_DATO    Sur   \n",
      "1   Ciudad Bolívar     0  SIN_DATO   SIN_DATO    Sur   \n",
      "2     Los Mártires     0  SIN_DATO   SIN_DATO  Norte   \n",
      "3             Suba    58      Años  MASCULINO  Norte   \n",
      "4         Engativá     0  SIN_DATO   SIN_DATO  Norte   \n",
      "\n",
      "                           TIPO_INCIDENTE  PRIORIDAD  ...  Unnamed: 27  \\\n",
      "0                                Heridos           2  ...          NaN   \n",
      "1                                Heridos           2  ...          NaN   \n",
      "2  Inconsciente/Paro Cardiorrespiratorio           1  ...          NaN   \n",
      "3  Inconsciente/Paro Cardiorrespiratorio           1  ...          NaN   \n",
      "4  Inconsciente/Paro Cardiorrespiratorio           1  ...          NaN   \n",
      "\n",
      "   Unnamed: 28  Unnamed: 29  Unnamed: 30  Unnamed: 31  Unnamed: 32  \\\n",
      "0          NaN          NaN          NaN          NaN          NaN   \n",
      "1          NaN          NaN          NaN          NaN          NaN   \n",
      "2          NaN          NaN          NaN          NaN          NaN   \n",
      "3          NaN          NaN          NaN          NaN          NaN   \n",
      "4          NaN          NaN          NaN          NaN          NaN   \n",
      "\n",
      "   Unnamed: 33  Unnamed: 34  Unnamed: 35  Unnamed: 36  \n",
      "0          NaN          NaN          NaN          NaN  \n",
      "1          NaN          NaN          NaN          NaN  \n",
      "2          NaN          NaN          NaN          NaN  \n",
      "3          NaN          NaN          NaN          NaN  \n",
      "4          NaN          NaN          NaN          NaN  \n",
      "\n",
      "[5 rows x 37 columns]\n",
      "cosaaaad6\n",
      "        FECHA_INCIDENTE FECHA_INICIO_DESPLAZAMIENTO_MOVIL  CODIGO LOCALIDAD  \\\n",
      "0  2019-01 01 00:00:18               2019-01 01 00:04:37                11   \n",
      "1  2019-01 01 00:00:58               2019-01 01 00:08:06                16   \n",
      "2  2019-01 01 00:04:31               2019-01 01 00:07:41                 3   \n",
      "3  2019-01 01 00:04:51               2019-01 01 00:07:46                10   \n",
      "4  2019-01 01 00:08:40               2019-01 01 00:10:40                 8   \n",
      "\n",
      "       LOCALIDAD      EDAD    UNIDAD    GENERO    RED  \\\n",
      "0           Suba  SIN_DATO  SIN_DATO  SIN_DATO  Norte   \n",
      "1  Puente Aranda  SIN_DATO  SIN_DATO  SIN_DATO    Sur   \n",
      "2       Santa Fe        51      Años  FEMENINO  Norte   \n",
      "3       Engativá  SIN_DATO  SIN_DATO  SIN_DATO  Norte   \n",
      "4        Kennedy  SIN_DATO  SIN_DATO  SIN_DATO    Sur   \n",
      "\n",
      "                              TIPO_INCIDENTE PRIORIDAD    MES  \\\n",
      "0                        Lesiones personales      ALTA  ENERO   \n",
      "1  Accidente de tránsito con heridos/Muertos      ALTA  ENERO   \n",
      "2                             Dolor torácico      ALTA  ENERO   \n",
      "3     Inconsciente/Paro Cardiorrespiratorio       ALTA  ENERO   \n",
      "4                         Herido con pólvora      ALTA  ENERO   \n",
      "\n",
      "  CLASIFICACION FINAL  \n",
      "0           Cancelado  \n",
      "1           Cancelado  \n",
      "2            Traslado  \n",
      "3        Falsa Alarma  \n",
      "4           Cancelado  \n"
     ]
    }
   ],
   "source": [
    "for i in range(len(dfArrayCalls)):\n",
    "    print(f'cosaaaad{i}\\n',dfArrayCalls[i].head())"
   ]
  },
  {
   "cell_type": "code",
   "execution_count": 33,
   "id": "40b89d19-36f2-4cf2-ad0a-ac0929d9834c",
   "metadata": {},
   "outputs": [
    {
     "ename": "AttributeError",
     "evalue": "'Index' object has no attribute 'replace'",
     "output_type": "error",
     "traceback": [
      "\u001b[0;31m---------------------------------------------------------------------------\u001b[0m",
      "\u001b[0;31mAttributeError\u001b[0m                            Traceback (most recent call last)",
      "\u001b[0;32m/tmp/ipykernel_31841/2397313367.py\u001b[0m in \u001b[0;36m<module>\u001b[0;34m\u001b[0m\n\u001b[1;32m      1\u001b[0m \u001b[0;32mfor\u001b[0m \u001b[0mind\u001b[0m \u001b[0;32min\u001b[0m \u001b[0mrange\u001b[0m\u001b[0;34m(\u001b[0m\u001b[0mlen\u001b[0m\u001b[0;34m(\u001b[0m\u001b[0mcolumName\u001b[0m\u001b[0;34m)\u001b[0m\u001b[0;34m)\u001b[0m\u001b[0;34m:\u001b[0m\u001b[0;34m\u001b[0m\u001b[0;34m\u001b[0m\u001b[0m\n\u001b[1;32m      2\u001b[0m     \u001b[0;32mif\u001b[0m \u001b[0mdfArrayCalls\u001b[0m\u001b[0;34m[\u001b[0m\u001b[0;36m0\u001b[0m\u001b[0;34m]\u001b[0m\u001b[0;34m.\u001b[0m\u001b[0mkeys\u001b[0m\u001b[0;34m(\u001b[0m\u001b[0;34m)\u001b[0m\u001b[0;34m[\u001b[0m\u001b[0mind\u001b[0m\u001b[0;34m]\u001b[0m\u001b[0;34m!=\u001b[0m\u001b[0mcolumName\u001b[0m\u001b[0;34m[\u001b[0m\u001b[0mind\u001b[0m\u001b[0;34m]\u001b[0m\u001b[0;34m:\u001b[0m\u001b[0;34m\u001b[0m\u001b[0;34m\u001b[0m\u001b[0m\n\u001b[0;32m----> 3\u001b[0;31m         \u001b[0mdfArrayCalls\u001b[0m\u001b[0;34m[\u001b[0m\u001b[0;36m0\u001b[0m\u001b[0;34m]\u001b[0m\u001b[0;34m.\u001b[0m\u001b[0mkeys\u001b[0m\u001b[0;34m(\u001b[0m\u001b[0;34m)\u001b[0m\u001b[0;34m.\u001b[0m\u001b[0mreplace\u001b[0m\u001b[0;34m(\u001b[0m\u001b[0mto_replace\u001b[0m\u001b[0;34m=\u001b[0m\u001b[0mdfArrayCalls\u001b[0m\u001b[0;34m[\u001b[0m\u001b[0;36m0\u001b[0m\u001b[0;34m]\u001b[0m\u001b[0;34m.\u001b[0m\u001b[0mkeys\u001b[0m\u001b[0;34m(\u001b[0m\u001b[0;34m)\u001b[0m\u001b[0;34m[\u001b[0m\u001b[0mind\u001b[0m\u001b[0;34m]\u001b[0m\u001b[0;34m,\u001b[0m \u001b[0mvalue\u001b[0m\u001b[0;34m=\u001b[0m\u001b[0mcolumName\u001b[0m\u001b[0;34m[\u001b[0m\u001b[0mind\u001b[0m\u001b[0;34m]\u001b[0m\u001b[0;34m,\u001b[0m \u001b[0mregex\u001b[0m\u001b[0;34m=\u001b[0m\u001b[0;32mTrue\u001b[0m\u001b[0;34m)\u001b[0m\u001b[0;34m\u001b[0m\u001b[0;34m\u001b[0m\u001b[0m\n\u001b[0m\u001b[1;32m      4\u001b[0m \u001b[0mprint\u001b[0m\u001b[0;34m(\u001b[0m\u001b[0mdfArrayCalls\u001b[0m\u001b[0;34m[\u001b[0m\u001b[0;36m0\u001b[0m\u001b[0;34m]\u001b[0m\u001b[0;34m.\u001b[0m\u001b[0mkeys\u001b[0m\u001b[0;34m(\u001b[0m\u001b[0;34m)\u001b[0m\u001b[0;34m)\u001b[0m\u001b[0;34m\u001b[0m\u001b[0;34m\u001b[0m\u001b[0m\n",
      "\u001b[0;31mAttributeError\u001b[0m: 'Index' object has no attribute 'replace'"
     ]
    }
   ],
   "source": [
    "for ind in range(len(columName)): \n",
    "    if dfArrayCalls[0].keys()[ind]!=columName[ind]:\n",
    "        dfArrayCalls[0].keys().replace(to_replace=dfArrayCalls[0].keys()[ind], value=columName[ind], regex=True)\n",
    "print(dfArrayCalls[0].keys())"
   ]
  },
  {
   "cell_type": "code",
   "execution_count": 5,
   "id": "99ff57d4-e9dc-49df-98c8-f9feeb98648b",
   "metadata": {},
   "outputs": [
    {
     "name": "stdout",
     "output_type": "stream",
     "text": [
      "<class 'pandas.core.frame.DataFrame'>\n",
      "RangeIndex: 127314 entries, 0 to 127313\n",
      "Data columns (total 12 columns):\n",
      " #   Column                             Non-Null Count   Dtype \n",
      "---  ------                             --------------   ----- \n",
      " 0   FECHA_INCIDENTE                    127314 non-null  object\n",
      " 1   FECHA_INICIO_DESPLAZAMIENTO_MOVIL  127314 non-null  object\n",
      " 2   CODIGO LOCALIDAD                   127314 non-null  int64 \n",
      " 3   LOCALIDAD                          127314 non-null  object\n",
      " 4   EDAD                               127314 non-null  object\n",
      " 5   UNIDAD                             127314 non-null  object\n",
      " 6   GENERO                             127314 non-null  object\n",
      " 7   RED                                127314 non-null  object\n",
      " 8   TIPO_INCIDENTE                     127314 non-null  object\n",
      " 9   PRIORIDAD                          127286 non-null  object\n",
      " 10  MES                                127314 non-null  object\n",
      " 11  CLASIFICACION FINAL                127314 non-null  object\n",
      "dtypes: int64(1), object(11)\n",
      "memory usage: 11.7+ MB\n",
      "None\n"
     ]
    }
   ],
   "source": [
    "raw_data_agosto2019 = get_input_data(bucket=bucket,\n",
    "                          initial_directory=directory,\n",
    "                          filename = 'llamadas-de-urgencias-y-emergencias.csv')\n",
    "print(raw_data_agosto2019.info())"
   ]
  },
  {
   "cell_type": "code",
   "execution_count": 7,
   "id": "be974dc1-37eb-452e-8076-325d2357656a",
   "metadata": {},
   "outputs": [
    {
     "data": {
      "text/plain": [
       "0         2019-01 01 00:04:37\n",
       "1         2019-01 01 00:08:06\n",
       "2         2019-01 01 00:07:41\n",
       "3         2019-01 01 00:07:46\n",
       "4         2019-01 01 00:10:40\n",
       "                 ...         \n",
       "127309       30/06/2019 23:42\n",
       "127310       30/06/2019 23:55\n",
       "127311       30/06/2019 23:55\n",
       "127312         1/07/2019 0:30\n",
       "127313         1/07/2019 0:04\n",
       "Name: FECHA_INICIO_DESPLAZAMIENTO_MOVIL, Length: 127314, dtype: object"
      ]
     },
     "execution_count": 7,
     "metadata": {},
     "output_type": "execute_result"
    }
   ],
   "source": [
    "raw_data_agosto2019['FECHA_INICIO_DESPLAZAMIENTO_MOVIL']"
   ]
  },
  {
   "cell_type": "code",
   "execution_count": null,
   "id": "15247bc5-831a-47ae-8835-37aeec7054c1",
   "metadata": {},
   "outputs": [],
   "source": [
    "# renombrar los titulos de las columnas de df\n",
    "raw_data_agosto2019.rename(\n",
    "    columns = {\n",
    "        'FECHA_INICIO_DESPLAZAMIENTO-MOVIL' : 'FECHA_INICIO_DESPLAZAMIENTO_MOVIL',\n",
    "        'CODIGO DE LOCALIDAD'               : 'CODIGO_DE_LOCALIDAD',\n",
    "        'CLASIFICACION FINAL'               : 'CLASIFICACION_FINAL',\n",
    "        'TIPO DE INCIDIDENT'                : 'TIPO_DE_INCIDIDENTE'\n",
    "    },\n",
    "    inplace=True #esto manipula en memoria cargada para muestra, no el datos en bucket\n",
    ")\n",
    "raw_data_agosto2019.head()"
   ]
  },
  {
   "cell_type": "code",
   "execution_count": null,
   "id": "1f779dc1-9e80-4014-94c3-3bcaac8af85b",
   "metadata": {},
   "outputs": [],
   "source": [
    "raw_data_agosto2019['LOCALIDAD'].apply(\n",
    "    lambda x: x.strip()        # here we use a lambda function, exclusively for python. Is a one-line function\n",
    ").value_counts()"
   ]
  },
  {
   "cell_type": "code",
   "execution_count": null,
   "id": "26880388-5ec4-4e3f-b3e7-f001db0c825a",
   "metadata": {},
   "outputs": [],
   "source": [
    "# de los valores de la columna LOCALIDAD a cada string se le limpia los espacios alrededor\n",
    "raw_data_agosto2019['LOCALIDAD'] = raw_data_agosto2019['LOCALIDAD'].apply(lambda x: x.strip())"
   ]
  },
  {
   "cell_type": "code",
   "execution_count": null,
   "id": "23bc37ad-66c3-4285-bf91-5653547a51b5",
   "metadata": {},
   "outputs": [],
   "source": [
    "#\n",
    "raw_data_agosto2019['GENERO'] = raw_data['GENERO'].apply(lambda x: x.strip())\n",
    "raw_data_agosto2019['GENERO'].value_counts(dropna=False) "
   ]
  },
  {
   "cell_type": "code",
   "execution_count": null,
   "id": "51e48cca-b773-4046-9e2c-02bed0cca0a7",
   "metadata": {},
   "outputs": [],
   "source": [
    "# limpia y reemplaza en df los valores de la columna 'TIPO_INCIDENTE'\n",
    "raw_data_agosto2019['TIPO_INCIDENTE'] = raw_data['TIPO_INCIDENTE'].apply(lambda x: x.strip())"
   ]
  },
  {
   "cell_type": "code",
   "execution_count": null,
   "id": "417e8d48-21af-4fb4-804f-0e7c833223b8",
   "metadata": {},
   "outputs": [],
   "source": [
    "raw_data_agosto2019['CLASIFICACION_FINAL'].fillna('SIN_DATO', inplace=True)\n",
    "raw_data_agosto2019['CLASIFICACION_FINAL'] = raw_data_agosto2019['CLASIFICACION_FINAL'].apply(lambda x: x.strip())\n",
    "raw_data_agosto2019.head()"
   ]
  },
  {
   "cell_type": "code",
   "execution_count": null,
   "id": "9d55438e-9e45-4815-b9f3-8189f2d09eee",
   "metadata": {},
   "outputs": [],
   "source": [
    "raw_data_agosto2019['FECHA_INICIO_DESPLAZAMIENTO_MOVIL'].value_counts()"
   ]
  },
  {
   "cell_type": "code",
   "execution_count": null,
   "id": "2b21c755-4e8a-47a2-b2af-9b12bb554f9f",
   "metadata": {},
   "outputs": [],
   "source": [
    "date_time_str = raw_data_agosto2019['FECHA_INICIO_DESPLAZAMIENTO_MOVIL'][5]\n",
    "date_time_str"
   ]
  },
  {
   "cell_type": "code",
   "execution_count": null,
   "id": "829adad5-bc30-4780-a833-e167d8ed02c2",
   "metadata": {},
   "outputs": [],
   "source": [
    "date_time_str=='1/08/2019 0:10'"
   ]
  },
  {
   "cell_type": "code",
   "execution_count": null,
   "id": "7e796e24-cf02-445b-b455-8033c1e8c860",
   "metadata": {},
   "outputs": [],
   "source": [
    "from datetime import *\n",
    "import numpy as np"
   ]
  },
  {
   "cell_type": "code",
   "execution_count": null,
   "id": "e29e481a-673f-4345-b282-1b2600641501",
   "metadata": {},
   "outputs": [],
   "source": [
    "#\"21/11/06 16:30\" #\"%d/%m/%y %H:%M\"\n",
    "date_time_obj = datetime.strptime('21/11/06 16:30','%d/%m/%y %H:%M')\n",
    "date_time_obj\n",
    "\n",
    "# datetime.datetime.strptime(input, format)"
   ]
  },
  {
   "cell_type": "code",
   "execution_count": null,
   "id": "37688968-fe1b-4ea6-abd5-df86eef319c5",
   "metadata": {},
   "outputs": [],
   "source": [
    "date_time_str = '18/09/19 01:55:19'\n",
    "\n",
    "date_time_obj = datetime.strptime(date_time_str, '%d/%m/%y %H:%M:%S')\n",
    "date_time_obj"
   ]
  },
  {
   "cell_type": "code",
   "execution_count": null,
   "id": "2d944975-6273-4428-9d00-4eca75b22aed",
   "metadata": {},
   "outputs": [],
   "source": [
    "from datetime import datetime"
   ]
  },
  {
   "cell_type": "code",
   "execution_count": null,
   "id": "c301728a-62dd-49e2-bfee-4fcd1e92763a",
   "metadata": {},
   "outputs": [],
   "source": [
    "date='01/08/2019 12:00:00'\n",
    "date_time=pd.to_datetime(date, format='%d/%m/%Y %H:%M:%S')\n",
    "print (date_time, type (date_time))"
   ]
  },
  {
   "cell_type": "code",
   "execution_count": null,
   "id": "7dc77321-40e3-4fa9-ab6a-2ed572da1594",
   "metadata": {},
   "outputs": [],
   "source": [
    "col = 'FECHA_INICIO_DESPLAZAMIENTO_MOVIL'\n",
    "raw_data_agosto2019[col] = pd.to_datetime(raw_data_agosto2019[col], format='%d/%m/%Y %H:%M') \n",
    "raw_data_agosto2019[col].value_counts\n",
    "# raw_data_ago.head()"
   ]
  },
  {
   "cell_type": "code",
   "execution_count": null,
   "id": "338628d6-cd24-42b1-a4c3-c5ffccd7cdd8",
   "metadata": {},
   "outputs": [],
   "source": [
    "raw_data_agosto2019.head()"
   ]
  },
  {
   "cell_type": "code",
   "execution_count": null,
   "id": "13e76099-af9c-4109-bc5d-3da663d7615e",
   "metadata": {},
   "outputs": [],
   "source": [
    "raw_data_agosto2019['FECHA_INICIO_DESPLAZAMIENTO_MOVIL'].apply(\n",
    "    for x in raw_data_agosto2019['FECHA_INICIO_DESPLAZAMIENTO_MOVIL']:x =datetime.strptime(x, '%d/%m/%y %H:%M:%S')       \n",
    "    ).value_counts()"
   ]
  },
  {
   "cell_type": "markdown",
   "id": "7f9c5373-05d9-4f9f-b087-7f34b2b63997",
   "metadata": {},
   "source": [
    "# generar Informe"
   ]
  },
  {
   "cell_type": "code",
   "execution_count": null,
   "id": "5882614c-7875-4bad-854a-b2e59f938639",
   "metadata": {},
   "outputs": [],
   "source": [
    "profile = ProfileReport(df=raw_data_agosto2019)\n",
    "profile.to_file(output_file=project_dir + '/reports/'+'profile_raw_data_agosto_2019.html')"
   ]
  },
  {
   "cell_type": "code",
   "execution_count": null,
   "id": "4b03382e-9a1c-4532-a256-70a085241dac",
   "metadata": {
    "jupyter": {
     "source_hidden": true
    },
    "tags": []
   },
   "outputs": [],
   "source": [
    "raw_data = get_input_data(bucket=bucket,\n",
    "                          initial_directory=directory,\n",
    "                          filename = 'datos-abiertos-julio-2019.csv')\n",
    "print(raw_data.info())"
   ]
  },
  {
   "cell_type": "markdown",
   "id": "5eb9ef0e-e60c-49ce-94f7-6d3f18f71a62",
   "metadata": {
    "jupyter": {
     "source_hidden": true
    },
    "tags": []
   },
   "source": [
    "It seems that this file contains already the fields, but need to rename them"
   ]
  },
  {
   "cell_type": "markdown",
   "id": "9bbedf48-cbe2-41c5-bcd7-d99f3d3f4caf",
   "metadata": {
    "tags": []
   },
   "source": [
    "### Rename Columns"
   ]
  },
  {
   "cell_type": "code",
   "execution_count": null,
   "id": "4d354b06-a4ef-4a8e-81d5-2a1ba773e78f",
   "metadata": {
    "jupyter": {
     "source_hidden": true
    },
    "tags": []
   },
   "outputs": [],
   "source": [
    "# Don't let white spaces between headers to avoid errors during the pipeline\n",
    "# This is sometimes called a recipe for etl\n",
    "raw_data.rename(\n",
    "    columns = {\n",
    "        'FECHA_INICIO_DESPLAZAMIENTO-MOVIL' : 'FECHA_INICIO_DESPLAZAMIENTO_MOVIL',\n",
    "        'CODIGO DE LOCALIDAD'               : 'CODIGO_LOCALIDAD',\n",
    "        'CLASIFICACION FINAL'               : 'CLASIFICACION_FINAL'\n",
    "    },\n",
    "    inplace=True #esto manipula en memoria cargada para muestra, no el datos en bucket\n",
    ")\n",
    "raw_data.head()"
   ]
  },
  {
   "cell_type": "markdown",
   "id": "188353cb-3a29-4285-9e1d-5ca19ed9105c",
   "metadata": {},
   "source": [
    "### Check values per field\n",
    "--------\n",
    "1. LOCALIDAD\n",
    "2. GENERO"
   ]
  },
  {
   "cell_type": "code",
   "execution_count": null,
   "id": "c7e613bd-d1d0-49bd-b7a3-919e2ed04957",
   "metadata": {
    "jupyter": {
     "source_hidden": true
    },
    "tags": []
   },
   "outputs": [],
   "source": [
    "raw_data['LOCALIDAD'].value_counts(dropna=False) #dropna no muestra los nulos en True por defecto"
   ]
  },
  {
   "cell_type": "markdown",
   "id": "1af92623-c419-4db6-b0a2-5d0d0dc158d2",
   "metadata": {
    "jupyter": {
     "source_hidden": true
    },
    "tags": []
   },
   "source": [
    "It seems that in some fields exist a white space at the begining of the values, probably at the end too, lets clean them all"
   ]
  },
  {
   "cell_type": "code",
   "execution_count": null,
   "id": "aa8e1799-a9f9-479e-b93a-06c6c2c05fd0",
   "metadata": {
    "jupyter": {
     "source_hidden": true
    },
    "tags": []
   },
   "outputs": [],
   "source": [
    "# Let's use the function strip(), this property works for string objects in python that removes whitespaces\n",
    "raw_data['LOCALIDAD'].apply(\n",
    "    lambda x: x.strip()        # here we use a lambda function, exclusively for python. Is a one-line function\n",
    ").value_counts()"
   ]
  },
  {
   "cell_type": "code",
   "execution_count": null,
   "id": "ea1c48db-18e8-41a3-8377-1c41b2582423",
   "metadata": {
    "jupyter": {
     "source_hidden": true
    },
    "tags": []
   },
   "outputs": [],
   "source": [
    "raw_data['LOCALIDAD'] = raw_data['LOCALIDAD'].apply(lambda x: x.strip()) # we assign the output of the function apply to the same column"
   ]
  },
  {
   "cell_type": "code",
   "execution_count": null,
   "id": "56a2080d-11bd-4c4e-bf36-99b1ec4a3390",
   "metadata": {
    "jupyter": {
     "source_hidden": true
    },
    "tags": []
   },
   "outputs": [],
   "source": [
    "raw_data.head()"
   ]
  },
  {
   "cell_type": "code",
   "execution_count": null,
   "id": "440653d8-5eda-4138-8e1e-146724e4931a",
   "metadata": {
    "jupyter": {
     "source_hidden": true
    },
    "tags": []
   },
   "outputs": [],
   "source": [
    "col = 'GENERO'\n",
    "raw_data[col] = raw_data[col].apply(lambda x: x.strip())\n",
    "raw_data[col].value_counts(dropna=False)   # here we could apply the same technique as before to avoid errors"
   ]
  },
  {
   "cell_type": "code",
   "execution_count": null,
   "id": "2ce261b7-3ebb-45b5-8915-4b5aa1921d27",
   "metadata": {
    "jupyter": {
     "source_hidden": true
    },
    "tags": []
   },
   "outputs": [],
   "source": [
    "col = 'TIPO_INCIDENTE'\n",
    "raw_data[col] = raw_data[col].apply(lambda x: x.strip())\n",
    "raw_data[col].value_counts(dropna=False)"
   ]
  },
  {
   "cell_type": "code",
   "execution_count": null,
   "id": "b0b0ce51-ea1a-4bdb-8c12-d41f611bb276",
   "metadata": {
    "jupyter": {
     "source_hidden": true
    },
    "tags": []
   },
   "outputs": [],
   "source": [
    "col = 'CLASIFICACION_FINAL'\n",
    "#raw_data[col] = raw_data[col].apply(lambda x: x.strip())\n",
    "raw_data[col].value_counts(dropna=False)"
   ]
  },
  {
   "cell_type": "markdown",
   "id": "ed0d30da-1ead-4916-a018-16f3c969a569",
   "metadata": {},
   "source": [
    "Here this columns contains a null value, aka NaN (this is numeric value that is Null), lets replace them first\n",
    "* NaN --> SIN_DATO"
   ]
  },
  {
   "cell_type": "code",
   "execution_count": null,
   "id": "8510699c-d135-477d-bc61-2ba0017473da",
   "metadata": {
    "jupyter": {
     "source_hidden": true
    },
    "tags": []
   },
   "outputs": [],
   "source": [
    "raw_data[col].fillna('SIN_DATO').value_counts()"
   ]
  },
  {
   "cell_type": "code",
   "execution_count": null,
   "id": "046865ae-7421-4b6b-9bbb-89891cad72a0",
   "metadata": {
    "jupyter": {
     "source_hidden": true
    },
    "tags": []
   },
   "outputs": [],
   "source": [
    "col = 'CLASIFICACION_FINAL'\n",
    "raw_data[col].fillna('SIN_DATO', inplace=True)\n",
    "raw_data[col] = raw_data[col].apply(lambda x: x.strip())\n",
    "raw_data.head()"
   ]
  },
  {
   "cell_type": "markdown",
   "id": "e6f30471-1464-47a9-a444-970a302baea7",
   "metadata": {},
   "source": [
    "# Profile of the Data\n",
    "------\n",
    "first install pandas profiling, from a terminal\n",
    "\n",
    "````\n",
    "pip install pandas-profiling\n",
    "````"
   ]
  },
  {
   "cell_type": "code",
   "execution_count": null,
   "id": "66f66769-d164-42e4-bcfb-e43b7fef1859",
   "metadata": {},
   "outputs": [],
   "source": [
    "profile = ProfileReport(df=raw_data)\n",
    "profile.to_file(output_file=project_dir + '/reports/'+'profile_raw_data_julio_2019.html')"
   ]
  },
  {
   "cell_type": "markdown",
   "id": "a7a93408-dff3-402c-8324-2262c187a797",
   "metadata": {},
   "source": [
    "Form the initial report of the file we see that are duplicates rows in the table, we need to subtract them"
   ]
  },
  {
   "cell_type": "markdown",
   "id": "113216ea-7395-4cb0-8691-b9554ec270ab",
   "metadata": {},
   "source": [
    "### Remove duplicates"
   ]
  },
  {
   "cell_type": "code",
   "execution_count": null,
   "id": "67b41e99-6206-4a24-b838-b8f8e71ae17f",
   "metadata": {},
   "outputs": [],
   "source": [
    "print('Number of rows before cleaning:', raw_data.shape[0] )\n",
    "raw_data.drop_duplicates(inplace=True)\n",
    "print('Number of rows after cleaning:', raw_data.shape[0] )"
   ]
  },
  {
   "cell_type": "markdown",
   "id": "a89276dd-f903-4752-9f7f-15e360c7207f",
   "metadata": {},
   "source": [
    "### Save the final table\n",
    "use to_csv to save the table"
   ]
  },
  {
   "cell_type": "code",
   "execution_count": null,
   "id": "33a9d6aa-ed3d-465b-a920-404a17490f79",
   "metadata": {},
   "outputs": [],
   "source": [
    "# saving in a local directory\n",
    "raw_data.to_csv(project_dir + '/data/processed/' +'clean_llamadas_123_julio_2019.csv', encoding='latin1', sep=';', index=False)"
   ]
  },
  {
   "cell_type": "code",
   "execution_count": null,
   "id": "45a07cac-a200-4a9a-86dd-1d5a62ab5c4f",
   "metadata": {},
   "outputs": [],
   "source": [
    "raw_data"
   ]
  },
  {
   "cell_type": "code",
   "execution_count": null,
   "id": "75f4ace1-c2d9-423c-b8cc-2df1c788d261",
   "metadata": {},
   "outputs": [],
   "source": [
    "raw_data_agosto2019"
   ]
  },
  {
   "cell_type": "code",
   "execution_count": null,
   "id": "25748f6c-fa75-46d7-9fca-aabccf0e0d54",
   "metadata": {},
   "outputs": [],
   "source": [
    "data = pd.concat([raw_data,raw_data_agosto2019])\n",
    "data"
   ]
  },
  {
   "cell_type": "code",
   "execution_count": null,
   "id": "7cb857ee-f20a-4709-8cc5-ca1e80b06dcc",
   "metadata": {},
   "outputs": [],
   "source": [
    "pd.concat?"
   ]
  }
 ],
 "metadata": {
  "environment": {
   "kernel": "python3",
   "name": "common-cpu.m90",
   "type": "gcloud",
   "uri": "gcr.io/deeplearning-platform-release/base-cpu:m90"
  },
  "kernelspec": {
   "display_name": "Python 3",
   "language": "python",
   "name": "python3"
  },
  "language_info": {
   "codemirror_mode": {
    "name": "ipython",
    "version": 3
   },
   "file_extension": ".py",
   "mimetype": "text/x-python",
   "name": "python",
   "nbconvert_exporter": "python",
   "pygments_lexer": "ipython3",
   "version": "3.7.12"
  }
 },
 "nbformat": 4,
 "nbformat_minor": 5
}
